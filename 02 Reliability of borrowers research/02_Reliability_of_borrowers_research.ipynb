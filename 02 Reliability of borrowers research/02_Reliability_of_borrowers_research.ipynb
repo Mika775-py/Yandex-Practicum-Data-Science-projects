{
 "cells": [
  {
   "cell_type": "markdown",
   "id": "89f12f17",
   "metadata": {
    "deletable": false,
    "editable": false,
    "id": "c81daeeb"
   },
   "source": [
    "# Исследование надежности заемщиков\n"
   ]
  },
  {
   "cell_type": "markdown",
   "id": "5b443372",
   "metadata": {
    "deletable": false,
    "editable": false,
    "id": "e7a14c31"
   },
   "source": [
    "**Задание 1. Импортируйте библиотеку pandas. Считайте данные из csv-файла в датафрейм и сохраните в переменную `data`. Путь к файлу:**\n",
    "\n",
    "`/datasets/data.csv`"
   ]
  },
  {
   "cell_type": "code",
   "execution_count": 1,
   "id": "79b458c9",
   "metadata": {
    "deletable": false,
    "id": "7bcf75c9"
   },
   "outputs": [],
   "source": [
    "import pandas as pd\n",
    "\n",
    "try:\n",
    "    data = pd.read_csv('/datasets/data.csv')\n",
    "except:\n",
    "    data = pd.read_csv('https://code.s3.yandex.net/datasets/data.csv')"
   ]
  },
  {
   "cell_type": "markdown",
   "id": "b5717418",
   "metadata": {
    "deletable": false,
    "editable": false,
    "id": "b8038fe3"
   },
   "source": [
    "**Задание 2. Выведите первые 20 строчек датафрейма `data` на экран.**"
   ]
  },
  {
   "cell_type": "code",
   "execution_count": 2,
   "id": "e07017a4",
   "metadata": {
    "deletable": false,
    "id": "2a7cab99",
    "outputId": "1a8f3ef2-d323-4ec2-ddf7-89670b5944c4"
   },
   "outputs": [
    {
     "data": {
      "text/html": [
       "<div>\n",
       "<style scoped>\n",
       "    .dataframe tbody tr th:only-of-type {\n",
       "        vertical-align: middle;\n",
       "    }\n",
       "\n",
       "    .dataframe tbody tr th {\n",
       "        vertical-align: top;\n",
       "    }\n",
       "\n",
       "    .dataframe thead th {\n",
       "        text-align: right;\n",
       "    }\n",
       "</style>\n",
       "<table border=\"1\" class=\"dataframe\">\n",
       "  <thead>\n",
       "    <tr style=\"text-align: right;\">\n",
       "      <th></th>\n",
       "      <th>children</th>\n",
       "      <th>days_employed</th>\n",
       "      <th>dob_years</th>\n",
       "      <th>education</th>\n",
       "      <th>education_id</th>\n",
       "      <th>family_status</th>\n",
       "      <th>family_status_id</th>\n",
       "      <th>gender</th>\n",
       "      <th>income_type</th>\n",
       "      <th>debt</th>\n",
       "      <th>total_income</th>\n",
       "      <th>purpose</th>\n",
       "    </tr>\n",
       "  </thead>\n",
       "  <tbody>\n",
       "    <tr>\n",
       "      <th>0</th>\n",
       "      <td>1</td>\n",
       "      <td>-8437.673028</td>\n",
       "      <td>42</td>\n",
       "      <td>высшее</td>\n",
       "      <td>0</td>\n",
       "      <td>женат / замужем</td>\n",
       "      <td>0</td>\n",
       "      <td>F</td>\n",
       "      <td>сотрудник</td>\n",
       "      <td>0</td>\n",
       "      <td>253875.639453</td>\n",
       "      <td>покупка жилья</td>\n",
       "    </tr>\n",
       "    <tr>\n",
       "      <th>1</th>\n",
       "      <td>1</td>\n",
       "      <td>-4024.803754</td>\n",
       "      <td>36</td>\n",
       "      <td>среднее</td>\n",
       "      <td>1</td>\n",
       "      <td>женат / замужем</td>\n",
       "      <td>0</td>\n",
       "      <td>F</td>\n",
       "      <td>сотрудник</td>\n",
       "      <td>0</td>\n",
       "      <td>112080.014102</td>\n",
       "      <td>приобретение автомобиля</td>\n",
       "    </tr>\n",
       "    <tr>\n",
       "      <th>2</th>\n",
       "      <td>0</td>\n",
       "      <td>-5623.422610</td>\n",
       "      <td>33</td>\n",
       "      <td>Среднее</td>\n",
       "      <td>1</td>\n",
       "      <td>женат / замужем</td>\n",
       "      <td>0</td>\n",
       "      <td>M</td>\n",
       "      <td>сотрудник</td>\n",
       "      <td>0</td>\n",
       "      <td>145885.952297</td>\n",
       "      <td>покупка жилья</td>\n",
       "    </tr>\n",
       "    <tr>\n",
       "      <th>3</th>\n",
       "      <td>3</td>\n",
       "      <td>-4124.747207</td>\n",
       "      <td>32</td>\n",
       "      <td>среднее</td>\n",
       "      <td>1</td>\n",
       "      <td>женат / замужем</td>\n",
       "      <td>0</td>\n",
       "      <td>M</td>\n",
       "      <td>сотрудник</td>\n",
       "      <td>0</td>\n",
       "      <td>267628.550329</td>\n",
       "      <td>дополнительное образование</td>\n",
       "    </tr>\n",
       "    <tr>\n",
       "      <th>4</th>\n",
       "      <td>0</td>\n",
       "      <td>340266.072047</td>\n",
       "      <td>53</td>\n",
       "      <td>среднее</td>\n",
       "      <td>1</td>\n",
       "      <td>гражданский брак</td>\n",
       "      <td>1</td>\n",
       "      <td>F</td>\n",
       "      <td>пенсионер</td>\n",
       "      <td>0</td>\n",
       "      <td>158616.077870</td>\n",
       "      <td>сыграть свадьбу</td>\n",
       "    </tr>\n",
       "    <tr>\n",
       "      <th>5</th>\n",
       "      <td>0</td>\n",
       "      <td>-926.185831</td>\n",
       "      <td>27</td>\n",
       "      <td>высшее</td>\n",
       "      <td>0</td>\n",
       "      <td>гражданский брак</td>\n",
       "      <td>1</td>\n",
       "      <td>M</td>\n",
       "      <td>компаньон</td>\n",
       "      <td>0</td>\n",
       "      <td>255763.565419</td>\n",
       "      <td>покупка жилья</td>\n",
       "    </tr>\n",
       "    <tr>\n",
       "      <th>6</th>\n",
       "      <td>0</td>\n",
       "      <td>-2879.202052</td>\n",
       "      <td>43</td>\n",
       "      <td>высшее</td>\n",
       "      <td>0</td>\n",
       "      <td>женат / замужем</td>\n",
       "      <td>0</td>\n",
       "      <td>F</td>\n",
       "      <td>компаньон</td>\n",
       "      <td>0</td>\n",
       "      <td>240525.971920</td>\n",
       "      <td>операции с жильем</td>\n",
       "    </tr>\n",
       "    <tr>\n",
       "      <th>7</th>\n",
       "      <td>0</td>\n",
       "      <td>-152.779569</td>\n",
       "      <td>50</td>\n",
       "      <td>СРЕДНЕЕ</td>\n",
       "      <td>1</td>\n",
       "      <td>женат / замужем</td>\n",
       "      <td>0</td>\n",
       "      <td>M</td>\n",
       "      <td>сотрудник</td>\n",
       "      <td>0</td>\n",
       "      <td>135823.934197</td>\n",
       "      <td>образование</td>\n",
       "    </tr>\n",
       "    <tr>\n",
       "      <th>8</th>\n",
       "      <td>2</td>\n",
       "      <td>-6929.865299</td>\n",
       "      <td>35</td>\n",
       "      <td>ВЫСШЕЕ</td>\n",
       "      <td>0</td>\n",
       "      <td>гражданский брак</td>\n",
       "      <td>1</td>\n",
       "      <td>F</td>\n",
       "      <td>сотрудник</td>\n",
       "      <td>0</td>\n",
       "      <td>95856.832424</td>\n",
       "      <td>на проведение свадьбы</td>\n",
       "    </tr>\n",
       "    <tr>\n",
       "      <th>9</th>\n",
       "      <td>0</td>\n",
       "      <td>-2188.756445</td>\n",
       "      <td>41</td>\n",
       "      <td>среднее</td>\n",
       "      <td>1</td>\n",
       "      <td>женат / замужем</td>\n",
       "      <td>0</td>\n",
       "      <td>M</td>\n",
       "      <td>сотрудник</td>\n",
       "      <td>0</td>\n",
       "      <td>144425.938277</td>\n",
       "      <td>покупка жилья для семьи</td>\n",
       "    </tr>\n",
       "    <tr>\n",
       "      <th>10</th>\n",
       "      <td>2</td>\n",
       "      <td>-4171.483647</td>\n",
       "      <td>36</td>\n",
       "      <td>высшее</td>\n",
       "      <td>0</td>\n",
       "      <td>женат / замужем</td>\n",
       "      <td>0</td>\n",
       "      <td>M</td>\n",
       "      <td>компаньон</td>\n",
       "      <td>0</td>\n",
       "      <td>113943.491460</td>\n",
       "      <td>покупка недвижимости</td>\n",
       "    </tr>\n",
       "    <tr>\n",
       "      <th>11</th>\n",
       "      <td>0</td>\n",
       "      <td>-792.701887</td>\n",
       "      <td>40</td>\n",
       "      <td>среднее</td>\n",
       "      <td>1</td>\n",
       "      <td>женат / замужем</td>\n",
       "      <td>0</td>\n",
       "      <td>F</td>\n",
       "      <td>сотрудник</td>\n",
       "      <td>0</td>\n",
       "      <td>77069.234271</td>\n",
       "      <td>покупка коммерческой недвижимости</td>\n",
       "    </tr>\n",
       "    <tr>\n",
       "      <th>12</th>\n",
       "      <td>0</td>\n",
       "      <td>NaN</td>\n",
       "      <td>65</td>\n",
       "      <td>среднее</td>\n",
       "      <td>1</td>\n",
       "      <td>гражданский брак</td>\n",
       "      <td>1</td>\n",
       "      <td>M</td>\n",
       "      <td>пенсионер</td>\n",
       "      <td>0</td>\n",
       "      <td>NaN</td>\n",
       "      <td>сыграть свадьбу</td>\n",
       "    </tr>\n",
       "    <tr>\n",
       "      <th>13</th>\n",
       "      <td>0</td>\n",
       "      <td>-1846.641941</td>\n",
       "      <td>54</td>\n",
       "      <td>неоконченное высшее</td>\n",
       "      <td>2</td>\n",
       "      <td>женат / замужем</td>\n",
       "      <td>0</td>\n",
       "      <td>F</td>\n",
       "      <td>сотрудник</td>\n",
       "      <td>0</td>\n",
       "      <td>130458.228857</td>\n",
       "      <td>приобретение автомобиля</td>\n",
       "    </tr>\n",
       "    <tr>\n",
       "      <th>14</th>\n",
       "      <td>0</td>\n",
       "      <td>-1844.956182</td>\n",
       "      <td>56</td>\n",
       "      <td>высшее</td>\n",
       "      <td>0</td>\n",
       "      <td>гражданский брак</td>\n",
       "      <td>1</td>\n",
       "      <td>F</td>\n",
       "      <td>компаньон</td>\n",
       "      <td>1</td>\n",
       "      <td>165127.911772</td>\n",
       "      <td>покупка жилой недвижимости</td>\n",
       "    </tr>\n",
       "    <tr>\n",
       "      <th>15</th>\n",
       "      <td>1</td>\n",
       "      <td>-972.364419</td>\n",
       "      <td>26</td>\n",
       "      <td>среднее</td>\n",
       "      <td>1</td>\n",
       "      <td>женат / замужем</td>\n",
       "      <td>0</td>\n",
       "      <td>F</td>\n",
       "      <td>сотрудник</td>\n",
       "      <td>0</td>\n",
       "      <td>116820.904450</td>\n",
       "      <td>строительство собственной недвижимости</td>\n",
       "    </tr>\n",
       "    <tr>\n",
       "      <th>16</th>\n",
       "      <td>0</td>\n",
       "      <td>-1719.934226</td>\n",
       "      <td>35</td>\n",
       "      <td>среднее</td>\n",
       "      <td>1</td>\n",
       "      <td>женат / замужем</td>\n",
       "      <td>0</td>\n",
       "      <td>F</td>\n",
       "      <td>сотрудник</td>\n",
       "      <td>0</td>\n",
       "      <td>289202.704229</td>\n",
       "      <td>недвижимость</td>\n",
       "    </tr>\n",
       "    <tr>\n",
       "      <th>17</th>\n",
       "      <td>0</td>\n",
       "      <td>-2369.999720</td>\n",
       "      <td>33</td>\n",
       "      <td>высшее</td>\n",
       "      <td>0</td>\n",
       "      <td>гражданский брак</td>\n",
       "      <td>1</td>\n",
       "      <td>M</td>\n",
       "      <td>сотрудник</td>\n",
       "      <td>0</td>\n",
       "      <td>90410.586745</td>\n",
       "      <td>строительство недвижимости</td>\n",
       "    </tr>\n",
       "    <tr>\n",
       "      <th>18</th>\n",
       "      <td>0</td>\n",
       "      <td>400281.136913</td>\n",
       "      <td>53</td>\n",
       "      <td>среднее</td>\n",
       "      <td>1</td>\n",
       "      <td>вдовец / вдова</td>\n",
       "      <td>2</td>\n",
       "      <td>F</td>\n",
       "      <td>пенсионер</td>\n",
       "      <td>0</td>\n",
       "      <td>56823.777243</td>\n",
       "      <td>на покупку подержанного автомобиля</td>\n",
       "    </tr>\n",
       "    <tr>\n",
       "      <th>19</th>\n",
       "      <td>0</td>\n",
       "      <td>-10038.818549</td>\n",
       "      <td>48</td>\n",
       "      <td>СРЕДНЕЕ</td>\n",
       "      <td>1</td>\n",
       "      <td>в разводе</td>\n",
       "      <td>3</td>\n",
       "      <td>F</td>\n",
       "      <td>сотрудник</td>\n",
       "      <td>0</td>\n",
       "      <td>242831.107982</td>\n",
       "      <td>на покупку своего автомобиля</td>\n",
       "    </tr>\n",
       "  </tbody>\n",
       "</table>\n",
       "</div>"
      ],
      "text/plain": [
       "    children  days_employed  dob_years            education  education_id  \\\n",
       "0          1   -8437.673028         42               высшее             0   \n",
       "1          1   -4024.803754         36              среднее             1   \n",
       "2          0   -5623.422610         33              Среднее             1   \n",
       "3          3   -4124.747207         32              среднее             1   \n",
       "4          0  340266.072047         53              среднее             1   \n",
       "5          0    -926.185831         27               высшее             0   \n",
       "6          0   -2879.202052         43               высшее             0   \n",
       "7          0    -152.779569         50              СРЕДНЕЕ             1   \n",
       "8          2   -6929.865299         35               ВЫСШЕЕ             0   \n",
       "9          0   -2188.756445         41              среднее             1   \n",
       "10         2   -4171.483647         36               высшее             0   \n",
       "11         0    -792.701887         40              среднее             1   \n",
       "12         0            NaN         65              среднее             1   \n",
       "13         0   -1846.641941         54  неоконченное высшее             2   \n",
       "14         0   -1844.956182         56               высшее             0   \n",
       "15         1    -972.364419         26              среднее             1   \n",
       "16         0   -1719.934226         35              среднее             1   \n",
       "17         0   -2369.999720         33               высшее             0   \n",
       "18         0  400281.136913         53              среднее             1   \n",
       "19         0  -10038.818549         48              СРЕДНЕЕ             1   \n",
       "\n",
       "       family_status  family_status_id gender income_type  debt  \\\n",
       "0    женат / замужем                 0      F   сотрудник     0   \n",
       "1    женат / замужем                 0      F   сотрудник     0   \n",
       "2    женат / замужем                 0      M   сотрудник     0   \n",
       "3    женат / замужем                 0      M   сотрудник     0   \n",
       "4   гражданский брак                 1      F   пенсионер     0   \n",
       "5   гражданский брак                 1      M   компаньон     0   \n",
       "6    женат / замужем                 0      F   компаньон     0   \n",
       "7    женат / замужем                 0      M   сотрудник     0   \n",
       "8   гражданский брак                 1      F   сотрудник     0   \n",
       "9    женат / замужем                 0      M   сотрудник     0   \n",
       "10   женат / замужем                 0      M   компаньон     0   \n",
       "11   женат / замужем                 0      F   сотрудник     0   \n",
       "12  гражданский брак                 1      M   пенсионер     0   \n",
       "13   женат / замужем                 0      F   сотрудник     0   \n",
       "14  гражданский брак                 1      F   компаньон     1   \n",
       "15   женат / замужем                 0      F   сотрудник     0   \n",
       "16   женат / замужем                 0      F   сотрудник     0   \n",
       "17  гражданский брак                 1      M   сотрудник     0   \n",
       "18    вдовец / вдова                 2      F   пенсионер     0   \n",
       "19         в разводе                 3      F   сотрудник     0   \n",
       "\n",
       "     total_income                                 purpose  \n",
       "0   253875.639453                           покупка жилья  \n",
       "1   112080.014102                 приобретение автомобиля  \n",
       "2   145885.952297                           покупка жилья  \n",
       "3   267628.550329              дополнительное образование  \n",
       "4   158616.077870                         сыграть свадьбу  \n",
       "5   255763.565419                           покупка жилья  \n",
       "6   240525.971920                       операции с жильем  \n",
       "7   135823.934197                             образование  \n",
       "8    95856.832424                   на проведение свадьбы  \n",
       "9   144425.938277                 покупка жилья для семьи  \n",
       "10  113943.491460                    покупка недвижимости  \n",
       "11   77069.234271       покупка коммерческой недвижимости  \n",
       "12            NaN                         сыграть свадьбу  \n",
       "13  130458.228857                 приобретение автомобиля  \n",
       "14  165127.911772              покупка жилой недвижимости  \n",
       "15  116820.904450  строительство собственной недвижимости  \n",
       "16  289202.704229                            недвижимость  \n",
       "17   90410.586745              строительство недвижимости  \n",
       "18   56823.777243      на покупку подержанного автомобиля  \n",
       "19  242831.107982            на покупку своего автомобиля  "
      ]
     },
     "execution_count": 2,
     "metadata": {},
     "output_type": "execute_result"
    }
   ],
   "source": [
    "data.head(20)"
   ]
  },
  {
   "cell_type": "markdown",
   "id": "84845baa",
   "metadata": {
    "deletable": false,
    "editable": false,
    "id": "1c12e233"
   },
   "source": [
    "**Задание 3. Выведите основную информацию о датафрейме с помощью метода `info()`.**"
   ]
  },
  {
   "cell_type": "code",
   "execution_count": 3,
   "id": "5845c202",
   "metadata": {
    "deletable": false,
    "id": "2b757bca",
    "outputId": "15376089-8dad-46c9-b520-c05248d43158"
   },
   "outputs": [
    {
     "name": "stdout",
     "output_type": "stream",
     "text": [
      "<class 'pandas.core.frame.DataFrame'>\n",
      "RangeIndex: 21525 entries, 0 to 21524\n",
      "Data columns (total 12 columns):\n",
      " #   Column            Non-Null Count  Dtype  \n",
      "---  ------            --------------  -----  \n",
      " 0   children          21525 non-null  int64  \n",
      " 1   days_employed     19351 non-null  float64\n",
      " 2   dob_years         21525 non-null  int64  \n",
      " 3   education         21525 non-null  object \n",
      " 4   education_id      21525 non-null  int64  \n",
      " 5   family_status     21525 non-null  object \n",
      " 6   family_status_id  21525 non-null  int64  \n",
      " 7   gender            21525 non-null  object \n",
      " 8   income_type       21525 non-null  object \n",
      " 9   debt              21525 non-null  int64  \n",
      " 10  total_income      19351 non-null  float64\n",
      " 11  purpose           21525 non-null  object \n",
      "dtypes: float64(2), int64(5), object(5)\n",
      "memory usage: 2.0+ MB\n"
     ]
    }
   ],
   "source": [
    "data.info()"
   ]
  },
  {
   "cell_type": "markdown",
   "id": "215aa370",
   "metadata": {
    "deletable": false,
    "editable": false,
    "id": "333ec665"
   },
   "source": [
    "## Предобработка данных"
   ]
  },
  {
   "cell_type": "markdown",
   "id": "5c6fb6a9",
   "metadata": {
    "deletable": false,
    "editable": false,
    "id": "02d92d53"
   },
   "source": [
    "### Удаление пропусков"
   ]
  },
  {
   "cell_type": "markdown",
   "id": "8b6a31cb",
   "metadata": {
    "deletable": false,
    "editable": false,
    "id": "cd84967c"
   },
   "source": [
    "**Задание 4. Выведите количество пропущенных значений для каждого столбца. Используйте комбинацию двух методов.**"
   ]
  },
  {
   "cell_type": "code",
   "execution_count": 4,
   "id": "d4566988",
   "metadata": {
    "deletable": false,
    "id": "7f9b2309",
    "outputId": "81f4d817-781c-465c-ed15-91ce4446810d"
   },
   "outputs": [
    {
     "data": {
      "text/plain": [
       "children               0\n",
       "days_employed       2174\n",
       "dob_years              0\n",
       "education              0\n",
       "education_id           0\n",
       "family_status          0\n",
       "family_status_id       0\n",
       "gender                 0\n",
       "income_type            0\n",
       "debt                   0\n",
       "total_income        2174\n",
       "purpose                0\n",
       "dtype: int64"
      ]
     },
     "execution_count": 4,
     "metadata": {},
     "output_type": "execute_result"
    }
   ],
   "source": [
    "data.isna().sum()"
   ]
  },
  {
   "cell_type": "markdown",
   "id": "008b8d3b",
   "metadata": {
    "deletable": false,
    "editable": false,
    "id": "db86e27b"
   },
   "source": [
    "**Задание 5. В двух столбцах есть пропущенные значения. Один из них — `days_employed`. Пропуски в этом столбце вы обработаете на следующем этапе. Другой столбец с пропущенными значениями — `total_income` — хранит данные о доходах. На сумму дохода сильнее всего влияет тип занятости, поэтому заполнить пропуски в этом столбце нужно медианным значением по каждому типу из столбца `income_type`. Например, у человека с типом занятости `сотрудник` пропуск в столбце `total_income` должен быть заполнен медианным доходом среди всех записей с тем же типом.**"
   ]
  },
  {
   "cell_type": "code",
   "execution_count": 5,
   "id": "6e094877",
   "metadata": {
    "deletable": false,
    "id": "42006a93"
   },
   "outputs": [],
   "source": [
    "for t in data['income_type'].unique():\n",
    "    data.loc[(data['income_type'] == t) & (data['total_income'].isna()), 'total_income'] = \\\n",
    "    data.loc[(data['income_type'] == t), 'total_income'].median()"
   ]
  },
  {
   "cell_type": "markdown",
   "id": "f38fc8e4",
   "metadata": {
    "deletable": false,
    "editable": false,
    "id": "89da5ece"
   },
   "source": [
    "### Обработка аномальных значений"
   ]
  },
  {
   "cell_type": "markdown",
   "id": "a3563b21",
   "metadata": {
    "deletable": false,
    "editable": false,
    "id": "57964554"
   },
   "source": [
    "**Задание 6. В данных могут встречаться артефакты (аномалии) — значения, которые не отражают действительность и появились по какой-то ошибке. таким артефактом будет отрицательное количество дней трудового стажа в столбце `days_employed`. Для реальных данных это нормально. Обработайте значения в этом столбце: замените все отрицательные значения положительными с помощью метода `abs()`.**"
   ]
  },
  {
   "cell_type": "code",
   "execution_count": 6,
   "id": "df916981",
   "metadata": {
    "deletable": false,
    "id": "f6f055bf"
   },
   "outputs": [],
   "source": [
    "data['days_employed'] = data['days_employed'].abs()"
   ]
  },
  {
   "cell_type": "markdown",
   "id": "cd9ba496",
   "metadata": {
    "deletable": false,
    "editable": false,
    "id": "6107dd2f"
   },
   "source": [
    "**Задание 7. Для каждого типа занятости выведите медианное значение трудового стажа `days_employed` в днях.**"
   ]
  },
  {
   "cell_type": "code",
   "execution_count": 7,
   "id": "eb6e6343",
   "metadata": {
    "deletable": false,
    "id": "85a5faf6",
    "outputId": "801ef80e-522b-4668-f34e-565af7432bcf"
   },
   "outputs": [
    {
     "data": {
      "text/plain": [
       "income_type\n",
       "безработный        366413.652744\n",
       "в декрете            3296.759962\n",
       "госслужащий          2689.368353\n",
       "компаньон            1547.382223\n",
       "пенсионер          365213.306266\n",
       "предприниматель       520.848083\n",
       "сотрудник            1574.202821\n",
       "студент               578.751554\n",
       "Name: days_employed, dtype: float64"
      ]
     },
     "execution_count": 7,
     "metadata": {},
     "output_type": "execute_result"
    }
   ],
   "source": [
    "data.groupby('income_type')['days_employed'].agg('median')"
   ]
  },
  {
   "cell_type": "markdown",
   "id": "e5c402ff",
   "metadata": {
    "deletable": false,
    "editable": false,
    "id": "38d1a030"
   },
   "source": [
    "У двух типов (безработные и пенсионеры) получатся аномально большие значения. Исправить такие значения сложно, поэтому оставьте их как есть. Тем более этот столбец не понадобится вам для исследования."
   ]
  },
  {
   "cell_type": "markdown",
   "id": "827b6381",
   "metadata": {
    "deletable": false,
    "editable": false,
    "id": "d8a9f147"
   },
   "source": [
    "**Задание 8. Выведите перечень уникальных значений столбца `children`.**"
   ]
  },
  {
   "cell_type": "code",
   "execution_count": 8,
   "id": "128e3003",
   "metadata": {
    "deletable": false,
    "id": "ef5056eb",
    "outputId": "6975b15c-7f95-4697-d16d-a0c79b657b03"
   },
   "outputs": [
    {
     "data": {
      "text/plain": [
       "array([ 1,  0,  3,  2, -1,  4, 20,  5], dtype=int64)"
      ]
     },
     "execution_count": 8,
     "metadata": {},
     "output_type": "execute_result"
    }
   ],
   "source": [
    "data['children'].unique()"
   ]
  },
  {
   "cell_type": "markdown",
   "id": "7051f721",
   "metadata": {
    "deletable": false,
    "editable": false,
    "id": "40b9ebf2"
   },
   "source": [
    "**Задание 9. В столбце `children` есть два аномальных значения. Удалите строки, в которых встречаются такие аномальные значения из датафрейма `data`.**"
   ]
  },
  {
   "cell_type": "code",
   "execution_count": 9,
   "id": "44594f11",
   "metadata": {
    "deletable": false,
    "id": "3ff9801d"
   },
   "outputs": [],
   "source": [
    "data = data[(data['children'] != -1) & (data['children'] != 20)]"
   ]
  },
  {
   "cell_type": "markdown",
   "id": "1f66546d",
   "metadata": {
    "deletable": false,
    "editable": false,
    "id": "bbc4d0ce"
   },
   "source": [
    "**Задание 10. Ещё раз выведите перечень уникальных значений столбца `children`, чтобы убедиться, что артефакты удалены.**"
   ]
  },
  {
   "cell_type": "code",
   "execution_count": 10,
   "id": "91bd9046",
   "metadata": {
    "deletable": false,
    "id": "ad4fa8b7",
    "outputId": "b2097101-d49d-44d9-901b-32a65c9463d1"
   },
   "outputs": [
    {
     "data": {
      "text/plain": [
       "array([1, 0, 3, 2, 4, 5], dtype=int64)"
      ]
     },
     "execution_count": 10,
     "metadata": {},
     "output_type": "execute_result"
    }
   ],
   "source": [
    "data['children'].unique()"
   ]
  },
  {
   "cell_type": "markdown",
   "id": "a43b5fa2",
   "metadata": {
    "deletable": false,
    "editable": false,
    "id": "75440b63"
   },
   "source": [
    "### Удаление пропусков (продолжение)"
   ]
  },
  {
   "cell_type": "markdown",
   "id": "d4bbe820",
   "metadata": {
    "deletable": false,
    "editable": false,
    "id": "f4ea573f"
   },
   "source": [
    "**Задание 11. Заполните пропуски в столбце `days_employed` медианными значениями по каждого типа занятости `income_type`.**"
   ]
  },
  {
   "cell_type": "code",
   "execution_count": 11,
   "id": "80ec143f",
   "metadata": {
    "deletable": false,
    "id": "af6b1a7e"
   },
   "outputs": [],
   "source": [
    "for t in data['income_type'].unique():\n",
    "    data.loc[(data['income_type'] == t) & (data['days_employed'].isna()), 'days_employed'] = \\\n",
    "    data.loc[(data['income_type'] == t), 'days_employed'].median()"
   ]
  },
  {
   "cell_type": "markdown",
   "id": "58bdb418",
   "metadata": {
    "deletable": false,
    "editable": false,
    "id": "2753f40d"
   },
   "source": [
    "**Задание 12. Убедитесь, что все пропуски заполнены. Проверьте себя и ещё раз выведите количество пропущенных значений для каждого столбца с помощью двух методов.**"
   ]
  },
  {
   "cell_type": "code",
   "execution_count": 12,
   "id": "e570b666",
   "metadata": {
    "deletable": false,
    "id": "55f78bc2",
    "outputId": "8da1e4e1-358e-4e87-98c9-f261bce0a7b2"
   },
   "outputs": [
    {
     "data": {
      "text/plain": [
       "children            0\n",
       "days_employed       0\n",
       "dob_years           0\n",
       "education           0\n",
       "education_id        0\n",
       "family_status       0\n",
       "family_status_id    0\n",
       "gender              0\n",
       "income_type         0\n",
       "debt                0\n",
       "total_income        0\n",
       "purpose             0\n",
       "dtype: int64"
      ]
     },
     "execution_count": 12,
     "metadata": {},
     "output_type": "execute_result"
    }
   ],
   "source": [
    "data.isna().sum()"
   ]
  },
  {
   "cell_type": "markdown",
   "id": "856bce49",
   "metadata": {
    "deletable": false,
    "editable": false,
    "id": "ddc81e43"
   },
   "source": [
    "### Изменение типов данных"
   ]
  },
  {
   "cell_type": "markdown",
   "id": "cb965dd5",
   "metadata": {
    "deletable": false,
    "editable": false,
    "id": "42d19d24"
   },
   "source": [
    "**Задание 13. Замените вещественный тип данных в столбце `total_income` на целочисленный с помощью метода `astype()`.**"
   ]
  },
  {
   "cell_type": "code",
   "execution_count": 13,
   "id": "680c3409",
   "metadata": {
    "deletable": false,
    "id": "920b65ad"
   },
   "outputs": [],
   "source": [
    "data['total_income'] = data['total_income'].astype(int)"
   ]
  },
  {
   "cell_type": "markdown",
   "id": "9955e9b5",
   "metadata": {
    "deletable": false,
    "editable": false,
    "id": "80c420ba"
   },
   "source": [
    "### Обработка дубликатов"
   ]
  },
  {
   "cell_type": "markdown",
   "id": "e4c70032",
   "metadata": {
    "deletable": false,
    "editable": false
   },
   "source": [
    "**Задание 14. Обработайте неявные дубликаты в столбце `education`. В этом столбце есть одни и те же значения, но записанные по-разному: с использованием заглавных и строчных букв. Приведите их к нижнему регистру. Проверьте остальные столбцы.**"
   ]
  },
  {
   "cell_type": "code",
   "execution_count": 14,
   "id": "a69f0527",
   "metadata": {
    "deletable": false
   },
   "outputs": [
    {
     "name": "stdout",
     "output_type": "stream",
     "text": [
      "['высшее' 'среднее' 'неоконченное высшее' 'начальное' 'ученая степень']\n"
     ]
    }
   ],
   "source": [
    "#print(data['education'].unique())\n",
    "data['education'] = data['education'].str.lower()\n",
    "print(data['education'].unique())"
   ]
  },
  {
   "cell_type": "markdown",
   "id": "d0e9fd36",
   "metadata": {
    "deletable": false,
    "editable": false,
    "id": "dc587695"
   },
   "source": [
    "**Задание 15. Выведите на экран количество строк-дубликатов в данных. Если такие строки присутствуют, удалите их.**"
   ]
  },
  {
   "cell_type": "code",
   "execution_count": 15,
   "id": "6c069d75",
   "metadata": {
    "deletable": false,
    "id": "3ee445e4",
    "outputId": "9684deba-1934-42d1-99e1-cda61740f822"
   },
   "outputs": [
    {
     "data": {
      "text/plain": [
       "71"
      ]
     },
     "execution_count": 15,
     "metadata": {},
     "output_type": "execute_result"
    }
   ],
   "source": [
    "data.duplicated().sum()"
   ]
  },
  {
   "cell_type": "code",
   "execution_count": 16,
   "id": "b6d7f197",
   "metadata": {
    "deletable": false,
    "id": "8575fe05"
   },
   "outputs": [],
   "source": [
    "data = data.drop_duplicates()"
   ]
  },
  {
   "cell_type": "markdown",
   "id": "1cf747da",
   "metadata": {
    "deletable": false,
    "editable": false,
    "id": "9904cf55"
   },
   "source": [
    "### Категоризация данных"
   ]
  },
  {
   "cell_type": "markdown",
   "id": "cb9ada0c",
   "metadata": {
    "deletable": false,
    "editable": false,
    "id": "72fcc8a2"
   },
   "source": [
    "**Задание 16. На основании диапазонов, указанных ниже, создайте в датафрейме `data` столбец `total_income_category` с категориями:**\n",
    "\n",
    "- 0–30000 — `'E'`;\n",
    "- 30001–50000 — `'D'`;\n",
    "- 50001–200000 — `'C'`;\n",
    "- 200001–1000000 — `'B'`;\n",
    "- 1000001 и выше — `'A'`.\n",
    "\n",
    "\n",
    "**Например, кредитополучателю с доходом 25000 нужно назначить категорию `'E'`, а клиенту, получающему 235000, — `'B'`. Используйте собственную функцию с именем `categorize_income()` и метод `apply()`.**"
   ]
  },
  {
   "cell_type": "code",
   "execution_count": 17,
   "id": "14fe94ae",
   "metadata": {
    "deletable": false,
    "id": "e1771346"
   },
   "outputs": [],
   "source": [
    "def categorize_income(income):\n",
    "    try:\n",
    "        if 0 <= income <= 30000:\n",
    "            return 'E'\n",
    "        elif 30001 <= income <= 50000:\n",
    "            return 'D'\n",
    "        elif 50001 <= income <= 200000:\n",
    "            return 'C'\n",
    "        elif 200001 <= income <= 1000000:\n",
    "            return 'B'\n",
    "        elif income >= 1000001:\n",
    "            return 'A'\n",
    "    except:\n",
    "        pass"
   ]
  },
  {
   "cell_type": "code",
   "execution_count": 18,
   "id": "1b3a725d",
   "metadata": {
    "deletable": false,
    "id": "d5f3586d"
   },
   "outputs": [],
   "source": [
    "data['total_income_category'] = data['total_income'].apply(categorize_income)"
   ]
  },
  {
   "cell_type": "markdown",
   "id": "11ffe395",
   "metadata": {
    "deletable": false,
    "editable": false,
    "id": "dde49b5c"
   },
   "source": [
    "**Задание 17. Выведите на экран перечень уникальных целей взятия кредита из столбца `purpose`.**"
   ]
  },
  {
   "cell_type": "code",
   "execution_count": 19,
   "id": "7dd06f77",
   "metadata": {
    "deletable": false,
    "id": "f67ce9b3",
    "outputId": "673c12d9-7d7e-4ae0-9812-c622c89dd244"
   },
   "outputs": [
    {
     "data": {
      "text/plain": [
       "array(['покупка жилья', 'приобретение автомобиля',\n",
       "       'дополнительное образование', 'сыграть свадьбу',\n",
       "       'операции с жильем', 'образование', 'на проведение свадьбы',\n",
       "       'покупка жилья для семьи', 'покупка недвижимости',\n",
       "       'покупка коммерческой недвижимости', 'покупка жилой недвижимости',\n",
       "       'строительство собственной недвижимости', 'недвижимость',\n",
       "       'строительство недвижимости', 'на покупку подержанного автомобиля',\n",
       "       'на покупку своего автомобиля',\n",
       "       'операции с коммерческой недвижимостью',\n",
       "       'строительство жилой недвижимости', 'жилье',\n",
       "       'операции со своей недвижимостью', 'автомобили',\n",
       "       'заняться образованием', 'сделка с подержанным автомобилем',\n",
       "       'получение образования', 'автомобиль', 'свадьба',\n",
       "       'получение дополнительного образования', 'покупка своего жилья',\n",
       "       'операции с недвижимостью', 'получение высшего образования',\n",
       "       'свой автомобиль', 'сделка с автомобилем',\n",
       "       'профильное образование', 'высшее образование',\n",
       "       'покупка жилья для сдачи', 'на покупку автомобиля', 'ремонт жилью',\n",
       "       'заняться высшим образованием'], dtype=object)"
      ]
     },
     "execution_count": 19,
     "metadata": {},
     "output_type": "execute_result"
    }
   ],
   "source": [
    "data['purpose'].unique()"
   ]
  },
  {
   "cell_type": "markdown",
   "id": "8332eaad",
   "metadata": {
    "deletable": false,
    "editable": false,
    "id": "85d0aef0"
   },
   "source": [
    "**Задание 18. Создайте функцию, которая на основании данных из столбца `purpose` сформирует новый столбец `purpose_category`, в который войдут следующие категории:**\n",
    "\n",
    "- `'операции с автомобилем'`,\n",
    "- `'операции с недвижимостью'`,\n",
    "- `'проведение свадьбы'`,\n",
    "- `'получение образования'`.\n",
    "\n",
    "**Например, если в столбце `purpose` находится подстрока `'на покупку автомобиля'`, то в столбце `purpose_category` должна появиться строка `'операции с автомобилем'`.**\n",
    "\n",
    "**Используйте собственную функцию с именем `categorize_purpose()` и метод `apply()`. Изучите данные в столбце `purpose` и определите, какие подстроки помогут вам правильно определить категорию.**"
   ]
  },
  {
   "cell_type": "code",
   "execution_count": 20,
   "id": "dda00877",
   "metadata": {
    "deletable": false,
    "id": "e149fab4"
   },
   "outputs": [],
   "source": [
    "def categorize_purpose(row):\n",
    "    try:\n",
    "        if 'автом' in row:\n",
    "            return 'операции с автомобилем'\n",
    "        elif 'жил' in row or 'недвиж' in row:\n",
    "            return 'операции с недвижимостью'\n",
    "        elif 'свад' in row:\n",
    "            return 'проведение свадьбы'\n",
    "        elif 'образов' in row:\n",
    "            return 'получение образования'\n",
    "    except:\n",
    "        return 'нет категории'"
   ]
  },
  {
   "cell_type": "code",
   "execution_count": 21,
   "id": "620e6387",
   "metadata": {
    "deletable": false,
    "id": "bf36e69b"
   },
   "outputs": [],
   "source": [
    "data['purpose_category'] = data['purpose'].apply(categorize_purpose)"
   ]
  },
  {
   "cell_type": "markdown",
   "id": "83cc212f",
   "metadata": {
    "deletable": false,
    "editable": false,
    "id": "09b242bf"
   },
   "source": [
    "### Шаг 3. Исследуйте данные и ответьте на вопросы"
   ]
  },
  {
   "cell_type": "markdown",
   "id": "8b0a2013",
   "metadata": {
    "deletable": false,
    "editable": false,
    "id": "c5d66278"
   },
   "source": [
    "#### 3.1 Есть ли зависимость между количеством детей и возвратом кредита в срок?"
   ]
  },
  {
   "cell_type": "code",
   "execution_count": 22,
   "id": "25408138",
   "metadata": {},
   "outputs": [],
   "source": [
    "data['family_status'] = data['family_status'].str.lower() #для красоты и порядка"
   ]
  },
  {
   "cell_type": "code",
   "execution_count": 23,
   "id": "80c97289",
   "metadata": {
    "deletable": false,
    "id": "2cacfc4a"
   },
   "outputs": [
    {
     "name": "stdout",
     "output_type": "stream",
     "text": [
      "Для заемщиков с количеством детей, равным 0, вероятность просроченной задолженности = 7.54% %\n",
      "Для заемщиков с количеством детей, равным 1, вероятность просроченной задолженности = 9.23% %\n",
      "Для заемщиков с количеством детей, равным 2, вероятность просроченной задолженности = 9.45% %\n",
      "Для заемщиков с количеством детей, равным 3, вероятность просроченной задолженности = 8.18% %\n",
      "Для заемщиков с количеством детей, равным 4, вероятность просроченной задолженности = 9.76% %\n",
      "Для заемщиков с количеством детей, равным 5, вероятность просроченной задолженности = 0.00% %\n"
     ]
    }
   ],
   "source": [
    "children_grouped = data['children'].value_counts()  # суммируем общее кол-во заемщиков для каждого числа детей\n",
    "#print(children_grouped)\n",
    "children_grouped_debt = data.groupby(data['children'])['debt'].value_counts() # суммируем число просрочунов в каждой группе\n",
    "children_grouped_debt # нам нужно сделать функцию, которая будет считать эти значения, чтобы посчитать кол-во \n",
    "                      # просрочунов с определенным числом детей\n",
    "aggfunc=['count', 'sum', 'mean'] # агрегация по подсказке \n",
    "children_table = data.groupby('children')['debt'].agg(aggfunc)\n",
    "\n",
    "rang = children_table['sum'].count()\n",
    "for index in range(rang): # В этом случае можно сразу вывести искомую вероятность на экран\n",
    "    i = children_table.loc[index, 'mean']\n",
    "    print(f'Для заемщиков с количеством детей, равным {index}, вероятность просроченной задолженности = {i:.2%} %') \n",
    "# ... и содержимое всех дальнейших ячеек в этом пункте в принципе можно удалить :)), и переходить к выводам\n"
   ]
  },
  {
   "cell_type": "code",
   "execution_count": 26,
   "id": "7f8fbf80",
   "metadata": {},
   "outputs": [
    {
     "name": "stdout",
     "output_type": "stream",
     "text": [
      "[1 0 3 2 4 5]\n",
      "Количество заемщиков с 0 детьми  равно 14091\n",
      "Количество просрочников с 0 детьми равно 1063\n",
      "-------------------------------------------\n",
      "Количество заемщиков с 1 детьми  равно 4808\n",
      "Количество просрочников с 1 детьми равно 444\n",
      "-------------------------------------------\n",
      "Количество заемщиков с 2 детьми  равно 2052\n",
      "Количество просрочников с 2 детьми равно 194\n",
      "-------------------------------------------\n",
      "Количество заемщиков с 3 детьми  равно 330\n",
      "Количество просрочников с 3 детьми равно 27\n",
      "-------------------------------------------\n",
      "Количество заемщиков с 4 детьми  равно 41\n",
      "Количество просрочников с 4 детьми равно 4\n",
      "-------------------------------------------\n",
      "Количество заемщиков с 5 детьми  равно 9\n",
      "Количество просрочников с 5 детьми равно 0\n",
      "-------------------------------------------\n"
     ]
    }
   ],
   "source": [
    "sum_debt_1 =[]  # объявляем пустой список сумм для кол-ва просрочунов с детьми\n",
    "sorted_children = data['children'].unique()\n",
    "print(sorted_children) # значения еще не отсортированы\n",
    "sorted_children = sorted(sorted_children)\n",
    "#print(sorted_children)\n",
    "\n",
    "for i in sorted_children:# в списке заполняем список.\n",
    "    sum = child_vs_debt(i, 1)\n",
    "    sum_debt_1.append(sum) \n",
    "    print(f'Количество заемщиков с {i} детьми  равно {children_grouped[i]}')\n",
    "    print(f'Количество просрочников с {i} детьми равно {sum}')    \n",
    "    print('-------------------------------------------')"
   ]
  },
  {
   "cell_type": "code",
   "execution_count": 27,
   "id": "56972a8f",
   "metadata": {},
   "outputs": [
    {
     "name": "stdout",
     "output_type": "stream",
     "text": [
      "Для заемщиков с количеством детей, равным 0, вероятность просроченной задолженности = 7.54% %\n",
      "Для заемщиков с количеством детей, равным 1, вероятность просроченной задолженности = 9.23% %\n",
      "Для заемщиков с количеством детей, равным 2, вероятность просроченной задолженности = 9.45% %\n",
      "Для заемщиков с количеством детей, равным 3, вероятность просроченной задолженности = 8.18% %\n",
      "Для заемщиков с количеством детей, равным 4, вероятность просроченной задолженности = 9.76% %\n",
      "Для заемщиков с количеством детей, равным 5, вероятность просроченной задолженности = 0.00% %\n"
     ]
    }
   ],
   "source": [
    "final_count_child = sum_debt_1 / children_grouped \n",
    "#final_count_child\n",
    "index = 0\n",
    "for i in final_count_child:\n",
    "    print(f'Для заемщиков с количеством детей, равным {index}, вероятность просроченной задолженности = {i:.2%} %') \n",
    "    index +=1\n",
    "    \n"
   ]
  },
  {
   "cell_type": "markdown",
   "id": "967abffe",
   "metadata": {
    "deletable": false,
    "id": "3a6b99ec"
   },
   "source": [
    "**Вывод:** Зависимость между количеством детей и возвратом кредита в срок существует. Судя по результатам, самые надежные заемщики - многодетные с 5 детьми, но их мало (выборка нерепрезентативна), поэтому нецелесообразно принимать их в расчет. Кроме того, заемщиков с 4 детьми тоже не так много, лучше их не брать в расчет. Если их не учитывать, то самые надежные заемщики - не имеющие детей, с вероятностью дефолта 7,54%, в то время, как с увеличением количества детей растет и вероятность дефолта. Однако, среди имеющих детей самые надежные заемщики - многодетные с 3 детьми."
   ]
  },
  {
   "cell_type": "code",
   "execution_count": null,
   "id": "07d8ad04",
   "metadata": {},
   "outputs": [
    {
     "data": {
      "text/plain": [
       "family_status          debt\n",
       "в разводе              0        1105\n",
       "                       1          84\n",
       "вдовец / вдова         0         888\n",
       "                       1          63\n",
       "гражданский брак       0        3749\n",
       "                       1         385\n",
       "женат / замужем        0       11334\n",
       "                       1         927\n",
       "не женат / не замужем  0        2523\n",
       "                       1         273\n",
       "Name: debt, dtype: int64"
      ]
     },
     "execution_count": 28,
     "metadata": {},
     "output_type": "execute_result"
    }
   ],
   "source": [
    "fam_status_grouped = data.sort_values(by='family_status_id')\n",
    "fam_status_grouped = fam_status_grouped['family_status_id'].value_counts()  # суммируем общее кол-во заемщиков для каждого числа детей\n",
    "#print(fam_status_grouped)\n",
    "\n",
    "fam_status_grouped_debt = data.groupby(data['family_status'])['debt'].value_counts() # суммируем число просрочунов в каждой группе\n",
    "fam_status_grouped_debt # нам нужно сделать функцию, которая будет считать эти значения, чтобы посчитать кол-во \n",
    "                      # просрочунов в каждой группе \n",
    "#print('fam_status_grouped_debt=', fam_status_grouped_debt)\n"
   ]
  },
  {
   "cell_type": "code",
   "execution_count": null,
   "id": "8aab238b",
   "metadata": {},
   "outputs": [],
   "source": [
    "def fam_status_vs_debt(family_status_id, debt):\n",
    "    # Объявляется функция с двумя параметрами: family_status, debt.\n",
    "    # В переменной fam_status_debt_list сохраняются те строки таблицы data, для которых\n",
    "    # значение в столбце 'family_status_id' равно параметру family_status и одновременно значение\n",
    "    # в столбце 'debt' равно параметру debt (используем последовательную фильтрацию\n",
    "    # с помощью логической индексации).\n",
    "    fam_status_debt_list = data[data['family_status_id'] == family_status_id]\n",
    "    #print(fam_status_debt_list['family_status'].count())\n",
    "    fam_status_debt_list = fam_status_debt_list[fam_status_debt_list['debt'] == debt]\n",
    "    #print(fam_status_debt_list['family_status_id'].count())\n",
    "\n",
    "    # В переменной fam_status_is_debt_count сохраняется число значений столбца 'family_status_id',\n",
    "    # рассчитанное методом count()\n",
    "    fam_status_is_debt_count = fam_status_debt_list['family_status_id'].count()\n",
    "\n",
    "    # Функция возвращает число - значение family_status_is_debt_count.\n",
    "    return fam_status_is_debt_count"
   ]
  },
  {
   "cell_type": "code",
   "execution_count": null,
   "id": "70c6ff11",
   "metadata": {
    "deletable": false,
    "id": "dc3f7ee8"
   },
   "outputs": [
    {
     "data": {
      "text/plain": [
       "927"
      ]
     },
     "execution_count": 30,
     "metadata": {},
     "output_type": "execute_result"
    }
   ],
   "source": [
    "fam_status_vs_debt(0,1) # проверяем, что все работает"
   ]
  },
  {
   "cell_type": "code",
   "execution_count": null,
   "id": "9cdaa2d9",
   "metadata": {},
   "outputs": [
    {
     "name": "stdout",
     "output_type": "stream",
     "text": [
      "fam_status_grouped[i] 12261\n",
      "Для заемщиков группы 0 - \"женат / замужем\", вероятность просроченной задолженности = 7.56% %\n",
      "fam_status_grouped[i] 4134\n",
      "Для заемщиков группы 1 - \"гражданский брак\", вероятность просроченной задолженности = 9.31% %\n",
      "fam_status_grouped[i] 951\n",
      "Для заемщиков группы 2 - \"вдовец / вдова\", вероятность просроченной задолженности = 6.62% %\n",
      "fam_status_grouped[i] 1189\n",
      "Для заемщиков группы 3 - \"в разводе\", вероятность просроченной задолженности = 7.06% %\n",
      "fam_status_grouped[i] 2796\n",
      "Для заемщиков группы 4 - \"не женат / не замужем\", вероятность просроченной задолженности = 9.76% %\n"
     ]
    }
   ],
   "source": [
    "# делаем часть датасета справочник:\n",
    "data_fam_dict = data[['family_status_id', 'family_status']]\n",
    "data_fam_dict = data_fam_dict.drop_duplicates().reset_index(drop=True)\n",
    "\n",
    "# выводим на экран кол-во заемщиков и должников по группам семейного положения\n",
    "final_count_fam_status = [] #создаем список процентов к общему числу просрочунов в группах\n",
    "for i in data_fam_dict['family_status_id']:  \n",
    "    fam_sum = fam_status_vs_debt(i,1) #фильтруем только по должникам, у кого debt =1\n",
    "    fs = data_fam_dict.loc[i,'family_status'] # текстовое значение группы семейного положения для последующего вывода в принте\n",
    "    print('fam_status_grouped[i]', fam_status_grouped[i])\n",
    "    final_count_fam_status.append(fam_sum / fam_status_grouped[i]) # считаем процент должников от общего количества\n",
    "    print(f'Для заемщиков группы {i} - \"{fs}\", вероятность просроченной задолженности = {final_count_fam_status[i]:.2%} %') \n",
    "    #print('-------------------------------------------')\n",
    "    "
   ]
  },
  {
   "cell_type": "markdown",
   "id": "282e9d40",
   "metadata": {
    "deletable": false,
    "id": "1cef7837"
   },
   "source": [
    "**Вывод:** Самые надежные заемщики - из группы \"вдовец/вдова\" с вероятностью выхода на просрочку 6.62%, а также заемщики из группы \"в разводе\", для которых эта вероятность равна 7,06%. Самые недобросовестные заемщики - неженатые/незамужние (9,76%)."
   ]
  },
  {
   "cell_type": "code",
   "execution_count": null,
   "id": "9482c1d3",
   "metadata": {
    "deletable": false,
    "id": "cd7e3720"
   },
   "outputs": [
    {
     "name": "stdout",
     "output_type": "stream",
     "text": [
      "C    15921\n",
      "B     5014\n",
      "D      349\n",
      "A       25\n",
      "E       22\n",
      "Name: total_income_category, dtype: int64\n"
     ]
    },
    {
     "data": {
      "text/plain": [
       "total_income_category  debt\n",
       "A                      0          23\n",
       "                       1           2\n",
       "B                      0        4660\n",
       "                       1         354\n",
       "C                      0       14568\n",
       "                       1        1353\n",
       "D                      0         328\n",
       "                       1          21\n",
       "E                      0          20\n",
       "                       1           2\n",
       "Name: debt, dtype: int64"
      ]
     },
     "execution_count": 32,
     "metadata": {},
     "output_type": "execute_result"
    }
   ],
   "source": [
    "income_grouped = data['total_income_category'].value_counts()  # суммируем общее кол-во заемщиков для каждой группы пол доходам\n",
    "print(income_grouped)\n",
    "income_grouped_debt = data.groupby(data['total_income_category'])['debt'].value_counts() # суммируем число просрочунов в каждой группе\n",
    "income_grouped_debt# нам нужно сделать функцию, которая будет считать эти значения, чтобы посчитать кол-во \n",
    "                      # просрочунов в каждой группе"
   ]
  },
  {
   "cell_type": "code",
   "execution_count": null,
   "id": "d3b3ec7b",
   "metadata": {},
   "outputs": [],
   "source": [
    "def income_category_vs_debt(total_income_category, debt):\n",
    "    # Объявляется функция с двумя параметрами: total_income_category, debt.\n",
    "    # В переменной income_category_debt_list сохраняются те строки таблицы data, для которых\n",
    "    # значение в столбце 'total_income_category' равно параметру total_income_category и одновременно значение\n",
    "    # в столбце 'debt' равно параметру debt (используем последовательную фильтрацию\n",
    "    # с помощью логической индексации).\n",
    "    income_category_debt_list = data[data['total_income_category'] == total_income_category]\n",
    "    income_category_debt_list = income_category_debt_list[income_category_debt_list['debt'] == debt]\n",
    "    #print(income_category_debt_list['total_income_category'].count())\n",
    "\n",
    "    # В переменной income_category_is_debt_count сохраняется число значений столбца 'total_income_category',\n",
    "    # рассчитанное методом count()\n",
    "    income_category_is_debt_count = income_category_debt_list['total_income_category'].count()\n",
    "\n",
    "    # Функция возвращает число - значение income_category_is_debt_count.\n",
    "    return income_category_is_debt_count"
   ]
  },
  {
   "cell_type": "code",
   "execution_count": null,
   "id": "da70cd18",
   "metadata": {},
   "outputs": [
    {
     "data": {
      "text/plain": [
       "1353"
      ]
     },
     "execution_count": 34,
     "metadata": {},
     "output_type": "execute_result"
    }
   ],
   "source": [
    "income_category_vs_debt('C',1) # проверяем, что все работает"
   ]
  },
  {
   "cell_type": "code",
   "execution_count": null,
   "id": "2bae1c43",
   "metadata": {},
   "outputs": [
    {
     "name": "stdout",
     "output_type": "stream",
     "text": [
      "  total_income_category              description\n",
      "0                     A      свыше 1000 тыс. руб\n",
      "1                     B  от 200 до 1000 тыс. руб\n",
      "2                     C    от 50 до 200 тыс. руб\n",
      "3                     D     от 30 до 50 тыс. руб\n",
      "4                     E           до 30 тыс. руб\n"
     ]
    }
   ],
   "source": [
    "# делаем часть датасета- справочник:\n",
    "income_text = ['свыше 1000 тыс. руб','от 200 до 1000 тыс. руб', 'от 50 до 200 тыс. руб', \\\n",
    "               'от 30 до 50 тыс. руб', 'до 30 тыс. руб']\n",
    "data_income_dict = data['total_income_category']\n",
    "data_income_dict = data_income_dict.drop_duplicates().reset_index(drop=True)\n",
    "data_income_dict = data_income_dict.sort_values()\n",
    "data_income_dict = pd.DataFrame(list(zip(data_income_dict, income_text)),\n",
    "               columns =['total_income_category', 'description'])\n",
    "print(data_income_dict)"
   ]
  },
  {
   "cell_type": "code",
   "execution_count": null,
   "id": "5aed035c",
   "metadata": {},
   "outputs": [
    {
     "name": "stdout",
     "output_type": "stream",
     "text": [
      "Для заемщиков группы A - \"свыше 1000 тыс. руб\", вероятность просроченной задолженности     = 8.00% %\n",
      "Для заемщиков группы B - \"от 200 до 1000 тыс. руб\", вероятность просроченной задолженности     = 7.06% %\n",
      "Для заемщиков группы C - \"от 50 до 200 тыс. руб\", вероятность просроченной задолженности     = 8.50% %\n",
      "Для заемщиков группы D - \"от 30 до 50 тыс. руб\", вероятность просроченной задолженности     = 6.02% %\n",
      "Для заемщиков группы E - \"до 30 тыс. руб\", вероятность просроченной задолженности     = 9.09% %\n"
     ]
    }
   ],
   "source": [
    "# выводим на экран кол-во заемщиков и должников по группам дохода\n",
    "final_count_income_category = [] #создаем список процентов к общему числу просрочунов в группах\n",
    "index = 0\n",
    "for i in data_income_dict['total_income_category']:  \n",
    "    #print('i=', i)\n",
    "    income_sum = income_category_vs_debt(i,1) #фильтруем только по должникам, у кого debt =1\n",
    "    #print('income_sum=',income_sum)\n",
    "    description = data_income_dict.loc[index,'description'] # текстовое значение группы дохода для последующего вывода в принте\n",
    "    #print('index=', index)\n",
    "    #print('description=', description)\n",
    "    inc = income_grouped.loc[i] # общее количество значений в группе i\n",
    "    #print('income_grouped[index]', inc)\n",
    "    final_count_income_category.append(income_sum / inc) # считаем процент должников от общего количества\n",
    "    print(f'Для заемщиков группы {i} - \"{description}\", вероятность просроченной задолженности \\\n",
    "    = {final_count_income_category[index]:.2%} %') \n",
    "    index +=1"
   ]
  },
  {
   "cell_type": "markdown",
   "id": "088979c0",
   "metadata": {
    "deletable": false,
    "id": "e8593def"
   },
   "source": [
    "**Вывод:** С точки зрения доходов самые надежные заемщики - из группы D (30-50 тыс. руб), самые ненадежные - из группы Е (до 30 тыс. руб). "
   ]
  },
  {
   "cell_type": "code",
   "execution_count": null,
   "id": "86d01786",
   "metadata": {
    "deletable": false,
    "id": "2b687290"
   },
   "outputs": [
    {
     "name": "stdout",
     "output_type": "stream",
     "text": [
      "операции с недвижимостью    10751\n",
      "операции с автомобилем       4279\n",
      "получение образования        3988\n",
      "проведение свадьбы           2313\n",
      "Name: purpose_category, dtype: int64\n"
     ]
    },
    {
     "data": {
      "text/plain": [
       "purpose_category          debt\n",
       "операции с автомобилем    0       3879\n",
       "                          1        400\n",
       "операции с недвижимостью  0       9971\n",
       "                          1        780\n",
       "получение образования     0       3619\n",
       "                          1        369\n",
       "проведение свадьбы        0       2130\n",
       "                          1        183\n",
       "Name: debt, dtype: int64"
      ]
     },
     "execution_count": 37,
     "metadata": {},
     "output_type": "execute_result"
    }
   ],
   "source": [
    "purpose_grouped = data['purpose_category'].value_counts()  # суммируем общее кол-во заемщиков для каждой группы пол доходам\n",
    "print(purpose_grouped)\n",
    "purpose_grouped_debt = data.groupby(data['purpose_category'])['debt'].value_counts() # суммируем число просрочунов в каждой группе\n",
    "purpose_grouped_debt# нам нужно сделать функцию, которая будет считать эти значения, чтобы посчитать кол-во \n",
    "                      # просрочунов в каждой группе"
   ]
  },
  {
   "cell_type": "code",
   "execution_count": null,
   "id": "7d56ea5e",
   "metadata": {},
   "outputs": [],
   "source": [
    "def purpose_category_vs_debt(purpose_category, debt):\n",
    "    # Объявляется функция с двумя параметрами: purpose_category, debt.\n",
    "    # В переменной purpose_category_debt_list сохраняются те строки таблицы data, для которых\n",
    "    # значение в столбце 'purpose_category' равно параметру purpose_category и одновременно значение\n",
    "    # в столбце 'debt' равно параметру debt (используем последовательную фильтрацию\n",
    "    # с помощью логической индексации).\n",
    "    purpose_category_debt_list = data[data['purpose_category'] == purpose_category]\n",
    "    purpose_category_debt_list = purpose_category_debt_list[purpose_category_debt_list['debt'] == debt]\n",
    "    #print(purpose_category_debt_list['purpose_category'].count())\n",
    "\n",
    "    # В переменной purpose_category_is_debt_count сохраняется число значений столбца 'purpose_category',\n",
    "    # рассчитанное методом count()\n",
    "    purpose_category_is_debt_count = purpose_category_debt_list['purpose_category'].count()\n",
    "\n",
    "    # Функция возвращает число - значение income_category_is_debt_count.\n",
    "    return purpose_category_is_debt_count"
   ]
  },
  {
   "cell_type": "code",
   "execution_count": null,
   "id": "8a56d8ac",
   "metadata": {},
   "outputs": [
    {
     "data": {
      "text/plain": [
       "array(['операции с недвижимостью', 'операции с автомобилем',\n",
       "       'получение образования', 'проведение свадьбы'], dtype=object)"
      ]
     },
     "execution_count": 39,
     "metadata": {},
     "output_type": "execute_result"
    }
   ],
   "source": [
    "data.purpose_category.unique()\n",
    "#purpose_category_vs_debt('операции с автомобилем',1)"
   ]
  },
  {
   "cell_type": "code",
   "execution_count": null,
   "id": "25c88b3a",
   "metadata": {},
   "outputs": [
    {
     "data": {
      "text/plain": [
       "array(['операции с недвижимостью', 'операции с автомобилем',\n",
       "       'получение образования', 'проведение свадьбы'], dtype=object)"
      ]
     },
     "execution_count": 40,
     "metadata": {},
     "output_type": "execute_result"
    }
   ],
   "source": [
    "# делаем часть датасета- справочник:\n",
    "purpose_text = data.purpose_category.unique()\n",
    "purpose_text"
   ]
  },
  {
   "cell_type": "code",
   "execution_count": null,
   "id": "ef658c95",
   "metadata": {},
   "outputs": [
    {
     "name": "stdout",
     "output_type": "stream",
     "text": [
      "i= операции с недвижимостью\n",
      "income_sum= 780\n",
      "purp = 10751\n",
      "Для заемщиков группы \"операции с недвижимостью\" , вероятность просроченной задолженности     = 7.26% %\n",
      "i= операции с автомобилем\n",
      "income_sum= 400\n",
      "purp = 4279\n",
      "Для заемщиков группы \"операции с автомобилем\" , вероятность просроченной задолженности     = 9.35% %\n",
      "i= получение образования\n",
      "income_sum= 369\n",
      "purp = 3988\n",
      "Для заемщиков группы \"получение образования\" , вероятность просроченной задолженности     = 9.25% %\n",
      "i= проведение свадьбы\n",
      "income_sum= 183\n",
      "purp = 2313\n",
      "Для заемщиков группы \"проведение свадьбы\" , вероятность просроченной задолженности     = 7.91% %\n"
     ]
    }
   ],
   "source": [
    "# выводим на экран кол-во заемщиков и должников по группам целей кредитования\n",
    "final_count_purpose_category = [] #создаем список процентов к общему числу просрочунов в группах\n",
    "index = 0\n",
    "for i in purpose_text:  \n",
    "    print('i=', i)\n",
    "    purpose_sum = purpose_category_vs_debt(i,1) #фильтруем только по должникам, у кого debt =1\n",
    "    print('income_sum=',purpose_sum)\n",
    "    purp = purpose_grouped.loc[i] # общее количество значений в группе i\n",
    "    print('purp =', purp)\n",
    "    final_count_purpose_category.append(purpose_sum / purp) # считаем процент должников от общего количества\n",
    "    print(f'Для заемщиков группы \"{i}\" , вероятность просроченной задолженности \\\n",
    "    = {final_count_purpose_category[index]:.2%} %') \n",
    "    index +=1"
   ]
  },
  {
   "cell_type": "markdown",
   "id": "d7c20290",
   "metadata": {
    "deletable": false,
    "id": "b4bb2ce6"
   },
   "source": [
    "**Вывод:** С точки зрения целей кредитования - самые надежные заемщики берут кредит на операции с недвижимостью (вероятность дефолта 7.26%), а также на проведение свадьбы (вероятность дефолта 7.91%). Ко второй группе с примерно одинаковой повышенной вероятностью дефолта (9.35% и 9.25%) относятся кредиты на операции с авто и на получение образования."
   ]
  },
  {
   "cell_type": "markdown",
   "id": "9ade9529",
   "metadata": {
    "deletable": false,
    "id": "9da2ceda"
   },
   "source": [
    "В данном датасете изначально встречались пропуски в столбцах days_employed и total_income. Возникновение пропусков в  столбце total_income, вероятно, связано с нежеланием заемщика указывать конкретную сумму своего дохода, либо ошибками при выгрузке/сохранении данных; в столбце days_employed, который, скорее всего заполняется не клиентом, а автоматически - техническими ошибками при сохранеии/выгрузке данных.  "
   ]
  },
  {
   "cell_type": "markdown",
   "id": "5e513a16",
   "metadata": {
    "deletable": false,
    "id": "7ecf2b8e"
   },
   "source": [
    "Заполнение пропусков для количественных переменных медианой является лучшим решением из-за устойчивости медианы к выбросам и аномальным значениям, которые, как правило, присутствуют в выборке количественных переменных."
   ]
  },
  {
   "cell_type": "markdown",
   "id": "4a7abd4d",
   "metadata": {
    "deletable": false,
    "editable": false,
    "id": "6db5255a"
   },
   "source": [
    "### Шаг 4: общий вывод."
   ]
  },
  {
   "cell_type": "markdown",
   "id": "7fda2491",
   "metadata": {
    "deletable": false,
    "id": "bad65432"
   },
   "source": [
    "В качестве заказчика исследования выступил кредитный отдел банка. Целью исследования является установление зависимостей между определенными характеристиками заемщиков (например, кол-во детей, семейное положение и проч.) и кредитной историей (положительная/отрицательная). Входные данные от банка — статистика о платёжеспособности клиентов.\n",
    "Результаты исследования планируется использовать при построении модели кредитного скоринга для потенциальных клиентов.\n",
    "\n",
    "Исходные данные, содержали были неидеальны, поэтому потребовалась их предобработка:\n",
    "1. Данные содержали пропуски в двух столбцах: \"кол-во отработанных дней\",а также \"уровнень дохода\". В каждом из этих столбцов пропуски были заменены медианными значениями  (столбец \"кол-во отработанных дней\" - по каждому типу занятости).\n",
    "2. В столбце \"кол-во отработанных дней\" были отрицательные значения (были заменены на положительные).\n",
    "3. В столбце \"количество детей\" были аномальные значения - отрицательное число, и слишком большое(20) - оба удалены (датасет отфильтрован).\n",
    "4. Столбец \"образование\" содержал неявные дубликаты, которые пришлось ликвидировать приведением значений к нижнему регистру.\n",
    "5. Кроме того, датасет содержал строки - полные дубликаты (71 шт) - удалены.\n",
    "6. Данные были категоризированы по уровню дохода (в 5 категорий), а также по целям кредитования (в 4 категории).\n",
    "\n",
    "На этапе анализа были проверены гипотезы:\n",
    "- о наличии зависимости между количеством детей и возвратом кредита в срок,\n",
    "- о наличии зависимости между семейным положением и возвратом кредита в срок,\n",
    "- о наличии зависимости между уровнем дохода и возвратом кредита в срок,\n",
    "- о том, что разные цели кредита также влияют на уровень просроченной задолженности.\n",
    "\n",
    "\n",
    "В результате, сделаны выводы:\n",
    "\n",
    "1. Зависимость между количеством детей и возвратом кредита в срок существует. Судя по результатам, самые надежные заемщики - многодетные с 5 детьми, но их мало (выборка нерепрезентативна), поэтому нецелесообразно принимать их в расчет. Если их не учитывать, то самые надежные заемщики - не имеющие детей, с вероятностью дефолта 7,54%, в то время, как с увеличением количества детей растет и вероятность дефолта. Однако, среди имеющих детей самые надежные заемщики - многодетные с 3 детьми.\n",
    "\n",
    "2. Самые надежные заемщики с точки зрения семейного положения - из группы \"вдовец/вдова\" с вероятностью выхода на просрочку 6.62%, а также заемщики из группы \"в разводе\", для которых эта вероятность равна 7,06%. Самые недобросовестные заемщики - неженатые/незамужние (9,76%).\n",
    "\n",
    "3. С точки зрения доходов самые надежные заемщики - из группы D (30-50 тыс. руб), самые ненадежные - из группы Е (до 30 тыс. руб).\n",
    " \n",
    "4. С точки зрения целей кредитования - самые надежные заемщики берут кредит на операции с недвижимостью (вероятность дефолта 7.26%), а также на проведение свадьбы (вероятность дефолта 7.91%). Ко второй группе с примерно одинаковой повышенной вероятностью дефолта (9.35% и 9.25%) относятся кредиты на операции с авто и на получение образования.\n",
    "\n",
    "В результате исследования можно сформировать портрет \"идеального\" заемщика:\n",
    "\n",
    "Идеальный заемщик - это бездетный(ая) вдовец/вдова с уровнем дохода от 30 до 50 тыс. руб., берущий кредит на операции с недвижимостью или проведение свадьбы.\n",
    "\n",
    "\n",
    "Рекомендации по улучшению сбора данных:\n",
    "1. Сделать поле ввода уровня дохода обязательным при заполнении анкеты.\n",
    "2. Корректно выгружать / сохранять данные о трудовом стаже.\n",
    "3. В таких графах как \"количество детей\", \"цели кредитования\" давать заемщикам выбирать из нескольких вариантов, а не вносить произвольное значение.\n",
    "\n",
    "\n"
   ]
  }
 ],
 "metadata": {
  "ExecuteTimeLog": [
   {
    "duration": 525,
    "start_time": "2023-11-19T19:24:35.269Z"
   },
   {
    "duration": 22,
    "start_time": "2023-11-19T19:24:35.796Z"
   },
   {
    "duration": 34,
    "start_time": "2023-11-19T19:24:35.820Z"
   },
   {
    "duration": 11,
    "start_time": "2023-11-19T19:24:35.857Z"
   },
   {
    "duration": 37,
    "start_time": "2023-11-19T19:24:35.869Z"
   },
   {
    "duration": 6,
    "start_time": "2023-11-19T19:24:35.908Z"
   },
   {
    "duration": 37,
    "start_time": "2023-11-19T19:24:35.916Z"
   },
   {
    "duration": 10,
    "start_time": "2023-11-19T19:24:35.955Z"
   },
   {
    "duration": 9,
    "start_time": "2023-11-19T19:24:35.967Z"
   },
   {
    "duration": 8,
    "start_time": "2023-11-19T19:24:35.979Z"
   },
   {
    "duration": 42,
    "start_time": "2023-11-19T19:24:35.989Z"
   },
   {
    "duration": 11,
    "start_time": "2023-11-19T19:24:36.033Z"
   },
   {
    "duration": 9,
    "start_time": "2023-11-19T19:24:36.046Z"
   },
   {
    "duration": 14,
    "start_time": "2023-11-19T19:24:36.056Z"
   },
   {
    "duration": 21,
    "start_time": "2023-11-19T19:24:36.071Z"
   },
   {
    "duration": 35,
    "start_time": "2023-11-19T19:24:36.094Z"
   },
   {
    "duration": 4,
    "start_time": "2023-11-19T19:24:36.131Z"
   },
   {
    "duration": 12,
    "start_time": "2023-11-19T19:24:36.137Z"
   },
   {
    "duration": 6,
    "start_time": "2023-11-19T19:24:36.151Z"
   },
   {
    "duration": 4,
    "start_time": "2023-11-19T19:24:36.159Z"
   },
   {
    "duration": 17,
    "start_time": "2023-11-19T19:24:36.164Z"
   },
   {
    "duration": 12,
    "start_time": "2023-11-19T19:24:36.183Z"
   },
   {
    "duration": 2,
    "start_time": "2023-11-19T19:24:36.214Z"
   },
   {
    "duration": 16,
    "start_time": "2023-11-19T19:24:36.218Z"
   },
   {
    "duration": 4,
    "start_time": "2023-11-19T19:24:36.235Z"
   },
   {
    "duration": 17,
    "start_time": "2023-11-19T19:24:58.490Z"
   },
   {
    "duration": 19,
    "start_time": "2023-11-19T19:27:19.483Z"
   },
   {
    "duration": 21,
    "start_time": "2023-11-19T19:27:37.651Z"
   },
   {
    "duration": 25,
    "start_time": "2023-11-19T19:29:40.805Z"
   },
   {
    "duration": 29,
    "start_time": "2023-11-19T19:30:07.069Z"
   },
   {
    "duration": 29,
    "start_time": "2023-11-19T19:31:57.223Z"
   },
   {
    "duration": 22,
    "start_time": "2023-11-19T19:32:56.055Z"
   },
   {
    "duration": 5,
    "start_time": "2023-11-19T19:36:03.890Z"
   },
   {
    "duration": 64,
    "start_time": "2023-11-19T19:36:28.666Z"
   },
   {
    "duration": 9,
    "start_time": "2023-11-19T19:36:35.578Z"
   },
   {
    "duration": 21,
    "start_time": "2023-11-19T19:36:54.346Z"
   },
   {
    "duration": 20,
    "start_time": "2023-11-19T19:37:13.675Z"
   },
   {
    "duration": 30,
    "start_time": "2023-11-19T19:38:14.268Z"
   },
   {
    "duration": 30,
    "start_time": "2023-11-19T19:38:30.338Z"
   },
   {
    "duration": 6,
    "start_time": "2023-11-19T19:39:25.436Z"
   },
   {
    "duration": 13,
    "start_time": "2023-11-19T19:39:34.748Z"
   },
   {
    "duration": 15,
    "start_time": "2023-11-19T19:39:47.476Z"
   },
   {
    "duration": 5,
    "start_time": "2023-11-19T19:40:15.436Z"
   },
   {
    "duration": 72,
    "start_time": "2023-11-19T19:40:22.944Z"
   },
   {
    "duration": 15,
    "start_time": "2023-11-19T19:40:23.018Z"
   },
   {
    "duration": 15,
    "start_time": "2023-11-19T19:40:23.035Z"
   },
   {
    "duration": 13,
    "start_time": "2023-11-19T19:40:23.052Z"
   },
   {
    "duration": 56,
    "start_time": "2023-11-19T19:40:23.067Z"
   },
   {
    "duration": 3,
    "start_time": "2023-11-19T19:40:23.124Z"
   },
   {
    "duration": 10,
    "start_time": "2023-11-19T19:40:23.128Z"
   },
   {
    "duration": 3,
    "start_time": "2023-11-19T19:40:23.139Z"
   },
   {
    "duration": 5,
    "start_time": "2023-11-19T19:40:23.144Z"
   },
   {
    "duration": 4,
    "start_time": "2023-11-19T19:40:23.150Z"
   },
   {
    "duration": 65,
    "start_time": "2023-11-19T19:40:23.155Z"
   },
   {
    "duration": 10,
    "start_time": "2023-11-19T19:40:23.221Z"
   },
   {
    "duration": 8,
    "start_time": "2023-11-19T19:40:23.233Z"
   },
   {
    "duration": 8,
    "start_time": "2023-11-19T19:40:23.245Z"
   },
   {
    "duration": 24,
    "start_time": "2023-11-19T19:40:23.255Z"
   },
   {
    "duration": 36,
    "start_time": "2023-11-19T19:40:23.281Z"
   },
   {
    "duration": 4,
    "start_time": "2023-11-19T19:40:23.318Z"
   },
   {
    "duration": 25,
    "start_time": "2023-11-19T19:40:23.323Z"
   },
   {
    "duration": 15,
    "start_time": "2023-11-19T19:40:23.349Z"
   },
   {
    "duration": 5,
    "start_time": "2023-11-19T19:40:23.365Z"
   },
   {
    "duration": 10,
    "start_time": "2023-11-19T19:40:23.371Z"
   },
   {
    "duration": 48,
    "start_time": "2023-11-19T19:40:23.382Z"
   },
   {
    "duration": 2,
    "start_time": "2023-11-19T19:40:23.431Z"
   },
   {
    "duration": 8,
    "start_time": "2023-11-19T19:40:23.434Z"
   },
   {
    "duration": 7,
    "start_time": "2023-11-19T19:40:23.444Z"
   },
   {
    "duration": 13,
    "start_time": "2023-11-19T19:43:23.991Z"
   },
   {
    "duration": 12,
    "start_time": "2023-11-19T19:43:38.199Z"
   },
   {
    "duration": 13,
    "start_time": "2023-11-19T19:43:42.551Z"
   },
   {
    "duration": 15,
    "start_time": "2023-11-19T19:43:55.791Z"
   },
   {
    "duration": 32,
    "start_time": "2023-11-19T19:46:21.673Z"
   },
   {
    "duration": 35,
    "start_time": "2023-11-19T19:47:50.698Z"
   },
   {
    "duration": 20,
    "start_time": "2023-11-19T19:48:18.345Z"
   },
   {
    "duration": 19,
    "start_time": "2023-11-19T19:48:36.322Z"
   },
   {
    "duration": 51,
    "start_time": "2023-11-20T20:33:28.250Z"
   },
   {
    "duration": 562,
    "start_time": "2023-11-20T20:33:37.030Z"
   },
   {
    "duration": 24,
    "start_time": "2023-11-20T20:33:37.595Z"
   },
   {
    "duration": 30,
    "start_time": "2023-11-20T20:33:37.621Z"
   },
   {
    "duration": 25,
    "start_time": "2023-11-20T20:33:37.654Z"
   },
   {
    "duration": 50,
    "start_time": "2023-11-20T20:33:37.680Z"
   },
   {
    "duration": 4,
    "start_time": "2023-11-20T20:33:37.731Z"
   },
   {
    "duration": 14,
    "start_time": "2023-11-20T20:33:37.737Z"
   },
   {
    "duration": 6,
    "start_time": "2023-11-20T20:33:37.752Z"
   },
   {
    "duration": 16,
    "start_time": "2023-11-20T20:33:37.760Z"
   },
   {
    "duration": 10,
    "start_time": "2023-11-20T20:33:37.779Z"
   },
   {
    "duration": 50,
    "start_time": "2023-11-20T20:33:37.790Z"
   },
   {
    "duration": 12,
    "start_time": "2023-11-20T20:33:37.842Z"
   },
   {
    "duration": 9,
    "start_time": "2023-11-20T20:33:37.856Z"
   },
   {
    "duration": 42,
    "start_time": "2023-11-20T20:33:37.866Z"
   },
   {
    "duration": 23,
    "start_time": "2023-11-20T20:33:37.910Z"
   },
   {
    "duration": 19,
    "start_time": "2023-11-20T20:33:37.936Z"
   },
   {
    "duration": 6,
    "start_time": "2023-11-20T20:33:37.957Z"
   },
   {
    "duration": 17,
    "start_time": "2023-11-20T20:33:37.965Z"
   },
   {
    "duration": 7,
    "start_time": "2023-11-20T20:33:38.000Z"
   },
   {
    "duration": 4,
    "start_time": "2023-11-20T20:33:38.009Z"
   },
   {
    "duration": 12,
    "start_time": "2023-11-20T20:33:38.014Z"
   },
   {
    "duration": 34,
    "start_time": "2023-11-20T20:33:38.028Z"
   },
   {
    "duration": 4,
    "start_time": "2023-11-20T20:33:38.064Z"
   },
   {
    "duration": 5,
    "start_time": "2023-11-20T20:33:38.069Z"
   },
   {
    "duration": 14,
    "start_time": "2023-11-20T20:33:38.101Z"
   },
   {
    "duration": 23,
    "start_time": "2023-11-20T20:39:40.615Z"
   },
   {
    "duration": 23,
    "start_time": "2023-11-20T20:39:55.814Z"
   },
   {
    "duration": 25,
    "start_time": "2023-11-20T20:40:06.830Z"
   },
   {
    "duration": 35,
    "start_time": "2023-11-20T20:41:20.015Z"
   },
   {
    "duration": 12,
    "start_time": "2023-11-20T20:41:47.176Z"
   },
   {
    "duration": 12,
    "start_time": "2023-11-20T20:41:50.887Z"
   },
   {
    "duration": 22,
    "start_time": "2023-11-20T20:45:12.233Z"
   },
   {
    "duration": 14,
    "start_time": "2023-11-20T20:45:54.258Z"
   },
   {
    "duration": 1427,
    "start_time": "2023-11-20T20:46:08.306Z"
   },
   {
    "duration": 1384,
    "start_time": "2023-11-20T20:46:27.946Z"
   },
   {
    "duration": 83,
    "start_time": "2023-11-20T20:46:41.293Z"
   },
   {
    "duration": 17,
    "start_time": "2023-11-20T20:46:41.379Z"
   },
   {
    "duration": 19,
    "start_time": "2023-11-20T20:46:41.398Z"
   },
   {
    "duration": 16,
    "start_time": "2023-11-20T20:46:41.420Z"
   },
   {
    "duration": 42,
    "start_time": "2023-11-20T20:46:41.438Z"
   },
   {
    "duration": 4,
    "start_time": "2023-11-20T20:46:41.482Z"
   },
   {
    "duration": 10,
    "start_time": "2023-11-20T20:46:41.500Z"
   },
   {
    "duration": 13,
    "start_time": "2023-11-20T20:46:41.511Z"
   },
   {
    "duration": 10,
    "start_time": "2023-11-20T20:46:41.526Z"
   },
   {
    "duration": 13,
    "start_time": "2023-11-20T20:46:41.540Z"
   },
   {
    "duration": 60,
    "start_time": "2023-11-20T20:46:41.554Z"
   },
   {
    "duration": 12,
    "start_time": "2023-11-20T20:46:41.616Z"
   },
   {
    "duration": 4,
    "start_time": "2023-11-20T20:46:41.631Z"
   },
   {
    "duration": 20,
    "start_time": "2023-11-20T20:46:41.636Z"
   },
   {
    "duration": 43,
    "start_time": "2023-11-20T20:46:41.658Z"
   },
   {
    "duration": 20,
    "start_time": "2023-11-20T20:46:41.703Z"
   },
   {
    "duration": 4,
    "start_time": "2023-11-20T20:46:41.724Z"
   },
   {
    "duration": 17,
    "start_time": "2023-11-20T20:46:41.730Z"
   },
   {
    "duration": 11,
    "start_time": "2023-11-20T20:46:41.748Z"
   },
   {
    "duration": 5,
    "start_time": "2023-11-20T20:46:41.761Z"
   },
   {
    "duration": 36,
    "start_time": "2023-11-20T20:46:41.768Z"
   },
   {
    "duration": 32,
    "start_time": "2023-11-20T20:46:41.806Z"
   },
   {
    "duration": 3,
    "start_time": "2023-11-20T20:46:41.839Z"
   },
   {
    "duration": 5,
    "start_time": "2023-11-20T20:46:41.844Z"
   },
   {
    "duration": 7,
    "start_time": "2023-11-20T20:46:41.851Z"
   },
   {
    "duration": 12,
    "start_time": "2023-11-20T20:48:26.516Z"
   },
   {
    "duration": 9,
    "start_time": "2023-11-20T20:48:42.523Z"
   },
   {
    "duration": 40236,
    "start_time": "2023-11-20T20:51:34.303Z"
   },
   {
    "duration": 11,
    "start_time": "2023-11-20T20:56:05.432Z"
   },
   {
    "duration": 10,
    "start_time": "2023-11-20T20:57:21.617Z"
   },
   {
    "duration": 83,
    "start_time": "2023-11-20T21:03:25.764Z"
   },
   {
    "duration": 19,
    "start_time": "2023-11-20T21:03:25.850Z"
   },
   {
    "duration": 53,
    "start_time": "2023-11-20T21:03:25.871Z"
   },
   {
    "duration": 12,
    "start_time": "2023-11-20T21:03:25.926Z"
   },
   {
    "duration": 56,
    "start_time": "2023-11-20T21:03:25.940Z"
   },
   {
    "duration": 5,
    "start_time": "2023-11-20T21:03:25.999Z"
   },
   {
    "duration": 28,
    "start_time": "2023-11-20T21:03:26.006Z"
   },
   {
    "duration": 14,
    "start_time": "2023-11-20T21:03:26.037Z"
   },
   {
    "duration": 34,
    "start_time": "2023-11-20T21:03:26.053Z"
   },
   {
    "duration": 27,
    "start_time": "2023-11-20T21:03:26.089Z"
   },
   {
    "duration": 58,
    "start_time": "2023-11-20T21:03:26.118Z"
   },
   {
    "duration": 12,
    "start_time": "2023-11-20T21:03:26.178Z"
   },
   {
    "duration": 4,
    "start_time": "2023-11-20T21:03:26.192Z"
   },
   {
    "duration": 24,
    "start_time": "2023-11-20T21:03:26.198Z"
   },
   {
    "duration": 116,
    "start_time": "2023-11-20T21:03:26.223Z"
   },
   {
    "duration": 22,
    "start_time": "2023-11-20T21:03:26.340Z"
   },
   {
    "duration": 5,
    "start_time": "2023-11-20T21:03:26.364Z"
   },
   {
    "duration": 15,
    "start_time": "2023-11-20T21:03:26.371Z"
   },
   {
    "duration": 6,
    "start_time": "2023-11-20T21:03:26.388Z"
   },
   {
    "duration": 8,
    "start_time": "2023-11-20T21:03:26.396Z"
   },
   {
    "duration": 22,
    "start_time": "2023-11-20T21:03:26.406Z"
   },
   {
    "duration": 38471,
    "start_time": "2023-11-20T21:03:26.430Z"
   },
   {
    "duration": 3,
    "start_time": "2023-11-20T21:04:04.903Z"
   },
   {
    "duration": 4,
    "start_time": "2023-11-20T21:04:04.908Z"
   },
   {
    "duration": 4,
    "start_time": "2023-11-20T21:04:04.914Z"
   },
   {
    "duration": 35551,
    "start_time": "2023-11-20T21:04:46.814Z"
   },
   {
    "duration": 9,
    "start_time": "2023-11-20T21:08:59.176Z"
   },
   {
    "duration": 1067,
    "start_time": "2023-11-20T21:10:34.201Z"
   },
   {
    "duration": 1040,
    "start_time": "2023-11-20T21:11:38.851Z"
   },
   {
    "duration": 15,
    "start_time": "2023-11-20T21:12:27.947Z"
   },
   {
    "duration": 16,
    "start_time": "2023-11-20T21:12:36.922Z"
   },
   {
    "duration": 15,
    "start_time": "2023-11-20T21:15:55.917Z"
   },
   {
    "duration": 13,
    "start_time": "2023-11-20T21:16:45.381Z"
   },
   {
    "duration": 11,
    "start_time": "2023-11-20T21:18:12.023Z"
   },
   {
    "duration": 11,
    "start_time": "2023-11-20T21:18:50.246Z"
   },
   {
    "duration": 12,
    "start_time": "2023-11-20T21:19:40.488Z"
   },
   {
    "duration": 13,
    "start_time": "2023-11-20T21:20:18.072Z"
   },
   {
    "duration": 16,
    "start_time": "2023-11-20T21:23:40.362Z"
   },
   {
    "duration": 14,
    "start_time": "2023-11-20T21:23:59.459Z"
   },
   {
    "duration": 1090,
    "start_time": "2023-11-20T21:25:53.788Z"
   },
   {
    "duration": 89,
    "start_time": "2023-11-20T21:38:57.348Z"
   },
   {
    "duration": 109,
    "start_time": "2023-11-20T21:39:44.916Z"
   },
   {
    "duration": 88,
    "start_time": "2023-11-20T21:39:57.596Z"
   },
   {
    "duration": 30578,
    "start_time": "2023-11-20T21:40:47.637Z"
   },
   {
    "duration": 15,
    "start_time": "2023-11-20T21:42:44.735Z"
   },
   {
    "duration": 14,
    "start_time": "2023-11-20T21:43:37.408Z"
   },
   {
    "duration": 13,
    "start_time": "2023-11-20T21:44:24.345Z"
   },
   {
    "duration": 15,
    "start_time": "2023-11-20T21:44:27.857Z"
   },
   {
    "duration": 97,
    "start_time": "2023-11-20T21:46:56.155Z"
   },
   {
    "duration": 18245,
    "start_time": "2023-11-20T21:47:19.051Z"
   },
   {
    "duration": 73,
    "start_time": "2023-11-21T18:33:18.867Z"
   },
   {
    "duration": 65,
    "start_time": "2023-11-21T18:33:52.569Z"
   },
   {
    "duration": 74,
    "start_time": "2023-11-21T18:34:06.133Z"
   },
   {
    "duration": 81,
    "start_time": "2023-11-21T18:34:24.685Z"
   },
   {
    "duration": 76,
    "start_time": "2023-11-21T18:34:33.062Z"
   },
   {
    "duration": 4,
    "start_time": "2023-11-21T18:34:56.805Z"
   },
   {
    "duration": 73,
    "start_time": "2023-11-21T18:35:26.430Z"
   },
   {
    "duration": 41,
    "start_time": "2023-11-21T18:36:39.934Z"
   },
   {
    "duration": 643,
    "start_time": "2023-11-21T18:36:49.953Z"
   },
   {
    "duration": 20,
    "start_time": "2023-11-21T18:36:50.597Z"
   },
   {
    "duration": 14,
    "start_time": "2023-11-21T18:36:50.618Z"
   },
   {
    "duration": 10,
    "start_time": "2023-11-21T18:36:50.636Z"
   },
   {
    "duration": 40,
    "start_time": "2023-11-21T18:36:50.647Z"
   },
   {
    "duration": 62,
    "start_time": "2023-11-21T18:36:50.689Z"
   },
   {
    "duration": 96,
    "start_time": "2023-11-21T18:36:50.752Z"
   },
   {
    "duration": 80,
    "start_time": "2023-11-21T18:36:50.850Z"
   },
   {
    "duration": 23,
    "start_time": "2023-11-21T18:36:50.931Z"
   },
   {
    "duration": 16,
    "start_time": "2023-11-21T18:36:50.956Z"
   },
   {
    "duration": 32,
    "start_time": "2023-11-21T18:36:50.973Z"
   },
   {
    "duration": 9,
    "start_time": "2023-11-21T18:36:51.007Z"
   },
   {
    "duration": 7,
    "start_time": "2023-11-21T18:36:51.017Z"
   },
   {
    "duration": 18,
    "start_time": "2023-11-21T18:36:51.025Z"
   },
   {
    "duration": 27,
    "start_time": "2023-11-21T18:36:51.044Z"
   },
   {
    "duration": 18,
    "start_time": "2023-11-21T18:36:51.072Z"
   },
   {
    "duration": 4,
    "start_time": "2023-11-21T18:36:51.092Z"
   },
   {
    "duration": 18,
    "start_time": "2023-11-21T18:36:51.097Z"
   },
   {
    "duration": 6,
    "start_time": "2023-11-21T18:36:51.117Z"
   },
   {
    "duration": 23,
    "start_time": "2023-11-21T18:36:51.125Z"
   },
   {
    "duration": 9,
    "start_time": "2023-11-21T18:36:51.150Z"
   },
   {
    "duration": 883,
    "start_time": "2023-11-21T18:36:51.161Z"
   },
   {
    "duration": 0,
    "start_time": "2023-11-21T18:36:52.046Z"
   },
   {
    "duration": 0,
    "start_time": "2023-11-21T18:36:52.048Z"
   },
   {
    "duration": 0,
    "start_time": "2023-11-21T18:36:52.049Z"
   },
   {
    "duration": 902,
    "start_time": "2023-11-21T18:37:13.071Z"
   },
   {
    "duration": 1004,
    "start_time": "2023-11-21T18:38:00.255Z"
   },
   {
    "duration": 919,
    "start_time": "2023-11-21T18:40:21.826Z"
   },
   {
    "duration": 14,
    "start_time": "2023-11-21T18:42:58.275Z"
   },
   {
    "duration": 1132,
    "start_time": "2023-11-21T18:43:59.251Z"
   },
   {
    "duration": 896,
    "start_time": "2023-11-21T18:45:32.164Z"
   },
   {
    "duration": 21,
    "start_time": "2023-11-21T18:48:14.950Z"
   },
   {
    "duration": 16,
    "start_time": "2023-11-21T18:49:11.287Z"
   },
   {
    "duration": 18,
    "start_time": "2023-11-21T18:49:30.814Z"
   },
   {
    "duration": 14,
    "start_time": "2023-11-21T19:02:37.552Z"
   },
   {
    "duration": 11,
    "start_time": "2023-11-21T19:03:45.744Z"
   },
   {
    "duration": 6,
    "start_time": "2023-11-21T19:04:00.328Z"
   },
   {
    "duration": 12,
    "start_time": "2023-11-21T19:04:07.672Z"
   },
   {
    "duration": 76,
    "start_time": "2023-11-21T19:05:16.825Z"
   },
   {
    "duration": 3,
    "start_time": "2023-11-21T19:06:09.090Z"
   },
   {
    "duration": 20,
    "start_time": "2023-11-21T19:06:20.377Z"
   },
   {
    "duration": 9,
    "start_time": "2023-11-21T19:07:21.618Z"
   },
   {
    "duration": 3,
    "start_time": "2023-11-21T19:09:00.412Z"
   },
   {
    "duration": 23,
    "start_time": "2023-11-21T19:09:05.180Z"
   },
   {
    "duration": 4,
    "start_time": "2023-11-21T19:11:18.533Z"
   },
   {
    "duration": 9,
    "start_time": "2023-11-21T19:11:24.029Z"
   },
   {
    "duration": 3,
    "start_time": "2023-11-21T19:11:56.942Z"
   },
   {
    "duration": 9,
    "start_time": "2023-11-21T19:12:00.198Z"
   },
   {
    "duration": 8,
    "start_time": "2023-11-21T19:12:14.965Z"
   },
   {
    "duration": 17,
    "start_time": "2023-11-21T19:19:39.923Z"
   },
   {
    "duration": 3,
    "start_time": "2023-11-21T19:22:05.645Z"
   },
   {
    "duration": 7,
    "start_time": "2023-11-21T19:22:08.676Z"
   },
   {
    "duration": 15,
    "start_time": "2023-11-21T19:22:11.879Z"
   },
   {
    "duration": 9,
    "start_time": "2023-11-21T19:23:40.413Z"
   },
   {
    "duration": 14,
    "start_time": "2023-11-21T19:24:16.654Z"
   },
   {
    "duration": 19,
    "start_time": "2023-11-21T19:27:17.216Z"
   },
   {
    "duration": 8,
    "start_time": "2023-11-21T19:33:35.490Z"
   },
   {
    "duration": 38992,
    "start_time": "2023-11-21T19:34:15.150Z"
   },
   {
    "duration": 7,
    "start_time": "2023-11-21T19:35:14.437Z"
   },
   {
    "duration": 38421,
    "start_time": "2023-11-21T19:35:17.781Z"
   },
   {
    "duration": 6,
    "start_time": "2023-11-21T19:37:52.903Z"
   },
   {
    "duration": 82,
    "start_time": "2023-11-21T19:38:40.663Z"
   },
   {
    "duration": 7,
    "start_time": "2023-11-21T19:38:49.600Z"
   },
   {
    "duration": 4,
    "start_time": "2023-11-21T19:39:12.352Z"
   },
   {
    "duration": 7,
    "start_time": "2023-11-21T19:39:42.633Z"
   },
   {
    "duration": 7,
    "start_time": "2023-11-21T19:40:27.929Z"
   },
   {
    "duration": 4,
    "start_time": "2023-11-21T19:40:45.617Z"
   },
   {
    "duration": 7,
    "start_time": "2023-11-21T19:42:03.682Z"
   },
   {
    "duration": 6,
    "start_time": "2023-11-21T19:42:25.859Z"
   },
   {
    "duration": 7,
    "start_time": "2023-11-21T19:42:41.450Z"
   },
   {
    "duration": 4,
    "start_time": "2023-11-21T19:44:55.348Z"
   },
   {
    "duration": 14,
    "start_time": "2023-11-21T19:45:19.805Z"
   },
   {
    "duration": 5,
    "start_time": "2023-11-21T19:47:55.566Z"
   },
   {
    "duration": 5,
    "start_time": "2023-11-21T19:48:44.239Z"
   },
   {
    "duration": 19,
    "start_time": "2023-11-21T19:51:16.921Z"
   },
   {
    "duration": 3,
    "start_time": "2023-11-21T19:51:21.616Z"
   },
   {
    "duration": 7,
    "start_time": "2023-11-21T19:51:24.472Z"
   },
   {
    "duration": 13,
    "start_time": "2023-11-21T19:51:25.785Z"
   },
   {
    "duration": 4,
    "start_time": "2023-11-21T19:51:27.169Z"
   },
   {
    "duration": 873,
    "start_time": "2023-11-21T20:06:37.075Z"
   },
   {
    "duration": 47,
    "start_time": "2023-11-21T20:07:26.483Z"
   },
   {
    "duration": 76,
    "start_time": "2023-11-21T20:07:58.636Z"
   },
   {
    "duration": 76,
    "start_time": "2023-11-21T20:08:21.972Z"
   },
   {
    "duration": 73,
    "start_time": "2023-11-21T20:08:46.180Z"
   },
   {
    "duration": 6,
    "start_time": "2023-11-21T20:08:50.341Z"
   },
   {
    "duration": 69,
    "start_time": "2023-11-21T20:08:52.901Z"
   },
   {
    "duration": 73,
    "start_time": "2023-11-21T20:08:57.735Z"
   },
   {
    "duration": 15,
    "start_time": "2023-11-21T20:08:57.809Z"
   },
   {
    "duration": 15,
    "start_time": "2023-11-21T20:08:57.825Z"
   },
   {
    "duration": 10,
    "start_time": "2023-11-21T20:08:57.842Z"
   },
   {
    "duration": 56,
    "start_time": "2023-11-21T20:08:57.853Z"
   },
   {
    "duration": 3,
    "start_time": "2023-11-21T20:08:57.910Z"
   },
   {
    "duration": 8,
    "start_time": "2023-11-21T20:08:57.914Z"
   },
   {
    "duration": 3,
    "start_time": "2023-11-21T20:08:57.924Z"
   },
   {
    "duration": 8,
    "start_time": "2023-11-21T20:08:57.928Z"
   },
   {
    "duration": 4,
    "start_time": "2023-11-21T20:08:57.938Z"
   },
   {
    "duration": 50,
    "start_time": "2023-11-21T20:08:57.943Z"
   },
   {
    "duration": 10,
    "start_time": "2023-11-21T20:08:57.994Z"
   },
   {
    "duration": 7,
    "start_time": "2023-11-21T20:08:58.005Z"
   },
   {
    "duration": 16,
    "start_time": "2023-11-21T20:08:58.013Z"
   },
   {
    "duration": 20,
    "start_time": "2023-11-21T20:08:58.030Z"
   },
   {
    "duration": 33,
    "start_time": "2023-11-21T20:08:58.051Z"
   },
   {
    "duration": 3,
    "start_time": "2023-11-21T20:08:58.085Z"
   },
   {
    "duration": 14,
    "start_time": "2023-11-21T20:08:58.090Z"
   },
   {
    "duration": 5,
    "start_time": "2023-11-21T20:08:58.105Z"
   },
   {
    "duration": 3,
    "start_time": "2023-11-21T20:08:58.111Z"
   },
   {
    "duration": 9,
    "start_time": "2023-11-21T20:08:58.115Z"
   },
   {
    "duration": 17,
    "start_time": "2023-11-21T20:08:58.125Z"
   },
   {
    "duration": 6,
    "start_time": "2023-11-21T20:08:58.143Z"
   },
   {
    "duration": 34,
    "start_time": "2023-11-21T20:08:58.150Z"
   },
   {
    "duration": 14,
    "start_time": "2023-11-21T20:08:58.185Z"
   },
   {
    "duration": 4,
    "start_time": "2023-11-21T20:08:58.200Z"
   },
   {
    "duration": 69,
    "start_time": "2023-11-21T20:08:58.206Z"
   },
   {
    "duration": 0,
    "start_time": "2023-11-21T20:08:58.277Z"
   },
   {
    "duration": 0,
    "start_time": "2023-11-21T20:08:58.278Z"
   },
   {
    "duration": 9,
    "start_time": "2023-11-21T20:09:52.965Z"
   },
   {
    "duration": 80,
    "start_time": "2023-11-21T20:10:05.469Z"
   },
   {
    "duration": 9,
    "start_time": "2023-11-21T20:13:03.911Z"
   },
   {
    "duration": 882,
    "start_time": "2023-11-21T20:13:58.896Z"
   },
   {
    "duration": 1040,
    "start_time": "2023-11-21T20:14:40.672Z"
   },
   {
    "duration": 889,
    "start_time": "2023-11-21T20:17:36.395Z"
   },
   {
    "duration": 13,
    "start_time": "2023-11-21T20:18:08.482Z"
   },
   {
    "duration": 11,
    "start_time": "2023-11-21T20:18:11.331Z"
   },
   {
    "duration": 5,
    "start_time": "2023-11-21T20:18:13.483Z"
   },
   {
    "duration": 12,
    "start_time": "2023-11-21T20:18:14.786Z"
   },
   {
    "duration": 7,
    "start_time": "2023-11-21T20:18:35.491Z"
   },
   {
    "duration": 6,
    "start_time": "2023-11-21T20:18:56.756Z"
   },
   {
    "duration": 6,
    "start_time": "2023-11-21T20:19:08.460Z"
   },
   {
    "duration": 7,
    "start_time": "2023-11-21T20:30:00.196Z"
   },
   {
    "duration": 128,
    "start_time": "2023-11-21T20:30:12.235Z"
   },
   {
    "duration": 85,
    "start_time": "2023-11-21T20:30:41.924Z"
   },
   {
    "duration": 71,
    "start_time": "2023-11-21T20:30:53.483Z"
   },
   {
    "duration": 5,
    "start_time": "2023-11-21T20:30:57.539Z"
   },
   {
    "duration": 10,
    "start_time": "2023-11-21T20:37:29.545Z"
   },
   {
    "duration": 8,
    "start_time": "2023-11-21T20:37:41.649Z"
   },
   {
    "duration": 9,
    "start_time": "2023-11-21T20:39:02.314Z"
   },
   {
    "duration": 14,
    "start_time": "2023-11-21T20:39:06.274Z"
   },
   {
    "duration": 8,
    "start_time": "2023-11-21T20:39:11.290Z"
   },
   {
    "duration": 4,
    "start_time": "2023-11-21T20:39:57.642Z"
   },
   {
    "duration": 7,
    "start_time": "2023-11-21T20:41:44.388Z"
   },
   {
    "duration": 76,
    "start_time": "2023-11-21T21:03:12.076Z"
   },
   {
    "duration": 264,
    "start_time": "2023-11-21T21:03:19.595Z"
   },
   {
    "duration": 88,
    "start_time": "2023-11-21T21:03:24.675Z"
   },
   {
    "duration": 119,
    "start_time": "2023-11-21T21:05:40.629Z"
   },
   {
    "duration": 4,
    "start_time": "2023-11-21T21:05:49.453Z"
   },
   {
    "duration": 86,
    "start_time": "2023-11-21T21:06:11.014Z"
   },
   {
    "duration": 3,
    "start_time": "2023-11-21T21:06:31.294Z"
   },
   {
    "duration": 4,
    "start_time": "2023-11-21T21:17:32.070Z"
   },
   {
    "duration": 4,
    "start_time": "2023-11-21T21:17:39.110Z"
   },
   {
    "duration": 5,
    "start_time": "2023-11-21T21:17:45.190Z"
   },
   {
    "duration": 83,
    "start_time": "2023-11-21T21:23:14.938Z"
   },
   {
    "duration": 14,
    "start_time": "2023-11-21T21:23:28.434Z"
   },
   {
    "duration": 15,
    "start_time": "2023-11-21T21:23:58.738Z"
   },
   {
    "duration": 4,
    "start_time": "2023-11-21T21:24:26.890Z"
   },
   {
    "duration": 18,
    "start_time": "2023-11-21T21:27:29.108Z"
   },
   {
    "duration": 16,
    "start_time": "2023-11-21T21:28:10.613Z"
   },
   {
    "duration": 17,
    "start_time": "2023-11-21T21:28:50.685Z"
   },
   {
    "duration": 47,
    "start_time": "2023-11-22T18:02:43.550Z"
   },
   {
    "duration": 680,
    "start_time": "2023-11-22T18:02:51.366Z"
   },
   {
    "duration": 21,
    "start_time": "2023-11-22T18:02:52.047Z"
   },
   {
    "duration": 14,
    "start_time": "2023-11-22T18:02:52.069Z"
   },
   {
    "duration": 10,
    "start_time": "2023-11-22T18:02:52.085Z"
   },
   {
    "duration": 41,
    "start_time": "2023-11-22T18:02:52.096Z"
   },
   {
    "duration": 13,
    "start_time": "2023-11-22T18:02:52.139Z"
   },
   {
    "duration": 9,
    "start_time": "2023-11-22T18:02:52.154Z"
   },
   {
    "duration": 5,
    "start_time": "2023-11-22T18:02:52.164Z"
   },
   {
    "duration": 7,
    "start_time": "2023-11-22T18:02:52.170Z"
   },
   {
    "duration": 8,
    "start_time": "2023-11-22T18:02:52.180Z"
   },
   {
    "duration": 36,
    "start_time": "2023-11-22T18:02:52.189Z"
   },
   {
    "duration": 30,
    "start_time": "2023-11-22T18:02:52.226Z"
   },
   {
    "duration": 8,
    "start_time": "2023-11-22T18:02:52.257Z"
   },
   {
    "duration": 24,
    "start_time": "2023-11-22T18:02:52.266Z"
   },
   {
    "duration": 16,
    "start_time": "2023-11-22T18:02:52.292Z"
   },
   {
    "duration": 15,
    "start_time": "2023-11-22T18:02:52.310Z"
   },
   {
    "duration": 4,
    "start_time": "2023-11-22T18:02:52.326Z"
   },
   {
    "duration": 30,
    "start_time": "2023-11-22T18:02:52.331Z"
   },
   {
    "duration": 7,
    "start_time": "2023-11-22T18:02:52.362Z"
   },
   {
    "duration": 15,
    "start_time": "2023-11-22T18:02:52.370Z"
   },
   {
    "duration": 23,
    "start_time": "2023-11-22T18:02:52.387Z"
   },
   {
    "duration": 26,
    "start_time": "2023-11-22T18:02:52.411Z"
   },
   {
    "duration": 3,
    "start_time": "2023-11-22T18:02:52.438Z"
   },
   {
    "duration": 14,
    "start_time": "2023-11-22T18:02:52.443Z"
   },
   {
    "duration": 18,
    "start_time": "2023-11-22T18:02:52.458Z"
   },
   {
    "duration": 5,
    "start_time": "2023-11-22T18:02:52.477Z"
   },
   {
    "duration": 27,
    "start_time": "2023-11-22T18:02:52.483Z"
   },
   {
    "duration": 2,
    "start_time": "2023-11-22T18:02:52.513Z"
   },
   {
    "duration": 3,
    "start_time": "2023-11-22T18:02:52.517Z"
   },
   {
    "duration": 7,
    "start_time": "2023-11-22T18:05:40.184Z"
   },
   {
    "duration": 9,
    "start_time": "2023-11-22T18:07:00.576Z"
   },
   {
    "duration": 17,
    "start_time": "2023-11-22T18:18:42.530Z"
   },
   {
    "duration": 4,
    "start_time": "2023-11-22T18:19:06.578Z"
   },
   {
    "duration": 15,
    "start_time": "2023-11-22T18:20:23.531Z"
   },
   {
    "duration": 6,
    "start_time": "2023-11-22T18:20:49.771Z"
   },
   {
    "duration": 7,
    "start_time": "2023-11-22T18:21:42.467Z"
   },
   {
    "duration": 6,
    "start_time": "2023-11-22T18:22:52.948Z"
   },
   {
    "duration": 40,
    "start_time": "2023-11-22T18:24:22.341Z"
   },
   {
    "duration": 5,
    "start_time": "2023-11-22T18:24:37.422Z"
   },
   {
    "duration": 107,
    "start_time": "2023-11-22T18:25:47.087Z"
   },
   {
    "duration": 6,
    "start_time": "2023-11-22T18:25:56.766Z"
   },
   {
    "duration": 7,
    "start_time": "2023-11-22T18:26:34.351Z"
   },
   {
    "duration": 8,
    "start_time": "2023-11-22T18:33:08.556Z"
   },
   {
    "duration": 7,
    "start_time": "2023-11-22T18:33:23.348Z"
   },
   {
    "duration": 15,
    "start_time": "2023-11-22T18:33:46.084Z"
   },
   {
    "duration": 72,
    "start_time": "2023-11-22T18:33:59.520Z"
   },
   {
    "duration": 16,
    "start_time": "2023-11-22T18:33:59.594Z"
   },
   {
    "duration": 16,
    "start_time": "2023-11-22T18:33:59.612Z"
   },
   {
    "duration": 30,
    "start_time": "2023-11-22T18:33:59.630Z"
   },
   {
    "duration": 33,
    "start_time": "2023-11-22T18:33:59.663Z"
   },
   {
    "duration": 3,
    "start_time": "2023-11-22T18:33:59.698Z"
   },
   {
    "duration": 8,
    "start_time": "2023-11-22T18:33:59.703Z"
   },
   {
    "duration": 4,
    "start_time": "2023-11-22T18:33:59.712Z"
   },
   {
    "duration": 6,
    "start_time": "2023-11-22T18:33:59.751Z"
   },
   {
    "duration": 4,
    "start_time": "2023-11-22T18:33:59.759Z"
   },
   {
    "duration": 35,
    "start_time": "2023-11-22T18:33:59.764Z"
   },
   {
    "duration": 8,
    "start_time": "2023-11-22T18:33:59.801Z"
   },
   {
    "duration": 5,
    "start_time": "2023-11-22T18:33:59.811Z"
   },
   {
    "duration": 38,
    "start_time": "2023-11-22T18:33:59.819Z"
   },
   {
    "duration": 16,
    "start_time": "2023-11-22T18:33:59.858Z"
   },
   {
    "duration": 16,
    "start_time": "2023-11-22T18:33:59.876Z"
   },
   {
    "duration": 4,
    "start_time": "2023-11-22T18:33:59.893Z"
   },
   {
    "duration": 11,
    "start_time": "2023-11-22T18:33:59.898Z"
   },
   {
    "duration": 5,
    "start_time": "2023-11-22T18:33:59.910Z"
   },
   {
    "duration": 2,
    "start_time": "2023-11-22T18:33:59.917Z"
   },
   {
    "duration": 9,
    "start_time": "2023-11-22T18:33:59.951Z"
   },
   {
    "duration": 19,
    "start_time": "2023-11-22T18:33:59.961Z"
   },
   {
    "duration": 4,
    "start_time": "2023-11-22T18:33:59.981Z"
   },
   {
    "duration": 12,
    "start_time": "2023-11-22T18:33:59.987Z"
   },
   {
    "duration": 18,
    "start_time": "2023-11-22T18:34:00.001Z"
   },
   {
    "duration": 35,
    "start_time": "2023-11-22T18:34:00.020Z"
   },
   {
    "duration": 32,
    "start_time": "2023-11-22T18:34:00.057Z"
   },
   {
    "duration": 20,
    "start_time": "2023-11-22T18:34:00.091Z"
   },
   {
    "duration": 35,
    "start_time": "2023-11-22T18:34:00.112Z"
   },
   {
    "duration": 34,
    "start_time": "2023-11-22T18:34:00.148Z"
   },
   {
    "duration": 0,
    "start_time": "2023-11-22T18:34:00.183Z"
   },
   {
    "duration": 0,
    "start_time": "2023-11-22T18:34:00.184Z"
   },
   {
    "duration": 5,
    "start_time": "2023-11-22T18:37:18.943Z"
   },
   {
    "duration": 6,
    "start_time": "2023-11-22T18:39:38.448Z"
   },
   {
    "duration": 7,
    "start_time": "2023-11-22T18:39:40.896Z"
   },
   {
    "duration": 7,
    "start_time": "2023-11-22T18:39:55.113Z"
   },
   {
    "duration": 9,
    "start_time": "2023-11-22T18:40:24.016Z"
   },
   {
    "duration": 9,
    "start_time": "2023-11-22T18:49:14.671Z"
   },
   {
    "duration": 14,
    "start_time": "2023-11-22T18:49:37.271Z"
   },
   {
    "duration": 11,
    "start_time": "2023-11-22T18:50:12.287Z"
   },
   {
    "duration": 12,
    "start_time": "2023-11-22T18:50:31.653Z"
   },
   {
    "duration": 9,
    "start_time": "2023-11-22T18:50:52.697Z"
   },
   {
    "duration": 1806,
    "start_time": "2023-11-22T18:51:26.441Z"
   },
   {
    "duration": 11,
    "start_time": "2023-11-22T18:51:43.306Z"
   },
   {
    "duration": 12,
    "start_time": "2023-11-22T18:51:50.241Z"
   },
   {
    "duration": 5,
    "start_time": "2023-11-22T18:51:53.178Z"
   },
   {
    "duration": 12,
    "start_time": "2023-11-22T18:51:55.320Z"
   },
   {
    "duration": 15,
    "start_time": "2023-11-22T18:52:01.161Z"
   },
   {
    "duration": 11,
    "start_time": "2023-11-22T18:52:20.585Z"
   },
   {
    "duration": 70,
    "start_time": "2023-11-22T18:52:26.748Z"
   },
   {
    "duration": 15,
    "start_time": "2023-11-22T18:52:26.820Z"
   },
   {
    "duration": 28,
    "start_time": "2023-11-22T18:52:26.836Z"
   },
   {
    "duration": 16,
    "start_time": "2023-11-22T18:52:26.867Z"
   },
   {
    "duration": 34,
    "start_time": "2023-11-22T18:52:26.885Z"
   },
   {
    "duration": 3,
    "start_time": "2023-11-22T18:52:26.921Z"
   },
   {
    "duration": 14,
    "start_time": "2023-11-22T18:52:26.951Z"
   },
   {
    "duration": 6,
    "start_time": "2023-11-22T18:52:26.967Z"
   },
   {
    "duration": 7,
    "start_time": "2023-11-22T18:52:26.974Z"
   },
   {
    "duration": 7,
    "start_time": "2023-11-22T18:52:26.982Z"
   },
   {
    "duration": 64,
    "start_time": "2023-11-22T18:52:26.990Z"
   },
   {
    "duration": 18,
    "start_time": "2023-11-22T18:52:27.056Z"
   },
   {
    "duration": 4,
    "start_time": "2023-11-22T18:52:27.076Z"
   },
   {
    "duration": 17,
    "start_time": "2023-11-22T18:52:27.082Z"
   },
   {
    "duration": 27,
    "start_time": "2023-11-22T18:52:27.101Z"
   },
   {
    "duration": 34,
    "start_time": "2023-11-22T18:52:27.130Z"
   },
   {
    "duration": 4,
    "start_time": "2023-11-22T18:52:27.165Z"
   },
   {
    "duration": 13,
    "start_time": "2023-11-22T18:52:27.172Z"
   },
   {
    "duration": 11,
    "start_time": "2023-11-22T18:52:27.186Z"
   },
   {
    "duration": 5,
    "start_time": "2023-11-22T18:52:27.198Z"
   },
   {
    "duration": 11,
    "start_time": "2023-11-22T18:52:27.204Z"
   },
   {
    "duration": 48,
    "start_time": "2023-11-22T18:52:27.216Z"
   },
   {
    "duration": 4,
    "start_time": "2023-11-22T18:52:27.266Z"
   },
   {
    "duration": 14,
    "start_time": "2023-11-22T18:52:27.272Z"
   },
   {
    "duration": 17,
    "start_time": "2023-11-22T18:52:27.288Z"
   },
   {
    "duration": 4,
    "start_time": "2023-11-22T18:52:27.306Z"
   },
   {
    "duration": 12,
    "start_time": "2023-11-22T18:52:27.311Z"
   },
   {
    "duration": 0,
    "start_time": "2023-11-22T18:52:27.352Z"
   },
   {
    "duration": 0,
    "start_time": "2023-11-22T18:52:27.354Z"
   },
   {
    "duration": 0,
    "start_time": "2023-11-22T18:52:27.355Z"
   },
   {
    "duration": 0,
    "start_time": "2023-11-22T18:52:27.357Z"
   },
   {
    "duration": 0,
    "start_time": "2023-11-22T18:52:27.359Z"
   },
   {
    "duration": 0,
    "start_time": "2023-11-22T18:52:27.360Z"
   },
   {
    "duration": 13,
    "start_time": "2023-11-22T18:52:43.097Z"
   },
   {
    "duration": 8,
    "start_time": "2023-11-22T18:52:54.129Z"
   },
   {
    "duration": 225,
    "start_time": "2023-11-22T18:53:01.138Z"
   },
   {
    "duration": 122,
    "start_time": "2023-11-22T18:53:23.866Z"
   },
   {
    "duration": 10,
    "start_time": "2023-11-22T18:53:29.794Z"
   },
   {
    "duration": 8,
    "start_time": "2023-11-22T18:54:01.834Z"
   },
   {
    "duration": 10,
    "start_time": "2023-11-22T18:54:14.010Z"
   },
   {
    "duration": 9,
    "start_time": "2023-11-22T18:54:20.979Z"
   },
   {
    "duration": 6,
    "start_time": "2023-11-22T18:55:52.037Z"
   },
   {
    "duration": 7,
    "start_time": "2023-11-22T18:55:55.579Z"
   },
   {
    "duration": 7,
    "start_time": "2023-11-22T18:56:41.380Z"
   },
   {
    "duration": 6,
    "start_time": "2023-11-22T18:57:14.718Z"
   },
   {
    "duration": 9,
    "start_time": "2023-11-22T18:57:47.670Z"
   },
   {
    "duration": 77,
    "start_time": "2023-11-22T18:57:59.574Z"
   },
   {
    "duration": 9,
    "start_time": "2023-11-22T18:58:25.326Z"
   },
   {
    "duration": 4,
    "start_time": "2023-11-22T18:58:38.190Z"
   },
   {
    "duration": 5,
    "start_time": "2023-11-22T18:58:57.134Z"
   },
   {
    "duration": 8,
    "start_time": "2023-11-22T19:01:35.496Z"
   },
   {
    "duration": 25,
    "start_time": "2023-11-22T19:02:44.354Z"
   },
   {
    "duration": 14,
    "start_time": "2023-11-22T19:03:04.474Z"
   },
   {
    "duration": 3,
    "start_time": "2023-11-22T19:07:44.693Z"
   },
   {
    "duration": 6,
    "start_time": "2023-11-22T19:08:09.093Z"
   },
   {
    "duration": 7,
    "start_time": "2023-11-22T19:09:17.686Z"
   },
   {
    "duration": 8,
    "start_time": "2023-11-22T19:09:23.230Z"
   },
   {
    "duration": 10,
    "start_time": "2023-11-22T19:09:29.942Z"
   },
   {
    "duration": 4,
    "start_time": "2023-11-22T19:11:13.222Z"
   },
   {
    "duration": 5,
    "start_time": "2023-11-22T19:11:24.783Z"
   },
   {
    "duration": 23,
    "start_time": "2023-11-22T19:14:10.570Z"
   },
   {
    "duration": 19,
    "start_time": "2023-11-22T19:14:42.818Z"
   },
   {
    "duration": 3,
    "start_time": "2023-11-22T19:14:59.793Z"
   },
   {
    "duration": 9,
    "start_time": "2023-11-22T19:15:02.178Z"
   },
   {
    "duration": 26,
    "start_time": "2023-11-22T19:15:04.170Z"
   },
   {
    "duration": 101,
    "start_time": "2023-11-22T19:15:31.042Z"
   },
   {
    "duration": 21,
    "start_time": "2023-11-22T19:15:39.002Z"
   },
   {
    "duration": 9,
    "start_time": "2023-11-22T19:16:53.219Z"
   },
   {
    "duration": 122,
    "start_time": "2023-11-22T19:19:39.749Z"
   },
   {
    "duration": 38,
    "start_time": "2023-11-22T19:19:56.941Z"
   },
   {
    "duration": 9,
    "start_time": "2023-11-22T19:21:33.790Z"
   },
   {
    "duration": 9,
    "start_time": "2023-11-22T19:21:55.022Z"
   },
   {
    "duration": 8,
    "start_time": "2023-11-22T19:22:18.799Z"
   },
   {
    "duration": 10,
    "start_time": "2023-11-22T19:22:31.847Z"
   },
   {
    "duration": 40,
    "start_time": "2023-11-22T19:22:40.535Z"
   },
   {
    "duration": 32,
    "start_time": "2023-11-22T19:23:07.383Z"
   },
   {
    "duration": 30,
    "start_time": "2023-11-22T19:23:17.231Z"
   },
   {
    "duration": 13,
    "start_time": "2023-11-22T19:25:17.561Z"
   },
   {
    "duration": 9,
    "start_time": "2023-11-22T19:25:27.562Z"
   },
   {
    "duration": 21,
    "start_time": "2023-11-22T19:26:10.514Z"
   },
   {
    "duration": 20,
    "start_time": "2023-11-22T19:26:24.226Z"
   },
   {
    "duration": 3,
    "start_time": "2023-11-22T19:26:34.746Z"
   },
   {
    "duration": 10,
    "start_time": "2023-11-22T19:26:36.337Z"
   },
   {
    "duration": 24,
    "start_time": "2023-11-22T19:26:37.666Z"
   },
   {
    "duration": 19,
    "start_time": "2023-11-22T19:27:12.114Z"
   },
   {
    "duration": 18,
    "start_time": "2023-11-22T19:27:14.306Z"
   },
   {
    "duration": 19,
    "start_time": "2023-11-22T19:27:25.667Z"
   },
   {
    "duration": 25,
    "start_time": "2023-11-22T19:29:22.316Z"
   },
   {
    "duration": 20,
    "start_time": "2023-11-22T19:30:00.188Z"
   },
   {
    "duration": 30,
    "start_time": "2023-11-22T19:30:17.332Z"
   },
   {
    "duration": 20,
    "start_time": "2023-11-22T19:33:06.079Z"
   },
   {
    "duration": 4,
    "start_time": "2023-11-22T19:35:18.199Z"
   },
   {
    "duration": 5,
    "start_time": "2023-11-22T19:35:23.888Z"
   },
   {
    "duration": 8,
    "start_time": "2023-11-22T19:35:34.080Z"
   },
   {
    "duration": 8,
    "start_time": "2023-11-22T19:35:42.007Z"
   },
   {
    "duration": 19,
    "start_time": "2023-11-22T19:37:12.593Z"
   },
   {
    "duration": 18,
    "start_time": "2023-11-22T19:39:46.803Z"
   },
   {
    "duration": 1323,
    "start_time": "2023-11-22T20:02:22.234Z"
   },
   {
    "duration": 8,
    "start_time": "2023-11-22T20:02:36.477Z"
   },
   {
    "duration": 16,
    "start_time": "2023-11-22T20:09:08.679Z"
   },
   {
    "duration": 12,
    "start_time": "2023-11-22T20:13:22.016Z"
   },
   {
    "duration": 16,
    "start_time": "2023-11-22T20:13:54.001Z"
   },
   {
    "duration": 16,
    "start_time": "2023-11-22T20:15:03.793Z"
   },
   {
    "duration": 18,
    "start_time": "2023-11-22T20:17:46.123Z"
   },
   {
    "duration": 70,
    "start_time": "2023-11-22T20:26:42.298Z"
   },
   {
    "duration": 74,
    "start_time": "2023-11-22T20:27:06.242Z"
   },
   {
    "duration": 17,
    "start_time": "2023-11-22T20:29:03.259Z"
   },
   {
    "duration": 17,
    "start_time": "2023-11-22T20:30:17.052Z"
   },
   {
    "duration": 18,
    "start_time": "2023-11-22T20:31:06.372Z"
   },
   {
    "duration": 17,
    "start_time": "2023-11-22T20:31:26.636Z"
   },
   {
    "duration": 17,
    "start_time": "2023-11-22T20:31:39.092Z"
   },
   {
    "duration": 5,
    "start_time": "2023-11-22T20:33:43.806Z"
   },
   {
    "duration": 21,
    "start_time": "2023-11-22T20:34:02.775Z"
   },
   {
    "duration": 17,
    "start_time": "2023-11-22T20:34:12.133Z"
   },
   {
    "duration": 3,
    "start_time": "2023-11-22T20:35:18.774Z"
   },
   {
    "duration": 18,
    "start_time": "2023-11-22T20:35:56.415Z"
   },
   {
    "duration": 17,
    "start_time": "2023-11-22T20:37:50.585Z"
   },
   {
    "duration": 8,
    "start_time": "2023-11-22T20:39:43.378Z"
   },
   {
    "duration": 19,
    "start_time": "2023-11-22T20:40:12.002Z"
   },
   {
    "duration": 7,
    "start_time": "2023-11-22T20:43:51.604Z"
   },
   {
    "duration": 13,
    "start_time": "2023-11-22T20:44:49.278Z"
   },
   {
    "duration": 21,
    "start_time": "2023-11-22T20:46:24.543Z"
   },
   {
    "duration": 3,
    "start_time": "2023-11-22T20:46:29.919Z"
   },
   {
    "duration": 19,
    "start_time": "2023-11-22T20:49:18.113Z"
   },
   {
    "duration": 754,
    "start_time": "2023-11-22T20:49:53.090Z"
   },
   {
    "duration": 767,
    "start_time": "2023-11-22T20:50:15.817Z"
   },
   {
    "duration": 23,
    "start_time": "2023-11-22T20:52:32.524Z"
   },
   {
    "duration": 29,
    "start_time": "2023-11-22T20:54:36.869Z"
   },
   {
    "duration": 23,
    "start_time": "2023-11-22T20:55:08.541Z"
   },
   {
    "duration": 106,
    "start_time": "2023-11-22T20:55:57.574Z"
   },
   {
    "duration": 16,
    "start_time": "2023-11-22T20:56:06.589Z"
   },
   {
    "duration": 23,
    "start_time": "2023-11-22T20:56:40.430Z"
   },
   {
    "duration": 955,
    "start_time": "2023-11-22T20:58:15.638Z"
   },
   {
    "duration": 26,
    "start_time": "2023-11-22T20:58:31.815Z"
   },
   {
    "duration": 21,
    "start_time": "2023-11-22T20:59:06.591Z"
   },
   {
    "duration": 10,
    "start_time": "2023-11-22T21:01:21.513Z"
   },
   {
    "duration": 10,
    "start_time": "2023-11-22T21:03:38.794Z"
   },
   {
    "duration": 11,
    "start_time": "2023-11-22T21:03:56.826Z"
   },
   {
    "duration": 10,
    "start_time": "2023-11-22T21:04:08.066Z"
   },
   {
    "duration": 69,
    "start_time": "2023-11-22T21:04:14.165Z"
   },
   {
    "duration": 13,
    "start_time": "2023-11-22T21:04:14.236Z"
   },
   {
    "duration": 14,
    "start_time": "2023-11-22T21:04:14.250Z"
   },
   {
    "duration": 10,
    "start_time": "2023-11-22T21:04:14.266Z"
   },
   {
    "duration": 36,
    "start_time": "2023-11-22T21:04:14.277Z"
   },
   {
    "duration": 3,
    "start_time": "2023-11-22T21:04:14.315Z"
   },
   {
    "duration": 8,
    "start_time": "2023-11-22T21:04:14.319Z"
   },
   {
    "duration": 4,
    "start_time": "2023-11-22T21:04:14.352Z"
   },
   {
    "duration": 6,
    "start_time": "2023-11-22T21:04:14.357Z"
   },
   {
    "duration": 4,
    "start_time": "2023-11-22T21:04:14.366Z"
   },
   {
    "duration": 33,
    "start_time": "2023-11-22T21:04:14.373Z"
   },
   {
    "duration": 9,
    "start_time": "2023-11-22T21:04:14.408Z"
   },
   {
    "duration": 34,
    "start_time": "2023-11-22T21:04:14.418Z"
   },
   {
    "duration": 13,
    "start_time": "2023-11-22T21:04:14.453Z"
   },
   {
    "duration": 21,
    "start_time": "2023-11-22T21:04:14.468Z"
   },
   {
    "duration": 15,
    "start_time": "2023-11-22T21:04:14.490Z"
   },
   {
    "duration": 3,
    "start_time": "2023-11-22T21:04:14.507Z"
   },
   {
    "duration": 11,
    "start_time": "2023-11-22T21:04:14.511Z"
   },
   {
    "duration": 29,
    "start_time": "2023-11-22T21:04:14.523Z"
   },
   {
    "duration": 3,
    "start_time": "2023-11-22T21:04:14.554Z"
   },
   {
    "duration": 11,
    "start_time": "2023-11-22T21:04:14.559Z"
   },
   {
    "duration": 15,
    "start_time": "2023-11-22T21:04:14.571Z"
   },
   {
    "duration": 10,
    "start_time": "2023-11-22T21:04:14.587Z"
   },
   {
    "duration": 15,
    "start_time": "2023-11-22T21:04:14.598Z"
   },
   {
    "duration": 15,
    "start_time": "2023-11-22T21:04:14.614Z"
   },
   {
    "duration": 35,
    "start_time": "2023-11-22T21:04:14.630Z"
   },
   {
    "duration": 3,
    "start_time": "2023-11-22T21:04:14.667Z"
   },
   {
    "duration": 12,
    "start_time": "2023-11-22T21:04:14.673Z"
   },
   {
    "duration": 8,
    "start_time": "2023-11-22T21:04:14.687Z"
   },
   {
    "duration": 10,
    "start_time": "2023-11-22T21:04:14.696Z"
   },
   {
    "duration": 2,
    "start_time": "2023-11-22T21:04:14.707Z"
   },
   {
    "duration": 10,
    "start_time": "2023-11-22T21:04:14.711Z"
   },
   {
    "duration": 0,
    "start_time": "2023-11-22T21:04:14.723Z"
   },
   {
    "duration": 0,
    "start_time": "2023-11-22T21:04:14.753Z"
   },
   {
    "duration": 0,
    "start_time": "2023-11-22T21:04:14.754Z"
   },
   {
    "duration": 11,
    "start_time": "2023-11-22T21:04:17.626Z"
   },
   {
    "duration": 703,
    "start_time": "2023-11-25T08:57:49.435Z"
   },
   {
    "duration": 24,
    "start_time": "2023-11-25T08:57:50.140Z"
   },
   {
    "duration": 16,
    "start_time": "2023-11-25T08:57:50.165Z"
   },
   {
    "duration": 13,
    "start_time": "2023-11-25T08:57:50.183Z"
   },
   {
    "duration": 59,
    "start_time": "2023-11-25T08:57:50.198Z"
   },
   {
    "duration": 3,
    "start_time": "2023-11-25T08:57:50.259Z"
   },
   {
    "duration": 26,
    "start_time": "2023-11-25T08:57:50.263Z"
   },
   {
    "duration": 27,
    "start_time": "2023-11-25T08:57:50.291Z"
   },
   {
    "duration": 18,
    "start_time": "2023-11-25T08:57:50.319Z"
   },
   {
    "duration": 8,
    "start_time": "2023-11-25T08:57:50.339Z"
   },
   {
    "duration": 49,
    "start_time": "2023-11-25T08:57:50.348Z"
   },
   {
    "duration": 11,
    "start_time": "2023-11-25T08:57:50.398Z"
   },
   {
    "duration": 20,
    "start_time": "2023-11-25T08:57:50.410Z"
   },
   {
    "duration": 41,
    "start_time": "2023-11-25T08:57:50.432Z"
   },
   {
    "duration": 21,
    "start_time": "2023-11-25T08:57:50.475Z"
   },
   {
    "duration": 20,
    "start_time": "2023-11-25T08:57:50.497Z"
   },
   {
    "duration": 26,
    "start_time": "2023-11-25T08:57:50.518Z"
   },
   {
    "duration": 16,
    "start_time": "2023-11-25T08:57:50.546Z"
   },
   {
    "duration": 17,
    "start_time": "2023-11-25T08:57:50.563Z"
   },
   {
    "duration": 12,
    "start_time": "2023-11-25T08:57:50.582Z"
   },
   {
    "duration": 20,
    "start_time": "2023-11-25T08:57:50.595Z"
   },
   {
    "duration": 17,
    "start_time": "2023-11-25T08:57:50.616Z"
   },
   {
    "duration": 15,
    "start_time": "2023-11-25T08:57:50.634Z"
   },
   {
    "duration": 4,
    "start_time": "2023-11-25T08:57:50.650Z"
   },
   {
    "duration": 40,
    "start_time": "2023-11-25T08:57:50.656Z"
   },
   {
    "duration": 19,
    "start_time": "2023-11-25T08:57:50.698Z"
   },
   {
    "duration": 25,
    "start_time": "2023-11-25T08:57:50.718Z"
   },
   {
    "duration": 29,
    "start_time": "2023-11-25T08:57:50.747Z"
   },
   {
    "duration": 4,
    "start_time": "2023-11-25T08:57:50.777Z"
   },
   {
    "duration": 31,
    "start_time": "2023-11-25T08:57:50.782Z"
   },
   {
    "duration": 34,
    "start_time": "2023-11-25T08:57:50.815Z"
   },
   {
    "duration": 78,
    "start_time": "2023-11-25T08:57:50.850Z"
   },
   {
    "duration": 0,
    "start_time": "2023-11-25T08:57:50.929Z"
   },
   {
    "duration": 0,
    "start_time": "2023-11-25T08:57:50.931Z"
   },
   {
    "duration": 0,
    "start_time": "2023-11-25T08:57:50.931Z"
   },
   {
    "duration": 25,
    "start_time": "2023-11-25T09:01:24.883Z"
   },
   {
    "duration": 3,
    "start_time": "2023-11-25T09:01:33.950Z"
   },
   {
    "duration": 33,
    "start_time": "2023-11-25T09:03:00.142Z"
   },
   {
    "duration": 26,
    "start_time": "2023-11-25T09:05:52.345Z"
   },
   {
    "duration": 3,
    "start_time": "2023-11-25T09:05:56.818Z"
   },
   {
    "duration": 32,
    "start_time": "2023-11-25T09:06:30.273Z"
   },
   {
    "duration": 31,
    "start_time": "2023-11-25T09:14:31.532Z"
   },
   {
    "duration": 55,
    "start_time": "2023-11-25T09:17:09.445Z"
   },
   {
    "duration": 28,
    "start_time": "2023-11-25T09:18:29.237Z"
   },
   {
    "duration": 9,
    "start_time": "2023-11-25T09:19:23.882Z"
   },
   {
    "duration": 13,
    "start_time": "2023-11-25T09:19:52.230Z"
   },
   {
    "duration": 11,
    "start_time": "2023-11-25T09:20:33.779Z"
   },
   {
    "duration": 179,
    "start_time": "2023-11-25T09:21:19.859Z"
   },
   {
    "duration": 14,
    "start_time": "2023-11-25T09:21:27.548Z"
   },
   {
    "duration": 1754,
    "start_time": "2023-11-25T09:24:47.062Z"
   },
   {
    "duration": 41,
    "start_time": "2023-11-25T09:25:33.606Z"
   },
   {
    "duration": 85,
    "start_time": "2023-11-25T09:33:56.849Z"
   },
   {
    "duration": 25,
    "start_time": "2023-11-25T09:34:34.493Z"
   },
   {
    "duration": 31,
    "start_time": "2023-11-25T09:39:19.249Z"
   },
   {
    "duration": 26,
    "start_time": "2023-11-25T09:39:51.992Z"
   },
   {
    "duration": 22,
    "start_time": "2023-11-25T09:40:02.361Z"
   },
   {
    "duration": 25,
    "start_time": "2023-11-25T09:40:16.376Z"
   },
   {
    "duration": 23,
    "start_time": "2023-11-25T09:40:31.049Z"
   },
   {
    "duration": 26,
    "start_time": "2023-11-25T09:40:47.137Z"
   },
   {
    "duration": 136,
    "start_time": "2023-11-25T09:43:03.936Z"
   },
   {
    "duration": 110,
    "start_time": "2023-11-25T09:43:32.227Z"
   },
   {
    "duration": 88,
    "start_time": "2023-11-25T09:43:44.289Z"
   },
   {
    "duration": 27,
    "start_time": "2023-11-25T09:44:52.457Z"
   },
   {
    "duration": 1373,
    "start_time": "2023-11-25T09:45:45.780Z"
   },
   {
    "duration": 28,
    "start_time": "2023-11-25T09:46:28.413Z"
   },
   {
    "duration": 22,
    "start_time": "2023-11-25T09:47:07.053Z"
   },
   {
    "duration": 30,
    "start_time": "2023-11-25T09:49:14.710Z"
   },
   {
    "duration": 29,
    "start_time": "2023-11-25T09:49:50.766Z"
   },
   {
    "duration": 31,
    "start_time": "2023-11-25T09:53:23.444Z"
   },
   {
    "duration": 35,
    "start_time": "2023-11-25T09:53:33.829Z"
   },
   {
    "duration": 21,
    "start_time": "2023-11-25T09:59:56.606Z"
   },
   {
    "duration": 5,
    "start_time": "2023-11-25T10:00:42.958Z"
   },
   {
    "duration": 13,
    "start_time": "2023-11-25T10:08:19.963Z"
   },
   {
    "duration": 27,
    "start_time": "2023-11-25T10:10:51.727Z"
   },
   {
    "duration": 7,
    "start_time": "2023-11-25T10:17:44.089Z"
   },
   {
    "duration": 6,
    "start_time": "2023-11-25T10:17:50.832Z"
   },
   {
    "duration": 12,
    "start_time": "2023-11-25T10:17:54.273Z"
   },
   {
    "duration": 3,
    "start_time": "2023-11-25T10:21:53.524Z"
   },
   {
    "duration": 3,
    "start_time": "2023-11-25T10:21:55.644Z"
   },
   {
    "duration": 4,
    "start_time": "2023-11-25T10:23:02.828Z"
   },
   {
    "duration": 4,
    "start_time": "2023-11-25T10:23:05.013Z"
   },
   {
    "duration": 7,
    "start_time": "2023-11-25T10:23:06.957Z"
   },
   {
    "duration": 7,
    "start_time": "2023-11-25T10:24:17.909Z"
   },
   {
    "duration": 7,
    "start_time": "2023-11-25T10:24:36.613Z"
   },
   {
    "duration": 7,
    "start_time": "2023-11-25T10:24:47.238Z"
   },
   {
    "duration": 9,
    "start_time": "2023-11-25T10:24:54.918Z"
   },
   {
    "duration": 83,
    "start_time": "2023-11-25T10:32:29.796Z"
   },
   {
    "duration": 81,
    "start_time": "2023-11-25T10:32:40.874Z"
   },
   {
    "duration": 84,
    "start_time": "2023-11-25T10:32:54.403Z"
   },
   {
    "duration": 4,
    "start_time": "2023-11-25T10:33:23.556Z"
   },
   {
    "duration": 5,
    "start_time": "2023-11-25T10:34:10.244Z"
   },
   {
    "duration": 6,
    "start_time": "2023-11-25T10:35:10.637Z"
   },
   {
    "duration": 12,
    "start_time": "2023-11-25T10:35:58.221Z"
   },
   {
    "duration": 8,
    "start_time": "2023-11-25T10:38:17.951Z"
   },
   {
    "duration": 13,
    "start_time": "2023-11-25T10:38:38.311Z"
   },
   {
    "duration": 6,
    "start_time": "2023-11-25T10:40:42.953Z"
   },
   {
    "duration": 8,
    "start_time": "2023-11-25T10:47:49.102Z"
   },
   {
    "duration": 7,
    "start_time": "2023-11-25T10:49:13.542Z"
   },
   {
    "duration": 7,
    "start_time": "2023-11-25T10:50:40.783Z"
   },
   {
    "duration": 17,
    "start_time": "2023-11-25T10:57:54.492Z"
   },
   {
    "duration": 80,
    "start_time": "2023-11-25T11:00:30.615Z"
   },
   {
    "duration": 12,
    "start_time": "2023-11-25T11:00:41.422Z"
   },
   {
    "duration": 13,
    "start_time": "2023-11-25T11:01:30.743Z"
   },
   {
    "duration": 23,
    "start_time": "2023-11-25T11:01:46.967Z"
   },
   {
    "duration": 7,
    "start_time": "2023-11-25T11:03:47.048Z"
   },
   {
    "duration": 21,
    "start_time": "2023-11-25T11:03:58.480Z"
   },
   {
    "duration": 25,
    "start_time": "2023-11-25T11:27:33.024Z"
   },
   {
    "duration": 25,
    "start_time": "2023-11-25T11:29:36.370Z"
   },
   {
    "duration": 22,
    "start_time": "2023-11-25T11:31:19.699Z"
   },
   {
    "duration": 246,
    "start_time": "2023-11-25T11:33:25.404Z"
   },
   {
    "duration": 16,
    "start_time": "2023-11-25T11:33:47.140Z"
   },
   {
    "duration": 20,
    "start_time": "2023-11-25T11:36:15.086Z"
   },
   {
    "duration": 14,
    "start_time": "2023-11-25T11:44:53.481Z"
   },
   {
    "duration": 76,
    "start_time": "2023-11-25T11:46:21.037Z"
   },
   {
    "duration": 15,
    "start_time": "2023-11-25T11:46:49.261Z"
   },
   {
    "duration": 10,
    "start_time": "2023-11-25T11:47:08.509Z"
   },
   {
    "duration": 14,
    "start_time": "2023-11-25T11:48:10.678Z"
   },
   {
    "duration": 8,
    "start_time": "2023-11-25T11:48:40.046Z"
   },
   {
    "duration": 8,
    "start_time": "2023-11-25T11:51:10.432Z"
   },
   {
    "duration": 12,
    "start_time": "2023-11-25T11:51:28.216Z"
   },
   {
    "duration": 19,
    "start_time": "2023-11-25T11:51:56.777Z"
   },
   {
    "duration": 18,
    "start_time": "2023-11-25T11:52:46.886Z"
   },
   {
    "duration": 23,
    "start_time": "2023-11-25T11:53:49.145Z"
   },
   {
    "duration": 14,
    "start_time": "2023-11-25T11:56:00.123Z"
   },
   {
    "duration": 75,
    "start_time": "2023-11-25T11:56:09.445Z"
   },
   {
    "duration": 16,
    "start_time": "2023-11-25T11:56:09.521Z"
   },
   {
    "duration": 14,
    "start_time": "2023-11-25T11:56:09.538Z"
   },
   {
    "duration": 15,
    "start_time": "2023-11-25T11:56:09.554Z"
   },
   {
    "duration": 51,
    "start_time": "2023-11-25T11:56:09.571Z"
   },
   {
    "duration": 4,
    "start_time": "2023-11-25T11:56:09.623Z"
   },
   {
    "duration": 9,
    "start_time": "2023-11-25T11:56:09.628Z"
   },
   {
    "duration": 4,
    "start_time": "2023-11-25T11:56:09.638Z"
   },
   {
    "duration": 7,
    "start_time": "2023-11-25T11:56:09.644Z"
   },
   {
    "duration": 4,
    "start_time": "2023-11-25T11:56:09.653Z"
   },
   {
    "duration": 65,
    "start_time": "2023-11-25T11:56:09.659Z"
   },
   {
    "duration": 10,
    "start_time": "2023-11-25T11:56:09.726Z"
   },
   {
    "duration": 5,
    "start_time": "2023-11-25T11:56:09.738Z"
   },
   {
    "duration": 22,
    "start_time": "2023-11-25T11:56:09.745Z"
   },
   {
    "duration": 18,
    "start_time": "2023-11-25T11:56:09.768Z"
   },
   {
    "duration": 38,
    "start_time": "2023-11-25T11:56:09.787Z"
   },
   {
    "duration": 3,
    "start_time": "2023-11-25T11:56:09.827Z"
   },
   {
    "duration": 14,
    "start_time": "2023-11-25T11:56:09.832Z"
   },
   {
    "duration": 6,
    "start_time": "2023-11-25T11:56:09.847Z"
   },
   {
    "duration": 4,
    "start_time": "2023-11-25T11:56:09.854Z"
   },
   {
    "duration": 11,
    "start_time": "2023-11-25T11:56:09.859Z"
   },
   {
    "duration": 13,
    "start_time": "2023-11-25T11:56:09.872Z"
   },
   {
    "duration": 37,
    "start_time": "2023-11-25T11:56:09.886Z"
   },
   {
    "duration": 3,
    "start_time": "2023-11-25T11:56:09.925Z"
   },
   {
    "duration": 15,
    "start_time": "2023-11-25T11:56:09.929Z"
   },
   {
    "duration": 20,
    "start_time": "2023-11-25T11:56:09.945Z"
   },
   {
    "duration": 4,
    "start_time": "2023-11-25T11:56:09.967Z"
   },
   {
    "duration": 46,
    "start_time": "2023-11-25T11:56:09.976Z"
   },
   {
    "duration": 4,
    "start_time": "2023-11-25T11:56:10.024Z"
   },
   {
    "duration": 48,
    "start_time": "2023-11-25T11:56:10.030Z"
   },
   {
    "duration": 3,
    "start_time": "2023-11-25T11:56:10.080Z"
   },
   {
    "duration": 28,
    "start_time": "2023-11-25T11:56:10.084Z"
   },
   {
    "duration": 13,
    "start_time": "2023-11-25T11:56:10.114Z"
   },
   {
    "duration": 5,
    "start_time": "2023-11-25T11:56:10.129Z"
   },
   {
    "duration": 31,
    "start_time": "2023-11-25T11:56:10.136Z"
   },
   {
    "duration": 8,
    "start_time": "2023-11-25T11:56:10.169Z"
   },
   {
    "duration": 43,
    "start_time": "2023-11-25T11:56:10.179Z"
   },
   {
    "duration": 2,
    "start_time": "2023-11-25T11:56:10.224Z"
   },
   {
    "duration": 27,
    "start_time": "2023-11-25T12:03:04.760Z"
   },
   {
    "duration": 27,
    "start_time": "2023-11-25T12:03:45.408Z"
   },
   {
    "duration": 45,
    "start_time": "2023-11-25T16:17:19.445Z"
   },
   {
    "duration": 496,
    "start_time": "2023-11-25T16:17:50.769Z"
   },
   {
    "duration": 21,
    "start_time": "2023-11-25T16:17:51.267Z"
   },
   {
    "duration": 15,
    "start_time": "2023-11-25T16:17:51.289Z"
   },
   {
    "duration": 9,
    "start_time": "2023-11-25T16:17:51.306Z"
   },
   {
    "duration": 41,
    "start_time": "2023-11-25T16:17:51.316Z"
   },
   {
    "duration": 3,
    "start_time": "2023-11-25T16:17:51.359Z"
   },
   {
    "duration": 12,
    "start_time": "2023-11-25T16:17:51.363Z"
   },
   {
    "duration": 4,
    "start_time": "2023-11-25T16:17:51.377Z"
   },
   {
    "duration": 9,
    "start_time": "2023-11-25T16:17:51.382Z"
   },
   {
    "duration": 4,
    "start_time": "2023-11-25T16:17:51.394Z"
   },
   {
    "duration": 58,
    "start_time": "2023-11-25T16:17:51.399Z"
   },
   {
    "duration": 10,
    "start_time": "2023-11-25T16:17:51.459Z"
   },
   {
    "duration": 16,
    "start_time": "2023-11-25T16:17:51.471Z"
   },
   {
    "duration": 25,
    "start_time": "2023-11-25T16:17:51.488Z"
   },
   {
    "duration": 33,
    "start_time": "2023-11-25T16:17:51.514Z"
   },
   {
    "duration": 22,
    "start_time": "2023-11-25T16:17:51.549Z"
   },
   {
    "duration": 5,
    "start_time": "2023-11-25T16:17:51.573Z"
   },
   {
    "duration": 17,
    "start_time": "2023-11-25T16:17:51.580Z"
   },
   {
    "duration": 8,
    "start_time": "2023-11-25T16:17:51.598Z"
   },
   {
    "duration": 4,
    "start_time": "2023-11-25T16:17:51.631Z"
   },
   {
    "duration": 19,
    "start_time": "2023-11-25T16:17:51.637Z"
   },
   {
    "duration": 21,
    "start_time": "2023-11-25T16:17:51.658Z"
   },
   {
    "duration": 22,
    "start_time": "2023-11-25T16:17:51.680Z"
   },
   {
    "duration": 3,
    "start_time": "2023-11-25T16:17:51.704Z"
   },
   {
    "duration": 23,
    "start_time": "2023-11-25T16:17:51.709Z"
   },
   {
    "duration": 21,
    "start_time": "2023-11-25T16:17:51.734Z"
   },
   {
    "duration": 5,
    "start_time": "2023-11-25T16:17:51.756Z"
   },
   {
    "duration": 20,
    "start_time": "2023-11-25T16:17:51.764Z"
   },
   {
    "duration": 4,
    "start_time": "2023-11-25T16:17:51.786Z"
   },
   {
    "duration": 41,
    "start_time": "2023-11-25T16:17:51.791Z"
   },
   {
    "duration": 3,
    "start_time": "2023-11-25T16:17:51.834Z"
   },
   {
    "duration": 32,
    "start_time": "2023-11-25T16:17:51.839Z"
   },
   {
    "duration": 13,
    "start_time": "2023-11-25T16:17:51.873Z"
   },
   {
    "duration": 7,
    "start_time": "2023-11-25T16:17:51.888Z"
   },
   {
    "duration": 30,
    "start_time": "2023-11-25T16:17:51.896Z"
   },
   {
    "duration": 15,
    "start_time": "2023-11-25T16:17:51.928Z"
   },
   {
    "duration": 31,
    "start_time": "2023-11-25T16:17:51.945Z"
   },
   {
    "duration": 9,
    "start_time": "2023-11-25T16:17:51.977Z"
   },
   {
    "duration": 16,
    "start_time": "2023-11-25T16:20:27.136Z"
   },
   {
    "duration": 13,
    "start_time": "2023-11-25T16:25:36.425Z"
   },
   {
    "duration": 4,
    "start_time": "2023-11-25T16:28:50.058Z"
   },
   {
    "duration": 5,
    "start_time": "2023-11-25T16:29:35.118Z"
   },
   {
    "duration": 11,
    "start_time": "2023-11-25T16:29:56.572Z"
   },
   {
    "duration": 9,
    "start_time": "2023-11-25T16:30:28.855Z"
   },
   {
    "duration": 701,
    "start_time": "2023-11-26T11:08:25.441Z"
   },
   {
    "duration": 22,
    "start_time": "2023-11-26T11:08:26.144Z"
   },
   {
    "duration": 15,
    "start_time": "2023-11-26T11:08:26.167Z"
   },
   {
    "duration": 12,
    "start_time": "2023-11-26T11:08:26.184Z"
   },
   {
    "duration": 45,
    "start_time": "2023-11-26T11:08:26.198Z"
   },
   {
    "duration": 3,
    "start_time": "2023-11-26T11:08:26.244Z"
   },
   {
    "duration": 9,
    "start_time": "2023-11-26T11:08:26.249Z"
   },
   {
    "duration": 4,
    "start_time": "2023-11-26T11:08:26.259Z"
   },
   {
    "duration": 16,
    "start_time": "2023-11-26T11:08:26.264Z"
   },
   {
    "duration": 4,
    "start_time": "2023-11-26T11:08:26.283Z"
   },
   {
    "duration": 59,
    "start_time": "2023-11-26T11:08:26.289Z"
   },
   {
    "duration": 10,
    "start_time": "2023-11-26T11:08:26.350Z"
   },
   {
    "duration": 3,
    "start_time": "2023-11-26T11:08:26.361Z"
   },
   {
    "duration": 16,
    "start_time": "2023-11-26T11:08:26.366Z"
   },
   {
    "duration": 40,
    "start_time": "2023-11-26T11:08:26.384Z"
   },
   {
    "duration": 17,
    "start_time": "2023-11-26T11:08:26.425Z"
   },
   {
    "duration": 3,
    "start_time": "2023-11-26T11:08:26.444Z"
   },
   {
    "duration": 12,
    "start_time": "2023-11-26T11:08:26.449Z"
   },
   {
    "duration": 6,
    "start_time": "2023-11-26T11:08:26.462Z"
   },
   {
    "duration": 3,
    "start_time": "2023-11-26T11:08:26.470Z"
   },
   {
    "duration": 10,
    "start_time": "2023-11-26T11:08:26.475Z"
   },
   {
    "duration": 43,
    "start_time": "2023-11-26T11:08:26.487Z"
   },
   {
    "duration": 11,
    "start_time": "2023-11-26T11:08:26.532Z"
   },
   {
    "duration": 4,
    "start_time": "2023-11-26T11:08:26.544Z"
   },
   {
    "duration": 14,
    "start_time": "2023-11-26T11:08:26.550Z"
   },
   {
    "duration": 17,
    "start_time": "2023-11-26T11:08:26.566Z"
   },
   {
    "duration": 4,
    "start_time": "2023-11-26T11:08:26.585Z"
   },
   {
    "duration": 17,
    "start_time": "2023-11-26T11:08:26.622Z"
   },
   {
    "duration": 4,
    "start_time": "2023-11-26T11:08:26.640Z"
   },
   {
    "duration": 11,
    "start_time": "2023-11-26T11:08:26.645Z"
   },
   {
    "duration": 3,
    "start_time": "2023-11-26T11:08:26.657Z"
   },
   {
    "duration": 22,
    "start_time": "2023-11-26T11:08:26.661Z"
   },
   {
    "duration": 39,
    "start_time": "2023-11-26T11:08:26.685Z"
   },
   {
    "duration": 4,
    "start_time": "2023-11-26T11:08:26.725Z"
   },
   {
    "duration": 12,
    "start_time": "2023-11-26T11:08:26.730Z"
   },
   {
    "duration": 6,
    "start_time": "2023-11-26T11:08:26.744Z"
   },
   {
    "duration": 22,
    "start_time": "2023-11-26T11:08:26.752Z"
   },
   {
    "duration": 13,
    "start_time": "2023-11-26T11:08:26.775Z"
   },
   {
    "duration": 4,
    "start_time": "2023-11-26T11:08:26.822Z"
   },
   {
    "duration": 11,
    "start_time": "2023-11-26T11:08:26.827Z"
   },
   {
    "duration": 6,
    "start_time": "2023-11-26T11:13:06.594Z"
   },
   {
    "duration": 8,
    "start_time": "2023-11-26T11:15:44.777Z"
   },
   {
    "duration": 68,
    "start_time": "2023-11-26T11:20:55.587Z"
   },
   {
    "duration": 4,
    "start_time": "2023-11-26T11:21:05.892Z"
   },
   {
    "duration": 7,
    "start_time": "2023-11-26T11:21:21.203Z"
   },
   {
    "duration": 20,
    "start_time": "2023-11-26T11:25:20.111Z"
   },
   {
    "duration": 22,
    "start_time": "2023-11-26T11:25:50.779Z"
   },
   {
    "duration": 22,
    "start_time": "2023-11-26T11:27:20.839Z"
   },
   {
    "duration": 22,
    "start_time": "2023-11-26T11:31:29.483Z"
   },
   {
    "duration": 70,
    "start_time": "2023-11-26T11:32:52.443Z"
   },
   {
    "duration": 22,
    "start_time": "2023-11-26T11:33:02.019Z"
   },
   {
    "duration": 5,
    "start_time": "2023-11-26T11:33:35.611Z"
   },
   {
    "duration": 21,
    "start_time": "2023-11-26T11:34:54.924Z"
   },
   {
    "duration": 22,
    "start_time": "2023-11-26T11:35:18.404Z"
   },
   {
    "duration": 22,
    "start_time": "2023-11-26T11:36:15.493Z"
   },
   {
    "duration": 20,
    "start_time": "2023-11-26T11:37:35.078Z"
   },
   {
    "duration": 6,
    "start_time": "2023-11-26T11:52:39.399Z"
   },
   {
    "duration": 6,
    "start_time": "2023-11-26T11:52:57.456Z"
   },
   {
    "duration": 521,
    "start_time": "2023-11-26T12:33:10.897Z"
   },
   {
    "duration": 24,
    "start_time": "2023-11-26T12:33:11.419Z"
   },
   {
    "duration": 25,
    "start_time": "2023-11-26T12:33:11.445Z"
   },
   {
    "duration": 24,
    "start_time": "2023-11-26T12:33:11.471Z"
   },
   {
    "duration": 45,
    "start_time": "2023-11-26T12:33:11.498Z"
   },
   {
    "duration": 3,
    "start_time": "2023-11-26T12:33:11.545Z"
   },
   {
    "duration": 22,
    "start_time": "2023-11-26T12:33:11.549Z"
   },
   {
    "duration": 17,
    "start_time": "2023-11-26T12:33:11.573Z"
   },
   {
    "duration": 25,
    "start_time": "2023-11-26T12:33:11.591Z"
   },
   {
    "duration": 13,
    "start_time": "2023-11-26T12:33:11.617Z"
   },
   {
    "duration": 50,
    "start_time": "2023-11-26T12:33:11.632Z"
   },
   {
    "duration": 11,
    "start_time": "2023-11-26T12:33:11.684Z"
   },
   {
    "duration": 15,
    "start_time": "2023-11-26T12:33:11.696Z"
   },
   {
    "duration": 32,
    "start_time": "2023-11-26T12:33:11.714Z"
   },
   {
    "duration": 33,
    "start_time": "2023-11-26T12:33:11.748Z"
   },
   {
    "duration": 24,
    "start_time": "2023-11-26T12:33:11.783Z"
   },
   {
    "duration": 4,
    "start_time": "2023-11-26T12:33:11.809Z"
   },
   {
    "duration": 19,
    "start_time": "2023-11-26T12:33:11.814Z"
   },
   {
    "duration": 10,
    "start_time": "2023-11-26T12:33:11.835Z"
   },
   {
    "duration": 12,
    "start_time": "2023-11-26T12:33:11.847Z"
   },
   {
    "duration": 33,
    "start_time": "2023-11-26T12:33:11.861Z"
   },
   {
    "duration": 45,
    "start_time": "2023-11-26T12:33:11.896Z"
   },
   {
    "duration": 27,
    "start_time": "2023-11-26T12:33:11.942Z"
   },
   {
    "duration": 8,
    "start_time": "2023-11-26T12:33:11.971Z"
   },
   {
    "duration": 32,
    "start_time": "2023-11-26T12:33:11.980Z"
   },
   {
    "duration": 38,
    "start_time": "2023-11-26T12:33:12.014Z"
   },
   {
    "duration": 5,
    "start_time": "2023-11-26T12:33:12.053Z"
   },
   {
    "duration": 27,
    "start_time": "2023-11-26T12:33:12.060Z"
   },
   {
    "duration": 4,
    "start_time": "2023-11-26T12:33:12.089Z"
   },
   {
    "duration": 23,
    "start_time": "2023-11-26T12:33:12.094Z"
   },
   {
    "duration": 24,
    "start_time": "2023-11-26T12:33:12.118Z"
   },
   {
    "duration": 13,
    "start_time": "2023-11-26T12:33:12.144Z"
   },
   {
    "duration": 25,
    "start_time": "2023-11-26T12:33:12.158Z"
   },
   {
    "duration": 45,
    "start_time": "2023-11-26T12:33:12.185Z"
   },
   {
    "duration": 52,
    "start_time": "2023-11-26T12:33:12.232Z"
   },
   {
    "duration": 71,
    "start_time": "2023-11-26T12:33:12.285Z"
   },
   {
    "duration": 29,
    "start_time": "2023-11-26T12:33:12.357Z"
   },
   {
    "duration": 29,
    "start_time": "2023-11-26T12:33:12.387Z"
   },
   {
    "duration": 18,
    "start_time": "2023-11-26T12:33:12.418Z"
   },
   {
    "duration": 22,
    "start_time": "2023-11-26T12:33:12.438Z"
   },
   {
    "duration": 45,
    "start_time": "2023-11-26T12:33:12.463Z"
   },
   {
    "duration": 46,
    "start_time": "2023-11-26T20:08:00.444Z"
   },
   {
    "duration": 509,
    "start_time": "2023-11-26T20:08:06.553Z"
   },
   {
    "duration": 22,
    "start_time": "2023-11-26T20:08:07.064Z"
   },
   {
    "duration": 15,
    "start_time": "2023-11-26T20:08:07.087Z"
   },
   {
    "duration": 10,
    "start_time": "2023-11-26T20:08:07.104Z"
   },
   {
    "duration": 34,
    "start_time": "2023-11-26T20:08:07.131Z"
   },
   {
    "duration": 3,
    "start_time": "2023-11-26T20:08:07.167Z"
   },
   {
    "duration": 11,
    "start_time": "2023-11-26T20:08:07.171Z"
   },
   {
    "duration": 32,
    "start_time": "2023-11-26T20:08:07.183Z"
   },
   {
    "duration": 13,
    "start_time": "2023-11-26T20:08:07.217Z"
   },
   {
    "duration": 4,
    "start_time": "2023-11-26T20:08:07.233Z"
   },
   {
    "duration": 61,
    "start_time": "2023-11-26T20:08:07.238Z"
   },
   {
    "duration": 12,
    "start_time": "2023-11-26T20:08:07.302Z"
   },
   {
    "duration": 14,
    "start_time": "2023-11-26T20:08:07.316Z"
   },
   {
    "duration": 16,
    "start_time": "2023-11-26T20:08:07.332Z"
   },
   {
    "duration": 22,
    "start_time": "2023-11-26T20:08:07.349Z"
   },
   {
    "duration": 17,
    "start_time": "2023-11-26T20:08:07.373Z"
   },
   {
    "duration": 4,
    "start_time": "2023-11-26T20:08:07.391Z"
   },
   {
    "duration": 38,
    "start_time": "2023-11-26T20:08:07.396Z"
   },
   {
    "duration": 9,
    "start_time": "2023-11-26T20:08:07.435Z"
   },
   {
    "duration": 7,
    "start_time": "2023-11-26T20:08:07.445Z"
   },
   {
    "duration": 22,
    "start_time": "2023-11-26T20:08:07.454Z"
   },
   {
    "duration": 16,
    "start_time": "2023-11-26T20:08:07.478Z"
   },
   {
    "duration": 19,
    "start_time": "2023-11-26T20:08:07.496Z"
   },
   {
    "duration": 9,
    "start_time": "2023-11-26T20:08:07.517Z"
   },
   {
    "duration": 16,
    "start_time": "2023-11-26T20:08:07.528Z"
   },
   {
    "duration": 20,
    "start_time": "2023-11-26T20:08:07.546Z"
   },
   {
    "duration": 5,
    "start_time": "2023-11-26T20:08:07.568Z"
   },
   {
    "duration": 19,
    "start_time": "2023-11-26T20:08:07.577Z"
   },
   {
    "duration": 4,
    "start_time": "2023-11-26T20:08:07.597Z"
   },
   {
    "duration": 8,
    "start_time": "2023-11-26T20:08:07.631Z"
   },
   {
    "duration": 21,
    "start_time": "2023-11-26T20:08:07.641Z"
   },
   {
    "duration": 12,
    "start_time": "2023-11-26T20:08:07.664Z"
   },
   {
    "duration": 6,
    "start_time": "2023-11-26T20:08:07.677Z"
   },
   {
    "duration": 13,
    "start_time": "2023-11-26T20:08:07.685Z"
   },
   {
    "duration": 37,
    "start_time": "2023-11-26T20:08:07.700Z"
   },
   {
    "duration": 34,
    "start_time": "2023-11-26T20:08:07.739Z"
   },
   {
    "duration": 19,
    "start_time": "2023-11-26T20:08:07.775Z"
   },
   {
    "duration": 10,
    "start_time": "2023-11-26T20:08:07.796Z"
   },
   {
    "duration": 24,
    "start_time": "2023-11-26T20:08:07.807Z"
   },
   {
    "duration": 11,
    "start_time": "2023-11-26T20:08:07.833Z"
   },
   {
    "duration": 23,
    "start_time": "2023-11-26T20:08:07.845Z"
   },
   {
    "duration": 10,
    "start_time": "2023-11-26T20:09:21.142Z"
   },
   {
    "duration": 16,
    "start_time": "2023-11-26T20:16:14.075Z"
   },
   {
    "duration": 18,
    "start_time": "2023-11-26T20:17:24.601Z"
   },
   {
    "duration": 34,
    "start_time": "2023-11-26T20:21:22.295Z"
   },
   {
    "duration": 15,
    "start_time": "2023-11-26T20:21:48.247Z"
   },
   {
    "duration": 15,
    "start_time": "2023-11-26T20:28:21.822Z"
   },
   {
    "duration": 16,
    "start_time": "2023-11-26T20:28:48.446Z"
   },
   {
    "duration": 11,
    "start_time": "2023-11-26T20:28:57.206Z"
   },
   {
    "duration": 20,
    "start_time": "2023-11-26T20:29:49.719Z"
   },
   {
    "duration": 20,
    "start_time": "2023-11-26T20:30:02.190Z"
   },
   {
    "duration": 12,
    "start_time": "2023-11-26T20:30:22.535Z"
   },
   {
    "duration": 1545,
    "start_time": "2023-11-26T20:30:52.312Z"
   },
   {
    "duration": 1340,
    "start_time": "2023-11-26T20:31:33.240Z"
   },
   {
    "duration": 100,
    "start_time": "2023-11-26T20:32:01.152Z"
   },
   {
    "duration": 12,
    "start_time": "2023-11-26T20:32:46.392Z"
   },
   {
    "duration": 11,
    "start_time": "2023-11-26T20:33:03.192Z"
   },
   {
    "duration": 1422,
    "start_time": "2023-11-26T20:33:41.585Z"
   },
   {
    "duration": 1448,
    "start_time": "2023-11-26T20:35:57.043Z"
   },
   {
    "duration": 1383,
    "start_time": "2023-11-26T20:37:25.742Z"
   },
   {
    "duration": 18,
    "start_time": "2023-11-26T20:38:11.076Z"
   },
   {
    "duration": 15,
    "start_time": "2023-11-26T20:38:19.844Z"
   },
   {
    "duration": 112,
    "start_time": "2023-11-26T20:38:46.885Z"
   },
   {
    "duration": 15,
    "start_time": "2023-11-26T20:39:06.221Z"
   },
   {
    "duration": 14,
    "start_time": "2023-11-26T20:40:44.998Z"
   },
   {
    "duration": 14,
    "start_time": "2023-11-26T20:41:24.311Z"
   },
   {
    "duration": 21,
    "start_time": "2023-11-26T20:42:03.944Z"
   },
   {
    "duration": 11,
    "start_time": "2023-11-26T20:42:50.839Z"
   },
   {
    "duration": 18,
    "start_time": "2023-11-26T20:42:57.032Z"
   },
   {
    "duration": 12,
    "start_time": "2023-11-26T20:43:04.615Z"
   },
   {
    "duration": 21,
    "start_time": "2023-11-26T20:51:19.902Z"
   },
   {
    "duration": 20,
    "start_time": "2023-11-26T20:51:32.869Z"
   },
   {
    "duration": 20,
    "start_time": "2023-11-26T20:56:26.177Z"
   },
   {
    "duration": 1487,
    "start_time": "2023-11-26T21:01:36.662Z"
   },
   {
    "duration": 1443,
    "start_time": "2023-11-26T21:04:41.768Z"
   },
   {
    "duration": 26,
    "start_time": "2023-11-26T21:07:00.362Z"
   },
   {
    "duration": 1507,
    "start_time": "2023-11-26T21:10:09.908Z"
   },
   {
    "duration": 1517,
    "start_time": "2023-11-26T21:10:22.780Z"
   },
   {
    "duration": 1783,
    "start_time": "2023-11-26T21:11:19.052Z"
   },
   {
    "duration": 1523,
    "start_time": "2023-11-26T21:12:21.942Z"
   },
   {
    "duration": 29,
    "start_time": "2023-11-26T21:12:46.157Z"
   },
   {
    "duration": 24,
    "start_time": "2023-11-26T21:13:03.301Z"
   },
   {
    "duration": 29,
    "start_time": "2023-11-26T21:13:53.815Z"
   },
   {
    "duration": 1496,
    "start_time": "2023-11-26T21:15:31.255Z"
   },
   {
    "duration": 30,
    "start_time": "2023-11-26T21:16:53.849Z"
   },
   {
    "duration": 1469,
    "start_time": "2023-11-26T21:17:01.912Z"
   },
   {
    "duration": 1423,
    "start_time": "2023-11-26T21:17:30.585Z"
   },
   {
    "duration": 31,
    "start_time": "2023-11-26T21:17:42.481Z"
   },
   {
    "duration": 663,
    "start_time": "2023-11-27T16:43:28.370Z"
   },
   {
    "duration": 23,
    "start_time": "2023-11-27T16:43:29.034Z"
   },
   {
    "duration": 16,
    "start_time": "2023-11-27T16:43:29.059Z"
   },
   {
    "duration": 12,
    "start_time": "2023-11-27T16:43:29.076Z"
   },
   {
    "duration": 46,
    "start_time": "2023-11-27T16:43:29.089Z"
   },
   {
    "duration": 3,
    "start_time": "2023-11-27T16:43:29.137Z"
   },
   {
    "duration": 12,
    "start_time": "2023-11-27T16:43:29.141Z"
   },
   {
    "duration": 6,
    "start_time": "2023-11-27T16:43:29.155Z"
   },
   {
    "duration": 11,
    "start_time": "2023-11-27T16:43:29.162Z"
   },
   {
    "duration": 3,
    "start_time": "2023-11-27T16:43:29.176Z"
   },
   {
    "duration": 53,
    "start_time": "2023-11-27T16:43:29.181Z"
   },
   {
    "duration": 10,
    "start_time": "2023-11-27T16:43:29.235Z"
   },
   {
    "duration": 3,
    "start_time": "2023-11-27T16:43:29.247Z"
   },
   {
    "duration": 16,
    "start_time": "2023-11-27T16:43:29.252Z"
   },
   {
    "duration": 17,
    "start_time": "2023-11-27T16:43:29.270Z"
   },
   {
    "duration": 39,
    "start_time": "2023-11-27T16:43:29.288Z"
   },
   {
    "duration": 4,
    "start_time": "2023-11-27T16:43:29.329Z"
   },
   {
    "duration": 15,
    "start_time": "2023-11-27T16:43:29.334Z"
   },
   {
    "duration": 13,
    "start_time": "2023-11-27T16:43:29.351Z"
   },
   {
    "duration": 6,
    "start_time": "2023-11-27T16:43:29.365Z"
   },
   {
    "duration": 13,
    "start_time": "2023-11-27T16:43:29.372Z"
   },
   {
    "duration": 14,
    "start_time": "2023-11-27T16:43:29.386Z"
   },
   {
    "duration": 29,
    "start_time": "2023-11-27T16:43:29.401Z"
   },
   {
    "duration": 4,
    "start_time": "2023-11-27T16:43:29.431Z"
   },
   {
    "duration": 28,
    "start_time": "2023-11-27T16:43:29.436Z"
   },
   {
    "duration": 21,
    "start_time": "2023-11-27T16:43:29.466Z"
   },
   {
    "duration": 5,
    "start_time": "2023-11-27T16:43:29.489Z"
   },
   {
    "duration": 37,
    "start_time": "2023-11-27T16:43:29.497Z"
   },
   {
    "duration": 3,
    "start_time": "2023-11-27T16:43:29.535Z"
   },
   {
    "duration": 26,
    "start_time": "2023-11-27T16:43:29.540Z"
   },
   {
    "duration": 20,
    "start_time": "2023-11-27T16:43:29.568Z"
   },
   {
    "duration": 12,
    "start_time": "2023-11-27T16:43:29.590Z"
   },
   {
    "duration": 19,
    "start_time": "2023-11-27T16:43:29.603Z"
   },
   {
    "duration": 9,
    "start_time": "2023-11-27T16:43:29.624Z"
   },
   {
    "duration": 11,
    "start_time": "2023-11-27T16:43:29.634Z"
   },
   {
    "duration": 33,
    "start_time": "2023-11-27T16:43:29.646Z"
   },
   {
    "duration": 28,
    "start_time": "2023-11-27T16:43:29.680Z"
   },
   {
    "duration": 14,
    "start_time": "2023-11-27T16:43:29.709Z"
   },
   {
    "duration": 13,
    "start_time": "2023-11-27T16:43:29.724Z"
   },
   {
    "duration": 7,
    "start_time": "2023-11-27T16:43:29.738Z"
   },
   {
    "duration": 22,
    "start_time": "2023-11-27T16:43:29.746Z"
   },
   {
    "duration": 426,
    "start_time": "2023-11-27T17:59:23.565Z"
   },
   {
    "duration": 20,
    "start_time": "2023-11-27T17:59:23.994Z"
   },
   {
    "duration": 14,
    "start_time": "2023-11-27T17:59:24.017Z"
   },
   {
    "duration": 9,
    "start_time": "2023-11-27T17:59:24.033Z"
   },
   {
    "duration": 40,
    "start_time": "2023-11-27T17:59:24.043Z"
   },
   {
    "duration": 3,
    "start_time": "2023-11-27T17:59:24.084Z"
   },
   {
    "duration": 29,
    "start_time": "2023-11-27T17:59:24.089Z"
   },
   {
    "duration": 3,
    "start_time": "2023-11-27T17:59:24.120Z"
   },
   {
    "duration": 8,
    "start_time": "2023-11-27T17:59:24.124Z"
   },
   {
    "duration": 18,
    "start_time": "2023-11-27T17:59:24.133Z"
   },
   {
    "duration": 36,
    "start_time": "2023-11-27T17:59:24.152Z"
   },
   {
    "duration": 23,
    "start_time": "2023-11-27T17:59:24.190Z"
   },
   {
    "duration": 3,
    "start_time": "2023-11-27T17:59:24.216Z"
   },
   {
    "duration": 16,
    "start_time": "2023-11-27T17:59:24.220Z"
   },
   {
    "duration": 18,
    "start_time": "2023-11-27T17:59:24.237Z"
   },
   {
    "duration": 15,
    "start_time": "2023-11-27T17:59:24.256Z"
   },
   {
    "duration": 3,
    "start_time": "2023-11-27T17:59:24.273Z"
   },
   {
    "duration": 41,
    "start_time": "2023-11-27T17:59:24.277Z"
   },
   {
    "duration": 6,
    "start_time": "2023-11-27T17:59:24.319Z"
   },
   {
    "duration": 4,
    "start_time": "2023-11-27T17:59:24.326Z"
   },
   {
    "duration": 17,
    "start_time": "2023-11-27T17:59:24.331Z"
   },
   {
    "duration": 13,
    "start_time": "2023-11-27T17:59:24.350Z"
   },
   {
    "duration": 12,
    "start_time": "2023-11-27T17:59:24.364Z"
   },
   {
    "duration": 4,
    "start_time": "2023-11-27T17:59:24.377Z"
   },
   {
    "duration": 37,
    "start_time": "2023-11-27T17:59:24.382Z"
   },
   {
    "duration": 18,
    "start_time": "2023-11-27T17:59:24.421Z"
   },
   {
    "duration": 5,
    "start_time": "2023-11-27T17:59:24.440Z"
   },
   {
    "duration": 15,
    "start_time": "2023-11-27T17:59:24.447Z"
   },
   {
    "duration": 3,
    "start_time": "2023-11-27T17:59:24.464Z"
   },
   {
    "duration": 9,
    "start_time": "2023-11-27T17:59:24.468Z"
   },
   {
    "duration": 21,
    "start_time": "2023-11-27T17:59:24.512Z"
   },
   {
    "duration": 11,
    "start_time": "2023-11-27T17:59:24.534Z"
   },
   {
    "duration": 3,
    "start_time": "2023-11-27T17:59:24.547Z"
   },
   {
    "duration": 21,
    "start_time": "2023-11-27T17:59:24.551Z"
   },
   {
    "duration": 7,
    "start_time": "2023-11-27T17:59:24.573Z"
   },
   {
    "duration": 43,
    "start_time": "2023-11-27T17:59:24.581Z"
   },
   {
    "duration": 12,
    "start_time": "2023-11-27T17:59:24.625Z"
   },
   {
    "duration": 3,
    "start_time": "2023-11-27T17:59:24.639Z"
   },
   {
    "duration": 11,
    "start_time": "2023-11-27T17:59:24.643Z"
   },
   {
    "duration": 6,
    "start_time": "2023-11-27T17:59:24.657Z"
   },
   {
    "duration": 47,
    "start_time": "2023-11-27T17:59:24.664Z"
   },
   {
    "duration": 286,
    "start_time": "2023-11-27T18:00:29.165Z"
   },
   {
    "duration": 233,
    "start_time": "2023-11-27T18:01:27.179Z"
   },
   {
    "duration": 5,
    "start_time": "2023-11-27T18:05:03.855Z"
   }
  ],
  "colab": {
   "name": "dpp_template_part2.ipynb",
   "provenance": []
  },
  "kernelspec": {
   "display_name": "Python 3 (ipykernel)",
   "language": "python",
   "name": "python3"
  },
  "language_info": {
   "codemirror_mode": {
    "name": "ipython",
    "version": 3
   },
   "file_extension": ".py",
   "mimetype": "text/x-python",
   "name": "python",
   "nbconvert_exporter": "python",
   "pygments_lexer": "ipython3",
   "version": "3.12.3"
  },
  "toc": {
   "base_numbering": 1,
   "nav_menu": {},
   "number_sections": true,
   "sideBar": true,
   "skip_h1_title": true,
   "title_cell": "Table of Contents",
   "title_sidebar": "Contents",
   "toc_cell": false,
   "toc_position": {
    "height": "calc(100% - 180px)",
    "left": "10px",
    "top": "150px",
    "width": "176.943px"
   },
   "toc_section_display": true,
   "toc_window_display": true
  }
 },
 "nbformat": 4,
 "nbformat_minor": 5
}
