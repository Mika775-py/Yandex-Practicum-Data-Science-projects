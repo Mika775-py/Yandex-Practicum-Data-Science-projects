{
 "cells": [
  {
   "cell_type": "markdown",
   "metadata": {
    "id": "-VFbjcb3Awb7"
   },
   "source": [
    "# Исследование объявлений о продаже квартир\n",
    "\n",
    "В вашем распоряжении данные сервиса Яндекс Недвижимость — архив объявлений о продаже квартир в Санкт-Петербурге и соседних населённых пунктах за несколько лет. Вам нужно научиться определять рыночную стоимость объектов недвижимости. Для этого проведите исследовательский анализ данных и установите параметры, влияющие на цену объектов. Это позволит построить автоматизированную систему: она отследит аномалии и мошенническую деятельность.\n",
    "\n",
    "По каждой квартире на продажу доступны два вида данных. Первые вписаны пользователем, вторые — получены автоматически на основе картографических данных. Например, расстояние до центра, аэропорта и других объектов — эти данные автоматически получены из геосервисов. Количество парков и водоёмов также заполняется без участия пользователя."
   ]
  },
  {
   "cell_type": "markdown",
   "metadata": {},
   "source": [
    "<div class=\"alert alert-info\">\n",
    "<b>План работы. \n",
    "    1. Загрузить и изучить датасет.\n",
    "    2. Сделать предобработку данных (найти/заменить пропуски, аномалии, проч.).\n",
    "    3. Провести исследовательский анализ данных в соответствии с заданием.</b>\n",
    "    \n",
    "    Описание данных. \n",
    "    airports_nearest — расстояние до ближайшего аэропорта в метрах (м).\n",
    "    balcony — число балконов\n",
    "    ceiling_height — высота потолков (м)\n",
    "    cityCenters_nearest — расстояние до центра города (м)\n",
    "    days_exposition — сколько дней было размещено объявление (от публикации до снятия)\n",
    "    first_day_exposition — дата публикации\n",
    "    floor — этаж\n",
    "    floors_total — всего этажей в доме\n",
    "    is_apartment — апартаменты (булев тип)\n",
    "    kitchen_area — площадь кухни в квадратных метрах (м²)\n",
    "    last_price — цена на момент снятия с публикации\n",
    "    living_area — жилая площадь в квадратных метрах (м²)\n",
    "    locality_name — название населённого пункта\n",
    "    open_plan — свободная планировка (булев тип)\n",
    "    parks_around3000 — число парков в радиусе 3 км\n",
    "    parks_nearest — расстояние до ближайшего парка (м)\n",
    "    ponds_around3000 — число водоёмов в радиусе 3 км\n",
    "    ponds_nearest — расстояние до ближайшего водоёма (м)\n",
    "    rooms — число комнат\n",
    "    studio — квартира-студия (булев тип)\n",
    "    total_area — общая площадь квартиры в квадратных метрах (м²)\n",
    "    total_images — число фотографий квартиры в объявлении \n",
    "</div>"
   ]
  },
  {
   "cell_type": "markdown",
   "metadata": {
    "id": "aeFLH07FAwb9"
   },
   "source": [
    "### Откроем файл с данными и изучим общую информацию"
   ]
  },
  {
   "cell_type": "code",
   "execution_count": 605,
   "metadata": {
    "id": "7MZxY65pAwb9"
   },
   "outputs": [
    {
     "name": "stdout",
     "output_type": "stream",
     "text": [
      "<class 'pandas.core.frame.DataFrame'>\n",
      "RangeIndex: 23699 entries, 0 to 23698\n",
      "Data columns (total 22 columns):\n",
      " #   Column                Non-Null Count  Dtype  \n",
      "---  ------                --------------  -----  \n",
      " 0   total_images          23699 non-null  int64  \n",
      " 1   last_price            23699 non-null  float64\n",
      " 2   total_area            23699 non-null  float64\n",
      " 3   first_day_exposition  23699 non-null  object \n",
      " 4   rooms                 23699 non-null  int64  \n",
      " 5   ceiling_height        14504 non-null  float64\n",
      " 6   floors_total          23613 non-null  float64\n",
      " 7   living_area           21796 non-null  float64\n",
      " 8   floor                 23699 non-null  int64  \n",
      " 9   is_apartment          2775 non-null   object \n",
      " 10  studio                23699 non-null  bool   \n",
      " 11  open_plan             23699 non-null  bool   \n",
      " 12  kitchen_area          21421 non-null  float64\n",
      " 13  balcony               12180 non-null  float64\n",
      " 14  locality_name         23650 non-null  object \n",
      " 15  airports_nearest      18157 non-null  float64\n",
      " 16  cityCenters_nearest   18180 non-null  float64\n",
      " 17  parks_around3000      18181 non-null  float64\n",
      " 18  parks_nearest         8079 non-null   float64\n",
      " 19  ponds_around3000      18181 non-null  float64\n",
      " 20  ponds_nearest         9110 non-null   float64\n",
      " 21  days_exposition       20518 non-null  float64\n",
      "dtypes: bool(2), float64(14), int64(3), object(3)\n",
      "memory usage: 3.7+ MB\n"
     ]
    },
    {
     "data": {
      "text/plain": [
       "0"
      ]
     },
     "execution_count": 605,
     "metadata": {},
     "output_type": "execute_result"
    }
   ],
   "source": [
    "import pandas as pd\n",
    "\n",
    "data = pd.read_csv('/datasets/real_estate_data.csv', sep='\\t')\n",
    "data.info()\n",
    "data.duplicated().sum()\n"
   ]
  },
  {
   "cell_type": "markdown",
   "metadata": {},
   "source": [
    "<div class=\"alert alert-info\">\n",
    "<b>Вывод: 1. В данных есть пропуски в столбцах ceiling_height, floors_total, living_area, is_apartment, kitchen_area, balcony, locality_name, столбцы геоданных, days_exposition. 2. Типы данных в некоторых столбцах, таких как last_price, first_day_exposition, floors_total, is_apartment, balcony, days_exposition,  необходимо (или рекомендуется для экономии памяти) изменить 3. Выбросы/аномалии присутствуют в нескольких столбцах, это предмет дальнейшего исследования. 4. Явных дубликатов нет. 5. В столбце locality_name есть неявные дубликаты.</b> \n",
    "</div>"
   ]
  },
  {
   "cell_type": "markdown",
   "metadata": {
    "id": "-O5NtivEAwb9"
   },
   "source": [
    "### Выполните предобработку данных"
   ]
  },
  {
   "cell_type": "markdown",
   "metadata": {},
   "source": [
    "1. Заполняем пропуски в столбцах."
   ]
  },
  {
   "cell_type": "markdown",
   "metadata": {},
   "source": [
    "1.1 Заполняем пропуски в столбце \"ceiling_height\". Насколько я понимаю, чисткой/заменой аномальных значений мы должны были заниматься на следующих этапах, а пока заменить nan на медиану. \n",
    "\n",
    "а) Минимальная высота потолков для квартир даже для эконом-класса - 2,5 м (для Санкт-Петербурга и окрестностей предположим, что 2,4 м - тоже реальная высота потолка). Все, что ниже (есть значения от 1 м) - неверно введенные данные, но их так мало, что можно их оставить при подсчете медианы (первая самая частая аномалия - высота 2 м - всего 11 значений). "
   ]
  },
  {
   "cell_type": "code",
   "execution_count": 606,
   "metadata": {},
   "outputs": [
    {
     "name": "stdout",
     "output_type": "stream",
     "text": [
      "2.65\n",
      "[  1.     1.2    1.75   2.     2.2    2.25   2.3    2.34   2.4    2.45\n",
      "   2.46   2.47   2.48   2.49   2.5    2.51   2.52   2.53   2.54   2.55\n",
      "   2.56   2.57   2.58   2.59   2.6    2.61   2.62   2.63   2.64   2.65\n",
      "   2.66   2.67   2.68   2.69   2.7    2.71   2.72   2.73   2.74   2.75\n",
      "   2.76   2.77   2.78   2.79   2.8    2.81   2.82   2.83   2.84   2.85\n",
      "   2.86   2.87   2.88   2.89   2.9    2.91   2.92   2.93   2.94   2.95\n",
      "   2.96   2.97   2.98   2.99   3.     3.01   3.02   3.03   3.04   3.05\n",
      "   3.06   3.07   3.08   3.09   3.1    3.11   3.12   3.13   3.14   3.15\n",
      "   3.16   3.17   3.18   3.2    3.21   3.22   3.23   3.24   3.25   3.26\n",
      "   3.27   3.28   3.29   3.3    3.31   3.32   3.33   3.34   3.35   3.36\n",
      "   3.37   3.38   3.39   3.4    3.42   3.43   3.44   3.45   3.46   3.47\n",
      "   3.48   3.49   3.5    3.51   3.52   3.53   3.54   3.55   3.56   3.57\n",
      "   3.58   3.59   3.6    3.62   3.63   3.65   3.66   3.67   3.68   3.69\n",
      "   3.7    3.75   3.76   3.78   3.8    3.82   3.83   3.84   3.85   3.86\n",
      "   3.87   3.88   3.9    3.93   3.95   3.98   4.     4.06   4.1    4.14\n",
      "   4.15   4.19   4.2    4.25   4.3    4.37   4.4    4.45   4.5    4.65\n",
      "   4.7    4.8    4.9    5.     5.2    5.3    5.5    5.6    5.8    6.\n",
      "   8.     8.3   10.3   14.    20.    22.6   24.    25.    26.    27.\n",
      "  27.5   32.   100.  ]\n"
     ]
    }
   ],
   "source": [
    "ceiling_median = data['ceiling_height'].median()\n",
    "print(ceiling_median)\n",
    "data['ceiling_height']  = data['ceiling_height'].fillna(ceiling_median)\n",
    "temp = data['ceiling_height'].unique()\n",
    "temp.sort()\n",
    "print(temp) # при выводе уже нет никаких пропущенных значений, но все еще есть аномалии, типа высота = 25 метров "
   ]
  },
  {
   "cell_type": "markdown",
   "metadata": {},
   "source": [
    "б) тем не менее, заменим аномальные значения: от 1 м до 2.34 м, а также 8., 8.3, 10.3, 14., 20., 22.6, 100. - на медиану, а правдоподобно выглядящие значения, но с неправильно забитой точкой (24, 25, 26, 27, 27.5, 32) - на соответствующие значения (2.4, 2.5, 2.6, 2.7, 2.75, 3.2). Предположим при этом, что высота потолков до 6 м - реальная высота (ее менять не будем)."
   ]
  },
  {
   "cell_type": "code",
   "execution_count": 607,
   "metadata": {},
   "outputs": [
    {
     "name": "stdout",
     "output_type": "stream",
     "text": [
      "[2.4  2.45 2.46 2.47 2.48 2.49 2.5  2.51 2.52 2.53 2.54 2.55 2.56 2.57\n",
      " 2.58 2.59 2.6  2.61 2.62 2.63 2.64 2.65 2.66 2.67 2.68 2.69 2.7  2.71\n",
      " 2.72 2.73 2.74 2.75 2.76 2.77 2.78 2.79 2.8  2.81 2.82 2.83 2.84 2.85\n",
      " 2.86 2.87 2.88 2.89 2.9  2.91 2.92 2.93 2.94 2.95 2.96 2.97 2.98 2.99\n",
      " 3.   3.01 3.02 3.03 3.04 3.05 3.06 3.07 3.08 3.09 3.1  3.11 3.12 3.13\n",
      " 3.14 3.15 3.16 3.17 3.18 3.2  3.21 3.22 3.23 3.24 3.25 3.26 3.27 3.28\n",
      " 3.29 3.3  3.31 3.32 3.33 3.34 3.35 3.36 3.37 3.38 3.39 3.4  3.42 3.43\n",
      " 3.44 3.45 3.46 3.47 3.48 3.49 3.5  3.51 3.52 3.53 3.54 3.55 3.56 3.57\n",
      " 3.58 3.59 3.6  3.62 3.63 3.65 3.66 3.67 3.68 3.69 3.7  3.75 3.76 3.78\n",
      " 3.8  3.82 3.83 3.84 3.85 3.86 3.87 3.88 3.9  3.93 3.95 3.98 4.   4.06\n",
      " 4.1  4.14 4.15 4.19 4.2  4.25 4.3  4.37 4.4  4.45 4.5  4.65 4.7  4.8\n",
      " 4.9  5.   5.2  5.3  5.5  5.6  5.8  6.  ]\n"
     ]
    }
   ],
   "source": [
    "data.loc[data['ceiling_height'] < 2.4, 'ceiling_height'] = ceiling_median\n",
    "\n",
    "data['ceiling_height'] = (\n",
    "    data['ceiling_height']\n",
    "    .replace([8., 8.3, 10.3, 14., 20., 22.6, 100.], ceiling_median)\n",
    ")\n",
    "\n",
    "data.loc[data['ceiling_height'] > 23, 'ceiling_height'] = data.loc[data['ceiling_height'] > 23, 'ceiling_height'] / 10\n",
    "    \n",
    "temp = data['ceiling_height'].unique()\n",
    "temp.sort()\n",
    "print(temp)"
   ]
  },
  {
   "cell_type": "code",
   "execution_count": 608,
   "metadata": {},
   "outputs": [
    {
     "name": "stdout",
     "output_type": "stream",
     "text": [
      "186       4\n",
      "237       1\n",
      "457      12\n",
      "671       8\n",
      "1757      9\n",
      "         ..\n",
      "22542     3\n",
      "22656    20\n",
      "22808     6\n",
      "23590    18\n",
      "23658     8\n",
      "Name: floor, Length: 86, dtype: int64\n",
      "[16. 11.  5. 14. 12. 26. 24. 27.  9.  6. 17. 25.  3. 23. 19. 18.  4. 22.\n",
      "  8.  2. 10.  7. 13. 15.  1. 20. 28. 36. 21. 35. 34. 60. 29. 33. 52. 37.]\n"
     ]
    }
   ],
   "source": [
    "floor_nan = data.loc[data['floors_total'].isna(), 'floor']\n",
    "print(floor_nan) # оказывается, это просто пропуски (этажи разные), поэтому можно только заменить \n",
    "                 # пропуск на номер этажа, типа это последний этаж\n",
    "data.loc[data['floors_total'].isna(), 'floors_total'] = data.loc[data['floors_total'].isna(), 'floor']\n",
    "temp = data['floors_total'].unique()\n",
    "print(temp)\n",
    "\n",
    "\n",
    "#data['floors_total'].isna().sum() #86 пропусков - скорее всего, это объявления по квартирам с одноэтажными домами \n",
    "# и не было необходимости указывать этаж, поэтому заменим пропуски на единицы\n",
    "#data['floors_total'] = data['floors_total'].fillna(1)\n",
    "#temp = data['floors_total'].unique()\n",
    "#temp.sort()\n",
    "#temp"
   ]
  },
  {
   "cell_type": "code",
   "execution_count": 609,
   "metadata": {},
   "outputs": [
    {
     "name": "stdout",
     "output_type": "stream",
     "text": [
      "18.000000     882\n",
      "17.000000     675\n",
      "30.000000     598\n",
      "16.000000     486\n",
      "20.000000     481\n",
      "             ... \n",
      "34.760002       1\n",
      "44.520216       1\n",
      "131.500000      1\n",
      "71.200000       1\n",
      "16.740000       1\n",
      "Name: living_area, Length: 2441, dtype: int64\n",
      "Empty DataFrame\n",
      "Columns: [total_images, last_price, total_area, first_day_exposition, rooms, ceiling_height, floors_total, living_area, floor, is_apartment, studio, open_plan, kitchen_area, balcony, locality_name, airports_nearest, cityCenters_nearest, parks_around3000, parks_nearest, ponds_around3000, ponds_nearest, days_exposition]\n",
      "Index: []\n",
      "\n",
      "[0 rows x 22 columns]\n"
     ]
    }
   ],
   "source": [
    "#data['living_area'].isna().sum()\n",
    "#print(data['living_area'].unique())\n",
    "la_median = data['living_area']/data['total_area']\n",
    "la_median = la_median.median()\n",
    "data['living_area']  = data['living_area'].fillna(la_median)\n",
    "#print(data['living_area'].value_counts())\n",
    "#print(data.info())\n",
    "#Самое часто встречающееся значение = 0.5679599 похоже на процент от общей площади, \\\n",
    "#поэтому вставляем вместо него долю от общей площади:\n",
    "data.loc[(data['living_area']  < 1), 'living_area'] = \\\n",
    "data.loc[(data['living_area'] < 1), 'total_area'] * data.loc[(data['living_area']  < 1), 'living_area']\n",
    "print(data['living_area'].value_counts())\n",
    "#print(data)\n",
    "\n",
    "print(data.loc[(data['living_area'] > data['total_area']),:]) # строк, где жилая площадь превышает общую, нет\n",
    "\n"
   ]
  },
  {
   "cell_type": "markdown",
   "metadata": {},
   "source": [
    "1.3 Заполняем пропуски в столбце is_apartment. Очевидно, если есть пропуск, то это не апартаменты и нужно заполнить ячейку\n",
    "значением False."
   ]
  },
  {
   "cell_type": "code",
   "execution_count": 610,
   "metadata": {},
   "outputs": [],
   "source": [
    "data['is_apartment'] = data['is_apartment'].fillna(False)\n",
    "#data.info()"
   ]
  },
  {
   "cell_type": "markdown",
   "metadata": {},
   "source": [
    "1.4 Площадь кухни не всегда коррелирует с общей или жилой площадью, поэтому разделим заполнение пропусков в этом столбце на 2 части."
   ]
  },
  {
   "cell_type": "code",
   "execution_count": 611,
   "metadata": {},
   "outputs": [
    {
     "name": "stdout",
     "output_type": "stream",
     "text": [
      "Empty DataFrame\n",
      "Columns: [total_images, last_price, total_area, first_day_exposition, rooms, ceiling_height, floors_total, living_area, floor, is_apartment, studio, open_plan, kitchen_area, balcony, locality_name, airports_nearest, cityCenters_nearest, parks_around3000, parks_nearest, ponds_around3000, ponds_nearest, days_exposition]\n",
      "Index: []\n",
      "\n",
      "[0 rows x 22 columns]\n",
      "<class 'pandas.core.frame.DataFrame'>\n",
      "Int64Index: 23500 entries, 0 to 23698\n",
      "Data columns (total 22 columns):\n",
      " #   Column                Non-Null Count  Dtype  \n",
      "---  ------                --------------  -----  \n",
      " 0   total_images          23500 non-null  int64  \n",
      " 1   last_price            23500 non-null  float64\n",
      " 2   total_area            23500 non-null  float64\n",
      " 3   first_day_exposition  23500 non-null  object \n",
      " 4   rooms                 23500 non-null  int64  \n",
      " 5   ceiling_height        23500 non-null  float64\n",
      " 6   floors_total          23500 non-null  float64\n",
      " 7   living_area           23500 non-null  float64\n",
      " 8   floor                 23500 non-null  int64  \n",
      " 9   is_apartment          23500 non-null  bool   \n",
      " 10  studio                23500 non-null  bool   \n",
      " 11  open_plan             23500 non-null  bool   \n",
      " 12  kitchen_area          23500 non-null  float64\n",
      " 13  balcony               12082 non-null  float64\n",
      " 14  locality_name         23452 non-null  object \n",
      " 15  airports_nearest      18037 non-null  float64\n",
      " 16  cityCenters_nearest   18060 non-null  float64\n",
      " 17  parks_around3000      18061 non-null  float64\n",
      " 18  parks_nearest         8037 non-null   float64\n",
      " 19  ponds_around3000      18061 non-null  float64\n",
      " 20  ponds_nearest         9041 non-null   float64\n",
      " 21  days_exposition       20336 non-null  float64\n",
      "dtypes: bool(3), float64(14), int64(3), object(2)\n",
      "memory usage: 3.7+ MB\n"
     ]
    }
   ],
   "source": [
    "#1. Проверяем, если это студия и у нее не указана площадь кухни, то площадь кухни = 0.\n",
    "\n",
    "#print(len(data[data['kitchen_area'].isna()])) # всего пропусков в столбце\n",
    "data.loc[(data['kitchen_area'].isna() & data['studio'] == True), 'kitchen_area'] = 0 # здесь заменили 149 значений\n",
    "#print(data.info())\n",
    "\n",
    "# 2. Если это не студия - заполняем пропуски медианами в зависимости от кол-ва комнат:\n",
    "for i in data['rooms'].unique():\n",
    "    data.loc[(data['rooms'] == i) & (data['kitchen_area'].isna()), 'kitchen_area'] = \\\n",
    "    data.loc[(data['rooms'] == i), 'kitchen_area'].median()\n",
    "#data.info()\n",
    "\n",
    "#3. проверяем превышение площади кухни над общей площадью:\n",
    "\n",
    "print(data.loc[(data['kitchen_area'] > data['total_area']),:]) # таких строк нет\n",
    "\n",
    "#4. Проверяем  превышение суммы площадей всей площади\n",
    "\n",
    "#print(data.loc[((data['living_area'] + data['kitchen_area']) > data['total_area']),:])\n",
    "temp = data.loc[((data['living_area'] + data['kitchen_area']) > data['total_area']),:]\n",
    "temp['total_area'].count() # 199 строк, где сумма жилой и площади кухни больше общей площади. \n",
    "                           #Получается, где-то в этих строках некорректные данные, но где именно - непоянтно, поэтому\n",
    "                           # думаю, лучше избавиться от таких строк:\n",
    "data = data.loc[((data['living_area'] + data['kitchen_area']) <= data['total_area']),:]\n",
    "data.info()"
   ]
  },
  {
   "cell_type": "markdown",
   "metadata": {},
   "source": [
    "1.5 Заполняем пропуски в столбце balcony - nan заменяем на 0, так как если не указано число, то балконов нет:"
   ]
  },
  {
   "cell_type": "code",
   "execution_count": 612,
   "metadata": {},
   "outputs": [
    {
     "data": {
      "text/plain": [
       "array([0., 2., 1., 5., 4., 3.])"
      ]
     },
     "execution_count": 612,
     "metadata": {},
     "output_type": "execute_result"
    }
   ],
   "source": [
    "data['balcony'] = data['balcony'].fillna(0)\n",
    "data['balcony'].unique()"
   ]
  },
  {
   "cell_type": "markdown",
   "metadata": {},
   "source": [
    "1.6 Заполняем пропуски в столбце locality_name.  Пропуски, скорее всго, появились потому, что имеется ввиду Санкт_Петербург и должен быть еще столбец с адресом (ул. Такая-то, дом Такой-то), но его нет. Пропуcки, на мой взгляд, нужно заменить на \"Санкт-Петербург\"."
   ]
  },
  {
   "cell_type": "code",
   "execution_count": 613,
   "metadata": {},
   "outputs": [],
   "source": [
    "data['locality_name'] = data['locality_name'].fillna('Санкт-Петербург')"
   ]
  },
  {
   "cell_type": "markdown",
   "metadata": {},
   "source": [
    "Не заполняем пропуски в геоданных, полученных автоматически, т.к. мы не можем определить никаких корреляций здесь и если станем заполнять пропуски, это может исказить результаты исследования. "
   ]
  },
  {
   "cell_type": "markdown",
   "metadata": {},
   "source": [
    "1.7 Заполняем пропуски в days_exposition: насколько я понимаю, пропуски- это нули (т.е. квартира висела в продаже в течение 1 дня)."
   ]
  },
  {
   "cell_type": "code",
   "execution_count": 614,
   "metadata": {},
   "outputs": [
    {
     "data": {
      "text/plain": [
       "0          0\n",
       "1         81\n",
       "2        558\n",
       "3        424\n",
       "4        121\n",
       "        ... \n",
       "23694      0\n",
       "23695     45\n",
       "23696      0\n",
       "23697    602\n",
       "23698      0\n",
       "Name: days_exposition, Length: 23500, dtype: int64"
      ]
     },
     "execution_count": 614,
     "metadata": {},
     "output_type": "execute_result"
    }
   ],
   "source": [
    "data['days_exposition'] = data['days_exposition'].fillna(0) \n",
    "data['days_exposition'].astype(int)\n",
    "#temp = data['days_exposition'].unique()\n",
    "#temp\n",
    "#data.info()"
   ]
  },
  {
   "cell_type": "markdown",
   "metadata": {},
   "source": [
    "2. Меняем типы данных. "
   ]
  },
  {
   "cell_type": "code",
   "execution_count": 615,
   "metadata": {},
   "outputs": [
    {
     "name": "stdout",
     "output_type": "stream",
     "text": [
      "<class 'pandas.core.frame.DataFrame'>\n",
      "Int64Index: 23500 entries, 0 to 23698\n",
      "Data columns (total 22 columns):\n",
      " #   Column                Non-Null Count  Dtype         \n",
      "---  ------                --------------  -----         \n",
      " 0   total_images          23500 non-null  int64         \n",
      " 1   last_price            23500 non-null  int64         \n",
      " 2   total_area            23500 non-null  float64       \n",
      " 3   first_day_exposition  23500 non-null  datetime64[ns]\n",
      " 4   rooms                 23500 non-null  int64         \n",
      " 5   ceiling_height        23500 non-null  float64       \n",
      " 6   floors_total          23500 non-null  int64         \n",
      " 7   living_area           23500 non-null  float64       \n",
      " 8   floor                 23500 non-null  int64         \n",
      " 9   is_apartment          23500 non-null  bool          \n",
      " 10  studio                23500 non-null  bool          \n",
      " 11  open_plan             23500 non-null  bool          \n",
      " 12  kitchen_area          23500 non-null  float64       \n",
      " 13  balcony               23500 non-null  int64         \n",
      " 14  locality_name         23500 non-null  object        \n",
      " 15  airports_nearest      18037 non-null  float64       \n",
      " 16  cityCenters_nearest   18060 non-null  float64       \n",
      " 17  parks_around3000      18061 non-null  float64       \n",
      " 18  parks_nearest         8037 non-null   float64       \n",
      " 19  ponds_around3000      18061 non-null  float64       \n",
      " 20  ponds_nearest         9041 non-null   float64       \n",
      " 21  days_exposition       23500 non-null  int64         \n",
      "dtypes: bool(3), datetime64[ns](1), float64(10), int64(7), object(1)\n",
      "memory usage: 3.7+ MB\n"
     ]
    }
   ],
   "source": [
    "data['last_price'] = data['last_price'].astype(int) # т.к. среди значений нет дробных, можно сэкономить память и поменять тип данных на Int\n",
    "data['first_day_exposition'] = data['first_day_exposition'] = pd.to_datetime(data['first_day_exposition'], format='%Y.%m.%d') #меняем тип данных на дату\n",
    "data['floors_total'] = data['floors_total'].astype(int) # т.к. среди значений нет дробных, можно сэкономить память и поменять тип данных на Int\n",
    "data['balcony'] = data['balcony'].astype(int) # т.к. среди значений нет дробных, можно сэкономить память и поменять тип данных на Int\n",
    "data['days_exposition'] = data['days_exposition'].astype(int) # т.к. среди значений нет дробных, можно сэкономить память и поменять тип данных на Int\n",
    "data.info()\n",
    "# в столбце 'is_apartment' уже тип данных поменялся на bool (видимо, при присвоении значений False), так что не меняем его"
   ]
  },
  {
   "cell_type": "markdown",
   "metadata": {
    "id": "7v3vAeTuAwb-"
   },
   "source": [
    "3. Исключаем неявные дубликаты в столбце \"locality_name\""
   ]
  },
  {
   "cell_type": "code",
   "execution_count": 616,
   "metadata": {},
   "outputs": [
    {
     "data": {
      "text/plain": [
       "Санкт-Петербург       15657\n",
       "поселок Мурино          533\n",
       "поселок Шушары          436\n",
       "Всеволожск              394\n",
       "Пушкин                  369\n",
       "                      ...  \n",
       "деревня Каськово          1\n",
       "деревня Снегиревка        1\n",
       "поселок Левашово          1\n",
       "поселок Семиозерье        1\n",
       "поселок Ромашки           1\n",
       "Name: locality_name, Length: 321, dtype: int64"
      ]
     },
     "execution_count": 616,
     "metadata": {},
     "output_type": "execute_result"
    }
   ],
   "source": [
    "#data['locality_name'].unique()\n",
    "data['locality_name'] = (\n",
    "    data['locality_name']\n",
    "    .str.replace('ё', 'е')\n",
    "    .replace(['поселок городского типа', 'городской поселок', 'коттеджный поселок'], 'поселок', regex=True)\n",
    ") \n",
    "sorted = data['locality_name'].sort_values()\n",
    "sorted.value_counts()"
   ]
  },
  {
   "cell_type": "code",
   "execution_count": 617,
   "metadata": {},
   "outputs": [
    {
     "name": "stdout",
     "output_type": "stream",
     "text": [
      "0        3\n",
      "1        1\n",
      "2        3\n",
      "3        4\n",
      "4        1\n",
      "        ..\n",
      "23694    1\n",
      "23695    0\n",
      "23696    6\n",
      "23697    1\n",
      "23698    4\n",
      "Name: weekday, Length: 23500, dtype: int64\n"
     ]
    }
   ],
   "source": [
    "data['meter_price'] = round(data['last_price'] / data['total_area'], 2) # цена 1 кв. м.\n",
    "data['weekday'] = data['first_day_exposition'].dt.weekday # день недели публикации объявления\n",
    "print(data['weekday'])\n",
    "data['month'] = pd.DatetimeIndex(data['first_day_exposition']).month # месяц публикации объявления\n",
    "data['year'] = pd.DatetimeIndex(data['first_day_exposition']).year # год публикации объявления\n"
   ]
  },
  {
   "cell_type": "markdown",
   "metadata": {},
   "source": [
    "3.2. Добавляем столбец \"тип этажа\" - floor_type"
   ]
  },
  {
   "cell_type": "code",
   "execution_count": 618,
   "metadata": {},
   "outputs": [],
   "source": [
    "#data['floor'].unique()\n",
    "rows = data['floor'] == 1 # для начала - только первый этаж\n",
    "data.loc[rows, 'floor_type'] = 'первый' \n",
    "\n",
    "rows = data['floor'] == data['floors_total'] # теперь - последний этаж\n",
    "data.loc[rows, 'floor_type'] = 'последний'\n",
    "\n",
    "data['floor_type'] = data['floor_type'].fillna('другой') # остается только заполнить пропуски третьей категорией - \"другой\"\n",
    "#print(data['floor_type'].head(20))\n",
    "\n"
   ]
  },
  {
   "cell_type": "markdown",
   "metadata": {},
   "source": [
    "3.3. Добавляем столбец с расстоянием до центра города в километрах (переведем из м в км и округлим до ближайших целых значений)."
   ]
  },
  {
   "cell_type": "code",
   "execution_count": 619,
   "metadata": {},
   "outputs": [
    {
     "name": "stdout",
     "output_type": "stream",
     "text": [
      "0        16.0\n",
      "1        19.0\n",
      "2        14.0\n",
      "3         7.0\n",
      "4         8.0\n",
      "         ... \n",
      "23694     4.0\n",
      "23695     NaN\n",
      "23696     NaN\n",
      "23697    10.0\n",
      "23698     NaN\n",
      "Name: dist_to_centre, Length: 23500, dtype: float64\n"
     ]
    }
   ],
   "source": [
    "data['dist_to_centre'] = round(data['cityCenters_nearest']/1000, 0)\n",
    "print(data['dist_to_centre'])"
   ]
  },
  {
   "cell_type": "markdown",
   "metadata": {
    "id": "pPyxrKWTAwb-"
   },
   "source": [
    "### Проведите исследовательский анализ данных"
   ]
  },
  {
   "cell_type": "markdown",
   "metadata": {},
   "source": [
    "4.1. Строим гистограммы / боксплоты, чтобы увидеть аномалии."
   ]
  },
  {
   "cell_type": "markdown",
   "metadata": {},
   "source": [
    "Будем считать, что квартиры более 400 кв.м. - это аномалии"
   ]
  },
  {
   "cell_type": "code",
   "execution_count": 620,
   "metadata": {
    "id": "V2f0D3kLAwb-"
   },
   "outputs": [
    {
     "data": {
      "text/plain": [
       "count    23500.000000\n",
       "mean        60.549031\n",
       "std         35.673829\n",
       "min         14.000000\n",
       "25%         40.000000\n",
       "50%         52.000000\n",
       "75%         70.000000\n",
       "max        900.000000\n",
       "Name: total_area, dtype: float64"
      ]
     },
     "execution_count": 620,
     "metadata": {},
     "output_type": "execute_result"
    },
    {
     "data": {
      "image/png": "[encoded data removed]",
      "text/plain": [
       "<Figure size 432x288 with 1 Axes>"
      ]
     },
     "metadata": {
      "needs_background": "light"
     },
     "output_type": "display_data"
    }
   ],
   "source": [
    "import matplotlib.pyplot as plt\n",
    "data.hist('total_area', bins = 100, range = (0, 100)) # \n",
    "#data['total_area'].value_counts()\n",
    "#print(data.info())\n",
    "data['total_area'].describe()\n",
    "\n"
   ]
  },
  {
   "cell_type": "code",
   "execution_count": 621,
   "metadata": {},
   "outputs": [
    {
     "data": {
      "image/png": "[encoded data removed]",
      "text/plain": [
       "<Figure size 432x288 with 1 Axes>"
      ]
     },
     "metadata": {
      "needs_background": "light"
     },
     "output_type": "display_data"
    }
   ],
   "source": [
    "plt.ylim(0, 400)\n",
    "data.boxplot(column='total_area')\n",
    "data = data[(data['total_area'] <= 350)] # по идее, все значения больше 120 - выбросы, но так как их достаточно \n",
    "                               # много (сплошная линия на графике, удалим значения больше 350 - аномалии, которые отстоят от \n",
    "                               # общего массива данных (на графике линия превращается в набор точек)\n",
    "#print(data['total_area'].describe())\n",
    "#print(data.info())"
   ]
  },
  {
   "cell_type": "markdown",
   "metadata": {},
   "source": [
    "<div class=\"alert alert-info\">\n",
    "<b> Распределение похоже на нормальное, есть пики в районе 32 кв.м., что соответствует 1-комнатной квартире/студии, 45 кв.м. (2-комн. кв.), 60 кв.м. 2-3 комн. кв, и 80 кв.м. (3-4 комн. кв.). Среднее и медиана близко друг к другу (59,8 и 52), что говорит о равномерном распределении значений по оси Х, но наличие максимума 900 говорит о том, что скорее всего, в этом районе значений есть выброс(ы).  </b> \n",
    "</div>"
   ]
  },
  {
   "cell_type": "code",
   "execution_count": 622,
   "metadata": {},
   "outputs": [
    {
     "data": {
      "text/plain": [
       "count    23459.000000\n",
       "mean        34.253170\n",
       "std         20.279346\n",
       "min          2.000000\n",
       "25%         19.000000\n",
       "50%         30.000000\n",
       "75%         42.060816\n",
       "max        260.000000\n",
       "Name: living_area, dtype: float64"
      ]
     },
     "execution_count": 622,
     "metadata": {},
     "output_type": "execute_result"
    },
    {
     "data": {
      "image/png": "[encoded data removed]",
      "text/plain": [
       "<Figure size 432x288 with 1 Axes>"
      ]
     },
     "metadata": {
      "needs_background": "light"
     },
     "output_type": "display_data"
    }
   ],
   "source": [
    "data.hist('living_area', bins = 100, range = (0, 100))\n",
    "data['living_area'].describe()\n"
   ]
  },
  {
   "cell_type": "code",
   "execution_count": 623,
   "metadata": {},
   "outputs": [
    {
     "data": {
      "image/png": "[encoded data removed]",
      "text/plain": [
       "<Figure size 432x288 with 1 Axes>"
      ]
     },
     "metadata": {
      "needs_background": "light"
     },
     "output_type": "display_data"
    }
   ],
   "source": [
    "plt.ylim(0, 250)\n",
    "data.boxplot(column='living_area')\n",
    "data = data[(data['living_area'] <=200)] # все значения больше 200 - аномалии, удаляем их\n",
    "#print(data.info())"
   ]
  },
  {
   "cell_type": "markdown",
   "metadata": {},
   "source": [
    "<div class=\"alert alert-info\">\n",
    "<b> Значения до 10 м  (хоть они и входят в межквартильный интервал), очевидно, являются некорректными, необходимо их удалить. Кроме того, значения больше 200 - тоже считаем достойными удаления выбросами, т.к. после 200 м линия на боксплоте начинает прерываться. Видны 3 ярко выраженных пика - 15-20 м, 27-33 м, 43 45 м. (также скорее всего соответствуют 1-комн/студии, 2-комн. и 3-комн. квартирам.    </b> \n",
    "</div>"
   ]
  },
  {
   "cell_type": "code",
   "execution_count": 624,
   "metadata": {},
   "outputs": [
    {
     "data": {
      "text/plain": [
       "count    23452.00000\n",
       "mean        10.30802\n",
       "std          5.51464\n",
       "min          0.00000\n",
       "25%          7.20000\n",
       "50%          9.00000\n",
       "75%         11.50000\n",
       "max        107.00000\n",
       "Name: kitchen_area, dtype: float64"
      ]
     },
     "execution_count": 624,
     "metadata": {},
     "output_type": "execute_result"
    },
    {
     "data": {
      "image/png": "[encoded data removed]",
      "text/plain": [
       "<Figure size 432x288 with 1 Axes>"
      ]
     },
     "metadata": {
      "needs_background": "light"
     },
     "output_type": "display_data"
    }
   ],
   "source": [
    "data['kitchen_area'].hist(bins = 100) # \n",
    "data['kitchen_area'].describe()"
   ]
  },
  {
   "cell_type": "code",
   "execution_count": 625,
   "metadata": {},
   "outputs": [
    {
     "data": {
      "image/png": "[encoded data removed]",
      "text/plain": [
       "<Figure size 432x288 with 1 Axes>"
      ]
     },
     "metadata": {
      "needs_background": "light"
     },
     "output_type": "display_data"
    }
   ],
   "source": [
    "plt.ylim(0, 100)\n",
    "data.boxplot(column='kitchen_area')\n",
    "data = data[(data['kitchen_area'] <= 65)] # все значения больше 65 - аномалии, удаляем их\n",
    "#print(data.info())"
   ]
  },
  {
   "cell_type": "markdown",
   "metadata": {},
   "source": [
    "<div class=\"alert alert-info\">\n",
    "<b> В этом столбце присутствуют нулевые значения, но это не выбросы, а студии, необходимо их оставлять. В целом, распределение похоже на нормальное, среднее и медиана почти равны (10,3 и 9), но, судя по боксплоту, есть значительное количество аномальных значений (которые в целом перевешиваются нулевыми с другого конца графика). Принято решение избавиться от значений больше 65 (свыше этого значения линия \"уса\" на графике начинает прерываться).      </b> \n",
    "</div>"
   ]
  },
  {
   "cell_type": "code",
   "execution_count": 626,
   "metadata": {},
   "outputs": [
    {
     "data": {
      "text/plain": [
       "count    2.344200e+04\n",
       "mean     6.323202e+06\n",
       "std      7.791650e+06\n",
       "min      1.219000e+04\n",
       "25%      3.450000e+06\n",
       "50%      4.650000e+06\n",
       "75%      6.775000e+06\n",
       "max      3.300000e+08\n",
       "Name: last_price, dtype: float64"
      ]
     },
     "execution_count": 626,
     "metadata": {},
     "output_type": "execute_result"
    },
    {
     "data": {
      "image/png": "[encoded data removed]",
      "text/plain": [
       "<Figure size 432x288 with 1 Axes>"
      ]
     },
     "metadata": {
      "needs_background": "light"
     },
     "output_type": "display_data"
    }
   ],
   "source": [
    "data['last_price'].hist(bins=300, range = (0, 18000000)) # практически идеальное нормальное распределение \n",
    "data['last_price'].describe()                           # с правым хвостом, означающим аномально  большие значения\n",
    "#data['last_price'].value_counts()\n"
   ]
  },
  {
   "cell_type": "code",
   "execution_count": 627,
   "metadata": {},
   "outputs": [
    {
     "data": {
      "image/png": "[encoded data removed]",
      "text/plain": [
       "<Figure size 432x288 with 1 Axes>"
      ]
     },
     "metadata": {
      "needs_background": "light"
     },
     "output_type": "display_data"
    }
   ],
   "source": [
    "plt.ylim(0, 100000000)\n",
    "data.boxplot(column='last_price')\n",
    "data = data[(data['last_price'] <= 90000000)] # все значения больше 90 000 000 - аномалии, удаляем их, т.к. они \n",
    "                                              # отстоят на значительном расстоянии от основной линии выбросов на боксплоте\n",
    "#print(data.info())"
   ]
  },
  {
   "cell_type": "markdown",
   "metadata": {},
   "source": [
    "<div class=\"alert alert-info\">\n",
    "<b> Столбец last_price характеризуется распределением значений, похожим на нормальное, с одним пиком и длинным правым хвостом, означающим аномально большие значения, (от 90 млн и выше - от них избавляемся).       </b> \n",
    "</div>"
   ]
  },
  {
   "cell_type": "code",
   "execution_count": 628,
   "metadata": {},
   "outputs": [
    {
     "data": {
      "text/plain": [
       "count    23416.000000\n",
       "mean         2.063931\n",
       "std          1.046175\n",
       "min          0.000000\n",
       "25%          1.000000\n",
       "50%          2.000000\n",
       "75%          3.000000\n",
       "max         16.000000\n",
       "Name: rooms, dtype: float64"
      ]
     },
     "execution_count": 628,
     "metadata": {},
     "output_type": "execute_result"
    },
    {
     "data": {
      "image/png": "[encoded data removed]",
      "text/plain": [
       "<Figure size 432x288 with 1 Axes>"
      ]
     },
     "metadata": {
      "needs_background": "light"
     },
     "output_type": "display_data"
    }
   ],
   "source": [
    "data['rooms'].hist(bins=50, range = (0, 12)) # \n",
    "data['rooms'].describe()\n"
   ]
  },
  {
   "cell_type": "code",
   "execution_count": 629,
   "metadata": {},
   "outputs": [
    {
     "data": {
      "image/png": "[encoded data removed]",
      "text/plain": [
       "<Figure size 432x288 with 1 Axes>"
      ]
     },
     "metadata": {
      "needs_background": "light"
     },
     "output_type": "display_data"
    }
   ],
   "source": [
    "plt.ylim(0, 20)\n",
    "data.boxplot(column='rooms')\n",
    "data = data[(data['rooms'] <= 6)] # все значения больше 6 - аномалии, удаляем их\n",
    "#print(data.info())"
   ]
  },
  {
   "cell_type": "markdown",
   "metadata": {},
   "source": [
    "<div class=\"alert alert-info\">\n",
    "<b> Столбец rooms так же характеризуется распределением значений, похожим на нормальное, с одним пиком на значениях 1 и 2 комнат. При стандартном отклонении 1 максимальное значение =16, очевидно, в этом районе выбросы. Это подтверждается на графике боксплот - предел нормальных значений - до 6 комнат, остальное - выбросы.    </b> \n",
    "</div>"
   ]
  },
  {
   "cell_type": "code",
   "execution_count": 630,
   "metadata": {},
   "outputs": [
    {
     "data": {
      "text/plain": [
       "count    23353.000000\n",
       "mean         2.694023\n",
       "std          0.212087\n",
       "min          2.400000\n",
       "25%          2.600000\n",
       "50%          2.650000\n",
       "75%          2.700000\n",
       "max          5.800000\n",
       "Name: ceiling_height, dtype: float64"
      ]
     },
     "execution_count": 630,
     "metadata": {},
     "output_type": "execute_result"
    },
    {
     "data": {
      "image/png": "[encoded data removed]",
      "text/plain": [
       "<Figure size 432x288 with 1 Axes>"
      ]
     },
     "metadata": {
      "needs_background": "light"
     },
     "output_type": "display_data"
    }
   ],
   "source": [
    "data['ceiling_height'].hist(bins=10, range = (0, 6)) # \n",
    "data['ceiling_height'].describe()"
   ]
  },
  {
   "cell_type": "code",
   "execution_count": 631,
   "metadata": {},
   "outputs": [
    {
     "data": {
      "image/png": "[encoded data removed]",
      "text/plain": [
       "<Figure size 432x288 with 1 Axes>"
      ]
     },
     "metadata": {
      "needs_background": "light"
     },
     "output_type": "display_data"
    }
   ],
   "source": [
    "plt.ylim(2, 6)\n",
    "data.boxplot(column='ceiling_height')\n",
    "data = data[(data['ceiling_height'] <= 4.5)] # все значения больше 4.5 - аномалии, отстающие от основной \n",
    "                                              #группы значений (даже от основной линии выбросов), удаляем их\n",
    "#print(data.info())"
   ]
  },
  {
   "cell_type": "markdown",
   "metadata": {},
   "source": [
    "<div class=\"alert alert-info\">\n",
    "<b> Для столбца ceiling_height мы уже ранее обрабатывали значения (в т.ч. заменили медианой все значения больше 6 метров, приняв для начала 6 метров как самое высокую стандартную высоту потолка). Дальнейший анализ (график боксплот) со всей очевидностью показывает, что высоты потолков от 4,5 до 6 метров - тоже выбросы, их мало и ими, имхо, можно пренебречь. </b> \n",
    "</div>"
   ]
  },
  {
   "cell_type": "code",
   "execution_count": 632,
   "metadata": {},
   "outputs": [
    {
     "data": {
      "text/plain": [
       "другой       17119\n",
       "последний     3372\n",
       "первый        2855\n",
       "Name: floor_type, dtype: int64"
      ]
     },
     "execution_count": 632,
     "metadata": {},
     "output_type": "execute_result"
    },
    {
     "data": {
      "image/png": "[encoded data removed]",
      "text/plain": [
       "<Figure size 432x288 with 1 Axes>"
      ]
     },
     "metadata": {
      "needs_background": "light"
     },
     "output_type": "display_data"
    }
   ],
   "source": [
    "data['floor_type'].hist(bins=3) # \n",
    "data['floor_type'].value_counts()"
   ]
  },
  {
   "cell_type": "markdown",
   "metadata": {},
   "source": [
    "<div class=\"alert alert-info\">\n",
    "<b> Здесь описывать особо нечего, очевидно, тип \"другой\" будет встречаться гораздо чаще, чем \"первый\" или \"последний\", которые встречаются в данных примерно одинаково часто. </b> \n",
    "</div>"
   ]
  },
  {
   "cell_type": "code",
   "execution_count": 633,
   "metadata": {},
   "outputs": [
    {
     "data": {
      "text/plain": [
       "count    23346.000000\n",
       "mean        10.668337\n",
       "std          6.583236\n",
       "min          1.000000\n",
       "25%          5.000000\n",
       "50%          9.000000\n",
       "75%         16.000000\n",
       "max         60.000000\n",
       "Name: floors_total, dtype: float64"
      ]
     },
     "execution_count": 633,
     "metadata": {},
     "output_type": "execute_result"
    },
    {
     "data": {
      "image/png": "[encoded data removed]",
      "text/plain": [
       "<Figure size 432x288 with 1 Axes>"
      ]
     },
     "metadata": {
      "needs_background": "light"
     },
     "output_type": "display_data"
    }
   ],
   "source": [
    "data['floors_total'].hist(bins=30) \n",
    "data['floors_total'].describe()\n",
    "#data['floors_total'].value_counts()\n"
   ]
  },
  {
   "cell_type": "code",
   "execution_count": 634,
   "metadata": {},
   "outputs": [
    {
     "data": {
      "image/png": "[encoded data removed]",
      "text/plain": [
       "<Figure size 432x288 with 1 Axes>"
      ]
     },
     "metadata": {
      "needs_background": "light"
     },
     "output_type": "display_data"
    }
   ],
   "source": [
    "plt.ylim(0, 40)\n",
    "data.boxplot(column='floors_total') # \n",
    "data = data[(data['floors_total'] <= 30)] # избавляемся от выбросов, т.к. они лежат за пределами стандартных значений и их мало\n"
   ]
  },
  {
   "cell_type": "markdown",
   "metadata": {},
   "source": [
    "<div class=\"alert alert-info\">\n",
    "<b> Больше всего в выборке 5-этажек и 9-этажек. 9-этажей - это кроме того и медиана. Максимальное значение - 60 этажей при стандартном отклонении 6,5 - очевидно наличие выбросов, что и показывает боксплот. Удаляем все строки с количеством этажей  больше 30. </b> \n",
    "</div>"
   ]
  },
  {
   "cell_type": "code",
   "execution_count": 635,
   "metadata": {},
   "outputs": [
    {
     "data": {
      "text/plain": [
       "count    17878.000000\n",
       "mean     14257.358765\n",
       "std       8605.773459\n",
       "min        181.000000\n",
       "25%       9380.000000\n",
       "50%      13138.000000\n",
       "75%      16297.500000\n",
       "max      65968.000000\n",
       "Name: cityCenters_nearest, dtype: float64"
      ]
     },
     "execution_count": 635,
     "metadata": {},
     "output_type": "execute_result"
    },
    {
     "data": {
      "image/png": "[encoded data removed]",
      "text/plain": [
       "<Figure size 432x288 with 1 Axes>"
      ]
     },
     "metadata": {
      "needs_background": "light"
     },
     "output_type": "display_data"
    }
   ],
   "source": [
    "data['cityCenters_nearest'].hist(bins=50, range = (0, 66000)) # \n",
    "data['cityCenters_nearest'].describe()"
   ]
  },
  {
   "cell_type": "code",
   "execution_count": 636,
   "metadata": {},
   "outputs": [
    {
     "name": "stdout",
     "output_type": "stream",
     "text": [
      "<class 'pandas.core.frame.DataFrame'>\n",
      "Int64Index: 23315 entries, 0 to 23698\n",
      "Data columns (total 28 columns):\n",
      " #   Column                Non-Null Count  Dtype         \n",
      "---  ------                --------------  -----         \n",
      " 0   total_images          23315 non-null  int64         \n",
      " 1   last_price            23315 non-null  int64         \n",
      " 2   total_area            23315 non-null  float64       \n",
      " 3   first_day_exposition  23315 non-null  datetime64[ns]\n",
      " 4   rooms                 23315 non-null  int64         \n",
      " 5   ceiling_height        23315 non-null  float64       \n",
      " 6   floors_total          23315 non-null  int64         \n",
      " 7   living_area           23315 non-null  float64       \n",
      " 8   floor                 23315 non-null  int64         \n",
      " 9   is_apartment          23315 non-null  bool          \n",
      " 10  studio                23315 non-null  bool          \n",
      " 11  open_plan             23315 non-null  bool          \n",
      " 12  kitchen_area          23315 non-null  float64       \n",
      " 13  balcony               23315 non-null  int64         \n",
      " 14  locality_name         23315 non-null  object        \n",
      " 15  airports_nearest      17857 non-null  float64       \n",
      " 16  cityCenters_nearest   17878 non-null  float64       \n",
      " 17  parks_around3000      17879 non-null  float64       \n",
      " 18  parks_nearest         7920 non-null   float64       \n",
      " 19  ponds_around3000      17879 non-null  float64       \n",
      " 20  ponds_nearest         8907 non-null   float64       \n",
      " 21  days_exposition       23315 non-null  int64         \n",
      " 22  meter_price           23315 non-null  float64       \n",
      " 23  weekday               23315 non-null  int64         \n",
      " 24  month                 23315 non-null  int64         \n",
      " 25  year                  23315 non-null  int64         \n",
      " 26  floor_type            23315 non-null  object        \n",
      " 27  dist_to_centre        17878 non-null  float64       \n",
      "dtypes: bool(3), datetime64[ns](1), float64(12), int64(10), object(2)\n",
      "memory usage: 4.7+ MB\n",
      "None\n"
     ]
    },
    {
     "data": {
      "image/png": "[encoded data removed]",
      "text/plain": [
       "<Figure size 432x288 with 1 Axes>"
      ]
     },
     "metadata": {
      "needs_background": "light"
     },
     "output_type": "display_data"
    }
   ],
   "source": [
    "plt.ylim(0, 70000)\n",
    "data.boxplot(column='cityCenters_nearest') #крайние значения плотные и их много, скорее всего, это уже другие города/ микрорайоны \n",
    "#data = data[(data['cityCenters_nearest'] <= 36000)] # ничего не удаляем, т.к. удаляются также и незаполненные значения\n",
    "print(data.info())\n"
   ]
  },
  {
   "cell_type": "markdown",
   "metadata": {},
   "source": [
    "<div class=\"alert alert-info\">\n",
    "<b> На гистограмме видны несколько пиков, например, в 5 км от центра, далее в районе 10-15 км, 30 км. Это может говорить о географии продаж, например, о том факте, что непосредственно в центре города квартиры продаются мало из-за дорогой земли и, как следствие, отсутствия новостроек. То же можно сказать и о самом крупном сегменте - объявлениях в 10-15 км от центра. Очевидно, это спальные районы с относительно низкой стоимостью земли, ее доступностью, но и одновременно доступной транспортной и социальной инфраструктурой. Здесь мы ничего не удаляем, т.к. данные потребуются для дальнейших вычислений. </b> \n",
    "</div>"
   ]
  },
  {
   "cell_type": "code",
   "execution_count": 637,
   "metadata": {},
   "outputs": [
    {
     "data": {
      "text/plain": [
       "count    7920.000000\n",
       "mean      491.446212\n",
       "std       342.246871\n",
       "min         1.000000\n",
       "25%       288.000000\n",
       "50%       455.000000\n",
       "75%       613.000000\n",
       "max      3190.000000\n",
       "Name: parks_nearest, dtype: float64"
      ]
     },
     "execution_count": 637,
     "metadata": {},
     "output_type": "execute_result"
    },
    {
     "data": {
      "image/png": "[encoded data removed]",
      "text/plain": [
       "<Figure size 432x288 with 1 Axes>"
      ]
     },
     "metadata": {
      "needs_background": "light"
     },
     "output_type": "display_data"
    }
   ],
   "source": [
    "data['parks_nearest'].hist(bins=50, range = (0, 3500))\n",
    "data['parks_nearest'].describe()\n"
   ]
  },
  {
   "cell_type": "code",
   "execution_count": 638,
   "metadata": {},
   "outputs": [
    {
     "data": {
      "text/plain": [
       "<AxesSubplot:>"
      ]
     },
     "execution_count": 638,
     "metadata": {},
     "output_type": "execute_result"
    },
    {
     "data": {
      "image/png": "[encoded data removed]",
      "text/plain": [
       "<Figure size 432x288 with 1 Axes>"
      ]
     },
     "metadata": {
      "needs_background": "light"
     },
     "output_type": "display_data"
    }
   ],
   "source": [
    "plt.ylim(0, 3200)\n",
    "data.boxplot(column='parks_nearest') # - ничего не удаляем, т.к. удаляются, видимо, так же и незаполненные значения.\n"
   ]
  },
  {
   "cell_type": "markdown",
   "metadata": {},
   "source": [
    "<div class=\"alert alert-info\">\n",
    "<b> Эта гистограмма похожа на нормальное распределение, с одним пиком в районе 500 м от парка (видимо нормы планировки и застройки территории городов предусматривают именно это значение в качестве базового при планировании территории, или так просто совпало). Также присутствует  правый хвост из аномальных значений. Но тем не менее, не хотелось бы здесь ничего удалять, т.к., во-первых, при фильтрации удаляются также и незаполненные значения (а чем их заполнить - непонятно), а во-вторых, эти аномалии не сильно влияют на выборку (среднее и медиана блиски друг к другу, стандартное отклонение почти в 1,5 меньше среднего. </b> \n",
    "</div>"
   ]
  },
  {
   "cell_type": "markdown",
   "metadata": {},
   "source": [
    "4.2. Изучаем, как быстро продавались квартиры. "
   ]
  },
  {
   "cell_type": "code",
   "execution_count": 639,
   "metadata": {},
   "outputs": [
    {
     "name": "stdout",
     "output_type": "stream",
     "text": [
      "Среднее число дней продажи квартиры= 156.49011366073344\n",
      "Медианное число дней продажи квартиры= 74.0\n",
      "<class 'pandas.core.frame.DataFrame'>\n",
      "Int64Index: 23315 entries, 0 to 23698\n",
      "Data columns (total 28 columns):\n",
      " #   Column                Non-Null Count  Dtype         \n",
      "---  ------                --------------  -----         \n",
      " 0   total_images          23315 non-null  int64         \n",
      " 1   last_price            23315 non-null  int64         \n",
      " 2   total_area            23315 non-null  float64       \n",
      " 3   first_day_exposition  23315 non-null  datetime64[ns]\n",
      " 4   rooms                 23315 non-null  int64         \n",
      " 5   ceiling_height        23315 non-null  float64       \n",
      " 6   floors_total          23315 non-null  int64         \n",
      " 7   living_area           23315 non-null  float64       \n",
      " 8   floor                 23315 non-null  int64         \n",
      " 9   is_apartment          23315 non-null  bool          \n",
      " 10  studio                23315 non-null  bool          \n",
      " 11  open_plan             23315 non-null  bool          \n",
      " 12  kitchen_area          23315 non-null  float64       \n",
      " 13  balcony               23315 non-null  int64         \n",
      " 14  locality_name         23315 non-null  object        \n",
      " 15  airports_nearest      17857 non-null  float64       \n",
      " 16  cityCenters_nearest   17878 non-null  float64       \n",
      " 17  parks_around3000      17879 non-null  float64       \n",
      " 18  parks_nearest         7920 non-null   float64       \n",
      " 19  ponds_around3000      17879 non-null  float64       \n",
      " 20  ponds_nearest         8907 non-null   float64       \n",
      " 21  days_exposition       23315 non-null  int64         \n",
      " 22  meter_price           23315 non-null  float64       \n",
      " 23  weekday               23315 non-null  int64         \n",
      " 24  month                 23315 non-null  int64         \n",
      " 25  year                  23315 non-null  int64         \n",
      " 26  floor_type            23315 non-null  object        \n",
      " 27  dist_to_centre        17878 non-null  float64       \n",
      "dtypes: bool(3), datetime64[ns](1), float64(12), int64(10), object(2)\n",
      "memory usage: 4.7+ MB\n"
     ]
    },
    {
     "data": {
      "image/png": "[encoded data removed]",
      "text/plain": [
       "<Figure size 432x288 with 1 Axes>"
      ]
     },
     "metadata": {
      "needs_background": "light"
     },
     "output_type": "display_data"
    }
   ],
   "source": [
    "data['days_exposition'].hist(bins=20)\n",
    "days_exp_mean = data['days_exposition'].mean()\n",
    "print('Среднее число дней продажи квартиры=', days_exp_mean)\n",
    "days_exp_median = data['days_exposition'].median()\n",
    "print('Медианное число дней продажи квартиры=', days_exp_median)\n",
    "data.info()"
   ]
  },
  {
   "cell_type": "code",
   "execution_count": 640,
   "metadata": {},
   "outputs": [
    {
     "data": {
      "image/png": "[encoded data removed]",
      "text/plain": [
       "<Figure size 432x288 with 1 Axes>"
      ]
     },
     "metadata": {
      "needs_background": "light"
     },
     "output_type": "display_data"
    }
   ],
   "source": [
    "plt.ylim(0, 400)\n",
    "data.boxplot(column='days_exposition')\n",
    "data = data[(data['days_exposition'] <= 1460)] # все значения больше 1460 - аномалии, удаляем их\n",
    "#print(data.info())"
   ]
  },
  {
   "cell_type": "markdown",
   "metadata": {},
   "source": [
    " Обычно квартира продается 73 дня.  Все продажи больше 400 дней можно считать необычно долгими. Обычной быстрой продажей можно считать продажу сроком от 0 до 25 дней.  "
   ]
  },
  {
   "cell_type": "markdown",
   "metadata": {},
   "source": [
    "4.3. Определим факторы, которые больше всего влияют на общую (полную) стоимость объекта.\n",
    "Изучим, зависит ли цена от:\n",
    "общей площади;\n",
    "жилой площади;\n",
    "площади кухни;\n",
    "количества комнат;\n",
    "этажа, на котором расположена квартира (первый, последний, другой);\n",
    "даты размещения (день недели, месяц, год)."
   ]
  },
  {
   "cell_type": "code",
   "execution_count": 641,
   "metadata": {},
   "outputs": [
    {
     "name": "stdout",
     "output_type": "stream",
     "text": [
      "            total_area\n",
      "last_price            \n",
      "12190       109.000000\n",
      "430000       42.200000\n",
      "440000       40.000000\n",
      "450000       40.100000\n",
      "470000       40.833333\n",
      "...                ...\n",
      "83820000    153.000000\n",
      "85000000    145.700000\n",
      "86738800    190.000000\n",
      "87000000    283.000000\n",
      "90000000    225.000000\n",
      "\n",
      "[2882 rows x 1 columns]\n"
     ]
    }
   ],
   "source": [
    "total_area_pivot = data.pivot_table(index='last_price', values='total_area') \n",
    "print(total_area_pivot)"
   ]
  },
  {
   "cell_type": "code",
   "execution_count": 642,
   "metadata": {},
   "outputs": [
    {
     "name": "stdout",
     "output_type": "stream",
     "text": [
      "0.7572317523237085\n"
     ]
    },
    {
     "data": {
      "image/png": "[encoded data removed]",
      "text/plain": [
       "<Figure size 864x432 with 1 Axes>"
      ]
     },
     "metadata": {
      "needs_background": "light"
     },
     "output_type": "display_data"
    }
   ],
   "source": [
    "data.plot(x='total_area', y='last_price', style='o', ylim=(0, 10000000), grid=True, figsize=(12, 6))\n",
    "print(data['last_price'].corr(data['total_area']))\n",
    "#налицо очевидная сильная корреляция между общей площадью и ценой"
   ]
  },
  {
   "cell_type": "code",
   "execution_count": 643,
   "metadata": {},
   "outputs": [
    {
     "name": "stdout",
     "output_type": "stream",
     "text": [
      "0.6684781218929329\n"
     ]
    },
    {
     "data": {
      "image/png": "[encoded data removed]",
      "text/plain": [
       "<Figure size 864x432 with 1 Axes>"
      ]
     },
     "metadata": {
      "needs_background": "light"
     },
     "output_type": "display_data"
    }
   ],
   "source": [
    "data.plot(x='living_area', y='last_price', style='o', ylim=(0, 10000000), grid=True, figsize=(12, 6))\n",
    "print(data['last_price'].corr(data['living_area']))\n",
    "# между жилой площадью и ценой также есть корреляцияЮ но она уже меньше"
   ]
  },
  {
   "cell_type": "code",
   "execution_count": 644,
   "metadata": {},
   "outputs": [
    {
     "name": "stdout",
     "output_type": "stream",
     "text": [
      "0.5419994445944734\n"
     ]
    },
    {
     "data": {
      "image/png": "[encoded data removed]",
      "text/plain": [
       "<Figure size 864x432 with 1 Axes>"
      ]
     },
     "metadata": {
      "needs_background": "light"
     },
     "output_type": "display_data"
    }
   ],
   "source": [
    "data.plot(x='kitchen_area', y='last_price', style='o', ylim=(0, 10000000), grid=True, figsize=(12, 6))\n",
    "print(data['last_price'].corr(data['kitchen_area']))\n",
    "#еще меньше зависимость цены от площади кухни, но все же она есть"
   ]
  },
  {
   "cell_type": "code",
   "execution_count": 645,
   "metadata": {},
   "outputs": [
    {
     "name": "stdout",
     "output_type": "stream",
     "text": [
      "0.45469359295655043\n"
     ]
    },
    {
     "data": {
      "image/png": "[encoded data removed]",
      "text/plain": [
       "<Figure size 864x432 with 1 Axes>"
      ]
     },
     "metadata": {
      "needs_background": "light"
     },
     "output_type": "display_data"
    }
   ],
   "source": [
    "#rooms_dat = data.pivot_table(index='rooms', values='last_price', aggfunc=['median', 'count'])\n",
    "#print(rooms_dat)                             \n",
    "                             \n",
    "                             \n",
    "data.plot(x='rooms', y='last_price', style='o', ylim=(0, 100000000), grid=True, figsize=(12, 6))\n",
    "print(data['last_price'].corr(data['rooms']))\n",
    "# корреляция положительная, но не такая сильная, как предыдущие"
   ]
  },
  {
   "cell_type": "code",
   "execution_count": 646,
   "metadata": {},
   "outputs": [
    {
     "name": "stdout",
     "output_type": "stream",
     "text": [
      "0.055928432081670164\n"
     ]
    },
    {
     "data": {
      "image/png": "[encoded data removed]",
      "text/plain": [
       "<Figure size 864x576 with 1 Axes>"
      ]
     },
     "metadata": {
      "needs_background": "light"
     },
     "output_type": "display_data"
    }
   ],
   "source": [
    "data.plot(x='floor_type', y='last_price', style='o', ylim=(0, 100000000), grid=True, figsize=(12, 8))\n",
    "\n",
    "#сделаем еще один столбец- дублер столбца floor_type с числовыми значениями, чтобы посчитать коэффициент корреляции:\n",
    "#print(data['floor_type'].value_counts())\n",
    "rows = data['floor_type'] == 'первый' # для начала - только первый этаж\n",
    "data.loc[rows, 'floor_type_2'] = 1 \n",
    "\n",
    "rows = data['floor_type'] == 'другой' # для начала - только первый этаж\n",
    "data.loc[rows, 'floor_type_2'] = 2 \n",
    "\n",
    "rows = data['floor_type'] == 'последний' # теперь - последний этаж\n",
    "data.loc[rows, 'floor_type_2'] = 3\n",
    "\n",
    "\n",
    "#print(data['floor_type_2'].value_counts())  \n",
    "\n",
    "print(data['last_price'].corr(data['floor_type_2']))\n",
    "#по этажам сильной зависимости не наблюдается"
   ]
  },
  {
   "cell_type": "markdown",
   "metadata": {},
   "source": [
    "<div class=\"alert alert-info\">\n",
    "<b> Делаем обычную гистограмму: </b> \n",
    "</div>"
   ]
  },
  {
   "cell_type": "code",
   "execution_count": 647,
   "metadata": {},
   "outputs": [
    {
     "data": {
      "text/plain": [
       "<AxesSubplot:>"
      ]
     },
     "execution_count": 647,
     "metadata": {},
     "output_type": "execute_result"
    },
    {
     "data": {
      "image/png": "[encoded data removed]",
      "text/plain": [
       "<Figure size 432x288 with 1 Axes>"
      ]
     },
     "metadata": {
      "needs_background": "light"
     },
     "output_type": "display_data"
    }
   ],
   "source": [
    "data['floor_type'].hist(bins=3)\n"
   ]
  },
  {
   "cell_type": "code",
   "execution_count": null,
   "metadata": {},
   "outputs": [],
   "source": []
  },
  {
   "cell_type": "code",
   "execution_count": 648,
   "metadata": {},
   "outputs": [
    {
     "data": {
      "text/plain": [
       "<AxesSubplot:>"
      ]
     },
     "execution_count": 648,
     "metadata": {},
     "output_type": "execute_result"
    },
    {
     "data": {
      "image/png": "[encoded data removed]",
      "text/plain": [
       "<Figure size 432x288 with 1 Axes>"
      ]
     },
     "metadata": {
      "needs_background": "light"
     },
     "output_type": "display_data"
    }
   ],
   "source": [
    "data['weekday'].hist(bins=7)"
   ]
  },
  {
   "cell_type": "code",
   "execution_count": 649,
   "metadata": {},
   "outputs": [
    {
     "data": {
      "text/plain": [
       "<AxesSubplot:ylabel='Frequency'>"
      ]
     },
     "execution_count": 649,
     "metadata": {},
     "output_type": "execute_result"
    },
    {
     "data": {
      "image/png": "[encoded data removed]",
      "text/plain": [
       "<Figure size 432x288 with 1 Axes>"
      ]
     },
     "metadata": {
      "needs_background": "light"
     },
     "output_type": "display_data"
    }
   ],
   "source": [
    "data.plot(kind = 'hist', y = 'weekday', histtype = 'step', bins = 12)"
   ]
  },
  {
   "cell_type": "code",
   "execution_count": 650,
   "metadata": {},
   "outputs": [
    {
     "name": "stdout",
     "output_type": "stream",
     "text": [
      "-0.005942463439207396\n"
     ]
    },
    {
     "data": {
      "image/png": "[encoded data removed]",
      "text/plain": [
       "<Figure size 864x432 with 1 Axes>"
      ]
     },
     "metadata": {
      "needs_background": "light"
     },
     "output_type": "display_data"
    }
   ],
   "source": [
    "#цена от дня недели подачи объявления не зависит:\n",
    "data.plot(x='weekday', y='last_price', style='o', ylim=(0, 100000000), grid=True, figsize=(12, 6))\n",
    "print(data['last_price'].corr(data['weekday']))"
   ]
  },
  {
   "cell_type": "code",
   "execution_count": 651,
   "metadata": {},
   "outputs": [
    {
     "data": {
      "text/plain": [
       "<AxesSubplot:ylabel='Frequency'>"
      ]
     },
     "execution_count": 651,
     "metadata": {},
     "output_type": "execute_result"
    },
    {
     "data": {
      "image/png": "[encoded data removed]",
      "text/plain": [
       "<Figure size 432x288 with 1 Axes>"
      ]
     },
     "metadata": {
      "needs_background": "light"
     },
     "output_type": "display_data"
    }
   ],
   "source": [
    "# делаем гистограмму для месяцев:\n",
    "data.plot(kind = 'hist', y='month', histtype = 'step', range = (0, 15), bins = 25)\n"
   ]
  },
  {
   "cell_type": "markdown",
   "metadata": {},
   "source": []
  },
  {
   "cell_type": "code",
   "execution_count": 652,
   "metadata": {},
   "outputs": [
    {
     "name": "stdout",
     "output_type": "stream",
     "text": [
      "0.007193635295872967\n"
     ]
    },
    {
     "data": {
      "image/png": "[encoded data removed]",
      "text/plain": [
       "<Figure size 864x432 with 1 Axes>"
      ]
     },
     "metadata": {
      "needs_background": "light"
     },
     "output_type": "display_data"
    }
   ],
   "source": [
    "# цена от месяца подачи объявления не зависит:\n",
    "data.plot(x='month', y='last_price', style='o', ylim=(0, 100000000), grid=True, figsize=(12, 6))\n",
    "print(data['last_price'].corr(data['month']))"
   ]
  },
  {
   "cell_type": "code",
   "execution_count": 653,
   "metadata": {},
   "outputs": [
    {
     "name": "stdout",
     "output_type": "stream",
     "text": [
      "-0.05594996133067013\n"
     ]
    },
    {
     "data": {
      "image/png": "[encoded data removed]",
      "text/plain": [
       "<Figure size 864x432 with 1 Axes>"
      ]
     },
     "metadata": {
      "needs_background": "light"
     },
     "output_type": "display_data"
    }
   ],
   "source": [
    "data.plot(x='year', y='last_price', style='o', ylim=(0, 100000000), grid=True, figsize=(12, 6))\n",
    "print(data['last_price'].corr(data['year']))"
   ]
  },
  {
   "cell_type": "code",
   "execution_count": 654,
   "metadata": {},
   "outputs": [],
   "source": [
    "#last_price_stat_multi = data.pivot_table(index='last_price', values= ['weekday', 'month', 'year'])\n",
    "#print(last_price_stat_multi.corr())\n",
    "#pd.plotting.scatter_matrix(last_price_stat_multi, figsize=(9, 9)) "
   ]
  },
  {
   "cell_type": "markdown",
   "metadata": {},
   "source": [
    "Вывод: Факторы, которые больше всего влияют на общую (полную) стоимость объекта: \n",
    "        - общая площадь (с коэффициентом корреляции 0,76)\n",
    "        - жилая площадь (с коэффициентом корреляции 0.68)\n",
    "        - площадь кухни (с коэффициентом корреляции 0.53)\n",
    "        - количество комнат (с коэффициентом корреляции 0.47).\n",
    "        Остальные критерии (этаж, день недели, месяц год) не влияют на стоимость или влияют в очень малой степени."
   ]
  },
  {
   "cell_type": "markdown",
   "metadata": {},
   "source": [
    "4.4. Посчитаем среднюю цену одного квадратного метра в 10 населённых пунктах с наибольшим числом объявлений — построим сводную таблицу с количеством объявлений и средней ценой квадратного метра для этих населенных пунктов. Выделим населённые пункты с самой высокой и низкой стоимостью квадратного метра."
   ]
  },
  {
   "cell_type": "code",
   "execution_count": 655,
   "metadata": {},
   "outputs": [
    {
     "name": "stdout",
     "output_type": "stream",
     "text": [
      "                     meter_price\n",
      "locality_name                   \n",
      "Санкт-Петербург    113139.953181\n",
      "Пушкин             103132.921913\n",
      "деревня Кудрово     92277.302168\n",
      "поселок Парголово   90291.780185\n",
      "поселок Мурино      85436.195929\n",
      "поселок Шушары      78487.495206\n",
      "Колпино             75295.341075\n",
      "Гатчина             68625.141155\n",
      "Всеволожск          68569.675838\n",
      "Выборг              58154.339746\n",
      "Самая высокая цена кв. метра =                    meter_price\n",
      "locality_name                 \n",
      "Санкт-Петербург  113139.953181\n",
      "Самая низская цена кв. метра =                 meter_price\n",
      "locality_name              \n",
      "Выборг         58154.339746\n"
     ]
    },
    {
     "data": {
      "image/png": "[encoded data removed]",
      "text/plain": [
       "<Figure size 864x360 with 1 Axes>"
      ]
     },
     "metadata": {
      "needs_background": "light"
     },
     "output_type": "display_data"
    }
   ],
   "source": [
    "#data.info()\n",
    "adv_count = data['locality_name'].value_counts()\n",
    "adv_count = adv_count.head(10)\n",
    "#print(adv_count)\n",
    "\n",
    "new_data = data[data['locality_name'].isin(adv_count.index)] # сохраняем в новый датафрейм данные только 10 городов \n",
    "                                                            #с наибольшим кол-вом объявлений \n",
    "\n",
    "#print(new_data['locality_name'].value_counts())\n",
    "# рисуем график:\n",
    "\n",
    "nd =    (new_data \n",
    "    .pivot_table(index='locality_name', values='meter_price', aggfunc=['mean', 'count'])\n",
    "        )\n",
    "nd.columns = ['mean', 'count']\n",
    "nd = nd.sort_values(by = 'mean', ascending = False)\n",
    "nd.plot(kind = 'bar', grid=True, figsize=(12, 5))\n",
    "#print(nd)\n",
    "\n",
    "#ищем максимальное и минимальное значения средней стоимости кв. метра по топ-10 городам:\n",
    "meter_price_mean = new_data.pivot_table(index='locality_name', values='meter_price', aggfunc='mean')\n",
    "meter_price_mean = meter_price_mean.sort_values(by = 'meter_price', ascending = False)\n",
    "print(meter_price_mean)\n",
    "print('Самая высокая цена кв. метра =', meter_price_mean[:1] ) \n",
    "print('Самая низская цена кв. метра =', meter_price_mean[9:] )\n",
    "\n",
    "  \n",
    "\n"
   ]
  },
  {
   "cell_type": "markdown",
   "metadata": {},
   "source": [
    "Вывод: средние цены на квартиры в 10 городах с самым большим количеством объявлений варьируются от 58 141 руб за кв.м. до 113379.9 руб за кв.м. Самые дорогие квартиры в Санкт_Петербурге, самые дешевые - в Выборге."
   ]
  },
  {
   "cell_type": "markdown",
   "metadata": {},
   "source": [
    "5. Выделим квартиры в Санкт-Петербурге с помощью столбца locality_name и вычислим их среднюю стоимость на разном удалении от центра. Учтем каждый километр расстояния: узнаем среднюю цену квартир в одном километре от центра, в двух и так далее. Опишем, как стоимость объектов зависит от расстояния до центра города — построим график изменения средней цены для каждого километра от центра Петербурга."
   ]
  },
  {
   "cell_type": "code",
   "execution_count": 656,
   "metadata": {},
   "outputs": [
    {
     "name": "stdout",
     "output_type": "stream",
     "text": [
      "                  last_price\n",
      "dist_to_centre              \n",
      "0.0             2.037157e+07\n",
      "1.0             1.432384e+07\n",
      "2.0             1.446541e+07\n",
      "3.0             1.052824e+07\n",
      "4.0             1.116563e+07\n",
      "5.0             1.208704e+07\n",
      "6.0             1.281386e+07\n",
      "7.0             1.358799e+07\n",
      "8.0             9.080274e+06\n",
      "9.0             6.964555e+06\n",
      "10.0            6.422737e+06\n",
      "11.0            6.245882e+06\n",
      "12.0            5.839084e+06\n",
      "13.0            6.090608e+06\n",
      "14.0            5.620647e+06\n",
      "15.0            5.852947e+06\n",
      "16.0            5.384568e+06\n",
      "17.0            5.214339e+06\n",
      "18.0            5.122633e+06\n",
      "19.0            5.070097e+06\n",
      "20.0            4.611579e+06\n",
      "21.0            5.522866e+06\n",
      "22.0            5.422567e+06\n",
      "23.0            4.851274e+06\n",
      "24.0            3.841303e+06\n",
      "25.0            4.229080e+06\n",
      "26.0            3.993577e+06\n",
      "27.0            8.300000e+06\n",
      "28.0            5.026429e+06\n",
      "29.0            4.236667e+06\n",
      "32.0            4.175000e+06\n",
      "41.0            1.712215e+07\n"
     ]
    },
    {
     "data": {
      "text/plain": [
       "<AxesSubplot:xlabel='dist_to_centre'>"
      ]
     },
     "execution_count": 656,
     "metadata": {},
     "output_type": "execute_result"
    },
    {
     "data": {
      "image/png": "[encoded data removed]",
      "text/plain": [
       "<Figure size 864x360 with 1 Axes>"
      ]
     },
     "metadata": {
      "needs_background": "light"
     },
     "output_type": "display_data"
    }
   ],
   "source": [
    "\n",
    "data_piter = data.query('locality_name == \"Санкт-Петербург\"') \\\n",
    "    .pivot_table(index='dist_to_centre', values='last_price', aggfunc = 'mean')\n",
    "    #.plot(grid=True, figsize=(12, 5))\n",
    "print(data_piter) \n",
    "data_piter.plot(grid=True, figsize=(12, 5))\n"
   ]
  },
  {
   "cell_type": "markdown",
   "metadata": {},
   "source": [
    "Вывод: В центре города самые дорогие квартиры. По мере удаления от центра стоимость средняя стоимость квартиры снижается, хотя примерно с 4 до 7 км от центра наблюдается скачок, это может объясняться наличием новых милых застроек в соответствующем незначительном удалении от центра (а также тем фактом, что в самом центре в радиусе 0-4 км таких новостроек нет, поэтому там с каждым км стоимость снижается).\n",
    "На значительном удалении от центра (26-28 км) есть всплеск, скорее всего - это новостройка(и). Более 30 км - это скорее всего, выброс / аномалия. "
   ]
  },
  {
   "cell_type": "markdown",
   "metadata": {
    "id": "h7VpzkIDAwb-"
   },
   "source": [
    "### Напишите общий вывод"
   ]
  },
  {
   "cell_type": "markdown",
   "metadata": {
    "id": "3H4lnp_KAwb-"
   },
   "source": [
    "Целями проекта были:\n",
    "1. Изучить общую полученную исходную информацию.Постройте гистограмму(ы)\n",
    "2. Выполнить предобработку данных\n",
    "- Найти, изучить пропущенные значения в столбцах, заполните пропущенные значения там, где это возможно. \n",
    "- При необходимости преобразовать типы данных в столбцах.\n",
    "- Устранить неявные дубликаты. \n",
    "3. Добавить в таблицу новые столбцы со следующими параметрами:\n",
    "- цена одного квадратного метра;\n",
    "- день недели публикации объявления;\n",
    "- месяц публикации объявления;\n",
    "- год публикации объявления;\n",
    "- тип этажа квартиры (значения — «‎первый», «последний», «другой»);\n",
    "- расстояние до центра города в километрах.\n",
    "4. Провести исследовательский анализ данных:\n",
    "- Изучите указанные в задании параметры объектов и построить отдельные гистограммы для каждого из этих параметров. Удалить/ обработать аномалии. \n",
    "- Изучить, как быстро продавались квартиры (столбец days_exposition).\n",
    "- Определить факторы, которые больше всего влияют на общую (полную) стоимость объекта.\n",
    "- Посчитать среднюю цену одного квадратного метра в 10 населённых пунктах с наибольшим числом объявлений — построить сводную таблицу с количеством объявлений и средней ценой квадратного метра для этих населенных пунктов. Выделить населённые пункты с самой высокой и низкой стоимостью квадратного метра.\n",
    "5. Выделить квартиры в Санкт-Петербурге с помощью столбца `locality_name` и вычислить их среднюю стоимость на разном удалении от центра.\n",
    "\n",
    "Выводы: датасет в целом пригоден для анализа, хотя некоторые столбы содержали пропуски, а также аномальные значения /дубликаты. В связи с этим, пришлось осуществить этап предобработки данных, на котором были проделаны следующие работы:\n",
    "\n",
    "1. Заполнили пропуски в столбце \"ceiling_height\" (заменили аномальные значения: от 1 м до 2.34 м, а также 8., 8.3, 10.3, 14., 20., 22.6, 100. - на медиану, а правдоподобно выглядящие значения, но с неправильно забитой точкой (24, 25, 26, 27, 27.5, 32) - на соответствующие значения (2.4, 2.5, 2.6, 2.7, 2.75, 3.2). Предположили при этом, что высота потолков до 6 м - реальная высота).\n",
    "заполнили пропуски (86 шт) в столбце Floors_total (скорее всего, это объявления по квартирам с одноэтажными домами и не было необходимости указывать этаж, поэтому замениkb пропуски на единицы)\n",
    "pаполнили пропуски в столбце living_area медианой отношения жилой к общей площади по всем имеющимся значениям.\n",
    "заполнили пропуски в столбце is_apartment  значением False\n",
    "заполнили пропуски в столбце kitchen_area  - для студий - значеним 0, - для остальных - медианами в зависимости от кол-ва комнат.\n",
    "заполнили пропуски в столбце balcony - nan заменили на 0, так как если не указано число, то балконов нет\n",
    "заполнили пропуски в столбце locality_name. Пропуски, скорее всго, появились потому, что имеется ввиду Санкт_Петербург и должен быть еще столбец с адресом (ул. Такая-то, дом Такой-то), но его в датасете нет. Пропуcки заменены на \"Санкт-Петербург\".\n",
    "не заполняли пропуски в геоданных, полученных автоматически, т.к. мы не можем определить никаких корреляций здесь и если станем заполнять пропуски, это может исказить результаты исследования.\n",
    "Заполнили пропуски в days_exposition: исходя из предположения, что это нули (т.е. квартира висела в продаже в течение 1 дня).\n",
    "2. Изменили типы данных на более подходящие значениям и целях экономии памяти, а также повышения удобства исследования.\n",
    "исключили неявные дубликаты в столбце \"locality_name\".\n",
    "3. добавили необходимые столбцы.\n",
    "по требуемым параметрам построены гистограммы и выявлены аномалии/ выбросы, огт которых датасет был избавлен.\n",
    "4. Изучили, как быстро продавались квартиры. Исходя из данных исследования, можно сделать вывод, что обычно квартира продается 73 дня. Все продажи больше 400 дней можно считать необычно долгими. Обычной быстрой продажей можно считать продажу сроком от 0 до 25 дней.\n",
    "В рамках задачи определения факторов, которые больше всего влияют на общую (полную) стоимость объекта, установили, что факторы, которые больше всего влияют на общую (полную) стоимость объекта, это: \n",
    "        - общая площадь (с коэффициентом корреляции 0,76)\n",
    "        - жилая площадь (с коэффициентом корреляции 0.68)\n",
    "        - площадь кухни (с коэффициентом корреляции 0.53)\n",
    "        - количество комнат (с коэффициентом корреляции 0.47).\n",
    "        Остальные критерии (этаж, день недели, месяц год) не влияют на стоимость или влияют в очень малой степени.\n",
    "В результате исследования средних цен в топ-10 городов по количеству объявлений, выяснилось, что средние цены на квартиры в 10 городах с самым большим количеством объявлений варьируются от 58 141 руб за кв.м. до 113379.9 руб за кв.м. Самые дорогие квартиры в Санкт_Петербурге, самые дешевые - в Выборге.\n",
    "\n",
    "Что касается самого Петербурга, в центре города самые дорогие квартиры. По мере удаления от центра стоимость средняя стоимость квартиры снижается, хотя примерно с 4 до 7 км от центра наблюдается скачок, это может объясняться наличием новых жилых застроек в соответствующем незначительном удалении от центра (а также тем фактом, что в самом центре в радиусе 0-4 км таких новостроек нет, поэтому там с каждым км стоимость снижается).\n",
    "На значительном удалении от центра (26-28 км) есть всплеск, скорее всего - это тоже новостройка(и). Более 30 км - это скорее всего, выбросы / аномалии.\n",
    "\n",
    "\n",
    "\n"
   ]
  },
  {
   "cell_type": "markdown",
   "metadata": {
    "id": "A90mc0BgAwb-"
   },
   "source": [
    "**Чек-лист готовности проекта**\n",
    "\n",
    "Поставьте 'x' в выполненных пунктах. Далее нажмите Shift+Enter."
   ]
  },
  {
   "cell_type": "markdown",
   "metadata": {
    "id": "ME3sTWm6Awb-"
   },
   "source": [
    "- [x]  Файл с данными открыт.\n",
    "- [x]  Файл с данными изучен: выведены первые строки, использован метод `info()`, построены гистограммы.\n",
    "- [x]  Найдены пропущенные значения.\n",
    "- [x]  Пропущенные значения заполнены там, где это возможно.\n",
    "- [x]  Объяснено, какие пропущенные значения обнаружены.\n",
    "- [x]  В каждом столбце установлен корректный тип данных.\n",
    "- [x]  Объяснено, в каких столбцах изменён тип данных и почему.\n",
    "- [x]  Устранены неявные дубликаты в названиях населённых пунктов.\n",
    "- [x]  Обработаны редкие и выбивающиеся значения (аномалии).\n",
    "- [x]  В таблицу добавлены новые параметры:\n",
    "       – цена одного квадратного метра;\n",
    "       – день публикации объявления (0 - понедельник, 1 - вторник и т. д.);\n",
    "       – месяц публикации объявления;\n",
    "       – год публикации объявления;\n",
    "       – тип этажа квартиры (значения — «первый», «последний», «другой»);\n",
    "       – расстояние до центра города в километрах.\n",
    "- [x]  Изучены и описаны параметры:\n",
    "        - общая площадь;\n",
    "        - жилая площадь;\n",
    "        - площадь кухни;\n",
    "        - цена объекта;\n",
    "        - количество комнат;\n",
    "        - высота потолков;\n",
    "        - тип этажа квартиры («первый», «последний», «другой»);\n",
    "        - общее количество этажей в доме;\n",
    "        - расстояние до центра города в метрах;\n",
    "        - расстояние до ближайшего парка.\n",
    "- [х]  Выполнено задание «Изучите, как быстро продавались квартиры (столбец `days_exposition`)»:\n",
    "    - построена гистограмма;\n",
    "    - рассчитаны среднее и медиана;\n",
    "    - описано, сколько обычно занимает продажа и указано, какие продажи можно считать быстрыми, а какие — необычно долгими.\n",
    "- [х]  Выполнено задание «Определите факторы, которые больше всего влияют на общую (полную) стоимость объекта». Построены графики, которые показывают зависимость цены от параметров:\n",
    "        - общая площадь;\n",
    "        - жилая площадь;\n",
    "        - площадь кухни;\n",
    "        - количество комнат;\n",
    "        - тип этажа, на котором расположена квартира (первый, последний, другой);\n",
    "        - дата размещения (день недели, месяц, год).\n",
    "- [x]  Выполнено задание «Посчитайте среднюю цену одного квадратного метра в 10 населённых пунктах с наибольшим числом объявлений»:\n",
    "    - выделены населённые пункты с самой высокой и низкой стоимостью квадратного метра.\n",
    "- [х]  Выполнено задание «Выделите квартиры в Санкт-Петербурге с помощью столбца `locality_name` и вычислите их среднюю стоимость на разном удалении от центра»:\n",
    "    -  учтён каждый километр расстояния, известны средние цены квартир в одном километре от центра, в двух и так далее;\n",
    "    -  описано, как стоимость объекта зависит от расстояния до центра города;\n",
    "    -  построен график изменения средней цены для каждого километра от центра Петербурга.\n",
    "- [х]  На каждом этапе сделаны промежуточные выводы.\n",
    "- [х]  В конце проекта сделан общий вывод."
   ]
  }
 ],
 "metadata": {
  "ExecuteTimeLog": [
   {
    "duration": 114,
    "start_time": "2023-12-05T18:27:54.825Z"
   },
   {
    "duration": 102,
    "start_time": "2023-12-05T18:28:07.982Z"
   },
   {
    "duration": 575,
    "start_time": "2023-12-05T18:28:17.594Z"
   },
   {
    "duration": 2428,
    "start_time": "2023-12-05T18:28:56.739Z"
   },
   {
    "duration": 1495,
    "start_time": "2023-12-05T18:30:59.828Z"
   },
   {
    "duration": 107,
    "start_time": "2023-12-05T18:31:11.875Z"
   },
   {
    "duration": 1404,
    "start_time": "2023-12-05T18:31:15.700Z"
   },
   {
    "duration": 5,
    "start_time": "2023-12-05T18:31:36.148Z"
   },
   {
    "duration": 7,
    "start_time": "2023-12-05T18:32:02.932Z"
   },
   {
    "duration": 7,
    "start_time": "2023-12-05T18:33:21.862Z"
   },
   {
    "duration": 6,
    "start_time": "2023-12-05T18:33:34.061Z"
   },
   {
    "duration": 7,
    "start_time": "2023-12-05T18:37:40.135Z"
   },
   {
    "duration": 125,
    "start_time": "2023-12-05T18:38:18.632Z"
   },
   {
    "duration": 6,
    "start_time": "2023-12-05T18:40:43.121Z"
   },
   {
    "duration": 7,
    "start_time": "2023-12-05T18:41:21.681Z"
   },
   {
    "duration": 6,
    "start_time": "2023-12-05T18:43:22.099Z"
   },
   {
    "duration": 6,
    "start_time": "2023-12-05T18:43:27.739Z"
   },
   {
    "duration": 3,
    "start_time": "2023-12-05T18:43:34.187Z"
   },
   {
    "duration": 6,
    "start_time": "2023-12-05T18:43:40.699Z"
   },
   {
    "duration": 5,
    "start_time": "2023-12-05T18:55:35.844Z"
   },
   {
    "duration": 5,
    "start_time": "2023-12-05T18:56:05.811Z"
   },
   {
    "duration": 7,
    "start_time": "2023-12-05T18:56:48.251Z"
   },
   {
    "duration": 10,
    "start_time": "2023-12-05T19:02:25.919Z"
   },
   {
    "duration": 16,
    "start_time": "2023-12-05T19:02:49.447Z"
   },
   {
    "duration": 14,
    "start_time": "2023-12-05T19:06:02.330Z"
   },
   {
    "duration": 5,
    "start_time": "2023-12-05T19:07:19.530Z"
   },
   {
    "duration": 88,
    "start_time": "2023-12-05T19:08:41.396Z"
   },
   {
    "duration": 104,
    "start_time": "2023-12-05T19:08:51.811Z"
   },
   {
    "duration": 11,
    "start_time": "2023-12-05T19:09:05.172Z"
   },
   {
    "duration": 9,
    "start_time": "2023-12-05T19:09:55.012Z"
   },
   {
    "duration": 37,
    "start_time": "2023-12-05T19:10:15.660Z"
   },
   {
    "duration": 7,
    "start_time": "2023-12-05T19:10:59.130Z"
   },
   {
    "duration": 5,
    "start_time": "2023-12-05T19:11:41.173Z"
   },
   {
    "duration": 7,
    "start_time": "2023-12-05T19:11:49.597Z"
   },
   {
    "duration": 7,
    "start_time": "2023-12-05T19:16:54.745Z"
   },
   {
    "duration": 112,
    "start_time": "2023-12-05T19:17:05.017Z"
   },
   {
    "duration": 7,
    "start_time": "2023-12-05T19:17:08.056Z"
   },
   {
    "duration": 5,
    "start_time": "2023-12-05T19:17:18.737Z"
   },
   {
    "duration": 8,
    "start_time": "2023-12-05T19:19:06.282Z"
   },
   {
    "duration": 7,
    "start_time": "2023-12-05T19:19:15.914Z"
   },
   {
    "duration": 4,
    "start_time": "2023-12-05T19:21:03.052Z"
   },
   {
    "duration": 6,
    "start_time": "2023-12-05T19:30:02.122Z"
   },
   {
    "duration": 6,
    "start_time": "2023-12-05T19:30:52.394Z"
   },
   {
    "duration": 5,
    "start_time": "2023-12-05T19:31:57.203Z"
   },
   {
    "duration": 8,
    "start_time": "2023-12-05T19:32:25.627Z"
   },
   {
    "duration": 9,
    "start_time": "2023-12-05T19:33:50.308Z"
   },
   {
    "duration": 7,
    "start_time": "2023-12-05T19:34:16.428Z"
   },
   {
    "duration": 7,
    "start_time": "2023-12-05T19:34:28.340Z"
   },
   {
    "duration": 7,
    "start_time": "2023-12-05T19:34:48.117Z"
   },
   {
    "duration": 7,
    "start_time": "2023-12-05T19:35:49.981Z"
   },
   {
    "duration": 8,
    "start_time": "2023-12-05T19:36:21.525Z"
   },
   {
    "duration": 7,
    "start_time": "2023-12-05T19:37:24.423Z"
   },
   {
    "duration": 7,
    "start_time": "2023-12-05T19:37:43.183Z"
   },
   {
    "duration": 8,
    "start_time": "2023-12-05T19:50:51.729Z"
   },
   {
    "duration": 8,
    "start_time": "2023-12-05T19:51:06.538Z"
   },
   {
    "duration": 8,
    "start_time": "2023-12-05T19:51:20.458Z"
   },
   {
    "duration": 6,
    "start_time": "2023-12-05T19:51:26.091Z"
   },
   {
    "duration": 6,
    "start_time": "2023-12-05T19:52:06.923Z"
   },
   {
    "duration": 6,
    "start_time": "2023-12-05T19:52:15.595Z"
   },
   {
    "duration": 6,
    "start_time": "2023-12-05T19:52:25.603Z"
   },
   {
    "duration": 5,
    "start_time": "2023-12-05T19:54:54.429Z"
   },
   {
    "duration": 5,
    "start_time": "2023-12-05T19:56:32.054Z"
   },
   {
    "duration": 6,
    "start_time": "2023-12-05T19:58:52.287Z"
   },
   {
    "duration": 7,
    "start_time": "2023-12-05T19:59:19.744Z"
   },
   {
    "duration": 8,
    "start_time": "2023-12-05T20:01:57.930Z"
   },
   {
    "duration": 7,
    "start_time": "2023-12-05T20:11:32.256Z"
   },
   {
    "duration": 88,
    "start_time": "2023-12-05T20:11:34.776Z"
   },
   {
    "duration": 9,
    "start_time": "2023-12-05T20:11:43.600Z"
   },
   {
    "duration": 7,
    "start_time": "2023-12-05T20:12:06.961Z"
   },
   {
    "duration": 8,
    "start_time": "2023-12-05T20:16:56.347Z"
   },
   {
    "duration": 8,
    "start_time": "2023-12-05T20:18:17.980Z"
   },
   {
    "duration": 8,
    "start_time": "2023-12-05T20:18:32.171Z"
   },
   {
    "duration": 8,
    "start_time": "2023-12-05T20:18:57.436Z"
   },
   {
    "duration": 9,
    "start_time": "2023-12-05T20:19:07.060Z"
   },
   {
    "duration": 10,
    "start_time": "2023-12-05T20:19:39.788Z"
   },
   {
    "duration": 9,
    "start_time": "2023-12-05T20:29:44.227Z"
   },
   {
    "duration": 5,
    "start_time": "2023-12-05T20:30:02.595Z"
   },
   {
    "duration": 4,
    "start_time": "2023-12-05T20:30:59.235Z"
   },
   {
    "duration": 9,
    "start_time": "2023-12-05T20:36:06.695Z"
   },
   {
    "duration": 7,
    "start_time": "2023-12-05T20:36:22.543Z"
   },
   {
    "duration": 104,
    "start_time": "2023-12-05T20:36:38.101Z"
   },
   {
    "duration": 7,
    "start_time": "2023-12-05T20:36:38.207Z"
   },
   {
    "duration": 10,
    "start_time": "2023-12-05T20:36:38.216Z"
   },
   {
    "duration": 5,
    "start_time": "2023-12-05T20:36:38.227Z"
   },
   {
    "duration": 8,
    "start_time": "2023-12-05T20:36:38.233Z"
   },
   {
    "duration": 0,
    "start_time": "2023-12-05T20:36:38.243Z"
   },
   {
    "duration": 7,
    "start_time": "2023-12-05T20:37:34.304Z"
   },
   {
    "duration": 7,
    "start_time": "2023-12-05T20:37:55.888Z"
   },
   {
    "duration": 4,
    "start_time": "2023-12-05T20:38:26.520Z"
   },
   {
    "duration": 6,
    "start_time": "2023-12-05T20:40:21.642Z"
   },
   {
    "duration": 6,
    "start_time": "2023-12-05T20:40:42.322Z"
   },
   {
    "duration": 5,
    "start_time": "2023-12-05T20:40:59.673Z"
   },
   {
    "duration": 6,
    "start_time": "2023-12-05T20:41:04.706Z"
   },
   {
    "duration": 5,
    "start_time": "2023-12-05T20:41:31.979Z"
   },
   {
    "duration": 6,
    "start_time": "2023-12-05T20:41:52.842Z"
   },
   {
    "duration": 17,
    "start_time": "2023-12-05T20:44:36.797Z"
   },
   {
    "duration": 5,
    "start_time": "2023-12-05T20:47:29.535Z"
   },
   {
    "duration": 4,
    "start_time": "2023-12-05T20:48:23.800Z"
   },
   {
    "duration": 5,
    "start_time": "2023-12-05T20:49:04.976Z"
   },
   {
    "duration": 8,
    "start_time": "2023-12-05T20:51:28.945Z"
   },
   {
    "duration": 7,
    "start_time": "2023-12-05T20:51:42.089Z"
   },
   {
    "duration": 7,
    "start_time": "2023-12-05T20:52:02.738Z"
   },
   {
    "duration": 7,
    "start_time": "2023-12-05T20:52:10.522Z"
   },
   {
    "duration": 7,
    "start_time": "2023-12-05T20:52:13.530Z"
   },
   {
    "duration": 5,
    "start_time": "2023-12-05T20:52:22.003Z"
   },
   {
    "duration": 9,
    "start_time": "2023-12-05T20:52:24.066Z"
   },
   {
    "duration": 6,
    "start_time": "2023-12-05T20:53:19.196Z"
   },
   {
    "duration": 7,
    "start_time": "2023-12-05T20:53:27.620Z"
   },
   {
    "duration": 7,
    "start_time": "2023-12-05T20:53:48.036Z"
   },
   {
    "duration": 7,
    "start_time": "2023-12-05T20:54:00.276Z"
   },
   {
    "duration": 102,
    "start_time": "2023-12-05T20:54:07.044Z"
   },
   {
    "duration": 7,
    "start_time": "2023-12-05T20:54:07.148Z"
   },
   {
    "duration": 21,
    "start_time": "2023-12-05T20:54:07.156Z"
   },
   {
    "duration": 13,
    "start_time": "2023-12-05T20:54:07.179Z"
   },
   {
    "duration": 18,
    "start_time": "2023-12-05T20:54:07.193Z"
   },
   {
    "duration": 94,
    "start_time": "2023-12-05T20:54:07.213Z"
   },
   {
    "duration": 0,
    "start_time": "2023-12-05T20:54:07.309Z"
   },
   {
    "duration": 0,
    "start_time": "2023-12-05T20:54:07.310Z"
   },
   {
    "duration": 83,
    "start_time": "2023-12-05T20:54:30.044Z"
   },
   {
    "duration": 85,
    "start_time": "2023-12-05T20:54:46.937Z"
   },
   {
    "duration": 91,
    "start_time": "2023-12-05T20:54:59.957Z"
   },
   {
    "duration": 5,
    "start_time": "2023-12-05T20:55:05.413Z"
   },
   {
    "duration": 93,
    "start_time": "2023-12-05T20:55:06.620Z"
   },
   {
    "duration": 7,
    "start_time": "2023-12-05T20:55:22.613Z"
   },
   {
    "duration": 7,
    "start_time": "2023-12-05T20:55:34.124Z"
   },
   {
    "duration": 102,
    "start_time": "2023-12-05T20:55:40.405Z"
   },
   {
    "duration": 7,
    "start_time": "2023-12-05T20:55:40.509Z"
   },
   {
    "duration": 14,
    "start_time": "2023-12-05T20:55:40.517Z"
   },
   {
    "duration": 4,
    "start_time": "2023-12-05T20:55:40.532Z"
   },
   {
    "duration": 5,
    "start_time": "2023-12-05T20:55:40.538Z"
   },
   {
    "duration": 8,
    "start_time": "2023-12-05T20:55:40.544Z"
   },
   {
    "duration": 13,
    "start_time": "2023-12-05T20:55:40.554Z"
   },
   {
    "duration": 5,
    "start_time": "2023-12-05T20:58:10.342Z"
   },
   {
    "duration": 5,
    "start_time": "2023-12-05T20:58:31.159Z"
   },
   {
    "duration": 14,
    "start_time": "2023-12-05T20:59:20.223Z"
   },
   {
    "duration": 10,
    "start_time": "2023-12-05T21:01:41.554Z"
   },
   {
    "duration": 4,
    "start_time": "2023-12-05T21:06:14.372Z"
   },
   {
    "duration": 5,
    "start_time": "2023-12-05T21:08:16.254Z"
   },
   {
    "duration": 98,
    "start_time": "2023-12-05T21:08:21.987Z"
   },
   {
    "duration": 7,
    "start_time": "2023-12-05T21:08:22.086Z"
   },
   {
    "duration": 29,
    "start_time": "2023-12-05T21:08:22.094Z"
   },
   {
    "duration": 6,
    "start_time": "2023-12-05T21:08:22.124Z"
   },
   {
    "duration": 5,
    "start_time": "2023-12-05T21:08:22.132Z"
   },
   {
    "duration": 11,
    "start_time": "2023-12-05T21:08:22.138Z"
   },
   {
    "duration": 16,
    "start_time": "2023-12-05T21:08:22.151Z"
   },
   {
    "duration": 32,
    "start_time": "2023-12-05T21:08:22.169Z"
   },
   {
    "duration": 16,
    "start_time": "2023-12-05T21:08:22.203Z"
   },
   {
    "duration": 5,
    "start_time": "2023-12-05T21:08:22.221Z"
   },
   {
    "duration": 2,
    "start_time": "2023-12-05T21:10:53.688Z"
   },
   {
    "duration": 5,
    "start_time": "2023-12-05T21:12:15.025Z"
   },
   {
    "duration": 98,
    "start_time": "2023-12-05T21:12:17.985Z"
   },
   {
    "duration": 7,
    "start_time": "2023-12-05T21:12:18.085Z"
   },
   {
    "duration": 15,
    "start_time": "2023-12-05T21:12:18.093Z"
   },
   {
    "duration": 8,
    "start_time": "2023-12-05T21:12:18.109Z"
   },
   {
    "duration": 7,
    "start_time": "2023-12-05T21:12:18.119Z"
   },
   {
    "duration": 7,
    "start_time": "2023-12-05T21:12:18.127Z"
   },
   {
    "duration": 12,
    "start_time": "2023-12-05T21:12:18.135Z"
   },
   {
    "duration": 5,
    "start_time": "2023-12-05T21:12:18.149Z"
   },
   {
    "duration": 11,
    "start_time": "2023-12-05T21:12:18.156Z"
   },
   {
    "duration": 15,
    "start_time": "2023-12-05T21:12:18.168Z"
   },
   {
    "duration": 9,
    "start_time": "2023-12-05T21:13:38.185Z"
   },
   {
    "duration": 5,
    "start_time": "2023-12-05T21:13:54.921Z"
   },
   {
    "duration": 6,
    "start_time": "2023-12-05T21:17:09.428Z"
   },
   {
    "duration": 3,
    "start_time": "2023-12-05T21:18:55.364Z"
   },
   {
    "duration": 6,
    "start_time": "2023-12-05T21:25:11.329Z"
   },
   {
    "duration": 4,
    "start_time": "2023-12-05T21:25:31.305Z"
   },
   {
    "duration": 7,
    "start_time": "2023-12-05T21:25:46.698Z"
   },
   {
    "duration": 5,
    "start_time": "2023-12-05T21:34:17.039Z"
   },
   {
    "duration": 5,
    "start_time": "2023-12-05T21:36:23.760Z"
   },
   {
    "duration": 7,
    "start_time": "2023-12-05T21:36:48.857Z"
   },
   {
    "duration": 9,
    "start_time": "2023-12-05T21:37:18.481Z"
   },
   {
    "duration": 5,
    "start_time": "2023-12-05T21:38:23.850Z"
   },
   {
    "duration": 6,
    "start_time": "2023-12-05T21:39:22.954Z"
   },
   {
    "duration": 7,
    "start_time": "2023-12-05T21:39:43.950Z"
   },
   {
    "duration": 9,
    "start_time": "2023-12-05T21:40:29.746Z"
   },
   {
    "duration": 7,
    "start_time": "2023-12-05T21:40:37.772Z"
   },
   {
    "duration": 8,
    "start_time": "2023-12-05T21:41:51.068Z"
   },
   {
    "duration": 5,
    "start_time": "2023-12-05T21:41:58.460Z"
   },
   {
    "duration": 10,
    "start_time": "2023-12-05T21:42:15.452Z"
   },
   {
    "duration": 11,
    "start_time": "2023-12-05T21:44:08.981Z"
   },
   {
    "duration": 9,
    "start_time": "2023-12-05T21:47:24.464Z"
   },
   {
    "duration": 6,
    "start_time": "2023-12-05T21:47:30.976Z"
   },
   {
    "duration": 6,
    "start_time": "2023-12-05T21:47:57.496Z"
   },
   {
    "duration": 580,
    "start_time": "2023-12-09T11:58:11.939Z"
   },
   {
    "duration": 8,
    "start_time": "2023-12-09T11:58:12.520Z"
   },
   {
    "duration": 11,
    "start_time": "2023-12-09T11:58:12.530Z"
   },
   {
    "duration": 13,
    "start_time": "2023-12-09T11:58:12.542Z"
   },
   {
    "duration": 19,
    "start_time": "2023-12-09T11:58:12.557Z"
   },
   {
    "duration": 7,
    "start_time": "2023-12-09T11:58:12.577Z"
   },
   {
    "duration": 5,
    "start_time": "2023-12-09T11:58:12.586Z"
   },
   {
    "duration": 14,
    "start_time": "2023-12-09T11:58:12.592Z"
   },
   {
    "duration": 13,
    "start_time": "2023-12-09T11:58:12.608Z"
   },
   {
    "duration": 13,
    "start_time": "2023-12-09T11:58:12.622Z"
   },
   {
    "duration": 23,
    "start_time": "2023-12-09T11:58:12.637Z"
   },
   {
    "duration": 8,
    "start_time": "2023-12-09T12:03:05.392Z"
   },
   {
    "duration": 13,
    "start_time": "2023-12-09T12:04:20.732Z"
   },
   {
    "duration": 22,
    "start_time": "2023-12-09T12:07:00.782Z"
   },
   {
    "duration": 27,
    "start_time": "2023-12-09T12:07:23.494Z"
   },
   {
    "duration": 6,
    "start_time": "2023-12-09T12:07:29.206Z"
   },
   {
    "duration": 20,
    "start_time": "2023-12-09T12:07:37.303Z"
   },
   {
    "duration": 87,
    "start_time": "2023-12-09T12:09:07.768Z"
   },
   {
    "duration": 17,
    "start_time": "2023-12-09T12:09:24.976Z"
   },
   {
    "duration": 23,
    "start_time": "2023-12-09T12:09:56.640Z"
   },
   {
    "duration": 15,
    "start_time": "2023-12-09T12:10:00.712Z"
   },
   {
    "duration": 8,
    "start_time": "2023-12-09T12:10:09.152Z"
   },
   {
    "duration": 29,
    "start_time": "2023-12-09T12:10:43.401Z"
   },
   {
    "duration": 8,
    "start_time": "2023-12-09T12:11:13.432Z"
   },
   {
    "duration": 9,
    "start_time": "2023-12-09T12:11:22.657Z"
   },
   {
    "duration": 7,
    "start_time": "2023-12-09T12:11:51.103Z"
   },
   {
    "duration": 70,
    "start_time": "2023-12-09T12:12:02.986Z"
   },
   {
    "duration": 40,
    "start_time": "2023-12-09T12:16:15.373Z"
   },
   {
    "duration": 13,
    "start_time": "2023-12-09T12:17:00.477Z"
   },
   {
    "duration": 36,
    "start_time": "2023-12-09T12:17:26.349Z"
   },
   {
    "duration": 8,
    "start_time": "2023-12-09T12:17:49.197Z"
   },
   {
    "duration": 9,
    "start_time": "2023-12-09T12:21:26.744Z"
   },
   {
    "duration": 9,
    "start_time": "2023-12-09T12:22:11.137Z"
   },
   {
    "duration": 401,
    "start_time": "2023-12-09T12:22:18.097Z"
   },
   {
    "duration": 27,
    "start_time": "2023-12-09T12:23:42.402Z"
   },
   {
    "duration": 4,
    "start_time": "2023-12-09T12:24:12.843Z"
   },
   {
    "duration": 7,
    "start_time": "2023-12-09T12:27:12.917Z"
   },
   {
    "duration": 6,
    "start_time": "2023-12-09T12:27:18.453Z"
   },
   {
    "duration": 105,
    "start_time": "2023-12-09T12:27:23.462Z"
   },
   {
    "duration": 7,
    "start_time": "2023-12-09T12:27:23.569Z"
   },
   {
    "duration": 39,
    "start_time": "2023-12-09T12:27:23.578Z"
   },
   {
    "duration": 13,
    "start_time": "2023-12-09T12:27:23.619Z"
   },
   {
    "duration": 23,
    "start_time": "2023-12-09T12:27:23.634Z"
   },
   {
    "duration": 11,
    "start_time": "2023-12-09T12:27:23.659Z"
   },
   {
    "duration": 24,
    "start_time": "2023-12-09T12:27:23.672Z"
   },
   {
    "duration": 0,
    "start_time": "2023-12-09T12:27:23.698Z"
   },
   {
    "duration": 0,
    "start_time": "2023-12-09T12:27:23.699Z"
   },
   {
    "duration": 0,
    "start_time": "2023-12-09T12:27:23.700Z"
   },
   {
    "duration": 0,
    "start_time": "2023-12-09T12:27:23.701Z"
   },
   {
    "duration": 65,
    "start_time": "2023-12-09T12:27:49.333Z"
   },
   {
    "duration": 45,
    "start_time": "2023-12-09T12:28:29.157Z"
   },
   {
    "duration": 25,
    "start_time": "2023-12-09T12:28:40.453Z"
   },
   {
    "duration": 10,
    "start_time": "2023-12-09T12:28:55.470Z"
   },
   {
    "duration": 28,
    "start_time": "2023-12-09T12:29:08.718Z"
   },
   {
    "duration": 31,
    "start_time": "2023-12-09T12:29:48.006Z"
   },
   {
    "duration": 46,
    "start_time": "2023-12-09T12:30:42.151Z"
   },
   {
    "duration": 8,
    "start_time": "2023-12-09T12:43:44.561Z"
   },
   {
    "duration": 23,
    "start_time": "2023-12-09T12:43:56.993Z"
   },
   {
    "duration": 9,
    "start_time": "2023-12-09T12:44:11.946Z"
   },
   {
    "duration": 10,
    "start_time": "2023-12-09T12:44:36.402Z"
   },
   {
    "duration": 22,
    "start_time": "2023-12-09T12:44:51.794Z"
   },
   {
    "duration": 29,
    "start_time": "2023-12-09T12:45:56.427Z"
   },
   {
    "duration": 24,
    "start_time": "2023-12-09T12:46:10.700Z"
   },
   {
    "duration": 9,
    "start_time": "2023-12-09T12:47:56.628Z"
   },
   {
    "duration": 9,
    "start_time": "2023-12-09T12:49:05.518Z"
   },
   {
    "duration": 8,
    "start_time": "2023-12-09T12:49:33.733Z"
   },
   {
    "duration": 10,
    "start_time": "2023-12-09T12:49:40.589Z"
   },
   {
    "duration": 8,
    "start_time": "2023-12-09T12:50:05.622Z"
   },
   {
    "duration": 27,
    "start_time": "2023-12-09T12:50:47.431Z"
   },
   {
    "duration": 234,
    "start_time": "2023-12-09T12:55:05.050Z"
   },
   {
    "duration": 26,
    "start_time": "2023-12-09T13:06:06.522Z"
   },
   {
    "duration": 29,
    "start_time": "2023-12-09T13:07:11.122Z"
   },
   {
    "duration": 25,
    "start_time": "2023-12-09T13:07:31.241Z"
   },
   {
    "duration": 20,
    "start_time": "2023-12-09T13:07:45.657Z"
   },
   {
    "duration": 47,
    "start_time": "2023-12-09T13:11:18.588Z"
   },
   {
    "duration": 24,
    "start_time": "2023-12-09T13:11:25.181Z"
   },
   {
    "duration": 13,
    "start_time": "2023-12-09T13:11:36.437Z"
   },
   {
    "duration": 14,
    "start_time": "2023-12-09T13:12:05.037Z"
   },
   {
    "duration": 13,
    "start_time": "2023-12-09T13:12:50.725Z"
   },
   {
    "duration": 872,
    "start_time": "2023-12-09T13:13:35.302Z"
   },
   {
    "duration": 57,
    "start_time": "2023-12-09T13:15:18.231Z"
   },
   {
    "duration": 7,
    "start_time": "2023-12-09T13:15:28.263Z"
   },
   {
    "duration": 6,
    "start_time": "2023-12-09T13:17:57.416Z"
   },
   {
    "duration": 11,
    "start_time": "2023-12-09T13:19:18.321Z"
   },
   {
    "duration": 4,
    "start_time": "2023-12-09T13:20:02.762Z"
   },
   {
    "duration": 6,
    "start_time": "2023-12-09T13:20:11.218Z"
   },
   {
    "duration": 10,
    "start_time": "2023-12-09T13:20:15.089Z"
   },
   {
    "duration": 5,
    "start_time": "2023-12-09T13:20:17.514Z"
   },
   {
    "duration": 107,
    "start_time": "2023-12-09T13:20:22.651Z"
   },
   {
    "duration": 13,
    "start_time": "2023-12-09T13:20:22.760Z"
   },
   {
    "duration": 24,
    "start_time": "2023-12-09T13:20:22.775Z"
   },
   {
    "duration": 32,
    "start_time": "2023-12-09T13:20:22.801Z"
   },
   {
    "duration": 41,
    "start_time": "2023-12-09T13:20:22.835Z"
   },
   {
    "duration": 22,
    "start_time": "2023-12-09T13:20:22.878Z"
   },
   {
    "duration": 7,
    "start_time": "2023-12-09T13:20:22.902Z"
   },
   {
    "duration": 5,
    "start_time": "2023-12-09T13:20:22.911Z"
   },
   {
    "duration": 8,
    "start_time": "2023-12-09T13:20:22.918Z"
   },
   {
    "duration": 12,
    "start_time": "2023-12-09T13:20:22.928Z"
   },
   {
    "duration": 22,
    "start_time": "2023-12-09T13:20:22.941Z"
   },
   {
    "duration": 6,
    "start_time": "2023-12-09T13:20:41.146Z"
   },
   {
    "duration": 6,
    "start_time": "2023-12-09T13:21:23.394Z"
   },
   {
    "duration": 9,
    "start_time": "2023-12-09T13:22:09.227Z"
   },
   {
    "duration": 4,
    "start_time": "2023-12-09T13:22:16.131Z"
   },
   {
    "duration": 4,
    "start_time": "2023-12-09T13:22:21.571Z"
   },
   {
    "duration": 4,
    "start_time": "2023-12-09T13:22:45.836Z"
   },
   {
    "duration": 5,
    "start_time": "2023-12-09T13:22:53.803Z"
   },
   {
    "duration": 54,
    "start_time": "2023-12-09T13:23:16.668Z"
   },
   {
    "duration": 7,
    "start_time": "2023-12-09T13:23:33.228Z"
   },
   {
    "duration": 8,
    "start_time": "2023-12-09T13:27:21.687Z"
   },
   {
    "duration": 9,
    "start_time": "2023-12-09T13:27:30.591Z"
   },
   {
    "duration": 71,
    "start_time": "2023-12-09T13:28:27.488Z"
   },
   {
    "duration": 39,
    "start_time": "2023-12-09T13:28:33.584Z"
   },
   {
    "duration": 108,
    "start_time": "2023-12-09T13:29:02.097Z"
   },
   {
    "duration": 7,
    "start_time": "2023-12-09T13:29:02.207Z"
   },
   {
    "duration": 23,
    "start_time": "2023-12-09T13:29:02.216Z"
   },
   {
    "duration": 43,
    "start_time": "2023-12-09T13:29:02.240Z"
   },
   {
    "duration": 34,
    "start_time": "2023-12-09T13:29:02.285Z"
   },
   {
    "duration": 43,
    "start_time": "2023-12-09T13:29:02.321Z"
   },
   {
    "duration": 46,
    "start_time": "2023-12-09T13:29:02.365Z"
   },
   {
    "duration": 6,
    "start_time": "2023-12-09T13:29:02.413Z"
   },
   {
    "duration": 34,
    "start_time": "2023-12-09T13:29:02.421Z"
   },
   {
    "duration": 52,
    "start_time": "2023-12-09T13:29:02.456Z"
   },
   {
    "duration": 46,
    "start_time": "2023-12-09T13:29:02.510Z"
   },
   {
    "duration": 30,
    "start_time": "2023-12-09T13:31:47.114Z"
   },
   {
    "duration": 110,
    "start_time": "2023-12-09T13:32:09.659Z"
   },
   {
    "duration": 7,
    "start_time": "2023-12-09T13:32:09.770Z"
   },
   {
    "duration": 14,
    "start_time": "2023-12-09T13:32:09.779Z"
   },
   {
    "duration": 36,
    "start_time": "2023-12-09T13:32:09.795Z"
   },
   {
    "duration": 13,
    "start_time": "2023-12-09T13:32:09.833Z"
   },
   {
    "duration": 19,
    "start_time": "2023-12-09T13:32:09.847Z"
   },
   {
    "duration": 34,
    "start_time": "2023-12-09T13:32:09.868Z"
   },
   {
    "duration": 7,
    "start_time": "2023-12-09T13:32:09.903Z"
   },
   {
    "duration": 8,
    "start_time": "2023-12-09T13:32:09.911Z"
   },
   {
    "duration": 12,
    "start_time": "2023-12-09T13:32:09.921Z"
   },
   {
    "duration": 27,
    "start_time": "2023-12-09T13:32:09.935Z"
   },
   {
    "duration": 14,
    "start_time": "2023-12-09T13:41:37.912Z"
   },
   {
    "duration": 15,
    "start_time": "2023-12-09T13:41:51.970Z"
   },
   {
    "duration": 26,
    "start_time": "2023-12-09T13:42:20.889Z"
   },
   {
    "duration": 14,
    "start_time": "2023-12-09T13:43:11.138Z"
   },
   {
    "duration": 19,
    "start_time": "2023-12-09T13:43:38.138Z"
   },
   {
    "duration": 108,
    "start_time": "2023-12-09T13:43:51.882Z"
   },
   {
    "duration": 7,
    "start_time": "2023-12-09T13:43:51.993Z"
   },
   {
    "duration": 11,
    "start_time": "2023-12-09T13:43:52.001Z"
   },
   {
    "duration": 7,
    "start_time": "2023-12-09T13:43:52.014Z"
   },
   {
    "duration": 17,
    "start_time": "2023-12-09T13:43:52.023Z"
   },
   {
    "duration": 20,
    "start_time": "2023-12-09T13:43:52.041Z"
   },
   {
    "duration": 25,
    "start_time": "2023-12-09T13:43:52.062Z"
   },
   {
    "duration": 7,
    "start_time": "2023-12-09T13:43:52.088Z"
   },
   {
    "duration": 15,
    "start_time": "2023-12-09T13:43:52.096Z"
   },
   {
    "duration": 19,
    "start_time": "2023-12-09T13:43:52.113Z"
   },
   {
    "duration": 19,
    "start_time": "2023-12-09T13:43:52.133Z"
   },
   {
    "duration": 31,
    "start_time": "2023-12-09T13:44:16.066Z"
   },
   {
    "duration": 7,
    "start_time": "2023-12-09T13:47:57.460Z"
   },
   {
    "duration": 21,
    "start_time": "2023-12-09T13:47:59.541Z"
   },
   {
    "duration": 15,
    "start_time": "2023-12-09T13:48:13.244Z"
   },
   {
    "duration": 104,
    "start_time": "2023-12-09T13:48:19.229Z"
   },
   {
    "duration": 7,
    "start_time": "2023-12-09T13:48:19.335Z"
   },
   {
    "duration": 10,
    "start_time": "2023-12-09T13:48:19.343Z"
   },
   {
    "duration": 14,
    "start_time": "2023-12-09T13:48:19.354Z"
   },
   {
    "duration": 5,
    "start_time": "2023-12-09T13:48:19.375Z"
   },
   {
    "duration": 16,
    "start_time": "2023-12-09T13:48:19.381Z"
   },
   {
    "duration": 21,
    "start_time": "2023-12-09T13:48:19.399Z"
   },
   {
    "duration": 4,
    "start_time": "2023-12-09T13:48:19.422Z"
   },
   {
    "duration": 6,
    "start_time": "2023-12-09T13:48:19.428Z"
   },
   {
    "duration": 29,
    "start_time": "2023-12-09T13:48:19.436Z"
   },
   {
    "duration": 15,
    "start_time": "2023-12-09T13:48:19.467Z"
   },
   {
    "duration": 14,
    "start_time": "2023-12-09T13:48:31.613Z"
   },
   {
    "duration": 20,
    "start_time": "2023-12-09T13:51:40.295Z"
   },
   {
    "duration": 8,
    "start_time": "2023-12-09T13:51:58.711Z"
   },
   {
    "duration": 7,
    "start_time": "2023-12-09T13:52:08.271Z"
   },
   {
    "duration": 49,
    "start_time": "2023-12-09T13:53:41.664Z"
   },
   {
    "duration": 14,
    "start_time": "2023-12-09T13:53:55.281Z"
   },
   {
    "duration": 9,
    "start_time": "2023-12-09T13:56:45.890Z"
   },
   {
    "duration": 8,
    "start_time": "2023-12-09T13:56:56.530Z"
   },
   {
    "duration": 7,
    "start_time": "2023-12-09T13:58:25.659Z"
   },
   {
    "duration": 8,
    "start_time": "2023-12-09T13:59:57.476Z"
   },
   {
    "duration": 109,
    "start_time": "2023-12-09T14:00:10.438Z"
   },
   {
    "duration": 8,
    "start_time": "2023-12-09T14:00:10.549Z"
   },
   {
    "duration": 28,
    "start_time": "2023-12-09T14:00:10.558Z"
   },
   {
    "duration": 32,
    "start_time": "2023-12-09T14:00:10.588Z"
   },
   {
    "duration": 42,
    "start_time": "2023-12-09T14:00:10.622Z"
   },
   {
    "duration": 38,
    "start_time": "2023-12-09T14:00:10.665Z"
   },
   {
    "duration": 55,
    "start_time": "2023-12-09T14:00:10.705Z"
   },
   {
    "duration": 21,
    "start_time": "2023-12-09T14:00:10.762Z"
   },
   {
    "duration": 29,
    "start_time": "2023-12-09T14:00:10.785Z"
   },
   {
    "duration": 35,
    "start_time": "2023-12-09T14:00:10.816Z"
   },
   {
    "duration": 30,
    "start_time": "2023-12-09T14:00:10.853Z"
   },
   {
    "duration": 7,
    "start_time": "2023-12-09T14:01:03.661Z"
   },
   {
    "duration": 5,
    "start_time": "2023-12-09T14:01:18.357Z"
   },
   {
    "duration": 9,
    "start_time": "2023-12-09T14:01:20.397Z"
   },
   {
    "duration": 7,
    "start_time": "2023-12-09T14:01:42.349Z"
   },
   {
    "duration": 105,
    "start_time": "2023-12-09T14:01:45.999Z"
   },
   {
    "duration": 8,
    "start_time": "2023-12-09T14:01:46.107Z"
   },
   {
    "duration": 20,
    "start_time": "2023-12-09T14:01:46.117Z"
   },
   {
    "duration": 42,
    "start_time": "2023-12-09T14:01:46.139Z"
   },
   {
    "duration": 29,
    "start_time": "2023-12-09T14:01:46.183Z"
   },
   {
    "duration": 24,
    "start_time": "2023-12-09T14:01:46.214Z"
   },
   {
    "duration": 31,
    "start_time": "2023-12-09T14:01:46.240Z"
   },
   {
    "duration": 19,
    "start_time": "2023-12-09T14:01:46.272Z"
   },
   {
    "duration": 33,
    "start_time": "2023-12-09T14:01:46.293Z"
   },
   {
    "duration": 30,
    "start_time": "2023-12-09T14:01:46.327Z"
   },
   {
    "duration": 39,
    "start_time": "2023-12-09T14:01:46.358Z"
   },
   {
    "duration": 4,
    "start_time": "2023-12-09T14:02:40.819Z"
   },
   {
    "duration": 3,
    "start_time": "2023-12-09T14:02:55.199Z"
   },
   {
    "duration": 4,
    "start_time": "2023-12-09T14:03:02.614Z"
   },
   {
    "duration": 104,
    "start_time": "2023-12-09T14:03:05.160Z"
   },
   {
    "duration": 8,
    "start_time": "2023-12-09T14:03:05.266Z"
   },
   {
    "duration": 27,
    "start_time": "2023-12-09T14:03:05.276Z"
   },
   {
    "duration": 14,
    "start_time": "2023-12-09T14:03:05.305Z"
   },
   {
    "duration": 19,
    "start_time": "2023-12-09T14:03:05.322Z"
   },
   {
    "duration": 13,
    "start_time": "2023-12-09T14:03:05.342Z"
   },
   {
    "duration": 11,
    "start_time": "2023-12-09T14:03:05.357Z"
   },
   {
    "duration": 9,
    "start_time": "2023-12-09T14:03:05.370Z"
   },
   {
    "duration": 19,
    "start_time": "2023-12-09T14:03:05.380Z"
   },
   {
    "duration": 12,
    "start_time": "2023-12-09T14:03:05.400Z"
   },
   {
    "duration": 36,
    "start_time": "2023-12-09T14:03:05.414Z"
   },
   {
    "duration": 4,
    "start_time": "2023-12-09T14:03:12.431Z"
   },
   {
    "duration": 105,
    "start_time": "2023-12-09T14:03:46.063Z"
   },
   {
    "duration": 107,
    "start_time": "2023-12-09T14:04:25.343Z"
   },
   {
    "duration": 106,
    "start_time": "2023-12-09T14:04:41.081Z"
   },
   {
    "duration": 8,
    "start_time": "2023-12-09T14:04:41.189Z"
   },
   {
    "duration": 23,
    "start_time": "2023-12-09T14:04:41.199Z"
   },
   {
    "duration": 6,
    "start_time": "2023-12-09T14:04:41.224Z"
   },
   {
    "duration": 4,
    "start_time": "2023-12-09T14:04:41.232Z"
   },
   {
    "duration": 10,
    "start_time": "2023-12-09T14:04:41.238Z"
   },
   {
    "duration": 21,
    "start_time": "2023-12-09T14:04:41.250Z"
   },
   {
    "duration": 26,
    "start_time": "2023-12-09T14:04:41.272Z"
   },
   {
    "duration": 7,
    "start_time": "2023-12-09T14:04:41.299Z"
   },
   {
    "duration": 11,
    "start_time": "2023-12-09T14:04:41.309Z"
   },
   {
    "duration": 18,
    "start_time": "2023-12-09T14:04:41.322Z"
   },
   {
    "duration": 8,
    "start_time": "2023-12-09T14:05:00.913Z"
   },
   {
    "duration": 9,
    "start_time": "2023-12-09T14:06:49.929Z"
   },
   {
    "duration": 14,
    "start_time": "2023-12-09T14:06:56.889Z"
   },
   {
    "duration": 12,
    "start_time": "2023-12-09T14:08:38.675Z"
   },
   {
    "duration": 16,
    "start_time": "2023-12-09T14:09:31.196Z"
   },
   {
    "duration": 686,
    "start_time": "2023-12-10T06:56:35.568Z"
   },
   {
    "duration": 7,
    "start_time": "2023-12-10T06:56:36.256Z"
   },
   {
    "duration": 8,
    "start_time": "2023-12-10T06:56:36.265Z"
   },
   {
    "duration": 10,
    "start_time": "2023-12-10T06:56:36.274Z"
   },
   {
    "duration": 5,
    "start_time": "2023-12-10T06:56:36.286Z"
   },
   {
    "duration": 22,
    "start_time": "2023-12-10T06:56:36.292Z"
   },
   {
    "duration": 9,
    "start_time": "2023-12-10T06:56:36.316Z"
   },
   {
    "duration": 4,
    "start_time": "2023-12-10T06:56:36.326Z"
   },
   {
    "duration": 5,
    "start_time": "2023-12-10T06:56:36.332Z"
   },
   {
    "duration": 9,
    "start_time": "2023-12-10T06:56:36.338Z"
   },
   {
    "duration": 14,
    "start_time": "2023-12-10T06:56:36.348Z"
   },
   {
    "duration": 9,
    "start_time": "2023-12-10T06:57:52.190Z"
   },
   {
    "duration": 12,
    "start_time": "2023-12-10T06:58:39.494Z"
   },
   {
    "duration": 66,
    "start_time": "2023-12-10T06:59:42.103Z"
   },
   {
    "duration": 10,
    "start_time": "2023-12-10T07:00:51.191Z"
   },
   {
    "duration": 11,
    "start_time": "2023-12-10T07:03:00.856Z"
   },
   {
    "duration": 102,
    "start_time": "2023-12-10T07:03:17.241Z"
   },
   {
    "duration": 7,
    "start_time": "2023-12-10T07:03:17.344Z"
   },
   {
    "duration": 15,
    "start_time": "2023-12-10T07:03:17.352Z"
   },
   {
    "duration": 13,
    "start_time": "2023-12-10T07:03:17.368Z"
   },
   {
    "duration": 23,
    "start_time": "2023-12-10T07:03:17.383Z"
   },
   {
    "duration": 18,
    "start_time": "2023-12-10T07:03:17.408Z"
   },
   {
    "duration": 22,
    "start_time": "2023-12-10T07:03:17.428Z"
   },
   {
    "duration": 25,
    "start_time": "2023-12-10T07:03:17.451Z"
   },
   {
    "duration": 22,
    "start_time": "2023-12-10T07:03:17.478Z"
   },
   {
    "duration": 21,
    "start_time": "2023-12-10T07:03:17.501Z"
   },
   {
    "duration": 29,
    "start_time": "2023-12-10T07:03:17.523Z"
   },
   {
    "duration": 9,
    "start_time": "2023-12-10T07:03:59.568Z"
   },
   {
    "duration": 18,
    "start_time": "2023-12-10T07:05:56.433Z"
   },
   {
    "duration": 101,
    "start_time": "2023-12-10T07:06:01.435Z"
   },
   {
    "duration": 6,
    "start_time": "2023-12-10T07:06:01.538Z"
   },
   {
    "duration": 31,
    "start_time": "2023-12-10T07:06:01.546Z"
   },
   {
    "duration": 54,
    "start_time": "2023-12-10T07:06:01.578Z"
   },
   {
    "duration": 46,
    "start_time": "2023-12-10T07:06:01.634Z"
   },
   {
    "duration": 25,
    "start_time": "2023-12-10T07:06:01.682Z"
   },
   {
    "duration": 26,
    "start_time": "2023-12-10T07:06:01.709Z"
   },
   {
    "duration": 34,
    "start_time": "2023-12-10T07:06:01.736Z"
   },
   {
    "duration": 33,
    "start_time": "2023-12-10T07:06:01.771Z"
   },
   {
    "duration": 32,
    "start_time": "2023-12-10T07:06:01.805Z"
   },
   {
    "duration": 41,
    "start_time": "2023-12-10T07:06:01.839Z"
   },
   {
    "duration": 30,
    "start_time": "2023-12-10T07:06:29.497Z"
   },
   {
    "duration": 96,
    "start_time": "2023-12-10T07:06:50.643Z"
   },
   {
    "duration": 7,
    "start_time": "2023-12-10T07:06:50.741Z"
   },
   {
    "duration": 11,
    "start_time": "2023-12-10T07:06:50.749Z"
   },
   {
    "duration": 6,
    "start_time": "2023-12-10T07:06:50.761Z"
   },
   {
    "duration": 5,
    "start_time": "2023-12-10T07:06:50.769Z"
   },
   {
    "duration": 7,
    "start_time": "2023-12-10T07:06:50.775Z"
   },
   {
    "duration": 28,
    "start_time": "2023-12-10T07:06:50.811Z"
   },
   {
    "duration": 5,
    "start_time": "2023-12-10T07:06:50.841Z"
   },
   {
    "duration": 5,
    "start_time": "2023-12-10T07:06:50.847Z"
   },
   {
    "duration": 10,
    "start_time": "2023-12-10T07:06:50.853Z"
   },
   {
    "duration": 48,
    "start_time": "2023-12-10T07:06:50.864Z"
   },
   {
    "duration": 98,
    "start_time": "2023-12-10T07:12:48.638Z"
   },
   {
    "duration": 8,
    "start_time": "2023-12-10T07:12:48.738Z"
   },
   {
    "duration": 14,
    "start_time": "2023-12-10T07:12:48.747Z"
   },
   {
    "duration": 17,
    "start_time": "2023-12-10T07:12:48.763Z"
   },
   {
    "duration": 19,
    "start_time": "2023-12-10T07:12:48.782Z"
   },
   {
    "duration": 23,
    "start_time": "2023-12-10T07:12:48.803Z"
   },
   {
    "duration": 36,
    "start_time": "2023-12-10T07:12:48.828Z"
   },
   {
    "duration": 8,
    "start_time": "2023-12-10T07:12:48.866Z"
   },
   {
    "duration": 9,
    "start_time": "2023-12-10T07:12:48.876Z"
   },
   {
    "duration": 11,
    "start_time": "2023-12-10T07:12:48.887Z"
   },
   {
    "duration": 26,
    "start_time": "2023-12-10T07:12:48.899Z"
   },
   {
    "duration": 32,
    "start_time": "2023-12-10T07:16:40.548Z"
   },
   {
    "duration": 93,
    "start_time": "2023-12-10T07:16:45.393Z"
   },
   {
    "duration": 7,
    "start_time": "2023-12-10T07:16:45.488Z"
   },
   {
    "duration": 15,
    "start_time": "2023-12-10T07:16:45.496Z"
   },
   {
    "duration": 6,
    "start_time": "2023-12-10T07:16:45.512Z"
   },
   {
    "duration": 5,
    "start_time": "2023-12-10T07:16:45.520Z"
   },
   {
    "duration": 6,
    "start_time": "2023-12-10T07:16:45.526Z"
   },
   {
    "duration": 36,
    "start_time": "2023-12-10T07:16:45.534Z"
   },
   {
    "duration": 6,
    "start_time": "2023-12-10T07:16:45.571Z"
   },
   {
    "duration": 38,
    "start_time": "2023-12-10T07:16:45.578Z"
   },
   {
    "duration": 16,
    "start_time": "2023-12-10T07:16:45.618Z"
   },
   {
    "duration": 18,
    "start_time": "2023-12-10T07:16:45.636Z"
   },
   {
    "duration": 95,
    "start_time": "2023-12-10T07:17:14.465Z"
   },
   {
    "duration": 7,
    "start_time": "2023-12-10T07:17:14.562Z"
   },
   {
    "duration": 10,
    "start_time": "2023-12-10T07:17:14.570Z"
   },
   {
    "duration": 6,
    "start_time": "2023-12-10T07:17:14.581Z"
   },
   {
    "duration": 25,
    "start_time": "2023-12-10T07:17:14.589Z"
   },
   {
    "duration": 7,
    "start_time": "2023-12-10T07:17:14.616Z"
   },
   {
    "duration": 30,
    "start_time": "2023-12-10T07:17:14.624Z"
   },
   {
    "duration": 5,
    "start_time": "2023-12-10T07:17:14.655Z"
   },
   {
    "duration": 5,
    "start_time": "2023-12-10T07:17:14.662Z"
   },
   {
    "duration": 10,
    "start_time": "2023-12-10T07:17:14.669Z"
   },
   {
    "duration": 42,
    "start_time": "2023-12-10T07:17:14.680Z"
   },
   {
    "duration": 98,
    "start_time": "2023-12-10T07:17:30.313Z"
   },
   {
    "duration": 7,
    "start_time": "2023-12-10T07:17:30.412Z"
   },
   {
    "duration": 29,
    "start_time": "2023-12-10T07:17:30.420Z"
   },
   {
    "duration": 38,
    "start_time": "2023-12-10T07:17:30.450Z"
   },
   {
    "duration": 21,
    "start_time": "2023-12-10T07:17:30.490Z"
   },
   {
    "duration": 36,
    "start_time": "2023-12-10T07:17:30.513Z"
   },
   {
    "duration": 34,
    "start_time": "2023-12-10T07:17:30.550Z"
   },
   {
    "duration": 27,
    "start_time": "2023-12-10T07:17:30.586Z"
   },
   {
    "duration": 22,
    "start_time": "2023-12-10T07:17:30.614Z"
   },
   {
    "duration": 25,
    "start_time": "2023-12-10T07:17:30.638Z"
   },
   {
    "duration": 36,
    "start_time": "2023-12-10T07:17:30.665Z"
   },
   {
    "duration": 12,
    "start_time": "2023-12-10T07:22:35.379Z"
   },
   {
    "duration": 5,
    "start_time": "2023-12-10T07:25:56.200Z"
   },
   {
    "duration": 6,
    "start_time": "2023-12-10T07:26:26.884Z"
   },
   {
    "duration": 43,
    "start_time": "2023-12-10T07:29:32.332Z"
   },
   {
    "duration": 13,
    "start_time": "2023-12-10T07:29:45.126Z"
   },
   {
    "duration": 16,
    "start_time": "2023-12-10T07:30:46.614Z"
   },
   {
    "duration": 14,
    "start_time": "2023-12-10T07:31:47.856Z"
   },
   {
    "duration": 21,
    "start_time": "2023-12-10T07:32:03.320Z"
   },
   {
    "duration": 17,
    "start_time": "2023-12-10T07:33:57.777Z"
   },
   {
    "duration": 97,
    "start_time": "2023-12-10T07:34:32.155Z"
   },
   {
    "duration": 7,
    "start_time": "2023-12-10T07:34:32.253Z"
   },
   {
    "duration": 9,
    "start_time": "2023-12-10T07:34:32.261Z"
   },
   {
    "duration": 6,
    "start_time": "2023-12-10T07:34:32.272Z"
   },
   {
    "duration": 3,
    "start_time": "2023-12-10T07:34:32.280Z"
   },
   {
    "duration": 27,
    "start_time": "2023-12-10T07:34:32.285Z"
   },
   {
    "duration": 15,
    "start_time": "2023-12-10T07:34:32.314Z"
   },
   {
    "duration": 5,
    "start_time": "2023-12-10T07:34:32.330Z"
   },
   {
    "duration": 5,
    "start_time": "2023-12-10T07:34:32.336Z"
   },
   {
    "duration": 85,
    "start_time": "2023-12-10T07:34:32.343Z"
   },
   {
    "duration": 0,
    "start_time": "2023-12-10T07:34:32.429Z"
   },
   {
    "duration": 0,
    "start_time": "2023-12-10T07:34:32.430Z"
   },
   {
    "duration": 12,
    "start_time": "2023-12-10T07:35:26.234Z"
   },
   {
    "duration": 12,
    "start_time": "2023-12-10T07:35:37.962Z"
   },
   {
    "duration": 106,
    "start_time": "2023-12-10T07:36:01.500Z"
   },
   {
    "duration": 7,
    "start_time": "2023-12-10T07:36:01.608Z"
   },
   {
    "duration": 30,
    "start_time": "2023-12-10T07:36:01.616Z"
   },
   {
    "duration": 43,
    "start_time": "2023-12-10T07:36:01.648Z"
   },
   {
    "duration": 50,
    "start_time": "2023-12-10T07:36:01.693Z"
   },
   {
    "duration": 66,
    "start_time": "2023-12-10T07:36:01.745Z"
   },
   {
    "duration": 48,
    "start_time": "2023-12-10T07:36:01.812Z"
   },
   {
    "duration": 24,
    "start_time": "2023-12-10T07:36:01.862Z"
   },
   {
    "duration": 17,
    "start_time": "2023-12-10T07:36:01.888Z"
   },
   {
    "duration": 37,
    "start_time": "2023-12-10T07:36:01.907Z"
   },
   {
    "duration": 30,
    "start_time": "2023-12-10T07:36:01.946Z"
   },
   {
    "duration": 33,
    "start_time": "2023-12-10T07:36:01.977Z"
   },
   {
    "duration": 13,
    "start_time": "2023-12-10T07:37:41.603Z"
   },
   {
    "duration": 11,
    "start_time": "2023-12-10T07:41:46.451Z"
   },
   {
    "duration": 93,
    "start_time": "2023-12-10T07:42:15.748Z"
   },
   {
    "duration": 6,
    "start_time": "2023-12-10T07:42:15.843Z"
   },
   {
    "duration": 9,
    "start_time": "2023-12-10T07:42:15.851Z"
   },
   {
    "duration": 6,
    "start_time": "2023-12-10T07:42:15.861Z"
   },
   {
    "duration": 4,
    "start_time": "2023-12-10T07:42:15.869Z"
   },
   {
    "duration": 9,
    "start_time": "2023-12-10T07:42:15.874Z"
   },
   {
    "duration": 39,
    "start_time": "2023-12-10T07:42:15.884Z"
   },
   {
    "duration": 5,
    "start_time": "2023-12-10T07:42:15.925Z"
   },
   {
    "duration": 6,
    "start_time": "2023-12-10T07:42:15.932Z"
   },
   {
    "duration": 13,
    "start_time": "2023-12-10T07:42:15.939Z"
   },
   {
    "duration": 12,
    "start_time": "2023-12-10T07:42:15.953Z"
   },
   {
    "duration": 15,
    "start_time": "2023-12-10T07:43:51.519Z"
   },
   {
    "duration": 17,
    "start_time": "2023-12-10T07:44:43.928Z"
   },
   {
    "duration": 21,
    "start_time": "2023-12-10T07:44:50.424Z"
   },
   {
    "duration": 60,
    "start_time": "2023-12-10T07:45:11.911Z"
   },
   {
    "duration": 27,
    "start_time": "2023-12-10T07:45:52.584Z"
   },
   {
    "duration": 20,
    "start_time": "2023-12-10T07:47:56.937Z"
   },
   {
    "duration": 98,
    "start_time": "2023-12-10T07:48:31.299Z"
   },
   {
    "duration": 7,
    "start_time": "2023-12-10T07:48:31.398Z"
   },
   {
    "duration": 24,
    "start_time": "2023-12-10T07:48:31.407Z"
   },
   {
    "duration": 17,
    "start_time": "2023-12-10T07:48:31.432Z"
   },
   {
    "duration": 32,
    "start_time": "2023-12-10T07:48:31.450Z"
   },
   {
    "duration": 24,
    "start_time": "2023-12-10T07:48:31.483Z"
   },
   {
    "duration": 24,
    "start_time": "2023-12-10T07:48:31.508Z"
   },
   {
    "duration": 12,
    "start_time": "2023-12-10T07:48:31.533Z"
   },
   {
    "duration": 14,
    "start_time": "2023-12-10T07:48:31.546Z"
   },
   {
    "duration": 36,
    "start_time": "2023-12-10T07:48:31.562Z"
   },
   {
    "duration": 11,
    "start_time": "2023-12-10T07:50:56.714Z"
   },
   {
    "duration": 95,
    "start_time": "2023-12-10T07:51:00.100Z"
   },
   {
    "duration": 6,
    "start_time": "2023-12-10T07:51:00.197Z"
   },
   {
    "duration": 8,
    "start_time": "2023-12-10T07:51:00.205Z"
   },
   {
    "duration": 11,
    "start_time": "2023-12-10T07:51:00.214Z"
   },
   {
    "duration": 44,
    "start_time": "2023-12-10T07:51:00.227Z"
   },
   {
    "duration": 31,
    "start_time": "2023-12-10T07:51:00.273Z"
   },
   {
    "duration": 45,
    "start_time": "2023-12-10T07:51:00.305Z"
   },
   {
    "duration": 18,
    "start_time": "2023-12-10T07:51:00.352Z"
   },
   {
    "duration": 41,
    "start_time": "2023-12-10T07:51:00.372Z"
   },
   {
    "duration": 41,
    "start_time": "2023-12-10T07:51:00.415Z"
   },
   {
    "duration": 10,
    "start_time": "2023-12-10T07:52:24.364Z"
   },
   {
    "duration": 94,
    "start_time": "2023-12-10T07:52:36.853Z"
   },
   {
    "duration": 8,
    "start_time": "2023-12-10T07:52:36.949Z"
   },
   {
    "duration": 9,
    "start_time": "2023-12-10T07:52:36.958Z"
   },
   {
    "duration": 6,
    "start_time": "2023-12-10T07:52:36.968Z"
   },
   {
    "duration": 5,
    "start_time": "2023-12-10T07:52:36.975Z"
   },
   {
    "duration": 33,
    "start_time": "2023-12-10T07:52:36.981Z"
   },
   {
    "duration": 10,
    "start_time": "2023-12-10T07:52:37.015Z"
   },
   {
    "duration": 5,
    "start_time": "2023-12-10T07:52:37.026Z"
   },
   {
    "duration": 5,
    "start_time": "2023-12-10T07:52:37.032Z"
   },
   {
    "duration": 19,
    "start_time": "2023-12-10T07:52:37.039Z"
   },
   {
    "duration": 25,
    "start_time": "2023-12-10T07:54:02.924Z"
   },
   {
    "duration": 20,
    "start_time": "2023-12-10T07:54:40.302Z"
   },
   {
    "duration": 15,
    "start_time": "2023-12-10T07:55:21.070Z"
   },
   {
    "duration": 94,
    "start_time": "2023-12-10T07:55:30.759Z"
   },
   {
    "duration": 7,
    "start_time": "2023-12-10T07:55:30.855Z"
   },
   {
    "duration": 30,
    "start_time": "2023-12-10T07:55:30.863Z"
   },
   {
    "duration": 20,
    "start_time": "2023-12-10T07:55:30.895Z"
   },
   {
    "duration": 41,
    "start_time": "2023-12-10T07:55:30.917Z"
   },
   {
    "duration": 28,
    "start_time": "2023-12-10T07:55:30.959Z"
   },
   {
    "duration": 44,
    "start_time": "2023-12-10T07:55:30.989Z"
   },
   {
    "duration": 13,
    "start_time": "2023-12-10T07:55:31.034Z"
   },
   {
    "duration": 33,
    "start_time": "2023-12-10T07:55:31.048Z"
   },
   {
    "duration": 36,
    "start_time": "2023-12-10T07:55:31.082Z"
   },
   {
    "duration": 100,
    "start_time": "2023-12-10T07:56:18.828Z"
   },
   {
    "duration": 7,
    "start_time": "2023-12-10T07:56:18.930Z"
   },
   {
    "duration": 9,
    "start_time": "2023-12-10T07:56:18.938Z"
   },
   {
    "duration": 6,
    "start_time": "2023-12-10T07:56:18.949Z"
   },
   {
    "duration": 7,
    "start_time": "2023-12-10T07:56:18.956Z"
   },
   {
    "duration": 19,
    "start_time": "2023-12-10T07:56:18.965Z"
   },
   {
    "duration": 94,
    "start_time": "2023-12-10T07:57:12.944Z"
   },
   {
    "duration": 6,
    "start_time": "2023-12-10T07:57:13.040Z"
   },
   {
    "duration": 9,
    "start_time": "2023-12-10T07:57:13.048Z"
   },
   {
    "duration": 12,
    "start_time": "2023-12-10T07:57:13.059Z"
   },
   {
    "duration": 6,
    "start_time": "2023-12-10T07:57:13.072Z"
   },
   {
    "duration": 14,
    "start_time": "2023-12-10T07:57:13.079Z"
   },
   {
    "duration": 9,
    "start_time": "2023-12-10T07:57:17.588Z"
   },
   {
    "duration": 105,
    "start_time": "2023-12-10T07:57:57.864Z"
   },
   {
    "duration": 6,
    "start_time": "2023-12-10T07:57:57.971Z"
   },
   {
    "duration": 9,
    "start_time": "2023-12-10T07:57:57.979Z"
   },
   {
    "duration": 6,
    "start_time": "2023-12-10T07:57:57.989Z"
   },
   {
    "duration": 16,
    "start_time": "2023-12-10T07:57:57.997Z"
   },
   {
    "duration": 24,
    "start_time": "2023-12-10T07:57:58.015Z"
   },
   {
    "duration": 20,
    "start_time": "2023-12-10T07:58:06.223Z"
   },
   {
    "duration": 22,
    "start_time": "2023-12-10T08:00:39.962Z"
   },
   {
    "duration": 97,
    "start_time": "2023-12-10T08:00:49.539Z"
   },
   {
    "duration": 7,
    "start_time": "2023-12-10T08:00:49.637Z"
   },
   {
    "duration": 8,
    "start_time": "2023-12-10T08:00:49.645Z"
   },
   {
    "duration": 5,
    "start_time": "2023-12-10T08:00:49.655Z"
   },
   {
    "duration": 4,
    "start_time": "2023-12-10T08:00:49.662Z"
   },
   {
    "duration": 9,
    "start_time": "2023-12-10T08:00:49.667Z"
   },
   {
    "duration": 24,
    "start_time": "2023-12-10T08:00:53.362Z"
   },
   {
    "duration": 28,
    "start_time": "2023-12-10T08:04:21.942Z"
   },
   {
    "duration": 33,
    "start_time": "2023-12-10T08:05:17.310Z"
   },
   {
    "duration": 104,
    "start_time": "2023-12-10T08:14:39.991Z"
   },
   {
    "duration": 7,
    "start_time": "2023-12-10T08:14:51.022Z"
   },
   {
    "duration": 5,
    "start_time": "2023-12-10T08:15:03.255Z"
   },
   {
    "duration": 4,
    "start_time": "2023-12-10T08:15:54.839Z"
   },
   {
    "duration": 4,
    "start_time": "2023-12-10T08:16:34.512Z"
   },
   {
    "duration": 101,
    "start_time": "2023-12-10T08:17:18.953Z"
   },
   {
    "duration": 5,
    "start_time": "2023-12-10T08:21:12.403Z"
   },
   {
    "duration": 4,
    "start_time": "2023-12-10T08:21:31.668Z"
   },
   {
    "duration": 97,
    "start_time": "2023-12-10T08:21:41.692Z"
   },
   {
    "duration": 6,
    "start_time": "2023-12-10T08:21:41.791Z"
   },
   {
    "duration": 13,
    "start_time": "2023-12-10T08:21:41.798Z"
   },
   {
    "duration": 6,
    "start_time": "2023-12-10T08:21:41.812Z"
   },
   {
    "duration": 4,
    "start_time": "2023-12-10T08:21:41.820Z"
   },
   {
    "duration": 7,
    "start_time": "2023-12-10T08:21:41.825Z"
   },
   {
    "duration": 5,
    "start_time": "2023-12-10T08:21:41.833Z"
   },
   {
    "duration": 0,
    "start_time": "2023-12-10T08:21:41.840Z"
   },
   {
    "duration": 1,
    "start_time": "2023-12-10T08:21:41.840Z"
   },
   {
    "duration": 0,
    "start_time": "2023-12-10T08:21:41.842Z"
   },
   {
    "duration": 4,
    "start_time": "2023-12-10T08:22:13.442Z"
   },
   {
    "duration": 6,
    "start_time": "2023-12-10T08:22:57.636Z"
   },
   {
    "duration": 4,
    "start_time": "2023-12-10T08:23:40.341Z"
   },
   {
    "duration": 98,
    "start_time": "2023-12-10T08:23:47.646Z"
   },
   {
    "duration": 7,
    "start_time": "2023-12-10T08:23:47.746Z"
   },
   {
    "duration": 9,
    "start_time": "2023-12-10T08:23:47.755Z"
   },
   {
    "duration": 6,
    "start_time": "2023-12-10T08:23:47.766Z"
   },
   {
    "duration": 7,
    "start_time": "2023-12-10T08:23:47.773Z"
   },
   {
    "duration": 31,
    "start_time": "2023-12-10T08:23:47.782Z"
   },
   {
    "duration": 4,
    "start_time": "2023-12-10T08:23:47.815Z"
   },
   {
    "duration": 0,
    "start_time": "2023-12-10T08:23:47.820Z"
   },
   {
    "duration": 0,
    "start_time": "2023-12-10T08:23:47.821Z"
   },
   {
    "duration": 0,
    "start_time": "2023-12-10T08:23:47.823Z"
   },
   {
    "duration": 94,
    "start_time": "2023-12-10T08:24:08.767Z"
   },
   {
    "duration": 7,
    "start_time": "2023-12-10T08:24:08.863Z"
   },
   {
    "duration": 8,
    "start_time": "2023-12-10T08:24:08.871Z"
   },
   {
    "duration": 5,
    "start_time": "2023-12-10T08:24:08.881Z"
   },
   {
    "duration": 23,
    "start_time": "2023-12-10T08:24:08.888Z"
   },
   {
    "duration": 9,
    "start_time": "2023-12-10T08:24:08.912Z"
   },
   {
    "duration": 4,
    "start_time": "2023-12-10T08:24:08.923Z"
   },
   {
    "duration": 0,
    "start_time": "2023-12-10T08:24:08.929Z"
   },
   {
    "duration": 0,
    "start_time": "2023-12-10T08:24:08.930Z"
   },
   {
    "duration": 0,
    "start_time": "2023-12-10T08:24:08.931Z"
   },
   {
    "duration": 96,
    "start_time": "2023-12-10T08:25:04.218Z"
   },
   {
    "duration": 6,
    "start_time": "2023-12-10T08:25:04.316Z"
   },
   {
    "duration": 21,
    "start_time": "2023-12-10T08:25:04.324Z"
   },
   {
    "duration": 6,
    "start_time": "2023-12-10T08:25:04.347Z"
   },
   {
    "duration": 5,
    "start_time": "2023-12-10T08:25:04.354Z"
   },
   {
    "duration": 13,
    "start_time": "2023-12-10T08:25:04.360Z"
   },
   {
    "duration": 4,
    "start_time": "2023-12-10T08:25:04.375Z"
   },
   {
    "duration": 0,
    "start_time": "2023-12-10T08:25:04.380Z"
   },
   {
    "duration": 0,
    "start_time": "2023-12-10T08:25:04.381Z"
   },
   {
    "duration": 0,
    "start_time": "2023-12-10T08:25:04.383Z"
   },
   {
    "duration": 4,
    "start_time": "2023-12-10T08:25:37.728Z"
   },
   {
    "duration": 5,
    "start_time": "2023-12-10T08:26:00.506Z"
   },
   {
    "duration": 5,
    "start_time": "2023-12-10T08:26:12.609Z"
   },
   {
    "duration": 5,
    "start_time": "2023-12-10T08:27:00.137Z"
   },
   {
    "duration": 34,
    "start_time": "2023-12-10T08:27:19.481Z"
   },
   {
    "duration": 6,
    "start_time": "2023-12-10T08:28:11.674Z"
   },
   {
    "duration": 4,
    "start_time": "2023-12-10T08:28:21.818Z"
   },
   {
    "duration": 34,
    "start_time": "2023-12-10T08:28:53.778Z"
   },
   {
    "duration": 50,
    "start_time": "2023-12-10T08:29:21.427Z"
   },
   {
    "duration": 39,
    "start_time": "2023-12-10T08:29:50.075Z"
   },
   {
    "duration": 23,
    "start_time": "2023-12-10T08:31:33.972Z"
   },
   {
    "duration": 26,
    "start_time": "2023-12-10T08:31:49.644Z"
   },
   {
    "duration": 24,
    "start_time": "2023-12-10T08:32:05.948Z"
   },
   {
    "duration": 24,
    "start_time": "2023-12-10T08:32:12.636Z"
   },
   {
    "duration": 39,
    "start_time": "2023-12-10T08:32:23.517Z"
   },
   {
    "duration": 19,
    "start_time": "2023-12-10T08:32:40.373Z"
   },
   {
    "duration": 20,
    "start_time": "2023-12-10T08:32:47.589Z"
   },
   {
    "duration": 18,
    "start_time": "2023-12-10T08:32:53.341Z"
   },
   {
    "duration": 22,
    "start_time": "2023-12-10T08:32:57.621Z"
   },
   {
    "duration": 12,
    "start_time": "2023-12-10T08:33:04.637Z"
   },
   {
    "duration": 48,
    "start_time": "2023-12-10T08:33:11.989Z"
   },
   {
    "duration": 40,
    "start_time": "2023-12-10T08:39:28.008Z"
   },
   {
    "duration": 42,
    "start_time": "2023-12-10T08:46:21.452Z"
   },
   {
    "duration": 14,
    "start_time": "2023-12-10T08:47:15.461Z"
   },
   {
    "duration": 15,
    "start_time": "2023-12-10T08:48:00.069Z"
   },
   {
    "duration": 17,
    "start_time": "2023-12-10T08:49:33.518Z"
   },
   {
    "duration": 599,
    "start_time": "2023-12-10T08:51:55.376Z"
   },
   {
    "duration": 16,
    "start_time": "2023-12-10T08:53:30.025Z"
   },
   {
    "duration": 10005,
    "start_time": "2023-12-10T08:54:07.497Z"
   },
   {
    "duration": 16892,
    "start_time": "2023-12-10T08:54:41.305Z"
   },
   {
    "duration": 31,
    "start_time": "2023-12-10T08:56:10.948Z"
   },
   {
    "duration": 87,
    "start_time": "2023-12-10T09:00:45.385Z"
   },
   {
    "duration": 20,
    "start_time": "2023-12-10T09:00:45.492Z"
   },
   {
    "duration": 7,
    "start_time": "2023-12-10T09:00:45.537Z"
   },
   {
    "duration": 14,
    "start_time": "2023-12-10T09:00:45.558Z"
   },
   {
    "duration": 9,
    "start_time": "2023-12-10T09:00:45.617Z"
   },
   {
    "duration": 9,
    "start_time": "2023-12-10T09:00:56.302Z"
   },
   {
    "duration": 102,
    "start_time": "2023-12-10T09:02:32.632Z"
   },
   {
    "duration": 6,
    "start_time": "2023-12-10T09:02:32.736Z"
   },
   {
    "duration": 9,
    "start_time": "2023-12-10T09:02:32.744Z"
   },
   {
    "duration": 15,
    "start_time": "2023-12-10T09:02:32.754Z"
   },
   {
    "duration": 15,
    "start_time": "2023-12-10T09:02:32.770Z"
   },
   {
    "duration": 5,
    "start_time": "2023-12-10T09:02:32.786Z"
   },
   {
    "duration": 11,
    "start_time": "2023-12-10T09:02:43.223Z"
   },
   {
    "duration": 83,
    "start_time": "2023-12-10T09:02:59.335Z"
   },
   {
    "duration": 10250,
    "start_time": "2023-12-10T09:03:24.140Z"
   },
   {
    "duration": 95,
    "start_time": "2023-12-10T09:13:37.595Z"
   },
   {
    "duration": 7,
    "start_time": "2023-12-10T09:13:37.692Z"
   },
   {
    "duration": 12,
    "start_time": "2023-12-10T09:13:37.701Z"
   },
   {
    "duration": 20,
    "start_time": "2023-12-10T09:13:37.714Z"
   },
   {
    "duration": 15,
    "start_time": "2023-12-10T09:13:37.736Z"
   },
   {
    "duration": 5,
    "start_time": "2023-12-10T09:13:37.752Z"
   },
   {
    "duration": 27,
    "start_time": "2023-12-10T09:13:42.278Z"
   },
   {
    "duration": 35,
    "start_time": "2023-12-10T09:13:51.793Z"
   },
   {
    "duration": 97,
    "start_time": "2023-12-10T09:17:08.622Z"
   },
   {
    "duration": 7,
    "start_time": "2023-12-10T09:17:08.721Z"
   },
   {
    "duration": 9,
    "start_time": "2023-12-10T09:17:08.729Z"
   },
   {
    "duration": 6,
    "start_time": "2023-12-10T09:17:08.739Z"
   },
   {
    "duration": 17,
    "start_time": "2023-12-10T09:17:08.746Z"
   },
   {
    "duration": 5,
    "start_time": "2023-12-10T09:17:08.764Z"
   },
   {
    "duration": 67,
    "start_time": "2023-12-10T09:17:08.770Z"
   },
   {
    "duration": 5,
    "start_time": "2023-12-10T09:17:08.838Z"
   },
   {
    "duration": 8,
    "start_time": "2023-12-10T09:17:08.844Z"
   },
   {
    "duration": 22,
    "start_time": "2023-12-10T09:17:08.854Z"
   },
   {
    "duration": 23,
    "start_time": "2023-12-10T09:17:08.878Z"
   },
   {
    "duration": 83,
    "start_time": "2023-12-10T10:30:08.666Z"
   },
   {
    "duration": 80,
    "start_time": "2023-12-10T10:30:17.093Z"
   },
   {
    "duration": 67,
    "start_time": "2023-12-10T10:30:25.929Z"
   },
   {
    "duration": 74,
    "start_time": "2023-12-10T10:31:19.233Z"
   },
   {
    "duration": 69,
    "start_time": "2023-12-10T10:31:32.609Z"
   },
   {
    "duration": 73,
    "start_time": "2023-12-10T10:32:02.713Z"
   },
   {
    "duration": 67,
    "start_time": "2023-12-10T10:32:30.642Z"
   },
   {
    "duration": 72,
    "start_time": "2023-12-10T10:32:41.586Z"
   },
   {
    "duration": 77,
    "start_time": "2023-12-10T10:35:16.892Z"
   },
   {
    "duration": 76,
    "start_time": "2023-12-10T10:36:01.180Z"
   },
   {
    "duration": 89,
    "start_time": "2023-12-10T10:36:13.860Z"
   },
   {
    "duration": 69,
    "start_time": "2023-12-10T10:36:26.293Z"
   },
   {
    "duration": 73,
    "start_time": "2023-12-10T10:36:31.317Z"
   },
   {
    "duration": 69,
    "start_time": "2023-12-10T10:36:42.357Z"
   },
   {
    "duration": 70,
    "start_time": "2023-12-10T10:39:47.831Z"
   },
   {
    "duration": 69,
    "start_time": "2023-12-10T10:40:17.288Z"
   },
   {
    "duration": 76,
    "start_time": "2023-12-10T10:41:21.137Z"
   },
   {
    "duration": 79,
    "start_time": "2023-12-10T10:42:08.249Z"
   },
   {
    "duration": 105,
    "start_time": "2023-12-10T10:46:13.661Z"
   },
   {
    "duration": 8,
    "start_time": "2023-12-10T10:46:13.768Z"
   },
   {
    "duration": 10,
    "start_time": "2023-12-10T10:46:13.778Z"
   },
   {
    "duration": 24,
    "start_time": "2023-12-10T10:46:13.790Z"
   },
   {
    "duration": 20,
    "start_time": "2023-12-10T10:46:13.817Z"
   },
   {
    "duration": 5,
    "start_time": "2023-12-10T10:46:13.839Z"
   },
   {
    "duration": 40,
    "start_time": "2023-12-10T10:46:13.845Z"
   },
   {
    "duration": 13,
    "start_time": "2023-12-10T10:46:13.910Z"
   },
   {
    "duration": 5,
    "start_time": "2023-12-10T10:46:13.925Z"
   },
   {
    "duration": 7,
    "start_time": "2023-12-10T10:46:13.931Z"
   },
   {
    "duration": 23,
    "start_time": "2023-12-10T10:46:13.940Z"
   },
   {
    "duration": 117,
    "start_time": "2023-12-10T10:46:13.964Z"
   },
   {
    "duration": 77,
    "start_time": "2023-12-10T10:46:26.396Z"
   },
   {
    "duration": 97,
    "start_time": "2023-12-10T10:46:58.006Z"
   },
   {
    "duration": 7,
    "start_time": "2023-12-10T10:46:58.105Z"
   },
   {
    "duration": 21,
    "start_time": "2023-12-10T10:46:58.114Z"
   },
   {
    "duration": 12,
    "start_time": "2023-12-10T10:46:58.137Z"
   },
   {
    "duration": 14,
    "start_time": "2023-12-10T10:46:58.152Z"
   },
   {
    "duration": 8,
    "start_time": "2023-12-10T10:46:58.167Z"
   },
   {
    "duration": 43,
    "start_time": "2023-12-10T10:46:58.176Z"
   },
   {
    "duration": 5,
    "start_time": "2023-12-10T10:46:58.220Z"
   },
   {
    "duration": 3,
    "start_time": "2023-12-10T10:46:58.226Z"
   },
   {
    "duration": 14,
    "start_time": "2023-12-10T10:46:58.230Z"
   },
   {
    "duration": 29,
    "start_time": "2023-12-10T10:46:58.245Z"
   },
   {
    "duration": 95,
    "start_time": "2023-12-10T10:46:58.275Z"
   },
   {
    "duration": 100,
    "start_time": "2023-12-10T10:48:29.574Z"
   },
   {
    "duration": 7,
    "start_time": "2023-12-10T10:48:29.676Z"
   },
   {
    "duration": 10,
    "start_time": "2023-12-10T10:48:29.684Z"
   },
   {
    "duration": 19,
    "start_time": "2023-12-10T10:48:29.695Z"
   },
   {
    "duration": 16,
    "start_time": "2023-12-10T10:48:29.716Z"
   },
   {
    "duration": 5,
    "start_time": "2023-12-10T10:48:29.733Z"
   },
   {
    "duration": 43,
    "start_time": "2023-12-10T10:48:29.739Z"
   },
   {
    "duration": 5,
    "start_time": "2023-12-10T10:48:29.783Z"
   },
   {
    "duration": 24,
    "start_time": "2023-12-10T10:48:29.789Z"
   },
   {
    "duration": 5,
    "start_time": "2023-12-10T10:48:29.814Z"
   },
   {
    "duration": 20,
    "start_time": "2023-12-10T10:48:29.821Z"
   },
   {
    "duration": 93,
    "start_time": "2023-12-10T10:48:29.842Z"
   },
   {
    "duration": 5,
    "start_time": "2023-12-10T10:53:48.728Z"
   },
   {
    "duration": 14,
    "start_time": "2023-12-10T10:53:58.873Z"
   },
   {
    "duration": 5,
    "start_time": "2023-12-10T10:54:56.553Z"
   },
   {
    "duration": 9,
    "start_time": "2023-12-10T10:59:00.131Z"
   },
   {
    "duration": 8,
    "start_time": "2023-12-10T10:59:29.083Z"
   },
   {
    "duration": 5,
    "start_time": "2023-12-10T11:00:45.644Z"
   },
   {
    "duration": 8,
    "start_time": "2023-12-10T11:01:08.653Z"
   },
   {
    "duration": 9,
    "start_time": "2023-12-10T11:01:23.885Z"
   },
   {
    "duration": 9,
    "start_time": "2023-12-10T11:08:10.425Z"
   },
   {
    "duration": 2,
    "start_time": "2023-12-10T11:08:21.385Z"
   },
   {
    "duration": 9,
    "start_time": "2023-12-10T11:08:23.433Z"
   },
   {
    "duration": 95,
    "start_time": "2023-12-10T11:08:30.547Z"
   },
   {
    "duration": 7,
    "start_time": "2023-12-10T11:08:30.644Z"
   },
   {
    "duration": 79,
    "start_time": "2023-12-10T11:08:30.652Z"
   },
   {
    "duration": 52,
    "start_time": "2023-12-10T11:08:30.733Z"
   },
   {
    "duration": 122,
    "start_time": "2023-12-10T11:08:30.788Z"
   },
   {
    "duration": 72,
    "start_time": "2023-12-10T11:08:30.912Z"
   },
   {
    "duration": 83,
    "start_time": "2023-12-10T11:08:30.986Z"
   },
   {
    "duration": 82,
    "start_time": "2023-12-10T11:08:31.071Z"
   },
   {
    "duration": 108,
    "start_time": "2023-12-10T11:08:31.154Z"
   },
   {
    "duration": 40,
    "start_time": "2023-12-10T11:08:31.264Z"
   },
   {
    "duration": 57,
    "start_time": "2023-12-10T11:08:31.305Z"
   },
   {
    "duration": 112,
    "start_time": "2023-12-10T11:08:31.364Z"
   },
   {
    "duration": 2,
    "start_time": "2023-12-10T11:08:31.478Z"
   },
   {
    "duration": 18,
    "start_time": "2023-12-10T11:08:31.483Z"
   },
   {
    "duration": 9,
    "start_time": "2023-12-10T11:13:22.636Z"
   },
   {
    "duration": 11,
    "start_time": "2023-12-10T11:13:51.077Z"
   },
   {
    "duration": 6,
    "start_time": "2023-12-10T11:31:25.412Z"
   },
   {
    "duration": 8,
    "start_time": "2023-12-10T11:33:06.644Z"
   },
   {
    "duration": 9,
    "start_time": "2023-12-10T11:33:20.244Z"
   },
   {
    "duration": 10,
    "start_time": "2023-12-10T11:34:36.724Z"
   },
   {
    "duration": 70,
    "start_time": "2023-12-10T11:41:51.872Z"
   },
   {
    "duration": 86,
    "start_time": "2023-12-10T11:42:15.064Z"
   },
   {
    "duration": 1126,
    "start_time": "2023-12-10T11:42:28.136Z"
   },
   {
    "duration": 2562,
    "start_time": "2023-12-10T11:42:45.472Z"
   },
   {
    "duration": 2442,
    "start_time": "2023-12-10T11:43:05.785Z"
   },
   {
    "duration": 4,
    "start_time": "2023-12-10T11:43:33.328Z"
   },
   {
    "duration": 2112,
    "start_time": "2023-12-10T11:45:30.010Z"
   },
   {
    "duration": 74,
    "start_time": "2023-12-10T11:45:46.929Z"
   },
   {
    "duration": 4,
    "start_time": "2023-12-10T11:48:42.483Z"
   },
   {
    "duration": 8,
    "start_time": "2023-12-10T11:49:14.340Z"
   },
   {
    "duration": 13,
    "start_time": "2023-12-10T11:51:01.581Z"
   },
   {
    "duration": 8,
    "start_time": "2023-12-10T11:55:39.655Z"
   },
   {
    "duration": 18,
    "start_time": "2023-12-10T11:58:02.506Z"
   },
   {
    "duration": 9,
    "start_time": "2023-12-10T11:58:06.816Z"
   },
   {
    "duration": 14,
    "start_time": "2023-12-10T12:04:57.674Z"
   },
   {
    "duration": 4,
    "start_time": "2023-12-10T12:08:58.374Z"
   },
   {
    "duration": 8,
    "start_time": "2023-12-10T12:09:07.958Z"
   },
   {
    "duration": 8,
    "start_time": "2023-12-10T12:09:22.375Z"
   },
   {
    "duration": 7,
    "start_time": "2023-12-10T12:21:37.033Z"
   },
   {
    "duration": 1151,
    "start_time": "2023-12-10T12:22:15.433Z"
   },
   {
    "duration": 10,
    "start_time": "2023-12-10T12:23:07.418Z"
   },
   {
    "duration": 1250,
    "start_time": "2023-12-10T12:23:30.362Z"
   },
   {
    "duration": 7,
    "start_time": "2023-12-10T12:32:17.137Z"
   },
   {
    "duration": 12,
    "start_time": "2023-12-10T12:32:41.753Z"
   },
   {
    "duration": 547,
    "start_time": "2023-12-10T12:33:18.273Z"
   },
   {
    "duration": 1291,
    "start_time": "2023-12-10T12:35:15.370Z"
   },
   {
    "duration": 4,
    "start_time": "2023-12-10T12:35:25.362Z"
   },
   {
    "duration": 22,
    "start_time": "2023-12-10T12:37:39.132Z"
   },
   {
    "duration": 5,
    "start_time": "2023-12-10T12:38:52.724Z"
   },
   {
    "duration": 6,
    "start_time": "2023-12-10T12:39:18.869Z"
   },
   {
    "duration": 101,
    "start_time": "2023-12-10T12:39:53.519Z"
   },
   {
    "duration": 8,
    "start_time": "2023-12-10T12:39:53.622Z"
   },
   {
    "duration": 16,
    "start_time": "2023-12-10T12:39:53.632Z"
   },
   {
    "duration": 21,
    "start_time": "2023-12-10T12:39:53.650Z"
   },
   {
    "duration": 29,
    "start_time": "2023-12-10T12:39:53.674Z"
   },
   {
    "duration": 8,
    "start_time": "2023-12-10T12:39:53.704Z"
   },
   {
    "duration": 48,
    "start_time": "2023-12-10T12:39:53.714Z"
   },
   {
    "duration": 5,
    "start_time": "2023-12-10T12:39:53.764Z"
   },
   {
    "duration": 6,
    "start_time": "2023-12-10T12:39:53.770Z"
   },
   {
    "duration": 7,
    "start_time": "2023-12-10T12:39:53.777Z"
   },
   {
    "duration": 49,
    "start_time": "2023-12-10T12:39:53.785Z"
   },
   {
    "duration": 97,
    "start_time": "2023-12-10T12:39:53.836Z"
   },
   {
    "duration": 2,
    "start_time": "2023-12-10T12:39:53.935Z"
   },
   {
    "duration": 15,
    "start_time": "2023-12-10T12:39:53.939Z"
   },
   {
    "duration": 8,
    "start_time": "2023-12-10T12:39:53.956Z"
   },
   {
    "duration": 8,
    "start_time": "2023-12-10T12:39:53.966Z"
   },
   {
    "duration": 8,
    "start_time": "2023-12-10T12:41:19.006Z"
   },
   {
    "duration": 7,
    "start_time": "2023-12-10T12:41:34.606Z"
   },
   {
    "duration": 9,
    "start_time": "2023-12-10T12:42:43.159Z"
   },
   {
    "duration": 7,
    "start_time": "2023-12-10T12:46:18.985Z"
   },
   {
    "duration": 6,
    "start_time": "2023-12-10T12:52:07.693Z"
   },
   {
    "duration": 513,
    "start_time": "2023-12-10T12:54:00.222Z"
   },
   {
    "duration": 143,
    "start_time": "2023-12-10T12:54:11.758Z"
   },
   {
    "duration": 199,
    "start_time": "2023-12-10T12:54:16.151Z"
   },
   {
    "duration": 99,
    "start_time": "2023-12-10T12:54:27.342Z"
   },
   {
    "duration": 222,
    "start_time": "2023-12-10T12:54:42.006Z"
   },
   {
    "duration": 209,
    "start_time": "2023-12-10T13:02:00.716Z"
   },
   {
    "duration": 208,
    "start_time": "2023-12-10T13:02:20.628Z"
   },
   {
    "duration": 269,
    "start_time": "2023-12-10T13:03:02.501Z"
   },
   {
    "duration": 141,
    "start_time": "2023-12-10T13:04:39.606Z"
   },
   {
    "duration": 127,
    "start_time": "2023-12-10T13:05:37.142Z"
   },
   {
    "duration": 127,
    "start_time": "2023-12-10T13:05:54.255Z"
   },
   {
    "duration": 154,
    "start_time": "2023-12-10T13:06:47.983Z"
   },
   {
    "duration": 144,
    "start_time": "2023-12-10T13:07:14.903Z"
   },
   {
    "duration": 457,
    "start_time": "2023-12-10T13:07:25.719Z"
   },
   {
    "duration": 199,
    "start_time": "2023-12-10T13:07:51.392Z"
   },
   {
    "duration": 1271,
    "start_time": "2023-12-10T13:08:13.272Z"
   },
   {
    "duration": 1344,
    "start_time": "2023-12-10T13:09:22.592Z"
   },
   {
    "duration": 131,
    "start_time": "2023-12-10T13:16:41.006Z"
   },
   {
    "duration": 112,
    "start_time": "2023-12-10T13:17:03.334Z"
   },
   {
    "duration": 132,
    "start_time": "2023-12-10T13:17:16.405Z"
   },
   {
    "duration": 142,
    "start_time": "2023-12-10T13:17:27.934Z"
   },
   {
    "duration": 122,
    "start_time": "2023-12-10T13:18:43.527Z"
   },
   {
    "duration": 147,
    "start_time": "2023-12-10T13:18:59.607Z"
   },
   {
    "duration": 148,
    "start_time": "2023-12-10T13:19:25.304Z"
   },
   {
    "duration": 160,
    "start_time": "2023-12-10T13:19:29.952Z"
   },
   {
    "duration": 375,
    "start_time": "2023-12-10T13:19:38.864Z"
   },
   {
    "duration": 169,
    "start_time": "2023-12-10T13:20:08.056Z"
   },
   {
    "duration": 181,
    "start_time": "2023-12-10T13:20:48.592Z"
   },
   {
    "duration": 148,
    "start_time": "2023-12-10T13:22:06.633Z"
   },
   {
    "duration": 163,
    "start_time": "2023-12-10T13:22:51.274Z"
   },
   {
    "duration": 140,
    "start_time": "2023-12-10T13:22:57.770Z"
   },
   {
    "duration": 131,
    "start_time": "2023-12-10T13:23:09.594Z"
   },
   {
    "duration": 155,
    "start_time": "2023-12-10T13:25:41.988Z"
   },
   {
    "duration": 127,
    "start_time": "2023-12-10T13:27:37.669Z"
   },
   {
    "duration": 106,
    "start_time": "2023-12-10T13:28:24.254Z"
   },
   {
    "duration": 192,
    "start_time": "2023-12-10T13:28:34.886Z"
   },
   {
    "duration": 112,
    "start_time": "2023-12-10T13:29:55.551Z"
   },
   {
    "duration": 143,
    "start_time": "2023-12-10T13:30:09.047Z"
   },
   {
    "duration": 156,
    "start_time": "2023-12-10T13:30:48.551Z"
   },
   {
    "duration": 178,
    "start_time": "2023-12-10T13:31:45.104Z"
   },
   {
    "duration": 159,
    "start_time": "2023-12-10T13:31:51.304Z"
   },
   {
    "duration": 205,
    "start_time": "2023-12-10T13:33:15.585Z"
   },
   {
    "duration": 157,
    "start_time": "2023-12-10T13:33:26.786Z"
   },
   {
    "duration": 157,
    "start_time": "2023-12-10T13:40:22.854Z"
   },
   {
    "duration": 8,
    "start_time": "2023-12-10T13:40:45.590Z"
   },
   {
    "duration": 101,
    "start_time": "2023-12-10T13:40:51.368Z"
   },
   {
    "duration": 8,
    "start_time": "2023-12-10T13:40:51.471Z"
   },
   {
    "duration": 10,
    "start_time": "2023-12-10T13:40:51.481Z"
   },
   {
    "duration": 7,
    "start_time": "2023-12-10T13:40:51.511Z"
   },
   {
    "duration": 15,
    "start_time": "2023-12-10T13:40:51.521Z"
   },
   {
    "duration": 5,
    "start_time": "2023-12-10T13:40:51.538Z"
   },
   {
    "duration": 41,
    "start_time": "2023-12-10T13:40:51.545Z"
   },
   {
    "duration": 26,
    "start_time": "2023-12-10T13:40:51.588Z"
   },
   {
    "duration": 6,
    "start_time": "2023-12-10T13:40:51.615Z"
   },
   {
    "duration": 9,
    "start_time": "2023-12-10T13:40:51.623Z"
   },
   {
    "duration": 22,
    "start_time": "2023-12-10T13:40:51.633Z"
   },
   {
    "duration": 95,
    "start_time": "2023-12-10T13:40:51.657Z"
   },
   {
    "duration": 13,
    "start_time": "2023-12-10T13:40:51.754Z"
   },
   {
    "duration": 14,
    "start_time": "2023-12-10T13:40:51.770Z"
   },
   {
    "duration": 5,
    "start_time": "2023-12-10T13:40:51.786Z"
   },
   {
    "duration": 151,
    "start_time": "2023-12-10T13:40:51.792Z"
   },
   {
    "duration": 166,
    "start_time": "2023-12-10T13:40:51.945Z"
   },
   {
    "duration": 245,
    "start_time": "2023-12-10T13:40:52.112Z"
   },
   {
    "duration": 176,
    "start_time": "2023-12-10T13:40:52.359Z"
   },
   {
    "duration": 127,
    "start_time": "2023-12-10T13:40:52.537Z"
   },
   {
    "duration": 127,
    "start_time": "2023-12-10T13:40:52.666Z"
   },
   {
    "duration": 104,
    "start_time": "2023-12-10T13:40:52.795Z"
   },
   {
    "duration": 151,
    "start_time": "2023-12-10T13:40:52.900Z"
   },
   {
    "duration": 148,
    "start_time": "2023-12-10T13:41:29.302Z"
   },
   {
    "duration": 47,
    "start_time": "2023-12-10T17:11:50.851Z"
   },
   {
    "duration": 688,
    "start_time": "2023-12-10T17:11:57.095Z"
   },
   {
    "duration": 7,
    "start_time": "2023-12-10T17:11:57.785Z"
   },
   {
    "duration": 10,
    "start_time": "2023-12-10T17:11:57.794Z"
   },
   {
    "duration": 12,
    "start_time": "2023-12-10T17:11:57.806Z"
   },
   {
    "duration": 16,
    "start_time": "2023-12-10T17:11:57.820Z"
   },
   {
    "duration": 16,
    "start_time": "2023-12-10T17:11:57.837Z"
   },
   {
    "duration": 42,
    "start_time": "2023-12-10T17:11:57.854Z"
   },
   {
    "duration": 5,
    "start_time": "2023-12-10T17:11:57.897Z"
   },
   {
    "duration": 6,
    "start_time": "2023-12-10T17:11:57.903Z"
   },
   {
    "duration": 17,
    "start_time": "2023-12-10T17:11:57.910Z"
   },
   {
    "duration": 47,
    "start_time": "2023-12-10T17:11:57.929Z"
   },
   {
    "duration": 84,
    "start_time": "2023-12-10T17:11:57.977Z"
   },
   {
    "duration": 13,
    "start_time": "2023-12-10T17:11:58.063Z"
   },
   {
    "duration": 9,
    "start_time": "2023-12-10T17:11:58.079Z"
   },
   {
    "duration": 7,
    "start_time": "2023-12-10T17:11:58.090Z"
   },
   {
    "duration": 544,
    "start_time": "2023-12-10T17:11:58.098Z"
   },
   {
    "duration": 157,
    "start_time": "2023-12-10T17:11:58.644Z"
   },
   {
    "duration": 143,
    "start_time": "2023-12-10T17:11:58.802Z"
   },
   {
    "duration": 262,
    "start_time": "2023-12-10T17:11:58.947Z"
   },
   {
    "duration": 142,
    "start_time": "2023-12-10T17:11:59.211Z"
   },
   {
    "duration": 140,
    "start_time": "2023-12-10T17:11:59.355Z"
   },
   {
    "duration": 130,
    "start_time": "2023-12-10T17:11:59.496Z"
   },
   {
    "duration": 175,
    "start_time": "2023-12-10T17:11:59.627Z"
   },
   {
    "duration": 153,
    "start_time": "2023-12-10T17:11:59.804Z"
   },
   {
    "duration": 147,
    "start_time": "2023-12-10T17:12:34.885Z"
   },
   {
    "duration": 180,
    "start_time": "2023-12-10T17:12:49.590Z"
   },
   {
    "duration": 196,
    "start_time": "2023-12-10T17:13:19.122Z"
   },
   {
    "duration": 213,
    "start_time": "2023-12-10T17:14:12.847Z"
   },
   {
    "duration": 161,
    "start_time": "2023-12-10T17:14:21.940Z"
   },
   {
    "duration": 275,
    "start_time": "2023-12-10T17:17:57.166Z"
   },
   {
    "duration": 164,
    "start_time": "2023-12-10T17:18:31.994Z"
   },
   {
    "duration": 166,
    "start_time": "2023-12-10T17:21:31.144Z"
   },
   {
    "duration": 190,
    "start_time": "2023-12-10T17:24:09.687Z"
   },
   {
    "duration": 170,
    "start_time": "2023-12-10T17:24:26.539Z"
   },
   {
    "duration": 9,
    "start_time": "2023-12-10T17:33:28.260Z"
   },
   {
    "duration": 9,
    "start_time": "2023-12-10T17:37:46.942Z"
   },
   {
    "duration": 748,
    "start_time": "2023-12-10T17:38:44.663Z"
   },
   {
    "duration": 7,
    "start_time": "2023-12-10T17:38:58.529Z"
   },
   {
    "duration": 764,
    "start_time": "2023-12-10T17:39:15.356Z"
   },
   {
    "duration": 198,
    "start_time": "2023-12-10T17:42:54.546Z"
   },
   {
    "duration": 153,
    "start_time": "2023-12-10T17:48:21.230Z"
   },
   {
    "duration": 104,
    "start_time": "2023-12-10T17:48:35.283Z"
   },
   {
    "duration": 107,
    "start_time": "2023-12-10T17:49:36.056Z"
   },
   {
    "duration": 117,
    "start_time": "2023-12-10T17:51:02.138Z"
   },
   {
    "duration": 110,
    "start_time": "2023-12-10T17:51:28.064Z"
   },
   {
    "duration": 114,
    "start_time": "2023-12-10T17:51:45.371Z"
   },
   {
    "duration": 113,
    "start_time": "2023-12-10T17:51:54.159Z"
   },
   {
    "duration": 103,
    "start_time": "2023-12-10T17:53:16.101Z"
   },
   {
    "duration": 97,
    "start_time": "2023-12-10T17:53:26.140Z"
   },
   {
    "duration": 106,
    "start_time": "2023-12-10T17:55:57.388Z"
   },
   {
    "duration": 158,
    "start_time": "2023-12-10T17:56:51.927Z"
   },
   {
    "duration": 103,
    "start_time": "2023-12-10T17:57:00.015Z"
   },
   {
    "duration": 107,
    "start_time": "2023-12-10T17:57:22.761Z"
   },
   {
    "duration": 112,
    "start_time": "2023-12-10T17:57:31.788Z"
   },
   {
    "duration": 204,
    "start_time": "2023-12-10T17:57:37.427Z"
   },
   {
    "duration": 113,
    "start_time": "2023-12-10T17:58:26.996Z"
   },
   {
    "duration": 100,
    "start_time": "2023-12-10T18:00:08.906Z"
   },
   {
    "duration": 117,
    "start_time": "2023-12-10T18:00:19.112Z"
   },
   {
    "duration": 120,
    "start_time": "2023-12-10T18:00:32.823Z"
   },
   {
    "duration": 135,
    "start_time": "2023-12-10T18:00:45.043Z"
   },
   {
    "duration": 120,
    "start_time": "2023-12-10T18:01:00.515Z"
   },
   {
    "duration": 114,
    "start_time": "2023-12-10T18:02:46.019Z"
   },
   {
    "duration": 132,
    "start_time": "2023-12-10T18:02:55.745Z"
   },
   {
    "duration": 117,
    "start_time": "2023-12-10T18:03:16.025Z"
   },
   {
    "duration": 128,
    "start_time": "2023-12-10T18:03:24.755Z"
   },
   {
    "duration": 116,
    "start_time": "2023-12-10T18:03:33.645Z"
   },
   {
    "duration": 107,
    "start_time": "2023-12-10T18:03:40.496Z"
   },
   {
    "duration": 105,
    "start_time": "2023-12-10T18:04:12.191Z"
   },
   {
    "duration": 107,
    "start_time": "2023-12-10T18:04:17.716Z"
   },
   {
    "duration": 104,
    "start_time": "2023-12-10T18:04:24.099Z"
   },
   {
    "duration": 123,
    "start_time": "2023-12-10T18:04:34.947Z"
   },
   {
    "duration": 106,
    "start_time": "2023-12-10T18:05:06.299Z"
   },
   {
    "duration": 99,
    "start_time": "2023-12-10T18:05:44.709Z"
   },
   {
    "duration": 208,
    "start_time": "2023-12-10T18:06:12.754Z"
   },
   {
    "duration": 109,
    "start_time": "2023-12-10T18:06:20.256Z"
   },
   {
    "duration": 118,
    "start_time": "2023-12-10T18:06:25.817Z"
   },
   {
    "duration": 127,
    "start_time": "2023-12-10T18:07:50.227Z"
   },
   {
    "duration": 105,
    "start_time": "2023-12-10T18:08:00.807Z"
   },
   {
    "duration": 112,
    "start_time": "2023-12-10T18:08:09.222Z"
   },
   {
    "duration": 96,
    "start_time": "2023-12-10T18:08:12.882Z"
   },
   {
    "duration": 103,
    "start_time": "2023-12-10T18:08:22.314Z"
   },
   {
    "duration": 113,
    "start_time": "2023-12-10T18:08:28.296Z"
   },
   {
    "duration": 103,
    "start_time": "2023-12-10T18:08:48.862Z"
   },
   {
    "duration": 102,
    "start_time": "2023-12-10T18:09:23.777Z"
   },
   {
    "duration": 112,
    "start_time": "2023-12-10T18:10:30.875Z"
   },
   {
    "duration": 98,
    "start_time": "2023-12-10T18:11:15.587Z"
   },
   {
    "duration": 103,
    "start_time": "2023-12-10T18:12:48.000Z"
   },
   {
    "duration": 100,
    "start_time": "2023-12-10T18:13:06.273Z"
   },
   {
    "duration": 97,
    "start_time": "2023-12-10T18:13:24.830Z"
   },
   {
    "duration": 98,
    "start_time": "2023-12-10T18:13:29.622Z"
   },
   {
    "duration": 102,
    "start_time": "2023-12-10T18:13:40.399Z"
   },
   {
    "duration": 104,
    "start_time": "2023-12-10T18:14:11.693Z"
   },
   {
    "duration": 92,
    "start_time": "2023-12-10T18:14:57.618Z"
   },
   {
    "duration": 92,
    "start_time": "2023-12-10T18:15:07.582Z"
   },
   {
    "duration": 105,
    "start_time": "2023-12-10T18:15:46.255Z"
   },
   {
    "duration": 108,
    "start_time": "2023-12-10T18:15:58.923Z"
   },
   {
    "duration": 234,
    "start_time": "2023-12-10T18:16:07.576Z"
   },
   {
    "duration": 117,
    "start_time": "2023-12-10T18:17:52.492Z"
   },
   {
    "duration": 129,
    "start_time": "2023-12-10T18:18:05.492Z"
   },
   {
    "duration": 110,
    "start_time": "2023-12-10T18:18:15.138Z"
   },
   {
    "duration": 93,
    "start_time": "2023-12-10T18:20:04.641Z"
   },
   {
    "duration": 107,
    "start_time": "2023-12-10T18:20:13.148Z"
   },
   {
    "duration": 87,
    "start_time": "2023-12-10T18:20:22.147Z"
   },
   {
    "duration": 103,
    "start_time": "2023-12-10T18:20:29.102Z"
   },
   {
    "duration": 88,
    "start_time": "2023-12-10T18:20:33.670Z"
   },
   {
    "duration": 90,
    "start_time": "2023-12-10T18:20:37.351Z"
   },
   {
    "duration": 96,
    "start_time": "2023-12-10T18:20:41.025Z"
   },
   {
    "duration": 91,
    "start_time": "2023-12-10T18:20:45.393Z"
   },
   {
    "duration": 93,
    "start_time": "2023-12-10T18:21:06.477Z"
   },
   {
    "duration": 148,
    "start_time": "2023-12-10T18:21:19.610Z"
   },
   {
    "duration": 47,
    "start_time": "2023-12-11T20:06:19.222Z"
   },
   {
    "duration": 555,
    "start_time": "2023-12-11T20:06:23.250Z"
   },
   {
    "duration": 8,
    "start_time": "2023-12-11T20:06:23.807Z"
   },
   {
    "duration": 10,
    "start_time": "2023-12-11T20:06:23.817Z"
   },
   {
    "duration": 12,
    "start_time": "2023-12-11T20:06:23.829Z"
   },
   {
    "duration": 22,
    "start_time": "2023-12-11T20:06:23.843Z"
   },
   {
    "duration": 5,
    "start_time": "2023-12-11T20:06:23.867Z"
   },
   {
    "duration": 69,
    "start_time": "2023-12-11T20:06:23.874Z"
   },
   {
    "duration": 7,
    "start_time": "2023-12-11T20:06:23.944Z"
   },
   {
    "duration": 8,
    "start_time": "2023-12-11T20:06:23.952Z"
   },
   {
    "duration": 11,
    "start_time": "2023-12-11T20:06:23.961Z"
   },
   {
    "duration": 61,
    "start_time": "2023-12-11T20:06:23.974Z"
   },
   {
    "duration": 100,
    "start_time": "2023-12-11T20:06:24.037Z"
   },
   {
    "duration": 15,
    "start_time": "2023-12-11T20:06:24.139Z"
   },
   {
    "duration": 9,
    "start_time": "2023-12-11T20:06:24.158Z"
   },
   {
    "duration": 10,
    "start_time": "2023-12-11T20:06:24.168Z"
   },
   {
    "duration": 591,
    "start_time": "2023-12-11T20:06:24.179Z"
   },
   {
    "duration": 124,
    "start_time": "2023-12-11T20:06:24.772Z"
   },
   {
    "duration": 147,
    "start_time": "2023-12-11T20:06:24.897Z"
   },
   {
    "duration": 124,
    "start_time": "2023-12-11T20:06:25.046Z"
   },
   {
    "duration": 172,
    "start_time": "2023-12-11T20:06:25.172Z"
   },
   {
    "duration": 124,
    "start_time": "2023-12-11T20:06:25.345Z"
   },
   {
    "duration": 119,
    "start_time": "2023-12-11T20:06:25.471Z"
   },
   {
    "duration": 109,
    "start_time": "2023-12-11T20:06:25.592Z"
   },
   {
    "duration": 131,
    "start_time": "2023-12-11T20:06:25.703Z"
   },
   {
    "duration": 101,
    "start_time": "2023-12-11T20:06:25.836Z"
   },
   {
    "duration": 45,
    "start_time": "2023-12-11T20:06:25.938Z"
   },
   {
    "duration": 0,
    "start_time": "2023-12-11T20:06:25.984Z"
   },
   {
    "duration": 0,
    "start_time": "2023-12-11T20:06:25.986Z"
   },
   {
    "duration": 0,
    "start_time": "2023-12-11T20:06:25.987Z"
   },
   {
    "duration": 159,
    "start_time": "2023-12-11T20:06:52.756Z"
   },
   {
    "duration": 92,
    "start_time": "2023-12-11T20:06:56.356Z"
   },
   {
    "duration": 110,
    "start_time": "2023-12-11T20:07:01.116Z"
   },
   {
    "duration": 92,
    "start_time": "2023-12-11T20:07:15.141Z"
   },
   {
    "duration": 108,
    "start_time": "2023-12-11T20:07:23.309Z"
   },
   {
    "duration": 165,
    "start_time": "2023-12-11T20:07:32.797Z"
   },
   {
    "duration": 112,
    "start_time": "2023-12-11T20:07:38.013Z"
   },
   {
    "duration": 102,
    "start_time": "2023-12-11T20:07:43.341Z"
   },
   {
    "duration": 104,
    "start_time": "2023-12-11T20:07:58.229Z"
   },
   {
    "duration": 12,
    "start_time": "2023-12-11T20:17:37.669Z"
   },
   {
    "duration": 145,
    "start_time": "2023-12-11T20:52:06.388Z"
   },
   {
    "duration": 141,
    "start_time": "2023-12-11T20:52:22.005Z"
   },
   {
    "duration": 151,
    "start_time": "2023-12-11T20:52:26.244Z"
   },
   {
    "duration": 163,
    "start_time": "2023-12-11T21:10:34.769Z"
   },
   {
    "duration": 769,
    "start_time": "2023-12-11T21:42:50.966Z"
   },
   {
    "duration": 12,
    "start_time": "2023-12-11T21:43:22.822Z"
   },
   {
    "duration": 786,
    "start_time": "2023-12-11T21:44:01.119Z"
   },
   {
    "duration": 10,
    "start_time": "2023-12-11T21:44:23.535Z"
   },
   {
    "duration": 164,
    "start_time": "2023-12-11T21:55:37.567Z"
   },
   {
    "duration": 820,
    "start_time": "2023-12-11T21:56:05.007Z"
   },
   {
    "duration": 19,
    "start_time": "2023-12-11T21:57:02.264Z"
   },
   {
    "duration": 734,
    "start_time": "2023-12-11T21:57:28.641Z"
   },
   {
    "duration": 267,
    "start_time": "2023-12-11T21:58:16.305Z"
   },
   {
    "duration": 275,
    "start_time": "2023-12-11T21:59:14.642Z"
   },
   {
    "duration": 224,
    "start_time": "2023-12-11T21:59:52.563Z"
   },
   {
    "duration": 981,
    "start_time": "2023-12-11T22:00:01.675Z"
   },
   {
    "duration": 2807,
    "start_time": "2023-12-11T22:00:50.827Z"
   },
   {
    "duration": 12,
    "start_time": "2023-12-11T22:09:07.881Z"
   },
   {
    "duration": 623,
    "start_time": "2023-12-11T22:09:58.401Z"
   },
   {
    "duration": 2133,
    "start_time": "2023-12-11T22:13:23.436Z"
   },
   {
    "duration": 163,
    "start_time": "2023-12-11T22:14:48.029Z"
   },
   {
    "duration": 2232,
    "start_time": "2023-12-11T22:17:01.791Z"
   },
   {
    "duration": 613,
    "start_time": "2023-12-11T22:19:10.816Z"
   },
   {
    "duration": 15,
    "start_time": "2023-12-11T22:21:05.017Z"
   },
   {
    "duration": 796,
    "start_time": "2023-12-11T22:23:17.203Z"
   },
   {
    "duration": 152,
    "start_time": "2023-12-11T22:24:13.948Z"
   },
   {
    "duration": 737,
    "start_time": "2023-12-11T22:24:37.972Z"
   },
   {
    "duration": 171,
    "start_time": "2023-12-11T22:26:42.198Z"
   },
   {
    "duration": 164,
    "start_time": "2023-12-11T22:27:32.406Z"
   },
   {
    "duration": 157,
    "start_time": "2023-12-11T22:28:27.479Z"
   },
   {
    "duration": 159,
    "start_time": "2023-12-11T22:28:55.967Z"
   },
   {
    "duration": 147,
    "start_time": "2023-12-11T22:29:05.767Z"
   },
   {
    "duration": 382,
    "start_time": "2023-12-11T22:30:28.537Z"
   },
   {
    "duration": 532,
    "start_time": "2023-12-12T18:41:19.463Z"
   },
   {
    "duration": 9,
    "start_time": "2023-12-12T18:41:19.997Z"
   },
   {
    "duration": 15,
    "start_time": "2023-12-12T18:41:20.008Z"
   },
   {
    "duration": 10,
    "start_time": "2023-12-12T18:41:20.024Z"
   },
   {
    "duration": 17,
    "start_time": "2023-12-12T18:41:20.037Z"
   },
   {
    "duration": 5,
    "start_time": "2023-12-12T18:41:20.055Z"
   },
   {
    "duration": 61,
    "start_time": "2023-12-12T18:41:20.061Z"
   },
   {
    "duration": 5,
    "start_time": "2023-12-12T18:41:20.123Z"
   },
   {
    "duration": 11,
    "start_time": "2023-12-12T18:41:20.130Z"
   },
   {
    "duration": 17,
    "start_time": "2023-12-12T18:41:20.142Z"
   },
   {
    "duration": 28,
    "start_time": "2023-12-12T18:41:20.161Z"
   },
   {
    "duration": 90,
    "start_time": "2023-12-12T18:41:20.191Z"
   },
   {
    "duration": 16,
    "start_time": "2023-12-12T18:41:20.282Z"
   },
   {
    "duration": 10,
    "start_time": "2023-12-12T18:41:20.314Z"
   },
   {
    "duration": 6,
    "start_time": "2023-12-12T18:41:20.326Z"
   },
   {
    "duration": 532,
    "start_time": "2023-12-12T18:41:20.334Z"
   },
   {
    "duration": 125,
    "start_time": "2023-12-12T18:41:20.868Z"
   },
   {
    "duration": 126,
    "start_time": "2023-12-12T18:41:20.995Z"
   },
   {
    "duration": 116,
    "start_time": "2023-12-12T18:41:21.123Z"
   },
   {
    "duration": 159,
    "start_time": "2023-12-12T18:41:21.241Z"
   },
   {
    "duration": 114,
    "start_time": "2023-12-12T18:41:21.402Z"
   },
   {
    "duration": 114,
    "start_time": "2023-12-12T18:41:21.518Z"
   },
   {
    "duration": 101,
    "start_time": "2023-12-12T18:41:21.634Z"
   },
   {
    "duration": 113,
    "start_time": "2023-12-12T18:41:21.737Z"
   },
   {
    "duration": 99,
    "start_time": "2023-12-12T18:41:21.852Z"
   },
   {
    "duration": 162,
    "start_time": "2023-12-12T18:41:21.953Z"
   },
   {
    "duration": 110,
    "start_time": "2023-12-12T18:41:22.116Z"
   },
   {
    "duration": 11,
    "start_time": "2023-12-12T18:41:22.228Z"
   },
   {
    "duration": 165,
    "start_time": "2023-12-12T18:41:22.241Z"
   },
   {
    "duration": 171,
    "start_time": "2023-12-12T18:41:22.414Z"
   },
   {
    "duration": 171,
    "start_time": "2023-12-12T18:41:22.586Z"
   },
   {
    "duration": 327,
    "start_time": "2023-12-12T18:41:22.759Z"
   },
   {
    "duration": 440,
    "start_time": "2023-12-12T18:41:23.088Z"
   },
   {
    "duration": 0,
    "start_time": "2023-12-12T18:41:23.530Z"
   },
   {
    "duration": 0,
    "start_time": "2023-12-12T18:41:23.531Z"
   },
   {
    "duration": 0,
    "start_time": "2023-12-12T18:41:23.533Z"
   },
   {
    "duration": 19,
    "start_time": "2023-12-12T18:48:09.635Z"
   },
   {
    "duration": 16,
    "start_time": "2023-12-12T18:48:42.094Z"
   },
   {
    "duration": 123,
    "start_time": "2023-12-12T18:50:48.733Z"
   },
   {
    "duration": 20,
    "start_time": "2023-12-12T18:50:55.701Z"
   },
   {
    "duration": 24,
    "start_time": "2023-12-12T19:00:48.342Z"
   },
   {
    "duration": 108,
    "start_time": "2023-12-12T19:02:22.249Z"
   },
   {
    "duration": 7,
    "start_time": "2023-12-12T19:02:22.359Z"
   },
   {
    "duration": 12,
    "start_time": "2023-12-12T19:02:22.368Z"
   },
   {
    "duration": 35,
    "start_time": "2023-12-12T19:02:22.381Z"
   },
   {
    "duration": 25,
    "start_time": "2023-12-12T19:02:22.418Z"
   },
   {
    "duration": 6,
    "start_time": "2023-12-12T19:02:22.444Z"
   },
   {
    "duration": 63,
    "start_time": "2023-12-12T19:02:22.452Z"
   },
   {
    "duration": 7,
    "start_time": "2023-12-12T19:02:22.517Z"
   },
   {
    "duration": 14,
    "start_time": "2023-12-12T19:02:22.526Z"
   },
   {
    "duration": 12,
    "start_time": "2023-12-12T19:02:22.541Z"
   },
   {
    "duration": 26,
    "start_time": "2023-12-12T19:02:22.554Z"
   },
   {
    "duration": 107,
    "start_time": "2023-12-12T19:02:22.581Z"
   },
   {
    "duration": 25,
    "start_time": "2023-12-12T19:02:22.690Z"
   },
   {
    "duration": 10,
    "start_time": "2023-12-12T19:02:22.718Z"
   },
   {
    "duration": 17,
    "start_time": "2023-12-12T19:02:22.729Z"
   },
   {
    "duration": 161,
    "start_time": "2023-12-12T19:02:22.747Z"
   },
   {
    "duration": 119,
    "start_time": "2023-12-12T19:02:22.910Z"
   },
   {
    "duration": 136,
    "start_time": "2023-12-12T19:02:23.031Z"
   },
   {
    "duration": 117,
    "start_time": "2023-12-12T19:02:23.169Z"
   },
   {
    "duration": 108,
    "start_time": "2023-12-12T19:02:23.288Z"
   },
   {
    "duration": 111,
    "start_time": "2023-12-12T19:02:23.398Z"
   },
   {
    "duration": 111,
    "start_time": "2023-12-12T19:02:23.514Z"
   },
   {
    "duration": 106,
    "start_time": "2023-12-12T19:02:23.626Z"
   },
   {
    "duration": 117,
    "start_time": "2023-12-12T19:02:23.733Z"
   },
   {
    "duration": 178,
    "start_time": "2023-12-12T19:02:23.851Z"
   },
   {
    "duration": 166,
    "start_time": "2023-12-12T19:02:24.031Z"
   },
   {
    "duration": 116,
    "start_time": "2023-12-12T19:02:24.199Z"
   },
   {
    "duration": 11,
    "start_time": "2023-12-12T19:02:24.316Z"
   },
   {
    "duration": 161,
    "start_time": "2023-12-12T19:02:24.328Z"
   },
   {
    "duration": 176,
    "start_time": "2023-12-12T19:02:24.491Z"
   },
   {
    "duration": 173,
    "start_time": "2023-12-12T19:02:24.669Z"
   },
   {
    "duration": 278,
    "start_time": "2023-12-12T19:02:24.843Z"
   },
   {
    "duration": 376,
    "start_time": "2023-12-12T19:02:25.123Z"
   },
   {
    "duration": 0,
    "start_time": "2023-12-12T19:02:25.500Z"
   },
   {
    "duration": 1,
    "start_time": "2023-12-12T19:02:25.501Z"
   },
   {
    "duration": 0,
    "start_time": "2023-12-12T19:02:25.503Z"
   },
   {
    "duration": 23,
    "start_time": "2023-12-12T19:05:15.146Z"
   },
   {
    "duration": 11,
    "start_time": "2023-12-12T19:06:31.966Z"
   },
   {
    "duration": 54,
    "start_time": "2023-12-12T19:09:56.876Z"
   },
   {
    "duration": 10,
    "start_time": "2023-12-12T19:10:10.653Z"
   },
   {
    "duration": 11,
    "start_time": "2023-12-12T19:12:24.592Z"
   },
   {
    "duration": 109,
    "start_time": "2023-12-12T19:12:32.529Z"
   },
   {
    "duration": 7,
    "start_time": "2023-12-12T19:12:32.640Z"
   },
   {
    "duration": 10,
    "start_time": "2023-12-12T19:12:32.648Z"
   },
   {
    "duration": 6,
    "start_time": "2023-12-12T19:12:32.659Z"
   },
   {
    "duration": 13,
    "start_time": "2023-12-12T19:12:32.667Z"
   },
   {
    "duration": 6,
    "start_time": "2023-12-12T19:12:32.681Z"
   },
   {
    "duration": 41,
    "start_time": "2023-12-12T19:12:32.715Z"
   },
   {
    "duration": 5,
    "start_time": "2023-12-12T19:12:32.758Z"
   },
   {
    "duration": 5,
    "start_time": "2023-12-12T19:12:32.764Z"
   },
   {
    "duration": 7,
    "start_time": "2023-12-12T19:12:32.770Z"
   },
   {
    "duration": 49,
    "start_time": "2023-12-12T19:12:32.779Z"
   },
   {
    "duration": 99,
    "start_time": "2023-12-12T19:12:32.830Z"
   },
   {
    "duration": 15,
    "start_time": "2023-12-12T19:12:32.931Z"
   },
   {
    "duration": 12,
    "start_time": "2023-12-12T19:12:32.949Z"
   },
   {
    "duration": 6,
    "start_time": "2023-12-12T19:12:32.962Z"
   },
   {
    "duration": 146,
    "start_time": "2023-12-12T19:12:32.969Z"
   },
   {
    "duration": 117,
    "start_time": "2023-12-12T19:12:33.116Z"
   },
   {
    "duration": 121,
    "start_time": "2023-12-12T19:12:33.235Z"
   },
   {
    "duration": 184,
    "start_time": "2023-12-12T19:12:33.358Z"
   },
   {
    "duration": 112,
    "start_time": "2023-12-12T19:12:33.544Z"
   },
   {
    "duration": 120,
    "start_time": "2023-12-12T19:12:33.657Z"
   },
   {
    "duration": 115,
    "start_time": "2023-12-12T19:12:33.778Z"
   },
   {
    "duration": 106,
    "start_time": "2023-12-12T19:12:33.894Z"
   },
   {
    "duration": 126,
    "start_time": "2023-12-12T19:12:34.001Z"
   },
   {
    "duration": 103,
    "start_time": "2023-12-12T19:12:34.129Z"
   },
   {
    "duration": 163,
    "start_time": "2023-12-12T19:12:34.234Z"
   },
   {
    "duration": 118,
    "start_time": "2023-12-12T19:12:34.399Z"
   },
   {
    "duration": 12,
    "start_time": "2023-12-12T19:12:34.518Z"
   },
   {
    "duration": 164,
    "start_time": "2023-12-12T19:12:34.531Z"
   },
   {
    "duration": 183,
    "start_time": "2023-12-12T19:12:34.697Z"
   },
   {
    "duration": 249,
    "start_time": "2023-12-12T19:12:34.882Z"
   },
   {
    "duration": 271,
    "start_time": "2023-12-12T19:12:35.133Z"
   },
   {
    "duration": 340,
    "start_time": "2023-12-12T19:12:35.406Z"
   },
   {
    "duration": 0,
    "start_time": "2023-12-12T19:12:35.748Z"
   },
   {
    "duration": 0,
    "start_time": "2023-12-12T19:12:35.749Z"
   },
   {
    "duration": 0,
    "start_time": "2023-12-12T19:12:35.750Z"
   },
   {
    "duration": 10,
    "start_time": "2023-12-12T19:13:14.371Z"
   },
   {
    "duration": 103,
    "start_time": "2023-12-12T19:13:56.558Z"
   },
   {
    "duration": 8,
    "start_time": "2023-12-12T19:13:56.663Z"
   },
   {
    "duration": 21,
    "start_time": "2023-12-12T19:13:56.672Z"
   },
   {
    "duration": 34,
    "start_time": "2023-12-12T19:13:56.695Z"
   },
   {
    "duration": 12,
    "start_time": "2023-12-12T19:13:56.730Z"
   },
   {
    "duration": 5,
    "start_time": "2023-12-12T19:13:56.744Z"
   },
   {
    "duration": 41,
    "start_time": "2023-12-12T19:13:56.750Z"
   },
   {
    "duration": 6,
    "start_time": "2023-12-12T19:13:56.792Z"
   },
   {
    "duration": 18,
    "start_time": "2023-12-12T19:13:56.799Z"
   },
   {
    "duration": 11,
    "start_time": "2023-12-12T19:13:56.819Z"
   },
   {
    "duration": 25,
    "start_time": "2023-12-12T19:13:56.831Z"
   },
   {
    "duration": 97,
    "start_time": "2023-12-12T19:13:56.857Z"
   },
   {
    "duration": 14,
    "start_time": "2023-12-12T19:13:56.955Z"
   },
   {
    "duration": 9,
    "start_time": "2023-12-12T19:13:56.971Z"
   },
   {
    "duration": 5,
    "start_time": "2023-12-12T19:13:56.982Z"
   },
   {
    "duration": 142,
    "start_time": "2023-12-12T19:13:56.988Z"
   },
   {
    "duration": 118,
    "start_time": "2023-12-12T19:13:57.132Z"
   },
   {
    "duration": 119,
    "start_time": "2023-12-12T19:13:57.252Z"
   },
   {
    "duration": 112,
    "start_time": "2023-12-12T19:13:57.372Z"
   },
   {
    "duration": 116,
    "start_time": "2023-12-12T19:13:57.485Z"
   },
   {
    "duration": 105,
    "start_time": "2023-12-12T19:13:57.602Z"
   },
   {
    "duration": 113,
    "start_time": "2023-12-12T19:13:57.714Z"
   },
   {
    "duration": 102,
    "start_time": "2023-12-12T19:13:57.829Z"
   },
   {
    "duration": 182,
    "start_time": "2023-12-12T19:13:57.934Z"
   },
   {
    "duration": 98,
    "start_time": "2023-12-12T19:13:58.118Z"
   },
   {
    "duration": 164,
    "start_time": "2023-12-12T19:13:58.218Z"
   },
   {
    "duration": 115,
    "start_time": "2023-12-12T19:13:58.384Z"
   },
   {
    "duration": 20,
    "start_time": "2023-12-12T19:13:58.503Z"
   },
   {
    "duration": 169,
    "start_time": "2023-12-12T19:13:58.525Z"
   },
   {
    "duration": 206,
    "start_time": "2023-12-12T19:13:58.696Z"
   },
   {
    "duration": 186,
    "start_time": "2023-12-12T19:13:58.904Z"
   },
   {
    "duration": 255,
    "start_time": "2023-12-12T19:13:59.091Z"
   },
   {
    "duration": 326,
    "start_time": "2023-12-12T19:13:59.348Z"
   },
   {
    "duration": 0,
    "start_time": "2023-12-12T19:13:59.676Z"
   },
   {
    "duration": 0,
    "start_time": "2023-12-12T19:13:59.677Z"
   },
   {
    "duration": 0,
    "start_time": "2023-12-12T19:13:59.678Z"
   },
   {
    "duration": 105,
    "start_time": "2023-12-12T19:14:23.217Z"
   },
   {
    "duration": 7,
    "start_time": "2023-12-12T19:14:23.324Z"
   },
   {
    "duration": 10,
    "start_time": "2023-12-12T19:14:23.332Z"
   },
   {
    "duration": 6,
    "start_time": "2023-12-12T19:14:23.343Z"
   },
   {
    "duration": 108,
    "start_time": "2023-12-12T19:14:30.821Z"
   },
   {
    "duration": 7,
    "start_time": "2023-12-12T19:14:30.931Z"
   },
   {
    "duration": 42,
    "start_time": "2023-12-12T19:14:30.940Z"
   },
   {
    "duration": 95,
    "start_time": "2023-12-12T19:14:30.984Z"
   },
   {
    "duration": 13,
    "start_time": "2023-12-12T19:14:45.644Z"
   },
   {
    "duration": 19,
    "start_time": "2023-12-12T19:17:02.242Z"
   },
   {
    "duration": 106,
    "start_time": "2023-12-12T19:17:10.375Z"
   },
   {
    "duration": 8,
    "start_time": "2023-12-12T19:17:10.484Z"
   },
   {
    "duration": 24,
    "start_time": "2023-12-12T19:17:10.493Z"
   },
   {
    "duration": 6,
    "start_time": "2023-12-12T19:17:10.519Z"
   },
   {
    "duration": 21,
    "start_time": "2023-12-12T19:17:10.527Z"
   },
   {
    "duration": 11,
    "start_time": "2023-12-12T19:17:10.550Z"
   },
   {
    "duration": 53,
    "start_time": "2023-12-12T19:17:10.563Z"
   },
   {
    "duration": 5,
    "start_time": "2023-12-12T19:17:10.618Z"
   },
   {
    "duration": 5,
    "start_time": "2023-12-12T19:17:10.624Z"
   },
   {
    "duration": 15,
    "start_time": "2023-12-12T19:17:10.631Z"
   },
   {
    "duration": 25,
    "start_time": "2023-12-12T19:17:10.647Z"
   },
   {
    "duration": 108,
    "start_time": "2023-12-12T19:17:10.674Z"
   },
   {
    "duration": 14,
    "start_time": "2023-12-12T19:17:10.784Z"
   },
   {
    "duration": 20,
    "start_time": "2023-12-12T19:17:10.801Z"
   },
   {
    "duration": 6,
    "start_time": "2023-12-12T19:17:10.822Z"
   },
   {
    "duration": 133,
    "start_time": "2023-12-12T19:17:10.830Z"
   },
   {
    "duration": 130,
    "start_time": "2023-12-12T19:17:10.965Z"
   },
   {
    "duration": 192,
    "start_time": "2023-12-12T19:17:11.096Z"
   },
   {
    "duration": 112,
    "start_time": "2023-12-12T19:17:11.290Z"
   },
   {
    "duration": 113,
    "start_time": "2023-12-12T19:17:11.404Z"
   },
   {
    "duration": 113,
    "start_time": "2023-12-12T19:17:11.518Z"
   },
   {
    "duration": 111,
    "start_time": "2023-12-12T19:17:11.633Z"
   },
   {
    "duration": 102,
    "start_time": "2023-12-12T19:17:11.746Z"
   },
   {
    "duration": 116,
    "start_time": "2023-12-12T19:17:11.849Z"
   },
   {
    "duration": 102,
    "start_time": "2023-12-12T19:17:11.966Z"
   },
   {
    "duration": 172,
    "start_time": "2023-12-12T19:17:12.070Z"
   },
   {
    "duration": 112,
    "start_time": "2023-12-12T19:17:12.244Z"
   },
   {
    "duration": 11,
    "start_time": "2023-12-12T19:17:12.358Z"
   },
   {
    "duration": 169,
    "start_time": "2023-12-12T19:17:12.371Z"
   },
   {
    "duration": 236,
    "start_time": "2023-12-12T19:17:12.542Z"
   },
   {
    "duration": 175,
    "start_time": "2023-12-12T19:17:12.779Z"
   },
   {
    "duration": 295,
    "start_time": "2023-12-12T19:17:12.956Z"
   },
   {
    "duration": 321,
    "start_time": "2023-12-12T19:17:13.252Z"
   },
   {
    "duration": 0,
    "start_time": "2023-12-12T19:17:13.575Z"
   },
   {
    "duration": 0,
    "start_time": "2023-12-12T19:17:13.576Z"
   },
   {
    "duration": 0,
    "start_time": "2023-12-12T19:17:13.577Z"
   },
   {
    "duration": 12,
    "start_time": "2023-12-12T19:18:05.223Z"
   },
   {
    "duration": 4,
    "start_time": "2023-12-12T19:19:02.086Z"
   },
   {
    "duration": 14,
    "start_time": "2023-12-12T19:19:12.817Z"
   },
   {
    "duration": 50,
    "start_time": "2023-12-12T19:19:41.364Z"
   },
   {
    "duration": 15,
    "start_time": "2023-12-12T19:20:01.847Z"
   },
   {
    "duration": 14,
    "start_time": "2023-12-12T19:20:42.200Z"
   },
   {
    "duration": 15,
    "start_time": "2023-12-12T19:21:21.889Z"
   },
   {
    "duration": 24,
    "start_time": "2023-12-12T19:22:01.742Z"
   },
   {
    "duration": 103,
    "start_time": "2023-12-12T19:23:36.179Z"
   },
   {
    "duration": 7,
    "start_time": "2023-12-12T19:23:36.283Z"
   },
   {
    "duration": 24,
    "start_time": "2023-12-12T19:23:36.292Z"
   },
   {
    "duration": 5,
    "start_time": "2023-12-12T19:23:36.318Z"
   },
   {
    "duration": 11,
    "start_time": "2023-12-12T19:23:36.325Z"
   },
   {
    "duration": 6,
    "start_time": "2023-12-12T19:23:36.337Z"
   },
   {
    "duration": 42,
    "start_time": "2023-12-12T19:23:36.344Z"
   },
   {
    "duration": 28,
    "start_time": "2023-12-12T19:23:36.388Z"
   },
   {
    "duration": 4,
    "start_time": "2023-12-12T19:23:36.417Z"
   },
   {
    "duration": 14,
    "start_time": "2023-12-12T19:23:36.423Z"
   },
   {
    "duration": 24,
    "start_time": "2023-12-12T19:23:36.438Z"
   },
   {
    "duration": 97,
    "start_time": "2023-12-12T19:23:36.463Z"
   },
   {
    "duration": 19,
    "start_time": "2023-12-12T19:23:36.562Z"
   },
   {
    "duration": 11,
    "start_time": "2023-12-12T19:23:36.584Z"
   },
   {
    "duration": 23,
    "start_time": "2023-12-12T19:23:36.597Z"
   },
   {
    "duration": 131,
    "start_time": "2023-12-12T19:23:36.621Z"
   },
   {
    "duration": 120,
    "start_time": "2023-12-12T19:23:36.754Z"
   },
   {
    "duration": 125,
    "start_time": "2023-12-12T19:23:36.876Z"
   },
   {
    "duration": 121,
    "start_time": "2023-12-12T19:23:37.003Z"
   },
   {
    "duration": 116,
    "start_time": "2023-12-12T19:23:37.126Z"
   },
   {
    "duration": 116,
    "start_time": "2023-12-12T19:23:37.244Z"
   },
   {
    "duration": 108,
    "start_time": "2023-12-12T19:23:37.362Z"
   },
   {
    "duration": 180,
    "start_time": "2023-12-12T19:23:37.472Z"
   },
   {
    "duration": 118,
    "start_time": "2023-12-12T19:23:37.653Z"
   },
   {
    "duration": 104,
    "start_time": "2023-12-12T19:23:37.773Z"
   },
   {
    "duration": 159,
    "start_time": "2023-12-12T19:23:37.878Z"
   },
   {
    "duration": 106,
    "start_time": "2023-12-12T19:23:38.038Z"
   },
   {
    "duration": 10,
    "start_time": "2023-12-12T19:23:38.146Z"
   },
   {
    "duration": 169,
    "start_time": "2023-12-12T19:23:38.157Z"
   },
   {
    "duration": 175,
    "start_time": "2023-12-12T19:23:38.327Z"
   },
   {
    "duration": 176,
    "start_time": "2023-12-12T19:23:38.504Z"
   },
   {
    "duration": 296,
    "start_time": "2023-12-12T19:23:38.682Z"
   },
   {
    "duration": 355,
    "start_time": "2023-12-12T19:23:38.980Z"
   },
   {
    "duration": 0,
    "start_time": "2023-12-12T19:23:39.336Z"
   },
   {
    "duration": 0,
    "start_time": "2023-12-12T19:23:39.338Z"
   },
   {
    "duration": 0,
    "start_time": "2023-12-12T19:23:39.339Z"
   },
   {
    "duration": 50,
    "start_time": "2023-12-12T19:31:24.845Z"
   },
   {
    "duration": 15,
    "start_time": "2023-12-12T19:31:32.018Z"
   },
   {
    "duration": 15,
    "start_time": "2023-12-12T19:32:40.814Z"
   },
   {
    "duration": 22,
    "start_time": "2023-12-12T19:37:21.943Z"
   },
   {
    "duration": 696,
    "start_time": "2023-12-12T19:38:12.348Z"
   },
   {
    "duration": 162,
    "start_time": "2023-12-12T19:49:38.841Z"
   },
   {
    "duration": 246,
    "start_time": "2023-12-12T19:51:42.056Z"
   },
   {
    "duration": 153,
    "start_time": "2023-12-12T19:54:31.799Z"
   },
   {
    "duration": 153,
    "start_time": "2023-12-12T19:54:46.186Z"
   },
   {
    "duration": 597,
    "start_time": "2023-12-12T19:57:22.508Z"
   },
   {
    "duration": 105,
    "start_time": "2023-12-12T20:26:49.820Z"
   },
   {
    "duration": 7,
    "start_time": "2023-12-12T20:26:49.926Z"
   },
   {
    "duration": 9,
    "start_time": "2023-12-12T20:26:49.934Z"
   },
   {
    "duration": 6,
    "start_time": "2023-12-12T20:26:49.944Z"
   },
   {
    "duration": 10,
    "start_time": "2023-12-12T20:26:49.952Z"
   },
   {
    "duration": 5,
    "start_time": "2023-12-12T20:26:49.964Z"
   },
   {
    "duration": 65,
    "start_time": "2023-12-12T20:26:49.971Z"
   },
   {
    "duration": 4,
    "start_time": "2023-12-12T20:26:50.038Z"
   },
   {
    "duration": 5,
    "start_time": "2023-12-12T20:26:50.044Z"
   },
   {
    "duration": 8,
    "start_time": "2023-12-12T20:26:50.051Z"
   },
   {
    "duration": 24,
    "start_time": "2023-12-12T20:26:50.060Z"
   },
   {
    "duration": 104,
    "start_time": "2023-12-12T20:26:50.086Z"
   },
   {
    "duration": 26,
    "start_time": "2023-12-12T20:26:50.191Z"
   },
   {
    "duration": 9,
    "start_time": "2023-12-12T20:26:50.219Z"
   },
   {
    "duration": 9,
    "start_time": "2023-12-12T20:26:50.229Z"
   },
   {
    "duration": 129,
    "start_time": "2023-12-12T20:26:50.239Z"
   },
   {
    "duration": 126,
    "start_time": "2023-12-12T20:26:50.369Z"
   },
   {
    "duration": 124,
    "start_time": "2023-12-12T20:26:50.497Z"
   },
   {
    "duration": 119,
    "start_time": "2023-12-12T20:26:50.623Z"
   },
   {
    "duration": 183,
    "start_time": "2023-12-12T20:26:50.744Z"
   },
   {
    "duration": 115,
    "start_time": "2023-12-12T20:26:50.928Z"
   },
   {
    "duration": 114,
    "start_time": "2023-12-12T20:26:51.045Z"
   },
   {
    "duration": 102,
    "start_time": "2023-12-12T20:26:51.161Z"
   },
   {
    "duration": 121,
    "start_time": "2023-12-12T20:26:51.265Z"
   },
   {
    "duration": 101,
    "start_time": "2023-12-12T20:26:51.388Z"
   },
   {
    "duration": 176,
    "start_time": "2023-12-12T20:26:51.491Z"
   },
   {
    "duration": 115,
    "start_time": "2023-12-12T20:26:51.669Z"
   },
   {
    "duration": 10,
    "start_time": "2023-12-12T20:26:51.788Z"
   },
   {
    "duration": 170,
    "start_time": "2023-12-12T20:26:51.800Z"
   },
   {
    "duration": 170,
    "start_time": "2023-12-12T20:26:51.971Z"
   },
   {
    "duration": 180,
    "start_time": "2023-12-12T20:26:52.143Z"
   },
   {
    "duration": 162,
    "start_time": "2023-12-12T20:26:52.324Z"
   },
   {
    "duration": 164,
    "start_time": "2023-12-12T20:26:52.488Z"
   },
   {
    "duration": 678,
    "start_time": "2023-12-12T20:26:52.654Z"
   },
   {
    "duration": 177,
    "start_time": "2023-12-12T20:26:53.334Z"
   },
   {
    "duration": 604,
    "start_time": "2023-12-12T20:26:53.515Z"
   },
   {
    "duration": 158,
    "start_time": "2023-12-12T20:29:20.527Z"
   },
   {
    "duration": 153,
    "start_time": "2023-12-12T20:31:02.986Z"
   },
   {
    "duration": 242,
    "start_time": "2023-12-12T20:33:07.113Z"
   },
   {
    "duration": 6,
    "start_time": "2023-12-12T20:35:54.766Z"
   },
   {
    "duration": 14,
    "start_time": "2023-12-12T20:36:37.963Z"
   },
   {
    "duration": 97,
    "start_time": "2023-12-12T20:39:20.440Z"
   },
   {
    "duration": 103,
    "start_time": "2023-12-12T20:39:25.785Z"
   },
   {
    "duration": 101,
    "start_time": "2023-12-12T20:39:41.400Z"
   },
   {
    "duration": 123,
    "start_time": "2023-12-12T20:39:46.112Z"
   },
   {
    "duration": 103,
    "start_time": "2023-12-12T20:40:08.696Z"
   },
   {
    "duration": 104,
    "start_time": "2023-12-12T20:40:44.001Z"
   },
   {
    "duration": 108,
    "start_time": "2023-12-12T20:40:50.522Z"
   },
   {
    "duration": 7,
    "start_time": "2023-12-12T20:40:50.632Z"
   },
   {
    "duration": 12,
    "start_time": "2023-12-12T20:40:50.641Z"
   },
   {
    "duration": 7,
    "start_time": "2023-12-12T20:40:50.654Z"
   },
   {
    "duration": 11,
    "start_time": "2023-12-12T20:40:50.662Z"
   },
   {
    "duration": 6,
    "start_time": "2023-12-12T20:40:50.674Z"
   },
   {
    "duration": 64,
    "start_time": "2023-12-12T20:40:50.681Z"
   },
   {
    "duration": 5,
    "start_time": "2023-12-12T20:40:50.747Z"
   },
   {
    "duration": 7,
    "start_time": "2023-12-12T20:40:50.753Z"
   },
   {
    "duration": 9,
    "start_time": "2023-12-12T20:40:50.762Z"
   },
   {
    "duration": 43,
    "start_time": "2023-12-12T20:40:50.772Z"
   },
   {
    "duration": 86,
    "start_time": "2023-12-12T20:40:50.816Z"
   },
   {
    "duration": 24,
    "start_time": "2023-12-12T20:40:50.903Z"
   },
   {
    "duration": 13,
    "start_time": "2023-12-12T20:40:50.928Z"
   },
   {
    "duration": 8,
    "start_time": "2023-12-12T20:40:50.942Z"
   },
   {
    "duration": 141,
    "start_time": "2023-12-12T20:40:50.951Z"
   },
   {
    "duration": 131,
    "start_time": "2023-12-12T20:40:51.094Z"
   },
   {
    "duration": 118,
    "start_time": "2023-12-12T20:40:51.226Z"
   },
   {
    "duration": 112,
    "start_time": "2023-12-12T20:40:51.346Z"
   },
   {
    "duration": 118,
    "start_time": "2023-12-12T20:40:51.460Z"
   },
   {
    "duration": 110,
    "start_time": "2023-12-12T20:40:51.580Z"
   },
   {
    "duration": 107,
    "start_time": "2023-12-12T20:40:51.692Z"
   },
   {
    "duration": 105,
    "start_time": "2023-12-12T20:40:51.800Z"
   },
   {
    "duration": 122,
    "start_time": "2023-12-12T20:40:51.907Z"
   },
   {
    "duration": 98,
    "start_time": "2023-12-12T20:40:52.031Z"
   },
   {
    "duration": 263,
    "start_time": "2023-12-12T20:40:52.131Z"
   },
   {
    "duration": 108,
    "start_time": "2023-12-12T20:40:52.395Z"
   },
   {
    "duration": 11,
    "start_time": "2023-12-12T20:40:52.517Z"
   },
   {
    "duration": 163,
    "start_time": "2023-12-12T20:40:52.530Z"
   },
   {
    "duration": 167,
    "start_time": "2023-12-12T20:40:52.694Z"
   },
   {
    "duration": 179,
    "start_time": "2023-12-12T20:40:52.863Z"
   },
   {
    "duration": 161,
    "start_time": "2023-12-12T20:40:53.043Z"
   },
   {
    "duration": 164,
    "start_time": "2023-12-12T20:40:53.206Z"
   },
   {
    "duration": 162,
    "start_time": "2023-12-12T20:40:53.372Z"
   },
   {
    "duration": 181,
    "start_time": "2023-12-12T20:40:53.536Z"
   },
   {
    "duration": 168,
    "start_time": "2023-12-12T20:40:53.719Z"
   },
   {
    "duration": 699,
    "start_time": "2023-12-12T20:40:53.889Z"
   },
   {
    "duration": 27,
    "start_time": "2023-12-12T20:40:54.589Z"
   },
   {
    "duration": 103,
    "start_time": "2023-12-12T20:41:39.889Z"
   },
   {
    "duration": 97,
    "start_time": "2023-12-12T20:41:55.161Z"
   },
   {
    "duration": 105,
    "start_time": "2023-12-12T20:42:42.028Z"
   },
   {
    "duration": 7,
    "start_time": "2023-12-12T20:42:42.135Z"
   },
   {
    "duration": 10,
    "start_time": "2023-12-12T20:42:42.144Z"
   },
   {
    "duration": 6,
    "start_time": "2023-12-12T20:42:42.156Z"
   },
   {
    "duration": 14,
    "start_time": "2023-12-12T20:42:42.164Z"
   },
   {
    "duration": 6,
    "start_time": "2023-12-12T20:42:42.180Z"
   },
   {
    "duration": 67,
    "start_time": "2023-12-12T20:42:42.187Z"
   },
   {
    "duration": 5,
    "start_time": "2023-12-12T20:42:42.256Z"
   },
   {
    "duration": 10,
    "start_time": "2023-12-12T20:42:42.262Z"
   },
   {
    "duration": 23,
    "start_time": "2023-12-12T20:42:42.274Z"
   },
   {
    "duration": 29,
    "start_time": "2023-12-12T20:42:42.299Z"
   },
   {
    "duration": 89,
    "start_time": "2023-12-12T20:42:42.329Z"
   },
   {
    "duration": 14,
    "start_time": "2023-12-12T20:42:42.419Z"
   },
   {
    "duration": 32,
    "start_time": "2023-12-12T20:42:42.435Z"
   },
   {
    "duration": 18,
    "start_time": "2023-12-12T20:42:42.468Z"
   },
   {
    "duration": 143,
    "start_time": "2023-12-12T20:42:42.488Z"
   },
   {
    "duration": 125,
    "start_time": "2023-12-12T20:42:42.633Z"
   },
   {
    "duration": 123,
    "start_time": "2023-12-12T20:42:42.760Z"
   },
   {
    "duration": 121,
    "start_time": "2023-12-12T20:42:42.885Z"
   },
   {
    "duration": 127,
    "start_time": "2023-12-12T20:42:43.007Z"
   },
   {
    "duration": 123,
    "start_time": "2023-12-12T20:42:43.136Z"
   },
   {
    "duration": 117,
    "start_time": "2023-12-12T20:42:43.261Z"
   },
   {
    "duration": 119,
    "start_time": "2023-12-12T20:42:43.380Z"
   },
   {
    "duration": 133,
    "start_time": "2023-12-12T20:42:43.500Z"
   },
   {
    "duration": 117,
    "start_time": "2023-12-12T20:42:43.635Z"
   },
   {
    "duration": 162,
    "start_time": "2023-12-12T20:42:43.754Z"
   },
   {
    "duration": 137,
    "start_time": "2023-12-12T20:42:43.918Z"
   },
   {
    "duration": 11,
    "start_time": "2023-12-12T20:42:44.058Z"
   },
   {
    "duration": 199,
    "start_time": "2023-12-12T20:42:44.070Z"
   },
   {
    "duration": 205,
    "start_time": "2023-12-12T20:42:44.271Z"
   },
   {
    "duration": 203,
    "start_time": "2023-12-12T20:42:44.478Z"
   },
   {
    "duration": 314,
    "start_time": "2023-12-12T20:42:44.682Z"
   },
   {
    "duration": 207,
    "start_time": "2023-12-12T20:42:44.998Z"
   },
   {
    "duration": 242,
    "start_time": "2023-12-12T20:42:45.207Z"
   },
   {
    "duration": 239,
    "start_time": "2023-12-12T20:42:45.450Z"
   },
   {
    "duration": 208,
    "start_time": "2023-12-12T20:42:45.690Z"
   },
   {
    "duration": 646,
    "start_time": "2023-12-12T20:42:45.900Z"
   },
   {
    "duration": 18,
    "start_time": "2023-12-12T20:42:46.548Z"
   },
   {
    "duration": 121,
    "start_time": "2023-12-12T20:42:59.386Z"
   },
   {
    "duration": 111,
    "start_time": "2023-12-12T20:43:09.050Z"
   },
   {
    "duration": 110,
    "start_time": "2023-12-12T20:43:14.410Z"
   },
   {
    "duration": 114,
    "start_time": "2023-12-12T20:43:43.362Z"
   },
   {
    "duration": 119,
    "start_time": "2023-12-12T20:43:58.467Z"
   },
   {
    "duration": 106,
    "start_time": "2023-12-12T20:44:01.555Z"
   },
   {
    "duration": 111,
    "start_time": "2023-12-12T20:44:05.435Z"
   },
   {
    "duration": 116,
    "start_time": "2023-12-12T20:44:23.651Z"
   },
   {
    "duration": 120,
    "start_time": "2023-12-12T20:44:50.267Z"
   },
   {
    "duration": 226,
    "start_time": "2023-12-12T20:46:57.493Z"
   },
   {
    "duration": 103,
    "start_time": "2023-12-12T20:47:02.532Z"
   },
   {
    "duration": 101,
    "start_time": "2023-12-12T20:47:06.557Z"
   },
   {
    "duration": 99,
    "start_time": "2023-12-12T20:47:33.309Z"
   },
   {
    "duration": 130,
    "start_time": "2023-12-12T20:47:53.718Z"
   },
   {
    "duration": 110,
    "start_time": "2023-12-12T20:47:58.629Z"
   },
   {
    "duration": 121,
    "start_time": "2023-12-12T20:48:10.221Z"
   },
   {
    "duration": 111,
    "start_time": "2023-12-12T20:48:19.837Z"
   },
   {
    "duration": 112,
    "start_time": "2023-12-12T20:48:40.789Z"
   },
   {
    "duration": 110,
    "start_time": "2023-12-12T20:48:46.270Z"
   },
   {
    "duration": 125,
    "start_time": "2023-12-12T20:49:19.822Z"
   },
   {
    "duration": 112,
    "start_time": "2023-12-12T20:49:32.095Z"
   },
   {
    "duration": 115,
    "start_time": "2023-12-12T20:49:58.342Z"
   },
   {
    "duration": 126,
    "start_time": "2023-12-12T20:50:33.519Z"
   },
   {
    "duration": 130,
    "start_time": "2023-12-12T20:50:43.215Z"
   },
   {
    "duration": 125,
    "start_time": "2023-12-12T20:51:29.199Z"
   },
   {
    "duration": 106,
    "start_time": "2023-12-12T20:52:04.064Z"
   },
   {
    "duration": 110,
    "start_time": "2023-12-12T20:52:18.440Z"
   },
   {
    "duration": 111,
    "start_time": "2023-12-12T20:53:42.817Z"
   },
   {
    "duration": 102,
    "start_time": "2023-12-12T20:53:49.081Z"
   },
   {
    "duration": 114,
    "start_time": "2023-12-12T20:53:55.393Z"
   },
   {
    "duration": 115,
    "start_time": "2023-12-12T20:54:16.409Z"
   },
   {
    "duration": 110,
    "start_time": "2023-12-12T20:54:25.665Z"
   },
   {
    "duration": 55,
    "start_time": "2023-12-12T20:55:43.714Z"
   },
   {
    "duration": 111,
    "start_time": "2023-12-12T20:55:51.698Z"
   },
   {
    "duration": 97,
    "start_time": "2023-12-12T20:56:24.579Z"
   },
   {
    "duration": 263,
    "start_time": "2023-12-12T20:56:32.667Z"
   },
   {
    "duration": 126,
    "start_time": "2023-12-12T20:56:38.091Z"
   },
   {
    "duration": 106,
    "start_time": "2023-12-12T20:56:47.859Z"
   },
   {
    "duration": 115,
    "start_time": "2023-12-12T20:56:52.514Z"
   },
   {
    "duration": 107,
    "start_time": "2023-12-12T20:56:58.395Z"
   },
   {
    "duration": 121,
    "start_time": "2023-12-12T20:57:01.875Z"
   },
   {
    "duration": 113,
    "start_time": "2023-12-12T20:57:06.538Z"
   },
   {
    "duration": 107,
    "start_time": "2023-12-12T20:57:11.939Z"
   },
   {
    "duration": 106,
    "start_time": "2023-12-12T20:57:19.363Z"
   },
   {
    "duration": 97,
    "start_time": "2023-12-12T20:57:50.180Z"
   },
   {
    "duration": 105,
    "start_time": "2023-12-12T20:57:57.588Z"
   },
   {
    "duration": 102,
    "start_time": "2023-12-12T20:58:07.150Z"
   },
   {
    "duration": 7,
    "start_time": "2023-12-12T20:58:07.253Z"
   },
   {
    "duration": 16,
    "start_time": "2023-12-12T20:58:07.262Z"
   },
   {
    "duration": 20,
    "start_time": "2023-12-12T20:58:07.280Z"
   },
   {
    "duration": 20,
    "start_time": "2023-12-12T20:58:07.302Z"
   },
   {
    "duration": 16,
    "start_time": "2023-12-12T20:58:07.323Z"
   },
   {
    "duration": 39,
    "start_time": "2023-12-12T20:58:07.341Z"
   },
   {
    "duration": 5,
    "start_time": "2023-12-12T20:58:07.382Z"
   },
   {
    "duration": 8,
    "start_time": "2023-12-12T20:58:07.388Z"
   },
   {
    "duration": 19,
    "start_time": "2023-12-12T20:58:07.398Z"
   },
   {
    "duration": 57,
    "start_time": "2023-12-12T20:58:07.418Z"
   },
   {
    "duration": 130,
    "start_time": "2023-12-12T20:58:07.477Z"
   },
   {
    "duration": 19,
    "start_time": "2023-12-12T20:58:07.609Z"
   },
   {
    "duration": 29,
    "start_time": "2023-12-12T20:58:07.629Z"
   },
   {
    "duration": 6,
    "start_time": "2023-12-12T20:58:07.660Z"
   },
   {
    "duration": 134,
    "start_time": "2023-12-12T20:58:07.668Z"
   },
   {
    "duration": 124,
    "start_time": "2023-12-12T20:58:07.804Z"
   },
   {
    "duration": 121,
    "start_time": "2023-12-12T20:58:07.930Z"
   },
   {
    "duration": 122,
    "start_time": "2023-12-12T20:58:08.052Z"
   },
   {
    "duration": 139,
    "start_time": "2023-12-12T20:58:08.175Z"
   },
   {
    "duration": 129,
    "start_time": "2023-12-12T20:58:08.316Z"
   },
   {
    "duration": 124,
    "start_time": "2023-12-12T20:58:08.447Z"
   },
   {
    "duration": 131,
    "start_time": "2023-12-12T20:58:08.572Z"
   },
   {
    "duration": 140,
    "start_time": "2023-12-12T20:58:08.704Z"
   },
   {
    "duration": 113,
    "start_time": "2023-12-12T20:58:08.845Z"
   },
   {
    "duration": 176,
    "start_time": "2023-12-12T20:58:08.960Z"
   },
   {
    "duration": 121,
    "start_time": "2023-12-12T20:58:09.138Z"
   },
   {
    "duration": 13,
    "start_time": "2023-12-12T20:58:09.263Z"
   },
   {
    "duration": 189,
    "start_time": "2023-12-12T20:58:09.277Z"
   },
   {
    "duration": 177,
    "start_time": "2023-12-12T20:58:09.469Z"
   },
   {
    "duration": 190,
    "start_time": "2023-12-12T20:58:09.649Z"
   },
   {
    "duration": 175,
    "start_time": "2023-12-12T20:58:09.840Z"
   },
   {
    "duration": 193,
    "start_time": "2023-12-12T20:58:10.016Z"
   },
   {
    "duration": 349,
    "start_time": "2023-12-12T20:58:10.214Z"
   },
   {
    "duration": 179,
    "start_time": "2023-12-12T20:58:10.565Z"
   },
   {
    "duration": 177,
    "start_time": "2023-12-12T20:58:10.745Z"
   },
   {
    "duration": 621,
    "start_time": "2023-12-12T20:58:10.924Z"
   },
   {
    "duration": 15,
    "start_time": "2023-12-12T20:58:11.546Z"
   },
   {
    "duration": 111,
    "start_time": "2023-12-12T21:02:26.296Z"
   },
   {
    "duration": 111,
    "start_time": "2023-12-12T21:02:30.320Z"
   },
   {
    "duration": 301,
    "start_time": "2023-12-12T21:02:30.434Z"
   },
   {
    "duration": 277,
    "start_time": "2023-12-12T21:02:30.737Z"
   },
   {
    "duration": 77,
    "start_time": "2023-12-12T21:02:31.016Z"
   },
   {
    "duration": 49,
    "start_time": "2023-12-12T21:02:31.095Z"
   },
   {
    "duration": 28,
    "start_time": "2023-12-12T21:02:31.145Z"
   },
   {
    "duration": 60,
    "start_time": "2023-12-12T21:02:31.174Z"
   },
   {
    "duration": 19,
    "start_time": "2023-12-12T21:02:31.235Z"
   },
   {
    "duration": 21,
    "start_time": "2023-12-12T21:02:31.255Z"
   },
   {
    "duration": 49,
    "start_time": "2023-12-12T21:02:31.279Z"
   },
   {
    "duration": 44,
    "start_time": "2023-12-12T21:02:31.330Z"
   },
   {
    "duration": 100,
    "start_time": "2023-12-12T21:02:31.376Z"
   },
   {
    "duration": 15,
    "start_time": "2023-12-12T21:02:31.478Z"
   },
   {
    "duration": 33,
    "start_time": "2023-12-12T21:02:31.494Z"
   },
   {
    "duration": 37,
    "start_time": "2023-12-12T21:02:31.529Z"
   },
   {
    "duration": 163,
    "start_time": "2023-12-12T21:02:31.567Z"
   },
   {
    "duration": 140,
    "start_time": "2023-12-12T21:02:31.732Z"
   },
   {
    "duration": 116,
    "start_time": "2023-12-12T21:02:31.874Z"
   },
   {
    "duration": 117,
    "start_time": "2023-12-12T21:02:31.992Z"
   },
   {
    "duration": 121,
    "start_time": "2023-12-12T21:02:32.111Z"
   },
   {
    "duration": 137,
    "start_time": "2023-12-12T21:02:32.234Z"
   },
   {
    "duration": 119,
    "start_time": "2023-12-12T21:02:32.372Z"
   },
   {
    "duration": 131,
    "start_time": "2023-12-12T21:02:32.493Z"
   },
   {
    "duration": 128,
    "start_time": "2023-12-12T21:02:32.626Z"
   },
   {
    "duration": 122,
    "start_time": "2023-12-12T21:02:32.756Z"
   },
   {
    "duration": 183,
    "start_time": "2023-12-12T21:02:32.880Z"
   },
   {
    "duration": 122,
    "start_time": "2023-12-12T21:02:33.064Z"
   },
   {
    "duration": 12,
    "start_time": "2023-12-12T21:02:33.190Z"
   },
   {
    "duration": 168,
    "start_time": "2023-12-12T21:02:33.214Z"
   },
   {
    "duration": 189,
    "start_time": "2023-12-12T21:02:33.384Z"
   },
   {
    "duration": 196,
    "start_time": "2023-12-12T21:02:33.575Z"
   },
   {
    "duration": 189,
    "start_time": "2023-12-12T21:02:33.772Z"
   },
   {
    "duration": 200,
    "start_time": "2023-12-12T21:02:33.963Z"
   },
   {
    "duration": 181,
    "start_time": "2023-12-12T21:02:34.164Z"
   },
   {
    "duration": 170,
    "start_time": "2023-12-12T21:02:34.346Z"
   },
   {
    "duration": 471,
    "start_time": "2023-12-12T21:02:34.518Z"
   },
   {
    "duration": 620,
    "start_time": "2023-12-12T21:02:34.990Z"
   },
   {
    "duration": 15,
    "start_time": "2023-12-12T21:02:35.614Z"
   },
   {
    "duration": 120,
    "start_time": "2023-12-12T21:02:48.663Z"
   },
   {
    "duration": 102,
    "start_time": "2023-12-12T21:02:55.434Z"
   },
   {
    "duration": 8,
    "start_time": "2023-12-12T21:02:55.538Z"
   },
   {
    "duration": 10,
    "start_time": "2023-12-12T21:02:55.548Z"
   },
   {
    "duration": 7,
    "start_time": "2023-12-12T21:02:55.560Z"
   },
   {
    "duration": 11,
    "start_time": "2023-12-12T21:02:55.570Z"
   },
   {
    "duration": 6,
    "start_time": "2023-12-12T21:02:55.615Z"
   },
   {
    "duration": 44,
    "start_time": "2023-12-12T21:02:55.622Z"
   },
   {
    "duration": 5,
    "start_time": "2023-12-12T21:02:55.668Z"
   },
   {
    "duration": 22,
    "start_time": "2023-12-12T21:02:55.674Z"
   },
   {
    "duration": 31,
    "start_time": "2023-12-12T21:02:55.697Z"
   },
   {
    "duration": 24,
    "start_time": "2023-12-12T21:02:55.729Z"
   },
   {
    "duration": 99,
    "start_time": "2023-12-12T21:02:55.755Z"
   },
   {
    "duration": 16,
    "start_time": "2023-12-12T21:02:55.855Z"
   },
   {
    "duration": 9,
    "start_time": "2023-12-12T21:02:55.874Z"
   },
   {
    "duration": 31,
    "start_time": "2023-12-12T21:02:55.885Z"
   },
   {
    "duration": 154,
    "start_time": "2023-12-12T21:02:55.917Z"
   },
   {
    "duration": 138,
    "start_time": "2023-12-12T21:02:56.072Z"
   },
   {
    "duration": 116,
    "start_time": "2023-12-12T21:02:56.215Z"
   },
   {
    "duration": 120,
    "start_time": "2023-12-12T21:02:56.332Z"
   },
   {
    "duration": 127,
    "start_time": "2023-12-12T21:02:56.453Z"
   },
   {
    "duration": 134,
    "start_time": "2023-12-12T21:02:56.582Z"
   },
   {
    "duration": 116,
    "start_time": "2023-12-12T21:02:56.718Z"
   },
   {
    "duration": 139,
    "start_time": "2023-12-12T21:02:56.836Z"
   },
   {
    "duration": 139,
    "start_time": "2023-12-12T21:02:56.976Z"
   },
   {
    "duration": 115,
    "start_time": "2023-12-12T21:02:57.116Z"
   },
   {
    "duration": 174,
    "start_time": "2023-12-12T21:02:57.233Z"
   },
   {
    "duration": 115,
    "start_time": "2023-12-12T21:02:57.409Z"
   },
   {
    "duration": 12,
    "start_time": "2023-12-12T21:02:57.526Z"
   },
   {
    "duration": 179,
    "start_time": "2023-12-12T21:02:57.539Z"
   },
   {
    "duration": 183,
    "start_time": "2023-12-12T21:02:57.720Z"
   },
   {
    "duration": 185,
    "start_time": "2023-12-12T21:02:57.904Z"
   },
   {
    "duration": 186,
    "start_time": "2023-12-12T21:02:58.090Z"
   },
   {
    "duration": 187,
    "start_time": "2023-12-12T21:02:58.278Z"
   },
   {
    "duration": 184,
    "start_time": "2023-12-12T21:02:58.466Z"
   },
   {
    "duration": 200,
    "start_time": "2023-12-12T21:02:58.653Z"
   },
   {
    "duration": 201,
    "start_time": "2023-12-12T21:02:58.855Z"
   },
   {
    "duration": 854,
    "start_time": "2023-12-12T21:02:59.058Z"
   },
   {
    "duration": 16,
    "start_time": "2023-12-12T21:02:59.915Z"
   },
   {
    "duration": 115,
    "start_time": "2023-12-12T21:03:12.063Z"
   },
   {
    "duration": 105,
    "start_time": "2023-12-12T21:03:19.665Z"
   },
   {
    "duration": 8,
    "start_time": "2023-12-12T21:03:19.772Z"
   },
   {
    "duration": 36,
    "start_time": "2023-12-12T21:03:19.781Z"
   },
   {
    "duration": 17,
    "start_time": "2023-12-12T21:03:19.818Z"
   },
   {
    "duration": 32,
    "start_time": "2023-12-12T21:03:19.837Z"
   },
   {
    "duration": 22,
    "start_time": "2023-12-12T21:03:19.872Z"
   },
   {
    "duration": 47,
    "start_time": "2023-12-12T21:03:19.896Z"
   },
   {
    "duration": 6,
    "start_time": "2023-12-12T21:03:19.945Z"
   },
   {
    "duration": 13,
    "start_time": "2023-12-12T21:03:19.953Z"
   },
   {
    "duration": 21,
    "start_time": "2023-12-12T21:03:19.968Z"
   },
   {
    "duration": 27,
    "start_time": "2023-12-12T21:03:19.991Z"
   },
   {
    "duration": 96,
    "start_time": "2023-12-12T21:03:20.020Z"
   },
   {
    "duration": 16,
    "start_time": "2023-12-12T21:03:20.117Z"
   },
   {
    "duration": 25,
    "start_time": "2023-12-12T21:03:20.137Z"
   },
   {
    "duration": 9,
    "start_time": "2023-12-12T21:03:20.164Z"
   },
   {
    "duration": 149,
    "start_time": "2023-12-12T21:03:20.174Z"
   },
   {
    "duration": 146,
    "start_time": "2023-12-12T21:03:20.324Z"
   },
   {
    "duration": 128,
    "start_time": "2023-12-12T21:03:20.471Z"
   },
   {
    "duration": 132,
    "start_time": "2023-12-12T21:03:20.601Z"
   },
   {
    "duration": 121,
    "start_time": "2023-12-12T21:03:20.734Z"
   },
   {
    "duration": 132,
    "start_time": "2023-12-12T21:03:20.857Z"
   },
   {
    "duration": 127,
    "start_time": "2023-12-12T21:03:20.990Z"
   },
   {
    "duration": 122,
    "start_time": "2023-12-12T21:03:21.119Z"
   },
   {
    "duration": 124,
    "start_time": "2023-12-12T21:03:21.242Z"
   },
   {
    "duration": 109,
    "start_time": "2023-12-12T21:03:21.367Z"
   },
   {
    "duration": 165,
    "start_time": "2023-12-12T21:03:21.478Z"
   },
   {
    "duration": 119,
    "start_time": "2023-12-12T21:03:21.645Z"
   },
   {
    "duration": 13,
    "start_time": "2023-12-12T21:03:21.765Z"
   },
   {
    "duration": 173,
    "start_time": "2023-12-12T21:03:21.780Z"
   },
   {
    "duration": 189,
    "start_time": "2023-12-12T21:03:21.955Z"
   },
   {
    "duration": 186,
    "start_time": "2023-12-12T21:03:22.146Z"
   },
   {
    "duration": 175,
    "start_time": "2023-12-12T21:03:22.333Z"
   },
   {
    "duration": 178,
    "start_time": "2023-12-12T21:03:22.510Z"
   },
   {
    "duration": 172,
    "start_time": "2023-12-12T21:03:22.690Z"
   },
   {
    "duration": 169,
    "start_time": "2023-12-12T21:03:22.864Z"
   },
   {
    "duration": 171,
    "start_time": "2023-12-12T21:03:23.035Z"
   },
   {
    "duration": 623,
    "start_time": "2023-12-12T21:03:23.214Z"
   },
   {
    "duration": 15,
    "start_time": "2023-12-12T21:03:23.838Z"
   },
   {
    "duration": 104,
    "start_time": "2023-12-12T21:03:47.542Z"
   },
   {
    "duration": 111,
    "start_time": "2023-12-12T21:03:52.991Z"
   },
   {
    "duration": 11,
    "start_time": "2023-12-12T21:03:53.104Z"
   },
   {
    "duration": 9,
    "start_time": "2023-12-12T21:03:53.116Z"
   },
   {
    "duration": 7,
    "start_time": "2023-12-12T21:03:53.126Z"
   },
   {
    "duration": 10,
    "start_time": "2023-12-12T21:03:53.135Z"
   },
   {
    "duration": 5,
    "start_time": "2023-12-12T21:03:53.146Z"
   },
   {
    "duration": 71,
    "start_time": "2023-12-12T21:03:53.153Z"
   },
   {
    "duration": 5,
    "start_time": "2023-12-12T21:03:53.226Z"
   },
   {
    "duration": 4,
    "start_time": "2023-12-12T21:03:53.233Z"
   },
   {
    "duration": 10,
    "start_time": "2023-12-12T21:03:53.238Z"
   },
   {
    "duration": 24,
    "start_time": "2023-12-12T21:03:53.250Z"
   },
   {
    "duration": 110,
    "start_time": "2023-12-12T21:03:53.275Z"
   },
   {
    "duration": 16,
    "start_time": "2023-12-12T21:03:53.386Z"
   },
   {
    "duration": 10,
    "start_time": "2023-12-12T21:03:53.416Z"
   },
   {
    "duration": 8,
    "start_time": "2023-12-12T21:03:53.427Z"
   },
   {
    "duration": 155,
    "start_time": "2023-12-12T21:03:53.436Z"
   },
   {
    "duration": 379,
    "start_time": "2023-12-12T21:03:53.592Z"
   },
   {
    "duration": 114,
    "start_time": "2023-12-12T21:03:58.928Z"
   },
   {
    "duration": 126,
    "start_time": "2023-12-12T21:04:09.216Z"
   },
   {
    "duration": 128,
    "start_time": "2023-12-12T21:04:23.216Z"
   },
   {
    "duration": 138,
    "start_time": "2023-12-12T21:04:38.424Z"
   },
   {
    "duration": 123,
    "start_time": "2023-12-12T21:05:03.273Z"
   },
   {
    "duration": 117,
    "start_time": "2023-12-12T21:05:14.489Z"
   },
   {
    "duration": 123,
    "start_time": "2023-12-12T21:05:18.185Z"
   },
   {
    "duration": 133,
    "start_time": "2023-12-12T21:06:21.689Z"
   },
   {
    "duration": 115,
    "start_time": "2023-12-12T21:07:00.378Z"
   },
   {
    "duration": 131,
    "start_time": "2023-12-12T21:07:22.754Z"
   },
   {
    "duration": 128,
    "start_time": "2023-12-12T21:10:17.028Z"
   },
   {
    "duration": 235,
    "start_time": "2023-12-12T21:10:47.972Z"
   },
   {
    "duration": 339,
    "start_time": "2023-12-12T21:11:11.765Z"
   },
   {
    "duration": 140,
    "start_time": "2023-12-12T21:11:21.692Z"
   },
   {
    "duration": 106,
    "start_time": "2023-12-12T21:11:46.111Z"
   },
   {
    "duration": 8,
    "start_time": "2023-12-12T21:11:46.219Z"
   },
   {
    "duration": 18,
    "start_time": "2023-12-12T21:11:46.228Z"
   },
   {
    "duration": 11,
    "start_time": "2023-12-12T21:11:46.248Z"
   },
   {
    "duration": 11,
    "start_time": "2023-12-12T21:11:46.261Z"
   },
   {
    "duration": 5,
    "start_time": "2023-12-12T21:11:46.274Z"
   },
   {
    "duration": 64,
    "start_time": "2023-12-12T21:11:46.280Z"
   },
   {
    "duration": 6,
    "start_time": "2023-12-12T21:11:46.345Z"
   },
   {
    "duration": 5,
    "start_time": "2023-12-12T21:11:46.352Z"
   },
   {
    "duration": 9,
    "start_time": "2023-12-12T21:11:46.358Z"
   },
   {
    "duration": 22,
    "start_time": "2023-12-12T21:11:46.369Z"
   },
   {
    "duration": 105,
    "start_time": "2023-12-12T21:11:46.393Z"
   },
   {
    "duration": 25,
    "start_time": "2023-12-12T21:11:46.500Z"
   },
   {
    "duration": 9,
    "start_time": "2023-12-12T21:11:46.528Z"
   },
   {
    "duration": 5,
    "start_time": "2023-12-12T21:11:46.539Z"
   },
   {
    "duration": 173,
    "start_time": "2023-12-12T21:11:46.546Z"
   },
   {
    "duration": 143,
    "start_time": "2023-12-12T21:11:46.721Z"
   },
   {
    "duration": 129,
    "start_time": "2023-12-12T21:11:46.865Z"
   },
   {
    "duration": 141,
    "start_time": "2023-12-12T21:11:46.996Z"
   },
   {
    "duration": 144,
    "start_time": "2023-12-12T21:11:47.139Z"
   },
   {
    "duration": 142,
    "start_time": "2023-12-12T21:11:47.284Z"
   },
   {
    "duration": 120,
    "start_time": "2023-12-12T21:11:47.427Z"
   },
   {
    "duration": 128,
    "start_time": "2023-12-12T21:11:47.549Z"
   },
   {
    "duration": 128,
    "start_time": "2023-12-12T21:11:47.679Z"
   },
   {
    "duration": 107,
    "start_time": "2023-12-12T21:11:47.814Z"
   },
   {
    "duration": 162,
    "start_time": "2023-12-12T21:11:47.923Z"
   },
   {
    "duration": 120,
    "start_time": "2023-12-12T21:11:48.087Z"
   },
   {
    "duration": 11,
    "start_time": "2023-12-12T21:11:48.215Z"
   },
   {
    "duration": 172,
    "start_time": "2023-12-12T21:11:48.227Z"
   },
   {
    "duration": 459,
    "start_time": "2023-12-12T21:11:48.401Z"
   },
   {
    "duration": 189,
    "start_time": "2023-12-12T21:11:48.861Z"
   },
   {
    "duration": 186,
    "start_time": "2023-12-12T21:11:49.052Z"
   },
   {
    "duration": 185,
    "start_time": "2023-12-12T21:11:49.240Z"
   },
   {
    "duration": 173,
    "start_time": "2023-12-12T21:11:49.427Z"
   },
   {
    "duration": 166,
    "start_time": "2023-12-12T21:11:49.601Z"
   },
   {
    "duration": 181,
    "start_time": "2023-12-12T21:11:49.768Z"
   },
   {
    "duration": 606,
    "start_time": "2023-12-12T21:11:49.951Z"
   },
   {
    "duration": 15,
    "start_time": "2023-12-12T21:11:50.558Z"
   },
   {
    "duration": 107,
    "start_time": "2023-12-12T21:12:16.568Z"
   },
   {
    "duration": 8,
    "start_time": "2023-12-12T21:12:16.677Z"
   },
   {
    "duration": 11,
    "start_time": "2023-12-12T21:12:16.687Z"
   },
   {
    "duration": 19,
    "start_time": "2023-12-12T21:12:16.700Z"
   },
   {
    "duration": 10,
    "start_time": "2023-12-12T21:12:16.721Z"
   },
   {
    "duration": 5,
    "start_time": "2023-12-12T21:12:16.733Z"
   },
   {
    "duration": 41,
    "start_time": "2023-12-12T21:12:16.740Z"
   },
   {
    "duration": 33,
    "start_time": "2023-12-12T21:12:16.783Z"
   },
   {
    "duration": 6,
    "start_time": "2023-12-12T21:12:16.817Z"
   },
   {
    "duration": 13,
    "start_time": "2023-12-12T21:12:16.825Z"
   },
   {
    "duration": 25,
    "start_time": "2023-12-12T21:12:16.840Z"
   },
   {
    "duration": 107,
    "start_time": "2023-12-12T21:12:16.867Z"
   },
   {
    "duration": 15,
    "start_time": "2023-12-12T21:12:16.976Z"
   },
   {
    "duration": 27,
    "start_time": "2023-12-12T21:12:16.992Z"
   },
   {
    "duration": 5,
    "start_time": "2023-12-12T21:12:17.021Z"
   },
   {
    "duration": 196,
    "start_time": "2023-12-12T21:12:17.028Z"
   },
   {
    "duration": 147,
    "start_time": "2023-12-12T21:12:17.225Z"
   },
   {
    "duration": 133,
    "start_time": "2023-12-12T21:12:17.373Z"
   },
   {
    "duration": 139,
    "start_time": "2023-12-12T21:12:17.514Z"
   },
   {
    "duration": 142,
    "start_time": "2023-12-12T21:12:17.655Z"
   },
   {
    "duration": 171,
    "start_time": "2023-12-12T21:12:17.798Z"
   },
   {
    "duration": 114,
    "start_time": "2023-12-12T21:12:17.970Z"
   },
   {
    "duration": 143,
    "start_time": "2023-12-12T21:12:18.086Z"
   },
   {
    "duration": 150,
    "start_time": "2023-12-12T21:12:18.231Z"
   },
   {
    "duration": 115,
    "start_time": "2023-12-12T21:12:18.382Z"
   },
   {
    "duration": 160,
    "start_time": "2023-12-12T21:12:18.498Z"
   },
   {
    "duration": 127,
    "start_time": "2023-12-12T21:12:18.659Z"
   },
   {
    "duration": 12,
    "start_time": "2023-12-12T21:12:18.789Z"
   },
   {
    "duration": 191,
    "start_time": "2023-12-12T21:12:18.802Z"
   },
   {
    "duration": 183,
    "start_time": "2023-12-12T21:12:18.994Z"
   },
   {
    "duration": 193,
    "start_time": "2023-12-12T21:12:19.178Z"
   },
   {
    "duration": 182,
    "start_time": "2023-12-12T21:12:19.373Z"
   },
   {
    "duration": 176,
    "start_time": "2023-12-12T21:12:19.557Z"
   },
   {
    "duration": 176,
    "start_time": "2023-12-12T21:12:19.735Z"
   },
   {
    "duration": 172,
    "start_time": "2023-12-12T21:12:19.914Z"
   },
   {
    "duration": 174,
    "start_time": "2023-12-12T21:12:20.087Z"
   },
   {
    "duration": 882,
    "start_time": "2023-12-12T21:12:20.262Z"
   },
   {
    "duration": 14,
    "start_time": "2023-12-12T21:12:21.146Z"
   },
   {
    "duration": 123,
    "start_time": "2023-12-12T21:12:35.149Z"
   },
   {
    "duration": 118,
    "start_time": "2023-12-12T21:12:50.133Z"
   },
   {
    "duration": 130,
    "start_time": "2023-12-12T21:14:10.607Z"
   },
   {
    "duration": 103,
    "start_time": "2023-12-12T21:14:16.473Z"
   },
   {
    "duration": 7,
    "start_time": "2023-12-12T21:14:16.578Z"
   },
   {
    "duration": 9,
    "start_time": "2023-12-12T21:14:16.587Z"
   },
   {
    "duration": 21,
    "start_time": "2023-12-12T21:14:16.598Z"
   },
   {
    "duration": 11,
    "start_time": "2023-12-12T21:14:16.623Z"
   },
   {
    "duration": 5,
    "start_time": "2023-12-12T21:14:16.636Z"
   },
   {
    "duration": 42,
    "start_time": "2023-12-12T21:14:16.643Z"
   },
   {
    "duration": 34,
    "start_time": "2023-12-12T21:14:16.686Z"
   },
   {
    "duration": 5,
    "start_time": "2023-12-12T21:14:16.722Z"
   },
   {
    "duration": 8,
    "start_time": "2023-12-12T21:14:16.728Z"
   },
   {
    "duration": 23,
    "start_time": "2023-12-12T21:14:16.738Z"
   },
   {
    "duration": 110,
    "start_time": "2023-12-12T21:14:16.763Z"
   },
   {
    "duration": 16,
    "start_time": "2023-12-12T21:14:16.874Z"
   },
   {
    "duration": 27,
    "start_time": "2023-12-12T21:14:16.892Z"
   },
   {
    "duration": 6,
    "start_time": "2023-12-12T21:14:16.920Z"
   },
   {
    "duration": 169,
    "start_time": "2023-12-12T21:14:16.928Z"
   },
   {
    "duration": 142,
    "start_time": "2023-12-12T21:14:17.098Z"
   },
   {
    "duration": 137,
    "start_time": "2023-12-12T21:14:17.241Z"
   },
   {
    "duration": 136,
    "start_time": "2023-12-12T21:14:17.380Z"
   },
   {
    "duration": 172,
    "start_time": "2023-12-12T21:14:17.518Z"
   },
   {
    "duration": 156,
    "start_time": "2023-12-12T21:14:17.692Z"
   },
   {
    "duration": 117,
    "start_time": "2023-12-12T21:14:17.849Z"
   },
   {
    "duration": 130,
    "start_time": "2023-12-12T21:14:17.967Z"
   },
   {
    "duration": 132,
    "start_time": "2023-12-12T21:14:18.098Z"
   },
   {
    "duration": 123,
    "start_time": "2023-12-12T21:14:18.231Z"
   },
   {
    "duration": 160,
    "start_time": "2023-12-12T21:14:18.355Z"
   },
   {
    "duration": 134,
    "start_time": "2023-12-12T21:14:18.516Z"
   },
   {
    "duration": 10,
    "start_time": "2023-12-12T21:14:18.652Z"
   },
   {
    "duration": 175,
    "start_time": "2023-12-12T21:14:18.664Z"
   },
   {
    "duration": 178,
    "start_time": "2023-12-12T21:14:18.841Z"
   },
   {
    "duration": 182,
    "start_time": "2023-12-12T21:14:19.020Z"
   },
   {
    "duration": 181,
    "start_time": "2023-12-12T21:14:19.204Z"
   },
   {
    "duration": 179,
    "start_time": "2023-12-12T21:14:19.387Z"
   },
   {
    "duration": 175,
    "start_time": "2023-12-12T21:14:19.567Z"
   },
   {
    "duration": 171,
    "start_time": "2023-12-12T21:14:19.744Z"
   },
   {
    "duration": 171,
    "start_time": "2023-12-12T21:14:19.916Z"
   },
   {
    "duration": 639,
    "start_time": "2023-12-12T21:14:20.089Z"
   },
   {
    "duration": 16,
    "start_time": "2023-12-12T21:14:20.730Z"
   },
   {
    "duration": 152,
    "start_time": "2023-12-12T21:16:04.672Z"
   },
   {
    "duration": 107,
    "start_time": "2023-12-12T21:16:07.810Z"
   },
   {
    "duration": 10,
    "start_time": "2023-12-12T21:16:07.919Z"
   },
   {
    "duration": 13,
    "start_time": "2023-12-12T21:16:07.931Z"
   },
   {
    "duration": 8,
    "start_time": "2023-12-12T21:16:07.946Z"
   },
   {
    "duration": 11,
    "start_time": "2023-12-12T21:16:07.956Z"
   },
   {
    "duration": 19,
    "start_time": "2023-12-12T21:16:07.968Z"
   },
   {
    "duration": 40,
    "start_time": "2023-12-12T21:16:08.014Z"
   },
   {
    "duration": 6,
    "start_time": "2023-12-12T21:16:08.055Z"
   },
   {
    "duration": 6,
    "start_time": "2023-12-12T21:16:08.063Z"
   },
   {
    "duration": 7,
    "start_time": "2023-12-12T21:16:08.071Z"
   },
   {
    "duration": 53,
    "start_time": "2023-12-12T21:16:08.079Z"
   },
   {
    "duration": 98,
    "start_time": "2023-12-12T21:16:08.134Z"
   },
   {
    "duration": 16,
    "start_time": "2023-12-12T21:16:08.234Z"
   },
   {
    "duration": 11,
    "start_time": "2023-12-12T21:16:08.252Z"
   },
   {
    "duration": 30,
    "start_time": "2023-12-12T21:16:08.265Z"
   },
   {
    "duration": 159,
    "start_time": "2023-12-12T21:16:08.297Z"
   },
   {
    "duration": 137,
    "start_time": "2023-12-12T21:16:08.458Z"
   },
   {
    "duration": 131,
    "start_time": "2023-12-12T21:16:08.597Z"
   },
   {
    "duration": 155,
    "start_time": "2023-12-12T21:16:08.730Z"
   },
   {
    "duration": 144,
    "start_time": "2023-12-12T21:16:08.886Z"
   },
   {
    "duration": 151,
    "start_time": "2023-12-12T21:16:09.032Z"
   },
   {
    "duration": 122,
    "start_time": "2023-12-12T21:16:09.184Z"
   },
   {
    "duration": 440,
    "start_time": "2023-12-12T21:16:09.315Z"
   },
   {
    "duration": 143,
    "start_time": "2023-12-12T21:16:09.757Z"
   },
   {
    "duration": 115,
    "start_time": "2023-12-12T21:16:09.902Z"
   },
   {
    "duration": 179,
    "start_time": "2023-12-12T21:16:10.019Z"
   },
   {
    "duration": 133,
    "start_time": "2023-12-12T21:16:10.200Z"
   },
   {
    "duration": 12,
    "start_time": "2023-12-12T21:16:10.336Z"
   },
   {
    "duration": 178,
    "start_time": "2023-12-12T21:16:10.350Z"
   },
   {
    "duration": 177,
    "start_time": "2023-12-12T21:16:10.529Z"
   },
   {
    "duration": 184,
    "start_time": "2023-12-12T21:16:10.707Z"
   },
   {
    "duration": 177,
    "start_time": "2023-12-12T21:16:10.893Z"
   },
   {
    "duration": 177,
    "start_time": "2023-12-12T21:16:11.072Z"
   },
   {
    "duration": 184,
    "start_time": "2023-12-12T21:16:11.250Z"
   },
   {
    "duration": 180,
    "start_time": "2023-12-12T21:16:11.436Z"
   },
   {
    "duration": 171,
    "start_time": "2023-12-12T21:16:11.618Z"
   },
   {
    "duration": 618,
    "start_time": "2023-12-12T21:16:11.790Z"
   },
   {
    "duration": 18,
    "start_time": "2023-12-12T21:16:12.410Z"
   },
   {
    "duration": 111,
    "start_time": "2023-12-12T21:17:28.016Z"
   },
   {
    "duration": 104,
    "start_time": "2023-12-12T21:17:32.627Z"
   },
   {
    "duration": 8,
    "start_time": "2023-12-12T21:17:32.734Z"
   },
   {
    "duration": 11,
    "start_time": "2023-12-12T21:17:32.743Z"
   },
   {
    "duration": 7,
    "start_time": "2023-12-12T21:17:32.756Z"
   },
   {
    "duration": 11,
    "start_time": "2023-12-12T21:17:32.765Z"
   },
   {
    "duration": 38,
    "start_time": "2023-12-12T21:17:32.777Z"
   },
   {
    "duration": 43,
    "start_time": "2023-12-12T21:17:32.817Z"
   },
   {
    "duration": 6,
    "start_time": "2023-12-12T21:17:32.862Z"
   },
   {
    "duration": 7,
    "start_time": "2023-12-12T21:17:32.870Z"
   },
   {
    "duration": 8,
    "start_time": "2023-12-12T21:17:32.879Z"
   },
   {
    "duration": 49,
    "start_time": "2023-12-12T21:17:32.889Z"
   },
   {
    "duration": 106,
    "start_time": "2023-12-12T21:17:32.940Z"
   },
   {
    "duration": 16,
    "start_time": "2023-12-12T21:17:33.047Z"
   },
   {
    "duration": 10,
    "start_time": "2023-12-12T21:17:33.067Z"
   },
   {
    "duration": 6,
    "start_time": "2023-12-12T21:17:33.078Z"
   },
   {
    "duration": 172,
    "start_time": "2023-12-12T21:17:33.085Z"
   },
   {
    "duration": 134,
    "start_time": "2023-12-12T21:17:33.259Z"
   },
   {
    "duration": 131,
    "start_time": "2023-12-12T21:17:33.394Z"
   },
   {
    "duration": 135,
    "start_time": "2023-12-12T21:17:33.526Z"
   },
   {
    "duration": 146,
    "start_time": "2023-12-12T21:17:33.663Z"
   },
   {
    "duration": 143,
    "start_time": "2023-12-12T21:17:33.815Z"
   },
   {
    "duration": 124,
    "start_time": "2023-12-12T21:17:33.960Z"
   },
   {
    "duration": 142,
    "start_time": "2023-12-12T21:17:34.086Z"
   },
   {
    "duration": 125,
    "start_time": "2023-12-12T21:17:34.229Z"
   },
   {
    "duration": 121,
    "start_time": "2023-12-12T21:17:34.356Z"
   },
   {
    "duration": 177,
    "start_time": "2023-12-12T21:17:34.478Z"
   },
   {
    "duration": 118,
    "start_time": "2023-12-12T21:17:34.656Z"
   },
   {
    "duration": 10,
    "start_time": "2023-12-12T21:17:34.775Z"
   },
   {
    "duration": 198,
    "start_time": "2023-12-12T21:17:34.786Z"
   },
   {
    "duration": 187,
    "start_time": "2023-12-12T21:17:34.986Z"
   },
   {
    "duration": 185,
    "start_time": "2023-12-12T21:17:35.175Z"
   },
   {
    "duration": 176,
    "start_time": "2023-12-12T21:17:35.362Z"
   },
   {
    "duration": 173,
    "start_time": "2023-12-12T21:17:35.539Z"
   },
   {
    "duration": 168,
    "start_time": "2023-12-12T21:17:35.714Z"
   },
   {
    "duration": 180,
    "start_time": "2023-12-12T21:17:35.883Z"
   },
   {
    "duration": 190,
    "start_time": "2023-12-12T21:17:36.064Z"
   },
   {
    "duration": 923,
    "start_time": "2023-12-12T21:17:36.255Z"
   },
   {
    "duration": 17,
    "start_time": "2023-12-12T21:17:37.179Z"
   },
   {
    "duration": 107,
    "start_time": "2023-12-12T21:18:50.738Z"
   },
   {
    "duration": 107,
    "start_time": "2023-12-12T21:20:04.821Z"
   },
   {
    "duration": 9,
    "start_time": "2023-12-12T21:20:04.930Z"
   },
   {
    "duration": 10,
    "start_time": "2023-12-12T21:20:04.940Z"
   },
   {
    "duration": 10,
    "start_time": "2023-12-12T21:20:04.952Z"
   },
   {
    "duration": 12,
    "start_time": "2023-12-12T21:20:04.963Z"
   },
   {
    "duration": 6,
    "start_time": "2023-12-12T21:20:04.976Z"
   },
   {
    "duration": 86,
    "start_time": "2023-12-12T21:20:04.983Z"
   },
   {
    "duration": 5,
    "start_time": "2023-12-12T21:20:05.070Z"
   },
   {
    "duration": 12,
    "start_time": "2023-12-12T21:20:05.077Z"
   },
   {
    "duration": 21,
    "start_time": "2023-12-12T21:20:05.091Z"
   },
   {
    "duration": 26,
    "start_time": "2023-12-12T21:20:05.113Z"
   },
   {
    "duration": 99,
    "start_time": "2023-12-12T21:20:05.140Z"
   },
   {
    "duration": 15,
    "start_time": "2023-12-12T21:20:05.240Z"
   },
   {
    "duration": 44,
    "start_time": "2023-12-12T21:20:05.256Z"
   },
   {
    "duration": 29,
    "start_time": "2023-12-12T21:20:05.301Z"
   },
   {
    "duration": 177,
    "start_time": "2023-12-12T21:20:05.332Z"
   },
   {
    "duration": 145,
    "start_time": "2023-12-12T21:20:05.510Z"
   },
   {
    "duration": 125,
    "start_time": "2023-12-12T21:20:05.657Z"
   },
   {
    "duration": 131,
    "start_time": "2023-12-12T21:20:05.783Z"
   },
   {
    "duration": 136,
    "start_time": "2023-12-12T21:20:05.916Z"
   },
   {
    "duration": 145,
    "start_time": "2023-12-12T21:20:06.054Z"
   },
   {
    "duration": 119,
    "start_time": "2023-12-12T21:20:06.200Z"
   },
   {
    "duration": 129,
    "start_time": "2023-12-12T21:20:06.321Z"
   },
   {
    "duration": 128,
    "start_time": "2023-12-12T21:20:06.452Z"
   },
   {
    "duration": 98,
    "start_time": "2023-12-12T21:20:10.355Z"
   },
   {
    "duration": 159,
    "start_time": "2023-12-12T21:20:15.955Z"
   },
   {
    "duration": 139,
    "start_time": "2023-12-12T21:20:28.243Z"
   },
   {
    "duration": 124,
    "start_time": "2023-12-12T21:20:52.571Z"
   },
   {
    "duration": 117,
    "start_time": "2023-12-12T21:21:42.749Z"
   },
   {
    "duration": 103,
    "start_time": "2023-12-12T21:26:06.433Z"
   },
   {
    "duration": 6,
    "start_time": "2023-12-12T21:26:06.538Z"
   },
   {
    "duration": 11,
    "start_time": "2023-12-12T21:26:06.546Z"
   },
   {
    "duration": 6,
    "start_time": "2023-12-12T21:26:06.559Z"
   },
   {
    "duration": 10,
    "start_time": "2023-12-12T21:26:06.567Z"
   },
   {
    "duration": 5,
    "start_time": "2023-12-12T21:26:06.579Z"
   },
   {
    "duration": 43,
    "start_time": "2023-12-12T21:26:06.614Z"
   },
   {
    "duration": 4,
    "start_time": "2023-12-12T21:26:06.659Z"
   },
   {
    "duration": 4,
    "start_time": "2023-12-12T21:26:06.665Z"
   },
   {
    "duration": 10,
    "start_time": "2023-12-12T21:26:06.672Z"
   },
   {
    "duration": 46,
    "start_time": "2023-12-12T21:26:06.684Z"
   },
   {
    "duration": 97,
    "start_time": "2023-12-12T21:26:06.732Z"
   },
   {
    "duration": 16,
    "start_time": "2023-12-12T21:26:06.830Z"
   },
   {
    "duration": 10,
    "start_time": "2023-12-12T21:26:06.847Z"
   },
   {
    "duration": 6,
    "start_time": "2023-12-12T21:26:06.858Z"
   },
   {
    "duration": 171,
    "start_time": "2023-12-12T21:26:06.865Z"
   },
   {
    "duration": 137,
    "start_time": "2023-12-12T21:26:07.038Z"
   },
   {
    "duration": 122,
    "start_time": "2023-12-12T21:26:07.176Z"
   },
   {
    "duration": 123,
    "start_time": "2023-12-12T21:26:07.300Z"
   },
   {
    "duration": 127,
    "start_time": "2023-12-12T21:26:07.425Z"
   },
   {
    "duration": 131,
    "start_time": "2023-12-12T21:26:07.554Z"
   },
   {
    "duration": 132,
    "start_time": "2023-12-12T21:26:07.686Z"
   },
   {
    "duration": 130,
    "start_time": "2023-12-12T21:26:07.820Z"
   },
   {
    "duration": 125,
    "start_time": "2023-12-12T21:26:07.952Z"
   },
   {
    "duration": 108,
    "start_time": "2023-12-12T21:26:08.078Z"
   },
   {
    "duration": 160,
    "start_time": "2023-12-12T21:26:08.187Z"
   },
   {
    "duration": 131,
    "start_time": "2023-12-12T21:26:08.348Z"
   },
   {
    "duration": 12,
    "start_time": "2023-12-12T21:26:08.483Z"
   },
   {
    "duration": 221,
    "start_time": "2023-12-12T21:26:08.496Z"
   },
   {
    "duration": 235,
    "start_time": "2023-12-12T21:26:08.718Z"
   },
   {
    "duration": 210,
    "start_time": "2023-12-12T21:26:08.954Z"
   },
   {
    "duration": 205,
    "start_time": "2023-12-12T21:26:09.166Z"
   },
   {
    "duration": 217,
    "start_time": "2023-12-12T21:26:09.373Z"
   },
   {
    "duration": 243,
    "start_time": "2023-12-12T21:26:09.592Z"
   },
   {
    "duration": 248,
    "start_time": "2023-12-12T21:26:09.836Z"
   },
   {
    "duration": 204,
    "start_time": "2023-12-12T21:26:10.086Z"
   },
   {
    "duration": 964,
    "start_time": "2023-12-12T21:26:10.292Z"
   },
   {
    "duration": 20,
    "start_time": "2023-12-12T21:26:11.257Z"
   },
   {
    "duration": 210,
    "start_time": "2023-12-12T21:27:42.760Z"
   },
   {
    "duration": 211,
    "start_time": "2023-12-12T21:27:50.840Z"
   },
   {
    "duration": 272,
    "start_time": "2023-12-12T21:28:38.761Z"
   },
   {
    "duration": 90,
    "start_time": "2023-12-12T21:40:02.944Z"
   },
   {
    "duration": 22,
    "start_time": "2023-12-12T21:40:11.057Z"
   },
   {
    "duration": 34,
    "start_time": "2023-12-12T21:41:20.409Z"
   },
   {
    "duration": 36,
    "start_time": "2023-12-12T21:42:03.034Z"
   },
   {
    "duration": 23,
    "start_time": "2023-12-12T21:42:10.666Z"
   },
   {
    "duration": 20,
    "start_time": "2023-12-12T21:43:47.891Z"
   },
   {
    "duration": 745,
    "start_time": "2023-12-12T21:47:07.396Z"
   },
   {
    "duration": 21,
    "start_time": "2023-12-12T21:47:15.421Z"
   },
   {
    "duration": 77,
    "start_time": "2023-12-16T09:41:20.846Z"
   },
   {
    "duration": 772,
    "start_time": "2023-12-16T09:58:00.817Z"
   },
   {
    "duration": 9,
    "start_time": "2023-12-16T09:58:01.590Z"
   },
   {
    "duration": 175,
    "start_time": "2023-12-16T09:58:01.601Z"
   },
   {
    "duration": 350,
    "start_time": "2023-12-16T09:58:01.778Z"
   },
   {
    "duration": 29,
    "start_time": "2023-12-16T09:58:02.130Z"
   },
   {
    "duration": 31,
    "start_time": "2023-12-16T09:58:02.161Z"
   },
   {
    "duration": 77,
    "start_time": "2023-12-16T09:58:02.194Z"
   },
   {
    "duration": 5,
    "start_time": "2023-12-16T09:58:02.273Z"
   },
   {
    "duration": 33,
    "start_time": "2023-12-16T09:58:02.280Z"
   },
   {
    "duration": 32,
    "start_time": "2023-12-16T09:58:02.316Z"
   },
   {
    "duration": 32,
    "start_time": "2023-12-16T09:58:02.350Z"
   },
   {
    "duration": 93,
    "start_time": "2023-12-16T09:58:02.384Z"
   },
   {
    "duration": 17,
    "start_time": "2023-12-16T09:58:02.479Z"
   },
   {
    "duration": 29,
    "start_time": "2023-12-16T09:58:02.498Z"
   },
   {
    "duration": 7,
    "start_time": "2023-12-16T09:58:02.529Z"
   },
   {
    "duration": 609,
    "start_time": "2023-12-16T09:58:02.537Z"
   },
   {
    "duration": 138,
    "start_time": "2023-12-16T09:58:03.148Z"
   },
   {
    "duration": 122,
    "start_time": "2023-12-16T09:58:03.288Z"
   },
   {
    "duration": 130,
    "start_time": "2023-12-16T09:58:03.412Z"
   },
   {
    "duration": 192,
    "start_time": "2023-12-16T09:58:03.544Z"
   },
   {
    "duration": 141,
    "start_time": "2023-12-16T09:58:03.738Z"
   },
   {
    "duration": 120,
    "start_time": "2023-12-16T09:58:03.880Z"
   },
   {
    "duration": 147,
    "start_time": "2023-12-16T09:58:04.002Z"
   },
   {
    "duration": 135,
    "start_time": "2023-12-16T09:58:04.151Z"
   },
   {
    "duration": 120,
    "start_time": "2023-12-16T09:58:04.288Z"
   },
   {
    "duration": 186,
    "start_time": "2023-12-16T09:58:04.410Z"
   },
   {
    "duration": 141,
    "start_time": "2023-12-16T09:58:04.598Z"
   },
   {
    "duration": 14,
    "start_time": "2023-12-16T09:58:04.742Z"
   },
   {
    "duration": 265,
    "start_time": "2023-12-16T09:58:04.757Z"
   },
   {
    "duration": 215,
    "start_time": "2023-12-16T09:58:05.024Z"
   },
   {
    "duration": 227,
    "start_time": "2023-12-16T09:58:05.241Z"
   },
   {
    "duration": 299,
    "start_time": "2023-12-16T09:58:05.470Z"
   },
   {
    "duration": 235,
    "start_time": "2023-12-16T09:58:05.770Z"
   },
   {
    "duration": 300,
    "start_time": "2023-12-16T09:58:06.006Z"
   },
   {
    "duration": 274,
    "start_time": "2023-12-16T09:58:06.308Z"
   },
   {
    "duration": 227,
    "start_time": "2023-12-16T09:58:06.584Z"
   },
   {
    "duration": 744,
    "start_time": "2023-12-16T09:58:06.813Z"
   },
   {
    "duration": 8,
    "start_time": "2023-12-16T09:58:07.559Z"
   },
   {
    "duration": 77,
    "start_time": "2023-12-16T09:58:47.308Z"
   },
   {
    "duration": 6,
    "start_time": "2023-12-16T09:59:00.224Z"
   },
   {
    "duration": 8,
    "start_time": "2023-12-16T09:59:09.312Z"
   },
   {
    "duration": 8,
    "start_time": "2023-12-16T10:02:51.959Z"
   },
   {
    "duration": 82,
    "start_time": "2023-12-16T10:08:38.647Z"
   },
   {
    "duration": 75,
    "start_time": "2023-12-16T10:11:36.049Z"
   },
   {
    "duration": 22,
    "start_time": "2023-12-16T10:11:42.113Z"
   },
   {
    "duration": 14,
    "start_time": "2023-12-16T10:12:24.225Z"
   },
   {
    "duration": 18,
    "start_time": "2023-12-16T10:12:44.777Z"
   },
   {
    "duration": 4,
    "start_time": "2023-12-16T10:14:32.379Z"
   },
   {
    "duration": 25,
    "start_time": "2023-12-16T10:14:59.979Z"
   },
   {
    "duration": 25,
    "start_time": "2023-12-16T10:15:22.148Z"
   },
   {
    "duration": 76,
    "start_time": "2023-12-16T10:16:55.717Z"
   },
   {
    "duration": 13,
    "start_time": "2023-12-16T10:17:50.020Z"
   },
   {
    "duration": 29,
    "start_time": "2023-12-16T10:18:52.517Z"
   },
   {
    "duration": 104,
    "start_time": "2023-12-16T10:19:28.369Z"
   },
   {
    "duration": 7,
    "start_time": "2023-12-16T10:19:28.475Z"
   },
   {
    "duration": 24,
    "start_time": "2023-12-16T10:19:28.483Z"
   },
   {
    "duration": 11,
    "start_time": "2023-12-16T10:19:28.508Z"
   },
   {
    "duration": 10,
    "start_time": "2023-12-16T10:19:28.521Z"
   },
   {
    "duration": 5,
    "start_time": "2023-12-16T10:19:28.533Z"
   },
   {
    "duration": 41,
    "start_time": "2023-12-16T10:19:28.539Z"
   },
   {
    "duration": 5,
    "start_time": "2023-12-16T10:19:28.581Z"
   },
   {
    "duration": 5,
    "start_time": "2023-12-16T10:19:28.587Z"
   },
   {
    "duration": 30,
    "start_time": "2023-12-16T10:19:28.593Z"
   },
   {
    "duration": 22,
    "start_time": "2023-12-16T10:19:28.624Z"
   },
   {
    "duration": 97,
    "start_time": "2023-12-16T10:19:28.648Z"
   },
   {
    "duration": 14,
    "start_time": "2023-12-16T10:19:28.746Z"
   },
   {
    "duration": 9,
    "start_time": "2023-12-16T10:19:28.763Z"
   },
   {
    "duration": 15,
    "start_time": "2023-12-16T10:19:28.773Z"
   },
   {
    "duration": 162,
    "start_time": "2023-12-16T10:19:28.789Z"
   },
   {
    "duration": 125,
    "start_time": "2023-12-16T10:19:28.952Z"
   },
   {
    "duration": 181,
    "start_time": "2023-12-16T10:19:29.079Z"
   },
   {
    "duration": 116,
    "start_time": "2023-12-16T10:19:29.261Z"
   },
   {
    "duration": 114,
    "start_time": "2023-12-16T10:19:29.379Z"
   },
   {
    "duration": 116,
    "start_time": "2023-12-16T10:19:29.494Z"
   },
   {
    "duration": 104,
    "start_time": "2023-12-16T10:19:29.611Z"
   },
   {
    "duration": 125,
    "start_time": "2023-12-16T10:19:29.722Z"
   },
   {
    "duration": 118,
    "start_time": "2023-12-16T10:19:29.848Z"
   },
   {
    "duration": 106,
    "start_time": "2023-12-16T10:19:29.967Z"
   },
   {
    "duration": 173,
    "start_time": "2023-12-16T10:19:30.075Z"
   },
   {
    "duration": 123,
    "start_time": "2023-12-16T10:19:30.250Z"
   },
   {
    "duration": 12,
    "start_time": "2023-12-16T10:19:30.374Z"
   },
   {
    "duration": 214,
    "start_time": "2023-12-16T10:19:30.388Z"
   },
   {
    "duration": 282,
    "start_time": "2023-12-16T10:19:30.604Z"
   },
   {
    "duration": 208,
    "start_time": "2023-12-16T10:19:30.888Z"
   },
   {
    "duration": 206,
    "start_time": "2023-12-16T10:19:31.097Z"
   },
   {
    "duration": 235,
    "start_time": "2023-12-16T10:19:31.305Z"
   },
   {
    "duration": 256,
    "start_time": "2023-12-16T10:19:31.541Z"
   },
   {
    "duration": 234,
    "start_time": "2023-12-16T10:19:31.798Z"
   },
   {
    "duration": 200,
    "start_time": "2023-12-16T10:19:32.034Z"
   },
   {
    "duration": 625,
    "start_time": "2023-12-16T10:19:32.235Z"
   },
   {
    "duration": 24,
    "start_time": "2023-12-16T10:19:32.862Z"
   },
   {
    "duration": 18,
    "start_time": "2023-12-16T10:20:09.855Z"
   },
   {
    "duration": 1296,
    "start_time": "2023-12-16T10:20:55.623Z"
   },
   {
    "duration": 14,
    "start_time": "2023-12-16T10:26:31.707Z"
   },
   {
    "duration": 258,
    "start_time": "2023-12-16T10:31:01.287Z"
   },
   {
    "duration": 163,
    "start_time": "2023-12-16T10:33:36.448Z"
   },
   {
    "duration": 206,
    "start_time": "2023-12-16T10:33:52.377Z"
   },
   {
    "duration": 154,
    "start_time": "2023-12-16T10:34:00.792Z"
   },
   {
    "duration": 162,
    "start_time": "2023-12-16T10:34:08.633Z"
   },
   {
    "duration": 175,
    "start_time": "2023-12-16T10:34:15.000Z"
   },
   {
    "duration": 210,
    "start_time": "2023-12-16T10:34:39.096Z"
   },
   {
    "duration": 283,
    "start_time": "2023-12-16T10:34:56.745Z"
   },
   {
    "duration": 206,
    "start_time": "2023-12-16T10:35:16.832Z"
   },
   {
    "duration": 470,
    "start_time": "2023-12-16T10:35:21.946Z"
   },
   {
    "duration": 171,
    "start_time": "2023-12-16T10:35:32.908Z"
   },
   {
    "duration": 164,
    "start_time": "2023-12-16T10:35:39.921Z"
   },
   {
    "duration": 174,
    "start_time": "2023-12-16T10:35:52.809Z"
   },
   {
    "duration": 242,
    "start_time": "2023-12-16T10:35:55.953Z"
   },
   {
    "duration": 188,
    "start_time": "2023-12-16T10:45:39.081Z"
   },
   {
    "duration": 169,
    "start_time": "2023-12-16T10:45:51.089Z"
   },
   {
    "duration": 211,
    "start_time": "2023-12-16T10:46:23.873Z"
   },
   {
    "duration": 173,
    "start_time": "2023-12-16T10:46:33.785Z"
   },
   {
    "duration": 196,
    "start_time": "2023-12-16T10:47:01.826Z"
   },
   {
    "duration": 203,
    "start_time": "2023-12-16T10:47:12.058Z"
   },
   {
    "duration": 260,
    "start_time": "2023-12-16T10:47:36.698Z"
   },
   {
    "duration": 180,
    "start_time": "2023-12-16T10:47:53.449Z"
   },
   {
    "duration": 214,
    "start_time": "2023-12-16T10:48:25.866Z"
   },
   {
    "duration": 190,
    "start_time": "2023-12-16T10:52:25.838Z"
   },
   {
    "duration": 71,
    "start_time": "2023-12-16T11:01:06.972Z"
   },
   {
    "duration": 192,
    "start_time": "2023-12-16T11:01:17.948Z"
   },
   {
    "duration": 192,
    "start_time": "2023-12-16T11:02:10.148Z"
   },
   {
    "duration": 195,
    "start_time": "2023-12-16T11:02:29.533Z"
   },
   {
    "duration": 191,
    "start_time": "2023-12-16T11:02:41.045Z"
   },
   {
    "duration": 190,
    "start_time": "2023-12-16T11:03:07.092Z"
   },
   {
    "duration": 289,
    "start_time": "2023-12-16T11:03:24.860Z"
   },
   {
    "duration": 80,
    "start_time": "2023-12-16T11:03:48.445Z"
   },
   {
    "duration": 195,
    "start_time": "2023-12-16T11:03:53.029Z"
   },
   {
    "duration": 188,
    "start_time": "2023-12-16T11:03:59.405Z"
   },
   {
    "duration": 192,
    "start_time": "2023-12-16T11:05:51.551Z"
   },
   {
    "duration": 192,
    "start_time": "2023-12-16T11:06:16.111Z"
   },
   {
    "duration": 191,
    "start_time": "2023-12-16T11:06:22.416Z"
   },
   {
    "duration": 202,
    "start_time": "2023-12-16T11:07:33.096Z"
   },
   {
    "duration": 221,
    "start_time": "2023-12-16T11:07:55.024Z"
   },
   {
    "duration": 312,
    "start_time": "2023-12-16T11:08:40.833Z"
   },
   {
    "duration": 313,
    "start_time": "2023-12-16T11:09:09.561Z"
   },
   {
    "duration": 318,
    "start_time": "2023-12-16T11:09:16.776Z"
   },
   {
    "duration": 189,
    "start_time": "2023-12-16T11:11:25.290Z"
   },
   {
    "duration": 193,
    "start_time": "2023-12-16T11:11:38.043Z"
   },
   {
    "duration": 312,
    "start_time": "2023-12-16T11:13:11.148Z"
   },
   {
    "duration": 195,
    "start_time": "2023-12-16T11:13:48.788Z"
   },
   {
    "duration": 182,
    "start_time": "2023-12-16T11:14:08.356Z"
   },
   {
    "duration": 216,
    "start_time": "2023-12-16T11:15:40.516Z"
   },
   {
    "duration": 1534,
    "start_time": "2023-12-16T11:16:24.094Z"
   },
   {
    "duration": 193,
    "start_time": "2023-12-16T11:16:40.790Z"
   },
   {
    "duration": 188,
    "start_time": "2023-12-16T11:16:51.998Z"
   },
   {
    "duration": 204,
    "start_time": "2023-12-16T11:16:58.342Z"
   },
   {
    "duration": 203,
    "start_time": "2023-12-16T11:17:10.046Z"
   },
   {
    "duration": 5,
    "start_time": "2023-12-16T11:18:07.606Z"
   },
   {
    "duration": 5,
    "start_time": "2023-12-16T11:18:13.878Z"
   },
   {
    "duration": 201,
    "start_time": "2023-12-16T11:18:18.742Z"
   },
   {
    "duration": 1359,
    "start_time": "2023-12-16T11:20:20.552Z"
   },
   {
    "duration": 187,
    "start_time": "2023-12-16T11:20:47.240Z"
   },
   {
    "duration": 206,
    "start_time": "2023-12-16T11:21:08.066Z"
   },
   {
    "duration": 201,
    "start_time": "2023-12-16T11:22:07.513Z"
   },
   {
    "duration": 1378,
    "start_time": "2023-12-16T11:22:48.082Z"
   },
   {
    "duration": 194,
    "start_time": "2023-12-16T11:23:11.882Z"
   },
   {
    "duration": 204,
    "start_time": "2023-12-16T11:24:40.788Z"
   },
   {
    "duration": 201,
    "start_time": "2023-12-16T11:24:57.299Z"
   },
   {
    "duration": 334,
    "start_time": "2023-12-16T11:25:20.427Z"
   },
   {
    "duration": 192,
    "start_time": "2023-12-16T11:25:29.908Z"
   },
   {
    "duration": 193,
    "start_time": "2023-12-16T11:26:08.211Z"
   },
   {
    "duration": 1389,
    "start_time": "2023-12-16T11:26:46.828Z"
   },
   {
    "duration": 186,
    "start_time": "2023-12-16T11:27:53.774Z"
   },
   {
    "duration": 189,
    "start_time": "2023-12-16T11:28:02.717Z"
   },
   {
    "duration": 192,
    "start_time": "2023-12-16T11:28:24.629Z"
   },
   {
    "duration": 192,
    "start_time": "2023-12-16T11:28:57.797Z"
   },
   {
    "duration": 195,
    "start_time": "2023-12-16T11:29:07.462Z"
   },
   {
    "duration": 189,
    "start_time": "2023-12-16T11:29:17.269Z"
   },
   {
    "duration": 186,
    "start_time": "2023-12-16T11:29:23.022Z"
   },
   {
    "duration": 168,
    "start_time": "2023-12-16T11:31:11.552Z"
   },
   {
    "duration": 175,
    "start_time": "2023-12-16T11:31:43.992Z"
   },
   {
    "duration": 177,
    "start_time": "2023-12-16T11:32:14.024Z"
   },
   {
    "duration": 178,
    "start_time": "2023-12-16T11:32:37.600Z"
   },
   {
    "duration": 172,
    "start_time": "2023-12-16T11:32:46.857Z"
   },
   {
    "duration": 180,
    "start_time": "2023-12-16T11:32:59.504Z"
   },
   {
    "duration": 258,
    "start_time": "2023-12-16T11:33:14.769Z"
   },
   {
    "duration": 111,
    "start_time": "2023-12-16T11:34:37.489Z"
   },
   {
    "duration": 325,
    "start_time": "2023-12-16T11:35:20.602Z"
   },
   {
    "duration": 180,
    "start_time": "2023-12-16T11:36:19.931Z"
   },
   {
    "duration": 182,
    "start_time": "2023-12-16T11:36:26.603Z"
   },
   {
    "duration": 182,
    "start_time": "2023-12-16T11:37:01.251Z"
   },
   {
    "duration": 179,
    "start_time": "2023-12-16T11:38:34.236Z"
   },
   {
    "duration": 155,
    "start_time": "2023-12-16T11:47:46.929Z"
   },
   {
    "duration": 162,
    "start_time": "2023-12-16T11:53:23.230Z"
   },
   {
    "duration": 82,
    "start_time": "2023-12-16T11:53:40.590Z"
   },
   {
    "duration": 89,
    "start_time": "2023-12-16T11:54:21.278Z"
   },
   {
    "duration": 168,
    "start_time": "2023-12-16T11:58:31.906Z"
   },
   {
    "duration": 164,
    "start_time": "2023-12-16T11:58:49.545Z"
   },
   {
    "duration": 166,
    "start_time": "2023-12-16T11:58:58.513Z"
   },
   {
    "duration": 151,
    "start_time": "2023-12-16T11:59:06.850Z"
   },
   {
    "duration": 165,
    "start_time": "2023-12-16T11:59:19.553Z"
   },
   {
    "duration": 176,
    "start_time": "2023-12-16T11:59:28.642Z"
   },
   {
    "duration": 169,
    "start_time": "2023-12-16T11:59:48.178Z"
   },
   {
    "duration": 168,
    "start_time": "2023-12-16T12:00:19.586Z"
   },
   {
    "duration": 100,
    "start_time": "2023-12-16T12:00:36.413Z"
   },
   {
    "duration": 9,
    "start_time": "2023-12-16T12:00:36.514Z"
   },
   {
    "duration": 12,
    "start_time": "2023-12-16T12:00:36.524Z"
   },
   {
    "duration": 30,
    "start_time": "2023-12-16T12:00:36.537Z"
   },
   {
    "duration": 10,
    "start_time": "2023-12-16T12:00:36.569Z"
   },
   {
    "duration": 6,
    "start_time": "2023-12-16T12:00:36.581Z"
   },
   {
    "duration": 63,
    "start_time": "2023-12-16T12:00:36.589Z"
   },
   {
    "duration": 4,
    "start_time": "2023-12-16T12:00:36.654Z"
   },
   {
    "duration": 35,
    "start_time": "2023-12-16T12:00:36.660Z"
   },
   {
    "duration": 7,
    "start_time": "2023-12-16T12:00:36.696Z"
   },
   {
    "duration": 31,
    "start_time": "2023-12-16T12:00:36.704Z"
   },
   {
    "duration": 100,
    "start_time": "2023-12-16T12:00:36.736Z"
   },
   {
    "duration": 15,
    "start_time": "2023-12-16T12:00:36.837Z"
   },
   {
    "duration": 8,
    "start_time": "2023-12-16T12:00:36.855Z"
   },
   {
    "duration": 6,
    "start_time": "2023-12-16T12:00:36.864Z"
   },
   {
    "duration": 173,
    "start_time": "2023-12-16T12:00:36.871Z"
   },
   {
    "duration": 137,
    "start_time": "2023-12-16T12:00:37.046Z"
   },
   {
    "duration": 112,
    "start_time": "2023-12-16T12:00:37.185Z"
   },
   {
    "duration": 116,
    "start_time": "2023-12-16T12:00:37.298Z"
   },
   {
    "duration": 256,
    "start_time": "2023-12-16T12:00:37.421Z"
   },
   {
    "duration": 122,
    "start_time": "2023-12-16T12:00:37.679Z"
   },
   {
    "duration": 108,
    "start_time": "2023-12-16T12:00:37.803Z"
   },
   {
    "duration": 134,
    "start_time": "2023-12-16T12:00:37.913Z"
   },
   {
    "duration": 130,
    "start_time": "2023-12-16T12:00:38.048Z"
   },
   {
    "duration": 117,
    "start_time": "2023-12-16T12:00:38.180Z"
   },
   {
    "duration": 162,
    "start_time": "2023-12-16T12:00:38.298Z"
   },
   {
    "duration": 123,
    "start_time": "2023-12-16T12:00:38.461Z"
   },
   {
    "duration": 11,
    "start_time": "2023-12-16T12:00:38.585Z"
   },
   {
    "duration": 212,
    "start_time": "2023-12-16T12:00:38.597Z"
   },
   {
    "duration": 200,
    "start_time": "2023-12-16T12:00:38.811Z"
   },
   {
    "duration": 197,
    "start_time": "2023-12-16T12:00:39.012Z"
   },
   {
    "duration": 221,
    "start_time": "2023-12-16T12:00:39.211Z"
   },
   {
    "duration": 215,
    "start_time": "2023-12-16T12:00:39.434Z"
   },
   {
    "duration": 265,
    "start_time": "2023-12-16T12:00:39.650Z"
   },
   {
    "duration": 244,
    "start_time": "2023-12-16T12:00:39.922Z"
   },
   {
    "duration": 217,
    "start_time": "2023-12-16T12:00:40.168Z"
   },
   {
    "duration": 797,
    "start_time": "2023-12-16T12:00:40.387Z"
   },
   {
    "duration": 186,
    "start_time": "2023-12-16T12:00:41.185Z"
   },
   {
    "duration": 178,
    "start_time": "2023-12-16T12:00:41.372Z"
   },
   {
    "duration": 211,
    "start_time": "2023-12-16T12:00:50.483Z"
   },
   {
    "duration": 164,
    "start_time": "2023-12-16T12:00:57.283Z"
   },
   {
    "duration": 192,
    "start_time": "2023-12-16T12:01:07.154Z"
   },
   {
    "duration": 160,
    "start_time": "2023-12-16T12:01:37.163Z"
   },
   {
    "duration": 77,
    "start_time": "2023-12-16T12:02:38.684Z"
   },
   {
    "duration": 157,
    "start_time": "2023-12-16T12:02:43.308Z"
   },
   {
    "duration": 163,
    "start_time": "2023-12-16T12:02:51.308Z"
   },
   {
    "duration": 160,
    "start_time": "2023-12-16T12:02:59.940Z"
   },
   {
    "duration": 166,
    "start_time": "2023-12-16T12:03:16.920Z"
   },
   {
    "duration": 167,
    "start_time": "2023-12-16T12:03:28.940Z"
   },
   {
    "duration": 104,
    "start_time": "2023-12-16T12:08:54.674Z"
   },
   {
    "duration": 11,
    "start_time": "2023-12-16T12:08:54.780Z"
   },
   {
    "duration": 28,
    "start_time": "2023-12-16T12:08:54.793Z"
   },
   {
    "duration": 29,
    "start_time": "2023-12-16T12:08:54.822Z"
   },
   {
    "duration": 29,
    "start_time": "2023-12-16T12:08:54.855Z"
   },
   {
    "duration": 28,
    "start_time": "2023-12-16T12:08:54.886Z"
   },
   {
    "duration": 63,
    "start_time": "2023-12-16T12:08:54.915Z"
   },
   {
    "duration": 6,
    "start_time": "2023-12-16T12:08:54.979Z"
   },
   {
    "duration": 14,
    "start_time": "2023-12-16T12:08:54.987Z"
   },
   {
    "duration": 10,
    "start_time": "2023-12-16T12:08:55.003Z"
   },
   {
    "duration": 30,
    "start_time": "2023-12-16T12:08:55.014Z"
   },
   {
    "duration": 101,
    "start_time": "2023-12-16T12:08:55.045Z"
   },
   {
    "duration": 16,
    "start_time": "2023-12-16T12:08:55.147Z"
   },
   {
    "duration": 22,
    "start_time": "2023-12-16T12:08:55.166Z"
   },
   {
    "duration": 42,
    "start_time": "2023-12-16T12:08:55.190Z"
   },
   {
    "duration": 175,
    "start_time": "2023-12-16T12:08:55.234Z"
   },
   {
    "duration": 151,
    "start_time": "2023-12-16T12:08:55.411Z"
   },
   {
    "duration": 132,
    "start_time": "2023-12-16T12:08:55.564Z"
   },
   {
    "duration": 131,
    "start_time": "2023-12-16T12:08:55.698Z"
   },
   {
    "duration": 133,
    "start_time": "2023-12-16T12:08:55.831Z"
   },
   {
    "duration": 150,
    "start_time": "2023-12-16T12:08:55.966Z"
   },
   {
    "duration": 130,
    "start_time": "2023-12-16T12:08:56.122Z"
   },
   {
    "duration": 313,
    "start_time": "2023-12-16T12:08:56.253Z"
   },
   {
    "duration": 161,
    "start_time": "2023-12-16T12:08:56.568Z"
   },
   {
    "duration": 126,
    "start_time": "2023-12-16T12:08:56.731Z"
   },
   {
    "duration": 179,
    "start_time": "2023-12-16T12:08:56.858Z"
   },
   {
    "duration": 132,
    "start_time": "2023-12-16T12:08:57.039Z"
   },
   {
    "duration": 12,
    "start_time": "2023-12-16T12:08:57.172Z"
   },
   {
    "duration": 242,
    "start_time": "2023-12-16T12:08:57.185Z"
   },
   {
    "duration": 231,
    "start_time": "2023-12-16T12:08:57.429Z"
   },
   {
    "duration": 229,
    "start_time": "2023-12-16T12:08:57.661Z"
   },
   {
    "duration": 224,
    "start_time": "2023-12-16T12:08:57.892Z"
   },
   {
    "duration": 247,
    "start_time": "2023-12-16T12:08:58.117Z"
   },
   {
    "duration": 300,
    "start_time": "2023-12-16T12:08:58.365Z"
   },
   {
    "duration": 295,
    "start_time": "2023-12-16T12:08:58.667Z"
   },
   {
    "duration": 238,
    "start_time": "2023-12-16T12:08:58.963Z"
   },
   {
    "duration": 708,
    "start_time": "2023-12-16T12:08:59.203Z"
   },
   {
    "duration": 220,
    "start_time": "2023-12-16T12:08:59.913Z"
   },
   {
    "duration": 200,
    "start_time": "2023-12-16T12:09:00.135Z"
   },
   {
    "duration": 297,
    "start_time": "2023-12-16T12:11:58.771Z"
   },
   {
    "duration": 105,
    "start_time": "2023-12-16T12:12:02.065Z"
   },
   {
    "duration": 91,
    "start_time": "2023-12-16T12:12:02.172Z"
   },
   {
    "duration": 50,
    "start_time": "2023-12-16T12:12:02.265Z"
   },
   {
    "duration": 14,
    "start_time": "2023-12-16T12:12:02.316Z"
   },
   {
    "duration": 108,
    "start_time": "2023-12-16T12:12:02.332Z"
   },
   {
    "duration": 101,
    "start_time": "2023-12-16T12:12:02.441Z"
   },
   {
    "duration": 63,
    "start_time": "2023-12-16T12:12:02.543Z"
   },
   {
    "duration": 5,
    "start_time": "2023-12-16T12:12:02.608Z"
   },
   {
    "duration": 5,
    "start_time": "2023-12-16T12:12:02.615Z"
   },
   {
    "duration": 13,
    "start_time": "2023-12-16T12:12:02.622Z"
   },
   {
    "duration": 27,
    "start_time": "2023-12-16T12:12:02.637Z"
   },
   {
    "duration": 105,
    "start_time": "2023-12-16T12:12:02.666Z"
   },
   {
    "duration": 15,
    "start_time": "2023-12-16T12:12:02.772Z"
   },
   {
    "duration": 16,
    "start_time": "2023-12-16T12:12:02.790Z"
   },
   {
    "duration": 20,
    "start_time": "2023-12-16T12:12:02.807Z"
   },
   {
    "duration": 174,
    "start_time": "2023-12-16T12:12:02.828Z"
   },
   {
    "duration": 136,
    "start_time": "2023-12-16T12:12:03.003Z"
   },
   {
    "duration": 122,
    "start_time": "2023-12-16T12:12:03.141Z"
   },
   {
    "duration": 143,
    "start_time": "2023-12-16T12:12:03.264Z"
   },
   {
    "duration": 137,
    "start_time": "2023-12-16T12:12:03.409Z"
   },
   {
    "duration": 146,
    "start_time": "2023-12-16T12:12:03.549Z"
   },
   {
    "duration": 138,
    "start_time": "2023-12-16T12:12:03.697Z"
   },
   {
    "duration": 151,
    "start_time": "2023-12-16T12:12:03.836Z"
   },
   {
    "duration": 151,
    "start_time": "2023-12-16T12:12:03.988Z"
   },
   {
    "duration": 127,
    "start_time": "2023-12-16T12:12:04.140Z"
   },
   {
    "duration": 184,
    "start_time": "2023-12-16T12:12:04.269Z"
   },
   {
    "duration": 134,
    "start_time": "2023-12-16T12:12:04.455Z"
   },
   {
    "duration": 13,
    "start_time": "2023-12-16T12:12:04.590Z"
   },
   {
    "duration": 235,
    "start_time": "2023-12-16T12:12:04.604Z"
   },
   {
    "duration": 212,
    "start_time": "2023-12-16T12:12:04.841Z"
   },
   {
    "duration": 207,
    "start_time": "2023-12-16T12:12:05.055Z"
   },
   {
    "duration": 211,
    "start_time": "2023-12-16T12:12:05.263Z"
   },
   {
    "duration": 226,
    "start_time": "2023-12-16T12:12:05.475Z"
   },
   {
    "duration": 256,
    "start_time": "2023-12-16T12:12:05.702Z"
   },
   {
    "duration": 221,
    "start_time": "2023-12-16T12:12:05.960Z"
   },
   {
    "duration": 208,
    "start_time": "2023-12-16T12:12:06.183Z"
   },
   {
    "duration": 882,
    "start_time": "2023-12-16T12:12:06.392Z"
   },
   {
    "duration": 215,
    "start_time": "2023-12-16T12:12:07.276Z"
   },
   {
    "duration": 212,
    "start_time": "2023-12-16T12:12:07.493Z"
   },
   {
    "duration": 116,
    "start_time": "2023-12-16T12:20:37.928Z"
   },
   {
    "duration": 8,
    "start_time": "2023-12-16T12:20:38.047Z"
   },
   {
    "duration": 21,
    "start_time": "2023-12-16T12:20:38.057Z"
   },
   {
    "duration": 8,
    "start_time": "2023-12-16T12:20:38.079Z"
   },
   {
    "duration": 11,
    "start_time": "2023-12-16T12:20:38.089Z"
   },
   {
    "duration": 6,
    "start_time": "2023-12-16T12:20:38.122Z"
   },
   {
    "duration": 49,
    "start_time": "2023-12-16T12:20:38.130Z"
   },
   {
    "duration": 5,
    "start_time": "2023-12-16T12:20:38.181Z"
   },
   {
    "duration": 6,
    "start_time": "2023-12-16T12:20:38.187Z"
   },
   {
    "duration": 28,
    "start_time": "2023-12-16T12:20:38.195Z"
   },
   {
    "duration": 24,
    "start_time": "2023-12-16T12:20:38.225Z"
   },
   {
    "duration": 107,
    "start_time": "2023-12-16T12:20:38.251Z"
   },
   {
    "duration": 16,
    "start_time": "2023-12-16T12:20:38.360Z"
   },
   {
    "duration": 11,
    "start_time": "2023-12-16T12:20:38.379Z"
   },
   {
    "duration": 6,
    "start_time": "2023-12-16T12:20:38.391Z"
   },
   {
    "duration": 156,
    "start_time": "2023-12-16T12:20:38.423Z"
   },
   {
    "duration": 151,
    "start_time": "2023-12-16T12:20:38.582Z"
   },
   {
    "duration": 134,
    "start_time": "2023-12-16T12:20:38.734Z"
   },
   {
    "duration": 136,
    "start_time": "2023-12-16T12:20:38.870Z"
   },
   {
    "duration": 135,
    "start_time": "2023-12-16T12:20:39.008Z"
   },
   {
    "duration": 139,
    "start_time": "2023-12-16T12:20:39.144Z"
   },
   {
    "duration": 127,
    "start_time": "2023-12-16T12:20:39.285Z"
   },
   {
    "duration": 155,
    "start_time": "2023-12-16T12:20:39.414Z"
   },
   {
    "duration": 143,
    "start_time": "2023-12-16T12:20:39.570Z"
   },
   {
    "duration": 122,
    "start_time": "2023-12-16T12:20:39.715Z"
   },
   {
    "duration": 191,
    "start_time": "2023-12-16T12:20:39.838Z"
   },
   {
    "duration": 131,
    "start_time": "2023-12-16T12:20:40.031Z"
   },
   {
    "duration": 12,
    "start_time": "2023-12-16T12:20:40.163Z"
   },
   {
    "duration": 259,
    "start_time": "2023-12-16T12:20:40.177Z"
   },
   {
    "duration": 209,
    "start_time": "2023-12-16T12:20:40.438Z"
   },
   {
    "duration": 232,
    "start_time": "2023-12-16T12:20:40.649Z"
   },
   {
    "duration": 220,
    "start_time": "2023-12-16T12:20:40.882Z"
   },
   {
    "duration": 224,
    "start_time": "2023-12-16T12:20:41.103Z"
   },
   {
    "duration": 230,
    "start_time": "2023-12-16T12:20:41.329Z"
   },
   {
    "duration": 205,
    "start_time": "2023-12-16T12:20:41.560Z"
   },
   {
    "duration": 211,
    "start_time": "2023-12-16T12:20:41.767Z"
   },
   {
    "duration": 869,
    "start_time": "2023-12-16T12:20:41.980Z"
   },
   {
    "duration": 212,
    "start_time": "2023-12-16T12:20:42.851Z"
   },
   {
    "duration": 214,
    "start_time": "2023-12-16T12:20:43.065Z"
   },
   {
    "duration": 107,
    "start_time": "2023-12-16T12:21:53.627Z"
   },
   {
    "duration": 9,
    "start_time": "2023-12-16T12:21:53.736Z"
   },
   {
    "duration": 11,
    "start_time": "2023-12-16T12:21:53.746Z"
   },
   {
    "duration": 6,
    "start_time": "2023-12-16T12:21:53.759Z"
   },
   {
    "duration": 13,
    "start_time": "2023-12-16T12:21:53.768Z"
   },
   {
    "duration": 41,
    "start_time": "2023-12-16T12:21:53.783Z"
   },
   {
    "duration": 46,
    "start_time": "2023-12-16T12:21:53.826Z"
   },
   {
    "duration": 6,
    "start_time": "2023-12-16T12:21:53.874Z"
   },
   {
    "duration": 7,
    "start_time": "2023-12-16T12:21:53.882Z"
   },
   {
    "duration": 37,
    "start_time": "2023-12-16T12:21:53.890Z"
   },
   {
    "duration": 26,
    "start_time": "2023-12-16T12:21:53.929Z"
   },
   {
    "duration": 114,
    "start_time": "2023-12-16T12:21:53.956Z"
   },
   {
    "duration": 16,
    "start_time": "2023-12-16T12:21:54.072Z"
   },
   {
    "duration": 11,
    "start_time": "2023-12-16T12:21:54.091Z"
   },
   {
    "duration": 26,
    "start_time": "2023-12-16T12:21:54.103Z"
   },
   {
    "duration": 161,
    "start_time": "2023-12-16T12:21:54.131Z"
   },
   {
    "duration": 139,
    "start_time": "2023-12-16T12:21:54.293Z"
   },
   {
    "duration": 141,
    "start_time": "2023-12-16T12:21:54.433Z"
   },
   {
    "duration": 133,
    "start_time": "2023-12-16T12:21:54.575Z"
   },
   {
    "duration": 150,
    "start_time": "2023-12-16T12:21:54.710Z"
   },
   {
    "duration": 147,
    "start_time": "2023-12-16T12:21:54.862Z"
   },
   {
    "duration": 127,
    "start_time": "2023-12-16T12:21:55.011Z"
   },
   {
    "duration": 147,
    "start_time": "2023-12-16T12:21:55.140Z"
   },
   {
    "duration": 154,
    "start_time": "2023-12-16T12:21:55.289Z"
   },
   {
    "duration": 122,
    "start_time": "2023-12-16T12:21:55.445Z"
   },
   {
    "duration": 184,
    "start_time": "2023-12-16T12:21:55.569Z"
   },
   {
    "duration": 132,
    "start_time": "2023-12-16T12:21:55.755Z"
   },
   {
    "duration": 12,
    "start_time": "2023-12-16T12:21:55.888Z"
   },
   {
    "duration": 222,
    "start_time": "2023-12-16T12:21:55.902Z"
   },
   {
    "duration": 203,
    "start_time": "2023-12-16T12:21:56.126Z"
   },
   {
    "duration": 221,
    "start_time": "2023-12-16T12:21:56.330Z"
   },
   {
    "duration": 207,
    "start_time": "2023-12-16T12:21:56.552Z"
   },
   {
    "duration": 226,
    "start_time": "2023-12-16T12:21:56.761Z"
   },
   {
    "duration": 232,
    "start_time": "2023-12-16T12:21:56.988Z"
   },
   {
    "duration": 209,
    "start_time": "2023-12-16T12:21:57.222Z"
   },
   {
    "duration": 228,
    "start_time": "2023-12-16T12:21:57.432Z"
   },
   {
    "duration": 901,
    "start_time": "2023-12-16T12:21:57.661Z"
   },
   {
    "duration": 216,
    "start_time": "2023-12-16T12:21:58.564Z"
   },
   {
    "duration": 201,
    "start_time": "2023-12-16T12:21:58.782Z"
   },
   {
    "duration": 153,
    "start_time": "2023-12-16T12:22:48.689Z"
   },
   {
    "duration": 110,
    "start_time": "2023-12-16T12:23:12.786Z"
   },
   {
    "duration": 103,
    "start_time": "2023-12-16T12:23:28.210Z"
   },
   {
    "duration": 101,
    "start_time": "2023-12-16T12:23:50.899Z"
   },
   {
    "duration": 103,
    "start_time": "2023-12-16T12:23:57.124Z"
   },
   {
    "duration": 7,
    "start_time": "2023-12-16T12:23:57.228Z"
   },
   {
    "duration": 29,
    "start_time": "2023-12-16T12:23:57.236Z"
   },
   {
    "duration": 9,
    "start_time": "2023-12-16T12:23:57.268Z"
   },
   {
    "duration": 19,
    "start_time": "2023-12-16T12:23:57.279Z"
   },
   {
    "duration": 5,
    "start_time": "2023-12-16T12:23:57.300Z"
   },
   {
    "duration": 49,
    "start_time": "2023-12-16T12:23:57.307Z"
   },
   {
    "duration": 6,
    "start_time": "2023-12-16T12:23:57.357Z"
   },
   {
    "duration": 20,
    "start_time": "2023-12-16T12:23:57.365Z"
   },
   {
    "duration": 10,
    "start_time": "2023-12-16T12:23:57.388Z"
   },
   {
    "duration": 35,
    "start_time": "2023-12-16T12:23:57.400Z"
   },
   {
    "duration": 100,
    "start_time": "2023-12-16T12:23:57.436Z"
   },
   {
    "duration": 17,
    "start_time": "2023-12-16T12:23:57.538Z"
   },
   {
    "duration": 9,
    "start_time": "2023-12-16T12:23:57.557Z"
   },
   {
    "duration": 10,
    "start_time": "2023-12-16T12:23:57.567Z"
   },
   {
    "duration": 153,
    "start_time": "2023-12-16T12:23:57.578Z"
   },
   {
    "duration": 120,
    "start_time": "2023-12-16T12:23:57.733Z"
   },
   {
    "duration": 126,
    "start_time": "2023-12-16T12:23:57.854Z"
   },
   {
    "duration": 128,
    "start_time": "2023-12-16T12:23:57.981Z"
   },
   {
    "duration": 120,
    "start_time": "2023-12-16T12:23:58.111Z"
   },
   {
    "duration": 131,
    "start_time": "2023-12-16T12:23:58.233Z"
   },
   {
    "duration": 123,
    "start_time": "2023-12-16T12:23:58.366Z"
   },
   {
    "duration": 141,
    "start_time": "2023-12-16T12:23:58.491Z"
   },
   {
    "duration": 138,
    "start_time": "2023-12-16T12:23:58.634Z"
   },
   {
    "duration": 116,
    "start_time": "2023-12-16T12:23:58.774Z"
   },
   {
    "duration": 178,
    "start_time": "2023-12-16T12:23:58.892Z"
   },
   {
    "duration": 122,
    "start_time": "2023-12-16T12:23:59.072Z"
   },
   {
    "duration": 25,
    "start_time": "2023-12-16T12:23:59.198Z"
   },
   {
    "duration": 199,
    "start_time": "2023-12-16T12:23:59.225Z"
   },
   {
    "duration": 200,
    "start_time": "2023-12-16T12:23:59.426Z"
   },
   {
    "duration": 189,
    "start_time": "2023-12-16T12:23:59.628Z"
   },
   {
    "duration": 375,
    "start_time": "2023-12-16T12:23:59.821Z"
   },
   {
    "duration": 206,
    "start_time": "2023-12-16T12:24:00.198Z"
   },
   {
    "duration": 217,
    "start_time": "2023-12-16T12:24:00.406Z"
   },
   {
    "duration": 228,
    "start_time": "2023-12-16T12:24:00.624Z"
   },
   {
    "duration": 197,
    "start_time": "2023-12-16T12:24:00.854Z"
   },
   {
    "duration": 651,
    "start_time": "2023-12-16T12:24:01.052Z"
   },
   {
    "duration": 197,
    "start_time": "2023-12-16T12:24:01.705Z"
   },
   {
    "duration": 194,
    "start_time": "2023-12-16T12:24:01.904Z"
   },
   {
    "duration": 103,
    "start_time": "2023-12-16T12:25:03.789Z"
   },
   {
    "duration": 7,
    "start_time": "2023-12-16T12:25:03.894Z"
   },
   {
    "duration": 19,
    "start_time": "2023-12-16T12:25:03.903Z"
   },
   {
    "duration": 14,
    "start_time": "2023-12-16T12:25:03.924Z"
   },
   {
    "duration": 10,
    "start_time": "2023-12-16T12:25:03.940Z"
   },
   {
    "duration": 5,
    "start_time": "2023-12-16T12:25:03.952Z"
   },
   {
    "duration": 64,
    "start_time": "2023-12-16T12:25:03.959Z"
   },
   {
    "duration": 5,
    "start_time": "2023-12-16T12:25:04.024Z"
   },
   {
    "duration": 6,
    "start_time": "2023-12-16T12:25:04.031Z"
   },
   {
    "duration": 12,
    "start_time": "2023-12-16T12:25:04.039Z"
   },
   {
    "duration": 24,
    "start_time": "2023-12-16T12:25:04.053Z"
   },
   {
    "duration": 106,
    "start_time": "2023-12-16T12:25:04.079Z"
   },
   {
    "duration": 15,
    "start_time": "2023-12-16T12:25:04.186Z"
   },
   {
    "duration": 27,
    "start_time": "2023-12-16T12:25:04.203Z"
   },
   {
    "duration": 21,
    "start_time": "2023-12-16T12:25:04.231Z"
   },
   {
    "duration": 137,
    "start_time": "2023-12-16T12:25:04.254Z"
   },
   {
    "duration": 121,
    "start_time": "2023-12-16T12:25:04.392Z"
   },
   {
    "duration": 130,
    "start_time": "2023-12-16T12:25:04.515Z"
   },
   {
    "duration": 125,
    "start_time": "2023-12-16T12:25:04.647Z"
   },
   {
    "duration": 136,
    "start_time": "2023-12-16T12:25:04.773Z"
   },
   {
    "duration": 127,
    "start_time": "2023-12-16T12:25:04.911Z"
   },
   {
    "duration": 119,
    "start_time": "2023-12-16T12:25:05.040Z"
   },
   {
    "duration": 128,
    "start_time": "2023-12-16T12:25:05.161Z"
   },
   {
    "duration": 136,
    "start_time": "2023-12-16T12:25:05.291Z"
   },
   {
    "duration": 117,
    "start_time": "2023-12-16T12:25:05.428Z"
   },
   {
    "duration": 176,
    "start_time": "2023-12-16T12:25:05.546Z"
   },
   {
    "duration": 121,
    "start_time": "2023-12-16T12:25:05.724Z"
   },
   {
    "duration": 11,
    "start_time": "2023-12-16T12:25:05.848Z"
   },
   {
    "duration": 216,
    "start_time": "2023-12-16T12:25:05.861Z"
   },
   {
    "duration": 190,
    "start_time": "2023-12-16T12:25:06.078Z"
   },
   {
    "duration": 206,
    "start_time": "2023-12-16T12:25:06.270Z"
   },
   {
    "duration": 207,
    "start_time": "2023-12-16T12:25:06.478Z"
   },
   {
    "duration": 221,
    "start_time": "2023-12-16T12:25:06.686Z"
   },
   {
    "duration": 470,
    "start_time": "2023-12-16T12:25:06.908Z"
   },
   {
    "duration": 259,
    "start_time": "2023-12-16T12:25:07.380Z"
   },
   {
    "duration": 208,
    "start_time": "2023-12-16T12:25:07.641Z"
   },
   {
    "duration": 647,
    "start_time": "2023-12-16T12:25:07.851Z"
   },
   {
    "duration": 190,
    "start_time": "2023-12-16T12:25:08.499Z"
   },
   {
    "duration": 186,
    "start_time": "2023-12-16T12:25:08.690Z"
   },
   {
    "duration": 97,
    "start_time": "2023-12-16T12:33:40.420Z"
   },
   {
    "duration": 9,
    "start_time": "2023-12-16T12:33:40.519Z"
   },
   {
    "duration": 10,
    "start_time": "2023-12-16T12:33:40.529Z"
   },
   {
    "duration": 6,
    "start_time": "2023-12-16T12:33:40.541Z"
   },
   {
    "duration": 10,
    "start_time": "2023-12-16T12:33:40.549Z"
   },
   {
    "duration": 6,
    "start_time": "2023-12-16T12:33:40.560Z"
   },
   {
    "duration": 68,
    "start_time": "2023-12-16T12:33:40.567Z"
   },
   {
    "duration": 5,
    "start_time": "2023-12-16T12:33:40.636Z"
   },
   {
    "duration": 5,
    "start_time": "2023-12-16T12:33:40.642Z"
   },
   {
    "duration": 15,
    "start_time": "2023-12-16T12:33:40.648Z"
   },
   {
    "duration": 25,
    "start_time": "2023-12-16T12:33:40.665Z"
   },
   {
    "duration": 115,
    "start_time": "2023-12-16T12:33:40.691Z"
   },
   {
    "duration": 26,
    "start_time": "2023-12-16T12:33:40.807Z"
   },
   {
    "duration": 9,
    "start_time": "2023-12-16T12:33:40.836Z"
   },
   {
    "duration": 6,
    "start_time": "2023-12-16T12:33:40.847Z"
   },
   {
    "duration": 149,
    "start_time": "2023-12-16T12:33:40.854Z"
   },
   {
    "duration": 118,
    "start_time": "2023-12-16T12:33:41.004Z"
   },
   {
    "duration": 122,
    "start_time": "2023-12-16T12:33:41.124Z"
   },
   {
    "duration": 124,
    "start_time": "2023-12-16T12:33:41.247Z"
   },
   {
    "duration": 141,
    "start_time": "2023-12-16T12:33:41.373Z"
   },
   {
    "duration": 126,
    "start_time": "2023-12-16T12:33:41.516Z"
   },
   {
    "duration": 124,
    "start_time": "2023-12-16T12:33:41.643Z"
   },
   {
    "duration": 128,
    "start_time": "2023-12-16T12:33:41.769Z"
   },
   {
    "duration": 129,
    "start_time": "2023-12-16T12:33:41.898Z"
   },
   {
    "duration": 114,
    "start_time": "2023-12-16T12:33:42.029Z"
   },
   {
    "duration": 155,
    "start_time": "2023-12-16T12:33:42.144Z"
   },
   {
    "duration": 126,
    "start_time": "2023-12-16T12:33:42.300Z"
   },
   {
    "duration": 11,
    "start_time": "2023-12-16T12:33:42.428Z"
   },
   {
    "duration": 214,
    "start_time": "2023-12-16T12:33:42.441Z"
   },
   {
    "duration": 208,
    "start_time": "2023-12-16T12:33:42.656Z"
   },
   {
    "duration": 209,
    "start_time": "2023-12-16T12:33:42.866Z"
   },
   {
    "duration": 208,
    "start_time": "2023-12-16T12:33:43.077Z"
   },
   {
    "duration": 221,
    "start_time": "2023-12-16T12:33:43.286Z"
   },
   {
    "duration": 266,
    "start_time": "2023-12-16T12:33:43.509Z"
   },
   {
    "duration": 248,
    "start_time": "2023-12-16T12:33:43.776Z"
   },
   {
    "duration": 209,
    "start_time": "2023-12-16T12:33:44.025Z"
   },
   {
    "duration": 872,
    "start_time": "2023-12-16T12:33:44.235Z"
   },
   {
    "duration": 182,
    "start_time": "2023-12-16T12:33:45.109Z"
   },
   {
    "duration": 177,
    "start_time": "2023-12-16T12:33:45.292Z"
   },
   {
    "duration": 66,
    "start_time": "2023-12-16T12:39:51.299Z"
   },
   {
    "duration": 273,
    "start_time": "2023-12-16T12:44:19.545Z"
   },
   {
    "duration": 698,
    "start_time": "2023-12-16T12:44:49.809Z"
   },
   {
    "duration": 298,
    "start_time": "2023-12-16T12:45:04.042Z"
   },
   {
    "duration": 79,
    "start_time": "2023-12-16T12:48:28.413Z"
   },
   {
    "duration": 278,
    "start_time": "2023-12-16T12:48:37.380Z"
   },
   {
    "duration": 283,
    "start_time": "2023-12-16T12:48:44.981Z"
   },
   {
    "duration": 273,
    "start_time": "2023-12-16T12:48:57.941Z"
   },
   {
    "duration": 1653,
    "start_time": "2023-12-16T12:51:35.094Z"
   },
   {
    "duration": 1647,
    "start_time": "2023-12-16T12:53:45.944Z"
   },
   {
    "duration": 1622,
    "start_time": "2023-12-16T12:53:55.800Z"
   },
   {
    "duration": 6499,
    "start_time": "2023-12-16T12:54:42.784Z"
   },
   {
    "duration": 277,
    "start_time": "2023-12-16T12:58:57.883Z"
   },
   {
    "duration": 295,
    "start_time": "2023-12-16T12:59:05.394Z"
   },
   {
    "duration": 285,
    "start_time": "2023-12-16T13:00:09.971Z"
   },
   {
    "duration": 276,
    "start_time": "2023-12-16T13:00:37.619Z"
   },
   {
    "duration": 282,
    "start_time": "2023-12-16T13:00:52.468Z"
   },
   {
    "duration": 293,
    "start_time": "2023-12-16T13:01:26.661Z"
   },
   {
    "duration": 286,
    "start_time": "2023-12-16T13:01:39.932Z"
   },
   {
    "duration": 282,
    "start_time": "2023-12-16T13:03:03.270Z"
   },
   {
    "duration": 296,
    "start_time": "2023-12-16T13:04:20.382Z"
   },
   {
    "duration": 301,
    "start_time": "2023-12-16T13:04:38.174Z"
   },
   {
    "duration": 246,
    "start_time": "2023-12-16T13:06:41.376Z"
   },
   {
    "duration": 245,
    "start_time": "2023-12-16T13:07:10.903Z"
   },
   {
    "duration": 238,
    "start_time": "2023-12-16T13:08:04.080Z"
   },
   {
    "duration": 249,
    "start_time": "2023-12-16T13:08:18.560Z"
   },
   {
    "duration": 273,
    "start_time": "2023-12-16T13:08:24.418Z"
   },
   {
    "duration": 236,
    "start_time": "2023-12-16T13:08:31.473Z"
   },
   {
    "duration": 231,
    "start_time": "2023-12-16T13:10:50.163Z"
   },
   {
    "duration": 175,
    "start_time": "2023-12-16T13:14:51.437Z"
   },
   {
    "duration": 18,
    "start_time": "2023-12-16T13:16:13.750Z"
   },
   {
    "duration": 157,
    "start_time": "2023-12-16T13:21:06.153Z"
   },
   {
    "duration": 169,
    "start_time": "2023-12-16T13:21:13.920Z"
   },
   {
    "duration": 768,
    "start_time": "2023-12-17T12:16:00.450Z"
   },
   {
    "duration": 10,
    "start_time": "2023-12-17T12:16:01.220Z"
   },
   {
    "duration": 47,
    "start_time": "2023-12-17T12:16:01.232Z"
   },
   {
    "duration": 32,
    "start_time": "2023-12-17T12:16:01.282Z"
   },
   {
    "duration": 44,
    "start_time": "2023-12-17T12:16:01.316Z"
   },
   {
    "duration": 40,
    "start_time": "2023-12-17T12:16:01.362Z"
   },
   {
    "duration": 86,
    "start_time": "2023-12-17T12:16:01.403Z"
   },
   {
    "duration": 6,
    "start_time": "2023-12-17T12:16:01.490Z"
   },
   {
    "duration": 34,
    "start_time": "2023-12-17T12:16:01.497Z"
   },
   {
    "duration": 45,
    "start_time": "2023-12-17T12:16:01.534Z"
   },
   {
    "duration": 48,
    "start_time": "2023-12-17T12:16:01.581Z"
   },
   {
    "duration": 134,
    "start_time": "2023-12-17T12:16:01.631Z"
   },
   {
    "duration": 18,
    "start_time": "2023-12-17T12:16:01.766Z"
   },
   {
    "duration": 52,
    "start_time": "2023-12-17T12:16:01.786Z"
   },
   {
    "duration": 140,
    "start_time": "2023-12-17T12:16:01.840Z"
   },
   {
    "duration": 694,
    "start_time": "2023-12-17T12:16:01.982Z"
   },
   {
    "duration": 119,
    "start_time": "2023-12-17T12:16:02.678Z"
   },
   {
    "duration": 128,
    "start_time": "2023-12-17T12:16:02.798Z"
   },
   {
    "duration": 128,
    "start_time": "2023-12-17T12:16:02.928Z"
   },
   {
    "duration": 227,
    "start_time": "2023-12-17T12:16:03.058Z"
   },
   {
    "duration": 176,
    "start_time": "2023-12-17T12:16:03.287Z"
   },
   {
    "duration": 148,
    "start_time": "2023-12-17T12:16:03.465Z"
   },
   {
    "duration": 163,
    "start_time": "2023-12-17T12:16:03.614Z"
   },
   {
    "duration": 145,
    "start_time": "2023-12-17T12:16:03.779Z"
   },
   {
    "duration": 153,
    "start_time": "2023-12-17T12:16:03.925Z"
   },
   {
    "duration": 176,
    "start_time": "2023-12-17T12:16:04.079Z"
   },
   {
    "duration": 171,
    "start_time": "2023-12-17T12:16:04.257Z"
   },
   {
    "duration": 16,
    "start_time": "2023-12-17T12:16:04.433Z"
   },
   {
    "duration": 251,
    "start_time": "2023-12-17T12:16:04.451Z"
   },
   {
    "duration": 250,
    "start_time": "2023-12-17T12:16:04.704Z"
   },
   {
    "duration": 254,
    "start_time": "2023-12-17T12:16:04.956Z"
   },
   {
    "duration": 311,
    "start_time": "2023-12-17T12:16:05.212Z"
   },
   {
    "duration": 380,
    "start_time": "2023-12-17T12:16:05.525Z"
   },
   {
    "duration": 266,
    "start_time": "2023-12-17T12:16:05.907Z"
   },
   {
    "duration": 272,
    "start_time": "2023-12-17T12:16:06.174Z"
   },
   {
    "duration": 219,
    "start_time": "2023-12-17T12:16:06.448Z"
   },
   {
    "duration": 715,
    "start_time": "2023-12-17T12:16:06.669Z"
   },
   {
    "duration": 244,
    "start_time": "2023-12-17T12:16:07.386Z"
   },
   {
    "duration": 194,
    "start_time": "2023-12-17T12:16:07.632Z"
   },
   {
    "duration": 2911,
    "start_time": "2023-12-18T20:48:04.445Z"
   },
   {
    "duration": 1902,
    "start_time": "2023-12-18T20:48:16.500Z"
   },
   {
    "duration": 7,
    "start_time": "2023-12-18T20:48:18.404Z"
   },
   {
    "duration": 24,
    "start_time": "2023-12-18T20:48:18.412Z"
   },
   {
    "duration": 6,
    "start_time": "2023-12-18T20:48:18.437Z"
   },
   {
    "duration": 13,
    "start_time": "2023-12-18T20:48:18.444Z"
   },
   {
    "duration": 6,
    "start_time": "2023-12-18T20:48:18.458Z"
   },
   {
    "duration": 48,
    "start_time": "2023-12-18T20:48:18.465Z"
   },
   {
    "duration": 4,
    "start_time": "2023-12-18T20:48:18.514Z"
   },
   {
    "duration": 4,
    "start_time": "2023-12-18T20:48:18.520Z"
   },
   {
    "duration": 5,
    "start_time": "2023-12-18T20:48:18.526Z"
   },
   {
    "duration": 20,
    "start_time": "2023-12-18T20:48:18.533Z"
   },
   {
    "duration": 111,
    "start_time": "2023-12-18T20:48:18.555Z"
   },
   {
    "duration": 31,
    "start_time": "2023-12-18T20:48:18.667Z"
   },
   {
    "duration": 9,
    "start_time": "2023-12-18T20:48:18.700Z"
   },
   {
    "duration": 5,
    "start_time": "2023-12-18T20:48:18.710Z"
   },
   {
    "duration": 135,
    "start_time": "2023-12-18T20:48:18.717Z"
   },
   {
    "duration": 100,
    "start_time": "2023-12-18T20:48:18.853Z"
   },
   {
    "duration": 138,
    "start_time": "2023-12-18T20:48:18.954Z"
   },
   {
    "duration": 108,
    "start_time": "2023-12-18T20:48:19.093Z"
   },
   {
    "duration": 115,
    "start_time": "2023-12-18T20:48:19.203Z"
   },
   {
    "duration": 122,
    "start_time": "2023-12-18T20:48:19.320Z"
   },
   {
    "duration": 114,
    "start_time": "2023-12-18T20:48:19.443Z"
   },
   {
    "duration": 200,
    "start_time": "2023-12-18T20:48:19.559Z"
   },
   {
    "duration": 136,
    "start_time": "2023-12-18T20:48:19.760Z"
   },
   {
    "duration": 104,
    "start_time": "2023-12-18T20:48:19.898Z"
   },
   {
    "duration": 157,
    "start_time": "2023-12-18T20:48:20.004Z"
   },
   {
    "duration": 135,
    "start_time": "2023-12-18T20:48:20.162Z"
   },
   {
    "duration": 11,
    "start_time": "2023-12-18T20:48:20.300Z"
   },
   {
    "duration": 208,
    "start_time": "2023-12-18T20:48:20.312Z"
   },
   {
    "duration": 185,
    "start_time": "2023-12-18T20:48:20.521Z"
   },
   {
    "duration": 204,
    "start_time": "2023-12-18T20:48:20.707Z"
   },
   {
    "duration": 199,
    "start_time": "2023-12-18T20:48:20.912Z"
   },
   {
    "duration": 284,
    "start_time": "2023-12-18T20:48:21.112Z"
   },
   {
    "duration": 250,
    "start_time": "2023-12-18T20:48:21.397Z"
   },
   {
    "duration": 257,
    "start_time": "2023-12-18T20:48:21.649Z"
   },
   {
    "duration": 203,
    "start_time": "2023-12-18T20:48:21.907Z"
   },
   {
    "duration": 758,
    "start_time": "2023-12-18T20:48:22.112Z"
   },
   {
    "duration": 181,
    "start_time": "2023-12-18T20:48:22.871Z"
   },
   {
    "duration": 175,
    "start_time": "2023-12-18T20:48:23.053Z"
   },
   {
    "duration": 321,
    "start_time": "2023-12-18T21:09:50.626Z"
   },
   {
    "duration": 227,
    "start_time": "2023-12-18T21:10:06.589Z"
   },
   {
    "duration": 233,
    "start_time": "2023-12-18T21:10:25.141Z"
   },
   {
    "duration": 174,
    "start_time": "2023-12-18T21:12:44.272Z"
   },
   {
    "duration": 135,
    "start_time": "2023-12-18T21:12:52.968Z"
   },
   {
    "duration": 136,
    "start_time": "2023-12-18T21:13:11.792Z"
   },
   {
    "duration": 14,
    "start_time": "2023-12-18T21:17:59.705Z"
   },
   {
    "duration": 7,
    "start_time": "2023-12-18T21:19:42.814Z"
   },
   {
    "duration": 111,
    "start_time": "2023-12-18T21:20:01.570Z"
   },
   {
    "duration": 7,
    "start_time": "2023-12-18T21:20:01.683Z"
   },
   {
    "duration": 6,
    "start_time": "2023-12-18T21:20:05.590Z"
   },
   {
    "duration": 117,
    "start_time": "2023-12-18T21:23:39.461Z"
   },
   {
    "duration": 12,
    "start_time": "2023-12-18T21:23:39.579Z"
   },
   {
    "duration": 72,
    "start_time": "2023-12-18T21:23:44.177Z"
   },
   {
    "duration": 76,
    "start_time": "2023-12-18T21:24:12.441Z"
   },
   {
    "duration": 10,
    "start_time": "2023-12-18T21:24:18.538Z"
   },
   {
    "duration": 78,
    "start_time": "2023-12-18T21:30:57.703Z"
   },
   {
    "duration": 1163,
    "start_time": "2023-12-18T21:31:11.943Z"
   },
   {
    "duration": 1159,
    "start_time": "2023-12-18T21:31:24.408Z"
   },
   {
    "duration": 1079,
    "start_time": "2023-12-18T21:31:36.768Z"
   },
   {
    "duration": 1150,
    "start_time": "2023-12-18T21:32:03.695Z"
   },
   {
    "duration": 8,
    "start_time": "2023-12-18T21:32:23.616Z"
   },
   {
    "duration": 5,
    "start_time": "2023-12-18T21:32:31.399Z"
   },
   {
    "duration": 11,
    "start_time": "2023-12-18T21:32:57.912Z"
   },
   {
    "duration": 7,
    "start_time": "2023-12-18T21:33:12.960Z"
   },
   {
    "duration": 65,
    "start_time": "2023-12-18T21:34:23.489Z"
   },
   {
    "duration": 6,
    "start_time": "2023-12-18T21:34:28.009Z"
   },
   {
    "duration": 20,
    "start_time": "2023-12-18T21:36:01.387Z"
   },
   {
    "duration": 9,
    "start_time": "2023-12-18T21:40:33.990Z"
   },
   {
    "duration": 14,
    "start_time": "2023-12-18T21:47:34.739Z"
   },
   {
    "duration": 29,
    "start_time": "2023-12-18T21:48:30.675Z"
   },
   {
    "duration": 14,
    "start_time": "2023-12-18T21:49:25.212Z"
   },
   {
    "duration": 75,
    "start_time": "2023-12-18T21:50:23.469Z"
   },
   {
    "duration": 70,
    "start_time": "2023-12-18T21:50:24.788Z"
   },
   {
    "duration": 56,
    "start_time": "2023-12-18T21:54:25.159Z"
   },
   {
    "duration": 55,
    "start_time": "2023-12-18T21:57:46.058Z"
   },
   {
    "duration": 59,
    "start_time": "2023-12-18T21:59:33.619Z"
   },
   {
    "duration": 44,
    "start_time": "2023-12-18T21:59:39.515Z"
   },
   {
    "duration": 32,
    "start_time": "2023-12-18T21:59:44.875Z"
   },
   {
    "duration": 35,
    "start_time": "2023-12-18T22:06:56.473Z"
   },
   {
    "duration": 54,
    "start_time": "2023-12-18T22:13:48.518Z"
   },
   {
    "duration": 55,
    "start_time": "2023-12-18T22:15:24.486Z"
   },
   {
    "duration": 55,
    "start_time": "2023-12-18T22:16:42.063Z"
   },
   {
    "duration": 124,
    "start_time": "2023-12-18T22:16:52.346Z"
   },
   {
    "duration": 10,
    "start_time": "2023-12-18T22:16:52.473Z"
   },
   {
    "duration": 25,
    "start_time": "2023-12-18T22:16:52.484Z"
   },
   {
    "duration": 9,
    "start_time": "2023-12-18T22:16:52.511Z"
   },
   {
    "duration": 24,
    "start_time": "2023-12-18T22:16:52.522Z"
   },
   {
    "duration": 6,
    "start_time": "2023-12-18T22:16:52.548Z"
   },
   {
    "duration": 59,
    "start_time": "2023-12-18T22:16:55.527Z"
   },
   {
    "duration": 43,
    "start_time": "2023-12-18T22:17:45.800Z"
   },
   {
    "duration": 109,
    "start_time": "2023-12-18T22:18:27.291Z"
   },
   {
    "duration": 7,
    "start_time": "2023-12-18T22:18:27.401Z"
   },
   {
    "duration": 12,
    "start_time": "2023-12-18T22:18:27.409Z"
   },
   {
    "duration": 7,
    "start_time": "2023-12-18T22:18:27.422Z"
   },
   {
    "duration": 19,
    "start_time": "2023-12-18T22:18:27.430Z"
   },
   {
    "duration": 25,
    "start_time": "2023-12-18T22:18:27.450Z"
   },
   {
    "duration": 43,
    "start_time": "2023-12-18T22:18:31.344Z"
   },
   {
    "duration": 40,
    "start_time": "2023-12-18T22:20:53.400Z"
   },
   {
    "duration": 57,
    "start_time": "2023-12-18T22:21:57.800Z"
   },
   {
    "duration": 44,
    "start_time": "2023-12-18T22:22:23.624Z"
   },
   {
    "duration": 107,
    "start_time": "2023-12-18T22:27:37.385Z"
   },
   {
    "duration": 6,
    "start_time": "2023-12-18T22:27:37.494Z"
   },
   {
    "duration": 22,
    "start_time": "2023-12-18T22:27:37.501Z"
   },
   {
    "duration": 12,
    "start_time": "2023-12-18T22:27:37.525Z"
   },
   {
    "duration": 12,
    "start_time": "2023-12-18T22:27:37.538Z"
   },
   {
    "duration": 7,
    "start_time": "2023-12-18T22:27:37.551Z"
   },
   {
    "duration": 48,
    "start_time": "2023-12-18T22:27:37.559Z"
   },
   {
    "duration": 5,
    "start_time": "2023-12-18T22:27:37.608Z"
   },
   {
    "duration": 14,
    "start_time": "2023-12-18T22:27:37.614Z"
   },
   {
    "duration": 7,
    "start_time": "2023-12-18T22:27:37.630Z"
   },
   {
    "duration": 29,
    "start_time": "2023-12-18T22:27:37.638Z"
   },
   {
    "duration": 87,
    "start_time": "2023-12-18T22:27:37.669Z"
   },
   {
    "duration": 25,
    "start_time": "2023-12-18T22:27:37.757Z"
   },
   {
    "duration": 9,
    "start_time": "2023-12-18T22:27:37.783Z"
   },
   {
    "duration": 6,
    "start_time": "2023-12-18T22:27:37.794Z"
   },
   {
    "duration": 142,
    "start_time": "2023-12-18T22:27:58.160Z"
   },
   {
    "duration": 148,
    "start_time": "2023-12-18T22:28:42.196Z"
   },
   {
    "duration": 196,
    "start_time": "2023-12-18T22:28:58.873Z"
   },
   {
    "duration": 109,
    "start_time": "2023-12-18T22:29:08.905Z"
   },
   {
    "duration": 1267,
    "start_time": "2023-12-18T22:29:14.849Z"
   },
   {
    "duration": 330,
    "start_time": "2023-12-18T22:31:07.417Z"
   },
   {
    "duration": 193,
    "start_time": "2023-12-18T22:32:17.402Z"
   },
   {
    "duration": 190,
    "start_time": "2023-12-18T22:32:37.650Z"
   },
   {
    "duration": 683,
    "start_time": "2023-12-19T17:15:23.784Z"
   },
   {
    "duration": 424,
    "start_time": "2023-12-19T17:15:31.085Z"
   },
   {
    "duration": 9,
    "start_time": "2023-12-19T17:15:31.511Z"
   },
   {
    "duration": 56,
    "start_time": "2023-12-19T17:15:31.522Z"
   },
   {
    "duration": 46,
    "start_time": "2023-12-19T17:15:31.580Z"
   },
   {
    "duration": 55,
    "start_time": "2023-12-19T17:15:31.627Z"
   },
   {
    "duration": 52,
    "start_time": "2023-12-19T17:15:31.684Z"
   },
   {
    "duration": 71,
    "start_time": "2023-12-19T17:15:31.738Z"
   },
   {
    "duration": 5,
    "start_time": "2023-12-19T17:15:31.811Z"
   },
   {
    "duration": 28,
    "start_time": "2023-12-19T17:15:31.817Z"
   },
   {
    "duration": 66,
    "start_time": "2023-12-19T17:15:31.847Z"
   },
   {
    "duration": 64,
    "start_time": "2023-12-19T17:15:31.915Z"
   },
   {
    "duration": 157,
    "start_time": "2023-12-19T17:15:31.981Z"
   },
   {
    "duration": 15,
    "start_time": "2023-12-19T17:15:32.140Z"
   },
   {
    "duration": 38,
    "start_time": "2023-12-19T17:15:32.157Z"
   },
   {
    "duration": 43,
    "start_time": "2023-12-19T17:15:32.196Z"
   },
   {
    "duration": 265,
    "start_time": "2023-12-19T17:15:33.977Z"
   },
   {
    "duration": 235,
    "start_time": "2023-12-19T17:15:47.753Z"
   },
   {
    "duration": 296,
    "start_time": "2023-12-19T17:17:05.762Z"
   },
   {
    "duration": 237,
    "start_time": "2023-12-19T17:18:06.851Z"
   },
   {
    "duration": 245,
    "start_time": "2023-12-19T17:18:30.635Z"
   },
   {
    "duration": 243,
    "start_time": "2023-12-19T17:18:40.115Z"
   },
   {
    "duration": 238,
    "start_time": "2023-12-19T17:18:48.683Z"
   },
   {
    "duration": 308,
    "start_time": "2023-12-19T17:18:57.499Z"
   },
   {
    "duration": 240,
    "start_time": "2023-12-19T17:20:29.084Z"
   },
   {
    "duration": 225,
    "start_time": "2023-12-19T17:20:40.180Z"
   },
   {
    "duration": 765,
    "start_time": "2023-12-19T17:24:23.495Z"
   },
   {
    "duration": 141,
    "start_time": "2023-12-19T17:24:58.792Z"
   },
   {
    "duration": 137,
    "start_time": "2023-12-19T17:25:23.936Z"
   },
   {
    "duration": 129,
    "start_time": "2023-12-19T17:25:58.456Z"
   },
   {
    "duration": 63,
    "start_time": "2023-12-19T17:27:22.665Z"
   },
   {
    "duration": 50,
    "start_time": "2023-12-19T17:27:27.297Z"
   },
   {
    "duration": 137,
    "start_time": "2023-12-19T17:27:40.281Z"
   },
   {
    "duration": 140,
    "start_time": "2023-12-19T17:27:48.549Z"
   },
   {
    "duration": 8,
    "start_time": "2023-12-19T17:27:48.690Z"
   },
   {
    "duration": 19,
    "start_time": "2023-12-19T17:27:48.715Z"
   },
   {
    "duration": 10,
    "start_time": "2023-12-19T17:27:48.737Z"
   },
   {
    "duration": 16,
    "start_time": "2023-12-19T17:27:48.749Z"
   },
   {
    "duration": 17,
    "start_time": "2023-12-19T17:27:48.767Z"
   },
   {
    "duration": 67,
    "start_time": "2023-12-19T17:27:48.786Z"
   },
   {
    "duration": 6,
    "start_time": "2023-12-19T17:27:48.855Z"
   },
   {
    "duration": 14,
    "start_time": "2023-12-19T17:27:48.862Z"
   },
   {
    "duration": 22,
    "start_time": "2023-12-19T17:27:48.878Z"
   },
   {
    "duration": 39,
    "start_time": "2023-12-19T17:27:48.902Z"
   },
   {
    "duration": 87,
    "start_time": "2023-12-19T17:27:48.943Z"
   },
   {
    "duration": 15,
    "start_time": "2023-12-19T17:27:49.032Z"
   },
   {
    "duration": 13,
    "start_time": "2023-12-19T17:27:49.049Z"
   },
   {
    "duration": 10,
    "start_time": "2023-12-19T17:27:49.064Z"
   },
   {
    "duration": 254,
    "start_time": "2023-12-19T17:27:49.075Z"
   },
   {
    "duration": 250,
    "start_time": "2023-12-19T17:27:49.331Z"
   },
   {
    "duration": 138,
    "start_time": "2023-12-19T17:27:49.583Z"
   },
   {
    "duration": 124,
    "start_time": "2023-12-19T17:27:49.723Z"
   },
   {
    "duration": 126,
    "start_time": "2023-12-19T17:27:49.849Z"
   },
   {
    "duration": 120,
    "start_time": "2023-12-19T17:27:49.977Z"
   },
   {
    "duration": 124,
    "start_time": "2023-12-19T17:27:50.099Z"
   },
   {
    "duration": 132,
    "start_time": "2023-12-19T17:27:50.225Z"
   },
   {
    "duration": 123,
    "start_time": "2023-12-19T17:27:50.358Z"
   },
   {
    "duration": 138,
    "start_time": "2023-12-19T17:27:50.483Z"
   },
   {
    "duration": 153,
    "start_time": "2023-12-19T17:27:50.623Z"
   },
   {
    "duration": 121,
    "start_time": "2023-12-19T17:27:50.778Z"
   },
   {
    "duration": 180,
    "start_time": "2023-12-19T17:27:50.904Z"
   },
   {
    "duration": 132,
    "start_time": "2023-12-19T17:27:51.086Z"
   },
   {
    "duration": 13,
    "start_time": "2023-12-19T17:27:51.219Z"
   },
   {
    "duration": 212,
    "start_time": "2023-12-19T17:27:51.233Z"
   },
   {
    "duration": 203,
    "start_time": "2023-12-19T17:27:51.447Z"
   },
   {
    "duration": 212,
    "start_time": "2023-12-19T17:27:51.652Z"
   },
   {
    "duration": 234,
    "start_time": "2023-12-19T17:27:51.866Z"
   },
   {
    "duration": 322,
    "start_time": "2023-12-19T17:27:52.102Z"
   },
   {
    "duration": 259,
    "start_time": "2023-12-19T17:27:52.426Z"
   },
   {
    "duration": 395,
    "start_time": "2023-12-19T17:27:52.687Z"
   },
   {
    "duration": 214,
    "start_time": "2023-12-19T17:27:53.084Z"
   },
   {
    "duration": 642,
    "start_time": "2023-12-19T17:27:53.299Z"
   },
   {
    "duration": 191,
    "start_time": "2023-12-19T17:27:53.943Z"
   },
   {
    "duration": 169,
    "start_time": "2023-12-19T17:27:54.136Z"
   },
   {
    "duration": 134,
    "start_time": "2023-12-19T17:29:59.587Z"
   },
   {
    "duration": 133,
    "start_time": "2023-12-19T17:30:06.123Z"
   },
   {
    "duration": 237,
    "start_time": "2023-12-19T17:30:44.619Z"
   },
   {
    "duration": 132,
    "start_time": "2023-12-19T17:31:36.692Z"
   },
   {
    "duration": 170,
    "start_time": "2023-12-19T17:31:57.220Z"
   },
   {
    "duration": 312,
    "start_time": "2023-12-19T17:32:37.508Z"
   },
   {
    "duration": 160,
    "start_time": "2023-12-19T17:33:28.653Z"
   },
   {
    "duration": 140,
    "start_time": "2023-12-19T17:34:27.909Z"
   },
   {
    "duration": 130,
    "start_time": "2023-12-19T17:34:36.574Z"
   },
   {
    "duration": 127,
    "start_time": "2023-12-19T17:34:41.333Z"
   },
   {
    "duration": 125,
    "start_time": "2023-12-19T17:34:44.454Z"
   },
   {
    "duration": 123,
    "start_time": "2023-12-19T17:34:51.383Z"
   },
   {
    "duration": 141,
    "start_time": "2023-12-19T17:35:00.022Z"
   },
   {
    "duration": 141,
    "start_time": "2023-12-19T17:35:40.487Z"
   },
   {
    "duration": 137,
    "start_time": "2023-12-19T17:36:18.848Z"
   },
   {
    "duration": 132,
    "start_time": "2023-12-19T17:36:32.032Z"
   },
   {
    "duration": 130,
    "start_time": "2023-12-19T17:36:39.480Z"
   },
   {
    "duration": 137,
    "start_time": "2023-12-19T17:37:06.904Z"
   },
   {
    "duration": 141,
    "start_time": "2023-12-19T17:37:22.856Z"
   },
   {
    "duration": 132,
    "start_time": "2023-12-19T17:37:54.249Z"
   },
   {
    "duration": 118,
    "start_time": "2023-12-19T17:38:18.321Z"
   },
   {
    "duration": 130,
    "start_time": "2023-12-19T17:38:57.914Z"
   },
   {
    "duration": 121,
    "start_time": "2023-12-19T17:39:52.179Z"
   },
   {
    "duration": 130,
    "start_time": "2023-12-19T17:40:07.490Z"
   },
   {
    "duration": 250,
    "start_time": "2023-12-19T17:40:40.011Z"
   },
   {
    "duration": 613,
    "start_time": "2023-12-19T17:41:27.180Z"
   },
   {
    "duration": 372,
    "start_time": "2023-12-19T17:42:32.628Z"
   },
   {
    "duration": 2,
    "start_time": "2023-12-19T17:42:41.860Z"
   },
   {
    "duration": 336,
    "start_time": "2023-12-19T17:43:11.669Z"
   },
   {
    "duration": 265,
    "start_time": "2023-12-19T17:43:28.622Z"
   },
   {
    "duration": 387,
    "start_time": "2023-12-19T17:45:17.119Z"
   },
   {
    "duration": 250,
    "start_time": "2023-12-19T17:45:23.510Z"
   },
   {
    "duration": 109,
    "start_time": "2023-12-19T17:49:42.098Z"
   },
   {
    "duration": 115,
    "start_time": "2023-12-19T17:50:33.602Z"
   },
   {
    "duration": 109,
    "start_time": "2023-12-19T17:50:41.594Z"
   },
   {
    "duration": 115,
    "start_time": "2023-12-19T17:50:52.779Z"
   },
   {
    "duration": 117,
    "start_time": "2023-12-19T17:50:58.499Z"
   },
   {
    "duration": 119,
    "start_time": "2023-12-19T17:51:01.443Z"
   },
   {
    "duration": 119,
    "start_time": "2023-12-19T17:51:12.763Z"
   },
   {
    "duration": 114,
    "start_time": "2023-12-19T17:51:18.962Z"
   },
   {
    "duration": 122,
    "start_time": "2023-12-19T17:51:28.363Z"
   },
   {
    "duration": 131,
    "start_time": "2023-12-19T17:51:54.836Z"
   },
   {
    "duration": 120,
    "start_time": "2023-12-19T17:52:01.535Z"
   },
   {
    "duration": 6,
    "start_time": "2023-12-19T17:52:01.657Z"
   },
   {
    "duration": 28,
    "start_time": "2023-12-19T17:52:01.665Z"
   },
   {
    "duration": 57,
    "start_time": "2023-12-19T17:52:01.695Z"
   },
   {
    "duration": 45,
    "start_time": "2023-12-19T17:52:01.754Z"
   },
   {
    "duration": 46,
    "start_time": "2023-12-19T17:52:01.801Z"
   },
   {
    "duration": 70,
    "start_time": "2023-12-19T17:52:01.848Z"
   },
   {
    "duration": 18,
    "start_time": "2023-12-19T17:52:01.919Z"
   },
   {
    "duration": 33,
    "start_time": "2023-12-19T17:52:01.939Z"
   },
   {
    "duration": 40,
    "start_time": "2023-12-19T17:52:01.975Z"
   },
   {
    "duration": 56,
    "start_time": "2023-12-19T17:52:02.017Z"
   },
   {
    "duration": 101,
    "start_time": "2023-12-19T17:52:02.075Z"
   },
   {
    "duration": 15,
    "start_time": "2023-12-19T17:52:02.178Z"
   },
   {
    "duration": 33,
    "start_time": "2023-12-19T17:52:02.195Z"
   },
   {
    "duration": 17,
    "start_time": "2023-12-19T17:52:02.229Z"
   },
   {
    "duration": 247,
    "start_time": "2023-12-19T17:52:02.248Z"
   },
   {
    "duration": 2,
    "start_time": "2023-12-19T17:52:02.497Z"
   },
   {
    "duration": 129,
    "start_time": "2023-12-19T17:52:07.932Z"
   },
   {
    "duration": 132,
    "start_time": "2023-12-19T17:52:32.204Z"
   },
   {
    "duration": 124,
    "start_time": "2023-12-19T17:52:53.836Z"
   },
   {
    "duration": 134,
    "start_time": "2023-12-19T17:53:03.324Z"
   },
   {
    "duration": 143,
    "start_time": "2023-12-19T17:53:10.893Z"
   },
   {
    "duration": 137,
    "start_time": "2023-12-19T17:53:27.053Z"
   },
   {
    "duration": 132,
    "start_time": "2023-12-19T17:53:41.362Z"
   },
   {
    "duration": 329,
    "start_time": "2023-12-19T17:53:48.653Z"
   },
   {
    "duration": 144,
    "start_time": "2023-12-19T17:54:10.213Z"
   },
   {
    "duration": 118,
    "start_time": "2023-12-19T17:54:15.585Z"
   },
   {
    "duration": 11,
    "start_time": "2023-12-19T17:54:15.704Z"
   },
   {
    "duration": 15,
    "start_time": "2023-12-19T17:54:15.716Z"
   },
   {
    "duration": 8,
    "start_time": "2023-12-19T17:54:15.732Z"
   },
   {
    "duration": 13,
    "start_time": "2023-12-19T17:54:15.742Z"
   },
   {
    "duration": 20,
    "start_time": "2023-12-19T17:54:15.757Z"
   },
   {
    "duration": 64,
    "start_time": "2023-12-19T17:54:15.779Z"
   },
   {
    "duration": 5,
    "start_time": "2023-12-19T17:54:15.844Z"
   },
   {
    "duration": 4,
    "start_time": "2023-12-19T17:54:15.851Z"
   },
   {
    "duration": 16,
    "start_time": "2023-12-19T17:54:15.857Z"
   },
   {
    "duration": 36,
    "start_time": "2023-12-19T17:54:15.875Z"
   },
   {
    "duration": 85,
    "start_time": "2023-12-19T17:54:15.913Z"
   },
   {
    "duration": 22,
    "start_time": "2023-12-19T17:54:16.000Z"
   },
   {
    "duration": 9,
    "start_time": "2023-12-19T17:54:16.024Z"
   },
   {
    "duration": 6,
    "start_time": "2023-12-19T17:54:16.034Z"
   },
   {
    "duration": 277,
    "start_time": "2023-12-19T17:54:16.041Z"
   },
   {
    "duration": 2,
    "start_time": "2023-12-19T17:54:16.319Z"
   },
   {
    "duration": 154,
    "start_time": "2023-12-19T17:54:20.813Z"
   },
   {
    "duration": 128,
    "start_time": "2023-12-19T17:56:22.730Z"
   },
   {
    "duration": 7,
    "start_time": "2023-12-19T17:56:22.860Z"
   },
   {
    "duration": 10,
    "start_time": "2023-12-19T17:56:22.869Z"
   },
   {
    "duration": 8,
    "start_time": "2023-12-19T17:56:22.881Z"
   },
   {
    "duration": 33,
    "start_time": "2023-12-19T17:56:22.890Z"
   },
   {
    "duration": 5,
    "start_time": "2023-12-19T17:56:22.925Z"
   },
   {
    "duration": 53,
    "start_time": "2023-12-19T17:56:22.932Z"
   },
   {
    "duration": 5,
    "start_time": "2023-12-19T17:56:22.986Z"
   },
   {
    "duration": 25,
    "start_time": "2023-12-19T17:56:22.993Z"
   },
   {
    "duration": 11,
    "start_time": "2023-12-19T17:56:23.021Z"
   },
   {
    "duration": 30,
    "start_time": "2023-12-19T17:56:23.033Z"
   },
   {
    "duration": 98,
    "start_time": "2023-12-19T17:56:23.065Z"
   },
   {
    "duration": 16,
    "start_time": "2023-12-19T17:56:23.164Z"
   },
   {
    "duration": 10,
    "start_time": "2023-12-19T17:56:23.181Z"
   },
   {
    "duration": 23,
    "start_time": "2023-12-19T17:56:23.193Z"
   },
   {
    "duration": 239,
    "start_time": "2023-12-19T17:56:25.519Z"
   },
   {
    "duration": 118,
    "start_time": "2023-12-19T17:56:48.279Z"
   },
   {
    "duration": 132,
    "start_time": "2023-12-19T17:56:55.607Z"
   },
   {
    "duration": 245,
    "start_time": "2023-12-19T17:57:15.544Z"
   },
   {
    "duration": 244,
    "start_time": "2023-12-19T17:57:36.447Z"
   },
   {
    "duration": 240,
    "start_time": "2023-12-19T17:57:40.352Z"
   },
   {
    "duration": 254,
    "start_time": "2023-12-19T17:57:47.536Z"
   },
   {
    "duration": 433,
    "start_time": "2023-12-19T18:03:27.068Z"
   },
   {
    "duration": 239,
    "start_time": "2023-12-19T18:04:10.788Z"
   },
   {
    "duration": 255,
    "start_time": "2023-12-19T18:04:17.308Z"
   },
   {
    "duration": 245,
    "start_time": "2023-12-19T18:04:25.316Z"
   },
   {
    "duration": 102,
    "start_time": "2023-12-19T18:08:08.247Z"
   },
   {
    "duration": 124,
    "start_time": "2023-12-19T18:08:49.304Z"
   },
   {
    "duration": 103,
    "start_time": "2023-12-19T18:09:12.648Z"
   },
   {
    "duration": 106,
    "start_time": "2023-12-19T18:09:24.784Z"
   },
   {
    "duration": 237,
    "start_time": "2023-12-19T18:10:06.729Z"
   },
   {
    "duration": 248,
    "start_time": "2023-12-19T18:12:59.786Z"
   },
   {
    "duration": 405,
    "start_time": "2023-12-19T18:13:07.842Z"
   },
   {
    "duration": 252,
    "start_time": "2023-12-19T18:16:01.909Z"
   },
   {
    "duration": 123,
    "start_time": "2023-12-19T18:18:04.567Z"
   },
   {
    "duration": 7,
    "start_time": "2023-12-19T18:18:04.692Z"
   },
   {
    "duration": 16,
    "start_time": "2023-12-19T18:18:04.700Z"
   },
   {
    "duration": 249,
    "start_time": "2023-12-19T18:18:06.590Z"
   },
   {
    "duration": 239,
    "start_time": "2023-12-19T18:19:18.455Z"
   },
   {
    "duration": 236,
    "start_time": "2023-12-19T18:20:43.288Z"
   },
   {
    "duration": 233,
    "start_time": "2023-12-19T18:20:58.552Z"
   },
   {
    "duration": 248,
    "start_time": "2023-12-19T18:21:01.753Z"
   },
   {
    "duration": 119,
    "start_time": "2023-12-19T18:21:53.909Z"
   },
   {
    "duration": 7,
    "start_time": "2023-12-19T18:21:54.030Z"
   },
   {
    "duration": 10,
    "start_time": "2023-12-19T18:21:54.038Z"
   },
   {
    "duration": 8,
    "start_time": "2023-12-19T18:21:54.050Z"
   },
   {
    "duration": 13,
    "start_time": "2023-12-19T18:21:54.059Z"
   },
   {
    "duration": 5,
    "start_time": "2023-12-19T18:21:54.074Z"
   },
   {
    "duration": 78,
    "start_time": "2023-12-19T18:21:54.080Z"
   },
   {
    "duration": 5,
    "start_time": "2023-12-19T18:21:54.160Z"
   },
   {
    "duration": 6,
    "start_time": "2023-12-19T18:21:54.167Z"
   },
   {
    "duration": 6,
    "start_time": "2023-12-19T18:21:54.175Z"
   },
   {
    "duration": 44,
    "start_time": "2023-12-19T18:21:54.182Z"
   },
   {
    "duration": 88,
    "start_time": "2023-12-19T18:21:54.228Z"
   },
   {
    "duration": 15,
    "start_time": "2023-12-19T18:21:54.317Z"
   },
   {
    "duration": 9,
    "start_time": "2023-12-19T18:21:54.334Z"
   },
   {
    "duration": 6,
    "start_time": "2023-12-19T18:21:54.344Z"
   },
   {
    "duration": 271,
    "start_time": "2023-12-19T18:21:54.351Z"
   },
   {
    "duration": 131,
    "start_time": "2023-12-19T18:21:54.624Z"
   },
   {
    "duration": 293,
    "start_time": "2023-12-19T18:22:02.729Z"
   },
   {
    "duration": 119,
    "start_time": "2023-12-19T18:22:17.365Z"
   },
   {
    "duration": 7,
    "start_time": "2023-12-19T18:22:17.485Z"
   },
   {
    "duration": 21,
    "start_time": "2023-12-19T18:22:17.494Z"
   },
   {
    "duration": 12,
    "start_time": "2023-12-19T18:22:17.517Z"
   },
   {
    "duration": 30,
    "start_time": "2023-12-19T18:22:17.531Z"
   },
   {
    "duration": 5,
    "start_time": "2023-12-19T18:22:17.563Z"
   },
   {
    "duration": 64,
    "start_time": "2023-12-19T18:22:17.570Z"
   },
   {
    "duration": 5,
    "start_time": "2023-12-19T18:22:17.635Z"
   },
   {
    "duration": 11,
    "start_time": "2023-12-19T18:22:17.642Z"
   },
   {
    "duration": 8,
    "start_time": "2023-12-19T18:22:17.656Z"
   },
   {
    "duration": 26,
    "start_time": "2023-12-19T18:22:17.666Z"
   },
   {
    "duration": 99,
    "start_time": "2023-12-19T18:22:17.694Z"
   },
   {
    "duration": 26,
    "start_time": "2023-12-19T18:22:17.794Z"
   },
   {
    "duration": 9,
    "start_time": "2023-12-19T18:22:17.822Z"
   },
   {
    "duration": 5,
    "start_time": "2023-12-19T18:22:17.833Z"
   },
   {
    "duration": 264,
    "start_time": "2023-12-19T18:22:17.840Z"
   },
   {
    "duration": 124,
    "start_time": "2023-12-19T18:22:26.977Z"
   },
   {
    "duration": 141,
    "start_time": "2023-12-19T18:26:07.541Z"
   },
   {
    "duration": 158,
    "start_time": "2023-12-19T18:26:48.108Z"
   },
   {
    "duration": 244,
    "start_time": "2023-12-19T18:27:05.085Z"
   },
   {
    "duration": 121,
    "start_time": "2023-12-19T18:27:37.262Z"
   },
   {
    "duration": 7,
    "start_time": "2023-12-19T18:27:37.385Z"
   },
   {
    "duration": 9,
    "start_time": "2023-12-19T18:27:37.394Z"
   },
   {
    "duration": 7,
    "start_time": "2023-12-19T18:27:37.415Z"
   },
   {
    "duration": 16,
    "start_time": "2023-12-19T18:27:37.424Z"
   },
   {
    "duration": 5,
    "start_time": "2023-12-19T18:27:37.441Z"
   },
   {
    "duration": 67,
    "start_time": "2023-12-19T18:27:37.448Z"
   },
   {
    "duration": 6,
    "start_time": "2023-12-19T18:27:37.516Z"
   },
   {
    "duration": 5,
    "start_time": "2023-12-19T18:27:37.524Z"
   },
   {
    "duration": 7,
    "start_time": "2023-12-19T18:27:37.531Z"
   },
   {
    "duration": 30,
    "start_time": "2023-12-19T18:27:37.540Z"
   },
   {
    "duration": 111,
    "start_time": "2023-12-19T18:27:37.572Z"
   },
   {
    "duration": 29,
    "start_time": "2023-12-19T18:27:37.685Z"
   },
   {
    "duration": 10,
    "start_time": "2023-12-19T18:27:37.717Z"
   },
   {
    "duration": 8,
    "start_time": "2023-12-19T18:27:37.729Z"
   },
   {
    "duration": 260,
    "start_time": "2023-12-19T18:27:37.738Z"
   },
   {
    "duration": 124,
    "start_time": "2023-12-19T18:27:37.999Z"
   },
   {
    "duration": 240,
    "start_time": "2023-12-19T18:27:38.125Z"
   },
   {
    "duration": 108,
    "start_time": "2023-12-19T18:27:38.367Z"
   },
   {
    "duration": 105,
    "start_time": "2023-12-19T18:27:49.477Z"
   },
   {
    "duration": 122,
    "start_time": "2023-12-19T18:30:20.928Z"
   },
   {
    "duration": 7,
    "start_time": "2023-12-19T18:30:21.052Z"
   },
   {
    "duration": 10,
    "start_time": "2023-12-19T18:30:21.061Z"
   },
   {
    "duration": 9,
    "start_time": "2023-12-19T18:30:21.072Z"
   },
   {
    "duration": 37,
    "start_time": "2023-12-19T18:30:21.082Z"
   },
   {
    "duration": 6,
    "start_time": "2023-12-19T18:30:21.120Z"
   },
   {
    "duration": 48,
    "start_time": "2023-12-19T18:30:21.127Z"
   },
   {
    "duration": 5,
    "start_time": "2023-12-19T18:30:21.177Z"
   },
   {
    "duration": 5,
    "start_time": "2023-12-19T18:30:21.183Z"
   },
   {
    "duration": 26,
    "start_time": "2023-12-19T18:30:21.190Z"
   },
   {
    "duration": 28,
    "start_time": "2023-12-19T18:30:21.218Z"
   },
   {
    "duration": 103,
    "start_time": "2023-12-19T18:30:21.248Z"
   },
   {
    "duration": 15,
    "start_time": "2023-12-19T18:30:21.352Z"
   },
   {
    "duration": 9,
    "start_time": "2023-12-19T18:30:21.368Z"
   },
   {
    "duration": 6,
    "start_time": "2023-12-19T18:30:21.379Z"
   },
   {
    "duration": 266,
    "start_time": "2023-12-19T18:30:21.386Z"
   },
   {
    "duration": 129,
    "start_time": "2023-12-19T18:30:21.654Z"
   },
   {
    "duration": 442,
    "start_time": "2023-12-19T18:30:21.785Z"
   },
   {
    "duration": 108,
    "start_time": "2023-12-19T18:30:22.228Z"
   },
   {
    "duration": 240,
    "start_time": "2023-12-19T18:30:25.063Z"
   },
   {
    "duration": 190,
    "start_time": "2023-12-19T18:34:51.738Z"
   },
   {
    "duration": 198,
    "start_time": "2023-12-19T18:35:02.738Z"
   },
   {
    "duration": 49,
    "start_time": "2023-12-19T18:36:20.507Z"
   },
   {
    "duration": 197,
    "start_time": "2023-12-19T18:36:26.699Z"
   },
   {
    "duration": 115,
    "start_time": "2023-12-19T18:37:25.372Z"
   },
   {
    "duration": 124,
    "start_time": "2023-12-19T18:37:31.092Z"
   },
   {
    "duration": 117,
    "start_time": "2023-12-19T18:37:41.304Z"
   },
   {
    "duration": 9,
    "start_time": "2023-12-19T18:37:41.423Z"
   },
   {
    "duration": 11,
    "start_time": "2023-12-19T18:37:41.434Z"
   },
   {
    "duration": 9,
    "start_time": "2023-12-19T18:37:41.447Z"
   },
   {
    "duration": 15,
    "start_time": "2023-12-19T18:37:41.457Z"
   },
   {
    "duration": 43,
    "start_time": "2023-12-19T18:37:41.473Z"
   },
   {
    "duration": 50,
    "start_time": "2023-12-19T18:37:41.517Z"
   },
   {
    "duration": 6,
    "start_time": "2023-12-19T18:37:41.568Z"
   },
   {
    "duration": 5,
    "start_time": "2023-12-19T18:37:41.575Z"
   },
   {
    "duration": 10,
    "start_time": "2023-12-19T18:37:41.581Z"
   },
   {
    "duration": 42,
    "start_time": "2023-12-19T18:37:41.593Z"
   },
   {
    "duration": 94,
    "start_time": "2023-12-19T18:37:41.637Z"
   },
   {
    "duration": 14,
    "start_time": "2023-12-19T18:37:41.732Z"
   },
   {
    "duration": 10,
    "start_time": "2023-12-19T18:37:41.748Z"
   },
   {
    "duration": 5,
    "start_time": "2023-12-19T18:37:41.759Z"
   },
   {
    "duration": 269,
    "start_time": "2023-12-19T18:37:41.765Z"
   },
   {
    "duration": 123,
    "start_time": "2023-12-19T18:37:42.036Z"
   },
   {
    "duration": 250,
    "start_time": "2023-12-19T18:37:42.160Z"
   },
   {
    "duration": 111,
    "start_time": "2023-12-19T18:37:42.414Z"
   },
   {
    "duration": 432,
    "start_time": "2023-12-19T18:37:42.527Z"
   },
   {
    "duration": 119,
    "start_time": "2023-12-19T18:37:42.961Z"
   },
   {
    "duration": 203,
    "start_time": "2023-12-19T18:37:43.081Z"
   },
   {
    "duration": 112,
    "start_time": "2023-12-19T18:37:52.125Z"
   },
   {
    "duration": 112,
    "start_time": "2023-12-19T18:38:13.636Z"
   },
   {
    "duration": 112,
    "start_time": "2023-12-19T18:38:30.164Z"
   },
   {
    "duration": 120,
    "start_time": "2023-12-19T18:38:45.497Z"
   },
   {
    "duration": 7,
    "start_time": "2023-12-19T18:38:45.619Z"
   },
   {
    "duration": 10,
    "start_time": "2023-12-19T18:38:45.627Z"
   },
   {
    "duration": 7,
    "start_time": "2023-12-19T18:38:45.639Z"
   },
   {
    "duration": 13,
    "start_time": "2023-12-19T18:38:45.648Z"
   },
   {
    "duration": 6,
    "start_time": "2023-12-19T18:38:45.662Z"
   },
   {
    "duration": 96,
    "start_time": "2023-12-19T18:38:45.669Z"
   },
   {
    "duration": 7,
    "start_time": "2023-12-19T18:38:45.768Z"
   },
   {
    "duration": 7,
    "start_time": "2023-12-19T18:38:45.777Z"
   },
   {
    "duration": 28,
    "start_time": "2023-12-19T18:38:45.788Z"
   },
   {
    "duration": 27,
    "start_time": "2023-12-19T18:38:45.818Z"
   },
   {
    "duration": 100,
    "start_time": "2023-12-19T18:38:45.847Z"
   },
   {
    "duration": 16,
    "start_time": "2023-12-19T18:38:45.948Z"
   },
   {
    "duration": 10,
    "start_time": "2023-12-19T18:38:45.965Z"
   },
   {
    "duration": 5,
    "start_time": "2023-12-19T18:38:45.977Z"
   },
   {
    "duration": 271,
    "start_time": "2023-12-19T18:38:45.983Z"
   },
   {
    "duration": 128,
    "start_time": "2023-12-19T18:38:46.256Z"
   },
   {
    "duration": 241,
    "start_time": "2023-12-19T18:38:46.386Z"
   },
   {
    "duration": 109,
    "start_time": "2023-12-19T18:38:46.628Z"
   },
   {
    "duration": 234,
    "start_time": "2023-12-19T18:38:46.738Z"
   },
   {
    "duration": 114,
    "start_time": "2023-12-19T18:38:46.974Z"
   },
   {
    "duration": 195,
    "start_time": "2023-12-19T18:38:47.090Z"
   },
   {
    "duration": 127,
    "start_time": "2023-12-19T18:38:49.077Z"
   },
   {
    "duration": 107,
    "start_time": "2023-12-19T18:39:16.565Z"
   },
   {
    "duration": 116,
    "start_time": "2023-12-19T18:39:26.878Z"
   },
   {
    "duration": 130,
    "start_time": "2023-12-19T18:39:30.658Z"
   },
   {
    "duration": 8,
    "start_time": "2023-12-19T18:39:30.790Z"
   },
   {
    "duration": 53,
    "start_time": "2023-12-19T18:39:30.800Z"
   },
   {
    "duration": 29,
    "start_time": "2023-12-19T18:39:30.855Z"
   },
   {
    "duration": 48,
    "start_time": "2023-12-19T18:39:30.886Z"
   },
   {
    "duration": 65,
    "start_time": "2023-12-19T18:39:30.935Z"
   },
   {
    "duration": 126,
    "start_time": "2023-12-19T18:39:31.001Z"
   },
   {
    "duration": 99,
    "start_time": "2023-12-19T18:39:31.129Z"
   },
   {
    "duration": 39,
    "start_time": "2023-12-19T18:39:31.229Z"
   },
   {
    "duration": 39,
    "start_time": "2023-12-19T18:39:31.270Z"
   },
   {
    "duration": 114,
    "start_time": "2023-12-19T18:39:31.311Z"
   },
   {
    "duration": 95,
    "start_time": "2023-12-19T18:39:31.427Z"
   },
   {
    "duration": 16,
    "start_time": "2023-12-19T18:39:31.523Z"
   },
   {
    "duration": 47,
    "start_time": "2023-12-19T18:39:31.540Z"
   },
   {
    "duration": 34,
    "start_time": "2023-12-19T18:39:31.589Z"
   },
   {
    "duration": 292,
    "start_time": "2023-12-19T18:39:31.625Z"
   },
   {
    "duration": 346,
    "start_time": "2023-12-19T18:39:31.918Z"
   },
   {
    "duration": 259,
    "start_time": "2023-12-19T18:39:32.266Z"
   },
   {
    "duration": 117,
    "start_time": "2023-12-19T18:39:32.526Z"
   },
   {
    "duration": 271,
    "start_time": "2023-12-19T18:39:32.645Z"
   },
   {
    "duration": 110,
    "start_time": "2023-12-19T18:39:32.918Z"
   },
   {
    "duration": 225,
    "start_time": "2023-12-19T18:39:33.030Z"
   },
   {
    "duration": 115,
    "start_time": "2023-12-19T18:39:36.013Z"
   },
   {
    "duration": 111,
    "start_time": "2023-12-19T18:41:24.334Z"
   },
   {
    "duration": 113,
    "start_time": "2023-12-19T18:41:30.775Z"
   },
   {
    "duration": 126,
    "start_time": "2023-12-19T18:41:38.490Z"
   },
   {
    "duration": 9,
    "start_time": "2023-12-19T18:41:38.617Z"
   },
   {
    "duration": 12,
    "start_time": "2023-12-19T18:41:38.628Z"
   },
   {
    "duration": 8,
    "start_time": "2023-12-19T18:41:38.643Z"
   },
   {
    "duration": 15,
    "start_time": "2023-12-19T18:41:38.653Z"
   },
   {
    "duration": 6,
    "start_time": "2023-12-19T18:41:38.669Z"
   },
   {
    "duration": 50,
    "start_time": "2023-12-19T18:41:38.715Z"
   },
   {
    "duration": 7,
    "start_time": "2023-12-19T18:41:38.767Z"
   },
   {
    "duration": 6,
    "start_time": "2023-12-19T18:41:38.775Z"
   },
   {
    "duration": 35,
    "start_time": "2023-12-19T18:41:38.783Z"
   },
   {
    "duration": 30,
    "start_time": "2023-12-19T18:41:38.820Z"
   },
   {
    "duration": 114,
    "start_time": "2023-12-19T18:41:38.852Z"
   },
   {
    "duration": 16,
    "start_time": "2023-12-19T18:41:38.968Z"
   },
   {
    "duration": 10,
    "start_time": "2023-12-19T18:41:38.985Z"
   },
   {
    "duration": 22,
    "start_time": "2023-12-19T18:41:38.997Z"
   },
   {
    "duration": 253,
    "start_time": "2023-12-19T18:41:39.021Z"
   },
   {
    "duration": 143,
    "start_time": "2023-12-19T18:41:39.276Z"
   },
   {
    "duration": 254,
    "start_time": "2023-12-19T18:41:39.420Z"
   },
   {
    "duration": 114,
    "start_time": "2023-12-19T18:41:39.675Z"
   },
   {
    "duration": 248,
    "start_time": "2023-12-19T18:41:39.790Z"
   },
   {
    "duration": 321,
    "start_time": "2023-12-19T18:41:40.039Z"
   },
   {
    "duration": 211,
    "start_time": "2023-12-19T18:41:40.362Z"
   },
   {
    "duration": 114,
    "start_time": "2023-12-19T18:41:52.567Z"
   },
   {
    "duration": 127,
    "start_time": "2023-12-19T18:42:13.512Z"
   },
   {
    "duration": 116,
    "start_time": "2023-12-19T18:42:26.839Z"
   },
   {
    "duration": 254,
    "start_time": "2023-12-19T18:44:49.304Z"
   },
   {
    "duration": 456,
    "start_time": "2023-12-19T18:44:57.968Z"
   },
   {
    "duration": 79,
    "start_time": "2023-12-19T18:47:14.521Z"
   },
   {
    "duration": 136,
    "start_time": "2023-12-19T18:47:18.241Z"
   },
   {
    "duration": 184,
    "start_time": "2023-12-19T18:47:45.170Z"
   },
   {
    "duration": 127,
    "start_time": "2023-12-19T18:48:11.034Z"
   },
   {
    "duration": 137,
    "start_time": "2023-12-19T19:21:40.119Z"
   },
   {
    "duration": 131,
    "start_time": "2023-12-19T19:22:12.728Z"
   },
   {
    "duration": 116,
    "start_time": "2023-12-19T19:22:40.113Z"
   },
   {
    "duration": 110,
    "start_time": "2023-12-19T19:29:44.342Z"
   },
   {
    "duration": 111,
    "start_time": "2023-12-19T19:31:55.110Z"
   },
   {
    "duration": 345,
    "start_time": "2023-12-19T19:32:00.270Z"
   },
   {
    "duration": 123,
    "start_time": "2023-12-19T19:32:22.608Z"
   },
   {
    "duration": 116,
    "start_time": "2023-12-19T19:32:41.359Z"
   },
   {
    "duration": 113,
    "start_time": "2023-12-19T19:33:05.488Z"
   },
   {
    "duration": 158,
    "start_time": "2023-12-19T19:37:47.570Z"
   },
   {
    "duration": 160,
    "start_time": "2023-12-19T19:38:57.468Z"
   },
   {
    "duration": 155,
    "start_time": "2023-12-19T19:39:14.179Z"
   },
   {
    "duration": 138,
    "start_time": "2023-12-19T19:39:17.429Z"
   },
   {
    "duration": 8,
    "start_time": "2023-12-19T19:39:17.569Z"
   },
   {
    "duration": 28,
    "start_time": "2023-12-19T19:39:17.579Z"
   },
   {
    "duration": 33,
    "start_time": "2023-12-19T19:39:17.609Z"
   },
   {
    "duration": 30,
    "start_time": "2023-12-19T19:39:17.644Z"
   },
   {
    "duration": 19,
    "start_time": "2023-12-19T19:39:17.676Z"
   },
   {
    "duration": 58,
    "start_time": "2023-12-19T19:39:17.696Z"
   },
   {
    "duration": 5,
    "start_time": "2023-12-19T19:39:17.756Z"
   },
   {
    "duration": 10,
    "start_time": "2023-12-19T19:39:17.762Z"
   },
   {
    "duration": 12,
    "start_time": "2023-12-19T19:39:17.774Z"
   },
   {
    "duration": 51,
    "start_time": "2023-12-19T19:39:17.787Z"
   },
   {
    "duration": 87,
    "start_time": "2023-12-19T19:39:17.839Z"
   },
   {
    "duration": 15,
    "start_time": "2023-12-19T19:39:17.928Z"
   },
   {
    "duration": 35,
    "start_time": "2023-12-19T19:39:17.945Z"
   },
   {
    "duration": 25,
    "start_time": "2023-12-19T19:39:17.981Z"
   },
   {
    "duration": 250,
    "start_time": "2023-12-19T19:39:18.007Z"
   },
   {
    "duration": 125,
    "start_time": "2023-12-19T19:39:18.259Z"
   },
   {
    "duration": 249,
    "start_time": "2023-12-19T19:39:18.386Z"
   },
   {
    "duration": 117,
    "start_time": "2023-12-19T19:39:18.636Z"
   },
   {
    "duration": 249,
    "start_time": "2023-12-19T19:39:18.755Z"
   },
   {
    "duration": 114,
    "start_time": "2023-12-19T19:39:19.006Z"
   },
   {
    "duration": 680,
    "start_time": "2023-12-19T19:39:19.121Z"
   },
   {
    "duration": 129,
    "start_time": "2023-12-19T19:39:19.803Z"
   },
   {
    "duration": 192,
    "start_time": "2023-12-19T19:39:19.933Z"
   },
   {
    "duration": 125,
    "start_time": "2023-12-19T19:39:20.127Z"
   },
   {
    "duration": 151,
    "start_time": "2023-12-19T19:39:20.254Z"
   },
   {
    "duration": 130,
    "start_time": "2023-12-19T19:39:20.406Z"
   },
   {
    "duration": 133,
    "start_time": "2023-12-19T19:39:20.539Z"
   },
   {
    "duration": 159,
    "start_time": "2023-12-19T19:39:20.673Z"
   },
   {
    "duration": 115,
    "start_time": "2023-12-19T19:39:25.604Z"
   },
   {
    "duration": 172,
    "start_time": "2023-12-19T19:47:44.130Z"
   },
   {
    "duration": 168,
    "start_time": "2023-12-19T19:47:59.969Z"
   },
   {
    "duration": 200,
    "start_time": "2023-12-19T19:49:53.795Z"
   },
   {
    "duration": 196,
    "start_time": "2023-12-19T19:59:18.746Z"
   },
   {
    "duration": 129,
    "start_time": "2023-12-19T19:59:24.147Z"
   },
   {
    "duration": 8,
    "start_time": "2023-12-19T19:59:24.278Z"
   },
   {
    "duration": 27,
    "start_time": "2023-12-19T19:59:24.288Z"
   },
   {
    "duration": 9,
    "start_time": "2023-12-19T19:59:24.317Z"
   },
   {
    "duration": 16,
    "start_time": "2023-12-19T19:59:24.328Z"
   },
   {
    "duration": 5,
    "start_time": "2023-12-19T19:59:24.346Z"
   },
   {
    "duration": 69,
    "start_time": "2023-12-19T19:59:24.353Z"
   },
   {
    "duration": 5,
    "start_time": "2023-12-19T19:59:24.424Z"
   },
   {
    "duration": 11,
    "start_time": "2023-12-19T19:59:24.431Z"
   },
   {
    "duration": 27,
    "start_time": "2023-12-19T19:59:24.445Z"
   },
   {
    "duration": 38,
    "start_time": "2023-12-19T19:59:24.473Z"
   },
   {
    "duration": 84,
    "start_time": "2023-12-19T19:59:24.513Z"
   },
   {
    "duration": 23,
    "start_time": "2023-12-19T19:59:24.599Z"
   },
   {
    "duration": 11,
    "start_time": "2023-12-19T19:59:24.623Z"
   },
   {
    "duration": 15,
    "start_time": "2023-12-19T19:59:24.635Z"
   },
   {
    "duration": 266,
    "start_time": "2023-12-19T19:59:24.652Z"
   },
   {
    "duration": 142,
    "start_time": "2023-12-19T19:59:24.920Z"
   },
   {
    "duration": 258,
    "start_time": "2023-12-19T19:59:25.063Z"
   },
   {
    "duration": 124,
    "start_time": "2023-12-19T19:59:25.322Z"
   },
   {
    "duration": 508,
    "start_time": "2023-12-19T19:59:25.448Z"
   },
   {
    "duration": 128,
    "start_time": "2023-12-19T19:59:25.957Z"
   },
   {
    "duration": 511,
    "start_time": "2023-12-19T19:59:26.087Z"
   },
   {
    "duration": 118,
    "start_time": "2023-12-19T19:59:26.600Z"
   },
   {
    "duration": 190,
    "start_time": "2023-12-19T19:59:26.720Z"
   },
   {
    "duration": 124,
    "start_time": "2023-12-19T19:59:26.915Z"
   },
   {
    "duration": 155,
    "start_time": "2023-12-19T19:59:27.041Z"
   },
   {
    "duration": 131,
    "start_time": "2023-12-19T19:59:27.197Z"
   },
   {
    "duration": 131,
    "start_time": "2023-12-19T19:59:27.332Z"
   },
   {
    "duration": 187,
    "start_time": "2023-12-19T19:59:27.464Z"
   },
   {
    "duration": 126,
    "start_time": "2023-12-19T19:59:27.653Z"
   },
   {
    "duration": 200,
    "start_time": "2023-12-19T19:59:27.780Z"
   },
   {
    "duration": 134,
    "start_time": "2023-12-19T19:59:27.982Z"
   },
   {
    "duration": 128,
    "start_time": "2023-12-19T20:10:45.174Z"
   },
   {
    "duration": 8,
    "start_time": "2023-12-19T20:10:45.315Z"
   },
   {
    "duration": 14,
    "start_time": "2023-12-19T20:10:45.324Z"
   },
   {
    "duration": 18,
    "start_time": "2023-12-19T20:10:45.340Z"
   },
   {
    "duration": 39,
    "start_time": "2023-12-19T20:10:45.359Z"
   },
   {
    "duration": 11,
    "start_time": "2023-12-19T20:10:45.400Z"
   },
   {
    "duration": 65,
    "start_time": "2023-12-19T20:10:45.412Z"
   },
   {
    "duration": 6,
    "start_time": "2023-12-19T20:10:45.479Z"
   },
   {
    "duration": 21,
    "start_time": "2023-12-19T20:10:45.486Z"
   },
   {
    "duration": 25,
    "start_time": "2023-12-19T20:10:45.509Z"
   },
   {
    "duration": 46,
    "start_time": "2023-12-19T20:10:45.535Z"
   },
   {
    "duration": 89,
    "start_time": "2023-12-19T20:10:45.582Z"
   },
   {
    "duration": 14,
    "start_time": "2023-12-19T20:10:45.673Z"
   },
   {
    "duration": 28,
    "start_time": "2023-12-19T20:10:45.689Z"
   },
   {
    "duration": 15,
    "start_time": "2023-12-19T20:10:45.719Z"
   },
   {
    "duration": 268,
    "start_time": "2023-12-19T20:10:45.736Z"
   },
   {
    "duration": 126,
    "start_time": "2023-12-19T20:10:46.006Z"
   },
   {
    "duration": 517,
    "start_time": "2023-12-19T20:10:46.133Z"
   },
   {
    "duration": 108,
    "start_time": "2023-12-19T20:10:46.652Z"
   },
   {
    "duration": 264,
    "start_time": "2023-12-19T20:10:46.761Z"
   },
   {
    "duration": 113,
    "start_time": "2023-12-19T20:10:47.026Z"
   },
   {
    "duration": 481,
    "start_time": "2023-12-19T20:10:47.141Z"
   },
   {
    "duration": 125,
    "start_time": "2023-12-19T20:10:47.624Z"
   },
   {
    "duration": 188,
    "start_time": "2023-12-19T20:10:47.751Z"
   },
   {
    "duration": 126,
    "start_time": "2023-12-19T20:10:47.941Z"
   },
   {
    "duration": 153,
    "start_time": "2023-12-19T20:10:48.068Z"
   },
   {
    "duration": 128,
    "start_time": "2023-12-19T20:10:48.222Z"
   },
   {
    "duration": 136,
    "start_time": "2023-12-19T20:10:48.354Z"
   },
   {
    "duration": 176,
    "start_time": "2023-12-19T20:10:48.492Z"
   },
   {
    "duration": 133,
    "start_time": "2023-12-19T20:10:48.670Z"
   },
   {
    "duration": 221,
    "start_time": "2023-12-19T20:10:48.805Z"
   },
   {
    "duration": 144,
    "start_time": "2023-12-19T20:10:49.027Z"
   },
   {
    "duration": 194,
    "start_time": "2023-12-19T20:10:49.172Z"
   },
   {
    "duration": 400,
    "start_time": "2023-12-19T20:10:49.368Z"
   },
   {
    "duration": 176,
    "start_time": "2023-12-19T20:10:49.770Z"
   },
   {
    "duration": 135,
    "start_time": "2023-12-19T20:10:49.948Z"
   },
   {
    "duration": 13,
    "start_time": "2023-12-19T20:10:50.085Z"
   },
   {
    "duration": 233,
    "start_time": "2023-12-19T20:10:50.100Z"
   },
   {
    "duration": 228,
    "start_time": "2023-12-19T20:10:50.335Z"
   },
   {
    "duration": 224,
    "start_time": "2023-12-19T20:10:50.565Z"
   },
   {
    "duration": 209,
    "start_time": "2023-12-19T20:10:55.426Z"
   },
   {
    "duration": 3,
    "start_time": "2023-12-19T20:36:14.199Z"
   },
   {
    "duration": 131,
    "start_time": "2023-12-19T20:40:45.368Z"
   },
   {
    "duration": 123,
    "start_time": "2023-12-19T20:40:57.148Z"
   },
   {
    "duration": 129,
    "start_time": "2023-12-19T20:41:05.048Z"
   },
   {
    "duration": 675,
    "start_time": "2023-12-19T20:41:18.480Z"
   },
   {
    "duration": 126,
    "start_time": "2023-12-19T20:41:39.464Z"
   },
   {
    "duration": 133,
    "start_time": "2023-12-19T20:41:52.256Z"
   },
   {
    "duration": 14,
    "start_time": "2023-12-19T20:47:06.072Z"
   },
   {
    "duration": 11,
    "start_time": "2023-12-19T20:48:14.097Z"
   },
   {
    "duration": 116,
    "start_time": "2023-12-19T20:49:04.317Z"
   },
   {
    "duration": 56,
    "start_time": "2023-12-19T20:53:38.693Z"
   },
   {
    "duration": 48,
    "start_time": "2023-12-19T20:53:42.168Z"
   },
   {
    "duration": 142,
    "start_time": "2023-12-19T20:55:21.505Z"
   },
   {
    "duration": 55,
    "start_time": "2023-12-19T20:59:17.897Z"
   },
   {
    "duration": 133,
    "start_time": "2023-12-19T21:04:26.540Z"
   },
   {
    "duration": 130,
    "start_time": "2023-12-19T21:05:05.948Z"
   },
   {
    "duration": 149,
    "start_time": "2023-12-19T21:05:08.756Z"
   },
   {
    "duration": 8,
    "start_time": "2023-12-19T21:05:08.914Z"
   },
   {
    "duration": 9,
    "start_time": "2023-12-19T21:05:08.924Z"
   },
   {
    "duration": 8,
    "start_time": "2023-12-19T21:05:08.935Z"
   },
   {
    "duration": 22,
    "start_time": "2023-12-19T21:05:08.945Z"
   },
   {
    "duration": 5,
    "start_time": "2023-12-19T21:05:08.968Z"
   },
   {
    "duration": 81,
    "start_time": "2023-12-19T21:05:08.974Z"
   },
   {
    "duration": 6,
    "start_time": "2023-12-19T21:05:09.057Z"
   },
   {
    "duration": 5,
    "start_time": "2023-12-19T21:05:09.064Z"
   },
   {
    "duration": 6,
    "start_time": "2023-12-19T21:05:09.072Z"
   },
   {
    "duration": 51,
    "start_time": "2023-12-19T21:05:09.080Z"
   },
   {
    "duration": 101,
    "start_time": "2023-12-19T21:05:09.133Z"
   },
   {
    "duration": 15,
    "start_time": "2023-12-19T21:05:09.235Z"
   },
   {
    "duration": 10,
    "start_time": "2023-12-19T21:05:09.252Z"
   },
   {
    "duration": 6,
    "start_time": "2023-12-19T21:05:09.263Z"
   },
   {
    "duration": 269,
    "start_time": "2023-12-19T21:05:09.271Z"
   },
   {
    "duration": 128,
    "start_time": "2023-12-19T21:05:09.542Z"
   },
   {
    "duration": 244,
    "start_time": "2023-12-19T21:05:09.672Z"
   },
   {
    "duration": 115,
    "start_time": "2023-12-19T21:05:09.918Z"
   },
   {
    "duration": 246,
    "start_time": "2023-12-19T21:05:10.035Z"
   },
   {
    "duration": 122,
    "start_time": "2023-12-19T21:05:10.282Z"
   },
   {
    "duration": 687,
    "start_time": "2023-12-19T21:05:10.405Z"
   },
   {
    "duration": 133,
    "start_time": "2023-12-19T21:05:11.094Z"
   },
   {
    "duration": 200,
    "start_time": "2023-12-19T21:05:11.229Z"
   },
   {
    "duration": 125,
    "start_time": "2023-12-19T21:05:11.431Z"
   },
   {
    "duration": 169,
    "start_time": "2023-12-19T21:05:11.557Z"
   },
   {
    "duration": 137,
    "start_time": "2023-12-19T21:05:11.728Z"
   },
   {
    "duration": 136,
    "start_time": "2023-12-19T21:05:11.869Z"
   },
   {
    "duration": 165,
    "start_time": "2023-12-19T21:05:12.006Z"
   },
   {
    "duration": 126,
    "start_time": "2023-12-19T21:05:12.172Z"
   },
   {
    "duration": 211,
    "start_time": "2023-12-19T21:05:12.304Z"
   },
   {
    "duration": 139,
    "start_time": "2023-12-19T21:05:12.517Z"
   },
   {
    "duration": 179,
    "start_time": "2023-12-19T21:05:12.657Z"
   },
   {
    "duration": 114,
    "start_time": "2023-12-19T21:05:12.837Z"
   },
   {
    "duration": 170,
    "start_time": "2023-12-19T21:05:12.952Z"
   },
   {
    "duration": 118,
    "start_time": "2023-12-19T21:05:13.124Z"
   },
   {
    "duration": 10,
    "start_time": "2023-12-19T21:05:13.244Z"
   },
   {
    "duration": 220,
    "start_time": "2023-12-19T21:05:13.256Z"
   },
   {
    "duration": 214,
    "start_time": "2023-12-19T21:05:13.477Z"
   },
   {
    "duration": 213,
    "start_time": "2023-12-19T21:05:13.693Z"
   },
   {
    "duration": 218,
    "start_time": "2023-12-19T21:05:13.907Z"
   },
   {
    "duration": 298,
    "start_time": "2023-12-19T21:05:14.126Z"
   },
   {
    "duration": 134,
    "start_time": "2023-12-19T21:05:14.426Z"
   },
   {
    "duration": 145,
    "start_time": "2023-12-19T21:05:16.823Z"
   },
   {
    "duration": 15,
    "start_time": "2023-12-19T21:05:35.232Z"
   },
   {
    "duration": 383,
    "start_time": "2023-12-19T21:05:50.936Z"
   },
   {
    "duration": 139,
    "start_time": "2023-12-19T21:06:18.256Z"
   },
   {
    "duration": 240,
    "start_time": "2023-12-19T21:09:10.730Z"
   },
   {
    "duration": 252,
    "start_time": "2023-12-19T21:10:52.068Z"
   },
   {
    "duration": 1637,
    "start_time": "2023-12-19T21:17:02.752Z"
   },
   {
    "duration": 255,
    "start_time": "2023-12-19T21:17:34.600Z"
   },
   {
    "duration": 1557,
    "start_time": "2023-12-19T21:17:43.359Z"
   },
   {
    "duration": 1044,
    "start_time": "2023-12-19T21:18:13.880Z"
   },
   {
    "duration": 133,
    "start_time": "2023-12-19T21:18:38.288Z"
   },
   {
    "duration": 196,
    "start_time": "2023-12-19T21:18:44.369Z"
   },
   {
    "duration": 195,
    "start_time": "2023-12-19T21:19:33.945Z"
   },
   {
    "duration": 204,
    "start_time": "2023-12-19T21:20:59.522Z"
   },
   {
    "duration": 243,
    "start_time": "2023-12-19T21:21:35.908Z"
   },
   {
    "duration": 197,
    "start_time": "2023-12-19T21:22:00.731Z"
   },
   {
    "duration": 209,
    "start_time": "2023-12-19T21:23:12.155Z"
   },
   {
    "duration": 137,
    "start_time": "2023-12-19T21:24:23.996Z"
   },
   {
    "duration": 223,
    "start_time": "2023-12-19T21:24:32.516Z"
   },
   {
    "duration": 200,
    "start_time": "2023-12-19T21:24:36.476Z"
   },
   {
    "duration": 213,
    "start_time": "2023-12-19T21:38:06.982Z"
   },
   {
    "duration": 189,
    "start_time": "2023-12-19T21:38:36.955Z"
   },
   {
    "duration": 247,
    "start_time": "2023-12-19T21:41:03.937Z"
   },
   {
    "duration": 28,
    "start_time": "2023-12-19T21:41:33.352Z"
   },
   {
    "duration": 30,
    "start_time": "2023-12-19T21:41:54.152Z"
   },
   {
    "duration": 43,
    "start_time": "2023-12-19T21:44:28.802Z"
   },
   {
    "duration": 80,
    "start_time": "2023-12-19T21:44:53.434Z"
   },
   {
    "duration": 43,
    "start_time": "2023-12-19T21:46:00.147Z"
   },
   {
    "duration": 35,
    "start_time": "2023-12-19T21:46:20.899Z"
   },
   {
    "duration": 37,
    "start_time": "2023-12-19T21:51:09.630Z"
   },
   {
    "duration": 40,
    "start_time": "2023-12-19T21:51:51.039Z"
   },
   {
    "duration": 34,
    "start_time": "2023-12-19T21:52:07.191Z"
   },
   {
    "duration": 241,
    "start_time": "2023-12-19T21:52:30.799Z"
   },
   {
    "duration": 241,
    "start_time": "2023-12-19T21:53:12.144Z"
   },
   {
    "duration": 128,
    "start_time": "2023-12-19T21:54:43.170Z"
   },
   {
    "duration": 15,
    "start_time": "2023-12-19T21:54:43.300Z"
   },
   {
    "duration": 11,
    "start_time": "2023-12-19T21:54:43.316Z"
   },
   {
    "duration": 10,
    "start_time": "2023-12-19T21:54:43.328Z"
   },
   {
    "duration": 13,
    "start_time": "2023-12-19T21:54:43.340Z"
   },
   {
    "duration": 20,
    "start_time": "2023-12-19T21:54:43.355Z"
   },
   {
    "duration": 79,
    "start_time": "2023-12-19T21:54:43.376Z"
   },
   {
    "duration": 6,
    "start_time": "2023-12-19T21:54:43.458Z"
   },
   {
    "duration": 5,
    "start_time": "2023-12-19T21:54:43.466Z"
   },
   {
    "duration": 7,
    "start_time": "2023-12-19T21:54:43.473Z"
   },
   {
    "duration": 47,
    "start_time": "2023-12-19T21:54:43.482Z"
   },
   {
    "duration": 92,
    "start_time": "2023-12-19T21:54:43.530Z"
   },
   {
    "duration": 14,
    "start_time": "2023-12-19T21:54:43.624Z"
   },
   {
    "duration": 10,
    "start_time": "2023-12-19T21:54:43.640Z"
   },
   {
    "duration": 5,
    "start_time": "2023-12-19T21:54:43.652Z"
   },
   {
    "duration": 276,
    "start_time": "2023-12-19T21:54:43.658Z"
   },
   {
    "duration": 130,
    "start_time": "2023-12-19T21:54:43.935Z"
   },
   {
    "duration": 259,
    "start_time": "2023-12-19T21:54:44.067Z"
   },
   {
    "duration": 376,
    "start_time": "2023-12-19T21:54:44.328Z"
   },
   {
    "duration": 253,
    "start_time": "2023-12-19T21:54:44.706Z"
   },
   {
    "duration": 129,
    "start_time": "2023-12-19T21:54:44.961Z"
   },
   {
    "duration": 472,
    "start_time": "2023-12-19T21:54:45.091Z"
   },
   {
    "duration": 121,
    "start_time": "2023-12-19T21:54:45.565Z"
   },
   {
    "duration": 190,
    "start_time": "2023-12-19T21:54:45.688Z"
   },
   {
    "duration": 124,
    "start_time": "2023-12-19T21:54:45.880Z"
   },
   {
    "duration": 150,
    "start_time": "2023-12-19T21:54:46.005Z"
   },
   {
    "duration": 129,
    "start_time": "2023-12-19T21:54:46.158Z"
   },
   {
    "duration": 126,
    "start_time": "2023-12-19T21:54:46.289Z"
   },
   {
    "duration": 162,
    "start_time": "2023-12-19T21:54:46.416Z"
   },
   {
    "duration": 121,
    "start_time": "2023-12-19T21:54:46.580Z"
   },
   {
    "duration": 212,
    "start_time": "2023-12-19T21:54:46.702Z"
   },
   {
    "duration": 124,
    "start_time": "2023-12-19T21:54:46.916Z"
   },
   {
    "duration": 199,
    "start_time": "2023-12-19T21:54:47.042Z"
   },
   {
    "duration": 118,
    "start_time": "2023-12-19T21:54:47.243Z"
   },
   {
    "duration": 171,
    "start_time": "2023-12-19T21:54:47.363Z"
   },
   {
    "duration": 138,
    "start_time": "2023-12-19T21:54:47.536Z"
   },
   {
    "duration": 11,
    "start_time": "2023-12-19T21:54:47.676Z"
   },
   {
    "duration": 455,
    "start_time": "2023-12-19T21:54:47.689Z"
   },
   {
    "duration": 212,
    "start_time": "2023-12-19T21:54:48.146Z"
   },
   {
    "duration": 199,
    "start_time": "2023-12-19T21:54:48.360Z"
   },
   {
    "duration": 201,
    "start_time": "2023-12-19T21:54:48.561Z"
   },
   {
    "duration": 252,
    "start_time": "2023-12-19T21:54:48.763Z"
   },
   {
    "duration": 137,
    "start_time": "2023-12-19T21:54:49.016Z"
   },
   {
    "duration": 141,
    "start_time": "2023-12-19T21:54:49.154Z"
   },
   {
    "duration": 153,
    "start_time": "2023-12-19T21:54:49.296Z"
   },
   {
    "duration": 197,
    "start_time": "2023-12-19T21:54:49.451Z"
   },
   {
    "duration": 137,
    "start_time": "2023-12-19T21:54:49.650Z"
   },
   {
    "duration": 197,
    "start_time": "2023-12-19T21:54:49.789Z"
   },
   {
    "duration": 203,
    "start_time": "2023-12-19T21:54:49.987Z"
   },
   {
    "duration": 3,
    "start_time": "2023-12-19T21:54:50.192Z"
   },
   {
    "duration": 247,
    "start_time": "2023-12-19T21:54:50.196Z"
   },
   {
    "duration": 185,
    "start_time": "2023-12-19T21:54:50.445Z"
   }
  ],
  "colab": {
   "provenance": []
  },
  "kernelspec": {
   "display_name": "Python 3 (ipykernel)",
   "language": "python",
   "name": "python3"
  },
  "language_info": {
   "codemirror_mode": {
    "name": "ipython",
    "version": 3
   },
   "file_extension": ".py",
   "mimetype": "text/x-python",
   "name": "python",
   "nbconvert_exporter": "python",
   "pygments_lexer": "ipython3",
   "version": "3.9.5"
  },
  "toc": {
   "base_numbering": 1,
   "nav_menu": {},
   "number_sections": true,
   "sideBar": true,
   "skip_h1_title": true,
   "title_cell": "Table of Contents",
   "title_sidebar": "Contents",
   "toc_cell": false,
   "toc_position": {},
   "toc_section_display": true,
   "toc_window_display": false
  }
 },
 "nbformat": 4,
 "nbformat_minor": 1
}
