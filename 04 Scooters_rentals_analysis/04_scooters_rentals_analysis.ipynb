{
 "cells": [
  {
   "cell_type": "markdown",
   "id": "228d546b",
   "metadata": {},
   "source": [
    "Статистический анализ данных. \n",
    "    \n",
    "Есть данные от популярного сервиса аренды самокатов GoFast - данные о некоторых пользователях из нескольких городов, а также об их поездках. \n",
    "    \n",
    "Необходимо проанализировать данные и проверить некоторые гипотезы, которые могут помочь бизнесу вырасти.\n",
    "\n",
    "Чтобы совершать поездки по городу, пользователи сервиса GoFast пользуются мобильным приложением. Сервисом можно пользоваться:\n",
    "без подписки\n",
    "абонентская плата отсутствует;\n",
    "стоимость одной минуты поездки — \n",
    "8\n",
    "8 рублей;\n",
    "стоимость старта (начала поездки) — \n",
    "50\n",
    "50 рублей;\n",
    "с подпиской Ultra\n",
    "абонентская плата — \n",
    "199\n",
    "199 рублей в месяц;\n",
    "стоимость одной минуты поездки — \n",
    "6\n",
    "6 рублей;\n",
    "стоимость старта — бесплатно.\n",
    "\n",
    "    \n",
    "Описание данных.\n",
    "    \n",
    "\n",
    "В основных данных есть информация о пользователях, их поездках и подписках.    \n",
    "    \n",
    "Пользователи — users_go.csv:\n",
    "* user_id\tуникальный идентификатор пользователя\n",
    "* name\tимя пользователя\n",
    "* age\tвозраст\n",
    "* city\tгород\n",
    "* subscription_type\tтип подписки (free, ultra)\n",
    "    \n",
    "    \n",
    "    \n",
    "Поездки — rides_go.csv:\n",
    "* user_id\tуникальный идентификатор пользователя\n",
    "* distance\tрасстояние, которое пользователь проехал в текущей сессии (в метрах)\n",
    "* duration\tпродолжительность сессии (в минутах) — время с того момента, как пользователь нажал кнопку «Начать поездку» до момента, как он нажал кнопку «Завершить поездку»\n",
    "* date\tдата совершения поездки.\n",
    "    \n",
    "    \n",
    "Подписки — subscriptions_go.csv:\n",
    "* subscription_type\tтип подписки\n",
    "* minute_price\tстоимость одной минуты поездки по данной подписке\n",
    "* start_ride_price\tстоимость начала поездки\n",
    "* subscription_fee\tстоимость ежемесячного платежа."
   ]
  },
  {
   "cell_type": "markdown",
   "id": "e74ea403",
   "metadata": {},
   "source": [
    "План работы.\n",
    "\n",
    "1. Загрузить и изучить данные.\n",
    "\n",
    "2. Осуществить предобработку данных (Привести столбец date к типу даты pandas, Создать новый столбец с номером месяца на основе столбца date, Проверить наличие пропущенных значений и дубликатов в датафреймах. Обработать их, если такие значения присутствуют).\n",
    "\n",
    "3. Провести Исследовательский анализ данных:\n",
    "Описать и визуализировать общую информацию о пользователях и поездках:\n",
    "* 3.1 частота встречаемости городов;\n",
    "* 3.2 соотношение пользователей с подпиской и без подписки;\n",
    "* 3.3 возраст пользователей;\n",
    "* 3.4 расстояние, которое пользователь преодолел за одну поездку;\n",
    "* 3.5 продолжительность поездок.\n",
    "\n",
    "4.  Осуществить объединение данных\n",
    "* 4.1 Объединить данные о пользователях, поездках и подписках в один датафрейм (методом merge()).\n",
    "* 4.2 Создать ещё два датафрейма из датафрейма, созданного на этапе 4.1:\n",
    " - c данными о пользователях без подписки;\n",
    " - с данными о пользователях с подпиской.\n",
    "* 4.3 Визуализировать информацию о расстоянии и времени поездок для пользователей обеих категорий.\n",
    "\n",
    "5. Подсчитать выручку.\n",
    "* 5.1 Создать датафрейм с агрегированными данными о поездках на основе датафрейма с объединёнными данными из шага 4: найти суммарное расстояние, количество поездок и суммарное время для каждого пользователя за каждый месяц.\n",
    "* 5.2 В этот же датафрейм добавить столбец с помесячной выручкой, которую принёс каждый пользователь (Для этого обратиться к информации об условиях оплаты для подписчиков и тех, у кого нет подписки). Продолжительность каждой поездки в каждой строке исходного датафрейма для подсчёта стоимости округляется до следующего целого числа.\n",
    "\n",
    "6. Проверка гипотез\n",
    "Продакт-менеджеры сервиса хотят увеличить количество пользователей с подпиской. Для этого они будут проводить различные акции, но сначала нужно выяснить несколько важных моментов.\n",
    "* 6.1 Важно понять, тратят ли пользователи с подпиской больше времени на поездки? Если да, то пользователи с подпиской могут быть «выгоднее» для компании. Проверить гипотезу. Использовать исходные данные о продолжительности каждой сессии — отдельно для подписчиков и тех, у кого нет подписки.\n",
    "* 6.2 Расстояние одной поездки в 3130 метров — оптимальное с точки зрения износа самоката. Можно ли сказать, что среднее расстояние, которое проезжают пользователи с подпиской за одну поездку, не превышает 3130 метров? Проверить гипотезу и сделать выводы.\n",
    "* 6.3 Проверить гипотезу о том, будет ли помесячная выручка от пользователей с подпиской по месяцам выше, чем выручка от пользователей без подписки. Сделать вывод.\n",
    "* 6.4 Представить такую ситуацию: техническая команда сервиса обновила сервера, с которыми взаимодействует мобильное приложение. Она надеется, что из-за этого количество обращений в техподдержку значимо снизилось. Некоторый файл содержит для каждого пользователя данные о количестве обращений до обновления и после него. Какой тест понадобился бы для проверки этой гипотезы?"
   ]
  },
  {
   "cell_type": "code",
   "execution_count": 1,
   "id": "72576667",
   "metadata": {},
   "outputs": [],
   "source": [
    "import pandas as pd\n",
    "import numpy as np"
   ]
  },
  {
   "cell_type": "markdown",
   "id": "c42cbe00",
   "metadata": {},
   "source": [
    "#### Шаг 1. Загрузка данных"
   ]
  },
  {
   "cell_type": "code",
   "execution_count": 2,
   "id": "eff9f206",
   "metadata": {
    "scrolled": true
   },
   "outputs": [
    {
     "name": "stdout",
     "output_type": "stream",
     "text": [
      "<class 'pandas.core.frame.DataFrame'>\n",
      "RangeIndex: 1565 entries, 0 to 1564\n",
      "Data columns (total 5 columns):\n",
      " #   Column             Non-Null Count  Dtype \n",
      "---  ------             --------------  ----- \n",
      " 0   user_id            1565 non-null   int64 \n",
      " 1   name               1565 non-null   object\n",
      " 2   age                1565 non-null   int64 \n",
      " 3   city               1565 non-null   object\n",
      " 4   subscription_type  1565 non-null   object\n",
      "dtypes: int64(2), object(3)\n",
      "memory usage: 61.3+ KB\n"
     ]
    },
    {
     "data": {
      "text/plain": [
       "None"
      ]
     },
     "metadata": {},
     "output_type": "display_data"
    },
    {
     "data": {
      "text/html": [
       "<div>\n",
       "<style scoped>\n",
       "    .dataframe tbody tr th:only-of-type {\n",
       "        vertical-align: middle;\n",
       "    }\n",
       "\n",
       "    .dataframe tbody tr th {\n",
       "        vertical-align: top;\n",
       "    }\n",
       "\n",
       "    .dataframe thead th {\n",
       "        text-align: right;\n",
       "    }\n",
       "</style>\n",
       "<table border=\"1\" class=\"dataframe\">\n",
       "  <thead>\n",
       "    <tr style=\"text-align: right;\">\n",
       "      <th></th>\n",
       "      <th>user_id</th>\n",
       "      <th>name</th>\n",
       "      <th>age</th>\n",
       "      <th>city</th>\n",
       "      <th>subscription_type</th>\n",
       "    </tr>\n",
       "  </thead>\n",
       "  <tbody>\n",
       "    <tr>\n",
       "      <th>0</th>\n",
       "      <td>1</td>\n",
       "      <td>Кира</td>\n",
       "      <td>22</td>\n",
       "      <td>Тюмень</td>\n",
       "      <td>ultra</td>\n",
       "    </tr>\n",
       "    <tr>\n",
       "      <th>1</th>\n",
       "      <td>2</td>\n",
       "      <td>Станислав</td>\n",
       "      <td>31</td>\n",
       "      <td>Омск</td>\n",
       "      <td>ultra</td>\n",
       "    </tr>\n",
       "    <tr>\n",
       "      <th>2</th>\n",
       "      <td>3</td>\n",
       "      <td>Алексей</td>\n",
       "      <td>20</td>\n",
       "      <td>Москва</td>\n",
       "      <td>ultra</td>\n",
       "    </tr>\n",
       "    <tr>\n",
       "      <th>3</th>\n",
       "      <td>4</td>\n",
       "      <td>Константин</td>\n",
       "      <td>26</td>\n",
       "      <td>Ростов-на-Дону</td>\n",
       "      <td>ultra</td>\n",
       "    </tr>\n",
       "    <tr>\n",
       "      <th>4</th>\n",
       "      <td>5</td>\n",
       "      <td>Адель</td>\n",
       "      <td>28</td>\n",
       "      <td>Омск</td>\n",
       "      <td>ultra</td>\n",
       "    </tr>\n",
       "  </tbody>\n",
       "</table>\n",
       "</div>"
      ],
      "text/plain": [
       "   user_id        name  age            city subscription_type\n",
       "0        1        Кира   22          Тюмень             ultra\n",
       "1        2   Станислав   31            Омск             ultra\n",
       "2        3     Алексей   20          Москва             ultra\n",
       "3        4  Константин   26  Ростов-на-Дону             ultra\n",
       "4        5       Адель   28            Омск             ultra"
      ]
     },
     "execution_count": 2,
     "metadata": {},
     "output_type": "execute_result"
    }
   ],
   "source": [
    "users_data = pd.read_csv('/datasets/users_go.csv')\n",
    "display(users_data.info())\n",
    "users_data.head()\n"
   ]
  },
  {
   "cell_type": "code",
   "execution_count": 3,
   "id": "c6b46d48",
   "metadata": {
    "scrolled": true
   },
   "outputs": [
    {
     "name": "stdout",
     "output_type": "stream",
     "text": [
      "<class 'pandas.core.frame.DataFrame'>\n",
      "RangeIndex: 18068 entries, 0 to 18067\n",
      "Data columns (total 4 columns):\n",
      " #   Column    Non-Null Count  Dtype  \n",
      "---  ------    --------------  -----  \n",
      " 0   user_id   18068 non-null  int64  \n",
      " 1   distance  18068 non-null  float64\n",
      " 2   duration  18068 non-null  float64\n",
      " 3   date      18068 non-null  object \n",
      "dtypes: float64(2), int64(1), object(1)\n",
      "memory usage: 564.8+ KB\n"
     ]
    },
    {
     "data": {
      "text/plain": [
       "None"
      ]
     },
     "metadata": {},
     "output_type": "display_data"
    }
   ],
   "source": [
    "rides_data= pd.read_csv('/datasets/rides_go.csv')\n",
    "display(rides_data.info())\n",
    "#print(rides_data.head())\n",
    "temp = rides_data['distance'].unique()\n",
    "#sorted(temp) # нулевых значений здесь нет\n",
    "#rides_data['duration'] = np.ceil(rides_data['duration']) # для задания из п 5.2 - округляем вверх"
   ]
  },
  {
   "cell_type": "code",
   "execution_count": 4,
   "id": "d65211ce",
   "metadata": {},
   "outputs": [
    {
     "name": "stdout",
     "output_type": "stream",
     "text": [
      "<class 'pandas.core.frame.DataFrame'>\n",
      "RangeIndex: 2 entries, 0 to 1\n",
      "Data columns (total 4 columns):\n",
      " #   Column             Non-Null Count  Dtype \n",
      "---  ------             --------------  ----- \n",
      " 0   subscription_type  2 non-null      object\n",
      " 1   minute_price       2 non-null      int64 \n",
      " 2   start_ride_price   2 non-null      int64 \n",
      " 3   subscription_fee   2 non-null      int64 \n",
      "dtypes: int64(3), object(1)\n",
      "memory usage: 192.0+ bytes\n"
     ]
    },
    {
     "data": {
      "text/plain": [
       "None"
      ]
     },
     "metadata": {},
     "output_type": "display_data"
    },
    {
     "data": {
      "text/html": [
       "<div>\n",
       "<style scoped>\n",
       "    .dataframe tbody tr th:only-of-type {\n",
       "        vertical-align: middle;\n",
       "    }\n",
       "\n",
       "    .dataframe tbody tr th {\n",
       "        vertical-align: top;\n",
       "    }\n",
       "\n",
       "    .dataframe thead th {\n",
       "        text-align: right;\n",
       "    }\n",
       "</style>\n",
       "<table border=\"1\" class=\"dataframe\">\n",
       "  <thead>\n",
       "    <tr style=\"text-align: right;\">\n",
       "      <th></th>\n",
       "      <th>subscription_type</th>\n",
       "      <th>minute_price</th>\n",
       "      <th>start_ride_price</th>\n",
       "      <th>subscription_fee</th>\n",
       "    </tr>\n",
       "  </thead>\n",
       "  <tbody>\n",
       "    <tr>\n",
       "      <th>0</th>\n",
       "      <td>free</td>\n",
       "      <td>8</td>\n",
       "      <td>50</td>\n",
       "      <td>0</td>\n",
       "    </tr>\n",
       "    <tr>\n",
       "      <th>1</th>\n",
       "      <td>ultra</td>\n",
       "      <td>6</td>\n",
       "      <td>0</td>\n",
       "      <td>199</td>\n",
       "    </tr>\n",
       "  </tbody>\n",
       "</table>\n",
       "</div>"
      ],
      "text/plain": [
       "  subscription_type  minute_price  start_ride_price  subscription_fee\n",
       "0              free             8                50                 0\n",
       "1             ultra             6                 0               199"
      ]
     },
     "execution_count": 4,
     "metadata": {},
     "output_type": "execute_result"
    }
   ],
   "source": [
    "subscriptions_data = pd.read_csv('/datasets/subscriptions_go.csv')\n",
    "display(subscriptions_data.info())\n",
    "subscriptions_data.head()"
   ]
  },
  {
   "cell_type": "markdown",
   "id": "88313daf",
   "metadata": {},
   "source": [
    "Загрузили 3 датасета. Пропусков в них нет."
   ]
  },
  {
   "cell_type": "markdown",
   "id": "e95ebca7",
   "metadata": {},
   "source": [
    "#### Шаг 2. Предобработка данных"
   ]
  },
  {
   "cell_type": "markdown",
   "id": "057bc4ca",
   "metadata": {},
   "source": [
    "приводим столбец data к типу данных pandas:"
   ]
  },
  {
   "cell_type": "code",
   "execution_count": 5,
   "id": "e64ab3ef",
   "metadata": {},
   "outputs": [
    {
     "data": {
      "text/html": [
       "<div>\n",
       "<style scoped>\n",
       "    .dataframe tbody tr th:only-of-type {\n",
       "        vertical-align: middle;\n",
       "    }\n",
       "\n",
       "    .dataframe tbody tr th {\n",
       "        vertical-align: top;\n",
       "    }\n",
       "\n",
       "    .dataframe thead th {\n",
       "        text-align: right;\n",
       "    }\n",
       "</style>\n",
       "<table border=\"1\" class=\"dataframe\">\n",
       "  <thead>\n",
       "    <tr style=\"text-align: right;\">\n",
       "      <th></th>\n",
       "      <th>user_id</th>\n",
       "      <th>distance</th>\n",
       "      <th>duration</th>\n",
       "      <th>date</th>\n",
       "    </tr>\n",
       "  </thead>\n",
       "  <tbody>\n",
       "    <tr>\n",
       "      <th>0</th>\n",
       "      <td>1</td>\n",
       "      <td>4409.919140</td>\n",
       "      <td>25.599769</td>\n",
       "      <td>2021-01-01</td>\n",
       "    </tr>\n",
       "    <tr>\n",
       "      <th>1</th>\n",
       "      <td>1</td>\n",
       "      <td>2617.592153</td>\n",
       "      <td>15.816871</td>\n",
       "      <td>2021-01-18</td>\n",
       "    </tr>\n",
       "    <tr>\n",
       "      <th>2</th>\n",
       "      <td>1</td>\n",
       "      <td>754.159807</td>\n",
       "      <td>6.232113</td>\n",
       "      <td>2021-04-20</td>\n",
       "    </tr>\n",
       "    <tr>\n",
       "      <th>3</th>\n",
       "      <td>1</td>\n",
       "      <td>2694.783254</td>\n",
       "      <td>18.511000</td>\n",
       "      <td>2021-08-11</td>\n",
       "    </tr>\n",
       "    <tr>\n",
       "      <th>4</th>\n",
       "      <td>1</td>\n",
       "      <td>4028.687306</td>\n",
       "      <td>26.265803</td>\n",
       "      <td>2021-08-28</td>\n",
       "    </tr>\n",
       "  </tbody>\n",
       "</table>\n",
       "</div>"
      ],
      "text/plain": [
       "   user_id     distance   duration       date\n",
       "0        1  4409.919140  25.599769 2021-01-01\n",
       "1        1  2617.592153  15.816871 2021-01-18\n",
       "2        1   754.159807   6.232113 2021-04-20\n",
       "3        1  2694.783254  18.511000 2021-08-11\n",
       "4        1  4028.687306  26.265803 2021-08-28"
      ]
     },
     "metadata": {},
     "output_type": "display_data"
    },
    {
     "name": "stdout",
     "output_type": "stream",
     "text": [
      "<class 'pandas.core.frame.DataFrame'>\n",
      "RangeIndex: 18068 entries, 0 to 18067\n",
      "Data columns (total 4 columns):\n",
      " #   Column    Non-Null Count  Dtype         \n",
      "---  ------    --------------  -----         \n",
      " 0   user_id   18068 non-null  int64         \n",
      " 1   distance  18068 non-null  float64       \n",
      " 2   duration  18068 non-null  float64       \n",
      " 3   date      18068 non-null  datetime64[ns]\n",
      "dtypes: datetime64[ns](1), float64(2), int64(1)\n",
      "memory usage: 564.8 KB\n"
     ]
    }
   ],
   "source": [
    "rides_data['date'] = pd.to_datetime(rides_data['date'], format='%Y-%m-%d')\n",
    "display(rides_data.head())\n",
    "rides_data.info()"
   ]
  },
  {
   "cell_type": "markdown",
   "id": "c42c53a3",
   "metadata": {},
   "source": [
    "добавляем столбец month:"
   ]
  },
  {
   "cell_type": "code",
   "execution_count": 6,
   "id": "b1002626",
   "metadata": {
    "scrolled": false
   },
   "outputs": [
    {
     "data": {
      "text/plain": [
       "2021-12-22    72\n",
       "2021-01-12    70\n",
       "2021-12-27    69\n",
       "2021-08-20    67\n",
       "2021-06-09    67\n",
       "              ..\n",
       "2021-11-07    35\n",
       "2021-07-30    35\n",
       "2021-12-15    34\n",
       "2021-02-02    34\n",
       "2021-07-03    31\n",
       "Name: date, Length: 364, dtype: int64"
      ]
     },
     "metadata": {},
     "output_type": "display_data"
    },
    {
     "data": {
      "text/plain": [
       "Int64Index([2021], dtype='int64', name='date')"
      ]
     },
     "execution_count": 6,
     "metadata": {},
     "output_type": "execute_result"
    }
   ],
   "source": [
    "display(rides_data['date'].value_counts())\n",
    "rides_data['month'] = pd.DatetimeIndex(rides_data['date']).month\n",
    "\n",
    "# проверяем за один год данные или за несколько:\n",
    "year = pd.DatetimeIndex(rides_data['date']).year\n",
    "year.unique() "
   ]
  },
  {
   "cell_type": "markdown",
   "id": "80dd347a",
   "metadata": {},
   "source": [
    "проверяем наличие пропусков: пропусков нет"
   ]
  },
  {
   "cell_type": "code",
   "execution_count": 7,
   "id": "d677273b",
   "metadata": {},
   "outputs": [
    {
     "data": {
      "text/plain": [
       "user_id              0\n",
       "name                 0\n",
       "age                  0\n",
       "city                 0\n",
       "subscription_type    0\n",
       "dtype: int64"
      ]
     },
     "metadata": {},
     "output_type": "display_data"
    },
    {
     "data": {
      "text/plain": [
       "user_id     0\n",
       "distance    0\n",
       "duration    0\n",
       "date        0\n",
       "month       0\n",
       "dtype: int64"
      ]
     },
     "metadata": {},
     "output_type": "display_data"
    },
    {
     "data": {
      "text/plain": [
       "subscription_type    0\n",
       "minute_price         0\n",
       "start_ride_price     0\n",
       "subscription_fee     0\n",
       "dtype: int64"
      ]
     },
     "execution_count": 7,
     "metadata": {},
     "output_type": "execute_result"
    }
   ],
   "source": [
    "display(users_data.isna().sum())\n",
    "display(rides_data.isna().sum())\n",
    "subscriptions_data.isna().sum()"
   ]
  },
  {
   "cell_type": "markdown",
   "id": "5cc783a0",
   "metadata": {},
   "source": [
    "проверяем наличие дубликатов:"
   ]
  },
  {
   "cell_type": "code",
   "execution_count": 8,
   "id": "98e46fde",
   "metadata": {},
   "outputs": [
    {
     "data": {
      "text/plain": [
       "209     2\n",
       "807     2\n",
       "611     2\n",
       "43      2\n",
       "737     2\n",
       "       ..\n",
       "520     1\n",
       "519     1\n",
       "518     1\n",
       "517     1\n",
       "1534    1\n",
       "Name: user_id, Length: 1534, dtype: int64"
      ]
     },
     "metadata": {},
     "output_type": "display_data"
    },
    {
     "name": "stdout",
     "output_type": "stream",
     "text": [
      "Количество дубликатов равно  31\n"
     ]
    },
    {
     "data": {
      "text/plain": [
       "1       1\n",
       "1020    1\n",
       "1029    1\n",
       "1028    1\n",
       "1027    1\n",
       "       ..\n",
       "510     1\n",
       "509     1\n",
       "508     1\n",
       "507     1\n",
       "1534    1\n",
       "Name: user_id, Length: 1534, dtype: int64"
      ]
     },
     "metadata": {},
     "output_type": "display_data"
    },
    {
     "name": "stdout",
     "output_type": "stream",
     "text": [
      "Количество дубликатов равно  0\n"
     ]
    }
   ],
   "source": [
    "#display(users_data.duplicated())\n",
    "display(users_data['user_id'].value_counts()) #некоторые id повторяются - необходимо удалить дубликаты\n",
    "print('Количество дубликатов равно ', users_data.duplicated().sum()) # нашли 31 дубликат\n",
    "users_data = users_data.drop_duplicates().reset_index(drop=True)\n",
    "\n",
    "display(users_data['user_id'].value_counts()) # теперь все id встречаются в датасете по 1 разу\n",
    "print('Количество дубликатов равно ', users_data.duplicated().sum())\n"
   ]
  },
  {
   "cell_type": "code",
   "execution_count": 9,
   "id": "28328ac9",
   "metadata": {},
   "outputs": [
    {
     "name": "stdout",
     "output_type": "stream",
     "text": [
      "0\n",
      "0\n"
     ]
    }
   ],
   "source": [
    "print(rides_data.duplicated().sum())\n",
    "print(subscriptions_data.duplicated().sum())"
   ]
  },
  {
   "cell_type": "markdown",
   "id": "9d0da844",
   "metadata": {},
   "source": [
    "Вывод: дубликаты были только в датасете users_data, они были удалены"
   ]
  },
  {
   "cell_type": "code",
   "execution_count": 11,
   "id": "e34a9e24",
   "metadata": {},
   "outputs": [
    {
     "data": {
      "text/plain": [
       "<AxesSubplot:>"
      ]
     },
     "execution_count": 11,
     "metadata": {},
     "output_type": "execute_result"
    },
    {
     "data": {
      "image/png": "[encoded data removed]",
      "text/plain": [
       "<Figure size 432x288 with 1 Axes>"
      ]
     },
     "metadata": {
      "needs_background": "light"
     },
     "output_type": "display_data"
    }
   ],
   "source": [
    "import matplotlib.pyplot as plt\n",
    "rides_data['duration'].describe()\n",
    "plt.ylim(0, 5)\n",
    "rides_data.boxplot(column='duration')"
   ]
  },
  {
   "cell_type": "code",
   "execution_count": 12,
   "id": "56e1c326",
   "metadata": {},
   "outputs": [
    {
     "name": "stdout",
     "output_type": "stream",
     "text": [
      "0.5367776552505346\n"
     ]
    },
    {
     "data": {
      "text/html": [
       "<div>\n",
       "<style scoped>\n",
       "    .dataframe tbody tr th:only-of-type {\n",
       "        vertical-align: middle;\n",
       "    }\n",
       "\n",
       "    .dataframe tbody tr th {\n",
       "        vertical-align: top;\n",
       "    }\n",
       "\n",
       "    .dataframe thead th {\n",
       "        text-align: right;\n",
       "    }\n",
       "</style>\n",
       "<table border=\"1\" class=\"dataframe\">\n",
       "  <thead>\n",
       "    <tr style=\"text-align: right;\">\n",
       "      <th></th>\n",
       "      <th>user_id</th>\n",
       "      <th>distance</th>\n",
       "      <th>duration</th>\n",
       "      <th>date</th>\n",
       "      <th>month</th>\n",
       "    </tr>\n",
       "  </thead>\n",
       "  <tbody>\n",
       "    <tr>\n",
       "      <th>6531</th>\n",
       "      <td>701</td>\n",
       "      <td>4196.445201</td>\n",
       "      <td>0.5</td>\n",
       "      <td>2021-08-31</td>\n",
       "      <td>8</td>\n",
       "    </tr>\n",
       "    <tr>\n",
       "      <th>6570</th>\n",
       "      <td>704</td>\n",
       "      <td>4830.824371</td>\n",
       "      <td>0.5</td>\n",
       "      <td>2021-10-14</td>\n",
       "      <td>10</td>\n",
       "    </tr>\n",
       "    <tr>\n",
       "      <th>6680</th>\n",
       "      <td>712</td>\n",
       "      <td>4684.004397</td>\n",
       "      <td>0.5</td>\n",
       "      <td>2021-03-04</td>\n",
       "      <td>3</td>\n",
       "    </tr>\n",
       "    <tr>\n",
       "      <th>6695</th>\n",
       "      <td>713</td>\n",
       "      <td>5215.642710</td>\n",
       "      <td>0.5</td>\n",
       "      <td>2021-02-25</td>\n",
       "      <td>2</td>\n",
       "    </tr>\n",
       "    <tr>\n",
       "      <th>6768</th>\n",
       "      <td>718</td>\n",
       "      <td>5197.436649</td>\n",
       "      <td>0.5</td>\n",
       "      <td>2021-02-11</td>\n",
       "      <td>2</td>\n",
       "    </tr>\n",
       "    <tr>\n",
       "      <th>...</th>\n",
       "      <td>...</td>\n",
       "      <td>...</td>\n",
       "      <td>...</td>\n",
       "      <td>...</td>\n",
       "      <td>...</td>\n",
       "    </tr>\n",
       "    <tr>\n",
       "      <th>17004</th>\n",
       "      <td>1460</td>\n",
       "      <td>5531.335845</td>\n",
       "      <td>0.5</td>\n",
       "      <td>2021-01-19</td>\n",
       "      <td>1</td>\n",
       "    </tr>\n",
       "    <tr>\n",
       "      <th>17242</th>\n",
       "      <td>1477</td>\n",
       "      <td>6724.932981</td>\n",
       "      <td>0.5</td>\n",
       "      <td>2021-01-12</td>\n",
       "      <td>1</td>\n",
       "    </tr>\n",
       "    <tr>\n",
       "      <th>17314</th>\n",
       "      <td>1483</td>\n",
       "      <td>4445.481070</td>\n",
       "      <td>0.5</td>\n",
       "      <td>2021-03-06</td>\n",
       "      <td>3</td>\n",
       "    </tr>\n",
       "    <tr>\n",
       "      <th>17505</th>\n",
       "      <td>1496</td>\n",
       "      <td>5722.551787</td>\n",
       "      <td>0.5</td>\n",
       "      <td>2021-02-14</td>\n",
       "      <td>2</td>\n",
       "    </tr>\n",
       "    <tr>\n",
       "      <th>17909</th>\n",
       "      <td>1524</td>\n",
       "      <td>4103.998874</td>\n",
       "      <td>0.5</td>\n",
       "      <td>2021-06-18</td>\n",
       "      <td>6</td>\n",
       "    </tr>\n",
       "  </tbody>\n",
       "</table>\n",
       "<p>95 rows × 5 columns</p>\n",
       "</div>"
      ],
      "text/plain": [
       "       user_id     distance  duration       date  month\n",
       "6531       701  4196.445201       0.5 2021-08-31      8\n",
       "6570       704  4830.824371       0.5 2021-10-14     10\n",
       "6680       712  4684.004397       0.5 2021-03-04      3\n",
       "6695       713  5215.642710       0.5 2021-02-25      2\n",
       "6768       718  5197.436649       0.5 2021-02-11      2\n",
       "...        ...          ...       ...        ...    ...\n",
       "17004     1460  5531.335845       0.5 2021-01-19      1\n",
       "17242     1477  6724.932981       0.5 2021-01-12      1\n",
       "17314     1483  4445.481070       0.5 2021-03-06      3\n",
       "17505     1496  5722.551787       0.5 2021-02-14      2\n",
       "17909     1524  4103.998874       0.5 2021-06-18      6\n",
       "\n",
       "[95 rows x 5 columns]"
      ]
     },
     "metadata": {},
     "output_type": "display_data"
    },
    {
     "data": {
      "text/html": [
       "<div>\n",
       "<style scoped>\n",
       "    .dataframe tbody tr th:only-of-type {\n",
       "        vertical-align: middle;\n",
       "    }\n",
       "\n",
       "    .dataframe tbody tr th {\n",
       "        vertical-align: top;\n",
       "    }\n",
       "\n",
       "    .dataframe thead th {\n",
       "        text-align: right;\n",
       "    }\n",
       "</style>\n",
       "<table border=\"1\" class=\"dataframe\">\n",
       "  <thead>\n",
       "    <tr style=\"text-align: right;\">\n",
       "      <th></th>\n",
       "      <th>user_id</th>\n",
       "      <th>distance</th>\n",
       "      <th>duration</th>\n",
       "      <th>date</th>\n",
       "      <th>month</th>\n",
       "    </tr>\n",
       "  </thead>\n",
       "  <tbody>\n",
       "    <tr>\n",
       "      <th>6679</th>\n",
       "      <td>712</td>\n",
       "      <td>2235.247794</td>\n",
       "      <td>18.579633</td>\n",
       "      <td>2021-01-05</td>\n",
       "      <td>1</td>\n",
       "    </tr>\n",
       "    <tr>\n",
       "      <th>6680</th>\n",
       "      <td>712</td>\n",
       "      <td>4684.004397</td>\n",
       "      <td>0.500000</td>\n",
       "      <td>2021-03-04</td>\n",
       "      <td>3</td>\n",
       "    </tr>\n",
       "    <tr>\n",
       "      <th>6681</th>\n",
       "      <td>712</td>\n",
       "      <td>401.601185</td>\n",
       "      <td>14.268214</td>\n",
       "      <td>2021-03-31</td>\n",
       "      <td>3</td>\n",
       "    </tr>\n",
       "    <tr>\n",
       "      <th>6682</th>\n",
       "      <td>712</td>\n",
       "      <td>2243.336137</td>\n",
       "      <td>12.852181</td>\n",
       "      <td>2021-04-07</td>\n",
       "      <td>4</td>\n",
       "    </tr>\n",
       "    <tr>\n",
       "      <th>6683</th>\n",
       "      <td>712</td>\n",
       "      <td>2377.171297</td>\n",
       "      <td>10.705211</td>\n",
       "      <td>2021-07-04</td>\n",
       "      <td>7</td>\n",
       "    </tr>\n",
       "    <tr>\n",
       "      <th>6684</th>\n",
       "      <td>712</td>\n",
       "      <td>2729.394629</td>\n",
       "      <td>18.917579</td>\n",
       "      <td>2021-08-14</td>\n",
       "      <td>8</td>\n",
       "    </tr>\n",
       "    <tr>\n",
       "      <th>6685</th>\n",
       "      <td>712</td>\n",
       "      <td>3220.067036</td>\n",
       "      <td>12.400175</td>\n",
       "      <td>2021-08-22</td>\n",
       "      <td>8</td>\n",
       "    </tr>\n",
       "    <tr>\n",
       "      <th>6686</th>\n",
       "      <td>712</td>\n",
       "      <td>3457.771060</td>\n",
       "      <td>21.860569</td>\n",
       "      <td>2021-09-24</td>\n",
       "      <td>9</td>\n",
       "    </tr>\n",
       "    <tr>\n",
       "      <th>6687</th>\n",
       "      <td>712</td>\n",
       "      <td>2047.063241</td>\n",
       "      <td>12.773128</td>\n",
       "      <td>2021-10-21</td>\n",
       "      <td>10</td>\n",
       "    </tr>\n",
       "    <tr>\n",
       "      <th>6688</th>\n",
       "      <td>712</td>\n",
       "      <td>2030.482218</td>\n",
       "      <td>7.685728</td>\n",
       "      <td>2021-10-23</td>\n",
       "      <td>10</td>\n",
       "    </tr>\n",
       "    <tr>\n",
       "      <th>6689</th>\n",
       "      <td>712</td>\n",
       "      <td>244.799452</td>\n",
       "      <td>5.863998</td>\n",
       "      <td>2021-11-18</td>\n",
       "      <td>11</td>\n",
       "    </tr>\n",
       "    <tr>\n",
       "      <th>6690</th>\n",
       "      <td>712</td>\n",
       "      <td>4181.992672</td>\n",
       "      <td>34.909963</td>\n",
       "      <td>2021-11-20</td>\n",
       "      <td>11</td>\n",
       "    </tr>\n",
       "    <tr>\n",
       "      <th>6691</th>\n",
       "      <td>712</td>\n",
       "      <td>23.963062</td>\n",
       "      <td>2.053251</td>\n",
       "      <td>2021-11-22</td>\n",
       "      <td>11</td>\n",
       "    </tr>\n",
       "    <tr>\n",
       "      <th>6692</th>\n",
       "      <td>712</td>\n",
       "      <td>300.702377</td>\n",
       "      <td>7.949586</td>\n",
       "      <td>2021-12-29</td>\n",
       "      <td>12</td>\n",
       "    </tr>\n",
       "  </tbody>\n",
       "</table>\n",
       "</div>"
      ],
      "text/plain": [
       "      user_id     distance   duration       date  month\n",
       "6679      712  2235.247794  18.579633 2021-01-05      1\n",
       "6680      712  4684.004397   0.500000 2021-03-04      3\n",
       "6681      712   401.601185  14.268214 2021-03-31      3\n",
       "6682      712  2243.336137  12.852181 2021-04-07      4\n",
       "6683      712  2377.171297  10.705211 2021-07-04      7\n",
       "6684      712  2729.394629  18.917579 2021-08-14      8\n",
       "6685      712  3220.067036  12.400175 2021-08-22      8\n",
       "6686      712  3457.771060  21.860569 2021-09-24      9\n",
       "6687      712  2047.063241  12.773128 2021-10-21     10\n",
       "6688      712  2030.482218   7.685728 2021-10-23     10\n",
       "6689      712   244.799452   5.863998 2021-11-18     11\n",
       "6690      712  4181.992672  34.909963 2021-11-20     11\n",
       "6691      712    23.963062   2.053251 2021-11-22     11\n",
       "6692      712   300.702377   7.949586 2021-12-29     12"
      ]
     },
     "execution_count": 12,
     "metadata": {},
     "output_type": "execute_result"
    },
    {
     "data": {
      "image/png": "[encoded data removed]",
      "text/plain": [
       "<Figure size 864x432 with 1 Axes>"
      ]
     },
     "metadata": {
      "needs_background": "light"
     },
     "output_type": "display_data"
    }
   ],
   "source": [
    "rides_data.plot(x='duration', y='distance', style='o', ylim=(0, 8000), grid=True, figsize=(12, 6))\n",
    "print(rides_data['duration'].corr(rides_data['distance']))\n",
    "display(rides_data[rides_data['duration'] == 0.5])\n",
    "rides_data[rides_data['user_id'] == 712]"
   ]
  },
  {
   "cell_type": "markdown",
   "id": "3a02afdc",
   "metadata": {},
   "source": [
    "    \n",
    "Выбросы, судя по боксплоту, есть в обеих выборках. Максимальные расстояния вполнне можно проехать за максимально представленное время, но на графике видно, что есть определенная группа поездок с практически нулевым временем (полминуты), при этом пройденное расстояние - от 4 км и больше (до 7 км и  более, т.е. нереальное). Данные пользователей (id, расстояние, время) у всех таких строк разные, похоже, это реально зафиксированные поездки, по которым длительность принято было учитывать за полминуты. Пока могу только предположить, что это были разовые акции (типа, следующая поездка по цене 1 минуты)."
   ]
  },
  {
   "cell_type": "markdown",
   "id": "212593c7",
   "metadata": {},
   "source": [
    "#### Шаг 3. Исследовательский анализ данных. \n",
    "Опишем и визуализируем общую информацию о пользователях и поездках:"
   ]
  },
  {
   "cell_type": "markdown",
   "id": "f09b7148",
   "metadata": {},
   "source": [
    "3.1. частота встречаемости городов"
   ]
  },
  {
   "cell_type": "code",
   "execution_count": 13,
   "id": "c6ccf970",
   "metadata": {},
   "outputs": [
    {
     "data": {
      "text/plain": [
       "Text(0.5, 0, 'Количество пользователей')"
      ]
     },
     "execution_count": 13,
     "metadata": {},
     "output_type": "execute_result"
    },
    {
     "data": {
      "image/png": "[encoded data removed]",
      "text/plain": [
       "<Figure size 864x504 with 1 Axes>"
      ]
     },
     "metadata": {
      "needs_background": "light"
     },
     "output_type": "display_data"
    }
   ],
   "source": [
    "nd =    (users_data \n",
    "    .pivot_table(index='city', values='user_id', aggfunc=['count'])\n",
    "        )\n",
    "nd.columns = ['count']\n",
    "nd = nd.sort_values(by = 'count', ascending = False)\n",
    "nd.plot(kind = 'barh', grid=True, figsize=(12, 7))\n",
    "plt.title('График распределения пользователей по городам')\n",
    "plt.ylabel('Название города')\n",
    "plt.xlabel('Количество пользователей')\n",
    "#plt.text(nd['count'], ['city'], ['count'])\n",
    "\n",
    "    \n"
   ]
  },
  {
   "cell_type": "code",
   "execution_count": 14,
   "id": "46bab519",
   "metadata": {},
   "outputs": [
    {
     "data": {
      "text/html": [
       "<div>\n",
       "<style scoped>\n",
       "    .dataframe tbody tr th:only-of-type {\n",
       "        vertical-align: middle;\n",
       "    }\n",
       "\n",
       "    .dataframe tbody tr th {\n",
       "        vertical-align: top;\n",
       "    }\n",
       "\n",
       "    .dataframe thead th {\n",
       "        text-align: right;\n",
       "    }\n",
       "</style>\n",
       "<table border=\"1\" class=\"dataframe\">\n",
       "  <thead>\n",
       "    <tr style=\"text-align: right;\">\n",
       "      <th></th>\n",
       "      <th>count</th>\n",
       "    </tr>\n",
       "    <tr>\n",
       "      <th>city</th>\n",
       "      <th></th>\n",
       "    </tr>\n",
       "  </thead>\n",
       "  <tbody>\n",
       "    <tr>\n",
       "      <th>Пятигорск</th>\n",
       "      <td>219</td>\n",
       "    </tr>\n",
       "    <tr>\n",
       "      <th>Екатеринбург</th>\n",
       "      <td>204</td>\n",
       "    </tr>\n",
       "    <tr>\n",
       "      <th>Ростов-на-Дону</th>\n",
       "      <td>198</td>\n",
       "    </tr>\n",
       "    <tr>\n",
       "      <th>Краснодар</th>\n",
       "      <td>193</td>\n",
       "    </tr>\n",
       "    <tr>\n",
       "      <th>Сочи</th>\n",
       "      <td>189</td>\n",
       "    </tr>\n",
       "    <tr>\n",
       "      <th>Омск</th>\n",
       "      <td>183</td>\n",
       "    </tr>\n",
       "    <tr>\n",
       "      <th>Тюмень</th>\n",
       "      <td>180</td>\n",
       "    </tr>\n",
       "    <tr>\n",
       "      <th>Москва</th>\n",
       "      <td>168</td>\n",
       "    </tr>\n",
       "  </tbody>\n",
       "</table>\n",
       "</div>"
      ],
      "text/plain": [
       "                count\n",
       "city                 \n",
       "Пятигорск         219\n",
       "Екатеринбург      204\n",
       "Ростов-на-Дону    198\n",
       "Краснодар         193\n",
       "Сочи              189\n",
       "Омск              183\n",
       "Тюмень            180\n",
       "Москва            168"
      ]
     },
     "metadata": {},
     "output_type": "display_data"
    },
    {
     "data": {
      "image/png": "[encoded data removed]",
      "text/plain": [
       "<Figure size 432x288 with 1 Axes>"
      ]
     },
     "metadata": {
      "needs_background": "light"
     },
     "output_type": "display_data"
    }
   ],
   "source": [
    "ax = users_data['city'].value_counts().plot(kind='barh')\n",
    "for p in ax.patches:\n",
    "    ax.annotate(str(p.get_width()), (p.get_x() + p.get_width() * 0.5, p.get_y() + p.get_height() * 0.5), ha='center', va='center', color='white');\n",
    "display(nd) "
   ]
  },
  {
   "cell_type": "markdown",
   "id": "43ce754a",
   "metadata": {},
   "source": [
    "3.2 соотношение пользователей с подпиской и без подписки"
   ]
  },
  {
   "cell_type": "code",
   "execution_count": 15,
   "id": "4c6cf5f5",
   "metadata": {
    "scrolled": false
   },
   "outputs": [
    {
     "name": "stdout",
     "output_type": "stream",
     "text": [
      "                   count\n",
      "subscription_type       \n",
      "free                 835\n",
      "ultra                699\n",
      "Соотношение пользователей с подпиской и без подписки равно: 1.1946, т.е. пользователей без подписки больше на 19.46%, , чем пользователей с подпиской\n"
     ]
    },
    {
     "data": {
      "image/png": "[encoded data removed]",
      "text/plain": [
       "<Figure size 864x360 with 1 Axes>"
      ]
     },
     "metadata": {
      "needs_background": "light"
     },
     "output_type": "display_data"
    }
   ],
   "source": [
    "nd =    (users_data \n",
    "    .pivot_table(index='subscription_type', values='user_id', aggfunc=['count'])\n",
    "        )\n",
    "nd.columns = ['count']\n",
    "nd = nd.sort_values(by = 'count', ascending = False)\n",
    "nd.plot(kind = 'bar', grid=True, figsize=(12, 5))\n",
    "print(nd)\n",
    "\n",
    "ratio = nd.loc['free', 'count'] / nd.loc['ultra', 'count']\n",
    "print(f'Соотношение пользователей с подпиской и без подписки равно: {round(ratio, 4)}, т.е. пользователей без \\\n",
    "подписки больше на {round((ratio - 1)*100, 2)}%, , чем пользователей с подпиской')"
   ]
  },
  {
   "cell_type": "code",
   "execution_count": 16,
   "id": "8df6f3fe",
   "metadata": {},
   "outputs": [
    {
     "data": {
      "text/plain": [
       "Text(0, 0.5, 'Количество пользователей')"
      ]
     },
     "execution_count": 16,
     "metadata": {},
     "output_type": "execute_result"
    },
    {
     "data": {
      "image/png": "[encoded data removed]",
      "text/plain": [
       "<Figure size 864x360 with 1 Axes>"
      ]
     },
     "metadata": {},
     "output_type": "display_data"
    }
   ],
   "source": [
    "nd.plot(kind = 'pie', grid=True, figsize=(12, 5), subplots = True, labels = \\\n",
    "        ['Без подписки', 'С подпиской'], autopct='%1.2f%%')\n",
    "plt.title('Cоотношение пользователей с подпиской и без подписки')\n",
    "plt.ylabel('Количество пользователей')"
   ]
  },
  {
   "cell_type": "markdown",
   "id": "3f3744ea",
   "metadata": {},
   "source": [
    "3.3 возраст пользователей"
   ]
  },
  {
   "cell_type": "code",
   "execution_count": 17,
   "id": "4263e802",
   "metadata": {},
   "outputs": [
    {
     "data": {
      "text/plain": [
       "count    1534.000000\n",
       "mean       24.903520\n",
       "std         4.572367\n",
       "min        12.000000\n",
       "25%        22.000000\n",
       "50%        25.000000\n",
       "75%        28.000000\n",
       "max        43.000000\n",
       "Name: age, dtype: float64"
      ]
     },
     "execution_count": 17,
     "metadata": {},
     "output_type": "execute_result"
    },
    {
     "data": {
      "image/png": "[encoded data removed]",
      "text/plain": [
       "<Figure size 432x288 with 1 Axes>"
      ]
     },
     "metadata": {
      "needs_background": "light"
     },
     "output_type": "display_data"
    }
   ],
   "source": [
    "users_data.hist('age', bins = 100, range = (0, 45))\n",
    "plt.title('Распределение пользователей по возрасту')\n",
    "plt.xlabel('Возраст, лет')\n",
    "plt.ylabel('Количество пользователей')\n",
    "users_data['age'].describe()"
   ]
  },
  {
   "cell_type": "markdown",
   "id": "cc107021",
   "metadata": {},
   "source": [
    "возраст пользователей нормально распределен с мин. и макс. значениями около 13 и 44 лет, средний возраст - около 25 лет"
   ]
  },
  {
   "cell_type": "markdown",
   "id": "a3521dde",
   "metadata": {},
   "source": [
    "3.4 расстояние, которое пользователь преодолел за одну поездку"
   ]
  },
  {
   "cell_type": "code",
   "execution_count": 18,
   "id": "276e60bb",
   "metadata": {
    "scrolled": true
   },
   "outputs": [
    {
     "data": {
      "text/plain": [
       "count     1534.000000\n",
       "mean     36167.330144\n",
       "std      13118.521744\n",
       "min       5530.344048\n",
       "25%      26391.076407\n",
       "50%      35494.886400\n",
       "75%      44789.726858\n",
       "max      79325.846482\n",
       "Name: sum, dtype: float64"
      ]
     },
     "execution_count": 18,
     "metadata": {},
     "output_type": "execute_result"
    },
    {
     "data": {
      "image/png": "[encoded data removed]",
      "text/plain": [
       "<Figure size 432x288 with 1 Axes>"
      ]
     },
     "metadata": {
      "needs_background": "light"
     },
     "output_type": "display_data"
    }
   ],
   "source": [
    "nd =    (rides_data \n",
    "    .pivot_table(index='user_id', values='distance', aggfunc=['sum'])\n",
    "        )\n",
    "nd.columns = ['sum']\n",
    "nd.hist('sum', bins = 100)\n",
    "plt.title('Распределение пользователей по сумме расстояний')\n",
    "plt.xlabel('Расстояние, м')\n",
    "plt.ylabel('Количество пользователей')\n",
    "nd['sum'].describe()\n"
   ]
  },
  {
   "cell_type": "markdown",
   "id": "57f4e59c",
   "metadata": {},
   "source": [
    "распределение преодоленных пользователями расстояний так же похоже на нормальное, среднее и медиана не сильно отличаются друг от друга (т.е. значимых аномалий нет), в среднем пользователи преодолели 36 км."
   ]
  },
  {
   "cell_type": "code",
   "execution_count": 19,
   "id": "e1a6efd0",
   "metadata": {},
   "outputs": [
    {
     "data": {
      "text/plain": [
       "count    18068.000000\n",
       "mean      3070.659976\n",
       "std       1116.831209\n",
       "min          0.855683\n",
       "25%       2543.226360\n",
       "50%       3133.609994\n",
       "75%       3776.222735\n",
       "max       7211.007745\n",
       "Name: distance, dtype: float64"
      ]
     },
     "execution_count": 19,
     "metadata": {},
     "output_type": "execute_result"
    },
    {
     "data": {
      "image/png": "[encoded data removed]",
      "text/plain": [
       "<Figure size 432x288 with 1 Axes>"
      ]
     },
     "metadata": {
      "needs_background": "light"
     },
     "output_type": "display_data"
    }
   ],
   "source": [
    "rides_data.hist('distance', bins = 100, range = (0, 8000))\n",
    "plt.title('Распределение пользователей по расстоянию')\n",
    "plt.xlabel('Расстояние, м')\n",
    "plt.ylabel('Количество пользователей')\n",
    "rides_data['distance'].describe()"
   ]
  },
  {
   "cell_type": "markdown",
   "id": "1c1e1186",
   "metadata": {},
   "source": [
    "3.5 продолжительность поездок"
   ]
  },
  {
   "cell_type": "code",
   "execution_count": 20,
   "id": "2cba3483",
   "metadata": {},
   "outputs": [
    {
     "data": {
      "text/plain": [
       "count    1534.000000\n",
       "mean      209.713782\n",
       "std        73.717086\n",
       "min        34.157765\n",
       "25%       156.744972\n",
       "50%       205.399853\n",
       "75%       258.638565\n",
       "max       446.233013\n",
       "Name: sum, dtype: float64"
      ]
     },
     "execution_count": 20,
     "metadata": {},
     "output_type": "execute_result"
    },
    {
     "data": {
      "image/png": "[encoded data removed]",
      "text/plain": [
       "<Figure size 432x288 with 1 Axes>"
      ]
     },
     "metadata": {
      "needs_background": "light"
     },
     "output_type": "display_data"
    }
   ],
   "source": [
    "nd =    (rides_data \n",
    "    .pivot_table(index='user_id', values='duration', aggfunc=['sum'])\n",
    "        )\n",
    "nd.columns = ['sum']\n",
    "nd.hist('sum', bins = 100)\n",
    "plt.title('Распределение пользователей по сумме длительностей поездок')\n",
    "plt.xlabel('Длительность, минут')\n",
    "plt.ylabel('Количество пользователей')\n",
    "nd['sum'].describe()"
   ]
  },
  {
   "cell_type": "markdown",
   "id": "db25dce8",
   "metadata": {},
   "source": [
    "В среднем, пользователи находятся в пути 209 минут, распределение так же похоже на нормальное, медиана и среднее практически равны, т. е. аномалий нет."
   ]
  },
  {
   "cell_type": "code",
   "execution_count": 21,
   "id": "d2d39339",
   "metadata": {},
   "outputs": [
    {
     "data": {
      "text/plain": [
       "count    18068.000000\n",
       "mean        17.805011\n",
       "std          6.091051\n",
       "min          0.500000\n",
       "25%         13.597563\n",
       "50%         17.678395\n",
       "75%         21.724800\n",
       "max         40.823963\n",
       "Name: duration, dtype: float64"
      ]
     },
     "execution_count": 21,
     "metadata": {},
     "output_type": "execute_result"
    },
    {
     "data": {
      "image/png": "[encoded data removed]",
      "text/plain": [
       "<Figure size 432x288 with 1 Axes>"
      ]
     },
     "metadata": {
      "needs_background": "light"
     },
     "output_type": "display_data"
    }
   ],
   "source": [
    "rides_data.hist('duration', bins = 100, range = (0, 45))\n",
    "plt.title('Распределение пользователей по длительности поездки')\n",
    "plt.xlabel('Длительность, минут')\n",
    "plt.ylabel('Количество пользователей')\n",
    "rides_data['duration'].describe()"
   ]
  },
  {
   "cell_type": "markdown",
   "id": "4bcde654",
   "metadata": {},
   "source": [
    "    \n",
    "Если смотреть на неагрегированные данные, то можно увидеть аномалии в районе околонулевой длительности поездки (ранее уже на них указывал). Можно было бы либо предположить причину их возникновения (например, проведение акции \"следующая поездка по цене 1 минуты\"), либо уточнить у источника данных что это такое."
   ]
  },
  {
   "cell_type": "markdown",
   "id": "4ef51331",
   "metadata": {},
   "source": [
    "#### Шаг 4. Объединение данных"
   ]
  },
  {
   "cell_type": "markdown",
   "id": "22fe4f33",
   "metadata": {},
   "source": [
    "4.1 Объединим данные о пользователях, поездках и подписках в один датафрейм"
   ]
  },
  {
   "cell_type": "code",
   "execution_count": 22,
   "id": "6fe4d24d",
   "metadata": {},
   "outputs": [
    {
     "data": {
      "text/plain": [
       "user_id              0\n",
       "name                 0\n",
       "age                  0\n",
       "city                 0\n",
       "subscription_type    0\n",
       "distance             0\n",
       "duration             0\n",
       "date                 0\n",
       "month                0\n",
       "minute_price         0\n",
       "start_ride_price     0\n",
       "subscription_fee     0\n",
       "dtype: int64"
      ]
     },
     "metadata": {},
     "output_type": "display_data"
    },
    {
     "name": "stdout",
     "output_type": "stream",
     "text": [
      "<class 'pandas.core.frame.DataFrame'>\n",
      "Int64Index: 18068 entries, 0 to 18067\n",
      "Data columns (total 12 columns):\n",
      " #   Column             Non-Null Count  Dtype         \n",
      "---  ------             --------------  -----         \n",
      " 0   user_id            18068 non-null  int64         \n",
      " 1   name               18068 non-null  object        \n",
      " 2   age                18068 non-null  int64         \n",
      " 3   city               18068 non-null  object        \n",
      " 4   subscription_type  18068 non-null  object        \n",
      " 5   distance           18068 non-null  float64       \n",
      " 6   duration           18068 non-null  float64       \n",
      " 7   date               18068 non-null  datetime64[ns]\n",
      " 8   month              18068 non-null  int64         \n",
      " 9   minute_price       18068 non-null  int64         \n",
      " 10  start_ride_price   18068 non-null  int64         \n",
      " 11  subscription_fee   18068 non-null  int64         \n",
      "dtypes: datetime64[ns](1), float64(2), int64(6), object(3)\n",
      "memory usage: 1.8+ MB\n"
     ]
    },
    {
     "data": {
      "text/plain": [
       "None"
      ]
     },
     "metadata": {},
     "output_type": "display_data"
    },
    {
     "data": {
      "text/html": [
       "<div>\n",
       "<style scoped>\n",
       "    .dataframe tbody tr th:only-of-type {\n",
       "        vertical-align: middle;\n",
       "    }\n",
       "\n",
       "    .dataframe tbody tr th {\n",
       "        vertical-align: top;\n",
       "    }\n",
       "\n",
       "    .dataframe thead th {\n",
       "        text-align: right;\n",
       "    }\n",
       "</style>\n",
       "<table border=\"1\" class=\"dataframe\">\n",
       "  <thead>\n",
       "    <tr style=\"text-align: right;\">\n",
       "      <th></th>\n",
       "      <th>user_id</th>\n",
       "      <th>name</th>\n",
       "      <th>age</th>\n",
       "      <th>city</th>\n",
       "      <th>subscription_type</th>\n",
       "      <th>distance</th>\n",
       "      <th>duration</th>\n",
       "      <th>date</th>\n",
       "      <th>month</th>\n",
       "      <th>minute_price</th>\n",
       "      <th>start_ride_price</th>\n",
       "      <th>subscription_fee</th>\n",
       "    </tr>\n",
       "  </thead>\n",
       "  <tbody>\n",
       "    <tr>\n",
       "      <th>0</th>\n",
       "      <td>1</td>\n",
       "      <td>Кира</td>\n",
       "      <td>22</td>\n",
       "      <td>Тюмень</td>\n",
       "      <td>ultra</td>\n",
       "      <td>4409.919140</td>\n",
       "      <td>25.599769</td>\n",
       "      <td>2021-01-01</td>\n",
       "      <td>1</td>\n",
       "      <td>6</td>\n",
       "      <td>0</td>\n",
       "      <td>199</td>\n",
       "    </tr>\n",
       "    <tr>\n",
       "      <th>1</th>\n",
       "      <td>1</td>\n",
       "      <td>Кира</td>\n",
       "      <td>22</td>\n",
       "      <td>Тюмень</td>\n",
       "      <td>ultra</td>\n",
       "      <td>2617.592153</td>\n",
       "      <td>15.816871</td>\n",
       "      <td>2021-01-18</td>\n",
       "      <td>1</td>\n",
       "      <td>6</td>\n",
       "      <td>0</td>\n",
       "      <td>199</td>\n",
       "    </tr>\n",
       "    <tr>\n",
       "      <th>2</th>\n",
       "      <td>1</td>\n",
       "      <td>Кира</td>\n",
       "      <td>22</td>\n",
       "      <td>Тюмень</td>\n",
       "      <td>ultra</td>\n",
       "      <td>754.159807</td>\n",
       "      <td>6.232113</td>\n",
       "      <td>2021-04-20</td>\n",
       "      <td>4</td>\n",
       "      <td>6</td>\n",
       "      <td>0</td>\n",
       "      <td>199</td>\n",
       "    </tr>\n",
       "    <tr>\n",
       "      <th>3</th>\n",
       "      <td>1</td>\n",
       "      <td>Кира</td>\n",
       "      <td>22</td>\n",
       "      <td>Тюмень</td>\n",
       "      <td>ultra</td>\n",
       "      <td>2694.783254</td>\n",
       "      <td>18.511000</td>\n",
       "      <td>2021-08-11</td>\n",
       "      <td>8</td>\n",
       "      <td>6</td>\n",
       "      <td>0</td>\n",
       "      <td>199</td>\n",
       "    </tr>\n",
       "    <tr>\n",
       "      <th>4</th>\n",
       "      <td>1</td>\n",
       "      <td>Кира</td>\n",
       "      <td>22</td>\n",
       "      <td>Тюмень</td>\n",
       "      <td>ultra</td>\n",
       "      <td>4028.687306</td>\n",
       "      <td>26.265803</td>\n",
       "      <td>2021-08-28</td>\n",
       "      <td>8</td>\n",
       "      <td>6</td>\n",
       "      <td>0</td>\n",
       "      <td>199</td>\n",
       "    </tr>\n",
       "  </tbody>\n",
       "</table>\n",
       "</div>"
      ],
      "text/plain": [
       "   user_id  name  age    city subscription_type     distance   duration  \\\n",
       "0        1  Кира   22  Тюмень             ultra  4409.919140  25.599769   \n",
       "1        1  Кира   22  Тюмень             ultra  2617.592153  15.816871   \n",
       "2        1  Кира   22  Тюмень             ultra   754.159807   6.232113   \n",
       "3        1  Кира   22  Тюмень             ultra  2694.783254  18.511000   \n",
       "4        1  Кира   22  Тюмень             ultra  4028.687306  26.265803   \n",
       "\n",
       "        date  month  minute_price  start_ride_price  subscription_fee  \n",
       "0 2021-01-01      1             6                 0               199  \n",
       "1 2021-01-18      1             6                 0               199  \n",
       "2 2021-04-20      4             6                 0               199  \n",
       "3 2021-08-11      8             6                 0               199  \n",
       "4 2021-08-28      8             6                 0               199  "
      ]
     },
     "execution_count": 22,
     "metadata": {},
     "output_type": "execute_result"
    }
   ],
   "source": [
    "total_data = users_data.merge(rides_data, on='user_id') \n",
    "total_data = total_data.merge(subscriptions_data, on = 'subscription_type')\n",
    "display(total_data.isna().sum())\n",
    "display(total_data.info())\n",
    "total_data.head()"
   ]
  },
  {
   "cell_type": "markdown",
   "id": "0046180c",
   "metadata": {},
   "source": [
    "\n",
    "    \n",
    "Объединение прошло корректно, лишних записей не появилось, данные не были потеряны. Количество строк совпадает с количеством из таблицы rides_data. Пропусков нет."
   ]
  },
  {
   "cell_type": "markdown",
   "id": "5972f32d",
   "metadata": {},
   "source": [
    "4.2 Создаем ещё один датафрейм из датафрейма, созданного на этапе 4.1:\n",
    "c данными о пользователях без подписки"
   ]
  },
  {
   "cell_type": "code",
   "execution_count": 23,
   "id": "06c9ed0d",
   "metadata": {},
   "outputs": [
    {
     "data": {
      "text/html": [
       "<div>\n",
       "<style scoped>\n",
       "    .dataframe tbody tr th:only-of-type {\n",
       "        vertical-align: middle;\n",
       "    }\n",
       "\n",
       "    .dataframe tbody tr th {\n",
       "        vertical-align: top;\n",
       "    }\n",
       "\n",
       "    .dataframe thead th {\n",
       "        text-align: right;\n",
       "    }\n",
       "</style>\n",
       "<table border=\"1\" class=\"dataframe\">\n",
       "  <thead>\n",
       "    <tr style=\"text-align: right;\">\n",
       "      <th></th>\n",
       "      <th>user_id</th>\n",
       "      <th>name</th>\n",
       "      <th>age</th>\n",
       "      <th>city</th>\n",
       "      <th>subscription_type</th>\n",
       "      <th>distance</th>\n",
       "      <th>duration</th>\n",
       "      <th>date</th>\n",
       "      <th>month</th>\n",
       "      <th>minute_price</th>\n",
       "      <th>start_ride_price</th>\n",
       "      <th>subscription_fee</th>\n",
       "    </tr>\n",
       "  </thead>\n",
       "  <tbody>\n",
       "    <tr>\n",
       "      <th>6500</th>\n",
       "      <td>700</td>\n",
       "      <td>Айдар</td>\n",
       "      <td>22</td>\n",
       "      <td>Омск</td>\n",
       "      <td>free</td>\n",
       "      <td>2515.690719</td>\n",
       "      <td>14.944286</td>\n",
       "      <td>2021-01-02</td>\n",
       "      <td>1</td>\n",
       "      <td>8</td>\n",
       "      <td>50</td>\n",
       "      <td>0</td>\n",
       "    </tr>\n",
       "    <tr>\n",
       "      <th>6501</th>\n",
       "      <td>700</td>\n",
       "      <td>Айдар</td>\n",
       "      <td>22</td>\n",
       "      <td>Омск</td>\n",
       "      <td>free</td>\n",
       "      <td>846.932642</td>\n",
       "      <td>16.234663</td>\n",
       "      <td>2021-02-01</td>\n",
       "      <td>2</td>\n",
       "      <td>8</td>\n",
       "      <td>50</td>\n",
       "      <td>0</td>\n",
       "    </tr>\n",
       "    <tr>\n",
       "      <th>6502</th>\n",
       "      <td>700</td>\n",
       "      <td>Айдар</td>\n",
       "      <td>22</td>\n",
       "      <td>Омск</td>\n",
       "      <td>free</td>\n",
       "      <td>4004.434142</td>\n",
       "      <td>20.016628</td>\n",
       "      <td>2021-02-04</td>\n",
       "      <td>2</td>\n",
       "      <td>8</td>\n",
       "      <td>50</td>\n",
       "      <td>0</td>\n",
       "    </tr>\n",
       "    <tr>\n",
       "      <th>6503</th>\n",
       "      <td>700</td>\n",
       "      <td>Айдар</td>\n",
       "      <td>22</td>\n",
       "      <td>Омск</td>\n",
       "      <td>free</td>\n",
       "      <td>1205.911290</td>\n",
       "      <td>9.782872</td>\n",
       "      <td>2021-02-10</td>\n",
       "      <td>2</td>\n",
       "      <td>8</td>\n",
       "      <td>50</td>\n",
       "      <td>0</td>\n",
       "    </tr>\n",
       "    <tr>\n",
       "      <th>6504</th>\n",
       "      <td>700</td>\n",
       "      <td>Айдар</td>\n",
       "      <td>22</td>\n",
       "      <td>Омск</td>\n",
       "      <td>free</td>\n",
       "      <td>3047.379435</td>\n",
       "      <td>17.427673</td>\n",
       "      <td>2021-02-14</td>\n",
       "      <td>2</td>\n",
       "      <td>8</td>\n",
       "      <td>50</td>\n",
       "      <td>0</td>\n",
       "    </tr>\n",
       "  </tbody>\n",
       "</table>\n",
       "</div>"
      ],
      "text/plain": [
       "      user_id   name  age  city subscription_type     distance   duration  \\\n",
       "6500      700  Айдар   22  Омск              free  2515.690719  14.944286   \n",
       "6501      700  Айдар   22  Омск              free   846.932642  16.234663   \n",
       "6502      700  Айдар   22  Омск              free  4004.434142  20.016628   \n",
       "6503      700  Айдар   22  Омск              free  1205.911290   9.782872   \n",
       "6504      700  Айдар   22  Омск              free  3047.379435  17.427673   \n",
       "\n",
       "           date  month  minute_price  start_ride_price  subscription_fee  \n",
       "6500 2021-01-02      1             8                50                 0  \n",
       "6501 2021-02-01      2             8                50                 0  \n",
       "6502 2021-02-04      2             8                50                 0  \n",
       "6503 2021-02-10      2             8                50                 0  \n",
       "6504 2021-02-14      2             8                50                 0  "
      ]
     },
     "metadata": {},
     "output_type": "display_data"
    }
   ],
   "source": [
    "total_wo_subscr = total_data[(total_data['subscription_type'] == 'free')]\n",
    "#print(total_wo_subscr.info())\n",
    "display(total_wo_subscr.head())\n"
   ]
  },
  {
   "cell_type": "markdown",
   "id": "25a46976",
   "metadata": {},
   "source": [
    "4.2 Создаем ещё один датафрейм из датафрейма, созданного на этапе 4.1:\n",
    "c данными о пользователях c подпиской"
   ]
  },
  {
   "cell_type": "code",
   "execution_count": 24,
   "id": "a9aeba9a",
   "metadata": {},
   "outputs": [
    {
     "data": {
      "text/html": [
       "<div>\n",
       "<style scoped>\n",
       "    .dataframe tbody tr th:only-of-type {\n",
       "        vertical-align: middle;\n",
       "    }\n",
       "\n",
       "    .dataframe tbody tr th {\n",
       "        vertical-align: top;\n",
       "    }\n",
       "\n",
       "    .dataframe thead th {\n",
       "        text-align: right;\n",
       "    }\n",
       "</style>\n",
       "<table border=\"1\" class=\"dataframe\">\n",
       "  <thead>\n",
       "    <tr style=\"text-align: right;\">\n",
       "      <th></th>\n",
       "      <th>user_id</th>\n",
       "      <th>name</th>\n",
       "      <th>age</th>\n",
       "      <th>city</th>\n",
       "      <th>subscription_type</th>\n",
       "      <th>distance</th>\n",
       "      <th>duration</th>\n",
       "      <th>date</th>\n",
       "      <th>month</th>\n",
       "      <th>minute_price</th>\n",
       "      <th>start_ride_price</th>\n",
       "      <th>subscription_fee</th>\n",
       "    </tr>\n",
       "  </thead>\n",
       "  <tbody>\n",
       "    <tr>\n",
       "      <th>0</th>\n",
       "      <td>1</td>\n",
       "      <td>Кира</td>\n",
       "      <td>22</td>\n",
       "      <td>Тюмень</td>\n",
       "      <td>ultra</td>\n",
       "      <td>4409.919140</td>\n",
       "      <td>25.599769</td>\n",
       "      <td>2021-01-01</td>\n",
       "      <td>1</td>\n",
       "      <td>6</td>\n",
       "      <td>0</td>\n",
       "      <td>199</td>\n",
       "    </tr>\n",
       "    <tr>\n",
       "      <th>1</th>\n",
       "      <td>1</td>\n",
       "      <td>Кира</td>\n",
       "      <td>22</td>\n",
       "      <td>Тюмень</td>\n",
       "      <td>ultra</td>\n",
       "      <td>2617.592153</td>\n",
       "      <td>15.816871</td>\n",
       "      <td>2021-01-18</td>\n",
       "      <td>1</td>\n",
       "      <td>6</td>\n",
       "      <td>0</td>\n",
       "      <td>199</td>\n",
       "    </tr>\n",
       "    <tr>\n",
       "      <th>2</th>\n",
       "      <td>1</td>\n",
       "      <td>Кира</td>\n",
       "      <td>22</td>\n",
       "      <td>Тюмень</td>\n",
       "      <td>ultra</td>\n",
       "      <td>754.159807</td>\n",
       "      <td>6.232113</td>\n",
       "      <td>2021-04-20</td>\n",
       "      <td>4</td>\n",
       "      <td>6</td>\n",
       "      <td>0</td>\n",
       "      <td>199</td>\n",
       "    </tr>\n",
       "    <tr>\n",
       "      <th>3</th>\n",
       "      <td>1</td>\n",
       "      <td>Кира</td>\n",
       "      <td>22</td>\n",
       "      <td>Тюмень</td>\n",
       "      <td>ultra</td>\n",
       "      <td>2694.783254</td>\n",
       "      <td>18.511000</td>\n",
       "      <td>2021-08-11</td>\n",
       "      <td>8</td>\n",
       "      <td>6</td>\n",
       "      <td>0</td>\n",
       "      <td>199</td>\n",
       "    </tr>\n",
       "    <tr>\n",
       "      <th>4</th>\n",
       "      <td>1</td>\n",
       "      <td>Кира</td>\n",
       "      <td>22</td>\n",
       "      <td>Тюмень</td>\n",
       "      <td>ultra</td>\n",
       "      <td>4028.687306</td>\n",
       "      <td>26.265803</td>\n",
       "      <td>2021-08-28</td>\n",
       "      <td>8</td>\n",
       "      <td>6</td>\n",
       "      <td>0</td>\n",
       "      <td>199</td>\n",
       "    </tr>\n",
       "  </tbody>\n",
       "</table>\n",
       "</div>"
      ],
      "text/plain": [
       "   user_id  name  age    city subscription_type     distance   duration  \\\n",
       "0        1  Кира   22  Тюмень             ultra  4409.919140  25.599769   \n",
       "1        1  Кира   22  Тюмень             ultra  2617.592153  15.816871   \n",
       "2        1  Кира   22  Тюмень             ultra   754.159807   6.232113   \n",
       "3        1  Кира   22  Тюмень             ultra  2694.783254  18.511000   \n",
       "4        1  Кира   22  Тюмень             ultra  4028.687306  26.265803   \n",
       "\n",
       "        date  month  minute_price  start_ride_price  subscription_fee  \n",
       "0 2021-01-01      1             6                 0               199  \n",
       "1 2021-01-18      1             6                 0               199  \n",
       "2 2021-04-20      4             6                 0               199  \n",
       "3 2021-08-11      8             6                 0               199  \n",
       "4 2021-08-28      8             6                 0               199  "
      ]
     },
     "execution_count": 24,
     "metadata": {},
     "output_type": "execute_result"
    }
   ],
   "source": [
    "total_with_subscr = total_data[(total_data['subscription_type'] == 'ultra')]\n",
    "#print(total_with_subscr.info())\n",
    "total_with_subscr.head()"
   ]
  },
  {
   "cell_type": "code",
   "execution_count": 25,
   "id": "30ee4b4b",
   "metadata": {},
   "outputs": [
    {
     "name": "stdout",
     "output_type": "stream",
     "text": [
      "18068\n",
      "Разделение датафрейма прошло хорошо\n"
     ]
    }
   ],
   "source": [
    "total_rows = total_wo_subscr['subscription_type'].count() + total_with_subscr['subscription_type'].count()\n",
    "print(total_rows)\n",
    "if (total_rows) != (total_data['subscription_type'].count()):\n",
    "    print('Что-то пошло не так, необходимо проверить кол-во строк в новых таблицах')\n",
    "else:\n",
    "    print('Разделение датафрейма прошло хорошо')"
   ]
  },
  {
   "cell_type": "code",
   "execution_count": 26,
   "id": "05a36a0f",
   "metadata": {
    "scrolled": true
   },
   "outputs": [
    {
     "data": {
      "text/plain": [
       "Text(0, 0.5, 'Количество пользователей')"
      ]
     },
     "execution_count": 26,
     "metadata": {},
     "output_type": "execute_result"
    },
    {
     "data": {
      "image/png": "[encoded data removed]",
      "text/plain": [
       "<Figure size 432x288 with 1 Axes>"
      ]
     },
     "metadata": {
      "needs_background": "light"
     },
     "output_type": "display_data"
    }
   ],
   "source": [
    "total_wo_subscr['distance'].hist(bins = 100)\n",
    "total_wo_subscr['distance'].describe()\n",
    "plt.title('Распределение пользователей без подписки по расстоянию поездки')\n",
    "plt.xlabel('Расстояние, м')\n",
    "plt.ylabel('Количество пользователей')"
   ]
  },
  {
   "cell_type": "code",
   "execution_count": 27,
   "id": "7d287749",
   "metadata": {},
   "outputs": [
    {
     "data": {
      "text/plain": [
       "Text(0, 0.5, 'Количество пользователей')"
      ]
     },
     "execution_count": 27,
     "metadata": {},
     "output_type": "execute_result"
    },
    {
     "data": {
      "image/png": "[encoded data removed]",
      "text/plain": [
       "<Figure size 432x288 with 1 Axes>"
      ]
     },
     "metadata": {
      "needs_background": "light"
     },
     "output_type": "display_data"
    }
   ],
   "source": [
    "total_with_subscr['distance'].hist(bins = 100)\n",
    "total_with_subscr['distance'].describe()\n",
    "plt.title('Распределение пользователей с подпиской по расстоянию поездки')\n",
    "plt.xlabel('Расстояние, м')\n",
    "plt.ylabel('Количество пользователей')"
   ]
  },
  {
   "cell_type": "markdown",
   "id": "d027a7a0",
   "metadata": {},
   "source": [
    "Данные этих двух графиков говорят о том, что есть 2 пика: а) Для коротких поездок (видимо, в пределах парков, здесь для пользователей без подписки среднее, т.е. первый пик - около 500 м., для пользователей с подпиской - среднее около 1 км (катаются, видимо, в обе стороны :)) ); б) Для более длительных поездок - для обеих категорий пользователей среднее (пик) составляет 3-3,5 км. (это уже, видимо, поездки не в рамках мелких локаций/парков, а вообще по городу). \n",
    "\n",
    "При этом распределения значений  вокруг обоих пиков на обоих графиках похожи на нормальные распределения."
   ]
  },
  {
   "cell_type": "code",
   "execution_count": 28,
   "id": "c4bbefe1",
   "metadata": {},
   "outputs": [
    {
     "data": {
      "text/plain": [
       "Text(0, 0.5, 'Количество пользователей')"
      ]
     },
     "execution_count": 28,
     "metadata": {},
     "output_type": "execute_result"
    },
    {
     "data": {
      "image/png": "[encoded data removed]",
      "text/plain": [
       "<Figure size 432x288 with 1 Axes>"
      ]
     },
     "metadata": {
      "needs_background": "light"
     },
     "output_type": "display_data"
    }
   ],
   "source": [
    "total_wo_subscr['distance'].hist(bins = 100, alpha=0.7, label='Без подписки')\n",
    "total_wo_subscr['distance'].describe()\n",
    "total_with_subscr['distance'].hist(bins = 100, alpha=0.7, label='С подпиской')\n",
    "total_with_subscr['distance'].describe()\n",
    "plt.legend (loc='upper right')\n",
    "plt.title('Распределение пользователей с/без подписки по расстоянию поездки')\n",
    "plt.xlabel('Расстояние, м')\n",
    "plt.ylabel('Количество пользователей')\n",
    "\n"
   ]
  },
  {
   "cell_type": "markdown",
   "id": "6e5737e0",
   "metadata": {},
   "source": [
    "\n",
    "Для наглядности совместил гистограммы на одном графике"
   ]
  },
  {
   "cell_type": "code",
   "execution_count": 29,
   "id": "93faa28b",
   "metadata": {},
   "outputs": [
    {
     "data": {
      "text/plain": [
       "count    11568.000000\n",
       "mean      3045.495282\n",
       "std       1246.173806\n",
       "min          0.855683\n",
       "25%       2366.562689\n",
       "50%       3114.648465\n",
       "75%       3905.697894\n",
       "max       7211.007745\n",
       "Name: distance, dtype: float64"
      ]
     },
     "metadata": {},
     "output_type": "display_data"
    },
    {
     "data": {
      "text/plain": [
       "count    6500.000000\n",
       "mean     3115.445388\n",
       "std       836.895330\n",
       "min       244.210438\n",
       "25%      2785.444017\n",
       "50%      3148.637229\n",
       "75%      3560.574425\n",
       "max      5699.769662\n",
       "Name: distance, dtype: float64"
      ]
     },
     "execution_count": 29,
     "metadata": {},
     "output_type": "execute_result"
    }
   ],
   "source": [
    "display(total_wo_subscr['distance'].describe())\n",
    "total_with_subscr['distance'].describe()"
   ]
  },
  {
   "cell_type": "markdown",
   "id": "8b09f602",
   "metadata": {},
   "source": [
    "4.3  2) Визуализируем информацию о времени поездок для пользователей обеих категорий:"
   ]
  },
  {
   "cell_type": "code",
   "execution_count": 30,
   "id": "342cf609",
   "metadata": {},
   "outputs": [
    {
     "data": {
      "text/plain": [
       "<AxesSubplot:>"
      ]
     },
     "execution_count": 30,
     "metadata": {},
     "output_type": "execute_result"
    },
    {
     "data": {
      "image/png": "[encoded data removed]",
      "text/plain": [
       "<Figure size 432x288 with 1 Axes>"
      ]
     },
     "metadata": {
      "needs_background": "light"
     },
     "output_type": "display_data"
    }
   ],
   "source": [
    "total_wo_subscr['duration'].hist(bins = 200, range = (0, 50))"
   ]
  },
  {
   "cell_type": "code",
   "execution_count": 31,
   "id": "eb708643",
   "metadata": {},
   "outputs": [
    {
     "data": {
      "text/plain": [
       "<AxesSubplot:>"
      ]
     },
     "execution_count": 31,
     "metadata": {},
     "output_type": "execute_result"
    },
    {
     "data": {
      "image/png": "[encoded data removed]",
      "text/plain": [
       "<Figure size 432x288 with 1 Axes>"
      ]
     },
     "metadata": {
      "needs_background": "light"
     },
     "output_type": "display_data"
    }
   ],
   "source": [
    "total_wo_subscr['duration'].hist(bins = 10, range = (0, 2))"
   ]
  },
  {
   "cell_type": "code",
   "execution_count": 32,
   "id": "08c6548c",
   "metadata": {},
   "outputs": [
    {
     "data": {
      "text/html": [
       "<div>\n",
       "<style scoped>\n",
       "    .dataframe tbody tr th:only-of-type {\n",
       "        vertical-align: middle;\n",
       "    }\n",
       "\n",
       "    .dataframe tbody tr th {\n",
       "        vertical-align: top;\n",
       "    }\n",
       "\n",
       "    .dataframe thead th {\n",
       "        text-align: right;\n",
       "    }\n",
       "</style>\n",
       "<table border=\"1\" class=\"dataframe\">\n",
       "  <thead>\n",
       "    <tr style=\"text-align: right;\">\n",
       "      <th></th>\n",
       "      <th>user_id</th>\n",
       "      <th>name</th>\n",
       "      <th>age</th>\n",
       "      <th>city</th>\n",
       "      <th>subscription_type</th>\n",
       "      <th>distance</th>\n",
       "      <th>duration</th>\n",
       "      <th>date</th>\n",
       "      <th>month</th>\n",
       "      <th>minute_price</th>\n",
       "      <th>start_ride_price</th>\n",
       "      <th>subscription_fee</th>\n",
       "    </tr>\n",
       "  </thead>\n",
       "  <tbody>\n",
       "    <tr>\n",
       "      <th>0</th>\n",
       "      <td>1</td>\n",
       "      <td>Кира</td>\n",
       "      <td>22</td>\n",
       "      <td>Тюмень</td>\n",
       "      <td>ultra</td>\n",
       "      <td>4409.919140</td>\n",
       "      <td>25.599769</td>\n",
       "      <td>2021-01-01</td>\n",
       "      <td>1</td>\n",
       "      <td>6</td>\n",
       "      <td>0</td>\n",
       "      <td>199</td>\n",
       "    </tr>\n",
       "    <tr>\n",
       "      <th>1</th>\n",
       "      <td>1</td>\n",
       "      <td>Кира</td>\n",
       "      <td>22</td>\n",
       "      <td>Тюмень</td>\n",
       "      <td>ultra</td>\n",
       "      <td>2617.592153</td>\n",
       "      <td>15.816871</td>\n",
       "      <td>2021-01-18</td>\n",
       "      <td>1</td>\n",
       "      <td>6</td>\n",
       "      <td>0</td>\n",
       "      <td>199</td>\n",
       "    </tr>\n",
       "    <tr>\n",
       "      <th>2</th>\n",
       "      <td>1</td>\n",
       "      <td>Кира</td>\n",
       "      <td>22</td>\n",
       "      <td>Тюмень</td>\n",
       "      <td>ultra</td>\n",
       "      <td>754.159807</td>\n",
       "      <td>6.232113</td>\n",
       "      <td>2021-04-20</td>\n",
       "      <td>4</td>\n",
       "      <td>6</td>\n",
       "      <td>0</td>\n",
       "      <td>199</td>\n",
       "    </tr>\n",
       "    <tr>\n",
       "      <th>3</th>\n",
       "      <td>1</td>\n",
       "      <td>Кира</td>\n",
       "      <td>22</td>\n",
       "      <td>Тюмень</td>\n",
       "      <td>ultra</td>\n",
       "      <td>2694.783254</td>\n",
       "      <td>18.511000</td>\n",
       "      <td>2021-08-11</td>\n",
       "      <td>8</td>\n",
       "      <td>6</td>\n",
       "      <td>0</td>\n",
       "      <td>199</td>\n",
       "    </tr>\n",
       "    <tr>\n",
       "      <th>4</th>\n",
       "      <td>1</td>\n",
       "      <td>Кира</td>\n",
       "      <td>22</td>\n",
       "      <td>Тюмень</td>\n",
       "      <td>ultra</td>\n",
       "      <td>4028.687306</td>\n",
       "      <td>26.265803</td>\n",
       "      <td>2021-08-28</td>\n",
       "      <td>8</td>\n",
       "      <td>6</td>\n",
       "      <td>0</td>\n",
       "      <td>199</td>\n",
       "    </tr>\n",
       "  </tbody>\n",
       "</table>\n",
       "</div>"
      ],
      "text/plain": [
       "   user_id  name  age    city subscription_type     distance   duration  \\\n",
       "0        1  Кира   22  Тюмень             ultra  4409.919140  25.599769   \n",
       "1        1  Кира   22  Тюмень             ultra  2617.592153  15.816871   \n",
       "2        1  Кира   22  Тюмень             ultra   754.159807   6.232113   \n",
       "3        1  Кира   22  Тюмень             ultra  2694.783254  18.511000   \n",
       "4        1  Кира   22  Тюмень             ultra  4028.687306  26.265803   \n",
       "\n",
       "        date  month  minute_price  start_ride_price  subscription_fee  \n",
       "0 2021-01-01      1             6                 0               199  \n",
       "1 2021-01-18      1             6                 0               199  \n",
       "2 2021-04-20      4             6                 0               199  \n",
       "3 2021-08-11      8             6                 0               199  \n",
       "4 2021-08-28      8             6                 0               199  "
      ]
     },
     "execution_count": 32,
     "metadata": {},
     "output_type": "execute_result"
    },
    {
     "data": {
      "image/png": "[encoded data removed]",
      "text/plain": [
       "<Figure size 432x288 with 1 Axes>"
      ]
     },
     "metadata": {
      "needs_background": "light"
     },
     "output_type": "display_data"
    }
   ],
   "source": [
    "total_with_subscr['duration'].hist(bins = 200, range = (0, 50))\n",
    "total_with_subscr.head()"
   ]
  },
  {
   "cell_type": "markdown",
   "id": "4e116a1c",
   "metadata": {},
   "source": [
    "На первом и втором графиках (для категории \"без подписки\") видно, что многие пользователи делают поездку длительностью полминуты. Ранее сы выяснили, что это может быть связано с провекдением акций (типа, поездка по цене 1 минуты). Для пользователей с подпиской таких акций не предусмотрено (здесь минимальная длительность начинается от примерно 5 минут и длительности нормально распределены). \n",
    "\n",
    "Что касается пользователей \"без подписки\", распределение их длительности поездок (за исключением пробных) также похоже на нормальное распределение."
   ]
  },
  {
   "cell_type": "code",
   "execution_count": 33,
   "id": "d6b8c14b",
   "metadata": {},
   "outputs": [
    {
     "data": {
      "text/plain": [
       "Text(0, 0.5, 'Количество пользователей')"
      ]
     },
     "execution_count": 33,
     "metadata": {},
     "output_type": "execute_result"
    },
    {
     "data": {
      "image/png": "[encoded data removed]",
      "text/plain": [
       "<Figure size 432x288 with 1 Axes>"
      ]
     },
     "metadata": {
      "needs_background": "light"
     },
     "output_type": "display_data"
    }
   ],
   "source": [
    "total_wo_subscr['duration'].hist(bins = 200, range = (0, 50), alpha=0.7, label='Без подписки')\n",
    "total_with_subscr['duration'].hist(bins = 200, range = (0, 50), alpha=0.7, label='С подпиской')\n",
    "plt.legend (loc='upper right')\n",
    "plt.title('Распределение пользователей с/без подписки по длительности поездки')\n",
    "plt.xlabel('Длительность поездки, минут')\n",
    "plt.ylabel('Количество пользователей')"
   ]
  },
  {
   "cell_type": "code",
   "execution_count": 34,
   "id": "3fc05c8a",
   "metadata": {},
   "outputs": [
    {
     "data": {
      "text/plain": [
       "count    11568.000000\n",
       "mean        17.390909\n",
       "std          6.326803\n",
       "min          0.500000\n",
       "25%         12.958437\n",
       "50%         17.326890\n",
       "75%         21.594071\n",
       "max         34.948498\n",
       "Name: duration, dtype: float64"
      ]
     },
     "metadata": {},
     "output_type": "display_data"
    },
    {
     "data": {
      "text/plain": [
       "count    6500.000000\n",
       "mean       18.541985\n",
       "std         5.572048\n",
       "min         3.760353\n",
       "25%        14.524654\n",
       "50%        18.178153\n",
       "75%        21.884129\n",
       "max        40.823963\n",
       "Name: duration, dtype: float64"
      ]
     },
     "execution_count": 34,
     "metadata": {},
     "output_type": "execute_result"
    }
   ],
   "source": [
    "display(total_wo_subscr['duration'].describe())\n",
    "total_with_subscr['duration'].describe()"
   ]
  },
  {
   "cell_type": "markdown",
   "id": "66a969a1",
   "metadata": {},
   "source": [
    "\n",
    "    Графики показывают: что расстояние, что длительность поездок в среднем немного выше у пользователей с подпиской. Медианы не сильно отличаются друг от друга в обоих случаях."
   ]
  },
  {
   "cell_type": "markdown",
   "id": "d89c5f10",
   "metadata": {},
   "source": [
    "3)  Теперь попробуем посмотреть зависимость расстояния от времени:"
   ]
  },
  {
   "cell_type": "code",
   "execution_count": 35,
   "id": "3c215fec",
   "metadata": {},
   "outputs": [
    {
     "name": "stdout",
     "output_type": "stream",
     "text": [
      "0.5557785138794201\n"
     ]
    },
    {
     "data": {
      "image/png": "[encoded data removed]",
      "text/plain": [
       "<Figure size 864x432 with 1 Axes>"
      ]
     },
     "metadata": {
      "needs_background": "light"
     },
     "output_type": "display_data"
    }
   ],
   "source": [
    "total_wo_subscr.plot(x='duration', y='distance', style='o', ylim=(0, 8000), grid=True, figsize=(12, 6))\n",
    "print(total_wo_subscr['duration'].corr(total_wo_subscr['distance']))"
   ]
  },
  {
   "cell_type": "code",
   "execution_count": 36,
   "id": "6d5f9864",
   "metadata": {},
   "outputs": [
    {
     "name": "stdout",
     "output_type": "stream",
     "text": [
      "0.4933405982485452\n"
     ]
    },
    {
     "data": {
      "image/png": "[encoded data removed]",
      "text/plain": [
       "<Figure size 864x432 with 1 Axes>"
      ]
     },
     "metadata": {
      "needs_background": "light"
     },
     "output_type": "display_data"
    }
   ],
   "source": [
    "total_with_subscr.plot(x='duration', y='distance', style='o', ylim=(0, 8000), grid=True, figsize=(12, 6))\n",
    "print(total_with_subscr['duration'].corr(total_with_subscr['distance']))"
   ]
  },
  {
   "cell_type": "markdown",
   "id": "c9196019",
   "metadata": {},
   "source": [
    "Есть достаточно сильная зависимость для обоих графиков, что подтверждается коэффициентом корреляции. Интересно, что для неопытных пользователей (без подписки) коэффициент корреляции выше. Это может объясняться тем, что пользователи с подпиской едут на бОльшие расстояния, поэтому часто меняют скорость движения (замедляются/ускоряются), и на бОльших расстояниях корреляция времени с расстоянием снижается (хотя она все равно есть)."
   ]
  },
  {
   "cell_type": "markdown",
   "id": "402d620f",
   "metadata": {},
   "source": [
    "#### Шаг 5. Подсчёт выручки"
   ]
  },
  {
   "cell_type": "markdown",
   "id": "8fe91faf",
   "metadata": {},
   "source": [
    "5.1 Создадим датафрейм с агрегированными данными о поездках на основе датафрейма с объединёнными данными из шага 4: найдем суммарное расстояние, количество поездок и суммарное время для каждого пользователя за каждый месяц"
   ]
  },
  {
   "cell_type": "code",
   "execution_count": 37,
   "id": "22e11912",
   "metadata": {
    "scrolled": true
   },
   "outputs": [
    {
     "name": "stdout",
     "output_type": "stream",
     "text": [
      "               distance_count  distance_sum  duration_sum  minute_price  \\\n",
      "user_id month                                                             \n",
      "1       1                   2   7027.511294          42.0             6   \n",
      "        4                   1    754.159807           7.0             6   \n",
      "        8                   2   6723.470560          46.0             6   \n",
      "        10                  2   5809.911100          32.0             6   \n",
      "        11                  3   7003.499363          56.0             6   \n",
      "        12                  2   6751.629942          28.0             6   \n",
      "2       3                   3  10187.723006          63.0             6   \n",
      "        4                   2   6164.381824          40.0             6   \n",
      "        6                   1   3255.338202          14.0             6   \n",
      "        7                   2   6780.722964          48.0             6   \n",
      "\n",
      "               start_ride_price  subscription_fee  \n",
      "user_id month                                      \n",
      "1       1                     0               199  \n",
      "        4                     0               199  \n",
      "        8                     0               199  \n",
      "        10                    0               199  \n",
      "        11                    0               199  \n",
      "        12                    0               199  \n",
      "2       3                     0               199  \n",
      "        4                     0               199  \n",
      "        6                     0               199  \n",
      "        7                     0               199  \n"
     ]
    }
   ],
   "source": [
    "total_data['duration'] = np.ceil(total_data['duration']) # для задания из п 5.2 - округляем вверх\n",
    "custom_agg_func = {'distance': ['count', 'sum'], 'duration': ['sum'], 'minute_price': ['first'], \\\n",
    "                   'start_ride_price':['first'], 'subscription_fee': ['first']}\n",
    "\n",
    "agr_total_data = (total_data.pivot_table(index=['user_id', 'month'], aggfunc= custom_agg_func))\n",
    "        \n",
    "agr_total_data.columns = ['distance_count', 'distance_sum', 'duration_sum', 'minute_price', 'start_ride_price', \\\n",
    "                          'subscription_fee']\n",
    "#agr_total_data = agr_total_data.sort_values(by = 'distance_sum', ascending = False)\n",
    "print(agr_total_data.head(10))\n",
    "#agr_total_data.plot(kind = 'bar', grid=True, figsize=(12, 5))"
   ]
  },
  {
   "cell_type": "code",
   "execution_count": 38,
   "id": "0ffcbad2",
   "metadata": {},
   "outputs": [
    {
     "data": {
      "text/plain": [
       "distance_count      0\n",
       "distance_sum        0\n",
       "duration_sum        0\n",
       "minute_price        0\n",
       "start_ride_price    0\n",
       "subscription_fee    0\n",
       "dtype: int64"
      ]
     },
     "execution_count": 38,
     "metadata": {},
     "output_type": "execute_result"
    }
   ],
   "source": [
    "agr_total_data.isna().sum() # пропусков нет, все хорошо"
   ]
  },
  {
   "cell_type": "markdown",
   "id": "ed5b368b",
   "metadata": {},
   "source": [
    "5.2 В этот же датафрейм добавим столбец с помесячной выручкой, которую принёс каждый пользователь. Для этого обратимся к информации об условиях оплаты для подписчиков и тех, у кого нет подписки. \n",
    "\n",
    "*Продолжительность каждой поездки в каждой строке исходного датафрейма для подсчёта стоимости округляется до следующего целого числа (сделано в начале при выгрузке данных).\n",
    "\n",
    "Помесячная выручка считается по формуле: стоимость старта поездки × количество поездок + стоимость одной минуты поездки \n",
    "× общая продолжительность всех поездок в минутах + стоимость подписки."
   ]
  },
  {
   "cell_type": "code",
   "execution_count": 39,
   "id": "36c38083",
   "metadata": {
    "scrolled": true
   },
   "outputs": [
    {
     "name": "stdout",
     "output_type": "stream",
     "text": [
      "               distance_count  distance_sum  duration_sum  minute_price  \\\n",
      "user_id month                                                             \n",
      "1       1                   2   7027.511294          42.0             6   \n",
      "        4                   1    754.159807           7.0             6   \n",
      "        8                   2   6723.470560          46.0             6   \n",
      "        10                  2   5809.911100          32.0             6   \n",
      "        11                  3   7003.499363          56.0             6   \n",
      "\n",
      "               start_ride_price  subscription_fee  revenue  \n",
      "user_id month                                               \n",
      "1       1                     0               199    451.0  \n",
      "        4                     0               199    241.0  \n",
      "        8                     0               199    475.0  \n",
      "        10                    0               199    391.0  \n",
      "        11                    0               199    535.0  \n"
     ]
    }
   ],
   "source": [
    "agr_total_data['revenue'] = agr_total_data['start_ride_price'] * agr_total_data['distance_count'] \\\n",
    "+ agr_total_data['minute_price'] * agr_total_data['duration_sum'] + agr_total_data['subscription_fee']\n",
    "print(agr_total_data.head())\n"
   ]
  },
  {
   "cell_type": "markdown",
   "id": "41545ac0",
   "metadata": {},
   "source": [
    "#### Шаг 6. Проверка гипотез"
   ]
  },
  {
   "cell_type": "markdown",
   "id": "350248f7",
   "metadata": {},
   "source": [
    "6.1 Важно понять, тратят ли пользователи с подпиской больше времени на поездки. Если да, то пользователи с подпиской могут быть «выгоднее» для компании. Проверим гипотезу. Используем исходные данные о продолжительности каждой сессии — отдельно для подписчиков и тех, у кого нет подписки."
   ]
  },
  {
   "cell_type": "markdown",
   "id": "b2f287f0",
   "metadata": {},
   "source": [
    "\n",
    "Нулевая гипотеза: средние значения длительности поездок для пользователей с подпиской и без - равны.\n",
    "Альтернативная гипотеза - Средние значения длительности поездок пользователей с подпиской больше средних значений длительности поездок пользователей без подписки."
   ]
  },
  {
   "cell_type": "code",
   "execution_count": 40,
   "id": "52e29099",
   "metadata": {},
   "outputs": [
    {
     "name": "stdout",
     "output_type": "stream",
     "text": [
      "p-значение: 1.2804098316645618e-34\n",
      "Отвергаем нулевую гипотезу\n"
     ]
    }
   ],
   "source": [
    "from scipy import stats as st\n",
    "\n",
    "alpha = 0.01 # уровень статистической значимости\n",
    "\n",
    "results = st.ttest_ind(total_with_subscr['duration'], total_wo_subscr['duration'], alternative='greater')\n",
    "\n",
    "print('p-значение:', results.pvalue)\n",
    "\n",
    "if results.pvalue < alpha:\n",
    "    print('Отвергаем нулевую гипотезу')\n",
    "else:\n",
    "    print('Не получилось отвергнуть нулевую гипотезу') "
   ]
  },
  {
   "cell_type": "markdown",
   "id": "316c39aa",
   "metadata": {},
   "source": [
    "Таким образом, приходим к выводу о том, что есть основания утверждать, что продолжительнолсть поездок пользователей с подпиской больше, чем пользователей без подписки (отвергаем нулевую гипотезу об их равенстве в пользу альтернативной гипозеты - среднее значений из первой выборки больше средних значений их второй)."
   ]
  },
  {
   "cell_type": "markdown",
   "id": "64854812",
   "metadata": {},
   "source": [
    "\n",
    "Нулевая гипотеза: средние значения одной поездки для пользователей с подпиской - 3130 метров.\n",
    "Альтернативная гипотеза: средние значения одной поездки для пользователей с подпиской меньше 3130 метров."
   ]
  },
  {
   "cell_type": "code",
   "execution_count": 41,
   "id": "25bc14bc",
   "metadata": {
    "scrolled": true
   },
   "outputs": [
    {
     "name": "stdout",
     "output_type": "stream",
     "text": [
      "p-значение: 0.08046311521502146\n",
      "Не получилось отвергнуть нулевую гипотезу\n"
     ]
    },
    {
     "data": {
      "text/plain": [
       "count    6500.000000\n",
       "mean     3115.445388\n",
       "std       836.895330\n",
       "min       244.210438\n",
       "25%      2785.444017\n",
       "50%      3148.637229\n",
       "75%      3560.574425\n",
       "max      5699.769662\n",
       "Name: distance, dtype: float64"
      ]
     },
     "execution_count": 41,
     "metadata": {},
     "output_type": "execute_result"
    }
   ],
   "source": [
    "alpha = 0.01 # уровень статистической значимости\n",
    "\n",
    "interested_value = 3130\n",
    "\n",
    "results = st.ttest_1samp(total_with_subscr['distance'], interested_value, alternative='less')\n",
    "\n",
    "print('p-значение:', results.pvalue)\n",
    "\n",
    "if results.pvalue < alpha:\n",
    "    print('Отвергаем нулевую гипотезу')\n",
    "else:\n",
    "    print('Не получилось отвергнуть нулевую гипотезу')\n",
    "total_with_subscr['distance'].describe()"
   ]
  },
  {
   "cell_type": "markdown",
   "id": "a13d4564",
   "metadata": {},
   "source": [
    "Можно предположить, что вероятность принятия гипотезы высокая, т.е. среднее расстояние для пользователей с подпиской приближено к 3130 м. (и это подтверждается методом describe)  "
   ]
  },
  {
   "cell_type": "markdown",
   "id": "163b2ac8",
   "metadata": {},
   "source": [
    "\n",
    "\n",
    "Также выясним другую альтернативную гипотезу- о том, что в среднем, расстояние поездки превышает 3130 метров, что отрицательно влияет на износ самокатов.\n",
    "\n",
    "Итак, Нулевая гипотеза: средние значения одной поездки для пользователей с подпиской - 3130 метров. Альтернативная гипотеза: средние значения одной поездки для пользователей с подпиской больше 3130 метров."
   ]
  },
  {
   "cell_type": "code",
   "execution_count": 42,
   "id": "87dcdee0",
   "metadata": {},
   "outputs": [
    {
     "name": "stdout",
     "output_type": "stream",
     "text": [
      "p-значение: 0.9195368847849785\n",
      "Не получилось отвергнуть нулевую гипотезу\n"
     ]
    },
    {
     "data": {
      "text/plain": [
       "count    6500.000000\n",
       "mean     3115.445388\n",
       "std       836.895330\n",
       "min       244.210438\n",
       "25%      2785.444017\n",
       "50%      3148.637229\n",
       "75%      3560.574425\n",
       "max      5699.769662\n",
       "Name: distance, dtype: float64"
      ]
     },
     "execution_count": 42,
     "metadata": {},
     "output_type": "execute_result"
    }
   ],
   "source": [
    "alpha = 0.01 # уровень статистической значимости\n",
    "\n",
    "interested_value = 3130\n",
    "\n",
    "results = st.ttest_1samp(total_with_subscr['distance'], interested_value, alternative='greater')\n",
    "\n",
    "print('p-значение:', results.pvalue)\n",
    "\n",
    "if results.pvalue < alpha:\n",
    "    print('Отвергаем нулевую гипотезу')\n",
    "else:\n",
    "    print('Не получилось отвергнуть нулевую гипотезу')\n",
    "total_with_subscr['distance'].describe()"
   ]
  },
  {
   "cell_type": "markdown",
   "id": "ee110aa0",
   "metadata": {},
   "source": [
    "\n",
    "Получается, есть основания утверждать, что в среднем пользователи с подпиской проезжают за 1 поездку не более 3130 метров, что является оптимальным с точки зрения износа самокатов.  Кстати, провери то же и для пользователей без подписки:"
   ]
  },
  {
   "cell_type": "code",
   "execution_count": 43,
   "id": "13dbe187",
   "metadata": {},
   "outputs": [
    {
     "name": "stdout",
     "output_type": "stream",
     "text": [
      "p-значение: 0.999999999999839\n",
      "Не получилось отвергнуть нулевую гипотезу\n"
     ]
    },
    {
     "data": {
      "text/plain": [
       "count    6500.000000\n",
       "mean     3115.445388\n",
       "std       836.895330\n",
       "min       244.210438\n",
       "25%      2785.444017\n",
       "50%      3148.637229\n",
       "75%      3560.574425\n",
       "max      5699.769662\n",
       "Name: distance, dtype: float64"
      ]
     },
     "execution_count": 43,
     "metadata": {},
     "output_type": "execute_result"
    }
   ],
   "source": [
    "alpha = 0.01 # уровень статистической значимости\n",
    "\n",
    "interested_value = 3130\n",
    "\n",
    "results = st.ttest_1samp(total_wo_subscr['distance'], interested_value, alternative='greater')\n",
    "\n",
    "print('p-значение:', results.pvalue)\n",
    "\n",
    "if results.pvalue < alpha:\n",
    "    print('Отвергаем нулевую гипотезу')\n",
    "else:\n",
    "    print('Не получилось отвергнуть нулевую гипотезу')\n",
    "total_with_subscr['distance'].describe()"
   ]
  },
  {
   "cell_type": "markdown",
   "id": "031e80fe",
   "metadata": {},
   "source": [
    "\n",
    "Для них тоже в среднем, расстояние одной поездки не превышает 3130 метров, что так же является оптимальным  с т.з. износа самоката"
   ]
  },
  {
   "cell_type": "markdown",
   "id": "c2edea71",
   "metadata": {},
   "source": [
    "6.3 Проверим гипотезу о том, будет ли помесячная выручка от пользователей с подпиской по месяцам выше, чем выручка от пользователей без подписки. "
   ]
  },
  {
   "cell_type": "markdown",
   "id": "d202ba9e",
   "metadata": {},
   "source": [
    "    \n",
    "Нулевая гипотеза: помесячная выручка от пользователей с подпиской по месяцам равна выручке от пользователей без подписки.\n",
    "Альтернативная гипотеза: помесячная выручка от пользователей с подпиской по месяцам выше, чем выручка от пользователей без подписки."
   ]
  },
  {
   "cell_type": "code",
   "execution_count": 44,
   "id": "43bb9e55",
   "metadata": {},
   "outputs": [
    {
     "name": "stdout",
     "output_type": "stream",
     "text": [
      "p-значение: 1.8850394384715216e-31\n",
      "Отвергаем нулевую гипотезу\n"
     ]
    }
   ],
   "source": [
    "alpha = 0.05 # уровень статистической значимости\n",
    "\n",
    "agr_total_data_wo_sub = agr_total_data[agr_total_data['subscription_fee'] == 0]\n",
    "#print(agr_total_data_wo_sub.head())\n",
    "\n",
    "agr_total_data_with_sub = agr_total_data[agr_total_data['subscription_fee'] > 0]\n",
    "#print(agr_total_data_with_sub.head())\n",
    "\n",
    "results = st.ttest_ind(agr_total_data_with_sub['revenue'], agr_total_data_wo_sub['revenue'], alternative='greater')\n",
    "\n",
    "print('p-значение:', results.pvalue)\n",
    "\n",
    "if results.pvalue < alpha:\n",
    "    print('Отвергаем нулевую гипотезу')\n",
    "else:\n",
    "    print('Не получилось отвергнуть нулевую гипотезу') "
   ]
  },
  {
   "cell_type": "markdown",
   "id": "8702cd11",
   "metadata": {},
   "source": [
    "\n",
    "Есть основания утверждать, что пользователи с подпиской приносят значимо больше дохода, чем пользователи без подписки! Очевидно, теперь у собственников бизнеса есть стимул переводить пользователей без подписки в категорию \"с подпиской\""
   ]
  },
  {
   "cell_type": "markdown",
   "id": "a9a17d0c",
   "metadata": {},
   "source": [
    "6.4 Представим такую ситуацию: техническая команда сервиса обновила сервера, с которыми взаимодействует мобильное приложение. Она надеется, что из-за этого количество обращений в техподдержку значимо снизилось. Некоторый файл содержит для каждого пользователя данные о количестве обращений до обновления и после него. Какой тест нам понадобился бы для проверки этой гипотезы?"
   ]
  },
  {
   "cell_type": "markdown",
   "id": "056374d7",
   "metadata": {},
   "source": [
    "Чтобы проверить гипотезу о равенстве среднего генеральной совокупности для зависимых (а здесь, очевидно, зависимые выборки) выборок в Python, нужно было бы применить метод scipy.stats.ttest_rel()."
   ]
  },
  {
   "cell_type": "markdown",
   "id": "61213c5e",
   "metadata": {},
   "source": [
    "#### Шаг 7. Распределения"
   ]
  },
  {
   "cell_type": "markdown",
   "id": "04b3a436",
   "metadata": {},
   "source": [
    "7.1 Отделу маркетинга GoFast поставили задачу: нужно провести акцию с раздачей промокодов на один бесплатный месяц подписки, в рамках которой как минимум 100 существующих клиентов должны продлить эту подписку. То есть по завершении периода действия подписки пользователь может либо отказаться от неё, либо продлить, совершив соответствующий платёж. \n",
    "\n",
    "Эта акция уже проводилась ранее и по итогу выяснилось, что после бесплатного пробного периода подписку продлевают \n",
    "10% пользователей. Выясните, какое минимальное количество промокодов нужно разослать, чтобы вероятность не выполнить план была примерно 5%. Подберите параметры распределения, описывающего эту ситуацию, постройте график распределения и сформулируйте ответ на вопрос о количестве промокодов. "
   ]
  },
  {
   "cell_type": "code",
   "execution_count": 45,
   "id": "671881bb",
   "metadata": {},
   "outputs": [
    {
     "name": "stdout",
     "output_type": "stream",
     "text": [
      "0.0\n"
     ]
    }
   ],
   "source": [
    "from matplotlib import pyplot as plt\n",
    "from scipy import stats as st\n",
    "from math import sqrt\n",
    "\n",
    "p = 0.1  # вероятность продления подписки\n",
    "n = 1000   # количество промокодов, которые нужно разослать\n",
    "\n",
    "mu = n * p\n",
    "sigma = sqrt(n * p * (1 - p))\n",
    "distr = st.norm(mu, sigma) \n",
    "# не могу (не знаю как и в материалах этого нет) построить график распределения\n",
    "\n",
    "x = 0.95 # вероятность успешного выполнения плана о том, что 100 пользователей продлят подписку\n",
    "result = round(distr.cdf(x), 5)\n",
    "print(result)  # не понятно почему такой результат и как это исправить, но так как это необязательное задание, доделаю потом"
   ]
  },
  {
   "cell_type": "code",
   "execution_count": 46,
   "id": "9d5b2683",
   "metadata": {},
   "outputs": [
    {
     "name": "stdout",
     "output_type": "stream",
     "text": [
      "984.5383759066561\n"
     ]
    }
   ],
   "source": [
    "# может быть так? тогда используется совсем не тот метод, что указан в подсказке, но, имхо, это ближе к истине\n",
    "from scipy import stats as st\n",
    "\n",
    "distr = st.norm(1000, 9.4) # sqrt(90) = примерно 9.4 (это ст. отклонение при p = 0.1, n = 1000)\n",
    "\n",
    "p = 0.05\n",
    "result = distr.ppf(p)\n",
    "print(result)"
   ]
  },
  {
   "cell_type": "markdown",
   "id": "c0bb305b",
   "metadata": {},
   "source": [
    "7.2 Отдел маркетинга рассылает клиентам push-уведомления в мобильном приложении. Клиенты могут открыть его или не открывать. Известно, что уведомления открывают около \n",
    "40\n",
    " \n",
    "%\n",
    "40 % получивших клиентов. Отдел планирует разослать 1 млн уведомлений. С помощью аппроксимации постройте примерный график распределения и оцените вероятность того, что уведомление откроют не более 399,5 тыс. пользователей."
   ]
  },
  {
   "cell_type": "code",
   "execution_count": 48,
   "id": "49850c2c",
   "metadata": {
    "scrolled": true
   },
   "outputs": [
    {
     "name": "stdout",
     "output_type": "stream",
     "text": [
      "0.15371708296369768\n"
     ]
    }
   ],
   "source": [
    "from math import sqrt\n",
    "from scipy import stats as st\n",
    "\n",
    "# задаём параметры биномиального распределения\n",
    "n = 1000000\n",
    "p = 0.4\n",
    "\n",
    "# зададим мат.ожидание и ст.отклонение нормального распределения равными\n",
    "# мат.ожиданию и ст.отклонению биномиального распределения\n",
    "mu = n * p\n",
    "sigma = sqrt(n * p * (1 - p))\n",
    "\n",
    "# задаём нормальное распределение  \n",
    "distr = st.norm(mu, sigma) \n",
    "\n",
    "# граница интервала\n",
    "y = 399500\n",
    "\n",
    "# считаем вероятность получить значение от меньше y\n",
    "result = distr.cdf(y)\n",
    "print(result)"
   ]
  },
  {
   "cell_type": "markdown",
   "id": "a19dbd60",
   "metadata": {},
   "source": [
    "Выводы:\n",
    "    \n",
    "Были рассмотрены 3 датасета: данные о пользователях, данные о поездках и о подписках. Пропусков выявлено не было, данные были готовы для анализа. Аномальные значения не стал удалять, т.к. они, видимо, созданы осознанно в результате акции.\n",
    "\n",
    "\n",
    "1. Была осуществить предобработка данных (столбец date приведен к типу даты pandas, создан новый столбец с номером месяца на основе столбца date, проверено наличие пропущенных значений и дубликатов в датафреймах).\n",
    "\n",
    "2. Проведен ссследовательский анализ данных: описана и визуализирована общая информацию о пользователях и поездках:\n",
    "\n",
    "2.1 частота встречаемости городов;\n",
    "2.2 соотношение пользователей с подпиской и без подписки;\n",
    "2.3 возраст пользователей;\n",
    "2.4 расстояние, которое пользователь преодолел за одну поездку;\n",
    "2.5 продолжительность поездок.\n",
    "\n",
    "3. Осуществлено объединение данных\n",
    "3.1 Объединил данные о пользователях, поездках и подписках в один датафрейм (методом merge()).\n",
    "3.2 Создано ещё два датафрейма из датафрейма, созданного на этапе 4.1:\n",
    "c данными о пользователях без подписки;\n",
    "с данными о пользователях с подпиской.\n",
    "3.3 Визуализирована информация о расстоянии и времени поездок для пользователей обеих категорий.\n",
    "\n",
    "\n",
    "4. Подсчитана выручка.\n",
    "4.1 Создан датафрейм с агрегированными данными о поездках на основе датафрейма с объединёнными данными из шага 4: найдено суммарное расстояние, количество поездок и суммарное время для каждого пользователя за каждый месяц.\n",
    "4.2 В этот же датафрейм добавлен столбец с помесячной выручкой, которую принёс каждый пользователь.\n",
    "\n",
    "5. Проверка гипотез для дальнейшего принятия решения собсвенниками бизнеса.\n",
    "5.1 Нулевая гипотеза: средние значения длительности поездок для пользователей с подпиской и без - равны.\n",
    "Альтернативная гипотеза - Средние значения длительности поездок пользователей с подпиской больше средних значений длительности поездок пользователей без подписки.\n",
    "Результат - нулевая гипотеза отвергнута. Таким образом, приходим к выводу о том, что есть основания утверждать, что продолжительность поездок пользователей с подпиской больше, чем пользователей без подписки (отвергаем нулевую гипотезу об их равенстве в пользу альтернативной гипозеты - среднее значений из первой выборки больше средних значений их второй).\n",
    "\n",
    "5.2 Расстояние одной поездки в 3130 метров — оптимальное с точки зрения износа самоката. Можно ли сказать, что среднее расстояние, которое проезжают пользователи с подпиской за одну поездку, не превышает 3130 метров? \n",
    "Итак, Нулевая гипотеза: средние значения одной поездки для пользователей с подпиской - 3130 метров. Альтернативная гипотеза: средние значения одной поездки для пользователей с подпиской больше 3130 метров.\n",
    "Результат - не получилось отвергнуть нулевую гипотезу. Получается, есть основания утверждать, что в среднем пользователи с подпиской проезжают за 1 поездку не более 3130 метров, что является оптимальным с точки зрения износа самокатов.\n",
    "\n",
    "5.3 Проверить гипотезу о том, будет ли помесячная выручка от пользователей с подпиской по месяцам выше, чем выручка от пользователей без подписки. Сделать вывод.\n",
    "Нулевая гипотеза: помесячная выручка от пользователей с подпиской по месяцам равна выручке от пользователей без подписки. Альтернативная гипотеза: помесячная выручка от пользователей с подпиской по месяцам выше, чем выручка от пользователей без подписки.\n",
    "Результат - Есть основания утверждать, что пользователи с подпиской приносят значимо больше дохода, чем пользователи без подписки! Очевидно, теперь у собственников бизнеса есть стимул переводить пользователей без подписки в категорию \"с подпиской\".\n",
    "\n",
    "5.4 Представить такую ситуацию: техническая команда сервиса обновила сервера, с которыми взаимодействует мобильное приложение. Она надеется, что из-за этого количество обращений в техподдержку значимо снизилось. Некоторый файл содержит для каждого пользователя данные о количестве обращений до обновления и после него. Какой тест понадобился бы для проверки этой гипотезы?\n",
    "Ответ: Чтобы проверить гипотезу о равенстве среднего генеральной совокупности для зависимых (а здесь, очевидно, зависимые выборки) выборок в Python, нужно было бы применить метод scipy.stats.ttest_rel(). Если указать alternative='greater', проверится левосторонняя альтернативная гипотеза о том, что среднее количество обращений до обновления больше, чем среднее количество обращений после обновления.\n",
    "\n",
    "\n",
    "Кроме того, было представлено решение дополнительных необязательных задач (7.1 - так и не понял как корректно решить, 7.2 - решена)."
   ]
  }
 ],
 "metadata": {
  "ExecuteTimeLog": [
   {
    "duration": 49,
    "start_time": "2023-12-23T06:53:01.615Z"
   },
   {
    "duration": 381,
    "start_time": "2023-12-23T06:53:04.383Z"
   },
   {
    "duration": 94,
    "start_time": "2023-12-23T06:53:07.360Z"
   },
   {
    "duration": 29,
    "start_time": "2023-12-23T06:53:13.016Z"
   },
   {
    "duration": 29,
    "start_time": "2023-12-23T06:53:23.032Z"
   },
   {
    "duration": 97,
    "start_time": "2023-12-23T06:54:15.201Z"
   },
   {
    "duration": 57,
    "start_time": "2023-12-23T06:54:21.752Z"
   },
   {
    "duration": 82,
    "start_time": "2023-12-23T06:55:19.954Z"
   },
   {
    "duration": 106,
    "start_time": "2023-12-23T06:55:26.184Z"
   },
   {
    "duration": 80,
    "start_time": "2023-12-23T06:55:56.905Z"
   },
   {
    "duration": 37,
    "start_time": "2023-12-23T06:57:53.746Z"
   },
   {
    "duration": 36,
    "start_time": "2023-12-23T06:58:32.268Z"
   },
   {
    "duration": 80,
    "start_time": "2023-12-23T06:58:38.723Z"
   },
   {
    "duration": 33,
    "start_time": "2023-12-23T07:01:52.021Z"
   },
   {
    "duration": 47,
    "start_time": "2023-12-23T07:01:59.429Z"
   },
   {
    "duration": 32,
    "start_time": "2023-12-23T07:03:12.166Z"
   },
   {
    "duration": 80,
    "start_time": "2023-12-23T07:04:43.199Z"
   },
   {
    "duration": 7,
    "start_time": "2023-12-23T07:09:34.834Z"
   },
   {
    "duration": 43,
    "start_time": "2023-12-23T07:09:49.683Z"
   },
   {
    "duration": 29,
    "start_time": "2023-12-23T07:10:09.651Z"
   },
   {
    "duration": 20,
    "start_time": "2023-12-23T07:10:23.907Z"
   },
   {
    "duration": 7,
    "start_time": "2023-12-23T07:12:39.092Z"
   },
   {
    "duration": 9,
    "start_time": "2023-12-23T07:13:00.293Z"
   },
   {
    "duration": 18,
    "start_time": "2023-12-23T07:14:38.174Z"
   },
   {
    "duration": 5,
    "start_time": "2023-12-23T07:14:45.747Z"
   },
   {
    "duration": 69,
    "start_time": "2023-12-23T07:15:22.910Z"
   },
   {
    "duration": 7,
    "start_time": "2023-12-23T07:15:46.334Z"
   },
   {
    "duration": 8,
    "start_time": "2023-12-23T07:15:54.711Z"
   },
   {
    "duration": 6,
    "start_time": "2023-12-23T07:16:02.174Z"
   },
   {
    "duration": 6,
    "start_time": "2023-12-23T07:16:22.895Z"
   },
   {
    "duration": 7,
    "start_time": "2023-12-23T07:18:00.360Z"
   },
   {
    "duration": 9,
    "start_time": "2023-12-23T07:18:24.040Z"
   },
   {
    "duration": 15,
    "start_time": "2023-12-23T07:19:34.264Z"
   },
   {
    "duration": 9,
    "start_time": "2023-12-23T07:20:31.535Z"
   },
   {
    "duration": 12,
    "start_time": "2023-12-23T07:22:25.491Z"
   },
   {
    "duration": 8,
    "start_time": "2023-12-23T07:23:51.990Z"
   },
   {
    "duration": 8,
    "start_time": "2023-12-23T07:23:58.972Z"
   },
   {
    "duration": 6,
    "start_time": "2023-12-23T07:24:03.036Z"
   },
   {
    "duration": 8,
    "start_time": "2023-12-23T07:24:23.916Z"
   },
   {
    "duration": 2,
    "start_time": "2023-12-23T07:24:57.686Z"
   },
   {
    "duration": 110,
    "start_time": "2023-12-23T07:24:57.689Z"
   },
   {
    "duration": 35,
    "start_time": "2023-12-23T07:24:57.800Z"
   },
   {
    "duration": 21,
    "start_time": "2023-12-23T07:24:57.837Z"
   },
   {
    "duration": 15,
    "start_time": "2023-12-23T07:24:57.860Z"
   },
   {
    "duration": 11,
    "start_time": "2023-12-23T07:24:57.876Z"
   },
   {
    "duration": 16,
    "start_time": "2023-12-23T07:24:57.888Z"
   },
   {
    "duration": 22,
    "start_time": "2023-12-23T07:24:57.905Z"
   },
   {
    "duration": 15,
    "start_time": "2023-12-23T07:24:57.929Z"
   },
   {
    "duration": 6,
    "start_time": "2023-12-23T07:28:42.767Z"
   },
   {
    "duration": 282,
    "start_time": "2023-12-23T07:29:51.943Z"
   },
   {
    "duration": 5,
    "start_time": "2023-12-23T07:32:32.754Z"
   },
   {
    "duration": 1209,
    "start_time": "2023-12-23T07:40:16.934Z"
   },
   {
    "duration": 4,
    "start_time": "2023-12-23T07:40:28.470Z"
   },
   {
    "duration": 7,
    "start_time": "2023-12-23T07:40:41.598Z"
   },
   {
    "duration": 5,
    "start_time": "2023-12-23T07:42:01.479Z"
   },
   {
    "duration": 8,
    "start_time": "2023-12-23T07:42:11.280Z"
   },
   {
    "duration": 4,
    "start_time": "2023-12-23T07:42:59.760Z"
   },
   {
    "duration": 7,
    "start_time": "2023-12-23T07:43:08.560Z"
   },
   {
    "duration": 126,
    "start_time": "2023-12-23T07:44:24.521Z"
   },
   {
    "duration": 120,
    "start_time": "2023-12-23T07:45:39.538Z"
   },
   {
    "duration": 380,
    "start_time": "2023-12-23T07:45:54.489Z"
   },
   {
    "duration": 114,
    "start_time": "2023-12-23T07:46:02.713Z"
   },
   {
    "duration": 8,
    "start_time": "2023-12-23T07:46:11.785Z"
   },
   {
    "duration": 89,
    "start_time": "2023-12-23T07:46:16.994Z"
   },
   {
    "duration": 20,
    "start_time": "2023-12-23T07:48:27.844Z"
   },
   {
    "duration": 2,
    "start_time": "2023-12-23T07:48:31.817Z"
   },
   {
    "duration": 65,
    "start_time": "2023-12-23T07:48:31.821Z"
   },
   {
    "duration": 33,
    "start_time": "2023-12-23T07:48:31.888Z"
   },
   {
    "duration": 21,
    "start_time": "2023-12-23T07:48:31.923Z"
   },
   {
    "duration": 13,
    "start_time": "2023-12-23T07:48:31.945Z"
   },
   {
    "duration": 9,
    "start_time": "2023-12-23T07:48:31.959Z"
   },
   {
    "duration": 19,
    "start_time": "2023-12-23T07:48:31.969Z"
   },
   {
    "duration": 47,
    "start_time": "2023-12-23T07:48:31.989Z"
   },
   {
    "duration": 61,
    "start_time": "2023-12-23T07:48:32.037Z"
   },
   {
    "duration": 15,
    "start_time": "2023-12-23T07:48:36.699Z"
   },
   {
    "duration": 147,
    "start_time": "2023-12-23T07:49:34.692Z"
   },
   {
    "duration": 129,
    "start_time": "2023-12-23T07:55:18.183Z"
   },
   {
    "duration": 126,
    "start_time": "2023-12-23T07:56:23.624Z"
   },
   {
    "duration": 1415,
    "start_time": "2023-12-23T08:00:26.596Z"
   },
   {
    "duration": 136,
    "start_time": "2023-12-23T08:00:45.330Z"
   },
   {
    "duration": 138,
    "start_time": "2023-12-23T08:03:09.892Z"
   },
   {
    "duration": 1535,
    "start_time": "2023-12-23T08:03:22.861Z"
   },
   {
    "duration": 1286,
    "start_time": "2023-12-23T08:04:33.310Z"
   },
   {
    "duration": 128,
    "start_time": "2023-12-23T08:05:04.510Z"
   },
   {
    "duration": 11,
    "start_time": "2023-12-23T08:06:37.919Z"
   },
   {
    "duration": 13,
    "start_time": "2023-12-23T08:07:11.799Z"
   },
   {
    "duration": 1204,
    "start_time": "2023-12-23T08:07:35.471Z"
   },
   {
    "duration": 1186,
    "start_time": "2023-12-23T08:07:52.081Z"
   },
   {
    "duration": 1181,
    "start_time": "2023-12-23T08:08:12.808Z"
   },
   {
    "duration": 1227,
    "start_time": "2023-12-23T08:08:54.994Z"
   },
   {
    "duration": 14,
    "start_time": "2023-12-23T08:10:02.801Z"
   },
   {
    "duration": 1292,
    "start_time": "2023-12-23T08:10:09.153Z"
   },
   {
    "duration": 14,
    "start_time": "2023-12-23T08:10:20.458Z"
   },
   {
    "duration": 11,
    "start_time": "2023-12-23T08:13:06.441Z"
   },
   {
    "duration": 14,
    "start_time": "2023-12-23T08:14:19.924Z"
   },
   {
    "duration": 69,
    "start_time": "2023-12-23T08:15:19.677Z"
   },
   {
    "duration": 11,
    "start_time": "2023-12-23T08:15:24.374Z"
   },
   {
    "duration": 13,
    "start_time": "2023-12-23T08:21:40.347Z"
   },
   {
    "duration": 11,
    "start_time": "2023-12-23T08:22:09.674Z"
   },
   {
    "duration": 11,
    "start_time": "2023-12-23T08:22:27.931Z"
   },
   {
    "duration": 11,
    "start_time": "2023-12-23T08:22:44.659Z"
   },
   {
    "duration": 11,
    "start_time": "2023-12-23T08:22:54.914Z"
   },
   {
    "duration": 11,
    "start_time": "2023-12-23T08:23:05.355Z"
   },
   {
    "duration": 11,
    "start_time": "2023-12-23T08:23:44.235Z"
   },
   {
    "duration": 133,
    "start_time": "2023-12-23T08:23:59.411Z"
   },
   {
    "duration": 127,
    "start_time": "2023-12-23T08:24:39.413Z"
   },
   {
    "duration": 204,
    "start_time": "2023-12-23T08:28:13.390Z"
   },
   {
    "duration": 211,
    "start_time": "2023-12-23T08:28:33.902Z"
   },
   {
    "duration": 907,
    "start_time": "2023-12-23T08:29:03.238Z"
   },
   {
    "duration": 157,
    "start_time": "2023-12-23T08:29:10.727Z"
   },
   {
    "duration": 251,
    "start_time": "2023-12-23T08:29:22.440Z"
   },
   {
    "duration": 210,
    "start_time": "2023-12-23T08:29:41.975Z"
   },
   {
    "duration": 234,
    "start_time": "2023-12-23T08:29:52.935Z"
   },
   {
    "duration": 234,
    "start_time": "2023-12-23T08:29:59.423Z"
   },
   {
    "duration": 290,
    "start_time": "2023-12-23T08:30:03.279Z"
   },
   {
    "duration": 213,
    "start_time": "2023-12-23T08:30:11.361Z"
   },
   {
    "duration": 204,
    "start_time": "2023-12-23T08:30:40.912Z"
   },
   {
    "duration": 158,
    "start_time": "2023-12-23T08:30:50.080Z"
   },
   {
    "duration": 231,
    "start_time": "2023-12-23T08:30:58.064Z"
   },
   {
    "duration": 17512,
    "start_time": "2023-12-23T08:35:44.660Z"
   },
   {
    "duration": 255,
    "start_time": "2023-12-23T08:37:12.884Z"
   },
   {
    "duration": 209,
    "start_time": "2023-12-23T08:38:31.429Z"
   },
   {
    "duration": 68,
    "start_time": "2023-12-23T08:39:36.782Z"
   },
   {
    "duration": 215,
    "start_time": "2023-12-23T08:39:41.253Z"
   },
   {
    "duration": 207,
    "start_time": "2023-12-23T08:43:36.329Z"
   },
   {
    "duration": 8,
    "start_time": "2023-12-23T09:20:44.889Z"
   },
   {
    "duration": 19,
    "start_time": "2023-12-23T09:20:51.608Z"
   },
   {
    "duration": 19,
    "start_time": "2023-12-23T09:22:42.281Z"
   },
   {
    "duration": 18,
    "start_time": "2023-12-23T09:22:54.905Z"
   },
   {
    "duration": 2,
    "start_time": "2023-12-23T09:22:59.353Z"
   },
   {
    "duration": 47,
    "start_time": "2023-12-23T09:22:59.357Z"
   },
   {
    "duration": 37,
    "start_time": "2023-12-23T09:22:59.405Z"
   },
   {
    "duration": 22,
    "start_time": "2023-12-23T09:22:59.444Z"
   },
   {
    "duration": 15,
    "start_time": "2023-12-23T09:22:59.468Z"
   },
   {
    "duration": 12,
    "start_time": "2023-12-23T09:22:59.485Z"
   },
   {
    "duration": 14,
    "start_time": "2023-12-23T09:22:59.498Z"
   },
   {
    "duration": 20,
    "start_time": "2023-12-23T09:22:59.513Z"
   },
   {
    "duration": 12,
    "start_time": "2023-12-23T09:22:59.534Z"
   },
   {
    "duration": 179,
    "start_time": "2023-12-23T09:22:59.547Z"
   },
   {
    "duration": 161,
    "start_time": "2023-12-23T09:22:59.727Z"
   },
   {
    "duration": 247,
    "start_time": "2023-12-23T09:22:59.890Z"
   },
   {
    "duration": 253,
    "start_time": "2023-12-23T09:23:00.139Z"
   },
   {
    "duration": 245,
    "start_time": "2023-12-23T09:23:00.394Z"
   },
   {
    "duration": 22,
    "start_time": "2023-12-23T09:23:03.106Z"
   },
   {
    "duration": 23,
    "start_time": "2023-12-23T09:24:32.083Z"
   },
   {
    "duration": 25,
    "start_time": "2023-12-23T09:24:51.667Z"
   },
   {
    "duration": 18,
    "start_time": "2023-12-23T09:33:29.121Z"
   },
   {
    "duration": 18,
    "start_time": "2023-12-23T09:34:24.529Z"
   },
   {
    "duration": 9,
    "start_time": "2023-12-23T09:37:03.924Z"
   },
   {
    "duration": 8,
    "start_time": "2023-12-23T09:37:18.115Z"
   },
   {
    "duration": 15,
    "start_time": "2023-12-23T09:38:29.140Z"
   },
   {
    "duration": 2,
    "start_time": "2023-12-23T09:39:55.523Z"
   },
   {
    "duration": 38,
    "start_time": "2023-12-23T09:39:55.527Z"
   },
   {
    "duration": 34,
    "start_time": "2023-12-23T09:39:55.567Z"
   },
   {
    "duration": 21,
    "start_time": "2023-12-23T09:39:55.603Z"
   },
   {
    "duration": 14,
    "start_time": "2023-12-23T09:39:55.626Z"
   },
   {
    "duration": 7,
    "start_time": "2023-12-23T09:39:55.641Z"
   },
   {
    "duration": 7,
    "start_time": "2023-12-23T09:39:55.649Z"
   },
   {
    "duration": 30,
    "start_time": "2023-12-23T09:39:55.657Z"
   },
   {
    "duration": 6,
    "start_time": "2023-12-23T09:39:55.688Z"
   },
   {
    "duration": 160,
    "start_time": "2023-12-23T09:39:55.697Z"
   },
   {
    "duration": 137,
    "start_time": "2023-12-23T09:39:55.859Z"
   },
   {
    "duration": 221,
    "start_time": "2023-12-23T09:39:55.997Z"
   },
   {
    "duration": 223,
    "start_time": "2023-12-23T09:39:56.219Z"
   },
   {
    "duration": 213,
    "start_time": "2023-12-23T09:39:56.443Z"
   },
   {
    "duration": 31,
    "start_time": "2023-12-23T09:39:56.657Z"
   },
   {
    "duration": 6,
    "start_time": "2023-12-23T09:39:56.689Z"
   },
   {
    "duration": 5,
    "start_time": "2023-12-23T09:40:00.557Z"
   },
   {
    "duration": 5,
    "start_time": "2023-12-23T09:40:02.389Z"
   },
   {
    "duration": 237,
    "start_time": "2023-12-23T09:41:58.630Z"
   },
   {
    "duration": 209,
    "start_time": "2023-12-23T09:42:46.400Z"
   },
   {
    "duration": 674,
    "start_time": "2023-12-23T09:45:30.432Z"
   },
   {
    "duration": 43,
    "start_time": "2023-12-23T09:46:04.722Z"
   },
   {
    "duration": 47,
    "start_time": "2023-12-23T09:46:34.521Z"
   },
   {
    "duration": 57,
    "start_time": "2023-12-23T09:46:54.674Z"
   },
   {
    "duration": 50,
    "start_time": "2023-12-23T09:47:00.362Z"
   },
   {
    "duration": 46,
    "start_time": "2023-12-23T09:47:06.162Z"
   },
   {
    "duration": 44,
    "start_time": "2023-12-23T09:47:23.858Z"
   },
   {
    "duration": 47,
    "start_time": "2023-12-23T09:48:07.706Z"
   },
   {
    "duration": 48,
    "start_time": "2023-12-23T09:48:23.067Z"
   },
   {
    "duration": 43,
    "start_time": "2023-12-23T09:49:48.741Z"
   },
   {
    "duration": 48,
    "start_time": "2023-12-23T09:49:59.644Z"
   },
   {
    "duration": 44,
    "start_time": "2023-12-23T09:50:15.845Z"
   },
   {
    "duration": 44,
    "start_time": "2023-12-23T09:50:23.556Z"
   },
   {
    "duration": 47,
    "start_time": "2023-12-23T09:50:33.044Z"
   },
   {
    "duration": 45,
    "start_time": "2023-12-23T09:50:38.212Z"
   },
   {
    "duration": 59,
    "start_time": "2023-12-23T09:51:07.420Z"
   },
   {
    "duration": 54,
    "start_time": "2023-12-23T09:52:24.253Z"
   },
   {
    "duration": 42,
    "start_time": "2023-12-23T09:52:39.006Z"
   },
   {
    "duration": 3,
    "start_time": "2023-12-23T09:52:43.021Z"
   },
   {
    "duration": 37,
    "start_time": "2023-12-23T09:52:43.025Z"
   },
   {
    "duration": 33,
    "start_time": "2023-12-23T09:52:43.064Z"
   },
   {
    "duration": 21,
    "start_time": "2023-12-23T09:52:43.099Z"
   },
   {
    "duration": 15,
    "start_time": "2023-12-23T09:52:43.122Z"
   },
   {
    "duration": 12,
    "start_time": "2023-12-23T09:52:43.138Z"
   },
   {
    "duration": 9,
    "start_time": "2023-12-23T09:52:43.152Z"
   },
   {
    "duration": 30,
    "start_time": "2023-12-23T09:52:43.164Z"
   },
   {
    "duration": 7,
    "start_time": "2023-12-23T09:52:43.195Z"
   },
   {
    "duration": 170,
    "start_time": "2023-12-23T09:52:43.203Z"
   },
   {
    "duration": 144,
    "start_time": "2023-12-23T09:52:43.374Z"
   },
   {
    "duration": 215,
    "start_time": "2023-12-23T09:52:43.519Z"
   },
   {
    "duration": 238,
    "start_time": "2023-12-23T09:52:43.736Z"
   },
   {
    "duration": 212,
    "start_time": "2023-12-23T09:52:43.976Z"
   },
   {
    "duration": 26,
    "start_time": "2023-12-23T09:52:44.189Z"
   },
   {
    "duration": 6,
    "start_time": "2023-12-23T09:52:44.216Z"
   },
   {
    "duration": 4,
    "start_time": "2023-12-23T09:52:44.223Z"
   },
   {
    "duration": 84,
    "start_time": "2023-12-23T09:52:44.229Z"
   },
   {
    "duration": 0,
    "start_time": "2023-12-23T09:52:44.315Z"
   },
   {
    "duration": 0,
    "start_time": "2023-12-23T09:52:44.316Z"
   },
   {
    "duration": 1546,
    "start_time": "2023-12-23T09:53:25.974Z"
   },
   {
    "duration": 203,
    "start_time": "2023-12-23T09:53:52.735Z"
   },
   {
    "duration": 193,
    "start_time": "2023-12-23T09:54:08.031Z"
   },
   {
    "duration": 1651,
    "start_time": "2023-12-23T09:54:57.944Z"
   },
   {
    "duration": 205,
    "start_time": "2023-12-23T09:55:11.136Z"
   },
   {
    "duration": 214,
    "start_time": "2023-12-23T09:56:02.456Z"
   },
   {
    "duration": 202,
    "start_time": "2023-12-23T10:06:07.510Z"
   },
   {
    "duration": 317,
    "start_time": "2023-12-23T10:07:41.815Z"
   },
   {
    "duration": 347,
    "start_time": "2023-12-23T10:08:04.841Z"
   },
   {
    "duration": 332,
    "start_time": "2023-12-23T10:08:17.529Z"
   },
   {
    "duration": 321,
    "start_time": "2023-12-23T10:08:34.593Z"
   },
   {
    "duration": 308,
    "start_time": "2023-12-23T10:08:48.817Z"
   },
   {
    "duration": 348,
    "start_time": "2023-12-23T10:09:00.642Z"
   },
   {
    "duration": 307,
    "start_time": "2023-12-23T10:09:08.705Z"
   },
   {
    "duration": 292,
    "start_time": "2023-12-23T10:10:18.202Z"
   },
   {
    "duration": 320,
    "start_time": "2023-12-23T10:10:24.946Z"
   },
   {
    "duration": 775,
    "start_time": "2023-12-23T10:10:34.659Z"
   },
   {
    "duration": 338,
    "start_time": "2023-12-23T10:12:09.459Z"
   },
   {
    "duration": 305,
    "start_time": "2023-12-23T10:12:27.236Z"
   },
   {
    "duration": 126,
    "start_time": "2023-12-23T10:12:38.148Z"
   },
   {
    "duration": 112,
    "start_time": "2023-12-23T10:12:45.419Z"
   },
   {
    "duration": 86,
    "start_time": "2023-12-23T10:14:49.253Z"
   },
   {
    "duration": 149,
    "start_time": "2023-12-23T10:20:44.089Z"
   },
   {
    "duration": 162,
    "start_time": "2023-12-23T10:20:49.592Z"
   },
   {
    "duration": 169,
    "start_time": "2023-12-23T10:21:07.945Z"
   },
   {
    "duration": 176,
    "start_time": "2023-12-23T10:22:13.537Z"
   },
   {
    "duration": 174,
    "start_time": "2023-12-23T10:22:23.186Z"
   },
   {
    "duration": 188,
    "start_time": "2023-12-23T10:22:40.322Z"
   },
   {
    "duration": 157,
    "start_time": "2023-12-23T10:23:08.099Z"
   },
   {
    "duration": 84,
    "start_time": "2023-12-23T11:00:53.469Z"
   },
   {
    "duration": 76,
    "start_time": "2023-12-23T11:01:17.101Z"
   },
   {
    "duration": 82,
    "start_time": "2023-12-23T11:15:13.279Z"
   },
   {
    "duration": 71,
    "start_time": "2023-12-23T11:16:13.111Z"
   },
   {
    "duration": 72,
    "start_time": "2023-12-23T11:16:19.488Z"
   },
   {
    "duration": 74,
    "start_time": "2023-12-23T11:16:43.479Z"
   },
   {
    "duration": 77,
    "start_time": "2023-12-23T11:16:59.191Z"
   },
   {
    "duration": 10,
    "start_time": "2023-12-23T11:17:08.577Z"
   },
   {
    "duration": 388,
    "start_time": "2023-12-23T11:17:23.280Z"
   },
   {
    "duration": 22,
    "start_time": "2023-12-23T11:18:25.506Z"
   },
   {
    "duration": 23,
    "start_time": "2023-12-23T11:18:27.273Z"
   },
   {
    "duration": 20,
    "start_time": "2023-12-23T11:22:24.819Z"
   },
   {
    "duration": 22,
    "start_time": "2023-12-23T11:24:14.852Z"
   },
   {
    "duration": 20,
    "start_time": "2023-12-23T11:24:58.213Z"
   },
   {
    "duration": 22,
    "start_time": "2023-12-23T11:25:48.694Z"
   },
   {
    "duration": 23,
    "start_time": "2023-12-23T11:26:03.230Z"
   },
   {
    "duration": 22,
    "start_time": "2023-12-23T11:26:20.622Z"
   },
   {
    "duration": 6,
    "start_time": "2023-12-23T11:29:57.553Z"
   },
   {
    "duration": 3,
    "start_time": "2023-12-23T11:30:09.088Z"
   },
   {
    "duration": 44,
    "start_time": "2023-12-23T11:30:09.092Z"
   },
   {
    "duration": 34,
    "start_time": "2023-12-23T11:30:09.137Z"
   },
   {
    "duration": 22,
    "start_time": "2023-12-23T11:30:09.173Z"
   },
   {
    "duration": 14,
    "start_time": "2023-12-23T11:30:09.197Z"
   },
   {
    "duration": 15,
    "start_time": "2023-12-23T11:30:09.213Z"
   },
   {
    "duration": 7,
    "start_time": "2023-12-23T11:30:09.230Z"
   },
   {
    "duration": 12,
    "start_time": "2023-12-23T11:30:09.238Z"
   },
   {
    "duration": 6,
    "start_time": "2023-12-23T11:30:09.251Z"
   },
   {
    "duration": 173,
    "start_time": "2023-12-23T11:30:09.259Z"
   },
   {
    "duration": 139,
    "start_time": "2023-12-23T11:30:09.433Z"
   },
   {
    "duration": 226,
    "start_time": "2023-12-23T11:30:09.573Z"
   },
   {
    "duration": 260,
    "start_time": "2023-12-23T11:30:09.801Z"
   },
   {
    "duration": 221,
    "start_time": "2023-12-23T11:30:10.064Z"
   },
   {
    "duration": 25,
    "start_time": "2023-12-23T11:30:10.286Z"
   },
   {
    "duration": 8,
    "start_time": "2023-12-23T11:30:10.312Z"
   },
   {
    "duration": 32,
    "start_time": "2023-12-23T11:30:10.322Z"
   },
   {
    "duration": 254,
    "start_time": "2023-12-23T11:30:10.355Z"
   },
   {
    "duration": 218,
    "start_time": "2023-12-23T11:30:10.611Z"
   },
   {
    "duration": 332,
    "start_time": "2023-12-23T11:30:10.831Z"
   },
   {
    "duration": 141,
    "start_time": "2023-12-23T11:30:11.164Z"
   },
   {
    "duration": 314,
    "start_time": "2023-12-23T11:30:11.306Z"
   },
   {
    "duration": 183,
    "start_time": "2023-12-23T11:30:11.622Z"
   },
   {
    "duration": 181,
    "start_time": "2023-12-23T11:30:11.807Z"
   },
   {
    "duration": 21,
    "start_time": "2023-12-23T11:30:11.990Z"
   },
   {
    "duration": 1114,
    "start_time": "2023-12-23T11:30:13.809Z"
   },
   {
    "duration": 3,
    "start_time": "2023-12-23T11:32:26.689Z"
   },
   {
    "duration": 49,
    "start_time": "2023-12-23T11:32:26.694Z"
   },
   {
    "duration": 33,
    "start_time": "2023-12-23T11:32:26.745Z"
   },
   {
    "duration": 32,
    "start_time": "2023-12-23T11:32:26.780Z"
   },
   {
    "duration": 15,
    "start_time": "2023-12-23T11:32:26.814Z"
   },
   {
    "duration": 7,
    "start_time": "2023-12-23T11:32:26.830Z"
   },
   {
    "duration": 12,
    "start_time": "2023-12-23T11:32:26.839Z"
   },
   {
    "duration": 35,
    "start_time": "2023-12-23T11:32:26.852Z"
   },
   {
    "duration": 16,
    "start_time": "2023-12-23T11:32:26.889Z"
   },
   {
    "duration": 151,
    "start_time": "2023-12-23T11:32:26.906Z"
   },
   {
    "duration": 146,
    "start_time": "2023-12-23T11:32:27.058Z"
   },
   {
    "duration": 226,
    "start_time": "2023-12-23T11:32:27.205Z"
   },
   {
    "duration": 229,
    "start_time": "2023-12-23T11:32:27.433Z"
   },
   {
    "duration": 217,
    "start_time": "2023-12-23T11:32:27.665Z"
   },
   {
    "duration": 28,
    "start_time": "2023-12-23T11:32:27.883Z"
   },
   {
    "duration": 7,
    "start_time": "2023-12-23T11:32:27.912Z"
   },
   {
    "duration": 7,
    "start_time": "2023-12-23T11:32:27.920Z"
   },
   {
    "duration": 230,
    "start_time": "2023-12-23T11:32:27.929Z"
   },
   {
    "duration": 226,
    "start_time": "2023-12-23T11:32:28.160Z"
   },
   {
    "duration": 321,
    "start_time": "2023-12-23T11:32:28.388Z"
   },
   {
    "duration": 125,
    "start_time": "2023-12-23T11:32:28.711Z"
   },
   {
    "duration": 309,
    "start_time": "2023-12-23T11:32:28.837Z"
   },
   {
    "duration": 181,
    "start_time": "2023-12-23T11:32:29.148Z"
   },
   {
    "duration": 174,
    "start_time": "2023-12-23T11:32:29.331Z"
   },
   {
    "duration": 22,
    "start_time": "2023-12-23T11:32:29.507Z"
   },
   {
    "duration": 1308,
    "start_time": "2023-12-23T11:32:29.530Z"
   },
   {
    "duration": 15,
    "start_time": "2023-12-23T11:50:46.326Z"
   },
   {
    "duration": 77,
    "start_time": "2023-12-23T11:56:19.330Z"
   },
   {
    "duration": 309,
    "start_time": "2023-12-23T11:57:31.418Z"
   },
   {
    "duration": 33,
    "start_time": "2023-12-23T11:58:33.083Z"
   },
   {
    "duration": 6,
    "start_time": "2023-12-23T15:44:41.014Z"
   },
   {
    "duration": 10,
    "start_time": "2023-12-23T15:44:59.561Z"
   },
   {
    "duration": 3,
    "start_time": "2023-12-23T20:38:13.641Z"
   },
   {
    "duration": 75,
    "start_time": "2023-12-23T20:38:13.645Z"
   },
   {
    "duration": 32,
    "start_time": "2023-12-23T20:38:13.722Z"
   },
   {
    "duration": 20,
    "start_time": "2023-12-23T20:38:13.755Z"
   },
   {
    "duration": 14,
    "start_time": "2023-12-23T20:38:13.777Z"
   },
   {
    "duration": 11,
    "start_time": "2023-12-23T20:38:13.792Z"
   },
   {
    "duration": 16,
    "start_time": "2023-12-23T20:38:13.804Z"
   },
   {
    "duration": 26,
    "start_time": "2023-12-23T20:38:13.821Z"
   },
   {
    "duration": 6,
    "start_time": "2023-12-23T20:38:13.848Z"
   },
   {
    "duration": 163,
    "start_time": "2023-12-23T20:38:13.856Z"
   },
   {
    "duration": 138,
    "start_time": "2023-12-23T20:38:14.021Z"
   },
   {
    "duration": 255,
    "start_time": "2023-12-23T20:38:14.161Z"
   },
   {
    "duration": 236,
    "start_time": "2023-12-23T20:38:14.417Z"
   },
   {
    "duration": 219,
    "start_time": "2023-12-23T20:38:14.655Z"
   },
   {
    "duration": 32,
    "start_time": "2023-12-23T20:38:14.875Z"
   },
   {
    "duration": 6,
    "start_time": "2023-12-23T20:38:14.908Z"
   },
   {
    "duration": 4,
    "start_time": "2023-12-23T20:38:14.915Z"
   },
   {
    "duration": 238,
    "start_time": "2023-12-23T20:38:14.921Z"
   },
   {
    "duration": 220,
    "start_time": "2023-12-23T20:38:15.160Z"
   },
   {
    "duration": 340,
    "start_time": "2023-12-23T20:38:15.381Z"
   },
   {
    "duration": 138,
    "start_time": "2023-12-23T20:38:15.723Z"
   },
   {
    "duration": 354,
    "start_time": "2023-12-23T20:38:15.862Z"
   },
   {
    "duration": 197,
    "start_time": "2023-12-23T20:38:16.218Z"
   },
   {
    "duration": 189,
    "start_time": "2023-12-23T20:38:16.417Z"
   },
   {
    "duration": 36,
    "start_time": "2023-12-23T20:38:16.608Z"
   },
   {
    "duration": 10,
    "start_time": "2023-12-23T20:38:16.646Z"
   },
   {
    "duration": 393,
    "start_time": "2023-12-23T20:38:18.186Z"
   },
   {
    "duration": 5,
    "start_time": "2023-12-23T20:40:09.116Z"
   },
   {
    "duration": 79,
    "start_time": "2023-12-23T20:48:11.673Z"
   },
   {
    "duration": 5,
    "start_time": "2023-12-23T20:48:18.489Z"
   },
   {
    "duration": 4,
    "start_time": "2023-12-23T20:48:28.972Z"
   },
   {
    "duration": 5,
    "start_time": "2023-12-23T20:51:13.277Z"
   },
   {
    "duration": 5,
    "start_time": "2023-12-23T20:54:30.440Z"
   },
   {
    "duration": 5,
    "start_time": "2023-12-23T20:54:48.376Z"
   },
   {
    "duration": 31,
    "start_time": "2023-12-23T20:57:18.258Z"
   },
   {
    "duration": 36,
    "start_time": "2023-12-23T20:57:23.001Z"
   },
   {
    "duration": 10,
    "start_time": "2023-12-23T20:57:44.935Z"
   },
   {
    "duration": 9,
    "start_time": "2023-12-23T21:03:25.046Z"
   },
   {
    "duration": 13,
    "start_time": "2023-12-23T21:04:02.420Z"
   },
   {
    "duration": 18,
    "start_time": "2023-12-23T21:07:35.976Z"
   },
   {
    "duration": 7,
    "start_time": "2023-12-23T21:07:57.449Z"
   },
   {
    "duration": 99,
    "start_time": "2023-12-23T21:09:44.642Z"
   },
   {
    "duration": 8,
    "start_time": "2023-12-23T21:16:23.251Z"
   },
   {
    "duration": 7,
    "start_time": "2023-12-23T21:16:27.519Z"
   },
   {
    "duration": 368,
    "start_time": "2023-12-23T21:54:56.118Z"
   },
   {
    "duration": 87,
    "start_time": "2023-12-23T21:54:56.488Z"
   },
   {
    "duration": 139,
    "start_time": "2023-12-23T21:54:56.576Z"
   },
   {
    "duration": 57,
    "start_time": "2023-12-23T21:54:56.717Z"
   },
   {
    "duration": 15,
    "start_time": "2023-12-23T21:54:56.776Z"
   },
   {
    "duration": 21,
    "start_time": "2023-12-23T21:54:56.792Z"
   },
   {
    "duration": 20,
    "start_time": "2023-12-23T21:54:56.814Z"
   },
   {
    "duration": 32,
    "start_time": "2023-12-23T21:54:56.835Z"
   },
   {
    "duration": 17,
    "start_time": "2023-12-23T21:54:56.868Z"
   },
   {
    "duration": 368,
    "start_time": "2023-12-23T21:54:56.886Z"
   },
   {
    "duration": 132,
    "start_time": "2023-12-23T21:54:57.256Z"
   },
   {
    "duration": 226,
    "start_time": "2023-12-23T21:54:57.389Z"
   },
   {
    "duration": 306,
    "start_time": "2023-12-23T21:54:57.616Z"
   },
   {
    "duration": 206,
    "start_time": "2023-12-23T21:54:57.925Z"
   },
   {
    "duration": 26,
    "start_time": "2023-12-23T21:54:58.132Z"
   },
   {
    "duration": 26,
    "start_time": "2023-12-23T21:54:58.159Z"
   },
   {
    "duration": 37,
    "start_time": "2023-12-23T21:54:58.187Z"
   },
   {
    "duration": 221,
    "start_time": "2023-12-23T21:54:58.226Z"
   },
   {
    "duration": 200,
    "start_time": "2023-12-23T21:54:58.449Z"
   },
   {
    "duration": 317,
    "start_time": "2023-12-23T21:54:58.650Z"
   },
   {
    "duration": 119,
    "start_time": "2023-12-23T21:54:58.970Z"
   },
   {
    "duration": 347,
    "start_time": "2023-12-23T21:54:59.091Z"
   },
   {
    "duration": 168,
    "start_time": "2023-12-23T21:54:59.439Z"
   },
   {
    "duration": 168,
    "start_time": "2023-12-23T21:54:59.608Z"
   },
   {
    "duration": 41,
    "start_time": "2023-12-23T21:54:59.777Z"
   },
   {
    "duration": 6,
    "start_time": "2023-12-23T21:54:59.820Z"
   },
   {
    "duration": 372,
    "start_time": "2023-12-23T21:54:59.827Z"
   },
   {
    "duration": 10,
    "start_time": "2023-12-23T21:55:00.200Z"
   },
   {
    "duration": 81,
    "start_time": "2023-12-23T21:55:00.211Z"
   },
   {
    "duration": 5,
    "start_time": "2023-12-23T22:05:10.923Z"
   },
   {
    "duration": 89,
    "start_time": "2023-12-23T22:08:54.569Z"
   },
   {
    "duration": 237,
    "start_time": "2023-12-23T22:08:57.684Z"
   },
   {
    "duration": 62,
    "start_time": "2023-12-23T22:09:05.538Z"
   },
   {
    "duration": 162,
    "start_time": "2023-12-23T22:09:13.778Z"
   },
   {
    "duration": 168,
    "start_time": "2023-12-23T22:09:20.572Z"
   },
   {
    "duration": 17,
    "start_time": "2023-12-23T22:15:36.204Z"
   },
   {
    "duration": 9,
    "start_time": "2023-12-23T22:15:46.420Z"
   },
   {
    "duration": 174,
    "start_time": "2023-12-23T22:17:11.708Z"
   },
   {
    "duration": 11,
    "start_time": "2023-12-23T22:17:19.002Z"
   },
   {
    "duration": 15,
    "start_time": "2023-12-23T22:17:37.843Z"
   },
   {
    "duration": 7,
    "start_time": "2023-12-23T22:17:47.111Z"
   },
   {
    "duration": 8,
    "start_time": "2023-12-23T22:18:28.853Z"
   },
   {
    "duration": 9,
    "start_time": "2023-12-23T22:18:31.605Z"
   },
   {
    "duration": 8,
    "start_time": "2023-12-23T22:18:39.941Z"
   },
   {
    "duration": 9,
    "start_time": "2023-12-23T22:18:42.470Z"
   },
   {
    "duration": 402,
    "start_time": "2023-12-23T22:27:12.175Z"
   },
   {
    "duration": 38,
    "start_time": "2023-12-23T22:27:12.578Z"
   },
   {
    "duration": 33,
    "start_time": "2023-12-23T22:27:12.618Z"
   },
   {
    "duration": 23,
    "start_time": "2023-12-23T22:27:12.653Z"
   },
   {
    "duration": 14,
    "start_time": "2023-12-23T22:27:12.678Z"
   },
   {
    "duration": 6,
    "start_time": "2023-12-23T22:27:12.694Z"
   },
   {
    "duration": 7,
    "start_time": "2023-12-23T22:27:12.702Z"
   },
   {
    "duration": 15,
    "start_time": "2023-12-23T22:27:12.710Z"
   },
   {
    "duration": 6,
    "start_time": "2023-12-23T22:27:12.726Z"
   },
   {
    "duration": 361,
    "start_time": "2023-12-23T22:27:12.733Z"
   },
   {
    "duration": 132,
    "start_time": "2023-12-23T22:27:13.098Z"
   },
   {
    "duration": 224,
    "start_time": "2023-12-23T22:27:13.231Z"
   },
   {
    "duration": 282,
    "start_time": "2023-12-23T22:27:13.457Z"
   },
   {
    "duration": 199,
    "start_time": "2023-12-23T22:27:13.742Z"
   },
   {
    "duration": 27,
    "start_time": "2023-12-23T22:27:13.943Z"
   },
   {
    "duration": 6,
    "start_time": "2023-12-23T22:27:13.971Z"
   },
   {
    "duration": 22,
    "start_time": "2023-12-23T22:27:13.978Z"
   },
   {
    "duration": 210,
    "start_time": "2023-12-23T22:27:14.001Z"
   },
   {
    "duration": 206,
    "start_time": "2023-12-23T22:27:14.213Z"
   },
   {
    "duration": 301,
    "start_time": "2023-12-23T22:27:14.420Z"
   },
   {
    "duration": 122,
    "start_time": "2023-12-23T22:27:14.722Z"
   },
   {
    "duration": 373,
    "start_time": "2023-12-23T22:27:14.846Z"
   },
   {
    "duration": 202,
    "start_time": "2023-12-23T22:27:15.221Z"
   },
   {
    "duration": 174,
    "start_time": "2023-12-23T22:27:15.425Z"
   },
   {
    "duration": 35,
    "start_time": "2023-12-23T22:27:15.600Z"
   },
   {
    "duration": 8,
    "start_time": "2023-12-23T22:27:15.636Z"
   },
   {
    "duration": 381,
    "start_time": "2023-12-23T22:27:15.646Z"
   },
   {
    "duration": 9,
    "start_time": "2023-12-23T22:27:16.029Z"
   },
   {
    "duration": 7,
    "start_time": "2023-12-23T22:27:16.039Z"
   },
   {
    "duration": 44,
    "start_time": "2023-12-24T08:03:09.269Z"
   },
   {
    "duration": 366,
    "start_time": "2023-12-24T08:03:13.500Z"
   },
   {
    "duration": 76,
    "start_time": "2023-12-24T08:03:13.867Z"
   },
   {
    "duration": 64,
    "start_time": "2023-12-24T08:03:13.944Z"
   },
   {
    "duration": 52,
    "start_time": "2023-12-24T08:03:14.009Z"
   },
   {
    "duration": 13,
    "start_time": "2023-12-24T08:03:14.063Z"
   },
   {
    "duration": 6,
    "start_time": "2023-12-24T08:03:14.077Z"
   },
   {
    "duration": 7,
    "start_time": "2023-12-24T08:03:14.084Z"
   },
   {
    "duration": 15,
    "start_time": "2023-12-24T08:03:14.092Z"
   },
   {
    "duration": 6,
    "start_time": "2023-12-24T08:03:14.108Z"
   },
   {
    "duration": 501,
    "start_time": "2023-12-24T08:03:14.115Z"
   },
   {
    "duration": 123,
    "start_time": "2023-12-24T08:03:14.618Z"
   },
   {
    "duration": 182,
    "start_time": "2023-12-24T08:03:14.742Z"
   },
   {
    "duration": 236,
    "start_time": "2023-12-24T08:03:14.925Z"
   },
   {
    "duration": 182,
    "start_time": "2023-12-24T08:03:15.163Z"
   },
   {
    "duration": 24,
    "start_time": "2023-12-24T08:03:15.346Z"
   },
   {
    "duration": 5,
    "start_time": "2023-12-24T08:03:15.372Z"
   },
   {
    "duration": 17,
    "start_time": "2023-12-24T08:03:15.378Z"
   },
   {
    "duration": 203,
    "start_time": "2023-12-24T08:03:17.287Z"
   },
   {
    "duration": 192,
    "start_time": "2023-12-24T08:03:36.276Z"
   },
   {
    "duration": 177,
    "start_time": "2023-12-24T08:04:02.567Z"
   },
   {
    "duration": 31,
    "start_time": "2023-12-24T08:05:56.727Z"
   },
   {
    "duration": 2,
    "start_time": "2023-12-24T08:06:00.748Z"
   },
   {
    "duration": 59,
    "start_time": "2023-12-24T08:06:00.752Z"
   },
   {
    "duration": 37,
    "start_time": "2023-12-24T08:06:00.812Z"
   },
   {
    "duration": 27,
    "start_time": "2023-12-24T08:06:00.851Z"
   },
   {
    "duration": 49,
    "start_time": "2023-12-24T08:06:00.880Z"
   },
   {
    "duration": 25,
    "start_time": "2023-12-24T08:06:00.930Z"
   },
   {
    "duration": 34,
    "start_time": "2023-12-24T08:06:00.956Z"
   },
   {
    "duration": 48,
    "start_time": "2023-12-24T08:06:00.991Z"
   },
   {
    "duration": 75,
    "start_time": "2023-12-24T08:06:01.040Z"
   },
   {
    "duration": 178,
    "start_time": "2023-12-24T08:06:01.116Z"
   },
   {
    "duration": 175,
    "start_time": "2023-12-24T08:06:01.295Z"
   },
   {
    "duration": 184,
    "start_time": "2023-12-24T08:06:01.471Z"
   },
   {
    "duration": 196,
    "start_time": "2023-12-24T08:06:01.657Z"
   },
   {
    "duration": 174,
    "start_time": "2023-12-24T08:06:01.854Z"
   },
   {
    "duration": 23,
    "start_time": "2023-12-24T08:06:02.029Z"
   },
   {
    "duration": 17,
    "start_time": "2023-12-24T08:06:02.053Z"
   },
   {
    "duration": 19,
    "start_time": "2023-12-24T08:06:02.071Z"
   },
   {
    "duration": 215,
    "start_time": "2023-12-24T08:06:02.091Z"
   },
   {
    "duration": 179,
    "start_time": "2023-12-24T08:06:02.308Z"
   },
   {
    "duration": 311,
    "start_time": "2023-12-24T08:06:02.488Z"
   },
   {
    "duration": 100,
    "start_time": "2023-12-24T08:06:02.801Z"
   },
   {
    "duration": 251,
    "start_time": "2023-12-24T08:06:02.903Z"
   },
   {
    "duration": 174,
    "start_time": "2023-12-24T08:06:03.155Z"
   },
   {
    "duration": 154,
    "start_time": "2023-12-24T08:06:03.331Z"
   },
   {
    "duration": 38,
    "start_time": "2023-12-24T08:06:03.487Z"
   },
   {
    "duration": 8,
    "start_time": "2023-12-24T08:06:05.216Z"
   },
   {
    "duration": 48,
    "start_time": "2023-12-24T19:08:19.160Z"
   },
   {
    "duration": 395,
    "start_time": "2023-12-24T19:08:24.769Z"
   },
   {
    "duration": 107,
    "start_time": "2023-12-24T19:08:25.166Z"
   },
   {
    "duration": 167,
    "start_time": "2023-12-24T19:08:25.274Z"
   },
   {
    "duration": 65,
    "start_time": "2023-12-24T19:08:25.443Z"
   },
   {
    "duration": 18,
    "start_time": "2023-12-24T19:08:25.510Z"
   },
   {
    "duration": 69,
    "start_time": "2023-12-24T19:08:25.529Z"
   },
   {
    "duration": 113,
    "start_time": "2023-12-24T19:08:25.600Z"
   },
   {
    "duration": 51,
    "start_time": "2023-12-24T19:08:25.715Z"
   },
   {
    "duration": 41,
    "start_time": "2023-12-24T19:08:25.768Z"
   },
   {
    "duration": 619,
    "start_time": "2023-12-24T19:08:25.811Z"
   },
   {
    "duration": 168,
    "start_time": "2023-12-24T19:08:26.433Z"
   },
   {
    "duration": 269,
    "start_time": "2023-12-24T19:08:26.603Z"
   },
   {
    "duration": 323,
    "start_time": "2023-12-24T19:08:26.873Z"
   },
   {
    "duration": 278,
    "start_time": "2023-12-24T19:08:27.199Z"
   },
   {
    "duration": 31,
    "start_time": "2023-12-24T19:08:27.479Z"
   },
   {
    "duration": 23,
    "start_time": "2023-12-24T19:08:27.512Z"
   },
   {
    "duration": 8,
    "start_time": "2023-12-24T19:08:27.537Z"
   },
   {
    "duration": 289,
    "start_time": "2023-12-24T19:08:27.546Z"
   },
   {
    "duration": 258,
    "start_time": "2023-12-24T19:08:27.836Z"
   },
   {
    "duration": 355,
    "start_time": "2023-12-24T19:08:28.096Z"
   },
   {
    "duration": 226,
    "start_time": "2023-12-24T19:08:28.453Z"
   },
   {
    "duration": 349,
    "start_time": "2023-12-24T19:08:28.681Z"
   },
   {
    "duration": 212,
    "start_time": "2023-12-24T19:08:29.032Z"
   },
   {
    "duration": 219,
    "start_time": "2023-12-24T19:08:29.246Z"
   },
   {
    "duration": 38,
    "start_time": "2023-12-24T19:08:29.467Z"
   },
   {
    "duration": 30,
    "start_time": "2023-12-24T19:08:29.507Z"
   },
   {
    "duration": 551,
    "start_time": "2023-12-24T19:08:29.538Z"
   },
   {
    "duration": 11,
    "start_time": "2023-12-24T19:08:30.091Z"
   },
   {
    "duration": 52,
    "start_time": "2023-12-24T19:08:30.104Z"
   },
   {
    "duration": 33,
    "start_time": "2023-12-24T19:08:55.412Z"
   },
   {
    "duration": 32,
    "start_time": "2023-12-24T19:09:04.303Z"
   },
   {
    "duration": 37,
    "start_time": "2023-12-24T19:09:17.439Z"
   },
   {
    "duration": 41,
    "start_time": "2023-12-24T19:09:25.239Z"
   },
   {
    "duration": 49,
    "start_time": "2023-12-24T19:09:36.367Z"
   },
   {
    "duration": 18,
    "start_time": "2023-12-24T19:26:47.943Z"
   },
   {
    "duration": 15,
    "start_time": "2023-12-24T19:29:09.820Z"
   },
   {
    "duration": 12,
    "start_time": "2023-12-24T19:30:31.668Z"
   },
   {
    "duration": 16,
    "start_time": "2023-12-24T19:31:17.790Z"
   },
   {
    "duration": 17,
    "start_time": "2023-12-24T19:31:32.158Z"
   },
   {
    "duration": 13,
    "start_time": "2023-12-24T19:34:16.599Z"
   },
   {
    "duration": 28,
    "start_time": "2023-12-24T19:34:38.199Z"
   },
   {
    "duration": 38,
    "start_time": "2023-12-24T19:34:55.144Z"
   },
   {
    "duration": 47,
    "start_time": "2023-12-24T19:35:11.760Z"
   },
   {
    "duration": 3,
    "start_time": "2023-12-24T19:35:46.500Z"
   },
   {
    "duration": 46,
    "start_time": "2023-12-24T19:35:46.505Z"
   },
   {
    "duration": 39,
    "start_time": "2023-12-24T19:35:46.553Z"
   },
   {
    "duration": 29,
    "start_time": "2023-12-24T19:35:46.593Z"
   },
   {
    "duration": 19,
    "start_time": "2023-12-24T19:35:46.630Z"
   },
   {
    "duration": 13,
    "start_time": "2023-12-24T19:35:46.651Z"
   },
   {
    "duration": 12,
    "start_time": "2023-12-24T19:35:46.665Z"
   },
   {
    "duration": 17,
    "start_time": "2023-12-24T19:39:11.035Z"
   },
   {
    "duration": 25,
    "start_time": "2023-12-24T19:40:01.155Z"
   },
   {
    "duration": 16,
    "start_time": "2023-12-24T19:40:25.100Z"
   },
   {
    "duration": 16,
    "start_time": "2023-12-24T19:40:51.036Z"
   },
   {
    "duration": 3,
    "start_time": "2023-12-24T19:40:57.312Z"
   },
   {
    "duration": 47,
    "start_time": "2023-12-24T19:40:57.318Z"
   },
   {
    "duration": 44,
    "start_time": "2023-12-24T19:40:57.367Z"
   },
   {
    "duration": 28,
    "start_time": "2023-12-24T19:40:57.413Z"
   },
   {
    "duration": 19,
    "start_time": "2023-12-24T19:40:57.442Z"
   },
   {
    "duration": 12,
    "start_time": "2023-12-24T19:40:57.463Z"
   },
   {
    "duration": 12,
    "start_time": "2023-12-24T19:40:57.477Z"
   },
   {
    "duration": 16,
    "start_time": "2023-12-24T19:41:01.860Z"
   },
   {
    "duration": 16,
    "start_time": "2023-12-24T19:41:08.651Z"
   },
   {
    "duration": 3,
    "start_time": "2023-12-24T19:41:12.168Z"
   },
   {
    "duration": 69,
    "start_time": "2023-12-24T19:41:12.173Z"
   },
   {
    "duration": 37,
    "start_time": "2023-12-24T19:41:12.244Z"
   },
   {
    "duration": 28,
    "start_time": "2023-12-24T19:41:12.283Z"
   },
   {
    "duration": 34,
    "start_time": "2023-12-24T19:41:12.313Z"
   },
   {
    "duration": 30,
    "start_time": "2023-12-24T19:41:12.349Z"
   },
   {
    "duration": 27,
    "start_time": "2023-12-24T19:41:12.380Z"
   },
   {
    "duration": 16,
    "start_time": "2023-12-24T19:41:13.419Z"
   },
   {
    "duration": 17,
    "start_time": "2023-12-24T19:41:29.987Z"
   },
   {
    "duration": 17,
    "start_time": "2023-12-24T19:41:39.724Z"
   },
   {
    "duration": 3,
    "start_time": "2023-12-24T19:41:47.752Z"
   },
   {
    "duration": 44,
    "start_time": "2023-12-24T19:41:47.757Z"
   },
   {
    "duration": 37,
    "start_time": "2023-12-24T19:41:47.804Z"
   },
   {
    "duration": 26,
    "start_time": "2023-12-24T19:41:47.842Z"
   },
   {
    "duration": 19,
    "start_time": "2023-12-24T19:41:47.871Z"
   },
   {
    "duration": 18,
    "start_time": "2023-12-24T19:41:47.891Z"
   },
   {
    "duration": 33,
    "start_time": "2023-12-24T19:41:47.910Z"
   },
   {
    "duration": 19,
    "start_time": "2023-12-24T19:41:50.508Z"
   },
   {
    "duration": 16,
    "start_time": "2023-12-24T19:42:01.733Z"
   },
   {
    "duration": 15,
    "start_time": "2023-12-24T19:44:16.678Z"
   },
   {
    "duration": 3,
    "start_time": "2023-12-24T19:44:20.130Z"
   },
   {
    "duration": 44,
    "start_time": "2023-12-24T19:44:20.135Z"
   },
   {
    "duration": 39,
    "start_time": "2023-12-24T19:44:20.181Z"
   },
   {
    "duration": 28,
    "start_time": "2023-12-24T19:44:20.222Z"
   },
   {
    "duration": 18,
    "start_time": "2023-12-24T19:44:20.252Z"
   },
   {
    "duration": 17,
    "start_time": "2023-12-24T19:44:20.272Z"
   },
   {
    "duration": 44,
    "start_time": "2023-12-24T19:44:20.291Z"
   },
   {
    "duration": 16,
    "start_time": "2023-12-24T19:44:21.669Z"
   },
   {
    "duration": 14,
    "start_time": "2023-12-24T19:48:55.465Z"
   },
   {
    "duration": 3,
    "start_time": "2023-12-24T19:49:08.242Z"
   },
   {
    "duration": 42,
    "start_time": "2023-12-24T19:49:08.247Z"
   },
   {
    "duration": 37,
    "start_time": "2023-12-24T19:49:08.290Z"
   },
   {
    "duration": 27,
    "start_time": "2023-12-24T19:49:08.329Z"
   },
   {
    "duration": 20,
    "start_time": "2023-12-24T19:49:08.358Z"
   },
   {
    "duration": 16,
    "start_time": "2023-12-24T19:49:08.380Z"
   },
   {
    "duration": 39,
    "start_time": "2023-12-24T19:49:08.397Z"
   },
   {
    "duration": 15,
    "start_time": "2023-12-24T19:49:10.409Z"
   },
   {
    "duration": 19,
    "start_time": "2023-12-24T19:49:27.576Z"
   },
   {
    "duration": 3,
    "start_time": "2023-12-24T19:49:32.069Z"
   },
   {
    "duration": 68,
    "start_time": "2023-12-24T19:49:32.074Z"
   },
   {
    "duration": 47,
    "start_time": "2023-12-24T19:49:32.144Z"
   },
   {
    "duration": 44,
    "start_time": "2023-12-24T19:49:32.192Z"
   },
   {
    "duration": 25,
    "start_time": "2023-12-24T19:49:32.239Z"
   },
   {
    "duration": 37,
    "start_time": "2023-12-24T19:49:32.265Z"
   },
   {
    "duration": 25,
    "start_time": "2023-12-24T19:49:32.304Z"
   },
   {
    "duration": 23,
    "start_time": "2023-12-24T19:49:36.353Z"
   },
   {
    "duration": 9,
    "start_time": "2023-12-24T19:56:16.246Z"
   },
   {
    "duration": 63,
    "start_time": "2023-12-24T19:57:34.390Z"
   },
   {
    "duration": 119,
    "start_time": "2023-12-24T19:57:53.206Z"
   },
   {
    "duration": 124,
    "start_time": "2023-12-24T19:58:01.654Z"
   },
   {
    "duration": 128,
    "start_time": "2023-12-24T19:58:27.127Z"
   },
   {
    "duration": 125,
    "start_time": "2023-12-24T19:59:28.687Z"
   },
   {
    "duration": 102,
    "start_time": "2023-12-24T19:59:39.615Z"
   },
   {
    "duration": 211,
    "start_time": "2023-12-24T20:06:55.365Z"
   },
   {
    "duration": 106,
    "start_time": "2023-12-24T20:11:51.400Z"
   },
   {
    "duration": 221,
    "start_time": "2023-12-24T20:20:05.077Z"
   },
   {
    "duration": 222,
    "start_time": "2023-12-24T20:21:43.815Z"
   },
   {
    "duration": 228,
    "start_time": "2023-12-24T20:23:48.760Z"
   },
   {
    "duration": 233,
    "start_time": "2023-12-24T20:25:06.313Z"
   },
   {
    "duration": 247,
    "start_time": "2023-12-24T20:25:20.201Z"
   },
   {
    "duration": 311,
    "start_time": "2023-12-24T20:25:35.266Z"
   },
   {
    "duration": 251,
    "start_time": "2023-12-24T20:26:02.137Z"
   },
   {
    "duration": 230,
    "start_time": "2023-12-24T20:26:36.658Z"
   },
   {
    "duration": 200,
    "start_time": "2023-12-24T20:32:48.733Z"
   },
   {
    "duration": 63,
    "start_time": "2023-12-24T20:33:28.798Z"
   },
   {
    "duration": 174,
    "start_time": "2023-12-24T20:33:32.534Z"
   },
   {
    "duration": 183,
    "start_time": "2023-12-24T20:36:06.087Z"
   },
   {
    "duration": 189,
    "start_time": "2023-12-24T20:37:04.920Z"
   },
   {
    "duration": 173,
    "start_time": "2023-12-24T20:38:09.176Z"
   },
   {
    "duration": 203,
    "start_time": "2023-12-24T20:38:37.385Z"
   },
   {
    "duration": 207,
    "start_time": "2023-12-24T20:39:04.113Z"
   },
   {
    "duration": 190,
    "start_time": "2023-12-24T20:41:55.195Z"
   },
   {
    "duration": 188,
    "start_time": "2023-12-24T20:42:12.508Z"
   },
   {
    "duration": 214,
    "start_time": "2023-12-24T20:46:58.596Z"
   },
   {
    "duration": 202,
    "start_time": "2023-12-24T20:55:22.035Z"
   },
   {
    "duration": 207,
    "start_time": "2023-12-24T20:58:13.645Z"
   },
   {
    "duration": 214,
    "start_time": "2023-12-24T20:58:58.519Z"
   },
   {
    "duration": 198,
    "start_time": "2023-12-24T20:59:15.334Z"
   },
   {
    "duration": 201,
    "start_time": "2023-12-24T21:00:57.975Z"
   },
   {
    "duration": 991,
    "start_time": "2023-12-24T21:01:34.464Z"
   },
   {
    "duration": 208,
    "start_time": "2023-12-24T21:02:02.896Z"
   },
   {
    "duration": 236,
    "start_time": "2023-12-24T21:02:17.128Z"
   },
   {
    "duration": 44,
    "start_time": "2023-12-24T21:02:39.689Z"
   },
   {
    "duration": 205,
    "start_time": "2023-12-24T21:02:47.896Z"
   },
   {
    "duration": 97,
    "start_time": "2023-12-24T21:03:17.321Z"
   },
   {
    "duration": 119,
    "start_time": "2023-12-24T21:04:02.722Z"
   },
   {
    "duration": 198,
    "start_time": "2023-12-24T21:04:28.074Z"
   },
   {
    "duration": 193,
    "start_time": "2023-12-24T21:04:59.250Z"
   },
   {
    "duration": 3,
    "start_time": "2023-12-24T21:05:02.470Z"
   },
   {
    "duration": 68,
    "start_time": "2023-12-24T21:05:02.476Z"
   },
   {
    "duration": 40,
    "start_time": "2023-12-24T21:05:02.545Z"
   },
   {
    "duration": 29,
    "start_time": "2023-12-24T21:05:02.587Z"
   },
   {
    "duration": 35,
    "start_time": "2023-12-24T21:05:02.618Z"
   },
   {
    "duration": 18,
    "start_time": "2023-12-24T21:05:02.655Z"
   },
   {
    "duration": 22,
    "start_time": "2023-12-24T21:05:02.675Z"
   },
   {
    "duration": 23,
    "start_time": "2023-12-24T21:05:02.730Z"
   },
   {
    "duration": 36,
    "start_time": "2023-12-24T21:05:02.754Z"
   },
   {
    "duration": 140,
    "start_time": "2023-12-24T21:05:02.793Z"
   },
   {
    "duration": 130,
    "start_time": "2023-12-24T21:05:02.935Z"
   },
   {
    "duration": 274,
    "start_time": "2023-12-24T21:05:03.067Z"
   },
   {
    "duration": 202,
    "start_time": "2023-12-24T21:05:08.186Z"
   },
   {
    "duration": 323,
    "start_time": "2023-12-24T21:05:50.715Z"
   },
   {
    "duration": 12,
    "start_time": "2023-12-24T21:08:30.635Z"
   },
   {
    "duration": 49,
    "start_time": "2023-12-24T21:08:58.068Z"
   },
   {
    "duration": 232,
    "start_time": "2023-12-24T21:09:02.804Z"
   },
   {
    "duration": 3,
    "start_time": "2023-12-24T21:09:35.230Z"
   },
   {
    "duration": 47,
    "start_time": "2023-12-24T21:09:35.235Z"
   },
   {
    "duration": 37,
    "start_time": "2023-12-24T21:09:35.284Z"
   },
   {
    "duration": 27,
    "start_time": "2023-12-24T21:09:35.323Z"
   },
   {
    "duration": 21,
    "start_time": "2023-12-24T21:09:35.352Z"
   },
   {
    "duration": 14,
    "start_time": "2023-12-24T21:09:35.375Z"
   },
   {
    "duration": 45,
    "start_time": "2023-12-24T21:09:35.391Z"
   },
   {
    "duration": 16,
    "start_time": "2023-12-24T21:09:35.437Z"
   },
   {
    "duration": 12,
    "start_time": "2023-12-24T21:09:35.455Z"
   },
   {
    "duration": 166,
    "start_time": "2023-12-24T21:09:35.469Z"
   },
   {
    "duration": 121,
    "start_time": "2023-12-24T21:09:35.636Z"
   },
   {
    "duration": 251,
    "start_time": "2023-12-24T21:09:35.758Z"
   },
   {
    "duration": 222,
    "start_time": "2023-12-24T21:09:36.012Z"
   },
   {
    "duration": 173,
    "start_time": "2023-12-24T21:09:36.235Z"
   },
   {
    "duration": 119,
    "start_time": "2023-12-24T21:09:38.997Z"
   },
   {
    "duration": 132,
    "start_time": "2023-12-24T21:10:46.141Z"
   },
   {
    "duration": 9,
    "start_time": "2023-12-24T21:13:43.120Z"
   },
   {
    "duration": 145,
    "start_time": "2023-12-24T21:13:53.472Z"
   },
   {
    "duration": 156,
    "start_time": "2023-12-24T21:16:45.866Z"
   },
   {
    "duration": 162,
    "start_time": "2023-12-24T21:17:01.450Z"
   },
   {
    "duration": 145,
    "start_time": "2023-12-24T21:17:44.444Z"
   },
   {
    "duration": 165,
    "start_time": "2023-12-24T21:18:25.475Z"
   },
   {
    "duration": 153,
    "start_time": "2023-12-24T21:18:29.867Z"
   },
   {
    "duration": 174,
    "start_time": "2023-12-24T21:18:37.466Z"
   },
   {
    "duration": 164,
    "start_time": "2023-12-24T21:21:35.021Z"
   },
   {
    "duration": 159,
    "start_time": "2023-12-24T21:22:15.173Z"
   },
   {
    "duration": 251,
    "start_time": "2023-12-24T21:24:21.646Z"
   },
   {
    "duration": 407,
    "start_time": "2023-12-24T21:25:18.975Z"
   },
   {
    "duration": 256,
    "start_time": "2023-12-24T21:26:28.592Z"
   },
   {
    "duration": 3,
    "start_time": "2023-12-24T21:26:40.333Z"
   },
   {
    "duration": 46,
    "start_time": "2023-12-24T21:26:40.338Z"
   },
   {
    "duration": 37,
    "start_time": "2023-12-24T21:26:40.386Z"
   },
   {
    "duration": 27,
    "start_time": "2023-12-24T21:26:40.425Z"
   },
   {
    "duration": 28,
    "start_time": "2023-12-24T21:26:40.454Z"
   },
   {
    "duration": 14,
    "start_time": "2023-12-24T21:26:40.484Z"
   },
   {
    "duration": 39,
    "start_time": "2023-12-24T21:26:40.500Z"
   },
   {
    "duration": 15,
    "start_time": "2023-12-24T21:26:40.541Z"
   },
   {
    "duration": 9,
    "start_time": "2023-12-24T21:26:40.558Z"
   },
   {
    "duration": 165,
    "start_time": "2023-12-24T21:26:40.569Z"
   },
   {
    "duration": 113,
    "start_time": "2023-12-24T21:26:40.736Z"
   },
   {
    "duration": 248,
    "start_time": "2023-12-24T21:26:40.851Z"
   },
   {
    "duration": 251,
    "start_time": "2023-12-24T21:26:41.102Z"
   },
   {
    "duration": 159,
    "start_time": "2023-12-24T21:26:41.355Z"
   },
   {
    "duration": 171,
    "start_time": "2023-12-24T21:26:41.515Z"
   },
   {
    "duration": 278,
    "start_time": "2023-12-24T21:26:41.688Z"
   },
   {
    "duration": 257,
    "start_time": "2023-12-24T21:26:44.760Z"
   },
   {
    "duration": 417,
    "start_time": "2023-12-24T21:28:26.569Z"
   },
   {
    "duration": 3,
    "start_time": "2023-12-24T21:28:48.270Z"
   },
   {
    "duration": 58,
    "start_time": "2023-12-24T21:28:48.275Z"
   },
   {
    "duration": 40,
    "start_time": "2023-12-24T21:28:48.336Z"
   },
   {
    "duration": 29,
    "start_time": "2023-12-24T21:28:48.379Z"
   },
   {
    "duration": 33,
    "start_time": "2023-12-24T21:28:48.410Z"
   },
   {
    "duration": 15,
    "start_time": "2023-12-24T21:28:48.445Z"
   },
   {
    "duration": 31,
    "start_time": "2023-12-24T21:28:48.462Z"
   },
   {
    "duration": 41,
    "start_time": "2023-12-24T21:28:48.495Z"
   },
   {
    "duration": 27,
    "start_time": "2023-12-24T21:28:48.537Z"
   },
   {
    "duration": 142,
    "start_time": "2023-12-24T21:28:48.567Z"
   },
   {
    "duration": 135,
    "start_time": "2023-12-24T21:28:48.710Z"
   },
   {
    "duration": 258,
    "start_time": "2023-12-24T21:28:48.846Z"
   },
   {
    "duration": 211,
    "start_time": "2023-12-24T21:28:49.106Z"
   },
   {
    "duration": 174,
    "start_time": "2023-12-24T21:28:49.318Z"
   },
   {
    "duration": 181,
    "start_time": "2023-12-24T21:28:49.494Z"
   },
   {
    "duration": 281,
    "start_time": "2023-12-24T21:28:49.677Z"
   },
   {
    "duration": 252,
    "start_time": "2023-12-24T21:28:59.465Z"
   },
   {
    "duration": 15,
    "start_time": "2023-12-24T21:31:25.099Z"
   },
   {
    "duration": 279,
    "start_time": "2023-12-24T21:32:04.365Z"
   },
   {
    "duration": 520,
    "start_time": "2023-12-24T21:32:27.516Z"
   },
   {
    "duration": 278,
    "start_time": "2023-12-24T21:33:43.981Z"
   },
   {
    "duration": 288,
    "start_time": "2023-12-24T21:36:00.294Z"
   },
   {
    "duration": 250,
    "start_time": "2023-12-24T21:36:10.351Z"
   },
   {
    "duration": 20,
    "start_time": "2023-12-24T21:45:27.973Z"
   },
   {
    "duration": 54,
    "start_time": "2023-12-24T21:45:35.837Z"
   },
   {
    "duration": 41,
    "start_time": "2023-12-24T21:45:41.149Z"
   },
   {
    "duration": 28,
    "start_time": "2023-12-24T21:46:26.598Z"
   },
   {
    "duration": 43,
    "start_time": "2023-12-24T21:46:38.582Z"
   },
   {
    "duration": 282,
    "start_time": "2023-12-24T21:47:52.366Z"
   },
   {
    "duration": 408,
    "start_time": "2023-12-24T21:48:29.279Z"
   },
   {
    "duration": 17,
    "start_time": "2023-12-24T21:49:06.511Z"
   },
   {
    "duration": 18,
    "start_time": "2023-12-24T21:49:33.304Z"
   },
   {
    "duration": 15,
    "start_time": "2023-12-24T21:49:55.160Z"
   },
   {
    "duration": 18,
    "start_time": "2023-12-24T21:53:46.786Z"
   },
   {
    "duration": 15,
    "start_time": "2023-12-24T21:54:09.427Z"
   },
   {
    "duration": 16,
    "start_time": "2023-12-24T21:54:23.203Z"
   },
   {
    "duration": 8,
    "start_time": "2023-12-24T21:55:01.564Z"
   },
   {
    "duration": 4,
    "start_time": "2023-12-24T21:56:09.316Z"
   },
   {
    "duration": 15,
    "start_time": "2023-12-24T21:56:20.332Z"
   },
   {
    "duration": 7,
    "start_time": "2023-12-24T21:56:32.708Z"
   },
   {
    "duration": 53,
    "start_time": "2023-12-25T04:50:51.540Z"
   },
   {
    "duration": 392,
    "start_time": "2023-12-25T04:50:55.267Z"
   },
   {
    "duration": 104,
    "start_time": "2023-12-25T04:50:55.661Z"
   },
   {
    "duration": 164,
    "start_time": "2023-12-25T04:50:55.767Z"
   },
   {
    "duration": 70,
    "start_time": "2023-12-25T04:50:55.934Z"
   },
   {
    "duration": 29,
    "start_time": "2023-12-25T04:50:56.007Z"
   },
   {
    "duration": 17,
    "start_time": "2023-12-25T04:50:56.038Z"
   },
   {
    "duration": 24,
    "start_time": "2023-12-25T04:50:56.057Z"
   },
   {
    "duration": 19,
    "start_time": "2023-12-25T04:50:56.083Z"
   },
   {
    "duration": 9,
    "start_time": "2023-12-25T04:50:56.130Z"
   },
   {
    "duration": 582,
    "start_time": "2023-12-25T04:50:56.142Z"
   },
   {
    "duration": 122,
    "start_time": "2023-12-25T04:50:56.730Z"
   },
   {
    "duration": 250,
    "start_time": "2023-12-25T04:50:56.854Z"
   },
   {
    "duration": 226,
    "start_time": "2023-12-25T04:50:57.105Z"
   },
   {
    "duration": 220,
    "start_time": "2023-12-25T04:50:57.333Z"
   },
   {
    "duration": 165,
    "start_time": "2023-12-25T04:50:57.555Z"
   },
   {
    "duration": 270,
    "start_time": "2023-12-25T04:50:57.722Z"
   },
   {
    "duration": 285,
    "start_time": "2023-12-25T04:50:57.994Z"
   },
   {
    "duration": 283,
    "start_time": "2023-12-25T04:50:58.280Z"
   },
   {
    "duration": 286,
    "start_time": "2023-12-25T04:50:58.565Z"
   },
   {
    "duration": 358,
    "start_time": "2023-12-25T04:50:58.853Z"
   },
   {
    "duration": 51,
    "start_time": "2023-12-25T04:50:59.214Z"
   },
   {
    "duration": 17,
    "start_time": "2023-12-25T04:50:59.268Z"
   },
   {
    "duration": 44,
    "start_time": "2023-12-25T04:50:59.287Z"
   },
   {
    "duration": 7,
    "start_time": "2023-12-25T04:50:59.333Z"
   },
   {
    "duration": 270,
    "start_time": "2023-12-25T04:50:59.342Z"
   },
   {
    "duration": 275,
    "start_time": "2023-12-25T04:50:59.614Z"
   },
   {
    "duration": 399,
    "start_time": "2023-12-25T04:51:01.842Z"
   },
   {
    "duration": 56,
    "start_time": "2023-12-25T04:52:16.138Z"
   },
   {
    "duration": 369,
    "start_time": "2023-12-25T04:52:22.579Z"
   },
   {
    "duration": 471,
    "start_time": "2023-12-25T04:52:30.090Z"
   },
   {
    "duration": 389,
    "start_time": "2023-12-25T04:52:56.283Z"
   },
   {
    "duration": 272,
    "start_time": "2023-12-25T04:54:15.732Z"
   },
   {
    "duration": 274,
    "start_time": "2023-12-25T04:54:40.699Z"
   },
   {
    "duration": 547,
    "start_time": "2023-12-25T04:55:01.317Z"
   },
   {
    "duration": 660,
    "start_time": "2023-12-25T04:58:59.599Z"
   },
   {
    "duration": 9,
    "start_time": "2023-12-25T05:00:55.648Z"
   },
   {
    "duration": 12,
    "start_time": "2023-12-25T05:01:06.117Z"
   },
   {
    "duration": 15,
    "start_time": "2023-12-25T05:01:15.304Z"
   },
   {
    "duration": 14,
    "start_time": "2023-12-25T05:03:02.450Z"
   },
   {
    "duration": 51,
    "start_time": "2023-12-25T05:05:17.507Z"
   },
   {
    "duration": 36,
    "start_time": "2023-12-25T05:08:30.301Z"
   },
   {
    "duration": 2,
    "start_time": "2023-12-25T05:08:35.016Z"
   },
   {
    "duration": 53,
    "start_time": "2023-12-25T05:08:35.020Z"
   },
   {
    "duration": 37,
    "start_time": "2023-12-25T05:08:35.075Z"
   },
   {
    "duration": 27,
    "start_time": "2023-12-25T05:08:35.113Z"
   },
   {
    "duration": 20,
    "start_time": "2023-12-25T05:08:35.142Z"
   },
   {
    "duration": 12,
    "start_time": "2023-12-25T05:08:35.164Z"
   },
   {
    "duration": 23,
    "start_time": "2023-12-25T05:08:35.178Z"
   },
   {
    "duration": 41,
    "start_time": "2023-12-25T05:08:35.202Z"
   },
   {
    "duration": 8,
    "start_time": "2023-12-25T05:08:35.245Z"
   },
   {
    "duration": 143,
    "start_time": "2023-12-25T05:08:35.254Z"
   },
   {
    "duration": 123,
    "start_time": "2023-12-25T05:08:35.398Z"
   },
   {
    "duration": 256,
    "start_time": "2023-12-25T05:08:35.531Z"
   },
   {
    "duration": 209,
    "start_time": "2023-12-25T05:08:35.790Z"
   },
   {
    "duration": 262,
    "start_time": "2023-12-25T05:08:36.001Z"
   },
   {
    "duration": 158,
    "start_time": "2023-12-25T05:08:36.264Z"
   },
   {
    "duration": 272,
    "start_time": "2023-12-25T05:08:36.430Z"
   },
   {
    "duration": 302,
    "start_time": "2023-12-25T05:08:36.703Z"
   },
   {
    "duration": 294,
    "start_time": "2023-12-25T05:08:37.007Z"
   },
   {
    "duration": 262,
    "start_time": "2023-12-25T05:08:37.303Z"
   },
   {
    "duration": 418,
    "start_time": "2023-12-25T05:08:37.567Z"
   },
   {
    "duration": 47,
    "start_time": "2023-12-25T05:08:37.987Z"
   },
   {
    "duration": 15,
    "start_time": "2023-12-25T05:08:38.035Z"
   },
   {
    "duration": 14,
    "start_time": "2023-12-25T05:08:38.052Z"
   },
   {
    "duration": 7,
    "start_time": "2023-12-25T05:08:38.067Z"
   },
   {
    "duration": 282,
    "start_time": "2023-12-25T05:08:38.075Z"
   },
   {
    "duration": 258,
    "start_time": "2023-12-25T05:08:38.358Z"
   },
   {
    "duration": 405,
    "start_time": "2023-12-25T05:08:38.618Z"
   },
   {
    "duration": 18,
    "start_time": "2023-12-25T05:08:39.030Z"
   },
   {
    "duration": 383,
    "start_time": "2023-12-25T05:08:39.050Z"
   },
   {
    "duration": 281,
    "start_time": "2023-12-25T05:08:39.435Z"
   },
   {
    "duration": 348,
    "start_time": "2023-12-25T05:08:39.717Z"
   },
   {
    "duration": 652,
    "start_time": "2023-12-25T05:08:40.066Z"
   },
   {
    "duration": 23,
    "start_time": "2023-12-25T05:08:40.719Z"
   },
   {
    "duration": 221,
    "start_time": "2023-12-25T05:08:40.743Z"
   },
   {
    "duration": 217,
    "start_time": "2023-12-25T05:08:40.965Z"
   },
   {
    "duration": 206,
    "start_time": "2023-12-25T05:08:41.184Z"
   },
   {
    "duration": 6,
    "start_time": "2023-12-25T05:08:43.149Z"
   },
   {
    "duration": 412,
    "start_time": "2023-12-26T03:38:52.284Z"
   },
   {
    "duration": 95,
    "start_time": "2023-12-26T03:38:52.698Z"
   },
   {
    "duration": 81,
    "start_time": "2023-12-26T03:38:52.794Z"
   },
   {
    "duration": 64,
    "start_time": "2023-12-26T03:38:52.877Z"
   },
   {
    "duration": 18,
    "start_time": "2023-12-26T03:38:52.943Z"
   },
   {
    "duration": 14,
    "start_time": "2023-12-26T03:38:52.962Z"
   },
   {
    "duration": 9,
    "start_time": "2023-12-26T03:38:52.978Z"
   },
   {
    "duration": 32,
    "start_time": "2023-12-26T03:38:52.989Z"
   },
   {
    "duration": 7,
    "start_time": "2023-12-26T03:38:53.023Z"
   },
   {
    "duration": 518,
    "start_time": "2023-12-26T03:38:53.032Z"
   },
   {
    "duration": 107,
    "start_time": "2023-12-26T03:38:53.552Z"
   },
   {
    "duration": 241,
    "start_time": "2023-12-26T03:38:53.660Z"
   },
   {
    "duration": 194,
    "start_time": "2023-12-26T03:38:53.903Z"
   },
   {
    "duration": 205,
    "start_time": "2023-12-26T03:38:54.100Z"
   },
   {
    "duration": 151,
    "start_time": "2023-12-26T03:38:54.306Z"
   },
   {
    "duration": 243,
    "start_time": "2023-12-26T03:38:54.458Z"
   },
   {
    "duration": 290,
    "start_time": "2023-12-26T03:38:54.702Z"
   },
   {
    "duration": 273,
    "start_time": "2023-12-26T03:38:54.994Z"
   },
   {
    "duration": 254,
    "start_time": "2023-12-26T03:38:55.269Z"
   },
   {
    "duration": 338,
    "start_time": "2023-12-26T03:38:55.525Z"
   },
   {
    "duration": 55,
    "start_time": "2023-12-26T03:38:55.864Z"
   },
   {
    "duration": 14,
    "start_time": "2023-12-26T03:38:55.921Z"
   },
   {
    "duration": 13,
    "start_time": "2023-12-26T03:38:55.937Z"
   },
   {
    "duration": 5,
    "start_time": "2023-12-26T03:38:55.952Z"
   },
   {
    "duration": 272,
    "start_time": "2023-12-26T03:38:55.959Z"
   },
   {
    "duration": 256,
    "start_time": "2023-12-26T03:38:56.232Z"
   },
   {
    "duration": 386,
    "start_time": "2023-12-26T03:38:56.489Z"
   },
   {
    "duration": 12,
    "start_time": "2023-12-26T03:38:56.877Z"
   },
   {
    "duration": 377,
    "start_time": "2023-12-26T03:38:56.890Z"
   },
   {
    "duration": 207,
    "start_time": "2023-12-26T03:38:57.269Z"
   },
   {
    "duration": 328,
    "start_time": "2023-12-26T03:38:57.477Z"
   },
   {
    "duration": 636,
    "start_time": "2023-12-26T03:38:57.807Z"
   },
   {
    "duration": 12,
    "start_time": "2023-12-26T03:38:58.445Z"
   },
   {
    "duration": 200,
    "start_time": "2023-12-26T03:38:58.458Z"
   },
   {
    "duration": 184,
    "start_time": "2023-12-26T03:38:58.659Z"
   },
   {
    "duration": 152,
    "start_time": "2023-12-26T03:38:58.845Z"
   },
   {
    "duration": 6,
    "start_time": "2023-12-26T03:38:58.999Z"
   },
   {
    "duration": 9,
    "start_time": "2023-12-26T03:38:59.014Z"
   },
   {
    "duration": 448,
    "start_time": "2023-12-26T03:39:01.676Z"
   },
   {
    "duration": 6,
    "start_time": "2023-12-26T03:39:38.785Z"
   },
   {
    "duration": 10,
    "start_time": "2023-12-26T03:47:11.026Z"
   },
   {
    "duration": 3,
    "start_time": "2023-12-26T03:50:22.623Z"
   },
   {
    "duration": 44,
    "start_time": "2023-12-26T03:50:22.628Z"
   },
   {
    "duration": 39,
    "start_time": "2023-12-26T03:50:22.674Z"
   },
   {
    "duration": 27,
    "start_time": "2023-12-26T03:50:22.714Z"
   },
   {
    "duration": 19,
    "start_time": "2023-12-26T03:50:22.743Z"
   },
   {
    "duration": 15,
    "start_time": "2023-12-26T03:50:22.763Z"
   },
   {
    "duration": 36,
    "start_time": "2023-12-26T03:50:22.779Z"
   },
   {
    "duration": 17,
    "start_time": "2023-12-26T03:50:22.817Z"
   },
   {
    "duration": 9,
    "start_time": "2023-12-26T03:50:22.836Z"
   },
   {
    "duration": 141,
    "start_time": "2023-12-26T03:50:22.847Z"
   },
   {
    "duration": 141,
    "start_time": "2023-12-26T03:50:22.991Z"
   },
   {
    "duration": 224,
    "start_time": "2023-12-26T03:50:23.134Z"
   },
   {
    "duration": 195,
    "start_time": "2023-12-26T03:50:23.360Z"
   },
   {
    "duration": 257,
    "start_time": "2023-12-26T03:50:23.557Z"
   },
   {
    "duration": 163,
    "start_time": "2023-12-26T03:50:23.816Z"
   },
   {
    "duration": 252,
    "start_time": "2023-12-26T03:50:23.980Z"
   },
   {
    "duration": 376,
    "start_time": "2023-12-26T03:50:24.234Z"
   },
   {
    "duration": 284,
    "start_time": "2023-12-26T03:50:24.614Z"
   },
   {
    "duration": 249,
    "start_time": "2023-12-26T03:50:24.900Z"
   },
   {
    "duration": 256,
    "start_time": "2023-12-26T03:50:25.150Z"
   },
   {
    "duration": 42,
    "start_time": "2023-12-26T03:50:25.408Z"
   },
   {
    "duration": 14,
    "start_time": "2023-12-26T03:50:25.452Z"
   },
   {
    "duration": 12,
    "start_time": "2023-12-26T03:50:25.467Z"
   },
   {
    "duration": 16,
    "start_time": "2023-12-26T03:50:25.480Z"
   },
   {
    "duration": 285,
    "start_time": "2023-12-26T03:50:25.515Z"
   },
   {
    "duration": 374,
    "start_time": "2023-12-26T03:50:25.801Z"
   },
   {
    "duration": 426,
    "start_time": "2023-12-26T03:50:26.177Z"
   },
   {
    "duration": 19,
    "start_time": "2023-12-26T03:50:26.605Z"
   },
   {
    "duration": 378,
    "start_time": "2023-12-26T03:50:26.628Z"
   },
   {
    "duration": 138,
    "start_time": "2023-12-26T03:50:27.008Z"
   },
   {
    "duration": 347,
    "start_time": "2023-12-26T03:50:27.148Z"
   },
   {
    "duration": 782,
    "start_time": "2023-12-26T03:50:27.496Z"
   },
   {
    "duration": 12,
    "start_time": "2023-12-26T03:50:28.280Z"
   },
   {
    "duration": 194,
    "start_time": "2023-12-26T03:50:28.293Z"
   },
   {
    "duration": 185,
    "start_time": "2023-12-26T03:50:28.488Z"
   },
   {
    "duration": 45,
    "start_time": "2023-12-26T03:50:28.675Z"
   },
   {
    "duration": 7,
    "start_time": "2023-12-26T03:50:28.722Z"
   },
   {
    "duration": 9,
    "start_time": "2023-12-26T03:50:28.730Z"
   },
   {
    "duration": 6,
    "start_time": "2023-12-26T03:50:28.740Z"
   },
   {
    "duration": 9,
    "start_time": "2023-12-26T03:50:28.747Z"
   },
   {
    "duration": 10,
    "start_time": "2023-12-26T03:50:35.913Z"
   },
   {
    "duration": 11,
    "start_time": "2023-12-26T03:57:35.824Z"
   },
   {
    "duration": 466,
    "start_time": "2023-12-26T16:25:24.104Z"
   },
   {
    "duration": 109,
    "start_time": "2023-12-26T16:25:24.572Z"
   },
   {
    "duration": 165,
    "start_time": "2023-12-26T16:25:24.682Z"
   },
   {
    "duration": 68,
    "start_time": "2023-12-26T16:25:24.849Z"
   },
   {
    "duration": 19,
    "start_time": "2023-12-26T16:25:24.919Z"
   },
   {
    "duration": 13,
    "start_time": "2023-12-26T16:25:24.940Z"
   },
   {
    "duration": 12,
    "start_time": "2023-12-26T16:25:24.955Z"
   },
   {
    "duration": 14,
    "start_time": "2023-12-26T16:25:24.969Z"
   },
   {
    "duration": 50,
    "start_time": "2023-12-26T16:25:24.984Z"
   },
   {
    "duration": 583,
    "start_time": "2023-12-26T16:25:25.036Z"
   },
   {
    "duration": 123,
    "start_time": "2023-12-26T16:25:25.621Z"
   },
   {
    "duration": 258,
    "start_time": "2023-12-26T16:25:25.746Z"
   },
   {
    "duration": 210,
    "start_time": "2023-12-26T16:25:26.006Z"
   },
   {
    "duration": 248,
    "start_time": "2023-12-26T16:25:26.217Z"
   },
   {
    "duration": 174,
    "start_time": "2023-12-26T16:25:26.467Z"
   },
   {
    "duration": 271,
    "start_time": "2023-12-26T16:25:26.643Z"
   },
   {
    "duration": 266,
    "start_time": "2023-12-26T16:25:26.916Z"
   },
   {
    "duration": 298,
    "start_time": "2023-12-26T16:25:27.184Z"
   },
   {
    "duration": 281,
    "start_time": "2023-12-26T16:25:27.484Z"
   },
   {
    "duration": 340,
    "start_time": "2023-12-26T16:25:27.767Z"
   },
   {
    "duration": 54,
    "start_time": "2023-12-26T16:25:28.109Z"
   },
   {
    "duration": 17,
    "start_time": "2023-12-26T16:25:28.166Z"
   },
   {
    "duration": 14,
    "start_time": "2023-12-26T16:25:28.185Z"
   },
   {
    "duration": 34,
    "start_time": "2023-12-26T16:25:28.201Z"
   },
   {
    "duration": 271,
    "start_time": "2023-12-26T16:25:28.237Z"
   },
   {
    "duration": 270,
    "start_time": "2023-12-26T16:25:28.510Z"
   },
   {
    "duration": 454,
    "start_time": "2023-12-26T16:25:28.782Z"
   },
   {
    "duration": 14,
    "start_time": "2023-12-26T16:25:29.239Z"
   },
   {
    "duration": 380,
    "start_time": "2023-12-26T16:25:29.254Z"
   },
   {
    "duration": 227,
    "start_time": "2023-12-26T16:25:29.635Z"
   },
   {
    "duration": 355,
    "start_time": "2023-12-26T16:25:29.863Z"
   },
   {
    "duration": 667,
    "start_time": "2023-12-26T16:25:30.220Z"
   },
   {
    "duration": 14,
    "start_time": "2023-12-26T16:25:30.888Z"
   },
   {
    "duration": 266,
    "start_time": "2023-12-26T16:25:30.903Z"
   },
   {
    "duration": 218,
    "start_time": "2023-12-26T16:25:31.171Z"
   },
   {
    "duration": 172,
    "start_time": "2023-12-26T16:25:31.391Z"
   },
   {
    "duration": 6,
    "start_time": "2023-12-26T16:25:31.565Z"
   },
   {
    "duration": 39,
    "start_time": "2023-12-26T16:25:31.573Z"
   },
   {
    "duration": 433,
    "start_time": "2023-12-26T16:25:31.614Z"
   },
   {
    "duration": 12,
    "start_time": "2023-12-26T16:25:32.049Z"
   },
   {
    "duration": 24,
    "start_time": "2023-12-26T16:25:32.062Z"
   },
   {
    "duration": 36,
    "start_time": "2023-12-26T16:25:32.088Z"
   },
   {
    "duration": 45,
    "start_time": "2023-12-26T16:25:32.126Z"
   },
   {
    "duration": 5,
    "start_time": "2023-12-26T16:25:37.037Z"
   },
   {
    "duration": 7,
    "start_time": "2023-12-26T16:32:09.933Z"
   },
   {
    "duration": 105,
    "start_time": "2023-12-26T16:38:30.257Z"
   },
   {
    "duration": 13,
    "start_time": "2023-12-26T16:39:21.074Z"
   },
   {
    "duration": 122,
    "start_time": "2023-12-26T16:42:08.915Z"
   },
   {
    "duration": 109,
    "start_time": "2023-12-26T16:42:43.387Z"
   },
   {
    "duration": 6,
    "start_time": "2023-12-26T16:42:48.667Z"
   },
   {
    "duration": 136,
    "start_time": "2023-12-26T16:44:37.403Z"
   },
   {
    "duration": 156,
    "start_time": "2023-12-26T16:44:52.501Z"
   },
   {
    "duration": 112,
    "start_time": "2023-12-26T16:45:32.244Z"
   },
   {
    "duration": 7,
    "start_time": "2023-12-26T16:48:57.039Z"
   },
   {
    "duration": 6,
    "start_time": "2023-12-26T16:54:02.978Z"
   },
   {
    "duration": 6,
    "start_time": "2023-12-26T16:54:45.937Z"
   },
   {
    "duration": 5,
    "start_time": "2023-12-26T16:55:09.094Z"
   },
   {
    "duration": 5,
    "start_time": "2023-12-26T16:55:17.251Z"
   },
   {
    "duration": 5,
    "start_time": "2023-12-26T17:07:23.622Z"
   },
   {
    "duration": 5,
    "start_time": "2023-12-26T17:08:47.315Z"
   },
   {
    "duration": 6,
    "start_time": "2023-12-26T17:09:13.035Z"
   },
   {
    "duration": 6,
    "start_time": "2023-12-26T17:10:16.404Z"
   },
   {
    "duration": 6,
    "start_time": "2023-12-26T17:10:26.307Z"
   },
   {
    "duration": 8,
    "start_time": "2023-12-26T17:10:41.548Z"
   },
   {
    "duration": 6,
    "start_time": "2023-12-26T17:10:46.340Z"
   },
   {
    "duration": 7,
    "start_time": "2023-12-26T17:10:53.356Z"
   },
   {
    "duration": 6,
    "start_time": "2023-12-26T17:11:14.589Z"
   },
   {
    "duration": 7,
    "start_time": "2023-12-26T17:11:30.437Z"
   },
   {
    "duration": 12,
    "start_time": "2023-12-26T17:11:42.197Z"
   },
   {
    "duration": 6,
    "start_time": "2023-12-26T17:11:48.901Z"
   },
   {
    "duration": 104,
    "start_time": "2023-12-26T17:15:19.900Z"
   },
   {
    "duration": 6,
    "start_time": "2023-12-26T17:15:28.092Z"
   },
   {
    "duration": 5,
    "start_time": "2023-12-26T17:15:42.624Z"
   },
   {
    "duration": 5,
    "start_time": "2023-12-26T17:15:57.816Z"
   },
   {
    "duration": 6,
    "start_time": "2023-12-26T17:18:45.834Z"
   },
   {
    "duration": 5,
    "start_time": "2023-12-26T17:18:48.451Z"
   },
   {
    "duration": 5,
    "start_time": "2023-12-26T17:18:52.507Z"
   },
   {
    "duration": 6,
    "start_time": "2023-12-26T17:18:58.850Z"
   },
   {
    "duration": 54,
    "start_time": "2023-12-26T17:21:24.548Z"
   },
   {
    "duration": 402,
    "start_time": "2023-12-26T22:01:20.382Z"
   },
   {
    "duration": 48,
    "start_time": "2023-12-26T22:01:20.786Z"
   },
   {
    "duration": 39,
    "start_time": "2023-12-26T22:01:20.835Z"
   },
   {
    "duration": 26,
    "start_time": "2023-12-26T22:01:20.876Z"
   },
   {
    "duration": 20,
    "start_time": "2023-12-26T22:01:20.904Z"
   },
   {
    "duration": 18,
    "start_time": "2023-12-26T22:01:20.925Z"
   },
   {
    "duration": 13,
    "start_time": "2023-12-26T22:01:20.944Z"
   },
   {
    "duration": 21,
    "start_time": "2023-12-26T22:01:20.959Z"
   },
   {
    "duration": 7,
    "start_time": "2023-12-26T22:01:20.982Z"
   },
   {
    "duration": 423,
    "start_time": "2023-12-26T22:01:20.992Z"
   },
   {
    "duration": 109,
    "start_time": "2023-12-26T22:01:21.417Z"
   },
   {
    "duration": 241,
    "start_time": "2023-12-26T22:01:21.527Z"
   },
   {
    "duration": 223,
    "start_time": "2023-12-26T22:01:21.770Z"
   },
   {
    "duration": 163,
    "start_time": "2023-12-26T22:01:21.995Z"
   },
   {
    "duration": 196,
    "start_time": "2023-12-26T22:01:22.160Z"
   },
   {
    "duration": 254,
    "start_time": "2023-12-26T22:01:22.358Z"
   },
   {
    "duration": 260,
    "start_time": "2023-12-26T22:01:22.614Z"
   },
   {
    "duration": 299,
    "start_time": "2023-12-26T22:01:22.876Z"
   },
   {
    "duration": 246,
    "start_time": "2023-12-26T22:01:23.176Z"
   },
   {
    "duration": 248,
    "start_time": "2023-12-26T22:01:23.423Z"
   },
   {
    "duration": 44,
    "start_time": "2023-12-26T22:01:23.672Z"
   },
   {
    "duration": 37,
    "start_time": "2023-12-26T22:01:23.718Z"
   },
   {
    "duration": 22,
    "start_time": "2023-12-26T22:01:23.757Z"
   },
   {
    "duration": 8,
    "start_time": "2023-12-26T22:01:23.781Z"
   },
   {
    "duration": 353,
    "start_time": "2023-12-26T22:01:23.790Z"
   },
   {
    "duration": 282,
    "start_time": "2023-12-26T22:01:24.145Z"
   },
   {
    "duration": 415,
    "start_time": "2023-12-26T22:01:24.429Z"
   },
   {
    "duration": 13,
    "start_time": "2023-12-26T22:01:24.847Z"
   },
   {
    "duration": 370,
    "start_time": "2023-12-26T22:01:24.862Z"
   },
   {
    "duration": 135,
    "start_time": "2023-12-26T22:01:25.233Z"
   },
   {
    "duration": 446,
    "start_time": "2023-12-26T22:01:25.370Z"
   },
   {
    "duration": 646,
    "start_time": "2023-12-26T22:01:25.818Z"
   },
   {
    "duration": 14,
    "start_time": "2023-12-26T22:01:26.465Z"
   },
   {
    "duration": 204,
    "start_time": "2023-12-26T22:01:26.480Z"
   },
   {
    "duration": 194,
    "start_time": "2023-12-26T22:01:26.686Z"
   },
   {
    "duration": 40,
    "start_time": "2023-12-26T22:01:26.881Z"
   },
   {
    "duration": 21,
    "start_time": "2023-12-26T22:01:26.923Z"
   },
   {
    "duration": 23,
    "start_time": "2023-12-26T22:01:26.945Z"
   },
   {
    "duration": 518,
    "start_time": "2023-12-26T22:01:26.969Z"
   },
   {
    "duration": 11,
    "start_time": "2023-12-26T22:01:27.489Z"
   },
   {
    "duration": 15,
    "start_time": "2023-12-26T22:01:27.501Z"
   },
   {
    "duration": 25,
    "start_time": "2023-12-26T22:01:27.518Z"
   },
   {
    "duration": 7,
    "start_time": "2023-12-26T22:01:27.545Z"
   },
   {
    "duration": 26,
    "start_time": "2023-12-26T22:01:27.554Z"
   },
   {
    "duration": 16,
    "start_time": "2023-12-26T22:01:27.581Z"
   },
   {
    "duration": 25,
    "start_time": "2023-12-26T22:01:27.598Z"
   },
   {
    "duration": 23,
    "start_time": "2023-12-26T22:06:01.417Z"
   },
   {
    "duration": 17,
    "start_time": "2023-12-26T22:06:05.212Z"
   },
   {
    "duration": 112,
    "start_time": "2023-12-26T22:06:43.116Z"
   },
   {
    "duration": 21,
    "start_time": "2023-12-26T22:07:04.876Z"
   },
   {
    "duration": 15,
    "start_time": "2023-12-26T22:07:18.171Z"
   },
   {
    "duration": 10,
    "start_time": "2023-12-26T22:20:33.303Z"
   },
   {
    "duration": 178,
    "start_time": "2023-12-26T22:20:42.829Z"
   },
   {
    "duration": 14,
    "start_time": "2023-12-26T22:31:29.611Z"
   },
   {
    "duration": 15,
    "start_time": "2023-12-26T22:31:50.254Z"
   },
   {
    "duration": 10,
    "start_time": "2023-12-26T22:31:57.129Z"
   },
   {
    "duration": 415,
    "start_time": "2023-12-26T22:42:40.734Z"
   },
   {
    "duration": 48,
    "start_time": "2023-12-26T22:42:41.151Z"
   },
   {
    "duration": 38,
    "start_time": "2023-12-26T22:42:41.200Z"
   },
   {
    "duration": 27,
    "start_time": "2023-12-26T22:42:41.239Z"
   },
   {
    "duration": 19,
    "start_time": "2023-12-26T22:42:41.268Z"
   },
   {
    "duration": 12,
    "start_time": "2023-12-26T22:42:41.289Z"
   },
   {
    "duration": 12,
    "start_time": "2023-12-26T22:42:41.302Z"
   },
   {
    "duration": 39,
    "start_time": "2023-12-26T22:42:41.316Z"
   },
   {
    "duration": 8,
    "start_time": "2023-12-26T22:42:41.356Z"
   },
   {
    "duration": 383,
    "start_time": "2023-12-26T22:42:41.367Z"
   },
   {
    "duration": 110,
    "start_time": "2023-12-26T22:42:41.751Z"
   },
   {
    "duration": 247,
    "start_time": "2023-12-26T22:42:41.862Z"
   },
   {
    "duration": 208,
    "start_time": "2023-12-26T22:42:42.110Z"
   },
   {
    "duration": 152,
    "start_time": "2023-12-26T22:42:42.320Z"
   },
   {
    "duration": 191,
    "start_time": "2023-12-26T22:42:42.474Z"
   },
   {
    "duration": 291,
    "start_time": "2023-12-26T22:42:42.666Z"
   },
   {
    "duration": 270,
    "start_time": "2023-12-26T22:42:42.959Z"
   },
   {
    "duration": 302,
    "start_time": "2023-12-26T22:42:43.230Z"
   },
   {
    "duration": 254,
    "start_time": "2023-12-26T22:42:43.534Z"
   },
   {
    "duration": 264,
    "start_time": "2023-12-26T22:42:43.790Z"
   },
   {
    "duration": 41,
    "start_time": "2023-12-26T22:42:44.055Z"
   },
   {
    "duration": 14,
    "start_time": "2023-12-26T22:42:44.098Z"
   },
   {
    "duration": 33,
    "start_time": "2023-12-26T22:42:44.114Z"
   },
   {
    "duration": 10,
    "start_time": "2023-12-26T22:42:44.149Z"
   },
   {
    "duration": 336,
    "start_time": "2023-12-26T22:42:44.160Z"
   },
   {
    "duration": 251,
    "start_time": "2023-12-26T22:42:44.497Z"
   },
   {
    "duration": 428,
    "start_time": "2023-12-26T22:42:44.750Z"
   },
   {
    "duration": 13,
    "start_time": "2023-12-26T22:42:45.182Z"
   },
   {
    "duration": 398,
    "start_time": "2023-12-26T22:42:45.196Z"
   },
   {
    "duration": 156,
    "start_time": "2023-12-26T22:42:45.596Z"
   },
   {
    "duration": 447,
    "start_time": "2023-12-26T22:42:45.754Z"
   },
   {
    "duration": 669,
    "start_time": "2023-12-26T22:42:46.203Z"
   },
   {
    "duration": 12,
    "start_time": "2023-12-26T22:42:46.874Z"
   },
   {
    "duration": 221,
    "start_time": "2023-12-26T22:42:46.888Z"
   },
   {
    "duration": 193,
    "start_time": "2023-12-26T22:42:47.110Z"
   },
   {
    "duration": 46,
    "start_time": "2023-12-26T22:42:47.304Z"
   },
   {
    "duration": 5,
    "start_time": "2023-12-26T22:42:47.352Z"
   },
   {
    "duration": 46,
    "start_time": "2023-12-26T22:42:47.358Z"
   },
   {
    "duration": 552,
    "start_time": "2023-12-26T22:42:47.406Z"
   },
   {
    "duration": 11,
    "start_time": "2023-12-26T22:42:47.960Z"
   },
   {
    "duration": 10,
    "start_time": "2023-12-26T22:42:47.973Z"
   },
   {
    "duration": 10,
    "start_time": "2023-12-26T22:42:47.985Z"
   },
   {
    "duration": 8,
    "start_time": "2023-12-26T22:42:47.996Z"
   },
   {
    "duration": 41,
    "start_time": "2023-12-26T22:42:48.006Z"
   },
   {
    "duration": 12,
    "start_time": "2023-12-26T22:42:48.048Z"
   },
   {
    "duration": 15,
    "start_time": "2023-12-26T22:42:48.062Z"
   },
   {
    "duration": 436,
    "start_time": "2023-12-27T02:55:55.187Z"
   },
   {
    "duration": 102,
    "start_time": "2023-12-27T02:55:55.624Z"
   },
   {
    "duration": 82,
    "start_time": "2023-12-27T02:55:55.727Z"
   },
   {
    "duration": 65,
    "start_time": "2023-12-27T02:55:55.811Z"
   },
   {
    "duration": 19,
    "start_time": "2023-12-27T02:55:55.877Z"
   },
   {
    "duration": 21,
    "start_time": "2023-12-27T02:55:55.897Z"
   },
   {
    "duration": 13,
    "start_time": "2023-12-27T02:55:55.919Z"
   },
   {
    "duration": 52,
    "start_time": "2023-12-27T02:55:55.933Z"
   },
   {
    "duration": 9,
    "start_time": "2023-12-27T02:55:55.986Z"
   },
   {
    "duration": 567,
    "start_time": "2023-12-27T02:55:55.997Z"
   },
   {
    "duration": 106,
    "start_time": "2023-12-27T02:55:56.566Z"
   },
   {
    "duration": 250,
    "start_time": "2023-12-27T02:55:56.673Z"
   },
   {
    "duration": 206,
    "start_time": "2023-12-27T02:55:56.924Z"
   },
   {
    "duration": 223,
    "start_time": "2023-12-27T02:55:57.132Z"
   },
   {
    "duration": 160,
    "start_time": "2023-12-27T02:55:57.356Z"
   },
   {
    "duration": 263,
    "start_time": "2023-12-27T02:55:57.518Z"
   },
   {
    "duration": 268,
    "start_time": "2023-12-27T02:55:57.783Z"
   },
   {
    "duration": 317,
    "start_time": "2023-12-27T02:55:58.053Z"
   },
   {
    "duration": 260,
    "start_time": "2023-12-27T02:55:58.372Z"
   },
   {
    "duration": 347,
    "start_time": "2023-12-27T02:55:58.634Z"
   },
   {
    "duration": 49,
    "start_time": "2023-12-27T02:55:58.983Z"
   },
   {
    "duration": 15,
    "start_time": "2023-12-27T02:55:59.034Z"
   },
   {
    "duration": 14,
    "start_time": "2023-12-27T02:55:59.051Z"
   },
   {
    "duration": 15,
    "start_time": "2023-12-27T02:55:59.067Z"
   },
   {
    "duration": 296,
    "start_time": "2023-12-27T02:55:59.083Z"
   },
   {
    "duration": 275,
    "start_time": "2023-12-27T02:55:59.381Z"
   },
   {
    "duration": 419,
    "start_time": "2023-12-27T02:55:59.658Z"
   },
   {
    "duration": 13,
    "start_time": "2023-12-27T02:56:00.080Z"
   },
   {
    "duration": 396,
    "start_time": "2023-12-27T02:56:00.094Z"
   },
   {
    "duration": 232,
    "start_time": "2023-12-27T02:56:00.493Z"
   },
   {
    "duration": 361,
    "start_time": "2023-12-27T02:56:00.727Z"
   },
   {
    "duration": 679,
    "start_time": "2023-12-27T02:56:01.090Z"
   },
   {
    "duration": 13,
    "start_time": "2023-12-27T02:56:01.771Z"
   },
   {
    "duration": 232,
    "start_time": "2023-12-27T02:56:01.786Z"
   },
   {
    "duration": 194,
    "start_time": "2023-12-27T02:56:02.020Z"
   },
   {
    "duration": 129,
    "start_time": "2023-12-27T02:57:19.551Z"
   },
   {
    "duration": 151,
    "start_time": "2023-12-27T03:00:35.453Z"
   },
   {
    "duration": 2,
    "start_time": "2023-12-27T03:30:57.863Z"
   },
   {
    "duration": 48,
    "start_time": "2023-12-27T03:30:57.867Z"
   },
   {
    "duration": 38,
    "start_time": "2023-12-27T03:30:57.916Z"
   },
   {
    "duration": 27,
    "start_time": "2023-12-27T03:30:57.956Z"
   },
   {
    "duration": 25,
    "start_time": "2023-12-27T03:30:57.984Z"
   },
   {
    "duration": 12,
    "start_time": "2023-12-27T03:30:58.015Z"
   },
   {
    "duration": 10,
    "start_time": "2023-12-27T03:30:58.029Z"
   },
   {
    "duration": 14,
    "start_time": "2023-12-27T03:30:58.041Z"
   },
   {
    "duration": 7,
    "start_time": "2023-12-27T03:30:58.057Z"
   },
   {
    "duration": 172,
    "start_time": "2023-12-27T03:30:58.065Z"
   },
   {
    "duration": 113,
    "start_time": "2023-12-27T03:30:58.238Z"
   },
   {
    "duration": 231,
    "start_time": "2023-12-27T03:30:58.352Z"
   },
   {
    "duration": 197,
    "start_time": "2023-12-27T03:30:58.585Z"
   },
   {
    "duration": 168,
    "start_time": "2023-12-27T03:30:58.783Z"
   },
   {
    "duration": 150,
    "start_time": "2023-12-27T03:30:58.952Z"
   },
   {
    "duration": 148,
    "start_time": "2023-12-27T03:30:59.103Z"
   },
   {
    "duration": 263,
    "start_time": "2023-12-27T03:30:59.253Z"
   },
   {
    "duration": 260,
    "start_time": "2023-12-27T03:30:59.518Z"
   },
   {
    "duration": 398,
    "start_time": "2023-12-27T03:30:59.780Z"
   },
   {
    "duration": 255,
    "start_time": "2023-12-27T03:31:00.179Z"
   },
   {
    "duration": 260,
    "start_time": "2023-12-27T03:31:00.436Z"
   },
   {
    "duration": 49,
    "start_time": "2023-12-27T03:31:00.697Z"
   },
   {
    "duration": 14,
    "start_time": "2023-12-27T03:31:00.748Z"
   },
   {
    "duration": 38,
    "start_time": "2023-12-27T03:31:00.765Z"
   },
   {
    "duration": 46,
    "start_time": "2023-12-27T03:31:00.805Z"
   },
   {
    "duration": 304,
    "start_time": "2023-12-27T03:31:00.852Z"
   },
   {
    "duration": 276,
    "start_time": "2023-12-27T03:31:01.158Z"
   },
   {
    "duration": 550,
    "start_time": "2023-12-27T03:31:01.436Z"
   },
   {
    "duration": 14,
    "start_time": "2023-12-27T03:31:01.988Z"
   },
   {
    "duration": 379,
    "start_time": "2023-12-27T03:31:02.015Z"
   },
   {
    "duration": 132,
    "start_time": "2023-12-27T03:31:02.395Z"
   },
   {
    "duration": 342,
    "start_time": "2023-12-27T03:31:02.529Z"
   },
   {
    "duration": 746,
    "start_time": "2023-12-27T03:31:02.872Z"
   },
   {
    "duration": 12,
    "start_time": "2023-12-27T03:31:03.620Z"
   },
   {
    "duration": 200,
    "start_time": "2023-12-27T03:31:03.633Z"
   },
   {
    "duration": 185,
    "start_time": "2023-12-27T03:31:03.835Z"
   },
   {
    "duration": 36,
    "start_time": "2023-12-27T03:31:04.022Z"
   },
   {
    "duration": 5,
    "start_time": "2023-12-27T03:31:04.060Z"
   },
   {
    "duration": 11,
    "start_time": "2023-12-27T03:31:04.066Z"
   },
   {
    "duration": 466,
    "start_time": "2023-12-27T03:31:04.078Z"
   },
   {
    "duration": 10,
    "start_time": "2023-12-27T03:31:04.545Z"
   },
   {
    "duration": 9,
    "start_time": "2023-12-27T03:31:04.556Z"
   },
   {
    "duration": 12,
    "start_time": "2023-12-27T03:31:04.567Z"
   },
   {
    "duration": 25,
    "start_time": "2023-12-27T03:31:04.580Z"
   },
   {
    "duration": 5,
    "start_time": "2023-12-27T03:31:04.614Z"
   },
   {
    "duration": 21,
    "start_time": "2023-12-27T03:31:04.620Z"
   },
   {
    "duration": 92,
    "start_time": "2023-12-27T03:31:10.280Z"
   },
   {
    "duration": 103,
    "start_time": "2023-12-27T03:31:41.720Z"
   },
   {
    "duration": 268,
    "start_time": "2023-12-27T03:32:23.137Z"
   },
   {
    "duration": 107,
    "start_time": "2023-12-27T03:32:38.421Z"
   },
   {
    "duration": 88,
    "start_time": "2023-12-27T03:32:55.824Z"
   },
   {
    "duration": 419,
    "start_time": "2023-12-27T11:11:41.135Z"
   },
   {
    "duration": 92,
    "start_time": "2023-12-27T11:11:41.556Z"
   },
   {
    "duration": 72,
    "start_time": "2023-12-27T11:11:41.649Z"
   },
   {
    "duration": 70,
    "start_time": "2023-12-27T11:11:41.724Z"
   },
   {
    "duration": 18,
    "start_time": "2023-12-27T11:11:41.796Z"
   },
   {
    "duration": 37,
    "start_time": "2023-12-27T11:11:41.815Z"
   },
   {
    "duration": 75,
    "start_time": "2023-12-27T11:11:41.853Z"
   },
   {
    "duration": 21,
    "start_time": "2023-12-27T11:11:41.930Z"
   },
   {
    "duration": 9,
    "start_time": "2023-12-27T11:11:41.953Z"
   },
   {
    "duration": 342,
    "start_time": "2023-12-27T11:11:41.965Z"
   },
   {
    "duration": 116,
    "start_time": "2023-12-27T11:11:42.308Z"
   },
   {
    "duration": 245,
    "start_time": "2023-12-27T11:11:42.426Z"
   },
   {
    "duration": 194,
    "start_time": "2023-12-27T11:11:42.673Z"
   },
   {
    "duration": 152,
    "start_time": "2023-12-27T11:11:42.868Z"
   },
   {
    "duration": 187,
    "start_time": "2023-12-27T11:11:43.021Z"
   },
   {
    "duration": 150,
    "start_time": "2023-12-27T11:11:43.209Z"
   },
   {
    "duration": 247,
    "start_time": "2023-12-27T11:11:43.361Z"
   },
   {
    "duration": 278,
    "start_time": "2023-12-27T11:11:43.610Z"
   },
   {
    "duration": 267,
    "start_time": "2023-12-27T11:11:43.890Z"
   },
   {
    "duration": 244,
    "start_time": "2023-12-27T11:11:44.159Z"
   },
   {
    "duration": 311,
    "start_time": "2023-12-27T11:11:44.405Z"
   },
   {
    "duration": 51,
    "start_time": "2023-12-27T11:11:44.718Z"
   },
   {
    "duration": 16,
    "start_time": "2023-12-27T11:11:44.770Z"
   },
   {
    "duration": 13,
    "start_time": "2023-12-27T11:11:44.788Z"
   },
   {
    "duration": 13,
    "start_time": "2023-12-27T11:11:44.803Z"
   },
   {
    "duration": 284,
    "start_time": "2023-12-27T11:11:44.817Z"
   },
   {
    "duration": 251,
    "start_time": "2023-12-27T11:11:45.102Z"
   },
   {
    "duration": 410,
    "start_time": "2023-12-27T11:11:45.356Z"
   },
   {
    "duration": 12,
    "start_time": "2023-12-27T11:11:45.768Z"
   },
   {
    "duration": 386,
    "start_time": "2023-12-27T11:11:45.781Z"
   },
   {
    "duration": 205,
    "start_time": "2023-12-27T11:11:46.168Z"
   },
   {
    "duration": 349,
    "start_time": "2023-12-27T11:11:46.374Z"
   },
   {
    "duration": 676,
    "start_time": "2023-12-27T11:11:46.725Z"
   },
   {
    "duration": 13,
    "start_time": "2023-12-27T11:11:47.403Z"
   },
   {
    "duration": 221,
    "start_time": "2023-12-27T11:11:47.417Z"
   },
   {
    "duration": 205,
    "start_time": "2023-12-27T11:11:47.639Z"
   },
   {
    "duration": 150,
    "start_time": "2023-12-27T11:11:47.845Z"
   },
   {
    "duration": 5,
    "start_time": "2023-12-27T11:11:47.996Z"
   },
   {
    "duration": 22,
    "start_time": "2023-12-27T11:11:48.003Z"
   },
   {
    "duration": 442,
    "start_time": "2023-12-27T11:11:48.027Z"
   },
   {
    "duration": 12,
    "start_time": "2023-12-27T11:11:48.471Z"
   },
   {
    "duration": 13,
    "start_time": "2023-12-27T11:11:48.485Z"
   },
   {
    "duration": 11,
    "start_time": "2023-12-27T11:11:48.499Z"
   },
   {
    "duration": 8,
    "start_time": "2023-12-27T11:11:48.511Z"
   },
   {
    "duration": 5,
    "start_time": "2023-12-27T11:11:48.521Z"
   },
   {
    "duration": 39,
    "start_time": "2023-12-27T11:11:48.528Z"
   },
   {
    "duration": 105,
    "start_time": "2023-12-27T11:11:48.568Z"
   },
   {
    "duration": 6,
    "start_time": "2023-12-27T11:11:48.675Z"
   },
   {
    "duration": 107,
    "start_time": "2023-12-27T11:31:01.158Z"
   },
   {
    "duration": 9,
    "start_time": "2023-12-27T11:31:08.885Z"
   },
   {
    "duration": 432,
    "start_time": "2023-12-27T11:31:28.932Z"
   },
   {
    "duration": 48,
    "start_time": "2023-12-27T11:31:29.366Z"
   },
   {
    "duration": 36,
    "start_time": "2023-12-27T11:31:29.416Z"
   },
   {
    "duration": 27,
    "start_time": "2023-12-27T11:31:29.454Z"
   },
   {
    "duration": 19,
    "start_time": "2023-12-27T11:31:29.482Z"
   },
   {
    "duration": 20,
    "start_time": "2023-12-27T11:31:29.503Z"
   },
   {
    "duration": 20,
    "start_time": "2023-12-27T11:31:29.525Z"
   },
   {
    "duration": 28,
    "start_time": "2023-12-27T11:31:29.547Z"
   },
   {
    "duration": 8,
    "start_time": "2023-12-27T11:31:29.577Z"
   },
   {
    "duration": 361,
    "start_time": "2023-12-27T11:31:29.587Z"
   },
   {
    "duration": 116,
    "start_time": "2023-12-27T11:31:29.950Z"
   },
   {
    "duration": 256,
    "start_time": "2023-12-27T11:31:30.068Z"
   },
   {
    "duration": 193,
    "start_time": "2023-12-27T11:31:30.326Z"
   },
   {
    "duration": 171,
    "start_time": "2023-12-27T11:31:30.521Z"
   },
   {
    "duration": 201,
    "start_time": "2023-12-27T11:31:30.694Z"
   },
   {
    "duration": 154,
    "start_time": "2023-12-27T11:31:30.896Z"
   },
   {
    "duration": 265,
    "start_time": "2023-12-27T11:31:31.052Z"
   },
   {
    "duration": 260,
    "start_time": "2023-12-27T11:31:31.319Z"
   },
   {
    "duration": 276,
    "start_time": "2023-12-27T11:31:31.581Z"
   },
   {
    "duration": 258,
    "start_time": "2023-12-27T11:31:31.859Z"
   },
   {
    "duration": 339,
    "start_time": "2023-12-27T11:31:32.119Z"
   },
   {
    "duration": 42,
    "start_time": "2023-12-27T11:31:32.460Z"
   },
   {
    "duration": 15,
    "start_time": "2023-12-27T11:31:32.503Z"
   },
   {
    "duration": 61,
    "start_time": "2023-12-27T11:31:32.520Z"
   },
   {
    "duration": 21,
    "start_time": "2023-12-27T11:31:32.582Z"
   },
   {
    "duration": 309,
    "start_time": "2023-12-27T11:31:32.605Z"
   },
   {
    "duration": 274,
    "start_time": "2023-12-27T11:31:32.915Z"
   },
   {
    "duration": 410,
    "start_time": "2023-12-27T11:31:33.193Z"
   },
   {
    "duration": 14,
    "start_time": "2023-12-27T11:31:33.604Z"
   },
   {
    "duration": 383,
    "start_time": "2023-12-27T11:31:33.620Z"
   },
   {
    "duration": 220,
    "start_time": "2023-12-27T11:31:34.004Z"
   },
   {
    "duration": 341,
    "start_time": "2023-12-27T11:31:34.226Z"
   },
   {
    "duration": 658,
    "start_time": "2023-12-27T11:31:34.569Z"
   },
   {
    "duration": 16,
    "start_time": "2023-12-27T11:31:35.229Z"
   },
   {
    "duration": 211,
    "start_time": "2023-12-27T11:31:35.247Z"
   },
   {
    "duration": 183,
    "start_time": "2023-12-27T11:31:35.466Z"
   },
   {
    "duration": 146,
    "start_time": "2023-12-27T11:31:35.651Z"
   },
   {
    "duration": 6,
    "start_time": "2023-12-27T11:31:35.798Z"
   },
   {
    "duration": 14,
    "start_time": "2023-12-27T11:31:35.805Z"
   },
   {
    "duration": 450,
    "start_time": "2023-12-27T11:31:35.820Z"
   },
   {
    "duration": 11,
    "start_time": "2023-12-27T11:31:36.271Z"
   },
   {
    "duration": 18,
    "start_time": "2023-12-27T11:31:36.283Z"
   },
   {
    "duration": 11,
    "start_time": "2023-12-27T11:31:36.303Z"
   },
   {
    "duration": 16,
    "start_time": "2023-12-27T11:31:36.316Z"
   },
   {
    "duration": 13,
    "start_time": "2023-12-27T11:31:36.334Z"
   },
   {
    "duration": 30,
    "start_time": "2023-12-27T11:31:36.349Z"
   },
   {
    "duration": 89,
    "start_time": "2023-12-27T11:31:36.381Z"
   },
   {
    "duration": 4,
    "start_time": "2023-12-27T11:31:36.472Z"
   },
   {
    "duration": 396,
    "start_time": "2023-12-27T11:32:59.180Z"
   },
   {
    "duration": 47,
    "start_time": "2023-12-27T11:32:59.578Z"
   },
   {
    "duration": 35,
    "start_time": "2023-12-27T11:32:59.627Z"
   },
   {
    "duration": 26,
    "start_time": "2023-12-27T11:32:59.665Z"
   },
   {
    "duration": 25,
    "start_time": "2023-12-27T11:32:59.692Z"
   },
   {
    "duration": 25,
    "start_time": "2023-12-27T11:32:59.719Z"
   },
   {
    "duration": 36,
    "start_time": "2023-12-27T11:32:59.745Z"
   },
   {
    "duration": 20,
    "start_time": "2023-12-27T11:32:59.783Z"
   },
   {
    "duration": 9,
    "start_time": "2023-12-27T11:32:59.804Z"
   },
   {
    "duration": 383,
    "start_time": "2023-12-27T11:32:59.816Z"
   },
   {
    "duration": 108,
    "start_time": "2023-12-27T11:33:00.201Z"
   },
   {
    "duration": 238,
    "start_time": "2023-12-27T11:33:00.310Z"
   },
   {
    "duration": 202,
    "start_time": "2023-12-27T11:33:00.550Z"
   },
   {
    "duration": 214,
    "start_time": "2023-12-27T11:33:00.754Z"
   },
   {
    "duration": 196,
    "start_time": "2023-12-27T11:33:00.971Z"
   },
   {
    "duration": 143,
    "start_time": "2023-12-27T11:33:01.168Z"
   },
   {
    "duration": 244,
    "start_time": "2023-12-27T11:33:01.313Z"
   },
   {
    "duration": 260,
    "start_time": "2023-12-27T11:33:01.558Z"
   },
   {
    "duration": 273,
    "start_time": "2023-12-27T11:33:01.819Z"
   },
   {
    "duration": 241,
    "start_time": "2023-12-27T11:33:02.094Z"
   },
   {
    "duration": 312,
    "start_time": "2023-12-27T11:33:02.336Z"
   },
   {
    "duration": 44,
    "start_time": "2023-12-27T11:33:02.650Z"
   },
   {
    "duration": 14,
    "start_time": "2023-12-27T11:33:02.696Z"
   },
   {
    "duration": 17,
    "start_time": "2023-12-27T11:33:02.712Z"
   },
   {
    "duration": 11,
    "start_time": "2023-12-27T11:33:02.731Z"
   },
   {
    "duration": 273,
    "start_time": "2023-12-27T11:33:02.743Z"
   },
   {
    "duration": 265,
    "start_time": "2023-12-27T11:33:03.017Z"
   },
   {
    "duration": 394,
    "start_time": "2023-12-27T11:33:03.285Z"
   },
   {
    "duration": 12,
    "start_time": "2023-12-27T11:33:03.681Z"
   },
   {
    "duration": 351,
    "start_time": "2023-12-27T11:33:03.695Z"
   },
   {
    "duration": 202,
    "start_time": "2023-12-27T11:33:04.048Z"
   },
   {
    "duration": 342,
    "start_time": "2023-12-27T11:33:04.252Z"
   },
   {
    "duration": 609,
    "start_time": "2023-12-27T11:33:04.596Z"
   },
   {
    "duration": 12,
    "start_time": "2023-12-27T11:33:05.206Z"
   },
   {
    "duration": 209,
    "start_time": "2023-12-27T11:33:05.219Z"
   },
   {
    "duration": 191,
    "start_time": "2023-12-27T11:33:05.430Z"
   },
   {
    "duration": 142,
    "start_time": "2023-12-27T11:33:05.623Z"
   },
   {
    "duration": 6,
    "start_time": "2023-12-27T11:33:05.767Z"
   },
   {
    "duration": 14,
    "start_time": "2023-12-27T11:33:05.775Z"
   },
   {
    "duration": 378,
    "start_time": "2023-12-27T11:33:05.790Z"
   },
   {
    "duration": 11,
    "start_time": "2023-12-27T11:33:06.169Z"
   },
   {
    "duration": 9,
    "start_time": "2023-12-27T11:33:06.181Z"
   },
   {
    "duration": 9,
    "start_time": "2023-12-27T11:33:06.191Z"
   },
   {
    "duration": 8,
    "start_time": "2023-12-27T11:33:06.201Z"
   },
   {
    "duration": 6,
    "start_time": "2023-12-27T11:33:06.210Z"
   },
   {
    "duration": 6,
    "start_time": "2023-12-27T11:33:06.217Z"
   },
   {
    "duration": 122,
    "start_time": "2023-12-27T11:33:06.224Z"
   },
   {
    "duration": 4,
    "start_time": "2023-12-27T11:33:06.348Z"
   },
   {
    "duration": 380,
    "start_time": "2024-01-01T14:20:45.459Z"
   },
   {
    "duration": 97,
    "start_time": "2024-01-01T14:20:45.841Z"
   },
   {
    "duration": 78,
    "start_time": "2024-01-01T14:20:45.940Z"
   },
   {
    "duration": 66,
    "start_time": "2024-01-01T14:20:46.020Z"
   },
   {
    "duration": 19,
    "start_time": "2024-01-01T14:20:46.088Z"
   },
   {
    "duration": 12,
    "start_time": "2024-01-01T14:20:46.109Z"
   },
   {
    "duration": 11,
    "start_time": "2024-01-01T14:20:46.122Z"
   },
   {
    "duration": 15,
    "start_time": "2024-01-01T14:20:46.135Z"
   },
   {
    "duration": 8,
    "start_time": "2024-01-01T14:20:46.151Z"
   },
   {
    "duration": 379,
    "start_time": "2024-01-01T14:20:46.161Z"
   },
   {
    "duration": 104,
    "start_time": "2024-01-01T14:20:46.542Z"
   },
   {
    "duration": 240,
    "start_time": "2024-01-01T14:20:46.648Z"
   },
   {
    "duration": 191,
    "start_time": "2024-01-01T14:20:46.890Z"
   },
   {
    "duration": 157,
    "start_time": "2024-01-01T14:20:47.083Z"
   },
   {
    "duration": 186,
    "start_time": "2024-01-01T14:20:47.241Z"
   },
   {
    "duration": 153,
    "start_time": "2024-01-01T14:20:47.428Z"
   },
   {
    "duration": 255,
    "start_time": "2024-01-01T14:20:47.583Z"
   },
   {
    "duration": 259,
    "start_time": "2024-01-01T14:20:47.840Z"
   },
   {
    "duration": 270,
    "start_time": "2024-01-01T14:20:48.100Z"
   },
   {
    "duration": 258,
    "start_time": "2024-01-01T14:20:48.372Z"
   },
   {
    "duration": 325,
    "start_time": "2024-01-01T14:20:48.631Z"
   },
   {
    "duration": 38,
    "start_time": "2024-01-01T14:20:48.957Z"
   },
   {
    "duration": 19,
    "start_time": "2024-01-01T14:20:48.996Z"
   },
   {
    "duration": 13,
    "start_time": "2024-01-01T14:20:49.016Z"
   },
   {
    "duration": 7,
    "start_time": "2024-01-01T14:20:49.030Z"
   },
   {
    "duration": 381,
    "start_time": "2024-01-01T14:20:49.038Z"
   },
   {
    "duration": 276,
    "start_time": "2024-01-01T14:20:49.421Z"
   },
   {
    "duration": 399,
    "start_time": "2024-01-01T14:20:49.700Z"
   },
   {
    "duration": 20,
    "start_time": "2024-01-01T14:20:50.100Z"
   },
   {
    "duration": 338,
    "start_time": "2024-01-01T14:20:50.121Z"
   },
   {
    "duration": 193,
    "start_time": "2024-01-01T14:20:50.461Z"
   },
   {
    "duration": 344,
    "start_time": "2024-01-01T14:20:53.235Z"
   }
  ],
  "kernelspec": {
   "display_name": "Python 3 (ipykernel)",
   "language": "python",
   "name": "python3"
  },
  "language_info": {
   "codemirror_mode": {
    "name": "ipython",
    "version": 3
   },
   "file_extension": ".py",
   "mimetype": "text/x-python",
   "name": "python",
   "nbconvert_exporter": "python",
   "pygments_lexer": "ipython3",
   "version": "3.9.5"
  },
  "toc": {
   "base_numbering": 1,
   "nav_menu": {},
   "number_sections": true,
   "sideBar": true,
   "skip_h1_title": true,
   "title_cell": "Table of Contents",
   "title_sidebar": "Contents",
   "toc_cell": false,
   "toc_position": {},
   "toc_section_display": true,
   "toc_window_display": false
  }
 },
 "nbformat": 4,
 "nbformat_minor": 5
}
