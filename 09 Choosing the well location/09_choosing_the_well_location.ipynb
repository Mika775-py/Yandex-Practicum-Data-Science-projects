{
 "cells": [
  {
   "cell_type": "markdown",
   "metadata": {},
   "source": [
    "# Выбор локации для скважины"
   ]
  },
  {
   "cell_type": "markdown",
   "metadata": {},
   "source": [
    "Допустим, вы работаете в добывающей компании «ГлавРосГосНефть». Нужно решить, где бурить новую скважину.\n",
    "\n",
    "Вам предоставлены пробы нефти в трёх регионах: в каждом 10 000 месторождений, где измерили качество нефти и объём её запасов. Постройте модель машинного обучения, которая поможет определить регион, где добыча принесёт наибольшую прибыль. Проанализируйте возможную прибыль и риски техникой *Bootstrap.*\n",
    "\n",
    "Шаги для выбора локации:\n",
    "\n",
    "- В избранном регионе ищут месторождения, для каждого определяют значения признаков;\n",
    "- Строят модель и оценивают объём запасов;\n",
    "- Выбирают месторождения с самым высокими оценками значений. Количество месторождений зависит от бюджета компании и стоимости разработки одной скважины;\n",
    "- Прибыль равна суммарной прибыли отобранных месторождений."
   ]
  },
  {
   "cell_type": "markdown",
   "metadata": {},
   "source": [
    "## 0. Описание проекта"
   ]
  },
  {
   "cell_type": "markdown",
   "metadata": {},
   "source": [
    "**Условия задачи:**\n",
    "\n",
    "* Для обучения модели подходит только линейная регрессия (остальные — недостаточно предсказуемые).\n",
    "* При разведке региона исследуют 500 точек, из которых выбирают 200 лучших для расчёта прибыли.\n",
    "* Бюджет на разработку скважин в регионе — 10 млрд рублей.\n",
    "* Один баррель сырья приносит 450 рублей дохода. Доход с каждой единицы продукта составляет 450 тыс. рублей, поскольку объём указан в тысячах баррелей.\n",
    "* После оценки рисков нужно оставить лишь те регионы, в которых вероятность убытков меньше 2.5%. Среди них выбирают регион с наибольшей средней прибылью.\n",
    "* Данные синтетические: детали контрактов и характеристики месторождений не разглашаются.\n",
    "\n",
    "**Описание данных**\n",
    "* Данные геологоразведки трёх регионов находятся в файлах:\n",
    " - geo_data_0.csv. Скачать датасет\n",
    " - geo_data_1.csv. Скачать датасет\n",
    " - geo_data_2.csv. Скачать датасет\n",
    " - id — уникальный идентификатор скважины;\n",
    " - f0, f1, f2 — три признака точек (неважно, что они означают, но сами признаки значимы);\n",
    " - product — объём запасов в скважине (тыс. баррелей).\n"
   ]
  },
  {
   "cell_type": "markdown",
   "metadata": {},
   "source": [
    "## 1. Загрузка и подготовка данных"
   ]
  },
  {
   "cell_type": "markdown",
   "metadata": {},
   "source": [
    "### 1.1 Импорт библиотек и объявление констант"
   ]
  },
  {
   "cell_type": "code",
   "execution_count": 1,
   "metadata": {},
   "outputs": [],
   "source": [
    "import os\n",
    "\n",
    "# для работы со структурами данных\n",
    "import pandas as pd\n",
    "# разделение датасета на данные для обучения и тестирования\n",
    "from sklearn.model_selection import train_test_split\n",
    "# модель\n",
    "from sklearn.linear_model import LinearRegression\n",
    "# для расчета  mse\n",
    "from sklearn.metrics import  mean_squared_error\n",
    "# для использовоания RandomState\n",
    "import numpy as np\n",
    "from numpy.random import RandomState\n",
    "\n",
    "# для выч. коэф.детерминации\n",
    "from sklearn.metrics import r2_score \n",
    "# для доверит. интерв         \n",
    "import scipy as sp\n",
    "#import scipy.stats\n",
    "from scipy import stats as st\n",
    "\n",
    "#для визуализации\n",
    "from IPython.display import display\n",
    "import matplotlib.pyplot as plt\n",
    "import seaborn as sns\n",
    "\n",
    "# импортируем классы для опредлеления нормальности распределения\n",
    "from scipy.stats import shapiro, normaltest\n",
    "\n"
   ]
  },
  {
   "cell_type": "code",
   "execution_count": 2,
   "metadata": {},
   "outputs": [],
   "source": [
    "#константа локального пути\n",
    "LOCAL_DATA_PATH = 'c:/ps/project/HR/data/'\n",
    "\n",
    "#константа пути в тренажере\n",
    "TRAINER_DATA_PATH = '/datasets/'\n",
    "\n",
    "#список имен датафреймов\n",
    "DF_NAMES = ['geo_data_0', 'geo_data_1', 'geo_data_2']\n",
    "\n",
    "# константа новой строки для использования в f' строках\n",
    "NL = '\\n'\n",
    "\n",
    "\n",
    "RANDOM_STATE = RandomState(12345) "
   ]
  },
  {
   "cell_type": "markdown",
   "metadata": {},
   "source": [
    "### 1.2 Импорт данных"
   ]
  },
  {
   "cell_type": "code",
   "execution_count": 3,
   "metadata": {},
   "outputs": [],
   "source": [
    "for f in DF_NAMES:\n",
    "    if os.path.exists(LOCAL_DATA_PATH):\n",
    "        globals()[f] = pd.read_csv(LOCAL_DATA_PATH + f + '.csv', index_col='id')\n",
    "    elif os.path.exists(TRAINER_DATA_PATH):\n",
    "        globals()[f] = pd.read_csv(TRAINER_DATA_PATH + f + '.csv', index_col='id')\n",
    "    else:\n",
    "        print('Warning: no files found')"
   ]
  },
  {
   "cell_type": "code",
   "execution_count": 4,
   "metadata": {},
   "outputs": [
    {
     "name": "stdout",
     "output_type": "stream",
     "text": [
      "Датасет geo_data_0\n"
     ]
    },
    {
     "data": {
      "text/html": [
       "<div>\n",
       "<style scoped>\n",
       "    .dataframe tbody tr th:only-of-type {\n",
       "        vertical-align: middle;\n",
       "    }\n",
       "\n",
       "    .dataframe tbody tr th {\n",
       "        vertical-align: top;\n",
       "    }\n",
       "\n",
       "    .dataframe thead th {\n",
       "        text-align: right;\n",
       "    }\n",
       "</style>\n",
       "<table border=\"1\" class=\"dataframe\">\n",
       "  <thead>\n",
       "    <tr style=\"text-align: right;\">\n",
       "      <th></th>\n",
       "      <th>f0</th>\n",
       "      <th>f1</th>\n",
       "      <th>f2</th>\n",
       "      <th>product</th>\n",
       "    </tr>\n",
       "    <tr>\n",
       "      <th>id</th>\n",
       "      <th></th>\n",
       "      <th></th>\n",
       "      <th></th>\n",
       "      <th></th>\n",
       "    </tr>\n",
       "  </thead>\n",
       "  <tbody>\n",
       "    <tr>\n",
       "      <th>RXjxS</th>\n",
       "      <td>0.490886</td>\n",
       "      <td>0.979717</td>\n",
       "      <td>4.536697</td>\n",
       "      <td>151.711814</td>\n",
       "    </tr>\n",
       "    <tr>\n",
       "      <th>FdQj9</th>\n",
       "      <td>0.635556</td>\n",
       "      <td>0.682057</td>\n",
       "      <td>7.084134</td>\n",
       "      <td>162.158895</td>\n",
       "    </tr>\n",
       "    <tr>\n",
       "      <th>pSkYX</th>\n",
       "      <td>0.056520</td>\n",
       "      <td>0.305842</td>\n",
       "      <td>3.619152</td>\n",
       "      <td>24.594578</td>\n",
       "    </tr>\n",
       "    <tr>\n",
       "      <th>ojTzH</th>\n",
       "      <td>-0.633881</td>\n",
       "      <td>0.739882</td>\n",
       "      <td>0.031143</td>\n",
       "      <td>26.312535</td>\n",
       "    </tr>\n",
       "    <tr>\n",
       "      <th>ZuyGS</th>\n",
       "      <td>-0.647279</td>\n",
       "      <td>0.786759</td>\n",
       "      <td>-0.368287</td>\n",
       "      <td>39.123950</td>\n",
       "    </tr>\n",
       "  </tbody>\n",
       "</table>\n",
       "</div>"
      ],
      "text/plain": [
       "             f0        f1        f2     product\n",
       "id                                             \n",
       "RXjxS  0.490886  0.979717  4.536697  151.711814\n",
       "FdQj9  0.635556  0.682057  7.084134  162.158895\n",
       "pSkYX  0.056520  0.305842  3.619152   24.594578\n",
       "ojTzH -0.633881  0.739882  0.031143   26.312535\n",
       "ZuyGS -0.647279  0.786759 -0.368287   39.123950"
      ]
     },
     "metadata": {},
     "output_type": "display_data"
    },
    {
     "name": "stdout",
     "output_type": "stream",
     "text": [
      "Датасет geo_data_1\n"
     ]
    },
    {
     "data": {
      "text/html": [
       "<div>\n",
       "<style scoped>\n",
       "    .dataframe tbody tr th:only-of-type {\n",
       "        vertical-align: middle;\n",
       "    }\n",
       "\n",
       "    .dataframe tbody tr th {\n",
       "        vertical-align: top;\n",
       "    }\n",
       "\n",
       "    .dataframe thead th {\n",
       "        text-align: right;\n",
       "    }\n",
       "</style>\n",
       "<table border=\"1\" class=\"dataframe\">\n",
       "  <thead>\n",
       "    <tr style=\"text-align: right;\">\n",
       "      <th></th>\n",
       "      <th>f0</th>\n",
       "      <th>f1</th>\n",
       "      <th>f2</th>\n",
       "      <th>product</th>\n",
       "    </tr>\n",
       "    <tr>\n",
       "      <th>id</th>\n",
       "      <th></th>\n",
       "      <th></th>\n",
       "      <th></th>\n",
       "      <th></th>\n",
       "    </tr>\n",
       "  </thead>\n",
       "  <tbody>\n",
       "    <tr>\n",
       "      <th>NloTz</th>\n",
       "      <td>0.930798</td>\n",
       "      <td>-2.690107</td>\n",
       "      <td>4.988253</td>\n",
       "      <td>134.766305</td>\n",
       "    </tr>\n",
       "    <tr>\n",
       "      <th>0yb3i</th>\n",
       "      <td>10.601376</td>\n",
       "      <td>1.295833</td>\n",
       "      <td>5.000835</td>\n",
       "      <td>134.766305</td>\n",
       "    </tr>\n",
       "    <tr>\n",
       "      <th>7RV6E</th>\n",
       "      <td>-12.208972</td>\n",
       "      <td>-2.113489</td>\n",
       "      <td>1.995931</td>\n",
       "      <td>57.085625</td>\n",
       "    </tr>\n",
       "    <tr>\n",
       "      <th>Mk4XH</th>\n",
       "      <td>-5.128433</td>\n",
       "      <td>-9.405826</td>\n",
       "      <td>1.003554</td>\n",
       "      <td>30.132364</td>\n",
       "    </tr>\n",
       "    <tr>\n",
       "      <th>qaVl1</th>\n",
       "      <td>-0.844614</td>\n",
       "      <td>-5.438688</td>\n",
       "      <td>5.001764</td>\n",
       "      <td>137.945408</td>\n",
       "    </tr>\n",
       "  </tbody>\n",
       "</table>\n",
       "</div>"
      ],
      "text/plain": [
       "              f0        f1        f2     product\n",
       "id                                              \n",
       "NloTz   0.930798 -2.690107  4.988253  134.766305\n",
       "0yb3i  10.601376  1.295833  5.000835  134.766305\n",
       "7RV6E -12.208972 -2.113489  1.995931   57.085625\n",
       "Mk4XH  -5.128433 -9.405826  1.003554   30.132364\n",
       "qaVl1  -0.844614 -5.438688  5.001764  137.945408"
      ]
     },
     "metadata": {},
     "output_type": "display_data"
    },
    {
     "name": "stdout",
     "output_type": "stream",
     "text": [
      "Датасет geo_data_2\n"
     ]
    },
    {
     "data": {
      "text/html": [
       "<div>\n",
       "<style scoped>\n",
       "    .dataframe tbody tr th:only-of-type {\n",
       "        vertical-align: middle;\n",
       "    }\n",
       "\n",
       "    .dataframe tbody tr th {\n",
       "        vertical-align: top;\n",
       "    }\n",
       "\n",
       "    .dataframe thead th {\n",
       "        text-align: right;\n",
       "    }\n",
       "</style>\n",
       "<table border=\"1\" class=\"dataframe\">\n",
       "  <thead>\n",
       "    <tr style=\"text-align: right;\">\n",
       "      <th></th>\n",
       "      <th>f0</th>\n",
       "      <th>f1</th>\n",
       "      <th>f2</th>\n",
       "      <th>product</th>\n",
       "    </tr>\n",
       "    <tr>\n",
       "      <th>id</th>\n",
       "      <th></th>\n",
       "      <th></th>\n",
       "      <th></th>\n",
       "      <th></th>\n",
       "    </tr>\n",
       "  </thead>\n",
       "  <tbody>\n",
       "    <tr>\n",
       "      <th>li0wx</th>\n",
       "      <td>0.210612</td>\n",
       "      <td>-0.698241</td>\n",
       "      <td>2.229495</td>\n",
       "      <td>38.900435</td>\n",
       "    </tr>\n",
       "    <tr>\n",
       "      <th>M7HUs</th>\n",
       "      <td>0.325133</td>\n",
       "      <td>2.012051</td>\n",
       "      <td>4.340149</td>\n",
       "      <td>133.769881</td>\n",
       "    </tr>\n",
       "    <tr>\n",
       "      <th>nNh15</th>\n",
       "      <td>1.590349</td>\n",
       "      <td>1.890934</td>\n",
       "      <td>1.739540</td>\n",
       "      <td>84.437010</td>\n",
       "    </tr>\n",
       "    <tr>\n",
       "      <th>c0OyP</th>\n",
       "      <td>-0.281187</td>\n",
       "      <td>-0.979475</td>\n",
       "      <td>7.106227</td>\n",
       "      <td>105.494730</td>\n",
       "    </tr>\n",
       "    <tr>\n",
       "      <th>WPR6D</th>\n",
       "      <td>1.604862</td>\n",
       "      <td>-0.077978</td>\n",
       "      <td>2.303576</td>\n",
       "      <td>40.684789</td>\n",
       "    </tr>\n",
       "  </tbody>\n",
       "</table>\n",
       "</div>"
      ],
      "text/plain": [
       "             f0        f1        f2     product\n",
       "id                                             \n",
       "li0wx  0.210612 -0.698241  2.229495   38.900435\n",
       "M7HUs  0.325133  2.012051  4.340149  133.769881\n",
       "nNh15  1.590349  1.890934  1.739540   84.437010\n",
       "c0OyP -0.281187 -0.979475  7.106227  105.494730\n",
       "WPR6D  1.604862 -0.077978  2.303576   40.684789"
      ]
     },
     "metadata": {},
     "output_type": "display_data"
    }
   ],
   "source": [
    "for f in DF_NAMES:\n",
    "    print(f'Датасет {f}')\n",
    "    display(globals()[f].sample(5))"
   ]
  },
  {
   "cell_type": "markdown",
   "metadata": {},
   "source": [
    "**Существующие столбцы и информация, которую они содержат:**\n",
    "\n",
    "- id — уникальный идентификатор скважины\n",
    "- f0, f1, f2 — три признака точек\n",
    "- product — объём запасов в скважине (тыс. баррелей)\n",
    "\n",
    "**Рассмотрим данные геологоразведки более детально:**"
   ]
  },
  {
   "cell_type": "markdown",
   "metadata": {},
   "source": [
    "### 1.3 Анализ данных"
   ]
  },
  {
   "cell_type": "code",
   "execution_count": 5,
   "metadata": {},
   "outputs": [
    {
     "name": "stdout",
     "output_type": "stream",
     "text": [
      "<class 'pandas.core.frame.DataFrame'>\n",
      "Index: 100000 entries, txEyH to 1CWhH\n",
      "Data columns (total 4 columns):\n",
      " #   Column   Non-Null Count   Dtype  \n",
      "---  ------   --------------   -----  \n",
      " 0   f0       100000 non-null  float64\n",
      " 1   f1       100000 non-null  float64\n",
      " 2   f2       100000 non-null  float64\n",
      " 3   product  100000 non-null  float64\n",
      "dtypes: float64(4)\n",
      "memory usage: 3.8+ MB\n",
      "None\n",
      "                  f0             f1             f2        product\n",
      "count  100000.000000  100000.000000  100000.000000  100000.000000\n",
      "mean        0.500419       0.250143       2.502647      92.500000\n",
      "std         0.871832       0.504433       3.248248      44.288691\n",
      "min        -1.408605      -0.848218     -12.088328       0.000000\n",
      "25%        -0.072580      -0.200881       0.287748      56.497507\n",
      "50%         0.502360       0.250252       2.515969      91.849972\n",
      "75%         1.073581       0.700646       4.715088     128.564089\n",
      "max         2.362331       1.343769      16.003790     185.364347\n"
     ]
    },
    {
     "data": {
      "text/plain": [
       "0"
      ]
     },
     "execution_count": 5,
     "metadata": {},
     "output_type": "execute_result"
    }
   ],
   "source": [
    "# Первый регион\n",
    "print(geo_data_0.info())\n",
    "print(geo_data_0.describe())\n",
    "geo_data_0.duplicated().sum()"
   ]
  },
  {
   "cell_type": "markdown",
   "metadata": {},
   "source": [
    "В ***первом*** регионе пропуски отсутствуют, признаки имееют одинаковый масштаб данных, дубликатов нет. Также можно отметить, что средние в признаках очень близки к медианным значениям, поэтому скорее всего, в данных нет выбросов/аномальных значений."
   ]
  },
  {
   "cell_type": "code",
   "execution_count": 6,
   "metadata": {},
   "outputs": [
    {
     "name": "stdout",
     "output_type": "stream",
     "text": [
      "<class 'pandas.core.frame.DataFrame'>\n",
      "Index: 100000 entries, kBEdx to relB0\n",
      "Data columns (total 4 columns):\n",
      " #   Column   Non-Null Count   Dtype  \n",
      "---  ------   --------------   -----  \n",
      " 0   f0       100000 non-null  float64\n",
      " 1   f1       100000 non-null  float64\n",
      " 2   f2       100000 non-null  float64\n",
      " 3   product  100000 non-null  float64\n",
      "dtypes: float64(4)\n",
      "memory usage: 3.8+ MB\n",
      "None\n",
      "                  f0             f1             f2        product\n",
      "count  100000.000000  100000.000000  100000.000000  100000.000000\n",
      "mean        1.141296      -4.796579       2.494541      68.825000\n",
      "std         8.965932       5.119872       1.703572      45.944423\n",
      "min       -31.609576     -26.358598      -0.018144       0.000000\n",
      "25%        -6.298551      -8.267985       1.000021      26.953261\n",
      "50%         1.153055      -4.813172       2.011479      57.085625\n",
      "75%         8.621015      -1.332816       3.999904     107.813044\n",
      "max        29.421755      18.734063       5.019721     137.945408\n"
     ]
    },
    {
     "data": {
      "text/plain": [
       "0"
      ]
     },
     "execution_count": 6,
     "metadata": {},
     "output_type": "execute_result"
    }
   ],
   "source": [
    "# Второй регион\n",
    "print(geo_data_1.info())\n",
    "print(geo_data_1.describe())\n",
    "geo_data_1.duplicated().sum()"
   ]
  },
  {
   "cell_type": "markdown",
   "metadata": {},
   "source": [
    "Во ***втором*** регионе пропуски отсутствуют, признаки имееют одинаковый масштаб данных, дубликатов нет. Также можно отметить, что средние в признаках очень близки к медианным значениям, поэтому скорее всего, в данных нет выбросов/аномальных значений. Это касается всех признаков, кроме признака ***f2***, в котором среднее 2.49 отличается от медианы 2.01, здесь могут иметь место выбросы/аномалии."
   ]
  },
  {
   "cell_type": "code",
   "execution_count": 7,
   "metadata": {},
   "outputs": [
    {
     "name": "stdout",
     "output_type": "stream",
     "text": [
      "<class 'pandas.core.frame.DataFrame'>\n",
      "Index: 100000 entries, fwXo0 to V9kWn\n",
      "Data columns (total 4 columns):\n",
      " #   Column   Non-Null Count   Dtype  \n",
      "---  ------   --------------   -----  \n",
      " 0   f0       100000 non-null  float64\n",
      " 1   f1       100000 non-null  float64\n",
      " 2   f2       100000 non-null  float64\n",
      " 3   product  100000 non-null  float64\n",
      "dtypes: float64(4)\n",
      "memory usage: 3.8+ MB\n",
      "None\n",
      "                  f0             f1             f2        product\n",
      "count  100000.000000  100000.000000  100000.000000  100000.000000\n",
      "mean        0.002023      -0.002081       2.495128      95.000000\n",
      "std         1.732045       1.730417       3.473445      44.749921\n",
      "min        -8.760004      -7.084020     -11.970335       0.000000\n",
      "25%        -1.162288      -1.174820       0.130359      59.450441\n",
      "50%         0.009424      -0.009482       2.484236      94.925613\n",
      "75%         1.158535       1.163678       4.858794     130.595027\n",
      "max         7.238262       7.844801      16.739402     190.029838\n"
     ]
    },
    {
     "data": {
      "text/plain": [
       "0"
      ]
     },
     "execution_count": 7,
     "metadata": {},
     "output_type": "execute_result"
    }
   ],
   "source": [
    "# Третий регион\n",
    "print(geo_data_2.info())\n",
    "print(geo_data_2.describe())\n",
    "geo_data_2.duplicated().sum()"
   ]
  },
  {
   "cell_type": "markdown",
   "metadata": {},
   "source": [
    "Во ***третьем*** регионе пропуски отсутствуют, признаки имееют одинаковый масштаб данных, дубликатов нет. Также можно отметить, что среднее в признаке ***f2*** очень близко к медианному значению, поэтому скорее всего, в данных нет выбросов/аномальных значений. Это касается всех признаков, кроме признаков ***f0 и f1*** - средние отличаются от медиан, здесь могут иметь место выбросы/аномалии."
   ]
  },
  {
   "cell_type": "code",
   "execution_count": 8,
   "metadata": {},
   "outputs": [
    {
     "data": {
      "text/plain": [
       "f0         100000\n",
       "f1         100000\n",
       "f2         100000\n",
       "product    100000\n",
       "dtype: int64"
      ]
     },
     "metadata": {},
     "output_type": "display_data"
    },
    {
     "data": {
      "text/plain": [
       "f0         100000\n",
       "f1         100000\n",
       "f2         100000\n",
       "product        12\n",
       "dtype: int64"
      ]
     },
     "metadata": {},
     "output_type": "display_data"
    },
    {
     "data": {
      "text/plain": [
       "f0         100000\n",
       "f1         100000\n",
       "f2         100000\n",
       "product    100000\n",
       "dtype: int64"
      ]
     },
     "metadata": {},
     "output_type": "display_data"
    }
   ],
   "source": [
    "#Уникальные значения таблиц\n",
    "display(geo_data_0.nunique())\n",
    "display(geo_data_1.nunique())\n",
    "display(geo_data_2.nunique())"
   ]
  },
  {
   "cell_type": "markdown",
   "metadata": {},
   "source": [
    "У второго датасета уникальных значений в целевом признаке `product` всего 12. Посмотрим как это отразится на предсказаниях модели."
   ]
  },
  {
   "cell_type": "markdown",
   "metadata": {},
   "source": [
    "посмотрим на матрицы корреляции признаков по датасетам:"
   ]
  },
  {
   "cell_type": "code",
   "execution_count": 9,
   "metadata": {},
   "outputs": [
    {
     "data": {
      "image/png": "[encoded data removed]",
      "text/plain": [
       "<Figure size 1152x360 with 6 Axes>"
      ]
     },
     "metadata": {
      "needs_background": "light"
     },
     "output_type": "display_data"
    }
   ],
   "source": [
    "fig, ax = plt.subplots(1,3,figsize=(16,5))\n",
    "for i,j in zip([geo_data_0, geo_data_1, geo_data_2],range(3)):    \n",
    "    sns.heatmap(i.corr(),annot=True, linewidths=.1, fmt= '.1f', ax=ax[j], cmap=\"YlGnBu\")\n",
    "    ax[j].set_title(str(j+1) + ' Регион')"
   ]
  },
  {
   "cell_type": "markdown",
   "metadata": {},
   "source": [
    "Признак f2 очень сильно коррелирует с product, особенно во втором датасете."
   ]
  },
  {
   "cell_type": "markdown",
   "metadata": {},
   "source": [
    "### 1.4 Построение графиков для количественных признаков "
   ]
  },
  {
   "cell_type": "markdown",
   "metadata": {},
   "source": [
    "У нас все признаки количественные, поэтому построим для  них пару графиков: гистограмму и boxplot, кроме того, проверим распределения на нормальность с помощью shapiro."
   ]
  },
  {
   "cell_type": "code",
   "execution_count": 10,
   "metadata": {},
   "outputs": [
    {
     "name": "stdout",
     "output_type": "stream",
     "text": [
      "\"Пара графиков для таблицы geo_data_0\n"
     ]
    },
    {
     "data": {
      "image/png": "[encoded data removed]",
      "text/plain": [
       "<Figure size 1440x576 with 2 Axes>"
      ]
     },
     "metadata": {
      "needs_background": "light"
     },
     "output_type": "display_data"
    },
    {
     "name": "stderr",
     "output_type": "stream",
     "text": [
      "/opt/conda/lib/python3.9/site-packages/scipy/stats/_morestats.py:1800: UserWarning: p-value may not be accurate for N > 5000.\n",
      "  warnings.warn(\"p-value may not be accurate for N > 5000.\")\n"
     ]
    },
    {
     "data": {
      "text/plain": [
       "'stat=0.972, p=0.000\\n'"
      ]
     },
     "metadata": {},
     "output_type": "display_data"
    },
    {
     "name": "stdout",
     "output_type": "stream",
     "text": [
      "Probably not Gaussian\n"
     ]
    },
    {
     "data": {
      "image/png": "[encoded data removed]",
      "text/plain": [
       "<Figure size 1440x576 with 2 Axes>"
      ]
     },
     "metadata": {
      "needs_background": "light"
     },
     "output_type": "display_data"
    },
    {
     "name": "stderr",
     "output_type": "stream",
     "text": [
      "/opt/conda/lib/python3.9/site-packages/scipy/stats/_morestats.py:1800: UserWarning: p-value may not be accurate for N > 5000.\n",
      "  warnings.warn(\"p-value may not be accurate for N > 5000.\")\n"
     ]
    },
    {
     "data": {
      "text/plain": [
       "'stat=0.957, p=0.000\\n'"
      ]
     },
     "metadata": {},
     "output_type": "display_data"
    },
    {
     "name": "stdout",
     "output_type": "stream",
     "text": [
      "Probably not Gaussian\n"
     ]
    },
    {
     "data": {
      "image/png": "[encoded data removed]",
      "text/plain": [
       "<Figure size 1440x576 with 2 Axes>"
      ]
     },
     "metadata": {
      "needs_background": "light"
     },
     "output_type": "display_data"
    },
    {
     "name": "stderr",
     "output_type": "stream",
     "text": [
      "/opt/conda/lib/python3.9/site-packages/scipy/stats/_morestats.py:1800: UserWarning: p-value may not be accurate for N > 5000.\n",
      "  warnings.warn(\"p-value may not be accurate for N > 5000.\")\n"
     ]
    },
    {
     "data": {
      "text/plain": [
       "'stat=1.000, p=0.000\\n'"
      ]
     },
     "metadata": {},
     "output_type": "display_data"
    },
    {
     "name": "stdout",
     "output_type": "stream",
     "text": [
      "Probably not Gaussian\n",
      "\"Пара графиков для таблицы geo_data_1\n"
     ]
    },
    {
     "data": {
      "image/png": "[encoded data removed]",
      "text/plain": [
       "<Figure size 1440x576 with 2 Axes>"
      ]
     },
     "metadata": {
      "needs_background": "light"
     },
     "output_type": "display_data"
    },
    {
     "name": "stderr",
     "output_type": "stream",
     "text": [
      "/opt/conda/lib/python3.9/site-packages/scipy/stats/_morestats.py:1800: UserWarning: p-value may not be accurate for N > 5000.\n",
      "  warnings.warn(\"p-value may not be accurate for N > 5000.\")\n"
     ]
    },
    {
     "data": {
      "text/plain": [
       "'stat=0.978, p=0.000\\n'"
      ]
     },
     "metadata": {},
     "output_type": "display_data"
    },
    {
     "name": "stdout",
     "output_type": "stream",
     "text": [
      "Probably not Gaussian\n"
     ]
    },
    {
     "data": {
      "image/png": "[encoded data removed]",
      "text/plain": [
       "<Figure size 1440x576 with 2 Axes>"
      ]
     },
     "metadata": {
      "needs_background": "light"
     },
     "output_type": "display_data"
    },
    {
     "name": "stderr",
     "output_type": "stream",
     "text": [
      "/opt/conda/lib/python3.9/site-packages/scipy/stats/_morestats.py:1800: UserWarning: p-value may not be accurate for N > 5000.\n",
      "  warnings.warn(\"p-value may not be accurate for N > 5000.\")\n"
     ]
    },
    {
     "data": {
      "text/plain": [
       "'stat=1.000, p=0.304\\n'"
      ]
     },
     "metadata": {},
     "output_type": "display_data"
    },
    {
     "name": "stdout",
     "output_type": "stream",
     "text": [
      "Probably Gaussian\n"
     ]
    },
    {
     "data": {
      "image/png": "[encoded data removed]",
      "text/plain": [
       "<Figure size 1440x576 with 2 Axes>"
      ]
     },
     "metadata": {
      "needs_background": "light"
     },
     "output_type": "display_data"
    },
    {
     "name": "stderr",
     "output_type": "stream",
     "text": [
      "/opt/conda/lib/python3.9/site-packages/scipy/stats/_morestats.py:1800: UserWarning: p-value may not be accurate for N > 5000.\n",
      "  warnings.warn(\"p-value may not be accurate for N > 5000.\")\n"
     ]
    },
    {
     "data": {
      "text/plain": [
       "'stat=0.908, p=0.000\\n'"
      ]
     },
     "metadata": {},
     "output_type": "display_data"
    },
    {
     "name": "stdout",
     "output_type": "stream",
     "text": [
      "Probably not Gaussian\n",
      "\"Пара графиков для таблицы geo_data_2\n"
     ]
    },
    {
     "data": {
      "image/png": "[encoded data removed]",
      "text/plain": [
       "<Figure size 1440x576 with 2 Axes>"
      ]
     },
     "metadata": {
      "needs_background": "light"
     },
     "output_type": "display_data"
    },
    {
     "name": "stderr",
     "output_type": "stream",
     "text": [
      "/opt/conda/lib/python3.9/site-packages/scipy/stats/_morestats.py:1800: UserWarning: p-value may not be accurate for N > 5000.\n",
      "  warnings.warn(\"p-value may not be accurate for N > 5000.\")\n"
     ]
    },
    {
     "data": {
      "text/plain": [
       "'stat=1.000, p=0.642\\n'"
      ]
     },
     "metadata": {},
     "output_type": "display_data"
    },
    {
     "name": "stdout",
     "output_type": "stream",
     "text": [
      "Probably Gaussian\n"
     ]
    },
    {
     "data": {
      "image/png": "[encoded data removed]",
      "text/plain": [
       "<Figure size 1440x576 with 2 Axes>"
      ]
     },
     "metadata": {
      "needs_background": "light"
     },
     "output_type": "display_data"
    },
    {
     "name": "stderr",
     "output_type": "stream",
     "text": [
      "/opt/conda/lib/python3.9/site-packages/scipy/stats/_morestats.py:1800: UserWarning: p-value may not be accurate for N > 5000.\n",
      "  warnings.warn(\"p-value may not be accurate for N > 5000.\")\n"
     ]
    },
    {
     "data": {
      "text/plain": [
       "'stat=1.000, p=0.990\\n'"
      ]
     },
     "metadata": {},
     "output_type": "display_data"
    },
    {
     "name": "stdout",
     "output_type": "stream",
     "text": [
      "Probably Gaussian\n"
     ]
    },
    {
     "data": {
      "image/png": "[encoded data removed]",
      "text/plain": [
       "<Figure size 1440x576 with 2 Axes>"
      ]
     },
     "metadata": {
      "needs_background": "light"
     },
     "output_type": "display_data"
    },
    {
     "name": "stderr",
     "output_type": "stream",
     "text": [
      "/opt/conda/lib/python3.9/site-packages/scipy/stats/_morestats.py:1800: UserWarning: p-value may not be accurate for N > 5000.\n",
      "  warnings.warn(\"p-value may not be accurate for N > 5000.\")\n"
     ]
    },
    {
     "data": {
      "text/plain": [
       "'stat=1.000, p=0.004\\n'"
      ]
     },
     "metadata": {},
     "output_type": "display_data"
    },
    {
     "name": "stdout",
     "output_type": "stream",
     "text": [
      "Probably not Gaussian\n"
     ]
    }
   ],
   "source": [
    "col_num = ['f0', 'f1', 'f2']\n",
    "for f in DF_NAMES:\n",
    "    print(f'\"Пара графиков для таблицы {f}')\n",
    "    for c in col_num:\n",
    "        if c != 'id':\n",
    "            fig, axes = plt.subplots(1,2, figsize=(20, 8), constrained_layout=False)\n",
    "            fig.tight_layout(h_pad=10,w_pad=3)\n",
    "            axes = axes.ravel()\n",
    "            ax = sns.histplot(x=c, data = globals()[f], bins=20, kde=True)\n",
    "            ax.set(xlabel=c, ylabel='Количество')\n",
    "            ax = sns.boxplot(y=c, data=globals()[f], ax=axes[0])\n",
    "            ax.set(xlabel=c, ylabel='Количество')\n",
    "            plt.show()\n",
    "            #print(kstest(globals()[f][c], 'norm'))\n",
    "\n",
    "            stat, p = shapiro(globals()[f][c])\n",
    "            display('stat=%.3f, p=%.3f\\n' % (stat, p))\n",
    "            #print(stat, p)\n",
    "            if p > 0.01:\n",
    "                print('Probably Gaussian')\n",
    "            else:\n",
    "                print('Probably not Gaussian')"
   ]
  },
  {
   "cell_type": "markdown",
   "metadata": {},
   "source": [
    "**Выводы:** \n",
    "1. Не все показатели демонстрируют нормальное распределение. \n",
    "2. Признак f2 очень сильно коррелирует с product, особенно во втором датасете."
   ]
  },
  {
   "cell_type": "markdown",
   "metadata": {},
   "source": [
    "## 2. Обучение и проверка модели"
   ]
  },
  {
   "cell_type": "markdown",
   "metadata": {},
   "source": [
    "Для каждого датасета создадим две переменные:\n",
    "    \n",
    "features — признаки, влияющие на целевой признак\n",
    "target — целевой признак"
   ]
  },
  {
   "cell_type": "code",
   "execution_count": 11,
   "metadata": {},
   "outputs": [],
   "source": [
    "# признаки для 1 региона\n",
    "features_0 = geo_data_0.drop(['product'] , axis = 1)\n",
    "target_0 = geo_data_0['product']\n",
    "\n",
    "# признаки для 2 региона\n",
    "features_1 = geo_data_1.drop(['product'], axis = 1)\n",
    "target_1 = geo_data_1['product']\n",
    "\n",
    "# признаки для 3 региона\n",
    "features_2 = geo_data_2.drop(['product'] , axis = 1)\n",
    "target_2 = geo_data_2['product']"
   ]
  },
  {
   "cell_type": "markdown",
   "metadata": {},
   "source": [
    "Разделим данные на обучающую и валидационную выборки в соотношении 75:25:"
   ]
  },
  {
   "cell_type": "code",
   "execution_count": 12,
   "metadata": {},
   "outputs": [
    {
     "name": "stdout",
     "output_type": "stream",
     "text": [
      "1 регион\n",
      "Доля обучающей выборки: 75%\n",
      "Количество элементов в обучающей выборке: 75000\n",
      "\n",
      "2 регион\n",
      "Доля обучающей выборки: 75%\n",
      "Количество элементов в обучающей выборке: 75000\n",
      "\n",
      "3 регион\n",
      "Доля обучающей выборки: 75%\n",
      "Количество элементов в обучающей выборке: 75000\n"
     ]
    }
   ],
   "source": [
    "features_train_0, features_valid_0, target_train_0, target_valid_0 = train_test_split(features_0, target_0,\n",
    "                                                                                        random_state=777,\n",
    "                                                                                        test_size = 0.25)\n",
    "print('1 регион')\n",
    "print('Доля обучающей выборки: {:.0%}'.format(len(features_train_0)/len(geo_data_0)))\n",
    "print('Количество элементов в обучающей выборке: {}'.format(features_train_0.shape[0]))\n",
    "print()\n",
    "\n",
    "                                                                                        \n",
    "features_train_1, features_valid_1, target_train_1, target_valid_1 = train_test_split(features_1, target_1,\n",
    "                                                                                        random_state=777,\n",
    "                                                                                        test_size = 0.25)   \n",
    "print('2 регион')\n",
    "print('Доля обучающей выборки: {:.0%}'.format(len(features_train_1)/len(geo_data_1)))\n",
    "print('Количество элементов в обучающей выборке: {}'.format(features_train_1.shape[0]))\n",
    "print()\n",
    "                                                                                        \n",
    "features_train_2, features_valid_2, target_train_2, target_valid_2 = train_test_split(features_2, target_2,\n",
    "                                                                                        random_state=777,\n",
    "                                                                                        test_size = 0.25)    \n",
    "print('3 регион')\n",
    "print('Доля обучающей выборки: {:.0%}'.format(len(features_train_2)/len(geo_data_2)))\n",
    "print('Количество элементов в обучающей выборке: {}'.format(features_train_2.shape[0]))"
   ]
  },
  {
   "cell_type": "markdown",
   "metadata": {},
   "source": [
    "Для расчёта среднего запаса предсказанного сырья и RMSE напишем функцию lin_model, в качестве модели используем линейную регрессию:"
   ]
  },
  {
   "cell_type": "code",
   "execution_count": 13,
   "metadata": {},
   "outputs": [],
   "source": [
    "def lin_model(features_train, target_train, features_valid, target_valid):\n",
    "    model = LinearRegression(n_jobs = -1)\n",
    "    model.fit(features_train, target_train)\n",
    "    predicted_valid = model.predict(features_valid)\n",
    "    mse = mean_squared_error(target_valid, predicted_valid)\n",
    "    rmse =mse**0.5\n",
    "    return predicted_valid, mse,rmse"
   ]
  },
  {
   "cell_type": "code",
   "execution_count": 14,
   "metadata": {},
   "outputs": [
    {
     "name": "stderr",
     "output_type": "stream",
     "text": [
      "/tmp/ipykernel_31/1403097549.py:6: SettingWithCopyWarning: \n",
      "A value is trying to be set on a copy of a slice from a DataFrame.\n",
      "Try using .loc[row_indexer,col_indexer] = value instead\n",
      "\n",
      "See the caveats in the documentation: https://pandas.pydata.org/pandas-docs/stable/user_guide/indexing.html#returning-a-view-versus-a-copy\n",
      "  data_profit_0['product'] = target_valid_0\n",
      "/tmp/ipykernel_31/1403097549.py:7: SettingWithCopyWarning: \n",
      "A value is trying to be set on a copy of a slice from a DataFrame.\n",
      "Try using .loc[row_indexer,col_indexer] = value instead\n",
      "\n",
      "See the caveats in the documentation: https://pandas.pydata.org/pandas-docs/stable/user_guide/indexing.html#returning-a-view-versus-a-copy\n",
      "  data_profit_0['product_predict'] = predicted_valid_0\n"
     ]
    },
    {
     "data": {
      "text/html": [
       "<div>\n",
       "<style scoped>\n",
       "    .dataframe tbody tr th:only-of-type {\n",
       "        vertical-align: middle;\n",
       "    }\n",
       "\n",
       "    .dataframe tbody tr th {\n",
       "        vertical-align: top;\n",
       "    }\n",
       "\n",
       "    .dataframe thead th {\n",
       "        text-align: right;\n",
       "    }\n",
       "</style>\n",
       "<table border=\"1\" class=\"dataframe\">\n",
       "  <thead>\n",
       "    <tr style=\"text-align: right;\">\n",
       "      <th></th>\n",
       "      <th>f0</th>\n",
       "      <th>f1</th>\n",
       "      <th>f2</th>\n",
       "      <th>product</th>\n",
       "      <th>product_predict</th>\n",
       "    </tr>\n",
       "    <tr>\n",
       "      <th>id</th>\n",
       "      <th></th>\n",
       "      <th></th>\n",
       "      <th></th>\n",
       "      <th></th>\n",
       "      <th></th>\n",
       "    </tr>\n",
       "  </thead>\n",
       "  <tbody>\n",
       "    <tr>\n",
       "      <th>59u18</th>\n",
       "      <td>0.113718</td>\n",
       "      <td>1.088792</td>\n",
       "      <td>1.652847</td>\n",
       "      <td>103.823665</td>\n",
       "      <td>73.602223</td>\n",
       "    </tr>\n",
       "    <tr>\n",
       "      <th>6oPYU</th>\n",
       "      <td>-0.964788</td>\n",
       "      <td>0.168978</td>\n",
       "      <td>1.157154</td>\n",
       "      <td>127.148609</td>\n",
       "      <td>79.131512</td>\n",
       "    </tr>\n",
       "    <tr>\n",
       "      <th>8Hjpx</th>\n",
       "      <td>1.047647</td>\n",
       "      <td>0.368769</td>\n",
       "      <td>6.921124</td>\n",
       "      <td>151.007768</td>\n",
       "      <td>122.033246</td>\n",
       "    </tr>\n",
       "    <tr>\n",
       "      <th>qStbm</th>\n",
       "      <td>2.041288</td>\n",
       "      <td>0.418637</td>\n",
       "      <td>-0.718987</td>\n",
       "      <td>176.320797</td>\n",
       "      <td>74.697464</td>\n",
       "    </tr>\n",
       "    <tr>\n",
       "      <th>hLcUa</th>\n",
       "      <td>0.510126</td>\n",
       "      <td>0.822430</td>\n",
       "      <td>7.980055</td>\n",
       "      <td>109.722362</td>\n",
       "      <td>120.607144</td>\n",
       "    </tr>\n",
       "  </tbody>\n",
       "</table>\n",
       "</div>"
      ],
      "text/plain": [
       "             f0        f1        f2     product  product_predict\n",
       "id                                                              \n",
       "59u18  0.113718  1.088792  1.652847  103.823665        73.602223\n",
       "6oPYU -0.964788  0.168978  1.157154  127.148609        79.131512\n",
       "8Hjpx  1.047647  0.368769  6.921124  151.007768       122.033246\n",
       "qStbm  2.041288  0.418637 -0.718987  176.320797        74.697464\n",
       "hLcUa  0.510126  0.822430  7.980055  109.722362       120.607144"
      ]
     },
     "execution_count": 14,
     "metadata": {},
     "output_type": "execute_result"
    }
   ],
   "source": [
    "predicted_valid_0, mse_0, rmse_0 = lin_model(features_train_0, target_train_0, features_valid_0, target_valid_0)\n",
    "#predicted_valid_0 = pd.DataFrame(predicted_valid_0)\n",
    "#predicted_valid_0\n",
    "# сразу делаем датасет для расчета прибыли по 1 региону\n",
    "data_profit_0 = features_valid_0\n",
    "data_profit_0['product'] = target_valid_0\n",
    "data_profit_0['product_predict'] = predicted_valid_0\n",
    "data_profit_0.head()"
   ]
  },
  {
   "cell_type": "code",
   "execution_count": 15,
   "metadata": {},
   "outputs": [
    {
     "name": "stdout",
     "output_type": "stream",
     "text": [
      "1-й регион:\n",
      "Средний запас предсказанного сырья: 92.7 тыс. баррелей\n",
      "MSE: 1443.4\n",
      "RMSE: 38.0\n",
      "R2: 0.27\n",
      "\n"
     ]
    }
   ],
   "source": [
    "\n",
    "print('1-й регион:')\n",
    "print('Средний запас предсказанного сырья: {:.1f} тыс. баррелей'.format(predicted_valid_0.mean()))\n",
    "print('MSE: {:.1f}'.format(mse_0))\n",
    "print('RMSE: {:.1f}'.format(rmse_0))\n",
    "print(\"R2:\", round(r2_score(target_valid_0, predicted_valid_0), 2))\n",
    "print()"
   ]
  },
  {
   "cell_type": "code",
   "execution_count": 16,
   "metadata": {},
   "outputs": [
    {
     "name": "stderr",
     "output_type": "stream",
     "text": [
      "/tmp/ipykernel_31/1605213905.py:4: SettingWithCopyWarning: \n",
      "A value is trying to be set on a copy of a slice from a DataFrame.\n",
      "Try using .loc[row_indexer,col_indexer] = value instead\n",
      "\n",
      "See the caveats in the documentation: https://pandas.pydata.org/pandas-docs/stable/user_guide/indexing.html#returning-a-view-versus-a-copy\n",
      "  data_profit_1['product'] = target_valid_1\n",
      "/tmp/ipykernel_31/1605213905.py:5: SettingWithCopyWarning: \n",
      "A value is trying to be set on a copy of a slice from a DataFrame.\n",
      "Try using .loc[row_indexer,col_indexer] = value instead\n",
      "\n",
      "See the caveats in the documentation: https://pandas.pydata.org/pandas-docs/stable/user_guide/indexing.html#returning-a-view-versus-a-copy\n",
      "  data_profit_1['product_predict'] = predicted_valid_1\n"
     ]
    },
    {
     "data": {
      "text/html": [
       "<div>\n",
       "<style scoped>\n",
       "    .dataframe tbody tr th:only-of-type {\n",
       "        vertical-align: middle;\n",
       "    }\n",
       "\n",
       "    .dataframe tbody tr th {\n",
       "        vertical-align: top;\n",
       "    }\n",
       "\n",
       "    .dataframe thead th {\n",
       "        text-align: right;\n",
       "    }\n",
       "</style>\n",
       "<table border=\"1\" class=\"dataframe\">\n",
       "  <thead>\n",
       "    <tr style=\"text-align: right;\">\n",
       "      <th></th>\n",
       "      <th>f0</th>\n",
       "      <th>f1</th>\n",
       "      <th>f2</th>\n",
       "      <th>product</th>\n",
       "      <th>product_predict</th>\n",
       "    </tr>\n",
       "    <tr>\n",
       "      <th>id</th>\n",
       "      <th></th>\n",
       "      <th></th>\n",
       "      <th></th>\n",
       "      <th></th>\n",
       "      <th></th>\n",
       "    </tr>\n",
       "  </thead>\n",
       "  <tbody>\n",
       "    <tr>\n",
       "      <th>sq93B</th>\n",
       "      <td>-5.797310</td>\n",
       "      <td>-7.891428</td>\n",
       "      <td>-0.002496</td>\n",
       "      <td>3.179103</td>\n",
       "      <td>2.599524</td>\n",
       "    </tr>\n",
       "    <tr>\n",
       "      <th>xTKhw</th>\n",
       "      <td>-4.410573</td>\n",
       "      <td>-2.637445</td>\n",
       "      <td>1.991988</td>\n",
       "      <td>57.085625</td>\n",
       "      <td>56.040409</td>\n",
       "    </tr>\n",
       "    <tr>\n",
       "      <th>CY65t</th>\n",
       "      <td>-1.601939</td>\n",
       "      <td>-3.131760</td>\n",
       "      <td>3.999079</td>\n",
       "      <td>110.992147</td>\n",
       "      <td>109.736365</td>\n",
       "    </tr>\n",
       "    <tr>\n",
       "      <th>MSAp3</th>\n",
       "      <td>3.891764</td>\n",
       "      <td>8.816695</td>\n",
       "      <td>4.996650</td>\n",
       "      <td>134.766305</td>\n",
       "      <td>135.571811</td>\n",
       "    </tr>\n",
       "    <tr>\n",
       "      <th>KiKCa</th>\n",
       "      <td>10.639509</td>\n",
       "      <td>-2.209882</td>\n",
       "      <td>3.998733</td>\n",
       "      <td>107.813044</td>\n",
       "      <td>107.931082</td>\n",
       "    </tr>\n",
       "  </tbody>\n",
       "</table>\n",
       "</div>"
      ],
      "text/plain": [
       "              f0        f1        f2     product  product_predict\n",
       "id                                                               \n",
       "sq93B  -5.797310 -7.891428 -0.002496    3.179103         2.599524\n",
       "xTKhw  -4.410573 -2.637445  1.991988   57.085625        56.040409\n",
       "CY65t  -1.601939 -3.131760  3.999079  110.992147       109.736365\n",
       "MSAp3   3.891764  8.816695  4.996650  134.766305       135.571811\n",
       "KiKCa  10.639509 -2.209882  3.998733  107.813044       107.931082"
      ]
     },
     "execution_count": 16,
     "metadata": {},
     "output_type": "execute_result"
    }
   ],
   "source": [
    "predicted_valid_1,mse_1, rmse_1 = lin_model(features_train_1, target_train_1, features_valid_1, target_valid_1)\n",
    "# сразу делаем датасет для расчета прибыли по 1 региону\n",
    "data_profit_1 = features_valid_1\n",
    "data_profit_1['product'] = target_valid_1\n",
    "data_profit_1['product_predict'] = predicted_valid_1\n",
    "data_profit_1.head()"
   ]
  },
  {
   "cell_type": "code",
   "execution_count": 17,
   "metadata": {},
   "outputs": [
    {
     "name": "stdout",
     "output_type": "stream",
     "text": [
      "2-й регион:\n",
      "Средний запас предсказанного сырья: 69.75 тыс. баррелей\n",
      "MSE: 0.8\n",
      "RMSE: 0.9\n",
      "R2: 0.9996232950483743\n",
      "\n"
     ]
    }
   ],
   "source": [
    "\n",
    "print('2-й регион:')\n",
    "print('Средний запас предсказанного сырья: {:.2f} тыс. баррелей'.format(predicted_valid_1.mean()))\n",
    "print('MSE: {:.1f}'.format(mse_1))\n",
    "print('RMSE: {:.1f}'.format(rmse_1))\n",
    "print(\"R2:\", r2_score(target_valid_1, predicted_valid_1))\n",
    "print()"
   ]
  },
  {
   "cell_type": "code",
   "execution_count": 18,
   "metadata": {},
   "outputs": [
    {
     "name": "stderr",
     "output_type": "stream",
     "text": [
      "/tmp/ipykernel_31/464524579.py:3: SettingWithCopyWarning: \n",
      "A value is trying to be set on a copy of a slice from a DataFrame.\n",
      "Try using .loc[row_indexer,col_indexer] = value instead\n",
      "\n",
      "See the caveats in the documentation: https://pandas.pydata.org/pandas-docs/stable/user_guide/indexing.html#returning-a-view-versus-a-copy\n",
      "  data_profit_2['product'] = target_valid_2\n",
      "/tmp/ipykernel_31/464524579.py:4: SettingWithCopyWarning: \n",
      "A value is trying to be set on a copy of a slice from a DataFrame.\n",
      "Try using .loc[row_indexer,col_indexer] = value instead\n",
      "\n",
      "See the caveats in the documentation: https://pandas.pydata.org/pandas-docs/stable/user_guide/indexing.html#returning-a-view-versus-a-copy\n",
      "  data_profit_2['product_predict'] = predicted_valid_2\n"
     ]
    },
    {
     "data": {
      "text/html": [
       "<div>\n",
       "<style scoped>\n",
       "    .dataframe tbody tr th:only-of-type {\n",
       "        vertical-align: middle;\n",
       "    }\n",
       "\n",
       "    .dataframe tbody tr th {\n",
       "        vertical-align: top;\n",
       "    }\n",
       "\n",
       "    .dataframe thead th {\n",
       "        text-align: right;\n",
       "    }\n",
       "</style>\n",
       "<table border=\"1\" class=\"dataframe\">\n",
       "  <thead>\n",
       "    <tr style=\"text-align: right;\">\n",
       "      <th></th>\n",
       "      <th>f0</th>\n",
       "      <th>f1</th>\n",
       "      <th>f2</th>\n",
       "      <th>product</th>\n",
       "      <th>product_predict</th>\n",
       "    </tr>\n",
       "    <tr>\n",
       "      <th>id</th>\n",
       "      <th></th>\n",
       "      <th></th>\n",
       "      <th></th>\n",
       "      <th></th>\n",
       "      <th></th>\n",
       "    </tr>\n",
       "  </thead>\n",
       "  <tbody>\n",
       "    <tr>\n",
       "      <th>TBR0w</th>\n",
       "      <td>1.376002</td>\n",
       "      <td>1.463339</td>\n",
       "      <td>6.733221</td>\n",
       "      <td>123.794915</td>\n",
       "      <td>119.375300</td>\n",
       "    </tr>\n",
       "    <tr>\n",
       "      <th>vHA0H</th>\n",
       "      <td>-3.111655</td>\n",
       "      <td>-0.504846</td>\n",
       "      <td>2.959657</td>\n",
       "      <td>165.999478</td>\n",
       "      <td>97.671540</td>\n",
       "    </tr>\n",
       "    <tr>\n",
       "      <th>KimQ9</th>\n",
       "      <td>-0.294701</td>\n",
       "      <td>1.825014</td>\n",
       "      <td>-1.698878</td>\n",
       "      <td>46.103174</td>\n",
       "      <td>70.914419</td>\n",
       "    </tr>\n",
       "    <tr>\n",
       "      <th>G1355</th>\n",
       "      <td>-2.994424</td>\n",
       "      <td>0.707902</td>\n",
       "      <td>4.107101</td>\n",
       "      <td>66.515691</td>\n",
       "      <td>104.252505</td>\n",
       "    </tr>\n",
       "    <tr>\n",
       "      <th>AMCZs</th>\n",
       "      <td>-1.476900</td>\n",
       "      <td>0.796603</td>\n",
       "      <td>-1.844348</td>\n",
       "      <td>40.318187</td>\n",
       "      <td>70.077071</td>\n",
       "    </tr>\n",
       "  </tbody>\n",
       "</table>\n",
       "</div>"
      ],
      "text/plain": [
       "             f0        f1        f2     product  product_predict\n",
       "id                                                              \n",
       "TBR0w  1.376002  1.463339  6.733221  123.794915       119.375300\n",
       "vHA0H -3.111655 -0.504846  2.959657  165.999478        97.671540\n",
       "KimQ9 -0.294701  1.825014 -1.698878   46.103174        70.914419\n",
       "G1355 -2.994424  0.707902  4.107101   66.515691       104.252505\n",
       "AMCZs -1.476900  0.796603 -1.844348   40.318187        70.077071"
      ]
     },
     "execution_count": 18,
     "metadata": {},
     "output_type": "execute_result"
    }
   ],
   "source": [
    "predicted_valid_2, mse_2, rmse_2 = lin_model(features_train_2, target_train_2, features_valid_2, target_valid_2)\n",
    "data_profit_2 = features_valid_2\n",
    "data_profit_2['product'] = target_valid_2\n",
    "data_profit_2['product_predict'] = predicted_valid_2\n",
    "data_profit_2.head()"
   ]
  },
  {
   "cell_type": "code",
   "execution_count": 19,
   "metadata": {},
   "outputs": [
    {
     "name": "stdout",
     "output_type": "stream",
     "text": [
      "3-й регион:\n",
      "Средний запас предсказанного сырья: 95.0 тыс. баррелей\n",
      "MSE: 1618.5\n",
      "RMSE: 40.2\n",
      "R2: 0.2\n",
      "\n"
     ]
    }
   ],
   "source": [
    "\n",
    "print('3-й регион:')\n",
    "print('Средний запас предсказанного сырья: {:.1f} тыс. баррелей'.format(predicted_valid_2.mean()))\n",
    "print('MSE: {:.1f}'.format(mse_2))\n",
    "print('RMSE: {:.1f}'.format(rmse_2))\n",
    "print(\"R2:\", round(r2_score(target_valid_2, predicted_valid_2), 2))\n",
    "print()"
   ]
  },
  {
   "cell_type": "markdown",
   "metadata": {},
   "source": [
    "**Выводы:**\n",
    "1. Высокий коэф. детерминации во втором регионе, говорит о том, что модель предсказывает очень хорошо, но это, очевидно, связано с тем, что признак f2 коррелирует с целевым признаком с коэффициентом 1.0.\n",
    "2. Модели первого региона и третьего показывают очень плохие результаты. Не стоит использовать их для выбора скважины в регионе."
   ]
  },
  {
   "cell_type": "markdown",
   "metadata": {},
   "source": [
    "## 3. Подготовка к расчёту прибыли"
   ]
  },
  {
   "cell_type": "markdown",
   "metadata": {},
   "source": [
    "- При разведке региона исследуют 500 точек, из которых выбирают 200 лучших для расчёта прибыли.\n",
    "\n",
    "- Бюджет на разработку скважин в регионе — 10 млрд рублей.\n",
    "\n",
    "- Один баррель сырья приносит 450 рублей дохода.\n",
    "\n",
    "- Доход с каждой единицы продукта составляет 450 тыс. рублей, поскольку объём указан в тысячах баррелей.\n",
    "\n",
    "- После оценки рисков нужно оставить лишь те регионы, в которых вероятность убытков меньше 2.5%.\n",
    "\n",
    "- Среди них выбирают регион с наибольшей средней прибылью."
   ]
  },
  {
   "cell_type": "markdown",
   "metadata": {},
   "source": [
    "Все ключевые значения для расчётов сохраним в отдельных переменных:"
   ]
  },
  {
   "cell_type": "code",
   "execution_count": 20,
   "metadata": {},
   "outputs": [],
   "source": [
    "points= 500 # всего точек для исследований\n",
    "best_points = 200 # кол-во лучших скважин для разработки и освоения (и для расчета прибыли)\n",
    "budget = 10000000000 # бюджет всего проекта\n",
    "profit_from_one_barrel = 450 # Прибыль с одного барреля сырья 450 рублей\n",
    "profit_from_one_product = 450000   #Доход с каждой единицы продукта 450 000 рублей\n",
    "risk_point = 0.025 # верхний порог вероятности убытко (для нахождения регионов, в которых вероятность убытков меньше 2.5%)\n",
    "\n"
   ]
  },
  {
   "cell_type": "code",
   "execution_count": 21,
   "metadata": {},
   "outputs": [
    {
     "name": "stdout",
     "output_type": "stream",
     "text": [
      "Бюджет на бурение одной скважины -  50000000.0 руб\n"
     ]
    }
   ],
   "source": [
    "#Посчитаем цену за бурение одной скважины\n",
    "best_point_cost = budget / best_points\n",
    "print('Бюджет на бурение одной скважины - ', best_point_cost,'руб')"
   ]
  },
  {
   "cell_type": "code",
   "execution_count": 22,
   "metadata": {},
   "outputs": [
    {
     "name": "stdout",
     "output_type": "stream",
     "text": [
      "Минимально необходимый запас сырья (продукта) на одной скважине - 111.1 тыс. баррелей\n"
     ]
    }
   ],
   "source": [
    "#Посчитаем Достаточный (минимальный) объем сырья для безубыточной разработки новой скважины\n",
    "min_product_mean  = best_point_cost/profit_from_one_product\n",
    "print('Минимально необходимый запас сырья (продукта) на одной скважине - {:.1f} тыс. баррелей'.format(min_product_mean))"
   ]
  },
  {
   "cell_type": "markdown",
   "metadata": {},
   "source": [
    "**Вывод:** Самый большой средний запас предсказанного сырья - в 3-м регионе - 95.0 тыс. баррелей, и его недостаточно для рандомного бурения скважин (с условием безубыточности), поэтому есть необходимость выбирать только скважины с самыми большими запасами (топ 200)."
   ]
  },
  {
   "cell_type": "code",
   "execution_count": 23,
   "metadata": {},
   "outputs": [],
   "source": [
    "#Напишем функцию для расчета прибыли по выбранным скважинам и предсказаниям модели. \n",
    "\n",
    "def profit(target, probabilities, count):\n",
    "    probs_sorted = probabilities.sort_values(ascending=False)\n",
    "    selected = target[probs_sorted.index][:count]\n",
    "    return (450000 * selected.sum() - (budget))"
   ]
  },
  {
   "cell_type": "code",
   "execution_count": 24,
   "metadata": {},
   "outputs": [],
   "source": [
    "# переведем предсказанные значения из array в DataFrame, чтобы можно было их отсортировать\n",
    "#print(predicted_valid_0)\n",
    "predicted_valid_0 = pd.DataFrame(predicted_valid_0) \n",
    "predicted_valid_1 = pd.DataFrame(predicted_valid_1)\n",
    "predicted_valid_2 = pd.DataFrame(predicted_valid_2)\n",
    "#print(predicted_valid_0.head())"
   ]
  },
  {
   "cell_type": "code",
   "execution_count": 25,
   "metadata": {},
   "outputs": [
    {
     "name": "stdout",
     "output_type": "stream",
     "text": [
      "Прибыль первого региона : 3.43 млрд рублей\n",
      "Прибыль второго региона : 2.42 млрд рублей\n",
      "Прибыль третьего региона: 2.27 млрд рублей\n"
     ]
    }
   ],
   "source": [
    "#Посчитаем прибыль на каждый регион\n",
    "print('Прибыль первого региона : {:.2f} млрд рублей'.format(profit(target_valid_0, predicted_valid_0[0],200)/10**9))\n",
    "print('Прибыль второго региона : {:.2f} млрд рублей'.format(profit(target_valid_1, predicted_valid_1[0],200)/10**9))\n",
    "print('Прибыль третьего региона: {:.2f} млрд рублей'.format(profit(target_valid_2, predicted_valid_2[0],200)/10**9))"
   ]
  },
  {
   "cell_type": "markdown",
   "metadata": {},
   "source": [
    "**Вывод:** Потенциально самый прибыльный регион - первый, но нужно еще учесть риск убытков."
   ]
  },
  {
   "cell_type": "markdown",
   "metadata": {},
   "source": [
    "## 4. Расчёт прибыли и рисков "
   ]
  },
  {
   "cell_type": "code",
   "execution_count": 26,
   "metadata": {},
   "outputs": [
    {
     "name": "stdout",
     "output_type": "stream",
     "text": [
      "Средняя прибыль: 0.48985298130800975\n",
      "2.5%-квантиль: -0.05150576458617811\n",
      "Риск: 3.6999999999999997\n",
      "95% доверительный интервал:  (-51505764.58617811, 1046143411.3694127)\n"
     ]
    },
    {
     "data": {
      "text/plain": [
       "[('region 1',\n",
       "  0.48985298130800975,\n",
       "  -0.05150576458617811,\n",
       "  (-51505764.58617811, 1046143411.3694127),\n",
       "  3.6999999999999997)]"
      ]
     },
     "execution_count": 26,
     "metadata": {},
     "output_type": "execute_result"
    }
   ],
   "source": [
    "#Техникой bootstrap посчитаем среднюю прибыль , 95% доверительный интервал и риск убытков для первого региона\n",
    "profits = []\n",
    "final_profits = []\n",
    "for i in range(1000):\n",
    "    target_subsample = data_profit_0['product'].sample(n=500, replace=True, random_state=RANDOM_STATE)\n",
    "    \n",
    "    #print(target_subsample.index)\n",
    "    probs_subsample = data_profit_0['product_predict'][target_subsample.index]\n",
    "    #print('Target subsample = ', target_subsample.head())\n",
    "    #print('PROBS_subsample = ', probs_subsample.head())\n",
    "    profits.append(profit(target_subsample, probs_subsample, 200))\n",
    "    \n",
    "profits = pd.Series(profits)\n",
    "lower = profits.quantile(0.025)\n",
    "mean = profits.mean()\n",
    "risks = (profits < 0).mean()* 100\n",
    "print(\"Средняя прибыль:\", mean/10**9) # переводим в миллиарды\n",
    "print(\"2.5%-квантиль:\", lower/10**9)\n",
    "print(\"Риск: {}\".format(risks))\n",
    "confidence_interval = (profits.quantile(0.025), profits.quantile(0.975))\n",
    "print('95% доверительный интервал: ', confidence_interval)\n",
    "final_profits.append(('region 1', mean/10**9, lower/10**9, confidence_interval, risks))\n",
    "final_profits"
   ]
  },
  {
   "cell_type": "code",
   "execution_count": 27,
   "metadata": {},
   "outputs": [
    {
     "name": "stdout",
     "output_type": "stream",
     "text": [
      "Средняя прибыль: 0.5756988004170859\n",
      "2.5%-квантиль: 0.13523889234541045\n",
      "Риск: 0.4\n",
      "95% доверительный интервал:  (135238892.34541044, 1027755183.1813608)\n"
     ]
    },
    {
     "data": {
      "text/plain": [
       "[('region 1',\n",
       "  0.48985298130800975,\n",
       "  -0.05150576458617811,\n",
       "  (-51505764.58617811, 1046143411.3694127),\n",
       "  3.6999999999999997),\n",
       " ('region 2',\n",
       "  0.5756988004170859,\n",
       "  0.13523889234541045,\n",
       "  (135238892.34541044, 1027755183.1813608),\n",
       "  0.4)]"
      ]
     },
     "execution_count": 27,
     "metadata": {},
     "output_type": "execute_result"
    }
   ],
   "source": [
    "#Техникой bootstrap посчитаем среднюю прибыль , 95% доверительный интервал и риск убытков для второго региона\n",
    "profits = []\n",
    "\n",
    "for i in range(1000):\n",
    "    target_subsample = data_profit_1['product'].sample(n=500, replace=True, random_state=RANDOM_STATE)\n",
    "    \n",
    "    #print(target_subsample.index)\n",
    "    probs_subsample = data_profit_1['product_predict'][target_subsample.index]\n",
    "    profits.append(profit(target_subsample, probs_subsample, 200))\n",
    "    \n",
    "profits = pd.Series(profits)\n",
    "lower = profits.quantile(0.025)\n",
    "mean = profits.mean()\n",
    "risks = (profits < 0).mean()* 100\n",
    "print(\"Средняя прибыль:\", mean/10**9) # переводим в миллиарды\n",
    "print(\"2.5%-квантиль:\", lower/10**9)\n",
    "print(\"Риск: {}\".format(risks))\n",
    "confidence_interval = (profits.quantile(0.025), profits.quantile(0.975))\n",
    "print('95% доверительный интервал: ', confidence_interval)\n",
    "final_profits.append(('region 2', mean/10**9, lower/10**9, confidence_interval, risks))\n",
    "final_profits"
   ]
  },
  {
   "cell_type": "code",
   "execution_count": 28,
   "metadata": {},
   "outputs": [
    {
     "name": "stdout",
     "output_type": "stream",
     "text": [
      "Средняя прибыль: 0.373968047357523\n",
      "2.5%-квантиль: -0.19596319040312046\n",
      "Риск: 10.100000000000001\n",
      "95% доверительный интервал:  (-195963190.40312046, 924628256.6981916)\n"
     ]
    },
    {
     "data": {
      "text/plain": [
       "[('region 1',\n",
       "  0.48985298130800975,\n",
       "  -0.05150576458617811,\n",
       "  (-51505764.58617811, 1046143411.3694127),\n",
       "  3.6999999999999997),\n",
       " ('region 2',\n",
       "  0.5756988004170859,\n",
       "  0.13523889234541045,\n",
       "  (135238892.34541044, 1027755183.1813608),\n",
       "  0.4),\n",
       " ('region 3',\n",
       "  0.373968047357523,\n",
       "  -0.19596319040312046,\n",
       "  (-195963190.40312046, 924628256.6981916),\n",
       "  10.100000000000001)]"
      ]
     },
     "execution_count": 28,
     "metadata": {},
     "output_type": "execute_result"
    }
   ],
   "source": [
    "#Техникой bootstrap посчитаем среднюю прибыль , 95% доверительный интервал и риск убытков для третьего региона\n",
    "profits = []\n",
    "\n",
    "for i in range(1000):\n",
    "    target_subsample = data_profit_2['product'].sample(n=500, replace=True, random_state=RANDOM_STATE)\n",
    "    \n",
    "    #print(target_subsample.index)\n",
    "    probs_subsample = data_profit_2['product_predict'][target_subsample.index]\n",
    "    profits.append(profit(target_subsample, probs_subsample, 200))\n",
    "    \n",
    "profits = pd.Series(profits)\n",
    "lower = profits.quantile(0.025)\n",
    "mean = profits.mean()\n",
    "risks = (profits < 0).mean()* 100\n",
    "print(\"Средняя прибыль:\", mean/10**9) # переводим в миллиарды\n",
    "print(\"2.5%-квантиль:\", lower/10**9)\n",
    "print(\"Риск: {}\".format(risks))\n",
    "confidence_interval = (profits.quantile(0.025), profits.quantile(0.975))\n",
    "print('95% доверительный интервал: ', confidence_interval)\n",
    "final_profits.append(('region 3', mean/10**9, lower/10**9, confidence_interval, risks))\n",
    "final_profits\n"
   ]
  },
  {
   "cell_type": "markdown",
   "metadata": {},
   "source": [
    "**Вывод:** Самый лучший регион - исходя из предоставленных синтетических данных - второй, т.к. прибыль наибольшая, риск наименьший."
   ]
  },
  {
   "cell_type": "markdown",
   "metadata": {},
   "source": [
    "**Общий вывод:**\n",
    "Мы получили три датасета - три разные региона для прогнозирования объема сырья и прибыли. Все датасеты были хорошо подготовлены, не имелось никаких дубликатов, пустых значений. Но второй датасет оказался сильно отличимым от других, у него в столбце product были лишь 12 уникальных значений. Что позволило нашей модели хорошо делать прогнозы по второму региону. Можно ли использовать эту модель - вопрос открытый, т.к. изначальные данные (всего 12 уникальных значений целевого признака) сомнительны на фоне данных двух других регионов.\n",
    "\n",
    "Исходя из всех результатов моделей мы получили такие результаты:\n",
    "\n",
    "Регион 1: RMSE : 38 ; Score 0.27\n",
    "Регион 2: RMSE : 0.9 ; Score 0.99\n",
    "Регион 3: RMSE : 40.2 ; Score 0.2\n",
    "\n",
    "Провели расчет прибыли и пришли к выводу, что минимальный объем сырья должен составлять 111 тыс баррелей. Наши средние показатели трех регионов не доходят до минимального порога.\n",
    "\n",
    "Исходя из всех полученных данных: второй регион имеет наибольшие шансы на получение прибыли. "
   ]
  }
 ],
 "metadata": {
  "ExecuteTimeLog": [
   {
    "duration": 68,
    "start_time": "2024-03-16T12:59:40.718Z"
   },
   {
    "duration": 4,
    "start_time": "2024-03-16T12:59:45.653Z"
   },
   {
    "duration": 10,
    "start_time": "2024-03-16T12:59:50.786Z"
   },
   {
    "duration": 7,
    "start_time": "2024-03-16T13:00:31.806Z"
   },
   {
    "duration": 1267,
    "start_time": "2024-03-16T13:00:35.190Z"
   },
   {
    "duration": 575,
    "start_time": "2024-03-16T13:00:50.934Z"
   },
   {
    "duration": 4,
    "start_time": "2024-03-16T13:00:53.094Z"
   },
   {
    "duration": 3,
    "start_time": "2024-03-16T13:00:57.638Z"
   },
   {
    "duration": 1033,
    "start_time": "2024-03-16T13:00:59.614Z"
   },
   {
    "duration": 34,
    "start_time": "2024-03-16T13:01:01.934Z"
   },
   {
    "duration": 78,
    "start_time": "2024-03-16T13:08:55.091Z"
   },
   {
    "duration": 76,
    "start_time": "2024-03-16T13:11:37.276Z"
   },
   {
    "duration": 78,
    "start_time": "2024-03-16T13:13:32.454Z"
   },
   {
    "duration": 73,
    "start_time": "2024-03-16T13:17:40.655Z"
   },
   {
    "duration": 22,
    "start_time": "2024-03-16T13:22:04.058Z"
   },
   {
    "duration": 917,
    "start_time": "2024-03-16T13:26:40.077Z"
   },
   {
    "duration": 315,
    "start_time": "2024-03-16T13:27:22.683Z"
   },
   {
    "duration": 383,
    "start_time": "2024-03-16T13:27:29.854Z"
   },
   {
    "duration": 923,
    "start_time": "2024-03-16T13:27:33.719Z"
   },
   {
    "duration": 888,
    "start_time": "2024-03-16T13:27:47.678Z"
   },
   {
    "duration": 910,
    "start_time": "2024-03-16T13:28:06.590Z"
   },
   {
    "duration": 69,
    "start_time": "2024-03-16T13:29:20.911Z"
   },
   {
    "duration": 9,
    "start_time": "2024-03-16T13:29:32.999Z"
   },
   {
    "duration": 9,
    "start_time": "2024-03-16T13:29:39.167Z"
   },
   {
    "duration": 9,
    "start_time": "2024-03-16T13:29:49.687Z"
   },
   {
    "duration": 208,
    "start_time": "2024-03-16T13:33:16.753Z"
   },
   {
    "duration": 146,
    "start_time": "2024-03-16T13:33:39.530Z"
   },
   {
    "duration": 689,
    "start_time": "2024-03-16T13:33:47.689Z"
   },
   {
    "duration": 227,
    "start_time": "2024-03-16T13:33:53.725Z"
   },
   {
    "duration": 507,
    "start_time": "2024-03-16T13:34:17.882Z"
   },
   {
    "duration": 451,
    "start_time": "2024-03-16T13:34:21.637Z"
   },
   {
    "duration": 448,
    "start_time": "2024-03-16T13:34:27.636Z"
   },
   {
    "duration": 330,
    "start_time": "2024-03-16T13:34:33.031Z"
   },
   {
    "duration": 269,
    "start_time": "2024-03-16T13:36:27.822Z"
   },
   {
    "duration": 409,
    "start_time": "2024-03-16T13:36:44.356Z"
   },
   {
    "duration": 287,
    "start_time": "2024-03-16T13:36:56.259Z"
   },
   {
    "duration": 283,
    "start_time": "2024-03-16T13:37:14.372Z"
   },
   {
    "duration": 4,
    "start_time": "2024-03-16T13:37:24.078Z"
   },
   {
    "duration": 11,
    "start_time": "2024-03-16T13:37:24.084Z"
   },
   {
    "duration": 658,
    "start_time": "2024-03-16T13:37:24.097Z"
   },
   {
    "duration": 27,
    "start_time": "2024-03-16T13:37:24.757Z"
   },
   {
    "duration": 105,
    "start_time": "2024-03-16T13:37:24.786Z"
   },
   {
    "duration": 76,
    "start_time": "2024-03-16T13:37:24.894Z"
   },
   {
    "duration": 95,
    "start_time": "2024-03-16T13:37:24.972Z"
   },
   {
    "duration": 305,
    "start_time": "2024-03-16T13:37:27.645Z"
   },
   {
    "duration": 4,
    "start_time": "2024-03-16T13:38:14.370Z"
   },
   {
    "duration": 6,
    "start_time": "2024-03-16T13:38:14.375Z"
   },
   {
    "duration": 623,
    "start_time": "2024-03-16T13:38:14.382Z"
   },
   {
    "duration": 42,
    "start_time": "2024-03-16T13:38:15.007Z"
   },
   {
    "duration": 106,
    "start_time": "2024-03-16T13:38:15.051Z"
   },
   {
    "duration": 76,
    "start_time": "2024-03-16T13:38:15.159Z"
   },
   {
    "duration": 67,
    "start_time": "2024-03-16T13:38:15.237Z"
   },
   {
    "duration": 961,
    "start_time": "2024-03-16T13:38:15.325Z"
   },
   {
    "duration": 895,
    "start_time": "2024-03-16T13:40:27.327Z"
   },
   {
    "duration": 926,
    "start_time": "2024-03-16T13:40:55.520Z"
   },
   {
    "duration": 923,
    "start_time": "2024-03-16T13:40:59.749Z"
   },
   {
    "duration": 114,
    "start_time": "2024-03-16T13:47:29.245Z"
   },
   {
    "duration": 89,
    "start_time": "2024-03-16T13:47:53.709Z"
   },
   {
    "duration": 3,
    "start_time": "2024-03-16T13:56:26.264Z"
   },
   {
    "duration": 1135,
    "start_time": "2024-03-16T14:02:28.595Z"
   },
   {
    "duration": 4,
    "start_time": "2024-03-16T14:04:16.182Z"
   },
   {
    "duration": 9,
    "start_time": "2024-03-16T14:04:16.188Z"
   },
   {
    "duration": 629,
    "start_time": "2024-03-16T14:04:16.198Z"
   },
   {
    "duration": 32,
    "start_time": "2024-03-16T14:04:16.828Z"
   },
   {
    "duration": 91,
    "start_time": "2024-03-16T14:04:16.862Z"
   },
   {
    "duration": 75,
    "start_time": "2024-03-16T14:04:16.955Z"
   },
   {
    "duration": 66,
    "start_time": "2024-03-16T14:04:17.032Z"
   },
   {
    "duration": 99,
    "start_time": "2024-03-16T14:04:17.099Z"
   },
   {
    "duration": 895,
    "start_time": "2024-03-16T14:04:17.199Z"
   },
   {
    "duration": 102,
    "start_time": "2024-03-16T14:04:18.098Z"
   },
   {
    "duration": 9884,
    "start_time": "2024-03-16T14:05:05.141Z"
   },
   {
    "duration": 10145,
    "start_time": "2024-03-16T14:08:02.895Z"
   },
   {
    "duration": 10073,
    "start_time": "2024-03-16T14:09:47.207Z"
   },
   {
    "duration": 10223,
    "start_time": "2024-03-16T14:12:30.761Z"
   },
   {
    "duration": 76,
    "start_time": "2024-03-16T14:23:11.792Z"
   },
   {
    "duration": 10,
    "start_time": "2024-03-16T14:23:27.939Z"
   },
   {
    "duration": 41,
    "start_time": "2024-03-16T14:25:02.645Z"
   },
   {
    "duration": 0,
    "start_time": "2024-03-16T14:25:02.687Z"
   },
   {
    "duration": 0,
    "start_time": "2024-03-16T14:25:02.689Z"
   },
   {
    "duration": 0,
    "start_time": "2024-03-16T14:25:02.690Z"
   },
   {
    "duration": 0,
    "start_time": "2024-03-16T14:25:02.690Z"
   },
   {
    "duration": 0,
    "start_time": "2024-03-16T14:25:02.691Z"
   },
   {
    "duration": 0,
    "start_time": "2024-03-16T14:25:02.693Z"
   },
   {
    "duration": 0,
    "start_time": "2024-03-16T14:25:02.694Z"
   },
   {
    "duration": 0,
    "start_time": "2024-03-16T14:25:02.694Z"
   },
   {
    "duration": 0,
    "start_time": "2024-03-16T14:25:02.695Z"
   },
   {
    "duration": 0,
    "start_time": "2024-03-16T14:25:02.696Z"
   },
   {
    "duration": 0,
    "start_time": "2024-03-16T14:25:02.697Z"
   },
   {
    "duration": 18,
    "start_time": "2024-03-16T14:25:27.411Z"
   },
   {
    "duration": 0,
    "start_time": "2024-03-16T14:25:27.431Z"
   },
   {
    "duration": 0,
    "start_time": "2024-03-16T14:25:27.434Z"
   },
   {
    "duration": 0,
    "start_time": "2024-03-16T14:25:27.435Z"
   },
   {
    "duration": 0,
    "start_time": "2024-03-16T14:25:27.436Z"
   },
   {
    "duration": 0,
    "start_time": "2024-03-16T14:25:27.437Z"
   },
   {
    "duration": 0,
    "start_time": "2024-03-16T14:25:27.438Z"
   },
   {
    "duration": 0,
    "start_time": "2024-03-16T14:25:27.439Z"
   },
   {
    "duration": 0,
    "start_time": "2024-03-16T14:25:27.440Z"
   },
   {
    "duration": 0,
    "start_time": "2024-03-16T14:25:27.441Z"
   },
   {
    "duration": 0,
    "start_time": "2024-03-16T14:25:27.442Z"
   },
   {
    "duration": 9790,
    "start_time": "2024-03-16T14:25:53.597Z"
   },
   {
    "duration": 343,
    "start_time": "2024-03-16T14:26:03.389Z"
   },
   {
    "duration": 48871,
    "start_time": "2024-03-16T14:26:55.686Z"
   },
   {
    "duration": 63,
    "start_time": "2024-03-16T19:55:49.505Z"
   },
   {
    "duration": 77,
    "start_time": "2024-03-16T19:57:11.823Z"
   },
   {
    "duration": 77,
    "start_time": "2024-03-16T19:57:30.175Z"
   },
   {
    "duration": 8,
    "start_time": "2024-03-16T19:57:39.982Z"
   },
   {
    "duration": 119,
    "start_time": "2024-03-16T19:58:46.102Z"
   },
   {
    "duration": 4,
    "start_time": "2024-03-16T19:59:26.613Z"
   },
   {
    "duration": 4,
    "start_time": "2024-03-16T20:01:51.669Z"
   },
   {
    "duration": 15,
    "start_time": "2024-03-16T20:05:51.446Z"
   },
   {
    "duration": 4,
    "start_time": "2024-03-16T20:06:01.350Z"
   },
   {
    "duration": 12,
    "start_time": "2024-03-16T20:10:10.227Z"
   },
   {
    "duration": 4,
    "start_time": "2024-03-16T20:10:16.345Z"
   },
   {
    "duration": 29,
    "start_time": "2024-03-16T20:10:16.351Z"
   },
   {
    "duration": 576,
    "start_time": "2024-03-16T20:10:16.382Z"
   },
   {
    "duration": 27,
    "start_time": "2024-03-16T20:10:16.960Z"
   },
   {
    "duration": 84,
    "start_time": "2024-03-16T20:10:16.989Z"
   },
   {
    "duration": 69,
    "start_time": "2024-03-16T20:10:17.074Z"
   },
   {
    "duration": 87,
    "start_time": "2024-03-16T20:10:17.144Z"
   },
   {
    "duration": 89,
    "start_time": "2024-03-16T20:10:17.232Z"
   },
   {
    "duration": 901,
    "start_time": "2024-03-16T20:10:17.327Z"
   },
   {
    "duration": 73,
    "start_time": "2024-03-16T20:10:18.230Z"
   },
   {
    "duration": 0,
    "start_time": "2024-03-16T20:10:18.305Z"
   },
   {
    "duration": 0,
    "start_time": "2024-03-16T20:10:18.306Z"
   },
   {
    "duration": 15,
    "start_time": "2024-03-16T20:10:21.502Z"
   },
   {
    "duration": 8,
    "start_time": "2024-03-16T20:10:46.655Z"
   },
   {
    "duration": 108,
    "start_time": "2024-03-16T20:10:48.535Z"
   },
   {
    "duration": 3,
    "start_time": "2024-03-16T20:10:58.998Z"
   },
   {
    "duration": 68,
    "start_time": "2024-03-16T20:12:21.399Z"
   },
   {
    "duration": 56,
    "start_time": "2024-03-16T20:12:33.871Z"
   },
   {
    "duration": 60,
    "start_time": "2024-03-16T20:13:19.159Z"
   },
   {
    "duration": 17,
    "start_time": "2024-03-16T20:14:15.759Z"
   },
   {
    "duration": 27,
    "start_time": "2024-03-16T20:14:58.504Z"
   },
   {
    "duration": 1533,
    "start_time": "2024-03-17T06:46:32.860Z"
   },
   {
    "duration": 0,
    "start_time": "2024-03-17T06:46:34.395Z"
   },
   {
    "duration": 0,
    "start_time": "2024-03-17T06:46:34.396Z"
   },
   {
    "duration": 0,
    "start_time": "2024-03-17T06:46:34.397Z"
   },
   {
    "duration": 0,
    "start_time": "2024-03-17T06:46:34.398Z"
   },
   {
    "duration": 0,
    "start_time": "2024-03-17T06:46:34.399Z"
   },
   {
    "duration": 0,
    "start_time": "2024-03-17T06:46:34.400Z"
   },
   {
    "duration": 0,
    "start_time": "2024-03-17T06:46:34.401Z"
   },
   {
    "duration": 0,
    "start_time": "2024-03-17T06:46:34.402Z"
   },
   {
    "duration": 0,
    "start_time": "2024-03-17T06:46:34.403Z"
   },
   {
    "duration": 0,
    "start_time": "2024-03-17T06:46:34.404Z"
   },
   {
    "duration": 0,
    "start_time": "2024-03-17T06:46:34.405Z"
   },
   {
    "duration": 0,
    "start_time": "2024-03-17T06:46:34.406Z"
   },
   {
    "duration": 0,
    "start_time": "2024-03-17T06:46:34.407Z"
   },
   {
    "duration": 0,
    "start_time": "2024-03-17T06:46:34.408Z"
   },
   {
    "duration": 0,
    "start_time": "2024-03-17T06:46:34.409Z"
   },
   {
    "duration": 0,
    "start_time": "2024-03-17T06:46:34.410Z"
   },
   {
    "duration": 0,
    "start_time": "2024-03-17T06:46:34.411Z"
   },
   {
    "duration": 10,
    "start_time": "2024-03-17T06:46:41.677Z"
   },
   {
    "duration": 7,
    "start_time": "2024-03-17T06:46:51.902Z"
   },
   {
    "duration": 10,
    "start_time": "2024-03-17T06:46:59.051Z"
   },
   {
    "duration": 0,
    "start_time": "2024-03-17T06:46:59.062Z"
   },
   {
    "duration": 0,
    "start_time": "2024-03-17T06:46:59.063Z"
   },
   {
    "duration": 0,
    "start_time": "2024-03-17T06:46:59.064Z"
   },
   {
    "duration": 0,
    "start_time": "2024-03-17T06:46:59.065Z"
   },
   {
    "duration": 0,
    "start_time": "2024-03-17T06:46:59.066Z"
   },
   {
    "duration": 0,
    "start_time": "2024-03-17T06:46:59.067Z"
   },
   {
    "duration": 0,
    "start_time": "2024-03-17T06:46:59.068Z"
   },
   {
    "duration": 0,
    "start_time": "2024-03-17T06:46:59.069Z"
   },
   {
    "duration": 0,
    "start_time": "2024-03-17T06:46:59.070Z"
   },
   {
    "duration": 0,
    "start_time": "2024-03-17T06:46:59.071Z"
   },
   {
    "duration": 0,
    "start_time": "2024-03-17T06:46:59.072Z"
   },
   {
    "duration": 0,
    "start_time": "2024-03-17T06:46:59.073Z"
   },
   {
    "duration": 0,
    "start_time": "2024-03-17T06:46:59.074Z"
   },
   {
    "duration": 0,
    "start_time": "2024-03-17T06:46:59.075Z"
   },
   {
    "duration": 0,
    "start_time": "2024-03-17T06:46:59.076Z"
   },
   {
    "duration": 0,
    "start_time": "2024-03-17T06:46:59.077Z"
   },
   {
    "duration": 4,
    "start_time": "2024-03-17T06:47:45.105Z"
   },
   {
    "duration": 3,
    "start_time": "2024-03-17T06:47:53.661Z"
   },
   {
    "duration": 17,
    "start_time": "2024-03-17T06:47:53.666Z"
   },
   {
    "duration": 912,
    "start_time": "2024-03-17T06:47:53.685Z"
   },
   {
    "duration": 28,
    "start_time": "2024-03-17T06:47:54.598Z"
   },
   {
    "duration": 63,
    "start_time": "2024-03-17T06:47:54.628Z"
   },
   {
    "duration": 59,
    "start_time": "2024-03-17T06:47:54.693Z"
   },
   {
    "duration": 55,
    "start_time": "2024-03-17T06:47:54.753Z"
   },
   {
    "duration": 78,
    "start_time": "2024-03-17T06:47:54.809Z"
   },
   {
    "duration": 825,
    "start_time": "2024-03-17T06:47:54.888Z"
   },
   {
    "duration": 71,
    "start_time": "2024-03-17T06:47:55.714Z"
   },
   {
    "duration": 0,
    "start_time": "2024-03-17T06:47:55.786Z"
   },
   {
    "duration": 0,
    "start_time": "2024-03-17T06:47:55.787Z"
   },
   {
    "duration": 0,
    "start_time": "2024-03-17T06:47:55.788Z"
   },
   {
    "duration": 0,
    "start_time": "2024-03-17T06:47:55.790Z"
   },
   {
    "duration": 0,
    "start_time": "2024-03-17T06:47:55.791Z"
   },
   {
    "duration": 0,
    "start_time": "2024-03-17T06:47:55.792Z"
   },
   {
    "duration": 0,
    "start_time": "2024-03-17T06:47:55.793Z"
   },
   {
    "duration": 0,
    "start_time": "2024-03-17T06:47:55.794Z"
   },
   {
    "duration": 8,
    "start_time": "2024-03-17T06:47:58.945Z"
   },
   {
    "duration": 8875,
    "start_time": "2024-03-17T06:48:14.609Z"
   },
   {
    "duration": 3,
    "start_time": "2024-03-17T06:48:24.188Z"
   },
   {
    "duration": 17,
    "start_time": "2024-03-17T06:48:24.193Z"
   },
   {
    "duration": 498,
    "start_time": "2024-03-17T06:48:24.211Z"
   },
   {
    "duration": 34,
    "start_time": "2024-03-17T06:48:24.711Z"
   },
   {
    "duration": 53,
    "start_time": "2024-03-17T06:48:24.746Z"
   },
   {
    "duration": 64,
    "start_time": "2024-03-17T06:48:24.800Z"
   },
   {
    "duration": 51,
    "start_time": "2024-03-17T06:48:24.866Z"
   },
   {
    "duration": 75,
    "start_time": "2024-03-17T06:48:24.918Z"
   },
   {
    "duration": 729,
    "start_time": "2024-03-17T06:48:24.995Z"
   },
   {
    "duration": 7959,
    "start_time": "2024-03-17T06:48:25.726Z"
   },
   {
    "duration": 8,
    "start_time": "2024-03-17T06:48:33.686Z"
   },
   {
    "duration": 90,
    "start_time": "2024-03-17T06:48:33.695Z"
   },
   {
    "duration": 3,
    "start_time": "2024-03-17T06:48:33.787Z"
   },
   {
    "duration": 64,
    "start_time": "2024-03-17T06:48:33.791Z"
   },
   {
    "duration": 19,
    "start_time": "2024-03-17T06:48:33.945Z"
   },
   {
    "duration": 96,
    "start_time": "2024-03-17T06:48:33.965Z"
   },
   {
    "duration": 3,
    "start_time": "2024-03-17T06:48:34.146Z"
   },
   {
    "duration": 3,
    "start_time": "2024-03-17T06:49:04.450Z"
   },
   {
    "duration": 3,
    "start_time": "2024-03-17T06:49:06.522Z"
   },
   {
    "duration": 3,
    "start_time": "2024-03-17T06:50:07.171Z"
   },
   {
    "duration": 3,
    "start_time": "2024-03-17T06:50:30.347Z"
   },
   {
    "duration": 3,
    "start_time": "2024-03-17T06:50:33.570Z"
   },
   {
    "duration": 4,
    "start_time": "2024-03-17T06:52:48.229Z"
   },
   {
    "duration": 3,
    "start_time": "2024-03-17T06:55:00.686Z"
   },
   {
    "duration": 64,
    "start_time": "2024-03-17T06:55:15.654Z"
   },
   {
    "duration": 3,
    "start_time": "2024-03-17T06:55:22.901Z"
   },
   {
    "duration": 3,
    "start_time": "2024-03-17T06:57:34.479Z"
   },
   {
    "duration": 45,
    "start_time": "2024-03-17T07:00:50.401Z"
   },
   {
    "duration": 13,
    "start_time": "2024-03-17T07:01:00.649Z"
   },
   {
    "duration": 12,
    "start_time": "2024-03-17T07:01:13.242Z"
   },
   {
    "duration": 19,
    "start_time": "2024-03-17T07:01:22.626Z"
   },
   {
    "duration": 18,
    "start_time": "2024-03-17T07:01:32.145Z"
   },
   {
    "duration": 19,
    "start_time": "2024-03-17T07:01:39.882Z"
   },
   {
    "duration": 19,
    "start_time": "2024-03-17T07:01:43.946Z"
   },
   {
    "duration": 14,
    "start_time": "2024-03-17T07:02:01.530Z"
   },
   {
    "duration": 19,
    "start_time": "2024-03-17T07:02:08.786Z"
   },
   {
    "duration": 20,
    "start_time": "2024-03-17T07:02:32.603Z"
   },
   {
    "duration": 20,
    "start_time": "2024-03-17T07:06:09.628Z"
   },
   {
    "duration": 20,
    "start_time": "2024-03-17T07:07:12.269Z"
   },
   {
    "duration": 13,
    "start_time": "2024-03-17T07:07:22.718Z"
   },
   {
    "duration": 59,
    "start_time": "2024-03-17T07:07:33.685Z"
   },
   {
    "duration": 10,
    "start_time": "2024-03-17T07:09:48.047Z"
   },
   {
    "duration": 10,
    "start_time": "2024-03-17T07:10:15.960Z"
   },
   {
    "duration": 6,
    "start_time": "2024-03-17T07:10:17.727Z"
   },
   {
    "duration": 3,
    "start_time": "2024-03-17T08:05:37.926Z"
   },
   {
    "duration": 13,
    "start_time": "2024-03-17T08:05:40.262Z"
   },
   {
    "duration": 4,
    "start_time": "2024-03-17T08:06:38.526Z"
   },
   {
    "duration": 3,
    "start_time": "2024-03-17T08:07:10.758Z"
   },
   {
    "duration": 12,
    "start_time": "2024-03-17T08:07:13.719Z"
   },
   {
    "duration": 9,
    "start_time": "2024-03-17T08:10:35.720Z"
   },
   {
    "duration": 3,
    "start_time": "2024-03-17T08:11:48.353Z"
   },
   {
    "duration": 9,
    "start_time": "2024-03-17T08:11:50.320Z"
   },
   {
    "duration": 16,
    "start_time": "2024-03-17T08:11:52.577Z"
   },
   {
    "duration": 4,
    "start_time": "2024-03-17T08:12:19.985Z"
   },
   {
    "duration": 10,
    "start_time": "2024-03-17T08:12:21.633Z"
   },
   {
    "duration": 21,
    "start_time": "2024-03-17T08:12:23.649Z"
   },
   {
    "duration": 3,
    "start_time": "2024-03-17T08:13:39.346Z"
   },
   {
    "duration": 34,
    "start_time": "2024-03-17T08:13:41.314Z"
   },
   {
    "duration": 3,
    "start_time": "2024-03-17T08:21:03.966Z"
   },
   {
    "duration": 4,
    "start_time": "2024-03-17T08:21:07.998Z"
   },
   {
    "duration": 3,
    "start_time": "2024-03-17T08:21:11.614Z"
   },
   {
    "duration": 5,
    "start_time": "2024-03-17T08:21:16.110Z"
   },
   {
    "duration": 4,
    "start_time": "2024-03-17T08:21:24.655Z"
   },
   {
    "duration": 3,
    "start_time": "2024-03-17T08:21:39.247Z"
   },
   {
    "duration": 4,
    "start_time": "2024-03-17T08:21:46.375Z"
   },
   {
    "duration": 4,
    "start_time": "2024-03-17T08:21:52.006Z"
   },
   {
    "duration": 11,
    "start_time": "2024-03-17T08:23:05.704Z"
   },
   {
    "duration": 16,
    "start_time": "2024-03-17T08:23:35.543Z"
   },
   {
    "duration": 6,
    "start_time": "2024-03-17T08:25:47.001Z"
   },
   {
    "duration": 8,
    "start_time": "2024-03-17T08:26:21.426Z"
   },
   {
    "duration": 5,
    "start_time": "2024-03-17T08:27:05.362Z"
   },
   {
    "duration": 4,
    "start_time": "2024-03-17T08:27:11.548Z"
   },
   {
    "duration": 6,
    "start_time": "2024-03-17T08:27:11.554Z"
   },
   {
    "duration": 507,
    "start_time": "2024-03-17T08:27:11.561Z"
   },
   {
    "duration": 23,
    "start_time": "2024-03-17T08:27:12.069Z"
   },
   {
    "duration": 94,
    "start_time": "2024-03-17T08:27:12.094Z"
   },
   {
    "duration": 64,
    "start_time": "2024-03-17T08:27:12.189Z"
   },
   {
    "duration": 54,
    "start_time": "2024-03-17T08:27:12.255Z"
   },
   {
    "duration": 80,
    "start_time": "2024-03-17T08:27:12.310Z"
   },
   {
    "duration": 734,
    "start_time": "2024-03-17T08:27:12.391Z"
   },
   {
    "duration": 8256,
    "start_time": "2024-03-17T08:27:13.126Z"
   },
   {
    "duration": 10,
    "start_time": "2024-03-17T08:27:21.383Z"
   },
   {
    "duration": 145,
    "start_time": "2024-03-17T08:27:21.394Z"
   },
   {
    "duration": 4,
    "start_time": "2024-03-17T08:27:21.541Z"
   },
   {
    "duration": 31,
    "start_time": "2024-03-17T08:27:21.547Z"
   },
   {
    "duration": 67,
    "start_time": "2024-03-17T08:27:21.580Z"
   },
   {
    "duration": 294,
    "start_time": "2024-03-17T08:27:21.651Z"
   },
   {
    "duration": 98,
    "start_time": "2024-03-17T08:27:21.947Z"
   },
   {
    "duration": 4,
    "start_time": "2024-03-17T08:27:22.047Z"
   },
   {
    "duration": 94,
    "start_time": "2024-03-17T08:27:22.053Z"
   },
   {
    "duration": 23,
    "start_time": "2024-03-17T08:27:22.148Z"
   },
   {
    "duration": 37,
    "start_time": "2024-03-17T08:27:22.173Z"
   },
   {
    "duration": 4,
    "start_time": "2024-03-17T08:27:24.170Z"
   },
   {
    "duration": 5,
    "start_time": "2024-03-17T08:31:14.237Z"
   },
   {
    "duration": 3,
    "start_time": "2024-03-17T08:31:25.844Z"
   },
   {
    "duration": 6,
    "start_time": "2024-03-17T08:31:32.077Z"
   },
   {
    "duration": 6,
    "start_time": "2024-03-17T08:31:57.022Z"
   },
   {
    "duration": 4,
    "start_time": "2024-03-17T08:32:00.642Z"
   },
   {
    "duration": 44,
    "start_time": "2024-03-17T08:32:00.647Z"
   },
   {
    "duration": 569,
    "start_time": "2024-03-17T08:32:00.693Z"
   },
   {
    "duration": 25,
    "start_time": "2024-03-17T08:32:01.263Z"
   },
   {
    "duration": 79,
    "start_time": "2024-03-17T08:32:01.290Z"
   },
   {
    "duration": 50,
    "start_time": "2024-03-17T08:32:01.371Z"
   },
   {
    "duration": 64,
    "start_time": "2024-03-17T08:32:01.422Z"
   },
   {
    "duration": 87,
    "start_time": "2024-03-17T08:32:01.488Z"
   },
   {
    "duration": 751,
    "start_time": "2024-03-17T08:32:01.576Z"
   },
   {
    "duration": 8311,
    "start_time": "2024-03-17T08:32:02.329Z"
   },
   {
    "duration": 9,
    "start_time": "2024-03-17T08:32:10.644Z"
   },
   {
    "duration": 110,
    "start_time": "2024-03-17T08:32:10.654Z"
   },
   {
    "duration": 3,
    "start_time": "2024-03-17T08:32:10.766Z"
   },
   {
    "duration": 73,
    "start_time": "2024-03-17T08:32:10.772Z"
   },
   {
    "duration": 7,
    "start_time": "2024-03-17T08:32:10.847Z"
   },
   {
    "duration": 189,
    "start_time": "2024-03-17T08:32:10.856Z"
   },
   {
    "duration": 111,
    "start_time": "2024-03-17T08:32:11.047Z"
   },
   {
    "duration": 88,
    "start_time": "2024-03-17T08:32:11.159Z"
   },
   {
    "duration": 96,
    "start_time": "2024-03-17T08:32:11.250Z"
   },
   {
    "duration": 30,
    "start_time": "2024-03-17T08:32:11.347Z"
   },
   {
    "duration": 27,
    "start_time": "2024-03-17T08:32:11.378Z"
   },
   {
    "duration": 23,
    "start_time": "2024-03-17T08:32:11.406Z"
   },
   {
    "duration": 54,
    "start_time": "2024-03-17T08:32:11.430Z"
   },
   {
    "duration": 6,
    "start_time": "2024-03-17T08:32:13.197Z"
   },
   {
    "duration": 19,
    "start_time": "2024-03-17T08:32:58.853Z"
   },
   {
    "duration": 13,
    "start_time": "2024-03-17T08:33:07.950Z"
   },
   {
    "duration": 16,
    "start_time": "2024-03-17T08:35:45.143Z"
   },
   {
    "duration": 71,
    "start_time": "2024-03-17T08:37:26.649Z"
   },
   {
    "duration": 7,
    "start_time": "2024-03-17T08:37:37.409Z"
   },
   {
    "duration": 13,
    "start_time": "2024-03-17T08:38:01.353Z"
   },
   {
    "duration": 10,
    "start_time": "2024-03-17T08:39:18.154Z"
   },
   {
    "duration": 1382,
    "start_time": "2024-03-17T08:45:24.727Z"
   },
   {
    "duration": 21,
    "start_time": "2024-03-17T08:46:11.384Z"
   },
   {
    "duration": 5,
    "start_time": "2024-03-17T08:53:32.957Z"
   },
   {
    "duration": 40,
    "start_time": "2024-03-17T08:53:40.502Z"
   },
   {
    "duration": 29,
    "start_time": "2024-03-17T08:53:49.766Z"
   },
   {
    "duration": 3,
    "start_time": "2024-03-17T08:54:02.238Z"
   },
   {
    "duration": 16,
    "start_time": "2024-03-17T08:54:10.855Z"
   },
   {
    "duration": 3,
    "start_time": "2024-03-17T08:55:43.767Z"
   },
   {
    "duration": 3,
    "start_time": "2024-03-17T08:55:46.015Z"
   },
   {
    "duration": 12,
    "start_time": "2024-03-17T08:55:47.935Z"
   },
   {
    "duration": 3,
    "start_time": "2024-03-17T08:56:01.391Z"
   },
   {
    "duration": 4,
    "start_time": "2024-03-17T08:56:03.533Z"
   },
   {
    "duration": 24,
    "start_time": "2024-03-17T08:56:06.145Z"
   },
   {
    "duration": 10,
    "start_time": "2024-03-17T08:58:03.993Z"
   },
   {
    "duration": 3,
    "start_time": "2024-03-17T08:59:01.345Z"
   },
   {
    "duration": 5,
    "start_time": "2024-03-17T08:59:02.913Z"
   },
   {
    "duration": 11,
    "start_time": "2024-03-17T08:59:05.162Z"
   },
   {
    "duration": 3,
    "start_time": "2024-03-17T08:59:23.865Z"
   },
   {
    "duration": 5,
    "start_time": "2024-03-17T08:59:25.378Z"
   },
   {
    "duration": 11,
    "start_time": "2024-03-17T08:59:30.074Z"
   },
   {
    "duration": 4,
    "start_time": "2024-03-17T09:00:34.709Z"
   },
   {
    "duration": 6,
    "start_time": "2024-03-17T09:00:34.715Z"
   },
   {
    "duration": 491,
    "start_time": "2024-03-17T09:00:34.722Z"
   },
   {
    "duration": 32,
    "start_time": "2024-03-17T09:00:35.214Z"
   },
   {
    "duration": 56,
    "start_time": "2024-03-17T09:00:35.248Z"
   },
   {
    "duration": 64,
    "start_time": "2024-03-17T09:00:35.305Z"
   },
   {
    "duration": 52,
    "start_time": "2024-03-17T09:00:35.370Z"
   },
   {
    "duration": 78,
    "start_time": "2024-03-17T09:00:35.424Z"
   },
   {
    "duration": 746,
    "start_time": "2024-03-17T09:00:35.504Z"
   },
   {
    "duration": 8625,
    "start_time": "2024-03-17T09:00:36.252Z"
   },
   {
    "duration": 10,
    "start_time": "2024-03-17T09:00:44.880Z"
   },
   {
    "duration": 106,
    "start_time": "2024-03-17T09:00:44.891Z"
   },
   {
    "duration": 3,
    "start_time": "2024-03-17T09:00:44.999Z"
   },
   {
    "duration": 67,
    "start_time": "2024-03-17T09:00:45.004Z"
   },
   {
    "duration": 84,
    "start_time": "2024-03-17T09:00:45.073Z"
   },
   {
    "duration": 189,
    "start_time": "2024-03-17T09:00:45.159Z"
   },
   {
    "duration": 204,
    "start_time": "2024-03-17T09:00:45.351Z"
   },
   {
    "duration": 89,
    "start_time": "2024-03-17T09:00:45.557Z"
   },
   {
    "duration": 20,
    "start_time": "2024-03-17T09:00:45.648Z"
   },
   {
    "duration": 11,
    "start_time": "2024-03-17T09:00:45.670Z"
   },
   {
    "duration": 3,
    "start_time": "2024-03-17T09:00:47.794Z"
   },
   {
    "duration": 6,
    "start_time": "2024-03-17T09:00:49.594Z"
   },
   {
    "duration": 26,
    "start_time": "2024-03-17T09:00:52.066Z"
   },
   {
    "duration": 3,
    "start_time": "2024-03-17T09:02:31.219Z"
   },
   {
    "duration": 2,
    "start_time": "2024-03-17T09:02:32.796Z"
   },
   {
    "duration": 24,
    "start_time": "2024-03-17T09:02:34.659Z"
   },
   {
    "duration": 6,
    "start_time": "2024-03-17T09:03:03.467Z"
   },
   {
    "duration": 4,
    "start_time": "2024-03-17T09:03:23.479Z"
   },
   {
    "duration": 5,
    "start_time": "2024-03-17T09:03:23.485Z"
   },
   {
    "duration": 512,
    "start_time": "2024-03-17T09:03:23.492Z"
   },
   {
    "duration": 23,
    "start_time": "2024-03-17T09:03:24.005Z"
   },
   {
    "duration": 57,
    "start_time": "2024-03-17T09:03:24.045Z"
   },
   {
    "duration": 60,
    "start_time": "2024-03-17T09:03:24.104Z"
   },
   {
    "duration": 55,
    "start_time": "2024-03-17T09:03:24.166Z"
   },
   {
    "duration": 93,
    "start_time": "2024-03-17T09:03:24.222Z"
   },
   {
    "duration": 834,
    "start_time": "2024-03-17T09:03:24.316Z"
   },
   {
    "duration": 8741,
    "start_time": "2024-03-17T09:03:25.152Z"
   },
   {
    "duration": 9,
    "start_time": "2024-03-17T09:03:33.894Z"
   },
   {
    "duration": 110,
    "start_time": "2024-03-17T09:03:33.904Z"
   },
   {
    "duration": 4,
    "start_time": "2024-03-17T09:03:34.015Z"
   },
   {
    "duration": 31,
    "start_time": "2024-03-17T09:03:34.021Z"
   },
   {
    "duration": 96,
    "start_time": "2024-03-17T09:03:34.054Z"
   },
   {
    "duration": 109,
    "start_time": "2024-03-17T09:03:34.153Z"
   },
   {
    "duration": 110,
    "start_time": "2024-03-17T09:03:34.346Z"
   },
   {
    "duration": 4,
    "start_time": "2024-03-17T09:03:34.547Z"
   },
   {
    "duration": 94,
    "start_time": "2024-03-17T09:03:34.553Z"
   },
   {
    "duration": 9,
    "start_time": "2024-03-17T09:03:34.648Z"
   },
   {
    "duration": 5,
    "start_time": "2024-03-17T09:03:34.658Z"
   },
   {
    "duration": 4,
    "start_time": "2024-03-17T09:03:34.664Z"
   },
   {
    "duration": 42,
    "start_time": "2024-03-17T09:03:34.669Z"
   },
   {
    "duration": 5,
    "start_time": "2024-03-17T09:03:34.713Z"
   },
   {
    "duration": 17,
    "start_time": "2024-03-17T09:03:34.719Z"
   },
   {
    "duration": 27,
    "start_time": "2024-03-17T09:03:34.738Z"
   },
   {
    "duration": 23,
    "start_time": "2024-03-17T09:03:34.767Z"
   },
   {
    "duration": 21,
    "start_time": "2024-03-17T09:04:36.740Z"
   },
   {
    "duration": 4,
    "start_time": "2024-03-17T09:04:48.992Z"
   },
   {
    "duration": 18,
    "start_time": "2024-03-17T09:04:48.998Z"
   },
   {
    "duration": 543,
    "start_time": "2024-03-17T09:04:49.018Z"
   },
   {
    "duration": 26,
    "start_time": "2024-03-17T09:04:49.562Z"
   },
   {
    "duration": 82,
    "start_time": "2024-03-17T09:04:49.591Z"
   },
   {
    "duration": 51,
    "start_time": "2024-03-17T09:04:49.675Z"
   },
   {
    "duration": 67,
    "start_time": "2024-03-17T09:04:49.727Z"
   },
   {
    "duration": 77,
    "start_time": "2024-03-17T09:04:49.795Z"
   },
   {
    "duration": 744,
    "start_time": "2024-03-17T09:04:49.873Z"
   },
   {
    "duration": 8450,
    "start_time": "2024-03-17T09:04:50.619Z"
   },
   {
    "duration": 9,
    "start_time": "2024-03-17T09:04:59.070Z"
   },
   {
    "duration": 116,
    "start_time": "2024-03-17T09:04:59.081Z"
   },
   {
    "duration": 4,
    "start_time": "2024-03-17T09:04:59.198Z"
   },
   {
    "duration": 149,
    "start_time": "2024-03-17T09:04:59.204Z"
   },
   {
    "duration": 94,
    "start_time": "2024-03-17T09:04:59.355Z"
   },
   {
    "duration": 104,
    "start_time": "2024-03-17T09:04:59.450Z"
   },
   {
    "duration": 188,
    "start_time": "2024-03-17T09:04:59.556Z"
   },
   {
    "duration": 94,
    "start_time": "2024-03-17T09:04:59.750Z"
   },
   {
    "duration": 27,
    "start_time": "2024-03-17T09:04:59.846Z"
   },
   {
    "duration": 25,
    "start_time": "2024-03-17T09:04:59.875Z"
   },
   {
    "duration": 16,
    "start_time": "2024-03-17T09:04:59.902Z"
   },
   {
    "duration": 21,
    "start_time": "2024-03-17T09:04:59.919Z"
   },
   {
    "duration": 58,
    "start_time": "2024-03-17T09:04:59.941Z"
   },
   {
    "duration": 4,
    "start_time": "2024-03-17T09:05:00.001Z"
   },
   {
    "duration": 58,
    "start_time": "2024-03-17T09:05:00.007Z"
   },
   {
    "duration": 8,
    "start_time": "2024-03-17T09:05:02.509Z"
   },
   {
    "duration": 13,
    "start_time": "2024-03-17T09:05:04.382Z"
   },
   {
    "duration": 24,
    "start_time": "2024-03-17T09:05:07.293Z"
   },
   {
    "duration": 10,
    "start_time": "2024-03-17T09:05:25.222Z"
   },
   {
    "duration": 11,
    "start_time": "2024-03-17T09:06:08.462Z"
   },
   {
    "duration": 5,
    "start_time": "2024-03-17T09:06:14.798Z"
   },
   {
    "duration": 1293,
    "start_time": "2024-03-17T09:06:56.303Z"
   },
   {
    "duration": 2,
    "start_time": "2024-03-17T09:06:57.598Z"
   },
   {
    "duration": 571,
    "start_time": "2024-03-17T09:06:57.602Z"
   },
   {
    "duration": 29,
    "start_time": "2024-03-17T09:06:58.175Z"
   },
   {
    "duration": 90,
    "start_time": "2024-03-17T09:06:58.206Z"
   },
   {
    "duration": 59,
    "start_time": "2024-03-17T09:06:58.297Z"
   },
   {
    "duration": 62,
    "start_time": "2024-03-17T09:06:58.358Z"
   },
   {
    "duration": 98,
    "start_time": "2024-03-17T09:06:58.421Z"
   },
   {
    "duration": 754,
    "start_time": "2024-03-17T09:06:58.520Z"
   },
   {
    "duration": 8604,
    "start_time": "2024-03-17T09:06:59.275Z"
   },
   {
    "duration": 7,
    "start_time": "2024-03-17T09:07:07.880Z"
   },
   {
    "duration": 115,
    "start_time": "2024-03-17T09:07:07.889Z"
   },
   {
    "duration": 3,
    "start_time": "2024-03-17T09:07:08.006Z"
   },
   {
    "duration": 138,
    "start_time": "2024-03-17T09:07:08.013Z"
   },
   {
    "duration": 8,
    "start_time": "2024-03-17T09:07:08.153Z"
   },
   {
    "duration": 200,
    "start_time": "2024-03-17T09:07:08.245Z"
   },
   {
    "duration": 98,
    "start_time": "2024-03-17T09:07:08.447Z"
   },
   {
    "duration": 5,
    "start_time": "2024-03-17T09:07:08.547Z"
   },
   {
    "duration": 110,
    "start_time": "2024-03-17T09:07:08.554Z"
   },
   {
    "duration": 30,
    "start_time": "2024-03-17T09:07:08.665Z"
   },
   {
    "duration": 38,
    "start_time": "2024-03-17T09:07:08.696Z"
   },
   {
    "duration": 34,
    "start_time": "2024-03-17T09:07:08.735Z"
   },
   {
    "duration": 56,
    "start_time": "2024-03-17T09:07:08.770Z"
   },
   {
    "duration": 5,
    "start_time": "2024-03-17T09:07:08.828Z"
   },
   {
    "duration": 13,
    "start_time": "2024-03-17T09:07:08.834Z"
   },
   {
    "duration": 25,
    "start_time": "2024-03-17T09:07:08.848Z"
   },
   {
    "duration": 11,
    "start_time": "2024-03-17T09:07:08.875Z"
   },
   {
    "duration": 28,
    "start_time": "2024-03-17T09:07:08.887Z"
   },
   {
    "duration": 3093,
    "start_time": "2024-03-17T09:07:08.916Z"
   },
   {
    "duration": 112,
    "start_time": "2024-03-17T09:10:29.951Z"
   },
   {
    "duration": 5,
    "start_time": "2024-03-17T09:11:22.827Z"
   },
   {
    "duration": 8,
    "start_time": "2024-03-17T09:11:22.834Z"
   },
   {
    "duration": 534,
    "start_time": "2024-03-17T09:11:22.844Z"
   },
   {
    "duration": 26,
    "start_time": "2024-03-17T09:11:23.380Z"
   },
   {
    "duration": 89,
    "start_time": "2024-03-17T09:11:23.408Z"
   },
   {
    "duration": 58,
    "start_time": "2024-03-17T09:11:23.498Z"
   },
   {
    "duration": 56,
    "start_time": "2024-03-17T09:11:23.557Z"
   },
   {
    "duration": 80,
    "start_time": "2024-03-17T09:11:23.615Z"
   },
   {
    "duration": 720,
    "start_time": "2024-03-17T09:11:23.697Z"
   },
   {
    "duration": 8447,
    "start_time": "2024-03-17T09:11:24.418Z"
   },
   {
    "duration": 9,
    "start_time": "2024-03-17T09:11:32.867Z"
   },
   {
    "duration": 113,
    "start_time": "2024-03-17T09:11:32.878Z"
   },
   {
    "duration": 4,
    "start_time": "2024-03-17T09:11:32.992Z"
   },
   {
    "duration": 156,
    "start_time": "2024-03-17T09:11:32.998Z"
   },
   {
    "duration": 21,
    "start_time": "2024-03-17T09:11:56.032Z"
   },
   {
    "duration": 5,
    "start_time": "2024-03-17T09:12:07.963Z"
   },
   {
    "duration": 26,
    "start_time": "2024-03-17T09:12:07.970Z"
   },
   {
    "duration": 564,
    "start_time": "2024-03-17T09:12:07.998Z"
   },
   {
    "duration": 28,
    "start_time": "2024-03-17T09:12:08.564Z"
   },
   {
    "duration": 82,
    "start_time": "2024-03-17T09:12:08.594Z"
   },
   {
    "duration": 55,
    "start_time": "2024-03-17T09:12:08.678Z"
   },
   {
    "duration": 70,
    "start_time": "2024-03-17T09:12:08.745Z"
   },
   {
    "duration": 102,
    "start_time": "2024-03-17T09:12:08.816Z"
   },
   {
    "duration": 814,
    "start_time": "2024-03-17T09:12:08.920Z"
   },
   {
    "duration": 8376,
    "start_time": "2024-03-17T09:12:09.735Z"
   },
   {
    "duration": 9,
    "start_time": "2024-03-17T09:12:18.113Z"
   },
   {
    "duration": 111,
    "start_time": "2024-03-17T09:12:18.124Z"
   },
   {
    "duration": 8,
    "start_time": "2024-03-17T09:12:18.238Z"
   },
   {
    "duration": 205,
    "start_time": "2024-03-17T09:12:18.250Z"
   },
   {
    "duration": 6,
    "start_time": "2024-03-17T09:12:58.049Z"
   },
   {
    "duration": 152,
    "start_time": "2024-03-17T09:13:37.610Z"
   },
   {
    "duration": 67,
    "start_time": "2024-03-17T09:14:16.386Z"
   },
   {
    "duration": 4,
    "start_time": "2024-03-17T09:15:50.733Z"
   },
   {
    "duration": 14,
    "start_time": "2024-03-17T09:15:50.739Z"
   },
   {
    "duration": 519,
    "start_time": "2024-03-17T09:15:50.755Z"
   },
   {
    "duration": 27,
    "start_time": "2024-03-17T09:15:51.275Z"
   },
   {
    "duration": 94,
    "start_time": "2024-03-17T09:15:51.305Z"
   },
   {
    "duration": 75,
    "start_time": "2024-03-17T09:15:51.401Z"
   },
   {
    "duration": 87,
    "start_time": "2024-03-17T09:15:51.478Z"
   },
   {
    "duration": 89,
    "start_time": "2024-03-17T09:15:51.567Z"
   },
   {
    "duration": 766,
    "start_time": "2024-03-17T09:15:51.658Z"
   },
   {
    "duration": 8653,
    "start_time": "2024-03-17T09:15:52.425Z"
   },
   {
    "duration": 10,
    "start_time": "2024-03-17T09:16:01.079Z"
   },
   {
    "duration": 215,
    "start_time": "2024-03-17T09:16:01.091Z"
   },
   {
    "duration": 4,
    "start_time": "2024-03-17T09:16:01.308Z"
   },
   {
    "duration": 240,
    "start_time": "2024-03-17T09:16:01.314Z"
   },
   {
    "duration": 6,
    "start_time": "2024-03-17T09:16:01.556Z"
   },
   {
    "duration": 184,
    "start_time": "2024-03-17T09:16:01.563Z"
   },
   {
    "duration": 8,
    "start_time": "2024-03-17T09:16:01.749Z"
   },
   {
    "duration": 107,
    "start_time": "2024-03-17T09:16:01.846Z"
   },
   {
    "duration": 109,
    "start_time": "2024-03-17T09:16:01.956Z"
   },
   {
    "duration": 75,
    "start_time": "2024-03-17T09:16:02.066Z"
   },
   {
    "duration": 115,
    "start_time": "2024-03-17T09:16:02.143Z"
   },
   {
    "duration": 53,
    "start_time": "2024-03-17T09:16:02.259Z"
   },
   {
    "duration": 45,
    "start_time": "2024-03-17T09:16:02.314Z"
   },
   {
    "duration": 59,
    "start_time": "2024-03-17T09:16:02.360Z"
   },
   {
    "duration": 49,
    "start_time": "2024-03-17T09:16:02.421Z"
   },
   {
    "duration": 5,
    "start_time": "2024-03-17T09:16:02.471Z"
   },
   {
    "duration": 2992,
    "start_time": "2024-03-17T09:16:16.387Z"
   },
   {
    "duration": 5,
    "start_time": "2024-03-17T09:18:23.396Z"
   },
   {
    "duration": 5,
    "start_time": "2024-03-17T09:18:31.908Z"
   },
   {
    "duration": 3845,
    "start_time": "2024-03-17T09:19:51.605Z"
   },
   {
    "duration": 2969,
    "start_time": "2024-03-17T09:22:17.951Z"
   },
   {
    "duration": 2,
    "start_time": "2024-03-17T09:22:28.814Z"
   },
   {
    "duration": 4,
    "start_time": "2024-03-17T09:22:48.895Z"
   },
   {
    "duration": 4077,
    "start_time": "2024-03-17T09:25:36.537Z"
   },
   {
    "duration": 4386,
    "start_time": "2024-03-17T09:26:31.233Z"
   },
   {
    "duration": 3868,
    "start_time": "2024-03-17T09:27:53.547Z"
   },
   {
    "duration": 4825,
    "start_time": "2024-03-17T09:28:16.290Z"
   },
   {
    "duration": 4610,
    "start_time": "2024-03-17T09:28:37.635Z"
   },
   {
    "duration": 4932,
    "start_time": "2024-03-17T09:29:14.243Z"
   },
   {
    "duration": 4,
    "start_time": "2024-03-17T09:33:22.368Z"
   },
   {
    "duration": 14,
    "start_time": "2024-03-17T09:33:22.374Z"
   },
   {
    "duration": 500,
    "start_time": "2024-03-17T09:33:22.389Z"
   },
   {
    "duration": 23,
    "start_time": "2024-03-17T09:33:22.891Z"
   },
   {
    "duration": 71,
    "start_time": "2024-03-17T09:33:22.916Z"
   },
   {
    "duration": 58,
    "start_time": "2024-03-17T09:33:22.989Z"
   },
   {
    "duration": 63,
    "start_time": "2024-03-17T09:33:23.049Z"
   },
   {
    "duration": 87,
    "start_time": "2024-03-17T09:33:23.114Z"
   },
   {
    "duration": 836,
    "start_time": "2024-03-17T09:33:23.203Z"
   },
   {
    "duration": 8244,
    "start_time": "2024-03-17T09:33:24.040Z"
   },
   {
    "duration": 10,
    "start_time": "2024-03-17T09:33:32.286Z"
   },
   {
    "duration": 140,
    "start_time": "2024-03-17T09:33:32.298Z"
   },
   {
    "duration": 7,
    "start_time": "2024-03-17T09:33:32.439Z"
   },
   {
    "duration": 102,
    "start_time": "2024-03-17T09:33:32.449Z"
   },
   {
    "duration": 96,
    "start_time": "2024-03-17T09:33:32.554Z"
   },
   {
    "duration": 202,
    "start_time": "2024-03-17T09:33:32.651Z"
   },
   {
    "duration": 6,
    "start_time": "2024-03-17T09:33:32.854Z"
   },
   {
    "duration": 197,
    "start_time": "2024-03-17T09:33:32.861Z"
   },
   {
    "duration": 6,
    "start_time": "2024-03-17T09:33:33.060Z"
   },
   {
    "duration": 30,
    "start_time": "2024-03-17T09:33:33.068Z"
   },
   {
    "duration": 25,
    "start_time": "2024-03-17T09:33:33.100Z"
   },
   {
    "duration": 5,
    "start_time": "2024-03-17T09:33:33.127Z"
   },
   {
    "duration": 9,
    "start_time": "2024-03-17T09:33:33.133Z"
   },
   {
    "duration": 12,
    "start_time": "2024-03-17T09:33:33.144Z"
   },
   {
    "duration": 39,
    "start_time": "2024-03-17T09:33:33.158Z"
   },
   {
    "duration": 4,
    "start_time": "2024-03-17T09:33:33.199Z"
   },
   {
    "duration": 54,
    "start_time": "2024-03-17T09:33:33.204Z"
   },
   {
    "duration": 4706,
    "start_time": "2024-03-17T09:33:38.095Z"
   },
   {
    "duration": 2911,
    "start_time": "2024-03-17T09:33:55.798Z"
   },
   {
    "duration": 4,
    "start_time": "2024-03-17T09:34:00.382Z"
   },
   {
    "duration": 3,
    "start_time": "2024-03-17T09:34:04.566Z"
   },
   {
    "duration": 9,
    "start_time": "2024-03-17T09:34:06.374Z"
   },
   {
    "duration": 2861,
    "start_time": "2024-03-17T09:35:12.415Z"
   },
   {
    "duration": 23,
    "start_time": "2024-03-17T09:36:09.792Z"
   },
   {
    "duration": 1654,
    "start_time": "2024-03-17T09:37:40.464Z"
   },
   {
    "duration": 1659,
    "start_time": "2024-03-17T09:38:18.777Z"
   },
   {
    "duration": 53,
    "start_time": "2024-03-17T09:40:47.090Z"
   },
   {
    "duration": 5,
    "start_time": "2024-03-17T09:40:54.040Z"
   },
   {
    "duration": 12,
    "start_time": "2024-03-17T09:40:54.047Z"
   },
   {
    "duration": 527,
    "start_time": "2024-03-17T09:40:54.060Z"
   },
   {
    "duration": 24,
    "start_time": "2024-03-17T09:40:54.589Z"
   },
   {
    "duration": 76,
    "start_time": "2024-03-17T09:40:54.615Z"
   },
   {
    "duration": 61,
    "start_time": "2024-03-17T09:40:54.692Z"
   },
   {
    "duration": 64,
    "start_time": "2024-03-17T09:40:54.754Z"
   },
   {
    "duration": 82,
    "start_time": "2024-03-17T09:40:54.820Z"
   },
   {
    "duration": 844,
    "start_time": "2024-03-17T09:40:54.904Z"
   },
   {
    "duration": 8343,
    "start_time": "2024-03-17T09:40:55.749Z"
   },
   {
    "duration": 9,
    "start_time": "2024-03-17T09:41:04.094Z"
   },
   {
    "duration": 118,
    "start_time": "2024-03-17T09:41:04.104Z"
   },
   {
    "duration": 4,
    "start_time": "2024-03-17T09:41:04.223Z"
   },
   {
    "duration": 118,
    "start_time": "2024-03-17T09:41:04.229Z"
   },
   {
    "duration": 7,
    "start_time": "2024-03-17T09:41:04.349Z"
   },
   {
    "duration": 289,
    "start_time": "2024-03-17T09:41:04.358Z"
   },
   {
    "duration": 6,
    "start_time": "2024-03-17T09:41:04.648Z"
   },
   {
    "duration": 103,
    "start_time": "2024-03-17T09:41:04.655Z"
   },
   {
    "duration": 88,
    "start_time": "2024-03-17T09:41:04.759Z"
   },
   {
    "duration": 3,
    "start_time": "2024-03-17T09:41:04.849Z"
   },
   {
    "duration": 5,
    "start_time": "2024-03-17T09:41:04.853Z"
   },
   {
    "duration": 5,
    "start_time": "2024-03-17T09:41:04.859Z"
   },
   {
    "duration": 5,
    "start_time": "2024-03-17T09:41:04.865Z"
   },
   {
    "duration": 5,
    "start_time": "2024-03-17T09:41:04.871Z"
   },
   {
    "duration": 30,
    "start_time": "2024-03-17T09:41:04.878Z"
   },
   {
    "duration": 2914,
    "start_time": "2024-03-17T09:41:04.910Z"
   },
   {
    "duration": 1649,
    "start_time": "2024-03-17T09:41:07.826Z"
   },
   {
    "duration": 1635,
    "start_time": "2024-03-17T09:41:09.476Z"
   },
   {
    "duration": 13,
    "start_time": "2024-03-17T09:41:11.113Z"
   },
   {
    "duration": 3,
    "start_time": "2024-03-17T09:43:05.348Z"
   },
   {
    "duration": 2832,
    "start_time": "2024-03-17T09:44:05.973Z"
   },
   {
    "duration": 1599,
    "start_time": "2024-03-17T09:44:21.437Z"
   },
   {
    "duration": 2926,
    "start_time": "2024-03-17T09:44:56.326Z"
   },
   {
    "duration": 1582,
    "start_time": "2024-03-17T09:45:02.534Z"
   },
   {
    "duration": 1638,
    "start_time": "2024-03-17T09:45:23.054Z"
   },
   {
    "duration": 1592,
    "start_time": "2024-03-17T09:45:39.343Z"
   },
   {
    "duration": 2762,
    "start_time": "2024-03-17T09:53:23.471Z"
   },
   {
    "duration": 1620,
    "start_time": "2024-03-17T09:53:27.964Z"
   },
   {
    "duration": 1613,
    "start_time": "2024-03-17T09:53:59.640Z"
   },
   {
    "duration": 4,
    "start_time": "2024-03-17T09:54:03.959Z"
   },
   {
    "duration": 1610,
    "start_time": "2024-03-17T09:54:18.936Z"
   },
   {
    "duration": 14,
    "start_time": "2024-03-17T09:54:20.944Z"
   },
   {
    "duration": 3,
    "start_time": "2024-03-17T09:54:28.076Z"
   },
   {
    "duration": 8,
    "start_time": "2024-03-17T09:54:28.081Z"
   },
   {
    "duration": 504,
    "start_time": "2024-03-17T09:54:28.090Z"
   },
   {
    "duration": 22,
    "start_time": "2024-03-17T09:54:28.596Z"
   },
   {
    "duration": 71,
    "start_time": "2024-03-17T09:54:28.620Z"
   },
   {
    "duration": 55,
    "start_time": "2024-03-17T09:54:28.692Z"
   },
   {
    "duration": 53,
    "start_time": "2024-03-17T09:54:28.748Z"
   },
   {
    "duration": 81,
    "start_time": "2024-03-17T09:54:28.802Z"
   },
   {
    "duration": 840,
    "start_time": "2024-03-17T09:54:28.884Z"
   },
   {
    "duration": 8291,
    "start_time": "2024-03-17T09:54:29.725Z"
   },
   {
    "duration": 10,
    "start_time": "2024-03-17T09:54:38.017Z"
   },
   {
    "duration": 124,
    "start_time": "2024-03-17T09:54:38.028Z"
   },
   {
    "duration": 4,
    "start_time": "2024-03-17T09:54:38.153Z"
   },
   {
    "duration": 192,
    "start_time": "2024-03-17T09:54:38.159Z"
   },
   {
    "duration": 6,
    "start_time": "2024-03-17T09:54:38.353Z"
   },
   {
    "duration": 185,
    "start_time": "2024-03-17T09:54:38.361Z"
   },
   {
    "duration": 8,
    "start_time": "2024-03-17T09:54:38.547Z"
   },
   {
    "duration": 194,
    "start_time": "2024-03-17T09:54:38.556Z"
   },
   {
    "duration": 21,
    "start_time": "2024-03-17T09:54:38.751Z"
   },
   {
    "duration": 20,
    "start_time": "2024-03-17T09:54:38.774Z"
   },
   {
    "duration": 35,
    "start_time": "2024-03-17T09:54:38.795Z"
   },
   {
    "duration": 27,
    "start_time": "2024-03-17T09:54:38.832Z"
   },
   {
    "duration": 27,
    "start_time": "2024-03-17T09:54:38.860Z"
   },
   {
    "duration": 49,
    "start_time": "2024-03-17T09:54:38.888Z"
   },
   {
    "duration": 56,
    "start_time": "2024-03-17T09:54:38.939Z"
   },
   {
    "duration": 2861,
    "start_time": "2024-03-17T09:54:38.997Z"
   },
   {
    "duration": 1577,
    "start_time": "2024-03-17T09:54:41.859Z"
   },
   {
    "duration": 1562,
    "start_time": "2024-03-17T09:54:43.438Z"
   },
   {
    "duration": 1690,
    "start_time": "2024-03-17T09:55:19.280Z"
   },
   {
    "duration": 1701,
    "start_time": "2024-03-17T09:55:22.489Z"
   },
   {
    "duration": 4,
    "start_time": "2024-03-17T09:55:29.884Z"
   },
   {
    "duration": 11,
    "start_time": "2024-03-17T09:55:29.890Z"
   },
   {
    "duration": 510,
    "start_time": "2024-03-17T09:55:29.902Z"
   },
   {
    "duration": 35,
    "start_time": "2024-03-17T09:55:30.414Z"
   },
   {
    "duration": 71,
    "start_time": "2024-03-17T09:55:30.450Z"
   },
   {
    "duration": 54,
    "start_time": "2024-03-17T09:55:30.522Z"
   },
   {
    "duration": 70,
    "start_time": "2024-03-17T09:55:30.578Z"
   },
   {
    "duration": 82,
    "start_time": "2024-03-17T09:55:30.649Z"
   },
   {
    "duration": 726,
    "start_time": "2024-03-17T09:55:30.733Z"
   },
   {
    "duration": 8097,
    "start_time": "2024-03-17T09:55:31.460Z"
   },
   {
    "duration": 9,
    "start_time": "2024-03-17T09:55:39.559Z"
   },
   {
    "duration": 110,
    "start_time": "2024-03-17T09:55:39.570Z"
   },
   {
    "duration": 3,
    "start_time": "2024-03-17T09:55:39.682Z"
   },
   {
    "duration": 159,
    "start_time": "2024-03-17T09:55:39.687Z"
   },
   {
    "duration": 5,
    "start_time": "2024-03-17T09:55:39.847Z"
   },
   {
    "duration": 100,
    "start_time": "2024-03-17T09:55:39.853Z"
   },
   {
    "duration": 91,
    "start_time": "2024-03-17T09:55:39.955Z"
   },
   {
    "duration": 198,
    "start_time": "2024-03-17T09:55:40.048Z"
   },
   {
    "duration": 4,
    "start_time": "2024-03-17T09:55:40.248Z"
   },
   {
    "duration": 7,
    "start_time": "2024-03-17T09:55:40.254Z"
   },
   {
    "duration": 18,
    "start_time": "2024-03-17T09:55:40.262Z"
   },
   {
    "duration": 3,
    "start_time": "2024-03-17T09:55:40.281Z"
   },
   {
    "duration": 4,
    "start_time": "2024-03-17T09:55:40.285Z"
   },
   {
    "duration": 16,
    "start_time": "2024-03-17T09:55:40.290Z"
   },
   {
    "duration": 40,
    "start_time": "2024-03-17T09:55:40.307Z"
   },
   {
    "duration": 2921,
    "start_time": "2024-03-17T09:55:40.348Z"
   },
   {
    "duration": 1645,
    "start_time": "2024-03-17T09:55:43.271Z"
   },
   {
    "duration": 1619,
    "start_time": "2024-03-17T09:55:44.919Z"
   },
   {
    "duration": 14,
    "start_time": "2024-03-17T09:55:50.481Z"
   },
   {
    "duration": 5,
    "start_time": "2024-03-17T10:02:03.080Z"
   },
   {
    "duration": 258,
    "start_time": "2024-03-17T10:02:03.086Z"
   },
   {
    "duration": 518,
    "start_time": "2024-03-17T10:02:03.345Z"
   },
   {
    "duration": 25,
    "start_time": "2024-03-17T10:02:03.864Z"
   },
   {
    "duration": 75,
    "start_time": "2024-03-17T10:02:03.890Z"
   },
   {
    "duration": 50,
    "start_time": "2024-03-17T10:02:03.967Z"
   },
   {
    "duration": 67,
    "start_time": "2024-03-17T10:02:04.018Z"
   },
   {
    "duration": 78,
    "start_time": "2024-03-17T10:02:04.086Z"
   },
   {
    "duration": 739,
    "start_time": "2024-03-17T10:02:04.165Z"
   },
   {
    "duration": 8468,
    "start_time": "2024-03-17T10:02:04.905Z"
   },
   {
    "duration": 10,
    "start_time": "2024-03-17T10:02:13.374Z"
   },
   {
    "duration": 142,
    "start_time": "2024-03-17T10:02:13.385Z"
   },
   {
    "duration": 3,
    "start_time": "2024-03-17T10:02:13.529Z"
   },
   {
    "duration": 112,
    "start_time": "2024-03-17T10:02:13.535Z"
   },
   {
    "duration": 97,
    "start_time": "2024-03-17T10:02:13.649Z"
   },
   {
    "duration": 105,
    "start_time": "2024-03-17T10:02:13.748Z"
   },
   {
    "duration": 92,
    "start_time": "2024-03-17T10:02:13.855Z"
   },
   {
    "duration": 198,
    "start_time": "2024-03-17T10:02:13.948Z"
   },
   {
    "duration": 6,
    "start_time": "2024-03-17T10:02:14.147Z"
   },
   {
    "duration": 3,
    "start_time": "2024-03-17T10:02:14.155Z"
   },
   {
    "duration": 4,
    "start_time": "2024-03-17T10:02:14.159Z"
   },
   {
    "duration": 4,
    "start_time": "2024-03-17T10:02:14.164Z"
   },
   {
    "duration": 5,
    "start_time": "2024-03-17T10:02:14.169Z"
   },
   {
    "duration": 6,
    "start_time": "2024-03-17T10:02:14.175Z"
   },
   {
    "duration": 30,
    "start_time": "2024-03-17T10:02:14.182Z"
   },
   {
    "duration": 3022,
    "start_time": "2024-03-17T10:02:14.213Z"
   },
   {
    "duration": 1671,
    "start_time": "2024-03-17T10:02:17.237Z"
   },
   {
    "duration": 1637,
    "start_time": "2024-03-17T10:02:18.909Z"
   },
   {
    "duration": 14,
    "start_time": "2024-03-17T10:02:20.547Z"
   },
   {
    "duration": 1619,
    "start_time": "2024-03-17T11:46:21.952Z"
   },
   {
    "duration": 3,
    "start_time": "2024-03-17T11:46:23.573Z"
   },
   {
    "duration": 1776,
    "start_time": "2024-03-17T11:46:23.577Z"
   },
   {
    "duration": 29,
    "start_time": "2024-03-17T11:46:25.355Z"
   },
   {
    "duration": 79,
    "start_time": "2024-03-17T11:46:25.385Z"
   },
   {
    "duration": 77,
    "start_time": "2024-03-17T11:46:25.466Z"
   },
   {
    "duration": 81,
    "start_time": "2024-03-17T11:46:25.545Z"
   },
   {
    "duration": 90,
    "start_time": "2024-03-17T11:46:25.628Z"
   },
   {
    "duration": 838,
    "start_time": "2024-03-17T11:46:25.719Z"
   },
   {
    "duration": 8263,
    "start_time": "2024-03-17T11:46:26.560Z"
   },
   {
    "duration": 7,
    "start_time": "2024-03-17T11:46:34.824Z"
   },
   {
    "duration": 106,
    "start_time": "2024-03-17T11:46:34.832Z"
   },
   {
    "duration": 3,
    "start_time": "2024-03-17T11:46:34.939Z"
   },
   {
    "duration": 227,
    "start_time": "2024-03-17T11:46:34.944Z"
   },
   {
    "duration": 90,
    "start_time": "2024-03-17T11:46:35.173Z"
   },
   {
    "duration": 104,
    "start_time": "2024-03-17T11:46:35.264Z"
   },
   {
    "duration": 7,
    "start_time": "2024-03-17T11:46:35.460Z"
   },
   {
    "duration": 191,
    "start_time": "2024-03-17T11:46:35.469Z"
   },
   {
    "duration": 6,
    "start_time": "2024-03-17T11:46:35.661Z"
   },
   {
    "duration": 6,
    "start_time": "2024-03-17T11:46:35.668Z"
   },
   {
    "duration": 5,
    "start_time": "2024-03-17T11:46:35.675Z"
   },
   {
    "duration": 4,
    "start_time": "2024-03-17T11:46:35.681Z"
   },
   {
    "duration": 7,
    "start_time": "2024-03-17T11:46:35.687Z"
   },
   {
    "duration": 4,
    "start_time": "2024-03-17T11:46:35.696Z"
   },
   {
    "duration": 69,
    "start_time": "2024-03-17T11:46:35.702Z"
   },
   {
    "duration": 2954,
    "start_time": "2024-03-17T11:46:35.772Z"
   },
   {
    "duration": 1768,
    "start_time": "2024-03-17T11:46:38.727Z"
   },
   {
    "duration": 1848,
    "start_time": "2024-03-17T11:46:40.497Z"
   },
   {
    "duration": 49,
    "start_time": "2024-03-17T11:46:42.346Z"
   }
  ],
  "kernelspec": {
   "display_name": "Python 3 (ipykernel)",
   "language": "python",
   "name": "python3"
  },
  "language_info": {
   "codemirror_mode": {
    "name": "ipython",
    "version": 3
   },
   "file_extension": ".py",
   "mimetype": "text/x-python",
   "name": "python",
   "nbconvert_exporter": "python",
   "pygments_lexer": "ipython3",
   "version": "3.9.5"
  },
  "toc": {
   "base_numbering": 1,
   "nav_menu": {},
   "number_sections": false,
   "sideBar": true,
   "skip_h1_title": true,
   "title_cell": "Table of Contents",
   "title_sidebar": "Contents",
   "toc_cell": false,
   "toc_position": {},
   "toc_section_display": true,
   "toc_window_display": false
  }
 },
 "nbformat": 4,
 "nbformat_minor": 2
}
