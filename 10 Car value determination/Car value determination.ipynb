{
 "cells": [
  {
   "cell_type": "markdown",
   "metadata": {},
   "source": [
    "# Определение стоимости автомобилей"
   ]
  },
  {
   "cell_type": "markdown",
   "metadata": {},
   "source": [
    "Сервис по продаже автомобилей с пробегом «Не бит, не крашен» разрабатывает приложение для привлечения новых клиентов. В нём можно быстро узнать рыночную стоимость своего автомобиля. В вашем распоряжении исторические данные: технические характеристики, комплектации и цены автомобилей. Вам нужно построить модель для определения стоимости. \n",
    "\n",
    "Заказчику важны:\n",
    "\n",
    "- качество предсказания;\n",
    "- скорость предсказания;\n",
    "- время обучения.\n",
    "\n",
    "Признаки\n",
    "\n",
    "* DateCrawled — дата скачивания анкеты из базы\n",
    "* VehicleType — тип автомобильного кузова\n",
    "* RegistrationYear — год регистрации автомобиля\n",
    "* Gearbox — тип коробки передач\n",
    "* Power — мощность (л. с.)\n",
    "* Model — модель автомобиля\n",
    "* Kilometer — пробег (км)\n",
    "* RegistrationMonth — месяц регистрации автомобиля\n",
    "* FuelType — тип топлива\n",
    "* Brand — марка автомобиля\n",
    "* NotRepaired — была машина в ремонте или нет\n",
    "* DateCreated — дата создания анкеты\n",
    "* NumberOfPictures — количество фотографий автомобиля\n",
    "* PostalCode — почтовый индекс владельца анкеты (пользователя)\n",
    "* LastSeen — дата последней активности пользователя\n",
    "\n",
    "Целевой признак\n",
    "\n",
    "Price — цена (евро)"
   ]
  },
  {
   "cell_type": "markdown",
   "metadata": {},
   "source": [
    "## Подготовка данных"
   ]
  },
  {
   "cell_type": "code",
   "execution_count": 1,
   "metadata": {},
   "outputs": [
    {
     "name": "stdout",
     "output_type": "stream",
     "text": [
      "Requirement already satisfied: scikit-learn==1.1.3 in /opt/conda/lib/python3.9/site-packages (1.1.3)\r\n",
      "Requirement already satisfied: threadpoolctl>=2.0.0 in /opt/conda/lib/python3.9/site-packages (from scikit-learn==1.1.3) (3.1.0)\r\n",
      "Requirement already satisfied: numpy>=1.17.3 in /opt/conda/lib/python3.9/site-packages (from scikit-learn==1.1.3) (1.21.1)\r\n",
      "Requirement already satisfied: scipy>=1.3.2 in /opt/conda/lib/python3.9/site-packages (from scikit-learn==1.1.3) (1.9.1)\r\n",
      "Requirement already satisfied: joblib>=1.0.0 in /opt/conda/lib/python3.9/site-packages (from scikit-learn==1.1.3) (1.1.0)\r\n"
     ]
    }
   ],
   "source": [
    "!pip install scikit-learn==1.1.3"
   ]
  },
  {
   "cell_type": "code",
   "execution_count": 2,
   "metadata": {},
   "outputs": [],
   "source": [
    "# импорты сторонних библиотек\n",
    "import pandas as pd\n",
    "import numpy as np\n",
    "\n",
    "# импорты из стандартной библиотеки\n",
    "import warnings\n",
    "\n",
    "import matplotlib.pyplot as plt\n",
    "\n",
    "from sklearn.preprocessing import (\n",
    "    OneHotEncoder,\n",
    "    OrdinalEncoder,\n",
    "    StandardScaler\n",
    ")\n",
    "\n",
    "from sklearn.compose import make_column_transformer\n",
    "from sklearn.metrics import mean_squared_error\n",
    "from sklearn.model_selection import (\n",
    "    GridSearchCV,\n",
    "    RandomizedSearchCV,\n",
    "    train_test_split\n",
    ")\n",
    "from sklearn.pipeline import make_pipeline\n",
    "from sklearn.linear_model import LinearRegression\n",
    "from catboost import CatBoostRegressor\n",
    "from sklearn.tree import DecisionTreeRegressor\n",
    "from sklearn.ensemble import RandomForestRegressor\n",
    "from lightgbm import LGBMRegressor\n",
    "\n",
    "import time\n",
    "from IPython.display import display\n",
    "pd.set_option('display.max_columns', 100)\n",
    "pd.set_option('display.max_rows', 100)\n",
    "import warnings\n",
    "warnings.filterwarnings('ignore')\n",
    "\n",
    "# константы заглавными буквами\n",
    "RANDOM_STATE = 42"
   ]
  },
  {
   "cell_type": "code",
   "execution_count": 3,
   "metadata": {},
   "outputs": [
    {
     "name": "stdout",
     "output_type": "stream",
     "text": [
      "<class 'pandas.core.frame.DataFrame'>\n",
      "RangeIndex: 354369 entries, 0 to 354368\n",
      "Data columns (total 16 columns):\n",
      " #   Column             Non-Null Count   Dtype \n",
      "---  ------             --------------   ----- \n",
      " 0   DateCrawled        354369 non-null  object\n",
      " 1   Price              354369 non-null  int64 \n",
      " 2   VehicleType        316879 non-null  object\n",
      " 3   RegistrationYear   354369 non-null  int64 \n",
      " 4   Gearbox            334536 non-null  object\n",
      " 5   Power              354369 non-null  int64 \n",
      " 6   Model              334664 non-null  object\n",
      " 7   Kilometer          354369 non-null  int64 \n",
      " 8   RegistrationMonth  354369 non-null  int64 \n",
      " 9   FuelType           321474 non-null  object\n",
      " 10  Brand              354369 non-null  object\n",
      " 11  Repaired           283215 non-null  object\n",
      " 12  DateCreated        354369 non-null  object\n",
      " 13  NumberOfPictures   354369 non-null  int64 \n",
      " 14  PostalCode         354369 non-null  int64 \n",
      " 15  LastSeen           354369 non-null  object\n",
      "dtypes: int64(7), object(9)\n",
      "memory usage: 43.3+ MB\n"
     ]
    }
   ],
   "source": [
    "df = pd.read_csv('/datasets/autos.csv')\n",
    "df.info()"
   ]
  },
  {
   "cell_type": "markdown",
   "metadata": {},
   "source": [
    "16 колонок и 354369 строк. В данных есть пропуски. Посмотрим первые 5 строк в таблице"
   ]
  },
  {
   "cell_type": "code",
   "execution_count": 4,
   "metadata": {},
   "outputs": [
    {
     "data": {
      "text/html": [
       "<div>\n",
       "<style scoped>\n",
       "    .dataframe tbody tr th:only-of-type {\n",
       "        vertical-align: middle;\n",
       "    }\n",
       "\n",
       "    .dataframe tbody tr th {\n",
       "        vertical-align: top;\n",
       "    }\n",
       "\n",
       "    .dataframe thead th {\n",
       "        text-align: right;\n",
       "    }\n",
       "</style>\n",
       "<table border=\"1\" class=\"dataframe\">\n",
       "  <thead>\n",
       "    <tr style=\"text-align: right;\">\n",
       "      <th></th>\n",
       "      <th>DateCrawled</th>\n",
       "      <th>Price</th>\n",
       "      <th>VehicleType</th>\n",
       "      <th>RegistrationYear</th>\n",
       "      <th>Gearbox</th>\n",
       "      <th>Power</th>\n",
       "      <th>Model</th>\n",
       "      <th>Kilometer</th>\n",
       "      <th>RegistrationMonth</th>\n",
       "      <th>FuelType</th>\n",
       "      <th>Brand</th>\n",
       "      <th>Repaired</th>\n",
       "      <th>DateCreated</th>\n",
       "      <th>NumberOfPictures</th>\n",
       "      <th>PostalCode</th>\n",
       "      <th>LastSeen</th>\n",
       "    </tr>\n",
       "  </thead>\n",
       "  <tbody>\n",
       "    <tr>\n",
       "      <th>0</th>\n",
       "      <td>2016-03-24 11:52:17</td>\n",
       "      <td>480</td>\n",
       "      <td>NaN</td>\n",
       "      <td>1993</td>\n",
       "      <td>manual</td>\n",
       "      <td>0</td>\n",
       "      <td>golf</td>\n",
       "      <td>150000</td>\n",
       "      <td>0</td>\n",
       "      <td>petrol</td>\n",
       "      <td>volkswagen</td>\n",
       "      <td>NaN</td>\n",
       "      <td>2016-03-24 00:00:00</td>\n",
       "      <td>0</td>\n",
       "      <td>70435</td>\n",
       "      <td>2016-04-07 03:16:57</td>\n",
       "    </tr>\n",
       "    <tr>\n",
       "      <th>1</th>\n",
       "      <td>2016-03-24 10:58:45</td>\n",
       "      <td>18300</td>\n",
       "      <td>coupe</td>\n",
       "      <td>2011</td>\n",
       "      <td>manual</td>\n",
       "      <td>190</td>\n",
       "      <td>NaN</td>\n",
       "      <td>125000</td>\n",
       "      <td>5</td>\n",
       "      <td>gasoline</td>\n",
       "      <td>audi</td>\n",
       "      <td>yes</td>\n",
       "      <td>2016-03-24 00:00:00</td>\n",
       "      <td>0</td>\n",
       "      <td>66954</td>\n",
       "      <td>2016-04-07 01:46:50</td>\n",
       "    </tr>\n",
       "    <tr>\n",
       "      <th>2</th>\n",
       "      <td>2016-03-14 12:52:21</td>\n",
       "      <td>9800</td>\n",
       "      <td>suv</td>\n",
       "      <td>2004</td>\n",
       "      <td>auto</td>\n",
       "      <td>163</td>\n",
       "      <td>grand</td>\n",
       "      <td>125000</td>\n",
       "      <td>8</td>\n",
       "      <td>gasoline</td>\n",
       "      <td>jeep</td>\n",
       "      <td>NaN</td>\n",
       "      <td>2016-03-14 00:00:00</td>\n",
       "      <td>0</td>\n",
       "      <td>90480</td>\n",
       "      <td>2016-04-05 12:47:46</td>\n",
       "    </tr>\n",
       "    <tr>\n",
       "      <th>3</th>\n",
       "      <td>2016-03-17 16:54:04</td>\n",
       "      <td>1500</td>\n",
       "      <td>small</td>\n",
       "      <td>2001</td>\n",
       "      <td>manual</td>\n",
       "      <td>75</td>\n",
       "      <td>golf</td>\n",
       "      <td>150000</td>\n",
       "      <td>6</td>\n",
       "      <td>petrol</td>\n",
       "      <td>volkswagen</td>\n",
       "      <td>no</td>\n",
       "      <td>2016-03-17 00:00:00</td>\n",
       "      <td>0</td>\n",
       "      <td>91074</td>\n",
       "      <td>2016-03-17 17:40:17</td>\n",
       "    </tr>\n",
       "    <tr>\n",
       "      <th>4</th>\n",
       "      <td>2016-03-31 17:25:20</td>\n",
       "      <td>3600</td>\n",
       "      <td>small</td>\n",
       "      <td>2008</td>\n",
       "      <td>manual</td>\n",
       "      <td>69</td>\n",
       "      <td>fabia</td>\n",
       "      <td>90000</td>\n",
       "      <td>7</td>\n",
       "      <td>gasoline</td>\n",
       "      <td>skoda</td>\n",
       "      <td>no</td>\n",
       "      <td>2016-03-31 00:00:00</td>\n",
       "      <td>0</td>\n",
       "      <td>60437</td>\n",
       "      <td>2016-04-06 10:17:21</td>\n",
       "    </tr>\n",
       "  </tbody>\n",
       "</table>\n",
       "</div>"
      ],
      "text/plain": [
       "           DateCrawled  Price VehicleType  RegistrationYear Gearbox  Power  \\\n",
       "0  2016-03-24 11:52:17    480         NaN              1993  manual      0   \n",
       "1  2016-03-24 10:58:45  18300       coupe              2011  manual    190   \n",
       "2  2016-03-14 12:52:21   9800         suv              2004    auto    163   \n",
       "3  2016-03-17 16:54:04   1500       small              2001  manual     75   \n",
       "4  2016-03-31 17:25:20   3600       small              2008  manual     69   \n",
       "\n",
       "   Model  Kilometer  RegistrationMonth  FuelType       Brand Repaired  \\\n",
       "0   golf     150000                  0    petrol  volkswagen      NaN   \n",
       "1    NaN     125000                  5  gasoline        audi      yes   \n",
       "2  grand     125000                  8  gasoline        jeep      NaN   \n",
       "3   golf     150000                  6    petrol  volkswagen       no   \n",
       "4  fabia      90000                  7  gasoline       skoda       no   \n",
       "\n",
       "           DateCreated  NumberOfPictures  PostalCode             LastSeen  \n",
       "0  2016-03-24 00:00:00                 0       70435  2016-04-07 03:16:57  \n",
       "1  2016-03-24 00:00:00                 0       66954  2016-04-07 01:46:50  \n",
       "2  2016-03-14 00:00:00                 0       90480  2016-04-05 12:47:46  \n",
       "3  2016-03-17 00:00:00                 0       91074  2016-03-17 17:40:17  \n",
       "4  2016-03-31 00:00:00                 0       60437  2016-04-06 10:17:21  "
      ]
     },
     "metadata": {},
     "output_type": "display_data"
    }
   ],
   "source": [
    "display(df.head())"
   ]
  },
  {
   "cell_type": "markdown",
   "metadata": {},
   "source": [
    "В данных есть количественные признаки, категориальные и колонки с датой.\n",
    "\n",
    "Посмотрим на пропуски в процентном соотношении"
   ]
  },
  {
   "cell_type": "code",
   "execution_count": 5,
   "metadata": {},
   "outputs": [
    {
     "name": "stdout",
     "output_type": "stream",
     "text": [
      "DateCrawled           0.000000\n",
      "Price                 0.000000\n",
      "VehicleType          10.579368\n",
      "RegistrationYear      0.000000\n",
      "Gearbox               5.596709\n",
      "Power                 0.000000\n",
      "Model                 5.560588\n",
      "Kilometer             0.000000\n",
      "RegistrationMonth     0.000000\n",
      "FuelType              9.282697\n",
      "Brand                 0.000000\n",
      "Repaired             20.079070\n",
      "DateCreated           0.000000\n",
      "NumberOfPictures      0.000000\n",
      "PostalCode            0.000000\n",
      "LastSeen              0.000000\n",
      "dtype: float64\n"
     ]
    }
   ],
   "source": [
    "print(df.isna().sum()/len(df)*100)"
   ]
  },
  {
   "cell_type": "markdown",
   "metadata": {},
   "source": [
    "Довольно много пропусков в колонках NotRepaired(20%), VehicleType(10.6%), FuelType(9.3%) и также немного пропусков в колонках Gearbox и Model (по 5.6%)"
   ]
  },
  {
   "cell_type": "markdown",
   "metadata": {},
   "source": [
    "Предобработка данных\n",
    "\n",
    "Проверим есть ли дубликаты"
   ]
  },
  {
   "cell_type": "code",
   "execution_count": 6,
   "metadata": {},
   "outputs": [
    {
     "name": "stdout",
     "output_type": "stream",
     "text": [
      "Количество дубликатов: 4\n"
     ]
    }
   ],
   "source": [
    "print ('Количество дубликатов:', sum(df.duplicated()))"
   ]
  },
  {
   "cell_type": "markdown",
   "metadata": {},
   "source": [
    "Всего 4 строки, удалим эти строки из данных"
   ]
  },
  {
   "cell_type": "code",
   "execution_count": 7,
   "metadata": {},
   "outputs": [
    {
     "name": "stdout",
     "output_type": "stream",
     "text": [
      "Количество дубликатов: 0\n"
     ]
    }
   ],
   "source": [
    "df=df.drop_duplicates()\n",
    "print ('Количество дубликатов:', sum(df.duplicated()))"
   ]
  },
  {
   "cell_type": "markdown",
   "metadata": {},
   "source": [
    "Дубликаты удалены.\n",
    "\n",
    "Проверим есть ли аномалии в категориальных признаках."
   ]
  },
  {
   "cell_type": "code",
   "execution_count": 8,
   "metadata": {},
   "outputs": [
    {
     "data": {
      "text/plain": [
       "array([nan, 'coupe', 'suv', 'small', 'sedan', 'convertible', 'bus',\n",
       "       'wagon', 'other'], dtype=object)"
      ]
     },
     "execution_count": 8,
     "metadata": {},
     "output_type": "execute_result"
    }
   ],
   "source": [
    "df['VehicleType'].unique()"
   ]
  },
  {
   "cell_type": "code",
   "execution_count": 9,
   "metadata": {},
   "outputs": [
    {
     "data": {
      "text/plain": [
       "array(['manual', 'auto', nan], dtype=object)"
      ]
     },
     "execution_count": 9,
     "metadata": {},
     "output_type": "execute_result"
    }
   ],
   "source": [
    "df['Gearbox'].unique()"
   ]
  },
  {
   "cell_type": "code",
   "execution_count": 10,
   "metadata": {},
   "outputs": [
    {
     "data": {
      "text/plain": [
       "array(['golf', nan, 'grand', 'fabia', '3er', '2_reihe', 'other', 'c_max',\n",
       "       '3_reihe', 'passat', 'navara', 'ka', 'polo', 'twingo', 'a_klasse',\n",
       "       'scirocco', '5er', 'meriva', 'arosa', 'c4', 'civic', 'transporter',\n",
       "       'punto', 'e_klasse', 'clio', 'kadett', 'kangoo', 'corsa', 'one',\n",
       "       'fortwo', '1er', 'b_klasse', 'signum', 'astra', 'a8', 'jetta',\n",
       "       'fiesta', 'c_klasse', 'micra', 'vito', 'sprinter', '156', 'escort',\n",
       "       'forester', 'xc_reihe', 'scenic', 'a4', 'a1', 'insignia', 'combo',\n",
       "       'focus', 'tt', 'a6', 'jazz', 'omega', 'slk', '7er', '80', '147',\n",
       "       '100', 'z_reihe', 'sportage', 'sorento', 'v40', 'ibiza', 'mustang',\n",
       "       'eos', 'touran', 'getz', 'a3', 'almera', 'megane', 'lupo', 'r19',\n",
       "       'zafira', 'caddy', 'mondeo', 'cordoba', 'colt', 'impreza',\n",
       "       'vectra', 'berlingo', 'tiguan', 'i_reihe', 'espace', 'sharan',\n",
       "       '6_reihe', 'panda', 'up', 'seicento', 'ceed', '5_reihe', 'yeti',\n",
       "       'octavia', 'mii', 'rx_reihe', '6er', 'modus', 'fox', 'matiz',\n",
       "       'beetle', 'c1', 'rio', 'touareg', 'logan', 'spider', 'cuore',\n",
       "       's_max', 'a2', 'galaxy', 'c3', 'viano', 's_klasse', '1_reihe',\n",
       "       'avensis', 'roomster', 'sl', 'kaefer', 'santa', 'cooper', 'leon',\n",
       "       '4_reihe', 'a5', '500', 'laguna', 'ptcruiser', 'clk', 'primera',\n",
       "       'x_reihe', 'exeo', '159', 'transit', 'juke', 'qashqai', 'carisma',\n",
       "       'accord', 'corolla', 'lanos', 'phaeton', 'verso', 'swift', 'rav',\n",
       "       'picanto', 'boxster', 'kalos', 'superb', 'stilo', 'alhambra',\n",
       "       'mx_reihe', 'roadster', 'ypsilon', 'cayenne', 'galant', 'justy',\n",
       "       '90', 'sirion', 'crossfire', 'agila', 'duster', 'cr_reihe', 'v50',\n",
       "       'c_reihe', 'v_klasse', 'm_klasse', 'yaris', 'c5', 'aygo', 'cc',\n",
       "       'carnival', 'fusion', '911', 'bora', 'forfour', 'm_reihe', 'cl',\n",
       "       'tigra', '300c', 'spark', 'v70', 'kuga', 'x_type', 'ducato',\n",
       "       's_type', 'x_trail', 'toledo', 'altea', 'voyager', 'calibra',\n",
       "       'bravo', 'antara', 'tucson', 'citigo', 'jimny', 'wrangler',\n",
       "       'lybra', 'q7', 'lancer', 'captiva', 'c2', 'discovery',\n",
       "       'freelander', 'sandero', 'note', '900', 'cherokee', 'clubman',\n",
       "       'samara', 'defender', '601', 'cx_reihe', 'legacy', 'pajero',\n",
       "       'auris', 'niva', 's60', 'nubira', 'vivaro', 'g_klasse', 'lodgy',\n",
       "       '850', 'range_rover', 'q3', 'serie_2', 'glk', 'charade', 'croma',\n",
       "       'outlander', 'doblo', 'musa', 'move', '9000', 'v60', '145', 'aveo',\n",
       "       '200', 'b_max', 'range_rover_sport', 'terios', 'rangerover', 'q5',\n",
       "       'range_rover_evoque', 'materia', 'delta', 'gl', 'kalina', 'amarok',\n",
       "       'elefantino', 'i3', 'kappa', 'serie_3', 'serie_1'], dtype=object)"
      ]
     },
     "execution_count": 10,
     "metadata": {},
     "output_type": "execute_result"
    }
   ],
   "source": [
    "df['Model'].unique()"
   ]
  },
  {
   "cell_type": "code",
   "execution_count": 11,
   "metadata": {},
   "outputs": [
    {
     "data": {
      "text/plain": [
       "array(['petrol', 'gasoline', nan, 'lpg', 'other', 'hybrid', 'cng',\n",
       "       'electric'], dtype=object)"
      ]
     },
     "execution_count": 11,
     "metadata": {},
     "output_type": "execute_result"
    }
   ],
   "source": [
    "df['FuelType'].unique()"
   ]
  },
  {
   "cell_type": "code",
   "execution_count": 12,
   "metadata": {},
   "outputs": [
    {
     "data": {
      "text/plain": [
       "array(['volkswagen', 'audi', 'jeep', 'skoda', 'bmw', 'peugeot', 'ford',\n",
       "       'mazda', 'nissan', 'renault', 'mercedes_benz', 'opel', 'seat',\n",
       "       'citroen', 'honda', 'fiat', 'mini', 'smart', 'hyundai',\n",
       "       'sonstige_autos', 'alfa_romeo', 'subaru', 'volvo', 'mitsubishi',\n",
       "       'kia', 'suzuki', 'lancia', 'toyota', 'chevrolet', 'dacia',\n",
       "       'daihatsu', 'trabant', 'saab', 'chrysler', 'jaguar', 'daewoo',\n",
       "       'porsche', 'rover', 'land_rover', 'lada'], dtype=object)"
      ]
     },
     "execution_count": 12,
     "metadata": {},
     "output_type": "execute_result"
    }
   ],
   "source": [
    "df['Brand'].unique()"
   ]
  },
  {
   "cell_type": "code",
   "execution_count": 13,
   "metadata": {},
   "outputs": [
    {
     "data": {
      "text/plain": [
       "array([nan, 'yes', 'no'], dtype=object)"
      ]
     },
     "execution_count": 13,
     "metadata": {},
     "output_type": "execute_result"
    }
   ],
   "source": [
    "df['Repaired'].unique()"
   ]
  },
  {
   "cell_type": "markdown",
   "metadata": {},
   "source": [
    "В этом столбце больше всего пропусков, заменить их с помощью других данных нельзя.\n",
    "Данных много, чтобы удалить без последствий.\n",
    "Присвоим пропускам категорию unknown."
   ]
  },
  {
   "cell_type": "code",
   "execution_count": 14,
   "metadata": {},
   "outputs": [],
   "source": [
    "df['Repaired'] = df['Repaired'].fillna('unknown')"
   ]
  },
  {
   "cell_type": "markdown",
   "metadata": {},
   "source": [
    "Колонка Model оказывает влияние на цену, но заполнить корректно пропуски невозможно, тк у каждого бренда больше 1 модели машины. Так как пропусков всего 5,6%, то удалим их из данных."
   ]
  },
  {
   "cell_type": "code",
   "execution_count": 15,
   "metadata": {},
   "outputs": [],
   "source": [
    "df= df.loc[~df['Model'].isna()]"
   ]
  },
  {
   "cell_type": "markdown",
   "metadata": {},
   "source": [
    "Данные по типу кузова в колонке VehicleType можно восстановить по модели, используя наиболее частые значения в одной и той же модели."
   ]
  },
  {
   "cell_type": "code",
   "execution_count": 16,
   "metadata": {},
   "outputs": [
    {
     "name": "stdout",
     "output_type": "stream",
     "text": [
      "0\n"
     ]
    }
   ],
   "source": [
    "df['VehicleType']=df['VehicleType'].fillna(df.groupby('Model')['VehicleType'].transform(lambda x: x.value_counts().idxmax()))\n",
    "print(sum(df['VehicleType'].isna()))"
   ]
  },
  {
   "cell_type": "markdown",
   "metadata": {},
   "source": [
    "По такому же принципу заполним пропуски в колонках FuelType и Gearbox"
   ]
  },
  {
   "cell_type": "code",
   "execution_count": 17,
   "metadata": {
    "scrolled": true
   },
   "outputs": [
    {
     "name": "stdout",
     "output_type": "stream",
     "text": [
      "0\n"
     ]
    }
   ],
   "source": [
    "df['Gearbox']=df['Gearbox'].fillna(df.groupby('Model')['Gearbox'].transform(lambda x: x.value_counts().idxmax()))\n",
    "print(sum(df['Gearbox'].isna()))"
   ]
  },
  {
   "cell_type": "code",
   "execution_count": 18,
   "metadata": {},
   "outputs": [
    {
     "name": "stdout",
     "output_type": "stream",
     "text": [
      "0\n"
     ]
    }
   ],
   "source": [
    "df['FuelType']=df['FuelType'].fillna(df.groupby('Model')['FuelType'].transform(lambda x: x.value_counts().idxmax()))\n",
    "print(sum(df['FuelType'].isna()))"
   ]
  },
  {
   "cell_type": "markdown",
   "metadata": {},
   "source": [
    "Проверим остались ли пропуски."
   ]
  },
  {
   "cell_type": "code",
   "execution_count": 19,
   "metadata": {},
   "outputs": [
    {
     "name": "stdout",
     "output_type": "stream",
     "text": [
      "DateCrawled          0.0\n",
      "Price                0.0\n",
      "VehicleType          0.0\n",
      "RegistrationYear     0.0\n",
      "Gearbox              0.0\n",
      "Power                0.0\n",
      "Model                0.0\n",
      "Kilometer            0.0\n",
      "RegistrationMonth    0.0\n",
      "FuelType             0.0\n",
      "Brand                0.0\n",
      "Repaired             0.0\n",
      "DateCreated          0.0\n",
      "NumberOfPictures     0.0\n",
      "PostalCode           0.0\n",
      "LastSeen             0.0\n",
      "dtype: float64\n"
     ]
    }
   ],
   "source": [
    "print(df.isna().sum()/len(df)*100)"
   ]
  },
  {
   "cell_type": "markdown",
   "metadata": {},
   "source": [
    "Пропусков не осталось. Теперь рассмотрим аномальные данные в количественных признаках."
   ]
  },
  {
   "cell_type": "markdown",
   "metadata": {},
   "source": [
    "<font color='blue'><b>Комментарий ревьюера: </b></font> ✔️\\\n",
    "<font color='green'> Пропуски заполнены достаточно безопасно.\n",
    "</font>"
   ]
  },
  {
   "cell_type": "code",
   "execution_count": 20,
   "metadata": {},
   "outputs": [
    {
     "data": {
      "text/html": [
       "<div>\n",
       "<style scoped>\n",
       "    .dataframe tbody tr th:only-of-type {\n",
       "        vertical-align: middle;\n",
       "    }\n",
       "\n",
       "    .dataframe tbody tr th {\n",
       "        vertical-align: top;\n",
       "    }\n",
       "\n",
       "    .dataframe thead th {\n",
       "        text-align: right;\n",
       "    }\n",
       "</style>\n",
       "<table border=\"1\" class=\"dataframe\">\n",
       "  <thead>\n",
       "    <tr style=\"text-align: right;\">\n",
       "      <th></th>\n",
       "      <th>Price</th>\n",
       "      <th>RegistrationYear</th>\n",
       "      <th>Power</th>\n",
       "      <th>Kilometer</th>\n",
       "      <th>RegistrationMonth</th>\n",
       "      <th>NumberOfPictures</th>\n",
       "      <th>PostalCode</th>\n",
       "    </tr>\n",
       "  </thead>\n",
       "  <tbody>\n",
       "    <tr>\n",
       "      <th>count</th>\n",
       "      <td>334660.000000</td>\n",
       "      <td>334660.000000</td>\n",
       "      <td>334660.000000</td>\n",
       "      <td>334660.000000</td>\n",
       "      <td>334660.000000</td>\n",
       "      <td>334660.0</td>\n",
       "      <td>334660.000000</td>\n",
       "    </tr>\n",
       "    <tr>\n",
       "      <th>mean</th>\n",
       "      <td>4504.372249</td>\n",
       "      <td>2003.924024</td>\n",
       "      <td>111.372659</td>\n",
       "      <td>128562.795076</td>\n",
       "      <td>5.806075</td>\n",
       "      <td>0.0</td>\n",
       "      <td>50671.327365</td>\n",
       "    </tr>\n",
       "    <tr>\n",
       "      <th>std</th>\n",
       "      <td>4531.457109</td>\n",
       "      <td>69.377633</td>\n",
       "      <td>185.157391</td>\n",
       "      <td>37205.638630</td>\n",
       "      <td>3.689157</td>\n",
       "      <td>0.0</td>\n",
       "      <td>25754.527341</td>\n",
       "    </tr>\n",
       "    <tr>\n",
       "      <th>min</th>\n",
       "      <td>0.000000</td>\n",
       "      <td>1000.000000</td>\n",
       "      <td>0.000000</td>\n",
       "      <td>5000.000000</td>\n",
       "      <td>0.000000</td>\n",
       "      <td>0.0</td>\n",
       "      <td>1067.000000</td>\n",
       "    </tr>\n",
       "    <tr>\n",
       "      <th>25%</th>\n",
       "      <td>1150.000000</td>\n",
       "      <td>1999.000000</td>\n",
       "      <td>70.000000</td>\n",
       "      <td>125000.000000</td>\n",
       "      <td>3.000000</td>\n",
       "      <td>0.0</td>\n",
       "      <td>30419.000000</td>\n",
       "    </tr>\n",
       "    <tr>\n",
       "      <th>50%</th>\n",
       "      <td>2800.000000</td>\n",
       "      <td>2003.000000</td>\n",
       "      <td>105.000000</td>\n",
       "      <td>150000.000000</td>\n",
       "      <td>6.000000</td>\n",
       "      <td>0.0</td>\n",
       "      <td>49525.000000</td>\n",
       "    </tr>\n",
       "    <tr>\n",
       "      <th>75%</th>\n",
       "      <td>6500.000000</td>\n",
       "      <td>2008.000000</td>\n",
       "      <td>143.000000</td>\n",
       "      <td>150000.000000</td>\n",
       "      <td>9.000000</td>\n",
       "      <td>0.0</td>\n",
       "      <td>71229.000000</td>\n",
       "    </tr>\n",
       "    <tr>\n",
       "      <th>max</th>\n",
       "      <td>20000.000000</td>\n",
       "      <td>9999.000000</td>\n",
       "      <td>20000.000000</td>\n",
       "      <td>150000.000000</td>\n",
       "      <td>12.000000</td>\n",
       "      <td>0.0</td>\n",
       "      <td>99998.000000</td>\n",
       "    </tr>\n",
       "  </tbody>\n",
       "</table>\n",
       "</div>"
      ],
      "text/plain": [
       "               Price  RegistrationYear          Power      Kilometer  \\\n",
       "count  334660.000000     334660.000000  334660.000000  334660.000000   \n",
       "mean     4504.372249       2003.924024     111.372659  128562.795076   \n",
       "std      4531.457109         69.377633     185.157391   37205.638630   \n",
       "min         0.000000       1000.000000       0.000000    5000.000000   \n",
       "25%      1150.000000       1999.000000      70.000000  125000.000000   \n",
       "50%      2800.000000       2003.000000     105.000000  150000.000000   \n",
       "75%      6500.000000       2008.000000     143.000000  150000.000000   \n",
       "max     20000.000000       9999.000000   20000.000000  150000.000000   \n",
       "\n",
       "       RegistrationMonth  NumberOfPictures     PostalCode  \n",
       "count      334660.000000          334660.0  334660.000000  \n",
       "mean            5.806075               0.0   50671.327365  \n",
       "std             3.689157               0.0   25754.527341  \n",
       "min             0.000000               0.0    1067.000000  \n",
       "25%             3.000000               0.0   30419.000000  \n",
       "50%             6.000000               0.0   49525.000000  \n",
       "75%             9.000000               0.0   71229.000000  \n",
       "max            12.000000               0.0   99998.000000  "
      ]
     },
     "execution_count": 20,
     "metadata": {},
     "output_type": "execute_result"
    }
   ],
   "source": [
    "df.describe()"
   ]
  },
  {
   "cell_type": "markdown",
   "metadata": {},
   "source": [
    "Есть нулевые данные в колонках Price, Power, RegistrationMonth. Также присутствуют аномальные данные: максимальный год регистрации RegistrationYear =9999, минимальный год регистрации RegistrationYear =1000, максимальная мощность Power =20000.\n",
    "\n",
    "В колонке NumberOfPictures значений нет, она будет бесполезна для обучения моделей. Колонка PostalCode так же не несет в себе полезной информации и на цену не влияет. Возраст автомобиля обычно определяют по году регистрации, поэтому месяц регистрации RegistrationMonth не является определяющим в цене. 3 эти колонки можно удалить"
   ]
  },
  {
   "cell_type": "code",
   "execution_count": 21,
   "metadata": {},
   "outputs": [
    {
     "name": "stdout",
     "output_type": "stream",
     "text": [
      "<class 'pandas.core.frame.DataFrame'>\n",
      "Int64Index: 334660 entries, 0 to 354368\n",
      "Data columns (total 16 columns):\n",
      " #   Column             Non-Null Count   Dtype \n",
      "---  ------             --------------   ----- \n",
      " 0   DateCrawled        334660 non-null  object\n",
      " 1   Price              334660 non-null  int64 \n",
      " 2   VehicleType        334660 non-null  object\n",
      " 3   RegistrationYear   334660 non-null  int64 \n",
      " 4   Gearbox            334660 non-null  object\n",
      " 5   Power              334660 non-null  int64 \n",
      " 6   Model              334660 non-null  object\n",
      " 7   Kilometer          334660 non-null  int64 \n",
      " 8   RegistrationMonth  334660 non-null  int64 \n",
      " 9   FuelType           334660 non-null  object\n",
      " 10  Brand              334660 non-null  object\n",
      " 11  Repaired           334660 non-null  object\n",
      " 12  DateCreated        334660 non-null  object\n",
      " 13  NumberOfPictures   334660 non-null  int64 \n",
      " 14  PostalCode         334660 non-null  int64 \n",
      " 15  LastSeen           334660 non-null  object\n",
      "dtypes: int64(7), object(9)\n",
      "memory usage: 43.4+ MB\n"
     ]
    }
   ],
   "source": [
    "df.info()"
   ]
  },
  {
   "cell_type": "code",
   "execution_count": 22,
   "metadata": {},
   "outputs": [],
   "source": [
    "df=df.drop(['RegistrationMonth', 'NumberOfPictures', 'PostalCode'], axis = 1)"
   ]
  },
  {
   "cell_type": "markdown",
   "metadata": {},
   "source": [
    "Посмотрим количество строк с нулевой ценой"
   ]
  },
  {
   "cell_type": "code",
   "execution_count": 23,
   "metadata": {},
   "outputs": [
    {
     "name": "stdout",
     "output_type": "stream",
     "text": [
      "Количество строк с нулевой ценой:  8588\n",
      "Процент строк с нулевой ценой от общего количества:  2.5661865774218606\n"
     ]
    }
   ],
   "source": [
    "print('Количество строк с нулевой ценой: ',len(df.loc[df['Price']==0]))\n",
    "print('Процент строк с нулевой ценой от общего количества: ', len(df.loc[df['Price']==0])/len(df)*100)"
   ]
  },
  {
   "cell_type": "markdown",
   "metadata": {},
   "source": [
    "Причина, по которой цена не была указана, не известна. Возможно, продавец забыл ее указать, возможно, была ошибка при выгрузке данных. Цена - целевой признак модели, поэтому удалим строки с нулевой ценой. Посмотрим на распределение данных на гистограмме."
   ]
  },
  {
   "cell_type": "code",
   "execution_count": 24,
   "metadata": {},
   "outputs": [
    {
     "data": {
      "image/png": "[encoded data removed]",
      "text/plain": [
       "<Figure size 576x432 with 1 Axes>"
      ]
     },
     "metadata": {
      "needs_background": "light"
     },
     "output_type": "display_data"
    }
   ],
   "source": [
    "df=df.loc[df['Price']!=0]\n",
    "df['Price'].hist(bins=20, figsize=(8,6), ec='black', grid=False)\n",
    "plt.xlabel('Price', fontsize=13)\n",
    "plt.ylabel('Count', fontsize=13)\n",
    "plt.title('Распределение стоимости автомобилей', fontsize=15, fontweight='bold')\n",
    "plt.show()"
   ]
  },
  {
   "cell_type": "markdown",
   "metadata": {},
   "source": [
    "Количество объявлений снижается по мере роста цены."
   ]
  },
  {
   "cell_type": "markdown",
   "metadata": {},
   "source": [
    "Мощность в колонке Power больше 1000 л.с.  (или нулевое значение) является аномальной. Заменим аномальные значения медианными по модели автомобиля."
   ]
  },
  {
   "cell_type": "code",
   "execution_count": 25,
   "metadata": {},
   "outputs": [
    {
     "name": "stdout",
     "output_type": "stream",
     "text": [
      "1\n"
     ]
    }
   ],
   "source": [
    "df.loc[(df['Power']>1000) | (df['Power']==0), 'Power']= None\n",
    "\n",
    "df['Power']=df['Power'].fillna(df.groupby('Model')['Power'].transform('median'))\n",
    "print(sum(df['Power'].isna()))"
   ]
  },
  {
   "cell_type": "markdown",
   "metadata": {},
   "source": [
    "Осталась 1 строка не заполненная. Удалим ее и посмотрим на распределение мощности на гистограмме"
   ]
  },
  {
   "cell_type": "code",
   "execution_count": 26,
   "metadata": {},
   "outputs": [
    {
     "data": {
      "image/png": "[encoded data removed]",
      "text/plain": [
       "<Figure size 576x432 with 1 Axes>"
      ]
     },
     "metadata": {
      "needs_background": "light"
     },
     "output_type": "display_data"
    }
   ],
   "source": [
    "df=df.loc[~df['Power'].isna()]\n",
    "df['Power'].hist(bins=30, figsize=(8,6), ec='black', grid=False)\n",
    "plt.xlabel('Power', fontsize=13)\n",
    "plt.ylabel('Count', fontsize=13)\n",
    "plt.title('Распределение мощности автомобилей', fontsize=15, fontweight='bold')\n",
    "plt.show()"
   ]
  },
  {
   "cell_type": "markdown",
   "metadata": {},
   "source": [
    "Посмотрим на разброс данных в колонке год регистрации - RegistrationYear"
   ]
  },
  {
   "cell_type": "code",
   "execution_count": 27,
   "metadata": {},
   "outputs": [
    {
     "data": {
      "image/png": "[encoded data removed]",
      "text/plain": [
       "<Figure size 432x288 with 1 Axes>"
      ]
     },
     "metadata": {
      "needs_background": "light"
     },
     "output_type": "display_data"
    }
   ],
   "source": [
    "df['RegistrationYear'].plot.box()\n",
    "plt.show()"
   ]
  },
  {
   "cell_type": "markdown",
   "metadata": {},
   "source": [
    "В данных очень много выбросов: значения от 1000 до 9999 гг. Попробуем определить нижнюю и верхнюю границу даты.\n",
    "\n",
    "Посмотрим когда создали самую последнюю анкету."
   ]
  },
  {
   "cell_type": "code",
   "execution_count": 28,
   "metadata": {},
   "outputs": [
    {
     "data": {
      "text/plain": [
       "Timestamp('2016-04-07 00:00:00')"
      ]
     },
     "execution_count": 28,
     "metadata": {},
     "output_type": "execute_result"
    }
   ],
   "source": [
    "date = pd.to_datetime(df['DateCreated'])\n",
    "date.max()"
   ]
  },
  {
   "cell_type": "markdown",
   "metadata": {},
   "source": [
    "Самая поздняя дата анкеты - 2016 год, значит дата регистрации автомобиля не может быть после 2016 года. Это верхняя граница"
   ]
  },
  {
   "cell_type": "code",
   "execution_count": 29,
   "metadata": {},
   "outputs": [
    {
     "data": {
      "image/png": "[encoded data removed]",
      "text/plain": [
       "<Figure size 576x432 with 1 Axes>"
      ]
     },
     "metadata": {
      "needs_background": "light"
     },
     "output_type": "display_data"
    }
   ],
   "source": [
    "df=df.loc[(df['RegistrationYear']<=2016)]\n",
    "df['RegistrationYear'].hist(bins=100, figsize=(8,6), ec='black', grid=False)\n",
    "plt.xlabel('Registration Year', fontsize=13)\n",
    "plt.ylabel('Count', fontsize=13)\n",
    "plt.title('Распределение года регистрации автомобилей', fontsize=15, fontweight='bold')\n",
    "plt.show()"
   ]
  },
  {
   "cell_type": "markdown",
   "metadata": {},
   "source": [
    "нижнюю границу, очевидно, можно взять с 1960 года"
   ]
  },
  {
   "cell_type": "code",
   "execution_count": 30,
   "metadata": {},
   "outputs": [
    {
     "data": {
      "image/png": "[encoded data removed]",
      "text/plain": [
       "<Figure size 576x432 with 1 Axes>"
      ]
     },
     "metadata": {
      "needs_background": "light"
     },
     "output_type": "display_data"
    }
   ],
   "source": [
    "df=df.loc[(df['RegistrationYear']>=1960) & (df['RegistrationYear']<=2016)]\n",
    "df['RegistrationYear'].hist(bins=20, figsize=(8,6), ec='black', grid=False)\n",
    "plt.xlabel('Registration Year', fontsize=13)\n",
    "plt.ylabel('Count', fontsize=13)\n",
    "plt.title('Распределение года регистрации автомобилей', fontsize=15, fontweight='bold')\n",
    "plt.show()"
   ]
  },
  {
   "cell_type": "code",
   "execution_count": 31,
   "metadata": {},
   "outputs": [
    {
     "data": {
      "text/html": [
       "<div>\n",
       "<style scoped>\n",
       "    .dataframe tbody tr th:only-of-type {\n",
       "        vertical-align: middle;\n",
       "    }\n",
       "\n",
       "    .dataframe tbody tr th {\n",
       "        vertical-align: top;\n",
       "    }\n",
       "\n",
       "    .dataframe thead th {\n",
       "        text-align: right;\n",
       "    }\n",
       "</style>\n",
       "<table border=\"1\" class=\"dataframe\">\n",
       "  <thead>\n",
       "    <tr style=\"text-align: right;\">\n",
       "      <th></th>\n",
       "      <th>DateCrawled</th>\n",
       "      <th>Price</th>\n",
       "      <th>VehicleType</th>\n",
       "      <th>RegistrationYear</th>\n",
       "      <th>Gearbox</th>\n",
       "      <th>Power</th>\n",
       "      <th>Model</th>\n",
       "      <th>Kilometer</th>\n",
       "      <th>FuelType</th>\n",
       "      <th>Brand</th>\n",
       "      <th>Repaired</th>\n",
       "      <th>DateCreated</th>\n",
       "      <th>LastSeen</th>\n",
       "    </tr>\n",
       "  </thead>\n",
       "  <tbody>\n",
       "    <tr>\n",
       "      <th>0</th>\n",
       "      <td>2016-03-24 11:52:17</td>\n",
       "      <td>480</td>\n",
       "      <td>sedan</td>\n",
       "      <td>1993</td>\n",
       "      <td>manual</td>\n",
       "      <td>101.0</td>\n",
       "      <td>golf</td>\n",
       "      <td>150000</td>\n",
       "      <td>petrol</td>\n",
       "      <td>volkswagen</td>\n",
       "      <td>unknown</td>\n",
       "      <td>2016-03-24 00:00:00</td>\n",
       "      <td>2016-04-07 03:16:57</td>\n",
       "    </tr>\n",
       "    <tr>\n",
       "      <th>2</th>\n",
       "      <td>2016-03-14 12:52:21</td>\n",
       "      <td>9800</td>\n",
       "      <td>suv</td>\n",
       "      <td>2004</td>\n",
       "      <td>auto</td>\n",
       "      <td>163.0</td>\n",
       "      <td>grand</td>\n",
       "      <td>125000</td>\n",
       "      <td>gasoline</td>\n",
       "      <td>jeep</td>\n",
       "      <td>unknown</td>\n",
       "      <td>2016-03-14 00:00:00</td>\n",
       "      <td>2016-04-05 12:47:46</td>\n",
       "    </tr>\n",
       "    <tr>\n",
       "      <th>3</th>\n",
       "      <td>2016-03-17 16:54:04</td>\n",
       "      <td>1500</td>\n",
       "      <td>small</td>\n",
       "      <td>2001</td>\n",
       "      <td>manual</td>\n",
       "      <td>75.0</td>\n",
       "      <td>golf</td>\n",
       "      <td>150000</td>\n",
       "      <td>petrol</td>\n",
       "      <td>volkswagen</td>\n",
       "      <td>no</td>\n",
       "      <td>2016-03-17 00:00:00</td>\n",
       "      <td>2016-03-17 17:40:17</td>\n",
       "    </tr>\n",
       "    <tr>\n",
       "      <th>4</th>\n",
       "      <td>2016-03-31 17:25:20</td>\n",
       "      <td>3600</td>\n",
       "      <td>small</td>\n",
       "      <td>2008</td>\n",
       "      <td>manual</td>\n",
       "      <td>69.0</td>\n",
       "      <td>fabia</td>\n",
       "      <td>90000</td>\n",
       "      <td>gasoline</td>\n",
       "      <td>skoda</td>\n",
       "      <td>no</td>\n",
       "      <td>2016-03-31 00:00:00</td>\n",
       "      <td>2016-04-06 10:17:21</td>\n",
       "    </tr>\n",
       "    <tr>\n",
       "      <th>5</th>\n",
       "      <td>2016-04-04 17:36:23</td>\n",
       "      <td>650</td>\n",
       "      <td>sedan</td>\n",
       "      <td>1995</td>\n",
       "      <td>manual</td>\n",
       "      <td>102.0</td>\n",
       "      <td>3er</td>\n",
       "      <td>150000</td>\n",
       "      <td>petrol</td>\n",
       "      <td>bmw</td>\n",
       "      <td>yes</td>\n",
       "      <td>2016-04-04 00:00:00</td>\n",
       "      <td>2016-04-06 19:17:07</td>\n",
       "    </tr>\n",
       "  </tbody>\n",
       "</table>\n",
       "</div>"
      ],
      "text/plain": [
       "           DateCrawled  Price VehicleType  RegistrationYear Gearbox  Power  \\\n",
       "0  2016-03-24 11:52:17    480       sedan              1993  manual  101.0   \n",
       "2  2016-03-14 12:52:21   9800         suv              2004    auto  163.0   \n",
       "3  2016-03-17 16:54:04   1500       small              2001  manual   75.0   \n",
       "4  2016-03-31 17:25:20   3600       small              2008  manual   69.0   \n",
       "5  2016-04-04 17:36:23    650       sedan              1995  manual  102.0   \n",
       "\n",
       "   Model  Kilometer  FuelType       Brand Repaired          DateCreated  \\\n",
       "0   golf     150000    petrol  volkswagen  unknown  2016-03-24 00:00:00   \n",
       "2  grand     125000  gasoline        jeep  unknown  2016-03-14 00:00:00   \n",
       "3   golf     150000    petrol  volkswagen       no  2016-03-17 00:00:00   \n",
       "4  fabia      90000  gasoline       skoda       no  2016-03-31 00:00:00   \n",
       "5    3er     150000    petrol         bmw      yes  2016-04-04 00:00:00   \n",
       "\n",
       "              LastSeen  \n",
       "0  2016-04-07 03:16:57  \n",
       "2  2016-04-05 12:47:46  \n",
       "3  2016-03-17 17:40:17  \n",
       "4  2016-04-06 10:17:21  \n",
       "5  2016-04-06 19:17:07  "
      ]
     },
     "metadata": {},
     "output_type": "display_data"
    }
   ],
   "source": [
    "df=df.loc[(df['RegistrationYear']>=1960) & (df['RegistrationYear']<=2016)]\n",
    "display(df.head())"
   ]
  },
  {
   "cell_type": "markdown",
   "metadata": {},
   "source": [
    "Колонки дата создания анкеты DateCreated, дата скачивания анкеты DateCrawled и дата последней активности пользователя LastSeen на цену автомобилей не влияют. Поэтому удалим эти 3 колонки"
   ]
  },
  {
   "cell_type": "code",
   "execution_count": 32,
   "metadata": {},
   "outputs": [
    {
     "data": {
      "text/html": [
       "<div>\n",
       "<style scoped>\n",
       "    .dataframe tbody tr th:only-of-type {\n",
       "        vertical-align: middle;\n",
       "    }\n",
       "\n",
       "    .dataframe tbody tr th {\n",
       "        vertical-align: top;\n",
       "    }\n",
       "\n",
       "    .dataframe thead th {\n",
       "        text-align: right;\n",
       "    }\n",
       "</style>\n",
       "<table border=\"1\" class=\"dataframe\">\n",
       "  <thead>\n",
       "    <tr style=\"text-align: right;\">\n",
       "      <th></th>\n",
       "      <th>Price</th>\n",
       "      <th>VehicleType</th>\n",
       "      <th>RegistrationYear</th>\n",
       "      <th>Gearbox</th>\n",
       "      <th>Power</th>\n",
       "      <th>Model</th>\n",
       "      <th>Kilometer</th>\n",
       "      <th>FuelType</th>\n",
       "      <th>Brand</th>\n",
       "      <th>Repaired</th>\n",
       "    </tr>\n",
       "  </thead>\n",
       "  <tbody>\n",
       "    <tr>\n",
       "      <th>0</th>\n",
       "      <td>480</td>\n",
       "      <td>sedan</td>\n",
       "      <td>1993</td>\n",
       "      <td>manual</td>\n",
       "      <td>101.0</td>\n",
       "      <td>golf</td>\n",
       "      <td>150000</td>\n",
       "      <td>petrol</td>\n",
       "      <td>volkswagen</td>\n",
       "      <td>unknown</td>\n",
       "    </tr>\n",
       "    <tr>\n",
       "      <th>2</th>\n",
       "      <td>9800</td>\n",
       "      <td>suv</td>\n",
       "      <td>2004</td>\n",
       "      <td>auto</td>\n",
       "      <td>163.0</td>\n",
       "      <td>grand</td>\n",
       "      <td>125000</td>\n",
       "      <td>gasoline</td>\n",
       "      <td>jeep</td>\n",
       "      <td>unknown</td>\n",
       "    </tr>\n",
       "    <tr>\n",
       "      <th>3</th>\n",
       "      <td>1500</td>\n",
       "      <td>small</td>\n",
       "      <td>2001</td>\n",
       "      <td>manual</td>\n",
       "      <td>75.0</td>\n",
       "      <td>golf</td>\n",
       "      <td>150000</td>\n",
       "      <td>petrol</td>\n",
       "      <td>volkswagen</td>\n",
       "      <td>no</td>\n",
       "    </tr>\n",
       "    <tr>\n",
       "      <th>4</th>\n",
       "      <td>3600</td>\n",
       "      <td>small</td>\n",
       "      <td>2008</td>\n",
       "      <td>manual</td>\n",
       "      <td>69.0</td>\n",
       "      <td>fabia</td>\n",
       "      <td>90000</td>\n",
       "      <td>gasoline</td>\n",
       "      <td>skoda</td>\n",
       "      <td>no</td>\n",
       "    </tr>\n",
       "    <tr>\n",
       "      <th>5</th>\n",
       "      <td>650</td>\n",
       "      <td>sedan</td>\n",
       "      <td>1995</td>\n",
       "      <td>manual</td>\n",
       "      <td>102.0</td>\n",
       "      <td>3er</td>\n",
       "      <td>150000</td>\n",
       "      <td>petrol</td>\n",
       "      <td>bmw</td>\n",
       "      <td>yes</td>\n",
       "    </tr>\n",
       "  </tbody>\n",
       "</table>\n",
       "</div>"
      ],
      "text/plain": [
       "   Price VehicleType  RegistrationYear Gearbox  Power  Model  Kilometer  \\\n",
       "0    480       sedan              1993  manual  101.0   golf     150000   \n",
       "2   9800         suv              2004    auto  163.0  grand     125000   \n",
       "3   1500       small              2001  manual   75.0   golf     150000   \n",
       "4   3600       small              2008  manual   69.0  fabia      90000   \n",
       "5    650       sedan              1995  manual  102.0    3er     150000   \n",
       "\n",
       "   FuelType       Brand Repaired  \n",
       "0    petrol  volkswagen  unknown  \n",
       "2  gasoline        jeep  unknown  \n",
       "3    petrol  volkswagen       no  \n",
       "4  gasoline       skoda       no  \n",
       "5    petrol         bmw      yes  "
      ]
     },
     "metadata": {},
     "output_type": "display_data"
    }
   ],
   "source": [
    "df=df.drop(['DateCrawled', 'DateCreated', 'LastSeen'], axis=1)\n",
    "display(df.head())"
   ]
  },
  {
   "cell_type": "markdown",
   "metadata": {},
   "source": [
    "Проверим сколько данных было удалено."
   ]
  },
  {
   "cell_type": "code",
   "execution_count": 33,
   "metadata": {},
   "outputs": [
    {
     "data": {
      "text/plain": [
       "(313954, 10)"
      ]
     },
     "execution_count": 33,
     "metadata": {},
     "output_type": "execute_result"
    }
   ],
   "source": [
    "df.shape"
   ]
  },
  {
   "cell_type": "code",
   "execution_count": 34,
   "metadata": {},
   "outputs": [
    {
     "name": "stdout",
     "output_type": "stream",
     "text": [
      "Удалено: 11.40%\n"
     ]
    }
   ],
   "source": [
    "print('Удалено: {:.2%}'.format((354369-313954)/354369))"
   ]
  },
  {
   "cell_type": "code",
   "execution_count": 35,
   "metadata": {},
   "outputs": [
    {
     "name": "stdout",
     "output_type": "stream",
     "text": [
      "Количество дубликатов: 46363\n"
     ]
    }
   ],
   "source": [
    "print ('Количество дубликатов:', sum(df.duplicated()))"
   ]
  },
  {
   "cell_type": "code",
   "execution_count": 36,
   "metadata": {},
   "outputs": [
    {
     "name": "stdout",
     "output_type": "stream",
     "text": [
      "Количество дубликатов: 0\n"
     ]
    }
   ],
   "source": [
    "df=df.drop_duplicates()\n",
    "print ('Количество дубликатов:', sum(df.duplicated()))"
   ]
  },
  {
   "cell_type": "markdown",
   "metadata": {},
   "source": [
    "Кодирование категориальных признаков\n",
    "\n",
    "Для модели CatBoost кодирование не нужно. Поэтому создадим для нее таблицу с признаками и целевой признак из оригинальных данных и разделим выборку на обучающую и тестовую в соотношении 75:25."
   ]
  },
  {
   "cell_type": "code",
   "execution_count": 37,
   "metadata": {},
   "outputs": [],
   "source": [
    "target=df['Price']\n",
    "features=df.drop('Price', axis=1)\n",
    "X_train, X_test, y_train, y_test = train_test_split(\n",
    "        features, target, test_size=0.25, random_state=12345)"
   ]
  },
  {
   "cell_type": "code",
   "execution_count": 38,
   "metadata": {},
   "outputs": [
    {
     "name": "stdout",
     "output_type": "stream",
     "text": [
      "Обучающая выборка:  (200693, 9) (200693,)\n",
      "Тестовая выборка:  (66898, 9) (66898,)\n"
     ]
    }
   ],
   "source": [
    "print('Обучающая выборка: ', X_train.shape,  y_train.shape)\n",
    "print('Тестовая выборка: ', X_test.shape,  y_test.shape)"
   ]
  },
  {
   "cell_type": "code",
   "execution_count": 39,
   "metadata": {},
   "outputs": [
    {
     "data": {
      "text/html": [
       "<div>\n",
       "<style scoped>\n",
       "    .dataframe tbody tr th:only-of-type {\n",
       "        vertical-align: middle;\n",
       "    }\n",
       "\n",
       "    .dataframe tbody tr th {\n",
       "        vertical-align: top;\n",
       "    }\n",
       "\n",
       "    .dataframe thead th {\n",
       "        text-align: right;\n",
       "    }\n",
       "</style>\n",
       "<table border=\"1\" class=\"dataframe\">\n",
       "  <thead>\n",
       "    <tr style=\"text-align: right;\">\n",
       "      <th></th>\n",
       "      <th>VehicleType</th>\n",
       "      <th>RegistrationYear</th>\n",
       "      <th>Gearbox</th>\n",
       "      <th>Power</th>\n",
       "      <th>Model</th>\n",
       "      <th>Kilometer</th>\n",
       "      <th>FuelType</th>\n",
       "      <th>Brand</th>\n",
       "      <th>Repaired</th>\n",
       "    </tr>\n",
       "  </thead>\n",
       "  <tbody>\n",
       "    <tr>\n",
       "      <th>238962</th>\n",
       "      <td>wagon</td>\n",
       "      <td>2010</td>\n",
       "      <td>manual</td>\n",
       "      <td>143.0</td>\n",
       "      <td>a4</td>\n",
       "      <td>125000</td>\n",
       "      <td>gasoline</td>\n",
       "      <td>audi</td>\n",
       "      <td>no</td>\n",
       "    </tr>\n",
       "    <tr>\n",
       "      <th>2149</th>\n",
       "      <td>small</td>\n",
       "      <td>2003</td>\n",
       "      <td>manual</td>\n",
       "      <td>65.0</td>\n",
       "      <td>yaris</td>\n",
       "      <td>150000</td>\n",
       "      <td>petrol</td>\n",
       "      <td>toyota</td>\n",
       "      <td>no</td>\n",
       "    </tr>\n",
       "    <tr>\n",
       "      <th>115937</th>\n",
       "      <td>coupe</td>\n",
       "      <td>1998</td>\n",
       "      <td>manual</td>\n",
       "      <td>105.0</td>\n",
       "      <td>civic</td>\n",
       "      <td>150000</td>\n",
       "      <td>petrol</td>\n",
       "      <td>honda</td>\n",
       "      <td>no</td>\n",
       "    </tr>\n",
       "    <tr>\n",
       "      <th>25342</th>\n",
       "      <td>bus</td>\n",
       "      <td>2006</td>\n",
       "      <td>auto</td>\n",
       "      <td>131.0</td>\n",
       "      <td>transporter</td>\n",
       "      <td>150000</td>\n",
       "      <td>gasoline</td>\n",
       "      <td>volkswagen</td>\n",
       "      <td>yes</td>\n",
       "    </tr>\n",
       "    <tr>\n",
       "      <th>243737</th>\n",
       "      <td>bus</td>\n",
       "      <td>2012</td>\n",
       "      <td>manual</td>\n",
       "      <td>86.0</td>\n",
       "      <td>roomster</td>\n",
       "      <td>80000</td>\n",
       "      <td>petrol</td>\n",
       "      <td>skoda</td>\n",
       "      <td>no</td>\n",
       "    </tr>\n",
       "  </tbody>\n",
       "</table>\n",
       "</div>"
      ],
      "text/plain": [
       "       VehicleType  RegistrationYear Gearbox  Power        Model  Kilometer  \\\n",
       "238962       wagon              2010  manual  143.0           a4     125000   \n",
       "2149         small              2003  manual   65.0        yaris     150000   \n",
       "115937       coupe              1998  manual  105.0        civic     150000   \n",
       "25342          bus              2006    auto  131.0  transporter     150000   \n",
       "243737         bus              2012  manual   86.0     roomster      80000   \n",
       "\n",
       "        FuelType       Brand Repaired  \n",
       "238962  gasoline        audi       no  \n",
       "2149      petrol      toyota       no  \n",
       "115937    petrol       honda       no  \n",
       "25342   gasoline  volkswagen      yes  \n",
       "243737    petrol       skoda       no  "
      ]
     },
     "metadata": {},
     "output_type": "display_data"
    },
    {
     "name": "stdout",
     "output_type": "stream",
     "text": [
      "<class 'pandas.core.frame.DataFrame'>\n",
      "Int64Index: 200693 entries, 149322 to 280826\n",
      "Data columns (total 9 columns):\n",
      " #   Column            Non-Null Count   Dtype  \n",
      "---  ------            --------------   -----  \n",
      " 0   VehicleType       200693 non-null  object \n",
      " 1   RegistrationYear  200693 non-null  int64  \n",
      " 2   Gearbox           200693 non-null  object \n",
      " 3   Power             200693 non-null  float64\n",
      " 4   Model             200693 non-null  object \n",
      " 5   Kilometer         200693 non-null  int64  \n",
      " 6   FuelType          200693 non-null  object \n",
      " 7   Brand             200693 non-null  object \n",
      " 8   Repaired          200693 non-null  object \n",
      "dtypes: float64(1), int64(2), object(6)\n",
      "memory usage: 15.3+ MB\n"
     ]
    },
    {
     "data": {
      "text/plain": [
       "None"
      ]
     },
     "metadata": {},
     "output_type": "display_data"
    },
    {
     "data": {
      "text/html": [
       "<div>\n",
       "<style scoped>\n",
       "    .dataframe tbody tr th:only-of-type {\n",
       "        vertical-align: middle;\n",
       "    }\n",
       "\n",
       "    .dataframe tbody tr th {\n",
       "        vertical-align: top;\n",
       "    }\n",
       "\n",
       "    .dataframe thead th {\n",
       "        text-align: right;\n",
       "    }\n",
       "</style>\n",
       "<table border=\"1\" class=\"dataframe\">\n",
       "  <thead>\n",
       "    <tr style=\"text-align: right;\">\n",
       "      <th></th>\n",
       "      <th>VehicleType</th>\n",
       "      <th>RegistrationYear</th>\n",
       "      <th>Gearbox</th>\n",
       "      <th>Power</th>\n",
       "      <th>Model</th>\n",
       "      <th>Kilometer</th>\n",
       "      <th>FuelType</th>\n",
       "      <th>Brand</th>\n",
       "      <th>Repaired</th>\n",
       "    </tr>\n",
       "  </thead>\n",
       "  <tbody>\n",
       "    <tr>\n",
       "      <th>count</th>\n",
       "      <td>200693</td>\n",
       "      <td>200693.000000</td>\n",
       "      <td>200693</td>\n",
       "      <td>200693.000000</td>\n",
       "      <td>200693</td>\n",
       "      <td>200693.000000</td>\n",
       "      <td>200693</td>\n",
       "      <td>200693</td>\n",
       "      <td>200693</td>\n",
       "    </tr>\n",
       "    <tr>\n",
       "      <th>unique</th>\n",
       "      <td>8</td>\n",
       "      <td>NaN</td>\n",
       "      <td>2</td>\n",
       "      <td>NaN</td>\n",
       "      <td>249</td>\n",
       "      <td>NaN</td>\n",
       "      <td>7</td>\n",
       "      <td>39</td>\n",
       "      <td>3</td>\n",
       "    </tr>\n",
       "    <tr>\n",
       "      <th>top</th>\n",
       "      <td>sedan</td>\n",
       "      <td>NaN</td>\n",
       "      <td>manual</td>\n",
       "      <td>NaN</td>\n",
       "      <td>other</td>\n",
       "      <td>NaN</td>\n",
       "      <td>petrol</td>\n",
       "      <td>volkswagen</td>\n",
       "      <td>no</td>\n",
       "    </tr>\n",
       "    <tr>\n",
       "      <th>freq</th>\n",
       "      <td>59603</td>\n",
       "      <td>NaN</td>\n",
       "      <td>159529</td>\n",
       "      <td>NaN</td>\n",
       "      <td>16168</td>\n",
       "      <td>NaN</td>\n",
       "      <td>135618</td>\n",
       "      <td>40767</td>\n",
       "      <td>144409</td>\n",
       "    </tr>\n",
       "    <tr>\n",
       "      <th>mean</th>\n",
       "      <td>NaN</td>\n",
       "      <td>2002.819919</td>\n",
       "      <td>NaN</td>\n",
       "      <td>120.895746</td>\n",
       "      <td>NaN</td>\n",
       "      <td>127076.729134</td>\n",
       "      <td>NaN</td>\n",
       "      <td>NaN</td>\n",
       "      <td>NaN</td>\n",
       "    </tr>\n",
       "    <tr>\n",
       "      <th>std</th>\n",
       "      <td>NaN</td>\n",
       "      <td>6.651326</td>\n",
       "      <td>NaN</td>\n",
       "      <td>53.709252</td>\n",
       "      <td>NaN</td>\n",
       "      <td>37904.616313</td>\n",
       "      <td>NaN</td>\n",
       "      <td>NaN</td>\n",
       "      <td>NaN</td>\n",
       "    </tr>\n",
       "    <tr>\n",
       "      <th>min</th>\n",
       "      <td>NaN</td>\n",
       "      <td>1960.000000</td>\n",
       "      <td>NaN</td>\n",
       "      <td>1.000000</td>\n",
       "      <td>NaN</td>\n",
       "      <td>5000.000000</td>\n",
       "      <td>NaN</td>\n",
       "      <td>NaN</td>\n",
       "      <td>NaN</td>\n",
       "    </tr>\n",
       "    <tr>\n",
       "      <th>25%</th>\n",
       "      <td>NaN</td>\n",
       "      <td>1999.000000</td>\n",
       "      <td>NaN</td>\n",
       "      <td>80.000000</td>\n",
       "      <td>NaN</td>\n",
       "      <td>125000.000000</td>\n",
       "      <td>NaN</td>\n",
       "      <td>NaN</td>\n",
       "      <td>NaN</td>\n",
       "    </tr>\n",
       "    <tr>\n",
       "      <th>50%</th>\n",
       "      <td>NaN</td>\n",
       "      <td>2003.000000</td>\n",
       "      <td>NaN</td>\n",
       "      <td>115.000000</td>\n",
       "      <td>NaN</td>\n",
       "      <td>150000.000000</td>\n",
       "      <td>NaN</td>\n",
       "      <td>NaN</td>\n",
       "      <td>NaN</td>\n",
       "    </tr>\n",
       "    <tr>\n",
       "      <th>75%</th>\n",
       "      <td>NaN</td>\n",
       "      <td>2007.000000</td>\n",
       "      <td>NaN</td>\n",
       "      <td>150.000000</td>\n",
       "      <td>NaN</td>\n",
       "      <td>150000.000000</td>\n",
       "      <td>NaN</td>\n",
       "      <td>NaN</td>\n",
       "      <td>NaN</td>\n",
       "    </tr>\n",
       "    <tr>\n",
       "      <th>max</th>\n",
       "      <td>NaN</td>\n",
       "      <td>2016.000000</td>\n",
       "      <td>NaN</td>\n",
       "      <td>1000.000000</td>\n",
       "      <td>NaN</td>\n",
       "      <td>150000.000000</td>\n",
       "      <td>NaN</td>\n",
       "      <td>NaN</td>\n",
       "      <td>NaN</td>\n",
       "    </tr>\n",
       "  </tbody>\n",
       "</table>\n",
       "</div>"
      ],
      "text/plain": [
       "       VehicleType  RegistrationYear Gearbox          Power   Model  \\\n",
       "count       200693     200693.000000  200693  200693.000000  200693   \n",
       "unique           8               NaN       2            NaN     249   \n",
       "top          sedan               NaN  manual            NaN   other   \n",
       "freq         59603               NaN  159529            NaN   16168   \n",
       "mean           NaN       2002.819919     NaN     120.895746     NaN   \n",
       "std            NaN          6.651326     NaN      53.709252     NaN   \n",
       "min            NaN       1960.000000     NaN       1.000000     NaN   \n",
       "25%            NaN       1999.000000     NaN      80.000000     NaN   \n",
       "50%            NaN       2003.000000     NaN     115.000000     NaN   \n",
       "75%            NaN       2007.000000     NaN     150.000000     NaN   \n",
       "max            NaN       2016.000000     NaN    1000.000000     NaN   \n",
       "\n",
       "            Kilometer FuelType       Brand Repaired  \n",
       "count   200693.000000   200693      200693   200693  \n",
       "unique            NaN        7          39        3  \n",
       "top               NaN   petrol  volkswagen       no  \n",
       "freq              NaN   135618       40767   144409  \n",
       "mean    127076.729134      NaN         NaN      NaN  \n",
       "std      37904.616313      NaN         NaN      NaN  \n",
       "min       5000.000000      NaN         NaN      NaN  \n",
       "25%     125000.000000      NaN         NaN      NaN  \n",
       "50%     150000.000000      NaN         NaN      NaN  \n",
       "75%     150000.000000      NaN         NaN      NaN  \n",
       "max     150000.000000      NaN         NaN      NaN  "
      ]
     },
     "metadata": {},
     "output_type": "display_data"
    }
   ],
   "source": [
    "def get_data_info(data):\n",
    "    display(data.sample(5))\n",
    "    display(data.info())\n",
    "    display(data.describe(include='all'))\n",
    "\n",
    "get_data_info(X_train)"
   ]
  },
  {
   "cell_type": "markdown",
   "metadata": {},
   "source": [
    "Резделение получилось корректным\n",
    "\n",
    "Для более простых моделей используем кодирование OHE, затем создадим для них таблицу с признаками и целевой признак и разделим выборку на обучающую и тестовую в соотношении 75:25."
   ]
  },
  {
   "cell_type": "code",
   "execution_count": 40,
   "metadata": {},
   "outputs": [],
   "source": [
    "#df_ohe = pd.get_dummies(df, drop_first=True)\n",
    "#display(df_ohe.head(3))"
   ]
  },
  {
   "cell_type": "markdown",
   "metadata": {},
   "source": [
    "Признаки разного масштаба - необходимо их масштабировать:"
   ]
  },
  {
   "cell_type": "markdown",
   "metadata": {},
   "source": [
    "cat_col_names = ['VehicleType', 'Gearbox', 'Model', 'FuelType', 'Brand', 'Repaired'] # список категориальных признаков выборки\n",
    "num_col_names = ['RegistrationYear', 'Power', 'Kilometer'] # список количественных признаков выборки\n",
    "\n",
    "scaler = StandardScaler()\n",
    "X_train_scaled = scaler.fit_transform(X_train[num_col_names])\n",
    "display(X_train_scaled)\n",
    "X_test_scaled = scaler.transform(X_test[num_col_names])\n"
   ]
  },
  {
   "cell_type": "markdown",
   "metadata": {},
   "source": [
    "Допустим, мы решили, что одной из моделей будет Линейная регрессия, для которой будем использовать OHE кодирование категориальных признаков и StandardScaler для численных признаков. Второй моделью будет DesicionTreeRegressor, для которой будет использоваться порядковое кодирование признака model, имеющего большое количество уникальных значений, и OHE кодирование остальных категориальных признаков."
   ]
  },
  {
   "cell_type": "code",
   "execution_count": 41,
   "metadata": {},
   "outputs": [
    {
     "name": "stdout",
     "output_type": "stream",
     "text": [
      "['VehicleType', 'Gearbox', 'Model', 'FuelType', 'Brand', 'Repaired']\n"
     ]
    },
    {
     "data": {
      "text/plain": [
       "['VehicleType', 'Gearbox', 'FuelType', 'Brand', 'Repaired']"
      ]
     },
     "execution_count": 41,
     "metadata": {},
     "output_type": "execute_result"
    }
   ],
   "source": [
    "#категориальные признаки для OHE для линейной регрессии\n",
    "ohe_features_lin = X_train.select_dtypes(include='object').columns.to_list()\n",
    "print(ohe_features_lin)\n",
    "\n",
    "#категориальные признаки для OHE RandomForestRegressor\n",
    "ohe_features_rfr = ohe_features_lin.copy()\n",
    "ohe_features_rfr.remove('Model')\n",
    "ohe_features_rfr"
   ]
  },
  {
   "cell_type": "code",
   "execution_count": 42,
   "metadata": {},
   "outputs": [
    {
     "data": {
      "text/plain": [
       "['RegistrationYear', 'Power', 'Kilometer']"
      ]
     },
     "execution_count": 42,
     "metadata": {},
     "output_type": "execute_result"
    }
   ],
   "source": [
    "#численные признаки\n",
    "#обращаем внимание, что 'repaired' — категориальный бинарный признак.\n",
    "num_features = X_train.select_dtypes(exclude='object').columns.to_list()\n",
    "#num_features.remove('Repaired') - он уже не включается в список\n",
    "num_features"
   ]
  },
  {
   "cell_type": "code",
   "execution_count": 43,
   "metadata": {},
   "outputs": [],
   "source": [
    "X_train_lin = X_train.copy()\n",
    "X_test_lin = X_test.copy()"
   ]
  },
  {
   "cell_type": "code",
   "execution_count": 44,
   "metadata": {},
   "outputs": [
    {
     "data": {
      "text/html": [
       "<div>\n",
       "<style scoped>\n",
       "    .dataframe tbody tr th:only-of-type {\n",
       "        vertical-align: middle;\n",
       "    }\n",
       "\n",
       "    .dataframe tbody tr th {\n",
       "        vertical-align: top;\n",
       "    }\n",
       "\n",
       "    .dataframe thead th {\n",
       "        text-align: right;\n",
       "    }\n",
       "</style>\n",
       "<table border=\"1\" class=\"dataframe\">\n",
       "  <thead>\n",
       "    <tr style=\"text-align: right;\">\n",
       "      <th></th>\n",
       "      <th>RegistrationYear</th>\n",
       "      <th>Power</th>\n",
       "      <th>Kilometer</th>\n",
       "      <th>x0_convertible</th>\n",
       "      <th>x0_coupe</th>\n",
       "      <th>x0_other</th>\n",
       "      <th>x0_sedan</th>\n",
       "      <th>x0_small</th>\n",
       "      <th>x0_suv</th>\n",
       "      <th>x0_wagon</th>\n",
       "      <th>x1_manual</th>\n",
       "      <th>x2_145</th>\n",
       "      <th>x2_147</th>\n",
       "      <th>x2_156</th>\n",
       "      <th>x2_159</th>\n",
       "      <th>x2_1_reihe</th>\n",
       "      <th>x2_1er</th>\n",
       "      <th>x2_200</th>\n",
       "      <th>x2_2_reihe</th>\n",
       "      <th>x2_300c</th>\n",
       "      <th>x2_3_reihe</th>\n",
       "      <th>x2_3er</th>\n",
       "      <th>x2_4_reihe</th>\n",
       "      <th>x2_500</th>\n",
       "      <th>x2_5_reihe</th>\n",
       "      <th>x2_5er</th>\n",
       "      <th>x2_601</th>\n",
       "      <th>x2_6_reihe</th>\n",
       "      <th>x2_6er</th>\n",
       "      <th>x2_7er</th>\n",
       "      <th>x2_80</th>\n",
       "      <th>x2_850</th>\n",
       "      <th>x2_90</th>\n",
       "      <th>x2_900</th>\n",
       "      <th>x2_9000</th>\n",
       "      <th>x2_911</th>\n",
       "      <th>x2_a1</th>\n",
       "      <th>x2_a2</th>\n",
       "      <th>x2_a3</th>\n",
       "      <th>x2_a4</th>\n",
       "      <th>x2_a5</th>\n",
       "      <th>x2_a6</th>\n",
       "      <th>x2_a8</th>\n",
       "      <th>x2_a_klasse</th>\n",
       "      <th>x2_accord</th>\n",
       "      <th>x2_agila</th>\n",
       "      <th>x2_alhambra</th>\n",
       "      <th>x2_almera</th>\n",
       "      <th>x2_altea</th>\n",
       "      <th>x2_amarok</th>\n",
       "      <th>...</th>\n",
       "      <th>x2_yeti</th>\n",
       "      <th>x2_ypsilon</th>\n",
       "      <th>x2_z_reihe</th>\n",
       "      <th>x2_zafira</th>\n",
       "      <th>x3_electric</th>\n",
       "      <th>x3_gasoline</th>\n",
       "      <th>x3_hybrid</th>\n",
       "      <th>x3_lpg</th>\n",
       "      <th>x3_other</th>\n",
       "      <th>x3_petrol</th>\n",
       "      <th>x4_audi</th>\n",
       "      <th>x4_bmw</th>\n",
       "      <th>x4_chevrolet</th>\n",
       "      <th>x4_chrysler</th>\n",
       "      <th>x4_citroen</th>\n",
       "      <th>x4_dacia</th>\n",
       "      <th>x4_daewoo</th>\n",
       "      <th>x4_daihatsu</th>\n",
       "      <th>x4_fiat</th>\n",
       "      <th>x4_ford</th>\n",
       "      <th>x4_honda</th>\n",
       "      <th>x4_hyundai</th>\n",
       "      <th>x4_jaguar</th>\n",
       "      <th>x4_jeep</th>\n",
       "      <th>x4_kia</th>\n",
       "      <th>x4_lada</th>\n",
       "      <th>x4_lancia</th>\n",
       "      <th>x4_land_rover</th>\n",
       "      <th>x4_mazda</th>\n",
       "      <th>x4_mercedes_benz</th>\n",
       "      <th>x4_mini</th>\n",
       "      <th>x4_mitsubishi</th>\n",
       "      <th>x4_nissan</th>\n",
       "      <th>x4_opel</th>\n",
       "      <th>x4_peugeot</th>\n",
       "      <th>x4_porsche</th>\n",
       "      <th>x4_renault</th>\n",
       "      <th>x4_rover</th>\n",
       "      <th>x4_saab</th>\n",
       "      <th>x4_seat</th>\n",
       "      <th>x4_skoda</th>\n",
       "      <th>x4_smart</th>\n",
       "      <th>x4_subaru</th>\n",
       "      <th>x4_suzuki</th>\n",
       "      <th>x4_toyota</th>\n",
       "      <th>x4_trabant</th>\n",
       "      <th>x4_volkswagen</th>\n",
       "      <th>x4_volvo</th>\n",
       "      <th>x5_unknown</th>\n",
       "      <th>x5_yes</th>\n",
       "    </tr>\n",
       "  </thead>\n",
       "  <tbody>\n",
       "    <tr>\n",
       "      <th>149322</th>\n",
       "      <td>0.177421</td>\n",
       "      <td>1.323877</td>\n",
       "      <td>-0.714340</td>\n",
       "      <td>0.0</td>\n",
       "      <td>0.0</td>\n",
       "      <td>0.0</td>\n",
       "      <td>1.0</td>\n",
       "      <td>0.0</td>\n",
       "      <td>0.0</td>\n",
       "      <td>0.0</td>\n",
       "      <td>1.0</td>\n",
       "      <td>0.0</td>\n",
       "      <td>0.0</td>\n",
       "      <td>0.0</td>\n",
       "      <td>0.0</td>\n",
       "      <td>0.0</td>\n",
       "      <td>0.0</td>\n",
       "      <td>0.0</td>\n",
       "      <td>0.0</td>\n",
       "      <td>0.0</td>\n",
       "      <td>0.0</td>\n",
       "      <td>1.0</td>\n",
       "      <td>0.0</td>\n",
       "      <td>0.0</td>\n",
       "      <td>0.0</td>\n",
       "      <td>0.0</td>\n",
       "      <td>0.0</td>\n",
       "      <td>0.0</td>\n",
       "      <td>0.0</td>\n",
       "      <td>0.0</td>\n",
       "      <td>0.0</td>\n",
       "      <td>0.0</td>\n",
       "      <td>0.0</td>\n",
       "      <td>0.0</td>\n",
       "      <td>0.0</td>\n",
       "      <td>0.0</td>\n",
       "      <td>0.0</td>\n",
       "      <td>0.0</td>\n",
       "      <td>0.0</td>\n",
       "      <td>0.0</td>\n",
       "      <td>0.0</td>\n",
       "      <td>0.0</td>\n",
       "      <td>0.0</td>\n",
       "      <td>0.0</td>\n",
       "      <td>0.0</td>\n",
       "      <td>0.0</td>\n",
       "      <td>0.0</td>\n",
       "      <td>0.0</td>\n",
       "      <td>0.0</td>\n",
       "      <td>0.0</td>\n",
       "      <td>...</td>\n",
       "      <td>0.0</td>\n",
       "      <td>0.0</td>\n",
       "      <td>0.0</td>\n",
       "      <td>0.0</td>\n",
       "      <td>0.0</td>\n",
       "      <td>0.0</td>\n",
       "      <td>0.0</td>\n",
       "      <td>0.0</td>\n",
       "      <td>0.0</td>\n",
       "      <td>1.0</td>\n",
       "      <td>0.0</td>\n",
       "      <td>1.0</td>\n",
       "      <td>0.0</td>\n",
       "      <td>0.0</td>\n",
       "      <td>0.0</td>\n",
       "      <td>0.0</td>\n",
       "      <td>0.0</td>\n",
       "      <td>0.0</td>\n",
       "      <td>0.0</td>\n",
       "      <td>0.0</td>\n",
       "      <td>0.0</td>\n",
       "      <td>0.0</td>\n",
       "      <td>0.0</td>\n",
       "      <td>0.0</td>\n",
       "      <td>0.0</td>\n",
       "      <td>0.0</td>\n",
       "      <td>0.0</td>\n",
       "      <td>0.0</td>\n",
       "      <td>0.0</td>\n",
       "      <td>0.0</td>\n",
       "      <td>0.0</td>\n",
       "      <td>0.0</td>\n",
       "      <td>0.0</td>\n",
       "      <td>0.0</td>\n",
       "      <td>0.0</td>\n",
       "      <td>0.0</td>\n",
       "      <td>0.0</td>\n",
       "      <td>0.0</td>\n",
       "      <td>0.0</td>\n",
       "      <td>0.0</td>\n",
       "      <td>0.0</td>\n",
       "      <td>0.0</td>\n",
       "      <td>0.0</td>\n",
       "      <td>0.0</td>\n",
       "      <td>0.0</td>\n",
       "      <td>0.0</td>\n",
       "      <td>0.0</td>\n",
       "      <td>0.0</td>\n",
       "      <td>0.0</td>\n",
       "      <td>0.0</td>\n",
       "    </tr>\n",
       "    <tr>\n",
       "      <th>550</th>\n",
       "      <td>0.327767</td>\n",
       "      <td>0.281223</td>\n",
       "      <td>0.604763</td>\n",
       "      <td>0.0</td>\n",
       "      <td>0.0</td>\n",
       "      <td>0.0</td>\n",
       "      <td>0.0</td>\n",
       "      <td>0.0</td>\n",
       "      <td>0.0</td>\n",
       "      <td>1.0</td>\n",
       "      <td>1.0</td>\n",
       "      <td>0.0</td>\n",
       "      <td>0.0</td>\n",
       "      <td>0.0</td>\n",
       "      <td>0.0</td>\n",
       "      <td>0.0</td>\n",
       "      <td>0.0</td>\n",
       "      <td>0.0</td>\n",
       "      <td>0.0</td>\n",
       "      <td>0.0</td>\n",
       "      <td>0.0</td>\n",
       "      <td>0.0</td>\n",
       "      <td>0.0</td>\n",
       "      <td>0.0</td>\n",
       "      <td>0.0</td>\n",
       "      <td>0.0</td>\n",
       "      <td>0.0</td>\n",
       "      <td>0.0</td>\n",
       "      <td>0.0</td>\n",
       "      <td>0.0</td>\n",
       "      <td>0.0</td>\n",
       "      <td>0.0</td>\n",
       "      <td>0.0</td>\n",
       "      <td>0.0</td>\n",
       "      <td>0.0</td>\n",
       "      <td>0.0</td>\n",
       "      <td>0.0</td>\n",
       "      <td>0.0</td>\n",
       "      <td>0.0</td>\n",
       "      <td>0.0</td>\n",
       "      <td>0.0</td>\n",
       "      <td>0.0</td>\n",
       "      <td>0.0</td>\n",
       "      <td>0.0</td>\n",
       "      <td>0.0</td>\n",
       "      <td>0.0</td>\n",
       "      <td>0.0</td>\n",
       "      <td>0.0</td>\n",
       "      <td>0.0</td>\n",
       "      <td>0.0</td>\n",
       "      <td>...</td>\n",
       "      <td>0.0</td>\n",
       "      <td>0.0</td>\n",
       "      <td>0.0</td>\n",
       "      <td>0.0</td>\n",
       "      <td>0.0</td>\n",
       "      <td>1.0</td>\n",
       "      <td>0.0</td>\n",
       "      <td>0.0</td>\n",
       "      <td>0.0</td>\n",
       "      <td>0.0</td>\n",
       "      <td>0.0</td>\n",
       "      <td>0.0</td>\n",
       "      <td>0.0</td>\n",
       "      <td>0.0</td>\n",
       "      <td>0.0</td>\n",
       "      <td>0.0</td>\n",
       "      <td>0.0</td>\n",
       "      <td>0.0</td>\n",
       "      <td>0.0</td>\n",
       "      <td>0.0</td>\n",
       "      <td>0.0</td>\n",
       "      <td>0.0</td>\n",
       "      <td>0.0</td>\n",
       "      <td>0.0</td>\n",
       "      <td>0.0</td>\n",
       "      <td>0.0</td>\n",
       "      <td>0.0</td>\n",
       "      <td>0.0</td>\n",
       "      <td>0.0</td>\n",
       "      <td>0.0</td>\n",
       "      <td>0.0</td>\n",
       "      <td>0.0</td>\n",
       "      <td>0.0</td>\n",
       "      <td>0.0</td>\n",
       "      <td>0.0</td>\n",
       "      <td>0.0</td>\n",
       "      <td>0.0</td>\n",
       "      <td>0.0</td>\n",
       "      <td>0.0</td>\n",
       "      <td>0.0</td>\n",
       "      <td>0.0</td>\n",
       "      <td>0.0</td>\n",
       "      <td>0.0</td>\n",
       "      <td>0.0</td>\n",
       "      <td>0.0</td>\n",
       "      <td>0.0</td>\n",
       "      <td>1.0</td>\n",
       "      <td>0.0</td>\n",
       "      <td>0.0</td>\n",
       "      <td>0.0</td>\n",
       "    </tr>\n",
       "    <tr>\n",
       "      <th>114943</th>\n",
       "      <td>-0.273618</td>\n",
       "      <td>-1.133806</td>\n",
       "      <td>0.604763</td>\n",
       "      <td>0.0</td>\n",
       "      <td>0.0</td>\n",
       "      <td>0.0</td>\n",
       "      <td>0.0</td>\n",
       "      <td>1.0</td>\n",
       "      <td>0.0</td>\n",
       "      <td>0.0</td>\n",
       "      <td>1.0</td>\n",
       "      <td>0.0</td>\n",
       "      <td>0.0</td>\n",
       "      <td>0.0</td>\n",
       "      <td>0.0</td>\n",
       "      <td>0.0</td>\n",
       "      <td>0.0</td>\n",
       "      <td>0.0</td>\n",
       "      <td>0.0</td>\n",
       "      <td>0.0</td>\n",
       "      <td>0.0</td>\n",
       "      <td>0.0</td>\n",
       "      <td>0.0</td>\n",
       "      <td>0.0</td>\n",
       "      <td>0.0</td>\n",
       "      <td>0.0</td>\n",
       "      <td>0.0</td>\n",
       "      <td>0.0</td>\n",
       "      <td>0.0</td>\n",
       "      <td>0.0</td>\n",
       "      <td>0.0</td>\n",
       "      <td>0.0</td>\n",
       "      <td>0.0</td>\n",
       "      <td>0.0</td>\n",
       "      <td>0.0</td>\n",
       "      <td>0.0</td>\n",
       "      <td>0.0</td>\n",
       "      <td>0.0</td>\n",
       "      <td>0.0</td>\n",
       "      <td>0.0</td>\n",
       "      <td>0.0</td>\n",
       "      <td>0.0</td>\n",
       "      <td>0.0</td>\n",
       "      <td>0.0</td>\n",
       "      <td>0.0</td>\n",
       "      <td>0.0</td>\n",
       "      <td>0.0</td>\n",
       "      <td>0.0</td>\n",
       "      <td>0.0</td>\n",
       "      <td>0.0</td>\n",
       "      <td>...</td>\n",
       "      <td>0.0</td>\n",
       "      <td>0.0</td>\n",
       "      <td>0.0</td>\n",
       "      <td>0.0</td>\n",
       "      <td>0.0</td>\n",
       "      <td>0.0</td>\n",
       "      <td>0.0</td>\n",
       "      <td>0.0</td>\n",
       "      <td>0.0</td>\n",
       "      <td>1.0</td>\n",
       "      <td>0.0</td>\n",
       "      <td>0.0</td>\n",
       "      <td>0.0</td>\n",
       "      <td>0.0</td>\n",
       "      <td>0.0</td>\n",
       "      <td>0.0</td>\n",
       "      <td>0.0</td>\n",
       "      <td>0.0</td>\n",
       "      <td>0.0</td>\n",
       "      <td>0.0</td>\n",
       "      <td>0.0</td>\n",
       "      <td>0.0</td>\n",
       "      <td>0.0</td>\n",
       "      <td>0.0</td>\n",
       "      <td>0.0</td>\n",
       "      <td>0.0</td>\n",
       "      <td>0.0</td>\n",
       "      <td>0.0</td>\n",
       "      <td>0.0</td>\n",
       "      <td>0.0</td>\n",
       "      <td>0.0</td>\n",
       "      <td>0.0</td>\n",
       "      <td>0.0</td>\n",
       "      <td>0.0</td>\n",
       "      <td>0.0</td>\n",
       "      <td>0.0</td>\n",
       "      <td>0.0</td>\n",
       "      <td>0.0</td>\n",
       "      <td>0.0</td>\n",
       "      <td>0.0</td>\n",
       "      <td>0.0</td>\n",
       "      <td>0.0</td>\n",
       "      <td>0.0</td>\n",
       "      <td>0.0</td>\n",
       "      <td>0.0</td>\n",
       "      <td>0.0</td>\n",
       "      <td>1.0</td>\n",
       "      <td>0.0</td>\n",
       "      <td>0.0</td>\n",
       "      <td>1.0</td>\n",
       "    </tr>\n",
       "    <tr>\n",
       "      <th>150001</th>\n",
       "      <td>0.027075</td>\n",
       "      <td>-0.091153</td>\n",
       "      <td>0.604763</td>\n",
       "      <td>0.0</td>\n",
       "      <td>0.0</td>\n",
       "      <td>0.0</td>\n",
       "      <td>1.0</td>\n",
       "      <td>0.0</td>\n",
       "      <td>0.0</td>\n",
       "      <td>0.0</td>\n",
       "      <td>1.0</td>\n",
       "      <td>0.0</td>\n",
       "      <td>0.0</td>\n",
       "      <td>0.0</td>\n",
       "      <td>0.0</td>\n",
       "      <td>0.0</td>\n",
       "      <td>0.0</td>\n",
       "      <td>0.0</td>\n",
       "      <td>0.0</td>\n",
       "      <td>0.0</td>\n",
       "      <td>0.0</td>\n",
       "      <td>0.0</td>\n",
       "      <td>0.0</td>\n",
       "      <td>0.0</td>\n",
       "      <td>0.0</td>\n",
       "      <td>0.0</td>\n",
       "      <td>0.0</td>\n",
       "      <td>0.0</td>\n",
       "      <td>0.0</td>\n",
       "      <td>0.0</td>\n",
       "      <td>0.0</td>\n",
       "      <td>0.0</td>\n",
       "      <td>0.0</td>\n",
       "      <td>0.0</td>\n",
       "      <td>0.0</td>\n",
       "      <td>0.0</td>\n",
       "      <td>0.0</td>\n",
       "      <td>0.0</td>\n",
       "      <td>0.0</td>\n",
       "      <td>0.0</td>\n",
       "      <td>0.0</td>\n",
       "      <td>0.0</td>\n",
       "      <td>0.0</td>\n",
       "      <td>0.0</td>\n",
       "      <td>0.0</td>\n",
       "      <td>0.0</td>\n",
       "      <td>0.0</td>\n",
       "      <td>0.0</td>\n",
       "      <td>0.0</td>\n",
       "      <td>0.0</td>\n",
       "      <td>...</td>\n",
       "      <td>0.0</td>\n",
       "      <td>0.0</td>\n",
       "      <td>0.0</td>\n",
       "      <td>0.0</td>\n",
       "      <td>0.0</td>\n",
       "      <td>1.0</td>\n",
       "      <td>0.0</td>\n",
       "      <td>0.0</td>\n",
       "      <td>0.0</td>\n",
       "      <td>0.0</td>\n",
       "      <td>0.0</td>\n",
       "      <td>0.0</td>\n",
       "      <td>0.0</td>\n",
       "      <td>0.0</td>\n",
       "      <td>0.0</td>\n",
       "      <td>0.0</td>\n",
       "      <td>0.0</td>\n",
       "      <td>0.0</td>\n",
       "      <td>0.0</td>\n",
       "      <td>1.0</td>\n",
       "      <td>0.0</td>\n",
       "      <td>0.0</td>\n",
       "      <td>0.0</td>\n",
       "      <td>0.0</td>\n",
       "      <td>0.0</td>\n",
       "      <td>0.0</td>\n",
       "      <td>0.0</td>\n",
       "      <td>0.0</td>\n",
       "      <td>0.0</td>\n",
       "      <td>0.0</td>\n",
       "      <td>0.0</td>\n",
       "      <td>0.0</td>\n",
       "      <td>0.0</td>\n",
       "      <td>0.0</td>\n",
       "      <td>0.0</td>\n",
       "      <td>0.0</td>\n",
       "      <td>0.0</td>\n",
       "      <td>0.0</td>\n",
       "      <td>0.0</td>\n",
       "      <td>0.0</td>\n",
       "      <td>0.0</td>\n",
       "      <td>0.0</td>\n",
       "      <td>0.0</td>\n",
       "      <td>0.0</td>\n",
       "      <td>0.0</td>\n",
       "      <td>0.0</td>\n",
       "      <td>0.0</td>\n",
       "      <td>0.0</td>\n",
       "      <td>0.0</td>\n",
       "      <td>0.0</td>\n",
       "    </tr>\n",
       "    <tr>\n",
       "      <th>31439</th>\n",
       "      <td>-0.123272</td>\n",
       "      <td>-0.854524</td>\n",
       "      <td>-0.054788</td>\n",
       "      <td>0.0</td>\n",
       "      <td>0.0</td>\n",
       "      <td>0.0</td>\n",
       "      <td>0.0</td>\n",
       "      <td>1.0</td>\n",
       "      <td>0.0</td>\n",
       "      <td>0.0</td>\n",
       "      <td>1.0</td>\n",
       "      <td>0.0</td>\n",
       "      <td>0.0</td>\n",
       "      <td>0.0</td>\n",
       "      <td>0.0</td>\n",
       "      <td>0.0</td>\n",
       "      <td>0.0</td>\n",
       "      <td>0.0</td>\n",
       "      <td>0.0</td>\n",
       "      <td>0.0</td>\n",
       "      <td>0.0</td>\n",
       "      <td>0.0</td>\n",
       "      <td>0.0</td>\n",
       "      <td>0.0</td>\n",
       "      <td>0.0</td>\n",
       "      <td>0.0</td>\n",
       "      <td>0.0</td>\n",
       "      <td>0.0</td>\n",
       "      <td>0.0</td>\n",
       "      <td>0.0</td>\n",
       "      <td>0.0</td>\n",
       "      <td>0.0</td>\n",
       "      <td>0.0</td>\n",
       "      <td>0.0</td>\n",
       "      <td>0.0</td>\n",
       "      <td>0.0</td>\n",
       "      <td>0.0</td>\n",
       "      <td>0.0</td>\n",
       "      <td>0.0</td>\n",
       "      <td>0.0</td>\n",
       "      <td>0.0</td>\n",
       "      <td>0.0</td>\n",
       "      <td>0.0</td>\n",
       "      <td>0.0</td>\n",
       "      <td>0.0</td>\n",
       "      <td>0.0</td>\n",
       "      <td>0.0</td>\n",
       "      <td>0.0</td>\n",
       "      <td>0.0</td>\n",
       "      <td>0.0</td>\n",
       "      <td>...</td>\n",
       "      <td>0.0</td>\n",
       "      <td>0.0</td>\n",
       "      <td>0.0</td>\n",
       "      <td>0.0</td>\n",
       "      <td>0.0</td>\n",
       "      <td>0.0</td>\n",
       "      <td>0.0</td>\n",
       "      <td>0.0</td>\n",
       "      <td>0.0</td>\n",
       "      <td>1.0</td>\n",
       "      <td>0.0</td>\n",
       "      <td>0.0</td>\n",
       "      <td>0.0</td>\n",
       "      <td>0.0</td>\n",
       "      <td>0.0</td>\n",
       "      <td>0.0</td>\n",
       "      <td>0.0</td>\n",
       "      <td>0.0</td>\n",
       "      <td>0.0</td>\n",
       "      <td>0.0</td>\n",
       "      <td>0.0</td>\n",
       "      <td>0.0</td>\n",
       "      <td>0.0</td>\n",
       "      <td>0.0</td>\n",
       "      <td>0.0</td>\n",
       "      <td>0.0</td>\n",
       "      <td>0.0</td>\n",
       "      <td>0.0</td>\n",
       "      <td>0.0</td>\n",
       "      <td>0.0</td>\n",
       "      <td>0.0</td>\n",
       "      <td>0.0</td>\n",
       "      <td>0.0</td>\n",
       "      <td>1.0</td>\n",
       "      <td>0.0</td>\n",
       "      <td>0.0</td>\n",
       "      <td>0.0</td>\n",
       "      <td>0.0</td>\n",
       "      <td>0.0</td>\n",
       "      <td>0.0</td>\n",
       "      <td>0.0</td>\n",
       "      <td>0.0</td>\n",
       "      <td>0.0</td>\n",
       "      <td>0.0</td>\n",
       "      <td>0.0</td>\n",
       "      <td>0.0</td>\n",
       "      <td>0.0</td>\n",
       "      <td>0.0</td>\n",
       "      <td>0.0</td>\n",
       "      <td>0.0</td>\n",
       "    </tr>\n",
       "  </tbody>\n",
       "</table>\n",
       "<p>5 rows × 305 columns</p>\n",
       "</div>"
      ],
      "text/plain": [
       "        RegistrationYear     Power  Kilometer  x0_convertible  x0_coupe  \\\n",
       "149322          0.177421  1.323877  -0.714340             0.0       0.0   \n",
       "550             0.327767  0.281223   0.604763             0.0       0.0   \n",
       "114943         -0.273618 -1.133806   0.604763             0.0       0.0   \n",
       "150001          0.027075 -0.091153   0.604763             0.0       0.0   \n",
       "31439          -0.123272 -0.854524  -0.054788             0.0       0.0   \n",
       "\n",
       "        x0_other  x0_sedan  x0_small  x0_suv  x0_wagon  x1_manual  x2_145  \\\n",
       "149322       0.0       1.0       0.0     0.0       0.0        1.0     0.0   \n",
       "550          0.0       0.0       0.0     0.0       1.0        1.0     0.0   \n",
       "114943       0.0       0.0       1.0     0.0       0.0        1.0     0.0   \n",
       "150001       0.0       1.0       0.0     0.0       0.0        1.0     0.0   \n",
       "31439        0.0       0.0       1.0     0.0       0.0        1.0     0.0   \n",
       "\n",
       "        x2_147  x2_156  x2_159  x2_1_reihe  x2_1er  x2_200  x2_2_reihe  \\\n",
       "149322     0.0     0.0     0.0         0.0     0.0     0.0         0.0   \n",
       "550        0.0     0.0     0.0         0.0     0.0     0.0         0.0   \n",
       "114943     0.0     0.0     0.0         0.0     0.0     0.0         0.0   \n",
       "150001     0.0     0.0     0.0         0.0     0.0     0.0         0.0   \n",
       "31439      0.0     0.0     0.0         0.0     0.0     0.0         0.0   \n",
       "\n",
       "        x2_300c  x2_3_reihe  x2_3er  x2_4_reihe  x2_500  x2_5_reihe  x2_5er  \\\n",
       "149322      0.0         0.0     1.0         0.0     0.0         0.0     0.0   \n",
       "550         0.0         0.0     0.0         0.0     0.0         0.0     0.0   \n",
       "114943      0.0         0.0     0.0         0.0     0.0         0.0     0.0   \n",
       "150001      0.0         0.0     0.0         0.0     0.0         0.0     0.0   \n",
       "31439       0.0         0.0     0.0         0.0     0.0         0.0     0.0   \n",
       "\n",
       "        x2_601  x2_6_reihe  x2_6er  x2_7er  x2_80  x2_850  x2_90  x2_900  \\\n",
       "149322     0.0         0.0     0.0     0.0    0.0     0.0    0.0     0.0   \n",
       "550        0.0         0.0     0.0     0.0    0.0     0.0    0.0     0.0   \n",
       "114943     0.0         0.0     0.0     0.0    0.0     0.0    0.0     0.0   \n",
       "150001     0.0         0.0     0.0     0.0    0.0     0.0    0.0     0.0   \n",
       "31439      0.0         0.0     0.0     0.0    0.0     0.0    0.0     0.0   \n",
       "\n",
       "        x2_9000  x2_911  x2_a1  x2_a2  x2_a3  x2_a4  x2_a5  x2_a6  x2_a8  \\\n",
       "149322      0.0     0.0    0.0    0.0    0.0    0.0    0.0    0.0    0.0   \n",
       "550         0.0     0.0    0.0    0.0    0.0    0.0    0.0    0.0    0.0   \n",
       "114943      0.0     0.0    0.0    0.0    0.0    0.0    0.0    0.0    0.0   \n",
       "150001      0.0     0.0    0.0    0.0    0.0    0.0    0.0    0.0    0.0   \n",
       "31439       0.0     0.0    0.0    0.0    0.0    0.0    0.0    0.0    0.0   \n",
       "\n",
       "        x2_a_klasse  x2_accord  x2_agila  x2_alhambra  x2_almera  x2_altea  \\\n",
       "149322          0.0        0.0       0.0          0.0        0.0       0.0   \n",
       "550             0.0        0.0       0.0          0.0        0.0       0.0   \n",
       "114943          0.0        0.0       0.0          0.0        0.0       0.0   \n",
       "150001          0.0        0.0       0.0          0.0        0.0       0.0   \n",
       "31439           0.0        0.0       0.0          0.0        0.0       0.0   \n",
       "\n",
       "        x2_amarok  ...  x2_yeti  x2_ypsilon  x2_z_reihe  x2_zafira  \\\n",
       "149322        0.0  ...      0.0         0.0         0.0        0.0   \n",
       "550           0.0  ...      0.0         0.0         0.0        0.0   \n",
       "114943        0.0  ...      0.0         0.0         0.0        0.0   \n",
       "150001        0.0  ...      0.0         0.0         0.0        0.0   \n",
       "31439         0.0  ...      0.0         0.0         0.0        0.0   \n",
       "\n",
       "        x3_electric  x3_gasoline  x3_hybrid  x3_lpg  x3_other  x3_petrol  \\\n",
       "149322          0.0          0.0        0.0     0.0       0.0        1.0   \n",
       "550             0.0          1.0        0.0     0.0       0.0        0.0   \n",
       "114943          0.0          0.0        0.0     0.0       0.0        1.0   \n",
       "150001          0.0          1.0        0.0     0.0       0.0        0.0   \n",
       "31439           0.0          0.0        0.0     0.0       0.0        1.0   \n",
       "\n",
       "        x4_audi  x4_bmw  x4_chevrolet  x4_chrysler  x4_citroen  x4_dacia  \\\n",
       "149322      0.0     1.0           0.0          0.0         0.0       0.0   \n",
       "550         0.0     0.0           0.0          0.0         0.0       0.0   \n",
       "114943      0.0     0.0           0.0          0.0         0.0       0.0   \n",
       "150001      0.0     0.0           0.0          0.0         0.0       0.0   \n",
       "31439       0.0     0.0           0.0          0.0         0.0       0.0   \n",
       "\n",
       "        x4_daewoo  x4_daihatsu  x4_fiat  x4_ford  x4_honda  x4_hyundai  \\\n",
       "149322        0.0          0.0      0.0      0.0       0.0         0.0   \n",
       "550           0.0          0.0      0.0      0.0       0.0         0.0   \n",
       "114943        0.0          0.0      0.0      0.0       0.0         0.0   \n",
       "150001        0.0          0.0      0.0      1.0       0.0         0.0   \n",
       "31439         0.0          0.0      0.0      0.0       0.0         0.0   \n",
       "\n",
       "        x4_jaguar  x4_jeep  x4_kia  x4_lada  x4_lancia  x4_land_rover  \\\n",
       "149322        0.0      0.0     0.0      0.0        0.0            0.0   \n",
       "550           0.0      0.0     0.0      0.0        0.0            0.0   \n",
       "114943        0.0      0.0     0.0      0.0        0.0            0.0   \n",
       "150001        0.0      0.0     0.0      0.0        0.0            0.0   \n",
       "31439         0.0      0.0     0.0      0.0        0.0            0.0   \n",
       "\n",
       "        x4_mazda  x4_mercedes_benz  x4_mini  x4_mitsubishi  x4_nissan  \\\n",
       "149322       0.0               0.0      0.0            0.0        0.0   \n",
       "550          0.0               0.0      0.0            0.0        0.0   \n",
       "114943       0.0               0.0      0.0            0.0        0.0   \n",
       "150001       0.0               0.0      0.0            0.0        0.0   \n",
       "31439        0.0               0.0      0.0            0.0        0.0   \n",
       "\n",
       "        x4_opel  x4_peugeot  x4_porsche  x4_renault  x4_rover  x4_saab  \\\n",
       "149322      0.0         0.0         0.0         0.0       0.0      0.0   \n",
       "550         0.0         0.0         0.0         0.0       0.0      0.0   \n",
       "114943      0.0         0.0         0.0         0.0       0.0      0.0   \n",
       "150001      0.0         0.0         0.0         0.0       0.0      0.0   \n",
       "31439       1.0         0.0         0.0         0.0       0.0      0.0   \n",
       "\n",
       "        x4_seat  x4_skoda  x4_smart  x4_subaru  x4_suzuki  x4_toyota  \\\n",
       "149322      0.0       0.0       0.0        0.0        0.0        0.0   \n",
       "550         0.0       0.0       0.0        0.0        0.0        0.0   \n",
       "114943      0.0       0.0       0.0        0.0        0.0        0.0   \n",
       "150001      0.0       0.0       0.0        0.0        0.0        0.0   \n",
       "31439       0.0       0.0       0.0        0.0        0.0        0.0   \n",
       "\n",
       "        x4_trabant  x4_volkswagen  x4_volvo  x5_unknown  x5_yes  \n",
       "149322         0.0            0.0       0.0         0.0     0.0  \n",
       "550            0.0            1.0       0.0         0.0     0.0  \n",
       "114943         0.0            1.0       0.0         0.0     1.0  \n",
       "150001         0.0            0.0       0.0         0.0     0.0  \n",
       "31439          0.0            0.0       0.0         0.0     0.0  \n",
       "\n",
       "[5 rows x 305 columns]"
      ]
     },
     "execution_count": 44,
     "metadata": {},
     "output_type": "execute_result"
    }
   ],
   "source": [
    "# drop='first' удаляет первый признак из закодированных:\n",
    "# таким образом обходим dummy-ловушку\n",
    "# задаём handle_unknown='ignore':\n",
    "# игнорируется ранее невстречающиеся значения признака (при transform)\n",
    "encoder_ohe = OneHotEncoder(drop='first', handle_unknown='error', sparse=False)\n",
    "\n",
    "# обучаем энкодер на заданных категориальных признаках тренировочной выборки\n",
    "encoder_ohe.fit(X_train_lin[ohe_features_lin])\n",
    "\n",
    "# добавляем закодированные признаки в X_train_ohe\n",
    "# encoder_ohe.get_feature_names_out() позволяет получить названия колонок\n",
    "X_train_lin[\n",
    "    encoder_ohe.get_feature_names()\n",
    "] = encoder_ohe.transform(X_train_lin[ohe_features_lin])\n",
    "\n",
    "# удаляем незакодированные категориальные признаки (изначальные колонки)\n",
    "X_train_lin = X_train_lin.drop(ohe_features_lin, axis=1)\n",
    "\n",
    "# создаём скелер\n",
    "scaler = StandardScaler()\n",
    "\n",
    "# обучаем его на численных признаках тренировочной выборки, трансформируем её же\n",
    "X_train_lin[num_features] = scaler.fit_transform(X_train_lin[num_features])\n",
    "\n",
    "# смотрим на результат\n",
    "X_train_lin.head()"
   ]
  },
  {
   "cell_type": "markdown",
   "metadata": {},
   "source": [
    "будем трансформировать тестовую выборку так:"
   ]
  },
  {
   "cell_type": "code",
   "execution_count": 45,
   "metadata": {},
   "outputs": [
    {
     "data": {
      "text/html": [
       "<div>\n",
       "<style scoped>\n",
       "    .dataframe tbody tr th:only-of-type {\n",
       "        vertical-align: middle;\n",
       "    }\n",
       "\n",
       "    .dataframe tbody tr th {\n",
       "        vertical-align: top;\n",
       "    }\n",
       "\n",
       "    .dataframe thead th {\n",
       "        text-align: right;\n",
       "    }\n",
       "</style>\n",
       "<table border=\"1\" class=\"dataframe\">\n",
       "  <thead>\n",
       "    <tr style=\"text-align: right;\">\n",
       "      <th></th>\n",
       "      <th>RegistrationYear</th>\n",
       "      <th>Power</th>\n",
       "      <th>Kilometer</th>\n",
       "      <th>x0_convertible</th>\n",
       "      <th>x0_coupe</th>\n",
       "      <th>x0_other</th>\n",
       "      <th>x0_sedan</th>\n",
       "      <th>x0_small</th>\n",
       "      <th>x0_suv</th>\n",
       "      <th>x0_wagon</th>\n",
       "      <th>x1_manual</th>\n",
       "      <th>x2_145</th>\n",
       "      <th>x2_147</th>\n",
       "      <th>x2_156</th>\n",
       "      <th>x2_159</th>\n",
       "      <th>x2_1_reihe</th>\n",
       "      <th>x2_1er</th>\n",
       "      <th>x2_200</th>\n",
       "      <th>x2_2_reihe</th>\n",
       "      <th>x2_300c</th>\n",
       "      <th>x2_3_reihe</th>\n",
       "      <th>x2_3er</th>\n",
       "      <th>x2_4_reihe</th>\n",
       "      <th>x2_500</th>\n",
       "      <th>x2_5_reihe</th>\n",
       "      <th>x2_5er</th>\n",
       "      <th>x2_601</th>\n",
       "      <th>x2_6_reihe</th>\n",
       "      <th>x2_6er</th>\n",
       "      <th>x2_7er</th>\n",
       "      <th>x2_80</th>\n",
       "      <th>x2_850</th>\n",
       "      <th>x2_90</th>\n",
       "      <th>x2_900</th>\n",
       "      <th>x2_9000</th>\n",
       "      <th>x2_911</th>\n",
       "      <th>x2_a1</th>\n",
       "      <th>x2_a2</th>\n",
       "      <th>x2_a3</th>\n",
       "      <th>x2_a4</th>\n",
       "      <th>x2_a5</th>\n",
       "      <th>x2_a6</th>\n",
       "      <th>x2_a8</th>\n",
       "      <th>x2_a_klasse</th>\n",
       "      <th>x2_accord</th>\n",
       "      <th>x2_agila</th>\n",
       "      <th>x2_alhambra</th>\n",
       "      <th>x2_almera</th>\n",
       "      <th>x2_altea</th>\n",
       "      <th>x2_amarok</th>\n",
       "      <th>...</th>\n",
       "      <th>x2_yeti</th>\n",
       "      <th>x2_ypsilon</th>\n",
       "      <th>x2_z_reihe</th>\n",
       "      <th>x2_zafira</th>\n",
       "      <th>x3_electric</th>\n",
       "      <th>x3_gasoline</th>\n",
       "      <th>x3_hybrid</th>\n",
       "      <th>x3_lpg</th>\n",
       "      <th>x3_other</th>\n",
       "      <th>x3_petrol</th>\n",
       "      <th>x4_audi</th>\n",
       "      <th>x4_bmw</th>\n",
       "      <th>x4_chevrolet</th>\n",
       "      <th>x4_chrysler</th>\n",
       "      <th>x4_citroen</th>\n",
       "      <th>x4_dacia</th>\n",
       "      <th>x4_daewoo</th>\n",
       "      <th>x4_daihatsu</th>\n",
       "      <th>x4_fiat</th>\n",
       "      <th>x4_ford</th>\n",
       "      <th>x4_honda</th>\n",
       "      <th>x4_hyundai</th>\n",
       "      <th>x4_jaguar</th>\n",
       "      <th>x4_jeep</th>\n",
       "      <th>x4_kia</th>\n",
       "      <th>x4_lada</th>\n",
       "      <th>x4_lancia</th>\n",
       "      <th>x4_land_rover</th>\n",
       "      <th>x4_mazda</th>\n",
       "      <th>x4_mercedes_benz</th>\n",
       "      <th>x4_mini</th>\n",
       "      <th>x4_mitsubishi</th>\n",
       "      <th>x4_nissan</th>\n",
       "      <th>x4_opel</th>\n",
       "      <th>x4_peugeot</th>\n",
       "      <th>x4_porsche</th>\n",
       "      <th>x4_renault</th>\n",
       "      <th>x4_rover</th>\n",
       "      <th>x4_saab</th>\n",
       "      <th>x4_seat</th>\n",
       "      <th>x4_skoda</th>\n",
       "      <th>x4_smart</th>\n",
       "      <th>x4_subaru</th>\n",
       "      <th>x4_suzuki</th>\n",
       "      <th>x4_toyota</th>\n",
       "      <th>x4_trabant</th>\n",
       "      <th>x4_volkswagen</th>\n",
       "      <th>x4_volvo</th>\n",
       "      <th>x5_unknown</th>\n",
       "      <th>x5_yes</th>\n",
       "    </tr>\n",
       "  </thead>\n",
       "  <tbody>\n",
       "    <tr>\n",
       "      <th>345466</th>\n",
       "      <td>0.327767</td>\n",
       "      <td>3.949129</td>\n",
       "      <td>0.604763</td>\n",
       "      <td>0.0</td>\n",
       "      <td>1.0</td>\n",
       "      <td>0.0</td>\n",
       "      <td>0.0</td>\n",
       "      <td>0.0</td>\n",
       "      <td>0.0</td>\n",
       "      <td>0.0</td>\n",
       "      <td>0.0</td>\n",
       "      <td>0.0</td>\n",
       "      <td>0.0</td>\n",
       "      <td>0.0</td>\n",
       "      <td>0.0</td>\n",
       "      <td>0.0</td>\n",
       "      <td>0.0</td>\n",
       "      <td>0.0</td>\n",
       "      <td>0.0</td>\n",
       "      <td>0.0</td>\n",
       "      <td>0.0</td>\n",
       "      <td>0.0</td>\n",
       "      <td>0.0</td>\n",
       "      <td>0.0</td>\n",
       "      <td>0.0</td>\n",
       "      <td>0.0</td>\n",
       "      <td>0.0</td>\n",
       "      <td>0.0</td>\n",
       "      <td>1.0</td>\n",
       "      <td>0.0</td>\n",
       "      <td>0.0</td>\n",
       "      <td>0.0</td>\n",
       "      <td>0.0</td>\n",
       "      <td>0.0</td>\n",
       "      <td>0.0</td>\n",
       "      <td>0.0</td>\n",
       "      <td>0.0</td>\n",
       "      <td>0.0</td>\n",
       "      <td>0.0</td>\n",
       "      <td>0.0</td>\n",
       "      <td>0.0</td>\n",
       "      <td>0.0</td>\n",
       "      <td>0.0</td>\n",
       "      <td>0.0</td>\n",
       "      <td>0.0</td>\n",
       "      <td>0.0</td>\n",
       "      <td>0.0</td>\n",
       "      <td>0.0</td>\n",
       "      <td>0.0</td>\n",
       "      <td>0.0</td>\n",
       "      <td>...</td>\n",
       "      <td>0.0</td>\n",
       "      <td>0.0</td>\n",
       "      <td>0.0</td>\n",
       "      <td>0.0</td>\n",
       "      <td>0.0</td>\n",
       "      <td>0.0</td>\n",
       "      <td>0.0</td>\n",
       "      <td>0.0</td>\n",
       "      <td>0.0</td>\n",
       "      <td>1.0</td>\n",
       "      <td>0.0</td>\n",
       "      <td>1.0</td>\n",
       "      <td>0.0</td>\n",
       "      <td>0.0</td>\n",
       "      <td>0.0</td>\n",
       "      <td>0.0</td>\n",
       "      <td>0.0</td>\n",
       "      <td>0.0</td>\n",
       "      <td>0.0</td>\n",
       "      <td>0.0</td>\n",
       "      <td>0.0</td>\n",
       "      <td>0.0</td>\n",
       "      <td>0.0</td>\n",
       "      <td>0.0</td>\n",
       "      <td>0.0</td>\n",
       "      <td>0.0</td>\n",
       "      <td>0.0</td>\n",
       "      <td>0.0</td>\n",
       "      <td>0.0</td>\n",
       "      <td>0.0</td>\n",
       "      <td>0.0</td>\n",
       "      <td>0.0</td>\n",
       "      <td>0.0</td>\n",
       "      <td>0.0</td>\n",
       "      <td>0.0</td>\n",
       "      <td>0.0</td>\n",
       "      <td>0.0</td>\n",
       "      <td>0.0</td>\n",
       "      <td>0.0</td>\n",
       "      <td>0.0</td>\n",
       "      <td>0.0</td>\n",
       "      <td>0.0</td>\n",
       "      <td>0.0</td>\n",
       "      <td>0.0</td>\n",
       "      <td>0.0</td>\n",
       "      <td>0.0</td>\n",
       "      <td>0.0</td>\n",
       "      <td>0.0</td>\n",
       "      <td>1.0</td>\n",
       "      <td>0.0</td>\n",
       "    </tr>\n",
       "    <tr>\n",
       "      <th>82773</th>\n",
       "      <td>0.929152</td>\n",
       "      <td>-0.817287</td>\n",
       "      <td>-0.714340</td>\n",
       "      <td>0.0</td>\n",
       "      <td>0.0</td>\n",
       "      <td>0.0</td>\n",
       "      <td>0.0</td>\n",
       "      <td>1.0</td>\n",
       "      <td>0.0</td>\n",
       "      <td>0.0</td>\n",
       "      <td>1.0</td>\n",
       "      <td>0.0</td>\n",
       "      <td>0.0</td>\n",
       "      <td>0.0</td>\n",
       "      <td>0.0</td>\n",
       "      <td>0.0</td>\n",
       "      <td>0.0</td>\n",
       "      <td>0.0</td>\n",
       "      <td>0.0</td>\n",
       "      <td>0.0</td>\n",
       "      <td>0.0</td>\n",
       "      <td>0.0</td>\n",
       "      <td>0.0</td>\n",
       "      <td>0.0</td>\n",
       "      <td>0.0</td>\n",
       "      <td>0.0</td>\n",
       "      <td>0.0</td>\n",
       "      <td>0.0</td>\n",
       "      <td>0.0</td>\n",
       "      <td>0.0</td>\n",
       "      <td>0.0</td>\n",
       "      <td>0.0</td>\n",
       "      <td>0.0</td>\n",
       "      <td>0.0</td>\n",
       "      <td>0.0</td>\n",
       "      <td>0.0</td>\n",
       "      <td>0.0</td>\n",
       "      <td>0.0</td>\n",
       "      <td>0.0</td>\n",
       "      <td>0.0</td>\n",
       "      <td>0.0</td>\n",
       "      <td>0.0</td>\n",
       "      <td>0.0</td>\n",
       "      <td>0.0</td>\n",
       "      <td>0.0</td>\n",
       "      <td>0.0</td>\n",
       "      <td>0.0</td>\n",
       "      <td>0.0</td>\n",
       "      <td>0.0</td>\n",
       "      <td>0.0</td>\n",
       "      <td>...</td>\n",
       "      <td>0.0</td>\n",
       "      <td>0.0</td>\n",
       "      <td>0.0</td>\n",
       "      <td>0.0</td>\n",
       "      <td>0.0</td>\n",
       "      <td>0.0</td>\n",
       "      <td>0.0</td>\n",
       "      <td>0.0</td>\n",
       "      <td>0.0</td>\n",
       "      <td>1.0</td>\n",
       "      <td>0.0</td>\n",
       "      <td>0.0</td>\n",
       "      <td>0.0</td>\n",
       "      <td>0.0</td>\n",
       "      <td>0.0</td>\n",
       "      <td>0.0</td>\n",
       "      <td>0.0</td>\n",
       "      <td>0.0</td>\n",
       "      <td>0.0</td>\n",
       "      <td>0.0</td>\n",
       "      <td>0.0</td>\n",
       "      <td>1.0</td>\n",
       "      <td>0.0</td>\n",
       "      <td>0.0</td>\n",
       "      <td>0.0</td>\n",
       "      <td>0.0</td>\n",
       "      <td>0.0</td>\n",
       "      <td>0.0</td>\n",
       "      <td>0.0</td>\n",
       "      <td>0.0</td>\n",
       "      <td>0.0</td>\n",
       "      <td>0.0</td>\n",
       "      <td>0.0</td>\n",
       "      <td>0.0</td>\n",
       "      <td>0.0</td>\n",
       "      <td>0.0</td>\n",
       "      <td>0.0</td>\n",
       "      <td>0.0</td>\n",
       "      <td>0.0</td>\n",
       "      <td>0.0</td>\n",
       "      <td>0.0</td>\n",
       "      <td>0.0</td>\n",
       "      <td>0.0</td>\n",
       "      <td>0.0</td>\n",
       "      <td>0.0</td>\n",
       "      <td>0.0</td>\n",
       "      <td>0.0</td>\n",
       "      <td>0.0</td>\n",
       "      <td>0.0</td>\n",
       "      <td>0.0</td>\n",
       "    </tr>\n",
       "    <tr>\n",
       "      <th>14561</th>\n",
       "      <td>0.177421</td>\n",
       "      <td>0.076416</td>\n",
       "      <td>-0.054788</td>\n",
       "      <td>0.0</td>\n",
       "      <td>0.0</td>\n",
       "      <td>0.0</td>\n",
       "      <td>0.0</td>\n",
       "      <td>0.0</td>\n",
       "      <td>0.0</td>\n",
       "      <td>0.0</td>\n",
       "      <td>1.0</td>\n",
       "      <td>0.0</td>\n",
       "      <td>0.0</td>\n",
       "      <td>0.0</td>\n",
       "      <td>0.0</td>\n",
       "      <td>0.0</td>\n",
       "      <td>0.0</td>\n",
       "      <td>0.0</td>\n",
       "      <td>0.0</td>\n",
       "      <td>0.0</td>\n",
       "      <td>0.0</td>\n",
       "      <td>0.0</td>\n",
       "      <td>0.0</td>\n",
       "      <td>0.0</td>\n",
       "      <td>0.0</td>\n",
       "      <td>0.0</td>\n",
       "      <td>0.0</td>\n",
       "      <td>0.0</td>\n",
       "      <td>0.0</td>\n",
       "      <td>0.0</td>\n",
       "      <td>0.0</td>\n",
       "      <td>0.0</td>\n",
       "      <td>0.0</td>\n",
       "      <td>0.0</td>\n",
       "      <td>0.0</td>\n",
       "      <td>0.0</td>\n",
       "      <td>0.0</td>\n",
       "      <td>0.0</td>\n",
       "      <td>0.0</td>\n",
       "      <td>0.0</td>\n",
       "      <td>0.0</td>\n",
       "      <td>0.0</td>\n",
       "      <td>0.0</td>\n",
       "      <td>0.0</td>\n",
       "      <td>0.0</td>\n",
       "      <td>0.0</td>\n",
       "      <td>0.0</td>\n",
       "      <td>0.0</td>\n",
       "      <td>0.0</td>\n",
       "      <td>0.0</td>\n",
       "      <td>...</td>\n",
       "      <td>0.0</td>\n",
       "      <td>0.0</td>\n",
       "      <td>0.0</td>\n",
       "      <td>0.0</td>\n",
       "      <td>0.0</td>\n",
       "      <td>0.0</td>\n",
       "      <td>0.0</td>\n",
       "      <td>0.0</td>\n",
       "      <td>0.0</td>\n",
       "      <td>1.0</td>\n",
       "      <td>0.0</td>\n",
       "      <td>0.0</td>\n",
       "      <td>0.0</td>\n",
       "      <td>0.0</td>\n",
       "      <td>0.0</td>\n",
       "      <td>0.0</td>\n",
       "      <td>0.0</td>\n",
       "      <td>0.0</td>\n",
       "      <td>0.0</td>\n",
       "      <td>1.0</td>\n",
       "      <td>0.0</td>\n",
       "      <td>0.0</td>\n",
       "      <td>0.0</td>\n",
       "      <td>0.0</td>\n",
       "      <td>0.0</td>\n",
       "      <td>0.0</td>\n",
       "      <td>0.0</td>\n",
       "      <td>0.0</td>\n",
       "      <td>0.0</td>\n",
       "      <td>0.0</td>\n",
       "      <td>0.0</td>\n",
       "      <td>0.0</td>\n",
       "      <td>0.0</td>\n",
       "      <td>0.0</td>\n",
       "      <td>0.0</td>\n",
       "      <td>0.0</td>\n",
       "      <td>0.0</td>\n",
       "      <td>0.0</td>\n",
       "      <td>0.0</td>\n",
       "      <td>0.0</td>\n",
       "      <td>0.0</td>\n",
       "      <td>0.0</td>\n",
       "      <td>0.0</td>\n",
       "      <td>0.0</td>\n",
       "      <td>0.0</td>\n",
       "      <td>0.0</td>\n",
       "      <td>0.0</td>\n",
       "      <td>0.0</td>\n",
       "      <td>0.0</td>\n",
       "      <td>0.0</td>\n",
       "    </tr>\n",
       "    <tr>\n",
       "      <th>216030</th>\n",
       "      <td>-0.875003</td>\n",
       "      <td>-1.245519</td>\n",
       "      <td>-0.054788</td>\n",
       "      <td>0.0</td>\n",
       "      <td>0.0</td>\n",
       "      <td>0.0</td>\n",
       "      <td>0.0</td>\n",
       "      <td>1.0</td>\n",
       "      <td>0.0</td>\n",
       "      <td>0.0</td>\n",
       "      <td>1.0</td>\n",
       "      <td>0.0</td>\n",
       "      <td>0.0</td>\n",
       "      <td>0.0</td>\n",
       "      <td>0.0</td>\n",
       "      <td>0.0</td>\n",
       "      <td>0.0</td>\n",
       "      <td>0.0</td>\n",
       "      <td>0.0</td>\n",
       "      <td>0.0</td>\n",
       "      <td>0.0</td>\n",
       "      <td>0.0</td>\n",
       "      <td>0.0</td>\n",
       "      <td>0.0</td>\n",
       "      <td>0.0</td>\n",
       "      <td>0.0</td>\n",
       "      <td>0.0</td>\n",
       "      <td>0.0</td>\n",
       "      <td>0.0</td>\n",
       "      <td>0.0</td>\n",
       "      <td>0.0</td>\n",
       "      <td>0.0</td>\n",
       "      <td>0.0</td>\n",
       "      <td>0.0</td>\n",
       "      <td>0.0</td>\n",
       "      <td>0.0</td>\n",
       "      <td>0.0</td>\n",
       "      <td>0.0</td>\n",
       "      <td>0.0</td>\n",
       "      <td>0.0</td>\n",
       "      <td>0.0</td>\n",
       "      <td>0.0</td>\n",
       "      <td>0.0</td>\n",
       "      <td>0.0</td>\n",
       "      <td>0.0</td>\n",
       "      <td>0.0</td>\n",
       "      <td>0.0</td>\n",
       "      <td>0.0</td>\n",
       "      <td>0.0</td>\n",
       "      <td>0.0</td>\n",
       "      <td>...</td>\n",
       "      <td>0.0</td>\n",
       "      <td>0.0</td>\n",
       "      <td>0.0</td>\n",
       "      <td>0.0</td>\n",
       "      <td>0.0</td>\n",
       "      <td>0.0</td>\n",
       "      <td>0.0</td>\n",
       "      <td>0.0</td>\n",
       "      <td>0.0</td>\n",
       "      <td>1.0</td>\n",
       "      <td>0.0</td>\n",
       "      <td>0.0</td>\n",
       "      <td>0.0</td>\n",
       "      <td>0.0</td>\n",
       "      <td>0.0</td>\n",
       "      <td>0.0</td>\n",
       "      <td>0.0</td>\n",
       "      <td>0.0</td>\n",
       "      <td>0.0</td>\n",
       "      <td>0.0</td>\n",
       "      <td>0.0</td>\n",
       "      <td>0.0</td>\n",
       "      <td>0.0</td>\n",
       "      <td>0.0</td>\n",
       "      <td>0.0</td>\n",
       "      <td>0.0</td>\n",
       "      <td>0.0</td>\n",
       "      <td>0.0</td>\n",
       "      <td>0.0</td>\n",
       "      <td>0.0</td>\n",
       "      <td>0.0</td>\n",
       "      <td>0.0</td>\n",
       "      <td>1.0</td>\n",
       "      <td>0.0</td>\n",
       "      <td>0.0</td>\n",
       "      <td>0.0</td>\n",
       "      <td>0.0</td>\n",
       "      <td>0.0</td>\n",
       "      <td>0.0</td>\n",
       "      <td>0.0</td>\n",
       "      <td>0.0</td>\n",
       "      <td>0.0</td>\n",
       "      <td>0.0</td>\n",
       "      <td>0.0</td>\n",
       "      <td>0.0</td>\n",
       "      <td>0.0</td>\n",
       "      <td>0.0</td>\n",
       "      <td>0.0</td>\n",
       "      <td>0.0</td>\n",
       "      <td>1.0</td>\n",
       "    </tr>\n",
       "    <tr>\n",
       "      <th>29824</th>\n",
       "      <td>-0.273618</td>\n",
       "      <td>0.188129</td>\n",
       "      <td>0.604763</td>\n",
       "      <td>0.0</td>\n",
       "      <td>0.0</td>\n",
       "      <td>0.0</td>\n",
       "      <td>0.0</td>\n",
       "      <td>0.0</td>\n",
       "      <td>0.0</td>\n",
       "      <td>1.0</td>\n",
       "      <td>1.0</td>\n",
       "      <td>0.0</td>\n",
       "      <td>0.0</td>\n",
       "      <td>0.0</td>\n",
       "      <td>0.0</td>\n",
       "      <td>0.0</td>\n",
       "      <td>0.0</td>\n",
       "      <td>0.0</td>\n",
       "      <td>0.0</td>\n",
       "      <td>0.0</td>\n",
       "      <td>0.0</td>\n",
       "      <td>0.0</td>\n",
       "      <td>0.0</td>\n",
       "      <td>0.0</td>\n",
       "      <td>0.0</td>\n",
       "      <td>0.0</td>\n",
       "      <td>0.0</td>\n",
       "      <td>0.0</td>\n",
       "      <td>0.0</td>\n",
       "      <td>0.0</td>\n",
       "      <td>0.0</td>\n",
       "      <td>0.0</td>\n",
       "      <td>0.0</td>\n",
       "      <td>0.0</td>\n",
       "      <td>0.0</td>\n",
       "      <td>0.0</td>\n",
       "      <td>0.0</td>\n",
       "      <td>0.0</td>\n",
       "      <td>0.0</td>\n",
       "      <td>0.0</td>\n",
       "      <td>0.0</td>\n",
       "      <td>0.0</td>\n",
       "      <td>0.0</td>\n",
       "      <td>0.0</td>\n",
       "      <td>0.0</td>\n",
       "      <td>0.0</td>\n",
       "      <td>0.0</td>\n",
       "      <td>0.0</td>\n",
       "      <td>0.0</td>\n",
       "      <td>0.0</td>\n",
       "      <td>...</td>\n",
       "      <td>0.0</td>\n",
       "      <td>0.0</td>\n",
       "      <td>0.0</td>\n",
       "      <td>0.0</td>\n",
       "      <td>0.0</td>\n",
       "      <td>1.0</td>\n",
       "      <td>0.0</td>\n",
       "      <td>0.0</td>\n",
       "      <td>0.0</td>\n",
       "      <td>0.0</td>\n",
       "      <td>0.0</td>\n",
       "      <td>0.0</td>\n",
       "      <td>0.0</td>\n",
       "      <td>0.0</td>\n",
       "      <td>0.0</td>\n",
       "      <td>0.0</td>\n",
       "      <td>0.0</td>\n",
       "      <td>0.0</td>\n",
       "      <td>0.0</td>\n",
       "      <td>0.0</td>\n",
       "      <td>0.0</td>\n",
       "      <td>0.0</td>\n",
       "      <td>0.0</td>\n",
       "      <td>0.0</td>\n",
       "      <td>0.0</td>\n",
       "      <td>0.0</td>\n",
       "      <td>0.0</td>\n",
       "      <td>0.0</td>\n",
       "      <td>0.0</td>\n",
       "      <td>0.0</td>\n",
       "      <td>0.0</td>\n",
       "      <td>0.0</td>\n",
       "      <td>0.0</td>\n",
       "      <td>0.0</td>\n",
       "      <td>0.0</td>\n",
       "      <td>0.0</td>\n",
       "      <td>0.0</td>\n",
       "      <td>0.0</td>\n",
       "      <td>0.0</td>\n",
       "      <td>0.0</td>\n",
       "      <td>0.0</td>\n",
       "      <td>0.0</td>\n",
       "      <td>0.0</td>\n",
       "      <td>0.0</td>\n",
       "      <td>0.0</td>\n",
       "      <td>0.0</td>\n",
       "      <td>1.0</td>\n",
       "      <td>0.0</td>\n",
       "      <td>0.0</td>\n",
       "      <td>0.0</td>\n",
       "    </tr>\n",
       "  </tbody>\n",
       "</table>\n",
       "<p>5 rows × 305 columns</p>\n",
       "</div>"
      ],
      "text/plain": [
       "        RegistrationYear     Power  Kilometer  x0_convertible  x0_coupe  \\\n",
       "345466          0.327767  3.949129   0.604763             0.0       1.0   \n",
       "82773           0.929152 -0.817287  -0.714340             0.0       0.0   \n",
       "14561           0.177421  0.076416  -0.054788             0.0       0.0   \n",
       "216030         -0.875003 -1.245519  -0.054788             0.0       0.0   \n",
       "29824          -0.273618  0.188129   0.604763             0.0       0.0   \n",
       "\n",
       "        x0_other  x0_sedan  x0_small  x0_suv  x0_wagon  x1_manual  x2_145  \\\n",
       "345466       0.0       0.0       0.0     0.0       0.0        0.0     0.0   \n",
       "82773        0.0       0.0       1.0     0.0       0.0        1.0     0.0   \n",
       "14561        0.0       0.0       0.0     0.0       0.0        1.0     0.0   \n",
       "216030       0.0       0.0       1.0     0.0       0.0        1.0     0.0   \n",
       "29824        0.0       0.0       0.0     0.0       1.0        1.0     0.0   \n",
       "\n",
       "        x2_147  x2_156  x2_159  x2_1_reihe  x2_1er  x2_200  x2_2_reihe  \\\n",
       "345466     0.0     0.0     0.0         0.0     0.0     0.0         0.0   \n",
       "82773      0.0     0.0     0.0         0.0     0.0     0.0         0.0   \n",
       "14561      0.0     0.0     0.0         0.0     0.0     0.0         0.0   \n",
       "216030     0.0     0.0     0.0         0.0     0.0     0.0         0.0   \n",
       "29824      0.0     0.0     0.0         0.0     0.0     0.0         0.0   \n",
       "\n",
       "        x2_300c  x2_3_reihe  x2_3er  x2_4_reihe  x2_500  x2_5_reihe  x2_5er  \\\n",
       "345466      0.0         0.0     0.0         0.0     0.0         0.0     0.0   \n",
       "82773       0.0         0.0     0.0         0.0     0.0         0.0     0.0   \n",
       "14561       0.0         0.0     0.0         0.0     0.0         0.0     0.0   \n",
       "216030      0.0         0.0     0.0         0.0     0.0         0.0     0.0   \n",
       "29824       0.0         0.0     0.0         0.0     0.0         0.0     0.0   \n",
       "\n",
       "        x2_601  x2_6_reihe  x2_6er  x2_7er  x2_80  x2_850  x2_90  x2_900  \\\n",
       "345466     0.0         0.0     1.0     0.0    0.0     0.0    0.0     0.0   \n",
       "82773      0.0         0.0     0.0     0.0    0.0     0.0    0.0     0.0   \n",
       "14561      0.0         0.0     0.0     0.0    0.0     0.0    0.0     0.0   \n",
       "216030     0.0         0.0     0.0     0.0    0.0     0.0    0.0     0.0   \n",
       "29824      0.0         0.0     0.0     0.0    0.0     0.0    0.0     0.0   \n",
       "\n",
       "        x2_9000  x2_911  x2_a1  x2_a2  x2_a3  x2_a4  x2_a5  x2_a6  x2_a8  \\\n",
       "345466      0.0     0.0    0.0    0.0    0.0    0.0    0.0    0.0    0.0   \n",
       "82773       0.0     0.0    0.0    0.0    0.0    0.0    0.0    0.0    0.0   \n",
       "14561       0.0     0.0    0.0    0.0    0.0    0.0    0.0    0.0    0.0   \n",
       "216030      0.0     0.0    0.0    0.0    0.0    0.0    0.0    0.0    0.0   \n",
       "29824       0.0     0.0    0.0    0.0    0.0    0.0    0.0    0.0    0.0   \n",
       "\n",
       "        x2_a_klasse  x2_accord  x2_agila  x2_alhambra  x2_almera  x2_altea  \\\n",
       "345466          0.0        0.0       0.0          0.0        0.0       0.0   \n",
       "82773           0.0        0.0       0.0          0.0        0.0       0.0   \n",
       "14561           0.0        0.0       0.0          0.0        0.0       0.0   \n",
       "216030          0.0        0.0       0.0          0.0        0.0       0.0   \n",
       "29824           0.0        0.0       0.0          0.0        0.0       0.0   \n",
       "\n",
       "        x2_amarok  ...  x2_yeti  x2_ypsilon  x2_z_reihe  x2_zafira  \\\n",
       "345466        0.0  ...      0.0         0.0         0.0        0.0   \n",
       "82773         0.0  ...      0.0         0.0         0.0        0.0   \n",
       "14561         0.0  ...      0.0         0.0         0.0        0.0   \n",
       "216030        0.0  ...      0.0         0.0         0.0        0.0   \n",
       "29824         0.0  ...      0.0         0.0         0.0        0.0   \n",
       "\n",
       "        x3_electric  x3_gasoline  x3_hybrid  x3_lpg  x3_other  x3_petrol  \\\n",
       "345466          0.0          0.0        0.0     0.0       0.0        1.0   \n",
       "82773           0.0          0.0        0.0     0.0       0.0        1.0   \n",
       "14561           0.0          0.0        0.0     0.0       0.0        1.0   \n",
       "216030          0.0          0.0        0.0     0.0       0.0        1.0   \n",
       "29824           0.0          1.0        0.0     0.0       0.0        0.0   \n",
       "\n",
       "        x4_audi  x4_bmw  x4_chevrolet  x4_chrysler  x4_citroen  x4_dacia  \\\n",
       "345466      0.0     1.0           0.0          0.0         0.0       0.0   \n",
       "82773       0.0     0.0           0.0          0.0         0.0       0.0   \n",
       "14561       0.0     0.0           0.0          0.0         0.0       0.0   \n",
       "216030      0.0     0.0           0.0          0.0         0.0       0.0   \n",
       "29824       0.0     0.0           0.0          0.0         0.0       0.0   \n",
       "\n",
       "        x4_daewoo  x4_daihatsu  x4_fiat  x4_ford  x4_honda  x4_hyundai  \\\n",
       "345466        0.0          0.0      0.0      0.0       0.0         0.0   \n",
       "82773         0.0          0.0      0.0      0.0       0.0         1.0   \n",
       "14561         0.0          0.0      0.0      1.0       0.0         0.0   \n",
       "216030        0.0          0.0      0.0      0.0       0.0         0.0   \n",
       "29824         0.0          0.0      0.0      0.0       0.0         0.0   \n",
       "\n",
       "        x4_jaguar  x4_jeep  x4_kia  x4_lada  x4_lancia  x4_land_rover  \\\n",
       "345466        0.0      0.0     0.0      0.0        0.0            0.0   \n",
       "82773         0.0      0.0     0.0      0.0        0.0            0.0   \n",
       "14561         0.0      0.0     0.0      0.0        0.0            0.0   \n",
       "216030        0.0      0.0     0.0      0.0        0.0            0.0   \n",
       "29824         0.0      0.0     0.0      0.0        0.0            0.0   \n",
       "\n",
       "        x4_mazda  x4_mercedes_benz  x4_mini  x4_mitsubishi  x4_nissan  \\\n",
       "345466       0.0               0.0      0.0            0.0        0.0   \n",
       "82773        0.0               0.0      0.0            0.0        0.0   \n",
       "14561        0.0               0.0      0.0            0.0        0.0   \n",
       "216030       0.0               0.0      0.0            0.0        1.0   \n",
       "29824        0.0               0.0      0.0            0.0        0.0   \n",
       "\n",
       "        x4_opel  x4_peugeot  x4_porsche  x4_renault  x4_rover  x4_saab  \\\n",
       "345466      0.0         0.0         0.0         0.0       0.0      0.0   \n",
       "82773       0.0         0.0         0.0         0.0       0.0      0.0   \n",
       "14561       0.0         0.0         0.0         0.0       0.0      0.0   \n",
       "216030      0.0         0.0         0.0         0.0       0.0      0.0   \n",
       "29824       0.0         0.0         0.0         0.0       0.0      0.0   \n",
       "\n",
       "        x4_seat  x4_skoda  x4_smart  x4_subaru  x4_suzuki  x4_toyota  \\\n",
       "345466      0.0       0.0       0.0        0.0        0.0        0.0   \n",
       "82773       0.0       0.0       0.0        0.0        0.0        0.0   \n",
       "14561       0.0       0.0       0.0        0.0        0.0        0.0   \n",
       "216030      0.0       0.0       0.0        0.0        0.0        0.0   \n",
       "29824       0.0       0.0       0.0        0.0        0.0        0.0   \n",
       "\n",
       "        x4_trabant  x4_volkswagen  x4_volvo  x5_unknown  x5_yes  \n",
       "345466         0.0            0.0       0.0         1.0     0.0  \n",
       "82773          0.0            0.0       0.0         0.0     0.0  \n",
       "14561          0.0            0.0       0.0         0.0     0.0  \n",
       "216030         0.0            0.0       0.0         0.0     1.0  \n",
       "29824          0.0            1.0       0.0         0.0     0.0  \n",
       "\n",
       "[5 rows x 305 columns]"
      ]
     },
     "execution_count": 45,
     "metadata": {},
     "output_type": "execute_result"
    }
   ],
   "source": [
    "# энкодером, который обучен на ТРЕНИРОВОЧНОЙ ВЫБОРКЕ, кодируем тестовую\n",
    "X_test_lin[\n",
    "    encoder_ohe.get_feature_names()\n",
    "] = encoder_ohe.transform(X_test_lin[ohe_features_lin])\n",
    "\n",
    "X_test_lin = X_test_lin.drop(ohe_features_lin, axis=1)\n",
    "\n",
    "# скелером, который обучен на ТРЕНИРОВОЧНОЙ ВЫБОРКЕ, масштабируем тестовую\n",
    "X_test_lin[num_features] = scaler.transform(\n",
    "    X_test_lin[num_features]\n",
    ")\n",
    "\n",
    "# смотрим на результат\n",
    "X_test_lin.head()"
   ]
  },
  {
   "cell_type": "code",
   "execution_count": 46,
   "metadata": {},
   "outputs": [
    {
     "data": {
      "text/plain": [
       "((200693, 305), (66898, 305))"
      ]
     },
     "execution_count": 46,
     "metadata": {},
     "output_type": "execute_result"
    }
   ],
   "source": [
    "# получилось одинаковое количество признаков\n",
    "X_train_lin.shape, X_test_lin.shape"
   ]
  },
  {
   "cell_type": "code",
   "execution_count": 47,
   "metadata": {},
   "outputs": [
    {
     "data": {
      "text/plain": [
       "0"
      ]
     },
     "execution_count": 47,
     "metadata": {},
     "output_type": "execute_result"
    }
   ],
   "source": [
    "# получились одинаковые признаки в тренировочной и тестовой выборках\n",
    "(X_train_lin.columns != X_test_lin.columns).sum()"
   ]
  },
  {
   "cell_type": "markdown",
   "metadata": {},
   "source": [
    "target_ohe=df_ohe['Price']\n",
    "features_ohe=df_ohe.drop('Price', axis=1)\n",
    "features_train_ohe, features_test_ohe, target_train_ohe, target_test_ohe = train_test_split(\n",
    "        features_ohe,target_ohe, test_size=0.25, random_state=12345)"
   ]
  },
  {
   "cell_type": "markdown",
   "metadata": {},
   "source": [
    "print('Обучающая выборка: ', features_train_ohe.shape,  target_train_ohe.shape)\n",
    "print('Тестовая выборка: ', features_test_ohe.shape,  target_test_ohe.shape)"
   ]
  },
  {
   "cell_type": "markdown",
   "metadata": {},
   "source": [
    "Выводы\n",
    "\n",
    "Данные загружены и проверены. Дубликаты удалены. Часть пропусков и аномальных значений заполнены и заменены на основе имеющихся данных. Остальная часть удалена. Всего удалено 11% данных.\n",
    "\n",
    "Для простых моделей категориальные признаки преобразованы с помощью one-hot encoding. Данные разделены на обучающую и тестовую выборки в соотношении 75:25"
   ]
  },
  {
   "cell_type": "markdown",
   "metadata": {},
   "source": [
    "## Обучение моделей"
   ]
  },
  {
   "cell_type": "markdown",
   "metadata": {},
   "source": [
    "Сначала создадим константную модель, которая любому объекту будет предсказывать среднее значение и посчитаем для нее метрику RMSE. С этой метрикой будем сравнивать все последующие модели"
   ]
  },
  {
   "cell_type": "code",
   "execution_count": 48,
   "metadata": {},
   "outputs": [
    {
     "name": "stdout",
     "output_type": "stream",
     "text": [
      "RMSE константной модели: 4958.89\n"
     ]
    }
   ],
   "source": [
    "predicted_const = pd.Series(y_train.median(), index=y_train.index)\n",
    "rmse_const= mean_squared_error(y_train, predicted_const)**0.5\n",
    "print('RMSE константной модели: {:.2f}'. format(rmse_const))"
   ]
  },
  {
   "cell_type": "markdown",
   "metadata": {},
   "source": [
    "Возьмем для обучения и анализа 5 моделей: Логистическая регрессия, RandomForestRegressor, DecisionTreeRegressor, CatBoost и LightGBM\n",
    "\n",
    "Напишем функцию для кроссвалидации, поиска оптимальных параметров и расчета RMSE по этим параметрам на обучающей выборке для простых моделей."
   ]
  },
  {
   "cell_type": "code",
   "execution_count": 49,
   "metadata": {},
   "outputs": [],
   "source": [
    "def calc(model, features, target, params):\n",
    "    grid= GridSearchCV(model, params, scoring='neg_root_mean_squared_error', cv=5, n_jobs = -1)\n",
    "    grid.fit(features, target)\n",
    "    rmse=-grid.best_score_\n",
    "    print('RMSE модели на обучающей выборке:{:.2f}'.format(rmse))\n",
    "    print('Лучшие гиперпараметры для модели: ', grid.best_params_)"
   ]
  },
  {
   "cell_type": "markdown",
   "metadata": {},
   "source": [
    "<b>Линейная регрессия"
   ]
  },
  {
   "cell_type": "code",
   "execution_count": 50,
   "metadata": {},
   "outputs": [
    {
     "name": "stdout",
     "output_type": "stream",
     "text": [
      "best_score: 2715.0771537311143\n",
      "best_params: {'copy_X': True, 'normalize': False}\n"
     ]
    }
   ],
   "source": [
    "# random_state не перебирается, задаём его прямо в модели\n",
    "line=LinearRegression()\n",
    "\n",
    "# словарь с гиперпараметрами и значениями, которые хотим перебрать\n",
    "line_params={'normalize':[True,False], 'copy_X':[True, False]}\n",
    "\n",
    "gs_lin = GridSearchCV(\n",
    "    line,\n",
    "    param_grid=line_params,\n",
    "    scoring='neg_root_mean_squared_error',\n",
    "    n_jobs=-1\n",
    ")\n",
    "\n",
    "gs_lin.fit(X_train_lin, y_train)\n",
    "\n",
    "# лучшее значение RMSE на кросс-валидации\n",
    "print(f'best_score: {gs_lin.best_score_ * -1}')\n",
    "\n",
    "# лучшие гиперпараметры\n",
    "print(f'best_params: {gs_lin.best_params_}')"
   ]
  },
  {
   "cell_type": "markdown",
   "metadata": {},
   "source": [
    "второй способ с помощью нашей функции:"
   ]
  },
  {
   "cell_type": "code",
   "execution_count": 51,
   "metadata": {},
   "outputs": [
    {
     "name": "stdout",
     "output_type": "stream",
     "text": [
      "RMSE модели на обучающей выборке:2715.08\n",
      "Лучшие гиперпараметры для модели:  {'copy_X': True, 'normalize': False}\n",
      "CPU times: user 4min 24s, sys: 1min 39s, total: 6min 3s\n",
      "Wall time: 6min 4s\n"
     ]
    }
   ],
   "source": [
    "%%time\n",
    "line=LinearRegression()\n",
    "line_params={'normalize':[True,False], 'copy_X':[True, False]}\n",
    "calc(line, X_train_lin, y_train, line_params)"
   ]
  },
  {
   "cell_type": "markdown",
   "metadata": {},
   "source": [
    "RMSE на обучающей выборке с параметрами {'copy_X': True, 'normalize': False} получилось 2715, что меньше чем значение константной модели. На кроссвалидацию ушло около 6 минут."
   ]
  },
  {
   "cell_type": "markdown",
   "metadata": {},
   "source": [
    "<b>Перейдём к RandomForestRegressor:</b>"
   ]
  },
  {
   "cell_type": "code",
   "execution_count": 52,
   "metadata": {},
   "outputs": [],
   "source": [
    "X_train_rfr = X_train.copy()\n",
    "X_test_rfr = X_test.copy()"
   ]
  },
  {
   "cell_type": "code",
   "execution_count": 53,
   "metadata": {},
   "outputs": [],
   "source": [
    "col_transformer_rfr= make_column_transformer(\n",
    "    (\n",
    "        OneHotEncoder(drop='first', handle_unknown='error'),\n",
    "        ohe_features_rfr\n",
    "    ),\n",
    "    (\n",
    "        OrdinalEncoder(handle_unknown='use_encoded_value', unknown_value=-1),\n",
    "        ['Model']\n",
    "    ),\n",
    "    (\n",
    "        StandardScaler(),\n",
    "        num_features\n",
    "    ),\n",
    "    remainder='passthrough'\n",
    ")\n"
   ]
  },
  {
   "cell_type": "code",
   "execution_count": 54,
   "metadata": {},
   "outputs": [],
   "source": [
    "model_rfr = RandomForestRegressor(random_state=RANDOM_STATE)\n",
    "\n",
    "pipline_rfr = make_pipeline(col_transformer_rfr, model_rfr)\n",
    "param_grid_rfr = {\n",
    "    'randomforestregressor__n_estimators': range(5, 26, 5),\n",
    "    'randomforestregressor__max_depth': range(2, 8),\n",
    "    'randomforestregressor__min_samples_split': (2, 3),\n",
    "    'randomforestregressor__min_samples_leaf': (1, 2)\n",
    "}\n"
   ]
  },
  {
   "cell_type": "code",
   "execution_count": 55,
   "metadata": {},
   "outputs": [],
   "source": [
    "# получается достаточно много комбинаций гиперпараметров при переборе\n",
    "# будем использовать RandomizedSearchCV, он работает намного быстрее\n",
    "rs_rfr = RandomizedSearchCV(\n",
    "    pipline_rfr,\n",
    "    param_distributions=param_grid_rfr,\n",
    "    scoring='neg_root_mean_squared_error',\n",
    "    n_jobs=-1,\n",
    "    random_state=RANDOM_STATE\n",
    ")"
   ]
  },
  {
   "cell_type": "code",
   "execution_count": 56,
   "metadata": {},
   "outputs": [
    {
     "name": "stdout",
     "output_type": "stream",
     "text": [
      "best_score: 2188.4567450643094\n",
      "best_params: {'randomforestregressor__n_estimators': 15, 'randomforestregressor__min_samples_split': 3, 'randomforestregressor__min_samples_leaf': 1, 'randomforestregressor__max_depth': 7}\n",
      "CPU times: user 3min 39s, sys: 1.87 s, total: 3min 41s\n",
      "Wall time: 3min 41s\n"
     ]
    }
   ],
   "source": [
    "%%time\n",
    "rs_rfr.fit(X_train_rfr, y_train)\n",
    "\n",
    "rs_rfr_best_score = rs_rfr.best_score_ * -1\n",
    "rs_rfr_best_params = rs_rfr.best_params_\n",
    "print(f'best_score: {rs_rfr_best_score}')\n",
    "print(f'best_params: {rs_rfr_best_params}')"
   ]
  },
  {
   "cell_type": "code",
   "execution_count": 65,
   "metadata": {},
   "outputs": [
    {
     "name": "stdout",
     "output_type": "stream",
     "text": [
      "13.278743505477905\n"
     ]
    }
   ],
   "source": [
    "print(rs_rfr.refit_time_)"
   ]
  },
  {
   "cell_type": "markdown",
   "metadata": {},
   "source": [
    "<b>теперь попробуем Решающее дерево:</b>"
   ]
  },
  {
   "cell_type": "code",
   "execution_count": 60,
   "metadata": {},
   "outputs": [],
   "source": [
    "X_train_dt = X_train.copy()\n",
    "X_test_dt = X_test.copy()"
   ]
  },
  {
   "cell_type": "code",
   "execution_count": 61,
   "metadata": {},
   "outputs": [],
   "source": [
    "model_dt = DecisionTreeRegressor(random_state=RANDOM_STATE)\n",
    "\n",
    "pipline_dt = make_pipeline(col_transformer_rfr, model_dt)\n",
    "param_grid_dt = {\n",
    "    #'splitter': ['best', 'random']\n",
    "}\n"
   ]
  },
  {
   "cell_type": "code",
   "execution_count": 62,
   "metadata": {},
   "outputs": [],
   "source": [
    "rs_dt = RandomizedSearchCV(\n",
    "    pipline_dt,\n",
    "    param_distributions=param_grid_dt,\n",
    "    scoring='neg_root_mean_squared_error',\n",
    "    n_jobs=-1,\n",
    "    random_state=RANDOM_STATE\n",
    ")"
   ]
  },
  {
   "cell_type": "code",
   "execution_count": 63,
   "metadata": {},
   "outputs": [
    {
     "name": "stdout",
     "output_type": "stream",
     "text": [
      "best_score: 2082.2063678437476\n",
      "best_params: {}\n",
      "CPU times: user 3min 2s, sys: 465 ms, total: 3min 2s\n",
      "Wall time: 3min 3s\n"
     ]
    }
   ],
   "source": [
    "%%time\n",
    "rs_dt.fit(X_train_dt, y_train)\n",
    "\n",
    "rs_dt_best_score = rs_dt.best_score_ * -1\n",
    "rs_dt_best_params = rs_dt.best_params_\n",
    "print(f'best_score: {rs_dt_best_score}')\n",
    "print(f'best_params: {rs_dt_best_params}')"
   ]
  },
  {
   "cell_type": "code",
   "execution_count": 64,
   "metadata": {},
   "outputs": [
    {
     "name": "stdout",
     "output_type": "stream",
     "text": [
      "39.96755599975586\n"
     ]
    }
   ],
   "source": [
    "print(rs_dt.refit_time_)"
   ]
  },
  {
   "cell_type": "markdown",
   "metadata": {
    "scrolled": true
   },
   "source": [
    "RMSE на обучающей выборке получилось 2105, что меньше чем значение константной модели и лучше чем у Линейной регрессии. На кроссвалидацию ушло около 8 минут.\n",
    "\n"
   ]
  },
  {
   "cell_type": "markdown",
   "metadata": {},
   "source": [
    "<font color='purple'><b>чуть выше измерил время обучения моделей RandomForestRegressor и РЕшающее дерево без учета подбора параметров и кросс-валидации"
   ]
  },
  {
   "cell_type": "code",
   "execution_count": null,
   "metadata": {},
   "outputs": [],
   "source": [
    "# Обучим модель с найденными параметрами на тестовой выборке и измерим время обучения и предсказания"
   ]
  },
  {
   "cell_type": "code",
   "execution_count": null,
   "metadata": {},
   "outputs": [],
   "source": [
    "#%%time\n",
    "#line_test= LinearRegression(copy_X= True, normalize= False)\n",
    "#line_test.fit(X_train_lin, y_train)"
   ]
  },
  {
   "cell_type": "code",
   "execution_count": null,
   "metadata": {},
   "outputs": [],
   "source": [
    "#%%time\n",
    "#predictions_line=line_test.predict(X_test_lin)"
   ]
  },
  {
   "cell_type": "code",
   "execution_count": null,
   "metadata": {},
   "outputs": [],
   "source": [
    "#mse = mean_squared_error(y_test,predictions_line)\n",
    "#print('RMSE для Линейной регресии на тестовой выборке: {:.2f}'.format( (mse.mean()**0.5)))"
   ]
  },
  {
   "cell_type": "markdown",
   "metadata": {},
   "source": [
    "<font color='purple'><b>хорошо, буду тестировать только лучшую модель после обучения всех, при подборе гиперпараметров используется кросс-валидация.\n",
    "    </b></font>  "
   ]
  },
  {
   "cell_type": "code",
   "execution_count": null,
   "metadata": {},
   "outputs": [],
   "source": [
    "#%%time\n",
    "#tree= DecisionTreeRegressor(random_state=12345)\n",
    "#tree_params = {'max_depth': range(1, 21, 5), 'splitter': ['best', 'random']}\n",
    "#calc(tree, X_train, y_train, tree_params )"
   ]
  },
  {
   "cell_type": "markdown",
   "metadata": {},
   "source": [
    "<font color='purple'><b> чуть выше применил Ordinal Encoder для столбца Model\n",
    "    </b></font> "
   ]
  },
  {
   "cell_type": "code",
   "execution_count": null,
   "metadata": {},
   "outputs": [],
   "source": [
    "#%%time\n",
    "#tree_test= DecisionTreeRegressor(random_state=12345, max_depth=16)\n",
    "#tree_test.fit(features_train_ohe, target_train_ohe)"
   ]
  },
  {
   "cell_type": "code",
   "execution_count": null,
   "metadata": {},
   "outputs": [],
   "source": [
    "#%%time\n",
    "#predictions_tree=tree_test.predict(features_test_ohe)"
   ]
  },
  {
   "cell_type": "code",
   "execution_count": null,
   "metadata": {},
   "outputs": [],
   "source": [
    "#mse = mean_squared_error(target_test_ohe,predictions_tree)\n",
    "#print('RMSE для Решающего дерева на тестовой выборке: {:.2f}'.format((mse.mean()**0.5)))"
   ]
  },
  {
   "cell_type": "markdown",
   "metadata": {},
   "source": [
    "<b> CatBoost"
   ]
  },
  {
   "cell_type": "markdown",
   "metadata": {},
   "source": [
    "Создадим список категориальных признаков"
   ]
  },
  {
   "cell_type": "code",
   "execution_count": 67,
   "metadata": {},
   "outputs": [],
   "source": [
    "cat_features = ['VehicleType','Gearbox', 'Model', 'FuelType','Brand','Repaired']"
   ]
  },
  {
   "cell_type": "markdown",
   "metadata": {},
   "source": [
    "С помощью кроссвалидации найдем лучшие параметры и метрику RMSE на обучающей выборке с этими параметрами"
   ]
  },
  {
   "cell_type": "code",
   "execution_count": 68,
   "metadata": {},
   "outputs": [],
   "source": [
    "cat = CatBoostRegressor(iterations=50, verbose=False, cat_features = cat_features)\n",
    "cat_params = {'learning_rate':[0.3, 0.5], 'depth':[10, 15]} \n",
    "cat_grid= GridSearchCV(cat, cat_params, scoring='neg_root_mean_squared_error',  cv=3, n_jobs = -1)"
   ]
  },
  {
   "cell_type": "code",
   "execution_count": 69,
   "metadata": {},
   "outputs": [
    {
     "name": "stdout",
     "output_type": "stream",
     "text": [
      "RMSE модели CatBoost на обучающей выборке:1691.86\n",
      "Лучшие гиперпараметры для модели:  {'depth': 15, 'learning_rate': 0.3}\n",
      "CPU times: user 3min 13s, sys: 35.8 s, total: 3min 48s\n",
      "Wall time: 3min 55s\n"
     ]
    }
   ],
   "source": [
    "%%time\n",
    "cat_grid.fit(X_train, y_train)\n",
    "rmse=-cat_grid.best_score_\n",
    "print('RMSE модели CatBoost на обучающей выборке:{:.2f}'.format(rmse))\n",
    "print('Лучшие гиперпараметры для модели: ', cat_grid.best_params_)"
   ]
  },
  {
   "cell_type": "code",
   "execution_count": null,
   "metadata": {},
   "outputs": [],
   "source": []
  },
  {
   "cell_type": "markdown",
   "metadata": {},
   "source": [
    "RMSE на обучающей выборке с параметрами {'depth': 15, 'learning_rate': 0.3} получилось 1688.42, что меньше чем значение константной модели и меньше чем у простых моделей. На кроссвалидацию ушло около 4 минут.\n",
    "\n"
   ]
  },
  {
   "cell_type": "markdown",
   "metadata": {},
   "source": [
    "<b> LightGBM"
   ]
  },
  {
   "cell_type": "markdown",
   "metadata": {},
   "source": [
    "Поменяем тип категориальных признаков на 'category'"
   ]
  },
  {
   "cell_type": "code",
   "execution_count": 85,
   "metadata": {},
   "outputs": [],
   "source": [
    "df[['VehicleType','Gearbox', 'Model', 'FuelType','Brand','Repaired']]= df[['VehicleType',\n",
    "            'Gearbox', 'Model', 'FuelType','Brand','Repaired']].astype('category')"
   ]
  },
  {
   "cell_type": "markdown",
   "metadata": {},
   "source": [
    "<font color='blue'><b>Комментарий ревьюера: </b></font> ✔️\\\n",
    "<font color='green'>LGBM может сам кодировать категории, если их перевести в тип данных 'category'.</font>"
   ]
  },
  {
   "cell_type": "markdown",
   "metadata": {},
   "source": [
    "После изменения типа затем создадим таблицу с признаками и целевой признак и разделим выборку на обучающую и тестовую в соотношении 75:25."
   ]
  },
  {
   "cell_type": "code",
   "execution_count": 86,
   "metadata": {},
   "outputs": [],
   "source": [
    "target_lgb=df['Price']\n",
    "features_lgb=df.drop('Price', axis=1)\n",
    "X_train_lgb, X_test_lgb, y_train_lgb, y_test_lgb = train_test_split(\n",
    "        features_lgb,target_lgb, test_size=0.25, random_state=12345)"
   ]
  },
  {
   "cell_type": "code",
   "execution_count": 89,
   "metadata": {},
   "outputs": [
    {
     "name": "stdout",
     "output_type": "stream",
     "text": [
      "RMSE модели LightGBM на обучающей выборке:1651.26\n",
      "Лучшие гиперпараметры для модели:  {'boosting_type': 'dart', 'learning_rate': 0.5}\n",
      "CPU times: user 2min 41s, sys: 381 ms, total: 2min 41s\n",
      "Wall time: 2min 43s\n"
     ]
    }
   ],
   "source": [
    "%%time\n",
    "categorial_features = ['VehicleType','Gearbox', 'Model', 'FuelType','Brand','Repaired']\n",
    "#lgb=LGBMRegressor(num_iteration=100, verbose=0, random_state=12345, categorial_features=categorial_features)\n",
    "lgb=LGBMRegressor(random_state=12345)\n",
    "lgb_params = {'learning_rate':[0.3, 0.5], 'boosting_type':['dart']}\n",
    "lgb_grid= GridSearchCV(lgb, lgb_params, scoring='neg_root_mean_squared_error',  cv=3, n_jobs = -1)\n",
    "lgb_grid.fit(X_train_lgb, y_train_lgb)\n",
    "rmse=-lgb_grid.best_score_\n",
    "print('RMSE модели LightGBM на обучающей выборке:{:.2f}'.format(rmse))\n",
    "print('Лучшие гиперпараметры для модели: ',lgb_grid.best_params_)"
   ]
  },
  {
   "cell_type": "markdown",
   "metadata": {},
   "source": [
    "<font color='purple'><b> у нас есть 2 метрики работы моделей - RMSE и скорость обучения. Найдем третью метрику - скорость работы моделей, для этого посмотрим насколько быстро они умеют работать, т.е. предсказывать результат"
   ]
  },
  {
   "cell_type": "markdown",
   "metadata": {},
   "source": [
    "1. Обучим модель LinearRegression с найденными параметрами на тренировочной выборке и измерим время обучения и предсказания на тестовой выборке"
   ]
  },
  {
   "cell_type": "code",
   "execution_count": 73,
   "metadata": {},
   "outputs": [
    {
     "name": "stdout",
     "output_type": "stream",
     "text": [
      "CPU times: user 16.1 s, sys: 7 s, total: 23.1 s\n",
      "Wall time: 23.1 s\n"
     ]
    },
    {
     "data": {
      "text/html": [
       "<style>#sk-container-id-2 {color: black;background-color: white;}#sk-container-id-2 pre{padding: 0;}#sk-container-id-2 div.sk-toggleable {background-color: white;}#sk-container-id-2 label.sk-toggleable__label {cursor: pointer;display: block;width: 100%;margin-bottom: 0;padding: 0.3em;box-sizing: border-box;text-align: center;}#sk-container-id-2 label.sk-toggleable__label-arrow:before {content: \"▸\";float: left;margin-right: 0.25em;color: #696969;}#sk-container-id-2 label.sk-toggleable__label-arrow:hover:before {color: black;}#sk-container-id-2 div.sk-estimator:hover label.sk-toggleable__label-arrow:before {color: black;}#sk-container-id-2 div.sk-toggleable__content {max-height: 0;max-width: 0;overflow: hidden;text-align: left;background-color: #f0f8ff;}#sk-container-id-2 div.sk-toggleable__content pre {margin: 0.2em;color: black;border-radius: 0.25em;background-color: #f0f8ff;}#sk-container-id-2 input.sk-toggleable__control:checked~div.sk-toggleable__content {max-height: 200px;max-width: 100%;overflow: auto;}#sk-container-id-2 input.sk-toggleable__control:checked~label.sk-toggleable__label-arrow:before {content: \"▾\";}#sk-container-id-2 div.sk-estimator input.sk-toggleable__control:checked~label.sk-toggleable__label {background-color: #d4ebff;}#sk-container-id-2 div.sk-label input.sk-toggleable__control:checked~label.sk-toggleable__label {background-color: #d4ebff;}#sk-container-id-2 input.sk-hidden--visually {border: 0;clip: rect(1px 1px 1px 1px);clip: rect(1px, 1px, 1px, 1px);height: 1px;margin: -1px;overflow: hidden;padding: 0;position: absolute;width: 1px;}#sk-container-id-2 div.sk-estimator {font-family: monospace;background-color: #f0f8ff;border: 1px dotted black;border-radius: 0.25em;box-sizing: border-box;margin-bottom: 0.5em;}#sk-container-id-2 div.sk-estimator:hover {background-color: #d4ebff;}#sk-container-id-2 div.sk-parallel-item::after {content: \"\";width: 100%;border-bottom: 1px solid gray;flex-grow: 1;}#sk-container-id-2 div.sk-label:hover label.sk-toggleable__label {background-color: #d4ebff;}#sk-container-id-2 div.sk-serial::before {content: \"\";position: absolute;border-left: 1px solid gray;box-sizing: border-box;top: 0;bottom: 0;left: 50%;z-index: 0;}#sk-container-id-2 div.sk-serial {display: flex;flex-direction: column;align-items: center;background-color: white;padding-right: 0.2em;padding-left: 0.2em;position: relative;}#sk-container-id-2 div.sk-item {position: relative;z-index: 1;}#sk-container-id-2 div.sk-parallel {display: flex;align-items: stretch;justify-content: center;background-color: white;position: relative;}#sk-container-id-2 div.sk-item::before, #sk-container-id-2 div.sk-parallel-item::before {content: \"\";position: absolute;border-left: 1px solid gray;box-sizing: border-box;top: 0;bottom: 0;left: 50%;z-index: -1;}#sk-container-id-2 div.sk-parallel-item {display: flex;flex-direction: column;z-index: 1;position: relative;background-color: white;}#sk-container-id-2 div.sk-parallel-item:first-child::after {align-self: flex-end;width: 50%;}#sk-container-id-2 div.sk-parallel-item:last-child::after {align-self: flex-start;width: 50%;}#sk-container-id-2 div.sk-parallel-item:only-child::after {width: 0;}#sk-container-id-2 div.sk-dashed-wrapped {border: 1px dashed gray;margin: 0 0.4em 0.5em 0.4em;box-sizing: border-box;padding-bottom: 0.4em;background-color: white;}#sk-container-id-2 div.sk-label label {font-family: monospace;font-weight: bold;display: inline-block;line-height: 1.2em;}#sk-container-id-2 div.sk-label-container {text-align: center;}#sk-container-id-2 div.sk-container {/* jupyter's `normalize.less` sets `[hidden] { display: none; }` but bootstrap.min.css set `[hidden] { display: none !important; }` so we also need the `!important` here to be able to override the default hidden behavior on the sphinx rendered scikit-learn.org. See: https://github.com/scikit-learn/scikit-learn/issues/21755 */display: inline-block !important;position: relative;}#sk-container-id-2 div.sk-text-repr-fallback {display: none;}</style><div id=\"sk-container-id-2\" class=\"sk-top-container\"><div class=\"sk-text-repr-fallback\"><pre>LinearRegression(normalize=False)</pre><b>In a Jupyter environment, please rerun this cell to show the HTML representation or trust the notebook. <br />On GitHub, the HTML representation is unable to render, please try loading this page with nbviewer.org.</b></div><div class=\"sk-container\" hidden><div class=\"sk-item\"><div class=\"sk-estimator sk-toggleable\"><input class=\"sk-toggleable__control sk-hidden--visually\" id=\"sk-estimator-id-2\" type=\"checkbox\" checked><label for=\"sk-estimator-id-2\" class=\"sk-toggleable__label sk-toggleable__label-arrow\">LinearRegression</label><div class=\"sk-toggleable__content\"><pre>LinearRegression(normalize=False)</pre></div></div></div></div></div>"
      ],
      "text/plain": [
       "LinearRegression(normalize=False)"
      ]
     },
     "execution_count": 73,
     "metadata": {},
     "output_type": "execute_result"
    }
   ],
   "source": [
    "%%time\n",
    "line_test= LinearRegression(copy_X= True, normalize= False)\n",
    "line_test.fit(X_train_lin, y_train)"
   ]
  },
  {
   "cell_type": "code",
   "execution_count": 71,
   "metadata": {},
   "outputs": [
    {
     "name": "stdout",
     "output_type": "stream",
     "text": [
      "CPU times: user 107 ms, sys: 84.4 ms, total: 192 ms\n",
      "Wall time: 161 ms\n"
     ]
    }
   ],
   "source": [
    "%%time\n",
    "predictions_line=line_test.predict(X_test_lin)"
   ]
  },
  {
   "cell_type": "markdown",
   "metadata": {},
   "source": [
    "2. Измерим время предсказания модели RandomForestRegressor на тестовой выборке:"
   ]
  },
  {
   "cell_type": "code",
   "execution_count": 79,
   "metadata": {},
   "outputs": [
    {
     "name": "stdout",
     "output_type": "stream",
     "text": [
      "CPU times: user 181 ms, sys: 10.2 ms, total: 191 ms\n",
      "Wall time: 190 ms\n"
     ]
    }
   ],
   "source": [
    "%%time\n",
    "predictions_rfr = rs_rfr_test.predict(X_test_rfr)"
   ]
  },
  {
   "cell_type": "markdown",
   "metadata": {},
   "source": [
    "3. Измерим время предсказания модели DecisionTreeRegressor на тестовой выборке:"
   ]
  },
  {
   "cell_type": "code",
   "execution_count": 80,
   "metadata": {},
   "outputs": [
    {
     "name": "stdout",
     "output_type": "stream",
     "text": [
      "CPU times: user 155 ms, sys: 611 µs, total: 156 ms\n",
      "Wall time: 154 ms\n"
     ]
    }
   ],
   "source": [
    "%%time\n",
    "predictions_dt = rs_dt.predict(X_test_dt)"
   ]
  },
  {
   "cell_type": "markdown",
   "metadata": {},
   "source": [
    "4. Измерим время предсказания модели CatBoost на тестовой выборке:"
   ]
  },
  {
   "cell_type": "code",
   "execution_count": 81,
   "metadata": {},
   "outputs": [
    {
     "name": "stdout",
     "output_type": "stream",
     "text": [
      "CPU times: user 26.5 s, sys: 5.19 s, total: 31.7 s\n",
      "Wall time: 32.3 s\n"
     ]
    },
    {
     "data": {
      "text/plain": [
       "<catboost.core.CatBoostRegressor at 0x7fdb2d8ebfa0>"
      ]
     },
     "execution_count": 81,
     "metadata": {},
     "output_type": "execute_result"
    }
   ],
   "source": [
    "%%time\n",
    "cat_test = CatBoostRegressor(iterations=50, verbose=False,cat_features = cat_features, \n",
    "                        learning_rate=0.3,depth=15, random_state=12345 )\n",
    "cat_test.fit(X_train, y_train)"
   ]
  },
  {
   "cell_type": "code",
   "execution_count": 82,
   "metadata": {},
   "outputs": [
    {
     "name": "stdout",
     "output_type": "stream",
     "text": [
      "CPU times: user 110 ms, sys: 3.76 ms, total: 114 ms\n",
      "Wall time: 119 ms\n"
     ]
    }
   ],
   "source": [
    "%%time\n",
    "predictions_cat=cat_test.predict(X_test)"
   ]
  },
  {
   "cell_type": "markdown",
   "metadata": {},
   "source": [
    "5. Измерим время предсказания модели LGBM а тестовой выборке:"
   ]
  },
  {
   "cell_type": "code",
   "execution_count": 88,
   "metadata": {},
   "outputs": [
    {
     "name": "stdout",
     "output_type": "stream",
     "text": [
      "CPU times: user 19.1 s, sys: 0 ns, total: 19.1 s\n",
      "Wall time: 19.3 s\n"
     ]
    },
    {
     "data": {
      "text/html": [
       "<style>#sk-container-id-4 {color: black;background-color: white;}#sk-container-id-4 pre{padding: 0;}#sk-container-id-4 div.sk-toggleable {background-color: white;}#sk-container-id-4 label.sk-toggleable__label {cursor: pointer;display: block;width: 100%;margin-bottom: 0;padding: 0.3em;box-sizing: border-box;text-align: center;}#sk-container-id-4 label.sk-toggleable__label-arrow:before {content: \"▸\";float: left;margin-right: 0.25em;color: #696969;}#sk-container-id-4 label.sk-toggleable__label-arrow:hover:before {color: black;}#sk-container-id-4 div.sk-estimator:hover label.sk-toggleable__label-arrow:before {color: black;}#sk-container-id-4 div.sk-toggleable__content {max-height: 0;max-width: 0;overflow: hidden;text-align: left;background-color: #f0f8ff;}#sk-container-id-4 div.sk-toggleable__content pre {margin: 0.2em;color: black;border-radius: 0.25em;background-color: #f0f8ff;}#sk-container-id-4 input.sk-toggleable__control:checked~div.sk-toggleable__content {max-height: 200px;max-width: 100%;overflow: auto;}#sk-container-id-4 input.sk-toggleable__control:checked~label.sk-toggleable__label-arrow:before {content: \"▾\";}#sk-container-id-4 div.sk-estimator input.sk-toggleable__control:checked~label.sk-toggleable__label {background-color: #d4ebff;}#sk-container-id-4 div.sk-label input.sk-toggleable__control:checked~label.sk-toggleable__label {background-color: #d4ebff;}#sk-container-id-4 input.sk-hidden--visually {border: 0;clip: rect(1px 1px 1px 1px);clip: rect(1px, 1px, 1px, 1px);height: 1px;margin: -1px;overflow: hidden;padding: 0;position: absolute;width: 1px;}#sk-container-id-4 div.sk-estimator {font-family: monospace;background-color: #f0f8ff;border: 1px dotted black;border-radius: 0.25em;box-sizing: border-box;margin-bottom: 0.5em;}#sk-container-id-4 div.sk-estimator:hover {background-color: #d4ebff;}#sk-container-id-4 div.sk-parallel-item::after {content: \"\";width: 100%;border-bottom: 1px solid gray;flex-grow: 1;}#sk-container-id-4 div.sk-label:hover label.sk-toggleable__label {background-color: #d4ebff;}#sk-container-id-4 div.sk-serial::before {content: \"\";position: absolute;border-left: 1px solid gray;box-sizing: border-box;top: 0;bottom: 0;left: 50%;z-index: 0;}#sk-container-id-4 div.sk-serial {display: flex;flex-direction: column;align-items: center;background-color: white;padding-right: 0.2em;padding-left: 0.2em;position: relative;}#sk-container-id-4 div.sk-item {position: relative;z-index: 1;}#sk-container-id-4 div.sk-parallel {display: flex;align-items: stretch;justify-content: center;background-color: white;position: relative;}#sk-container-id-4 div.sk-item::before, #sk-container-id-4 div.sk-parallel-item::before {content: \"\";position: absolute;border-left: 1px solid gray;box-sizing: border-box;top: 0;bottom: 0;left: 50%;z-index: -1;}#sk-container-id-4 div.sk-parallel-item {display: flex;flex-direction: column;z-index: 1;position: relative;background-color: white;}#sk-container-id-4 div.sk-parallel-item:first-child::after {align-self: flex-end;width: 50%;}#sk-container-id-4 div.sk-parallel-item:last-child::after {align-self: flex-start;width: 50%;}#sk-container-id-4 div.sk-parallel-item:only-child::after {width: 0;}#sk-container-id-4 div.sk-dashed-wrapped {border: 1px dashed gray;margin: 0 0.4em 0.5em 0.4em;box-sizing: border-box;padding-bottom: 0.4em;background-color: white;}#sk-container-id-4 div.sk-label label {font-family: monospace;font-weight: bold;display: inline-block;line-height: 1.2em;}#sk-container-id-4 div.sk-label-container {text-align: center;}#sk-container-id-4 div.sk-container {/* jupyter's `normalize.less` sets `[hidden] { display: none; }` but bootstrap.min.css set `[hidden] { display: none !important; }` so we also need the `!important` here to be able to override the default hidden behavior on the sphinx rendered scikit-learn.org. See: https://github.com/scikit-learn/scikit-learn/issues/21755 */display: inline-block !important;position: relative;}#sk-container-id-4 div.sk-text-repr-fallback {display: none;}</style><div id=\"sk-container-id-4\" class=\"sk-top-container\"><div class=\"sk-text-repr-fallback\"><pre>LGBMRegressor(boosting_type=&#x27;dart&#x27;, learning_rate=0.5, random_state=12345)</pre><b>In a Jupyter environment, please rerun this cell to show the HTML representation or trust the notebook. <br />On GitHub, the HTML representation is unable to render, please try loading this page with nbviewer.org.</b></div><div class=\"sk-container\" hidden><div class=\"sk-item\"><div class=\"sk-estimator sk-toggleable\"><input class=\"sk-toggleable__control sk-hidden--visually\" id=\"sk-estimator-id-15\" type=\"checkbox\" checked><label for=\"sk-estimator-id-15\" class=\"sk-toggleable__label sk-toggleable__label-arrow\">LGBMRegressor</label><div class=\"sk-toggleable__content\"><pre>LGBMRegressor(boosting_type=&#x27;dart&#x27;, learning_rate=0.5, random_state=12345)</pre></div></div></div></div></div>"
      ],
      "text/plain": [
       "LGBMRegressor(boosting_type='dart', learning_rate=0.5, random_state=12345)"
      ]
     },
     "execution_count": 88,
     "metadata": {},
     "output_type": "execute_result"
    }
   ],
   "source": [
    "%%time\n",
    "lgb_test = LGBMRegressor(random_state=12345, boosting_type='dart', learning_rate=0.5)\n",
    "lgb_test.fit(X_train_lgb, y_train_lgb)"
   ]
  },
  {
   "cell_type": "code",
   "execution_count": 90,
   "metadata": {},
   "outputs": [
    {
     "name": "stdout",
     "output_type": "stream",
     "text": [
      "CPU times: user 723 ms, sys: 0 ns, total: 723 ms\n",
      "Wall time: 715 ms\n"
     ]
    }
   ],
   "source": [
    "%%time\n",
    "predictions_lgb=lgb_test.predict(X_test_lgb)"
   ]
  },
  {
   "cell_type": "code",
   "execution_count": 91,
   "metadata": {},
   "outputs": [
    {
     "data": {
      "text/html": [
       "<div>\n",
       "<style scoped>\n",
       "    .dataframe tbody tr th:only-of-type {\n",
       "        vertical-align: middle;\n",
       "    }\n",
       "\n",
       "    .dataframe tbody tr th {\n",
       "        vertical-align: top;\n",
       "    }\n",
       "\n",
       "    .dataframe thead th {\n",
       "        text-align: right;\n",
       "    }\n",
       "</style>\n",
       "<table border=\"1\" class=\"dataframe\">\n",
       "  <thead>\n",
       "    <tr style=\"text-align: right;\">\n",
       "      <th></th>\n",
       "      <th>Модель</th>\n",
       "      <th>RMSE на трейне</th>\n",
       "      <th>Время обучения модели c учетом подбора параметров</th>\n",
       "      <th>Время обучения без учета подбора параметров</th>\n",
       "      <th>Скорость работы модели</th>\n",
       "    </tr>\n",
       "  </thead>\n",
       "  <tbody>\n",
       "    <tr>\n",
       "      <th>0</th>\n",
       "      <td>Linear Regression</td>\n",
       "      <td>2715</td>\n",
       "      <td>6 min</td>\n",
       "      <td>16.1 s</td>\n",
       "      <td>107 ms</td>\n",
       "    </tr>\n",
       "    <tr>\n",
       "      <th>1</th>\n",
       "      <td>RandomForestRegressor</td>\n",
       "      <td>2196</td>\n",
       "      <td>3 min 9 s</td>\n",
       "      <td>13.28 s</td>\n",
       "      <td>181 ms</td>\n",
       "    </tr>\n",
       "    <tr>\n",
       "      <th>2</th>\n",
       "      <td>DecisionTree</td>\n",
       "      <td>2105</td>\n",
       "      <td>8 min</td>\n",
       "      <td>39.97 s</td>\n",
       "      <td>155 ms</td>\n",
       "    </tr>\n",
       "    <tr>\n",
       "      <th>3</th>\n",
       "      <td>CatBoost</td>\n",
       "      <td>1688</td>\n",
       "      <td>3 min 16 s</td>\n",
       "      <td>26.5 s</td>\n",
       "      <td>110 ms</td>\n",
       "    </tr>\n",
       "    <tr>\n",
       "      <th>4</th>\n",
       "      <td>LightGBM</td>\n",
       "      <td>1658</td>\n",
       "      <td>10 min</td>\n",
       "      <td>19.1 s</td>\n",
       "      <td>723 ms</td>\n",
       "    </tr>\n",
       "  </tbody>\n",
       "</table>\n",
       "</div>"
      ],
      "text/plain": [
       "                  Модель  RMSE на трейне  \\\n",
       "0      Linear Regression            2715   \n",
       "1  RandomForestRegressor            2196   \n",
       "2           DecisionTree            2105   \n",
       "3               CatBoost            1688   \n",
       "4               LightGBM            1658   \n",
       "\n",
       "  Время обучения модели c учетом подбора параметров  \\\n",
       "0                                             6 min   \n",
       "1                                         3 min 9 s   \n",
       "2                                             8 min   \n",
       "3                                        3 min 16 s   \n",
       "4                                            10 min   \n",
       "\n",
       "  Время обучения без учета подбора параметров Скорость работы модели  \n",
       "0                                      16.1 s                 107 ms  \n",
       "1                                     13.28 s                 181 ms  \n",
       "2                                     39.97 s                 155 ms  \n",
       "3                                      26.5 s                 110 ms  \n",
       "4                                      19.1 s                 723 ms  "
      ]
     },
     "metadata": {},
     "output_type": "display_data"
    }
   ],
   "source": [
    "data={'Модель': ['Linear Regression', 'RandomForestRegressor', 'DecisionTree', 'CatBoost', 'LightGBM'], 'RMSE на трейне': [2715, 2196, 2105, 1688, 1658],\n",
    "     'Время обучения модели c учетом подбора параметров': ['6 min' , '3 min 9 s' , '8 min', '3 min 16 s', '10 min' ], \\\n",
    "      'Время обучения без учета подбора параметров': ['16.1 s', '13.28 s', '39.97 s', '26.5 s', '19.1 s'],\\\n",
    "      'Скорость работы модели': ['107 ms', '181 ms', '155 ms', '110 ms', '723 ms']}\n",
    "data_pivot=pd.DataFrame.from_dict(data)\n",
    "display(data_pivot)"
   ]
  },
  {
   "cell_type": "markdown",
   "metadata": {},
   "source": [
    "<b> ВЫВОД: Исходя из 3-х параметров - лучшая модель - CatBoost с небольшим временем обучения и лучшими качеством и скоростью работы!"
   ]
  },
  {
   "cell_type": "markdown",
   "metadata": {},
   "source": [
    "<b> Обучим первую лучшую модель (CatBoost) с найденными параметрами на тестовой выборке и измерим время обучения и предсказания"
   ]
  },
  {
   "cell_type": "code",
   "execution_count": 61,
   "metadata": {},
   "outputs": [
    {
     "name": "stdout",
     "output_type": "stream",
     "text": [
      "CPU times: user 23.5 s, sys: 4.58 s, total: 28.1 s\n",
      "Wall time: 28.9 s\n"
     ]
    },
    {
     "data": {
      "text/plain": [
       "<catboost.core.CatBoostRegressor at 0x7f68bacd6f40>"
      ]
     },
     "execution_count": 61,
     "metadata": {},
     "output_type": "execute_result"
    }
   ],
   "source": [
    "%%time\n",
    "cat_test = CatBoostRegressor(iterations=50, verbose=False,cat_features = cat_features, \n",
    "                        learning_rate=0.3,depth=15, random_state=12345 )\n",
    "cat_test.fit(X_train, y_train)"
   ]
  },
  {
   "cell_type": "code",
   "execution_count": 62,
   "metadata": {},
   "outputs": [
    {
     "name": "stdout",
     "output_type": "stream",
     "text": [
      "CPU times: user 93.1 ms, sys: 4.01 ms, total: 97.1 ms\n",
      "Wall time: 100 ms\n"
     ]
    }
   ],
   "source": [
    "%%time\n",
    "predictions_cat=cat_test.predict(X_test)"
   ]
  },
  {
   "cell_type": "code",
   "execution_count": 63,
   "metadata": {},
   "outputs": [
    {
     "name": "stdout",
     "output_type": "stream",
     "text": [
      "RMSE для CatBoost на тестовой выборке: 1661.76\n"
     ]
    }
   ],
   "source": [
    "mse = mean_squared_error(y_test,predictions_cat)\n",
    "print('RMSE для CatBoost на тестовой выборке: {:.2f}'.format((mse.mean()**0.5)))"
   ]
  },
  {
   "cell_type": "markdown",
   "metadata": {},
   "source": [
    "<b> Обучим вторую лучшую модель (LGBMRegressor) с найденными параметрами на тестовой выборке и измерим время обучения и предсказания"
   ]
  },
  {
   "cell_type": "code",
   "execution_count": 64,
   "metadata": {},
   "outputs": [
    {
     "name": "stdout",
     "output_type": "stream",
     "text": [
      "CPU times: user 18.8 s, sys: 57.2 ms, total: 18.8 s\n",
      "Wall time: 19.1 s\n"
     ]
    },
    {
     "data": {
      "text/html": [
       "<style>#sk-container-id-1 {color: black;background-color: white;}#sk-container-id-1 pre{padding: 0;}#sk-container-id-1 div.sk-toggleable {background-color: white;}#sk-container-id-1 label.sk-toggleable__label {cursor: pointer;display: block;width: 100%;margin-bottom: 0;padding: 0.3em;box-sizing: border-box;text-align: center;}#sk-container-id-1 label.sk-toggleable__label-arrow:before {content: \"▸\";float: left;margin-right: 0.25em;color: #696969;}#sk-container-id-1 label.sk-toggleable__label-arrow:hover:before {color: black;}#sk-container-id-1 div.sk-estimator:hover label.sk-toggleable__label-arrow:before {color: black;}#sk-container-id-1 div.sk-toggleable__content {max-height: 0;max-width: 0;overflow: hidden;text-align: left;background-color: #f0f8ff;}#sk-container-id-1 div.sk-toggleable__content pre {margin: 0.2em;color: black;border-radius: 0.25em;background-color: #f0f8ff;}#sk-container-id-1 input.sk-toggleable__control:checked~div.sk-toggleable__content {max-height: 200px;max-width: 100%;overflow: auto;}#sk-container-id-1 input.sk-toggleable__control:checked~label.sk-toggleable__label-arrow:before {content: \"▾\";}#sk-container-id-1 div.sk-estimator input.sk-toggleable__control:checked~label.sk-toggleable__label {background-color: #d4ebff;}#sk-container-id-1 div.sk-label input.sk-toggleable__control:checked~label.sk-toggleable__label {background-color: #d4ebff;}#sk-container-id-1 input.sk-hidden--visually {border: 0;clip: rect(1px 1px 1px 1px);clip: rect(1px, 1px, 1px, 1px);height: 1px;margin: -1px;overflow: hidden;padding: 0;position: absolute;width: 1px;}#sk-container-id-1 div.sk-estimator {font-family: monospace;background-color: #f0f8ff;border: 1px dotted black;border-radius: 0.25em;box-sizing: border-box;margin-bottom: 0.5em;}#sk-container-id-1 div.sk-estimator:hover {background-color: #d4ebff;}#sk-container-id-1 div.sk-parallel-item::after {content: \"\";width: 100%;border-bottom: 1px solid gray;flex-grow: 1;}#sk-container-id-1 div.sk-label:hover label.sk-toggleable__label {background-color: #d4ebff;}#sk-container-id-1 div.sk-serial::before {content: \"\";position: absolute;border-left: 1px solid gray;box-sizing: border-box;top: 0;bottom: 0;left: 50%;z-index: 0;}#sk-container-id-1 div.sk-serial {display: flex;flex-direction: column;align-items: center;background-color: white;padding-right: 0.2em;padding-left: 0.2em;position: relative;}#sk-container-id-1 div.sk-item {position: relative;z-index: 1;}#sk-container-id-1 div.sk-parallel {display: flex;align-items: stretch;justify-content: center;background-color: white;position: relative;}#sk-container-id-1 div.sk-item::before, #sk-container-id-1 div.sk-parallel-item::before {content: \"\";position: absolute;border-left: 1px solid gray;box-sizing: border-box;top: 0;bottom: 0;left: 50%;z-index: -1;}#sk-container-id-1 div.sk-parallel-item {display: flex;flex-direction: column;z-index: 1;position: relative;background-color: white;}#sk-container-id-1 div.sk-parallel-item:first-child::after {align-self: flex-end;width: 50%;}#sk-container-id-1 div.sk-parallel-item:last-child::after {align-self: flex-start;width: 50%;}#sk-container-id-1 div.sk-parallel-item:only-child::after {width: 0;}#sk-container-id-1 div.sk-dashed-wrapped {border: 1px dashed gray;margin: 0 0.4em 0.5em 0.4em;box-sizing: border-box;padding-bottom: 0.4em;background-color: white;}#sk-container-id-1 div.sk-label label {font-family: monospace;font-weight: bold;display: inline-block;line-height: 1.2em;}#sk-container-id-1 div.sk-label-container {text-align: center;}#sk-container-id-1 div.sk-container {/* jupyter's `normalize.less` sets `[hidden] { display: none; }` but bootstrap.min.css set `[hidden] { display: none !important; }` so we also need the `!important` here to be able to override the default hidden behavior on the sphinx rendered scikit-learn.org. See: https://github.com/scikit-learn/scikit-learn/issues/21755 */display: inline-block !important;position: relative;}#sk-container-id-1 div.sk-text-repr-fallback {display: none;}</style><div id=\"sk-container-id-1\" class=\"sk-top-container\"><div class=\"sk-text-repr-fallback\"><pre>LGBMRegressor(boosting_type=&#x27;dart&#x27;, learning_rate=0.5, random_state=12345)</pre><b>In a Jupyter environment, please rerun this cell to show the HTML representation or trust the notebook. <br />On GitHub, the HTML representation is unable to render, please try loading this page with nbviewer.org.</b></div><div class=\"sk-container\" hidden><div class=\"sk-item\"><div class=\"sk-estimator sk-toggleable\"><input class=\"sk-toggleable__control sk-hidden--visually\" id=\"sk-estimator-id-1\" type=\"checkbox\" checked><label for=\"sk-estimator-id-1\" class=\"sk-toggleable__label sk-toggleable__label-arrow\">LGBMRegressor</label><div class=\"sk-toggleable__content\"><pre>LGBMRegressor(boosting_type=&#x27;dart&#x27;, learning_rate=0.5, random_state=12345)</pre></div></div></div></div></div>"
      ],
      "text/plain": [
       "LGBMRegressor(boosting_type='dart', learning_rate=0.5, random_state=12345)"
      ]
     },
     "execution_count": 64,
     "metadata": {},
     "output_type": "execute_result"
    }
   ],
   "source": [
    "%%time\n",
    "#lgb_test = LGBMRegressor(iterations=100, verbose=0,categorial_features=categorial_features, \n",
    "#                        learning_rate=0.5,depth=5, random_state=12345, boosting_type='dart')\n",
    "\n",
    "lgb_test = LGBMRegressor(random_state=12345, boosting_type='dart', learning_rate=0.5)\n",
    "lgb_test.fit(X_train_lgb, y_train_lgb)"
   ]
  },
  {
   "cell_type": "code",
   "execution_count": 65,
   "metadata": {},
   "outputs": [
    {
     "name": "stdout",
     "output_type": "stream",
     "text": [
      "CPU times: user 637 ms, sys: 0 ns, total: 637 ms\n",
      "Wall time: 687 ms\n"
     ]
    }
   ],
   "source": [
    "%%time\n",
    "predictions_lgb=lgb_test.predict(X_test_lgb)"
   ]
  },
  {
   "cell_type": "code",
   "execution_count": 66,
   "metadata": {},
   "outputs": [
    {
     "name": "stdout",
     "output_type": "stream",
     "text": [
      "RMSE для модели LGBM на тестовой выборке: 1632.47\n"
     ]
    }
   ],
   "source": [
    "mse = mean_squared_error(y_test_lgb,predictions_lgb)\n",
    "print('RMSE для модели LGBM на тестовой выборке: {:.2f}'.format((mse.mean()**0.5)))"
   ]
  },
  {
   "cell_type": "markdown",
   "metadata": {},
   "source": [
    "Вывод\n",
    "\n",
    "С помощью кроссвалидации найдены лучшие параметры, с которыми обучены 5 моделей: Логистическая регрессия, DecisionTree, Решающее дерево, CatBoost и LightGBM. Метрика RMSE у всех моделей оказалась лучше, чем у константной модели. 2 лучшие модели с примерно одинаковыми показателями метрики на обучающей выборке - CatDoost и LGBMRegressor. Но последняя гораздо медленнее обучается, так что при наличии задачи оптимизации времени обучения лучшей признается CatBoost."
   ]
  },
  {
   "cell_type": "markdown",
   "metadata": {},
   "source": [
    "## Анализ моделей"
   ]
  },
  {
   "cell_type": "markdown",
   "metadata": {},
   "source": [
    "Посмотрим на показатели моделей в таблице"
   ]
  },
  {
   "cell_type": "code",
   "execution_count": 67,
   "metadata": {},
   "outputs": [
    {
     "data": {
      "text/html": [
       "<div>\n",
       "<style scoped>\n",
       "    .dataframe tbody tr th:only-of-type {\n",
       "        vertical-align: middle;\n",
       "    }\n",
       "\n",
       "    .dataframe tbody tr th {\n",
       "        vertical-align: top;\n",
       "    }\n",
       "\n",
       "    .dataframe thead th {\n",
       "        text-align: right;\n",
       "    }\n",
       "</style>\n",
       "<table border=\"1\" class=\"dataframe\">\n",
       "  <thead>\n",
       "    <tr style=\"text-align: right;\">\n",
       "      <th></th>\n",
       "      <th>Модель</th>\n",
       "      <th>RMSE на трейне</th>\n",
       "      <th>Время обучения модели</th>\n",
       "    </tr>\n",
       "  </thead>\n",
       "  <tbody>\n",
       "    <tr>\n",
       "      <th>0</th>\n",
       "      <td>Linear Regression</td>\n",
       "      <td>2715</td>\n",
       "      <td>6 min</td>\n",
       "    </tr>\n",
       "    <tr>\n",
       "      <th>1</th>\n",
       "      <td>RandomForestRegressor</td>\n",
       "      <td>2196</td>\n",
       "      <td>3 min 9 s</td>\n",
       "    </tr>\n",
       "    <tr>\n",
       "      <th>2</th>\n",
       "      <td>DecisionTree</td>\n",
       "      <td>2105</td>\n",
       "      <td>8 min</td>\n",
       "    </tr>\n",
       "    <tr>\n",
       "      <th>3</th>\n",
       "      <td>CatBoost</td>\n",
       "      <td>1688</td>\n",
       "      <td>3 min 16 s</td>\n",
       "    </tr>\n",
       "    <tr>\n",
       "      <th>4</th>\n",
       "      <td>LightGBM</td>\n",
       "      <td>1658</td>\n",
       "      <td>10 min</td>\n",
       "    </tr>\n",
       "  </tbody>\n",
       "</table>\n",
       "</div>"
      ],
      "text/plain": [
       "                  Модель  RMSE на трейне Время обучения модели\n",
       "0      Linear Regression            2715                 6 min\n",
       "1  RandomForestRegressor            2196             3 min 9 s\n",
       "2           DecisionTree            2105                 8 min\n",
       "3               CatBoost            1688            3 min 16 s\n",
       "4               LightGBM            1658                10 min"
      ]
     },
     "metadata": {},
     "output_type": "display_data"
    }
   ],
   "source": [
    "data={'Модель': ['Linear Regression', 'RandomForestRegressor', 'DecisionTree', 'CatBoost', 'LightGBM'], 'RMSE на трейне': [2715, 2196, 2105, 1688, 1658],\n",
    "     'Время обучения модели':['6 min' , '3 min 9 s' , '8 min', '3 min 16 s', '10 min' ]}\n",
    "data_pivot=pd.DataFrame.from_dict(data)\n",
    "display(data_pivot)"
   ]
  },
  {
   "cell_type": "markdown",
   "metadata": {},
   "source": [
    "Вывод: лучшие 2 модели по скорости обучения - RandomForest и CatBoost, но с точки зрения качества - CatBoost и LGBM, поэтому однозначно лучшей по совокупности критериев признается CatBoost."
   ]
  }
 ],
 "metadata": {
  "ExecuteTimeLog": [
   {
    "duration": 46,
    "start_time": "2024-04-21T03:52:16.875Z"
   },
   {
    "duration": 2540,
    "start_time": "2024-04-21T03:52:22.862Z"
   },
   {
    "duration": 3058,
    "start_time": "2024-04-21T03:52:25.404Z"
   },
   {
    "duration": 16,
    "start_time": "2024-04-21T03:52:28.464Z"
   },
   {
    "duration": 65,
    "start_time": "2024-04-21T03:52:28.482Z"
   },
   {
    "duration": 152,
    "start_time": "2024-04-21T03:52:48.953Z"
   },
   {
    "duration": 4,
    "start_time": "2024-04-21T04:19:42.013Z"
   },
   {
    "duration": 1096,
    "start_time": "2024-04-21T04:19:42.019Z"
   },
   {
    "duration": 13,
    "start_time": "2024-04-21T04:19:43.117Z"
   },
   {
    "duration": 155,
    "start_time": "2024-04-21T04:19:43.131Z"
   },
   {
    "duration": 478,
    "start_time": "2024-04-21T04:19:43.288Z"
   },
   {
    "duration": 960,
    "start_time": "2024-04-21T04:19:43.767Z"
   },
   {
    "duration": 73,
    "start_time": "2024-04-21T04:19:44.729Z"
   },
   {
    "duration": 0,
    "start_time": "2024-04-21T04:19:44.804Z"
   },
   {
    "duration": 0,
    "start_time": "2024-04-21T04:19:44.806Z"
   },
   {
    "duration": 0,
    "start_time": "2024-04-21T04:19:44.807Z"
   },
   {
    "duration": 0,
    "start_time": "2024-04-21T04:19:44.809Z"
   },
   {
    "duration": 0,
    "start_time": "2024-04-21T04:19:44.812Z"
   },
   {
    "duration": 0,
    "start_time": "2024-04-21T04:19:44.814Z"
   },
   {
    "duration": 0,
    "start_time": "2024-04-21T04:19:44.815Z"
   },
   {
    "duration": 4,
    "start_time": "2024-04-21T04:20:03.210Z"
   },
   {
    "duration": 1061,
    "start_time": "2024-04-21T04:20:03.216Z"
   },
   {
    "duration": 12,
    "start_time": "2024-04-21T04:20:04.281Z"
   },
   {
    "duration": 160,
    "start_time": "2024-04-21T04:20:04.295Z"
   },
   {
    "duration": 453,
    "start_time": "2024-04-21T04:20:04.458Z"
   },
   {
    "duration": 842,
    "start_time": "2024-04-21T04:20:04.913Z"
   },
   {
    "duration": 26,
    "start_time": "2024-04-21T04:20:05.757Z"
   },
   {
    "duration": 25,
    "start_time": "2024-04-21T04:20:05.784Z"
   },
   {
    "duration": 42,
    "start_time": "2024-04-21T04:20:05.811Z"
   },
   {
    "duration": 23,
    "start_time": "2024-04-21T04:20:05.855Z"
   },
   {
    "duration": 33,
    "start_time": "2024-04-21T04:20:05.883Z"
   },
   {
    "duration": 1313,
    "start_time": "2024-04-21T04:20:05.918Z"
   },
   {
    "duration": 0,
    "start_time": "2024-04-21T04:20:07.233Z"
   },
   {
    "duration": 0,
    "start_time": "2024-04-21T04:20:07.234Z"
   },
   {
    "duration": 0,
    "start_time": "2024-04-21T04:20:07.235Z"
   },
   {
    "duration": 0,
    "start_time": "2024-04-21T04:20:07.236Z"
   },
   {
    "duration": 22,
    "start_time": "2024-04-21T04:22:31.886Z"
   },
   {
    "duration": 28,
    "start_time": "2024-04-21T04:23:12.121Z"
   },
   {
    "duration": 22,
    "start_time": "2024-04-21T04:24:25.552Z"
   },
   {
    "duration": 21,
    "start_time": "2024-04-21T04:24:37.163Z"
   },
   {
    "duration": 45,
    "start_time": "2024-04-21T04:24:50.409Z"
   },
   {
    "duration": 52,
    "start_time": "2024-04-21T04:24:54.605Z"
   },
   {
    "duration": 5,
    "start_time": "2024-04-21T04:29:04.429Z"
   },
   {
    "duration": 981,
    "start_time": "2024-04-21T04:29:04.436Z"
   },
   {
    "duration": 12,
    "start_time": "2024-04-21T04:29:05.419Z"
   },
   {
    "duration": 145,
    "start_time": "2024-04-21T04:29:05.433Z"
   },
   {
    "duration": 414,
    "start_time": "2024-04-21T04:29:05.582Z"
   },
   {
    "duration": 911,
    "start_time": "2024-04-21T04:29:05.998Z"
   },
   {
    "duration": 22,
    "start_time": "2024-04-21T04:29:06.910Z"
   },
   {
    "duration": 24,
    "start_time": "2024-04-21T04:29:06.933Z"
   },
   {
    "duration": 35,
    "start_time": "2024-04-21T04:29:06.958Z"
   },
   {
    "duration": 43,
    "start_time": "2024-04-21T04:29:06.994Z"
   },
   {
    "duration": 25,
    "start_time": "2024-04-21T04:29:07.039Z"
   },
   {
    "duration": 21,
    "start_time": "2024-04-21T04:29:07.065Z"
   },
   {
    "duration": 84,
    "start_time": "2024-04-21T04:29:07.087Z"
   },
   {
    "duration": 0,
    "start_time": "2024-04-21T04:29:07.172Z"
   },
   {
    "duration": 0,
    "start_time": "2024-04-21T04:29:07.174Z"
   },
   {
    "duration": 0,
    "start_time": "2024-04-21T04:29:07.175Z"
   },
   {
    "duration": 0,
    "start_time": "2024-04-21T04:29:07.176Z"
   },
   {
    "duration": 0,
    "start_time": "2024-04-21T04:29:07.177Z"
   },
   {
    "duration": 0,
    "start_time": "2024-04-21T04:29:07.178Z"
   },
   {
    "duration": 3,
    "start_time": "2024-04-21T04:29:18.625Z"
   },
   {
    "duration": 996,
    "start_time": "2024-04-21T04:29:18.632Z"
   },
   {
    "duration": 12,
    "start_time": "2024-04-21T04:29:19.630Z"
   },
   {
    "duration": 179,
    "start_time": "2024-04-21T04:29:19.644Z"
   },
   {
    "duration": 420,
    "start_time": "2024-04-21T04:29:19.826Z"
   },
   {
    "duration": 857,
    "start_time": "2024-04-21T04:29:20.248Z"
   },
   {
    "duration": 21,
    "start_time": "2024-04-21T04:29:21.106Z"
   },
   {
    "duration": 31,
    "start_time": "2024-04-21T04:29:21.129Z"
   },
   {
    "duration": 34,
    "start_time": "2024-04-21T04:29:21.162Z"
   },
   {
    "duration": 22,
    "start_time": "2024-04-21T04:29:21.198Z"
   },
   {
    "duration": 25,
    "start_time": "2024-04-21T04:29:21.223Z"
   },
   {
    "duration": 46,
    "start_time": "2024-04-21T04:29:21.249Z"
   },
   {
    "duration": 23,
    "start_time": "2024-04-21T04:29:21.297Z"
   },
   {
    "duration": 77,
    "start_time": "2024-04-21T04:29:21.322Z"
   },
   {
    "duration": 301,
    "start_time": "2024-04-21T04:29:21.401Z"
   },
   {
    "duration": 68,
    "start_time": "2024-04-21T04:29:21.703Z"
   },
   {
    "duration": 0,
    "start_time": "2024-04-21T04:29:21.773Z"
   },
   {
    "duration": 0,
    "start_time": "2024-04-21T04:29:21.774Z"
   },
   {
    "duration": 0,
    "start_time": "2024-04-21T04:29:21.775Z"
   },
   {
    "duration": 4,
    "start_time": "2024-04-21T04:29:31.386Z"
   },
   {
    "duration": 1013,
    "start_time": "2024-04-21T04:29:31.393Z"
   },
   {
    "duration": 11,
    "start_time": "2024-04-21T04:29:32.408Z"
   },
   {
    "duration": 188,
    "start_time": "2024-04-21T04:29:32.421Z"
   },
   {
    "duration": 407,
    "start_time": "2024-04-21T04:29:32.611Z"
   },
   {
    "duration": 923,
    "start_time": "2024-04-21T04:29:33.020Z"
   },
   {
    "duration": 22,
    "start_time": "2024-04-21T04:29:33.945Z"
   },
   {
    "duration": 21,
    "start_time": "2024-04-21T04:29:33.981Z"
   },
   {
    "duration": 25,
    "start_time": "2024-04-21T04:29:34.004Z"
   },
   {
    "duration": 22,
    "start_time": "2024-04-21T04:29:34.031Z"
   },
   {
    "duration": 43,
    "start_time": "2024-04-21T04:29:34.055Z"
   },
   {
    "duration": 21,
    "start_time": "2024-04-21T04:29:34.100Z"
   },
   {
    "duration": 24,
    "start_time": "2024-04-21T04:29:34.122Z"
   },
   {
    "duration": 81,
    "start_time": "2024-04-21T04:29:34.147Z"
   },
   {
    "duration": 304,
    "start_time": "2024-04-21T04:29:34.230Z"
   },
   {
    "duration": 308,
    "start_time": "2024-04-21T04:29:34.536Z"
   },
   {
    "duration": 282,
    "start_time": "2024-04-21T04:29:34.846Z"
   },
   {
    "duration": 152,
    "start_time": "2024-04-21T04:29:35.130Z"
   },
   {
    "duration": 78,
    "start_time": "2024-04-21T04:30:41.124Z"
   },
   {
    "duration": 36,
    "start_time": "2024-04-21T04:35:24.019Z"
   },
   {
    "duration": 13,
    "start_time": "2024-04-21T04:35:25.364Z"
   },
   {
    "duration": 226,
    "start_time": "2024-04-21T04:40:53.362Z"
   },
   {
    "duration": 8,
    "start_time": "2024-04-21T04:49:32.717Z"
   },
   {
    "duration": 10,
    "start_time": "2024-04-21T04:49:51.709Z"
   },
   {
    "duration": 86,
    "start_time": "2024-04-21T04:49:54.069Z"
   },
   {
    "duration": 76,
    "start_time": "2024-04-21T04:50:16.257Z"
   },
   {
    "duration": 11,
    "start_time": "2024-04-21T04:50:20.154Z"
   },
   {
    "duration": 10,
    "start_time": "2024-04-21T04:50:33.794Z"
   },
   {
    "duration": 58,
    "start_time": "2024-04-21T04:51:05.964Z"
   },
   {
    "duration": 58,
    "start_time": "2024-04-21T04:51:15.713Z"
   },
   {
    "duration": 198,
    "start_time": "2024-04-21T04:52:41.227Z"
   },
   {
    "duration": 106,
    "start_time": "2024-04-21T04:55:35.135Z"
   },
   {
    "duration": 47,
    "start_time": "2024-04-21T04:56:18.193Z"
   },
   {
    "duration": 199,
    "start_time": "2024-04-21T04:57:09.686Z"
   },
   {
    "duration": 193,
    "start_time": "2024-04-21T04:57:30.984Z"
   },
   {
    "duration": 195,
    "start_time": "2024-04-21T04:58:29.816Z"
   },
   {
    "duration": 212,
    "start_time": "2024-04-21T04:59:52.542Z"
   },
   {
    "duration": 4,
    "start_time": "2024-04-21T05:01:12.532Z"
   },
   {
    "duration": 223,
    "start_time": "2024-04-21T05:01:25.829Z"
   },
   {
    "duration": 51,
    "start_time": "2024-04-21T05:28:21.171Z"
   },
   {
    "duration": 36,
    "start_time": "2024-04-21T05:28:46.060Z"
   },
   {
    "duration": 4,
    "start_time": "2024-04-21T05:29:04.939Z"
   },
   {
    "duration": 3,
    "start_time": "2024-04-21T05:29:15.368Z"
   },
   {
    "duration": 61,
    "start_time": "2024-04-21T05:29:52.424Z"
   },
   {
    "duration": 72,
    "start_time": "2024-04-21T05:30:19.637Z"
   },
   {
    "duration": 4,
    "start_time": "2024-04-21T05:30:28.753Z"
   },
   {
    "duration": 604,
    "start_time": "2024-04-21T05:31:09.829Z"
   },
   {
    "duration": 450,
    "start_time": "2024-04-21T05:31:20.318Z"
   },
   {
    "duration": 4,
    "start_time": "2024-04-21T05:31:29.075Z"
   },
   {
    "duration": 61,
    "start_time": "2024-04-21T05:35:53.443Z"
   },
   {
    "duration": 3,
    "start_time": "2024-04-21T05:36:26.835Z"
   },
   {
    "duration": 4,
    "start_time": "2024-04-21T05:47:20.371Z"
   },
   {
    "duration": 931,
    "start_time": "2024-04-21T05:47:20.377Z"
   },
   {
    "duration": 13,
    "start_time": "2024-04-21T05:47:21.310Z"
   },
   {
    "duration": 180,
    "start_time": "2024-04-21T05:47:21.325Z"
   },
   {
    "duration": 438,
    "start_time": "2024-04-21T05:47:21.507Z"
   },
   {
    "duration": 967,
    "start_time": "2024-04-21T05:47:21.946Z"
   },
   {
    "duration": 26,
    "start_time": "2024-04-21T05:47:22.915Z"
   },
   {
    "duration": 22,
    "start_time": "2024-04-21T05:47:22.944Z"
   },
   {
    "duration": 35,
    "start_time": "2024-04-21T05:47:22.967Z"
   },
   {
    "duration": 37,
    "start_time": "2024-04-21T05:47:23.004Z"
   },
   {
    "duration": 30,
    "start_time": "2024-04-21T05:47:23.042Z"
   },
   {
    "duration": 25,
    "start_time": "2024-04-21T05:47:23.073Z"
   },
   {
    "duration": 40,
    "start_time": "2024-04-21T05:47:23.100Z"
   },
   {
    "duration": 71,
    "start_time": "2024-04-21T05:47:23.141Z"
   },
   {
    "duration": 282,
    "start_time": "2024-04-21T05:47:23.214Z"
   },
   {
    "duration": 286,
    "start_time": "2024-04-21T05:47:23.497Z"
   },
   {
    "duration": 316,
    "start_time": "2024-04-21T05:47:23.784Z"
   },
   {
    "duration": 151,
    "start_time": "2024-04-21T05:47:24.101Z"
   },
   {
    "duration": 106,
    "start_time": "2024-04-21T05:47:24.253Z"
   },
   {
    "duration": 43,
    "start_time": "2024-04-21T05:47:24.360Z"
   },
   {
    "duration": 14,
    "start_time": "2024-04-21T05:47:24.404Z"
   },
   {
    "duration": 235,
    "start_time": "2024-04-21T05:47:24.424Z"
   },
   {
    "duration": 69,
    "start_time": "2024-04-21T05:47:24.660Z"
   },
   {
    "duration": 25,
    "start_time": "2024-04-21T05:47:27.000Z"
   },
   {
    "duration": 343079,
    "start_time": "2024-04-21T05:48:31.403Z"
   },
   {
    "duration": 597,
    "start_time": "2024-04-21T05:54:19.751Z"
   },
   {
    "duration": 467,
    "start_time": "2024-04-21T05:54:20.349Z"
   },
   {
    "duration": 5,
    "start_time": "2024-04-21T05:54:20.817Z"
   },
   {
    "duration": 19,
    "start_time": "2024-04-21T05:54:20.823Z"
   },
   {
    "duration": 146,
    "start_time": "2024-04-21T05:54:30.021Z"
   },
   {
    "duration": 114,
    "start_time": "2024-04-21T05:54:30.169Z"
   },
   {
    "duration": 36,
    "start_time": "2024-04-21T05:54:30.285Z"
   },
   {
    "duration": 151,
    "start_time": "2024-04-21T05:54:30.323Z"
   },
   {
    "duration": 541,
    "start_time": "2024-04-21T05:54:30.475Z"
   },
   {
    "duration": 138,
    "start_time": "2024-04-21T05:54:31.018Z"
   },
   {
    "duration": 368,
    "start_time": "2024-04-21T05:54:31.157Z"
   },
   {
    "duration": 109,
    "start_time": "2024-04-21T05:54:31.526Z"
   },
   {
    "duration": 54,
    "start_time": "2024-04-21T05:54:31.636Z"
   },
   {
    "duration": 202,
    "start_time": "2024-04-21T05:54:31.692Z"
   },
   {
    "duration": 288,
    "start_time": "2024-04-21T05:54:31.896Z"
   },
   {
    "duration": 50,
    "start_time": "2024-04-21T05:54:32.185Z"
   },
   {
    "duration": 51,
    "start_time": "2024-04-21T05:54:32.236Z"
   },
   {
    "duration": 4,
    "start_time": "2024-04-21T05:54:32.288Z"
   },
   {
    "duration": 10,
    "start_time": "2024-04-21T05:54:32.293Z"
   },
   {
    "duration": 83,
    "start_time": "2024-04-21T05:54:32.304Z"
   },
   {
    "duration": 4,
    "start_time": "2024-04-21T05:54:32.389Z"
   },
   {
    "duration": 18,
    "start_time": "2024-04-21T05:54:32.395Z"
   },
   {
    "duration": 973,
    "start_time": "2024-04-21T05:54:36.974Z"
   },
   {
    "duration": 12,
    "start_time": "2024-04-21T05:54:37.949Z"
   },
   {
    "duration": 162,
    "start_time": "2024-04-21T05:54:37.962Z"
   },
   {
    "duration": 470,
    "start_time": "2024-04-21T05:54:38.126Z"
   },
   {
    "duration": 930,
    "start_time": "2024-04-21T05:54:38.598Z"
   },
   {
    "duration": 23,
    "start_time": "2024-04-21T05:54:39.529Z"
   },
   {
    "duration": 32,
    "start_time": "2024-04-21T05:54:39.554Z"
   },
   {
    "duration": 25,
    "start_time": "2024-04-21T05:54:39.587Z"
   },
   {
    "duration": 23,
    "start_time": "2024-04-21T05:54:39.613Z"
   },
   {
    "duration": 29,
    "start_time": "2024-04-21T05:54:39.638Z"
   },
   {
    "duration": 32,
    "start_time": "2024-04-21T05:54:39.668Z"
   },
   {
    "duration": 22,
    "start_time": "2024-04-21T05:54:39.702Z"
   },
   {
    "duration": 85,
    "start_time": "2024-04-21T05:54:39.725Z"
   },
   {
    "duration": 305,
    "start_time": "2024-04-21T05:54:39.812Z"
   },
   {
    "duration": 302,
    "start_time": "2024-04-21T05:54:40.119Z"
   },
   {
    "duration": 300,
    "start_time": "2024-04-21T05:54:40.422Z"
   },
   {
    "duration": 20662,
    "start_time": "2024-04-21T05:54:40.723Z"
   },
   {
    "duration": 6313,
    "start_time": "2024-04-21T06:58:41.974Z"
   },
   {
    "duration": 3140,
    "start_time": "2024-04-21T06:58:48.289Z"
   },
   {
    "duration": 17,
    "start_time": "2024-04-21T06:58:51.431Z"
   },
   {
    "duration": 210,
    "start_time": "2024-04-21T06:58:51.450Z"
   },
   {
    "duration": 531,
    "start_time": "2024-04-21T06:58:51.662Z"
   },
   {
    "duration": 1035,
    "start_time": "2024-04-21T06:58:52.196Z"
   },
   {
    "duration": 24,
    "start_time": "2024-04-21T06:58:53.233Z"
   },
   {
    "duration": 25,
    "start_time": "2024-04-21T06:58:53.258Z"
   },
   {
    "duration": 24,
    "start_time": "2024-04-21T06:58:53.285Z"
   },
   {
    "duration": 24,
    "start_time": "2024-04-21T06:58:53.330Z"
   },
   {
    "duration": 27,
    "start_time": "2024-04-21T06:58:53.356Z"
   },
   {
    "duration": 26,
    "start_time": "2024-04-21T06:58:53.385Z"
   },
   {
    "duration": 29,
    "start_time": "2024-04-21T06:58:53.429Z"
   },
   {
    "duration": 94,
    "start_time": "2024-04-21T06:58:53.461Z"
   },
   {
    "duration": 327,
    "start_time": "2024-04-21T06:58:53.557Z"
   },
   {
    "duration": 317,
    "start_time": "2024-04-21T06:58:53.885Z"
   },
   {
    "duration": 313,
    "start_time": "2024-04-21T06:58:54.203Z"
   },
   {
    "duration": 143,
    "start_time": "2024-04-21T06:58:54.517Z"
   },
   {
    "duration": 105,
    "start_time": "2024-04-21T06:58:54.662Z"
   },
   {
    "duration": 35,
    "start_time": "2024-04-21T06:58:54.769Z"
   },
   {
    "duration": 26,
    "start_time": "2024-04-21T06:58:54.806Z"
   },
   {
    "duration": 278,
    "start_time": "2024-04-21T06:58:54.834Z"
   },
   {
    "duration": 72,
    "start_time": "2024-04-21T06:58:55.114Z"
   },
   {
    "duration": 241,
    "start_time": "2024-04-21T06:58:55.188Z"
   },
   {
    "duration": 205,
    "start_time": "2024-04-21T06:58:55.431Z"
   },
   {
    "duration": 54,
    "start_time": "2024-04-21T06:58:55.638Z"
   },
   {
    "duration": 222,
    "start_time": "2024-04-21T06:58:55.694Z"
   },
   {
    "duration": 206,
    "start_time": "2024-04-21T06:58:55.918Z"
   },
   {
    "duration": 49,
    "start_time": "2024-04-21T06:58:56.126Z"
   },
   {
    "duration": 55,
    "start_time": "2024-04-21T06:58:56.176Z"
   },
   {
    "duration": 4,
    "start_time": "2024-04-21T06:58:56.232Z"
   },
   {
    "duration": 7,
    "start_time": "2024-04-21T06:58:56.237Z"
   },
   {
    "duration": 92,
    "start_time": "2024-04-21T06:58:56.246Z"
   },
   {
    "duration": 4,
    "start_time": "2024-04-21T06:58:56.340Z"
   },
   {
    "duration": 871,
    "start_time": "2024-04-21T06:58:56.345Z"
   },
   {
    "duration": 500,
    "start_time": "2024-04-21T06:58:57.217Z"
   },
   {
    "duration": 4,
    "start_time": "2024-04-21T06:58:57.719Z"
   },
   {
    "duration": 13,
    "start_time": "2024-04-21T06:58:57.730Z"
   },
   {
    "duration": 33,
    "start_time": "2024-04-21T06:58:57.744Z"
   },
   {
    "duration": 372156,
    "start_time": "2024-04-21T06:58:57.779Z"
   },
   {
    "duration": 20690,
    "start_time": "2024-04-21T07:05:09.941Z"
   },
   {
    "duration": 202,
    "start_time": "2024-04-21T07:05:30.633Z"
   },
   {
    "duration": 94,
    "start_time": "2024-04-21T07:05:30.838Z"
   },
   {
    "duration": 130875,
    "start_time": "2024-04-21T07:05:30.933Z"
   },
   {
    "duration": 54,
    "start_time": "2024-04-21T07:07:41.809Z"
   },
   {
    "duration": 0,
    "start_time": "2024-04-21T07:07:41.865Z"
   },
   {
    "duration": 0,
    "start_time": "2024-04-21T07:07:41.867Z"
   },
   {
    "duration": 0,
    "start_time": "2024-04-21T07:07:41.868Z"
   },
   {
    "duration": 0,
    "start_time": "2024-04-21T07:07:41.870Z"
   },
   {
    "duration": 0,
    "start_time": "2024-04-21T07:07:41.872Z"
   },
   {
    "duration": 0,
    "start_time": "2024-04-21T07:07:41.873Z"
   },
   {
    "duration": 0,
    "start_time": "2024-04-21T07:07:41.875Z"
   },
   {
    "duration": 0,
    "start_time": "2024-04-21T07:07:41.877Z"
   },
   {
    "duration": 1,
    "start_time": "2024-04-21T07:07:41.878Z"
   },
   {
    "duration": 0,
    "start_time": "2024-04-21T07:07:41.880Z"
   },
   {
    "duration": 0,
    "start_time": "2024-04-21T07:07:41.881Z"
   },
   {
    "duration": 0,
    "start_time": "2024-04-21T07:07:41.883Z"
   },
   {
    "duration": 0,
    "start_time": "2024-04-21T07:07:41.884Z"
   },
   {
    "duration": 0,
    "start_time": "2024-04-21T07:07:41.886Z"
   },
   {
    "duration": 0,
    "start_time": "2024-04-21T07:07:41.887Z"
   },
   {
    "duration": 0,
    "start_time": "2024-04-21T07:07:41.889Z"
   },
   {
    "duration": 1,
    "start_time": "2024-04-21T07:07:41.890Z"
   },
   {
    "duration": 6,
    "start_time": "2024-04-21T07:13:22.413Z"
   },
   {
    "duration": 1132,
    "start_time": "2024-04-21T07:13:22.421Z"
   },
   {
    "duration": 13,
    "start_time": "2024-04-21T07:13:23.554Z"
   },
   {
    "duration": 178,
    "start_time": "2024-04-21T07:13:23.569Z"
   },
   {
    "duration": 472,
    "start_time": "2024-04-21T07:13:23.749Z"
   },
   {
    "duration": 1094,
    "start_time": "2024-04-21T07:13:24.223Z"
   },
   {
    "duration": 25,
    "start_time": "2024-04-21T07:13:25.319Z"
   },
   {
    "duration": 25,
    "start_time": "2024-04-21T07:13:25.346Z"
   },
   {
    "duration": 25,
    "start_time": "2024-04-21T07:13:25.372Z"
   },
   {
    "duration": 43,
    "start_time": "2024-04-21T07:13:25.399Z"
   },
   {
    "duration": 31,
    "start_time": "2024-04-21T07:13:25.443Z"
   },
   {
    "duration": 23,
    "start_time": "2024-04-21T07:13:25.476Z"
   },
   {
    "duration": 39,
    "start_time": "2024-04-21T07:13:25.501Z"
   },
   {
    "duration": 70,
    "start_time": "2024-04-21T07:13:25.544Z"
   },
   {
    "duration": 339,
    "start_time": "2024-04-21T07:13:25.616Z"
   },
   {
    "duration": 335,
    "start_time": "2024-04-21T07:13:25.957Z"
   },
   {
    "duration": 310,
    "start_time": "2024-04-21T07:13:26.294Z"
   },
   {
    "duration": 153,
    "start_time": "2024-04-21T07:13:26.606Z"
   },
   {
    "duration": 98,
    "start_time": "2024-04-21T07:13:26.760Z"
   },
   {
    "duration": 38,
    "start_time": "2024-04-21T07:13:26.859Z"
   },
   {
    "duration": 13,
    "start_time": "2024-04-21T07:13:26.899Z"
   },
   {
    "duration": 270,
    "start_time": "2024-04-21T07:13:26.914Z"
   },
   {
    "duration": 74,
    "start_time": "2024-04-21T07:13:27.186Z"
   },
   {
    "duration": 237,
    "start_time": "2024-04-21T07:13:27.266Z"
   },
   {
    "duration": 133,
    "start_time": "2024-04-21T07:13:27.505Z"
   },
   {
    "duration": 53,
    "start_time": "2024-04-21T07:13:27.640Z"
   },
   {
    "duration": 223,
    "start_time": "2024-04-21T07:13:27.694Z"
   },
   {
    "duration": 213,
    "start_time": "2024-04-21T07:13:27.919Z"
   },
   {
    "duration": 50,
    "start_time": "2024-04-21T07:13:28.133Z"
   },
   {
    "duration": 57,
    "start_time": "2024-04-21T07:13:28.184Z"
   },
   {
    "duration": 3,
    "start_time": "2024-04-21T07:13:28.243Z"
   },
   {
    "duration": 8,
    "start_time": "2024-04-21T07:13:28.248Z"
   },
   {
    "duration": 92,
    "start_time": "2024-04-21T07:13:28.257Z"
   },
   {
    "duration": 3,
    "start_time": "2024-04-21T07:13:28.351Z"
   },
   {
    "duration": 677,
    "start_time": "2024-04-21T07:13:28.356Z"
   },
   {
    "duration": 486,
    "start_time": "2024-04-21T07:13:29.035Z"
   },
   {
    "duration": 9,
    "start_time": "2024-04-21T07:13:29.523Z"
   },
   {
    "duration": 14,
    "start_time": "2024-04-21T07:13:29.534Z"
   },
   {
    "duration": 17,
    "start_time": "2024-04-21T07:13:29.550Z"
   },
   {
    "duration": 372564,
    "start_time": "2024-04-21T07:13:29.569Z"
   },
   {
    "duration": 21392,
    "start_time": "2024-04-21T07:19:42.137Z"
   },
   {
    "duration": 105,
    "start_time": "2024-04-21T07:20:03.530Z"
   },
   {
    "duration": 190,
    "start_time": "2024-04-21T07:20:03.638Z"
   },
   {
    "duration": 129735,
    "start_time": "2024-04-21T07:20:03.831Z"
   },
   {
    "duration": 49,
    "start_time": "2024-04-21T07:22:13.568Z"
   },
   {
    "duration": 5975,
    "start_time": "2024-04-21T07:32:43.839Z"
   },
   {
    "duration": 158,
    "start_time": "2024-04-21T07:32:49.816Z"
   },
   {
    "duration": 5,
    "start_time": "2024-04-21T07:32:49.976Z"
   },
   {
    "duration": 4,
    "start_time": "2024-04-21T07:32:53.507Z"
   },
   {
    "duration": 69,
    "start_time": "2024-04-21T07:32:56.699Z"
   },
   {
    "duration": 820,
    "start_time": "2024-04-21T07:32:59.834Z"
   },
   {
    "duration": 14,
    "start_time": "2024-04-21T07:33:38.551Z"
   },
   {
    "duration": 43,
    "start_time": "2024-04-21T13:28:30.201Z"
   },
   {
    "duration": 1395,
    "start_time": "2024-04-21T13:28:40.296Z"
   },
   {
    "duration": 1112,
    "start_time": "2024-04-21T13:28:41.692Z"
   },
   {
    "duration": 13,
    "start_time": "2024-04-21T13:28:42.805Z"
   },
   {
    "duration": 127,
    "start_time": "2024-04-21T13:28:42.820Z"
   },
   {
    "duration": 377,
    "start_time": "2024-04-21T13:28:42.948Z"
   },
   {
    "duration": 702,
    "start_time": "2024-04-21T13:28:43.326Z"
   },
   {
    "duration": 17,
    "start_time": "2024-04-21T13:28:44.030Z"
   },
   {
    "duration": 18,
    "start_time": "2024-04-21T13:28:44.048Z"
   },
   {
    "duration": 31,
    "start_time": "2024-04-21T13:28:44.068Z"
   },
   {
    "duration": 19,
    "start_time": "2024-04-21T13:28:44.102Z"
   },
   {
    "duration": 26,
    "start_time": "2024-04-21T13:28:44.122Z"
   },
   {
    "duration": 36,
    "start_time": "2024-04-21T13:28:44.150Z"
   },
   {
    "duration": 18,
    "start_time": "2024-04-21T13:28:44.187Z"
   },
   {
    "duration": 55,
    "start_time": "2024-04-21T13:28:44.207Z"
   },
   {
    "duration": 247,
    "start_time": "2024-04-21T13:28:44.263Z"
   },
   {
    "duration": 238,
    "start_time": "2024-04-21T13:28:44.511Z"
   },
   {
    "duration": 233,
    "start_time": "2024-04-21T13:28:44.751Z"
   },
   {
    "duration": 87,
    "start_time": "2024-04-21T13:28:44.985Z"
   },
   {
    "duration": 168,
    "start_time": "2024-04-21T13:28:45.073Z"
   },
   {
    "duration": 61,
    "start_time": "2024-04-21T13:28:45.242Z"
   },
   {
    "duration": 41,
    "start_time": "2024-04-21T13:28:45.305Z"
   },
   {
    "duration": 262,
    "start_time": "2024-04-21T13:28:45.348Z"
   },
   {
    "duration": 53,
    "start_time": "2024-04-21T13:28:45.611Z"
   },
   {
    "duration": 216,
    "start_time": "2024-04-21T13:28:45.665Z"
   },
   {
    "duration": 105,
    "start_time": "2024-04-21T13:28:45.885Z"
   },
   {
    "duration": 41,
    "start_time": "2024-04-21T13:28:45.991Z"
   },
   {
    "duration": 176,
    "start_time": "2024-04-21T13:28:46.033Z"
   },
   {
    "duration": 181,
    "start_time": "2024-04-21T13:28:46.212Z"
   },
   {
    "duration": 45,
    "start_time": "2024-04-21T13:28:46.395Z"
   },
   {
    "duration": 43,
    "start_time": "2024-04-21T13:28:46.442Z"
   },
   {
    "duration": 3,
    "start_time": "2024-04-21T13:28:46.486Z"
   },
   {
    "duration": 4,
    "start_time": "2024-04-21T13:28:46.490Z"
   },
   {
    "duration": 63,
    "start_time": "2024-04-21T13:28:46.495Z"
   },
   {
    "duration": 3,
    "start_time": "2024-04-21T13:28:46.560Z"
   },
   {
    "duration": 494,
    "start_time": "2024-04-21T13:28:46.564Z"
   },
   {
    "duration": 335,
    "start_time": "2024-04-21T13:28:47.059Z"
   },
   {
    "duration": 4,
    "start_time": "2024-04-21T13:28:47.395Z"
   },
   {
    "duration": 21,
    "start_time": "2024-04-21T13:28:47.400Z"
   },
   {
    "duration": 24,
    "start_time": "2024-04-21T13:28:47.422Z"
   },
   {
    "duration": 268837,
    "start_time": "2024-04-21T13:28:47.447Z"
   },
   {
    "duration": 15197,
    "start_time": "2024-04-21T13:33:16.286Z"
   },
   {
    "duration": 111,
    "start_time": "2024-04-21T13:33:31.485Z"
   },
   {
    "duration": 138,
    "start_time": "2024-04-21T14:45:42.555Z"
   },
   {
    "duration": 3,
    "start_time": "2024-04-21T14:45:59.693Z"
   },
   {
    "duration": 721,
    "start_time": "2024-04-21T14:45:59.697Z"
   },
   {
    "duration": 11,
    "start_time": "2024-04-21T14:46:00.419Z"
   },
   {
    "duration": 203,
    "start_time": "2024-04-21T14:46:00.431Z"
   },
   {
    "duration": 445,
    "start_time": "2024-04-21T14:46:00.636Z"
   },
   {
    "duration": 739,
    "start_time": "2024-04-21T14:46:01.084Z"
   },
   {
    "duration": 17,
    "start_time": "2024-04-21T14:46:01.824Z"
   },
   {
    "duration": 57,
    "start_time": "2024-04-21T14:46:01.842Z"
   },
   {
    "duration": 51,
    "start_time": "2024-04-21T14:46:01.901Z"
   },
   {
    "duration": 29,
    "start_time": "2024-04-21T14:46:01.953Z"
   },
   {
    "duration": 74,
    "start_time": "2024-04-21T14:46:01.984Z"
   },
   {
    "duration": 54,
    "start_time": "2024-04-21T14:46:02.059Z"
   },
   {
    "duration": 58,
    "start_time": "2024-04-21T14:46:02.114Z"
   },
   {
    "duration": 109,
    "start_time": "2024-04-21T14:46:02.173Z"
   },
   {
    "duration": 247,
    "start_time": "2024-04-21T14:46:02.283Z"
   },
   {
    "duration": 248,
    "start_time": "2024-04-21T14:46:02.531Z"
   },
   {
    "duration": 238,
    "start_time": "2024-04-21T14:46:02.780Z"
   },
   {
    "duration": 101,
    "start_time": "2024-04-21T14:46:03.020Z"
   },
   {
    "duration": 79,
    "start_time": "2024-04-21T14:46:03.122Z"
   },
   {
    "duration": 31,
    "start_time": "2024-04-21T14:46:03.202Z"
   },
   {
    "duration": 9,
    "start_time": "2024-04-21T14:46:03.235Z"
   },
   {
    "duration": 204,
    "start_time": "2024-04-21T14:46:03.245Z"
   },
   {
    "duration": 59,
    "start_time": "2024-04-21T14:46:03.451Z"
   },
   {
    "duration": 175,
    "start_time": "2024-04-21T14:46:03.511Z"
   },
   {
    "duration": 85,
    "start_time": "2024-04-21T14:46:03.687Z"
   },
   {
    "duration": 49,
    "start_time": "2024-04-21T14:46:03.773Z"
   },
   {
    "duration": 199,
    "start_time": "2024-04-21T14:46:03.823Z"
   },
   {
    "duration": 164,
    "start_time": "2024-04-21T14:46:04.023Z"
   },
   {
    "duration": 40,
    "start_time": "2024-04-21T14:46:04.190Z"
   },
   {
    "duration": 34,
    "start_time": "2024-04-21T14:46:04.231Z"
   },
   {
    "duration": 3,
    "start_time": "2024-04-21T14:46:04.266Z"
   },
   {
    "duration": 2,
    "start_time": "2024-04-21T14:46:04.284Z"
   },
   {
    "duration": 132,
    "start_time": "2024-04-21T14:46:09.231Z"
   },
   {
    "duration": 239,
    "start_time": "2024-04-21T14:46:49.826Z"
   },
   {
    "duration": 50,
    "start_time": "2024-04-23T08:07:26.916Z"
   },
   {
    "duration": 1944,
    "start_time": "2024-04-23T08:07:32.573Z"
   },
   {
    "duration": 1413,
    "start_time": "2024-04-23T08:07:34.520Z"
   },
   {
    "duration": 17,
    "start_time": "2024-04-23T08:07:35.935Z"
   },
   {
    "duration": 247,
    "start_time": "2024-04-23T08:07:35.954Z"
   },
   {
    "duration": 572,
    "start_time": "2024-04-23T08:07:36.203Z"
   },
   {
    "duration": 1116,
    "start_time": "2024-04-23T08:07:36.776Z"
   },
   {
    "duration": 24,
    "start_time": "2024-04-23T08:07:37.893Z"
   },
   {
    "duration": 30,
    "start_time": "2024-04-23T08:07:37.919Z"
   },
   {
    "duration": 40,
    "start_time": "2024-04-23T08:07:37.951Z"
   },
   {
    "duration": 31,
    "start_time": "2024-04-23T08:07:37.994Z"
   },
   {
    "duration": 48,
    "start_time": "2024-04-23T08:07:38.027Z"
   },
   {
    "duration": 45,
    "start_time": "2024-04-23T08:07:38.077Z"
   },
   {
    "duration": 63,
    "start_time": "2024-04-23T08:07:38.123Z"
   },
   {
    "duration": 94,
    "start_time": "2024-04-23T08:07:38.189Z"
   },
   {
    "duration": 320,
    "start_time": "2024-04-23T08:07:38.285Z"
   },
   {
    "duration": 332,
    "start_time": "2024-04-23T08:07:38.608Z"
   },
   {
    "duration": 317,
    "start_time": "2024-04-23T08:07:38.942Z"
   },
   {
    "duration": 153,
    "start_time": "2024-04-23T08:07:39.262Z"
   },
   {
    "duration": 97,
    "start_time": "2024-04-23T08:07:39.417Z"
   },
   {
    "duration": 36,
    "start_time": "2024-04-23T08:07:39.516Z"
   },
   {
    "duration": 33,
    "start_time": "2024-04-23T08:07:39.553Z"
   },
   {
    "duration": 258,
    "start_time": "2024-04-23T08:07:39.588Z"
   },
   {
    "duration": 70,
    "start_time": "2024-04-23T08:07:39.848Z"
   },
   {
    "duration": 327,
    "start_time": "2024-04-23T08:07:39.920Z"
   },
   {
    "duration": 133,
    "start_time": "2024-04-23T08:07:40.249Z"
   },
   {
    "duration": 54,
    "start_time": "2024-04-23T08:07:40.383Z"
   },
   {
    "duration": 258,
    "start_time": "2024-04-23T08:07:40.438Z"
   },
   {
    "duration": 219,
    "start_time": "2024-04-23T08:07:40.700Z"
   },
   {
    "duration": 58,
    "start_time": "2024-04-23T08:07:40.921Z"
   },
   {
    "duration": 37,
    "start_time": "2024-04-23T08:07:40.980Z"
   },
   {
    "duration": 3,
    "start_time": "2024-04-23T08:07:41.019Z"
   },
   {
    "duration": 11,
    "start_time": "2024-04-23T08:07:41.024Z"
   },
   {
    "duration": 182,
    "start_time": "2024-04-23T08:07:41.036Z"
   },
   {
    "duration": 327,
    "start_time": "2024-04-23T08:07:41.219Z"
   },
   {
    "duration": 75,
    "start_time": "2024-04-23T08:07:41.548Z"
   },
   {
    "duration": 5,
    "start_time": "2024-04-23T08:07:41.625Z"
   },
   {
    "duration": 591,
    "start_time": "2024-04-23T08:07:41.632Z"
   },
   {
    "duration": 420,
    "start_time": "2024-04-23T08:07:42.225Z"
   },
   {
    "duration": 5,
    "start_time": "2024-04-23T08:07:42.646Z"
   },
   {
    "duration": 109,
    "start_time": "2024-04-23T08:07:42.653Z"
   },
   {
    "duration": 0,
    "start_time": "2024-04-23T08:07:42.764Z"
   },
   {
    "duration": 0,
    "start_time": "2024-04-23T08:07:42.765Z"
   },
   {
    "duration": 0,
    "start_time": "2024-04-23T08:07:42.766Z"
   },
   {
    "duration": 0,
    "start_time": "2024-04-23T08:07:42.767Z"
   },
   {
    "duration": 7,
    "start_time": "2024-04-23T08:09:19.648Z"
   },
   {
    "duration": 5,
    "start_time": "2024-04-23T08:10:20.684Z"
   },
   {
    "duration": 344341,
    "start_time": "2024-04-23T08:10:24.340Z"
   },
   {
    "duration": 18500,
    "start_time": "2024-04-23T08:16:08.774Z"
   },
   {
    "duration": 123,
    "start_time": "2024-04-23T08:16:27.276Z"
   },
   {
    "duration": 117,
    "start_time": "2024-04-23T08:16:31.504Z"
   },
   {
    "duration": 3,
    "start_time": "2024-04-23T08:16:34.672Z"
   },
   {
    "duration": 809246,
    "start_time": "2024-04-23T08:16:36.376Z"
   },
   {
    "duration": 11,
    "start_time": "2024-04-23T08:30:05.624Z"
   },
   {
    "duration": 0,
    "start_time": "2024-04-23T08:30:05.636Z"
   },
   {
    "duration": 0,
    "start_time": "2024-04-23T08:30:05.638Z"
   },
   {
    "duration": 0,
    "start_time": "2024-04-23T08:30:05.639Z"
   },
   {
    "duration": 0,
    "start_time": "2024-04-23T08:30:05.640Z"
   },
   {
    "duration": 0,
    "start_time": "2024-04-23T08:30:05.642Z"
   },
   {
    "duration": 0,
    "start_time": "2024-04-23T08:30:05.643Z"
   },
   {
    "duration": 0,
    "start_time": "2024-04-23T08:30:05.645Z"
   },
   {
    "duration": 9,
    "start_time": "2024-04-23T08:35:05.120Z"
   },
   {
    "duration": 11,
    "start_time": "2024-04-23T08:35:31.694Z"
   },
   {
    "duration": 10,
    "start_time": "2024-04-23T08:37:42.654Z"
   },
   {
    "duration": 66,
    "start_time": "2024-04-23T08:37:46.012Z"
   },
   {
    "duration": 4,
    "start_time": "2024-04-23T08:37:48.540Z"
   },
   {
    "duration": 358,
    "start_time": "2024-04-23T08:37:52.836Z"
   },
   {
    "duration": 6,
    "start_time": "2024-04-23T08:39:43.110Z"
   },
   {
    "duration": 1124,
    "start_time": "2024-04-23T08:39:43.118Z"
   },
   {
    "duration": 13,
    "start_time": "2024-04-23T08:39:44.244Z"
   },
   {
    "duration": 187,
    "start_time": "2024-04-23T08:39:44.259Z"
   },
   {
    "duration": 494,
    "start_time": "2024-04-23T08:39:44.447Z"
   },
   {
    "duration": 1020,
    "start_time": "2024-04-23T08:39:44.942Z"
   },
   {
    "duration": 36,
    "start_time": "2024-04-23T08:39:45.963Z"
   },
   {
    "duration": 51,
    "start_time": "2024-04-23T08:39:46.001Z"
   },
   {
    "duration": 35,
    "start_time": "2024-04-23T08:39:46.054Z"
   },
   {
    "duration": 44,
    "start_time": "2024-04-23T08:39:46.093Z"
   },
   {
    "duration": 35,
    "start_time": "2024-04-23T08:39:46.139Z"
   },
   {
    "duration": 24,
    "start_time": "2024-04-23T08:39:46.175Z"
   },
   {
    "duration": 30,
    "start_time": "2024-04-23T08:39:46.200Z"
   },
   {
    "duration": 83,
    "start_time": "2024-04-23T08:39:46.232Z"
   },
   {
    "duration": 321,
    "start_time": "2024-04-23T08:39:46.317Z"
   },
   {
    "duration": 323,
    "start_time": "2024-04-23T08:39:46.641Z"
   },
   {
    "duration": 341,
    "start_time": "2024-04-23T08:39:46.972Z"
   },
   {
    "duration": 158,
    "start_time": "2024-04-23T08:39:47.315Z"
   },
   {
    "duration": 86,
    "start_time": "2024-04-23T08:39:47.475Z"
   },
   {
    "duration": 38,
    "start_time": "2024-04-23T08:39:47.574Z"
   },
   {
    "duration": 16,
    "start_time": "2024-04-23T08:39:47.614Z"
   },
   {
    "duration": 262,
    "start_time": "2024-04-23T08:39:47.631Z"
   },
   {
    "duration": 66,
    "start_time": "2024-04-23T08:39:47.894Z"
   },
   {
    "duration": 236,
    "start_time": "2024-04-23T08:39:47.961Z"
   },
   {
    "duration": 120,
    "start_time": "2024-04-23T08:39:48.200Z"
   },
   {
    "duration": 61,
    "start_time": "2024-04-23T08:39:48.322Z"
   },
   {
    "duration": 263,
    "start_time": "2024-04-23T08:39:48.385Z"
   },
   {
    "duration": 222,
    "start_time": "2024-04-23T08:39:48.653Z"
   },
   {
    "duration": 53,
    "start_time": "2024-04-23T08:39:48.877Z"
   },
   {
    "duration": 60,
    "start_time": "2024-04-23T08:39:48.932Z"
   },
   {
    "duration": 4,
    "start_time": "2024-04-23T08:39:48.994Z"
   },
   {
    "duration": 7,
    "start_time": "2024-04-23T08:39:49.000Z"
   },
   {
    "duration": 184,
    "start_time": "2024-04-23T08:39:49.009Z"
   },
   {
    "duration": 299,
    "start_time": "2024-04-23T08:39:49.195Z"
   },
   {
    "duration": 65,
    "start_time": "2024-04-23T08:39:49.496Z"
   },
   {
    "duration": 3,
    "start_time": "2024-04-23T08:39:50.933Z"
   },
   {
    "duration": 291,
    "start_time": "2024-04-23T08:39:54.387Z"
   },
   {
    "duration": 86,
    "start_time": "2024-04-23T08:41:04.068Z"
   },
   {
    "duration": 1988,
    "start_time": "2024-04-23T08:41:33.910Z"
   },
   {
    "duration": 28,
    "start_time": "2024-04-23T08:41:43.846Z"
   },
   {
    "duration": 130,
    "start_time": "2024-04-23T08:42:44.127Z"
   },
   {
    "duration": 25,
    "start_time": "2024-04-23T08:52:14.374Z"
   },
   {
    "duration": 15,
    "start_time": "2024-04-23T08:52:30.468Z"
   },
   {
    "duration": 14,
    "start_time": "2024-04-23T08:55:21.885Z"
   },
   {
    "duration": 7,
    "start_time": "2024-04-23T08:55:45.220Z"
   },
   {
    "duration": 5,
    "start_time": "2024-04-23T08:56:14.973Z"
   },
   {
    "duration": 1038,
    "start_time": "2024-04-23T08:56:14.980Z"
   },
   {
    "duration": 14,
    "start_time": "2024-04-23T08:56:16.019Z"
   },
   {
    "duration": 174,
    "start_time": "2024-04-23T08:56:16.035Z"
   },
   {
    "duration": 487,
    "start_time": "2024-04-23T08:56:16.210Z"
   },
   {
    "duration": 1018,
    "start_time": "2024-04-23T08:56:16.699Z"
   },
   {
    "duration": 25,
    "start_time": "2024-04-23T08:56:17.718Z"
   },
   {
    "duration": 36,
    "start_time": "2024-04-23T08:56:17.744Z"
   },
   {
    "duration": 36,
    "start_time": "2024-04-23T08:56:17.782Z"
   },
   {
    "duration": 25,
    "start_time": "2024-04-23T08:56:17.821Z"
   },
   {
    "duration": 39,
    "start_time": "2024-04-23T08:56:17.847Z"
   },
   {
    "duration": 23,
    "start_time": "2024-04-23T08:56:17.888Z"
   },
   {
    "duration": 26,
    "start_time": "2024-04-23T08:56:17.913Z"
   },
   {
    "duration": 75,
    "start_time": "2024-04-23T08:56:17.940Z"
   },
   {
    "duration": 331,
    "start_time": "2024-04-23T08:56:18.017Z"
   },
   {
    "duration": 344,
    "start_time": "2024-04-23T08:56:18.350Z"
   },
   {
    "duration": 324,
    "start_time": "2024-04-23T08:56:18.695Z"
   },
   {
    "duration": 154,
    "start_time": "2024-04-23T08:56:19.021Z"
   },
   {
    "duration": 82,
    "start_time": "2024-04-23T08:56:19.177Z"
   },
   {
    "duration": 43,
    "start_time": "2024-04-23T08:56:19.260Z"
   },
   {
    "duration": 18,
    "start_time": "2024-04-23T08:56:19.305Z"
   },
   {
    "duration": 250,
    "start_time": "2024-04-23T08:56:19.324Z"
   },
   {
    "duration": 69,
    "start_time": "2024-04-23T08:56:19.577Z"
   },
   {
    "duration": 239,
    "start_time": "2024-04-23T08:56:19.648Z"
   },
   {
    "duration": 140,
    "start_time": "2024-04-23T08:56:19.889Z"
   },
   {
    "duration": 56,
    "start_time": "2024-04-23T08:56:20.031Z"
   },
   {
    "duration": 281,
    "start_time": "2024-04-23T08:56:20.089Z"
   },
   {
    "duration": 215,
    "start_time": "2024-04-23T08:56:20.375Z"
   },
   {
    "duration": 53,
    "start_time": "2024-04-23T08:56:20.592Z"
   },
   {
    "duration": 58,
    "start_time": "2024-04-23T08:56:20.647Z"
   },
   {
    "duration": 4,
    "start_time": "2024-04-23T08:56:20.707Z"
   },
   {
    "duration": 14,
    "start_time": "2024-04-23T08:56:20.713Z"
   },
   {
    "duration": 183,
    "start_time": "2024-04-23T08:56:20.729Z"
   },
   {
    "duration": 308,
    "start_time": "2024-04-23T08:56:20.914Z"
   },
   {
    "duration": 84,
    "start_time": "2024-04-23T08:56:21.224Z"
   },
   {
    "duration": 6,
    "start_time": "2024-04-23T08:56:21.310Z"
   },
   {
    "duration": 345,
    "start_time": "2024-04-23T08:56:21.317Z"
   },
   {
    "duration": 561,
    "start_time": "2024-04-23T08:56:21.663Z"
   },
   {
    "duration": 14,
    "start_time": "2024-04-23T08:56:22.225Z"
   },
   {
    "duration": 7,
    "start_time": "2024-04-23T08:56:25.125Z"
   },
   {
    "duration": 7,
    "start_time": "2024-04-23T08:56:51.891Z"
   },
   {
    "duration": 8,
    "start_time": "2024-04-23T08:56:57.160Z"
   },
   {
    "duration": 15,
    "start_time": "2024-04-23T08:57:04.441Z"
   },
   {
    "duration": 17,
    "start_time": "2024-04-23T09:32:11.939Z"
   },
   {
    "duration": 8,
    "start_time": "2024-04-23T09:33:17.545Z"
   },
   {
    "duration": 1155,
    "start_time": "2024-04-23T09:33:17.554Z"
   },
   {
    "duration": 15,
    "start_time": "2024-04-23T09:33:18.711Z"
   },
   {
    "duration": 180,
    "start_time": "2024-04-23T09:33:18.727Z"
   },
   {
    "duration": 488,
    "start_time": "2024-04-23T09:33:18.910Z"
   },
   {
    "duration": 1065,
    "start_time": "2024-04-23T09:33:19.400Z"
   },
   {
    "duration": 25,
    "start_time": "2024-04-23T09:33:20.467Z"
   },
   {
    "duration": 39,
    "start_time": "2024-04-23T09:33:20.494Z"
   },
   {
    "duration": 56,
    "start_time": "2024-04-23T09:33:20.535Z"
   },
   {
    "duration": 103,
    "start_time": "2024-04-23T09:33:20.593Z"
   },
   {
    "duration": 68,
    "start_time": "2024-04-23T09:33:20.697Z"
   },
   {
    "duration": 42,
    "start_time": "2024-04-23T09:33:20.767Z"
   },
   {
    "duration": 41,
    "start_time": "2024-04-23T09:33:20.811Z"
   },
   {
    "duration": 92,
    "start_time": "2024-04-23T09:33:20.856Z"
   },
   {
    "duration": 334,
    "start_time": "2024-04-23T09:33:20.949Z"
   },
   {
    "duration": 319,
    "start_time": "2024-04-23T09:33:21.285Z"
   },
   {
    "duration": 329,
    "start_time": "2024-04-23T09:33:21.606Z"
   },
   {
    "duration": 165,
    "start_time": "2024-04-23T09:33:21.936Z"
   },
   {
    "duration": 110,
    "start_time": "2024-04-23T09:33:22.103Z"
   },
   {
    "duration": 58,
    "start_time": "2024-04-23T09:33:22.215Z"
   },
   {
    "duration": 28,
    "start_time": "2024-04-23T09:33:22.275Z"
   },
   {
    "duration": 251,
    "start_time": "2024-04-23T09:33:22.304Z"
   },
   {
    "duration": 81,
    "start_time": "2024-04-23T09:33:22.557Z"
   },
   {
    "duration": 236,
    "start_time": "2024-04-23T09:33:22.640Z"
   },
   {
    "duration": 234,
    "start_time": "2024-04-23T09:33:22.877Z"
   },
   {
    "duration": 62,
    "start_time": "2024-04-23T09:33:23.112Z"
   },
   {
    "duration": 270,
    "start_time": "2024-04-23T09:33:23.175Z"
   },
   {
    "duration": 226,
    "start_time": "2024-04-23T09:33:23.447Z"
   },
   {
    "duration": 99,
    "start_time": "2024-04-23T09:33:23.675Z"
   },
   {
    "duration": 100,
    "start_time": "2024-04-23T09:33:23.776Z"
   },
   {
    "duration": 4,
    "start_time": "2024-04-23T09:33:23.877Z"
   },
   {
    "duration": 38,
    "start_time": "2024-04-23T09:33:23.883Z"
   },
   {
    "duration": 245,
    "start_time": "2024-04-23T09:33:23.922Z"
   },
   {
    "duration": 311,
    "start_time": "2024-04-23T09:33:24.169Z"
   },
   {
    "duration": 66,
    "start_time": "2024-04-23T09:33:24.482Z"
   },
   {
    "duration": 4,
    "start_time": "2024-04-23T09:33:24.550Z"
   },
   {
    "duration": 319,
    "start_time": "2024-04-23T09:33:24.555Z"
   },
   {
    "duration": 549,
    "start_time": "2024-04-23T09:33:24.875Z"
   },
   {
    "duration": 13,
    "start_time": "2024-04-23T09:33:25.425Z"
   },
   {
    "duration": 47,
    "start_time": "2024-04-23T09:33:25.440Z"
   },
   {
    "duration": 37,
    "start_time": "2024-04-23T09:33:25.491Z"
   },
   {
    "duration": 13,
    "start_time": "2024-04-23T09:33:31.262Z"
   },
   {
    "duration": 6,
    "start_time": "2024-04-23T09:34:18.154Z"
   },
   {
    "duration": 1039,
    "start_time": "2024-04-23T09:34:18.162Z"
   },
   {
    "duration": 13,
    "start_time": "2024-04-23T09:34:19.203Z"
   },
   {
    "duration": 189,
    "start_time": "2024-04-23T09:34:19.218Z"
   },
   {
    "duration": 524,
    "start_time": "2024-04-23T09:34:19.408Z"
   },
   {
    "duration": 1029,
    "start_time": "2024-04-23T09:34:19.934Z"
   },
   {
    "duration": 30,
    "start_time": "2024-04-23T09:34:20.965Z"
   },
   {
    "duration": 48,
    "start_time": "2024-04-23T09:34:20.997Z"
   },
   {
    "duration": 34,
    "start_time": "2024-04-23T09:34:21.048Z"
   },
   {
    "duration": 44,
    "start_time": "2024-04-23T09:34:21.085Z"
   },
   {
    "duration": 35,
    "start_time": "2024-04-23T09:34:21.131Z"
   },
   {
    "duration": 24,
    "start_time": "2024-04-23T09:34:21.169Z"
   },
   {
    "duration": 34,
    "start_time": "2024-04-23T09:34:21.195Z"
   },
   {
    "duration": 88,
    "start_time": "2024-04-23T09:34:21.230Z"
   },
   {
    "duration": 318,
    "start_time": "2024-04-23T09:34:21.320Z"
   },
   {
    "duration": 327,
    "start_time": "2024-04-23T09:34:21.640Z"
   },
   {
    "duration": 326,
    "start_time": "2024-04-23T09:34:21.969Z"
   },
   {
    "duration": 162,
    "start_time": "2024-04-23T09:34:22.297Z"
   },
   {
    "duration": 99,
    "start_time": "2024-04-23T09:34:22.461Z"
   },
   {
    "duration": 47,
    "start_time": "2024-04-23T09:34:22.562Z"
   },
   {
    "duration": 17,
    "start_time": "2024-04-23T09:34:22.611Z"
   },
   {
    "duration": 265,
    "start_time": "2024-04-23T09:34:22.630Z"
   },
   {
    "duration": 67,
    "start_time": "2024-04-23T09:34:22.896Z"
   },
   {
    "duration": 233,
    "start_time": "2024-04-23T09:34:22.966Z"
   },
   {
    "duration": 119,
    "start_time": "2024-04-23T09:34:23.201Z"
   },
   {
    "duration": 60,
    "start_time": "2024-04-23T09:34:23.322Z"
   },
   {
    "duration": 289,
    "start_time": "2024-04-23T09:34:23.384Z"
   },
   {
    "duration": 222,
    "start_time": "2024-04-23T09:34:23.675Z"
   },
   {
    "duration": 60,
    "start_time": "2024-04-23T09:34:23.899Z"
   },
   {
    "duration": 45,
    "start_time": "2024-04-23T09:34:23.973Z"
   },
   {
    "duration": 3,
    "start_time": "2024-04-23T09:34:24.020Z"
   },
   {
    "duration": 63,
    "start_time": "2024-04-23T09:34:24.025Z"
   },
   {
    "duration": 211,
    "start_time": "2024-04-23T09:34:24.091Z"
   },
   {
    "duration": 303,
    "start_time": "2024-04-23T09:34:24.304Z"
   },
   {
    "duration": 74,
    "start_time": "2024-04-23T09:34:24.609Z"
   },
   {
    "duration": 5,
    "start_time": "2024-04-23T09:34:24.685Z"
   },
   {
    "duration": 316,
    "start_time": "2024-04-23T09:34:24.691Z"
   },
   {
    "duration": 558,
    "start_time": "2024-04-23T09:34:25.009Z"
   },
   {
    "duration": 13,
    "start_time": "2024-04-23T09:34:25.573Z"
   },
   {
    "duration": 24,
    "start_time": "2024-04-23T09:34:25.588Z"
   },
   {
    "duration": 27,
    "start_time": "2024-04-23T09:34:25.614Z"
   },
   {
    "duration": 11,
    "start_time": "2024-04-23T09:34:28.702Z"
   },
   {
    "duration": 6,
    "start_time": "2024-04-23T09:38:57.149Z"
   },
   {
    "duration": 1076,
    "start_time": "2024-04-23T09:38:57.157Z"
   },
   {
    "duration": 14,
    "start_time": "2024-04-23T09:38:58.235Z"
   },
   {
    "duration": 189,
    "start_time": "2024-04-23T09:38:58.251Z"
   },
   {
    "duration": 536,
    "start_time": "2024-04-23T09:38:58.442Z"
   },
   {
    "duration": 1016,
    "start_time": "2024-04-23T09:38:58.980Z"
   },
   {
    "duration": 25,
    "start_time": "2024-04-23T09:38:59.998Z"
   },
   {
    "duration": 95,
    "start_time": "2024-04-23T09:39:00.026Z"
   },
   {
    "duration": 94,
    "start_time": "2024-04-23T09:39:00.123Z"
   },
   {
    "duration": 68,
    "start_time": "2024-04-23T09:39:00.219Z"
   },
   {
    "duration": 70,
    "start_time": "2024-04-23T09:39:00.289Z"
   },
   {
    "duration": 50,
    "start_time": "2024-04-23T09:39:00.360Z"
   },
   {
    "duration": 110,
    "start_time": "2024-04-23T09:39:00.411Z"
   },
   {
    "duration": 106,
    "start_time": "2024-04-23T09:39:00.523Z"
   },
   {
    "duration": 330,
    "start_time": "2024-04-23T09:39:00.631Z"
   },
   {
    "duration": 328,
    "start_time": "2024-04-23T09:39:00.963Z"
   },
   {
    "duration": 449,
    "start_time": "2024-04-23T09:39:01.294Z"
   },
   {
    "duration": 173,
    "start_time": "2024-04-23T09:39:01.745Z"
   },
   {
    "duration": 142,
    "start_time": "2024-04-23T09:39:01.920Z"
   },
   {
    "duration": 44,
    "start_time": "2024-04-23T09:39:02.064Z"
   },
   {
    "duration": 70,
    "start_time": "2024-04-23T09:39:02.110Z"
   },
   {
    "duration": 244,
    "start_time": "2024-04-23T09:39:02.182Z"
   },
   {
    "duration": 73,
    "start_time": "2024-04-23T09:39:02.427Z"
   },
   {
    "duration": 376,
    "start_time": "2024-04-23T09:39:02.502Z"
   },
   {
    "duration": 140,
    "start_time": "2024-04-23T09:39:02.880Z"
   },
   {
    "duration": 66,
    "start_time": "2024-04-23T09:39:03.022Z"
   },
   {
    "duration": 258,
    "start_time": "2024-04-23T09:39:03.089Z"
   },
   {
    "duration": 240,
    "start_time": "2024-04-23T09:39:03.351Z"
   },
   {
    "duration": 56,
    "start_time": "2024-04-23T09:39:03.593Z"
   },
   {
    "duration": 55,
    "start_time": "2024-04-23T09:39:03.651Z"
   },
   {
    "duration": 5,
    "start_time": "2024-04-23T09:39:03.707Z"
   },
   {
    "duration": 11,
    "start_time": "2024-04-23T09:39:03.713Z"
   },
   {
    "duration": 201,
    "start_time": "2024-04-23T09:39:03.726Z"
   },
   {
    "duration": 344,
    "start_time": "2024-04-23T09:39:03.930Z"
   },
   {
    "duration": 66,
    "start_time": "2024-04-23T09:39:04.276Z"
   },
   {
    "duration": 5,
    "start_time": "2024-04-23T09:39:04.344Z"
   },
   {
    "duration": 343,
    "start_time": "2024-04-23T09:39:04.373Z"
   },
   {
    "duration": 546,
    "start_time": "2024-04-23T09:39:04.718Z"
   },
   {
    "duration": 18,
    "start_time": "2024-04-23T09:39:05.265Z"
   },
   {
    "duration": 7,
    "start_time": "2024-04-23T09:39:05.285Z"
   },
   {
    "duration": 24,
    "start_time": "2024-04-23T09:39:05.294Z"
   },
   {
    "duration": 10,
    "start_time": "2024-04-23T09:39:09.156Z"
   },
   {
    "duration": 29,
    "start_time": "2024-04-23T09:39:29.265Z"
   },
   {
    "duration": 28,
    "start_time": "2024-04-23T09:40:18.862Z"
   },
   {
    "duration": 8098,
    "start_time": "2024-04-23T09:40:23.362Z"
   },
   {
    "duration": 1096,
    "start_time": "2024-04-23T09:40:31.462Z"
   },
   {
    "duration": 20,
    "start_time": "2024-04-23T09:40:32.560Z"
   },
   {
    "duration": 193,
    "start_time": "2024-04-23T09:40:32.583Z"
   },
   {
    "duration": 509,
    "start_time": "2024-04-23T09:40:32.778Z"
   },
   {
    "duration": 1031,
    "start_time": "2024-04-23T09:40:33.289Z"
   },
   {
    "duration": 25,
    "start_time": "2024-04-23T09:40:34.322Z"
   },
   {
    "duration": 41,
    "start_time": "2024-04-23T09:40:34.348Z"
   },
   {
    "duration": 41,
    "start_time": "2024-04-23T09:40:34.391Z"
   },
   {
    "duration": 35,
    "start_time": "2024-04-23T09:40:34.435Z"
   },
   {
    "duration": 44,
    "start_time": "2024-04-23T09:40:34.472Z"
   },
   {
    "duration": 26,
    "start_time": "2024-04-23T09:40:34.518Z"
   },
   {
    "duration": 30,
    "start_time": "2024-04-23T09:40:34.546Z"
   },
   {
    "duration": 79,
    "start_time": "2024-04-23T09:40:34.578Z"
   },
   {
    "duration": 318,
    "start_time": "2024-04-23T09:40:34.659Z"
   },
   {
    "duration": 325,
    "start_time": "2024-04-23T09:40:34.978Z"
   },
   {
    "duration": 333,
    "start_time": "2024-04-23T09:40:35.305Z"
   },
   {
    "duration": 167,
    "start_time": "2024-04-23T09:40:35.640Z"
   },
   {
    "duration": 100,
    "start_time": "2024-04-23T09:40:35.809Z"
   },
   {
    "duration": 48,
    "start_time": "2024-04-23T09:40:35.910Z"
   },
   {
    "duration": 30,
    "start_time": "2024-04-23T09:40:35.959Z"
   },
   {
    "duration": 264,
    "start_time": "2024-04-23T09:40:35.991Z"
   },
   {
    "duration": 74,
    "start_time": "2024-04-23T09:40:36.258Z"
   },
   {
    "duration": 242,
    "start_time": "2024-04-23T09:40:36.334Z"
   },
   {
    "duration": 127,
    "start_time": "2024-04-23T09:40:36.578Z"
   },
   {
    "duration": 53,
    "start_time": "2024-04-23T09:40:36.708Z"
   },
   {
    "duration": 386,
    "start_time": "2024-04-23T09:40:36.774Z"
   },
   {
    "duration": 219,
    "start_time": "2024-04-23T09:40:37.164Z"
   },
   {
    "duration": 55,
    "start_time": "2024-04-23T09:40:37.385Z"
   },
   {
    "duration": 71,
    "start_time": "2024-04-23T09:40:37.442Z"
   },
   {
    "duration": 5,
    "start_time": "2024-04-23T09:40:37.515Z"
   },
   {
    "duration": 38,
    "start_time": "2024-04-23T09:40:37.521Z"
   },
   {
    "duration": 171,
    "start_time": "2024-04-23T09:40:37.561Z"
   },
   {
    "duration": 299,
    "start_time": "2024-04-23T09:40:37.734Z"
   },
   {
    "duration": 90,
    "start_time": "2024-04-23T09:40:38.035Z"
   },
   {
    "duration": 5,
    "start_time": "2024-04-23T09:40:38.127Z"
   },
   {
    "duration": 318,
    "start_time": "2024-04-23T09:40:38.134Z"
   },
   {
    "duration": 558,
    "start_time": "2024-04-23T09:40:38.454Z"
   },
   {
    "duration": 13,
    "start_time": "2024-04-23T09:40:39.014Z"
   },
   {
    "duration": 51,
    "start_time": "2024-04-23T09:40:39.029Z"
   },
   {
    "duration": 23,
    "start_time": "2024-04-23T09:40:39.082Z"
   },
   {
    "duration": 38,
    "start_time": "2024-04-23T09:40:39.107Z"
   },
   {
    "duration": 14,
    "start_time": "2024-04-23T09:40:48.494Z"
   },
   {
    "duration": 12,
    "start_time": "2024-04-23T09:40:51.777Z"
   },
   {
    "duration": 29,
    "start_time": "2024-04-23T09:40:55.420Z"
   },
   {
    "duration": 525,
    "start_time": "2024-04-23T09:41:35.642Z"
   },
   {
    "duration": 103,
    "start_time": "2024-04-23T09:41:51.631Z"
   },
   {
    "duration": 11,
    "start_time": "2024-04-23T09:42:26.473Z"
   },
   {
    "duration": 11,
    "start_time": "2024-04-23T09:42:39.628Z"
   },
   {
    "duration": 13,
    "start_time": "2024-04-23T09:44:10.042Z"
   },
   {
    "duration": 534,
    "start_time": "2024-04-23T09:47:40.034Z"
   },
   {
    "duration": 10,
    "start_time": "2024-04-23T09:49:03.662Z"
   },
   {
    "duration": 11,
    "start_time": "2024-04-23T09:49:36.597Z"
   },
   {
    "duration": 11,
    "start_time": "2024-04-23T09:50:12.990Z"
   },
   {
    "duration": 16,
    "start_time": "2024-04-23T09:50:37.097Z"
   },
   {
    "duration": 29,
    "start_time": "2024-04-23T09:52:51.561Z"
   },
   {
    "duration": 1148,
    "start_time": "2024-04-23T09:53:08.461Z"
   },
   {
    "duration": 1128,
    "start_time": "2024-04-23T09:54:26.238Z"
   },
   {
    "duration": 2706,
    "start_time": "2024-04-23T09:59:18.829Z"
   },
   {
    "duration": 1136,
    "start_time": "2024-04-23T09:59:21.538Z"
   },
   {
    "duration": 14,
    "start_time": "2024-04-23T09:59:22.676Z"
   },
   {
    "duration": 220,
    "start_time": "2024-04-23T09:59:22.692Z"
   },
   {
    "duration": 535,
    "start_time": "2024-04-23T09:59:22.914Z"
   },
   {
    "duration": 1150,
    "start_time": "2024-04-23T09:59:23.451Z"
   },
   {
    "duration": 32,
    "start_time": "2024-04-23T09:59:24.603Z"
   },
   {
    "duration": 49,
    "start_time": "2024-04-23T09:59:24.637Z"
   },
   {
    "duration": 78,
    "start_time": "2024-04-23T09:59:24.688Z"
   },
   {
    "duration": 64,
    "start_time": "2024-04-23T09:59:24.768Z"
   },
   {
    "duration": 47,
    "start_time": "2024-04-23T09:59:24.834Z"
   },
   {
    "duration": 39,
    "start_time": "2024-04-23T09:59:24.883Z"
   },
   {
    "duration": 42,
    "start_time": "2024-04-23T09:59:24.924Z"
   },
   {
    "duration": 68,
    "start_time": "2024-04-23T09:59:24.969Z"
   },
   {
    "duration": 316,
    "start_time": "2024-04-23T09:59:25.039Z"
   },
   {
    "duration": 316,
    "start_time": "2024-04-23T09:59:25.357Z"
   },
   {
    "duration": 351,
    "start_time": "2024-04-23T09:59:25.675Z"
   },
   {
    "duration": 172,
    "start_time": "2024-04-23T09:59:26.028Z"
   },
   {
    "duration": 138,
    "start_time": "2024-04-23T09:59:26.201Z"
   },
   {
    "duration": 51,
    "start_time": "2024-04-23T09:59:26.341Z"
   },
   {
    "duration": 59,
    "start_time": "2024-04-23T09:59:26.393Z"
   },
   {
    "duration": 250,
    "start_time": "2024-04-23T09:59:26.454Z"
   },
   {
    "duration": 74,
    "start_time": "2024-04-23T09:59:26.705Z"
   },
   {
    "duration": 256,
    "start_time": "2024-04-23T09:59:26.780Z"
   },
   {
    "duration": 137,
    "start_time": "2024-04-23T09:59:27.038Z"
   },
   {
    "duration": 54,
    "start_time": "2024-04-23T09:59:27.176Z"
   },
   {
    "duration": 265,
    "start_time": "2024-04-23T09:59:27.232Z"
   },
   {
    "duration": 238,
    "start_time": "2024-04-23T09:59:27.498Z"
   },
   {
    "duration": 63,
    "start_time": "2024-04-23T09:59:27.738Z"
   },
   {
    "duration": 43,
    "start_time": "2024-04-23T09:59:27.802Z"
   },
   {
    "duration": 4,
    "start_time": "2024-04-23T09:59:27.847Z"
   },
   {
    "duration": 25,
    "start_time": "2024-04-23T09:59:27.852Z"
   },
   {
    "duration": 176,
    "start_time": "2024-04-23T09:59:27.879Z"
   },
   {
    "duration": 302,
    "start_time": "2024-04-23T09:59:28.057Z"
   },
   {
    "duration": 73,
    "start_time": "2024-04-23T09:59:28.361Z"
   },
   {
    "duration": 5,
    "start_time": "2024-04-23T09:59:28.435Z"
   },
   {
    "duration": 327,
    "start_time": "2024-04-23T09:59:28.442Z"
   },
   {
    "duration": 571,
    "start_time": "2024-04-23T09:59:28.773Z"
   },
   {
    "duration": 28,
    "start_time": "2024-04-23T09:59:29.345Z"
   },
   {
    "duration": 7,
    "start_time": "2024-04-23T09:59:29.375Z"
   },
   {
    "duration": 34,
    "start_time": "2024-04-23T09:59:29.386Z"
   },
   {
    "duration": 1155,
    "start_time": "2024-04-23T09:59:33.469Z"
   },
   {
    "duration": 2684,
    "start_time": "2024-04-23T10:01:10.304Z"
   },
   {
    "duration": 1098,
    "start_time": "2024-04-23T10:01:43.681Z"
   },
   {
    "duration": 2729,
    "start_time": "2024-04-23T10:02:23.672Z"
   },
   {
    "duration": 1872,
    "start_time": "2024-04-23T10:02:26.404Z"
   },
   {
    "duration": 1442,
    "start_time": "2024-04-23T10:02:28.278Z"
   },
   {
    "duration": 18,
    "start_time": "2024-04-23T10:02:29.723Z"
   },
   {
    "duration": 165,
    "start_time": "2024-04-23T10:02:29.743Z"
   },
   {
    "duration": 556,
    "start_time": "2024-04-23T10:02:29.910Z"
   },
   {
    "duration": 1126,
    "start_time": "2024-04-23T10:02:30.467Z"
   },
   {
    "duration": 25,
    "start_time": "2024-04-23T10:02:31.595Z"
   },
   {
    "duration": 87,
    "start_time": "2024-04-23T10:02:31.622Z"
   },
   {
    "duration": 54,
    "start_time": "2024-04-23T10:02:31.713Z"
   },
   {
    "duration": 57,
    "start_time": "2024-04-23T10:02:31.769Z"
   },
   {
    "duration": 29,
    "start_time": "2024-04-23T10:02:31.828Z"
   },
   {
    "duration": 28,
    "start_time": "2024-04-23T10:02:31.859Z"
   },
   {
    "duration": 66,
    "start_time": "2024-04-23T10:02:31.890Z"
   },
   {
    "duration": 78,
    "start_time": "2024-04-23T10:02:31.958Z"
   },
   {
    "duration": 371,
    "start_time": "2024-04-23T10:02:32.038Z"
   },
   {
    "duration": 322,
    "start_time": "2024-04-23T10:02:32.411Z"
   },
   {
    "duration": 321,
    "start_time": "2024-04-23T10:02:32.735Z"
   },
   {
    "duration": 147,
    "start_time": "2024-04-23T10:02:33.057Z"
   },
   {
    "duration": 106,
    "start_time": "2024-04-23T10:02:33.206Z"
   },
   {
    "duration": 39,
    "start_time": "2024-04-23T10:02:33.313Z"
   },
   {
    "duration": 31,
    "start_time": "2024-04-23T10:02:33.354Z"
   },
   {
    "duration": 290,
    "start_time": "2024-04-23T10:02:33.387Z"
   },
   {
    "duration": 95,
    "start_time": "2024-04-23T10:02:33.678Z"
   },
   {
    "duration": 243,
    "start_time": "2024-04-23T10:02:33.775Z"
   },
   {
    "duration": 130,
    "start_time": "2024-04-23T10:02:34.020Z"
   },
   {
    "duration": 58,
    "start_time": "2024-04-23T10:02:34.152Z"
   },
   {
    "duration": 262,
    "start_time": "2024-04-23T10:02:34.214Z"
   },
   {
    "duration": 325,
    "start_time": "2024-04-23T10:02:34.478Z"
   },
   {
    "duration": 54,
    "start_time": "2024-04-23T10:02:34.805Z"
   },
   {
    "duration": 46,
    "start_time": "2024-04-23T10:02:34.861Z"
   },
   {
    "duration": 5,
    "start_time": "2024-04-23T10:02:34.908Z"
   },
   {
    "duration": 12,
    "start_time": "2024-04-23T10:02:34.914Z"
   },
   {
    "duration": 200,
    "start_time": "2024-04-23T10:02:34.928Z"
   },
   {
    "duration": 326,
    "start_time": "2024-04-23T10:02:35.131Z"
   },
   {
    "duration": 72,
    "start_time": "2024-04-23T10:02:35.459Z"
   },
   {
    "duration": 4,
    "start_time": "2024-04-23T10:02:35.533Z"
   },
   {
    "duration": 358,
    "start_time": "2024-04-23T10:02:35.539Z"
   },
   {
    "duration": 585,
    "start_time": "2024-04-23T10:02:35.899Z"
   },
   {
    "duration": 14,
    "start_time": "2024-04-23T10:02:36.485Z"
   },
   {
    "duration": 8,
    "start_time": "2024-04-23T10:02:36.500Z"
   },
   {
    "duration": 19,
    "start_time": "2024-04-23T10:02:36.509Z"
   },
   {
    "duration": 2935,
    "start_time": "2024-04-23T10:03:24.124Z"
   },
   {
    "duration": 1398,
    "start_time": "2024-04-23T10:03:27.062Z"
   },
   {
    "duration": 1155,
    "start_time": "2024-04-23T10:03:28.461Z"
   },
   {
    "duration": 17,
    "start_time": "2024-04-23T10:03:29.618Z"
   },
   {
    "duration": 171,
    "start_time": "2024-04-23T10:03:29.637Z"
   },
   {
    "duration": 560,
    "start_time": "2024-04-23T10:03:29.809Z"
   },
   {
    "duration": 1154,
    "start_time": "2024-04-23T10:03:30.373Z"
   },
   {
    "duration": 26,
    "start_time": "2024-04-23T10:03:31.529Z"
   },
   {
    "duration": 85,
    "start_time": "2024-04-23T10:03:31.557Z"
   },
   {
    "duration": 53,
    "start_time": "2024-04-23T10:03:31.645Z"
   },
   {
    "duration": 68,
    "start_time": "2024-04-23T10:03:31.699Z"
   },
   {
    "duration": 37,
    "start_time": "2024-04-23T10:03:31.770Z"
   },
   {
    "duration": 38,
    "start_time": "2024-04-23T10:03:31.809Z"
   },
   {
    "duration": 44,
    "start_time": "2024-04-23T10:03:31.848Z"
   },
   {
    "duration": 77,
    "start_time": "2024-04-23T10:03:31.894Z"
   },
   {
    "duration": 355,
    "start_time": "2024-04-23T10:03:31.973Z"
   },
   {
    "duration": 364,
    "start_time": "2024-04-23T10:03:32.330Z"
   },
   {
    "duration": 321,
    "start_time": "2024-04-23T10:03:32.696Z"
   },
   {
    "duration": 145,
    "start_time": "2024-04-23T10:03:33.018Z"
   },
   {
    "duration": 93,
    "start_time": "2024-04-23T10:03:33.165Z"
   },
   {
    "duration": 46,
    "start_time": "2024-04-23T10:03:33.260Z"
   },
   {
    "duration": 18,
    "start_time": "2024-04-23T10:03:33.308Z"
   },
   {
    "duration": 290,
    "start_time": "2024-04-23T10:03:33.327Z"
   },
   {
    "duration": 76,
    "start_time": "2024-04-23T10:03:33.619Z"
   },
   {
    "duration": 227,
    "start_time": "2024-04-23T10:03:33.696Z"
   },
   {
    "duration": 142,
    "start_time": "2024-04-23T10:03:33.924Z"
   },
   {
    "duration": 70,
    "start_time": "2024-04-23T10:03:34.067Z"
   },
   {
    "duration": 265,
    "start_time": "2024-04-23T10:03:34.142Z"
   },
   {
    "duration": 298,
    "start_time": "2024-04-23T10:03:34.408Z"
   },
   {
    "duration": 50,
    "start_time": "2024-04-23T10:03:34.708Z"
   },
   {
    "duration": 53,
    "start_time": "2024-04-23T10:03:34.759Z"
   },
   {
    "duration": 4,
    "start_time": "2024-04-23T10:03:34.813Z"
   },
   {
    "duration": 20,
    "start_time": "2024-04-23T10:03:34.819Z"
   },
   {
    "duration": 179,
    "start_time": "2024-04-23T10:03:34.841Z"
   },
   {
    "duration": 301,
    "start_time": "2024-04-23T10:03:35.021Z"
   },
   {
    "duration": 95,
    "start_time": "2024-04-23T10:03:35.324Z"
   },
   {
    "duration": 6,
    "start_time": "2024-04-23T10:03:35.421Z"
   },
   {
    "duration": 346,
    "start_time": "2024-04-23T10:03:35.429Z"
   },
   {
    "duration": 580,
    "start_time": "2024-04-23T10:03:35.777Z"
   },
   {
    "duration": 23,
    "start_time": "2024-04-23T10:03:36.359Z"
   },
   {
    "duration": 7,
    "start_time": "2024-04-23T10:03:36.384Z"
   },
   {
    "duration": 14,
    "start_time": "2024-04-23T10:03:36.393Z"
   },
   {
    "duration": 47797,
    "start_time": "2024-04-23T10:03:36.409Z"
   },
   {
    "duration": 426,
    "start_time": "2024-04-23T10:04:24.208Z"
   },
   {
    "duration": 9,
    "start_time": "2024-04-23T10:04:24.636Z"
   },
   {
    "duration": 172,
    "start_time": "2024-04-23T10:04:24.647Z"
   },
   {
    "duration": 0,
    "start_time": "2024-04-23T10:04:24.823Z"
   },
   {
    "duration": 0,
    "start_time": "2024-04-23T10:04:24.824Z"
   },
   {
    "duration": 0,
    "start_time": "2024-04-23T10:04:24.826Z"
   },
   {
    "duration": 0,
    "start_time": "2024-04-23T10:04:24.827Z"
   },
   {
    "duration": 0,
    "start_time": "2024-04-23T10:04:24.829Z"
   },
   {
    "duration": 0,
    "start_time": "2024-04-23T10:04:24.830Z"
   },
   {
    "duration": 0,
    "start_time": "2024-04-23T10:04:24.831Z"
   },
   {
    "duration": 0,
    "start_time": "2024-04-23T10:04:24.832Z"
   },
   {
    "duration": 0,
    "start_time": "2024-04-23T10:04:24.834Z"
   },
   {
    "duration": 0,
    "start_time": "2024-04-23T10:04:24.835Z"
   },
   {
    "duration": 0,
    "start_time": "2024-04-23T10:04:24.836Z"
   },
   {
    "duration": 0,
    "start_time": "2024-04-23T10:04:24.837Z"
   },
   {
    "duration": 0,
    "start_time": "2024-04-23T10:04:24.839Z"
   },
   {
    "duration": 0,
    "start_time": "2024-04-23T10:04:24.873Z"
   },
   {
    "duration": 0,
    "start_time": "2024-04-23T10:04:24.875Z"
   },
   {
    "duration": 0,
    "start_time": "2024-04-23T10:04:24.877Z"
   },
   {
    "duration": 0,
    "start_time": "2024-04-23T10:04:24.879Z"
   },
   {
    "duration": 0,
    "start_time": "2024-04-23T10:04:24.880Z"
   },
   {
    "duration": 0,
    "start_time": "2024-04-23T10:04:24.882Z"
   },
   {
    "duration": 0,
    "start_time": "2024-04-23T10:04:24.883Z"
   },
   {
    "duration": 0,
    "start_time": "2024-04-23T10:04:24.884Z"
   },
   {
    "duration": 0,
    "start_time": "2024-04-23T10:04:24.885Z"
   },
   {
    "duration": 0,
    "start_time": "2024-04-23T10:04:24.887Z"
   },
   {
    "duration": 1,
    "start_time": "2024-04-23T10:04:24.888Z"
   },
   {
    "duration": 0,
    "start_time": "2024-04-23T10:04:24.890Z"
   },
   {
    "duration": 0,
    "start_time": "2024-04-23T10:04:24.892Z"
   },
   {
    "duration": 0,
    "start_time": "2024-04-23T10:04:24.893Z"
   },
   {
    "duration": 0,
    "start_time": "2024-04-23T10:04:24.895Z"
   },
   {
    "duration": 0,
    "start_time": "2024-04-23T10:04:24.897Z"
   },
   {
    "duration": 0,
    "start_time": "2024-04-23T10:04:24.898Z"
   },
   {
    "duration": 0,
    "start_time": "2024-04-23T10:04:24.899Z"
   },
   {
    "duration": 0,
    "start_time": "2024-04-23T10:04:24.900Z"
   },
   {
    "duration": 0,
    "start_time": "2024-04-23T10:04:24.901Z"
   },
   {
    "duration": 0,
    "start_time": "2024-04-23T10:04:24.903Z"
   },
   {
    "duration": 0,
    "start_time": "2024-04-23T10:04:24.908Z"
   },
   {
    "duration": 0,
    "start_time": "2024-04-23T10:04:24.909Z"
   },
   {
    "duration": 0,
    "start_time": "2024-04-23T10:04:24.909Z"
   },
   {
    "duration": 0,
    "start_time": "2024-04-23T10:04:24.910Z"
   },
   {
    "duration": 0,
    "start_time": "2024-04-23T10:04:24.911Z"
   },
   {
    "duration": 0,
    "start_time": "2024-04-23T10:04:24.911Z"
   },
   {
    "duration": 0,
    "start_time": "2024-04-23T10:04:24.912Z"
   },
   {
    "duration": 0,
    "start_time": "2024-04-23T10:04:24.974Z"
   },
   {
    "duration": 0,
    "start_time": "2024-04-23T10:04:24.975Z"
   },
   {
    "duration": 0,
    "start_time": "2024-04-23T10:04:24.976Z"
   },
   {
    "duration": 0,
    "start_time": "2024-04-23T10:04:24.978Z"
   },
   {
    "duration": 0,
    "start_time": "2024-04-23T10:04:24.979Z"
   },
   {
    "duration": 0,
    "start_time": "2024-04-23T10:04:24.980Z"
   },
   {
    "duration": 0,
    "start_time": "2024-04-23T10:04:24.981Z"
   },
   {
    "duration": 0,
    "start_time": "2024-04-23T10:04:24.983Z"
   },
   {
    "duration": 0,
    "start_time": "2024-04-23T10:04:24.984Z"
   },
   {
    "duration": 0,
    "start_time": "2024-04-23T10:04:24.985Z"
   },
   {
    "duration": 0,
    "start_time": "2024-04-23T10:04:24.986Z"
   },
   {
    "duration": 0,
    "start_time": "2024-04-23T10:04:24.987Z"
   },
   {
    "duration": 0,
    "start_time": "2024-04-23T10:04:24.988Z"
   },
   {
    "duration": 0,
    "start_time": "2024-04-23T10:04:24.989Z"
   },
   {
    "duration": 0,
    "start_time": "2024-04-23T10:04:24.990Z"
   },
   {
    "duration": 0,
    "start_time": "2024-04-23T10:04:24.991Z"
   },
   {
    "duration": 0,
    "start_time": "2024-04-23T10:04:24.992Z"
   },
   {
    "duration": 0,
    "start_time": "2024-04-23T10:04:24.993Z"
   },
   {
    "duration": 0,
    "start_time": "2024-04-23T10:04:24.996Z"
   },
   {
    "duration": 0,
    "start_time": "2024-04-23T10:04:24.997Z"
   },
   {
    "duration": 0,
    "start_time": "2024-04-23T10:04:24.998Z"
   },
   {
    "duration": 0,
    "start_time": "2024-04-23T10:04:24.999Z"
   },
   {
    "duration": 66,
    "start_time": "2024-04-23T10:04:29.115Z"
   },
   {
    "duration": 2728,
    "start_time": "2024-04-23T10:04:37.710Z"
   },
   {
    "duration": 6,
    "start_time": "2024-04-23T10:04:41.634Z"
   },
   {
    "duration": 1110,
    "start_time": "2024-04-23T10:04:44.844Z"
   },
   {
    "duration": 15,
    "start_time": "2024-04-23T10:04:48.977Z"
   },
   {
    "duration": 183,
    "start_time": "2024-04-23T10:04:56.826Z"
   },
   {
    "duration": 516,
    "start_time": "2024-04-23T10:04:57.011Z"
   },
   {
    "duration": 1083,
    "start_time": "2024-04-23T10:04:57.528Z"
   },
   {
    "duration": 24,
    "start_time": "2024-04-23T10:04:58.612Z"
   },
   {
    "duration": 37,
    "start_time": "2024-04-23T10:04:58.638Z"
   },
   {
    "duration": 37,
    "start_time": "2024-04-23T10:04:58.677Z"
   },
   {
    "duration": 47,
    "start_time": "2024-04-23T10:04:58.715Z"
   },
   {
    "duration": 47,
    "start_time": "2024-04-23T10:04:58.764Z"
   },
   {
    "duration": 23,
    "start_time": "2024-04-23T10:04:58.812Z"
   },
   {
    "duration": 42,
    "start_time": "2024-04-23T10:04:58.837Z"
   },
   {
    "duration": 90,
    "start_time": "2024-04-23T10:04:58.880Z"
   },
   {
    "duration": 335,
    "start_time": "2024-04-23T10:04:58.972Z"
   },
   {
    "duration": 357,
    "start_time": "2024-04-23T10:04:59.309Z"
   },
   {
    "duration": 316,
    "start_time": "2024-04-23T10:04:59.672Z"
   },
   {
    "duration": 150,
    "start_time": "2024-04-23T10:04:59.990Z"
   },
   {
    "duration": 116,
    "start_time": "2024-04-23T10:05:00.142Z"
   },
   {
    "duration": 34,
    "start_time": "2024-04-23T10:05:00.260Z"
   },
   {
    "duration": 91,
    "start_time": "2024-04-23T10:05:00.296Z"
   },
   {
    "duration": 274,
    "start_time": "2024-04-23T10:05:00.389Z"
   },
   {
    "duration": 71,
    "start_time": "2024-04-23T10:05:00.665Z"
   },
   {
    "duration": 243,
    "start_time": "2024-04-23T10:05:00.737Z"
   },
   {
    "duration": 132,
    "start_time": "2024-04-23T10:05:00.983Z"
   },
   {
    "duration": 69,
    "start_time": "2024-04-23T10:05:01.117Z"
   },
   {
    "duration": 306,
    "start_time": "2024-04-23T10:05:01.187Z"
   },
   {
    "duration": 221,
    "start_time": "2024-04-23T10:05:01.495Z"
   },
   {
    "duration": 65,
    "start_time": "2024-04-23T10:05:01.718Z"
   },
   {
    "duration": 67,
    "start_time": "2024-04-23T10:05:01.785Z"
   },
   {
    "duration": 48,
    "start_time": "2024-04-23T10:05:01.854Z"
   },
   {
    "duration": 49,
    "start_time": "2024-04-23T10:05:01.903Z"
   },
   {
    "duration": 280,
    "start_time": "2024-04-23T10:05:01.954Z"
   },
   {
    "duration": 323,
    "start_time": "2024-04-23T10:05:02.236Z"
   },
   {
    "duration": 84,
    "start_time": "2024-04-23T10:05:02.561Z"
   },
   {
    "duration": 4,
    "start_time": "2024-04-23T10:05:02.647Z"
   },
   {
    "duration": 337,
    "start_time": "2024-04-23T10:05:02.653Z"
   },
   {
    "duration": 617,
    "start_time": "2024-04-23T10:05:02.992Z"
   },
   {
    "duration": 13,
    "start_time": "2024-04-23T10:05:03.611Z"
   },
   {
    "duration": 38,
    "start_time": "2024-04-23T10:05:03.627Z"
   },
   {
    "duration": 27,
    "start_time": "2024-04-23T10:05:03.667Z"
   },
   {
    "duration": 53,
    "start_time": "2024-04-23T10:05:33.182Z"
   },
   {
    "duration": 2644,
    "start_time": "2024-04-23T10:05:37.990Z"
   },
   {
    "duration": 1891,
    "start_time": "2024-04-23T10:05:40.637Z"
   },
   {
    "duration": 1421,
    "start_time": "2024-04-23T10:05:42.530Z"
   },
   {
    "duration": 31,
    "start_time": "2024-04-23T10:05:43.954Z"
   },
   {
    "duration": 163,
    "start_time": "2024-04-23T10:05:43.987Z"
   },
   {
    "duration": 535,
    "start_time": "2024-04-23T10:05:44.151Z"
   },
   {
    "duration": 1113,
    "start_time": "2024-04-23T10:05:44.688Z"
   },
   {
    "duration": 24,
    "start_time": "2024-04-23T10:05:45.803Z"
   },
   {
    "duration": 31,
    "start_time": "2024-04-23T10:05:45.829Z"
   },
   {
    "duration": 33,
    "start_time": "2024-04-23T10:05:45.875Z"
   },
   {
    "duration": 42,
    "start_time": "2024-04-23T10:05:45.910Z"
   },
   {
    "duration": 39,
    "start_time": "2024-04-23T10:05:45.953Z"
   },
   {
    "duration": 39,
    "start_time": "2024-04-23T10:05:45.994Z"
   },
   {
    "duration": 44,
    "start_time": "2024-04-23T10:05:46.034Z"
   },
   {
    "duration": 89,
    "start_time": "2024-04-23T10:05:46.080Z"
   },
   {
    "duration": 343,
    "start_time": "2024-04-23T10:05:46.171Z"
   },
   {
    "duration": 345,
    "start_time": "2024-04-23T10:05:46.516Z"
   },
   {
    "duration": 339,
    "start_time": "2024-04-23T10:05:46.862Z"
   },
   {
    "duration": 146,
    "start_time": "2024-04-23T10:05:47.202Z"
   },
   {
    "duration": 103,
    "start_time": "2024-04-23T10:05:47.350Z"
   },
   {
    "duration": 47,
    "start_time": "2024-04-23T10:05:47.455Z"
   },
   {
    "duration": 20,
    "start_time": "2024-04-23T10:05:47.503Z"
   },
   {
    "duration": 257,
    "start_time": "2024-04-23T10:05:47.525Z"
   },
   {
    "duration": 89,
    "start_time": "2024-04-23T10:05:47.784Z"
   },
   {
    "duration": 260,
    "start_time": "2024-04-23T10:05:47.874Z"
   },
   {
    "duration": 130,
    "start_time": "2024-04-23T10:05:48.136Z"
   },
   {
    "duration": 51,
    "start_time": "2024-04-23T10:05:48.268Z"
   },
   {
    "duration": 270,
    "start_time": "2024-04-23T10:05:48.323Z"
   },
   {
    "duration": 305,
    "start_time": "2024-04-23T10:05:48.594Z"
   },
   {
    "duration": 51,
    "start_time": "2024-04-23T10:05:48.901Z"
   },
   {
    "duration": 52,
    "start_time": "2024-04-23T10:05:48.953Z"
   },
   {
    "duration": 3,
    "start_time": "2024-04-23T10:05:49.007Z"
   },
   {
    "duration": 45,
    "start_time": "2024-04-23T10:05:49.012Z"
   },
   {
    "duration": 272,
    "start_time": "2024-04-23T10:05:49.059Z"
   },
   {
    "duration": 313,
    "start_time": "2024-04-23T10:05:49.333Z"
   },
   {
    "duration": 74,
    "start_time": "2024-04-23T10:05:49.648Z"
   },
   {
    "duration": 5,
    "start_time": "2024-04-23T10:05:49.724Z"
   },
   {
    "duration": 326,
    "start_time": "2024-04-23T10:05:49.730Z"
   },
   {
    "duration": 579,
    "start_time": "2024-04-23T10:05:55.125Z"
   },
   {
    "duration": 14,
    "start_time": "2024-04-23T10:05:59.604Z"
   },
   {
    "duration": 8,
    "start_time": "2024-04-23T10:06:02.740Z"
   },
   {
    "duration": 9,
    "start_time": "2024-04-23T10:06:05.502Z"
   },
   {
    "duration": 49312,
    "start_time": "2024-04-23T10:06:08.355Z"
   },
   {
    "duration": 17760,
    "start_time": "2024-04-23T10:09:55.594Z"
   },
   {
    "duration": 5,
    "start_time": "2024-04-23T10:10:44.547Z"
   },
   {
    "duration": 5,
    "start_time": "2024-04-23T10:11:13.181Z"
   },
   {
    "duration": 4,
    "start_time": "2024-04-23T10:17:58.723Z"
   },
   {
    "duration": 175,
    "start_time": "2024-04-23T10:18:15.658Z"
   },
   {
    "duration": 466012,
    "start_time": "2024-04-23T10:21:19.667Z"
   },
   {
    "duration": 26228,
    "start_time": "2024-04-23T10:29:05.682Z"
   },
   {
    "duration": 265,
    "start_time": "2024-04-23T10:29:31.912Z"
   },
   {
    "duration": 0,
    "start_time": "2024-04-23T10:30:15.315Z"
   },
   {
    "duration": 1,
    "start_time": "2024-04-23T10:30:15.410Z"
   },
   {
    "duration": 0,
    "start_time": "2024-04-23T10:30:15.474Z"
   },
   {
    "duration": 1,
    "start_time": "2024-04-23T10:30:15.475Z"
   },
   {
    "duration": 0,
    "start_time": "2024-04-23T10:30:15.477Z"
   },
   {
    "duration": 0,
    "start_time": "2024-04-23T10:30:15.478Z"
   },
   {
    "duration": 0,
    "start_time": "2024-04-23T10:30:15.479Z"
   },
   {
    "duration": 0,
    "start_time": "2024-04-23T10:30:15.481Z"
   },
   {
    "duration": 1,
    "start_time": "2024-04-23T10:30:15.481Z"
   },
   {
    "duration": 0,
    "start_time": "2024-04-23T10:30:15.483Z"
   },
   {
    "duration": 0,
    "start_time": "2024-04-23T10:30:15.484Z"
   },
   {
    "duration": 0,
    "start_time": "2024-04-23T10:30:15.485Z"
   },
   {
    "duration": 0,
    "start_time": "2024-04-23T10:30:15.486Z"
   },
   {
    "duration": 0,
    "start_time": "2024-04-23T10:30:15.487Z"
   },
   {
    "duration": 0,
    "start_time": "2024-04-23T10:30:15.488Z"
   },
   {
    "duration": 0,
    "start_time": "2024-04-23T10:30:15.489Z"
   },
   {
    "duration": 0,
    "start_time": "2024-04-23T10:30:15.490Z"
   },
   {
    "duration": 0,
    "start_time": "2024-04-23T10:30:15.491Z"
   },
   {
    "duration": 0,
    "start_time": "2024-04-23T10:30:15.492Z"
   },
   {
    "duration": 0,
    "start_time": "2024-04-23T10:30:15.493Z"
   },
   {
    "duration": 0,
    "start_time": "2024-04-23T10:30:15.494Z"
   },
   {
    "duration": 0,
    "start_time": "2024-04-23T10:30:15.495Z"
   },
   {
    "duration": 0,
    "start_time": "2024-04-23T10:30:15.496Z"
   },
   {
    "duration": 0,
    "start_time": "2024-04-23T10:30:15.497Z"
   },
   {
    "duration": 0,
    "start_time": "2024-04-23T10:30:15.498Z"
   },
   {
    "duration": 0,
    "start_time": "2024-04-23T10:30:15.500Z"
   },
   {
    "duration": 0,
    "start_time": "2024-04-23T10:30:15.501Z"
   },
   {
    "duration": 0,
    "start_time": "2024-04-23T10:30:15.502Z"
   },
   {
    "duration": 0,
    "start_time": "2024-04-23T10:30:15.503Z"
   },
   {
    "duration": 0,
    "start_time": "2024-04-23T10:30:15.504Z"
   },
   {
    "duration": 0,
    "start_time": "2024-04-23T10:30:15.505Z"
   },
   {
    "duration": 0,
    "start_time": "2024-04-23T10:30:15.506Z"
   },
   {
    "duration": 0,
    "start_time": "2024-04-23T10:30:15.507Z"
   },
   {
    "duration": 0,
    "start_time": "2024-04-23T10:30:15.508Z"
   },
   {
    "duration": 0,
    "start_time": "2024-04-23T10:30:15.509Z"
   },
   {
    "duration": 0,
    "start_time": "2024-04-23T10:30:15.510Z"
   },
   {
    "duration": 0,
    "start_time": "2024-04-23T10:30:15.511Z"
   },
   {
    "duration": 0,
    "start_time": "2024-04-23T10:30:15.573Z"
   },
   {
    "duration": 0,
    "start_time": "2024-04-23T10:30:15.574Z"
   },
   {
    "duration": 0,
    "start_time": "2024-04-23T10:30:15.575Z"
   },
   {
    "duration": 0,
    "start_time": "2024-04-23T10:30:15.576Z"
   },
   {
    "duration": 0,
    "start_time": "2024-04-23T10:30:15.577Z"
   },
   {
    "duration": 0,
    "start_time": "2024-04-23T10:30:15.578Z"
   },
   {
    "duration": 0,
    "start_time": "2024-04-23T10:30:15.579Z"
   },
   {
    "duration": 0,
    "start_time": "2024-04-23T10:30:15.580Z"
   },
   {
    "duration": 0,
    "start_time": "2024-04-23T10:30:15.581Z"
   },
   {
    "duration": 0,
    "start_time": "2024-04-23T10:30:15.585Z"
   },
   {
    "duration": 0,
    "start_time": "2024-04-23T10:30:15.586Z"
   },
   {
    "duration": 0,
    "start_time": "2024-04-23T10:30:15.598Z"
   },
   {
    "duration": 2736,
    "start_time": "2024-04-23T10:30:43.304Z"
   },
   {
    "duration": 1374,
    "start_time": "2024-04-23T10:30:47.482Z"
   },
   {
    "duration": 1117,
    "start_time": "2024-04-23T10:30:51.541Z"
   },
   {
    "duration": 19,
    "start_time": "2024-04-23T10:30:55.864Z"
   },
   {
    "duration": 156,
    "start_time": "2024-04-23T10:30:58.825Z"
   },
   {
    "duration": 541,
    "start_time": "2024-04-23T10:31:01.993Z"
   },
   {
    "duration": 1127,
    "start_time": "2024-04-23T10:31:04.792Z"
   },
   {
    "duration": 25,
    "start_time": "2024-04-23T10:31:10.753Z"
   },
   {
    "duration": 66,
    "start_time": "2024-04-23T10:31:13.717Z"
   },
   {
    "duration": 356,
    "start_time": "2024-04-23T10:31:16.677Z"
   },
   {
    "duration": 330,
    "start_time": "2024-04-23T10:31:19.784Z"
   },
   {
    "duration": 340,
    "start_time": "2024-04-23T10:31:22.672Z"
   },
   {
    "duration": 140,
    "start_time": "2024-04-23T10:31:27.585Z"
   },
   {
    "duration": 92,
    "start_time": "2024-04-23T10:31:30.798Z"
   },
   {
    "duration": 40,
    "start_time": "2024-04-23T10:31:35.400Z"
   },
   {
    "duration": 130,
    "start_time": "2024-04-23T10:31:45.946Z"
   },
   {
    "duration": 16,
    "start_time": "2024-04-23T10:33:33.277Z"
   },
   {
    "duration": 48,
    "start_time": "2024-04-23T10:33:59.302Z"
   },
   {
    "duration": 16,
    "start_time": "2024-04-23T10:34:06.960Z"
   },
   {
    "duration": 163,
    "start_time": "2024-04-23T10:36:19.103Z"
   },
   {
    "duration": 57,
    "start_time": "2024-04-23T10:36:44.306Z"
   },
   {
    "duration": 2783,
    "start_time": "2024-04-23T10:37:14.630Z"
   },
   {
    "duration": 6,
    "start_time": "2024-04-23T10:37:17.416Z"
   },
   {
    "duration": 1153,
    "start_time": "2024-04-23T10:37:17.423Z"
   },
   {
    "duration": 15,
    "start_time": "2024-04-23T10:37:18.578Z"
   },
   {
    "duration": 193,
    "start_time": "2024-04-23T10:37:18.595Z"
   },
   {
    "duration": 499,
    "start_time": "2024-04-23T10:37:18.790Z"
   },
   {
    "duration": 1056,
    "start_time": "2024-04-23T10:37:19.291Z"
   },
   {
    "duration": 32,
    "start_time": "2024-04-23T10:37:20.349Z"
   },
   {
    "duration": 26,
    "start_time": "2024-04-23T10:37:20.383Z"
   },
   {
    "duration": 28,
    "start_time": "2024-04-23T10:37:20.412Z"
   },
   {
    "duration": 44,
    "start_time": "2024-04-23T10:37:20.442Z"
   },
   {
    "duration": 33,
    "start_time": "2024-04-23T10:37:20.488Z"
   },
   {
    "duration": 23,
    "start_time": "2024-04-23T10:37:20.523Z"
   },
   {
    "duration": 44,
    "start_time": "2024-04-23T10:37:20.548Z"
   },
   {
    "duration": 72,
    "start_time": "2024-04-23T10:37:20.594Z"
   },
   {
    "duration": 325,
    "start_time": "2024-04-23T10:37:20.673Z"
   },
   {
    "duration": 335,
    "start_time": "2024-04-23T10:37:21.000Z"
   },
   {
    "duration": 346,
    "start_time": "2024-04-23T10:37:21.336Z"
   },
   {
    "duration": 152,
    "start_time": "2024-04-23T10:37:21.683Z"
   },
   {
    "duration": 90,
    "start_time": "2024-04-23T10:37:30.821Z"
   },
   {
    "duration": 149,
    "start_time": "2024-04-23T10:37:36.436Z"
   },
   {
    "duration": 34,
    "start_time": "2024-04-23T10:37:39.934Z"
   },
   {
    "duration": 19,
    "start_time": "2024-04-23T10:37:44.779Z"
   },
   {
    "duration": 257,
    "start_time": "2024-04-23T10:37:49.456Z"
   },
   {
    "duration": 73,
    "start_time": "2024-04-23T10:37:53.000Z"
   },
   {
    "duration": 229,
    "start_time": "2024-04-23T10:37:56.461Z"
   },
   {
    "duration": 231,
    "start_time": "2024-04-23T10:38:00.116Z"
   },
   {
    "duration": 60,
    "start_time": "2024-04-23T10:38:04.114Z"
   },
   {
    "duration": 264,
    "start_time": "2024-04-23T10:38:07.021Z"
   },
   {
    "duration": 328,
    "start_time": "2024-04-23T10:38:22.317Z"
   },
   {
    "duration": 867,
    "start_time": "2024-04-23T10:38:38.587Z"
   },
   {
    "duration": 466,
    "start_time": "2024-04-23T10:38:48.654Z"
   },
   {
    "duration": 209,
    "start_time": "2024-04-23T10:38:53.105Z"
   },
   {
    "duration": 64,
    "start_time": "2024-04-23T10:38:56.240Z"
   },
   {
    "duration": 48,
    "start_time": "2024-04-23T10:38:59.748Z"
   },
   {
    "duration": 5,
    "start_time": "2024-04-23T10:39:03.733Z"
   },
   {
    "duration": 3,
    "start_time": "2024-04-23T10:39:06.389Z"
   },
   {
    "duration": 170,
    "start_time": "2024-04-23T10:39:10.948Z"
   },
   {
    "duration": 378,
    "start_time": "2024-04-23T10:39:13.253Z"
   },
   {
    "duration": 79,
    "start_time": "2024-04-23T10:39:17.152Z"
   },
   {
    "duration": 5,
    "start_time": "2024-04-23T10:39:19.520Z"
   },
   {
    "duration": 309,
    "start_time": "2024-04-23T10:39:22.383Z"
   },
   {
    "duration": 16,
    "start_time": "2024-04-23T10:39:40.463Z"
   },
   {
    "duration": 7,
    "start_time": "2024-04-23T10:39:43.587Z"
   },
   {
    "duration": 15,
    "start_time": "2024-04-23T10:39:46.420Z"
   },
   {
    "duration": 48461,
    "start_time": "2024-04-23T10:39:49.097Z"
   },
   {
    "duration": 14969,
    "start_time": "2024-04-23T10:40:37.560Z"
   },
   {
    "duration": 4,
    "start_time": "2024-04-23T10:43:55.040Z"
   },
   {
    "duration": 5,
    "start_time": "2024-04-23T10:43:58.702Z"
   },
   {
    "duration": 15,
    "start_time": "2024-04-23T10:44:21.351Z"
   },
   {
    "duration": 11,
    "start_time": "2024-04-23T10:45:18.217Z"
   },
   {
    "duration": 5,
    "start_time": "2024-04-23T10:45:33.224Z"
   },
   {
    "duration": 461186,
    "start_time": "2024-04-23T11:01:03.906Z"
   },
   {
    "duration": 4,
    "start_time": "2024-04-23T11:47:57.903Z"
   },
   {
    "duration": 96381,
    "start_time": "2024-04-23T11:47:57.909Z"
   },
   {
    "duration": 0,
    "start_time": "2024-04-23T11:49:34.297Z"
   },
   {
    "duration": 0,
    "start_time": "2024-04-23T11:49:34.298Z"
   },
   {
    "duration": 0,
    "start_time": "2024-04-23T11:49:34.299Z"
   },
   {
    "duration": 0,
    "start_time": "2024-04-23T11:49:34.301Z"
   },
   {
    "duration": 0,
    "start_time": "2024-04-23T11:49:34.301Z"
   },
   {
    "duration": 0,
    "start_time": "2024-04-23T11:49:34.303Z"
   },
   {
    "duration": 0,
    "start_time": "2024-04-23T11:49:34.304Z"
   },
   {
    "duration": 0,
    "start_time": "2024-04-23T11:49:34.305Z"
   },
   {
    "duration": 0,
    "start_time": "2024-04-23T11:49:34.307Z"
   },
   {
    "duration": 0,
    "start_time": "2024-04-23T11:49:34.308Z"
   },
   {
    "duration": 0,
    "start_time": "2024-04-23T11:49:34.309Z"
   },
   {
    "duration": 0,
    "start_time": "2024-04-23T11:49:34.310Z"
   },
   {
    "duration": 0,
    "start_time": "2024-04-23T11:49:34.311Z"
   },
   {
    "duration": 0,
    "start_time": "2024-04-23T11:49:34.312Z"
   },
   {
    "duration": 0,
    "start_time": "2024-04-23T11:49:34.312Z"
   },
   {
    "duration": 0,
    "start_time": "2024-04-23T11:49:34.313Z"
   },
   {
    "duration": 0,
    "start_time": "2024-04-23T11:49:34.314Z"
   },
   {
    "duration": 0,
    "start_time": "2024-04-23T11:49:34.315Z"
   },
   {
    "duration": 0,
    "start_time": "2024-04-23T11:49:34.316Z"
   },
   {
    "duration": 0,
    "start_time": "2024-04-23T11:49:34.317Z"
   },
   {
    "duration": 0,
    "start_time": "2024-04-23T11:49:34.318Z"
   },
   {
    "duration": 0,
    "start_time": "2024-04-23T11:49:34.319Z"
   },
   {
    "duration": 0,
    "start_time": "2024-04-23T11:49:34.320Z"
   },
   {
    "duration": 0,
    "start_time": "2024-04-23T11:49:34.321Z"
   },
   {
    "duration": 0,
    "start_time": "2024-04-23T11:49:34.322Z"
   },
   {
    "duration": 0,
    "start_time": "2024-04-23T11:49:34.323Z"
   },
   {
    "duration": 0,
    "start_time": "2024-04-23T11:49:34.324Z"
   },
   {
    "duration": 0,
    "start_time": "2024-04-23T11:49:34.373Z"
   },
   {
    "duration": 0,
    "start_time": "2024-04-23T11:49:34.374Z"
   },
   {
    "duration": 0,
    "start_time": "2024-04-23T11:49:34.375Z"
   },
   {
    "duration": 0,
    "start_time": "2024-04-23T11:49:34.376Z"
   },
   {
    "duration": 0,
    "start_time": "2024-04-23T11:49:34.378Z"
   },
   {
    "duration": 0,
    "start_time": "2024-04-23T11:49:34.379Z"
   },
   {
    "duration": 0,
    "start_time": "2024-04-23T11:49:34.380Z"
   },
   {
    "duration": 0,
    "start_time": "2024-04-23T11:49:34.381Z"
   },
   {
    "duration": 0,
    "start_time": "2024-04-23T11:49:34.382Z"
   },
   {
    "duration": 0,
    "start_time": "2024-04-23T11:49:34.383Z"
   },
   {
    "duration": 0,
    "start_time": "2024-04-23T11:49:34.384Z"
   },
   {
    "duration": 0,
    "start_time": "2024-04-23T11:49:34.386Z"
   },
   {
    "duration": 0,
    "start_time": "2024-04-23T11:49:34.386Z"
   },
   {
    "duration": 0,
    "start_time": "2024-04-23T11:49:34.388Z"
   },
   {
    "duration": 0,
    "start_time": "2024-04-23T11:49:34.389Z"
   },
   {
    "duration": 0,
    "start_time": "2024-04-23T11:49:34.390Z"
   },
   {
    "duration": 0,
    "start_time": "2024-04-23T11:49:34.391Z"
   },
   {
    "duration": 0,
    "start_time": "2024-04-23T11:49:34.392Z"
   },
   {
    "duration": 0,
    "start_time": "2024-04-23T11:49:34.393Z"
   },
   {
    "duration": 0,
    "start_time": "2024-04-23T11:49:34.394Z"
   },
   {
    "duration": 0,
    "start_time": "2024-04-23T11:49:34.395Z"
   },
   {
    "duration": 1,
    "start_time": "2024-04-23T11:49:34.396Z"
   },
   {
    "duration": 2661,
    "start_time": "2024-04-23T11:49:40.402Z"
   },
   {
    "duration": 6,
    "start_time": "2024-04-23T11:49:43.848Z"
   },
   {
    "duration": 1117,
    "start_time": "2024-04-23T11:49:48.740Z"
   },
   {
    "duration": 16,
    "start_time": "2024-04-23T11:49:53.127Z"
   },
   {
    "duration": 161,
    "start_time": "2024-04-23T11:49:57.213Z"
   },
   {
    "duration": 174,
    "start_time": "2024-04-23T11:50:07.256Z"
   },
   {
    "duration": 587,
    "start_time": "2024-04-23T11:50:07.432Z"
   },
   {
    "duration": 1041,
    "start_time": "2024-04-23T11:50:08.020Z"
   },
   {
    "duration": 28,
    "start_time": "2024-04-23T11:50:09.063Z"
   },
   {
    "duration": 35,
    "start_time": "2024-04-23T11:50:09.093Z"
   },
   {
    "duration": 27,
    "start_time": "2024-04-23T11:50:09.129Z"
   },
   {
    "duration": 36,
    "start_time": "2024-04-23T11:50:09.158Z"
   },
   {
    "duration": 53,
    "start_time": "2024-04-23T11:50:09.196Z"
   },
   {
    "duration": 35,
    "start_time": "2024-04-23T11:50:09.250Z"
   },
   {
    "duration": 52,
    "start_time": "2024-04-23T11:50:09.288Z"
   },
   {
    "duration": 65,
    "start_time": "2024-04-23T11:50:09.342Z"
   },
   {
    "duration": 331,
    "start_time": "2024-04-23T11:50:09.409Z"
   },
   {
    "duration": 330,
    "start_time": "2024-04-23T11:50:09.742Z"
   },
   {
    "duration": 345,
    "start_time": "2024-04-23T11:50:10.074Z"
   },
   {
    "duration": 170,
    "start_time": "2024-04-23T11:50:10.420Z"
   },
   {
    "duration": 99,
    "start_time": "2024-04-23T11:50:10.591Z"
   },
   {
    "duration": 166,
    "start_time": "2024-04-23T11:50:10.692Z"
   },
   {
    "duration": 47,
    "start_time": "2024-04-23T11:50:10.860Z"
   },
   {
    "duration": 15,
    "start_time": "2024-04-23T11:50:10.909Z"
   },
   {
    "duration": 255,
    "start_time": "2024-04-23T11:50:10.926Z"
   },
   {
    "duration": 69,
    "start_time": "2024-04-23T11:50:11.182Z"
   },
   {
    "duration": 244,
    "start_time": "2024-04-23T11:50:11.253Z"
   },
   {
    "duration": 121,
    "start_time": "2024-04-23T11:50:11.499Z"
   },
   {
    "duration": 65,
    "start_time": "2024-04-23T11:50:11.622Z"
   },
   {
    "duration": 354,
    "start_time": "2024-04-23T11:50:11.689Z"
   },
   {
    "duration": 221,
    "start_time": "2024-04-23T11:50:12.045Z"
   },
   {
    "duration": 54,
    "start_time": "2024-04-23T11:50:12.268Z"
   },
   {
    "duration": 58,
    "start_time": "2024-04-23T11:50:12.328Z"
   },
   {
    "duration": 4,
    "start_time": "2024-04-23T11:50:12.389Z"
   },
   {
    "duration": 29,
    "start_time": "2024-04-23T11:50:12.395Z"
   },
   {
    "duration": 179,
    "start_time": "2024-04-23T11:50:12.426Z"
   },
   {
    "duration": 306,
    "start_time": "2024-04-23T11:50:12.607Z"
   },
   {
    "duration": 87,
    "start_time": "2024-04-23T11:50:12.914Z"
   },
   {
    "duration": 4,
    "start_time": "2024-04-23T11:50:13.002Z"
   },
   {
    "duration": 329,
    "start_time": "2024-04-23T11:50:13.008Z"
   },
   {
    "duration": 2,
    "start_time": "2024-04-23T11:50:13.339Z"
   },
   {
    "duration": 33,
    "start_time": "2024-04-23T11:50:13.343Z"
   },
   {
    "duration": 36,
    "start_time": "2024-04-23T11:50:13.379Z"
   },
   {
    "duration": 34,
    "start_time": "2024-04-23T11:50:13.417Z"
   },
   {
    "duration": 2618,
    "start_time": "2024-04-23T11:50:37.728Z"
   },
   {
    "duration": 1915,
    "start_time": "2024-04-23T11:50:40.348Z"
   },
   {
    "duration": 1413,
    "start_time": "2024-04-23T11:50:42.265Z"
   },
   {
    "duration": 16,
    "start_time": "2024-04-23T11:50:43.680Z"
   },
   {
    "duration": 157,
    "start_time": "2024-04-23T11:50:43.698Z"
   },
   {
    "duration": 556,
    "start_time": "2024-04-23T11:50:43.857Z"
   },
   {
    "duration": 1104,
    "start_time": "2024-04-23T11:50:44.415Z"
   },
   {
    "duration": 24,
    "start_time": "2024-04-23T11:50:45.521Z"
   },
   {
    "duration": 55,
    "start_time": "2024-04-23T11:50:45.546Z"
   },
   {
    "duration": 63,
    "start_time": "2024-04-23T11:50:45.603Z"
   },
   {
    "duration": 55,
    "start_time": "2024-04-23T11:50:45.668Z"
   },
   {
    "duration": 49,
    "start_time": "2024-04-23T11:50:45.724Z"
   },
   {
    "duration": 42,
    "start_time": "2024-04-23T11:50:45.775Z"
   },
   {
    "duration": 25,
    "start_time": "2024-04-23T11:50:45.821Z"
   },
   {
    "duration": 73,
    "start_time": "2024-04-23T11:50:45.848Z"
   },
   {
    "duration": 376,
    "start_time": "2024-04-23T11:50:45.923Z"
   },
   {
    "duration": 318,
    "start_time": "2024-04-23T11:50:46.300Z"
   },
   {
    "duration": 322,
    "start_time": "2024-04-23T11:50:46.620Z"
   },
   {
    "duration": 173,
    "start_time": "2024-04-23T11:50:46.944Z"
   },
   {
    "duration": 104,
    "start_time": "2024-04-23T11:50:47.119Z"
   },
   {
    "duration": 163,
    "start_time": "2024-04-23T11:50:47.225Z"
   },
   {
    "duration": 43,
    "start_time": "2024-04-23T11:50:47.390Z"
   },
   {
    "duration": 19,
    "start_time": "2024-04-23T11:50:47.435Z"
   },
   {
    "duration": 260,
    "start_time": "2024-04-23T11:50:47.474Z"
   },
   {
    "duration": 76,
    "start_time": "2024-04-23T11:50:47.736Z"
   },
   {
    "duration": 229,
    "start_time": "2024-04-23T11:50:47.814Z"
   },
   {
    "duration": 120,
    "start_time": "2024-04-23T11:50:48.044Z"
   },
   {
    "duration": 56,
    "start_time": "2024-04-23T11:50:48.172Z"
   },
   {
    "duration": 410,
    "start_time": "2024-04-23T11:50:48.230Z"
   },
   {
    "duration": 222,
    "start_time": "2024-04-23T11:50:48.642Z"
   },
   {
    "duration": 57,
    "start_time": "2024-04-23T11:50:48.866Z"
   },
   {
    "duration": 55,
    "start_time": "2024-04-23T11:50:48.924Z"
   },
   {
    "duration": 4,
    "start_time": "2024-04-23T11:50:48.980Z"
   },
   {
    "duration": 11,
    "start_time": "2024-04-23T11:50:48.986Z"
   },
   {
    "duration": 181,
    "start_time": "2024-04-23T11:50:48.999Z"
   },
   {
    "duration": 316,
    "start_time": "2024-04-23T11:50:49.182Z"
   },
   {
    "duration": 75,
    "start_time": "2024-04-23T11:50:49.500Z"
   },
   {
    "duration": 4,
    "start_time": "2024-04-23T11:50:49.576Z"
   },
   {
    "duration": 325,
    "start_time": "2024-04-23T11:50:49.582Z"
   },
   {
    "duration": 2,
    "start_time": "2024-04-23T11:50:49.909Z"
   },
   {
    "duration": 41,
    "start_time": "2024-04-23T11:50:49.915Z"
   },
   {
    "duration": 12,
    "start_time": "2024-04-23T11:50:49.957Z"
   },
   {
    "duration": 33,
    "start_time": "2024-04-23T11:50:49.971Z"
   },
   {
    "duration": 35431,
    "start_time": "2024-04-23T11:50:50.006Z"
   },
   {
    "duration": 0,
    "start_time": "2024-04-23T11:51:25.439Z"
   },
   {
    "duration": 0,
    "start_time": "2024-04-23T11:51:25.440Z"
   },
   {
    "duration": 0,
    "start_time": "2024-04-23T11:51:25.442Z"
   },
   {
    "duration": 0,
    "start_time": "2024-04-23T11:51:25.443Z"
   },
   {
    "duration": 0,
    "start_time": "2024-04-23T11:51:25.444Z"
   },
   {
    "duration": 0,
    "start_time": "2024-04-23T11:51:25.445Z"
   },
   {
    "duration": 2732,
    "start_time": "2024-04-23T11:51:28.260Z"
   },
   {
    "duration": 2750,
    "start_time": "2024-04-23T11:51:45.607Z"
   },
   {
    "duration": 8,
    "start_time": "2024-04-23T11:51:48.360Z"
   },
   {
    "duration": 1105,
    "start_time": "2024-04-23T11:51:48.369Z"
   },
   {
    "duration": 15,
    "start_time": "2024-04-23T11:51:49.476Z"
   },
   {
    "duration": 159,
    "start_time": "2024-04-23T11:51:49.493Z"
   },
   {
    "duration": 473,
    "start_time": "2024-04-23T11:51:49.655Z"
   },
   {
    "duration": 1007,
    "start_time": "2024-04-23T11:51:50.130Z"
   },
   {
    "duration": 23,
    "start_time": "2024-04-23T11:51:51.139Z"
   },
   {
    "duration": 42,
    "start_time": "2024-04-23T11:51:51.164Z"
   },
   {
    "duration": 54,
    "start_time": "2024-04-23T11:51:51.209Z"
   },
   {
    "duration": 31,
    "start_time": "2024-04-23T11:51:51.265Z"
   },
   {
    "duration": 47,
    "start_time": "2024-04-23T11:51:51.298Z"
   },
   {
    "duration": 39,
    "start_time": "2024-04-23T11:51:51.347Z"
   },
   {
    "duration": 40,
    "start_time": "2024-04-23T11:51:51.388Z"
   },
   {
    "duration": 79,
    "start_time": "2024-04-23T11:51:51.430Z"
   },
   {
    "duration": 320,
    "start_time": "2024-04-23T11:51:51.511Z"
   },
   {
    "duration": 352,
    "start_time": "2024-04-23T11:51:51.833Z"
   },
   {
    "duration": 328,
    "start_time": "2024-04-23T11:51:52.187Z"
   },
   {
    "duration": 158,
    "start_time": "2024-04-23T11:51:52.517Z"
   },
   {
    "duration": 88,
    "start_time": "2024-04-23T11:51:52.677Z"
   },
   {
    "duration": 156,
    "start_time": "2024-04-23T11:51:52.773Z"
   },
   {
    "duration": 48,
    "start_time": "2024-04-23T11:51:52.930Z"
   },
   {
    "duration": 19,
    "start_time": "2024-04-23T11:51:52.981Z"
   },
   {
    "duration": 264,
    "start_time": "2024-04-23T11:51:53.002Z"
   },
   {
    "duration": 68,
    "start_time": "2024-04-23T11:51:53.268Z"
   },
   {
    "duration": 241,
    "start_time": "2024-04-23T11:51:53.338Z"
   },
   {
    "duration": 124,
    "start_time": "2024-04-23T11:51:53.580Z"
   },
   {
    "duration": 65,
    "start_time": "2024-04-23T11:51:53.709Z"
   },
   {
    "duration": 335,
    "start_time": "2024-04-23T11:51:53.776Z"
   },
   {
    "duration": 240,
    "start_time": "2024-04-23T11:51:54.112Z"
   },
   {
    "duration": 64,
    "start_time": "2024-04-23T11:51:54.354Z"
   },
   {
    "duration": 54,
    "start_time": "2024-04-23T11:51:54.419Z"
   },
   {
    "duration": 4,
    "start_time": "2024-04-23T11:51:54.475Z"
   },
   {
    "duration": 19,
    "start_time": "2024-04-23T11:51:54.480Z"
   },
   {
    "duration": 209,
    "start_time": "2024-04-23T11:51:54.501Z"
   },
   {
    "duration": 306,
    "start_time": "2024-04-23T11:51:54.712Z"
   },
   {
    "duration": 76,
    "start_time": "2024-04-23T11:51:55.020Z"
   },
   {
    "duration": 4,
    "start_time": "2024-04-23T11:51:55.097Z"
   },
   {
    "duration": 333,
    "start_time": "2024-04-23T11:51:55.103Z"
   },
   {
    "duration": 3,
    "start_time": "2024-04-23T11:51:55.437Z"
   },
   {
    "duration": 42,
    "start_time": "2024-04-23T11:51:55.441Z"
   },
   {
    "duration": 25,
    "start_time": "2024-04-23T11:51:55.486Z"
   },
   {
    "duration": 33,
    "start_time": "2024-04-23T11:51:55.513Z"
   },
   {
    "duration": 52,
    "start_time": "2024-04-23T11:52:45.562Z"
   },
   {
    "duration": 9,
    "start_time": "2024-04-23T11:53:05.753Z"
   },
   {
    "duration": 7,
    "start_time": "2024-04-23T11:53:29.859Z"
   },
   {
    "duration": 2707,
    "start_time": "2024-04-23T11:53:42.814Z"
   },
   {
    "duration": 1882,
    "start_time": "2024-04-23T11:53:45.523Z"
   },
   {
    "duration": 1420,
    "start_time": "2024-04-23T11:53:47.407Z"
   },
   {
    "duration": 17,
    "start_time": "2024-04-23T11:53:48.830Z"
   },
   {
    "duration": 170,
    "start_time": "2024-04-23T11:53:48.848Z"
   },
   {
    "duration": 538,
    "start_time": "2024-04-23T11:53:49.019Z"
   },
   {
    "duration": 1120,
    "start_time": "2024-04-23T11:53:49.558Z"
   },
   {
    "duration": 24,
    "start_time": "2024-04-23T11:53:50.679Z"
   },
   {
    "duration": 29,
    "start_time": "2024-04-23T11:53:50.705Z"
   },
   {
    "duration": 49,
    "start_time": "2024-04-23T11:53:50.737Z"
   },
   {
    "duration": 30,
    "start_time": "2024-04-23T11:53:50.788Z"
   },
   {
    "duration": 30,
    "start_time": "2024-04-23T11:53:50.820Z"
   },
   {
    "duration": 29,
    "start_time": "2024-04-23T11:53:50.852Z"
   },
   {
    "duration": 47,
    "start_time": "2024-04-23T11:53:50.883Z"
   },
   {
    "duration": 102,
    "start_time": "2024-04-23T11:53:50.931Z"
   },
   {
    "duration": 343,
    "start_time": "2024-04-23T11:53:51.034Z"
   },
   {
    "duration": 334,
    "start_time": "2024-04-23T11:53:51.379Z"
   },
   {
    "duration": 317,
    "start_time": "2024-04-23T11:53:51.715Z"
   },
   {
    "duration": 157,
    "start_time": "2024-04-23T11:53:52.034Z"
   },
   {
    "duration": 99,
    "start_time": "2024-04-23T11:53:52.192Z"
   },
   {
    "duration": 154,
    "start_time": "2024-04-23T11:53:52.292Z"
   },
   {
    "duration": 47,
    "start_time": "2024-04-23T11:53:52.447Z"
   },
   {
    "duration": 20,
    "start_time": "2024-04-23T11:53:52.495Z"
   },
   {
    "duration": 261,
    "start_time": "2024-04-23T11:53:52.517Z"
   },
   {
    "duration": 67,
    "start_time": "2024-04-23T11:53:52.780Z"
   },
   {
    "duration": 239,
    "start_time": "2024-04-23T11:53:52.850Z"
   },
   {
    "duration": 125,
    "start_time": "2024-04-23T11:53:53.091Z"
   },
   {
    "duration": 64,
    "start_time": "2024-04-23T11:53:53.219Z"
   },
   {
    "duration": 443,
    "start_time": "2024-04-23T11:53:53.285Z"
   },
   {
    "duration": 207,
    "start_time": "2024-04-23T11:53:53.729Z"
   },
   {
    "duration": 59,
    "start_time": "2024-04-23T11:53:53.938Z"
   },
   {
    "duration": 44,
    "start_time": "2024-04-23T11:53:53.999Z"
   },
   {
    "duration": 4,
    "start_time": "2024-04-23T11:53:54.044Z"
   },
   {
    "duration": 24,
    "start_time": "2024-04-23T11:53:54.049Z"
   },
   {
    "duration": 185,
    "start_time": "2024-04-23T11:53:54.075Z"
   },
   {
    "duration": 304,
    "start_time": "2024-04-23T11:53:54.262Z"
   },
   {
    "duration": 62,
    "start_time": "2024-04-23T11:54:21.050Z"
   },
   {
    "duration": 4,
    "start_time": "2024-04-23T11:54:25.058Z"
   },
   {
    "duration": 299,
    "start_time": "2024-04-23T11:54:27.779Z"
   },
   {
    "duration": 18,
    "start_time": "2024-04-23T11:54:33.451Z"
   },
   {
    "duration": 7,
    "start_time": "2024-04-23T11:54:36.154Z"
   },
   {
    "duration": 15,
    "start_time": "2024-04-23T11:54:39.853Z"
   },
   {
    "duration": 51636,
    "start_time": "2024-04-23T11:54:43.581Z"
   },
   {
    "duration": 17949,
    "start_time": "2024-04-23T11:55:41.121Z"
   },
   {
    "duration": 4,
    "start_time": "2024-04-23T11:56:02.483Z"
   },
   {
    "duration": 4,
    "start_time": "2024-04-23T11:56:05.438Z"
   },
   {
    "duration": 12,
    "start_time": "2024-04-23T11:56:18.533Z"
   },
   {
    "duration": 4,
    "start_time": "2024-04-23T11:56:22.014Z"
   },
   {
    "duration": 376702,
    "start_time": "2024-04-23T11:56:27.405Z"
   },
   {
    "duration": 3,
    "start_time": "2024-04-23T12:06:34.654Z"
   },
   {
    "duration": 561505,
    "start_time": "2024-04-23T12:07:00.298Z"
   },
   {
    "duration": 6,
    "start_time": "2024-04-23T12:20:20.242Z"
   },
   {
    "duration": 1056,
    "start_time": "2024-04-23T12:20:27.318Z"
   },
   {
    "duration": 152,
    "start_time": "2024-04-23T12:20:32.293Z"
   },
   {
    "duration": 2675,
    "start_time": "2024-04-23T12:20:52.163Z"
   },
   {
    "duration": 5,
    "start_time": "2024-04-23T12:20:54.841Z"
   },
   {
    "duration": 1066,
    "start_time": "2024-04-23T12:20:54.847Z"
   },
   {
    "duration": 16,
    "start_time": "2024-04-23T12:20:55.916Z"
   },
   {
    "duration": 160,
    "start_time": "2024-04-23T12:20:55.933Z"
   },
   {
    "duration": 466,
    "start_time": "2024-04-23T12:20:56.095Z"
   },
   {
    "duration": 980,
    "start_time": "2024-04-23T12:20:56.563Z"
   },
   {
    "duration": 29,
    "start_time": "2024-04-23T12:20:57.545Z"
   },
   {
    "duration": 41,
    "start_time": "2024-04-23T12:20:57.576Z"
   },
   {
    "duration": 52,
    "start_time": "2024-04-23T12:20:57.621Z"
   },
   {
    "duration": 64,
    "start_time": "2024-04-23T12:20:57.674Z"
   },
   {
    "duration": 46,
    "start_time": "2024-04-23T12:20:57.740Z"
   },
   {
    "duration": 48,
    "start_time": "2024-04-23T12:20:57.787Z"
   },
   {
    "duration": 26,
    "start_time": "2024-04-23T12:20:57.837Z"
   },
   {
    "duration": 71,
    "start_time": "2024-04-23T12:20:57.865Z"
   },
   {
    "duration": 323,
    "start_time": "2024-04-23T12:20:57.937Z"
   },
   {
    "duration": 323,
    "start_time": "2024-04-23T12:20:58.261Z"
   },
   {
    "duration": 333,
    "start_time": "2024-04-23T12:20:58.586Z"
   },
   {
    "duration": 142,
    "start_time": "2024-04-23T12:20:58.921Z"
   },
   {
    "duration": 113,
    "start_time": "2024-04-23T12:20:59.064Z"
   },
   {
    "duration": 152,
    "start_time": "2024-04-23T12:20:59.179Z"
   },
   {
    "duration": 49,
    "start_time": "2024-04-23T12:20:59.333Z"
   },
   {
    "duration": 18,
    "start_time": "2024-04-23T12:20:59.384Z"
   },
   {
    "duration": 257,
    "start_time": "2024-04-23T12:20:59.403Z"
   },
   {
    "duration": 75,
    "start_time": "2024-04-23T12:20:59.662Z"
   },
   {
    "duration": 234,
    "start_time": "2024-04-23T12:20:59.739Z"
   },
   {
    "duration": 127,
    "start_time": "2024-04-23T12:20:59.975Z"
   },
   {
    "duration": 74,
    "start_time": "2024-04-23T12:21:00.106Z"
   },
   {
    "duration": 333,
    "start_time": "2024-04-23T12:21:00.182Z"
   },
   {
    "duration": 221,
    "start_time": "2024-04-23T12:21:00.517Z"
   },
   {
    "duration": 59,
    "start_time": "2024-04-23T12:21:00.740Z"
   },
   {
    "duration": 40,
    "start_time": "2024-04-23T12:21:00.801Z"
   },
   {
    "duration": 40,
    "start_time": "2024-04-23T12:21:00.843Z"
   },
   {
    "duration": 70,
    "start_time": "2024-04-23T12:21:00.884Z"
   },
   {
    "duration": 275,
    "start_time": "2024-04-23T12:21:00.956Z"
   },
   {
    "duration": 313,
    "start_time": "2024-04-23T12:21:01.233Z"
   },
   {
    "duration": 93,
    "start_time": "2024-04-23T12:21:01.547Z"
   },
   {
    "duration": 5,
    "start_time": "2024-04-23T12:21:11.805Z"
   },
   {
    "duration": 300,
    "start_time": "2024-04-23T12:21:14.922Z"
   },
   {
    "duration": 20,
    "start_time": "2024-04-23T12:21:21.317Z"
   },
   {
    "duration": 8,
    "start_time": "2024-04-23T12:21:24.438Z"
   },
   {
    "duration": 11,
    "start_time": "2024-04-23T12:21:27.442Z"
   },
   {
    "duration": 4,
    "start_time": "2024-04-23T12:21:59.515Z"
   },
   {
    "duration": 10,
    "start_time": "2024-04-23T12:22:23.499Z"
   },
   {
    "duration": 91,
    "start_time": "2024-04-23T12:22:33.618Z"
   },
   {
    "duration": 5,
    "start_time": "2024-04-23T12:23:29.694Z"
   },
   {
    "duration": 15,
    "start_time": "2024-04-23T12:23:39.722Z"
   },
   {
    "duration": 12,
    "start_time": "2024-04-23T12:23:58.044Z"
   },
   {
    "duration": 176,
    "start_time": "2024-04-23T12:24:00.370Z"
   },
   {
    "duration": 41,
    "start_time": "2024-04-23T12:28:07.551Z"
   },
   {
    "duration": 28,
    "start_time": "2024-04-23T12:36:04.676Z"
   },
   {
    "duration": 12,
    "start_time": "2024-04-23T12:36:11.331Z"
   },
   {
    "duration": 19,
    "start_time": "2024-04-23T12:37:02.922Z"
   },
   {
    "duration": 14,
    "start_time": "2024-04-23T12:37:18.656Z"
   },
   {
    "duration": 12,
    "start_time": "2024-04-23T12:37:19.971Z"
   },
   {
    "duration": 114,
    "start_time": "2024-04-23T12:37:58.346Z"
   },
   {
    "duration": 0,
    "start_time": "2024-04-23T12:59:32.565Z"
   },
   {
    "duration": 0,
    "start_time": "2024-04-23T12:59:32.566Z"
   },
   {
    "duration": 0,
    "start_time": "2024-04-23T13:52:30.591Z"
   },
   {
    "duration": 2807,
    "start_time": "2024-04-23T13:52:31.921Z"
   },
   {
    "duration": 7,
    "start_time": "2024-04-23T13:52:34.730Z"
   },
   {
    "duration": 1199,
    "start_time": "2024-04-23T13:52:34.739Z"
   },
   {
    "duration": 14,
    "start_time": "2024-04-23T13:52:35.940Z"
   },
   {
    "duration": 169,
    "start_time": "2024-04-23T13:52:35.957Z"
   },
   {
    "duration": 480,
    "start_time": "2024-04-23T13:52:36.128Z"
   },
   {
    "duration": 1039,
    "start_time": "2024-04-23T13:52:36.610Z"
   },
   {
    "duration": 25,
    "start_time": "2024-04-23T13:52:37.650Z"
   },
   {
    "duration": 37,
    "start_time": "2024-04-23T13:52:37.677Z"
   },
   {
    "duration": 30,
    "start_time": "2024-04-23T13:52:37.716Z"
   },
   {
    "duration": 27,
    "start_time": "2024-04-23T13:52:37.747Z"
   },
   {
    "duration": 32,
    "start_time": "2024-04-23T13:52:37.775Z"
   },
   {
    "duration": 23,
    "start_time": "2024-04-23T13:52:37.808Z"
   },
   {
    "duration": 39,
    "start_time": "2024-04-23T13:52:37.835Z"
   },
   {
    "duration": 77,
    "start_time": "2024-04-23T13:52:37.876Z"
   },
   {
    "duration": 347,
    "start_time": "2024-04-23T13:52:37.955Z"
   },
   {
    "duration": 318,
    "start_time": "2024-04-23T13:52:38.304Z"
   },
   {
    "duration": 321,
    "start_time": "2024-04-23T13:52:38.624Z"
   },
   {
    "duration": 151,
    "start_time": "2024-04-23T13:52:38.947Z"
   },
   {
    "duration": 95,
    "start_time": "2024-04-23T13:52:39.100Z"
   },
   {
    "duration": 155,
    "start_time": "2024-04-23T13:52:39.196Z"
   },
   {
    "duration": 48,
    "start_time": "2024-04-23T13:52:39.353Z"
   },
   {
    "duration": 40,
    "start_time": "2024-04-23T13:52:39.403Z"
   },
   {
    "duration": 292,
    "start_time": "2024-04-23T13:52:39.444Z"
   },
   {
    "duration": 90,
    "start_time": "2024-04-23T13:52:39.737Z"
   },
   {
    "duration": 235,
    "start_time": "2024-04-23T13:52:39.829Z"
   },
   {
    "duration": 135,
    "start_time": "2024-04-23T13:52:40.066Z"
   },
   {
    "duration": 53,
    "start_time": "2024-04-23T13:52:40.203Z"
   },
   {
    "duration": 343,
    "start_time": "2024-04-23T13:52:40.257Z"
   },
   {
    "duration": 223,
    "start_time": "2024-04-23T13:52:40.602Z"
   },
   {
    "duration": 66,
    "start_time": "2024-04-23T13:52:40.827Z"
   },
   {
    "duration": 45,
    "start_time": "2024-04-23T13:52:40.894Z"
   },
   {
    "duration": 4,
    "start_time": "2024-04-23T13:52:40.941Z"
   },
   {
    "duration": 27,
    "start_time": "2024-04-23T13:52:40.947Z"
   },
   {
    "duration": 187,
    "start_time": "2024-04-23T13:52:40.976Z"
   },
   {
    "duration": 341,
    "start_time": "2024-04-23T13:52:41.165Z"
   },
   {
    "duration": 88,
    "start_time": "2024-04-23T13:52:41.508Z"
   },
   {
    "duration": 4,
    "start_time": "2024-04-23T13:52:41.598Z"
   },
   {
    "duration": 308,
    "start_time": "2024-04-23T13:52:41.604Z"
   },
   {
    "duration": 3,
    "start_time": "2024-04-23T13:52:41.913Z"
   },
   {
    "duration": 23,
    "start_time": "2024-04-23T13:52:41.919Z"
   },
   {
    "duration": 7,
    "start_time": "2024-04-23T13:52:41.944Z"
   },
   {
    "duration": 33,
    "start_time": "2024-04-23T13:52:41.953Z"
   },
   {
    "duration": 7283,
    "start_time": "2024-04-26T09:21:01.788Z"
   },
   {
    "duration": 1493,
    "start_time": "2024-04-26T09:21:09.074Z"
   },
   {
    "duration": 1347,
    "start_time": "2024-04-26T09:21:10.569Z"
   },
   {
    "duration": 18,
    "start_time": "2024-04-26T09:21:11.919Z"
   },
   {
    "duration": 168,
    "start_time": "2024-04-26T09:21:11.939Z"
   },
   {
    "duration": 519,
    "start_time": "2024-04-26T09:21:12.109Z"
   },
   {
    "duration": 997,
    "start_time": "2024-04-26T09:21:12.630Z"
   },
   {
    "duration": 24,
    "start_time": "2024-04-26T09:21:13.629Z"
   },
   {
    "duration": 34,
    "start_time": "2024-04-26T09:21:13.655Z"
   },
   {
    "duration": 25,
    "start_time": "2024-04-26T09:21:13.693Z"
   },
   {
    "duration": 27,
    "start_time": "2024-04-26T09:21:13.720Z"
   },
   {
    "duration": 28,
    "start_time": "2024-04-26T09:21:13.769Z"
   },
   {
    "duration": 21,
    "start_time": "2024-04-26T09:21:13.799Z"
   },
   {
    "duration": 28,
    "start_time": "2024-04-26T09:21:13.821Z"
   },
   {
    "duration": 86,
    "start_time": "2024-04-26T09:21:13.851Z"
   },
   {
    "duration": 327,
    "start_time": "2024-04-26T09:21:13.939Z"
   },
   {
    "duration": 345,
    "start_time": "2024-04-26T09:21:14.269Z"
   },
   {
    "duration": 310,
    "start_time": "2024-04-26T09:21:14.616Z"
   },
   {
    "duration": 147,
    "start_time": "2024-04-26T09:21:14.928Z"
   },
   {
    "duration": 122,
    "start_time": "2024-04-26T09:21:15.077Z"
   },
   {
    "duration": 143,
    "start_time": "2024-04-26T09:21:15.200Z"
   },
   {
    "duration": 47,
    "start_time": "2024-04-26T09:21:15.345Z"
   },
   {
    "duration": 18,
    "start_time": "2024-04-26T09:21:15.394Z"
   },
   {
    "duration": 273,
    "start_time": "2024-04-26T09:21:15.413Z"
   },
   {
    "duration": 93,
    "start_time": "2024-04-26T09:21:15.688Z"
   },
   {
    "duration": 231,
    "start_time": "2024-04-26T09:21:15.783Z"
   },
   {
    "duration": 190,
    "start_time": "2024-04-26T09:21:16.016Z"
   },
   {
    "duration": 62,
    "start_time": "2024-04-26T09:21:16.209Z"
   },
   {
    "duration": 325,
    "start_time": "2024-04-26T09:21:16.273Z"
   },
   {
    "duration": 210,
    "start_time": "2024-04-26T09:21:16.600Z"
   },
   {
    "duration": 72,
    "start_time": "2024-04-26T09:21:16.812Z"
   },
   {
    "duration": 725,
    "start_time": "2024-04-26T09:21:16.886Z"
   },
   {
    "duration": 237,
    "start_time": "2024-04-26T09:21:17.612Z"
   },
   {
    "duration": 48,
    "start_time": "2024-04-26T09:21:17.851Z"
   },
   {
    "duration": 195,
    "start_time": "2024-04-26T09:21:17.902Z"
   },
   {
    "duration": 343,
    "start_time": "2024-04-26T09:21:18.099Z"
   },
   {
    "duration": 79,
    "start_time": "2024-04-26T09:21:18.444Z"
   },
   {
    "duration": 4,
    "start_time": "2024-04-26T09:21:18.525Z"
   },
   {
    "duration": 293,
    "start_time": "2024-04-26T09:21:18.530Z"
   },
   {
    "duration": 2,
    "start_time": "2024-04-26T09:21:18.825Z"
   },
   {
    "duration": 30,
    "start_time": "2024-04-26T09:21:18.828Z"
   },
   {
    "duration": 6,
    "start_time": "2024-04-26T09:21:18.860Z"
   },
   {
    "duration": 22,
    "start_time": "2024-04-26T09:21:18.869Z"
   },
   {
    "duration": 52875,
    "start_time": "2024-04-26T09:21:18.892Z"
   },
   {
    "duration": 16871,
    "start_time": "2024-04-26T09:22:11.768Z"
   },
   {
    "duration": 4,
    "start_time": "2024-04-26T09:22:28.640Z"
   },
   {
    "duration": 16,
    "start_time": "2024-04-26T09:22:28.645Z"
   },
   {
    "duration": 19,
    "start_time": "2024-04-26T09:22:28.662Z"
   },
   {
    "duration": 12,
    "start_time": "2024-04-26T09:22:28.683Z"
   },
   {
    "duration": 13,
    "start_time": "2024-04-26T09:23:07.860Z"
   },
   {
    "duration": 4,
    "start_time": "2024-04-26T09:23:11.030Z"
   },
   {
    "duration": 387978,
    "start_time": "2024-04-26T09:23:15.334Z"
   },
   {
    "duration": 371053,
    "start_time": "2024-04-26T09:29:58.537Z"
   },
   {
    "duration": 160,
    "start_time": "2024-04-26T09:43:23.105Z"
   },
   {
    "duration": 10,
    "start_time": "2024-04-26T09:43:30.665Z"
   },
   {
    "duration": 0,
    "start_time": "2024-04-26T11:05:22.761Z"
   },
   {
    "duration": 168155,
    "start_time": "2024-04-26T11:05:28.785Z"
   },
   {
    "duration": 11,
    "start_time": "2024-04-26T11:08:30.740Z"
   },
   {
    "duration": 3,
    "start_time": "2024-04-26T11:08:33.916Z"
   },
   {
    "duration": 3,
    "start_time": "2024-04-26T11:08:47.771Z"
   },
   {
    "duration": 83,
    "start_time": "2024-04-26T11:09:01.292Z"
   },
   {
    "duration": 3,
    "start_time": "2024-04-26T11:09:05.733Z"
   },
   {
    "duration": 3,
    "start_time": "2024-04-26T11:09:23.973Z"
   },
   {
    "duration": 3,
    "start_time": "2024-04-26T11:09:25.764Z"
   },
   {
    "duration": 8148,
    "start_time": "2024-04-26T19:00:17.247Z"
   },
   {
    "duration": 1617,
    "start_time": "2024-04-26T19:00:25.398Z"
   },
   {
    "duration": 1371,
    "start_time": "2024-04-26T19:00:27.017Z"
   },
   {
    "duration": 24,
    "start_time": "2024-04-26T19:00:28.391Z"
   },
   {
    "duration": 179,
    "start_time": "2024-04-26T19:00:28.417Z"
   },
   {
    "duration": 516,
    "start_time": "2024-04-26T19:00:28.598Z"
   },
   {
    "duration": 1086,
    "start_time": "2024-04-26T19:00:29.115Z"
   },
   {
    "duration": 22,
    "start_time": "2024-04-26T19:00:30.203Z"
   },
   {
    "duration": 99,
    "start_time": "2024-04-26T19:00:30.227Z"
   },
   {
    "duration": 86,
    "start_time": "2024-04-26T19:00:30.328Z"
   },
   {
    "duration": 111,
    "start_time": "2024-04-26T19:00:30.416Z"
   },
   {
    "duration": 67,
    "start_time": "2024-04-26T19:00:30.529Z"
   },
   {
    "duration": 96,
    "start_time": "2024-04-26T19:00:30.598Z"
   },
   {
    "duration": 200,
    "start_time": "2024-04-26T19:00:30.696Z"
   },
   {
    "duration": 183,
    "start_time": "2024-04-26T19:00:30.898Z"
   },
   {
    "duration": 366,
    "start_time": "2024-04-26T19:00:31.084Z"
   },
   {
    "duration": 313,
    "start_time": "2024-04-26T19:00:31.452Z"
   },
   {
    "duration": 354,
    "start_time": "2024-04-26T19:00:31.770Z"
   },
   {
    "duration": 184,
    "start_time": "2024-04-26T19:00:32.126Z"
   },
   {
    "duration": 100,
    "start_time": "2024-04-26T19:00:32.312Z"
   },
   {
    "duration": 155,
    "start_time": "2024-04-26T19:00:32.414Z"
   },
   {
    "duration": 40,
    "start_time": "2024-04-26T19:00:32.571Z"
   },
   {
    "duration": 20,
    "start_time": "2024-04-26T19:00:32.613Z"
   },
   {
    "duration": 270,
    "start_time": "2024-04-26T19:00:32.634Z"
   },
   {
    "duration": 71,
    "start_time": "2024-04-26T19:00:32.905Z"
   },
   {
    "duration": 228,
    "start_time": "2024-04-26T19:00:32.978Z"
   },
   {
    "duration": 189,
    "start_time": "2024-04-26T19:00:33.208Z"
   },
   {
    "duration": 51,
    "start_time": "2024-04-26T19:00:33.401Z"
   },
   {
    "duration": 337,
    "start_time": "2024-04-26T19:00:33.454Z"
   },
   {
    "duration": 213,
    "start_time": "2024-04-26T19:00:33.793Z"
   },
   {
    "duration": 51,
    "start_time": "2024-04-26T19:00:34.007Z"
   },
   {
    "duration": 39,
    "start_time": "2024-04-26T19:00:34.072Z"
   },
   {
    "duration": 4,
    "start_time": "2024-04-26T19:00:34.113Z"
   },
   {
    "duration": 23,
    "start_time": "2024-04-26T19:00:34.119Z"
   },
   {
    "duration": 176,
    "start_time": "2024-04-26T19:00:34.144Z"
   },
   {
    "duration": 301,
    "start_time": "2024-04-26T19:00:34.322Z"
   },
   {
    "duration": 69,
    "start_time": "2024-04-26T19:00:34.624Z"
   },
   {
    "duration": 4,
    "start_time": "2024-04-26T19:00:34.695Z"
   },
   {
    "duration": 352,
    "start_time": "2024-04-26T19:00:34.700Z"
   },
   {
    "duration": 3,
    "start_time": "2024-04-26T19:00:35.053Z"
   },
   {
    "duration": 38,
    "start_time": "2024-04-26T19:00:35.057Z"
   },
   {
    "duration": 12,
    "start_time": "2024-04-26T19:00:35.097Z"
   },
   {
    "duration": 24,
    "start_time": "2024-04-26T19:00:35.111Z"
   },
   {
    "duration": 48598,
    "start_time": "2024-04-26T19:00:35.136Z"
   },
   {
    "duration": 14644,
    "start_time": "2024-04-26T19:01:23.737Z"
   },
   {
    "duration": 5,
    "start_time": "2024-04-26T19:01:38.383Z"
   },
   {
    "duration": 18,
    "start_time": "2024-04-26T19:01:38.390Z"
   },
   {
    "duration": 25,
    "start_time": "2024-04-26T19:01:38.409Z"
   },
   {
    "duration": 5,
    "start_time": "2024-04-26T19:01:38.436Z"
   },
   {
    "duration": 120045,
    "start_time": "2024-04-26T19:01:38.443Z"
   },
   {
    "duration": 0,
    "start_time": "2024-04-26T19:03:38.490Z"
   },
   {
    "duration": 0,
    "start_time": "2024-04-26T19:03:38.491Z"
   },
   {
    "duration": 0,
    "start_time": "2024-04-26T19:03:38.492Z"
   },
   {
    "duration": 0,
    "start_time": "2024-04-26T19:03:38.493Z"
   },
   {
    "duration": 0,
    "start_time": "2024-04-26T19:03:38.494Z"
   },
   {
    "duration": 2746,
    "start_time": "2024-04-26T19:03:57.871Z"
   },
   {
    "duration": 6,
    "start_time": "2024-04-26T19:04:00.619Z"
   },
   {
    "duration": 1125,
    "start_time": "2024-04-26T19:04:00.627Z"
   },
   {
    "duration": 20,
    "start_time": "2024-04-26T19:04:01.755Z"
   },
   {
    "duration": 192,
    "start_time": "2024-04-26T19:04:01.778Z"
   },
   {
    "duration": 533,
    "start_time": "2024-04-26T19:04:01.972Z"
   },
   {
    "duration": 1035,
    "start_time": "2024-04-26T19:04:02.507Z"
   },
   {
    "duration": 21,
    "start_time": "2024-04-26T19:04:03.544Z"
   },
   {
    "duration": 35,
    "start_time": "2024-04-26T19:04:03.569Z"
   },
   {
    "duration": 26,
    "start_time": "2024-04-26T19:04:03.606Z"
   },
   {
    "duration": 25,
    "start_time": "2024-04-26T19:04:03.634Z"
   },
   {
    "duration": 28,
    "start_time": "2024-04-26T19:04:03.661Z"
   },
   {
    "duration": 21,
    "start_time": "2024-04-26T19:04:03.690Z"
   },
   {
    "duration": 27,
    "start_time": "2024-04-26T19:04:03.713Z"
   },
   {
    "duration": 87,
    "start_time": "2024-04-26T19:04:03.742Z"
   },
   {
    "duration": 299,
    "start_time": "2024-04-26T19:04:03.830Z"
   },
   {
    "duration": 460,
    "start_time": "2024-04-26T19:04:04.130Z"
   },
   {
    "duration": 333,
    "start_time": "2024-04-26T19:04:04.592Z"
   },
   {
    "duration": 148,
    "start_time": "2024-04-26T19:04:04.926Z"
   },
   {
    "duration": 95,
    "start_time": "2024-04-26T19:04:05.075Z"
   },
   {
    "duration": 150,
    "start_time": "2024-04-26T19:04:05.172Z"
   },
   {
    "duration": 46,
    "start_time": "2024-04-26T19:04:05.323Z"
   },
   {
    "duration": 18,
    "start_time": "2024-04-26T19:04:05.371Z"
   },
   {
    "duration": 264,
    "start_time": "2024-04-26T19:04:05.391Z"
   },
   {
    "duration": 72,
    "start_time": "2024-04-26T19:04:05.657Z"
   },
   {
    "duration": 218,
    "start_time": "2024-04-26T19:04:05.731Z"
   },
   {
    "duration": 119,
    "start_time": "2024-04-26T19:04:05.951Z"
   },
   {
    "duration": 51,
    "start_time": "2024-04-26T19:04:06.074Z"
   },
   {
    "duration": 327,
    "start_time": "2024-04-26T19:04:06.127Z"
   },
   {
    "duration": 335,
    "start_time": "2024-04-26T19:04:06.456Z"
   },
   {
    "duration": 52,
    "start_time": "2024-04-26T19:04:06.792Z"
   },
   {
    "duration": 55,
    "start_time": "2024-04-26T19:04:06.846Z"
   },
   {
    "duration": 3,
    "start_time": "2024-04-26T19:04:06.902Z"
   },
   {
    "duration": 22,
    "start_time": "2024-04-26T19:04:06.907Z"
   },
   {
    "duration": 189,
    "start_time": "2024-04-26T19:04:06.930Z"
   },
   {
    "duration": 291,
    "start_time": "2024-04-26T19:04:07.120Z"
   },
   {
    "duration": 81,
    "start_time": "2024-04-26T19:04:07.413Z"
   },
   {
    "duration": 4,
    "start_time": "2024-04-26T19:04:07.496Z"
   },
   {
    "duration": 302,
    "start_time": "2024-04-26T19:04:07.502Z"
   },
   {
    "duration": 2,
    "start_time": "2024-04-26T19:04:07.806Z"
   },
   {
    "duration": 19,
    "start_time": "2024-04-26T19:04:07.809Z"
   },
   {
    "duration": 8,
    "start_time": "2024-04-26T19:04:07.830Z"
   },
   {
    "duration": 30,
    "start_time": "2024-04-26T19:04:07.840Z"
   },
   {
    "duration": 2540,
    "start_time": "2024-04-26T19:04:27.328Z"
   },
   {
    "duration": 2648,
    "start_time": "2024-04-26T19:04:29.871Z"
   },
   {
    "duration": 1349,
    "start_time": "2024-04-26T19:04:32.522Z"
   },
   {
    "duration": 18,
    "start_time": "2024-04-26T19:04:33.874Z"
   },
   {
    "duration": 163,
    "start_time": "2024-04-26T19:04:33.894Z"
   },
   {
    "duration": 531,
    "start_time": "2024-04-26T19:04:34.059Z"
   },
   {
    "duration": 1086,
    "start_time": "2024-04-26T19:04:34.592Z"
   },
   {
    "duration": 23,
    "start_time": "2024-04-26T19:04:35.680Z"
   },
   {
    "duration": 42,
    "start_time": "2024-04-26T19:04:35.705Z"
   },
   {
    "duration": 27,
    "start_time": "2024-04-26T19:04:35.749Z"
   },
   {
    "duration": 36,
    "start_time": "2024-04-26T19:04:35.778Z"
   },
   {
    "duration": 64,
    "start_time": "2024-04-26T19:04:35.816Z"
   },
   {
    "duration": 22,
    "start_time": "2024-04-26T19:04:35.882Z"
   },
   {
    "duration": 54,
    "start_time": "2024-04-26T19:04:35.905Z"
   },
   {
    "duration": 83,
    "start_time": "2024-04-26T19:04:35.961Z"
   },
   {
    "duration": 338,
    "start_time": "2024-04-26T19:04:36.046Z"
   },
   {
    "duration": 317,
    "start_time": "2024-04-26T19:04:36.385Z"
   },
   {
    "duration": 304,
    "start_time": "2024-04-26T19:04:36.703Z"
   },
   {
    "duration": 135,
    "start_time": "2024-04-26T19:04:37.009Z"
   },
   {
    "duration": 108,
    "start_time": "2024-04-26T19:04:37.146Z"
   },
   {
    "duration": 140,
    "start_time": "2024-04-26T19:04:37.256Z"
   },
   {
    "duration": 37,
    "start_time": "2024-04-26T19:04:37.398Z"
   },
   {
    "duration": 36,
    "start_time": "2024-04-26T19:04:37.437Z"
   },
   {
    "duration": 241,
    "start_time": "2024-04-26T19:04:37.474Z"
   },
   {
    "duration": 69,
    "start_time": "2024-04-26T19:04:37.716Z"
   },
   {
    "duration": 211,
    "start_time": "2024-04-26T19:04:37.786Z"
   },
   {
    "duration": 122,
    "start_time": "2024-04-26T19:04:37.999Z"
   },
   {
    "duration": 79,
    "start_time": "2024-04-26T19:04:38.126Z"
   },
   {
    "duration": 378,
    "start_time": "2024-04-26T19:04:38.207Z"
   },
   {
    "duration": 200,
    "start_time": "2024-04-26T19:04:38.586Z"
   },
   {
    "duration": 47,
    "start_time": "2024-04-26T19:04:38.788Z"
   },
   {
    "duration": 50,
    "start_time": "2024-04-26T19:04:38.837Z"
   },
   {
    "duration": 4,
    "start_time": "2024-04-26T19:04:38.888Z"
   },
   {
    "duration": 4,
    "start_time": "2024-04-26T19:04:38.893Z"
   },
   {
    "duration": 172,
    "start_time": "2024-04-26T19:04:38.898Z"
   },
   {
    "duration": 309,
    "start_time": "2024-04-26T19:04:39.072Z"
   },
   {
    "duration": 62,
    "start_time": "2024-04-26T19:04:39.383Z"
   },
   {
    "duration": 4,
    "start_time": "2024-04-26T19:04:39.447Z"
   },
   {
    "duration": 291,
    "start_time": "2024-04-26T19:04:39.470Z"
   },
   {
    "duration": 6,
    "start_time": "2024-04-26T19:04:39.763Z"
   },
   {
    "duration": 35,
    "start_time": "2024-04-26T19:04:39.771Z"
   },
   {
    "duration": 17,
    "start_time": "2024-04-26T19:04:39.808Z"
   },
   {
    "duration": 17,
    "start_time": "2024-04-26T19:04:39.827Z"
   },
   {
    "duration": 51397,
    "start_time": "2024-04-26T19:04:39.846Z"
   },
   {
    "duration": 14705,
    "start_time": "2024-04-26T19:05:31.245Z"
   },
   {
    "duration": 4,
    "start_time": "2024-04-26T19:05:45.952Z"
   },
   {
    "duration": 14,
    "start_time": "2024-04-26T19:05:45.957Z"
   },
   {
    "duration": 40,
    "start_time": "2024-04-26T19:05:45.973Z"
   },
   {
    "duration": 4,
    "start_time": "2024-04-26T19:05:50.219Z"
   },
   {
    "duration": 9,
    "start_time": "2024-04-26T19:05:54.410Z"
   },
   {
    "duration": 4,
    "start_time": "2024-04-26T19:05:56.714Z"
   },
   {
    "duration": 4,
    "start_time": "2024-04-26T19:05:58.849Z"
   },
   {
    "duration": 3,
    "start_time": "2024-04-26T19:06:04.066Z"
   },
   {
    "duration": 418546,
    "start_time": "2024-04-26T19:06:06.731Z"
   },
   {
    "duration": 3,
    "start_time": "2024-04-26T19:13:48.334Z"
   },
   {
    "duration": 3,
    "start_time": "2024-04-26T19:13:51.159Z"
   },
   {
    "duration": 213492,
    "start_time": "2024-04-26T19:13:55.815Z"
   },
   {
    "duration": 10,
    "start_time": "2024-04-26T19:36:16.075Z"
   },
   {
    "duration": 11,
    "start_time": "2024-04-26T19:36:18.266Z"
   },
   {
    "duration": 3,
    "start_time": "2024-04-26T19:37:15.900Z"
   },
   {
    "duration": 2,
    "start_time": "2024-04-26T19:37:19.004Z"
   },
   {
    "duration": 105,
    "start_time": "2024-04-26T19:37:23.075Z"
   },
   {
    "duration": 104,
    "start_time": "2024-04-26T19:38:14.244Z"
   },
   {
    "duration": 3,
    "start_time": "2024-04-26T19:38:16.227Z"
   },
   {
    "duration": 3,
    "start_time": "2024-04-26T19:38:17.395Z"
   },
   {
    "duration": 92,
    "start_time": "2024-04-26T19:38:18.739Z"
   },
   {
    "duration": 3,
    "start_time": "2024-04-26T19:38:46.643Z"
   },
   {
    "duration": 3,
    "start_time": "2024-04-26T19:38:47.971Z"
   },
   {
    "duration": 177557,
    "start_time": "2024-04-26T19:38:49.028Z"
   },
   {
    "duration": 3,
    "start_time": "2024-04-26T19:42:17.477Z"
   },
   {
    "duration": 5,
    "start_time": "2024-04-26T19:42:18.837Z"
   },
   {
    "duration": 71,
    "start_time": "2024-04-26T19:42:19.773Z"
   },
   {
    "duration": 3,
    "start_time": "2024-04-26T19:43:00.142Z"
   },
   {
    "duration": 3,
    "start_time": "2024-04-26T19:43:01.109Z"
   },
   {
    "duration": 108,
    "start_time": "2024-04-26T19:43:02.454Z"
   },
   {
    "duration": 3,
    "start_time": "2024-04-26T19:46:37.944Z"
   },
   {
    "duration": 4,
    "start_time": "2024-04-26T19:46:41.112Z"
   },
   {
    "duration": 105,
    "start_time": "2024-04-26T19:46:42.825Z"
   },
   {
    "duration": 3,
    "start_time": "2024-04-26T19:47:20.601Z"
   },
   {
    "duration": 2,
    "start_time": "2024-04-26T19:47:21.624Z"
   },
   {
    "duration": 72,
    "start_time": "2024-04-26T19:47:22.600Z"
   },
   {
    "duration": 4,
    "start_time": "2024-04-26T19:47:39.641Z"
   },
   {
    "duration": 3,
    "start_time": "2024-04-26T19:47:40.784Z"
   },
   {
    "duration": 79,
    "start_time": "2024-04-26T19:47:42.936Z"
   },
   {
    "duration": 68,
    "start_time": "2024-04-26T19:47:54.681Z"
   },
   {
    "duration": 3,
    "start_time": "2024-04-26T19:48:11.273Z"
   },
   {
    "duration": 3,
    "start_time": "2024-04-26T19:48:13.425Z"
   },
   {
    "duration": 75,
    "start_time": "2024-04-26T19:48:15.273Z"
   },
   {
    "duration": 3,
    "start_time": "2024-04-26T19:48:50.610Z"
   },
   {
    "duration": 3,
    "start_time": "2024-04-26T19:48:51.577Z"
   },
   {
    "duration": 74,
    "start_time": "2024-04-26T19:48:52.345Z"
   },
   {
    "duration": 3,
    "start_time": "2024-04-26T19:49:09.881Z"
   },
   {
    "duration": 3,
    "start_time": "2024-04-26T19:49:11.617Z"
   },
   {
    "duration": 189944,
    "start_time": "2024-04-26T19:49:13.458Z"
   },
   {
    "duration": 3,
    "start_time": "2024-04-26T19:55:28.421Z"
   },
   {
    "duration": 145529,
    "start_time": "2024-04-26T19:55:30.957Z"
   },
   {
    "duration": 15390,
    "start_time": "2024-04-26T19:58:15.551Z"
   },
   {
    "duration": 3,
    "start_time": "2024-04-26T19:58:39.326Z"
   },
   {
    "duration": 240663,
    "start_time": "2024-04-26T19:58:41.328Z"
   },
   {
    "duration": 142,
    "start_time": "2024-04-26T20:03:40.178Z"
   },
   {
    "duration": 41,
    "start_time": "2024-04-26T20:04:09.946Z"
   },
   {
    "duration": 17947,
    "start_time": "2024-04-26T20:21:51.127Z"
   },
   {
    "duration": 907359,
    "start_time": "2024-04-26T20:22:12.101Z"
   },
   {
    "duration": 297934,
    "start_time": "2024-04-26T20:37:51.756Z"
   },
   {
    "duration": 611296,
    "start_time": "2024-04-26T20:45:51.183Z"
   },
   {
    "duration": 5,
    "start_time": "2024-04-26T20:56:02.484Z"
   },
   {
    "duration": 28561,
    "start_time": "2024-04-26T20:56:02.491Z"
   },
   {
    "duration": 9,
    "start_time": "2024-04-26T20:56:31.054Z"
   },
   {
    "duration": 69,
    "start_time": "2024-04-26T20:59:56.464Z"
   },
   {
    "duration": 71,
    "start_time": "2024-04-26T21:01:23.808Z"
   },
   {
    "duration": 81,
    "start_time": "2024-04-26T21:02:41.241Z"
   },
   {
    "duration": 33167,
    "start_time": "2024-04-26T21:03:22.161Z"
   },
   {
    "duration": 122,
    "start_time": "2024-04-26T21:04:10.210Z"
   },
   {
    "duration": 5,
    "start_time": "2024-04-26T21:04:14.361Z"
   },
   {
    "duration": 5,
    "start_time": "2024-04-26T21:08:46.541Z"
   },
   {
    "duration": 37,
    "start_time": "2024-04-26T21:11:04.485Z"
   },
   {
    "duration": 208703,
    "start_time": "2024-04-26T21:12:28.686Z"
   },
   {
    "duration": 647,
    "start_time": "2024-04-26T21:17:13.225Z"
   },
   {
    "duration": 4,
    "start_time": "2024-04-26T21:17:15.961Z"
   },
   {
    "duration": 6579,
    "start_time": "2024-04-27T09:44:38.215Z"
   },
   {
    "duration": 1412,
    "start_time": "2024-04-27T09:44:44.796Z"
   },
   {
    "duration": 3102,
    "start_time": "2024-04-27T09:44:46.209Z"
   },
   {
    "duration": 18,
    "start_time": "2024-04-27T09:44:49.313Z"
   },
   {
    "duration": 164,
    "start_time": "2024-04-27T09:44:49.333Z"
   },
   {
    "duration": 543,
    "start_time": "2024-04-27T09:44:49.499Z"
   },
   {
    "duration": 965,
    "start_time": "2024-04-27T09:44:50.044Z"
   },
   {
    "duration": 20,
    "start_time": "2024-04-27T09:44:51.011Z"
   },
   {
    "duration": 34,
    "start_time": "2024-04-27T09:44:51.033Z"
   },
   {
    "duration": 38,
    "start_time": "2024-04-27T09:44:51.071Z"
   },
   {
    "duration": 37,
    "start_time": "2024-04-27T09:44:51.111Z"
   },
   {
    "duration": 37,
    "start_time": "2024-04-27T09:44:51.150Z"
   },
   {
    "duration": 40,
    "start_time": "2024-04-27T09:44:51.189Z"
   },
   {
    "duration": 43,
    "start_time": "2024-04-27T09:44:51.231Z"
   },
   {
    "duration": 84,
    "start_time": "2024-04-27T09:44:51.276Z"
   },
   {
    "duration": 305,
    "start_time": "2024-04-27T09:44:51.362Z"
   },
   {
    "duration": 307,
    "start_time": "2024-04-27T09:44:51.669Z"
   },
   {
    "duration": 321,
    "start_time": "2024-04-27T09:44:51.978Z"
   },
   {
    "duration": 139,
    "start_time": "2024-04-27T09:44:52.301Z"
   },
   {
    "duration": 96,
    "start_time": "2024-04-27T09:44:52.442Z"
   },
   {
    "duration": 161,
    "start_time": "2024-04-27T09:44:52.539Z"
   },
   {
    "duration": 37,
    "start_time": "2024-04-27T09:44:52.702Z"
   },
   {
    "duration": 33,
    "start_time": "2024-04-27T09:44:52.740Z"
   },
   {
    "duration": 424,
    "start_time": "2024-04-27T09:44:52.778Z"
   },
   {
    "duration": 71,
    "start_time": "2024-04-27T09:44:53.204Z"
   },
   {
    "duration": 390,
    "start_time": "2024-04-27T09:44:53.277Z"
   },
   {
    "duration": 227,
    "start_time": "2024-04-27T09:44:53.669Z"
   },
   {
    "duration": 50,
    "start_time": "2024-04-27T09:44:53.900Z"
   },
   {
    "duration": 453,
    "start_time": "2024-04-27T09:44:53.967Z"
   },
   {
    "duration": 349,
    "start_time": "2024-04-27T09:44:54.422Z"
   },
   {
    "duration": 49,
    "start_time": "2024-04-27T09:44:54.773Z"
   },
   {
    "duration": 57,
    "start_time": "2024-04-27T09:44:54.823Z"
   },
   {
    "duration": 5,
    "start_time": "2024-04-27T09:44:54.882Z"
   },
   {
    "duration": 19,
    "start_time": "2024-04-27T09:44:54.889Z"
   },
   {
    "duration": 159,
    "start_time": "2024-04-27T09:44:54.910Z"
   },
   {
    "duration": 326,
    "start_time": "2024-04-27T09:44:55.071Z"
   },
   {
    "duration": 67,
    "start_time": "2024-04-27T09:44:55.398Z"
   },
   {
    "duration": 12,
    "start_time": "2024-04-27T09:44:55.468Z"
   },
   {
    "duration": 423,
    "start_time": "2024-04-27T09:44:55.483Z"
   },
   {
    "duration": 2,
    "start_time": "2024-04-27T09:44:55.908Z"
   },
   {
    "duration": 23,
    "start_time": "2024-04-27T09:44:55.912Z"
   },
   {
    "duration": 14,
    "start_time": "2024-04-27T09:44:55.937Z"
   },
   {
    "duration": 17,
    "start_time": "2024-04-27T09:44:55.952Z"
   },
   {
    "duration": 2516,
    "start_time": "2024-04-27T09:45:58.296Z"
   },
   {
    "duration": 2415,
    "start_time": "2024-04-27T09:46:00.814Z"
   },
   {
    "duration": 3100,
    "start_time": "2024-04-27T09:46:03.231Z"
   },
   {
    "duration": 18,
    "start_time": "2024-04-27T09:46:06.334Z"
   },
   {
    "duration": 173,
    "start_time": "2024-04-27T09:46:06.354Z"
   },
   {
    "duration": 524,
    "start_time": "2024-04-27T09:46:06.528Z"
   },
   {
    "duration": 1063,
    "start_time": "2024-04-27T09:46:07.054Z"
   },
   {
    "duration": 21,
    "start_time": "2024-04-27T09:46:08.118Z"
   },
   {
    "duration": 30,
    "start_time": "2024-04-27T09:46:08.141Z"
   },
   {
    "duration": 22,
    "start_time": "2024-04-27T09:46:08.174Z"
   },
   {
    "duration": 20,
    "start_time": "2024-04-27T09:46:08.198Z"
   },
   {
    "duration": 34,
    "start_time": "2024-04-27T09:46:08.220Z"
   },
   {
    "duration": 37,
    "start_time": "2024-04-27T09:46:08.256Z"
   },
   {
    "duration": 29,
    "start_time": "2024-04-27T09:46:08.294Z"
   },
   {
    "duration": 81,
    "start_time": "2024-04-27T09:46:08.324Z"
   },
   {
    "duration": 330,
    "start_time": "2024-04-27T09:46:08.406Z"
   },
   {
    "duration": 341,
    "start_time": "2024-04-27T09:46:08.738Z"
   },
   {
    "duration": 334,
    "start_time": "2024-04-27T09:46:09.081Z"
   },
   {
    "duration": 154,
    "start_time": "2024-04-27T09:46:09.417Z"
   },
   {
    "duration": 102,
    "start_time": "2024-04-27T09:46:09.573Z"
   },
   {
    "duration": 151,
    "start_time": "2024-04-27T09:46:09.677Z"
   },
   {
    "duration": 51,
    "start_time": "2024-04-27T09:46:09.829Z"
   },
   {
    "duration": 18,
    "start_time": "2024-04-27T09:46:09.882Z"
   },
   {
    "duration": 418,
    "start_time": "2024-04-27T09:46:09.902Z"
   },
   {
    "duration": 80,
    "start_time": "2024-04-27T09:46:10.322Z"
   },
   {
    "duration": 376,
    "start_time": "2024-04-27T09:46:10.404Z"
   },
   {
    "duration": 217,
    "start_time": "2024-04-27T09:46:10.782Z"
   },
   {
    "duration": 44,
    "start_time": "2024-04-27T09:46:11.002Z"
   },
   {
    "duration": 469,
    "start_time": "2024-04-27T09:46:11.047Z"
   },
   {
    "duration": 376,
    "start_time": "2024-04-27T09:46:11.518Z"
   },
   {
    "duration": 51,
    "start_time": "2024-04-27T09:46:11.895Z"
   },
   {
    "duration": 56,
    "start_time": "2024-04-27T09:46:11.947Z"
   },
   {
    "duration": 3,
    "start_time": "2024-04-27T09:46:12.005Z"
   },
   {
    "duration": 10,
    "start_time": "2024-04-27T09:46:12.010Z"
   },
   {
    "duration": 182,
    "start_time": "2024-04-27T09:46:12.021Z"
   },
   {
    "duration": 302,
    "start_time": "2024-04-27T09:46:12.205Z"
   },
   {
    "duration": 64,
    "start_time": "2024-04-27T09:46:12.509Z"
   },
   {
    "duration": 4,
    "start_time": "2024-04-27T09:46:12.575Z"
   },
   {
    "duration": 305,
    "start_time": "2024-04-27T09:46:12.581Z"
   },
   {
    "duration": 2,
    "start_time": "2024-04-27T09:46:12.888Z"
   },
   {
    "duration": 14,
    "start_time": "2024-04-27T09:46:32.972Z"
   },
   {
    "duration": 4,
    "start_time": "2024-04-27T09:47:18.314Z"
   },
   {
    "duration": 14,
    "start_time": "2024-04-27T09:47:40.343Z"
   },
   {
    "duration": 133,
    "start_time": "2024-04-27T09:47:41.151Z"
   },
   {
    "duration": 18,
    "start_time": "2024-04-27T09:49:26.058Z"
   },
   {
    "duration": 9,
    "start_time": "2024-04-27T09:49:27.747Z"
   },
   {
    "duration": 20,
    "start_time": "2024-04-27T09:49:28.785Z"
   },
   {
    "duration": 7,
    "start_time": "2024-04-27T09:49:39.784Z"
   },
   {
    "duration": 3,
    "start_time": "2024-04-27T09:49:42.950Z"
   },
   {
    "duration": 3,
    "start_time": "2024-04-27T09:49:43.846Z"
   },
   {
    "duration": 197142,
    "start_time": "2024-04-27T09:49:46.211Z"
   },
   {
    "duration": 27,
    "start_time": "2024-04-27T09:53:03.355Z"
   },
   {
    "duration": 23,
    "start_time": "2024-04-27T09:53:03.383Z"
   },
   {
    "duration": 8,
    "start_time": "2024-04-27T09:53:03.408Z"
   },
   {
    "duration": 164180,
    "start_time": "2024-04-27T09:53:03.418Z"
   },
   {
    "duration": 2,
    "start_time": "2024-04-27T09:55:47.600Z"
   },
   {
    "duration": 229109,
    "start_time": "2024-04-27T09:55:47.603Z"
   },
   {
    "duration": 119,
    "start_time": "2024-04-27T09:59:36.714Z"
   },
   {
    "duration": 35,
    "start_time": "2024-04-27T09:59:36.834Z"
   },
   {
    "duration": 445499,
    "start_time": "2024-04-27T09:59:36.872Z"
   },
   {
    "duration": 28930,
    "start_time": "2024-04-27T10:07:02.373Z"
   },
   {
    "duration": 104,
    "start_time": "2024-04-27T10:07:31.305Z"
   },
   {
    "duration": 4,
    "start_time": "2024-04-27T10:07:31.410Z"
   },
   {
    "duration": 19162,
    "start_time": "2024-04-27T10:07:31.416Z"
   },
   {
    "duration": 691,
    "start_time": "2024-04-27T10:07:50.579Z"
   },
   {
    "duration": 4,
    "start_time": "2024-04-27T10:07:51.271Z"
   },
   {
    "duration": 8,
    "start_time": "2024-04-27T10:08:19.451Z"
   },
   {
    "duration": 2480,
    "start_time": "2024-04-27T10:11:53.239Z"
   },
   {
    "duration": 1329,
    "start_time": "2024-04-27T10:11:55.721Z"
   },
   {
    "duration": 988,
    "start_time": "2024-04-27T10:11:57.052Z"
   },
   {
    "duration": 23,
    "start_time": "2024-04-27T10:11:58.042Z"
   },
   {
    "duration": 158,
    "start_time": "2024-04-27T10:11:58.066Z"
   },
   {
    "duration": 497,
    "start_time": "2024-04-27T10:11:58.226Z"
   },
   {
    "duration": 999,
    "start_time": "2024-04-27T10:11:58.724Z"
   },
   {
    "duration": 25,
    "start_time": "2024-04-27T10:11:59.725Z"
   },
   {
    "duration": 45,
    "start_time": "2024-04-27T10:11:59.751Z"
   },
   {
    "duration": 24,
    "start_time": "2024-04-27T10:11:59.798Z"
   },
   {
    "duration": 23,
    "start_time": "2024-04-27T10:11:59.824Z"
   },
   {
    "duration": 36,
    "start_time": "2024-04-27T10:11:59.866Z"
   },
   {
    "duration": 24,
    "start_time": "2024-04-27T10:11:59.907Z"
   },
   {
    "duration": 49,
    "start_time": "2024-04-27T10:11:59.933Z"
   },
   {
    "duration": 68,
    "start_time": "2024-04-27T10:11:59.984Z"
   },
   {
    "duration": 346,
    "start_time": "2024-04-27T10:12:00.053Z"
   },
   {
    "duration": 303,
    "start_time": "2024-04-27T10:12:00.401Z"
   },
   {
    "duration": 293,
    "start_time": "2024-04-27T10:12:00.706Z"
   },
   {
    "duration": 125,
    "start_time": "2024-04-27T10:12:01.000Z"
   },
   {
    "duration": 201,
    "start_time": "2024-04-27T10:12:01.127Z"
   },
   {
    "duration": 145,
    "start_time": "2024-04-27T10:12:01.330Z"
   },
   {
    "duration": 63,
    "start_time": "2024-04-27T10:12:01.478Z"
   },
   {
    "duration": 18,
    "start_time": "2024-04-27T10:12:01.543Z"
   },
   {
    "duration": 448,
    "start_time": "2024-04-27T10:12:01.563Z"
   },
   {
    "duration": 79,
    "start_time": "2024-04-27T10:12:02.012Z"
   },
   {
    "duration": 385,
    "start_time": "2024-04-27T10:12:02.093Z"
   },
   {
    "duration": 211,
    "start_time": "2024-04-27T10:12:02.484Z"
   },
   {
    "duration": 49,
    "start_time": "2024-04-27T10:12:02.697Z"
   },
   {
    "duration": 494,
    "start_time": "2024-04-27T10:12:02.748Z"
   },
   {
    "duration": 351,
    "start_time": "2024-04-27T10:12:03.243Z"
   },
   {
    "duration": 47,
    "start_time": "2024-04-27T10:12:03.596Z"
   },
   {
    "duration": 58,
    "start_time": "2024-04-27T10:12:03.645Z"
   },
   {
    "duration": 8,
    "start_time": "2024-04-27T10:12:03.704Z"
   },
   {
    "duration": 3,
    "start_time": "2024-04-27T10:12:03.713Z"
   },
   {
    "duration": 161,
    "start_time": "2024-04-27T10:12:03.718Z"
   },
   {
    "duration": 276,
    "start_time": "2024-04-27T10:12:03.883Z"
   },
   {
    "duration": 79,
    "start_time": "2024-04-27T10:12:04.160Z"
   },
   {
    "duration": 4,
    "start_time": "2024-04-27T10:12:04.241Z"
   },
   {
    "duration": 308,
    "start_time": "2024-04-27T10:12:04.247Z"
   },
   {
    "duration": 6,
    "start_time": "2024-04-27T10:12:04.564Z"
   },
   {
    "duration": 19,
    "start_time": "2024-04-27T10:12:04.575Z"
   },
   {
    "duration": 6,
    "start_time": "2024-04-27T10:12:04.595Z"
   },
   {
    "duration": 19,
    "start_time": "2024-04-27T10:12:04.603Z"
   },
   {
    "duration": 694,
    "start_time": "2024-04-27T10:12:04.624Z"
   },
   {
    "duration": 5,
    "start_time": "2024-04-27T10:15:43.291Z"
   },
   {
    "duration": 803,
    "start_time": "2024-04-27T10:16:17.514Z"
   },
   {
    "duration": 5,
    "start_time": "2024-04-27T10:16:25.578Z"
   },
   {
    "duration": 410,
    "start_time": "2024-04-27T10:16:28.462Z"
   },
   {
    "duration": 359,
    "start_time": "2024-04-27T10:17:03.879Z"
   },
   {
    "duration": 66,
    "start_time": "2024-04-27T10:17:24.141Z"
   },
   {
    "duration": 344,
    "start_time": "2024-04-27T10:17:40.908Z"
   },
   {
    "duration": 372,
    "start_time": "2024-04-27T10:18:09.250Z"
   },
   {
    "duration": 834,
    "start_time": "2024-04-27T10:20:08.266Z"
   },
   {
    "duration": 4,
    "start_time": "2024-04-27T10:20:24.753Z"
   },
   {
    "duration": 8,
    "start_time": "2024-04-27T10:20:43.053Z"
   },
   {
    "duration": 10,
    "start_time": "2024-04-27T10:20:55.626Z"
   },
   {
    "duration": 13,
    "start_time": "2024-04-27T10:21:10.378Z"
   },
   {
    "duration": 3,
    "start_time": "2024-04-27T10:21:22.000Z"
   },
   {
    "duration": 595,
    "start_time": "2024-04-27T10:22:59.759Z"
   },
   {
    "duration": 13,
    "start_time": "2024-04-27T10:23:21.426Z"
   },
   {
    "duration": 13,
    "start_time": "2024-04-27T10:23:52.036Z"
   },
   {
    "duration": 2365,
    "start_time": "2024-04-27T10:24:15.667Z"
   },
   {
    "duration": 1744,
    "start_time": "2024-04-27T10:24:18.035Z"
   },
   {
    "duration": 983,
    "start_time": "2024-04-27T10:24:19.780Z"
   },
   {
    "duration": 18,
    "start_time": "2024-04-27T10:24:20.766Z"
   },
   {
    "duration": 162,
    "start_time": "2024-04-27T10:24:20.786Z"
   },
   {
    "duration": 483,
    "start_time": "2024-04-27T10:24:20.949Z"
   },
   {
    "duration": 938,
    "start_time": "2024-04-27T10:24:21.434Z"
   },
   {
    "duration": 24,
    "start_time": "2024-04-27T10:24:22.373Z"
   },
   {
    "duration": 37,
    "start_time": "2024-04-27T10:24:22.398Z"
   },
   {
    "duration": 26,
    "start_time": "2024-04-27T10:24:22.438Z"
   },
   {
    "duration": 23,
    "start_time": "2024-04-27T10:24:22.466Z"
   },
   {
    "duration": 25,
    "start_time": "2024-04-27T10:24:22.491Z"
   },
   {
    "duration": 21,
    "start_time": "2024-04-27T10:24:22.517Z"
   },
   {
    "duration": 35,
    "start_time": "2024-04-27T10:24:22.540Z"
   },
   {
    "duration": 58,
    "start_time": "2024-04-27T10:24:22.576Z"
   },
   {
    "duration": 317,
    "start_time": "2024-04-27T10:24:22.636Z"
   },
   {
    "duration": 270,
    "start_time": "2024-04-27T10:24:22.954Z"
   },
   {
    "duration": 269,
    "start_time": "2024-04-27T10:24:23.225Z"
   },
   {
    "duration": 125,
    "start_time": "2024-04-27T10:24:23.496Z"
   },
   {
    "duration": 104,
    "start_time": "2024-04-27T10:24:23.623Z"
   },
   {
    "duration": 149,
    "start_time": "2024-04-27T10:24:23.728Z"
   },
   {
    "duration": 36,
    "start_time": "2024-04-27T10:24:23.879Z"
   },
   {
    "duration": 17,
    "start_time": "2024-04-27T10:24:23.916Z"
   },
   {
    "duration": 357,
    "start_time": "2024-04-27T10:24:23.934Z"
   },
   {
    "duration": 83,
    "start_time": "2024-04-27T10:24:24.292Z"
   },
   {
    "duration": 318,
    "start_time": "2024-04-27T10:24:24.377Z"
   },
   {
    "duration": 189,
    "start_time": "2024-04-27T10:24:24.696Z"
   },
   {
    "duration": 47,
    "start_time": "2024-04-27T10:24:24.888Z"
   },
   {
    "duration": 461,
    "start_time": "2024-04-27T10:24:24.937Z"
   },
   {
    "duration": 342,
    "start_time": "2024-04-27T10:24:25.399Z"
   },
   {
    "duration": 56,
    "start_time": "2024-04-27T10:24:25.742Z"
   },
   {
    "duration": 35,
    "start_time": "2024-04-27T10:24:25.800Z"
   },
   {
    "duration": 5,
    "start_time": "2024-04-27T10:24:25.837Z"
   },
   {
    "duration": 5,
    "start_time": "2024-04-27T10:24:25.865Z"
   },
   {
    "duration": 202,
    "start_time": "2024-04-27T10:24:25.872Z"
   },
   {
    "duration": 274,
    "start_time": "2024-04-27T10:24:26.076Z"
   },
   {
    "duration": 54,
    "start_time": "2024-04-27T10:24:26.351Z"
   },
   {
    "duration": 4,
    "start_time": "2024-04-27T10:24:26.406Z"
   },
   {
    "duration": 274,
    "start_time": "2024-04-27T10:24:26.412Z"
   },
   {
    "duration": 2,
    "start_time": "2024-04-27T10:24:26.687Z"
   },
   {
    "duration": 13,
    "start_time": "2024-04-27T10:24:26.691Z"
   },
   {
    "duration": 6,
    "start_time": "2024-04-27T10:24:26.705Z"
   },
   {
    "duration": 20,
    "start_time": "2024-04-27T10:24:26.712Z"
   },
   {
    "duration": 122,
    "start_time": "2024-04-27T10:24:26.733Z"
   },
   {
    "duration": 0,
    "start_time": "2024-04-27T10:24:26.856Z"
   },
   {
    "duration": 993,
    "start_time": "2024-04-27T10:24:52.515Z"
   },
   {
    "duration": 45,
    "start_time": "2024-04-27T10:26:09.110Z"
   },
   {
    "duration": 2405,
    "start_time": "2024-04-27T10:26:24.517Z"
   },
   {
    "duration": 1944,
    "start_time": "2024-04-27T10:26:26.924Z"
   },
   {
    "duration": 2979,
    "start_time": "2024-04-27T10:26:28.870Z"
   },
   {
    "duration": 19,
    "start_time": "2024-04-27T10:26:31.852Z"
   },
   {
    "duration": 180,
    "start_time": "2024-04-27T10:26:31.872Z"
   },
   {
    "duration": 460,
    "start_time": "2024-04-27T10:26:32.053Z"
   },
   {
    "duration": 936,
    "start_time": "2024-04-27T10:26:32.514Z"
   },
   {
    "duration": 39,
    "start_time": "2024-04-27T10:26:33.452Z"
   },
   {
    "duration": 20,
    "start_time": "2024-04-27T10:26:33.493Z"
   },
   {
    "duration": 22,
    "start_time": "2024-04-27T10:26:33.516Z"
   },
   {
    "duration": 52,
    "start_time": "2024-04-27T10:26:33.539Z"
   },
   {
    "duration": 31,
    "start_time": "2024-04-27T10:26:33.593Z"
   },
   {
    "duration": 20,
    "start_time": "2024-04-27T10:26:33.625Z"
   },
   {
    "duration": 40,
    "start_time": "2024-04-27T10:26:33.647Z"
   },
   {
    "duration": 87,
    "start_time": "2024-04-27T10:26:33.690Z"
   },
   {
    "duration": 335,
    "start_time": "2024-04-27T10:26:33.779Z"
   },
   {
    "duration": 329,
    "start_time": "2024-04-27T10:26:34.116Z"
   },
   {
    "duration": 309,
    "start_time": "2024-04-27T10:26:34.446Z"
   },
   {
    "duration": 132,
    "start_time": "2024-04-27T10:26:34.757Z"
   },
   {
    "duration": 101,
    "start_time": "2024-04-27T10:26:34.891Z"
   },
   {
    "duration": 145,
    "start_time": "2024-04-27T10:26:34.993Z"
   },
   {
    "duration": 53,
    "start_time": "2024-04-27T10:26:35.139Z"
   },
   {
    "duration": 15,
    "start_time": "2024-04-27T10:26:35.193Z"
   },
   {
    "duration": 421,
    "start_time": "2024-04-27T10:26:35.209Z"
   },
   {
    "duration": 91,
    "start_time": "2024-04-27T10:26:35.632Z"
   },
   {
    "duration": 334,
    "start_time": "2024-04-27T10:26:35.725Z"
   },
   {
    "duration": 227,
    "start_time": "2024-04-27T10:26:36.064Z"
   },
   {
    "duration": 43,
    "start_time": "2024-04-27T10:26:36.295Z"
   },
   {
    "duration": 447,
    "start_time": "2024-04-27T10:26:36.340Z"
   },
   {
    "duration": 369,
    "start_time": "2024-04-27T10:26:36.789Z"
   },
   {
    "duration": 54,
    "start_time": "2024-04-27T10:26:37.159Z"
   },
   {
    "duration": 34,
    "start_time": "2024-04-27T10:26:37.215Z"
   },
   {
    "duration": 19,
    "start_time": "2024-04-27T10:26:37.250Z"
   },
   {
    "duration": 5,
    "start_time": "2024-04-27T10:26:37.272Z"
   },
   {
    "duration": 173,
    "start_time": "2024-04-27T10:26:37.292Z"
   },
   {
    "duration": 289,
    "start_time": "2024-04-27T10:26:37.467Z"
   },
   {
    "duration": 72,
    "start_time": "2024-04-27T10:26:37.758Z"
   },
   {
    "duration": 5,
    "start_time": "2024-04-27T10:26:37.831Z"
   },
   {
    "duration": 290,
    "start_time": "2024-04-27T10:26:37.837Z"
   },
   {
    "duration": 2,
    "start_time": "2024-04-27T10:26:38.129Z"
   },
   {
    "duration": 18,
    "start_time": "2024-04-27T10:26:38.132Z"
   },
   {
    "duration": 12,
    "start_time": "2024-04-27T10:26:38.166Z"
   },
   {
    "duration": 24,
    "start_time": "2024-04-27T10:26:38.180Z"
   },
   {
    "duration": 2468,
    "start_time": "2024-04-27T10:28:44.767Z"
   },
   {
    "duration": 2167,
    "start_time": "2024-04-27T10:28:47.237Z"
   },
   {
    "duration": 3117,
    "start_time": "2024-04-27T10:28:49.405Z"
   },
   {
    "duration": 17,
    "start_time": "2024-04-27T10:28:52.524Z"
   },
   {
    "duration": 138,
    "start_time": "2024-04-27T10:28:52.543Z"
   },
   {
    "duration": 518,
    "start_time": "2024-04-27T10:28:52.684Z"
   },
   {
    "duration": 1011,
    "start_time": "2024-04-27T10:28:53.203Z"
   },
   {
    "duration": 20,
    "start_time": "2024-04-27T10:28:54.215Z"
   },
   {
    "duration": 30,
    "start_time": "2024-04-27T10:28:54.236Z"
   },
   {
    "duration": 39,
    "start_time": "2024-04-27T10:28:54.269Z"
   },
   {
    "duration": 23,
    "start_time": "2024-04-27T10:28:54.310Z"
   },
   {
    "duration": 60,
    "start_time": "2024-04-27T10:28:54.335Z"
   },
   {
    "duration": 27,
    "start_time": "2024-04-27T10:28:54.397Z"
   },
   {
    "duration": 22,
    "start_time": "2024-04-27T10:28:54.425Z"
   },
   {
    "duration": 88,
    "start_time": "2024-04-27T10:28:54.448Z"
   },
   {
    "duration": 380,
    "start_time": "2024-04-27T10:28:54.538Z"
   },
   {
    "duration": 339,
    "start_time": "2024-04-27T10:28:54.919Z"
   },
   {
    "duration": 317,
    "start_time": "2024-04-27T10:28:55.259Z"
   },
   {
    "duration": 146,
    "start_time": "2024-04-27T10:28:55.578Z"
   },
   {
    "duration": 103,
    "start_time": "2024-04-27T10:28:55.725Z"
   },
   {
    "duration": 155,
    "start_time": "2024-04-27T10:28:55.830Z"
   },
   {
    "duration": 34,
    "start_time": "2024-04-27T10:28:55.987Z"
   },
   {
    "duration": 17,
    "start_time": "2024-04-27T10:28:56.023Z"
   },
   {
    "duration": 428,
    "start_time": "2024-04-27T10:28:56.041Z"
   },
   {
    "duration": 78,
    "start_time": "2024-04-27T10:28:56.470Z"
   },
   {
    "duration": 360,
    "start_time": "2024-04-27T10:28:56.551Z"
   },
   {
    "duration": 199,
    "start_time": "2024-04-27T10:28:56.912Z"
   },
   {
    "duration": 84,
    "start_time": "2024-04-27T10:28:57.114Z"
   },
   {
    "duration": 430,
    "start_time": "2024-04-27T10:28:57.199Z"
   },
   {
    "duration": 361,
    "start_time": "2024-04-27T10:28:57.630Z"
   },
   {
    "duration": 52,
    "start_time": "2024-04-27T10:28:57.992Z"
   },
   {
    "duration": 56,
    "start_time": "2024-04-27T10:28:58.046Z"
   },
   {
    "duration": 3,
    "start_time": "2024-04-27T10:28:58.104Z"
   },
   {
    "duration": 5,
    "start_time": "2024-04-27T10:28:58.108Z"
   },
   {
    "duration": 185,
    "start_time": "2024-04-27T10:28:58.114Z"
   },
   {
    "duration": 291,
    "start_time": "2024-04-27T10:28:58.300Z"
   },
   {
    "duration": 56,
    "start_time": "2024-04-27T10:28:58.593Z"
   },
   {
    "duration": 4,
    "start_time": "2024-04-27T10:28:58.650Z"
   },
   {
    "duration": 336,
    "start_time": "2024-04-27T10:28:58.665Z"
   },
   {
    "duration": 3,
    "start_time": "2024-04-27T10:28:59.002Z"
   },
   {
    "duration": 15,
    "start_time": "2024-04-27T10:28:59.006Z"
   },
   {
    "duration": 6,
    "start_time": "2024-04-27T10:28:59.023Z"
   },
   {
    "duration": 17,
    "start_time": "2024-04-27T10:28:59.030Z"
   },
   {
    "duration": 138,
    "start_time": "2024-04-27T10:28:59.066Z"
   },
   {
    "duration": 7519,
    "start_time": "2024-04-27T16:33:57.276Z"
   },
   {
    "duration": 1617,
    "start_time": "2024-04-27T16:34:04.798Z"
   },
   {
    "duration": 3134,
    "start_time": "2024-04-27T16:34:06.417Z"
   },
   {
    "duration": 17,
    "start_time": "2024-04-27T16:34:09.553Z"
   },
   {
    "duration": 161,
    "start_time": "2024-04-27T16:34:09.572Z"
   },
   {
    "duration": 514,
    "start_time": "2024-04-27T16:34:09.735Z"
   },
   {
    "duration": 1067,
    "start_time": "2024-04-27T16:34:10.251Z"
   },
   {
    "duration": 24,
    "start_time": "2024-04-27T16:34:11.320Z"
   },
   {
    "duration": 22,
    "start_time": "2024-04-27T16:34:11.346Z"
   },
   {
    "duration": 23,
    "start_time": "2024-04-27T16:34:11.371Z"
   },
   {
    "duration": 41,
    "start_time": "2024-04-27T16:34:11.396Z"
   },
   {
    "duration": 28,
    "start_time": "2024-04-27T16:34:11.438Z"
   },
   {
    "duration": 62,
    "start_time": "2024-04-27T16:34:11.468Z"
   },
   {
    "duration": 29,
    "start_time": "2024-04-27T16:34:11.531Z"
   },
   {
    "duration": 70,
    "start_time": "2024-04-27T16:34:11.561Z"
   },
   {
    "duration": 345,
    "start_time": "2024-04-27T16:34:11.633Z"
   },
   {
    "duration": 353,
    "start_time": "2024-04-27T16:34:11.980Z"
   },
   {
    "duration": 311,
    "start_time": "2024-04-27T16:34:12.335Z"
   },
   {
    "duration": 145,
    "start_time": "2024-04-27T16:34:12.647Z"
   },
   {
    "duration": 100,
    "start_time": "2024-04-27T16:34:12.793Z"
   },
   {
    "duration": 144,
    "start_time": "2024-04-27T16:34:12.894Z"
   },
   {
    "duration": 42,
    "start_time": "2024-04-27T16:34:13.040Z"
   },
   {
    "duration": 18,
    "start_time": "2024-04-27T16:34:13.083Z"
   },
   {
    "duration": 260,
    "start_time": "2024-04-27T16:34:13.103Z"
   },
   {
    "duration": 75,
    "start_time": "2024-04-27T16:34:13.365Z"
   },
   {
    "duration": 230,
    "start_time": "2024-04-27T16:34:13.441Z"
   },
   {
    "duration": 197,
    "start_time": "2024-04-27T16:34:13.673Z"
   },
   {
    "duration": 60,
    "start_time": "2024-04-27T16:34:13.874Z"
   },
   {
    "duration": 325,
    "start_time": "2024-04-27T16:34:13.935Z"
   },
   {
    "duration": 215,
    "start_time": "2024-04-27T16:34:14.261Z"
   },
   {
    "duration": 54,
    "start_time": "2024-04-27T16:34:14.478Z"
   },
   {
    "duration": 37,
    "start_time": "2024-04-27T16:34:14.534Z"
   },
   {
    "duration": 5,
    "start_time": "2024-04-27T16:34:14.572Z"
   },
   {
    "duration": 5,
    "start_time": "2024-04-27T16:34:14.579Z"
   },
   {
    "duration": 197,
    "start_time": "2024-04-27T16:34:14.586Z"
   },
   {
    "duration": 367,
    "start_time": "2024-04-27T16:34:14.790Z"
   },
   {
    "duration": 75,
    "start_time": "2024-04-27T16:34:15.159Z"
   },
   {
    "duration": 11,
    "start_time": "2024-04-27T16:34:15.236Z"
   },
   {
    "duration": 305,
    "start_time": "2024-04-27T16:34:15.250Z"
   },
   {
    "duration": 2,
    "start_time": "2024-04-27T16:34:15.557Z"
   },
   {
    "duration": 17,
    "start_time": "2024-04-27T16:34:15.561Z"
   },
   {
    "duration": 7,
    "start_time": "2024-04-27T16:34:15.580Z"
   },
   {
    "duration": 17,
    "start_time": "2024-04-27T16:34:15.588Z"
   },
   {
    "duration": 52530,
    "start_time": "2024-04-27T16:34:15.629Z"
   },
   {
    "duration": 16706,
    "start_time": "2024-04-27T16:35:08.161Z"
   },
   {
    "duration": 4,
    "start_time": "2024-04-27T16:35:24.869Z"
   },
   {
    "duration": 8,
    "start_time": "2024-04-27T16:35:24.875Z"
   },
   {
    "duration": 144,
    "start_time": "2024-04-27T16:35:24.885Z"
   },
   {
    "duration": 1,
    "start_time": "2024-04-27T16:35:25.030Z"
   },
   {
    "duration": 0,
    "start_time": "2024-04-27T16:35:25.032Z"
   },
   {
    "duration": 0,
    "start_time": "2024-04-27T16:35:25.034Z"
   },
   {
    "duration": 0,
    "start_time": "2024-04-27T16:35:25.035Z"
   },
   {
    "duration": 0,
    "start_time": "2024-04-27T16:35:25.037Z"
   },
   {
    "duration": 0,
    "start_time": "2024-04-27T16:35:25.038Z"
   },
   {
    "duration": 0,
    "start_time": "2024-04-27T16:35:25.039Z"
   },
   {
    "duration": 0,
    "start_time": "2024-04-27T16:35:25.041Z"
   },
   {
    "duration": 0,
    "start_time": "2024-04-27T16:35:25.043Z"
   },
   {
    "duration": 0,
    "start_time": "2024-04-27T16:35:25.044Z"
   },
   {
    "duration": 0,
    "start_time": "2024-04-27T16:35:25.045Z"
   },
   {
    "duration": 0,
    "start_time": "2024-04-27T16:35:25.047Z"
   },
   {
    "duration": 11,
    "start_time": "2024-04-27T16:37:58.450Z"
   },
   {
    "duration": 4,
    "start_time": "2024-04-27T16:38:02.806Z"
   },
   {
    "duration": 2536,
    "start_time": "2024-04-27T16:38:27.868Z"
   },
   {
    "duration": 5,
    "start_time": "2024-04-27T16:38:30.407Z"
   },
   {
    "duration": 1137,
    "start_time": "2024-04-27T16:38:30.414Z"
   },
   {
    "duration": 15,
    "start_time": "2024-04-27T16:38:31.554Z"
   },
   {
    "duration": 181,
    "start_time": "2024-04-27T16:38:31.571Z"
   },
   {
    "duration": 491,
    "start_time": "2024-04-27T16:38:31.753Z"
   },
   {
    "duration": 906,
    "start_time": "2024-04-27T16:38:32.246Z"
   },
   {
    "duration": 25,
    "start_time": "2024-04-27T16:38:33.154Z"
   },
   {
    "duration": 24,
    "start_time": "2024-04-27T16:38:33.181Z"
   },
   {
    "duration": 44,
    "start_time": "2024-04-27T16:38:33.208Z"
   },
   {
    "duration": 30,
    "start_time": "2024-04-27T16:38:33.254Z"
   },
   {
    "duration": 32,
    "start_time": "2024-04-27T16:38:33.287Z"
   },
   {
    "duration": 24,
    "start_time": "2024-04-27T16:38:33.328Z"
   },
   {
    "duration": 81,
    "start_time": "2024-04-27T16:38:33.354Z"
   },
   {
    "duration": 61,
    "start_time": "2024-04-27T16:38:33.437Z"
   },
   {
    "duration": 317,
    "start_time": "2024-04-27T16:38:33.500Z"
   },
   {
    "duration": 315,
    "start_time": "2024-04-27T16:38:33.819Z"
   },
   {
    "duration": 314,
    "start_time": "2024-04-27T16:38:34.135Z"
   },
   {
    "duration": 157,
    "start_time": "2024-04-27T16:38:34.451Z"
   },
   {
    "duration": 93,
    "start_time": "2024-04-27T16:38:34.610Z"
   },
   {
    "duration": 156,
    "start_time": "2024-04-27T16:38:34.705Z"
   },
   {
    "duration": 47,
    "start_time": "2024-04-27T16:38:34.864Z"
   },
   {
    "duration": 19,
    "start_time": "2024-04-27T16:38:34.930Z"
   },
   {
    "duration": 248,
    "start_time": "2024-04-27T16:38:34.951Z"
   },
   {
    "duration": 79,
    "start_time": "2024-04-27T16:38:35.201Z"
   },
   {
    "duration": 247,
    "start_time": "2024-04-27T16:38:35.282Z"
   },
   {
    "duration": 138,
    "start_time": "2024-04-27T16:38:35.531Z"
   },
   {
    "duration": 63,
    "start_time": "2024-04-27T16:38:35.673Z"
   },
   {
    "duration": 336,
    "start_time": "2024-04-27T16:38:35.737Z"
   },
   {
    "duration": 331,
    "start_time": "2024-04-27T16:38:36.075Z"
   },
   {
    "duration": 67,
    "start_time": "2024-04-27T16:38:36.408Z"
   },
   {
    "duration": 44,
    "start_time": "2024-04-27T16:38:36.477Z"
   },
   {
    "duration": 4,
    "start_time": "2024-04-27T16:38:36.529Z"
   },
   {
    "duration": 7,
    "start_time": "2024-04-27T16:38:36.535Z"
   },
   {
    "duration": 172,
    "start_time": "2024-04-27T16:38:36.544Z"
   },
   {
    "duration": 308,
    "start_time": "2024-04-27T16:38:36.718Z"
   },
   {
    "duration": 67,
    "start_time": "2024-04-27T16:38:37.029Z"
   },
   {
    "duration": 4,
    "start_time": "2024-04-27T16:38:37.098Z"
   },
   {
    "duration": 326,
    "start_time": "2024-04-27T16:38:37.104Z"
   },
   {
    "duration": 2,
    "start_time": "2024-04-27T16:38:37.432Z"
   },
   {
    "duration": 27,
    "start_time": "2024-04-27T16:38:37.436Z"
   },
   {
    "duration": 12,
    "start_time": "2024-04-27T16:38:37.465Z"
   },
   {
    "duration": 34,
    "start_time": "2024-04-27T16:38:37.479Z"
   },
   {
    "duration": 2549,
    "start_time": "2024-04-27T16:38:57.132Z"
   },
   {
    "duration": 2682,
    "start_time": "2024-04-27T16:38:59.684Z"
   },
   {
    "duration": 3153,
    "start_time": "2024-04-27T16:39:02.368Z"
   },
   {
    "duration": 19,
    "start_time": "2024-04-27T16:39:05.523Z"
   },
   {
    "duration": 196,
    "start_time": "2024-04-27T16:39:05.545Z"
   },
   {
    "duration": 545,
    "start_time": "2024-04-27T16:39:05.742Z"
   },
   {
    "duration": 1072,
    "start_time": "2024-04-27T16:39:06.289Z"
   },
   {
    "duration": 22,
    "start_time": "2024-04-27T16:39:07.363Z"
   },
   {
    "duration": 54,
    "start_time": "2024-04-27T16:39:07.386Z"
   },
   {
    "duration": 30,
    "start_time": "2024-04-27T16:39:07.444Z"
   },
   {
    "duration": 35,
    "start_time": "2024-04-27T16:39:07.476Z"
   },
   {
    "duration": 52,
    "start_time": "2024-04-27T16:39:07.512Z"
   },
   {
    "duration": 26,
    "start_time": "2024-04-27T16:39:07.566Z"
   },
   {
    "duration": 51,
    "start_time": "2024-04-27T16:39:07.593Z"
   },
   {
    "duration": 75,
    "start_time": "2024-04-27T16:39:07.646Z"
   },
   {
    "duration": 334,
    "start_time": "2024-04-27T16:39:07.723Z"
   },
   {
    "duration": 314,
    "start_time": "2024-04-27T16:39:08.059Z"
   },
   {
    "duration": 328,
    "start_time": "2024-04-27T16:39:08.375Z"
   },
   {
    "duration": 163,
    "start_time": "2024-04-27T16:39:08.705Z"
   },
   {
    "duration": 120,
    "start_time": "2024-04-27T16:39:08.869Z"
   },
   {
    "duration": 150,
    "start_time": "2024-04-27T16:39:08.991Z"
   },
   {
    "duration": 38,
    "start_time": "2024-04-27T16:39:09.143Z"
   },
   {
    "duration": 18,
    "start_time": "2024-04-27T16:39:09.183Z"
   },
   {
    "duration": 270,
    "start_time": "2024-04-27T16:39:09.203Z"
   },
   {
    "duration": 70,
    "start_time": "2024-04-27T16:39:09.475Z"
   },
   {
    "duration": 219,
    "start_time": "2024-04-27T16:39:09.547Z"
   },
   {
    "duration": 122,
    "start_time": "2024-04-27T16:39:09.768Z"
   },
   {
    "duration": 62,
    "start_time": "2024-04-27T16:39:09.895Z"
   },
   {
    "duration": 414,
    "start_time": "2024-04-27T16:39:09.959Z"
   },
   {
    "duration": 224,
    "start_time": "2024-04-27T16:39:10.374Z"
   },
   {
    "duration": 56,
    "start_time": "2024-04-27T16:39:10.600Z"
   },
   {
    "duration": 39,
    "start_time": "2024-04-27T16:39:10.657Z"
   },
   {
    "duration": 4,
    "start_time": "2024-04-27T16:39:10.698Z"
   },
   {
    "duration": 28,
    "start_time": "2024-04-27T16:39:10.703Z"
   },
   {
    "duration": 176,
    "start_time": "2024-04-27T16:39:10.733Z"
   },
   {
    "duration": 300,
    "start_time": "2024-04-27T16:39:10.911Z"
   },
   {
    "duration": 68,
    "start_time": "2024-04-27T16:39:11.213Z"
   },
   {
    "duration": 4,
    "start_time": "2024-04-27T16:39:11.282Z"
   },
   {
    "duration": 328,
    "start_time": "2024-04-27T16:39:11.288Z"
   },
   {
    "duration": 11,
    "start_time": "2024-04-27T16:39:11.618Z"
   },
   {
    "duration": 14,
    "start_time": "2024-04-27T16:39:11.630Z"
   },
   {
    "duration": 7,
    "start_time": "2024-04-27T16:39:11.646Z"
   },
   {
    "duration": 18,
    "start_time": "2024-04-27T16:39:11.655Z"
   },
   {
    "duration": 52933,
    "start_time": "2024-04-27T16:39:11.675Z"
   },
   {
    "duration": 16658,
    "start_time": "2024-04-27T16:40:04.609Z"
   },
   {
    "duration": 4,
    "start_time": "2024-04-27T16:40:21.269Z"
   },
   {
    "duration": 17,
    "start_time": "2024-04-27T16:40:21.274Z"
   },
   {
    "duration": 16,
    "start_time": "2024-04-27T16:40:21.292Z"
   },
   {
    "duration": 3,
    "start_time": "2024-04-27T16:40:21.310Z"
   },
   {
    "duration": 363642,
    "start_time": "2024-04-27T16:40:21.314Z"
   },
   {
    "duration": 364301,
    "start_time": "2024-04-27T16:46:24.957Z"
   },
   {
    "duration": 9,
    "start_time": "2024-04-27T16:52:29.260Z"
   },
   {
    "duration": 60,
    "start_time": "2024-04-27T16:52:29.270Z"
   },
   {
    "duration": 6,
    "start_time": "2024-04-27T16:52:29.332Z"
   },
   {
    "duration": 21,
    "start_time": "2024-04-27T16:52:29.339Z"
   },
   {
    "duration": 221999,
    "start_time": "2024-04-27T16:52:29.361Z"
   },
   {
    "duration": 9,
    "start_time": "2024-04-27T16:56:11.361Z"
   },
   {
    "duration": 9,
    "start_time": "2024-04-27T16:56:11.371Z"
   },
   {
    "duration": 5,
    "start_time": "2024-04-27T16:56:11.382Z"
   },
   {
    "duration": 27,
    "start_time": "2024-04-27T16:58:39.283Z"
   },
   {
    "duration": 3,
    "start_time": "2024-04-27T16:58:42.554Z"
   },
   {
    "duration": 3,
    "start_time": "2024-04-27T16:58:46.211Z"
   },
   {
    "duration": 183206,
    "start_time": "2024-04-27T16:58:49.410Z"
   },
   {
    "duration": 3,
    "start_time": "2024-04-27T17:02:43.613Z"
   },
   {
    "duration": 4,
    "start_time": "2024-04-27T17:06:00.055Z"
   },
   {
    "duration": 137,
    "start_time": "2024-04-27T17:21:28.699Z"
   },
   {
    "duration": 2,
    "start_time": "2024-04-27T17:28:15.252Z"
   },
   {
    "duration": 4,
    "start_time": "2024-04-27T17:28:17.223Z"
   },
   {
    "duration": 235312,
    "start_time": "2024-04-27T17:28:19.791Z"
   },
   {
    "duration": 20894,
    "start_time": "2024-04-27T17:37:53.268Z"
   },
   {
    "duration": 211,
    "start_time": "2024-04-27T17:38:19.518Z"
   },
   {
    "duration": 2,
    "start_time": "2024-04-27T17:44:03.543Z"
   },
   {
    "duration": 23061,
    "start_time": "2024-04-27T17:48:31.002Z"
   },
   {
    "duration": 93,
    "start_time": "2024-04-27T17:49:06.926Z"
   },
   {
    "duration": 96,
    "start_time": "2024-04-27T17:49:54.789Z"
   },
   {
    "duration": 68445,
    "start_time": "2024-04-27T17:58:33.053Z"
   },
   {
    "duration": 2,
    "start_time": "2024-04-27T17:59:47.157Z"
   },
   {
    "duration": 194,
    "start_time": "2024-04-27T17:59:49.107Z"
   },
   {
    "duration": 157,
    "start_time": "2024-04-27T18:03:11.719Z"
   },
   {
    "duration": 32288,
    "start_time": "2024-04-27T18:07:12.628Z"
   },
   {
    "duration": 123,
    "start_time": "2024-04-27T18:07:44.918Z"
   },
   {
    "duration": 71,
    "start_time": "2024-04-27T18:09:51.843Z"
   },
   {
    "duration": 75,
    "start_time": "2024-04-27T18:10:35.100Z"
   },
   {
    "duration": 127,
    "start_time": "2024-04-27T18:10:42.867Z"
   },
   {
    "duration": 38,
    "start_time": "2024-04-27T18:10:45.579Z"
   },
   {
    "duration": 108958,
    "start_time": "2024-04-27T18:10:55.140Z"
   },
   {
    "duration": 19303,
    "start_time": "2024-04-27T18:12:44.131Z"
   },
   {
    "duration": 163702,
    "start_time": "2024-04-27T18:13:03.438Z"
   },
   {
    "duration": 719,
    "start_time": "2024-04-27T18:16:43.920Z"
   },
   {
    "duration": 13,
    "start_time": "2024-04-27T18:25:05.854Z"
   },
   {
    "duration": 67,
    "start_time": "2024-04-29T15:28:05.042Z"
   },
   {
    "duration": 50,
    "start_time": "2024-04-29T15:29:25.354Z"
   }
  ],
  "kernelspec": {
   "display_name": "Python 3 (ipykernel)",
   "language": "python",
   "name": "python3"
  },
  "language_info": {
   "codemirror_mode": {
    "name": "ipython",
    "version": 3
   },
   "file_extension": ".py",
   "mimetype": "text/x-python",
   "name": "python",
   "nbconvert_exporter": "python",
   "pygments_lexer": "ipython3",
   "version": "3.9.5"
  },
  "toc": {
   "base_numbering": 1,
   "nav_menu": {},
   "number_sections": true,
   "sideBar": true,
   "skip_h1_title": true,
   "title_cell": "Table of Contents",
   "title_sidebar": "Contents",
   "toc_cell": false,
   "toc_position": {
    "height": "calc(100% - 180px)",
    "left": "10px",
    "top": "150px",
    "width": "240px"
   },
   "toc_section_display": true,
   "toc_window_display": true
  }
 },
 "nbformat": 4,
 "nbformat_minor": 2
}
