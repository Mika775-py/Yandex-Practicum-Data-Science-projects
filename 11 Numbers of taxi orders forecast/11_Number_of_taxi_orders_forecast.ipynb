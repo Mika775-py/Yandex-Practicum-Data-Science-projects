{
 "cells": [
  {
   "cell_type": "markdown",
   "metadata": {
    "toc": true
   },
   "source": [
    "<h1>Содержание<span class=\"tocSkip\"></span></h1>\n",
    "<div class=\"toc\"><ul class=\"toc-item\"><li><span><a href=\"#Подготовка\" data-toc-modified-id=\"Подготовка-1\"><span class=\"toc-item-num\">1&nbsp;&nbsp;</span>Подготовка</a></span></li><li><span><a href=\"#Анализ\" data-toc-modified-id=\"Анализ-2\"><span class=\"toc-item-num\">2&nbsp;&nbsp;</span>Анализ</a></span></li><li><span><a href=\"#Обучение\" data-toc-modified-id=\"Обучение-3\"><span class=\"toc-item-num\">3&nbsp;&nbsp;</span>Обучение</a></span></li><li><span><a href=\"#Тестирование\" data-toc-modified-id=\"Тестирование-4\"><span class=\"toc-item-num\">4&nbsp;&nbsp;</span>Тестирование</a></span></li><li><span><a href=\"#Чек-лист-проверки\" data-toc-modified-id=\"Чек-лист-проверки-5\"><span class=\"toc-item-num\">5&nbsp;&nbsp;</span>Чек-лист проверки</a></span></li></ul></div>"
   ]
  },
  {
   "cell_type": "markdown",
   "metadata": {},
   "source": [
    "#  Прогнозирование заказов такси"
   ]
  },
  {
   "cell_type": "markdown",
   "metadata": {},
   "source": [
    "Компания «Чётенькое такси» собрала исторические данные о заказах такси в аэропортах. Чтобы привлекать больше водителей в период пиковой нагрузки, нужно спрогнозировать количество заказов такси на следующий час. Постройте модель для такого предсказания.\n",
    "\n",
    "Значение метрики *RMSE* на тестовой выборке должно быть не больше 48.\n",
    "\n",
    "Вам нужно:\n",
    "\n",
    "1. Загрузить данные и выполнить их ресемплирование по одному часу.\n",
    "2. Проанализировать данные.\n",
    "3. Обучить разные модели с различными гиперпараметрами. Сделать тестовую выборку размером 10% от исходных данных.\n",
    "4. Проверить данные на тестовой выборке и сделать выводы.\n",
    "\n",
    "\n",
    "Данные лежат в файле `taxi.csv`. Количество заказов находится в столбце `num_orders` (от англ. *number of orders*, «число заказов»)."
   ]
  },
  {
   "cell_type": "markdown",
   "metadata": {},
   "source": [
    "## Подготовка"
   ]
  },
  {
   "cell_type": "code",
   "execution_count": 1,
   "metadata": {},
   "outputs": [
    {
     "name": "stdout",
     "output_type": "stream",
     "text": [
      "<class 'pandas.core.frame.DataFrame'>\n",
      "DatetimeIndex: 26496 entries, 2018-03-01 00:00:00 to 2018-08-31 23:50:00\n",
      "Data columns (total 1 columns):\n",
      " #   Column      Non-Null Count  Dtype\n",
      "---  ------      --------------  -----\n",
      " 0   num_orders  26496 non-null  int64\n",
      "dtypes: int64(1)\n",
      "memory usage: 414.0 KB\n"
     ]
    },
    {
     "data": {
      "text/html": [
       "<div>\n",
       "<style scoped>\n",
       "    .dataframe tbody tr th:only-of-type {\n",
       "        vertical-align: middle;\n",
       "    }\n",
       "\n",
       "    .dataframe tbody tr th {\n",
       "        vertical-align: top;\n",
       "    }\n",
       "\n",
       "    .dataframe thead th {\n",
       "        text-align: right;\n",
       "    }\n",
       "</style>\n",
       "<table border=\"1\" class=\"dataframe\">\n",
       "  <thead>\n",
       "    <tr style=\"text-align: right;\">\n",
       "      <th></th>\n",
       "      <th>num_orders</th>\n",
       "    </tr>\n",
       "    <tr>\n",
       "      <th>datetime</th>\n",
       "      <th></th>\n",
       "    </tr>\n",
       "  </thead>\n",
       "  <tbody>\n",
       "    <tr>\n",
       "      <th>2018-03-01 00:00:00</th>\n",
       "      <td>9</td>\n",
       "    </tr>\n",
       "    <tr>\n",
       "      <th>2018-03-01 00:10:00</th>\n",
       "      <td>14</td>\n",
       "    </tr>\n",
       "    <tr>\n",
       "      <th>2018-03-01 00:20:00</th>\n",
       "      <td>28</td>\n",
       "    </tr>\n",
       "    <tr>\n",
       "      <th>2018-03-01 00:30:00</th>\n",
       "      <td>20</td>\n",
       "    </tr>\n",
       "    <tr>\n",
       "      <th>2018-03-01 00:40:00</th>\n",
       "      <td>32</td>\n",
       "    </tr>\n",
       "    <tr>\n",
       "      <th>2018-03-01 00:50:00</th>\n",
       "      <td>21</td>\n",
       "    </tr>\n",
       "    <tr>\n",
       "      <th>2018-03-01 01:00:00</th>\n",
       "      <td>7</td>\n",
       "    </tr>\n",
       "    <tr>\n",
       "      <th>2018-03-01 01:10:00</th>\n",
       "      <td>5</td>\n",
       "    </tr>\n",
       "    <tr>\n",
       "      <th>2018-03-01 01:20:00</th>\n",
       "      <td>17</td>\n",
       "    </tr>\n",
       "    <tr>\n",
       "      <th>2018-03-01 01:30:00</th>\n",
       "      <td>12</td>\n",
       "    </tr>\n",
       "  </tbody>\n",
       "</table>\n",
       "</div>"
      ],
      "text/plain": [
       "                     num_orders\n",
       "datetime                       \n",
       "2018-03-01 00:00:00           9\n",
       "2018-03-01 00:10:00          14\n",
       "2018-03-01 00:20:00          28\n",
       "2018-03-01 00:30:00          20\n",
       "2018-03-01 00:40:00          32\n",
       "2018-03-01 00:50:00          21\n",
       "2018-03-01 01:00:00           7\n",
       "2018-03-01 01:10:00           5\n",
       "2018-03-01 01:20:00          17\n",
       "2018-03-01 01:30:00          12"
      ]
     },
     "execution_count": 1,
     "metadata": {},
     "output_type": "execute_result"
    }
   ],
   "source": [
    "import warnings\n",
    "warnings.filterwarnings('ignore')\n",
    "import numpy as np\n",
    "import pandas as pd\n",
    "from sklearn.model_selection import train_test_split\n",
    "from statsmodels.tsa.seasonal import seasonal_decompose\n",
    "import matplotlib.pyplot as plt\n",
    "\n",
    "from sklearn.model_selection import cross_val_score\n",
    "from sklearn.model_selection import KFold\n",
    "from sklearn.model_selection import GridSearchCV, TimeSeriesSplit\n",
    "from sklearn import linear_model\n",
    "import lightgbm as lgb\n",
    "import lightgbm as lgm\n",
    "from sklearn.linear_model import Ridge\n",
    "from sklearn.linear_model import LinearRegression\n",
    "from catboost import CatBoostRegressor\n",
    "from sklearn.metrics import mean_squared_error\n",
    "from sklearn.dummy import DummyRegressor# для работы с моделью DummyRegressor\n",
    "df = pd.read_csv('/datasets/taxi.csv', index_col=[0], parse_dates=[0])\n",
    "\n",
    "df.info()\n",
    "df.head(10)"
   ]
  },
  {
   "cell_type": "code",
   "execution_count": 2,
   "metadata": {},
   "outputs": [
    {
     "name": "stdout",
     "output_type": "stream",
     "text": [
      "True\n"
     ]
    }
   ],
   "source": [
    "print(df.index.is_monotonic)"
   ]
  },
  {
   "cell_type": "code",
   "execution_count": 3,
   "metadata": {},
   "outputs": [
    {
     "data": {
      "text/html": [
       "<div>\n",
       "<style scoped>\n",
       "    .dataframe tbody tr th:only-of-type {\n",
       "        vertical-align: middle;\n",
       "    }\n",
       "\n",
       "    .dataframe tbody tr th {\n",
       "        vertical-align: top;\n",
       "    }\n",
       "\n",
       "    .dataframe thead th {\n",
       "        text-align: right;\n",
       "    }\n",
       "</style>\n",
       "<table border=\"1\" class=\"dataframe\">\n",
       "  <thead>\n",
       "    <tr style=\"text-align: right;\">\n",
       "      <th></th>\n",
       "      <th>num_orders</th>\n",
       "    </tr>\n",
       "    <tr>\n",
       "      <th>datetime</th>\n",
       "      <th></th>\n",
       "    </tr>\n",
       "  </thead>\n",
       "  <tbody>\n",
       "    <tr>\n",
       "      <th>2018-03-01 00:00:00</th>\n",
       "      <td>124</td>\n",
       "    </tr>\n",
       "    <tr>\n",
       "      <th>2018-03-01 01:00:00</th>\n",
       "      <td>85</td>\n",
       "    </tr>\n",
       "    <tr>\n",
       "      <th>2018-03-01 02:00:00</th>\n",
       "      <td>71</td>\n",
       "    </tr>\n",
       "    <tr>\n",
       "      <th>2018-03-01 03:00:00</th>\n",
       "      <td>66</td>\n",
       "    </tr>\n",
       "    <tr>\n",
       "      <th>2018-03-01 04:00:00</th>\n",
       "      <td>43</td>\n",
       "    </tr>\n",
       "  </tbody>\n",
       "</table>\n",
       "</div>"
      ],
      "text/plain": [
       "                     num_orders\n",
       "datetime                       \n",
       "2018-03-01 00:00:00         124\n",
       "2018-03-01 01:00:00          85\n",
       "2018-03-01 02:00:00          71\n",
       "2018-03-01 03:00:00          66\n",
       "2018-03-01 04:00:00          43"
      ]
     },
     "execution_count": 3,
     "metadata": {},
     "output_type": "execute_result"
    }
   ],
   "source": [
    "df = df.resample('1H').sum()\n",
    "df.head()"
   ]
  },
  {
   "cell_type": "code",
   "execution_count": 4,
   "metadata": {},
   "outputs": [
    {
     "name": "stdout",
     "output_type": "stream",
     "text": [
      "<class 'pandas.core.frame.DataFrame'>\n",
      "DatetimeIndex: 4416 entries, 2018-03-01 00:00:00 to 2018-08-31 23:00:00\n",
      "Freq: H\n",
      "Data columns (total 1 columns):\n",
      " #   Column      Non-Null Count  Dtype\n",
      "---  ------      --------------  -----\n",
      " 0   num_orders  4416 non-null   int64\n",
      "dtypes: int64(1)\n",
      "memory usage: 69.0 KB\n"
     ]
    }
   ],
   "source": [
    "df.info()"
   ]
  },
  {
   "cell_type": "markdown",
   "metadata": {},
   "source": [
    "## Анализ"
   ]
  },
  {
   "cell_type": "code",
   "execution_count": 5,
   "metadata": {},
   "outputs": [
    {
     "data": {
      "image/png": "[encoded data removed]",
      "text/plain": [
       "<Figure size 720x1152 with 3 Axes>"
      ]
     },
     "metadata": {
      "needs_background": "light"
     },
     "output_type": "display_data"
    }
   ],
   "source": [
    "decompose = seasonal_decompose(df)\n",
    "\n",
    "plt.figure(figsize=(10, 16))\n",
    "plt.subplot(311)\n",
    "\n",
    "decompose.trend.plot(ax=plt.gca())\n",
    "plt.title('Trend')\n",
    "plt.subplot(312)\n",
    "\n",
    "decompose.seasonal['2018-07-01':'2018-07-07'].plot(ax=plt.gca())\n",
    "plt.title('Seasonality')\n",
    "plt.subplot(313)\n",
    "\n",
    "decompose.resid.plot(ax=plt.gca())\n",
    "plt.title('Residuals')\n",
    "\n",
    "plt.tight_layout()"
   ]
  },
  {
   "cell_type": "code",
   "execution_count": 6,
   "metadata": {},
   "outputs": [
    {
     "data": {
      "text/plain": [
       "<AxesSubplot:xlabel='datetime'>"
      ]
     },
     "execution_count": 6,
     "metadata": {},
     "output_type": "execute_result"
    },
    {
     "data": {
      "image/png": "[encoded data removed]",
      "text/plain": [
       "<Figure size 432x288 with 1 Axes>"
      ]
     },
     "metadata": {
      "needs_background": "light"
     },
     "output_type": "display_data"
    }
   ],
   "source": [
    "df['rolling_mean'] = df.rolling(10).mean()\n",
    "df.plot()"
   ]
  },
  {
   "cell_type": "markdown",
   "metadata": {},
   "source": [
    "Из декомпозиции можно отметить, что тренд указывает на увеличение заказов. Сезоность указывает на высокий спрос на такси в ночное время, потому что в это время не работает общественный транспорт.\n",
    "\n",
    "Можно сказать, что стохастический процесс нестационарный"
   ]
  },
  {
   "cell_type": "markdown",
   "metadata": {},
   "source": [
    "## Обучение"
   ]
  },
  {
   "cell_type": "code",
   "execution_count": 7,
   "metadata": {},
   "outputs": [],
   "source": [
    "def prep_data(df, max_lag, rolling_mean_size):\n",
    "    df_new = pd.DataFrame(df.copy())\n",
    "    df_new['year'] = df_new.index.year\n",
    "    df_new['month'] = df_new.index.month\n",
    "    df_new['day'] = df_new.index.day\n",
    "    df_new['dayofweek'] = df_new.index.dayofweek\n",
    "    \n",
    "    for lag in range(1, max_lag + 1):\n",
    "        df_new['lag_{}'.format(lag)] = df_new['num_orders'].shift(lag)\n",
    "\n",
    "    df_new['rolling_mean'] = df_new['num_orders'].shift().rolling(rolling_mean_size).mean()\n",
    "    \n",
    "    #Разобьем датасет на обучающую и тестовую выборки. Тестовую выборку делаем размером 10% от исходных данных\n",
    "    train, test = train_test_split(df_new, shuffle=False, test_size= 0.1)\n",
    "    train = train.dropna()\n",
    "    \n",
    "    #Выделим признаки и целевой признак\n",
    "    train_target = train['num_orders']\n",
    "    train_features = train.drop('num_orders', axis=1)\n",
    "    test_target = test['num_orders']\n",
    "    test_features = test.drop('num_orders', axis=1)\n",
    "    \n",
    "    return train_features, test_features, train_target, test_target\n",
    "\n",
    "#make_features(df, 24, 10)\n",
    "#df.shape"
   ]
  },
  {
   "cell_type": "code",
   "execution_count": 8,
   "metadata": {},
   "outputs": [],
   "source": [
    "#print(df.info())\n",
    "#df.head(10)"
   ]
  },
  {
   "cell_type": "code",
   "execution_count": 9,
   "metadata": {},
   "outputs": [],
   "source": [
    "#df = df.dropna()"
   ]
  },
  {
   "cell_type": "code",
   "execution_count": 10,
   "metadata": {},
   "outputs": [],
   "source": [
    "#df.shape"
   ]
  },
  {
   "cell_type": "code",
   "execution_count": 11,
   "metadata": {},
   "outputs": [],
   "source": [
    "#df.head(10)"
   ]
  },
  {
   "cell_type": "markdown",
   "metadata": {},
   "source": [
    "Применим функцию make_features на подготовленный датасет. Разделим датасет (тестовая выборка 10%), попробуем разные модели:"
   ]
  },
  {
   "cell_type": "code",
   "execution_count": 12,
   "metadata": {},
   "outputs": [],
   "source": [
    "#train_val, test = train_test_split(df, shuffle=False, test_size=0.1)\n",
    "#train, valid = train_test_split(train_val, shuffle=False, test_size=0.25)\n",
    " #Разобьем датасет на обучающую и тестовую выборки. Тестовую выборку делаем размером 10% от исходных данных\n",
    "#train, test = train_test_split(df, shuffle=False, test_size=0.1)\n",
    "#train = train.dropna()\n",
    "\n",
    "#Выделим признаки и целевой признак\n",
    "#train_features = train.drop('num_orders', axis = 1)\n",
    "#train_target = train['num_orders']\n",
    "\n",
    "#valid_features = valid.drop('num_orders', axis =1)\n",
    "#valid_target = valid['num_orders']\n",
    "\n",
    "#test_features = test.drop('num_orders', axis = 1)\n",
    "#test_target = test['num_orders']"
   ]
  },
  {
   "cell_type": "code",
   "execution_count": 13,
   "metadata": {},
   "outputs": [],
   "source": [
    "#print(train.shape, valid.shape, test.shape)"
   ]
  },
  {
   "cell_type": "markdown",
   "metadata": {},
   "source": [
    "Проведем подбор параметров на модели light gbm:"
   ]
  },
  {
   "cell_type": "code",
   "execution_count": 14,
   "metadata": {},
   "outputs": [
    {
     "name": "stdout",
     "output_type": "stream",
     "text": [
      "Best parameters is: {'learning_rate': 0.1778279410038923, 'max_depth': 3, 'n_estimators': 100}\n",
      "Best score is: 26.996388445940415\n",
      "CPU times: user 14min 49s, sys: 8.43 s, total: 14min 57s\n",
      "Wall time: 15min 4s\n"
     ]
    }
   ],
   "source": [
    "%%time\n",
    "#исходные данные\n",
    "train_features, test_features, train_target, test_target = prep_data(df, max_lag =24, rolling_mean_size=10)\n",
    "\n",
    "estim_new = lgb.LGBMRegressor(random_state=12345)\n",
    "\n",
    "\n",
    "param_grid = {\n",
    "    'max_depth': range (1,5,1),\n",
    "    #'num_leaves': [5, 10, 15],\n",
    "    'learning_rate': [i for i in np.geomspace(0.1,1.0,5)],\n",
    "    'n_estimators': range (100,1000,100)\n",
    "}\n",
    "\n",
    "cv = TimeSeriesSplit(n_splits=3)\n",
    "gbm = GridSearchCV(estim_new, param_grid, cv=cv, scoring='neg_root_mean_squared_error',n_jobs=-1)\n",
    "\n",
    "gbm.fit(train_features, train_target)\n",
    "\n",
    "print('Best parameters is:', gbm.best_params_)\n",
    "print('Best score is:', -gbm.best_score_)"
   ]
  },
  {
   "cell_type": "code",
   "execution_count": 15,
   "metadata": {},
   "outputs": [],
   "source": [
    "#gbm_best_param = gbm.best_params_\n",
    "#light_gbm = lgb.LGBMRegressor(**gbm_best_param, random_state = 12345)\n",
    "#light_gbm.fit(train_features, train_target)\n",
    "#predicted_light_valid = light_gbm.predict(valid_features)\n",
    "#rmse_light_gbm = mean_squared_error(valid_target, predicted_light_valid)**0.5\n",
    "#rmse_light_gbm"
   ]
  },
  {
   "cell_type": "markdown",
   "metadata": {},
   "source": [
    "И попробуем модель CatBoost:"
   ]
  },
  {
   "cell_type": "code",
   "execution_count": 16,
   "metadata": {},
   "outputs": [
    {
     "name": "stdout",
     "output_type": "stream",
     "text": [
      "0:\tlearn: 37.1853353\ttotal: 51.6ms\tremaining: 10.3s\n",
      "10:\tlearn: 28.9905041\ttotal: 87ms\tremaining: 1.49s\n",
      "20:\tlearn: 26.4581526\ttotal: 122ms\tremaining: 1.04s\n",
      "30:\tlearn: 25.3862937\ttotal: 158ms\tremaining: 863ms\n",
      "40:\tlearn: 24.6064995\ttotal: 193ms\tremaining: 748ms\n",
      "50:\tlearn: 24.0190422\ttotal: 228ms\tremaining: 666ms\n",
      "60:\tlearn: 23.5761233\ttotal: 268ms\tremaining: 612ms\n",
      "70:\tlearn: 23.2018044\ttotal: 307ms\tremaining: 558ms\n",
      "80:\tlearn: 22.9003120\ttotal: 343ms\tremaining: 504ms\n",
      "90:\tlearn: 22.5653618\ttotal: 377ms\tremaining: 451ms\n",
      "100:\tlearn: 22.2830319\ttotal: 411ms\tremaining: 403ms\n",
      "110:\tlearn: 21.9489852\ttotal: 447ms\tremaining: 358ms\n",
      "120:\tlearn: 21.7291023\ttotal: 480ms\tremaining: 314ms\n",
      "130:\tlearn: 21.5227658\ttotal: 514ms\tremaining: 271ms\n",
      "140:\tlearn: 21.2869088\ttotal: 547ms\tremaining: 229ms\n",
      "150:\tlearn: 21.1149425\ttotal: 581ms\tremaining: 189ms\n",
      "160:\tlearn: 20.8715270\ttotal: 615ms\tremaining: 149ms\n",
      "170:\tlearn: 20.6959614\ttotal: 650ms\tremaining: 110ms\n",
      "180:\tlearn: 20.5470645\ttotal: 684ms\tremaining: 71.8ms\n",
      "190:\tlearn: 20.3841824\ttotal: 716ms\tremaining: 33.8ms\n",
      "199:\tlearn: 20.2573230\ttotal: 747ms\tremaining: 0us\n",
      "CPU times: user 731 ms, sys: 26.5 ms, total: 758 ms\n",
      "Wall time: 1.27 s\n"
     ]
    },
    {
     "data": {
      "text/plain": [
       "46.993554341549725"
      ]
     },
     "execution_count": 16,
     "metadata": {},
     "output_type": "execute_result"
    }
   ],
   "source": [
    "%%time\n",
    "model_cat = CatBoostRegressor(depth = 5, n_estimators = 200, learning_rate = 0.1, loss_function = 'MAE', eval_metric = 'RMSE')\n",
    "model_cat.fit(train_features, train_target, verbose=10)\n",
    "predicted_cat = model_cat.predict(test_features)\n",
    "rmse_cat = (mean_squared_error(test_target, predicted_cat))**0.5\n",
    "rmse_cat"
   ]
  },
  {
   "cell_type": "code",
   "execution_count": 17,
   "metadata": {},
   "outputs": [
    {
     "data": {
      "text/plain": [
       "((442, 29), (442,))"
      ]
     },
     "execution_count": 17,
     "metadata": {},
     "output_type": "execute_result"
    }
   ],
   "source": [
    "test_features.shape, test_target.shape"
   ]
  },
  {
   "cell_type": "markdown",
   "metadata": {},
   "source": [
    "## Тестирование"
   ]
  },
  {
   "cell_type": "code",
   "execution_count": 18,
   "metadata": {},
   "outputs": [
    {
     "data": {
      "text/plain": [
       "42.036557793521766"
      ]
     },
     "execution_count": 18,
     "metadata": {},
     "output_type": "execute_result"
    }
   ],
   "source": [
    "gbm_best_param = gbm.best_params_\n",
    "light_gbm = lgb.LGBMRegressor(**gbm_best_param, random_state = 12345)\n",
    "light_gbm.fit(train_features, train_target)\n",
    "predicted_light_test = light_gbm.predict(test_features)\n",
    "rmse_light_gbm_test = mean_squared_error(test_target, predicted_light_test)**0.5\n",
    "rmse_light_gbm_test"
   ]
  },
  {
   "cell_type": "code",
   "execution_count": 19,
   "metadata": {},
   "outputs": [],
   "source": [
    "#predicted_cat_test = model_cat.predict(test_features)\n",
    "#rmse_cat_test = mean_squared_error(test_target, predicted_cat_test)**0.5\n",
    "#rmse_cat_test"
   ]
  },
  {
   "cell_type": "markdown",
   "metadata": {},
   "source": [
    "Проверка модели на адекватность по среднему значению:"
   ]
  },
  {
   "cell_type": "code",
   "execution_count": 20,
   "metadata": {},
   "outputs": [],
   "source": [
    "#predicted_mean = np.ones(test.shape[0])*train['num_orders'].mean()\n",
    "#rmse_mean = mean_squared_error(test_target, predicted_mean)**0.5\n",
    "#print(\"Оценка RMSE по среднему значению :\", rmse_mean)"
   ]
  },
  {
   "cell_type": "code",
   "execution_count": 21,
   "metadata": {},
   "outputs": [
    {
     "name": "stdout",
     "output_type": "stream",
     "text": [
      "DummyRegressor:RMSE - 39\n"
     ]
    }
   ],
   "source": [
    "from sklearn.dummy import DummyRegressor# для работы с моделью DummyRegressor\n",
    "train_features, test_features, train_target, test_target = prep_data(df, max_lag=24, rolling_mean_size=10)\n",
    "        \n",
    "model_const = DummyRegressor()\n",
    "model_const.fit(train_features, train_target)\n",
    "predicted = model_const.predict(train_features)\n",
    "RMSE_const = round(mean_squared_error(train_target, predicted)**0.5)\n",
    "\n",
    "print('DummyRegressor:RMSE -',RMSE_const)"
   ]
  },
  {
   "cell_type": "code",
   "execution_count": 22,
   "metadata": {},
   "outputs": [
    {
     "data": {
      "image/png": "[encoded data removed]",
      "text/plain": [
       "<Figure size 1080x432 with 1 Axes>"
      ]
     },
     "metadata": {
      "needs_background": "light"
     },
     "output_type": "display_data"
    }
   ],
   "source": [
    "predict_series = pd.Series(predicted_light_test, index=test_target.index)\n",
    "plt.figure(figsize=(15, 6))\n",
    "test_target['2018-08-29':'2018-08-31'].plot(legend=True, label='actual')\n",
    "\n",
    "predict_series['2018-08-29':'2018-08-31'].plot(legend=True, label='predict')\n",
    "plt.grid(True)\n",
    "plt.show()"
   ]
  },
  {
   "cell_type": "markdown",
   "metadata": {},
   "source": [
    "В результате лучшая модель это LightGBM, значение метрики rmse на лучшей модели на тестовой выборке не превышает указанного в задании 48."
   ]
  }
 ],
 "metadata": {
  "ExecuteTimeLog": [
   {
    "duration": 908,
    "start_time": "2024-04-30T10:48:09.262Z"
   },
   {
    "duration": 318,
    "start_time": "2024-04-30T10:48:17.096Z"
   },
   {
    "duration": 385,
    "start_time": "2024-04-30T10:49:38.948Z"
   },
   {
    "duration": 26,
    "start_time": "2024-04-30T10:54:53.695Z"
   },
   {
    "duration": 38,
    "start_time": "2024-04-30T10:54:57.417Z"
   },
   {
    "duration": 5,
    "start_time": "2024-04-30T10:55:00.575Z"
   },
   {
    "duration": 32,
    "start_time": "2024-04-30T10:55:03.490Z"
   },
   {
    "duration": 37,
    "start_time": "2024-04-30T10:55:43.448Z"
   },
   {
    "duration": 4,
    "start_time": "2024-04-30T10:55:46.590Z"
   },
   {
    "duration": 77,
    "start_time": "2024-04-30T10:56:03.613Z"
   },
   {
    "duration": 1891,
    "start_time": "2024-05-01T04:42:40.831Z"
   },
   {
    "duration": 4,
    "start_time": "2024-05-01T04:42:42.724Z"
   },
   {
    "duration": 38,
    "start_time": "2024-05-01T04:42:42.729Z"
   },
   {
    "duration": 852,
    "start_time": "2024-05-01T04:42:42.769Z"
   },
   {
    "duration": 301,
    "start_time": "2024-05-01T04:42:43.623Z"
   },
   {
    "duration": 376,
    "start_time": "2024-05-01T04:42:43.926Z"
   },
   {
    "duration": 28,
    "start_time": "2024-05-01T04:42:44.303Z"
   },
   {
    "duration": 55,
    "start_time": "2024-05-01T04:42:44.332Z"
   },
   {
    "duration": 4,
    "start_time": "2024-05-01T04:42:44.389Z"
   },
   {
    "duration": 28,
    "start_time": "2024-05-01T04:42:44.395Z"
   },
   {
    "duration": 64,
    "start_time": "2024-05-01T04:42:44.425Z"
   },
   {
    "duration": 5,
    "start_time": "2024-05-01T04:42:44.491Z"
   },
   {
    "duration": 668870,
    "start_time": "2024-05-01T04:42:46.910Z"
   },
   {
    "duration": 29769,
    "start_time": "2024-05-01T04:58:18.419Z"
   },
   {
    "duration": 20190,
    "start_time": "2024-05-01T05:00:08.852Z"
   },
   {
    "duration": 4,
    "start_time": "2024-05-01T05:03:39.972Z"
   },
   {
    "duration": 17,
    "start_time": "2024-05-01T05:04:09.884Z"
   },
   {
    "duration": 26,
    "start_time": "2024-05-01T05:04:12.260Z"
   },
   {
    "duration": 5,
    "start_time": "2024-05-01T05:05:26.217Z"
   },
   {
    "duration": 5,
    "start_time": "2024-05-01T05:05:44.201Z"
   },
   {
    "duration": 7,
    "start_time": "2024-05-01T05:05:54.499Z"
   },
   {
    "duration": 3,
    "start_time": "2024-05-01T05:07:21.262Z"
   },
   {
    "duration": 4,
    "start_time": "2024-05-01T05:07:23.315Z"
   },
   {
    "duration": 24,
    "start_time": "2024-05-01T05:19:46.501Z"
   },
   {
    "duration": 61,
    "start_time": "2024-05-01T05:22:52.871Z"
   },
   {
    "duration": 3,
    "start_time": "2024-05-01T05:23:08.363Z"
   },
   {
    "duration": 10,
    "start_time": "2024-05-01T05:23:10.290Z"
   },
   {
    "duration": 10,
    "start_time": "2024-05-01T05:23:13.306Z"
   },
   {
    "duration": 877,
    "start_time": "2024-05-01T05:26:12.046Z"
   },
   {
    "duration": 118,
    "start_time": "2024-05-01T05:26:58.122Z"
   },
   {
    "duration": 914,
    "start_time": "2024-05-01T05:27:09.311Z"
   },
   {
    "duration": 275,
    "start_time": "2024-05-01T05:27:57.170Z"
   },
   {
    "duration": 14,
    "start_time": "2024-05-01T05:30:27.366Z"
   },
   {
    "duration": 14,
    "start_time": "2024-05-01T05:30:56.317Z"
   },
   {
    "duration": 10,
    "start_time": "2024-05-01T05:31:49.137Z"
   },
   {
    "duration": 57,
    "start_time": "2024-05-01T05:32:31.492Z"
   },
   {
    "duration": 38,
    "start_time": "2024-05-01T05:32:31.552Z"
   },
   {
    "duration": 33,
    "start_time": "2024-05-01T05:32:31.592Z"
   },
   {
    "duration": 11,
    "start_time": "2024-05-01T05:32:35.751Z"
   },
   {
    "duration": 782,
    "start_time": "2024-05-01T05:32:47.759Z"
   },
   {
    "duration": 928,
    "start_time": "2024-05-01T05:33:02.975Z"
   },
   {
    "duration": 363,
    "start_time": "2024-05-01T05:35:16.690Z"
   },
   {
    "duration": 25,
    "start_time": "2024-05-01T05:35:19.674Z"
   },
   {
    "duration": 50,
    "start_time": "2024-05-01T05:36:54.970Z"
   },
   {
    "duration": 23,
    "start_time": "2024-05-01T05:37:41.902Z"
   },
   {
    "duration": 3,
    "start_time": "2024-05-01T05:37:44.549Z"
   },
   {
    "duration": 38,
    "start_time": "2024-05-01T05:37:47.955Z"
   },
   {
    "duration": 21,
    "start_time": "2024-05-01T05:41:27.710Z"
   },
   {
    "duration": 5,
    "start_time": "2024-05-01T05:41:37.282Z"
   },
   {
    "duration": 56336,
    "start_time": "2024-05-01T05:41:39.846Z"
   },
   {
    "duration": 588506,
    "start_time": "2024-05-01T05:42:51.479Z"
   },
   {
    "duration": 6587,
    "start_time": "2024-05-01T06:05:31.112Z"
   },
   {
    "duration": 18399,
    "start_time": "2024-05-01T06:05:46.498Z"
   },
   {
    "duration": 10851,
    "start_time": "2024-05-01T06:06:07.768Z"
   },
   {
    "duration": 4,
    "start_time": "2024-05-01T06:06:21.449Z"
   },
   {
    "duration": 11,
    "start_time": "2024-05-01T06:06:25.370Z"
   },
   {
    "duration": 29,
    "start_time": "2024-05-01T06:06:30.754Z"
   },
   {
    "duration": 6,
    "start_time": "2024-05-01T06:06:35.185Z"
   },
   {
    "duration": 4,
    "start_time": "2024-05-01T06:06:38.451Z"
   },
   {
    "duration": 4,
    "start_time": "2024-05-01T06:06:43.330Z"
   },
   {
    "duration": 2,
    "start_time": "2024-05-01T06:06:46.730Z"
   },
   {
    "duration": 4,
    "start_time": "2024-05-01T06:06:49.001Z"
   },
   {
    "duration": 244212,
    "start_time": "2024-05-01T06:08:33.578Z"
   },
   {
    "duration": 19591,
    "start_time": "2024-05-01T06:12:46.997Z"
   },
   {
    "duration": 1255695,
    "start_time": "2024-05-01T06:15:23.830Z"
   },
   {
    "duration": 70,
    "start_time": "2024-05-01T06:40:38.369Z"
   },
   {
    "duration": 58,
    "start_time": "2024-05-01T06:41:40.415Z"
   },
   {
    "duration": 4,
    "start_time": "2024-05-01T06:41:40.475Z"
   },
   {
    "duration": 11,
    "start_time": "2024-05-01T06:41:40.481Z"
   },
   {
    "duration": 11,
    "start_time": "2024-05-01T06:41:40.493Z"
   },
   {
    "duration": 754,
    "start_time": "2024-05-01T06:41:40.506Z"
   },
   {
    "duration": 362,
    "start_time": "2024-05-01T06:41:41.262Z"
   },
   {
    "duration": 63,
    "start_time": "2024-05-01T06:41:46.531Z"
   },
   {
    "duration": 42,
    "start_time": "2024-05-01T06:41:48.789Z"
   },
   {
    "duration": 12,
    "start_time": "2024-05-01T06:41:58.047Z"
   },
   {
    "duration": 4,
    "start_time": "2024-05-01T06:41:59.733Z"
   },
   {
    "duration": 30,
    "start_time": "2024-05-01T06:42:02.190Z"
   },
   {
    "duration": 19,
    "start_time": "2024-05-01T06:42:06.225Z"
   },
   {
    "duration": 4,
    "start_time": "2024-05-01T06:42:08.817Z"
   },
   {
    "duration": 732466,
    "start_time": "2024-05-01T06:42:11.824Z"
   },
   {
    "duration": 95,
    "start_time": "2024-05-01T07:15:52.769Z"
   },
   {
    "duration": 797,
    "start_time": "2024-05-01T07:16:04.497Z"
   },
   {
    "duration": 1959,
    "start_time": "2024-05-01T07:21:50.598Z"
   },
   {
    "duration": 4,
    "start_time": "2024-05-01T07:22:53.238Z"
   },
   {
    "duration": 13,
    "start_time": "2024-05-01T07:22:55.109Z"
   },
   {
    "duration": 9,
    "start_time": "2024-05-01T07:23:03.429Z"
   },
   {
    "duration": 5,
    "start_time": "2024-05-01T07:23:14.010Z"
   },
   {
    "duration": 4,
    "start_time": "2024-05-01T07:23:16.646Z"
   },
   {
    "duration": 5,
    "start_time": "2024-05-01T07:23:18.590Z"
   },
   {
    "duration": 3,
    "start_time": "2024-05-01T07:23:21.142Z"
   },
   {
    "duration": 4,
    "start_time": "2024-05-01T07:23:22.742Z"
   },
   {
    "duration": 153392,
    "start_time": "2024-05-01T07:24:45.401Z"
   },
   {
    "duration": 92667,
    "start_time": "2024-05-01T07:28:27.314Z"
   },
   {
    "duration": 1232,
    "start_time": "2024-05-01T07:32:26.449Z"
   },
   {
    "duration": 12,
    "start_time": "2024-05-01T07:32:39.084Z"
   },
   {
    "duration": 1261,
    "start_time": "2024-05-01T07:33:10.420Z"
   },
   {
    "duration": 14,
    "start_time": "2024-05-01T07:33:16.759Z"
   },
   {
    "duration": 263934,
    "start_time": "2024-05-01T07:34:09.453Z"
   },
   {
    "duration": 1915,
    "start_time": "2024-05-01T07:39:09.567Z"
   },
   {
    "duration": 10,
    "start_time": "2024-05-01T07:39:19.653Z"
   },
   {
    "duration": 11,
    "start_time": "2024-05-01T07:39:25.470Z"
   },
   {
    "duration": 18,
    "start_time": "2024-05-01T07:39:53.607Z"
   },
   {
    "duration": 41,
    "start_time": "2024-05-01T07:39:55.500Z"
   },
   {
    "duration": 7,
    "start_time": "2024-05-01T07:40:00.704Z"
   },
   {
    "duration": 4,
    "start_time": "2024-05-01T07:40:03.967Z"
   },
   {
    "duration": 30,
    "start_time": "2024-05-01T07:40:06.560Z"
   },
   {
    "duration": 11,
    "start_time": "2024-05-01T07:40:09.367Z"
   },
   {
    "duration": 3,
    "start_time": "2024-05-01T07:40:12.167Z"
   },
   {
    "duration": 90380,
    "start_time": "2024-05-01T07:40:20.815Z"
   },
   {
    "duration": 1365,
    "start_time": "2024-05-01T07:41:56.425Z"
   },
   {
    "duration": 12,
    "start_time": "2024-05-01T07:42:02.827Z"
   },
   {
    "duration": 56,
    "start_time": "2024-05-01T07:43:00.498Z"
   },
   {
    "duration": 37,
    "start_time": "2024-05-01T07:43:02.576Z"
   },
   {
    "duration": 13,
    "start_time": "2024-05-01T07:43:05.848Z"
   },
   {
    "duration": 4,
    "start_time": "2024-05-01T07:43:07.168Z"
   },
   {
    "duration": 30,
    "start_time": "2024-05-01T07:43:09.938Z"
   },
   {
    "duration": 11,
    "start_time": "2024-05-01T07:43:12.514Z"
   },
   {
    "duration": 4,
    "start_time": "2024-05-01T07:43:14.721Z"
   },
   {
    "duration": 126690,
    "start_time": "2024-05-01T07:43:17.202Z"
   },
   {
    "duration": 13,
    "start_time": "2024-05-01T07:48:19.365Z"
   },
   {
    "duration": 10,
    "start_time": "2024-05-01T07:49:31.269Z"
   },
   {
    "duration": 10,
    "start_time": "2024-05-01T07:49:39.725Z"
   },
   {
    "duration": 2201,
    "start_time": "2024-05-01T07:50:24.990Z"
   },
   {
    "duration": 17,
    "start_time": "2024-05-01T07:50:36.277Z"
   },
   {
    "duration": 1669,
    "start_time": "2024-05-01T07:51:13.414Z"
   },
   {
    "duration": 1596,
    "start_time": "2024-05-01T07:51:21.206Z"
   },
   {
    "duration": 8,
    "start_time": "2024-05-01T07:51:25.134Z"
   },
   {
    "duration": 74,
    "start_time": "2024-05-01T07:52:34.562Z"
   },
   {
    "duration": 3,
    "start_time": "2024-05-01T07:52:34.638Z"
   },
   {
    "duration": 19,
    "start_time": "2024-05-01T07:52:34.643Z"
   },
   {
    "duration": 10,
    "start_time": "2024-05-01T07:52:34.664Z"
   },
   {
    "duration": 757,
    "start_time": "2024-05-01T07:52:34.680Z"
   },
   {
    "duration": 251,
    "start_time": "2024-05-01T07:52:35.439Z"
   },
   {
    "duration": 67,
    "start_time": "2024-05-01T07:52:35.691Z"
   },
   {
    "duration": 49,
    "start_time": "2024-05-01T07:52:35.760Z"
   },
   {
    "duration": 10,
    "start_time": "2024-05-01T07:52:35.811Z"
   },
   {
    "duration": 10,
    "start_time": "2024-05-01T07:52:35.822Z"
   },
   {
    "duration": 48,
    "start_time": "2024-05-01T07:52:35.833Z"
   },
   {
    "duration": 24,
    "start_time": "2024-05-01T07:52:35.883Z"
   },
   {
    "duration": 28,
    "start_time": "2024-05-01T07:52:35.909Z"
   },
   {
    "duration": 138744,
    "start_time": "2024-05-01T07:52:35.940Z"
   },
   {
    "duration": 1601,
    "start_time": "2024-05-01T07:54:54.686Z"
   },
   {
    "duration": 3151,
    "start_time": "2024-05-01T07:54:56.289Z"
   },
   {
    "duration": 3,
    "start_time": "2024-05-01T07:54:59.442Z"
   },
   {
    "duration": 18,
    "start_time": "2024-05-01T07:54:59.447Z"
   },
   {
    "duration": 23,
    "start_time": "2024-05-01T07:54:59.466Z"
   },
   {
    "duration": 44,
    "start_time": "2024-05-01T07:54:59.490Z"
   },
   {
    "duration": 28,
    "start_time": "2024-05-01T07:54:59.535Z"
   },
   {
    "duration": 15,
    "start_time": "2024-05-01T07:54:59.565Z"
   },
   {
    "duration": 25,
    "start_time": "2024-05-01T07:54:59.581Z"
   },
   {
    "duration": 18,
    "start_time": "2024-05-01T07:54:59.608Z"
   },
   {
    "duration": 131880,
    "start_time": "2024-05-01T07:55:49.600Z"
   },
   {
    "duration": 1654,
    "start_time": "2024-05-01T07:58:12.538Z"
   },
   {
    "duration": 9,
    "start_time": "2024-05-01T07:58:21.370Z"
   },
   {
    "duration": 1622,
    "start_time": "2024-05-01T15:28:49.224Z"
   },
   {
    "duration": 3,
    "start_time": "2024-05-01T15:28:50.848Z"
   },
   {
    "duration": 25,
    "start_time": "2024-05-01T15:28:50.852Z"
   },
   {
    "duration": 16,
    "start_time": "2024-05-01T15:28:50.878Z"
   },
   {
    "duration": 761,
    "start_time": "2024-05-01T15:28:50.895Z"
   },
   {
    "duration": 288,
    "start_time": "2024-05-01T15:28:51.657Z"
   },
   {
    "duration": 79,
    "start_time": "2024-05-01T15:28:51.947Z"
   },
   {
    "duration": 41,
    "start_time": "2024-05-01T15:28:52.027Z"
   },
   {
    "duration": 14,
    "start_time": "2024-05-01T15:28:52.069Z"
   },
   {
    "duration": 16,
    "start_time": "2024-05-01T15:28:52.085Z"
   },
   {
    "duration": 30,
    "start_time": "2024-05-01T15:28:52.103Z"
   },
   {
    "duration": 14,
    "start_time": "2024-05-01T15:28:52.135Z"
   },
   {
    "duration": 3,
    "start_time": "2024-05-01T15:28:52.151Z"
   },
   {
    "duration": 116207,
    "start_time": "2024-05-01T15:28:52.166Z"
   },
   {
    "duration": 1595,
    "start_time": "2024-05-01T15:30:48.374Z"
   },
   {
    "duration": 2711,
    "start_time": "2024-05-01T15:30:49.971Z"
   },
   {
    "duration": 3,
    "start_time": "2024-05-01T15:30:52.684Z"
   },
   {
    "duration": 34,
    "start_time": "2024-05-01T15:30:52.689Z"
   },
   {
    "duration": 14,
    "start_time": "2024-05-01T15:30:52.724Z"
   },
   {
    "duration": 27,
    "start_time": "2024-05-01T15:30:52.739Z"
   },
   {
    "duration": 16,
    "start_time": "2024-05-01T15:30:52.767Z"
   },
   {
    "duration": 21,
    "start_time": "2024-05-01T15:30:52.785Z"
   },
   {
    "duration": 13,
    "start_time": "2024-05-01T15:30:52.807Z"
   },
   {
    "duration": 13,
    "start_time": "2024-05-01T15:30:52.822Z"
   },
   {
    "duration": 3,
    "start_time": "2024-05-02T16:56:35.189Z"
   },
   {
    "duration": 1648,
    "start_time": "2024-05-02T17:02:47.777Z"
   },
   {
    "duration": 3,
    "start_time": "2024-05-02T17:02:49.427Z"
   },
   {
    "duration": 27,
    "start_time": "2024-05-02T17:02:49.431Z"
   },
   {
    "duration": 8,
    "start_time": "2024-05-02T17:02:49.459Z"
   },
   {
    "duration": 815,
    "start_time": "2024-05-02T17:02:49.469Z"
   },
   {
    "duration": 285,
    "start_time": "2024-05-02T17:02:50.286Z"
   },
   {
    "duration": 23,
    "start_time": "2024-05-02T17:02:50.572Z"
   },
   {
    "duration": 35,
    "start_time": "2024-05-02T17:02:50.596Z"
   },
   {
    "duration": 9,
    "start_time": "2024-05-02T17:02:50.632Z"
   },
   {
    "duration": 4,
    "start_time": "2024-05-02T17:02:50.664Z"
   },
   {
    "duration": 33,
    "start_time": "2024-05-02T17:02:50.669Z"
   },
   {
    "duration": 9,
    "start_time": "2024-05-02T17:02:50.703Z"
   },
   {
    "duration": 4,
    "start_time": "2024-05-02T17:02:50.713Z"
   },
   {
    "duration": 74950,
    "start_time": "2024-05-02T17:02:50.719Z"
   },
   {
    "duration": 908,
    "start_time": "2024-05-02T17:04:05.671Z"
   },
   {
    "duration": 1274,
    "start_time": "2024-05-02T17:04:06.580Z"
   },
   {
    "duration": 5,
    "start_time": "2024-05-02T17:04:07.855Z"
   },
   {
    "duration": 12,
    "start_time": "2024-05-02T17:04:07.861Z"
   },
   {
    "duration": 2,
    "start_time": "2024-05-02T17:04:07.874Z"
   },
   {
    "duration": 8,
    "start_time": "2024-05-02T17:04:07.878Z"
   },
   {
    "duration": 11,
    "start_time": "2024-05-02T17:04:07.887Z"
   },
   {
    "duration": 6,
    "start_time": "2024-05-02T17:04:07.901Z"
   },
   {
    "duration": 56,
    "start_time": "2024-05-02T17:04:07.909Z"
   },
   {
    "duration": 3,
    "start_time": "2024-05-02T17:04:07.966Z"
   },
   {
    "duration": 1708418,
    "start_time": "2024-05-02T17:22:08.316Z"
   },
   {
    "duration": 55,
    "start_time": "2024-05-02T17:52:18.708Z"
   },
   {
    "duration": 2,
    "start_time": "2024-05-02T17:52:18.765Z"
   },
   {
    "duration": 11,
    "start_time": "2024-05-02T17:52:18.769Z"
   },
   {
    "duration": 7,
    "start_time": "2024-05-02T17:52:18.781Z"
   },
   {
    "duration": 725,
    "start_time": "2024-05-02T17:52:18.790Z"
   },
   {
    "duration": 251,
    "start_time": "2024-05-02T17:52:19.516Z"
   },
   {
    "duration": 27,
    "start_time": "2024-05-02T17:52:19.768Z"
   },
   {
    "duration": 138,
    "start_time": "2024-05-02T17:52:19.797Z"
   },
   {
    "duration": 7,
    "start_time": "2024-05-02T17:52:19.936Z"
   },
   {
    "duration": 3,
    "start_time": "2024-05-02T17:52:19.945Z"
   },
   {
    "duration": 42,
    "start_time": "2024-05-02T17:52:19.950Z"
   },
   {
    "duration": 10,
    "start_time": "2024-05-02T17:52:19.993Z"
   },
   {
    "duration": 13,
    "start_time": "2024-05-02T17:52:20.004Z"
   },
   {
    "duration": 951729,
    "start_time": "2024-05-02T17:52:20.020Z"
   },
   {
    "duration": 11,
    "start_time": "2024-05-02T18:08:11.751Z"
   },
   {
    "duration": 0,
    "start_time": "2024-05-02T18:08:11.763Z"
   },
   {
    "duration": 0,
    "start_time": "2024-05-02T18:08:11.765Z"
   },
   {
    "duration": 0,
    "start_time": "2024-05-02T18:08:11.766Z"
   },
   {
    "duration": 0,
    "start_time": "2024-05-02T18:08:11.767Z"
   },
   {
    "duration": 0,
    "start_time": "2024-05-02T18:08:11.769Z"
   },
   {
    "duration": 0,
    "start_time": "2024-05-02T18:08:11.771Z"
   },
   {
    "duration": 0,
    "start_time": "2024-05-02T18:08:11.772Z"
   },
   {
    "duration": 0,
    "start_time": "2024-05-02T18:08:11.773Z"
   },
   {
    "duration": 0,
    "start_time": "2024-05-02T18:08:11.775Z"
   },
   {
    "duration": 773871,
    "start_time": "2024-05-02T18:08:50.202Z"
   },
   {
    "duration": 10,
    "start_time": "2024-05-02T18:23:51.494Z"
   },
   {
    "duration": 1049,
    "start_time": "2024-05-02T18:25:15.119Z"
   },
   {
    "duration": 1191,
    "start_time": "2024-05-02T18:25:42.960Z"
   },
   {
    "duration": 4,
    "start_time": "2024-05-02T18:25:47.440Z"
   },
   {
    "duration": 11,
    "start_time": "2024-05-02T18:25:50.239Z"
   },
   {
    "duration": 56,
    "start_time": "2024-05-02T18:39:43.299Z"
   },
   {
    "duration": 3,
    "start_time": "2024-05-02T18:39:43.357Z"
   },
   {
    "duration": 9,
    "start_time": "2024-05-02T18:39:43.361Z"
   },
   {
    "duration": 20,
    "start_time": "2024-05-02T18:39:43.372Z"
   },
   {
    "duration": 700,
    "start_time": "2024-05-02T18:39:43.394Z"
   },
   {
    "duration": 218,
    "start_time": "2024-05-02T18:39:44.096Z"
   },
   {
    "duration": 23,
    "start_time": "2024-05-02T18:39:44.316Z"
   },
   {
    "duration": 46,
    "start_time": "2024-05-02T18:39:44.340Z"
   },
   {
    "duration": 7,
    "start_time": "2024-05-02T18:39:44.388Z"
   },
   {
    "duration": 3,
    "start_time": "2024-05-02T18:39:44.396Z"
   },
   {
    "duration": 31,
    "start_time": "2024-05-02T18:39:44.401Z"
   },
   {
    "duration": 11,
    "start_time": "2024-05-02T18:39:44.434Z"
   },
   {
    "duration": 3,
    "start_time": "2024-05-02T18:39:44.447Z"
   },
   {
    "duration": 828909,
    "start_time": "2024-05-02T18:39:44.466Z"
   },
   {
    "duration": 2,
    "start_time": "2024-05-02T18:53:33.377Z"
   },
   {
    "duration": 1253,
    "start_time": "2024-05-02T18:53:33.381Z"
   },
   {
    "duration": 4,
    "start_time": "2024-05-02T18:53:34.636Z"
   },
   {
    "duration": 424,
    "start_time": "2024-05-02T18:53:34.642Z"
   },
   {
    "duration": 2,
    "start_time": "2024-05-02T18:53:35.067Z"
   },
   {
    "duration": 9,
    "start_time": "2024-05-02T18:53:35.071Z"
   },
   {
    "duration": 16,
    "start_time": "2024-05-02T18:53:35.081Z"
   },
   {
    "duration": 6,
    "start_time": "2024-05-02T18:53:35.099Z"
   },
   {
    "duration": 6,
    "start_time": "2024-05-02T18:53:35.106Z"
   },
   {
    "duration": 9,
    "start_time": "2024-05-02T18:53:35.113Z"
   },
   {
    "duration": 1175,
    "start_time": "2024-05-02T18:57:13.897Z"
   },
   {
    "duration": 4,
    "start_time": "2024-05-02T18:58:29.190Z"
   },
   {
    "duration": 647,
    "start_time": "2024-05-02T18:58:38.126Z"
   },
   {
    "duration": 582,
    "start_time": "2024-05-02T19:10:40.711Z"
   },
   {
    "duration": 457,
    "start_time": "2024-05-02T19:17:38.075Z"
   },
   {
    "duration": 440,
    "start_time": "2024-05-02T19:18:20.859Z"
   },
   {
    "duration": 162,
    "start_time": "2024-05-02T19:18:31.476Z"
   },
   {
    "duration": 200,
    "start_time": "2024-05-02T19:18:41.555Z"
   },
   {
    "duration": 3,
    "start_time": "2024-05-02T19:39:13.678Z"
   },
   {
    "duration": 2,
    "start_time": "2024-05-02T19:39:16.680Z"
   },
   {
    "duration": 2,
    "start_time": "2024-05-02T19:39:19.185Z"
   },
   {
    "duration": 58,
    "start_time": "2024-05-02T19:41:21.669Z"
   },
   {
    "duration": 3,
    "start_time": "2024-05-02T19:41:21.729Z"
   },
   {
    "duration": 11,
    "start_time": "2024-05-02T19:41:21.733Z"
   },
   {
    "duration": 21,
    "start_time": "2024-05-02T19:41:21.746Z"
   },
   {
    "duration": 720,
    "start_time": "2024-05-02T19:41:21.771Z"
   },
   {
    "duration": 368,
    "start_time": "2024-05-02T19:41:22.493Z"
   },
   {
    "duration": 6,
    "start_time": "2024-05-02T19:41:22.864Z"
   },
   {
    "duration": 6,
    "start_time": "2024-05-02T19:41:22.872Z"
   },
   {
    "duration": 6,
    "start_time": "2024-05-02T19:41:22.879Z"
   },
   {
    "duration": 4,
    "start_time": "2024-05-02T19:41:22.886Z"
   },
   {
    "duration": 5,
    "start_time": "2024-05-02T19:41:22.891Z"
   },
   {
    "duration": 9,
    "start_time": "2024-05-02T19:41:22.898Z"
   },
   {
    "duration": 4,
    "start_time": "2024-05-02T19:41:22.908Z"
   },
   {
    "duration": 228,
    "start_time": "2024-05-02T19:41:22.915Z"
   },
   {
    "duration": 3,
    "start_time": "2024-05-02T19:41:23.145Z"
   },
   {
    "duration": 1310,
    "start_time": "2024-05-02T19:41:23.149Z"
   },
   {
    "duration": 3,
    "start_time": "2024-05-02T19:41:24.461Z"
   },
   {
    "duration": 509,
    "start_time": "2024-05-02T19:41:24.466Z"
   },
   {
    "duration": 2,
    "start_time": "2024-05-02T19:41:24.977Z"
   },
   {
    "duration": 7,
    "start_time": "2024-05-02T19:41:24.981Z"
   },
   {
    "duration": 77,
    "start_time": "2024-05-02T19:41:24.989Z"
   },
   {
    "duration": 33,
    "start_time": "2024-05-02T19:41:25.068Z"
   },
   {
    "duration": 30,
    "start_time": "2024-05-02T19:41:25.103Z"
   },
   {
    "duration": 17,
    "start_time": "2024-05-02T19:41:25.135Z"
   },
   {
    "duration": 212,
    "start_time": "2024-05-02T19:41:25.154Z"
   },
   {
    "duration": 57,
    "start_time": "2024-05-02T19:42:05.406Z"
   },
   {
    "duration": 3,
    "start_time": "2024-05-02T19:42:05.466Z"
   },
   {
    "duration": 16,
    "start_time": "2024-05-02T19:42:05.471Z"
   },
   {
    "duration": 9,
    "start_time": "2024-05-02T19:42:05.489Z"
   },
   {
    "duration": 731,
    "start_time": "2024-05-02T19:42:05.501Z"
   },
   {
    "duration": 223,
    "start_time": "2024-05-02T19:42:06.234Z"
   },
   {
    "duration": 5,
    "start_time": "2024-05-02T19:42:06.464Z"
   },
   {
    "duration": 10,
    "start_time": "2024-05-02T19:42:06.470Z"
   },
   {
    "duration": 7,
    "start_time": "2024-05-02T19:42:06.481Z"
   },
   {
    "duration": 6,
    "start_time": "2024-05-02T19:42:06.489Z"
   },
   {
    "duration": 6,
    "start_time": "2024-05-02T19:42:06.497Z"
   },
   {
    "duration": 22,
    "start_time": "2024-05-02T19:42:06.504Z"
   },
   {
    "duration": 11,
    "start_time": "2024-05-02T19:42:06.528Z"
   },
   {
    "duration": 54,
    "start_time": "2024-05-02T19:42:06.542Z"
   },
   {
    "duration": 3,
    "start_time": "2024-05-02T19:42:06.597Z"
   },
   {
    "duration": 1275,
    "start_time": "2024-05-02T19:42:06.601Z"
   },
   {
    "duration": 4,
    "start_time": "2024-05-02T19:42:07.877Z"
   },
   {
    "duration": 493,
    "start_time": "2024-05-02T19:42:07.882Z"
   },
   {
    "duration": 2,
    "start_time": "2024-05-02T19:42:08.376Z"
   },
   {
    "duration": 5,
    "start_time": "2024-05-02T19:42:08.380Z"
   },
   {
    "duration": 5,
    "start_time": "2024-05-02T19:42:08.386Z"
   },
   {
    "duration": 73,
    "start_time": "2024-05-02T19:42:08.393Z"
   },
   {
    "duration": 3,
    "start_time": "2024-05-02T19:42:08.467Z"
   },
   {
    "duration": 12,
    "start_time": "2024-05-02T19:42:08.472Z"
   },
   {
    "duration": 251,
    "start_time": "2024-05-02T19:42:08.486Z"
   },
   {
    "duration": 57,
    "start_time": "2024-05-02T19:42:49.459Z"
   },
   {
    "duration": 54,
    "start_time": "2024-05-02T19:43:11.967Z"
   },
   {
    "duration": 3,
    "start_time": "2024-05-02T19:43:12.024Z"
   },
   {
    "duration": 11,
    "start_time": "2024-05-02T19:43:12.029Z"
   },
   {
    "duration": 9,
    "start_time": "2024-05-02T19:43:12.042Z"
   },
   {
    "duration": 709,
    "start_time": "2024-05-02T19:43:12.065Z"
   },
   {
    "duration": 324,
    "start_time": "2024-05-02T19:43:12.784Z"
   },
   {
    "duration": 4,
    "start_time": "2024-05-02T19:43:13.110Z"
   },
   {
    "duration": 9,
    "start_time": "2024-05-02T19:43:13.116Z"
   },
   {
    "duration": 4,
    "start_time": "2024-05-02T19:43:13.126Z"
   },
   {
    "duration": 7,
    "start_time": "2024-05-02T19:43:13.131Z"
   },
   {
    "duration": 5,
    "start_time": "2024-05-02T19:43:13.139Z"
   },
   {
    "duration": 4,
    "start_time": "2024-05-02T19:43:13.145Z"
   },
   {
    "duration": 4,
    "start_time": "2024-05-02T19:43:13.150Z"
   },
   {
    "duration": 89,
    "start_time": "2024-05-02T19:43:13.165Z"
   },
   {
    "duration": 3,
    "start_time": "2024-05-02T19:43:13.255Z"
   },
   {
    "duration": 1210,
    "start_time": "2024-05-02T19:43:13.259Z"
   },
   {
    "duration": 4,
    "start_time": "2024-05-02T19:43:14.470Z"
   },
   {
    "duration": 400,
    "start_time": "2024-05-02T19:43:14.475Z"
   },
   {
    "duration": 2,
    "start_time": "2024-05-02T19:43:14.876Z"
   },
   {
    "duration": 5,
    "start_time": "2024-05-02T19:43:14.880Z"
   },
   {
    "duration": 82,
    "start_time": "2024-05-02T19:43:14.886Z"
   },
   {
    "duration": 7,
    "start_time": "2024-05-02T19:43:14.970Z"
   },
   {
    "duration": 4,
    "start_time": "2024-05-02T19:43:14.978Z"
   },
   {
    "duration": 14,
    "start_time": "2024-05-02T19:43:14.983Z"
   },
   {
    "duration": 240,
    "start_time": "2024-05-02T19:43:14.998Z"
   },
   {
    "duration": 54,
    "start_time": "2024-05-02T19:44:58.959Z"
   },
   {
    "duration": 3,
    "start_time": "2024-05-02T19:44:59.015Z"
   },
   {
    "duration": 16,
    "start_time": "2024-05-02T19:44:59.019Z"
   },
   {
    "duration": 9,
    "start_time": "2024-05-02T19:44:59.036Z"
   },
   {
    "duration": 708,
    "start_time": "2024-05-02T19:44:59.047Z"
   },
   {
    "duration": 228,
    "start_time": "2024-05-02T19:44:59.757Z"
   },
   {
    "duration": 5,
    "start_time": "2024-05-02T19:44:59.987Z"
   },
   {
    "duration": 4,
    "start_time": "2024-05-02T19:44:59.993Z"
   },
   {
    "duration": 25,
    "start_time": "2024-05-02T19:44:59.998Z"
   },
   {
    "duration": 49,
    "start_time": "2024-05-02T19:45:00.025Z"
   },
   {
    "duration": 32,
    "start_time": "2024-05-02T19:45:00.075Z"
   },
   {
    "duration": 30,
    "start_time": "2024-05-02T19:45:00.109Z"
   },
   {
    "duration": 36,
    "start_time": "2024-05-02T19:45:00.140Z"
   },
   {
    "duration": 853562,
    "start_time": "2024-05-02T19:45:00.179Z"
   },
   {
    "duration": 3,
    "start_time": "2024-05-02T19:59:13.743Z"
   },
   {
    "duration": 1179,
    "start_time": "2024-05-02T19:59:13.748Z"
   },
   {
    "duration": 3,
    "start_time": "2024-05-02T19:59:14.929Z"
   },
   {
    "duration": 10,
    "start_time": "2024-05-02T19:59:14.934Z"
   },
   {
    "duration": 0,
    "start_time": "2024-05-02T19:59:14.945Z"
   },
   {
    "duration": 0,
    "start_time": "2024-05-02T19:59:14.947Z"
   },
   {
    "duration": 0,
    "start_time": "2024-05-02T19:59:14.948Z"
   },
   {
    "duration": 1,
    "start_time": "2024-05-02T19:59:14.948Z"
   },
   {
    "duration": 0,
    "start_time": "2024-05-02T19:59:14.950Z"
   },
   {
    "duration": 0,
    "start_time": "2024-05-02T19:59:14.951Z"
   },
   {
    "duration": 0,
    "start_time": "2024-05-02T19:59:14.952Z"
   },
   {
    "duration": 94495,
    "start_time": "2024-05-02T20:00:11.831Z"
   },
   {
    "duration": 66,
    "start_time": "2024-05-02T20:01:51.119Z"
   },
   {
    "duration": 3,
    "start_time": "2024-05-02T20:01:51.186Z"
   },
   {
    "duration": 15,
    "start_time": "2024-05-02T20:01:51.191Z"
   },
   {
    "duration": 14,
    "start_time": "2024-05-02T20:01:51.208Z"
   },
   {
    "duration": 823,
    "start_time": "2024-05-02T20:01:51.224Z"
   },
   {
    "duration": 243,
    "start_time": "2024-05-02T20:01:52.049Z"
   },
   {
    "duration": 5,
    "start_time": "2024-05-02T20:01:52.294Z"
   },
   {
    "duration": 20,
    "start_time": "2024-05-02T20:01:52.301Z"
   },
   {
    "duration": 10,
    "start_time": "2024-05-02T20:01:52.323Z"
   },
   {
    "duration": 17,
    "start_time": "2024-05-02T20:01:52.336Z"
   },
   {
    "duration": 18,
    "start_time": "2024-05-02T20:01:52.354Z"
   },
   {
    "duration": 8,
    "start_time": "2024-05-02T20:01:52.373Z"
   },
   {
    "duration": 3,
    "start_time": "2024-05-02T20:01:52.388Z"
   },
   {
    "duration": 909978,
    "start_time": "2024-05-02T20:01:52.393Z"
   },
   {
    "duration": 2,
    "start_time": "2024-05-02T20:17:02.373Z"
   },
   {
    "duration": 1257,
    "start_time": "2024-05-02T20:17:02.377Z"
   },
   {
    "duration": 3,
    "start_time": "2024-05-02T20:17:03.636Z"
   },
   {
    "duration": 334,
    "start_time": "2024-05-02T20:17:03.641Z"
   },
   {
    "duration": 3,
    "start_time": "2024-05-02T20:17:03.976Z"
   },
   {
    "duration": 87,
    "start_time": "2024-05-02T20:17:03.980Z"
   },
   {
    "duration": 0,
    "start_time": "2024-05-02T20:17:04.069Z"
   },
   {
    "duration": 0,
    "start_time": "2024-05-02T20:17:04.070Z"
   },
   {
    "duration": 0,
    "start_time": "2024-05-02T20:17:04.071Z"
   },
   {
    "duration": 0,
    "start_time": "2024-05-02T20:17:04.072Z"
   },
   {
    "duration": 0,
    "start_time": "2024-05-02T20:17:04.073Z"
   },
   {
    "duration": 3,
    "start_time": "2024-05-02T20:22:01.853Z"
   },
   {
    "duration": 35,
    "start_time": "2024-05-02T20:24:13.751Z"
   },
   {
    "duration": 31,
    "start_time": "2024-05-02T20:25:02.175Z"
   },
   {
    "duration": 4,
    "start_time": "2024-05-02T20:25:34.575Z"
   },
   {
    "duration": 13,
    "start_time": "2024-05-02T20:25:36.255Z"
   },
   {
    "duration": 12,
    "start_time": "2024-05-02T20:29:05.586Z"
   },
   {
    "duration": 9,
    "start_time": "2024-05-02T20:29:12.362Z"
   },
   {
    "duration": 5,
    "start_time": "2024-05-02T20:29:19.226Z"
   },
   {
    "duration": 197,
    "start_time": "2024-05-02T20:33:50.445Z"
   },
   {
    "duration": 1507,
    "start_time": "2024-05-02T20:35:40.740Z"
   },
   {
    "duration": 3,
    "start_time": "2024-05-02T20:35:42.249Z"
   },
   {
    "duration": 16,
    "start_time": "2024-05-02T20:35:42.253Z"
   },
   {
    "duration": 8,
    "start_time": "2024-05-02T20:35:42.271Z"
   },
   {
    "duration": 764,
    "start_time": "2024-05-02T20:35:42.280Z"
   },
   {
    "duration": 299,
    "start_time": "2024-05-02T20:35:43.045Z"
   },
   {
    "duration": 5,
    "start_time": "2024-05-02T20:35:43.345Z"
   },
   {
    "duration": 2,
    "start_time": "2024-05-02T20:35:43.364Z"
   },
   {
    "duration": 12,
    "start_time": "2024-05-02T20:35:43.367Z"
   },
   {
    "duration": 20,
    "start_time": "2024-05-02T20:35:43.380Z"
   },
   {
    "duration": 10,
    "start_time": "2024-05-02T20:35:43.402Z"
   },
   {
    "duration": 17,
    "start_time": "2024-05-02T20:35:43.414Z"
   },
   {
    "duration": 11,
    "start_time": "2024-05-02T20:35:43.432Z"
   },
   {
    "duration": 971124,
    "start_time": "2024-05-02T20:35:43.446Z"
   },
   {
    "duration": 3,
    "start_time": "2024-05-02T20:51:54.572Z"
   },
   {
    "duration": 1451,
    "start_time": "2024-05-02T20:51:54.576Z"
   },
   {
    "duration": 4,
    "start_time": "2024-05-02T20:51:56.028Z"
   },
   {
    "duration": 849,
    "start_time": "2024-05-02T20:51:56.034Z"
   },
   {
    "duration": 81,
    "start_time": "2024-05-02T20:51:56.884Z"
   },
   {
    "duration": 3,
    "start_time": "2024-05-02T20:51:56.967Z"
   },
   {
    "duration": 50,
    "start_time": "2024-05-02T20:51:56.972Z"
   },
   {
    "duration": 0,
    "start_time": "2024-05-02T20:51:57.024Z"
   },
   {
    "duration": 1252,
    "start_time": "2024-05-02T20:53:38.562Z"
   },
   {
    "duration": 4,
    "start_time": "2024-05-02T20:54:08.138Z"
   },
   {
    "duration": 495,
    "start_time": "2024-05-02T20:54:21.171Z"
   },
   {
    "duration": 32,
    "start_time": "2024-05-02T20:54:27.602Z"
   },
   {
    "duration": 28,
    "start_time": "2024-05-02T20:54:45.346Z"
   },
   {
    "duration": 190,
    "start_time": "2024-05-02T20:54:57.107Z"
   },
   {
    "duration": 1440,
    "start_time": "2024-05-02T20:57:18.600Z"
   },
   {
    "duration": 3,
    "start_time": "2024-05-02T20:57:20.042Z"
   },
   {
    "duration": 21,
    "start_time": "2024-05-02T20:57:20.047Z"
   },
   {
    "duration": 10,
    "start_time": "2024-05-02T20:57:20.069Z"
   },
   {
    "duration": 763,
    "start_time": "2024-05-02T20:57:20.081Z"
   },
   {
    "duration": 288,
    "start_time": "2024-05-02T20:57:20.846Z"
   },
   {
    "duration": 4,
    "start_time": "2024-05-02T20:57:21.136Z"
   },
   {
    "duration": 14,
    "start_time": "2024-05-02T20:57:21.142Z"
   },
   {
    "duration": 7,
    "start_time": "2024-05-02T20:57:21.157Z"
   },
   {
    "duration": 7,
    "start_time": "2024-05-02T20:57:21.165Z"
   },
   {
    "duration": 11,
    "start_time": "2024-05-02T20:57:21.174Z"
   },
   {
    "duration": 8,
    "start_time": "2024-05-02T20:57:21.186Z"
   },
   {
    "duration": 13,
    "start_time": "2024-05-02T20:57:21.195Z"
   },
   {
    "duration": 904359,
    "start_time": "2024-05-02T20:57:21.210Z"
   },
   {
    "duration": 3,
    "start_time": "2024-05-02T21:12:25.570Z"
   },
   {
    "duration": 1279,
    "start_time": "2024-05-02T21:12:25.574Z"
   },
   {
    "duration": 4,
    "start_time": "2024-05-02T21:12:26.854Z"
   },
   {
    "duration": 316,
    "start_time": "2024-05-02T21:12:26.859Z"
   },
   {
    "duration": 2,
    "start_time": "2024-05-02T21:12:27.176Z"
   },
   {
    "duration": 12,
    "start_time": "2024-05-02T21:12:27.179Z"
   },
   {
    "duration": 100,
    "start_time": "2024-05-02T21:12:27.193Z"
   },
   {
    "duration": 211,
    "start_time": "2024-05-02T21:12:27.295Z"
   }
  ],
  "kernelspec": {
   "display_name": "Python 3 (ipykernel)",
   "language": "python",
   "name": "python3"
  },
  "language_info": {
   "codemirror_mode": {
    "name": "ipython",
    "version": 3
   },
   "file_extension": ".py",
   "mimetype": "text/x-python",
   "name": "python",
   "nbconvert_exporter": "python",
   "pygments_lexer": "ipython3",
   "version": "3.9.5"
  },
  "toc": {
   "base_numbering": 1,
   "nav_menu": {},
   "number_sections": true,
   "sideBar": true,
   "skip_h1_title": true,
   "title_cell": "Содержание",
   "title_sidebar": "Contents",
   "toc_cell": true,
   "toc_position": {},
   "toc_section_display": true,
   "toc_window_display": true
  }
 },
 "nbformat": 4,
 "nbformat_minor": 2
}
