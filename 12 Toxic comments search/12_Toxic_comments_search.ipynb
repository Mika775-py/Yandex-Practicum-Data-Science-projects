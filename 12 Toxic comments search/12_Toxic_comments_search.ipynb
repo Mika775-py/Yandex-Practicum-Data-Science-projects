{
 "cells": [
  {
   "cell_type": "markdown",
   "metadata": {
    "toc": true
   },
   "source": [
    "<h1>Содержание<span class=\"tocSkip\"></span></h1>\n",
    "<div class=\"toc\"><ul class=\"toc-item\"><li><span><a href=\"#Подготовка\" data-toc-modified-id=\"Подготовка-1\"><span class=\"toc-item-num\">1&nbsp;&nbsp;</span>Подготовка</a></span></li><li><span><a href=\"#Обучение\" data-toc-modified-id=\"Обучение-2\"><span class=\"toc-item-num\">2&nbsp;&nbsp;</span>Обучение</a></span></li><li><span><a href=\"#Чек-лист-проверки\" data-toc-modified-id=\"Чек-лист-проверки-3\"><span class=\"toc-item-num\">3&nbsp;&nbsp;</span>Чек-лист проверки</a></span></li></ul></div>"
   ]
  },
  {
   "cell_type": "markdown",
   "metadata": {},
   "source": [
    "# Проект для «Викишоп»"
   ]
  },
  {
   "cell_type": "markdown",
   "metadata": {},
   "source": [
    "Интернет-магазин «Викишоп» запускает новый сервис. Теперь пользователи могут редактировать и дополнять описания товаров, как в вики-сообществах. То есть клиенты предлагают свои правки и комментируют изменения других. Магазину нужен инструмент, который будет искать токсичные комментарии и отправлять их на модерацию. \n",
    "\n",
    "Обучите модель классифицировать комментарии на позитивные и негативные. В вашем распоряжении набор данных с разметкой о токсичности правок.\n",
    "\n",
    "Постройте модель со значением метрики качества *F1* не меньше 0.75. \n",
    "\n",
    "**Инструкция по выполнению проекта**\n",
    "\n",
    "1. Загрузите и подготовьте данные.\n",
    "2. Обучите разные модели. \n",
    "3. Сделайте выводы.\n",
    "\n",
    "Для выполнения проекта применять *BERT* необязательно, но вы можете попробовать.\n",
    "\n",
    "**Описание данных**\n",
    "\n",
    "Данные находятся в файле `toxic_comments.csv`. Столбец *text* в нём содержит текст комментария, а *toxic* — целевой признак."
   ]
  },
  {
   "cell_type": "markdown",
   "metadata": {},
   "source": [
    "## Подготовка"
   ]
  },
  {
   "cell_type": "code",
   "execution_count": 2,
   "metadata": {},
   "outputs": [
    {
     "name": "stdout",
     "output_type": "stream",
     "text": [
      "Requirement already satisfied: pandarallel in /opt/conda/lib/python3.9/site-packages (1.6.5)\n",
      "Requirement already satisfied: pandas>=1 in /opt/conda/lib/python3.9/site-packages (from pandarallel) (1.2.4)\n",
      "Requirement already satisfied: dill>=0.3.1 in /opt/conda/lib/python3.9/site-packages (from pandarallel) (0.3.8)\n",
      "Requirement already satisfied: psutil in /opt/conda/lib/python3.9/site-packages (from pandarallel) (6.0.0)\n",
      "Requirement already satisfied: python-dateutil>=2.7.3 in /opt/conda/lib/python3.9/site-packages (from pandas>=1->pandarallel) (2.8.1)\n",
      "Requirement already satisfied: pytz>=2017.3 in /opt/conda/lib/python3.9/site-packages (from pandas>=1->pandarallel) (2021.1)\n",
      "Requirement already satisfied: numpy>=1.16.5 in /opt/conda/lib/python3.9/site-packages (from pandas>=1->pandarallel) (1.21.1)\n",
      "Requirement already satisfied: six>=1.5 in /opt/conda/lib/python3.9/site-packages (from python-dateutil>=2.7.3->pandas>=1->pandarallel) (1.16.0)\n",
      "Note: you may need to restart the kernel to use updated packages.\n",
      "INFO: Pandarallel will run on 4 workers.\n",
      "INFO: Pandarallel will use Memory file system to transfer data between the main process and workers.\n"
     ]
    }
   ],
   "source": [
    "%pip install pandarallel\n",
    "\n",
    "import re \n",
    "#from pymystem3 import Mystem\n",
    "import warnings\n",
    "\n",
    "\n",
    "\n",
    "import pandas as pd\n",
    "import numpy as np\n",
    "import matplotlib.pyplot as plt\n",
    "\n",
    "\n",
    "#from tqdm import tqdm # библиотека для отображения прогресса\n",
    "from tqdm.notebook import tqdm\n",
    "tqdm.pandas()\n",
    "\n",
    "import nltk\n",
    "from nltk.corpus import stopwords \n",
    "from nltk.corpus import wordnet\n",
    "from nltk.stem import WordNetLemmatizer\n",
    "from nltk.probability import FreqDist\n",
    "\n",
    "from sklearn.feature_extraction.text import TfidfVectorizer\n",
    "from sklearn.model_selection import train_test_split, GridSearchCV\n",
    "from lightgbm import LGBMClassifier\n",
    "from sklearn.linear_model import LogisticRegression\n",
    "from sklearn.ensemble import RandomForestClassifier\n",
    "from sklearn.metrics import confusion_matrix, f1_score\n",
    "\n",
    "\n",
    "from pandarallel import pandarallel   \n",
    "tqdm.pandas(desc=\"progress\")\n",
    "pandarallel.initialize(progress_bar = True)\n",
    "\n",
    "#from wordcloud import WordCloud \n",
    "import matplotlib.pyplot as plt\n",
    "%matplotlib inline"
   ]
  },
  {
   "cell_type": "code",
   "execution_count": 3,
   "metadata": {},
   "outputs": [
    {
     "name": "stderr",
     "output_type": "stream",
     "text": [
      "[nltk_data] Downloading package wordnet to /home/jovyan/nltk_data...\n",
      "[nltk_data]   Package wordnet is already up-to-date!\n",
      "[nltk_data] Downloading package averaged_perceptron_tagger to\n",
      "[nltk_data]     /home/jovyan/nltk_data...\n",
      "[nltk_data]   Unzipping taggers/averaged_perceptron_tagger.zip.\n"
     ]
    },
    {
     "data": {
      "text/plain": [
       "True"
      ]
     },
     "execution_count": 3,
     "metadata": {},
     "output_type": "execute_result"
    }
   ],
   "source": [
    "nltk.download('wordnet')\n",
    "nltk.download('averaged_perceptron_tagger')"
   ]
  },
  {
   "cell_type": "code",
   "execution_count": 4,
   "metadata": {},
   "outputs": [],
   "source": [
    "# Инизиализируем параллельное выполнение операций в Pandas \n",
    "#pandarallel.initialize(progress_bar=True) #постоянно выдает ошибки, поэтому не использую, хотя нужно бы\n",
    "\n",
    "# Задаем количество столбцов, которые будут выводиться при обращении к датафреймам\n",
    "pd.set_option('display.max_columns', None)  \n",
    "\n",
    "# Задаем количество знаков после запятой для всех значений в датафрейме\n",
    "pd.set_option('float_format', '{:.2f}'.format) \n",
    "\n",
    "# Вывести из под комментария перед финальным запуском:\n",
    "# Игнорируем предупреждения о возможных изменения работы функций в будущих версиях в Pandas\n",
    "warnings.filterwarnings(\"ignore\") "
   ]
  },
  {
   "cell_type": "markdown",
   "metadata": {},
   "source": [
    "<b>создаем функции для дальнейшего использования"
   ]
  },
  {
   "cell_type": "code",
   "execution_count": 5,
   "metadata": {},
   "outputs": [],
   "source": [
    "# функция для поиска грубых паттернов в комментариях\n",
    "\n",
    "def find_pattern(text, pattern):\n",
    "    \"\"\"Returns a string containing all words in the pattern\"\"\"\n",
    "    import re\n",
    "    return ' '.join(re.findall(pattern, text.lower()))\n",
    "\n",
    "# функция для поиска длины самого длинного слова в комментарии\n",
    "\n",
    "def get_max_length(text):\n",
    "    \"\"\"Returns the longest word in the text\"\"\"\n",
    "    import numpy as np\n",
    "    if len(text) == 0: return ''\n",
    "    words = text.split()\n",
    "    lengths = [len(w) for w in words]\n",
    "    return words[np.argmax(lengths)]\n",
    "\n",
    "# функция для поиска и применения частей речи для лемматизации\n",
    "def get_wordnet_pos(word):\n",
    "    \"\"\"Map POS tag to first character lemmatize() accepts\"\"\"\n",
    "    tag = nltk.pos_tag([word])[0][1][0].upper()\n",
    "    tag_dict = {\"J\": wordnet.ADJ,\n",
    "                \"N\": wordnet.NOUN,\n",
    "                \"V\": wordnet.VERB,\n",
    "                \"R\": wordnet.ADV}\n",
    "    return tag_dict.get(tag, wordnet.NOUN)\n"
   ]
  },
  {
   "cell_type": "markdown",
   "metadata": {},
   "source": [
    "<b>Знакомство с данными"
   ]
  },
  {
   "cell_type": "code",
   "execution_count": 6,
   "metadata": {},
   "outputs": [],
   "source": [
    "#считываем данные из файла\n",
    "\n",
    "try:\n",
    "    main_df = pd.read_csv('toxic_comments.csv', index_col=[0])\n",
    "except:\n",
    "    main_df = pd.read_csv('/datasets/toxic_comments.csv', index_col=[0])"
   ]
  },
  {
   "cell_type": "code",
   "execution_count": 7,
   "metadata": {},
   "outputs": [
    {
     "data": {
      "text/html": [
       "<div>\n",
       "<style scoped>\n",
       "    .dataframe tbody tr th:only-of-type {\n",
       "        vertical-align: middle;\n",
       "    }\n",
       "\n",
       "    .dataframe tbody tr th {\n",
       "        vertical-align: top;\n",
       "    }\n",
       "\n",
       "    .dataframe thead th {\n",
       "        text-align: right;\n",
       "    }\n",
       "</style>\n",
       "<table border=\"1\" class=\"dataframe\">\n",
       "  <thead>\n",
       "    <tr style=\"text-align: right;\">\n",
       "      <th></th>\n",
       "      <th>text</th>\n",
       "      <th>toxic</th>\n",
       "    </tr>\n",
       "  </thead>\n",
       "  <tbody>\n",
       "    <tr>\n",
       "      <th>0</th>\n",
       "      <td>Explanation\\nWhy the edits made under my usern...</td>\n",
       "      <td>0</td>\n",
       "    </tr>\n",
       "    <tr>\n",
       "      <th>1</th>\n",
       "      <td>D'aww! He matches this background colour I'm s...</td>\n",
       "      <td>0</td>\n",
       "    </tr>\n",
       "    <tr>\n",
       "      <th>2</th>\n",
       "      <td>Hey man, I'm really not trying to edit war. It...</td>\n",
       "      <td>0</td>\n",
       "    </tr>\n",
       "    <tr>\n",
       "      <th>3</th>\n",
       "      <td>\"\\nMore\\nI can't make any real suggestions on ...</td>\n",
       "      <td>0</td>\n",
       "    </tr>\n",
       "    <tr>\n",
       "      <th>4</th>\n",
       "      <td>You, sir, are my hero. Any chance you remember...</td>\n",
       "      <td>0</td>\n",
       "    </tr>\n",
       "  </tbody>\n",
       "</table>\n",
       "</div>"
      ],
      "text/plain": [
       "                                                text  toxic\n",
       "0  Explanation\\nWhy the edits made under my usern...      0\n",
       "1  D'aww! He matches this background colour I'm s...      0\n",
       "2  Hey man, I'm really not trying to edit war. It...      0\n",
       "3  \"\\nMore\\nI can't make any real suggestions on ...      0\n",
       "4  You, sir, are my hero. Any chance you remember...      0"
      ]
     },
     "execution_count": 7,
     "metadata": {},
     "output_type": "execute_result"
    }
   ],
   "source": [
    " main_df.head(5)"
   ]
  },
  {
   "cell_type": "code",
   "execution_count": 8,
   "metadata": {},
   "outputs": [
    {
     "name": "stdout",
     "output_type": "stream",
     "text": [
      "Размер исследуемого набора данных: (159292, 2)\n"
     ]
    }
   ],
   "source": [
    "print(f'Размер исследуемого набора данных: {main_df.shape}')"
   ]
  },
  {
   "cell_type": "code",
   "execution_count": 9,
   "metadata": {},
   "outputs": [
    {
     "data": {
      "text/plain": [
       "0    143106\n",
       "1     16186\n",
       "Name: toxic, dtype: int64"
      ]
     },
     "execution_count": 9,
     "metadata": {},
     "output_type": "execute_result"
    }
   ],
   "source": [
    "#количество токсичных комментариев\n",
    "\n",
    "main_df['toxic'].value_counts()"
   ]
  },
  {
   "cell_type": "code",
   "execution_count": 10,
   "metadata": {},
   "outputs": [
    {
     "data": {
      "image/png": "[encoded data removed]",
      "text/plain": [
       "<Figure size 504x504 with 1 Axes>"
      ]
     },
     "metadata": {},
     "output_type": "display_data"
    }
   ],
   "source": [
    "main_df['toxic'].value_counts().plot(kind='pie', autopct='%.1f', figsize=(7,7))\n",
    "plt.legend(['Позитивный комментарий','Токсичный комментарий'])\n",
    "plt.title('Отношение позитивных комментариев к токсичным');"
   ]
  },
  {
   "cell_type": "markdown",
   "metadata": {},
   "source": [
    "<b>Промежуточный вывод </b>\n",
    "\n",
    "* Язык комментариев - английский\n",
    "* Предоставленные данные имеют дисбаланс классов, токсичных комментариев всего 1/10 часть от общего числа\n",
    "* Всего в данных больше 159 тысяч строк (комментариев)\n",
    "* В строках содержатся cпец.символы, которые необходимо обработать"
   ]
  },
  {
   "cell_type": "code",
   "execution_count": 11,
   "metadata": {},
   "outputs": [],
   "source": [
    "# сделаем копию датасета, чтобы к изначальному можно было обратиться в процессе работы\n",
    "\n",
    "df = main_df.copy(deep=True)"
   ]
  },
  {
   "cell_type": "code",
   "execution_count": 12,
   "metadata": {},
   "outputs": [
    {
     "data": {
      "text/plain": [
       "text     0\n",
       "toxic    0\n",
       "dtype: int64"
      ]
     },
     "execution_count": 12,
     "metadata": {},
     "output_type": "execute_result"
    }
   ],
   "source": [
    "df.isna().sum()"
   ]
  },
  {
   "cell_type": "markdown",
   "metadata": {},
   "source": [
    "данные не содержат пропусков"
   ]
  },
  {
   "cell_type": "code",
   "execution_count": 13,
   "metadata": {},
   "outputs": [
    {
     "data": {
      "text/plain": [
       "0"
      ]
     },
     "execution_count": 13,
     "metadata": {},
     "output_type": "execute_result"
    }
   ],
   "source": [
    "df.duplicated().sum()"
   ]
  },
  {
   "cell_type": "markdown",
   "metadata": {},
   "source": [
    "данные не содержат дубликатов"
   ]
  },
  {
   "cell_type": "code",
   "execution_count": 14,
   "metadata": {},
   "outputs": [
    {
     "data": {
      "text/html": [
       "<div>\n",
       "<style scoped>\n",
       "    .dataframe tbody tr th:only-of-type {\n",
       "        vertical-align: middle;\n",
       "    }\n",
       "\n",
       "    .dataframe tbody tr th {\n",
       "        vertical-align: top;\n",
       "    }\n",
       "\n",
       "    .dataframe thead th {\n",
       "        text-align: right;\n",
       "    }\n",
       "</style>\n",
       "<table border=\"1\" class=\"dataframe\">\n",
       "  <thead>\n",
       "    <tr style=\"text-align: right;\">\n",
       "      <th></th>\n",
       "      <th>text</th>\n",
       "      <th>toxic</th>\n",
       "      <th>longest_word</th>\n",
       "    </tr>\n",
       "  </thead>\n",
       "  <tbody>\n",
       "    <tr>\n",
       "      <th>0</th>\n",
       "      <td>Explanation\\nWhy the edits made under my usern...</td>\n",
       "      <td>0</td>\n",
       "      <td>now.89.205.38.27</td>\n",
       "    </tr>\n",
       "    <tr>\n",
       "      <th>1</th>\n",
       "      <td>D'aww! He matches this background colour I'm s...</td>\n",
       "      <td>0</td>\n",
       "      <td>background</td>\n",
       "    </tr>\n",
       "    <tr>\n",
       "      <th>2</th>\n",
       "      <td>Hey man, I'm really not trying to edit war. It...</td>\n",
       "      <td>0</td>\n",
       "      <td>information</td>\n",
       "    </tr>\n",
       "    <tr>\n",
       "      <th>3</th>\n",
       "      <td>\"\\nMore\\nI can't make any real suggestions on ...</td>\n",
       "      <td>0</td>\n",
       "      <td>Wikipedia:Good_article_nominations#Transport</td>\n",
       "    </tr>\n",
       "    <tr>\n",
       "      <th>4</th>\n",
       "      <td>You, sir, are my hero. Any chance you remember...</td>\n",
       "      <td>0</td>\n",
       "      <td>remember</td>\n",
       "    </tr>\n",
       "  </tbody>\n",
       "</table>\n",
       "</div>"
      ],
      "text/plain": [
       "                                                text  toxic  \\\n",
       "0  Explanation\\nWhy the edits made under my usern...      0   \n",
       "1  D'aww! He matches this background colour I'm s...      0   \n",
       "2  Hey man, I'm really not trying to edit war. It...      0   \n",
       "3  \"\\nMore\\nI can't make any real suggestions on ...      0   \n",
       "4  You, sir, are my hero. Any chance you remember...      0   \n",
       "\n",
       "                                   longest_word  \n",
       "0                              now.89.205.38.27  \n",
       "1                                    background  \n",
       "2                                   information  \n",
       "3  Wikipedia:Good_article_nominations#Transport  \n",
       "4                                      remember  "
      ]
     },
     "execution_count": 14,
     "metadata": {},
     "output_type": "execute_result"
    }
   ],
   "source": [
    "df[ 'longest_word'] = df.text.apply(get_max_length)\n",
    "df.head()"
   ]
  },
  {
   "cell_type": "code",
   "execution_count": 15,
   "metadata": {},
   "outputs": [
    {
     "data": {
      "text/html": [
       "<div>\n",
       "<style scoped>\n",
       "    .dataframe tbody tr th:only-of-type {\n",
       "        vertical-align: middle;\n",
       "    }\n",
       "\n",
       "    .dataframe tbody tr th {\n",
       "        vertical-align: top;\n",
       "    }\n",
       "\n",
       "    .dataframe thead th {\n",
       "        text-align: right;\n",
       "    }\n",
       "</style>\n",
       "<table border=\"1\" class=\"dataframe\">\n",
       "  <thead>\n",
       "    <tr style=\"text-align: right;\">\n",
       "      <th></th>\n",
       "      <th>text</th>\n",
       "      <th>toxic</th>\n",
       "      <th>longest_word</th>\n",
       "      <th>max_word_length</th>\n",
       "    </tr>\n",
       "  </thead>\n",
       "  <tbody>\n",
       "    <tr>\n",
       "      <th>38614</th>\n",
       "      <td>Hate you \\n\\ni;uhbsirtubgyihihlkjngkjbnkgjnbkj...</td>\n",
       "      <td>1</td>\n",
       "      <td>i;uhbsirtubgyihihlkjngkjbnkgjnbkjfgnbknfgjkbnk...</td>\n",
       "      <td>4958</td>\n",
       "    </tr>\n",
       "    <tr>\n",
       "      <th>11786</th>\n",
       "      <td>==U R GAY== \\n\\nFUCKFUCKFUCKFUCKFUCKFUCKFUCKFU...</td>\n",
       "      <td>1</td>\n",
       "      <td>FUCKFUCKFUCKFUCKFUCKFUCKFUCKFUCKFUCKFUCKFUCKFU...</td>\n",
       "      <td>4955</td>\n",
       "    </tr>\n",
       "    <tr>\n",
       "      <th>115507</th>\n",
       "      <td>Feel the might of Cyber Apocalypse! \\n\\nyyyyyy...</td>\n",
       "      <td>0</td>\n",
       "      <td>yyyyyyyyyyyyyyybvgtfrrrrrbyyyyyyyyyyyyyyyyyyyy...</td>\n",
       "      <td>4931</td>\n",
       "    </tr>\n",
       "    <tr>\n",
       "      <th>90224</th>\n",
       "      <td>I shall purge this web site of the weak! \\n\\nh...</td>\n",
       "      <td>1</td>\n",
       "      <td>hyyuyuyuyuyuyuyuyuyuyuyuyuyuyuyuyuyuyuyuyuyuyu...</td>\n",
       "      <td>4926</td>\n",
       "    </tr>\n",
       "    <tr>\n",
       "      <th>36065</th>\n",
       "      <td>Death To Wikipedia! Down with free Speach! \\n\\...</td>\n",
       "      <td>1</td>\n",
       "      <td>hjyunnnnnnnnnnnnnnnnnnnnnnnnnnnnnnnnnnnnnnnnnn...</td>\n",
       "      <td>4924</td>\n",
       "    </tr>\n",
       "    <tr>\n",
       "      <th>101286</th>\n",
       "      <td>Gaaaaaaaaaaaaaaaaaaaaaaaaay! U r fucking gaey!...</td>\n",
       "      <td>1</td>\n",
       "      <td>Gaaaaaaaaaaaaaaaaaaaaaaaaaaaaaaaaaaaaaaaaaaaaa...</td>\n",
       "      <td>4920</td>\n",
       "    </tr>\n",
       "    <tr>\n",
       "      <th>105646</th>\n",
       "      <td>Your Web Site is As useless to the public as i...</td>\n",
       "      <td>1</td>\n",
       "      <td>tytytytytytytytytytytytytytytytytytytytytytyty...</td>\n",
       "      <td>4876</td>\n",
       "    </tr>\n",
       "    <tr>\n",
       "      <th>85135</th>\n",
       "      <td>Lolapaloozas Preachy Fuck Award \\n\\nGiven for ...</td>\n",
       "      <td>1</td>\n",
       "      <td>http://en.wikipedia.org/wiki/User_talk:AntiVMa...</td>\n",
       "      <td>4840</td>\n",
       "    </tr>\n",
       "    <tr>\n",
       "      <th>135759</th>\n",
       "      <td>why don't you suck my ass until your lips blee...</td>\n",
       "      <td>1</td>\n",
       "      <td>AGAIN!!!!!!!!!!!!!!!!!!!!!!!!!!!!!!!!!!!!!!!!!...</td>\n",
       "      <td>4819</td>\n",
       "    </tr>\n",
       "    <tr>\n",
       "      <th>40809</th>\n",
       "      <td>Discussion destroying CRAP topic \\n\\nIt seems ...</td>\n",
       "      <td>1</td>\n",
       "      <td>CRAPCRAPCRAPCRAPCRAPCRAPCRAPCRAPCRAPCRAPCRAPCR...</td>\n",
       "      <td>4702</td>\n",
       "    </tr>\n",
       "  </tbody>\n",
       "</table>\n",
       "</div>"
      ],
      "text/plain": [
       "                                                     text  toxic  \\\n",
       "38614   Hate you \\n\\ni;uhbsirtubgyihihlkjngkjbnkgjnbkj...      1   \n",
       "11786   ==U R GAY== \\n\\nFUCKFUCKFUCKFUCKFUCKFUCKFUCKFU...      1   \n",
       "115507  Feel the might of Cyber Apocalypse! \\n\\nyyyyyy...      0   \n",
       "90224   I shall purge this web site of the weak! \\n\\nh...      1   \n",
       "36065   Death To Wikipedia! Down with free Speach! \\n\\...      1   \n",
       "101286  Gaaaaaaaaaaaaaaaaaaaaaaaaay! U r fucking gaey!...      1   \n",
       "105646  Your Web Site is As useless to the public as i...      1   \n",
       "85135   Lolapaloozas Preachy Fuck Award \\n\\nGiven for ...      1   \n",
       "135759  why don't you suck my ass until your lips blee...      1   \n",
       "40809   Discussion destroying CRAP topic \\n\\nIt seems ...      1   \n",
       "\n",
       "                                             longest_word  max_word_length  \n",
       "38614   i;uhbsirtubgyihihlkjngkjbnkgjnbkjfgnbknfgjkbnk...             4958  \n",
       "11786   FUCKFUCKFUCKFUCKFUCKFUCKFUCKFUCKFUCKFUCKFUCKFU...             4955  \n",
       "115507  yyyyyyyyyyyyyyybvgtfrrrrrbyyyyyyyyyyyyyyyyyyyy...             4931  \n",
       "90224   hyyuyuyuyuyuyuyuyuyuyuyuyuyuyuyuyuyuyuyuyuyuyu...             4926  \n",
       "36065   hjyunnnnnnnnnnnnnnnnnnnnnnnnnnnnnnnnnnnnnnnnnn...             4924  \n",
       "101286  Gaaaaaaaaaaaaaaaaaaaaaaaaaaaaaaaaaaaaaaaaaaaaa...             4920  \n",
       "105646  tytytytytytytytytytytytytytytytytytytytytytyty...             4876  \n",
       "85135   http://en.wikipedia.org/wiki/User_talk:AntiVMa...             4840  \n",
       "135759  AGAIN!!!!!!!!!!!!!!!!!!!!!!!!!!!!!!!!!!!!!!!!!...             4819  \n",
       "40809   CRAPCRAPCRAPCRAPCRAPCRAPCRAPCRAPCRAPCRAPCRAPCR...             4702  "
      ]
     },
     "execution_count": 15,
     "metadata": {},
     "output_type": "execute_result"
    }
   ],
   "source": [
    "df['max_word_length'] = df.longest_word.str.len()\n",
    "df.sort_values(by='max_word_length', ascending=False).head(10)"
   ]
  },
  {
   "cell_type": "code",
   "execution_count": 16,
   "metadata": {},
   "outputs": [
    {
     "data": {
      "text/plain": [
       "count   159292.00\n",
       "mean       393.69\n",
       "std        590.11\n",
       "min          5.00\n",
       "25%         95.00\n",
       "50%        205.00\n",
       "75%        435.00\n",
       "max       5000.00\n",
       "Name: length, dtype: float64"
      ]
     },
     "execution_count": 16,
     "metadata": {},
     "output_type": "execute_result"
    }
   ],
   "source": [
    "#длина сообщений \n",
    "df['length'] = df.text.str.len()\n",
    "df.length.describe()"
   ]
  },
  {
   "cell_type": "code",
   "execution_count": 17,
   "metadata": {},
   "outputs": [
    {
     "data": {
      "text/plain": [
       "count   159292.00\n",
       "mean        67.21\n",
       "std         99.13\n",
       "min          1.00\n",
       "25%         17.00\n",
       "50%         36.00\n",
       "75%         75.00\n",
       "max       1411.00\n",
       "Name: n_words, dtype: float64"
      ]
     },
     "execution_count": 17,
     "metadata": {},
     "output_type": "execute_result"
    }
   ],
   "source": [
    "# количество слов в комментариях\n",
    "df['n_words'] = df.text.apply(lambda x: len(x.split()))\n",
    "df.n_words.describe()"
   ]
  },
  {
   "cell_type": "code",
   "execution_count": 18,
   "metadata": {},
   "outputs": [
    {
     "data": {
      "text/html": [
       "<div>\n",
       "<style scoped>\n",
       "    .dataframe tbody tr th:only-of-type {\n",
       "        vertical-align: middle;\n",
       "    }\n",
       "\n",
       "    .dataframe tbody tr th {\n",
       "        vertical-align: top;\n",
       "    }\n",
       "\n",
       "    .dataframe thead th {\n",
       "        text-align: right;\n",
       "    }\n",
       "</style>\n",
       "<table border=\"1\" class=\"dataframe\">\n",
       "  <thead>\n",
       "    <tr style=\"text-align: right;\">\n",
       "      <th></th>\n",
       "      <th>text</th>\n",
       "      <th>toxic</th>\n",
       "      <th>longest_word</th>\n",
       "      <th>max_word_length</th>\n",
       "      <th>length</th>\n",
       "      <th>n_words</th>\n",
       "    </tr>\n",
       "  </thead>\n",
       "  <tbody>\n",
       "    <tr>\n",
       "      <th>0</th>\n",
       "      <td>Explanation\\nWhy the edits made under my usern...</td>\n",
       "      <td>0</td>\n",
       "      <td>now.89.205.38.27</td>\n",
       "      <td>16</td>\n",
       "      <td>264</td>\n",
       "      <td>43</td>\n",
       "    </tr>\n",
       "    <tr>\n",
       "      <th>1</th>\n",
       "      <td>D'aww! He matches this background colour I'm s...</td>\n",
       "      <td>0</td>\n",
       "      <td>background</td>\n",
       "      <td>10</td>\n",
       "      <td>112</td>\n",
       "      <td>17</td>\n",
       "    </tr>\n",
       "    <tr>\n",
       "      <th>2</th>\n",
       "      <td>Hey man, I'm really not trying to edit war. It...</td>\n",
       "      <td>0</td>\n",
       "      <td>information</td>\n",
       "      <td>11</td>\n",
       "      <td>233</td>\n",
       "      <td>42</td>\n",
       "    </tr>\n",
       "    <tr>\n",
       "      <th>3</th>\n",
       "      <td>\"\\nMore\\nI can't make any real suggestions on ...</td>\n",
       "      <td>0</td>\n",
       "      <td>Wikipedia:Good_article_nominations#Transport</td>\n",
       "      <td>44</td>\n",
       "      <td>622</td>\n",
       "      <td>113</td>\n",
       "    </tr>\n",
       "    <tr>\n",
       "      <th>4</th>\n",
       "      <td>You, sir, are my hero. Any chance you remember...</td>\n",
       "      <td>0</td>\n",
       "      <td>remember</td>\n",
       "      <td>8</td>\n",
       "      <td>67</td>\n",
       "      <td>13</td>\n",
       "    </tr>\n",
       "  </tbody>\n",
       "</table>\n",
       "</div>"
      ],
      "text/plain": [
       "                                                text  toxic  \\\n",
       "0  Explanation\\nWhy the edits made under my usern...      0   \n",
       "1  D'aww! He matches this background colour I'm s...      0   \n",
       "2  Hey man, I'm really not trying to edit war. It...      0   \n",
       "3  \"\\nMore\\nI can't make any real suggestions on ...      0   \n",
       "4  You, sir, are my hero. Any chance you remember...      0   \n",
       "\n",
       "                                   longest_word  max_word_length  length  \\\n",
       "0                              now.89.205.38.27               16     264   \n",
       "1                                    background               10     112   \n",
       "2                                   information               11     233   \n",
       "3  Wikipedia:Good_article_nominations#Transport               44     622   \n",
       "4                                      remember                8      67   \n",
       "\n",
       "   n_words  \n",
       "0       43  \n",
       "1       17  \n",
       "2       42  \n",
       "3      113  \n",
       "4       13  "
      ]
     },
     "execution_count": 18,
     "metadata": {},
     "output_type": "execute_result"
    }
   ],
   "source": [
    "df.head()"
   ]
  },
  {
   "cell_type": "code",
   "execution_count": 19,
   "metadata": {},
   "outputs": [
    {
     "name": "stdout",
     "output_type": "stream",
     "text": [
      "<class 'pandas.core.frame.DataFrame'>\n",
      "Int64Index: 35 entries, 11786 to 144837\n",
      "Data columns (total 6 columns):\n",
      " #   Column           Non-Null Count  Dtype \n",
      "---  ------           --------------  ----- \n",
      " 0   text             35 non-null     object\n",
      " 1   toxic            35 non-null     int64 \n",
      " 2   longest_word     35 non-null     object\n",
      " 3   max_word_length  35 non-null     int64 \n",
      " 4   length           35 non-null     int64 \n",
      " 5   n_words          35 non-null     int64 \n",
      "dtypes: int64(4), object(2)\n",
      "memory usage: 1.9+ KB\n"
     ]
    },
    {
     "data": {
      "text/plain": [
       "1    20\n",
       "0    15\n",
       "Name: toxic, dtype: int64"
      ]
     },
     "execution_count": 19,
     "metadata": {},
     "output_type": "execute_result"
    }
   ],
   "source": [
    "#посмотрим сочетаются ли сверхдлинные слова с токсичностью, положим, что \"сверхдиннные\" слова - это слова от 400 символов\n",
    "df_1 = df[df['max_word_length'] > 400]\n",
    "df_1.info()\n",
    "df_1['toxic'].value_counts()\n",
    "#display(df[df.toxic == 1]['length'].describe())\n"
   ]
  },
  {
   "cell_type": "markdown",
   "metadata": {},
   "source": [
    "Вывод: больше половины из комментариев, содержащих сверхдлинные слова, токсичны, но их общее количество невелико, поэтому нельзя однозначно сказать ,что сверхдлинные слова сочетаются с токсичностью. Далее мы создадим паттерн с некоторыми грубыми лексемами, создадим признаки на его основе и изучим соответствие наличия грубости токсичности сообщения."
   ]
  },
  {
   "cell_type": "markdown",
   "metadata": {},
   "source": [
    "<b>Паттерн грубости"
   ]
  },
  {
   "cell_type": "code",
   "execution_count": 20,
   "metadata": {},
   "outputs": [
    {
     "name": "stdout",
     "output_type": "stream",
     "text": [
      "Done\n"
     ]
    }
   ],
   "source": [
    "rudeness_pattern = re.compile(r'bitch|crap|gay|fuck|fuk|fucking|cunt|basta|puke|vomit|boner|sod off|bugger|tosser| cock|nigger|nigga|hate you|piss off|shut up|suck|shit|damn|dick|twat|queer|faggot|jerk|buttocs|dumb|bloody')\n",
    "df['rude'] = df.text.apply(find_pattern, pattern=rudeness_pattern)\n",
    "df['rudeness'] = df.rude.apply(lambda x: len(x) > 0)\n",
    "print('Done')"
   ]
  },
  {
   "cell_type": "code",
   "execution_count": 21,
   "metadata": {},
   "outputs": [
    {
     "data": {
      "text/html": [
       "<div>\n",
       "<style scoped>\n",
       "    .dataframe tbody tr th:only-of-type {\n",
       "        vertical-align: middle;\n",
       "    }\n",
       "\n",
       "    .dataframe tbody tr th {\n",
       "        vertical-align: top;\n",
       "    }\n",
       "\n",
       "    .dataframe thead th {\n",
       "        text-align: right;\n",
       "    }\n",
       "</style>\n",
       "<table border=\"1\" class=\"dataframe\">\n",
       "  <thead>\n",
       "    <tr style=\"text-align: right;\">\n",
       "      <th></th>\n",
       "      <th>text</th>\n",
       "      <th>toxic</th>\n",
       "      <th>longest_word</th>\n",
       "      <th>max_word_length</th>\n",
       "      <th>length</th>\n",
       "      <th>n_words</th>\n",
       "      <th>rude</th>\n",
       "      <th>rudeness</th>\n",
       "    </tr>\n",
       "  </thead>\n",
       "  <tbody>\n",
       "    <tr>\n",
       "      <th>48241</th>\n",
       "      <td>VOMIT VOMIT VOMIT VOMIT VOMIT VOMIT VOMIT VOMI...</td>\n",
       "      <td>1</td>\n",
       "      <td>VOMIT</td>\n",
       "      <td>5</td>\n",
       "      <td>1289</td>\n",
       "      <td>215</td>\n",
       "      <td>vomit vomit vomit vomit vomit vomit vomit vomi...</td>\n",
       "      <td>True</td>\n",
       "    </tr>\n",
       "    <tr>\n",
       "      <th>41579</th>\n",
       "      <td>\"\\nI agree, we could do better, and the ideal ...</td>\n",
       "      <td>0</td>\n",
       "      <td>tasteful/better</td>\n",
       "      <td>15</td>\n",
       "      <td>675</td>\n",
       "      <td>121</td>\n",
       "      <td>vomit vomit vomit</td>\n",
       "      <td>True</td>\n",
       "    </tr>\n",
       "    <tr>\n",
       "      <th>63413</th>\n",
       "      <td>im a vomit lover \\n\\nyourname\\n\\ni love it whe...</td>\n",
       "      <td>1</td>\n",
       "      <td>yourname</td>\n",
       "      <td>8</td>\n",
       "      <td>61</td>\n",
       "      <td>13</td>\n",
       "      <td>vomit vomit</td>\n",
       "      <td>True</td>\n",
       "    </tr>\n",
       "    <tr>\n",
       "      <th>51921</th>\n",
       "      <td>SMELL MY ARSE\\n\\nPROJECTILE VOMIT INTO MY GAPI...</td>\n",
       "      <td>1</td>\n",
       "      <td>PROJECTILE</td>\n",
       "      <td>10</td>\n",
       "      <td>90</td>\n",
       "      <td>15</td>\n",
       "      <td>vomit shit</td>\n",
       "      <td>True</td>\n",
       "    </tr>\n",
       "    <tr>\n",
       "      <th>18086</th>\n",
       "      <td>You swine. You vulgar little maggot. You worth...</td>\n",
       "      <td>1</td>\n",
       "      <td>Dehydrated-rock-hard</td>\n",
       "      <td>20</td>\n",
       "      <td>4858</td>\n",
       "      <td>833</td>\n",
       "      <td>vomit jerk suck puke bloody bugger tosser  coc...</td>\n",
       "      <td>True</td>\n",
       "    </tr>\n",
       "    <tr>\n",
       "      <th>112837</th>\n",
       "      <td>Pretty sure they farted on the monster until i...</td>\n",
       "      <td>1</td>\n",
       "      <td>monster</td>\n",
       "      <td>7</td>\n",
       "      <td>100</td>\n",
       "      <td>19</td>\n",
       "      <td>vomit fuck</td>\n",
       "      <td>True</td>\n",
       "    </tr>\n",
       "    <tr>\n",
       "      <th>45113</th>\n",
       "      <td>HELp SIR\\nTHE MARXIST CHRISTIAN SICKOS ARE BAC...</td>\n",
       "      <td>1</td>\n",
       "      <td>SMARTERCHILDTHREE</td>\n",
       "      <td>17</td>\n",
       "      <td>675</td>\n",
       "      <td>109</td>\n",
       "      <td>vomit crap</td>\n",
       "      <td>True</td>\n",
       "    </tr>\n",
       "    <tr>\n",
       "      <th>7071</th>\n",
       "      <td>Makes me want to vomit\\nThe way they're hand h...</td>\n",
       "      <td>0</td>\n",
       "      <td>especially</td>\n",
       "      <td>10</td>\n",
       "      <td>367</td>\n",
       "      <td>67</td>\n",
       "      <td>vomit crap</td>\n",
       "      <td>True</td>\n",
       "    </tr>\n",
       "    <tr>\n",
       "      <th>131524</th>\n",
       "      <td>I will force you to eat dog poop. \\n\\nIt will ...</td>\n",
       "      <td>1</td>\n",
       "      <td>watching</td>\n",
       "      <td>8</td>\n",
       "      <td>117</td>\n",
       "      <td>24</td>\n",
       "      <td>vomit crap</td>\n",
       "      <td>True</td>\n",
       "    </tr>\n",
       "    <tr>\n",
       "      <th>14425</th>\n",
       "      <td>\"\\n\\n Remedies \\n\\nThese were removed from the...</td>\n",
       "      <td>0</td>\n",
       "      <td>gluconeogenesis.</td>\n",
       "      <td>16</td>\n",
       "      <td>4417</td>\n",
       "      <td>684</td>\n",
       "      <td>vomit bloody</td>\n",
       "      <td>True</td>\n",
       "    </tr>\n",
       "  </tbody>\n",
       "</table>\n",
       "</div>"
      ],
      "text/plain": [
       "                                                     text  toxic  \\\n",
       "48241   VOMIT VOMIT VOMIT VOMIT VOMIT VOMIT VOMIT VOMI...      1   \n",
       "41579   \"\\nI agree, we could do better, and the ideal ...      0   \n",
       "63413   im a vomit lover \\n\\nyourname\\n\\ni love it whe...      1   \n",
       "51921   SMELL MY ARSE\\n\\nPROJECTILE VOMIT INTO MY GAPI...      1   \n",
       "18086   You swine. You vulgar little maggot. You worth...      1   \n",
       "112837  Pretty sure they farted on the monster until i...      1   \n",
       "45113   HELp SIR\\nTHE MARXIST CHRISTIAN SICKOS ARE BAC...      1   \n",
       "7071    Makes me want to vomit\\nThe way they're hand h...      0   \n",
       "131524  I will force you to eat dog poop. \\n\\nIt will ...      1   \n",
       "14425   \"\\n\\n Remedies \\n\\nThese were removed from the...      0   \n",
       "\n",
       "                longest_word  max_word_length  length  n_words  \\\n",
       "48241                  VOMIT                5    1289      215   \n",
       "41579        tasteful/better               15     675      121   \n",
       "63413               yourname                8      61       13   \n",
       "51921             PROJECTILE               10      90       15   \n",
       "18086   Dehydrated-rock-hard               20    4858      833   \n",
       "112837               monster                7     100       19   \n",
       "45113      SMARTERCHILDTHREE               17     675      109   \n",
       "7071              especially               10     367       67   \n",
       "131524              watching                8     117       24   \n",
       "14425       gluconeogenesis.               16    4417      684   \n",
       "\n",
       "                                                     rude  rudeness  \n",
       "48241   vomit vomit vomit vomit vomit vomit vomit vomi...      True  \n",
       "41579                                   vomit vomit vomit      True  \n",
       "63413                                         vomit vomit      True  \n",
       "51921                                          vomit shit      True  \n",
       "18086   vomit jerk suck puke bloody bugger tosser  coc...      True  \n",
       "112837                                         vomit fuck      True  \n",
       "45113                                          vomit crap      True  \n",
       "7071                                           vomit crap      True  \n",
       "131524                                         vomit crap      True  \n",
       "14425                                        vomit bloody      True  "
      ]
     },
     "execution_count": 21,
     "metadata": {},
     "output_type": "execute_result"
    }
   ],
   "source": [
    "df.sort_values(by='rude', ascending=False).head(10)"
   ]
  },
  {
   "cell_type": "code",
   "execution_count": 22,
   "metadata": {},
   "outputs": [
    {
     "data": {
      "text/plain": [
       "False    147434\n",
       "True      11858\n",
       "Name: rudeness, dtype: int64"
      ]
     },
     "execution_count": 22,
     "metadata": {},
     "output_type": "execute_result"
    }
   ],
   "source": [
    "df['rudeness'].value_counts()"
   ]
  },
  {
   "cell_type": "code",
   "execution_count": 23,
   "metadata": {},
   "outputs": [
    {
     "name": "stdout",
     "output_type": "stream",
     "text": [
      "<class 'pandas.core.frame.DataFrame'>\n",
      "Int64Index: 11858 entries, 6 to 159434\n",
      "Data columns (total 8 columns):\n",
      " #   Column           Non-Null Count  Dtype \n",
      "---  ------           --------------  ----- \n",
      " 0   text             11858 non-null  object\n",
      " 1   toxic            11858 non-null  int64 \n",
      " 2   longest_word     11858 non-null  object\n",
      " 3   max_word_length  11858 non-null  int64 \n",
      " 4   length           11858 non-null  int64 \n",
      " 5   n_words          11858 non-null  int64 \n",
      " 6   rude             11858 non-null  object\n",
      " 7   rudeness         11858 non-null  bool  \n",
      "dtypes: bool(1), int64(4), object(3)\n",
      "memory usage: 752.7+ KB\n"
     ]
    }
   ],
   "source": [
    "df_2 = df[df['rude'] != ''] #датасет с грубыми комментариями\n",
    "df_2.info()"
   ]
  },
  {
   "cell_type": "code",
   "execution_count": 24,
   "metadata": {},
   "outputs": [
    {
     "data": {
      "text/plain": [
       "1    8914\n",
       "0    2944\n",
       "Name: toxic, dtype: int64"
      ]
     },
     "execution_count": 24,
     "metadata": {},
     "output_type": "execute_result"
    }
   ],
   "source": [
    "df_2['toxic'].value_counts() #токсичных грубых комментариев"
   ]
  },
  {
   "cell_type": "code",
   "execution_count": 25,
   "metadata": {},
   "outputs": [],
   "source": [
    "df_3 = df[df['rude'] == '']  #датасет БЕЗ грубых комментариев"
   ]
  },
  {
   "cell_type": "code",
   "execution_count": 26,
   "metadata": {},
   "outputs": [
    {
     "data": {
      "text/plain": [
       "0    140162\n",
       "1      7272\n",
       "Name: toxic, dtype: int64"
      ]
     },
     "execution_count": 26,
     "metadata": {},
     "output_type": "execute_result"
    }
   ],
   "source": [
    "df_3['toxic'].value_counts() #токсичных, но не грубых комментариев"
   ]
  },
  {
   "cell_type": "code",
   "execution_count": 27,
   "metadata": {},
   "outputs": [
    {
     "data": {
      "text/html": [
       "<div>\n",
       "<style scoped>\n",
       "    .dataframe tbody tr th:only-of-type {\n",
       "        vertical-align: middle;\n",
       "    }\n",
       "\n",
       "    .dataframe tbody tr th {\n",
       "        vertical-align: top;\n",
       "    }\n",
       "\n",
       "    .dataframe thead th {\n",
       "        text-align: right;\n",
       "    }\n",
       "</style>\n",
       "<table border=\"1\" class=\"dataframe\">\n",
       "  <thead>\n",
       "    <tr style=\"text-align: right;\">\n",
       "      <th></th>\n",
       "      <th>text</th>\n",
       "      <th>toxic</th>\n",
       "      <th>longest_word</th>\n",
       "      <th>max_word_length</th>\n",
       "      <th>length</th>\n",
       "      <th>n_words</th>\n",
       "      <th>rude</th>\n",
       "      <th>rudeness</th>\n",
       "    </tr>\n",
       "  </thead>\n",
       "  <tbody>\n",
       "    <tr>\n",
       "      <th>12</th>\n",
       "      <td>Hey... what is it..\\n@ | talk .\\nWhat is it......</td>\n",
       "      <td>1</td>\n",
       "      <td>(non)-contribution</td>\n",
       "      <td>18</td>\n",
       "      <td>319</td>\n",
       "      <td>53</td>\n",
       "      <td></td>\n",
       "      <td>False</td>\n",
       "    </tr>\n",
       "    <tr>\n",
       "      <th>44</th>\n",
       "      <td>I'm Sorry \\n\\nI'm sorry I screwed around with ...</td>\n",
       "      <td>1</td>\n",
       "      <td>administrators.</td>\n",
       "      <td>15</td>\n",
       "      <td>319</td>\n",
       "      <td>56</td>\n",
       "      <td></td>\n",
       "      <td>False</td>\n",
       "    </tr>\n",
       "    <tr>\n",
       "      <th>59</th>\n",
       "      <td>Why can't you believe how fat Artie is? Did yo...</td>\n",
       "      <td>1</td>\n",
       "      <td>appearence</td>\n",
       "      <td>10</td>\n",
       "      <td>360</td>\n",
       "      <td>69</td>\n",
       "      <td></td>\n",
       "      <td>False</td>\n",
       "    </tr>\n",
       "    <tr>\n",
       "      <th>79</th>\n",
       "      <td>Hi! I am back again!\\nLast warning!\\nStop undo...</td>\n",
       "      <td>1</td>\n",
       "      <td>warning!</td>\n",
       "      <td>8</td>\n",
       "      <td>64</td>\n",
       "      <td>13</td>\n",
       "      <td></td>\n",
       "      <td>False</td>\n",
       "    </tr>\n",
       "    <tr>\n",
       "      <th>105</th>\n",
       "      <td>A pair of jew-hating weiner nazi schmucks.</td>\n",
       "      <td>1</td>\n",
       "      <td>jew-hating</td>\n",
       "      <td>10</td>\n",
       "      <td>42</td>\n",
       "      <td>7</td>\n",
       "      <td></td>\n",
       "      <td>False</td>\n",
       "    </tr>\n",
       "    <tr>\n",
       "      <th>159</th>\n",
       "      <td>\"\\n\\nUNBLOCK ME OR I'LL GET MY LAWYERS ON TO Y...</td>\n",
       "      <td>1</td>\n",
       "      <td>CONSTITUTIONAL</td>\n",
       "      <td>14</td>\n",
       "      <td>99</td>\n",
       "      <td>19</td>\n",
       "      <td></td>\n",
       "      <td>False</td>\n",
       "    </tr>\n",
       "    <tr>\n",
       "      <th>168</th>\n",
       "      <td>You should be fired, you're a moronic wimp who...</td>\n",
       "      <td>1</td>\n",
       "      <td>research.</td>\n",
       "      <td>9</td>\n",
       "      <td>133</td>\n",
       "      <td>27</td>\n",
       "      <td></td>\n",
       "      <td>False</td>\n",
       "    </tr>\n",
       "    <tr>\n",
       "      <th>201</th>\n",
       "      <td>Your blatant POV pushing \\n\\nNeither of you gu...</td>\n",
       "      <td>1</td>\n",
       "      <td>unconstructive</td>\n",
       "      <td>14</td>\n",
       "      <td>379</td>\n",
       "      <td>65</td>\n",
       "      <td></td>\n",
       "      <td>False</td>\n",
       "    </tr>\n",
       "    <tr>\n",
       "      <th>206</th>\n",
       "      <td>Give me a permanat block raseac....!!! remembe...</td>\n",
       "      <td>1</td>\n",
       "      <td>authenticity...i</td>\n",
       "      <td>16</td>\n",
       "      <td>607</td>\n",
       "      <td>106</td>\n",
       "      <td></td>\n",
       "      <td>False</td>\n",
       "    </tr>\n",
       "    <tr>\n",
       "      <th>300</th>\n",
       "      <td>Well you are ridiculous, in fact I suspect tha...</td>\n",
       "      <td>1</td>\n",
       "      <td>ridiculous,</td>\n",
       "      <td>11</td>\n",
       "      <td>96</td>\n",
       "      <td>18</td>\n",
       "      <td></td>\n",
       "      <td>False</td>\n",
       "    </tr>\n",
       "  </tbody>\n",
       "</table>\n",
       "</div>"
      ],
      "text/plain": [
       "                                                  text  toxic  \\\n",
       "12   Hey... what is it..\\n@ | talk .\\nWhat is it......      1   \n",
       "44   I'm Sorry \\n\\nI'm sorry I screwed around with ...      1   \n",
       "59   Why can't you believe how fat Artie is? Did yo...      1   \n",
       "79   Hi! I am back again!\\nLast warning!\\nStop undo...      1   \n",
       "105         A pair of jew-hating weiner nazi schmucks.      1   \n",
       "159  \"\\n\\nUNBLOCK ME OR I'LL GET MY LAWYERS ON TO Y...      1   \n",
       "168  You should be fired, you're a moronic wimp who...      1   \n",
       "201  Your blatant POV pushing \\n\\nNeither of you gu...      1   \n",
       "206  Give me a permanat block raseac....!!! remembe...      1   \n",
       "300  Well you are ridiculous, in fact I suspect tha...      1   \n",
       "\n",
       "           longest_word  max_word_length  length  n_words rude  rudeness  \n",
       "12   (non)-contribution               18     319       53          False  \n",
       "44      administrators.               15     319       56          False  \n",
       "59           appearence               10     360       69          False  \n",
       "79             warning!                8      64       13          False  \n",
       "105          jew-hating               10      42        7          False  \n",
       "159      CONSTITUTIONAL               14      99       19          False  \n",
       "168           research.                9     133       27          False  \n",
       "201      unconstructive               14     379       65          False  \n",
       "206    authenticity...i               16     607      106          False  \n",
       "300         ridiculous,               11      96       18          False  "
      ]
     },
     "metadata": {},
     "output_type": "display_data"
    },
    {
     "data": {
      "text/html": [
       "<div>\n",
       "<style scoped>\n",
       "    .dataframe tbody tr th:only-of-type {\n",
       "        vertical-align: middle;\n",
       "    }\n",
       "\n",
       "    .dataframe tbody tr th {\n",
       "        vertical-align: top;\n",
       "    }\n",
       "\n",
       "    .dataframe thead th {\n",
       "        text-align: right;\n",
       "    }\n",
       "</style>\n",
       "<table border=\"1\" class=\"dataframe\">\n",
       "  <thead>\n",
       "    <tr style=\"text-align: right;\">\n",
       "      <th></th>\n",
       "      <th>text</th>\n",
       "      <th>toxic</th>\n",
       "      <th>longest_word</th>\n",
       "      <th>max_word_length</th>\n",
       "      <th>length</th>\n",
       "      <th>n_words</th>\n",
       "      <th>rude</th>\n",
       "      <th>rudeness</th>\n",
       "    </tr>\n",
       "  </thead>\n",
       "  <tbody>\n",
       "    <tr>\n",
       "      <th>6</th>\n",
       "      <td>COCKSUCKER BEFORE YOU PISS AROUND ON MY WORK</td>\n",
       "      <td>1</td>\n",
       "      <td>COCKSUCKER</td>\n",
       "      <td>10</td>\n",
       "      <td>44</td>\n",
       "      <td>8</td>\n",
       "      <td>suck</td>\n",
       "      <td>True</td>\n",
       "    </tr>\n",
       "    <tr>\n",
       "      <th>16</th>\n",
       "      <td>Bye! \\n\\nDon't look, come or think of comming ...</td>\n",
       "      <td>1</td>\n",
       "      <td>comming</td>\n",
       "      <td>7</td>\n",
       "      <td>57</td>\n",
       "      <td>10</td>\n",
       "      <td>tosser</td>\n",
       "      <td>True</td>\n",
       "    </tr>\n",
       "    <tr>\n",
       "      <th>42</th>\n",
       "      <td>You are gay or antisemmitian? \\n\\nArchangel WH...</td>\n",
       "      <td>1</td>\n",
       "      <td>gays/Gypsys/Slavs/anyone...</td>\n",
       "      <td>27</td>\n",
       "      <td>648</td>\n",
       "      <td>117</td>\n",
       "      <td>gay gay gay fuck gay</td>\n",
       "      <td>True</td>\n",
       "    </tr>\n",
       "    <tr>\n",
       "      <th>43</th>\n",
       "      <td>FUCK YOUR FILTHY MOTHER IN THE ASS, DRY!</td>\n",
       "      <td>1</td>\n",
       "      <td>FILTHY</td>\n",
       "      <td>6</td>\n",
       "      <td>40</td>\n",
       "      <td>8</td>\n",
       "      <td>fuck</td>\n",
       "      <td>True</td>\n",
       "    </tr>\n",
       "    <tr>\n",
       "      <th>51</th>\n",
       "      <td>GET FUCKED UP. GET FUCKEEED UP.  GOT A DRINK T...</td>\n",
       "      <td>1</td>\n",
       "      <td>FUCKEEED</td>\n",
       "      <td>8</td>\n",
       "      <td>124</td>\n",
       "      <td>25</td>\n",
       "      <td>fuck fuck fuck fuck fuck</td>\n",
       "      <td>True</td>\n",
       "    </tr>\n",
       "    <tr>\n",
       "      <th>55</th>\n",
       "      <td>Stupid peace of shit stop deleting my stuff as...</td>\n",
       "      <td>1</td>\n",
       "      <td>deleting</td>\n",
       "      <td>8</td>\n",
       "      <td>89</td>\n",
       "      <td>19</td>\n",
       "      <td>shit</td>\n",
       "      <td>True</td>\n",
       "    </tr>\n",
       "    <tr>\n",
       "      <th>56</th>\n",
       "      <td>=Tony Sidaway is obviously a fistfuckee. He lo...</td>\n",
       "      <td>1</td>\n",
       "      <td>fistfuckee.</td>\n",
       "      <td>11</td>\n",
       "      <td>68</td>\n",
       "      <td>13</td>\n",
       "      <td>fuck</td>\n",
       "      <td>True</td>\n",
       "    </tr>\n",
       "    <tr>\n",
       "      <th>58</th>\n",
       "      <td>My Band Page's deletion. You thought I was gon...</td>\n",
       "      <td>1</td>\n",
       "      <td>son-of-a-bitch,</td>\n",
       "      <td>15</td>\n",
       "      <td>1798</td>\n",
       "      <td>322</td>\n",
       "      <td>cock suck fuck shit suck dick fuck dick dick ...</td>\n",
       "      <td>True</td>\n",
       "    </tr>\n",
       "    <tr>\n",
       "      <th>65</th>\n",
       "      <td>All of my edits are good.  Cunts like you who ...</td>\n",
       "      <td>1</td>\n",
       "      <td>201.215.187.159</td>\n",
       "      <td>15</td>\n",
       "      <td>311</td>\n",
       "      <td>55</td>\n",
       "      <td>cunt</td>\n",
       "      <td>True</td>\n",
       "    </tr>\n",
       "    <tr>\n",
       "      <th>86</th>\n",
       "      <td>Would you both shut up, you don't run wikipedi...</td>\n",
       "      <td>1</td>\n",
       "      <td>wikipedia,</td>\n",
       "      <td>10</td>\n",
       "      <td>73</td>\n",
       "      <td>13</td>\n",
       "      <td>shut up</td>\n",
       "      <td>True</td>\n",
       "    </tr>\n",
       "  </tbody>\n",
       "</table>\n",
       "</div>"
      ],
      "text/plain": [
       "                                                 text  toxic  \\\n",
       "6        COCKSUCKER BEFORE YOU PISS AROUND ON MY WORK      1   \n",
       "16  Bye! \\n\\nDon't look, come or think of comming ...      1   \n",
       "42  You are gay or antisemmitian? \\n\\nArchangel WH...      1   \n",
       "43           FUCK YOUR FILTHY MOTHER IN THE ASS, DRY!      1   \n",
       "51  GET FUCKED UP. GET FUCKEEED UP.  GOT A DRINK T...      1   \n",
       "55  Stupid peace of shit stop deleting my stuff as...      1   \n",
       "56  =Tony Sidaway is obviously a fistfuckee. He lo...      1   \n",
       "58  My Band Page's deletion. You thought I was gon...      1   \n",
       "65  All of my edits are good.  Cunts like you who ...      1   \n",
       "86  Would you both shut up, you don't run wikipedi...      1   \n",
       "\n",
       "                   longest_word  max_word_length  length  n_words  \\\n",
       "6                    COCKSUCKER               10      44        8   \n",
       "16                      comming                7      57       10   \n",
       "42  gays/Gypsys/Slavs/anyone...               27     648      117   \n",
       "43                       FILTHY                6      40        8   \n",
       "51                     FUCKEEED                8     124       25   \n",
       "55                     deleting                8      89       19   \n",
       "56                  fistfuckee.               11      68       13   \n",
       "58              son-of-a-bitch,               15    1798      322   \n",
       "65              201.215.187.159               15     311       55   \n",
       "86                   wikipedia,               10      73       13   \n",
       "\n",
       "                                                 rude  rudeness  \n",
       "6                                                suck      True  \n",
       "16                                             tosser      True  \n",
       "42                               gay gay gay fuck gay      True  \n",
       "43                                               fuck      True  \n",
       "51                           fuck fuck fuck fuck fuck      True  \n",
       "55                                               shit      True  \n",
       "56                                               fuck      True  \n",
       "58   cock suck fuck shit suck dick fuck dick dick ...      True  \n",
       "65                                               cunt      True  \n",
       "86                                            shut up      True  "
      ]
     },
     "metadata": {},
     "output_type": "display_data"
    }
   ],
   "source": [
    "display(df_3[df_3['toxic'] == True].head(10))\n",
    "display(df_2[df_2['toxic'] == True].head(10))"
   ]
  },
  {
   "cell_type": "code",
   "execution_count": 28,
   "metadata": {},
   "outputs": [
    {
     "name": "stdout",
     "output_type": "stream",
     "text": [
      "Всего токсичных комментариев, но без грубостей -  7272\n"
     ]
    }
   ],
   "source": [
    "print('Всего токсичных комментариев, но без грубостей - ', len(df_3[df_3['toxic'] == True])) #\n"
   ]
  },
  {
   "cell_type": "code",
   "execution_count": 29,
   "metadata": {},
   "outputs": [
    {
     "name": "stdout",
     "output_type": "stream",
     "text": [
      "Всего токсичных комментариев, c грубостями -  8914\n"
     ]
    }
   ],
   "source": [
    "print('Всего токсичных комментариев, c грубостями - ', len(df_2[df_2['toxic'] == True]))"
   ]
  },
  {
   "cell_type": "code",
   "execution_count": 30,
   "metadata": {},
   "outputs": [
    {
     "data": {
      "text/plain": [
       "0    143106\n",
       "1     16186\n",
       "Name: toxic, dtype: int64"
      ]
     },
     "execution_count": 30,
     "metadata": {},
     "output_type": "execute_result"
    }
   ],
   "source": [
    "del df_2\n",
    "del df_3\n",
    "df['toxic'].value_counts()"
   ]
  },
  {
   "cell_type": "markdown",
   "metadata": {},
   "source": [
    "Таким образом, больше половины токсичных комментариев содержат грубые слова, поэтому для улучшения качества моделирования можно обогатить комментарии содержимым найденных грубых паттернов"
   ]
  },
  {
   "cell_type": "code",
   "execution_count": 31,
   "metadata": {},
   "outputs": [],
   "source": [
    "#очистка текста - оставляем только латинские символы и пробелы, лишние пробелы убираем\n",
    "\n",
    "def clear_text(text):\n",
    "    text = text.lower()\n",
    "    clear_list = re.sub(r\"[^a-zA-Z']\", ' ', text) \n",
    "    clear_list = clear_list.split()\n",
    "    clear_text = \" \".join(clear_list)\n",
    "    return clear_text"
   ]
  },
  {
   "cell_type": "code",
   "execution_count": 32,
   "metadata": {},
   "outputs": [],
   "source": [
    "# лемматизация текста\n",
    "\n",
    "def lemmatize(text):\n",
    "    m = WordNetLemmatizer()\n",
    "    txt_list =  nltk.word_tokenize(text)\n",
    "    return ' '.join([m.lemmatize(word, get_wordnet_pos(word)) for word in txt_list])"
   ]
  },
  {
   "cell_type": "code",
   "execution_count": 33,
   "metadata": {},
   "outputs": [
    {
     "data": {
      "application/vnd.jupyter.widget-view+json": {
       "model_id": "888be648b3e44028bf02b34d45499dbc",
       "version_major": 2,
       "version_minor": 0
      },
      "text/plain": [
       "progress:   0%|          | 0/159292 [00:00<?, ?it/s]"
      ]
     },
     "metadata": {},
     "output_type": "display_data"
    }
   ],
   "source": [
    "df['ready_text'] = df['text'].progress_apply(lambda x: lemmatize(clear_text(x))) \n",
    "\n",
    "#df['ready_text'] = df['text'].apply(clear_text) #можно и так, но не работает\n",
    "#df['ready_text'] = df['ready_text'].apply(lemmatize)\n"
   ]
  },
  {
   "cell_type": "code",
   "execution_count": 34,
   "metadata": {},
   "outputs": [],
   "source": [
    "df.to_csv('C:\\ps\\data\\out.csv', index=False) "
   ]
  },
  {
   "cell_type": "code",
   "execution_count": 35,
   "metadata": {},
   "outputs": [],
   "source": [
    "df['ready_text_rude'] = df['ready_text'] + df['rude']"
   ]
  },
  {
   "cell_type": "code",
   "execution_count": 36,
   "metadata": {},
   "outputs": [
    {
     "data": {
      "text/html": [
       "<div>\n",
       "<style scoped>\n",
       "    .dataframe tbody tr th:only-of-type {\n",
       "        vertical-align: middle;\n",
       "    }\n",
       "\n",
       "    .dataframe tbody tr th {\n",
       "        vertical-align: top;\n",
       "    }\n",
       "\n",
       "    .dataframe thead th {\n",
       "        text-align: right;\n",
       "    }\n",
       "</style>\n",
       "<table border=\"1\" class=\"dataframe\">\n",
       "  <thead>\n",
       "    <tr style=\"text-align: right;\">\n",
       "      <th></th>\n",
       "      <th>text</th>\n",
       "      <th>toxic</th>\n",
       "      <th>longest_word</th>\n",
       "      <th>max_word_length</th>\n",
       "      <th>length</th>\n",
       "      <th>n_words</th>\n",
       "      <th>rude</th>\n",
       "      <th>rudeness</th>\n",
       "      <th>ready_text</th>\n",
       "      <th>ready_text_rude</th>\n",
       "    </tr>\n",
       "  </thead>\n",
       "  <tbody>\n",
       "    <tr>\n",
       "      <th>0</th>\n",
       "      <td>Explanation\\nWhy the edits made under my usern...</td>\n",
       "      <td>0</td>\n",
       "      <td>now.89.205.38.27</td>\n",
       "      <td>16</td>\n",
       "      <td>264</td>\n",
       "      <td>43</td>\n",
       "      <td></td>\n",
       "      <td>False</td>\n",
       "      <td>explanation why the edits make under my userna...</td>\n",
       "      <td>explanation why the edits make under my userna...</td>\n",
       "    </tr>\n",
       "    <tr>\n",
       "      <th>1</th>\n",
       "      <td>D'aww! He matches this background colour I'm s...</td>\n",
       "      <td>0</td>\n",
       "      <td>background</td>\n",
       "      <td>10</td>\n",
       "      <td>112</td>\n",
       "      <td>17</td>\n",
       "      <td></td>\n",
       "      <td>False</td>\n",
       "      <td>d'aww he match this background colour i 'm see...</td>\n",
       "      <td>d'aww he match this background colour i 'm see...</td>\n",
       "    </tr>\n",
       "    <tr>\n",
       "      <th>2</th>\n",
       "      <td>Hey man, I'm really not trying to edit war. It...</td>\n",
       "      <td>0</td>\n",
       "      <td>information</td>\n",
       "      <td>11</td>\n",
       "      <td>233</td>\n",
       "      <td>42</td>\n",
       "      <td></td>\n",
       "      <td>False</td>\n",
       "      <td>hey man i 'm really not try to edit war it 's ...</td>\n",
       "      <td>hey man i 'm really not try to edit war it 's ...</td>\n",
       "    </tr>\n",
       "    <tr>\n",
       "      <th>3</th>\n",
       "      <td>\"\\nMore\\nI can't make any real suggestions on ...</td>\n",
       "      <td>0</td>\n",
       "      <td>Wikipedia:Good_article_nominations#Transport</td>\n",
       "      <td>44</td>\n",
       "      <td>622</td>\n",
       "      <td>113</td>\n",
       "      <td></td>\n",
       "      <td>False</td>\n",
       "      <td>more i ca n't make any real suggestion on impr...</td>\n",
       "      <td>more i ca n't make any real suggestion on impr...</td>\n",
       "    </tr>\n",
       "    <tr>\n",
       "      <th>4</th>\n",
       "      <td>You, sir, are my hero. Any chance you remember...</td>\n",
       "      <td>0</td>\n",
       "      <td>remember</td>\n",
       "      <td>8</td>\n",
       "      <td>67</td>\n",
       "      <td>13</td>\n",
       "      <td></td>\n",
       "      <td>False</td>\n",
       "      <td>you sir be my hero any chance you remember wha...</td>\n",
       "      <td>you sir be my hero any chance you remember wha...</td>\n",
       "    </tr>\n",
       "  </tbody>\n",
       "</table>\n",
       "</div>"
      ],
      "text/plain": [
       "                                                text  toxic  \\\n",
       "0  Explanation\\nWhy the edits made under my usern...      0   \n",
       "1  D'aww! He matches this background colour I'm s...      0   \n",
       "2  Hey man, I'm really not trying to edit war. It...      0   \n",
       "3  \"\\nMore\\nI can't make any real suggestions on ...      0   \n",
       "4  You, sir, are my hero. Any chance you remember...      0   \n",
       "\n",
       "                                   longest_word  max_word_length  length  \\\n",
       "0                              now.89.205.38.27               16     264   \n",
       "1                                    background               10     112   \n",
       "2                                   information               11     233   \n",
       "3  Wikipedia:Good_article_nominations#Transport               44     622   \n",
       "4                                      remember                8      67   \n",
       "\n",
       "   n_words rude  rudeness                                         ready_text  \\\n",
       "0       43          False  explanation why the edits make under my userna...   \n",
       "1       17          False  d'aww he match this background colour i 'm see...   \n",
       "2       42          False  hey man i 'm really not try to edit war it 's ...   \n",
       "3      113          False  more i ca n't make any real suggestion on impr...   \n",
       "4       13          False  you sir be my hero any chance you remember wha...   \n",
       "\n",
       "                                     ready_text_rude  \n",
       "0  explanation why the edits make under my userna...  \n",
       "1  d'aww he match this background colour i 'm see...  \n",
       "2  hey man i 'm really not try to edit war it 's ...  \n",
       "3  more i ca n't make any real suggestion on impr...  \n",
       "4  you sir be my hero any chance you remember wha...  "
      ]
     },
     "execution_count": 36,
     "metadata": {},
     "output_type": "execute_result"
    }
   ],
   "source": [
    "df.head()"
   ]
  },
  {
   "cell_type": "markdown",
   "metadata": {},
   "source": [
    "<b>Подсчёт статистики встречаемости слов в тексте"
   ]
  },
  {
   "cell_type": "code",
   "execution_count": 37,
   "metadata": {},
   "outputs": [],
   "source": [
    "from nltk.probability import FreqDist\n",
    "text_raw = \" \".join(df['ready_text'])\n",
    "#fdist = FreqDist(text_raw)"
   ]
  },
  {
   "cell_type": "code",
   "execution_count": 52,
   "metadata": {},
   "outputs": [],
   "source": [
    "fd = FreqDist([word for word in text_raw.split()])\n"
   ]
  },
  {
   "cell_type": "code",
   "execution_count": 53,
   "metadata": {},
   "outputs": [
    {
     "data": {
      "text/plain": [
       "FreqDist({'the': 495803, 'be': 466939, 'to': 296729, 'a': 294187, 'i': 240016, 'of': 224538, 'and': 223620, 'you': 218124, 'that': 160444, 'it': 159709, ...})"
      ]
     },
     "execution_count": 53,
     "metadata": {},
     "output_type": "execute_result"
    }
   ],
   "source": [
    "fd"
   ]
  },
  {
   "cell_type": "code",
   "execution_count": 54,
   "metadata": {},
   "outputs": [
    {
     "data": {
      "text/plain": [
       "[('the', 495803), ('be', 466939), ('to', 296729), ('a', 294187), ('i', 240016)]"
      ]
     },
     "execution_count": 54,
     "metadata": {},
     "output_type": "execute_result"
    }
   ],
   "source": [
    "fd.most_common(5)"
   ]
  },
  {
   "cell_type": "code",
   "execution_count": 56,
   "metadata": {},
   "outputs": [
    {
     "data": {
      "image/png": "[encoded data removed]",
      "text/plain": [
       "<Figure size 432x288 with 1 Axes>"
      ]
     },
     "metadata": {
      "needs_background": "light"
     },
     "output_type": "display_data"
    },
    {
     "data": {
      "text/plain": [
       "<AxesSubplot:xlabel='Samples', ylabel='Counts'>"
      ]
     },
     "execution_count": 56,
     "metadata": {},
     "output_type": "execute_result"
    }
   ],
   "source": [
    "fd.plot(30,cumulative=False)"
   ]
  },
  {
   "cell_type": "markdown",
   "metadata": {},
   "source": [
    "<b> Визуализация облака слов"
   ]
  },
  {
   "cell_type": "code",
   "execution_count": 41,
   "metadata": {},
   "outputs": [],
   "source": [
    "text_raw = \" \".join(df['ready_text'])"
   ]
  },
  {
   "cell_type": "code",
   "execution_count": 42,
   "metadata": {},
   "outputs": [],
   "source": [
    "#%pip install wordcloud\n",
    "#from wordcloud import WordCloud \n",
    "#import matplotlib.pyplot as plt\n",
    "#%matplotlib inline\n",
    "#wordcloud = WordCloud().generate(text_raw)"
   ]
  },
  {
   "cell_type": "markdown",
   "metadata": {},
   "source": [
    "<b>Подготовка выборок"
   ]
  },
  {
   "cell_type": "code",
   "execution_count": 44,
   "metadata": {},
   "outputs": [
    {
     "name": "stdout",
     "output_type": "stream",
     "text": [
      "Выборка разделена в пропорциях:\n",
      "90% — тренировочная;\n",
      "10% — тестовая.\n",
      "\n"
     ]
    }
   ],
   "source": [
    "train, test = train_test_split(df, test_size=0.1, random_state=12345)\n",
    "\n",
    "y_train = train['toxic']\n",
    "X_train = train['ready_text_rude']\n",
    "\n",
    "y_test = test['toxic']\n",
    "X_test = test['ready_text_rude']\n",
    "\n",
    "print(\n",
    "    f'Выборка разделена в пропорциях:\\n'\n",
    "    f'{(len(X_train)/len(df)):.0%} — тренировочная;\\n'\n",
    "    f'{(len(X_test)/len(df)):.0%} — тестовая.\\n'\n",
    ")"
   ]
  },
  {
   "cell_type": "code",
   "execution_count": 45,
   "metadata": {},
   "outputs": [
    {
     "data": {
      "application/vnd.jupyter.widget-view+json": {
       "model_id": "c1ca232592f143efb363f706689d4304",
       "version_major": 2,
       "version_minor": 0
      },
      "text/plain": [
       "  0%|          | 0/143362 [00:00<?, ?it/s]"
      ]
     },
     "metadata": {},
     "output_type": "display_data"
    }
   ],
   "source": [
    "stopwords_ = set(stopwords.words('english'))\n",
    "count_tf_idf = TfidfVectorizer(stop_words=stopwords_)\n",
    "tf_idf_train = count_tf_idf.fit_transform(tqdm(X_train)) #добавил "
   ]
  },
  {
   "cell_type": "code",
   "execution_count": 46,
   "metadata": {},
   "outputs": [
    {
     "name": "stdout",
     "output_type": "stream",
     "text": [
      "Размер матрицы: (143362, 148098)\n"
     ]
    }
   ],
   "source": [
    "#print(tf_idf)\n",
    "print(\"Размер матрицы:\", tf_idf_train.shape)"
   ]
  },
  {
   "cell_type": "code",
   "execution_count": 47,
   "metadata": {},
   "outputs": [
    {
     "name": "stdout",
     "output_type": "stream",
     "text": [
      "Размер матрицы tf-idf_test: (15930, 148098)\n"
     ]
    }
   ],
   "source": [
    "tf_idf_test = count_tf_idf.transform(X_test)\n",
    "print(\"Размер матрицы tf-idf_test:\", tf_idf_test.shape)"
   ]
  },
  {
   "cell_type": "markdown",
   "metadata": {},
   "source": [
    "Вывод:\n",
    "* В комментариях нет дубликатов.\n",
    "* В текстах комментариев встречаются «мусорные» символы, которые нужно убрать.\n",
    "* Данные не сбалансированы по целевому признаку toxic.\n",
    "* Провёл лемматизацию и очистил текст от лишних символов.\n",
    "* Подготовил выборки."
   ]
  },
  {
   "cell_type": "markdown",
   "metadata": {},
   "source": [
    "## Обучение"
   ]
  },
  {
   "cell_type": "markdown",
   "metadata": {},
   "source": [
    "<b>Модель Логистическя регрессия"
   ]
  },
  {
   "cell_type": "code",
   "execution_count": 48,
   "metadata": {},
   "outputs": [],
   "source": [
    "model = LogisticRegression(solver='liblinear', class_weight = 'balanced', random_state=12345)\n",
    "parameters = {\n",
    "    'C': [10],  # были варианты: 1, 5, 15\n",
    "    'penalty': ['l2'],  # был вариант: 'l1'\n",
    "    'max_iter': [100],  # были варианты: 50, 200, 250\n",
    "}\n",
    "lin_grid = GridSearchCV(model, parameters, scoring='f1', cv=3)"
   ]
  },
  {
   "cell_type": "code",
   "execution_count": 49,
   "metadata": {},
   "outputs": [
    {
     "name": "stdout",
     "output_type": "stream",
     "text": [
      "Лучший показатель F1: 0.754\n",
      "CPU times: user 53.2 s, sys: 47.8 s, total: 1min 41s\n",
      "Wall time: 1min 41s\n"
     ]
    }
   ],
   "source": [
    "%%time\n",
    "lin_grid.fit(tf_idf_train, y_train)\n",
    "lin_fit_score = lin_grid.best_score_\n",
    "print(f'Лучший показатель F1: {lin_fit_score:.3f}')\n"
   ]
  },
  {
   "cell_type": "markdown",
   "metadata": {},
   "source": [
    "<b>Модель LGBMClassifier"
   ]
  },
  {
   "cell_type": "code",
   "execution_count": null,
   "metadata": {},
   "outputs": [],
   "source": [
    "model = LGBMClassifier(random_state=12345, class_weight='balanced')\n",
    "parameters = {\n",
    "    'max_depth': [-1],  # были варианты: 5, 8, 10\n",
    "    'num_leaves': [50],  # были варианты: 10, 50, 100\n",
    "    'learning_rate': [0.1],  # были варианты: 0.1, 0.5, 1\n",
    "    'n_estimators' : [100],  # были варианты: 250, 500\n",
    "}\n",
    "lgbm_grid = GridSearchCV(model, parameters, scoring='f1', cv=3, n_jobs=-1)"
   ]
  },
  {
   "cell_type": "code",
   "execution_count": null,
   "metadata": {},
   "outputs": [],
   "source": [
    "%%time\n",
    "lgbm_grid.fit(tf_idf_train, y_train)\n",
    "lgbm_fit_score = lgbm_grid.best_score_\n",
    "print(\n",
    "    f'Лучший показатель F1: {lgbm_fit_score:.3f}'\n",
    ")"
   ]
  },
  {
   "cell_type": "markdown",
   "metadata": {},
   "source": [
    "<b>Модель RandomForestClassifier"
   ]
  },
  {
   "cell_type": "code",
   "execution_count": null,
   "metadata": {},
   "outputs": [],
   "source": [
    "model = RandomForestClassifier(random_state=12345, class_weight='balanced')\n",
    "parameters = {\n",
    "    'max_depth': [10, 20],\n",
    "    'min_samples_split': [4, 8, 12]\n",
    "}\n",
    "rfc_grid = GridSearchCV(model, parameters, scoring='f1', cv=3, n_jobs=-1)"
   ]
  },
  {
   "cell_type": "code",
   "execution_count": null,
   "metadata": {},
   "outputs": [],
   "source": [
    "%%time\n",
    "rfc_grid.fit(tf_idf_train, y_train)\n",
    "rfc_fit_score = rfc_grid.best_score_\n",
    "print(\n",
    "    f'Лучший показатель F1: {rfc_fit_score:.3f}'\n",
    ")"
   ]
  },
  {
   "cell_type": "markdown",
   "metadata": {},
   "source": [
    "Вывод: \n",
    "Обучил три модели.\n",
    "По всем моделям (Логистическя регрессия, LGBMClassifier и RandomForestClassifier) удалось получить предварительный расчёт показателя F1 на обучающей выборке.\n"
   ]
  },
  {
   "cell_type": "markdown",
   "metadata": {},
   "source": [
    "<b>ТЕСТИРОВАНИЕ"
   ]
  },
  {
   "cell_type": "markdown",
   "metadata": {},
   "source": [
    "<b>Модель Логистическя регрессия"
   ]
  },
  {
   "cell_type": "code",
   "execution_count": null,
   "metadata": {},
   "outputs": [],
   "source": [
    "%%time\n",
    "predictions = lin_grid.predict(tf_idf_test)\n",
    "lin_f1 = f1_score(y_test, predictions)\n",
    "lin_conf_mat = confusion_matrix(y_test, predictions)\n",
    "\n",
    "print(\n",
    "    f'F1-score: {lin_f1:.3f}\\n'\n",
    "    f'Количество истинно отрицательных результатов: {lin_conf_mat[0][0]}\\n'\n",
    "    f'Количество ложноотрицательных результатов: {lin_conf_mat[1][0]}\\n'\n",
    "    f'Количество истинно положительных результатов: {lin_conf_mat[1][1]}\\n'\n",
    "    f'Количество ложноположительных результатов: {lin_conf_mat[0][1]}\\n'\n",
    ")"
   ]
  },
  {
   "cell_type": "markdown",
   "metadata": {},
   "source": [
    "<b>Модель LGBMClassifier"
   ]
  },
  {
   "cell_type": "code",
   "execution_count": null,
   "metadata": {},
   "outputs": [],
   "source": [
    "#%%time\n",
    "#predictions = lgbm_grid.predict(tf_idf_test)\n",
    "#lgbm_f1 = f1_score(y_test, predictions)\n",
    "#lgbm_conf_mat = confusion_matrix(y_test, predictions)\n",
    "\n",
    "#print(\n",
    "#    f'F1-score: {lgbm_f1:.3f}\\n'\n",
    "#    f'Количество истинно отрицательных результатов: {lgbm_conf_mat[0][0]}\\n'\n",
    "#    f'Количество ложноотрицательных результатов: {lgbm_conf_mat[1][0]}\\n'\n",
    "#    f'Количество истинно положительных результатов: {lgbm_conf_mat[1][1]}\\n'\n",
    "#    f'Количество ложноположительных результатов: {lgbm_conf_mat[0][1]}\\n'\n",
    "#)"
   ]
  },
  {
   "cell_type": "markdown",
   "metadata": {},
   "source": [
    "<b>Модель RandomForestClassifier"
   ]
  },
  {
   "cell_type": "code",
   "execution_count": null,
   "metadata": {},
   "outputs": [],
   "source": [
    "#%%time\n",
    "#predictions = rfc_grid.predict(tf_idf_test)\n",
    "#rfc_f1 = f1_score(y_test, predictions)\n",
    "#rfc_conf_mat = confusion_matrix(y_test, predictions)\n",
    "\n",
    "#print(\n",
    "#    f'F1-score: {rfc_f1:.3f}\\n'\n",
    "#    f'Количество истинно отрицательных результатов: {rfc_conf_mat[0][0]}\\n'\n",
    "#    f'Количество ложноотрицательных результатов: {rfc_conf_mat[1][0]}\\n'\n",
    "#    f'Количество истинно положительных результатов: {rfc_conf_mat[1][1]}\\n'\n",
    "#    f'Количество ложноположительных результатов: {rfc_conf_mat[0][1]}\\n'\n",
    "#)"
   ]
  },
  {
   "cell_type": "markdown",
   "metadata": {},
   "source": [
    " \n",
    "\n",
    "\n",
    "Финальное тестирование на тест выборке проводим только на лучшей модели    \n",
    "    "
   ]
  },
  {
   "cell_type": "markdown",
   "metadata": {},
   "source": [
    "<b>Общий вывод\n",
    "Лучший результат показала модель Логистическя регрессия.\n",
    "Достигнут целевой порог — F1-score выше 0.75. Кроме того, у этой модели лучшая скорость обучения и предсказания.\n",
    "Также у этой модели наименьший показатель ложноотрицательных результатов.\n",
    "Для текущей задачи — отправки токсичных комментариев на модерацию — это наиболее существенный показатель.\n",
    "Так меньше всего токсичных комментариев по ошибке минует модерацию."
   ]
  }
 ],
 "metadata": {
  "ExecuteTimeLog": [
   {
    "duration": 2348,
    "start_time": "2024-05-10T08:03:59.004Z"
   },
   {
    "duration": 3394,
    "start_time": "2024-05-10T08:04:01.354Z"
   },
   {
    "duration": 2712,
    "start_time": "2024-05-10T08:04:04.750Z"
   },
   {
    "duration": 32601,
    "start_time": "2024-05-10T08:04:07.464Z"
   },
   {
    "duration": 398,
    "start_time": "2024-05-10T08:04:40.067Z"
   },
   {
    "duration": 0,
    "start_time": "2024-05-10T08:04:40.467Z"
   },
   {
    "duration": 0,
    "start_time": "2024-05-10T08:04:40.469Z"
   },
   {
    "duration": 0,
    "start_time": "2024-05-10T08:04:40.471Z"
   },
   {
    "duration": 1,
    "start_time": "2024-05-10T08:04:40.472Z"
   },
   {
    "duration": 0,
    "start_time": "2024-05-10T08:04:40.480Z"
   },
   {
    "duration": 0,
    "start_time": "2024-05-10T08:04:40.481Z"
   },
   {
    "duration": 0,
    "start_time": "2024-05-10T08:04:40.483Z"
   },
   {
    "duration": 1,
    "start_time": "2024-05-10T08:04:40.484Z"
   },
   {
    "duration": 54,
    "start_time": "2024-05-10T08:06:00.338Z"
   },
   {
    "duration": 104,
    "start_time": "2024-05-10T08:09:18.996Z"
   },
   {
    "duration": 33,
    "start_time": "2024-05-10T08:09:34.801Z"
   },
   {
    "duration": 27,
    "start_time": "2024-05-10T08:10:24.303Z"
   },
   {
    "duration": 27,
    "start_time": "2024-05-10T08:12:10.181Z"
   },
   {
    "duration": 33,
    "start_time": "2024-05-10T08:13:26.222Z"
   },
   {
    "duration": 27,
    "start_time": "2024-05-10T08:14:41.942Z"
   },
   {
    "duration": 4,
    "start_time": "2024-05-10T08:17:48.712Z"
   },
   {
    "duration": 4,
    "start_time": "2024-05-10T08:18:01.889Z"
   },
   {
    "duration": 3345,
    "start_time": "2024-05-10T08:18:01.895Z"
   },
   {
    "duration": 2990,
    "start_time": "2024-05-10T08:18:05.242Z"
   },
   {
    "duration": 13520,
    "start_time": "2024-05-10T08:18:08.234Z"
   },
   {
    "duration": 72,
    "start_time": "2024-05-10T08:18:25.654Z"
   },
   {
    "duration": 98,
    "start_time": "2024-05-10T08:18:58.224Z"
   },
   {
    "duration": 71,
    "start_time": "2024-05-10T08:19:51.796Z"
   },
   {
    "duration": 52,
    "start_time": "2024-05-10T08:20:04.149Z"
   },
   {
    "duration": 42,
    "start_time": "2024-05-10T08:21:32.153Z"
   },
   {
    "duration": 53,
    "start_time": "2024-05-10T18:51:24.801Z"
   },
   {
    "duration": 2439,
    "start_time": "2024-05-10T18:51:30.498Z"
   },
   {
    "duration": 3450,
    "start_time": "2024-05-10T18:51:33.279Z"
   },
   {
    "duration": 920,
    "start_time": "2024-05-10T18:52:36.139Z"
   },
   {
    "duration": 902,
    "start_time": "2024-05-10T18:53:11.784Z"
   },
   {
    "duration": 2458,
    "start_time": "2024-05-10T18:53:28.261Z"
   },
   {
    "duration": 892,
    "start_time": "2024-05-10T18:54:19.372Z"
   },
   {
    "duration": 925,
    "start_time": "2024-05-10T18:54:28.556Z"
   },
   {
    "duration": 76,
    "start_time": "2024-05-10T18:56:30.978Z"
   },
   {
    "duration": 940,
    "start_time": "2024-05-10T18:56:54.522Z"
   },
   {
    "duration": 955,
    "start_time": "2024-05-10T18:57:05.644Z"
   },
   {
    "duration": 946,
    "start_time": "2024-05-10T18:57:45.001Z"
   },
   {
    "duration": 923,
    "start_time": "2024-05-10T18:58:06.182Z"
   },
   {
    "duration": 962,
    "start_time": "2024-05-10T19:02:57.050Z"
   },
   {
    "duration": 1014,
    "start_time": "2024-05-10T19:03:45.811Z"
   },
   {
    "duration": 12,
    "start_time": "2024-05-10T19:05:16.369Z"
   },
   {
    "duration": 2268,
    "start_time": "2024-05-10T19:05:29.646Z"
   },
   {
    "duration": 147,
    "start_time": "2024-05-10T19:05:31.917Z"
   },
   {
    "duration": 14,
    "start_time": "2024-05-10T19:05:52.036Z"
   },
   {
    "duration": 1174,
    "start_time": "2024-05-10T19:06:21.771Z"
   },
   {
    "duration": 893,
    "start_time": "2024-05-10T19:07:13.468Z"
   },
   {
    "duration": 980,
    "start_time": "2024-05-10T19:07:32.159Z"
   },
   {
    "duration": 954,
    "start_time": "2024-05-10T19:08:16.542Z"
   },
   {
    "duration": 44,
    "start_time": "2024-05-11T05:37:18.826Z"
   },
   {
    "duration": 0,
    "start_time": "2024-05-11T05:37:18.871Z"
   },
   {
    "duration": 4748,
    "start_time": "2024-05-11T05:41:19.937Z"
   },
   {
    "duration": 0,
    "start_time": "2024-05-11T05:41:24.691Z"
   },
   {
    "duration": 0,
    "start_time": "2024-05-11T05:41:24.692Z"
   },
   {
    "duration": 0,
    "start_time": "2024-05-11T05:41:24.693Z"
   },
   {
    "duration": 0,
    "start_time": "2024-05-11T05:41:24.695Z"
   },
   {
    "duration": 0,
    "start_time": "2024-05-11T05:41:24.696Z"
   },
   {
    "duration": 100,
    "start_time": "2024-05-11T05:42:16.904Z"
   },
   {
    "duration": 5261,
    "start_time": "2024-05-11T05:42:25.711Z"
   },
   {
    "duration": 9,
    "start_time": "2024-05-11T05:42:36.219Z"
   },
   {
    "duration": 4,
    "start_time": "2024-05-11T05:42:56.368Z"
   },
   {
    "duration": 3361,
    "start_time": "2024-05-11T05:43:04.479Z"
   },
   {
    "duration": 10,
    "start_time": "2024-05-11T05:43:07.841Z"
   },
   {
    "duration": 3,
    "start_time": "2024-05-11T05:43:38.168Z"
   },
   {
    "duration": 7,
    "start_time": "2024-05-11T05:45:20.291Z"
   },
   {
    "duration": 207,
    "start_time": "2024-05-11T05:46:16.722Z"
   },
   {
    "duration": 40,
    "start_time": "2024-05-11T05:54:11.390Z"
   },
   {
    "duration": 2396,
    "start_time": "2024-05-11T05:54:19.408Z"
   },
   {
    "duration": 4,
    "start_time": "2024-05-11T05:54:21.807Z"
   },
   {
    "duration": 17,
    "start_time": "2024-05-11T05:54:21.812Z"
   },
   {
    "duration": 940,
    "start_time": "2024-05-11T05:54:21.830Z"
   },
   {
    "duration": 8,
    "start_time": "2024-05-11T05:54:22.772Z"
   },
   {
    "duration": 21,
    "start_time": "2024-05-11T05:54:22.782Z"
   },
   {
    "duration": 27,
    "start_time": "2024-05-11T05:54:22.805Z"
   },
   {
    "duration": 188,
    "start_time": "2024-05-11T05:54:22.834Z"
   },
   {
    "duration": 28,
    "start_time": "2024-05-11T05:54:27.344Z"
   },
   {
    "duration": 7,
    "start_time": "2024-05-11T05:54:29.687Z"
   },
   {
    "duration": 28,
    "start_time": "2024-05-11T05:54:31.575Z"
   },
   {
    "duration": 17,
    "start_time": "2024-05-11T05:55:22.984Z"
   },
   {
    "duration": 223,
    "start_time": "2024-05-11T05:55:27.197Z"
   },
   {
    "duration": 2390,
    "start_time": "2024-05-11T06:16:34.926Z"
   },
   {
    "duration": 4,
    "start_time": "2024-05-11T06:16:37.318Z"
   },
   {
    "duration": 6,
    "start_time": "2024-05-11T06:16:37.324Z"
   },
   {
    "duration": 923,
    "start_time": "2024-05-11T06:16:37.331Z"
   },
   {
    "duration": 8,
    "start_time": "2024-05-11T06:16:38.257Z"
   },
   {
    "duration": 7,
    "start_time": "2024-05-11T06:16:38.267Z"
   },
   {
    "duration": 17,
    "start_time": "2024-05-11T06:16:38.275Z"
   },
   {
    "duration": 169,
    "start_time": "2024-05-11T06:16:38.294Z"
   },
   {
    "duration": 46,
    "start_time": "2024-05-11T06:16:38.465Z"
   },
   {
    "duration": 27,
    "start_time": "2024-05-11T06:16:38.513Z"
   },
   {
    "duration": 227,
    "start_time": "2024-05-11T06:16:38.541Z"
   },
   {
    "duration": 3,
    "start_time": "2024-05-11T06:16:38.770Z"
   },
   {
    "duration": 6,
    "start_time": "2024-05-11T06:16:38.775Z"
   },
   {
    "duration": 3426,
    "start_time": "2024-05-11T06:16:38.783Z"
   },
   {
    "duration": 0,
    "start_time": "2024-05-11T06:16:42.211Z"
   },
   {
    "duration": 0,
    "start_time": "2024-05-11T06:16:42.213Z"
   },
   {
    "duration": 22,
    "start_time": "2024-05-11T06:17:28.815Z"
   },
   {
    "duration": 73,
    "start_time": "2024-05-11T06:17:43.357Z"
   },
   {
    "duration": 421268,
    "start_time": "2024-05-11T06:18:01.173Z"
   },
   {
    "duration": 18,
    "start_time": "2024-05-11T06:25:16.449Z"
   },
   {
    "duration": 6336,
    "start_time": "2024-05-11T06:26:53.629Z"
   },
   {
    "duration": 10,
    "start_time": "2024-05-11T06:26:59.967Z"
   },
   {
    "duration": 19,
    "start_time": "2024-05-11T06:26:59.979Z"
   },
   {
    "duration": 961,
    "start_time": "2024-05-11T06:27:00.000Z"
   },
   {
    "duration": 10,
    "start_time": "2024-05-11T06:27:00.963Z"
   },
   {
    "duration": 564,
    "start_time": "2024-05-11T06:27:00.975Z"
   },
   {
    "duration": 171,
    "start_time": "2024-05-11T06:27:01.540Z"
   },
   {
    "duration": 676,
    "start_time": "2024-05-11T06:27:01.712Z"
   },
   {
    "duration": 142,
    "start_time": "2024-05-11T06:27:02.390Z"
   },
   {
    "duration": 164,
    "start_time": "2024-05-11T06:27:02.533Z"
   },
   {
    "duration": 361,
    "start_time": "2024-05-11T06:27:02.699Z"
   },
   {
    "duration": 3,
    "start_time": "2024-05-11T06:27:03.062Z"
   },
   {
    "duration": 19,
    "start_time": "2024-05-11T06:27:03.066Z"
   },
   {
    "duration": 348,
    "start_time": "2024-05-11T06:27:03.087Z"
   },
   {
    "duration": 0,
    "start_time": "2024-05-11T06:27:03.437Z"
   },
   {
    "duration": 0,
    "start_time": "2024-05-11T06:27:03.439Z"
   },
   {
    "duration": 663,
    "start_time": "2024-05-11T06:27:40.770Z"
   },
   {
    "duration": 6413,
    "start_time": "2024-05-11T06:28:37.098Z"
   },
   {
    "duration": 8,
    "start_time": "2024-05-11T06:28:43.513Z"
   },
   {
    "duration": 21,
    "start_time": "2024-05-11T06:28:43.523Z"
   },
   {
    "duration": 890,
    "start_time": "2024-05-11T06:28:43.546Z"
   },
   {
    "duration": 9,
    "start_time": "2024-05-11T06:28:44.438Z"
   },
   {
    "duration": 3,
    "start_time": "2024-05-11T06:28:44.449Z"
   },
   {
    "duration": 8,
    "start_time": "2024-05-11T06:28:44.453Z"
   },
   {
    "duration": 184,
    "start_time": "2024-05-11T06:28:44.462Z"
   },
   {
    "duration": 5,
    "start_time": "2024-05-11T06:28:44.648Z"
   },
   {
    "duration": 25,
    "start_time": "2024-05-11T06:28:44.655Z"
   },
   {
    "duration": 219,
    "start_time": "2024-05-11T06:28:44.692Z"
   },
   {
    "duration": 4,
    "start_time": "2024-05-11T06:28:44.912Z"
   },
   {
    "duration": 25,
    "start_time": "2024-05-11T06:28:44.917Z"
   },
   {
    "duration": 989,
    "start_time": "2024-05-11T06:28:44.945Z"
   },
   {
    "duration": 0,
    "start_time": "2024-05-11T06:28:45.937Z"
   },
   {
    "duration": 0,
    "start_time": "2024-05-11T06:28:45.938Z"
   },
   {
    "duration": 2398,
    "start_time": "2024-05-11T06:30:49.344Z"
   },
   {
    "duration": 5,
    "start_time": "2024-05-11T06:30:51.745Z"
   },
   {
    "duration": 19,
    "start_time": "2024-05-11T06:30:51.752Z"
   },
   {
    "duration": 929,
    "start_time": "2024-05-11T06:30:51.773Z"
   },
   {
    "duration": 8,
    "start_time": "2024-05-11T06:30:52.704Z"
   },
   {
    "duration": 7,
    "start_time": "2024-05-11T06:30:52.714Z"
   },
   {
    "duration": 17,
    "start_time": "2024-05-11T06:30:52.723Z"
   },
   {
    "duration": 211,
    "start_time": "2024-05-11T06:30:52.741Z"
   },
   {
    "duration": 9,
    "start_time": "2024-05-11T06:30:52.955Z"
   },
   {
    "duration": 31,
    "start_time": "2024-05-11T06:30:52.966Z"
   },
   {
    "duration": 238,
    "start_time": "2024-05-11T06:30:52.999Z"
   },
   {
    "duration": 3,
    "start_time": "2024-05-11T06:30:53.238Z"
   },
   {
    "duration": 19,
    "start_time": "2024-05-11T06:30:53.243Z"
   },
   {
    "duration": 137,
    "start_time": "2024-05-11T06:30:53.265Z"
   },
   {
    "duration": 0,
    "start_time": "2024-05-11T06:30:53.403Z"
   },
   {
    "duration": 0,
    "start_time": "2024-05-11T06:30:53.405Z"
   },
   {
    "duration": 96,
    "start_time": "2024-05-11T06:33:34.900Z"
   },
   {
    "duration": 82107,
    "start_time": "2024-05-11T06:37:54.991Z"
   },
   {
    "duration": 8,
    "start_time": "2024-05-11T06:52:43.439Z"
   },
   {
    "duration": 1240,
    "start_time": "2024-05-11T07:03:51.605Z"
   },
   {
    "duration": 48,
    "start_time": "2024-05-11T07:04:14.494Z"
   },
   {
    "duration": 42,
    "start_time": "2024-05-11T07:04:32.786Z"
   },
   {
    "duration": 39,
    "start_time": "2024-05-11T07:04:38.373Z"
   },
   {
    "duration": 18,
    "start_time": "2024-05-11T07:05:11.823Z"
   },
   {
    "duration": 2476,
    "start_time": "2024-05-11T07:06:06.047Z"
   },
   {
    "duration": 6808,
    "start_time": "2024-05-11T07:06:18.759Z"
   },
   {
    "duration": 4,
    "start_time": "2024-05-11T07:06:40.103Z"
   },
   {
    "duration": 30,
    "start_time": "2024-05-11T07:07:05.600Z"
   },
   {
    "duration": 664,
    "start_time": "2024-05-11T07:07:14.464Z"
   },
   {
    "duration": 4,
    "start_time": "2024-05-11T07:09:05.625Z"
   },
   {
    "duration": 93802,
    "start_time": "2024-05-11T07:09:08.915Z"
   },
   {
    "duration": 10431,
    "start_time": "2024-05-12T09:19:15.852Z"
   },
   {
    "duration": 9,
    "start_time": "2024-05-12T09:19:26.285Z"
   },
   {
    "duration": 22,
    "start_time": "2024-05-12T09:19:26.296Z"
   },
   {
    "duration": 18,
    "start_time": "2024-05-12T09:19:26.319Z"
   },
   {
    "duration": 3334,
    "start_time": "2024-05-12T09:19:26.340Z"
   },
   {
    "duration": 9,
    "start_time": "2024-05-12T09:19:29.676Z"
   },
   {
    "duration": 43,
    "start_time": "2024-05-12T09:19:29.687Z"
   },
   {
    "duration": 46,
    "start_time": "2024-05-12T09:19:29.732Z"
   },
   {
    "duration": 211,
    "start_time": "2024-05-12T09:19:29.780Z"
   },
   {
    "duration": 7,
    "start_time": "2024-05-12T09:19:29.993Z"
   },
   {
    "duration": 31,
    "start_time": "2024-05-12T09:19:30.001Z"
   },
   {
    "duration": 314,
    "start_time": "2024-05-12T09:19:30.033Z"
   },
   {
    "duration": 5360,
    "start_time": "2024-05-12T09:19:30.349Z"
   },
   {
    "duration": 2897,
    "start_time": "2024-05-12T09:24:41.922Z"
   },
   {
    "duration": 132,
    "start_time": "2024-05-12T09:24:54.523Z"
   },
   {
    "duration": 19,
    "start_time": "2024-05-12T09:27:20.549Z"
   },
   {
    "duration": 145,
    "start_time": "2024-05-12T09:27:34.877Z"
   },
   {
    "duration": 719,
    "start_time": "2024-05-12T09:30:04.817Z"
   },
   {
    "duration": 54,
    "start_time": "2024-05-12T09:31:11.534Z"
   },
   {
    "duration": 16,
    "start_time": "2024-05-12T09:34:28.115Z"
   },
   {
    "duration": 14,
    "start_time": "2024-05-12T09:34:41.046Z"
   },
   {
    "duration": 6,
    "start_time": "2024-05-12T09:37:26.488Z"
   },
   {
    "duration": 11,
    "start_time": "2024-05-12T09:38:05.752Z"
   },
   {
    "duration": 27,
    "start_time": "2024-05-12T09:38:56.677Z"
   },
   {
    "duration": 15,
    "start_time": "2024-05-12T09:39:05.856Z"
   },
   {
    "duration": 15,
    "start_time": "2024-05-12T09:39:30.896Z"
   },
   {
    "duration": 15,
    "start_time": "2024-05-12T09:40:22.185Z"
   },
   {
    "duration": 15,
    "start_time": "2024-05-12T09:44:43.587Z"
   },
   {
    "duration": 14,
    "start_time": "2024-05-12T09:44:57.355Z"
   },
   {
    "duration": 16,
    "start_time": "2024-05-12T09:45:02.251Z"
   },
   {
    "duration": 15,
    "start_time": "2024-05-12T09:45:09.747Z"
   },
   {
    "duration": 14,
    "start_time": "2024-05-12T09:45:14.677Z"
   },
   {
    "duration": 16,
    "start_time": "2024-05-12T09:45:39.540Z"
   },
   {
    "duration": 30,
    "start_time": "2024-05-12T09:52:18.145Z"
   },
   {
    "duration": 135,
    "start_time": "2024-05-12T09:52:42.740Z"
   },
   {
    "duration": 87,
    "start_time": "2024-05-12T09:52:53.103Z"
   },
   {
    "duration": 2798,
    "start_time": "2024-05-12T09:53:02.691Z"
   },
   {
    "duration": 7,
    "start_time": "2024-05-12T09:53:05.492Z"
   },
   {
    "duration": 148,
    "start_time": "2024-05-12T09:53:05.501Z"
   },
   {
    "duration": 60,
    "start_time": "2024-05-12T09:53:05.651Z"
   },
   {
    "duration": 1074,
    "start_time": "2024-05-12T09:53:05.715Z"
   },
   {
    "duration": 8,
    "start_time": "2024-05-12T09:53:06.791Z"
   },
   {
    "duration": 25,
    "start_time": "2024-05-12T09:53:06.800Z"
   },
   {
    "duration": 26,
    "start_time": "2024-05-12T09:53:06.827Z"
   },
   {
    "duration": 247,
    "start_time": "2024-05-12T09:53:06.854Z"
   },
   {
    "duration": 7,
    "start_time": "2024-05-12T09:53:07.103Z"
   },
   {
    "duration": 78,
    "start_time": "2024-05-12T09:53:07.111Z"
   },
   {
    "duration": 253,
    "start_time": "2024-05-12T09:53:07.191Z"
   },
   {
    "duration": 3086,
    "start_time": "2024-05-12T09:53:07.445Z"
   },
   {
    "duration": 154,
    "start_time": "2024-05-12T09:53:10.534Z"
   },
   {
    "duration": 160,
    "start_time": "2024-05-12T09:53:10.690Z"
   },
   {
    "duration": 760,
    "start_time": "2024-05-12T09:53:10.852Z"
   },
   {
    "duration": 9,
    "start_time": "2024-05-12T09:53:11.613Z"
   },
   {
    "duration": 36,
    "start_time": "2024-05-12T09:53:11.624Z"
   },
   {
    "duration": 9299,
    "start_time": "2024-05-12T09:53:15.401Z"
   },
   {
    "duration": 5806,
    "start_time": "2024-05-12T09:53:49.594Z"
   },
   {
    "duration": 13,
    "start_time": "2024-05-12T09:54:07.378Z"
   },
   {
    "duration": 305,
    "start_time": "2024-05-12T09:55:03.226Z"
   },
   {
    "duration": 69,
    "start_time": "2024-05-12T09:55:22.371Z"
   },
   {
    "duration": 41,
    "start_time": "2024-05-12T09:56:24.668Z"
   },
   {
    "duration": 134,
    "start_time": "2024-05-12T09:57:12.076Z"
   },
   {
    "duration": 19,
    "start_time": "2024-05-12T09:59:16.140Z"
   },
   {
    "duration": 35,
    "start_time": "2024-05-12T10:00:07.789Z"
   },
   {
    "duration": 66,
    "start_time": "2024-05-12T10:05:08.129Z"
   },
   {
    "duration": 16,
    "start_time": "2024-05-12T10:06:21.538Z"
   },
   {
    "duration": 25,
    "start_time": "2024-05-12T10:07:32.050Z"
   },
   {
    "duration": 33,
    "start_time": "2024-05-12T10:07:42.994Z"
   },
   {
    "duration": 5,
    "start_time": "2024-05-12T10:08:22.971Z"
   },
   {
    "duration": 2663,
    "start_time": "2024-05-12T10:10:33.158Z"
   },
   {
    "duration": 4,
    "start_time": "2024-05-12T10:10:35.824Z"
   },
   {
    "duration": 14,
    "start_time": "2024-05-12T10:10:35.830Z"
   },
   {
    "duration": 8,
    "start_time": "2024-05-12T10:10:35.845Z"
   },
   {
    "duration": 958,
    "start_time": "2024-05-12T10:10:35.855Z"
   },
   {
    "duration": 8,
    "start_time": "2024-05-12T10:10:36.815Z"
   },
   {
    "duration": 11,
    "start_time": "2024-05-12T10:10:36.826Z"
   },
   {
    "duration": 20,
    "start_time": "2024-05-12T10:10:36.839Z"
   },
   {
    "duration": 279,
    "start_time": "2024-05-12T10:10:36.861Z"
   },
   {
    "duration": 59,
    "start_time": "2024-05-12T10:10:37.142Z"
   },
   {
    "duration": 29,
    "start_time": "2024-05-12T10:10:37.203Z"
   },
   {
    "duration": 269,
    "start_time": "2024-05-12T10:10:37.234Z"
   },
   {
    "duration": 2921,
    "start_time": "2024-05-12T10:10:37.505Z"
   },
   {
    "duration": 131,
    "start_time": "2024-05-12T10:10:40.429Z"
   },
   {
    "duration": 136,
    "start_time": "2024-05-12T10:10:40.562Z"
   },
   {
    "duration": 712,
    "start_time": "2024-05-12T10:10:40.700Z"
   },
   {
    "duration": 9,
    "start_time": "2024-05-12T10:10:41.413Z"
   },
   {
    "duration": 36,
    "start_time": "2024-05-12T10:10:41.423Z"
   },
   {
    "duration": 4912,
    "start_time": "2024-05-12T10:10:41.460Z"
   },
   {
    "duration": 141,
    "start_time": "2024-05-12T10:10:46.374Z"
   },
   {
    "duration": 26,
    "start_time": "2024-05-12T10:10:46.516Z"
   },
   {
    "duration": 6,
    "start_time": "2024-05-12T10:11:50.531Z"
   },
   {
    "duration": 28,
    "start_time": "2024-05-12T12:33:10.551Z"
   },
   {
    "duration": 41,
    "start_time": "2024-05-12T12:35:47.632Z"
   },
   {
    "duration": 13,
    "start_time": "2024-05-12T12:36:03.136Z"
   },
   {
    "duration": 28,
    "start_time": "2024-05-12T12:37:10.674Z"
   },
   {
    "duration": 12,
    "start_time": "2024-05-12T12:37:59.874Z"
   },
   {
    "duration": 24,
    "start_time": "2024-05-12T12:38:35.091Z"
   },
   {
    "duration": 20,
    "start_time": "2024-05-12T12:40:27.788Z"
   },
   {
    "duration": 73,
    "start_time": "2024-05-12T12:40:54.252Z"
   },
   {
    "duration": 10,
    "start_time": "2024-05-12T12:41:46.309Z"
   },
   {
    "duration": 65,
    "start_time": "2024-05-12T12:43:22.471Z"
   },
   {
    "duration": 12,
    "start_time": "2024-05-12T12:43:32.779Z"
   },
   {
    "duration": 327,
    "start_time": "2024-05-12T12:44:49.512Z"
   },
   {
    "duration": 25,
    "start_time": "2024-05-12T12:45:09.688Z"
   },
   {
    "duration": 64,
    "start_time": "2024-05-12T12:45:26.689Z"
   },
   {
    "duration": 90,
    "start_time": "2024-05-12T12:45:36.808Z"
   },
   {
    "duration": 24,
    "start_time": "2024-05-12T12:45:52.705Z"
   },
   {
    "duration": 11,
    "start_time": "2024-05-12T12:46:47.746Z"
   },
   {
    "duration": 16,
    "start_time": "2024-05-12T12:46:57.467Z"
   },
   {
    "duration": 11,
    "start_time": "2024-05-12T12:47:02.602Z"
   },
   {
    "duration": 22,
    "start_time": "2024-05-12T12:47:10.738Z"
   },
   {
    "duration": 20,
    "start_time": "2024-05-12T12:48:04.938Z"
   },
   {
    "duration": 19,
    "start_time": "2024-05-12T12:48:20.779Z"
   },
   {
    "duration": 90,
    "start_time": "2024-05-12T12:48:46.419Z"
   },
   {
    "duration": 22,
    "start_time": "2024-05-12T12:48:52.574Z"
   },
   {
    "duration": 37,
    "start_time": "2024-05-12T12:49:21.539Z"
   },
   {
    "duration": 21,
    "start_time": "2024-05-12T12:49:51.860Z"
   },
   {
    "duration": 35,
    "start_time": "2024-05-12T12:50:15.013Z"
   },
   {
    "duration": 22,
    "start_time": "2024-05-12T12:50:25.061Z"
   },
   {
    "duration": 34,
    "start_time": "2024-05-12T12:50:41.917Z"
   },
   {
    "duration": 79,
    "start_time": "2024-05-12T12:51:01.469Z"
   },
   {
    "duration": 21,
    "start_time": "2024-05-12T12:51:09.181Z"
   },
   {
    "duration": 19,
    "start_time": "2024-05-12T12:51:17.438Z"
   },
   {
    "duration": 19,
    "start_time": "2024-05-12T12:51:38.006Z"
   },
   {
    "duration": 68,
    "start_time": "2024-05-12T12:52:43.855Z"
   },
   {
    "duration": 23,
    "start_time": "2024-05-12T12:52:55.446Z"
   },
   {
    "duration": 23,
    "start_time": "2024-05-12T12:54:18.023Z"
   },
   {
    "duration": 25,
    "start_time": "2024-05-12T12:56:02.679Z"
   },
   {
    "duration": 24,
    "start_time": "2024-05-12T12:56:24.512Z"
   },
   {
    "duration": 8,
    "start_time": "2024-05-12T12:56:30.512Z"
   },
   {
    "duration": 20,
    "start_time": "2024-05-12T12:56:32.928Z"
   },
   {
    "duration": 8,
    "start_time": "2024-05-12T12:56:44.775Z"
   },
   {
    "duration": 12,
    "start_time": "2024-05-12T12:56:51.363Z"
   },
   {
    "duration": 7,
    "start_time": "2024-05-12T12:58:02.536Z"
   },
   {
    "duration": 9,
    "start_time": "2024-05-12T13:02:11.970Z"
   },
   {
    "duration": 8,
    "start_time": "2024-05-12T13:02:18.834Z"
   },
   {
    "duration": 21,
    "start_time": "2024-05-12T13:03:54.836Z"
   },
   {
    "duration": 9,
    "start_time": "2024-05-12T13:04:00.132Z"
   },
   {
    "duration": 28,
    "start_time": "2024-05-12T13:04:32.636Z"
   },
   {
    "duration": 5,
    "start_time": "2024-05-12T13:05:09.780Z"
   },
   {
    "duration": 27,
    "start_time": "2024-05-12T13:08:39.511Z"
   },
   {
    "duration": 8,
    "start_time": "2024-05-12T13:09:48.455Z"
   },
   {
    "duration": 66,
    "start_time": "2024-05-12T13:10:13.112Z"
   },
   {
    "duration": 25,
    "start_time": "2024-05-12T13:10:21.400Z"
   },
   {
    "duration": 34,
    "start_time": "2024-05-12T13:10:51.161Z"
   },
   {
    "duration": 6,
    "start_time": "2024-05-12T13:11:29.849Z"
   },
   {
    "duration": 49,
    "start_time": "2024-05-12T13:12:00.040Z"
   },
   {
    "duration": 42,
    "start_time": "2024-05-12T13:12:23.137Z"
   },
   {
    "duration": 74,
    "start_time": "2024-05-12T13:13:29.394Z"
   },
   {
    "duration": 9,
    "start_time": "2024-05-12T13:13:40.625Z"
   },
   {
    "duration": 5,
    "start_time": "2024-05-12T13:14:18.659Z"
   },
   {
    "duration": 2692,
    "start_time": "2024-05-12T18:35:55.470Z"
   },
   {
    "duration": 5,
    "start_time": "2024-05-12T18:35:58.164Z"
   },
   {
    "duration": 15,
    "start_time": "2024-05-12T18:35:58.171Z"
   },
   {
    "duration": 17,
    "start_time": "2024-05-12T18:35:58.187Z"
   },
   {
    "duration": 970,
    "start_time": "2024-05-12T18:35:58.206Z"
   },
   {
    "duration": 8,
    "start_time": "2024-05-12T18:35:59.178Z"
   },
   {
    "duration": 11,
    "start_time": "2024-05-12T18:35:59.188Z"
   },
   {
    "duration": 50,
    "start_time": "2024-05-12T18:35:59.201Z"
   },
   {
    "duration": 191,
    "start_time": "2024-05-12T18:35:59.253Z"
   },
   {
    "duration": 15,
    "start_time": "2024-05-12T18:35:59.445Z"
   },
   {
    "duration": 49,
    "start_time": "2024-05-12T18:35:59.462Z"
   },
   {
    "duration": 246,
    "start_time": "2024-05-12T18:35:59.513Z"
   },
   {
    "duration": 2815,
    "start_time": "2024-05-12T18:35:59.761Z"
   },
   {
    "duration": 127,
    "start_time": "2024-05-12T18:36:02.579Z"
   },
   {
    "duration": 139,
    "start_time": "2024-05-12T18:36:02.707Z"
   },
   {
    "duration": 758,
    "start_time": "2024-05-12T18:36:02.847Z"
   },
   {
    "duration": 11,
    "start_time": "2024-05-12T18:36:03.607Z"
   },
   {
    "duration": 72,
    "start_time": "2024-05-12T18:36:03.619Z"
   },
   {
    "duration": 4838,
    "start_time": "2024-05-12T18:36:03.692Z"
   },
   {
    "duration": 145,
    "start_time": "2024-05-12T18:36:08.531Z"
   },
   {
    "duration": 6,
    "start_time": "2024-05-12T18:36:08.678Z"
   },
   {
    "duration": 45,
    "start_time": "2024-05-12T18:36:08.685Z"
   },
   {
    "duration": 28,
    "start_time": "2024-05-12T18:36:08.731Z"
   },
   {
    "duration": 46,
    "start_time": "2024-05-12T18:36:08.761Z"
   },
   {
    "duration": 7,
    "start_time": "2024-05-12T18:36:08.809Z"
   },
   {
    "duration": 48,
    "start_time": "2024-05-12T18:36:08.817Z"
   },
   {
    "duration": 7,
    "start_time": "2024-05-12T18:36:08.867Z"
   },
   {
    "duration": 7,
    "start_time": "2024-05-12T18:36:08.875Z"
   },
   {
    "duration": 8,
    "start_time": "2024-05-12T18:36:08.884Z"
   },
   {
    "duration": 11,
    "start_time": "2024-05-12T18:36:08.893Z"
   },
   {
    "duration": 0,
    "start_time": "2024-05-12T18:36:08.906Z"
   },
   {
    "duration": 0,
    "start_time": "2024-05-12T18:36:08.907Z"
   },
   {
    "duration": 0,
    "start_time": "2024-05-12T18:36:08.909Z"
   },
   {
    "duration": 5,
    "start_time": "2024-05-12T18:37:11.227Z"
   },
   {
    "duration": 3,
    "start_time": "2024-05-12T18:37:34.235Z"
   },
   {
    "duration": 4,
    "start_time": "2024-05-12T18:51:47.394Z"
   },
   {
    "duration": 7305,
    "start_time": "2024-05-12T18:52:26.858Z"
   },
   {
    "duration": 10,
    "start_time": "2024-05-12T18:52:34.165Z"
   },
   {
    "duration": 6,
    "start_time": "2024-05-12T18:52:34.177Z"
   },
   {
    "duration": 6,
    "start_time": "2024-05-12T18:52:34.187Z"
   },
   {
    "duration": 973,
    "start_time": "2024-05-12T18:52:34.196Z"
   },
   {
    "duration": 11,
    "start_time": "2024-05-12T18:52:35.171Z"
   },
   {
    "duration": 5,
    "start_time": "2024-05-12T18:52:35.183Z"
   },
   {
    "duration": 7,
    "start_time": "2024-05-12T18:52:35.189Z"
   },
   {
    "duration": 261,
    "start_time": "2024-05-12T18:52:35.198Z"
   },
   {
    "duration": 8,
    "start_time": "2024-05-12T18:52:35.461Z"
   },
   {
    "duration": 35,
    "start_time": "2024-05-12T18:52:35.471Z"
   },
   {
    "duration": 261,
    "start_time": "2024-05-12T18:52:35.508Z"
   },
   {
    "duration": 2729,
    "start_time": "2024-05-12T18:52:35.771Z"
   },
   {
    "duration": 128,
    "start_time": "2024-05-12T18:52:38.504Z"
   },
   {
    "duration": 147,
    "start_time": "2024-05-12T18:52:38.635Z"
   },
   {
    "duration": 706,
    "start_time": "2024-05-12T18:52:38.784Z"
   },
   {
    "duration": 13,
    "start_time": "2024-05-12T18:52:39.492Z"
   },
   {
    "duration": 21,
    "start_time": "2024-05-12T18:52:39.507Z"
   },
   {
    "duration": 4784,
    "start_time": "2024-05-12T18:52:39.530Z"
   },
   {
    "duration": 150,
    "start_time": "2024-05-12T18:52:44.316Z"
   },
   {
    "duration": 8,
    "start_time": "2024-05-12T18:52:44.468Z"
   },
   {
    "duration": 33,
    "start_time": "2024-05-12T18:52:44.478Z"
   },
   {
    "duration": 6,
    "start_time": "2024-05-12T18:52:44.513Z"
   },
   {
    "duration": 50,
    "start_time": "2024-05-12T18:52:44.521Z"
   },
   {
    "duration": 7,
    "start_time": "2024-05-12T18:52:44.572Z"
   },
   {
    "duration": 32,
    "start_time": "2024-05-12T18:52:44.580Z"
   },
   {
    "duration": 6,
    "start_time": "2024-05-12T18:52:44.614Z"
   },
   {
    "duration": 18,
    "start_time": "2024-05-12T18:52:44.622Z"
   },
   {
    "duration": 21,
    "start_time": "2024-05-12T18:52:44.641Z"
   },
   {
    "duration": 13,
    "start_time": "2024-05-12T18:52:44.663Z"
   },
   {
    "duration": 18,
    "start_time": "2024-05-12T18:52:44.678Z"
   },
   {
    "duration": 96577,
    "start_time": "2024-05-12T18:52:44.697Z"
   },
   {
    "duration": 39,
    "start_time": "2024-05-12T18:54:21.276Z"
   },
   {
    "duration": 16,
    "start_time": "2024-05-12T18:54:21.316Z"
   },
   {
    "duration": 25,
    "start_time": "2024-05-12T18:54:21.334Z"
   },
   {
    "duration": 120,
    "start_time": "2024-05-12T18:54:21.361Z"
   },
   {
    "duration": 7626,
    "start_time": "2024-05-12T18:54:21.492Z"
   },
   {
    "duration": 5,
    "start_time": "2024-05-12T18:54:29.119Z"
   },
   {
    "duration": 755,
    "start_time": "2024-05-12T18:54:29.125Z"
   },
   {
    "duration": 3,
    "start_time": "2024-05-12T18:54:29.882Z"
   },
   {
    "duration": 99599,
    "start_time": "2024-05-12T18:54:29.890Z"
   },
   {
    "duration": 75,
    "start_time": "2024-05-12T18:56:09.491Z"
   },
   {
    "duration": 361,
    "start_time": "2024-05-12T18:59:45.288Z"
   },
   {
    "duration": 45,
    "start_time": "2024-05-12T18:59:58.504Z"
   },
   {
    "duration": 3,
    "start_time": "2024-05-12T19:00:19.656Z"
   },
   {
    "duration": 7675,
    "start_time": "2024-05-12T19:02:50.113Z"
   },
   {
    "duration": 3,
    "start_time": "2024-05-12T19:03:05.001Z"
   },
   {
    "duration": 22,
    "start_time": "2024-05-12T19:03:55.410Z"
   },
   {
    "duration": 7270,
    "start_time": "2024-05-12T19:04:41.599Z"
   },
   {
    "duration": 9,
    "start_time": "2024-05-12T19:04:48.872Z"
   },
   {
    "duration": 11,
    "start_time": "2024-05-12T19:04:48.883Z"
   },
   {
    "duration": 5,
    "start_time": "2024-05-12T19:04:48.896Z"
   },
   {
    "duration": 1006,
    "start_time": "2024-05-12T19:04:48.903Z"
   },
   {
    "duration": 11,
    "start_time": "2024-05-12T19:04:49.911Z"
   },
   {
    "duration": 17,
    "start_time": "2024-05-12T19:04:49.923Z"
   },
   {
    "duration": 22,
    "start_time": "2024-05-12T19:04:49.942Z"
   },
   {
    "duration": 204,
    "start_time": "2024-05-12T19:04:49.967Z"
   },
   {
    "duration": 7,
    "start_time": "2024-05-12T19:04:50.172Z"
   },
   {
    "duration": 64,
    "start_time": "2024-05-12T19:04:50.181Z"
   },
   {
    "duration": 252,
    "start_time": "2024-05-12T19:04:50.247Z"
   },
   {
    "duration": 2723,
    "start_time": "2024-05-12T19:04:50.501Z"
   },
   {
    "duration": 132,
    "start_time": "2024-05-12T19:04:53.228Z"
   },
   {
    "duration": 161,
    "start_time": "2024-05-12T19:04:53.362Z"
   },
   {
    "duration": 801,
    "start_time": "2024-05-12T19:04:53.525Z"
   },
   {
    "duration": 12,
    "start_time": "2024-05-12T19:04:54.332Z"
   },
   {
    "duration": 31,
    "start_time": "2024-05-12T19:04:54.346Z"
   },
   {
    "duration": 5010,
    "start_time": "2024-05-12T19:04:54.378Z"
   },
   {
    "duration": 167,
    "start_time": "2024-05-12T19:04:59.389Z"
   },
   {
    "duration": 9,
    "start_time": "2024-05-12T19:04:59.559Z"
   },
   {
    "duration": 39,
    "start_time": "2024-05-12T19:04:59.570Z"
   },
   {
    "duration": 5,
    "start_time": "2024-05-12T19:04:59.611Z"
   },
   {
    "duration": 49,
    "start_time": "2024-05-12T19:04:59.618Z"
   },
   {
    "duration": 7,
    "start_time": "2024-05-12T19:04:59.668Z"
   },
   {
    "duration": 24,
    "start_time": "2024-05-12T19:04:59.676Z"
   },
   {
    "duration": 7,
    "start_time": "2024-05-12T19:04:59.702Z"
   },
   {
    "duration": 14,
    "start_time": "2024-05-12T19:04:59.711Z"
   },
   {
    "duration": 33,
    "start_time": "2024-05-12T19:04:59.727Z"
   },
   {
    "duration": 4,
    "start_time": "2024-05-12T19:04:59.761Z"
   },
   {
    "duration": 5,
    "start_time": "2024-05-12T19:04:59.767Z"
   },
   {
    "duration": 96224,
    "start_time": "2024-05-12T19:04:59.773Z"
   },
   {
    "duration": 41,
    "start_time": "2024-05-12T19:06:35.999Z"
   },
   {
    "duration": 41,
    "start_time": "2024-05-12T19:06:36.042Z"
   },
   {
    "duration": 55,
    "start_time": "2024-05-12T19:06:36.085Z"
   },
   {
    "duration": 131,
    "start_time": "2024-05-12T19:06:36.141Z"
   },
   {
    "duration": 7757,
    "start_time": "2024-05-12T19:06:36.274Z"
   },
   {
    "duration": 3,
    "start_time": "2024-05-12T19:06:44.033Z"
   },
   {
    "duration": 753,
    "start_time": "2024-05-12T19:06:44.038Z"
   },
   {
    "duration": 5,
    "start_time": "2024-05-12T19:06:44.793Z"
   },
   {
    "duration": 98592,
    "start_time": "2024-05-12T19:06:44.803Z"
   },
   {
    "duration": 5,
    "start_time": "2024-05-12T19:08:23.397Z"
   },
   {
    "duration": 1707765,
    "start_time": "2024-05-12T19:08:23.405Z"
   },
   {
    "duration": 5,
    "start_time": "2024-05-12T19:37:01.095Z"
   },
   {
    "duration": 610032,
    "start_time": "2024-05-12T19:37:05.552Z"
   },
   {
    "duration": 23,
    "start_time": "2024-05-12T19:48:29.577Z"
   },
   {
    "duration": 3,
    "start_time": "2024-05-12T19:49:04.721Z"
   },
   {
    "duration": 7055,
    "start_time": "2024-05-12T19:49:07.734Z"
   },
   {
    "duration": 4,
    "start_time": "2024-05-12T19:49:53.384Z"
   },
   {
    "duration": 381016,
    "start_time": "2024-05-12T19:49:55.119Z"
   },
   {
    "duration": 4,
    "start_time": "2024-05-12T19:56:59.571Z"
   },
   {
    "duration": 38599,
    "start_time": "2024-05-12T19:57:01.941Z"
   },
   {
    "duration": 3,
    "start_time": "2024-05-12T19:58:53.951Z"
   },
   {
    "duration": 72737,
    "start_time": "2024-05-12T19:58:55.780Z"
   },
   {
    "duration": 3,
    "start_time": "2024-05-12T20:00:28.766Z"
   },
   {
    "duration": 625149,
    "start_time": "2024-05-12T20:00:30.717Z"
   },
   {
    "duration": 86,
    "start_time": "2024-05-12T20:10:55.868Z"
   },
   {
    "duration": 36,
    "start_time": "2024-05-12T20:11:42.014Z"
   },
   {
    "duration": 0,
    "start_time": "2024-05-12T20:14:32.013Z"
   },
   {
    "duration": 0,
    "start_time": "2024-05-12T20:18:50.971Z"
   },
   {
    "duration": 0,
    "start_time": "2024-05-12T20:18:50.972Z"
   },
   {
    "duration": 0,
    "start_time": "2024-05-12T20:18:50.973Z"
   },
   {
    "duration": 0,
    "start_time": "2024-05-12T20:18:50.974Z"
   },
   {
    "duration": 0,
    "start_time": "2024-05-12T20:18:50.975Z"
   },
   {
    "duration": 0,
    "start_time": "2024-05-12T20:18:50.976Z"
   },
   {
    "duration": 0,
    "start_time": "2024-05-12T20:18:50.977Z"
   },
   {
    "duration": 0,
    "start_time": "2024-05-12T20:18:50.978Z"
   },
   {
    "duration": 0,
    "start_time": "2024-05-12T20:18:50.979Z"
   },
   {
    "duration": 0,
    "start_time": "2024-05-12T20:18:50.980Z"
   },
   {
    "duration": 0,
    "start_time": "2024-05-12T20:18:50.981Z"
   },
   {
    "duration": 0,
    "start_time": "2024-05-12T20:18:50.982Z"
   },
   {
    "duration": 0,
    "start_time": "2024-05-12T20:18:50.983Z"
   },
   {
    "duration": 0,
    "start_time": "2024-05-12T20:18:50.985Z"
   },
   {
    "duration": 0,
    "start_time": "2024-05-12T20:18:50.986Z"
   },
   {
    "duration": 0,
    "start_time": "2024-05-12T20:18:50.987Z"
   },
   {
    "duration": 0,
    "start_time": "2024-05-12T20:18:50.989Z"
   },
   {
    "duration": 0,
    "start_time": "2024-05-12T20:18:50.990Z"
   },
   {
    "duration": 0,
    "start_time": "2024-05-12T20:18:50.991Z"
   },
   {
    "duration": 0,
    "start_time": "2024-05-12T20:18:50.992Z"
   },
   {
    "duration": 0,
    "start_time": "2024-05-12T20:18:50.993Z"
   },
   {
    "duration": 0,
    "start_time": "2024-05-12T20:18:50.994Z"
   },
   {
    "duration": 0,
    "start_time": "2024-05-12T20:18:50.995Z"
   },
   {
    "duration": 0,
    "start_time": "2024-05-12T20:18:51.059Z"
   },
   {
    "duration": 0,
    "start_time": "2024-05-12T20:18:51.060Z"
   },
   {
    "duration": 0,
    "start_time": "2024-05-12T20:18:51.061Z"
   },
   {
    "duration": 0,
    "start_time": "2024-05-12T20:18:51.063Z"
   },
   {
    "duration": 0,
    "start_time": "2024-05-12T20:18:51.064Z"
   },
   {
    "duration": 0,
    "start_time": "2024-05-12T20:18:51.065Z"
   },
   {
    "duration": 0,
    "start_time": "2024-05-12T20:18:51.066Z"
   },
   {
    "duration": 0,
    "start_time": "2024-05-12T20:18:51.067Z"
   },
   {
    "duration": 0,
    "start_time": "2024-05-12T20:18:51.068Z"
   },
   {
    "duration": 0,
    "start_time": "2024-05-12T20:18:51.069Z"
   },
   {
    "duration": 0,
    "start_time": "2024-05-12T20:18:51.070Z"
   },
   {
    "duration": 0,
    "start_time": "2024-05-12T20:18:51.071Z"
   },
   {
    "duration": 0,
    "start_time": "2024-05-12T20:18:51.072Z"
   },
   {
    "duration": 0,
    "start_time": "2024-05-12T20:18:51.074Z"
   },
   {
    "duration": 0,
    "start_time": "2024-05-12T20:18:51.075Z"
   },
   {
    "duration": 0,
    "start_time": "2024-05-12T20:18:51.076Z"
   },
   {
    "duration": 0,
    "start_time": "2024-05-12T20:18:51.077Z"
   },
   {
    "duration": 0,
    "start_time": "2024-05-12T20:18:51.079Z"
   },
   {
    "duration": 0,
    "start_time": "2024-05-12T20:18:51.080Z"
   },
   {
    "duration": 0,
    "start_time": "2024-05-12T20:18:51.081Z"
   },
   {
    "duration": 0,
    "start_time": "2024-05-12T20:18:51.082Z"
   },
   {
    "duration": 0,
    "start_time": "2024-05-12T20:18:51.083Z"
   },
   {
    "duration": 0,
    "start_time": "2024-05-12T20:18:51.084Z"
   },
   {
    "duration": 0,
    "start_time": "2024-05-12T20:18:51.085Z"
   },
   {
    "duration": 2589,
    "start_time": "2024-05-12T20:19:01.436Z"
   },
   {
    "duration": 4,
    "start_time": "2024-05-12T20:19:04.028Z"
   },
   {
    "duration": 23,
    "start_time": "2024-05-12T20:19:04.034Z"
   },
   {
    "duration": 28,
    "start_time": "2024-05-12T20:19:04.059Z"
   },
   {
    "duration": 982,
    "start_time": "2024-05-12T20:19:04.090Z"
   },
   {
    "duration": 8,
    "start_time": "2024-05-12T20:19:05.073Z"
   },
   {
    "duration": 10,
    "start_time": "2024-05-12T20:19:05.082Z"
   },
   {
    "duration": 11,
    "start_time": "2024-05-12T20:19:05.093Z"
   },
   {
    "duration": 185,
    "start_time": "2024-05-12T20:19:05.106Z"
   },
   {
    "duration": 82,
    "start_time": "2024-05-12T20:19:05.293Z"
   },
   {
    "duration": 31,
    "start_time": "2024-05-12T20:19:05.376Z"
   },
   {
    "duration": 244,
    "start_time": "2024-05-12T20:19:05.409Z"
   },
   {
    "duration": 2672,
    "start_time": "2024-05-12T20:19:05.658Z"
   },
   {
    "duration": 134,
    "start_time": "2024-05-12T20:19:08.333Z"
   },
   {
    "duration": 142,
    "start_time": "2024-05-12T20:19:08.468Z"
   },
   {
    "duration": 674,
    "start_time": "2024-05-12T20:19:08.611Z"
   },
   {
    "duration": 9,
    "start_time": "2024-05-12T20:19:09.286Z"
   },
   {
    "duration": 24,
    "start_time": "2024-05-12T20:19:09.297Z"
   },
   {
    "duration": 4711,
    "start_time": "2024-05-12T20:19:09.322Z"
   },
   {
    "duration": 155,
    "start_time": "2024-05-12T20:19:14.035Z"
   },
   {
    "duration": 6,
    "start_time": "2024-05-12T20:19:14.192Z"
   },
   {
    "duration": 41,
    "start_time": "2024-05-12T20:19:14.199Z"
   },
   {
    "duration": 7,
    "start_time": "2024-05-12T20:19:14.242Z"
   },
   {
    "duration": 73,
    "start_time": "2024-05-12T20:19:14.251Z"
   },
   {
    "duration": 6,
    "start_time": "2024-05-12T20:19:14.325Z"
   },
   {
    "duration": 39,
    "start_time": "2024-05-12T20:19:14.333Z"
   },
   {
    "duration": 15,
    "start_time": "2024-05-12T20:19:14.373Z"
   },
   {
    "duration": 22,
    "start_time": "2024-05-12T20:19:14.389Z"
   },
   {
    "duration": 27,
    "start_time": "2024-05-12T20:19:14.413Z"
   },
   {
    "duration": 21,
    "start_time": "2024-05-12T20:19:14.441Z"
   },
   {
    "duration": 12,
    "start_time": "2024-05-12T20:19:14.464Z"
   },
   {
    "duration": 392,
    "start_time": "2024-05-12T20:19:14.477Z"
   },
   {
    "duration": 0,
    "start_time": "2024-05-12T20:19:14.871Z"
   },
   {
    "duration": 0,
    "start_time": "2024-05-12T20:19:14.872Z"
   },
   {
    "duration": 0,
    "start_time": "2024-05-12T20:19:14.874Z"
   },
   {
    "duration": 0,
    "start_time": "2024-05-12T20:19:14.875Z"
   },
   {
    "duration": 0,
    "start_time": "2024-05-12T20:19:14.876Z"
   },
   {
    "duration": 0,
    "start_time": "2024-05-12T20:19:14.876Z"
   },
   {
    "duration": 0,
    "start_time": "2024-05-12T20:19:14.877Z"
   },
   {
    "duration": 0,
    "start_time": "2024-05-12T20:19:14.879Z"
   },
   {
    "duration": 0,
    "start_time": "2024-05-12T20:19:14.880Z"
   },
   {
    "duration": 1,
    "start_time": "2024-05-12T20:19:14.881Z"
   },
   {
    "duration": 0,
    "start_time": "2024-05-12T20:19:14.883Z"
   },
   {
    "duration": 0,
    "start_time": "2024-05-12T20:19:14.884Z"
   },
   {
    "duration": 0,
    "start_time": "2024-05-12T20:19:14.885Z"
   },
   {
    "duration": 0,
    "start_time": "2024-05-12T20:19:14.886Z"
   },
   {
    "duration": 0,
    "start_time": "2024-05-12T20:19:14.887Z"
   },
   {
    "duration": 0,
    "start_time": "2024-05-12T20:32:47.367Z"
   },
   {
    "duration": 0,
    "start_time": "2024-05-12T20:32:47.368Z"
   },
   {
    "duration": 0,
    "start_time": "2024-05-12T20:32:47.370Z"
   },
   {
    "duration": 0,
    "start_time": "2024-05-12T20:32:47.370Z"
   },
   {
    "duration": 0,
    "start_time": "2024-05-12T20:32:47.371Z"
   },
   {
    "duration": 0,
    "start_time": "2024-05-12T20:32:47.372Z"
   },
   {
    "duration": 0,
    "start_time": "2024-05-12T20:32:47.373Z"
   },
   {
    "duration": 0,
    "start_time": "2024-05-12T20:32:47.374Z"
   },
   {
    "duration": 0,
    "start_time": "2024-05-12T20:32:47.376Z"
   },
   {
    "duration": 0,
    "start_time": "2024-05-12T20:32:47.376Z"
   },
   {
    "duration": 0,
    "start_time": "2024-05-12T20:32:47.378Z"
   },
   {
    "duration": 0,
    "start_time": "2024-05-12T20:32:47.378Z"
   },
   {
    "duration": 0,
    "start_time": "2024-05-12T20:32:47.379Z"
   },
   {
    "duration": 0,
    "start_time": "2024-05-12T20:32:47.380Z"
   },
   {
    "duration": 0,
    "start_time": "2024-05-12T20:32:47.382Z"
   },
   {
    "duration": 0,
    "start_time": "2024-05-12T20:32:47.383Z"
   },
   {
    "duration": 0,
    "start_time": "2024-05-12T20:32:47.384Z"
   },
   {
    "duration": 0,
    "start_time": "2024-05-12T20:32:47.385Z"
   },
   {
    "duration": 0,
    "start_time": "2024-05-12T20:32:47.386Z"
   },
   {
    "duration": 0,
    "start_time": "2024-05-12T20:32:47.387Z"
   },
   {
    "duration": 0,
    "start_time": "2024-05-12T20:32:47.388Z"
   },
   {
    "duration": 0,
    "start_time": "2024-05-12T20:32:47.389Z"
   },
   {
    "duration": 0,
    "start_time": "2024-05-12T20:32:47.390Z"
   },
   {
    "duration": 0,
    "start_time": "2024-05-12T20:32:47.391Z"
   },
   {
    "duration": 0,
    "start_time": "2024-05-12T20:32:47.392Z"
   },
   {
    "duration": 0,
    "start_time": "2024-05-12T20:32:47.393Z"
   },
   {
    "duration": 0,
    "start_time": "2024-05-12T20:32:47.394Z"
   },
   {
    "duration": 0,
    "start_time": "2024-05-12T20:32:47.396Z"
   },
   {
    "duration": 0,
    "start_time": "2024-05-12T20:32:47.397Z"
   },
   {
    "duration": 0,
    "start_time": "2024-05-12T20:32:47.398Z"
   },
   {
    "duration": 0,
    "start_time": "2024-05-12T20:32:47.459Z"
   },
   {
    "duration": 0,
    "start_time": "2024-05-12T20:32:47.460Z"
   },
   {
    "duration": 0,
    "start_time": "2024-05-12T20:32:47.461Z"
   },
   {
    "duration": 0,
    "start_time": "2024-05-12T20:32:47.463Z"
   },
   {
    "duration": 0,
    "start_time": "2024-05-12T20:32:47.464Z"
   },
   {
    "duration": 0,
    "start_time": "2024-05-12T20:32:47.465Z"
   },
   {
    "duration": 0,
    "start_time": "2024-05-12T20:32:47.466Z"
   },
   {
    "duration": 0,
    "start_time": "2024-05-12T20:32:47.467Z"
   },
   {
    "duration": 0,
    "start_time": "2024-05-12T20:32:47.468Z"
   },
   {
    "duration": 0,
    "start_time": "2024-05-12T20:32:47.469Z"
   },
   {
    "duration": 0,
    "start_time": "2024-05-12T20:32:47.471Z"
   },
   {
    "duration": 0,
    "start_time": "2024-05-12T20:32:47.472Z"
   },
   {
    "duration": 0,
    "start_time": "2024-05-12T20:32:47.473Z"
   },
   {
    "duration": 0,
    "start_time": "2024-05-12T20:32:47.474Z"
   },
   {
    "duration": 0,
    "start_time": "2024-05-12T20:32:47.476Z"
   },
   {
    "duration": 0,
    "start_time": "2024-05-12T20:32:47.477Z"
   },
   {
    "duration": 0,
    "start_time": "2024-05-12T20:32:47.478Z"
   },
   {
    "duration": 4420,
    "start_time": "2024-05-12T20:35:07.395Z"
   },
   {
    "duration": 10,
    "start_time": "2024-05-12T20:35:11.816Z"
   },
   {
    "duration": 25,
    "start_time": "2024-05-12T20:35:11.827Z"
   },
   {
    "duration": 21,
    "start_time": "2024-05-12T20:35:11.853Z"
   },
   {
    "duration": 997,
    "start_time": "2024-05-12T20:35:11.876Z"
   },
   {
    "duration": 11,
    "start_time": "2024-05-12T20:35:12.875Z"
   },
   {
    "duration": 16,
    "start_time": "2024-05-12T20:35:12.887Z"
   },
   {
    "duration": 31,
    "start_time": "2024-05-12T20:35:12.905Z"
   },
   {
    "duration": 191,
    "start_time": "2024-05-12T20:35:12.938Z"
   },
   {
    "duration": 8,
    "start_time": "2024-05-12T20:35:13.131Z"
   },
   {
    "duration": 39,
    "start_time": "2024-05-12T20:35:13.140Z"
   },
   {
    "duration": 263,
    "start_time": "2024-05-12T20:35:13.181Z"
   },
   {
    "duration": 2704,
    "start_time": "2024-05-12T20:35:13.445Z"
   },
   {
    "duration": 126,
    "start_time": "2024-05-12T20:35:16.158Z"
   },
   {
    "duration": 151,
    "start_time": "2024-05-12T20:35:16.285Z"
   },
   {
    "duration": 683,
    "start_time": "2024-05-12T20:35:16.437Z"
   },
   {
    "duration": 8,
    "start_time": "2024-05-12T20:35:17.122Z"
   },
   {
    "duration": 36,
    "start_time": "2024-05-12T20:35:17.132Z"
   },
   {
    "duration": 4632,
    "start_time": "2024-05-12T20:35:17.170Z"
   },
   {
    "duration": 145,
    "start_time": "2024-05-12T20:35:21.803Z"
   },
   {
    "duration": 16,
    "start_time": "2024-05-12T20:35:21.949Z"
   },
   {
    "duration": 46,
    "start_time": "2024-05-12T20:35:21.967Z"
   },
   {
    "duration": 6,
    "start_time": "2024-05-12T20:35:22.015Z"
   },
   {
    "duration": 37,
    "start_time": "2024-05-12T20:35:22.023Z"
   },
   {
    "duration": 7,
    "start_time": "2024-05-12T20:35:22.062Z"
   },
   {
    "duration": 29,
    "start_time": "2024-05-12T20:35:22.071Z"
   },
   {
    "duration": 7,
    "start_time": "2024-05-12T20:35:22.102Z"
   },
   {
    "duration": 20,
    "start_time": "2024-05-12T20:35:22.111Z"
   },
   {
    "duration": 43,
    "start_time": "2024-05-12T20:35:22.133Z"
   },
   {
    "duration": 7,
    "start_time": "2024-05-12T20:35:22.177Z"
   },
   {
    "duration": 5,
    "start_time": "2024-05-12T20:35:22.186Z"
   },
   {
    "duration": 92573,
    "start_time": "2024-05-12T20:35:22.193Z"
   },
   {
    "duration": 39,
    "start_time": "2024-05-12T20:36:54.767Z"
   },
   {
    "duration": 12,
    "start_time": "2024-05-12T20:36:54.808Z"
   },
   {
    "duration": 129,
    "start_time": "2024-05-12T20:36:54.821Z"
   },
   {
    "duration": 7291,
    "start_time": "2024-05-12T20:36:54.952Z"
   },
   {
    "duration": 3,
    "start_time": "2024-05-12T20:37:02.245Z"
   },
   {
    "duration": 767,
    "start_time": "2024-05-12T20:37:02.250Z"
   },
   {
    "duration": 4,
    "start_time": "2024-05-12T20:37:03.019Z"
   },
   {
    "duration": 99972,
    "start_time": "2024-05-12T20:37:03.025Z"
   },
   {
    "duration": 4,
    "start_time": "2024-05-12T20:38:43.001Z"
   },
   {
    "duration": 650897,
    "start_time": "2024-05-12T20:38:43.007Z"
   },
   {
    "duration": 4,
    "start_time": "2024-05-12T20:49:33.906Z"
   },
   {
    "duration": 626557,
    "start_time": "2024-05-12T20:49:33.911Z"
   },
   {
    "duration": 24,
    "start_time": "2024-05-12T21:00:00.470Z"
   },
   {
    "duration": 2046,
    "start_time": "2024-05-12T21:00:00.495Z"
   },
   {
    "duration": 355,
    "start_time": "2024-05-12T21:00:02.543Z"
   },
   {
    "duration": 1815,
    "start_time": "2024-05-14T03:25:53.205Z"
   },
   {
    "duration": 320,
    "start_time": "2024-05-14T03:25:55.023Z"
   },
   {
    "duration": 6,
    "start_time": "2024-05-14T03:25:55.345Z"
   },
   {
    "duration": 7,
    "start_time": "2024-05-14T03:25:55.353Z"
   },
   {
    "duration": 3365,
    "start_time": "2024-05-14T03:25:55.363Z"
   },
   {
    "duration": 12,
    "start_time": "2024-05-14T03:25:58.730Z"
   },
   {
    "duration": 28,
    "start_time": "2024-05-14T03:25:58.744Z"
   },
   {
    "duration": 16,
    "start_time": "2024-05-14T03:25:58.774Z"
   },
   {
    "duration": 177,
    "start_time": "2024-05-14T03:25:58.791Z"
   },
   {
    "duration": 10,
    "start_time": "2024-05-14T03:25:58.970Z"
   },
   {
    "duration": 27,
    "start_time": "2024-05-14T03:25:58.981Z"
   },
   {
    "duration": 249,
    "start_time": "2024-05-14T03:25:59.009Z"
   },
   {
    "duration": 2590,
    "start_time": "2024-05-14T03:25:59.260Z"
   },
   {
    "duration": 133,
    "start_time": "2024-05-14T03:26:01.854Z"
   },
   {
    "duration": 153,
    "start_time": "2024-05-14T03:26:01.989Z"
   },
   {
    "duration": 754,
    "start_time": "2024-05-14T03:26:02.145Z"
   },
   {
    "duration": 9,
    "start_time": "2024-05-14T03:26:02.901Z"
   },
   {
    "duration": 28,
    "start_time": "2024-05-14T03:26:02.911Z"
   },
   {
    "duration": 4656,
    "start_time": "2024-05-14T03:26:02.940Z"
   },
   {
    "duration": 162,
    "start_time": "2024-05-14T03:26:07.598Z"
   },
   {
    "duration": 7,
    "start_time": "2024-05-14T03:26:07.762Z"
   },
   {
    "duration": 27,
    "start_time": "2024-05-14T03:26:07.781Z"
   },
   {
    "duration": 6,
    "start_time": "2024-05-14T03:26:07.810Z"
   },
   {
    "duration": 27,
    "start_time": "2024-05-14T03:26:07.818Z"
   },
   {
    "duration": 34,
    "start_time": "2024-05-14T03:26:07.847Z"
   },
   {
    "duration": 23,
    "start_time": "2024-05-14T03:26:07.882Z"
   },
   {
    "duration": 8,
    "start_time": "2024-05-14T03:26:07.907Z"
   },
   {
    "duration": 13,
    "start_time": "2024-05-14T03:26:07.917Z"
   },
   {
    "duration": 16,
    "start_time": "2024-05-14T03:26:07.932Z"
   },
   {
    "duration": 17,
    "start_time": "2024-05-14T03:26:07.950Z"
   },
   {
    "duration": 12,
    "start_time": "2024-05-14T03:26:07.979Z"
   },
   {
    "duration": 506,
    "start_time": "2024-05-14T03:26:32.004Z"
   },
   {
    "duration": 1506,
    "start_time": "2024-05-14T03:30:30.242Z"
   },
   {
    "duration": 459,
    "start_time": "2024-05-14T03:30:31.750Z"
   },
   {
    "duration": 4,
    "start_time": "2024-05-14T03:30:32.211Z"
   },
   {
    "duration": 88,
    "start_time": "2024-05-14T03:30:32.217Z"
   },
   {
    "duration": 911,
    "start_time": "2024-05-14T03:30:32.307Z"
   },
   {
    "duration": 9,
    "start_time": "2024-05-14T03:30:33.219Z"
   },
   {
    "duration": 37,
    "start_time": "2024-05-14T03:30:33.229Z"
   },
   {
    "duration": 33,
    "start_time": "2024-05-14T03:30:33.267Z"
   },
   {
    "duration": 193,
    "start_time": "2024-05-14T03:30:33.302Z"
   },
   {
    "duration": 6,
    "start_time": "2024-05-14T03:30:33.499Z"
   },
   {
    "duration": 26,
    "start_time": "2024-05-14T03:30:33.507Z"
   },
   {
    "duration": 243,
    "start_time": "2024-05-14T03:30:33.535Z"
   },
   {
    "duration": 2776,
    "start_time": "2024-05-14T03:30:33.780Z"
   },
   {
    "duration": 133,
    "start_time": "2024-05-14T03:30:36.558Z"
   },
   {
    "duration": 142,
    "start_time": "2024-05-14T03:30:36.693Z"
   },
   {
    "duration": 654,
    "start_time": "2024-05-14T03:30:36.837Z"
   },
   {
    "duration": 9,
    "start_time": "2024-05-14T03:30:37.492Z"
   },
   {
    "duration": 30,
    "start_time": "2024-05-14T03:30:37.502Z"
   },
   {
    "duration": 4475,
    "start_time": "2024-05-14T03:30:37.533Z"
   },
   {
    "duration": 163,
    "start_time": "2024-05-14T03:30:42.009Z"
   },
   {
    "duration": 10,
    "start_time": "2024-05-14T03:30:42.174Z"
   },
   {
    "duration": 27,
    "start_time": "2024-05-14T03:30:42.185Z"
   },
   {
    "duration": 5,
    "start_time": "2024-05-14T03:30:42.213Z"
   },
   {
    "duration": 28,
    "start_time": "2024-05-14T03:30:42.219Z"
   },
   {
    "duration": 5,
    "start_time": "2024-05-14T03:30:42.249Z"
   },
   {
    "duration": 42,
    "start_time": "2024-05-14T03:30:42.256Z"
   },
   {
    "duration": 6,
    "start_time": "2024-05-14T03:30:42.299Z"
   },
   {
    "duration": 5,
    "start_time": "2024-05-14T03:30:42.308Z"
   },
   {
    "duration": 11,
    "start_time": "2024-05-14T03:30:42.314Z"
   },
   {
    "duration": 4,
    "start_time": "2024-05-14T03:30:42.326Z"
   },
   {
    "duration": 6,
    "start_time": "2024-05-14T03:30:42.331Z"
   },
   {
    "duration": 196315,
    "start_time": "2024-05-14T03:30:42.338Z"
   },
   {
    "duration": 1792,
    "start_time": "2024-05-14T03:37:21.780Z"
   },
   {
    "duration": 0,
    "start_time": "2024-05-14T03:37:23.582Z"
   },
   {
    "duration": 0,
    "start_time": "2024-05-14T03:37:23.583Z"
   },
   {
    "duration": 0,
    "start_time": "2024-05-14T03:37:23.584Z"
   },
   {
    "duration": 0,
    "start_time": "2024-05-14T03:37:23.585Z"
   },
   {
    "duration": 0,
    "start_time": "2024-05-14T03:37:23.586Z"
   },
   {
    "duration": 0,
    "start_time": "2024-05-14T03:37:23.587Z"
   },
   {
    "duration": 1,
    "start_time": "2024-05-14T03:37:23.588Z"
   },
   {
    "duration": 0,
    "start_time": "2024-05-14T03:37:23.589Z"
   },
   {
    "duration": 0,
    "start_time": "2024-05-14T03:37:23.590Z"
   },
   {
    "duration": 0,
    "start_time": "2024-05-14T03:37:23.591Z"
   },
   {
    "duration": 0,
    "start_time": "2024-05-14T03:37:23.592Z"
   },
   {
    "duration": 0,
    "start_time": "2024-05-14T03:37:23.593Z"
   },
   {
    "duration": 0,
    "start_time": "2024-05-14T03:37:23.594Z"
   },
   {
    "duration": 0,
    "start_time": "2024-05-14T03:37:23.595Z"
   },
   {
    "duration": 0,
    "start_time": "2024-05-14T03:37:23.596Z"
   },
   {
    "duration": 0,
    "start_time": "2024-05-14T03:37:23.597Z"
   },
   {
    "duration": 0,
    "start_time": "2024-05-14T03:37:23.598Z"
   },
   {
    "duration": 0,
    "start_time": "2024-05-14T03:37:23.599Z"
   },
   {
    "duration": 0,
    "start_time": "2024-05-14T03:37:23.600Z"
   },
   {
    "duration": 0,
    "start_time": "2024-05-14T03:37:23.601Z"
   },
   {
    "duration": 0,
    "start_time": "2024-05-14T03:37:23.602Z"
   },
   {
    "duration": 0,
    "start_time": "2024-05-14T03:37:23.602Z"
   },
   {
    "duration": 0,
    "start_time": "2024-05-14T03:37:23.603Z"
   },
   {
    "duration": 0,
    "start_time": "2024-05-14T03:37:23.604Z"
   },
   {
    "duration": 0,
    "start_time": "2024-05-14T03:37:23.605Z"
   },
   {
    "duration": 0,
    "start_time": "2024-05-14T03:37:23.606Z"
   },
   {
    "duration": 0,
    "start_time": "2024-05-14T03:37:23.608Z"
   },
   {
    "duration": 0,
    "start_time": "2024-05-14T03:37:23.609Z"
   },
   {
    "duration": 0,
    "start_time": "2024-05-14T03:37:23.610Z"
   },
   {
    "duration": 0,
    "start_time": "2024-05-14T03:37:23.611Z"
   },
   {
    "duration": 0,
    "start_time": "2024-05-14T03:37:23.612Z"
   },
   {
    "duration": 5094,
    "start_time": "2024-05-14T03:38:20.120Z"
   },
   {
    "duration": 261,
    "start_time": "2024-05-14T03:38:25.216Z"
   },
   {
    "duration": 3,
    "start_time": "2024-05-14T03:38:25.479Z"
   },
   {
    "duration": 7,
    "start_time": "2024-05-14T03:38:25.483Z"
   },
   {
    "duration": 934,
    "start_time": "2024-05-14T03:38:25.492Z"
   },
   {
    "duration": 8,
    "start_time": "2024-05-14T03:38:26.428Z"
   },
   {
    "duration": 11,
    "start_time": "2024-05-14T03:38:26.437Z"
   },
   {
    "duration": 13,
    "start_time": "2024-05-14T03:38:26.450Z"
   },
   {
    "duration": 184,
    "start_time": "2024-05-14T03:38:26.464Z"
   },
   {
    "duration": 6,
    "start_time": "2024-05-14T03:38:26.650Z"
   },
   {
    "duration": 38,
    "start_time": "2024-05-14T03:38:26.658Z"
   },
   {
    "duration": 226,
    "start_time": "2024-05-14T03:38:26.698Z"
   },
   {
    "duration": 2543,
    "start_time": "2024-05-14T03:38:26.926Z"
   },
   {
    "duration": 116,
    "start_time": "2024-05-14T03:38:29.472Z"
   },
   {
    "duration": 131,
    "start_time": "2024-05-14T03:38:29.590Z"
   },
   {
    "duration": 628,
    "start_time": "2024-05-14T03:38:29.722Z"
   },
   {
    "duration": 9,
    "start_time": "2024-05-14T03:38:30.351Z"
   },
   {
    "duration": 104,
    "start_time": "2024-05-14T03:38:30.361Z"
   },
   {
    "duration": 4357,
    "start_time": "2024-05-14T03:38:30.467Z"
   },
   {
    "duration": 136,
    "start_time": "2024-05-14T03:38:34.825Z"
   },
   {
    "duration": 6,
    "start_time": "2024-05-14T03:38:34.963Z"
   },
   {
    "duration": 24,
    "start_time": "2024-05-14T03:38:34.980Z"
   },
   {
    "duration": 17,
    "start_time": "2024-05-14T03:38:35.005Z"
   },
   {
    "duration": 40,
    "start_time": "2024-05-14T03:38:35.023Z"
   },
   {
    "duration": 6,
    "start_time": "2024-05-14T03:38:35.065Z"
   },
   {
    "duration": 46,
    "start_time": "2024-05-14T03:38:35.072Z"
   },
   {
    "duration": 6,
    "start_time": "2024-05-14T03:38:35.119Z"
   },
   {
    "duration": 24,
    "start_time": "2024-05-14T03:38:35.127Z"
   },
   {
    "duration": 23,
    "start_time": "2024-05-14T03:38:35.153Z"
   },
   {
    "duration": 7,
    "start_time": "2024-05-14T03:38:35.177Z"
   },
   {
    "duration": 4,
    "start_time": "2024-05-14T03:38:35.186Z"
   },
   {
    "duration": 1579995,
    "start_time": "2024-05-14T03:38:35.192Z"
   },
   {
    "duration": 1,
    "start_time": "2024-05-14T04:04:55.189Z"
   },
   {
    "duration": 0,
    "start_time": "2024-05-14T04:04:55.191Z"
   },
   {
    "duration": 1283425,
    "start_time": "2024-05-14T04:26:53.913Z"
   },
   {
    "duration": 42,
    "start_time": "2024-05-14T04:51:09.146Z"
   },
   {
    "duration": 12,
    "start_time": "2024-05-14T04:51:10.221Z"
   },
   {
    "duration": 11,
    "start_time": "2024-05-14T04:51:19.909Z"
   },
   {
    "duration": 9782,
    "start_time": "2024-05-14T04:56:50.927Z"
   },
   {
    "duration": 10047,
    "start_time": "2024-05-14T04:58:12.047Z"
   },
   {
    "duration": 52,
    "start_time": "2024-05-14T05:04:54.544Z"
   },
   {
    "duration": 16,
    "start_time": "2024-05-14T05:04:55.768Z"
   },
   {
    "duration": 174,
    "start_time": "2024-05-14T05:05:46.151Z"
   },
   {
    "duration": 34,
    "start_time": "2024-05-14T05:05:49.400Z"
   },
   {
    "duration": 35,
    "start_time": "2024-05-14T05:05:52.312Z"
   },
   {
    "duration": 493,
    "start_time": "2024-05-14T05:06:42.113Z"
   },
   {
    "duration": 97,
    "start_time": "2024-05-14T05:06:49.960Z"
   },
   {
    "duration": 12,
    "start_time": "2024-05-14T05:06:54.120Z"
   },
   {
    "duration": 35,
    "start_time": "2024-05-14T05:07:20.889Z"
   },
   {
    "duration": 74,
    "start_time": "2024-05-14T05:08:07.841Z"
   },
   {
    "duration": 1675,
    "start_time": "2024-05-14T05:08:23.249Z"
   },
   {
    "duration": 1546,
    "start_time": "2024-05-14T05:08:36.770Z"
   },
   {
    "duration": 33223,
    "start_time": "2024-05-14T05:09:13.201Z"
   },
   {
    "duration": 3,
    "start_time": "2024-05-14T05:11:16.045Z"
   },
   {
    "duration": 27082,
    "start_time": "2024-05-14T05:12:07.690Z"
   },
   {
    "duration": 5,
    "start_time": "2024-05-14T05:12:40.317Z"
   },
   {
    "duration": 5,
    "start_time": "2024-05-14T05:12:51.635Z"
   },
   {
    "duration": 227,
    "start_time": "2024-05-14T05:13:12.291Z"
   },
   {
    "duration": 3,
    "start_time": "2024-05-14T05:22:29.432Z"
   },
   {
    "duration": 2,
    "start_time": "2024-05-14T05:22:31.007Z"
   },
   {
    "duration": 73,
    "start_time": "2024-05-14T05:24:14.104Z"
   },
   {
    "duration": 7212,
    "start_time": "2024-07-14T06:28:39.908Z"
   },
   {
    "duration": 0,
    "start_time": "2024-07-14T06:28:47.123Z"
   },
   {
    "duration": 0,
    "start_time": "2024-07-14T06:28:47.125Z"
   },
   {
    "duration": 0,
    "start_time": "2024-07-14T06:28:47.127Z"
   },
   {
    "duration": 0,
    "start_time": "2024-07-14T06:28:47.128Z"
   },
   {
    "duration": 0,
    "start_time": "2024-07-14T06:28:47.129Z"
   },
   {
    "duration": 0,
    "start_time": "2024-07-14T06:28:47.133Z"
   },
   {
    "duration": 0,
    "start_time": "2024-07-14T06:28:47.134Z"
   },
   {
    "duration": 0,
    "start_time": "2024-07-14T06:28:47.136Z"
   },
   {
    "duration": 1,
    "start_time": "2024-07-14T06:28:47.137Z"
   },
   {
    "duration": 0,
    "start_time": "2024-07-14T06:28:47.139Z"
   },
   {
    "duration": 0,
    "start_time": "2024-07-14T06:28:47.165Z"
   },
   {
    "duration": 0,
    "start_time": "2024-07-14T06:28:47.167Z"
   },
   {
    "duration": 0,
    "start_time": "2024-07-14T06:28:47.169Z"
   },
   {
    "duration": 0,
    "start_time": "2024-07-14T06:28:47.170Z"
   },
   {
    "duration": 0,
    "start_time": "2024-07-14T06:28:47.171Z"
   },
   {
    "duration": 0,
    "start_time": "2024-07-14T06:28:47.173Z"
   },
   {
    "duration": 0,
    "start_time": "2024-07-14T06:28:47.175Z"
   },
   {
    "duration": 0,
    "start_time": "2024-07-14T06:28:47.176Z"
   },
   {
    "duration": 1,
    "start_time": "2024-07-14T06:28:47.177Z"
   },
   {
    "duration": 0,
    "start_time": "2024-07-14T06:28:47.179Z"
   },
   {
    "duration": 0,
    "start_time": "2024-07-14T06:28:47.180Z"
   },
   {
    "duration": 0,
    "start_time": "2024-07-14T06:28:47.182Z"
   },
   {
    "duration": 0,
    "start_time": "2024-07-14T06:28:47.183Z"
   },
   {
    "duration": 0,
    "start_time": "2024-07-14T06:28:47.185Z"
   },
   {
    "duration": 0,
    "start_time": "2024-07-14T06:28:47.187Z"
   },
   {
    "duration": 0,
    "start_time": "2024-07-14T06:28:47.188Z"
   },
   {
    "duration": 0,
    "start_time": "2024-07-14T06:28:47.190Z"
   },
   {
    "duration": 0,
    "start_time": "2024-07-14T06:28:47.191Z"
   },
   {
    "duration": 0,
    "start_time": "2024-07-14T06:28:47.193Z"
   },
   {
    "duration": 0,
    "start_time": "2024-07-14T06:28:47.194Z"
   },
   {
    "duration": 0,
    "start_time": "2024-07-14T06:28:47.195Z"
   },
   {
    "duration": 0,
    "start_time": "2024-07-14T06:28:47.197Z"
   },
   {
    "duration": 0,
    "start_time": "2024-07-14T06:28:47.198Z"
   },
   {
    "duration": 0,
    "start_time": "2024-07-14T06:28:47.199Z"
   },
   {
    "duration": 0,
    "start_time": "2024-07-14T06:28:47.200Z"
   },
   {
    "duration": 2469,
    "start_time": "2024-07-14T06:29:41.196Z"
   },
   {
    "duration": 501,
    "start_time": "2024-07-14T06:29:43.667Z"
   },
   {
    "duration": 5,
    "start_time": "2024-07-14T06:29:44.169Z"
   },
   {
    "duration": 7,
    "start_time": "2024-07-14T06:29:44.176Z"
   },
   {
    "duration": 1303,
    "start_time": "2024-07-14T06:29:44.185Z"
   },
   {
    "duration": 10,
    "start_time": "2024-07-14T06:29:45.490Z"
   },
   {
    "duration": 3,
    "start_time": "2024-07-14T06:29:45.501Z"
   },
   {
    "duration": 40,
    "start_time": "2024-07-14T06:29:45.506Z"
   },
   {
    "duration": 197,
    "start_time": "2024-07-14T06:29:45.547Z"
   },
   {
    "duration": 8,
    "start_time": "2024-07-14T06:29:45.746Z"
   },
   {
    "duration": 35,
    "start_time": "2024-07-14T06:29:45.756Z"
   },
   {
    "duration": 246,
    "start_time": "2024-07-14T06:29:45.793Z"
   },
   {
    "duration": 2476,
    "start_time": "2024-07-14T06:29:46.041Z"
   },
   {
    "duration": 123,
    "start_time": "2024-07-14T06:29:48.520Z"
   },
   {
    "duration": 141,
    "start_time": "2024-07-14T06:29:48.645Z"
   },
   {
    "duration": 652,
    "start_time": "2024-07-14T06:29:48.788Z"
   },
   {
    "duration": 9,
    "start_time": "2024-07-14T06:29:49.442Z"
   },
   {
    "duration": 37,
    "start_time": "2024-07-14T06:29:49.453Z"
   },
   {
    "duration": 4561,
    "start_time": "2024-07-14T06:29:49.492Z"
   },
   {
    "duration": 144,
    "start_time": "2024-07-14T06:29:54.054Z"
   },
   {
    "duration": 6,
    "start_time": "2024-07-14T06:29:54.200Z"
   },
   {
    "duration": 26,
    "start_time": "2024-07-14T06:29:54.208Z"
   },
   {
    "duration": 69,
    "start_time": "2024-07-14T06:29:54.236Z"
   },
   {
    "duration": 28,
    "start_time": "2024-07-14T06:29:54.307Z"
   },
   {
    "duration": 7,
    "start_time": "2024-07-14T06:29:54.337Z"
   },
   {
    "duration": 23,
    "start_time": "2024-07-14T06:29:54.346Z"
   },
   {
    "duration": 7,
    "start_time": "2024-07-14T06:29:54.370Z"
   },
   {
    "duration": 6,
    "start_time": "2024-07-14T06:29:54.378Z"
   },
   {
    "duration": 19,
    "start_time": "2024-07-14T06:29:54.385Z"
   },
   {
    "duration": 49,
    "start_time": "2024-07-14T06:29:54.406Z"
   },
   {
    "duration": 9,
    "start_time": "2024-07-14T06:29:54.456Z"
   },
   {
    "duration": 1238450,
    "start_time": "2024-07-14T06:29:54.467Z"
   },
   {
    "duration": 6714,
    "start_time": "2024-07-14T06:50:32.919Z"
   },
   {
    "duration": 46,
    "start_time": "2024-07-14T06:50:39.636Z"
   },
   {
    "duration": 56,
    "start_time": "2024-07-14T06:50:39.684Z"
   },
   {
    "duration": 25523,
    "start_time": "2024-07-14T06:50:39.742Z"
   },
   {
    "duration": 4,
    "start_time": "2024-07-14T06:51:05.267Z"
   },
   {
    "duration": 24,
    "start_time": "2024-07-14T06:51:05.272Z"
   },
   {
    "duration": 224,
    "start_time": "2024-07-14T06:51:05.298Z"
   },
   {
    "duration": 104,
    "start_time": "2024-07-14T06:51:05.524Z"
   },
   {
    "duration": 29,
    "start_time": "2024-07-14T06:51:05.632Z"
   },
   {
    "duration": 20,
    "start_time": "2024-07-14T06:51:05.663Z"
   },
   {
    "duration": 0,
    "start_time": "2024-07-14T06:51:05.685Z"
   },
   {
    "duration": 0,
    "start_time": "2024-07-14T06:51:05.685Z"
   },
   {
    "duration": 0,
    "start_time": "2024-07-14T06:51:05.686Z"
   },
   {
    "duration": 0,
    "start_time": "2024-07-14T06:51:05.687Z"
   },
   {
    "duration": 0,
    "start_time": "2024-07-14T06:51:05.688Z"
   },
   {
    "duration": 0,
    "start_time": "2024-07-14T06:51:05.689Z"
   },
   {
    "duration": 0,
    "start_time": "2024-07-14T06:51:05.691Z"
   },
   {
    "duration": 0,
    "start_time": "2024-07-14T06:51:05.692Z"
   },
   {
    "duration": 0,
    "start_time": "2024-07-14T06:51:05.693Z"
   },
   {
    "duration": 0,
    "start_time": "2024-07-14T06:51:05.694Z"
   },
   {
    "duration": 0,
    "start_time": "2024-07-14T06:51:05.695Z"
   },
   {
    "duration": 0,
    "start_time": "2024-07-14T06:51:05.697Z"
   },
   {
    "duration": 110,
    "start_time": "2024-07-14T06:54:10.546Z"
   },
   {
    "duration": 7105,
    "start_time": "2024-07-14T06:54:16.417Z"
   },
   {
    "duration": 3,
    "start_time": "2024-07-14T06:54:29.225Z"
   },
   {
    "duration": 705,
    "start_time": "2024-07-14T06:54:31.593Z"
   },
   {
    "duration": 3,
    "start_time": "2024-07-14T06:54:37.977Z"
   },
   {
    "duration": 101180,
    "start_time": "2024-07-14T06:55:10.225Z"
   },
   {
    "duration": 11,
    "start_time": "2024-07-14T06:58:33.357Z"
   },
   {
    "duration": 1496,
    "start_time": "2024-07-14T06:58:39.132Z"
   },
   {
    "duration": 7636,
    "start_time": "2024-07-14T07:00:45.736Z"
   },
   {
    "duration": 39,
    "start_time": "2024-07-14T07:00:53.894Z"
   },
   {
    "duration": 37,
    "start_time": "2024-07-14T07:01:07.214Z"
   },
   {
    "duration": 222,
    "start_time": "2024-07-14T07:01:19.773Z"
   },
   {
    "duration": 420,
    "start_time": "2024-07-14T07:01:26.294Z"
   }
  ],
  "kernelspec": {
   "display_name": "Python 3 (ipykernel)",
   "language": "python",
   "name": "python3"
  },
  "language_info": {
   "codemirror_mode": {
    "name": "ipython",
    "version": 3
   },
   "file_extension": ".py",
   "mimetype": "text/x-python",
   "name": "python",
   "nbconvert_exporter": "python",
   "pygments_lexer": "ipython3",
   "version": "3.9.5"
  },
  "toc": {
   "base_numbering": 1,
   "nav_menu": {},
   "number_sections": true,
   "sideBar": true,
   "skip_h1_title": true,
   "title_cell": "Содержание",
   "title_sidebar": "Contents",
   "toc_cell": true,
   "toc_position": {
    "height": "calc(100% - 180px)",
    "left": "10px",
    "top": "150px",
    "width": "302.391px"
   },
   "toc_section_display": true,
   "toc_window_display": false
  }
 },
 "nbformat": 4,
 "nbformat_minor": 2
}
